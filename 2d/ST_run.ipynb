{
 "cells": [
  {
   "cell_type": "code",
   "execution_count": 1,
   "metadata": {},
   "outputs": [
    {
     "name": "stderr",
     "output_type": "stream",
     "text": [
      "/usr/local/lib/python3.8/dist-packages/tqdm/auto.py:22: TqdmWarning: IProgress not found. Please update jupyter and ipywidgets. See https://ipywidgets.readthedocs.io/en/stable/user_install.html\n",
      "  from .autonotebook import tqdm as notebook_tqdm\n"
     ]
    }
   ],
   "source": [
    "import tensorflow.compat.v1 as tf\n",
    "import torch\n",
    "from STGCN import *\n",
    "import scipy.sparse as sp"
   ]
  },
  {
   "cell_type": "code",
   "execution_count": 2,
   "metadata": {},
   "outputs": [],
   "source": [
    "dataset_encode=torch.load('/root/data1/d_0.4_EMD/M_encode_output_01traj120050200ts_vis.pt')"
   ]
  },
  {
   "cell_type": "code",
   "execution_count": 3,
   "metadata": {},
   "outputs": [],
   "source": [
    "device = 'cuda' if torch.cuda.is_available() else 'cpu'\n",
    "n_frame=31\n",
    "n_his=30\n",
    "n=dataset_encode[0].x.shape[0]\n",
    "C0=dataset_encode[0].x.shape[1]\n",
    "edge_index=dataset_encode[0].edge_index\n",
    "data=seq_gen(dataset_encode,  n_frame)#(190,11,n,C)\n",
    "n_train=150\n",
    "n_val=20\n",
    "Ks=3\n",
    "Kt=5\n",
    "batch_size=10\n",
    "epoch=300\n",
    "opt='RMSProp'\n",
    "lr=1e-3\n",
    "save_=5\n",
    "blocks = [[C0, 32, 64], [64, 32, 128]]\n",
    "\n",
    "inputs,x_stats=data_gen(data, n_train, n_val)"
   ]
  },
  {
   "cell_type": "code",
   "execution_count": 4,
   "metadata": {},
   "outputs": [
    {
     "name": "stdout",
     "output_type": "stream",
     "text": [
      "torch.Size([150, 31, 3900, 26])\n",
      "torch.Size([20, 31, 3900, 26])\n"
     ]
    }
   ],
   "source": [
    "print(inputs.get_data('train').shape)\n",
    "print(inputs.get_data('val').shape)"
   ]
  },
  {
   "cell_type": "code",
   "execution_count": 5,
   "metadata": {},
   "outputs": [
    {
     "name": "stdout",
     "output_type": "stream",
     "text": [
      "(3900, 3900)\n"
     ]
    }
   ],
   "source": [
    "W = sp.coo_matrix((torch.ones(edge_index.shape[1]).to('cpu'), (edge_index[0, :].to('cpu'), edge_index[1, :].to('cpu'))), \n",
    "                                    shape=(n, n), dtype=np.float32)\n",
    "W = W + W.T.multiply(W.T > W) - W.multiply(W.T > W)\n",
    "print(W.shape)"
   ]
  },
  {
   "cell_type": "code",
   "execution_count": 6,
   "metadata": {},
   "outputs": [
    {
     "name": "stdout",
     "output_type": "stream",
     "text": [
      "tensor(2.0000)\n",
      "torch.Size([3900, 3900])\n"
     ]
    }
   ],
   "source": [
    "W_dense = torch.tensor(W.toarray(), dtype=torch.float32)\n",
    "L = scaled_laplacian(W_dense)\n",
    "print(L.shape)"
   ]
  },
  {
   "cell_type": "code",
   "execution_count": 7,
   "metadata": {},
   "outputs": [],
   "source": [
    "Lk = cheb_poly_approx(L, Ks, n)"
   ]
  },
  {
   "cell_type": "code",
   "execution_count": 8,
   "metadata": {},
   "outputs": [
    {
     "name": "stdout",
     "output_type": "stream",
     "text": [
      "(3900, 11700)\n"
     ]
    }
   ],
   "source": [
    "print(Lk.shape)\n",
    "tf.add_to_collection(name='graph_kernel', value=tf.cast(tf.constant(Lk), tf.float32))"
   ]
  },
  {
   "cell_type": "code",
   "execution_count": 9,
   "metadata": {},
   "outputs": [
    {
     "name": "stdout",
     "output_type": "stream",
     "text": [
      "WARNING:tensorflow:From /usr/local/lib/python3.8/dist-packages/tensorflow/python/util/dispatch.py:1082: calling dropout (from tensorflow.python.ops.nn_ops) with keep_prob is deprecated and will be removed in a future version.\n",
      "Instructions for updating:\n",
      "Please use `rate` instead of `keep_prob`. Rate should be set to `rate = 1 - keep_prob`.\n",
      "WARNING:tensorflow:From /usr/local/lib/python3.8/dist-packages/tensorflow/python/training/rmsprop.py:188: calling Ones.__init__ (from tensorflow.python.ops.init_ops) with dtype is deprecated and will be removed in a future version.\n",
      "Instructions for updating:\n",
      "Call initializer instance with the dtype argument instead of passing it to the constructor\n"
     ]
    },
    {
     "name": "stderr",
     "output_type": "stream",
     "text": [
      "2024-11-19 10:50:53.030838: I tensorflow/core/platform/cpu_feature_guard.cc:151] This TensorFlow binary is optimized with oneAPI Deep Neural Network Library (oneDNN) to use the following CPU instructions in performance-critical operations:  AVX2 AVX512F FMA\n",
      "To enable them in other operations, rebuild TensorFlow with the appropriate compiler flags.\n",
      "2024-11-19 10:50:53.491273: I tensorflow/core/common_runtime/gpu/gpu_device.cc:1525] Created device /job:localhost/replica:0/task:0/device:GPU:0 with 20516 MB memory:  -> device: 0, name: NVIDIA GeForce RTX 4090, pci bus id: 0000:9e:00.0, compute capability: 8.9\n",
      "2024-11-19 10:50:57.399587: I tensorflow/stream_executor/cuda/cuda_dnn.cc:368] Loaded cuDNN version 8202\n",
      "2024-11-19 10:50:58.345230: I tensorflow/core/platform/default/subprocess.cc:304] Start cannot spawn child process: No such file or directory\n",
      "2024-11-19 10:50:58.348720: W tensorflow/stream_executor/gpu/asm_compiler.cc:230] Falling back to the CUDA driver for PTX compilation; ptxas does not support CC 8.9\n",
      "2024-11-19 10:50:58.348738: W tensorflow/stream_executor/gpu/asm_compiler.cc:233] Used ptxas at /usr/local/cuda/bin/ptxas\n",
      "2024-11-19 10:50:58.348819: W tensorflow/stream_executor/gpu/redzone_allocator.cc:314] UNIMPLEMENTED: /usr/local/cuda/bin/ptxas ptxas too old. Falling back to the driver to compile.\n",
      "Relying on driver to perform ptx compilation. \n",
      "Modify $PATH to customize ptxas location.\n",
      "This message will be only logged once.\n",
      "2024-11-19 10:50:59.125124: I tensorflow/stream_executor/cuda/cuda_blas.cc:1786] TensorFloat-32 will be used for the matrix multiplication. This will only be logged once.\n"
     ]
    },
    {
     "name": "stdout",
     "output_type": "stream",
     "text": [
      "Epoch  0: MSE  8.236%; MAE  0.210; RMSE  0.287.\n",
      "Epoch  5: MSE  1.112%; MAE  0.075; RMSE  0.105.\n",
      "Epoch 10: MSE  0.530%; MAE  0.049; RMSE  0.073.\n",
      "Epoch 15: MSE  0.350%; MAE  0.038; RMSE  0.059.\n",
      "Epoch 20: MSE  0.292%; MAE  0.034; RMSE  0.054.\n",
      "Epoch 25: MSE  0.267%; MAE  0.033; RMSE  0.052.\n",
      "Epoch 30: MSE  0.255%; MAE  0.032; RMSE  0.051.\n",
      "Epoch 35: MSE  0.250%; MAE  0.032; RMSE  0.050.\n",
      "Epoch 40: MSE  0.247%; MAE  0.032; RMSE  0.050.\n",
      "Epoch 45: MSE  0.246%; MAE  0.031; RMSE  0.050.\n",
      "Epoch 50: MSE  0.246%; MAE  0.031; RMSE  0.050.\n",
      "Epoch 55: MSE  0.245%; MAE  0.031; RMSE  0.050.\n",
      "Epoch 60: MSE  0.245%; MAE  0.031; RMSE  0.050.\n",
      "Epoch 65: MSE  0.245%; MAE  0.031; RMSE  0.050.\n",
      "Epoch 70: MSE  0.245%; MAE  0.031; RMSE  0.050.\n",
      "Epoch 75: MSE  0.245%; MAE  0.031; RMSE  0.049.\n",
      "Epoch 80: MSE  0.245%; MAE  0.031; RMSE  0.049.\n",
      "Epoch 85: MSE  0.245%; MAE  0.031; RMSE  0.049.\n",
      "Epoch 90: MSE  0.245%; MAE  0.031; RMSE  0.049.\n",
      "Epoch 95: MSE  0.245%; MAE  0.031; RMSE  0.049.\n",
      "Epoch 100: MSE  0.245%; MAE  0.031; RMSE  0.049.\n",
      "Epoch 105: MSE  0.245%; MAE  0.031; RMSE  0.049.\n",
      "Epoch 110: MSE  0.245%; MAE  0.031; RMSE  0.049.\n",
      "Epoch 115: MSE  0.245%; MAE  0.031; RMSE  0.049.\n",
      "Epoch 120: MSE  0.245%; MAE  0.031; RMSE  0.049.\n",
      "Epoch 125: MSE  0.245%; MAE  0.031; RMSE  0.049.\n",
      "Epoch 130: MSE  0.245%; MAE  0.031; RMSE  0.049.\n",
      "Epoch 135: MSE  0.245%; MAE  0.031; RMSE  0.049.\n",
      "Epoch 140: MSE  0.245%; MAE  0.031; RMSE  0.049.\n",
      "Epoch 145: MSE  0.245%; MAE  0.031; RMSE  0.049.\n",
      "Epoch 150: MSE  0.245%; MAE  0.031; RMSE  0.049.\n",
      "Epoch 155: MSE  0.245%; MAE  0.031; RMSE  0.049.\n",
      "Epoch 160: MSE  0.245%; MAE  0.031; RMSE  0.049.\n",
      "Epoch 165: MSE  0.245%; MAE  0.031; RMSE  0.049.\n",
      "Epoch 170: MSE  0.245%; MAE  0.031; RMSE  0.049.\n",
      "Epoch 175: MSE  0.245%; MAE  0.031; RMSE  0.049.\n",
      "Epoch 180: MSE  0.245%; MAE  0.031; RMSE  0.049.\n",
      "Epoch 185: MSE  0.245%; MAE  0.031; RMSE  0.049.\n",
      "Epoch 190: MSE  0.245%; MAE  0.031; RMSE  0.049.\n",
      "Epoch 195: MSE  0.245%; MAE  0.031; RMSE  0.049.\n",
      "Epoch 200: MSE  0.245%; MAE  0.031; RMSE  0.049.\n",
      "Epoch 205: MSE  0.245%; MAE  0.031; RMSE  0.049.\n",
      "Epoch 210: MSE  0.245%; MAE  0.031; RMSE  0.049.\n",
      "Epoch 215: MSE  0.245%; MAE  0.031; RMSE  0.049.\n",
      "Epoch 220: MSE  0.245%; MAE  0.031; RMSE  0.049.\n",
      "Epoch 225: MSE  0.245%; MAE  0.031; RMSE  0.049.\n",
      "Epoch 230: MSE  0.245%; MAE  0.031; RMSE  0.049.\n",
      "Epoch 235: MSE  0.245%; MAE  0.031; RMSE  0.049.\n",
      "Epoch 240: MSE  0.245%; MAE  0.031; RMSE  0.049.\n",
      "Epoch 245: MSE  0.245%; MAE  0.031; RMSE  0.049.\n",
      "Epoch 250: MSE  0.245%; MAE  0.031; RMSE  0.049.\n",
      "Epoch 255: MSE  0.245%; MAE  0.031; RMSE  0.049.\n",
      "Epoch 260: MSE  0.245%; MAE  0.031; RMSE  0.049.\n",
      "Epoch 265: MSE  0.245%; MAE  0.031; RMSE  0.049.\n",
      "Epoch 270: MSE  0.245%; MAE  0.031; RMSE  0.049.\n",
      "Epoch 275: MSE  0.245%; MAE  0.031; RMSE  0.049.\n",
      "Epoch 280: MSE  0.245%; MAE  0.031; RMSE  0.049.\n",
      "Epoch 285: MSE  0.245%; MAE  0.031; RMSE  0.049.\n",
      "Epoch 290: MSE  0.245%; MAE  0.031; RMSE  0.049.\n",
      "Epoch 295: MSE  0.245%; MAE  0.031; RMSE  0.049.\n",
      "Training model finished!\n"
     ]
    }
   ],
   "source": [
    "model_train(inputs, n, n_his, Ks, Kt,batch_size, epoch,opt,blocks, C0,lr,save_,x_stats)\n"
   ]
  },
  {
   "cell_type": "code",
   "execution_count": 10,
   "metadata": {},
   "outputs": [
    {
     "name": "stdout",
     "output_type": "stream",
     "text": [
      "torch.Size([1, 31, 3900, 26])\n",
      "INFO:tensorflow:Restoring parameters from /root/data1/STGCN_result/saved_model/model.ckpt\n"
     ]
    },
    {
     "name": "stderr",
     "output_type": "stream",
     "text": [
      "2024-11-19 11:06:57.258790: I tensorflow/core/common_runtime/gpu/gpu_device.cc:1525] Created device /job:localhost/replica:0/task:0/device:GPU:0 with 20516 MB memory:  -> device: 0, name: NVIDIA GeForce RTX 4090, pci bus id: 0000:9e:00.0, compute capability: 8.9\n"
     ]
    },
    {
     "name": "stdout",
     "output_type": "stream",
     "text": [
      ">> Loading saved model from /root/data1/STGCN_result/saved_model/model.ckpt ...\n",
      "(170, 3900, 26)\n",
      "Testing model finished!\n",
      "torch.Size([170, 3900, 26])\n"
     ]
    }
   ],
   "source": [
    "data_test=seq_gen(dataset_encode[0:n_frame],  n_frame)#[1,21,n,c0]\n",
    "print(data_test.shape)\n",
    "x_test = z_score(data_test, x_stats['mean'], x_stats['std'])\n",
    "n_pred=170\n",
    "y_test=model_test(x_test, x_stats,  n_his, n_pred, load_path='/root/data1/STGCN_result/saved_model/')#逆标准化\n",
    "print(y_test.shape)#(180,n,c0)\n"
   ]
  },
  {
   "cell_type": "code",
   "execution_count": 11,
   "metadata": {},
   "outputs": [],
   "source": [
    "torch.save(y_test,'/root/data1/STGCN_result/ST_200_pred')"
   ]
  },
  {
   "cell_type": "markdown",
   "metadata": {},
   "source": [
    "Mulit-attention"
   ]
  },
  {
   "cell_type": "code",
   "execution_count": 1,
   "metadata": {},
   "outputs": [
    {
     "name": "stderr",
     "output_type": "stream",
     "text": [
      "/usr/local/lib/python3.8/dist-packages/tqdm/auto.py:22: TqdmWarning: IProgress not found. Please update jupyter and ipywidgets. See https://ipywidgets.readthedocs.io/en/stable/user_install.html\n",
      "  from .autonotebook import tqdm as notebook_tqdm\n"
     ]
    }
   ],
   "source": [
    "import copy\n",
    "from  self_attention import *\n",
    "from d_tap_processing import *\n",
    "import numpy as np\n",
    "import random"
   ]
  },
  {
   "cell_type": "code",
   "execution_count": 2,
   "metadata": {},
   "outputs": [
    {
     "name": "stdout",
     "output_type": "stream",
     "text": [
      "14586\n"
     ]
    }
   ],
   "source": [
    "a=torch.load('/root/data1/d_0.4_EMD/M_encode_output_01traj120050200ts_vis.pt')\n",
    "edge_num=a[0].edge_attr.shape[0]\n",
    "print(edge_num)    #14586\n",
    "number_trajectories=1"
   ]
  },
  {
   "cell_type": "code",
   "execution_count": 3,
   "metadata": {},
   "outputs": [
    {
     "name": "stdout",
     "output_type": "stream",
     "text": [
      "1900\n",
      "190\n"
     ]
    }
   ],
   "source": [
    "data_1=[]\n",
    "data_label_1=[]\n",
    "\n",
    "for i in range(number_trajectories):\n",
    "    dataset_encode=torch.load('/root/data1/d_0.4_EMD/M_encode_output_01traj120050200ts_vis.pt')\n",
    "    per_t=11\n",
    "    for j in range(len(dataset_encode)-per_t+1):\n",
    "        for k in range(per_t):\n",
    "            if k <(per_t-1):\n",
    "                E_data  = copy.deepcopy(dataset_encode[j+k])\n",
    "                E_data=E_data.to('cpu')\n",
    "                data_1.append(E_data)\n",
    "            else:\n",
    "                E_data  = copy.deepcopy(dataset_encode[j+k])\n",
    "                E_data=E_data.to('cpu')\n",
    "                data_label_1.append(E_data)\n",
    "                       \n",
    "print(len(data_1))      #140*10\n",
    "print(len(data_label_1))   #140\n",
    "\n",
    "data_=data_1\n",
    "data_label=data_label_1\n",
    "\n"
   ]
  },
  {
   "cell_type": "code",
   "execution_count": 4,
   "metadata": {},
   "outputs": [],
   "source": [
    "device='cuda'\n",
    "class objectview(object):\n",
    "    def __init__(self, d):\n",
    "        self.__dict__ = d   \n",
    "for args in [\n",
    "        {'model_type': 'Multi-attention',\n",
    "         \n",
    "         'batchsize': 5,       #是lable上的batchsize\n",
    "         'hidden_dim': 26,     #这里的hidden_dim与encode_decode中的hidden_channels相同\n",
    "         'epochs': 1000,#5000\n",
    "         \n",
    "         'train_size':150, #45\n",
    "         'test_size': 40, #10         #按照lable的来\n",
    "         'device':'cuda',\n",
    "         'shuffle': False,\n",
    "         'save_best_model': True,\n",
    "         'checkpoint_dir': '/root/data1/d_0.4_EMD/Multi-attention_best_models/',\n",
    "         'postprocess_dir': '/root/data1/d_0.4_EMD/Multi-attention_loss_plots/',\n",
    "         'd_k': 28,#28\n",
    "         'd_v': 28,\n",
    "         'input_shape': 12,   #加上时间信息，所以比n_graph_encode的最后一个多两维\n",
    "         'n_heads': 6,\n",
    "         'n_layers': 5,\n",
    "         'ff_dim': 64,\n",
    "         'seq_len': 10,        #改per_t-1,二推一\n",
    "         'per_t':11,\n",
    "         \n",
    "        'n_graph_encode':[500,150,80,10],\n",
    "        'pool_num':[6500,4800,3900]},\n",
    "]:\n",
    "        args = objectview(args)\n",
    "torch.manual_seed(5)  #Torch\n",
    "random.seed(5)        #Python\n",
    "np.random.seed(5)     #NumPy\n",
    "torch.cuda.manual_seed_all(5)   #GPU"
   ]
  },
  {
   "cell_type": "code",
   "execution_count": 5,
   "metadata": {},
   "outputs": [
    {
     "name": "stdout",
     "output_type": "stream",
     "text": [
      "cuda\n"
     ]
    },
    {
     "name": "stderr",
     "output_type": "stream",
     "text": [
      "/usr/local/lib/python3.8/dist-packages/torch_geometric/deprecation.py:12: UserWarning: 'data.DataLoader' is deprecated, use 'loader.DataLoader' instead\n",
      "  warnings.warn(out)\n",
      "Training:   0%|          | 1/1000 [00:09<2:40:28,  9.64s/Epochs]"
     ]
    },
    {
     "name": "stdout",
     "output_type": "stream",
     "text": [
      "train loss 0.932499 test loss 1.046553\n"
     ]
    },
    {
     "name": "stderr",
     "output_type": "stream",
     "text": [
      "Training:  10%|█         | 101/1000 [08:01<1:35:25,  6.37s/Epochs]"
     ]
    },
    {
     "name": "stdout",
     "output_type": "stream",
     "text": [
      "train loss 0.039708 test loss 0.037088\n"
     ]
    },
    {
     "name": "stderr",
     "output_type": "stream",
     "text": [
      "Training:  20%|██        | 201/1000 [15:55<1:22:48,  6.22s/Epochs]"
     ]
    },
    {
     "name": "stdout",
     "output_type": "stream",
     "text": [
      "train loss 0.030605 test loss 0.016696\n"
     ]
    },
    {
     "name": "stderr",
     "output_type": "stream",
     "text": [
      "Training:  30%|███       | 301/1000 [23:52<1:09:12,  5.94s/Epochs]"
     ]
    },
    {
     "name": "stdout",
     "output_type": "stream",
     "text": [
      "train loss 0.024875 test loss 0.012331\n"
     ]
    },
    {
     "name": "stderr",
     "output_type": "stream",
     "text": [
      "Training:  40%|████      | 401/1000 [32:03<59:45,  5.99s/Epochs]  "
     ]
    },
    {
     "name": "stdout",
     "output_type": "stream",
     "text": [
      "train loss 0.01866 test loss 0.010697\n"
     ]
    },
    {
     "name": "stderr",
     "output_type": "stream",
     "text": [
      "Training:  50%|█████     | 501/1000 [39:58<49:11,  5.91s/Epochs]"
     ]
    },
    {
     "name": "stdout",
     "output_type": "stream",
     "text": [
      "train loss 0.018283 test loss 0.010131\n"
     ]
    },
    {
     "name": "stderr",
     "output_type": "stream",
     "text": [
      "Training:  60%|██████    | 601/1000 [48:05<36:52,  5.54s/Epochs]"
     ]
    },
    {
     "name": "stdout",
     "output_type": "stream",
     "text": [
      "train loss 0.014953 test loss 0.008092\n"
     ]
    },
    {
     "name": "stderr",
     "output_type": "stream",
     "text": [
      "Training:  70%|███████   | 701/1000 [56:01<28:38,  5.75s/Epochs]"
     ]
    },
    {
     "name": "stdout",
     "output_type": "stream",
     "text": [
      "train loss 0.015161 test loss 0.009152\n"
     ]
    },
    {
     "name": "stderr",
     "output_type": "stream",
     "text": [
      "Training:  80%|████████  | 801/1000 [1:04:14<21:20,  6.43s/Epochs]"
     ]
    },
    {
     "name": "stdout",
     "output_type": "stream",
     "text": [
      "train loss 0.013976 test loss 0.008084\n"
     ]
    },
    {
     "name": "stderr",
     "output_type": "stream",
     "text": [
      "Training:  90%|█████████ | 901/1000 [1:12:17<09:38,  5.84s/Epochs]"
     ]
    },
    {
     "name": "stdout",
     "output_type": "stream",
     "text": [
      "train loss 0.014688 test loss 0.010236\n"
     ]
    },
    {
     "name": "stderr",
     "output_type": "stream",
     "text": [
      "Training: 100%|██████████| 1000/1000 [1:20:07<00:00,  4.81s/Epochs]"
     ]
    },
    {
     "name": "stdout",
     "output_type": "stream",
     "text": [
      "Min test set loss: 0.006552483420819044\n",
      "Minimum loss: 0.01137032212379078\n"
     ]
    },
    {
     "name": "stderr",
     "output_type": "stream",
     "text": [
      "\n"
     ]
    },
    {
     "data": {
      "image/png": "[encoded data removed]",
      "text/plain": [
       "<Figure size 432x288 with 1 Axes>"
      ]
     },
     "metadata": {
      "needs_background": "light"
     },
     "output_type": "display_data"
    }
   ],
   "source": [
    "data_stats_list=torch.load('/root/data1/d_0.4_EMD/data_stats_list.pt')\n",
    "\n",
    "device = 'cuda' if torch.cuda.is_available() else 'cpu'\n",
    "args.device = device\n",
    "print(device)\n",
    "\n",
    "test_losses, losses, best_model,best_test_loss =Mulit_attention_train(data_,data_label, device,data_stats_list, args,edge_num)\n",
    "print(\"Min test set loss: {0}\".format(min(test_losses)))\n",
    "print(\"Minimum loss: {0}\".format(min(losses)))\n",
    "\n",
    "save_plots(args, losses, test_losses)"
   ]
  },
  {
   "cell_type": "code",
   "execution_count": 6,
   "metadata": {},
   "outputs": [
    {
     "name": "stdout",
     "output_type": "stream",
     "text": [
      "200\n",
      "Data(x=[3900, 26], edge_index=[2, 14586], edge_attr=[14586, 26])\n"
     ]
    }
   ],
   "source": [
    "per_t=1     #在编码和解码的时候每三个时刻个用的点是一样的\n",
    "data_encode=torch.load('/root/data1/d_0.4_EMD/M_encode_output_01traj120050200ts_vis.pt')\n",
    "print(len(data_encode))\n",
    "data=copy.deepcopy(data_encode[0:10])\n",
    "a=copy.deepcopy(data_encode[0])\n",
    "print(a)"
   ]
  },
  {
   "cell_type": "code",
   "execution_count": 7,
   "metadata": {},
   "outputs": [],
   "source": [
    "model_name='Multi-attention_model_nl'+'_bs'+str(args.batchsize) + \\\n",
    "               '_hd'+str(args.hidden_dim)+'_ep'+str(args.epochs)+'_wd' + \\\n",
    "               '_shuff_'+str(args.shuffle)+'_dk'+str(args.d_k)+'_heads'+str(args.n_heads)\n",
    "args.batchsize=1\n",
    "node_model = self_transformer(args,edge_num).to(device)\n",
    "node_model.load_state_dict(torch.load('/root/data1/d_0.4_EMD/Multi-attention_best_models/'+model_name+'.pt'))\n",
    "\n",
    "EDstats_list=torch.load('/root/data1/d_0.4_EMD/EDstats_list.pt')\n",
    "data_stats_list=torch.load('/root/data1/d_0.4_EMD/data_stats_list.pt')\n",
    "[EDmean_vec_x,EDstd_vec_x,EDmean_vec_edge,EDstd_vec_edge] = EDstats_list\n",
    "(EDmean_vec_x,EDstd_vec_x,EDmean_vec_edge,EDstd_vec_edge)=(EDmean_vec_x.to(device),\n",
    "        EDstd_vec_x.to(device),EDmean_vec_edge.to(device),EDstd_vec_edge.to(device))\n",
    "[mean_vec_x,std_vec_x,mean_vec_edge,std_vec_edge] = data_stats_list\n",
    "(mean_vec_x,std_vec_x,mean_vec_edge,std_vec_edge)=(mean_vec_x.to(device),std_vec_x.to(device),\n",
    "                                                   mean_vec_edge.to(device),std_vec_edge.to(device))"
   ]
  },
  {
   "cell_type": "code",
   "execution_count": 8,
   "metadata": {},
   "outputs": [],
   "source": [
    "def predict_sequences_multiple(model, data, a, predict_num,seq_len):\n",
    "\n",
    "        print('[Model] Predicting Sequences Multiple...')\n",
    "        a=a.to(device)\n",
    "        code_index=a.edge_index\n",
    "        for i in range(predict_num):\n",
    "          list_p = data[:] if i == 0 else data[i:]\n",
    "          data_loader=DataLoader(list_p, batch_size=seq_len, shuffle=False) \n",
    "          for i,batch in enumerate(data_loader):\n",
    "              batch=batch.to(device)\n",
    "              code_x,code_edge_attr = Mulit_attention_pred(batch,model,mean_vec_x,std_vec_x,mean_vec_edge,std_vec_edge)\n",
    "          \n",
    "          new_data=Data(x=code_x, edge_index=code_index, edge_attr=code_edge_attr)\n",
    "          data.append(new_data)\n",
    "\n",
    "        return data"
   ]
  },
  {
   "cell_type": "code",
   "execution_count": 9,
   "metadata": {},
   "outputs": [
    {
     "name": "stdout",
     "output_type": "stream",
     "text": [
      "[Model] Predicting Sequences Multiple...\n"
     ]
    },
    {
     "name": "stderr",
     "output_type": "stream",
     "text": [
      "/usr/local/lib/python3.8/dist-packages/torch_geometric/deprecation.py:12: UserWarning: 'data.DataLoader' is deprecated, use 'loader.DataLoader' instead\n",
      "  warnings.warn(out)\n"
     ]
    },
    {
     "name": "stdout",
     "output_type": "stream",
     "text": [
      "200\n"
     ]
    }
   ],
   "source": [
    "predict_num=190\n",
    "seq_len=10\n",
    "data=predict_sequences_multiple(node_model, data, a, predict_num,seq_len)\n",
    "print(len(data))  #60"
   ]
  },
  {
   "cell_type": "code",
   "execution_count": 10,
   "metadata": {},
   "outputs": [],
   "source": [
    "torch.save(data,'/root/data1/STGCN_result/MultiAttention_200_pred')"
   ]
  },
  {
   "cell_type": "code",
   "execution_count": 11,
   "metadata": {},
   "outputs": [],
   "source": [
    "from d_TAP_MP_Attention import *"
   ]
  },
  {
   "cell_type": "code",
   "execution_count": 12,
   "metadata": {},
   "outputs": [],
   "source": [
    "in_channels_node = 2  #2\n",
    "in_channels_edge = 3  #3\n",
    "hidden_channels = 26#24    #22#12\n",
    "out_channels = in_channels_node\n",
    "batch_size =25       #改25\n",
    "n_mlp_encode = 4\n",
    "n_mlp_mp = 5#5\n",
    "encoding_dim=32#32\n",
    "ae_dim=[160,128,64,32]#[128,64,32,16,10][300,128,64,32]\n",
    "n_mp_down = [2,2,1,1]\n",
    "n_mp_up= [1,1,2,2]\n",
    "pool_num =[6500,4800,3900]#[2000,1500,1200,1000][2000,1600,1400,1000]\n",
    "\n",
    "act = F.elu\n",
    "param_sharing = False\n",
    "pathD='/root/data1/d_0.4_EMD/Decode_state_dict.pt'"
   ]
  },
  {
   "cell_type": "code",
   "execution_count": 13,
   "metadata": {},
   "outputs": [
    {
     "name": "stdout",
     "output_type": "stream",
     "text": [
      "200\n"
     ]
    }
   ],
   "source": [
    "i=0\n",
    "dataset_dir = '/root/data1/d_0.4_EMD'\n",
    "batches=torch.load(dataset_dir+'/'+str(i)+str(number_trajectories)+'traj'+'batches.pt')\n",
    "xs=torch.load(dataset_dir+'/'+str(i)+str(number_trajectories)+'traj'+'xs.pt')\n",
    "positions=torch.load( dataset_dir+'/'+str(i)+str(number_trajectories)+'traj'+'positions.pt')\n",
    "edge_attrs=torch.load( dataset_dir+'/'+str(i)+str(number_trajectories)+'traj'+'edge_attrs.pt')\n",
    "edge_indices=torch.load( dataset_dir+'/'+str(i)+str(number_trajectories)+'traj'+'edge_indices.pt')\n",
    "edge_masks=torch.load(dataset_dir+'/'+str(i)+str(number_trajectories)+'traj'+'edge_masks.pt')\n",
    "\n",
    "\n",
    "perm_list=torch.load(dataset_dir+'/perm_list_150.pt')\n",
    "\n",
    "\n",
    "\n",
    "\n",
    "decode_model=GNN_Decode(\n",
    "                hidden_channels,\n",
    "                in_channels_node,\n",
    "                in_channels_edge,\n",
    "                \n",
    "                out_channels,\n",
    "                encoding_dim,\n",
    "                n_mlp_mp,\n",
    "                n_mlp_encode,\n",
    "\n",
    "                ae_dim,\n",
    "                n_mp_down,\n",
    "                n_mp_up,\n",
    "                pool_num,\n",
    "                \n",
    "                act,\n",
    "                \n",
    "                name='gnn_topk')\n",
    "decode_model.load_state_dict(torch.load(pathD), strict=False)\n",
    "decode_model.to(device)\n",
    "\n",
    "pred_x=[]\n",
    "with torch.no_grad():\n",
    "        for i in range(len(data)):\n",
    "              x=decode_model(data[i], batches , xs, positions, edge_attrs, edge_indices, edge_masks,perm_list[0])\n",
    "              x=x*EDstd_vec_x+EDmean_vec_x\n",
    "              pred_x.append(x)\n",
    "\n",
    "              \n",
    "print(len(pred_x))"
   ]
  },
  {
   "cell_type": "code",
   "execution_count": 14,
   "metadata": {},
   "outputs": [],
   "source": [
    "def ROM_transform_vector(data, satart_number_ts,number_ts, originalFolder, destinationFolder, fileName):\n",
    "\n",
    "    folder = os.path.exists(destinationFolder)\n",
    "\n",
    "    if not folder: \n",
    "        print('start to create the destination folder')   \n",
    "        os.makedirs(destinationFolder)       \n",
    "        copyFiles(originalFolder,destinationFolder) \n",
    "\n",
    "    print('start to store data as a new variable')\n",
    "    \n",
    "    for i in range(number_ts):\n",
    "        f_filename = destinationFolder + fileName + str(i+satart_number_ts)+ \".vtk\"\n",
    "        reader=vtk.vtkPolyDataReader()\n",
    "        reader.SetFileName(f_filename)  # SetFileName设置要读取的vtk文件\n",
    "        reader.ReadAllScalarsOn()\n",
    "        reader.ReadAllVectorsOn()\n",
    "        reader.ReadAllTensorsOn()\n",
    "        reader.Update()\n",
    "\n",
    "        vtkdata=reader.GetOutput()  # GetOutput获取文件的数据\n",
    "        num_points=vtkdata.GetNumberOfPoints() \n",
    "        point_data =vtkdata.GetPointData()\n",
    "        a=data[i]\n",
    "        a=a.to('cpu')\n",
    "        a=a.numpy()\n",
    "    \n",
    "        velocity_array = point_data.GetArray('U')\n",
    "        #print(velocity_array.GetTuple(0)[0:2])\n",
    "        for j in range(num_points):\n",
    "            original_velocity = list(velocity_array.GetTuple(j))\n",
    "            original_velocity[0:2]=tuple(a[j])\n",
    "            velocity_array.SetTuple(j, original_velocity)\n",
    "\n",
    "        writer = vtk.vtkGenericDataObjectWriter()\n",
    "        writer.SetFileName(f_filename)\n",
    "        writer.SetInputData(vtkdata)\n",
    "        writer.Write()\n",
    "       \n",
    "    print('transform succeed')\t"
   ]
  },
  {
   "cell_type": "code",
   "execution_count": 15,
   "metadata": {},
   "outputs": [
    {
     "name": "stdout",
     "output_type": "stream",
     "text": [
      "start to create the destination folder\n",
      "start to store data as a new variable\n",
      "transform succeed\n"
     ]
    }
   ],
   "source": [
    "for i in range(number_trajectories):\n",
    "    satart_number_ts=50\n",
    "    ts=len(pred_x)\n",
    "    originalFolder='/root/data1/d_slice_'+str(i)\n",
    "    destinationFolder='/root/data1/STGCN_result/MA_ROM_d_0.4_dataset_EDoutput_'+str(predict_num)+str(i)\n",
    "    fileName=\"/slice_\"\n",
    "    ROM_transform_vector(pred_x, satart_number_ts,ts, originalFolder, destinationFolder, fileName)"
   ]
  },
  {
   "cell_type": "code",
   "execution_count": null,
   "metadata": {},
   "outputs": [],
   "source": [
    "def cc(ori_data, rom_data_0, rom_data_1, rom_data_2):\n",
    "    pcc_0 = pearson_value(ori_data, rom_data_0)\n",
    "    pcc_1 = pearson_value(ori_data, rom_data_1)\n",
    "    pcc_2 = pearson_value(ori_data, rom_data_2)\n",
    "\n",
    "    \n",
    "    fig, ax = plt.subplots()\n",
    "    x = np.linspace(0,pcc_0.shape[0],pcc_0.shape[0])\n",
    "    print(pcc_0.shape, pcc_1.shape)\n",
    "    ax.set_prop_cycle(color = ['#f6b93b','#6a89cc','#82ccdd'], linestyle = ['-', '-', '-'])\n",
    "    y_0 = pcc_0\n",
    "    y_1 = pcc_1\n",
    "    y_2=pcc_2\n",
    "   \n",
    "   \n",
    "    ax.plot(x, y_0, x, y_1, x, y_2)\n",
    "     \n",
    "            # plt.xlim((-0.1, 200.1))# range\n",
    "    plt.ylim((0.8, 1))\n",
    "    plt.xlabel('Time Level',{'size' : 11})\n",
    "    plt.ylabel('Pearson Correlation Coefficient',{'size' : 11})\n",
    "            # plt.xticks(np.arange(0,200.1,25))\n",
    "            # plt.yticks(np.arange(0.97,1.0001,0.01))\n",
    "            # plt.legend(['D4:AE+TF', 'D8:AE+TF', 'D12:AE+TF', 'D4:PCA+TF', 'D8:PCA+TF', 'D12:PCA+TF'], loc='lower right')   \n",
    "    plt.legend(['GAROM','GA-autoencoder+STGCN', 'GA-autoencoder+MHSA'],loc='lower center',ncol=3)   \n",
    "   \n",
    "\n",
    "    plt.show()\n",
    "    fig.savefig('/root/data1/STGCN_result/'+'S-ST-MA-Pcc.pdf', bbox_inches='tight')"
   ]
  },
  {
   "cell_type": "code",
   "execution_count": 17,
   "metadata": {},
   "outputs": [],
   "source": [
    "def get(number_trajectories,satart_number_ts,number_ts,per_t,batch_size,path):\n",
    "  data_list = []\n",
    "\n",
    "  for i in range(number_trajectories):\n",
    "\n",
    "    if os.path.isdir(path):\n",
    "      path_k=path\n",
    "      print(path_k)\n",
    "      vtk_num=get_vtk_num(path_k)\n",
    "      print(vtk_num)\n",
    "      for ts in range(satart_number_ts,vtk_num):\n",
    "        \n",
    "        if(ts==number_ts+satart_number_ts):\n",
    "          break\n",
    "        point, cells, velocity=read_vtk_file(path_k+\"/slice_\"+str(ts+i)+\".vtk\")\n",
    "        \n",
    "        data_list.append(Data(x=velocity))\n",
    "  return data_list"
   ]
  },
  {
   "cell_type": "code",
   "execution_count": 18,
   "metadata": {},
   "outputs": [],
   "source": [
    "dataset_dir = '/root/data1/d_0.4_EMD'\n",
    "number_trajectories=1\n",
    "satart_number_ts=50\n",
    "number_ts=200\n",
    "path_1='/root/data1/ROM_d_0.4_dataset_EDoutput_1900'\n",
    "path_2='/root/data1/STGCN_result/ST_ROM_d_0.4_dataset_EDoutput_1900'\n",
    "path_3='/root/data1/STGCN_result/MA_ROM_d_0.4_dataset_EDoutput_1900'\n"
   ]
  },
  {
   "cell_type": "code",
   "execution_count": null,
   "metadata": {},
   "outputs": [],
   "source": [
    "ED_out_1 = get(number_trajectories,satart_number_ts,number_ts,1,1,path_1)\n",
    "ED_out_2=get(number_trajectories,satart_number_ts,number_ts,1,1,path_2)\n",
    "ED_out_3=get(number_trajectories,satart_number_ts,number_ts,1,1,path_3)\n",
    "\n",
    "\n",
    "number_ts=200\n",
    "ori=torch.load('/root/data1/d_0.4_EMD/meshgraphnets_miniset111traj50200ts_vis.pt')\n",
    "print(len(ori))   #200"
   ]
  },
  {
   "cell_type": "code",
   "execution_count": 19,
   "metadata": {},
   "outputs": [
    {
     "name": "stdout",
     "output_type": "stream",
     "text": [
      "/root/data1/ROM_d_0.4_dataset_EDoutput_1900\n",
      "601\n",
      "/root/data1/STGCN_result/ST_ROM_d_0.4_dataset_EDoutput_1900\n",
      "601\n",
      "/root/data1/STGCN_result/MA_ROM_d_0.4_dataset_EDoutput_1900\n",
      "601\n",
      "200\n",
      "(200, 15586) (200, 15586) (200, 15586) (200, 15586)\n",
      "(200, 1) (200, 1)\n"
     ]
    },
    {
     "data": {
      "image/png": "[encoded data removed]",
      "text/plain": [
       "<Figure size 432x288 with 1 Axes>"
      ]
     },
     "metadata": {
      "needs_background": "light"
     },
     "output_type": "display_data"
    }
   ],
   "source": [
    "for i in range(number_ts):\n",
    "    \n",
    "   \n",
    "    uvw_1=ED_out_1[i].x.reshape(1,ED_out_1[i].x.shape[0],ED_out_1[i].x.shape[1]).to('cpu')\n",
    "    uvw_2=ED_out_2[i].x.reshape(1,ED_out_2[i].x.shape[0],ED_out_2[i].x.shape[1]).to('cpu')\n",
    "    uvw_3=ED_out_3[i].x.reshape(1,ED_out_3[i].x.shape[0],ED_out_3[i].x.shape[1]).to('cpu')\n",
    "    \n",
    "    ouvw=ori[i].x.reshape(1,ori[i].x.shape[0],ori[i].x.shape[1])\n",
    "    \n",
    "    outputs_1 = uvw_1 if i==0 else np.vstack((outputs_1,uvw_1))\n",
    "    outputs_2 = uvw_2 if i==0 else np.vstack((outputs_2,uvw_2))\n",
    "    outputs_3 = uvw_3 if i==0 else np.vstack((outputs_3,uvw_3))\n",
    "    inputs=ouvw if i==0 else np.vstack((inputs,ouvw))\n",
    "\n",
    "\n",
    "output_1 = np.hstack((outputs_1[:,:,0],outputs_1[:,:,1]))\n",
    "output_2 = np.hstack((outputs_2[:,:,0],outputs_2[:,:,1]))\n",
    "output_3 = np.hstack((outputs_3[:,:,0],outputs_3[:,:,1]))\n",
    "input_ = np.hstack((inputs[:,:,0],inputs[:,:,1]))\n",
    "print(output_1.shape,output_2.shape,output_3.shape,input_.shape)\n",
    "\n",
    "cc(input_, output_1, output_2,output_3)"
   ]
  },
  {
   "cell_type": "code",
   "execution_count": 20,
   "metadata": {},
   "outputs": [],
   "source": [
    "from keras import backend as K\n",
    "def root_mean_squared_error(true, pred):\n",
    "    return K.mean(K.square(pred - true))\n",
    "def rmse(ori_data, rom_data):\n",
    "\n",
    "    rmse_value = []\n",
    "    if len(ori_data) != len(rom_data):\n",
    "        print('the length of these two array do not match')\n",
    "    else:\n",
    "        for i in range(len(rom_data)):\n",
    "            value = root_mean_squared_error(ori_data[i], rom_data[i])\n",
    "\n",
    "            ori=torch.Tensor(ori_data[i])\n",
    "            \n",
    "            k=((torch.norm(ori, p=1))/len(ori))\n",
    "            \n",
    "            #value =acc(ori, rom)\n",
    "            \n",
    "            #value =math.sqrt(acc(ori, rom))\n",
    "            value=math.sqrt(value)/k\n",
    "\n",
    "            if i == 0:\n",
    "                rmse_value = value\n",
    "            else:\n",
    "                rmse_value = np.hstack((rmse_value,value))\n",
    "        rmse_value = np.reshape(rmse_value,(-1,1))\n",
    "    return rmse_value\n",
    "def rmse_over_time(ori_data, rom_data_0, rom_data_1, rom_data_2):\n",
    "    rmse_0 = rmse(ori_data, rom_data_0)\n",
    "    rmse_1 = rmse(ori_data, rom_data_1)\n",
    "    rmse_2 = rmse(ori_data, rom_data_2)\n",
    "    \n",
    "  \n",
    "    # rmse_4 = rmse(ori_data, rom_data_4)\n",
    "    # rmse_5 = rmse(ori_data, rom_data_5)\n",
    " \n",
    "    # plt.figure(1)\n",
    "    # x = np.linspace(5,8,600)\n",
    "\n",
    "    fig, ax = plt.subplots()\n",
    "    x = np.linspace(0,rmse_0.shape[0],rmse_0.shape[0])\n",
    "    ax.set_prop_cycle(color = ['#f6b93b','#6a89cc','#82ccdd'], linestyle = ['-', '-', '-'])\n",
    "    # x = np.linspace(0,15,2875)\n",
    "    y_0 = rmse_0\n",
    "    y_1 = rmse_1\n",
    "    y_2 = rmse_2\n",
    "    \n",
    "   \n",
    "    # y_4 = rmse_4[-1800:-1200,:]\n",
    "    # y_5 = rmse_5[-1800:-1200,:]\n",
    "    # plt.title('Correlation Coefficient')\n",
    "    ax.plot(x, y_0, x, y_1, x, y_2)\n",
    "    # , x, rmse_4, linewidth = 0.6)\n",
    "    # plt.xlim((-0.1, 200.1))# range\n",
    "    plt.ylim((-0.005, 1))\n",
    "    plt.xlabel('Time Level',{'size' : 11})\n",
    "    plt.ylabel('RRMSE',{'size' : 11})\n",
    "    # plt.xticks(np.arange(0,200.1,25))\n",
    "    # plt.yticks(np.arange(0,0.081,0.02))\n",
    "    plt.legend(['Spatiotemporal Graph Embedding Transformer ','Spatio-Temporal Graph Convolutional Networks', 'Multi-Attention'], loc='upper right')   \n",
    "    plt.show()\n",
    "    fig.savefig('/root/data1/STGCN_result/'+'S-ST-MA_RRMSE.pdf', bbox_inches='tight')"
   ]
  },
  {
   "cell_type": "code",
   "execution_count": 21,
   "metadata": {},
   "outputs": [
    {
     "name": "stderr",
     "output_type": "stream",
     "text": [
      "2024-11-19 20:02:58.731616: I tensorflow/core/platform/cpu_feature_guard.cc:151] This TensorFlow binary is optimized with oneAPI Deep Neural Network Library (oneDNN) to use the following CPU instructions in performance-critical operations:  AVX2 AVX512F FMA\n",
      "To enable them in other operations, rebuild TensorFlow with the appropriate compiler flags.\n",
      "2024-11-19 20:02:58.748263: I tensorflow/core/common_runtime/gpu/gpu_device.cc:1525] Created device /job:localhost/replica:0/task:0/device:GPU:0 with 8254 MB memory:  -> device: 0, name: NVIDIA GeForce RTX 4090, pci bus id: 0000:9e:00.0, compute capability: 8.9\n"
     ]
    },
    {
     "data": {
      "image/png": "[encoded data removed]",
      "text/plain": [
       "<Figure size 432x288 with 1 Axes>"
      ]
     },
     "metadata": {
      "needs_background": "light"
     },
     "output_type": "display_data"
    }
   ],
   "source": [
    "rmse_over_time(input_, output_1, output_2,output_3)"
   ]
  },
  {
   "cell_type": "code",
   "execution_count": 1,
   "metadata": {},
   "outputs": [
    {
     "name": "stderr",
     "output_type": "stream",
     "text": [
      "/usr/local/lib/python3.8/dist-packages/tqdm/auto.py:22: TqdmWarning: IProgress not found. Please update jupyter and ipywidgets. See https://ipywidgets.readthedocs.io/en/stable/user_install.html\n",
      "  from .autonotebook import tqdm as notebook_tqdm\n"
     ]
    }
   ],
   "source": [
    "import numpy as np\n",
    "import meshio\n",
    "import torch\n",
    "import tensorflow.compat.v1 as tf\n",
    "from torch_geometric.data import Data\n",
    "import torch.nn.functional as F\n",
    "from torch_geometric.loader import DataLoader\n",
    "import pandas as pd\n",
    "import os\n",
    "import time\n",
    "from IPython.lib.display import isdir\n",
    "import random\n",
    "import matplotlib.pyplot as plt\n",
    "import copy\n",
    "from matplotlib import tri as mtri\n",
    "from matplotlib import animation\n",
    "from mpl_toolkits.axes_grid1 import make_axes_locatable\n",
    "\n",
    "from d_pooling import *\n",
    "#from mgn import *\n",
    "from d_tap_processing import *\n",
    "#from global_tpok_mp import *\n",
    "\n",
    "from d_TAP_MP_Attention import *\n",
    "from GTF import *\n",
    "from self_attention import *"
   ]
  },
  {
   "cell_type": "code",
   "execution_count": 2,
   "metadata": {},
   "outputs": [
    {
     "name": "stdout",
     "output_type": "stream",
     "text": [
      "1\n",
      "cuda\n",
      "cuda:0\n"
     ]
    }
   ],
   "source": [
    "per_t=1     \n",
    "satart_number_ts=200\n",
    "number_ts=11\n",
    "batch_size = int(number_ts/per_t)\n",
    "dataset_dir = '/root/data1/d_0.4_EMD'\n",
    "path='/root/data1/d_slice_'     #将文件命名为yuan_0\n",
    "number_trajectories=1\n",
    "device='cuda'\n",
    "\n",
    "#get_dataset(number_trajectories,satart_number_ts,number_ts,per_t,batch_size,dataset_dir,path)\n",
    "\n",
    "file_path= dataset_dir+'/meshgraphnets_miniset'+str(per_t)+str(batch_size)+str(number_trajectories)+'traj'+str(satart_number_ts)+str(number_ts)+'ts_vis.pt'\n",
    "dataset_M = torch.load(file_path)\n",
    "print(len(dataset_M))   #长度为1  \n",
    "\n",
    "perm_list=torch.load(dataset_dir+'/perm_list_150.pt')\n",
    "\n",
    "print(device)\n",
    "for i in range(len(perm_list[0])):\n",
    "   \n",
    "    perm_list[0][i]=perm_list[0][i].to(device)\n",
    "print(perm_list[0][0].device)\n",
    "pathE='/root/data1/d_0.4_EMD/Encode_state_dict.pt'\n",
    "\n",
    "in_channels_node = 2 #2\n",
    "in_channels_edge = 3 #3\n",
    "hidden_channels = 26#24    #22#12\n",
    "out_channels = in_channels_node\n",
    "\n",
    "n_mlp_encode = 4\n",
    "n_mlp_mp = 5#5\n",
    "encoding_dim=32#32\n",
    "ae_dim=[160,128,64,32]#[128,64,32,16,10][300,128,64,32]\n",
    "n_mp_down = [2,2,1,1]\n",
    "n_mp_up= [1,1,2,2]\n",
    "pool_num =[6500,4800,3900]#[2000,1500,1200,1000][2000,1600,1400,1000]\n",
    "\n",
    "[EDmean_vec_x,EDstd_vec_x,EDmean_vec_edge,EDstd_vec_edge] = torch.load(dataset_dir+'/EDstats_list.pt')\n",
    "\n",
    "(EDmean_vec_x,EDstd_vec_x,EDmean_vec_edge,EDstd_vec_edge)=(EDmean_vec_x.to(device),\n",
    "        EDstd_vec_x.to(device),EDmean_vec_edge.to(device),EDstd_vec_edge.to(device))\n",
    "\n",
    "act = F.elu\n",
    "param_sharing = False"
   ]
  },
  {
   "cell_type": "code",
   "execution_count": 3,
   "metadata": {},
   "outputs": [
    {
     "name": "stdout",
     "output_type": "stream",
     "text": [
      "11\n",
      "Data(x=[3900, 26], edge_index=[2, 14586], edge_attr=[14586, 26]) Data(x=[3900, 26], edge_index=[2, 14586], edge_attr=[14586, 26]) Data(x=[3900, 26], edge_index=[2, 14586], edge_attr=[14586, 26]) Data(x=[3900, 26], edge_index=[2, 14586], edge_attr=[14586, 26]) Data(x=[3900, 26], edge_index=[2, 14586], edge_attr=[14586, 26]) Data(x=[3900, 26], edge_index=[2, 14586], edge_attr=[14586, 26])\n"
     ]
    }
   ],
   "source": [
    "\n",
    "M_encode=GNN_topk_encode(\n",
    "                hidden_channels,\n",
    "                in_channels_node,\n",
    "                in_channels_edge,\n",
    "                \n",
    "                out_channels,\n",
    "                encoding_dim,\n",
    "                n_mlp_mp,\n",
    "                n_mlp_encode,\n",
    "\n",
    "                ae_dim,\n",
    "                n_mp_down,\n",
    "                n_mp_up,\n",
    "                pool_num,\n",
    "                \n",
    "                act,\n",
    "                \n",
    "                name='gnn_topk')\n",
    "M_encode.to(device)\n",
    "M_encode.load_state_dict(torch.load(pathE), strict=False)\n",
    "\n",
    "\n",
    "\n",
    "\n",
    "with torch.no_grad():\n",
    "  for i in range(len(dataset_M)):\n",
    "    dataset_M[i]=dataset_M[i].to(device)\n",
    "    data_list,batches , xs, positions, edge_attrs, edge_indices, edge_masks= M_encode(dataset_M[i], per_t , perm_list[0],\n",
    "                                                                                            batch_size,EDmean_vec_x,EDstd_vec_x,\n",
    "                                                                                            EDmean_vec_edge,EDstd_vec_edge,\n",
    "                                                                                            batch=None, return_mask=False)  \n",
    "    torch.save(data_list,dataset_dir+'/M_encode_output_'+str(i)+str(number_trajectories)+'traj'+str(per_t)+str(batch_size)+str(satart_number_ts)+str(number_ts)+'ts_vis.pt')\n",
    "    torch.save(batches,dataset_dir+'/'+str(satart_number_ts)+str(number_ts)+str(i)+str(number_trajectories)+'traj'+'batches.pt')\n",
    "    torch.save(xs,dataset_dir+'/'+str(satart_number_ts)+str(number_ts)+str(i)+str(number_trajectories)+'traj'+'xs.pt')\n",
    "    torch.save( positions,dataset_dir+'/'+str(satart_number_ts)+str(number_ts)+str(i)+str(number_trajectories)+'traj'+'positions.pt')\n",
    "    torch.save( edge_attrs,dataset_dir+'/'+str(satart_number_ts)+str(number_ts)+str(i)+str(number_trajectories)+'traj'+'edge_attrs.pt')\n",
    "    torch.save( edge_indices,dataset_dir+'/'+str(satart_number_ts)+str(number_ts)+str(i)+str(number_trajectories)+'traj'+'edge_indices.pt')\n",
    "    torch.save( edge_masks,dataset_dir+'/'+str(satart_number_ts)+str(number_ts)+str(i)+str(number_trajectories)+'traj'+'edge_masks.pt')\n",
    "    \n",
    "    print(len(data_list))#30\n",
    "    print(data_list[0],data_list[1],data_list[2],data_list[3],data_list[4],data_list[5])"
   ]
  },
  {
   "cell_type": "code",
   "execution_count": 4,
   "metadata": {},
   "outputs": [
    {
     "name": "stdout",
     "output_type": "stream",
     "text": [
      "11\n",
      "Data(x=[3900, 26], edge_index=[2, 14586], edge_attr=[14586, 26])\n",
      "14586\n"
     ]
    }
   ],
   "source": [
    "per_t=1     \n",
    "batch_size = int(number_ts/per_t)\n",
    "data_encode=torch.load(dataset_dir+'/M_encode_output_'+str(0)+str(number_trajectories)\n",
    "                                             +'traj'+str(per_t)+str(batch_size)+str(satart_number_ts)+str(number_ts)+'ts_vis.pt')\n",
    "print(len(data_encode)) #10\n",
    "data=copy.deepcopy(data_encode[0:10])\n",
    "a=copy.deepcopy(data_encode[0])\n",
    "print(a)\n",
    "edge_num=a.edge_attr.shape[0]\n",
    "print(edge_num)"
   ]
  },
  {
   "cell_type": "code",
   "execution_count": 5,
   "metadata": {},
   "outputs": [],
   "source": [
    "device='cuda'\n",
    "class objectview(object):\n",
    "    def __init__(self, d):\n",
    "        self.__dict__ = d   \n",
    "for args in [\n",
    "        {'model_type': 'Multi-attention',\n",
    "         \n",
    "         'batchsize': 5,       #是lable上的batchsize\n",
    "         'hidden_dim': 26,     #这里的hidden_dim与encode_decode中的hidden_channels相同\n",
    "         'epochs': 1000,#5000\n",
    "         \n",
    "         'train_size':150, #45\n",
    "         'test_size': 40, #10         #按照lable的来\n",
    "         'device':'cuda',\n",
    "         'shuffle': False,\n",
    "         'save_best_model': True,\n",
    "         'checkpoint_dir': '/root/data1/d_0.4_EMD/Multi-attention_best_models/',\n",
    "         'postprocess_dir': '/root/data1/d_0.4_EMD/Multi-attention_loss_plots/',\n",
    "         'd_k': 28,#28\n",
    "         'd_v': 28,\n",
    "         'input_shape': 12,   #加上时间信息，所以比n_graph_encode的最后一个多两维\n",
    "         'n_heads': 6,\n",
    "         'n_layers': 5,\n",
    "         'ff_dim': 64,\n",
    "         'seq_len': 10,        #改per_t-1,二推一\n",
    "         'per_t':11,\n",
    "         \n",
    "        'n_graph_encode':[500,150,80,10],\n",
    "        'pool_num':[6500,4800,3900]},\n",
    "]:\n",
    "        args = objectview(args)\n",
    "torch.manual_seed(5)  #Torch\n",
    "random.seed(5)        #Python\n",
    "np.random.seed(5)     #NumPy\n",
    "torch.cuda.manual_seed_all(5)   #GPU"
   ]
  },
  {
   "cell_type": "code",
   "execution_count": 6,
   "metadata": {},
   "outputs": [],
   "source": [
    "model_name='Multi-attention_model_nl'+'_bs'+str(args.batchsize) + \\\n",
    "               '_hd'+str(args.hidden_dim)+'_ep'+str(args.epochs)+'_wd' + \\\n",
    "               '_shuff_'+str(args.shuffle)+'_dk'+str(args.d_k)+'_heads'+str(args.n_heads)\n",
    "args.batchsize=1\n",
    "node_model = self_transformer(args,edge_num).to(device)\n",
    "node_model.load_state_dict(torch.load('/root/data1/d_0.4_EMD/Multi-attention_best_models/'+model_name+'.pt'))\n",
    "\n",
    "EDstats_list=torch.load('/root/data1/d_0.4_EMD/EDstats_list.pt')\n",
    "data_stats_list=torch.load('/root/data1/d_0.4_EMD/data_stats_list.pt')\n",
    "[EDmean_vec_x,EDstd_vec_x,EDmean_vec_edge,EDstd_vec_edge] = EDstats_list\n",
    "(EDmean_vec_x,EDstd_vec_x,EDmean_vec_edge,EDstd_vec_edge)=(EDmean_vec_x.to(device),\n",
    "        EDstd_vec_x.to(device),EDmean_vec_edge.to(device),EDstd_vec_edge.to(device))\n",
    "[mean_vec_x,std_vec_x,mean_vec_edge,std_vec_edge] = data_stats_list\n",
    "(mean_vec_x,std_vec_x,mean_vec_edge,std_vec_edge)=(mean_vec_x.to(device),std_vec_x.to(device),\n",
    "                                                   mean_vec_edge.to(device),std_vec_edge.to(device))"
   ]
  },
  {
   "cell_type": "code",
   "execution_count": 7,
   "metadata": {},
   "outputs": [],
   "source": [
    "def predict_sequences_multiple(model, data, a, predict_num,seq_len):\n",
    "\n",
    "        print('[Model] Predicting Sequences Multiple...')\n",
    "        a=a.to(device)\n",
    "        code_index=a.edge_index\n",
    "        for i in range(predict_num):\n",
    "          list_p = data[:] if i == 0 else data[i:]\n",
    "          data_loader=DataLoader(list_p, batch_size=seq_len, shuffle=False) \n",
    "          for i,batch in enumerate(data_loader):\n",
    "              batch=batch.to(device)\n",
    "              code_x,code_edge_attr = Mulit_attention_pred(batch,model,mean_vec_x,std_vec_x,mean_vec_edge,std_vec_edge)\n",
    "          \n",
    "          new_data=Data(x=code_x, edge_index=code_index, edge_attr=code_edge_attr)\n",
    "          data.append(new_data)\n",
    "\n",
    "        return data"
   ]
  },
  {
   "cell_type": "code",
   "execution_count": 8,
   "metadata": {},
   "outputs": [
    {
     "name": "stdout",
     "output_type": "stream",
     "text": [
      "[Model] Predicting Sequences Multiple...\n"
     ]
    },
    {
     "name": "stderr",
     "output_type": "stream",
     "text": [
      "/usr/local/lib/python3.8/dist-packages/torch_geometric/deprecation.py:12: UserWarning: 'data.DataLoader' is deprecated, use 'loader.DataLoader' instead\n",
      "  warnings.warn(out)\n"
     ]
    },
    {
     "name": "stdout",
     "output_type": "stream",
     "text": [
      "110\n"
     ]
    }
   ],
   "source": [
    "predict_num=100\n",
    "seq_len=10\n",
    "data=predict_sequences_multiple(node_model, data, a, predict_num,seq_len)\n",
    "print(len(data))  #60"
   ]
  },
  {
   "cell_type": "code",
   "execution_count": 9,
   "metadata": {},
   "outputs": [],
   "source": [
    "torch.save(data,'/root/data1/STGCN_result/MultiAttention_110_pred')"
   ]
  },
  {
   "cell_type": "code",
   "execution_count": 10,
   "metadata": {},
   "outputs": [
    {
     "name": "stdout",
     "output_type": "stream",
     "text": [
      "110\n"
     ]
    }
   ],
   "source": [
    "decode_model=GNN_Decode(\n",
    "                hidden_channels,\n",
    "                in_channels_node,\n",
    "                in_channels_edge,\n",
    "                \n",
    "                out_channels,\n",
    "                encoding_dim,\n",
    "                n_mlp_mp,\n",
    "                n_mlp_encode,\n",
    "\n",
    "                ae_dim,\n",
    "                n_mp_down,\n",
    "                n_mp_up,\n",
    "                pool_num,\n",
    "                \n",
    "                act,\n",
    "                \n",
    "                name='gnn_topk')\n",
    "pathD='/root/data1/d_0.4_EMD/Decode_state_dict.pt'\n",
    "decode_model.load_state_dict(torch.load(pathD), strict=False)\n",
    "decode_model.to(device)\n",
    "\n",
    "i=0\n",
    "batches=torch.load(dataset_dir+'/'+str(satart_number_ts)+str(number_ts)+str(i)+str(number_trajectories)+'traj'+'batches.pt')\n",
    "xs=torch.load(dataset_dir+'/'+str(satart_number_ts)+str(number_ts)+str(i)+str(number_trajectories)+'traj'+'xs.pt')\n",
    "positions=torch.load( dataset_dir+'/'+str(satart_number_ts)+str(number_ts)+str(i)+str(number_trajectories)+'traj'+'positions.pt')\n",
    "edge_attrs=torch.load( dataset_dir+'/'+str(satart_number_ts)+str(number_ts)+str(i)+str(number_trajectories)+'traj'+'edge_attrs.pt')\n",
    "edge_indices=torch.load( dataset_dir+'/'+str(satart_number_ts)+str(number_ts)+str(i)+str(number_trajectories)+'traj'+'edge_indices.pt')\n",
    "edge_masks=torch.load(dataset_dir+'/'+str(satart_number_ts)+str(number_ts)+str(i)+str(number_trajectories)+'traj'+'edge_masks.pt')\n",
    "\n",
    "\n",
    "\n",
    "\n",
    "perm_list=torch.load(dataset_dir+'/perm_list_150.pt')\n",
    "\n",
    "\n",
    "pred_MA_x=[]\n",
    "with torch.no_grad():\n",
    "        for i in range(len(data)):\n",
    "              x=decode_model(data[i], batches , xs, positions, edge_attrs, edge_indices, edge_masks,perm_list[0])\n",
    "              x=x*EDstd_vec_x+EDmean_vec_x\n",
    "              pred_MA_x.append(x)\n",
    "\n",
    "              \n",
    "print(len(pred_MA_x))"
   ]
  },
  {
   "cell_type": "code",
   "execution_count": 11,
   "metadata": {},
   "outputs": [],
   "source": [
    "def ROM_transform_vector(data, satart_number_ts,number_ts, originalFolder, destinationFolder, fileName):\n",
    "\n",
    "    folder = os.path.exists(destinationFolder)\n",
    "\n",
    "    if not folder: \n",
    "        print('start to create the destination folder')   \n",
    "        os.makedirs(destinationFolder)       \n",
    "        copyFiles(originalFolder,destinationFolder) \n",
    "\n",
    "    print('start to store data as a new variable')\n",
    "    \n",
    "    for i in range(number_ts):\n",
    "        f_filename = destinationFolder + fileName + str(i+satart_number_ts)+ \".vtk\"\n",
    "        reader=vtk.vtkPolyDataReader()\n",
    "        reader.SetFileName(f_filename)  # SetFileName设置要读取的vtk文件\n",
    "        reader.ReadAllScalarsOn()\n",
    "        reader.ReadAllVectorsOn()\n",
    "        reader.ReadAllTensorsOn()\n",
    "        reader.Update()\n",
    "\n",
    "        vtkdata=reader.GetOutput()  # GetOutput获取文件的数据\n",
    "        num_points=vtkdata.GetNumberOfPoints() \n",
    "        point_data =vtkdata.GetPointData()\n",
    "        a=data[i]\n",
    "        a=a.to('cpu')\n",
    "        a=a.numpy()\n",
    "    \n",
    "        velocity_array = point_data.GetArray('U')\n",
    "        #print(velocity_array.GetTuple(0)[0:2])\n",
    "        for j in range(num_points):\n",
    "            original_velocity = list(velocity_array.GetTuple(j))\n",
    "            original_velocity[0:2]=tuple(a[j])\n",
    "            velocity_array.SetTuple(j, original_velocity)\n",
    "\n",
    "        writer = vtk.vtkGenericDataObjectWriter()\n",
    "        writer.SetFileName(f_filename)\n",
    "        writer.SetInputData(vtkdata)\n",
    "        writer.Write()\n",
    "       \n",
    "    print('transform succeed')"
   ]
  },
  {
   "cell_type": "code",
   "execution_count": 12,
   "metadata": {},
   "outputs": [
    {
     "name": "stdout",
     "output_type": "stream",
     "text": [
      "start to create the destination folder\n",
      "start to store data as a new variable\n",
      "transform succeed\n"
     ]
    }
   ],
   "source": [
    "for i in range(number_trajectories):\n",
    "    satart_number_ts=200\n",
    "    ts=len(pred_MA_x)\n",
    "    originalFolder='/root/data1/d_slice_'+str(i)\n",
    "    destinationFolder='/root/data1/STGCN_result/MA_pred_ROM_d_0.4_dataset_EDoutput_'+str(ts)+str(i)\n",
    "    fileName=\"/slice_\"\n",
    "    ROM_transform_vector(pred_MA_x, satart_number_ts,ts, originalFolder, destinationFolder, fileName)"
   ]
  },
  {
   "cell_type": "code",
   "execution_count": 1,
   "metadata": {},
   "outputs": [
    {
     "name": "stderr",
     "output_type": "stream",
     "text": [
      "/usr/local/lib/python3.8/dist-packages/tqdm/auto.py:22: TqdmWarning: IProgress not found. Please update jupyter and ipywidgets. See https://ipywidgets.readthedocs.io/en/stable/user_install.html\n",
      "  from .autonotebook import tqdm as notebook_tqdm\n"
     ]
    }
   ],
   "source": [
    "import torch\n",
    "import numpy as np\n",
    "import matplotlib.pyplot as plt\n",
    "from d_tap_processing import *"
   ]
  },
  {
   "cell_type": "code",
   "execution_count": 2,
   "metadata": {},
   "outputs": [],
   "source": [
    "def cc(ori_data, rom_data_0, rom_data_1, rom_data_2):\n",
    "    pcc_0 = pearson_value(ori_data, rom_data_0)\n",
    "    pcc_1 = pearson_value(ori_data, rom_data_1)\n",
    "    pcc_2 = pearson_value(ori_data, rom_data_2)\n",
    "    fig, ax = plt.subplots()\n",
    "    x = np.linspace(1,1+(pcc_0.shape[0]*0.005),pcc_0.shape[0])\n",
    "    print(pcc_0.shape, pcc_1.shape)\n",
    "    ax.set_prop_cycle(color = ['red','#6a89cc','#f6b93b'], linestyle = ['-', '-', '-'],linewidth=[2,2,2])\n",
    "    y_0 = pcc_0\n",
    "    y_1 = pcc_1\n",
    "    y_2=pcc_2\n",
    "   \n",
    "   \n",
    "    ax.plot(x, y_0, x, y_1, x, y_2)\n",
    "     \n",
    "            # plt.xlim((-0.1, 200.1))# range\n",
    "    plt.ylim((0.96, 1))\n",
    "    plt.xlabel('Time(s)',{'size' : 11})\n",
    "    plt.ylabel('Pearson Correlation Coefficient',{'size' : 11})\n",
    "            # plt.xticks(np.arange(0,200.1,25))\n",
    "            # plt.yticks(np.arange(0.97,1.0001,0.01))\n",
    "            # plt.legend(['D4:AE+TF', 'D8:AE+TF', 'D12:AE+TF', 'D4:PCA+TF', 'D8:PCA+TF', 'D12:PCA+TF'], loc='lower right')   \n",
    "    plt.legend(['MRROM','GAG-AE+STGCN', 'GAG-AE+MHSA'], loc='lower center',ncol=3)   \n",
    "    plt.axis([1,1.55,0.96, 1])\n",
    "    plt.xticks([1, 1.05, 1.1,1.15,1.2,1.25,1.3,1.35,1.4,1.45,1.5,1.55])\n",
    "    plt.axvline(x=1.25,ls=\":\")\n",
    "    plt.show()\n",
    "    fig.savefig('/root/data1/STGCN_result/'+'test-S-ST-MA-Pcc.pdf', bbox_inches='tight')\n",
    "    return y_0,y_1,y_2"
   ]
  },
  {
   "cell_type": "code",
   "execution_count": 3,
   "metadata": {},
   "outputs": [],
   "source": [
    "def get(number_trajectories,satart_number_ts,number_ts,per_t,batch_size,path):\n",
    "  data_list = []\n",
    "\n",
    "  for i in range(number_trajectories):\n",
    "\n",
    "    if os.path.isdir(path):\n",
    "      path_k=path\n",
    "      print(path_k)\n",
    "      vtk_num=get_vtk_num(path_k)\n",
    "      print(vtk_num)\n",
    "      for ts in range(satart_number_ts,vtk_num):\n",
    "        \n",
    "        if(ts==number_ts+satart_number_ts):\n",
    "          break\n",
    "        point, cells, velocity=read_vtk_file(path_k+\"/slice_\"+str(ts+i)+\".vtk\")\n",
    "        \n",
    "        data_list.append(Data(x=velocity))\n",
    "  return data_list"
   ]
  },
  {
   "cell_type": "code",
   "execution_count": 4,
   "metadata": {},
   "outputs": [
    {
     "name": "stdout",
     "output_type": "stream",
     "text": [
      "/root/data1/ROM_pred_d_0.4_dataset_EDoutput_1000\n",
      "601\n",
      "/root/data1/STGCN_result/ST_pred_ROM_d_0.4_dataset_EDoutput_1100\n",
      "601\n",
      "/root/data1/STGCN_result/MA_pred_ROM_d_0.4_dataset_EDoutput_1100\n",
      "601\n",
      "110\n"
     ]
    }
   ],
   "source": [
    "dataset_dir = '/root/data1/d_0.4_EMD'\n",
    "number_trajectories=1\n",
    "satart_number_ts=200\n",
    "number_ts=110\n",
    "path_1='/root/data1/ROM_pred_d_0.4_dataset_EDoutput_1000'\n",
    "path_2='/root/data1/STGCN_result/ST_pred_ROM_d_0.4_dataset_EDoutput_1100'\n",
    "path_3='/root/data1/STGCN_result/MA_pred_ROM_d_0.4_dataset_EDoutput_1100'\n",
    "\n",
    "ED_out_1 = get(number_trajectories,satart_number_ts,number_ts,1,1,path_1)\n",
    "ED_out_2=get(number_trajectories,satart_number_ts,number_ts,1,1,path_2)\n",
    "ED_out_3=get(number_trajectories,satart_number_ts,number_ts,1,1,path_3)\n",
    "\n",
    "\n",
    "ori=torch.load('/root/data1/d_0.4_EMD/meshgraphnets_miniset111traj200110ts_vis.pt')\n",
    "print(len(ori))   #110"
   ]
  },
  {
   "cell_type": "code",
   "execution_count": 5,
   "metadata": {},
   "outputs": [
    {
     "name": "stdout",
     "output_type": "stream",
     "text": [
      "(110, 15586) (110, 15586) (110, 15586) (110, 15586)\n"
     ]
    }
   ],
   "source": [
    "for i in range(number_ts):\n",
    "    uvw_1=ED_out_1[i].x.reshape(1,ED_out_1[i].x.shape[0],ED_out_1[i].x.shape[1]).to('cpu')\n",
    "    uvw_2=ED_out_2[i].x.reshape(1,ED_out_2[i].x.shape[0],ED_out_2[i].x.shape[1]).to('cpu')\n",
    "    uvw_3=ED_out_3[i].x.reshape(1,ED_out_3[i].x.shape[0],ED_out_3[i].x.shape[1]).to('cpu')\n",
    "    \n",
    "    ouvw=ori[i].x.reshape(1,ori[i].x.shape[0],ori[i].x.shape[1])\n",
    "    \n",
    "    outputs_1 = uvw_1 if i==0 else np.vstack((outputs_1,uvw_1))\n",
    "    outputs_2 = uvw_2 if i==0 else np.vstack((outputs_2,uvw_2))\n",
    "    outputs_3 = uvw_3 if i==0 else np.vstack((outputs_3,uvw_3))\n",
    "    inputs=ouvw if i==0 else np.vstack((inputs,ouvw))\n",
    "\n",
    "\n",
    "output_1 = np.hstack((outputs_1[:,:,0],outputs_1[:,:,1]))\n",
    "output_2 = np.hstack((outputs_2[:,:,0],outputs_2[:,:,1]))\n",
    "output_3 = np.hstack((outputs_3[:,:,0],outputs_3[:,:,1]))\n",
    "input_ = np.hstack((inputs[:,:,0],inputs[:,:,1]))\n",
    "print(output_1.shape,output_2.shape,output_3.shape,input_.shape)\n",
    "\n"
   ]
  },
  {
   "cell_type": "code",
   "execution_count": 6,
   "metadata": {},
   "outputs": [
    {
     "name": "stdout",
     "output_type": "stream",
     "text": [
      "(110, 1) (110, 1)\n"
     ]
    },
    {
     "data": {
      "image/png": "[encoded data removed]",
      "text/plain": [
       "<Figure size 432x288 with 1 Axes>"
      ]
     },
     "metadata": {
      "needs_background": "light"
     },
     "output_type": "display_data"
    }
   ],
   "source": [
    "y_0,y_1,y_2=cc(input_, output_1, output_2,output_3)"
   ]
  },
  {
   "cell_type": "code",
   "execution_count": 7,
   "metadata": {},
   "outputs": [
    {
     "name": "stdout",
     "output_type": "stream",
     "text": [
      "0.9956420100959243 0.9910880191464057 0.9866882585635982\n"
     ]
    }
   ],
   "source": [
    "print(np.mean(y_0[50:]),np.mean(y_1[50:]),np.mean(y_2[50:]))"
   ]
  },
  {
   "cell_type": "code",
   "execution_count": null,
   "metadata": {},
   "outputs": [
    {
     "name": "stdout",
     "output_type": "stream",
     "text": [
      "tensor(5.4772)\n",
      "2\n"
     ]
    }
   ],
   "source": [
    "acc=torch.nn.MSELoss(reduction='sum')\n",
    "a=torch.Tensor([[1,2],[3,4]])\n",
    "print(torch.norm(a, p=2))\n",
    "print(len(a))"
   ]
  },
  {
   "cell_type": "code",
   "execution_count": 8,
   "metadata": {},
   "outputs": [],
   "source": [
    "\n",
    "def rmse(ori_data, rom_data):\n",
    "\n",
    "    rmse_value = []\n",
    "    if len(ori_data) != len(rom_data):\n",
    "        print('the length of these two array do not match')\n",
    "    else:\n",
    "        for i in range(len(rom_data)):\n",
    "            ori=torch.Tensor(ori_data[i])\n",
    "            rom=torch.Tensor(rom_data[i])\n",
    "            value = torch.norm(ori-rom, p=2)\n",
    "\n",
    "            \n",
    "            \n",
    "            k=(torch.norm(ori, p=2))\n",
    "            \n",
    "            \n",
    "            value=value/k\n",
    "\n",
    "            if i == 0:\n",
    "                rmse_value = value\n",
    "            else:\n",
    "                rmse_value = np.hstack((rmse_value,value))\n",
    "        rmse_value = np.reshape(rmse_value,(-1,1))\n",
    "    return rmse_value\n",
    "def rmse_over_time(ori_data, rom_data_0, rom_data_1, rom_data_2):\n",
    "    rmse_0 = rmse(ori_data, rom_data_0)\n",
    "    rmse_1 = rmse(ori_data, rom_data_1)\n",
    "    rmse_2 = rmse(ori_data, rom_data_2)\n",
    "    \n",
    "  \n",
    "    # rmse_4 = rmse(ori_data, rom_data_4)\n",
    "    # rmse_5 = rmse(ori_data, rom_data_5)\n",
    " \n",
    "    # plt.figure(1)\n",
    "    # x = np.linspace(5,8,600)\n",
    "\n",
    "    fig, ax = plt.subplots()\n",
    "    x = np.linspace(1,1+rmse_0.shape[0]*0.005,rmse_0.shape[0])\n",
    "    ax.set_prop_cycle(color =['red','#6a89cc','#f6b93b'], linestyle = ['-', '-', '-'],linewidth=[2,2,2])\n",
    "    # x = np.linspace(0,15,2875)\n",
    "    y_0 = rmse_0\n",
    "    y_1 = rmse_1\n",
    "    y_2 = rmse_2\n",
    "    \n",
    "   \n",
    "    # y_4 = rmse_4[-1800:-1200,:]\n",
    "    # y_5 = rmse_5[-1800:-1200,:]\n",
    "    # plt.title('Correlation Coefficient')\n",
    "    ax.plot(x, y_0, x, y_1, x, y_2)\n",
    "    # , x, rmse_4, linewidth = 0.6)\n",
    "    # plt.xlim((-0.1, 200.1))# range\n",
    "    plt.ylim((0, 0.3))\n",
    "    plt.xlabel('Time(s)',{'size' : 11})\n",
    "    plt.ylabel('RRMSE',{'size' : 11})\n",
    "    # plt.xticks(np.arange(0,200.1,25))\n",
    "    # plt.yticks(np.arange(0,0.081,0.02))\n",
    "     \n",
    "    plt.legend(['MRROM','GAG-AE+STGCN', 'GAG-AE+MHSA'], loc='lower center',ncol=3)   \n",
    "    plt.axis([1,1.55,0, 0.3])\n",
    "    plt.xticks([1, 1.05, 1.1,1.15,1.2,1.25,1.3,1.35,1.4,1.45,1.5,1.55])\n",
    "    plt.axvline(x=1.25,ls=\":\")\n",
    "    plt.show()\n",
    "    fig.savefig('/root/data1/STGCN_result/'+'test-S-ST-MA_RRMSE.pdf', bbox_inches='tight')\n",
    "    return y_0,y_1,y_2"
   ]
  },
  {
   "cell_type": "code",
   "execution_count": 9,
   "metadata": {},
   "outputs": [
    {
     "data": {
      "image/png": "[encoded data removed]",
      "text/plain": [
       "<Figure size 432x288 with 1 Axes>"
      ]
     },
     "metadata": {
      "needs_background": "light"
     },
     "output_type": "display_data"
    }
   ],
   "source": [
    "y_0,y_1,y_2=rmse_over_time(input_, output_1, output_2,output_3)"
   ]
  },
  {
   "cell_type": "code",
   "execution_count": 10,
   "metadata": {},
   "outputs": [
    {
     "name": "stdout",
     "output_type": "stream",
     "text": [
      "0.07713787 0.09833506 0.10825207\n"
     ]
    }
   ],
   "source": [
    "print(np.mean(y_0),np.mean(y_1),np.mean(y_2))"
   ]
  },
  {
   "cell_type": "code",
   "execution_count": 11,
   "metadata": {},
   "outputs": [
    {
     "name": "stdout",
     "output_type": "stream",
     "text": [
      "0.07199818 0.08142092 0.074061766 0.11856282 0.06963588 0.14043227\n"
     ]
    }
   ],
   "source": [
    "print(np.mean(y_0[:50]),np.mean(y_0[50:]),np.mean(y_1[:50]),np.mean(y_1[50:]),np.mean(y_2[:50]),np.mean(y_2[50:]))"
   ]
  },
  {
   "cell_type": "markdown",
   "metadata": {},
   "source": [
    "速度图"
   ]
  },
  {
   "cell_type": "code",
   "execution_count": 1,
   "metadata": {},
   "outputs": [
    {
     "name": "stderr",
     "output_type": "stream",
     "text": [
      "/usr/local/lib/python3.8/dist-packages/tqdm/auto.py:22: TqdmWarning: IProgress not found. Please update jupyter and ipywidgets. See https://ipywidgets.readthedocs.io/en/stable/user_install.html\n",
      "  from .autonotebook import tqdm as notebook_tqdm\n"
     ]
    }
   ],
   "source": [
    "import torch\n",
    "import matplotlib.pyplot as plt\n",
    "import os\n",
    "from d_tap_processing import *"
   ]
  },
  {
   "cell_type": "code",
   "execution_count": 2,
   "metadata": {},
   "outputs": [],
   "source": [
    "def get(number_trajectories,satart_number_ts,number_ts,per_t,batch_size,path):\n",
    "  data_list = []\n",
    "\n",
    "  for i in range(number_trajectories):\n",
    "\n",
    "    if os.path.isdir(path):\n",
    "      path_k=path\n",
    "      print(path_k)\n",
    "      vtk_num=get_vtk_num(path_k)\n",
    "      print(vtk_num)\n",
    "      for ts in range(satart_number_ts,vtk_num):\n",
    "        \n",
    "        if(ts==number_ts+satart_number_ts):\n",
    "          break\n",
    "        point, cells, velocity=read_vtk_file(path_k+\"/slice_\"+str(ts+i)+\".vtk\")\n",
    "        \n",
    "        data_list.append(Data(x=velocity))\n",
    "  return data_list"
   ]
  },
  {
   "cell_type": "code",
   "execution_count": 3,
   "metadata": {},
   "outputs": [
    {
     "name": "stdout",
     "output_type": "stream",
     "text": [
      "/root/data1/ROM_pred_d_0.4_dataset_EDoutput_1000\n",
      "601\n",
      "/root/data1/STGCN_result/ST_pred_ROM_d_0.4_dataset_EDoutput_1100\n",
      "601\n",
      "/root/data1/STGCN_result/MA_pred_ROM_d_0.4_dataset_EDoutput_1100\n",
      "601\n",
      "110\n"
     ]
    }
   ],
   "source": [
    "dataset_dir = '/root/data1/d_0.4_EMD'\n",
    "number_trajectories=1\n",
    "satart_number_ts=200\n",
    "number_ts=110\n",
    "path_1='/root/data1/ROM_pred_d_0.4_dataset_EDoutput_1000'\n",
    "path_2='/root/data1/STGCN_result/ST_pred_ROM_d_0.4_dataset_EDoutput_1100'\n",
    "path_3='/root/data1/STGCN_result/MA_pred_ROM_d_0.4_dataset_EDoutput_1100'\n",
    "\n",
    "ED_out_1 = get(number_trajectories,satart_number_ts,number_ts,1,1,path_1)\n",
    "ED_out_2=get(number_trajectories,satart_number_ts,number_ts,1,1,path_2)\n",
    "ED_out_3=get(number_trajectories,satart_number_ts,number_ts,1,1,path_3)\n",
    "\n",
    "\n",
    "ori=torch.load('/root/data1/d_0.4_EMD/meshgraphnets_miniset111traj200110ts_vis.pt')\n",
    "print(len(ori))   #110"
   ]
  },
  {
   "cell_type": "code",
   "execution_count": 10,
   "metadata": {},
   "outputs": [],
   "source": [
    "def point_over_time(ori_data,rom_data_0, rom_data_1, rom_data_2 ,j,ts , fieldName):\n",
    "        point = [0,ts]\n",
    "        x = np.linspace(1,1+point[1]*0.005,int(point[1]-point[0]))\n",
    "        y_u=[]\n",
    "        y_0_u=[]\n",
    "        y_1_u=[]\n",
    "        y_2_u=[]\n",
    "        for i in range(ts):\n",
    "            y_u.append(ori_data[i].x[j,0])\n",
    "            y_0_u.append(rom_data_0[i].x[j,0])\n",
    "            y_1_u.append(rom_data_1[i].x[j,0])\n",
    "            y_2_u.append(rom_data_2[i].x[j,0])\n",
    "        print(len(y_u))\n",
    "        fig, ax = plt.subplots(figsize=(12, 4))\n",
    "        ax.set_prop_cycle(color = ['#2f3542','red','#6a89cc','#f6b93b'], linestyle = ['-','--', '--', '--'],linewidth=[3,2,2,2])\n",
    "        \n",
    "        ax.plot(x, y_u, x, y_0_u,x, y_1_u, x, y_2_u)\n",
    "\n",
    "        plt.ylim((2, 5.5))\n",
    "       \n",
    "\n",
    "        \n",
    "        plt.xlabel('Time(s)')\n",
    "        plt.ylabel(fieldName)\n",
    "        plt.legend(['Full Model','MRROM','GAG-AE+STGCN', 'GAG-AE+MHSA'], loc='lower center',ncol=4)   \n",
    "        plt.axis([1,1.55,2, 5.5])\n",
    "        plt.xticks([1, 1.05, 1.1,1.15,1.2,1.25,1.3,1.35,1.4,1.45,1.5,1.55])\n",
    "        fig.savefig('/root/data1/STGCN_result/'+str(j)+'test-velocity.pdf', bbox_inches='tight')\n",
    "        plt.axis([1.25,1.4,2, 5.5])\n",
    "        plt.xticks([1.25,1.3,1.35,1.4])\n",
    "        fig.savefig('/root/data1/STGCN_result/'+str(j)+'250-280-velocity.pdf', bbox_inches='tight')"
   ]
  },
  {
   "cell_type": "code",
   "execution_count": 11,
   "metadata": {},
   "outputs": [
    {
     "name": "stdout",
     "output_type": "stream",
     "text": [
      "tensor([0.0623, 0.0143])\n",
      "110\n"
     ]
    },
    {
     "data": {
      "image/png": "[encoded data removed]",
      "text/plain": [
       "<Figure size 864x288 with 1 Axes>"
      ]
     },
     "metadata": {
      "needs_background": "light"
     },
     "output_type": "display_data"
    }
   ],
   "source": [
    "ts=110\n",
    "j=290#7793\n",
    "fieldName='Velocity'\n",
    "print(ori[0].mesh_pos[j]) \n",
    "point_over_time(ori,ED_out_1,ED_out_2, ED_out_3 ,j,ts , fieldName)"
   ]
  },
  {
   "cell_type": "markdown",
   "metadata": {},
   "source": [
    "误差图"
   ]
  },
  {
   "cell_type": "code",
   "execution_count": 4,
   "metadata": {},
   "outputs": [],
   "source": [
    "def vtk_vector(ori,data,i,destination_vtu_path_0):\n",
    "    \n",
    "    reader=vtk.vtkPolyDataReader()\n",
    "    reader.SetFileName(destination_vtu_path_0)  # SetFileName设置要读取的vtk文件\n",
    "    reader.ReadAllScalarsOn()\n",
    "    reader.ReadAllVectorsOn()\n",
    "    reader.ReadAllTensorsOn()\n",
    "    reader.Update()\n",
    "\n",
    "    vtkdata=reader.GetOutput()  # GetOutput获取文件的数据\n",
    "    num_points=vtkdata.GetNumberOfPoints() \n",
    "    point_data =vtkdata.GetPointData()\n",
    "    \n",
    "    a=ori[i].x-data[i].x\n",
    "    print(a.shape)\n",
    "    a=a.to('cpu')\n",
    "    a=a.numpy()\n",
    "    \n",
    "    velocity_array = point_data.GetArray('U')\n",
    "        #print(velocity_array.GetTuple(0)[0:2])\n",
    "    for j in range(num_points):\n",
    "            original_velocity = list(velocity_array.GetTuple(j))\n",
    "            original_velocity[0:2]=tuple(a[j])\n",
    "            velocity_array.SetTuple(j, original_velocity)\n",
    "\n",
    "    writer = vtk.vtkGenericDataObjectWriter()\n",
    "    writer.SetFileName(destination_vtu_path_0)\n",
    "    writer.SetInputData(vtkdata)\n",
    "    writer.Write()\n",
    "       \n",
    "    print('transform succeed')"
   ]
  },
  {
   "cell_type": "code",
   "execution_count": 7,
   "metadata": {},
   "outputs": [],
   "source": [
    "import shutil\n",
    " \n",
    "def copy_vtk_file(source_path, destination_path):\n",
    "    shutil.copy2(source_path, destination_path)\n",
    " \n",
    "# 使用方法\n",
    "t=105  #0-110\n",
    "satart_number_ts=200\n",
    "source_vtu_path = '/root/data1/d_slice_0/slice_' + str(t+satart_number_ts)+ \".vtk\""
   ]
  },
  {
   "cell_type": "code",
   "execution_count": 8,
   "metadata": {},
   "outputs": [
    {
     "name": "stdout",
     "output_type": "stream",
     "text": [
      "torch.Size([7793, 2])\n",
      "transform succeed\n",
      "torch.Size([7793, 2])\n",
      "transform succeed\n",
      "torch.Size([7793, 2])\n",
      "transform succeed\n"
     ]
    }
   ],
   "source": [
    "destination_vtu_path_0 = '/root/data1/STGCN_result/test_GA_slice_' + str(t+satart_number_ts)+ \".vtk\"\n",
    "destination_vtu_path_1 = '/root/data1/STGCN_result/test_ST_slice_' + str(t+satart_number_ts)+ \".vtk\"\n",
    "destination_vtu_path_2 = '/root/data1/STGCN_result/test_MA_slice_' + str(t+satart_number_ts)+ \".vtk\"\n",
    "copy_vtk_file(source_vtu_path, destination_vtu_path_0)\n",
    "copy_vtk_file(source_vtu_path, destination_vtu_path_1)\n",
    "copy_vtk_file(source_vtu_path, destination_vtu_path_2)\n",
    "\n",
    "vtk_vector(ori,ED_out_1,t,destination_vtu_path_0)\n",
    "vtk_vector(ori,ED_out_2,t,destination_vtu_path_1)\n",
    "vtk_vector(ori,ED_out_3,t,destination_vtu_path_2)"
   ]
  }
 ],
 "metadata": {
  "kernelspec": {
   "display_name": "Python 3",
   "language": "python",
   "name": "python3"
  },
  "language_info": {
   "codemirror_mode": {
    "name": "ipython",
    "version": 3
   },
   "file_extension": ".py",
   "mimetype": "text/x-python",
   "name": "python",
   "nbconvert_exporter": "python",
   "pygments_lexer": "ipython3",
   "version": "3.8.10"
  }
 },
 "nbformat": 4,
 "nbformat_minor": 2
}
