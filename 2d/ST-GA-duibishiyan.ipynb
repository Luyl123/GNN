{
 "cells": [
  {
   "cell_type": "code",
   "execution_count": 1,
   "metadata": {},
   "outputs": [
    {
     "name": "stderr",
     "output_type": "stream",
     "text": [
      "/usr/local/lib/python3.8/dist-packages/tqdm/auto.py:22: TqdmWarning: IProgress not found. Please update jupyter and ipywidgets. See https://ipywidgets.readthedocs.io/en/stable/user_install.html\n",
      "  from .autonotebook import tqdm as notebook_tqdm\n"
     ]
    }
   ],
   "source": [
    "import numpy as np\n",
    "import torch\n",
    "from GTF import *"
   ]
  },
  {
   "cell_type": "code",
   "execution_count": 2,
   "metadata": {},
   "outputs": [],
   "source": [
    "dataset_dir = '/root/data1/d_0.4_EMD'\n",
    "data_encode=torch.load('/root/data1/d_0.4_EMD/M_encode_output_01traj120050200ts_vis.pt')\n",
    "data=copy.deepcopy(data_encode[0:30])"
   ]
  },
  {
   "cell_type": "code",
   "execution_count": 3,
   "metadata": {},
   "outputs": [],
   "source": [
    "data_GA=torch.load('/root/data1/STGCN_result/GA_200_pred')\n",
    "y_test=torch.load('/root/data1/STGCN_result/ST_200_pred')"
   ]
  },
  {
   "cell_type": "code",
   "execution_count": 4,
   "metadata": {},
   "outputs": [
    {
     "name": "stdout",
     "output_type": "stream",
     "text": [
      "170\n",
      "200\n"
     ]
    }
   ],
   "source": [
    "print(len(y_test))\n",
    "print(len(data_GA))"
   ]
  },
  {
   "cell_type": "code",
   "execution_count": 5,
   "metadata": {},
   "outputs": [],
   "source": [
    "device='cuda'\n",
    "y_ST=copy.deepcopy(data_GA)\n",
    "for i in range(int(len(data_GA)-30)):\n",
    "    y_ST[i+30].x=y_test[i,:,:].to(device)"
   ]
  },
  {
   "cell_type": "code",
   "execution_count": 6,
   "metadata": {},
   "outputs": [],
   "source": [
    "for i in range(30):\n",
    "    y_ST[i]=data[i]"
   ]
  },
  {
   "cell_type": "code",
   "execution_count": 7,
   "metadata": {},
   "outputs": [],
   "source": [
    "import numpy as np\n",
    "import meshio\n",
    "import torch\n",
    "import tensorflow.compat.v1 as tf\n",
    "from torch_geometric.data import Data\n",
    "import torch.nn.functional as F\n",
    "from torch_geometric.loader import DataLoader\n",
    "import pandas as pd\n",
    "import os\n",
    "import time\n",
    "from IPython.lib.display import isdir\n",
    "import random\n",
    "import matplotlib.pyplot as plt\n",
    "import copy\n",
    "from matplotlib import tri as mtri\n",
    "from matplotlib import animation\n",
    "from mpl_toolkits.axes_grid1 import make_axes_locatable\n",
    "\n",
    "from d_pooling import *\n",
    "#from mgn import *\n",
    "from d_tap_processing import *\n",
    "#from global_tpok_mp import *\n",
    "\n",
    "from d_TAP_MP_Attention import *\n",
    "from GTF import *"
   ]
  },
  {
   "cell_type": "code",
   "execution_count": 8,
   "metadata": {},
   "outputs": [],
   "source": [
    "number_trajectories=1\n",
    "dataset_dir = '/root/data1/d_0.4_EMD'\n",
    "\n",
    "in_channels_node =2  #2\n",
    "in_channels_edge = 3  #3\n",
    "hidden_channels = 26#24    #22#12\n",
    "out_channels = in_channels_node\n",
    "batch_size =25       #改25\n",
    "n_mlp_encode = 4\n",
    "n_mlp_mp = 5#5\n",
    "encoding_dim=32#32\n",
    "ae_dim=[160,128,64,32]#[128,64,32,16,10][300,128,64,32]\n",
    "n_mp_down = [2,2,1,1]\n",
    "n_mp_up= [1,1,2,2]\n",
    "pool_num =[6500,4800,3900]#[2000,1500,1200,1000][2000,1600,1400,1000]\n",
    "\n",
    "act = F.elu\n",
    "param_sharing = False\n",
    "pathD='/root/data1/d_0.4_EMD/Decode_state_dict.pt'"
   ]
  },
  {
   "cell_type": "code",
   "execution_count": 9,
   "metadata": {},
   "outputs": [],
   "source": [
    "EDstats_list=torch.load('/root/data1/d_0.4_EMD/EDstats_list.pt')\n",
    "[EDmean_vec_x,EDstd_vec_x,EDmean_vec_edge,EDstd_vec_edge] = EDstats_list\n",
    "(EDmean_vec_x,EDstd_vec_x,EDmean_vec_edge,EDstd_vec_edge)=(EDmean_vec_x.to(device),\n",
    "        EDstd_vec_x.to(device),EDmean_vec_edge.to(device),EDstd_vec_edge.to(device))"
   ]
  },
  {
   "cell_type": "code",
   "execution_count": null,
   "metadata": {},
   "outputs": [
    {
     "name": "stdout",
     "output_type": "stream",
     "text": [
      "200\n"
     ]
    }
   ],
   "source": [
    "i=0\n",
    "batches=torch.load(dataset_dir+'/'+str(i)+str(number_trajectories)+'traj'+'batches.pt')\n",
    "xs=torch.load(dataset_dir+'/'+str(i)+str(number_trajectories)+'traj'+'xs.pt')\n",
    "positions=torch.load( dataset_dir+'/'+str(i)+str(number_trajectories)+'traj'+'positions.pt')\n",
    "edge_attrs=torch.load( dataset_dir+'/'+str(i)+str(number_trajectories)+'traj'+'edge_attrs.pt')\n",
    "edge_indices=torch.load( dataset_dir+'/'+str(i)+str(number_trajectories)+'traj'+'edge_indices.pt')\n",
    "edge_masks=torch.load(dataset_dir+'/'+str(i)+str(number_trajectories)+'traj'+'edge_masks.pt')\n",
    "\n",
    "\n",
    "perm_list=torch.load(dataset_dir+'/perm_list_150.pt')\n",
    "\n",
    "\n",
    "\n",
    "\n",
    "decode_model=GNN_Decode(\n",
    "                hidden_channels,\n",
    "                in_channels_node,\n",
    "                in_channels_edge,\n",
    "                \n",
    "                out_channels,\n",
    "                encoding_dim,\n",
    "                n_mlp_mp,\n",
    "                n_mlp_encode,\n",
    "\n",
    "                ae_dim,\n",
    "                n_mp_down,\n",
    "                n_mp_up,\n",
    "                pool_num,\n",
    "                \n",
    "                act,\n",
    "                \n",
    "                name='gnn_topk')\n",
    "decode_model.load_state_dict(torch.load(pathD), strict=False)\n",
    "decode_model.to(device)\n",
    "\n",
    "pred_ST_x=[]\n",
    "with torch.no_grad():\n",
    "        for i in range(len(y_ST)):\n",
    "              x=decode_model(y_ST[i], batches , xs, positions, edge_attrs, edge_indices, edge_masks,perm_list[0])\n",
    "              x=x*EDstd_vec_x+EDmean_vec_x\n",
    "              pred_ST_x.append(x)\n",
    "              \n",
    "print(len(pred_ST_x))"
   ]
  },
  {
   "cell_type": "code",
   "execution_count": 11,
   "metadata": {},
   "outputs": [],
   "source": [
    "def ROM_transform_vector(data, satart_number_ts,number_ts, originalFolder, destinationFolder, fileName):\n",
    "\n",
    "    folder = os.path.exists(destinationFolder)\n",
    "\n",
    "    if not folder: \n",
    "        print('start to create the destination folder')   \n",
    "        os.makedirs(destinationFolder)       \n",
    "        copyFiles(originalFolder,destinationFolder) \n",
    "\n",
    "    print('start to store data as a new variable')\n",
    "    \n",
    "    for i in range(number_ts):\n",
    "        f_filename = destinationFolder + fileName + str(i+satart_number_ts)+ \".vtk\"\n",
    "        reader=vtk.vtkPolyDataReader()\n",
    "        reader.SetFileName(f_filename)  # SetFileName设置要读取的vtk文件\n",
    "        reader.ReadAllScalarsOn()\n",
    "        reader.ReadAllVectorsOn()\n",
    "        reader.ReadAllTensorsOn()\n",
    "        reader.Update()\n",
    "\n",
    "        vtkdata=reader.GetOutput()  # GetOutput获取文件的数据\n",
    "        num_points=vtkdata.GetNumberOfPoints() \n",
    "        point_data =vtkdata.GetPointData()\n",
    "        a=data[i]\n",
    "        a=a.to('cpu')\n",
    "        a=a.numpy()\n",
    "    \n",
    "        velocity_array = point_data.GetArray('U')\n",
    "        #print(velocity_array.GetTuple(0)[0:2])\n",
    "        for j in range(num_points):\n",
    "            original_velocity = list(velocity_array.GetTuple(j))\n",
    "            original_velocity[0:2]=tuple(a[j])\n",
    "            velocity_array.SetTuple(j, original_velocity)\n",
    "\n",
    "        writer = vtk.vtkGenericDataObjectWriter()\n",
    "        writer.SetFileName(f_filename)\n",
    "        writer.SetInputData(vtkdata)\n",
    "        writer.Write()\n",
    "       \n",
    "    print('transform succeed')"
   ]
  },
  {
   "cell_type": "code",
   "execution_count": 12,
   "metadata": {},
   "outputs": [
    {
     "name": "stdout",
     "output_type": "stream",
     "text": [
      "start to create the destination folder\n",
      "start to store data as a new variable\n",
      "transform succeed\n"
     ]
    }
   ],
   "source": [
    "for i in range(number_trajectories):\n",
    "    satart_number_ts=50\n",
    "    ts=len(pred_ST_x)\n",
    "    originalFolder='/root/data1/d_slice_'+str(i)\n",
    "    destinationFolder='/root/data1/STGCN_result/ST_ROM_d_0.4_dataset_EDoutput_1900'\n",
    "    fileName=\"/slice_\"\n",
    "    ROM_transform_vector(pred_ST_x, satart_number_ts,ts, originalFolder, destinationFolder, fileName)"
   ]
  },
  {
   "cell_type": "code",
   "execution_count": 13,
   "metadata": {},
   "outputs": [],
   "source": [
    "def cc(ori_data, rom_data_0, rom_data_1):\n",
    "    pcc_0 = pearson_value(ori_data, rom_data_0)\n",
    "    pcc_1 = pearson_value(ori_data, rom_data_1)\n",
    "    \n",
    "    fig, ax = plt.subplots()\n",
    "    x = np.linspace(0,pcc_0.shape[0],pcc_0.shape[0])\n",
    "    print(pcc_0.shape, pcc_1.shape)\n",
    "    ax.set_prop_cycle(color = ['#f6b93b','#6a89cc','#82ccdd'], linestyle = ['-', '-', '-'])\n",
    "    y_0 = pcc_0\n",
    "    y_1 = pcc_1\n",
    "   \n",
    "   \n",
    "    ax.plot(x, y_0, x, y_1)\n",
    "     \n",
    "            # plt.xlim((-0.1, 200.1))# range\n",
    "    plt.ylim((0.8, 1))\n",
    "    plt.xlabel('Time Level',{'size' : 11})\n",
    "    plt.ylabel('Pearson Correlation Coefficient',{'size' : 11})\n",
    "            # plt.xticks(np.arange(0,200.1,25))\n",
    "            # plt.yticks(np.arange(0.97,1.0001,0.01))\n",
    "            # plt.legend(['D4:AE+TF', 'D8:AE+TF', 'D12:AE+TF', 'D4:PCA+TF', 'D8:PCA+TF', 'D12:PCA+TF'], loc='lower right')   \n",
    "    plt.legend(['ST', 'GA'], loc='lower right')   \n",
    "\n",
    "    plt.show()\n",
    "    fig.savefig('/root/data1/STGCN_result/'+'Pcc.pdf', bbox_inches='tight')"
   ]
  },
  {
   "cell_type": "code",
   "execution_count": 14,
   "metadata": {},
   "outputs": [
    {
     "name": "stdout",
     "output_type": "stream",
     "text": [
      "200\n",
      "(200, 15586) (200, 15586) (200, 15586)\n",
      "(200, 1) (200, 1)\n"
     ]
    },
    {
     "data": {
      "image/png": "[encoded data removed]",
      "text/plain": [
       "<Figure size 432x288 with 1 Axes>"
      ]
     },
     "metadata": {
      "needs_background": "light"
     },
     "output_type": "display_data"
    }
   ],
   "source": [
    "ED_out_1 = pred_ST_x\n",
    "ED_out_2 = pred_GA_x\n",
    "\n",
    "number_ts=200\n",
    "ori=torch.load('/root/data1/d_0.4_EMD/meshgraphnets_miniset111traj50200ts_vis.pt')\n",
    "print(len(ori))   #200\n",
    "\n",
    "\n",
    "for i in range(number_ts):\n",
    "    \n",
    "   \n",
    "    uvw_1=ED_out_1[i].reshape(1,ED_out_1[i].shape[0],ED_out_1[i].shape[1]).to('cpu')\n",
    "    uvw_2=ED_out_2[i].reshape(1,ED_out_2[i].shape[0],ED_out_2[i].shape[1]).to('cpu')\n",
    "    \n",
    "    ouvw=ori[i].x.reshape(1,ori[i].x.shape[0],ori[i].x.shape[1])\n",
    "    \n",
    "    outputs_1 = uvw_1 if i==0 else np.vstack((outputs_1,uvw_1))\n",
    "    outputs_2 = uvw_2 if i==0 else np.vstack((outputs_2,uvw_2))\n",
    "    inputs=ouvw if i==0 else np.vstack((inputs,ouvw))\n",
    "\n",
    "\n",
    "output_1 = np.hstack((outputs_1[:,:,0],outputs_1[:,:,1]))\n",
    "output_2 = np.hstack((outputs_2[:,:,0],outputs_2[:,:,1]))\n",
    "input_ = np.hstack((inputs[:,:,0],inputs[:,:,1]))\n",
    "print(output_1.shape,output_2.shape,input_.shape)\n",
    "\n",
    "cc(input_, output_1, output_2)"
   ]
  },
  {
   "cell_type": "code",
   "execution_count": 15,
   "metadata": {},
   "outputs": [],
   "source": [
    "from keras import backend as K"
   ]
  },
  {
   "cell_type": "code",
   "execution_count": 16,
   "metadata": {},
   "outputs": [],
   "source": [
    "def root_mean_squared_error(true, pred):\n",
    "    return K.mean(K.square(pred - true))\n",
    "def rmse(ori_data, rom_data):\n",
    "\n",
    "    rmse_value = []\n",
    "    if len(ori_data) != len(rom_data):\n",
    "        print('the length of these two array do not match')\n",
    "    else:\n",
    "        for i in range(len(rom_data)):\n",
    "            value = root_mean_squared_error(ori_data[i], rom_data[i])\n",
    "\n",
    "            ori=torch.Tensor(ori_data[i])\n",
    "            \n",
    "            k=((torch.norm(ori, p=1))/len(ori))\n",
    "            \n",
    "            #value =acc(ori, rom)\n",
    "            \n",
    "            #value =math.sqrt(acc(ori, rom))\n",
    "            value=math.sqrt(value)/k\n",
    "\n",
    "            if i == 0:\n",
    "                rmse_value = value\n",
    "            else:\n",
    "                rmse_value = np.hstack((rmse_value,value))\n",
    "        rmse_value = np.reshape(rmse_value,(-1,1))\n",
    "    return rmse_value\n",
    "def rmse_over_time(ori_data, rom_data_0, rom_data_1):\n",
    "    rmse_0 = rmse(ori_data, rom_data_0)\n",
    "    rmse_1 = rmse(ori_data, rom_data_1)\n",
    "    \n",
    "  \n",
    "    # rmse_4 = rmse(ori_data, rom_data_4)\n",
    "    # rmse_5 = rmse(ori_data, rom_data_5)\n",
    " \n",
    "    # plt.figure(1)\n",
    "    # x = np.linspace(5,8,600)\n",
    "\n",
    "    fig, ax = plt.subplots()\n",
    "    x = np.linspace(0,rmse_0.shape[0],rmse_0.shape[0])\n",
    "    ax.set_prop_cycle(color = ['#f6b93b','#6a89cc'], linestyle = ['-', '-'])\n",
    "    # x = np.linspace(0,15,2875)\n",
    "    y_0 = rmse_0\n",
    "    y_1 = rmse_1\n",
    "    \n",
    "   \n",
    "    # y_4 = rmse_4[-1800:-1200,:]\n",
    "    # y_5 = rmse_5[-1800:-1200,:]\n",
    "    # plt.title('Correlation Coefficient')\n",
    "    ax.plot(x, y_0, x, y_1)\n",
    "    # , x, rmse_4, linewidth = 0.6)\n",
    "    # plt.xlim((-0.1, 200.1))# range\n",
    "    plt.ylim((-0.005, 1))\n",
    "    plt.xlabel('Time Level',{'size' : 11})\n",
    "    plt.ylabel('RRMSE',{'size' : 11})\n",
    "    # plt.xticks(np.arange(0,200.1,25))\n",
    "    # plt.yticks(np.arange(0,0.081,0.02))\n",
    "    plt.legend(['ST', 'GA'], loc='upper right')   \n",
    "    plt.show()\n",
    "    fig.savefig('/root/data1/STGCN_result/'+'RRMSE.pdf', bbox_inches='tight')"
   ]
  },
  {
   "cell_type": "code",
   "execution_count": 17,
   "metadata": {},
   "outputs": [
    {
     "name": "stderr",
     "output_type": "stream",
     "text": [
      "2024-11-19 11:09:53.668944: I tensorflow/core/platform/cpu_feature_guard.cc:151] This TensorFlow binary is optimized with oneAPI Deep Neural Network Library (oneDNN) to use the following CPU instructions in performance-critical operations:  AVX2 AVX512F FMA\n",
      "To enable them in other operations, rebuild TensorFlow with the appropriate compiler flags.\n",
      "2024-11-19 11:09:53.685048: I tensorflow/core/common_runtime/gpu/gpu_device.cc:1525] Created device /job:localhost/replica:0/task:0/device:GPU:0 with 15922 MB memory:  -> device: 0, name: NVIDIA GeForce RTX 4090, pci bus id: 0000:9e:00.0, compute capability: 8.9\n"
     ]
    },
    {
     "data": {
      "image/png": "[encoded data removed]",
      "text/plain": [
       "<Figure size 432x288 with 1 Axes>"
      ]
     },
     "metadata": {
      "needs_background": "light"
     },
     "output_type": "display_data"
    }
   ],
   "source": [
    "rmse_over_time(input_, output_1, output_2)"
   ]
  },
  {
   "cell_type": "markdown",
   "metadata": {},
   "source": [
    "在200-310，110 time level"
   ]
  },
  {
   "cell_type": "code",
   "execution_count": 13,
   "metadata": {},
   "outputs": [],
   "source": [
    "import numpy as np\n",
    "import meshio\n",
    "import torch\n",
    "import tensorflow.compat.v1 as tf\n",
    "from torch_geometric.data import Data\n",
    "import torch.nn.functional as F\n",
    "from torch_geometric.loader import DataLoader\n",
    "import pandas as pd\n",
    "import os\n",
    "import time\n",
    "from IPython.lib.display import isdir\n",
    "import random\n",
    "import matplotlib.pyplot as plt\n",
    "import copy\n",
    "from matplotlib import tri as mtri\n",
    "from matplotlib import animation\n",
    "from mpl_toolkits.axes_grid1 import make_axes_locatable\n",
    "\n",
    "from d_pooling import *\n",
    "#from mgn import *\n",
    "from d_tap_processing import *\n",
    "#from global_tpok_mp import *\n",
    "\n",
    "from d_TAP_MP_Attention import *\n",
    "from GTF import *"
   ]
  },
  {
   "cell_type": "code",
   "execution_count": 14,
   "metadata": {},
   "outputs": [
    {
     "name": "stdout",
     "output_type": "stream",
     "text": [
      "1\n",
      "cuda\n",
      "cuda:0\n"
     ]
    }
   ],
   "source": [
    "per_t=1     \n",
    "satart_number_ts=200\n",
    "number_ts=31\n",
    "batch_size = int(number_ts/per_t)\n",
    "dataset_dir = '/root/data1/d_0.4_EMD'\n",
    "path='/root/data1/d_slice_'     #将文件命名为yuan_0\n",
    "number_trajectories=1\n",
    "device='cuda'\n",
    "\n",
    "#get_dataset(number_trajectories,satart_number_ts,number_ts,per_t,batch_size,dataset_dir,path)\n",
    "\n",
    "file_path= dataset_dir+'/meshgraphnets_miniset'+str(per_t)+str(batch_size)+str(number_trajectories)+'traj'+str(satart_number_ts)+str(number_ts)+'ts_vis.pt'\n",
    "dataset_M = torch.load(file_path)\n",
    "print(len(dataset_M))   #长度为1  \n",
    "\n",
    "perm_list=torch.load(dataset_dir+'/perm_list_150.pt')\n",
    "\n",
    "print(device)\n",
    "for i in range(len(perm_list[0])):\n",
    "   \n",
    "    perm_list[0][i]=perm_list[0][i].to(device)\n",
    "print(perm_list[0][0].device)\n",
    "pathE='/root/data1/d_0.4_EMD/Encode_state_dict.pt'\n",
    "\n",
    "in_channels_node = 2 #2\n",
    "in_channels_edge = 3 #3\n",
    "hidden_channels = 26#24    #22#12\n",
    "out_channels = in_channels_node\n",
    "\n",
    "n_mlp_encode = 4\n",
    "n_mlp_mp = 5#5\n",
    "encoding_dim=32#32\n",
    "ae_dim=[160,128,64,32]#[128,64,32,16,10][300,128,64,32]\n",
    "n_mp_down = [2,2,1,1]\n",
    "n_mp_up= [1,1,2,2]\n",
    "pool_num =[6500,4800,3900]#[2000,1500,1200,1000][2000,1600,1400,1000]\n",
    "\n",
    "[EDmean_vec_x,EDstd_vec_x,EDmean_vec_edge,EDstd_vec_edge] = torch.load(dataset_dir+'/EDstats_list.pt')\n",
    "\n",
    "(EDmean_vec_x,EDstd_vec_x,EDmean_vec_edge,EDstd_vec_edge)=(EDmean_vec_x.to(device),\n",
    "        EDstd_vec_x.to(device),EDmean_vec_edge.to(device),EDstd_vec_edge.to(device))\n",
    "\n",
    "act = F.elu\n",
    "param_sharing = False"
   ]
  },
  {
   "cell_type": "code",
   "execution_count": 15,
   "metadata": {},
   "outputs": [
    {
     "name": "stdout",
     "output_type": "stream",
     "text": [
      "31\n",
      "Data(x=[3900, 26], edge_index=[2, 14586], edge_attr=[14586, 26]) Data(x=[3900, 26], edge_index=[2, 14586], edge_attr=[14586, 26]) Data(x=[3900, 26], edge_index=[2, 14586], edge_attr=[14586, 26]) Data(x=[3900, 26], edge_index=[2, 14586], edge_attr=[14586, 26]) Data(x=[3900, 26], edge_index=[2, 14586], edge_attr=[14586, 26]) Data(x=[3900, 26], edge_index=[2, 14586], edge_attr=[14586, 26])\n"
     ]
    }
   ],
   "source": [
    "\n",
    "M_encode=GNN_topk_encode(\n",
    "                hidden_channels,\n",
    "                in_channels_node,\n",
    "                in_channels_edge,\n",
    "                \n",
    "                out_channels,\n",
    "                encoding_dim,\n",
    "                n_mlp_mp,\n",
    "                n_mlp_encode,\n",
    "\n",
    "                ae_dim,\n",
    "                n_mp_down,\n",
    "                n_mp_up,\n",
    "                pool_num,\n",
    "                \n",
    "                act,\n",
    "                \n",
    "                name='gnn_topk')\n",
    "M_encode.to(device)\n",
    "M_encode.load_state_dict(torch.load(pathE), strict=False)\n",
    "\n",
    "\n",
    "\n",
    "\n",
    "with torch.no_grad():\n",
    "  for i in range(len(dataset_M)):\n",
    "    dataset_M[i]=dataset_M[i].to(device)\n",
    "    data_list,batches , xs, positions, edge_attrs, edge_indices, edge_masks= M_encode(dataset_M[i], per_t , perm_list[0],\n",
    "                                                                                            batch_size,EDmean_vec_x,EDstd_vec_x,\n",
    "                                                                                            EDmean_vec_edge,EDstd_vec_edge,\n",
    "                                                                                            batch=None, return_mask=False)  \n",
    "    torch.save(data_list,dataset_dir+'/M_encode_output_'+str(i)+str(number_trajectories)+'traj'+str(per_t)+str(batch_size)+str(satart_number_ts)+str(number_ts)+'ts_vis.pt')\n",
    "    torch.save(batches,dataset_dir+'/'+str(satart_number_ts)+str(number_ts)+str(i)+str(number_trajectories)+'traj'+'batches.pt')\n",
    "    torch.save(xs,dataset_dir+'/'+str(satart_number_ts)+str(number_ts)+str(i)+str(number_trajectories)+'traj'+'xs.pt')\n",
    "    torch.save( positions,dataset_dir+'/'+str(satart_number_ts)+str(number_ts)+str(i)+str(number_trajectories)+'traj'+'positions.pt')\n",
    "    torch.save( edge_attrs,dataset_dir+'/'+str(satart_number_ts)+str(number_ts)+str(i)+str(number_trajectories)+'traj'+'edge_attrs.pt')\n",
    "    torch.save( edge_indices,dataset_dir+'/'+str(satart_number_ts)+str(number_ts)+str(i)+str(number_trajectories)+'traj'+'edge_indices.pt')\n",
    "    torch.save( edge_masks,dataset_dir+'/'+str(satart_number_ts)+str(number_ts)+str(i)+str(number_trajectories)+'traj'+'edge_masks.pt')\n",
    "    \n",
    "    print(len(data_list))#30\n",
    "    print(data_list[0],data_list[1],data_list[2],data_list[3],data_list[4],data_list[5])"
   ]
  },
  {
   "cell_type": "code",
   "execution_count": 16,
   "metadata": {},
   "outputs": [],
   "source": [
    "import tensorflow.compat.v1 as tf\n",
    "import torch\n",
    "from STGCN import *\n",
    "import scipy.sparse as sp"
   ]
  },
  {
   "cell_type": "code",
   "execution_count": 17,
   "metadata": {},
   "outputs": [],
   "source": [
    "dataset_encode=torch.load('/root/data1/d_0.4_EMD/M_encode_output_01traj120050200ts_vis.pt')\n",
    "device = 'cuda' if torch.cuda.is_available() else 'cpu'\n",
    "n_frame=31\n",
    "n_his=30\n",
    "n=dataset_encode[0].x.shape[0]\n",
    "C0=dataset_encode[0].x.shape[1]\n",
    "edge_index=dataset_encode[0].edge_index\n",
    "data=seq_gen(dataset_encode,  n_frame)#(190,11,n,C)\n",
    "n_train=150\n",
    "n_val=20\n",
    "Ks=3\n",
    "Kt=5\n",
    "batch_size=10\n",
    "epoch=300\n",
    "opt='RMSProp'\n",
    "lr=1e-3\n",
    "save_=5\n",
    "blocks = [[C0, 32, 64], [64, 32, 128]]\n",
    "\n",
    "inputs,x_stats=data_gen(data, n_train, n_val)"
   ]
  },
  {
   "cell_type": "code",
   "execution_count": 18,
   "metadata": {},
   "outputs": [
    {
     "name": "stdout",
     "output_type": "stream",
     "text": [
      "torch.Size([1, 31, 3900, 26])\n",
      "INFO:tensorflow:Restoring parameters from /root/data1/STGCN_result/saved_model/model.ckpt\n"
     ]
    },
    {
     "name": "stderr",
     "output_type": "stream",
     "text": [
      "2024-11-19 20:28:52.851795: I tensorflow/core/platform/cpu_feature_guard.cc:151] This TensorFlow binary is optimized with oneAPI Deep Neural Network Library (oneDNN) to use the following CPU instructions in performance-critical operations:  AVX2 AVX512F FMA\n",
      "To enable them in other operations, rebuild TensorFlow with the appropriate compiler flags.\n",
      "2024-11-19 20:28:52.865507: I tensorflow/core/common_runtime/gpu/gpu_device.cc:1525] Created device /job:localhost/replica:0/task:0/device:GPU:0 with 18366 MB memory:  -> device: 0, name: NVIDIA GeForce RTX 4090, pci bus id: 0000:9e:00.0, compute capability: 8.9\n"
     ]
    },
    {
     "name": "stdout",
     "output_type": "stream",
     "text": [
      ">> Loading saved model from /root/data1/STGCN_result/saved_model/model.ckpt ...\n"
     ]
    },
    {
     "name": "stderr",
     "output_type": "stream",
     "text": [
      "2024-11-19 20:28:55.185900: I tensorflow/stream_executor/cuda/cuda_dnn.cc:368] Loaded cuDNN version 8202\n",
      "2024-11-19 20:28:56.130900: I tensorflow/core/platform/default/subprocess.cc:304] Start cannot spawn child process: No such file or directory\n",
      "2024-11-19 20:28:56.134841: W tensorflow/stream_executor/gpu/asm_compiler.cc:230] Falling back to the CUDA driver for PTX compilation; ptxas does not support CC 8.9\n",
      "2024-11-19 20:28:56.134863: W tensorflow/stream_executor/gpu/asm_compiler.cc:233] Used ptxas at /usr/local/cuda/bin/ptxas\n",
      "2024-11-19 20:28:56.134957: W tensorflow/stream_executor/gpu/redzone_allocator.cc:314] UNIMPLEMENTED: /usr/local/cuda/bin/ptxas ptxas too old. Falling back to the driver to compile.\n",
      "Relying on driver to perform ptx compilation. \n",
      "Modify $PATH to customize ptxas location.\n",
      "This message will be only logged once.\n",
      "2024-11-19 20:28:56.861019: I tensorflow/stream_executor/cuda/cuda_blas.cc:1786] TensorFloat-32 will be used for the matrix multiplication. This will only be logged once.\n"
     ]
    },
    {
     "name": "stdout",
     "output_type": "stream",
     "text": [
      "(80, 3900, 26)\n",
      "Testing model finished!\n",
      "torch.Size([80, 3900, 26])\n"
     ]
    }
   ],
   "source": [
    "n_frame=31\n",
    "data_test=seq_gen(data_list[0:n_frame],  n_frame)#[1,21,n,c0]\n",
    "print(data_test.shape) #([1, 31, 3900, 26]\n",
    "x_test = z_score(data_test, x_stats['mean'], x_stats['std'])\n",
    "n_pred=80\n",
    "y_test=model_test(x_test, x_stats,  n_his, n_pred, load_path='/root/data1/STGCN_result/saved_model/')#逆标准化\n",
    "print(y_test.shape)#(180,n,c0)"
   ]
  },
  {
   "cell_type": "code",
   "execution_count": 19,
   "metadata": {},
   "outputs": [],
   "source": [
    "torch.save(y_test,'/root/data1/STGCN_result/ST_110_pred')"
   ]
  },
  {
   "cell_type": "code",
   "execution_count": 20,
   "metadata": {},
   "outputs": [],
   "source": [
    "data_GA=torch.load('/root/data1/STGCN_result/GA_d_0.4_110_pred')\n",
    "y_test=torch.load('/root/data1/STGCN_result/ST_110_pred')"
   ]
  },
  {
   "cell_type": "code",
   "execution_count": 21,
   "metadata": {},
   "outputs": [
    {
     "name": "stdout",
     "output_type": "stream",
     "text": [
      "Data(x=[3900, 26], edge_index=[2, 14586], edge_attr=[14586, 26])\n",
      "110\n",
      "80\n"
     ]
    }
   ],
   "source": [
    "print(data_GA[0])\n",
    "print(len(data_GA))\n",
    "print(len(y_test))"
   ]
  },
  {
   "cell_type": "code",
   "execution_count": 22,
   "metadata": {},
   "outputs": [],
   "source": [
    "device='cuda'\n",
    "y_ST=copy.deepcopy(data_GA)\n",
    "for i in range(int(len(data_GA)-30)):\n",
    "    y_ST[i+30].x=y_test[i,:,:].to(device)"
   ]
  },
  {
   "cell_type": "code",
   "execution_count": 23,
   "metadata": {},
   "outputs": [],
   "source": [
    "for i in range(30):\n",
    "    y_ST[i]=data_list[i]"
   ]
  },
  {
   "cell_type": "code",
   "execution_count": 24,
   "metadata": {},
   "outputs": [
    {
     "name": "stdout",
     "output_type": "stream",
     "text": [
      "110\n"
     ]
    }
   ],
   "source": [
    "decode_model=GNN_Decode(\n",
    "                hidden_channels,\n",
    "                in_channels_node,\n",
    "                in_channels_edge,\n",
    "                \n",
    "                out_channels,\n",
    "                encoding_dim,\n",
    "                n_mlp_mp,\n",
    "                n_mlp_encode,\n",
    "\n",
    "                ae_dim,\n",
    "                n_mp_down,\n",
    "                n_mp_up,\n",
    "                pool_num,\n",
    "                \n",
    "                act,\n",
    "                \n",
    "                name='gnn_topk')\n",
    "pathD='/root/data1/d_0.4_EMD/Decode_state_dict.pt'\n",
    "decode_model.load_state_dict(torch.load(pathD), strict=False)\n",
    "decode_model.to(device)\n",
    "\n",
    "i=0\n",
    "batches=torch.load(dataset_dir+'/'+str(satart_number_ts)+str(number_ts)+str(i)+str(number_trajectories)+'traj'+'batches.pt')\n",
    "xs=torch.load(dataset_dir+'/'+str(satart_number_ts)+str(number_ts)+str(i)+str(number_trajectories)+'traj'+'xs.pt')\n",
    "positions=torch.load( dataset_dir+'/'+str(satart_number_ts)+str(number_ts)+str(i)+str(number_trajectories)+'traj'+'positions.pt')\n",
    "edge_attrs=torch.load( dataset_dir+'/'+str(satart_number_ts)+str(number_ts)+str(i)+str(number_trajectories)+'traj'+'edge_attrs.pt')\n",
    "edge_indices=torch.load( dataset_dir+'/'+str(satart_number_ts)+str(number_ts)+str(i)+str(number_trajectories)+'traj'+'edge_indices.pt')\n",
    "edge_masks=torch.load(dataset_dir+'/'+str(satart_number_ts)+str(number_ts)+str(i)+str(number_trajectories)+'traj'+'edge_masks.pt')\n",
    "\n",
    "\n",
    "\n",
    "\n",
    "perm_list=torch.load(dataset_dir+'/perm_list_150.pt')\n",
    "\n",
    "\n",
    "pred_ST_x=[]\n",
    "with torch.no_grad():\n",
    "        for i in range(len(y_ST)):\n",
    "              x=decode_model(y_ST[i], batches , xs, positions, edge_attrs, edge_indices, edge_masks,perm_list[0])\n",
    "              x=x*EDstd_vec_x+EDmean_vec_x\n",
    "              pred_ST_x.append(x)\n",
    "\n",
    "              \n",
    "print(len(pred_ST_x))\n",
    "\n"
   ]
  },
  {
   "cell_type": "code",
   "execution_count": 25,
   "metadata": {},
   "outputs": [],
   "source": [
    "def ROM_transform_vector(data, satart_number_ts,number_ts, originalFolder, destinationFolder, fileName):\n",
    "\n",
    "    folder = os.path.exists(destinationFolder)\n",
    "\n",
    "    if not folder: \n",
    "        print('start to create the destination folder')   \n",
    "        os.makedirs(destinationFolder)       \n",
    "        copyFiles(originalFolder,destinationFolder) \n",
    "\n",
    "    print('start to store data as a new variable')\n",
    "    \n",
    "    for i in range(number_ts):\n",
    "        f_filename = destinationFolder + fileName + str(i+satart_number_ts)+ \".vtk\"\n",
    "        reader=vtk.vtkPolyDataReader()\n",
    "        reader.SetFileName(f_filename)  # SetFileName设置要读取的vtk文件\n",
    "        reader.ReadAllScalarsOn()\n",
    "        reader.ReadAllVectorsOn()\n",
    "        reader.ReadAllTensorsOn()\n",
    "        reader.Update()\n",
    "\n",
    "        vtkdata=reader.GetOutput()  # GetOutput获取文件的数据\n",
    "        num_points=vtkdata.GetNumberOfPoints() \n",
    "        point_data =vtkdata.GetPointData()\n",
    "        a=data[i]\n",
    "        a=a.to('cpu')\n",
    "        a=a.numpy()\n",
    "    \n",
    "        velocity_array = point_data.GetArray('U')\n",
    "        #print(velocity_array.GetTuple(0)[0:2])\n",
    "        for j in range(num_points):\n",
    "            original_velocity = list(velocity_array.GetTuple(j))\n",
    "            original_velocity[0:2]=tuple(a[j])\n",
    "            velocity_array.SetTuple(j, original_velocity)\n",
    "\n",
    "        writer = vtk.vtkGenericDataObjectWriter()\n",
    "        writer.SetFileName(f_filename)\n",
    "        writer.SetInputData(vtkdata)\n",
    "        writer.Write()\n",
    "       \n",
    "    print('transform succeed')"
   ]
  },
  {
   "cell_type": "code",
   "execution_count": 26,
   "metadata": {},
   "outputs": [
    {
     "name": "stdout",
     "output_type": "stream",
     "text": [
      "start to create the destination folder\n",
      "start to store data as a new variable\n",
      "transform succeed\n"
     ]
    }
   ],
   "source": [
    "for i in range(number_trajectories):\n",
    "    satart_number_ts=200\n",
    "    ts=len(pred_ST_x)\n",
    "    originalFolder='/root/data1/d_slice_'+str(i)\n",
    "    destinationFolder='/root/data1/STGCN_result/ST_pred_ROM_d_0.4_dataset_EDoutput_'+str(ts)+str(i)\n",
    "    fileName=\"/slice_\"\n",
    "    ROM_transform_vector(pred_ST_x, satart_number_ts,ts, originalFolder, destinationFolder, fileName)"
   ]
  },
  {
   "cell_type": "code",
   "execution_count": 27,
   "metadata": {},
   "outputs": [],
   "source": [
    "def cc(ori_data, rom_data_0, rom_data_1):\n",
    "    pcc_0 = pearson_value(ori_data, rom_data_0)\n",
    "    pcc_1 = pearson_value(ori_data, rom_data_1)\n",
    "    \n",
    "    fig, ax = plt.subplots()\n",
    "    x = np.linspace(0,pcc_0.shape[0],pcc_0.shape[0])\n",
    "    print(pcc_0.shape, pcc_1.shape)\n",
    "    ax.set_prop_cycle(color = ['#f6b93b','#6a89cc','#82ccdd'], linestyle = ['-', '-', '-'])\n",
    "    y_0 = pcc_0\n",
    "    y_1 = pcc_1\n",
    "   \n",
    "   \n",
    "    ax.plot(x, y_0, x, y_1)\n",
    "     \n",
    "            # plt.xlim((-0.1, 200.1))# range\n",
    "    plt.ylim((0.8, 1))\n",
    "    plt.xlabel('Time Level',{'size' : 11})\n",
    "    plt.ylabel('Pearson Correlation Coefficient',{'size' : 11})\n",
    "            # plt.xticks(np.arange(0,200.1,25))\n",
    "            # plt.yticks(np.arange(0.97,1.0001,0.01))\n",
    "            # plt.legend(['D4:AE+TF', 'D8:AE+TF', 'D12:AE+TF', 'D4:PCA+TF', 'D8:PCA+TF', 'D12:PCA+TF'], loc='lower right')   \n",
    "    plt.legend(['ST', 'GA'], loc='lower right')   \n",
    "\n",
    "    plt.show()\n",
    "    fig.savefig('/root/data1/STGCN_result/'+'test_Pcc.pdf', bbox_inches='tight')"
   ]
  },
  {
   "cell_type": "code",
   "execution_count": 28,
   "metadata": {},
   "outputs": [],
   "source": [
    "def get(number_trajectories,satart_number_ts,number_ts,per_t,batch_size,path):\n",
    "  data_list = []\n",
    "\n",
    "  for i in range(number_trajectories):\n",
    "\n",
    "    if os.path.isdir(path):\n",
    "      path_k=path\n",
    "      print(path_k)\n",
    "      vtk_num=get_vtk_num(path_k)\n",
    "      print(vtk_num)\n",
    "      for ts in range(satart_number_ts,vtk_num):\n",
    "        \n",
    "        if(ts==number_ts+satart_number_ts):\n",
    "          break\n",
    "        point, cells, velocity=read_vtk_file(path_k+\"/slice_\"+str(ts+i)+\".vtk\")\n",
    "        \n",
    "        data_list.append(Data(x=velocity))\n",
    "  return data_list"
   ]
  },
  {
   "cell_type": "code",
   "execution_count": 29,
   "metadata": {},
   "outputs": [
    {
     "name": "stdout",
     "output_type": "stream",
     "text": [
      "/root/data1/ROM_pred_d_0.4_dataset_EDoutput_1000\n",
      "601\n",
      "110\n"
     ]
    }
   ],
   "source": [
    "dataset_dir = '/root/data1/d_0.4_EMD'\n",
    "number_trajectories=1\n",
    "satart_number_ts=200\n",
    "number_ts=110\n",
    "path_2='/root/data1/ROM_pred_d_0.4_dataset_EDoutput_1000'\n",
    "ED_out_2=get(number_trajectories,satart_number_ts,number_ts,1,1,path_2)\n",
    "#print(ED_out_2)\n",
    "print(len(ED_out_2))\n",
    "ED_out_2=ED_out_2[0:110]"
   ]
  },
  {
   "cell_type": "code",
   "execution_count": 30,
   "metadata": {},
   "outputs": [
    {
     "name": "stdout",
     "output_type": "stream",
     "text": [
      "110\n",
      "(110, 15586) (110, 15586) (110, 15586)\n",
      "(110, 1) (110, 1)\n"
     ]
    },
    {
     "data": {
      "image/png": "[encoded data removed]",
      "text/plain": [
       "<Figure size 432x288 with 1 Axes>"
      ]
     },
     "metadata": {
      "needs_background": "light"
     },
     "output_type": "display_data"
    }
   ],
   "source": [
    "ED_out_1 = pred_ST_x\n",
    "number_ts=110\n",
    "ori=torch.load('/root/data1/d_0.4_EMD/meshgraphnets_miniset111traj200110ts_vis.pt')\n",
    "print(len(ori))   #110\n",
    "\n",
    "\n",
    "for i in range(number_ts):\n",
    "    \n",
    "   \n",
    "    uvw_1=ED_out_1[i].reshape(1,ED_out_1[i].shape[0],ED_out_1[i].shape[1]).to('cpu')\n",
    "    uvw_2=ED_out_2[i].x.reshape(1,ED_out_2[i].x.shape[0],ED_out_2[i].x.shape[1]).to('cpu')\n",
    "    \n",
    "    ouvw=ori[i].x.reshape(1,ori[i].x.shape[0],ori[i].x.shape[1])\n",
    "    \n",
    "    outputs_1 = uvw_1 if i==0 else np.vstack((outputs_1,uvw_1))\n",
    "    outputs_2 = uvw_2 if i==0 else np.vstack((outputs_2,uvw_2))\n",
    "    inputs=ouvw if i==0 else np.vstack((inputs,ouvw))\n",
    "\n",
    "\n",
    "output_1 = np.hstack((outputs_1[:,:,0],outputs_1[:,:,1]))\n",
    "output_2 = np.hstack((outputs_2[:,:,0],outputs_2[:,:,1]))\n",
    "input_ = np.hstack((inputs[:,:,0],inputs[:,:,1]))\n",
    "print(output_1.shape,output_2.shape,input_.shape)\n",
    "\n",
    "cc(input_, output_1, output_2)"
   ]
  },
  {
   "cell_type": "code",
   "execution_count": null,
   "metadata": {},
   "outputs": [],
   "source": [
    "from keras import backend as K\n",
    "def root_mean_squared_error(true, pred):\n",
    "    return K.mean(K.square(pred - true))\n",
    "def rmse(ori_data, rom_data):\n",
    "\n",
    "    rmse_value = []\n",
    "    if len(ori_data) != len(rom_data):\n",
    "        print('the length of these two array do not match')\n",
    "    else:\n",
    "        for i in range(len(rom_data)):\n",
    "            value = root_mean_squared_error(ori_data[i], rom_data[i])\n",
    "\n",
    "            ori=torch.Tensor(ori_data[i])\n",
    "            \n",
    "            k=((torch.norm(ori, p=1))/len(ori))\n",
    "            \n",
    "            #value =acc(ori, rom)\n",
    "            \n",
    "            #value =math.sqrt(acc(ori, rom))\n",
    "            value=math.sqrt(value)/k\n",
    "\n",
    "            if i == 0:\n",
    "                rmse_value = value\n",
    "            else:\n",
    "                rmse_value = np.hstack((rmse_value,value))\n",
    "        rmse_value = np.reshape(rmse_value,(-1,1))\n",
    "    return rmse_value\n",
    "def rmse_over_time(ori_data, rom_data_0, rom_data_1):\n",
    "    rmse_0 = rmse(ori_data, rom_data_0)\n",
    "    rmse_1 = rmse(ori_data, rom_data_1)\n",
    "    \n",
    "  \n",
    "    # rmse_4 = rmse(ori_data, rom_data_4)\n",
    "    # rmse_5 = rmse(ori_data, rom_data_5)\n",
    " \n",
    "    # plt.figure(1)\n",
    "    # x = np.linspace(5,8,600)\n",
    "\n",
    "    fig, ax = plt.subplots()\n",
    "    x = np.linspace(0,rmse_0.shape[0],rmse_0.shape[0])\n",
    "    ax.set_prop_cycle(color = ['#f6b93b','#6a89cc'], linestyle = ['-', '-'])\n",
    "    # x = np.linspace(0,15,2875)\n",
    "    y_0 = rmse_0\n",
    "    y_1 = rmse_1\n",
    "    \n",
    "   \n",
    "    # y_4 = rmse_4[-1800:-1200,:]\n",
    "    # y_5 = rmse_5[-1800:-1200,:]\n",
    "    # plt.title('Correlation Coefficient')\n",
    "    ax.plot(x, y_0, x, y_1)\n",
    "    # , x, rmse_4, linewidth = 0.6)\n",
    "    # plt.xlim((-0.1, 200.1))# range\n",
    "    plt.ylim((-0.005, 1))\n",
    "    plt.xlabel('Time Level',{'size' : 11})\n",
    "    plt.ylabel('RRMSE',{'size' : 11})\n",
    "    # plt.xticks(np.arange(0,200.1,25))\n",
    "    # plt.yticks(np.arange(0,0.081,0.02))\n",
    "    plt.legend(['ST', 'GA'], loc='upper right')   \n",
    "    plt.show()\n",
    "    fig.savefig('/root/data1/STGCN_result/'+'test_RRMSE.pdf', bbox_inches='tight')"
   ]
  },
  {
   "cell_type": "code",
   "execution_count": 21,
   "metadata": {},
   "outputs": [
    {
     "name": "stderr",
     "output_type": "stream",
     "text": [
      "2024-11-19 13:15:09.418410: I tensorflow/core/platform/cpu_feature_guard.cc:151] This TensorFlow binary is optimized with oneAPI Deep Neural Network Library (oneDNN) to use the following CPU instructions in performance-critical operations:  AVX2 AVX512F FMA\n",
      "To enable them in other operations, rebuild TensorFlow with the appropriate compiler flags.\n",
      "2024-11-19 13:15:09.436819: I tensorflow/core/common_runtime/gpu/gpu_device.cc:1525] Created device /job:localhost/replica:0/task:0/device:GPU:0 with 13012 MB memory:  -> device: 0, name: NVIDIA GeForce RTX 4090, pci bus id: 0000:9e:00.0, compute capability: 8.9\n"
     ]
    },
    {
     "data": {
      "image/png": "[encoded data removed]",
      "text/plain": [
       "<Figure size 432x288 with 1 Axes>"
      ]
     },
     "metadata": {
      "needs_background": "light"
     },
     "output_type": "display_data"
    }
   ],
   "source": [
    "rmse_over_time(input_, output_1, output_2)"
   ]
  }
 ],
 "metadata": {
  "kernelspec": {
   "display_name": "Python 3",
   "language": "python",
   "name": "python3"
  },
  "language_info": {
   "codemirror_mode": {
    "name": "ipython",
    "version": 3
   },
   "file_extension": ".py",
   "mimetype": "text/x-python",
   "name": "python",
   "nbconvert_exporter": "python",
   "pygments_lexer": "ipython3",
   "version": "3.8.10"
  }
 },
 "nbformat": 4,
 "nbformat_minor": 2
}
