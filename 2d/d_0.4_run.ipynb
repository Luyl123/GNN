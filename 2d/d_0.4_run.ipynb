{
 "cells": [
  {
   "cell_type": "code",
   "execution_count": null,
   "metadata": {},
   "outputs": [
    {
     "name": "stderr",
     "output_type": "stream",
     "text": [
      "/usr/local/lib/python3.8/dist-packages/tqdm/auto.py:22: TqdmWarning: IProgress not found. Please update jupyter and ipywidgets. See https://ipywidgets.readthedocs.io/en/stable/user_install.html\n",
      "  from .autonotebook import tqdm as notebook_tqdm\n"
     ]
    }
   ],
   "source": [
    "import numpy as np\n",
    "import meshio\n",
    "import torch\n",
    "import tensorflow.compat.v1 as tf\n",
    "from torch_geometric.data import Data\n",
    "import torch.nn.functional as F\n",
    "from torch_geometric.loader import DataLoader\n",
    "import pandas as pd\n",
    "import os\n",
    "import time\n",
    "from IPython.lib.display import isdir\n",
    "import random\n",
    "import matplotlib.pyplot as plt\n",
    "import copy\n",
    "from matplotlib import tri as mtri\n",
    "from matplotlib import animation\n",
    "from mpl_toolkits.axes_grid1 import make_axes_locatable\n",
    "\n",
    "from d_pooling import *\n",
    "#from mgn import *\n",
    "from d_tap_processing import *\n",
    "#from global_tpok_mp import *\n",
    "\n",
    "from d_TAP_MP_Attention import *\n",
    "from GTF import *"
   ]
  },
  {
   "cell_type": "markdown",
   "metadata": {},
   "source": [
    "\"\"\"准备数据\"\"\""
   ]
  },
  {
   "cell_type": "code",
   "execution_count": 2,
   "metadata": {},
   "outputs": [],
   "source": [
    "number_trajectories=1\n",
    "number_ts=200   #600\n",
    "satart_number_ts=50\n",
    "per_t=1     #在编码和解码的时候每五个用的点是一样的\n",
    "dt=0.005\n",
    "batch_size = 25\n",
    "dataset_dir = '/root/data1/d_0.4_EMD'\n",
    "path='/root/data1/d_slice_'\n",
    "#get_dataset(number_trajectories,satart_number_ts,number_ts,per_t,batch_size,dataset_dir,path)"
   ]
  },
  {
   "cell_type": "code",
   "execution_count": 17,
   "metadata": {},
   "outputs": [],
   "source": [
    "#get_dataset(number_trajectories,satart_number_ts,number_ts,1,1,dataset_dir,path)\n",
    "data_list_ori=torch.load(dataset_dir+'/meshgraphnets_miniset'+str(1)+str(1)+\n",
    "               str(number_trajectories)+'traj'+str(satart_number_ts)+str(number_ts)+'ts_vis.pt')\n",
    "print(len(data_list_ori))\n",
    "print(data_list_ori[0])\n",
    "number=int(len(data_list_ori)/number_trajectories)\n",
    "\n",
    "pool_num = [7000,6000,5000]#7793\n",
    "perm_list=[]\n",
    "for j in range(number_trajectories):\n",
    "    x=data_list_ori[(j+1)*number-1].x\n",
    "    edge_index=data_list_ori[(j+1)*number-1].edge_index\n",
    "    \n",
    "    perms=[]\n",
    "    for i in range(len(pool_num)):\n",
    "        ratio=pool_num[i]\n",
    "        min_score= None\n",
    "        x, edge_index,perm=TAPooling_Mod( x, ratio,min_score,edge_index,edge_attr=None, batch=None, attn=None)\n",
    "        \n",
    "        perms += [perm]\n",
    "    perm_list.append(perms)\n",
    "\n",
    "torch.save(perm_list,dataset_dir+'/perm_list.pt')"
   ]
  },
  {
   "cell_type": "code",
   "execution_count": 3,
   "metadata": {},
   "outputs": [
    {
     "name": "stdout",
     "output_type": "stream",
     "text": [
      "/root/data1/d_slice_0\n",
      "601\n"
     ]
    },
    {
     "name": "stderr",
     "output_type": "stream",
     "text": [
      "2024-10-20 16:29:42.627410: I tensorflow/core/platform/cpu_feature_guard.cc:151] This TensorFlow binary is optimized with oneAPI Deep Neural Network Library (oneDNN) to use the following CPU instructions in performance-critical operations:  AVX2 AVX512F FMA\n",
      "To enable them in other operations, rebuild TensorFlow with the appropriate compiler flags.\n",
      "2024-10-20 16:29:46.214671: I tensorflow/core/common_runtime/gpu/gpu_device.cc:1525] Created device /job:localhost/replica:0/task:0/device:GPU:0 with 20970 MB memory:  -> device: 0, name: NVIDIA GeForce RTX 4090, pci bus id: 0000:9c:00.0, compute capability: 8.9\n"
     ]
    },
    {
     "name": "stdout",
     "output_type": "stream",
     "text": [
      "Done collecting data!\n",
      "Done saving data!\n",
      "Output Location:  /root/data1/d_0.4_EMD/meshgraphnets_miniset111traj50200ts_vis.pt\n",
      "200\n",
      "7793\n",
      "6500\n",
      "6500\n",
      "4800\n",
      "4800\n",
      "3900\n"
     ]
    }
   ],
   "source": [
    "get_dataset(number_trajectories,satart_number_ts,number_ts,1,1,dataset_dir,path)\n",
    "data_list_ori=torch.load(dataset_dir+'/meshgraphnets_miniset'+str(1)+str(1)+\n",
    "               str(number_trajectories)+'traj'+str(satart_number_ts)+str(number_ts)+'ts_vis.pt')\n",
    "print(len(data_list_ori))\n",
    "number=int(len(data_list_ori)/number_trajectories)\n",
    "\n",
    "pool_num =[6500,4800,3900]#7793\n",
    "\n",
    "data_list_ori=data_list_ori[:100]\n",
    "\n",
    "data_list_pick=copy.deepcopy(data_list_ori)\n",
    "\n",
    "perms=[]\n",
    "perm_list=[]\n",
    "ratio_1_list=[1400,1025,825]#[1600,1425,1025]\n",
    "ratio_2_list=[1400,1025,825]#[1600,1425,1025]\n",
    "ratio_3_list=[1400,1025,825]#[1600,1425,1025]\n",
    "\n",
    "ratio_4_list=[1400,1025,825]#[1600,1425,1025]\n",
    "ratio_5_list=[1000,800,500]\n",
    "ratio_6_list=[2000,1500,1000]#[1000,800,500]\n",
    "\n",
    "\n",
    "x_min_1=0\n",
    "x_max_1=0.103\n",
    "y_min_1=-0.0254\n",
    "y_max_1=-0.005\n",
    "\n",
    "x_min_2=0.103\n",
    "x_max_2=0.206\n",
    "y_min_2=-0.0254\n",
    "y_max_2=-0.005\n",
    "\n",
    "x_min_3=-0.003\n",
    "x_max_3=0.103\n",
    "y_min_3=0.005\n",
    "y_max_3=0.0254\n",
    "\n",
    "x_min_4=0.103\n",
    "x_max_4=0.206\n",
    "y_min_4=0.005\n",
    "y_max_4=0.0254\n",
    "\n",
    "x_min_5=0\n",
    "x_max_5=0.206\n",
    "y_min_5=-0.005\n",
    "y_max_5=0.005\n",
    "\n",
    "x_min_6=-0.0206\n",
    "x_max_6=0.206\n",
    "y_min_6=-0.0254\n",
    "y_max_6=0.0254\n",
    "\n",
    "\n",
    "\n",
    "\n",
    "for i in range(len(pool_num)):\n",
    "      for j in range(len(data_list_ori)):\n",
    "              if j==0:\n",
    "                     sc=data_list_pick[j].x.new_zeros(data_list_pick[j].x.size(0))\n",
    "              ratio_1=ratio_1_list[i]\n",
    "              ratio_2=ratio_2_list[i]\n",
    "              ratio_3=ratio_3_list[i]\n",
    "              ratio_4=ratio_4_list[i]\n",
    "              ratio_5=ratio_5_list[i]\n",
    "              ratio_6=ratio_6_list[i]\n",
    "              \n",
    "              \n",
    "              min_score= None\n",
    "              x=data_list_pick[j].x\n",
    "              edge_index=data_list_pick[j].edge_index\n",
    "              pos=data_list_pick[j].mesh_pos\n",
    "              #mask=x.new_zeros(x.size(0))\n",
    "              mask=TAPooling_Mod(x, pos,ratio_1,ratio_2,ratio_3,ratio_4,ratio_5,ratio_6,\n",
    "                                 x_min_1,x_max_1,y_min_1,y_max_1,\n",
    "                   x_min_2,x_max_2,y_min_2,y_max_2,x_min_3,x_max_3,y_min_3,y_max_3,\n",
    "                   x_min_4,x_max_4,y_min_4,y_max_4,\n",
    "                   x_min_5,x_max_5,y_min_5,y_max_5,\n",
    "                   \n",
    "                   x_min_6,x_max_6,y_min_6,y_max_6,\n",
    "                   \n",
    "                   min_score,edge_index,\n",
    "                                               edge_attr=None, batch=None, attn=None)\n",
    "              #mask[perm]=1\n",
    "              mask=mask.to('cpu')\n",
    "              sc=sc+mask\n",
    "              \n",
    "\n",
    "      _, perm =sc.sort(dim=-1, descending=True)\n",
    "      print(len(perm))\n",
    "      mask = [torch.arange(pool_num[i], dtype=torch.long) ]\n",
    "      perm = perm[mask]\n",
    "      print(len(perm))\n",
    "      perms += [perm]\n",
    "      for k in range(len(data_list_ori)):\n",
    "            edge_index=data_list_pick[k].edge_index\n",
    "            edge_attr=data_list_pick[k].edge_attr\n",
    "            edge_index, edge_attr, edge_mask = filter_adj(edge_index, edge_attr, perm,\n",
    "                                           num_nodes=data_list_pick[k].x.size(0))\n",
    "            data_list_pick[k]. x = data_list_pick[k]. x[perm]\n",
    "            data_list_pick[k].mesh_pos  = data_list_pick[k].mesh_pos[perm]\n",
    "            data_list_pick[k].edge_index= edge_index\n",
    "            data_list_pick[k]. edge_attr =  edge_attr\n",
    "            #print(data_list_pick[k]. x .shape,data_list_pick[k].edge_index.shape,data_list_pick[k]. edge_attr.shape)        \n",
    "             \n",
    "             \n",
    "      \n",
    "\n",
    "perm_list.append(perms)\n",
    "\n",
    "torch.save(perm_list,dataset_dir+'/perm_list_150.pt')"
   ]
  },
  {
   "cell_type": "markdown",
   "metadata": {},
   "source": [
    "optimizer = torch.optim.Adam(model.parameters(), lr=0.001) #weight_decay=1e-4\n",
    "scheduler = torch.optim.lr_scheduler.ReduceLROnPlateau(optimizer, mode='min', factor=0.5,\n",
    "                                patience=5, threshold=0.0000001, threshold_mode='rel',\n",
    "                                cooldown=0, min_lr=0.000001, eps=1e-08, verbose=True)\n"
   ]
  },
  {
   "cell_type": "code",
   "execution_count": 3,
   "metadata": {},
   "outputs": [
    {
     "name": "stdout",
     "output_type": "stream",
     "text": [
      "cuda\n"
     ]
    },
    {
     "name": "stdout",
     "output_type": "stream",
     "text": [
      "cuda:0\n",
      "8\n"
     ]
    },
    {
     "name": "stderr",
     "output_type": "stream",
     "text": [
      "/usr/local/lib/python3.8/dist-packages/torch_geometric/deprecation.py:12: UserWarning: 'data.DataLoader' is deprecated, use 'loader.DataLoader' instead\n",
      "  warnings.warn(out)\n",
      "Training:   0%|          | 1/200 [00:29<1:37:39, 29.45s/Epochs]"
     ]
    },
    {
     "name": "stdout",
     "output_type": "stream",
     "text": [
      "Epoch: 0000,\tTrain mse: 0.94340236,\tTrain_RMSE: 0.97128902,\tTrain_acc: 0.97023559,\tTest mse: 0.81668341,\tTime: 29.44573355s\n"
     ]
    },
    {
     "name": "stderr",
     "output_type": "stream",
     "text": [
      "Training:   2%|▏         | 3/200 [01:26<1:34:16, 28.71s/Epochs]"
     ]
    },
    {
     "name": "stdout",
     "output_type": "stream",
     "text": [
      "Epoch: 0002,\tTrain mse: 0.53944858,\tTrain_RMSE: 0.73447164,\tTrain_acc: 0.73327696,\tTest mse: 0.44560909,\tTime: 28.29183269s\n"
     ]
    },
    {
     "name": "stderr",
     "output_type": "stream",
     "text": [
      "Training:   2%|▎         | 5/200 [02:22<1:31:54, 28.28s/Epochs]"
     ]
    },
    {
     "name": "stdout",
     "output_type": "stream",
     "text": [
      "Epoch: 0004,\tTrain mse: 0.32018698,\tTrain_RMSE: 0.56585067,\tTrain_acc: 0.56486809,\tTest mse: 0.25638211,\tTime: 27.80189681s\n"
     ]
    },
    {
     "name": "stderr",
     "output_type": "stream",
     "text": [
      "Training:   4%|▎         | 7/200 [03:19<1:30:56, 28.27s/Epochs]"
     ]
    },
    {
     "name": "stdout",
     "output_type": "stream",
     "text": [
      "Epoch: 0006,\tTrain mse: 0.18956960,\tTrain_RMSE: 0.43539592,\tTrain_acc: 0.43498817,\tTest mse: 0.17610063,\tTime: 28.52253604s\n"
     ]
    },
    {
     "name": "stderr",
     "output_type": "stream",
     "text": [
      "Training:   4%|▍         | 9/200 [04:17<1:31:24, 28.72s/Epochs]"
     ]
    },
    {
     "name": "stdout",
     "output_type": "stream",
     "text": [
      "Epoch: 0008,\tTrain mse: 0.12708403,\tTrain_RMSE: 0.35648847,\tTrain_acc: 0.35617635,\tTest mse: 0.11463655,\tTime: 29.61912417s\n"
     ]
    },
    {
     "name": "stderr",
     "output_type": "stream",
     "text": [
      "Training:   6%|▌         | 11/200 [05:14<1:30:31, 28.74s/Epochs]"
     ]
    },
    {
     "name": "stdout",
     "output_type": "stream",
     "text": [
      "Epoch: 0010,\tTrain mse: 0.08695591,\tTrain_RMSE: 0.29488288,\tTrain_acc: 0.29453284,\tTest mse: 0.10196314,\tTime: 29.70915222s\n"
     ]
    },
    {
     "name": "stderr",
     "output_type": "stream",
     "text": [
      "Training:   6%|▋         | 13/200 [06:11<1:29:09, 28.61s/Epochs]"
     ]
    },
    {
     "name": "stdout",
     "output_type": "stream",
     "text": [
      "Epoch: 0012,\tTrain mse: 0.06461568,\tTrain_RMSE: 0.25419615,\tTrain_acc: 0.25388789,\tTest mse: 0.06075684,\tTime: 28.70707607s\n"
     ]
    },
    {
     "name": "stderr",
     "output_type": "stream",
     "text": [
      "Training:   8%|▊         | 15/200 [07:07<1:27:38, 28.42s/Epochs]"
     ]
    },
    {
     "name": "stdout",
     "output_type": "stream",
     "text": [
      "Epoch: 0014,\tTrain mse: 0.05399364,\tTrain_RMSE: 0.23236533,\tTrain_acc: 0.23211460,\tTest mse: 0.04786280,\tTime: 28.21179175s\n"
     ]
    },
    {
     "name": "stderr",
     "output_type": "stream",
     "text": [
      "Training:   8%|▊         | 17/200 [08:04<1:26:17, 28.29s/Epochs]"
     ]
    },
    {
     "name": "stdout",
     "output_type": "stream",
     "text": [
      "Epoch: 0016,\tTrain mse: 0.04212237,\tTrain_RMSE: 0.20523736,\tTrain_acc: 0.20511042,\tTest mse: 0.04057144,\tTime: 27.80780339s\n"
     ]
    },
    {
     "name": "stderr",
     "output_type": "stream",
     "text": [
      "Training:  10%|▉         | 19/200 [09:03<1:27:48, 29.11s/Epochs]"
     ]
    },
    {
     "name": "stdout",
     "output_type": "stream",
     "text": [
      "Epoch: 0018,\tTrain mse: 0.03881517,\tTrain_RMSE: 0.19701566,\tTrain_acc: 0.19678660,\tTest mse: 0.03782294,\tTime: 29.60467792s\n"
     ]
    },
    {
     "name": "stderr",
     "output_type": "stream",
     "text": [
      "Training:  10%|█         | 21/200 [10:01<1:26:40, 29.05s/Epochs]"
     ]
    },
    {
     "name": "stdout",
     "output_type": "stream",
     "text": [
      "Epoch: 0020,\tTrain mse: 0.05458534,\tTrain_RMSE: 0.23363505,\tTrain_acc: 0.23253939,\tTest mse: 0.05547496,\tTime: 28.98792386s\n"
     ]
    },
    {
     "name": "stderr",
     "output_type": "stream",
     "text": [
      "Training:  12%|█▏        | 23/200 [10:58<1:24:37, 28.69s/Epochs]"
     ]
    },
    {
     "name": "stdout",
     "output_type": "stream",
     "text": [
      "Epoch: 0022,\tTrain mse: 0.03602988,\tTrain_RMSE: 0.18981539,\tTrain_acc: 0.18961544,\tTest mse: 0.03182015,\tTime: 28.28022909s\n"
     ]
    },
    {
     "name": "stderr",
     "output_type": "stream",
     "text": [
      "Training:  12%|█▎        | 25/200 [11:56<1:23:59, 28.80s/Epochs]"
     ]
    },
    {
     "name": "stdout",
     "output_type": "stream",
     "text": [
      "Epoch: 0024,\tTrain mse: 0.03008511,\tTrain_RMSE: 0.17345059,\tTrain_acc: 0.17334698,\tTest mse: 0.02930957,\tTime: 28.90578222s\n"
     ]
    },
    {
     "name": "stderr",
     "output_type": "stream",
     "text": [
      "Training:  14%|█▎        | 27/200 [12:55<1:24:13, 29.21s/Epochs]"
     ]
    },
    {
     "name": "stdout",
     "output_type": "stream",
     "text": [
      "Epoch: 0026,\tTrain mse: 0.02753804,\tTrain_RMSE: 0.16594591,\tTrain_acc: 0.16584681,\tTest mse: 0.03028165,\tTime: 28.99237251s\n"
     ]
    },
    {
     "name": "stderr",
     "output_type": "stream",
     "text": [
      "Training:  14%|█▍        | 29/200 [13:54<1:23:22, 29.25s/Epochs]"
     ]
    },
    {
     "name": "stdout",
     "output_type": "stream",
     "text": [
      "Epoch: 0028,\tTrain mse: 0.02950731,\tTrain_RMSE: 0.17177693,\tTrain_acc: 0.17150399,\tTest mse: 0.02852317,\tTime: 30.19883299s\n"
     ]
    },
    {
     "name": "stderr",
     "output_type": "stream",
     "text": [
      "Training:  16%|█▌        | 31/200 [14:50<1:21:02, 28.78s/Epochs]"
     ]
    },
    {
     "name": "stdout",
     "output_type": "stream",
     "text": [
      "Epoch: 0030,\tTrain mse: 0.02530844,\tTrain_RMSE: 0.15908628,\tTrain_acc: 0.15898608,\tTest mse: 0.02328261,\tTime: 28.59870934s\n"
     ]
    },
    {
     "name": "stderr",
     "output_type": "stream",
     "text": [
      "Training:  16%|█▋        | 33/200 [15:47<1:19:17, 28.49s/Epochs]"
     ]
    },
    {
     "name": "stdout",
     "output_type": "stream",
     "text": [
      "Epoch: 0032,\tTrain mse: 0.02277254,\tTrain_RMSE: 0.15090573,\tTrain_acc: 0.15082768,\tTest mse: 0.02240276,\tTime: 28.28081298s\n"
     ]
    },
    {
     "name": "stderr",
     "output_type": "stream",
     "text": [
      "Training:  18%|█▊        | 35/200 [16:44<1:18:25, 28.52s/Epochs]"
     ]
    },
    {
     "name": "stdout",
     "output_type": "stream",
     "text": [
      "Epoch: 0034,\tTrain mse: 0.03065313,\tTrain_RMSE: 0.17508035,\tTrain_acc: 0.17395765,\tTest mse: 0.02498118,\tTime: 28.71035790s\n"
     ]
    },
    {
     "name": "stderr",
     "output_type": "stream",
     "text": [
      "Training:  18%|█▊        | 37/200 [17:39<1:16:23, 28.12s/Epochs]"
     ]
    },
    {
     "name": "stdout",
     "output_type": "stream",
     "text": [
      "Epoch: 0036,\tTrain mse: 0.02314043,\tTrain_RMSE: 0.15211979,\tTrain_acc: 0.15200296,\tTest mse: 0.02237045,\tTime: 27.89177370s\n"
     ]
    },
    {
     "name": "stderr",
     "output_type": "stream",
     "text": [
      "Training:  20%|█▉        | 39/200 [18:36<1:16:19, 28.44s/Epochs]"
     ]
    },
    {
     "name": "stdout",
     "output_type": "stream",
     "text": [
      "Epoch: 0038,\tTrain mse: 0.02082075,\tTrain_RMSE: 0.14429398,\tTrain_acc: 0.14421599,\tTest mse: 0.01997150,\tTime: 28.99894404s\n"
     ]
    },
    {
     "name": "stderr",
     "output_type": "stream",
     "text": [
      "Training:  20%|██        | 41/200 [19:33<1:15:07, 28.35s/Epochs]"
     ]
    },
    {
     "name": "stdout",
     "output_type": "stream",
     "text": [
      "Epoch: 0040,\tTrain mse: 0.02079672,\tTrain_RMSE: 0.14421067,\tTrain_acc: 0.14409815,\tTest mse: 0.02478302,\tTime: 28.09843326s\n"
     ]
    },
    {
     "name": "stderr",
     "output_type": "stream",
     "text": [
      "Training:  22%|██▏       | 43/200 [20:29<1:13:50, 28.22s/Epochs]"
     ]
    },
    {
     "name": "stdout",
     "output_type": "stream",
     "text": [
      "Epoch: 0042,\tTrain mse: 0.02227245,\tTrain_RMSE: 0.14923958,\tTrain_acc: 0.14899805,\tTest mse: 0.02244141,\tTime: 28.09993505s\n"
     ]
    },
    {
     "name": "stderr",
     "output_type": "stream",
     "text": [
      "Training:  22%|██▎       | 45/200 [21:25<1:12:05, 27.91s/Epochs]"
     ]
    },
    {
     "name": "stdout",
     "output_type": "stream",
     "text": [
      "Epoch: 0044,\tTrain mse: 0.02045754,\tTrain_RMSE: 0.14302987,\tTrain_acc: 0.14295021,\tTest mse: 0.01934330,\tTime: 27.02278423s\n"
     ]
    },
    {
     "name": "stderr",
     "output_type": "stream",
     "text": [
      "Training:  24%|██▎       | 47/200 [22:20<1:11:20, 27.98s/Epochs]"
     ]
    },
    {
     "name": "stdout",
     "output_type": "stream",
     "text": [
      "Epoch: 0046,\tTrain mse: 0.01899762,\tTrain_RMSE: 0.13783185,\tTrain_acc: 0.13775460,\tTest mse: 0.01861070,\tTime: 28.50881362s\n"
     ]
    },
    {
     "name": "stderr",
     "output_type": "stream",
     "text": [
      "Training:  24%|██▍       | 49/200 [23:17<1:11:03, 28.24s/Epochs]"
     ]
    },
    {
     "name": "stdout",
     "output_type": "stream",
     "text": [
      "Epoch: 0048,\tTrain mse: 0.01994984,\tTrain_RMSE: 0.14124391,\tTrain_acc: 0.14102595,\tTest mse: 0.01797864,\tTime: 28.89873147s\n"
     ]
    },
    {
     "name": "stderr",
     "output_type": "stream",
     "text": [
      "Training:  26%|██▌       | 51/200 [24:15<1:11:03, 28.61s/Epochs]"
     ]
    },
    {
     "name": "stdout",
     "output_type": "stream",
     "text": [
      "Epoch: 0050,\tTrain mse: 0.01835982,\tTrain_RMSE: 0.13549840,\tTrain_acc: 0.13542256,\tTest mse: 0.01846801,\tTime: 28.89850855s\n"
     ]
    },
    {
     "name": "stderr",
     "output_type": "stream",
     "text": [
      "Training:  26%|██▋       | 53/200 [25:13<1:10:34, 28.80s/Epochs]"
     ]
    },
    {
     "name": "stdout",
     "output_type": "stream",
     "text": [
      "Epoch: 0052,\tTrain mse: 0.01758850,\tTrain_RMSE: 0.13262163,\tTrain_acc: 0.13252695,\tTest mse: 0.02047478,\tTime: 28.90563512s\n"
     ]
    },
    {
     "name": "stderr",
     "output_type": "stream",
     "text": [
      "Training:  28%|██▊       | 55/200 [26:09<1:08:19, 28.27s/Epochs]"
     ]
    },
    {
     "name": "stdout",
     "output_type": "stream",
     "text": [
      "Epoch: 0054,\tTrain mse: 0.02296971,\tTrain_RMSE: 0.15155762,\tTrain_acc: 0.15099138,\tTest mse: 0.01803927,\tTime: 27.09947491s\n"
     ]
    },
    {
     "name": "stderr",
     "output_type": "stream",
     "text": [
      "Training:  28%|██▊       | 56/200 [26:39<1:08:44, 28.64s/Epochs]"
     ]
    },
    {
     "name": "stdout",
     "output_type": "stream",
     "text": [
      "Epoch    56: reducing learning rate of group 0 to 5.0000e-04.\n"
     ]
    },
    {
     "name": "stderr",
     "output_type": "stream",
     "text": [
      "Training:  28%|██▊       | 57/200 [27:07<1:07:48, 28.45s/Epochs]"
     ]
    },
    {
     "name": "stdout",
     "output_type": "stream",
     "text": [
      "Epoch: 0056,\tTrain mse: 0.01740532,\tTrain_RMSE: 0.13192924,\tTrain_acc: 0.13185346,\tTest mse: 0.01653412,\tTime: 27.99876714s\n"
     ]
    },
    {
     "name": "stderr",
     "output_type": "stream",
     "text": [
      "Training:  30%|██▉       | 59/200 [28:05<1:08:10, 29.01s/Epochs]"
     ]
    },
    {
     "name": "stdout",
     "output_type": "stream",
     "text": [
      "Epoch: 0058,\tTrain mse: 0.01639819,\tTrain_RMSE: 0.12805542,\tTrain_acc: 0.12799069,\tTest mse: 0.01610395,\tTime: 30.50554156s\n"
     ]
    },
    {
     "name": "stderr",
     "output_type": "stream",
     "text": [
      "Training:  30%|███       | 61/200 [29:03<1:07:14, 29.02s/Epochs]"
     ]
    },
    {
     "name": "stdout",
     "output_type": "stream",
     "text": [
      "Epoch: 0060,\tTrain mse: 0.01588617,\tTrain_RMSE: 0.12604035,\tTrain_acc: 0.12597695,\tTest mse: 0.01564253,\tTime: 29.40587902s\n"
     ]
    },
    {
     "name": "stderr",
     "output_type": "stream",
     "text": [
      "Training:  32%|███▏      | 63/200 [30:08<1:09:26, 30.41s/Epochs]"
     ]
    },
    {
     "name": "stdout",
     "output_type": "stream",
     "text": [
      "Epoch: 0062,\tTrain mse: 0.01553121,\tTrain_RMSE: 0.12462426,\tTrain_acc: 0.12456145,\tTest mse: 0.01531474,\tTime: 29.68180656s\n"
     ]
    },
    {
     "name": "stderr",
     "output_type": "stream",
     "text": [
      "Training:  32%|███▎      | 65/200 [31:08<1:07:55, 30.19s/Epochs]"
     ]
    },
    {
     "name": "stdout",
     "output_type": "stream",
     "text": [
      "Epoch: 0064,\tTrain mse: 0.01523828,\tTrain_RMSE: 0.12344344,\tTrain_acc: 0.12338133,\tTest mse: 0.01504002,\tTime: 29.39231467s\n"
     ]
    },
    {
     "name": "stderr",
     "output_type": "stream",
     "text": [
      "Training:  34%|███▎      | 67/200 [32:05<1:04:53, 29.28s/Epochs]"
     ]
    },
    {
     "name": "stdout",
     "output_type": "stream",
     "text": [
      "Epoch: 0066,\tTrain mse: 0.01497275,\tTrain_RMSE: 0.12236320,\tTrain_acc: 0.12230162,\tTest mse: 0.01478586,\tTime: 28.38613200s\n"
     ]
    },
    {
     "name": "stderr",
     "output_type": "stream",
     "text": [
      "Training:  34%|███▍      | 69/200 [33:01<1:03:07, 28.91s/Epochs]"
     ]
    },
    {
     "name": "stdout",
     "output_type": "stream",
     "text": [
      "Epoch: 0068,\tTrain mse: 0.01472360,\tTrain_RMSE: 0.12134085,\tTrain_acc: 0.12127981,\tTest mse: 0.01454253,\tTime: 29.09871912s\n"
     ]
    },
    {
     "name": "stderr",
     "output_type": "stream",
     "text": [
      "Training:  36%|███▌      | 71/200 [33:58<1:01:35, 28.65s/Epochs]"
     ]
    },
    {
     "name": "stdout",
     "output_type": "stream",
     "text": [
      "Epoch: 0070,\tTrain mse: 0.01448623,\tTrain_RMSE: 0.12035875,\tTrain_acc: 0.12029823,\tTest mse: 0.01431600,\tTime: 28.30361342s\n"
     ]
    },
    {
     "name": "stderr",
     "output_type": "stream",
     "text": [
      "Training:  36%|███▋      | 73/200 [34:57<1:01:11, 28.91s/Epochs]"
     ]
    },
    {
     "name": "stdout",
     "output_type": "stream",
     "text": [
      "Epoch: 0072,\tTrain mse: 0.01426003,\tTrain_RMSE: 0.11941536,\tTrain_acc: 0.11935529,\tTest mse: 0.01408846,\tTime: 28.51254725s\n"
     ]
    },
    {
     "name": "stderr",
     "output_type": "stream",
     "text": [
      "Training:  38%|███▊      | 75/200 [35:52<59:05, 28.37s/Epochs]  "
     ]
    },
    {
     "name": "stdout",
     "output_type": "stream",
     "text": [
      "Epoch: 0074,\tTrain mse: 0.01404202,\tTrain_RMSE: 0.11849902,\tTrain_acc: 0.11843941,\tTest mse: 0.01387278,\tTime: 28.10151577s\n"
     ]
    },
    {
     "name": "stderr",
     "output_type": "stream",
     "text": [
      "Training:  38%|███▊      | 77/200 [36:49<58:00, 28.29s/Epochs]"
     ]
    },
    {
     "name": "stdout",
     "output_type": "stream",
     "text": [
      "Epoch: 0076,\tTrain mse: 0.01382985,\tTrain_RMSE: 0.11760040,\tTrain_acc: 0.11754127,\tTest mse: 0.01366354,\tTime: 28.10071921s\n"
     ]
    },
    {
     "name": "stderr",
     "output_type": "stream",
     "text": [
      "Training:  40%|███▉      | 79/200 [37:47<57:54, 28.72s/Epochs]"
     ]
    },
    {
     "name": "stdout",
     "output_type": "stream",
     "text": [
      "Epoch: 0078,\tTrain mse: 0.01362531,\tTrain_RMSE: 0.11672750,\tTrain_acc: 0.11666880,\tTest mse: 0.01345911,\tTime: 28.49956703s\n"
     ]
    },
    {
     "name": "stderr",
     "output_type": "stream",
     "text": [
      "Training:  40%|████      | 81/200 [38:46<57:25, 28.95s/Epochs]"
     ]
    },
    {
     "name": "stdout",
     "output_type": "stream",
     "text": [
      "Epoch: 0080,\tTrain mse: 0.01342778,\tTrain_RMSE: 0.11587831,\tTrain_acc: 0.11582008,\tTest mse: 0.01325026,\tTime: 28.87810946s\n"
     ]
    },
    {
     "name": "stderr",
     "output_type": "stream",
     "text": [
      "Training:  42%|████▏     | 83/200 [39:41<55:01, 28.21s/Epochs]"
     ]
    },
    {
     "name": "stdout",
     "output_type": "stream",
     "text": [
      "Epoch: 0082,\tTrain mse: 0.01323844,\tTrain_RMSE: 0.11505843,\tTrain_acc: 0.11500065,\tTest mse: 0.01305438,\tTime: 27.29349923s\n"
     ]
    },
    {
     "name": "stderr",
     "output_type": "stream",
     "text": [
      "Training:  42%|████▎     | 85/200 [40:36<53:30, 27.91s/Epochs]"
     ]
    },
    {
     "name": "stdout",
     "output_type": "stream",
     "text": [
      "Epoch: 0084,\tTrain mse: 0.01302382,\tTrain_RMSE: 0.11412194,\tTrain_acc: 0.11406446,\tTest mse: 0.01287994,\tTime: 27.50413680s\n"
     ]
    },
    {
     "name": "stderr",
     "output_type": "stream",
     "text": [
      "Training:  44%|████▎     | 87/200 [41:32<52:31, 27.89s/Epochs]"
     ]
    },
    {
     "name": "stdout",
     "output_type": "stream",
     "text": [
      "Epoch: 0086,\tTrain mse: 0.01285574,\tTrain_RMSE: 0.11338314,\tTrain_acc: 0.11332516,\tTest mse: 0.01316869,\tTime: 27.67687821s\n"
     ]
    },
    {
     "name": "stderr",
     "output_type": "stream",
     "text": [
      "Training:  44%|████▍     | 89/200 [42:28<51:55, 28.07s/Epochs]"
     ]
    },
    {
     "name": "stdout",
     "output_type": "stream",
     "text": [
      "Epoch: 0088,\tTrain mse: 0.01299631,\tTrain_RMSE: 0.11400137,\tTrain_acc: 0.11393512,\tTest mse: 0.01285911,\tTime: 28.90250587s\n"
     ]
    },
    {
     "name": "stderr",
     "output_type": "stream",
     "text": [
      "Training:  46%|████▌     | 91/200 [43:29<53:24, 29.40s/Epochs]"
     ]
    },
    {
     "name": "stdout",
     "output_type": "stream",
     "text": [
      "Epoch: 0090,\tTrain mse: 0.01261783,\tTrain_RMSE: 0.11232912,\tTrain_acc: 0.11226982,\tTest mse: 0.01249569,\tTime: 31.78752446s\n"
     ]
    },
    {
     "name": "stderr",
     "output_type": "stream",
     "text": [
      "Training:  46%|████▋     | 93/200 [44:29<52:26, 29.40s/Epochs]"
     ]
    },
    {
     "name": "stdout",
     "output_type": "stream",
     "text": [
      "Epoch: 0092,\tTrain mse: 0.01227789,\tTrain_RMSE: 0.11080566,\tTrain_acc: 0.11075010,\tTest mse: 0.01205760,\tTime: 28.21323299s\n"
     ]
    },
    {
     "name": "stderr",
     "output_type": "stream",
     "text": [
      "Training:  48%|████▊     | 95/200 [45:26<50:54, 29.09s/Epochs]"
     ]
    },
    {
     "name": "stdout",
     "output_type": "stream",
     "text": [
      "Epoch: 0094,\tTrain mse: 0.01202317,\tTrain_RMSE: 0.10965024,\tTrain_acc: 0.10959500,\tTest mse: 0.01188805,\tTime: 28.51245427s\n"
     ]
    },
    {
     "name": "stderr",
     "output_type": "stream",
     "text": [
      "Training:  48%|████▊     | 97/200 [46:22<48:38, 28.34s/Epochs]"
     ]
    },
    {
     "name": "stdout",
     "output_type": "stream",
     "text": [
      "Epoch: 0096,\tTrain mse: 0.01374312,\tTrain_RMSE: 0.11723104,\tTrain_acc: 0.11712531,\tTest mse: 0.01179370,\tTime: 27.41429377s\n"
     ]
    },
    {
     "name": "stderr",
     "output_type": "stream",
     "text": [
      "Training:  50%|████▉     | 99/200 [47:17<47:15, 28.07s/Epochs]"
     ]
    },
    {
     "name": "stdout",
     "output_type": "stream",
     "text": [
      "Epoch: 0098,\tTrain mse: 0.01194913,\tTrain_RMSE: 0.10931209,\tTrain_acc: 0.10925386,\tTest mse: 0.01148187,\tTime: 27.48576975s\n"
     ]
    },
    {
     "name": "stderr",
     "output_type": "stream",
     "text": [
      "Training:  50%|█████     | 101/200 [48:14<46:33, 28.22s/Epochs]"
     ]
    },
    {
     "name": "stdout",
     "output_type": "stream",
     "text": [
      "Epoch: 0100,\tTrain mse: 0.01158734,\tTrain_RMSE: 0.10764449,\tTrain_acc: 0.10758869,\tTest mse: 0.01127591,\tTime: 28.39287257s\n"
     ]
    },
    {
     "name": "stderr",
     "output_type": "stream",
     "text": [
      "Training:  52%|█████▏    | 103/200 [49:12<46:26, 28.73s/Epochs]"
     ]
    },
    {
     "name": "stdout",
     "output_type": "stream",
     "text": [
      "Epoch: 0102,\tTrain mse: 0.01131647,\tTrain_RMSE: 0.10637890,\tTrain_acc: 0.10632510,\tTest mse: 0.01124665,\tTime: 29.99863839s\n"
     ]
    },
    {
     "name": "stderr",
     "output_type": "stream",
     "text": [
      "Training:  52%|█████▎    | 105/200 [50:10<45:48, 28.93s/Epochs]"
     ]
    },
    {
     "name": "stdout",
     "output_type": "stream",
     "text": [
      "Epoch: 0104,\tTrain mse: 0.01335266,\tTrain_RMSE: 0.11555372,\tTrain_acc: 0.11543655,\tTest mse: 0.01119322,\tTime: 29.01130438s\n"
     ]
    },
    {
     "name": "stderr",
     "output_type": "stream",
     "text": [
      "Training:  54%|█████▎    | 107/200 [51:07<44:31, 28.72s/Epochs]"
     ]
    },
    {
     "name": "stdout",
     "output_type": "stream",
     "text": [
      "Epoch: 0106,\tTrain mse: 0.01127247,\tTrain_RMSE: 0.10617187,\tTrain_acc: 0.10611261,\tTest mse: 0.01081038,\tTime: 28.61250043s\n"
     ]
    },
    {
     "name": "stderr",
     "output_type": "stream",
     "text": [
      "Training:  55%|█████▍    | 109/200 [52:04<43:10, 28.46s/Epochs]"
     ]
    },
    {
     "name": "stdout",
     "output_type": "stream",
     "text": [
      "Epoch: 0108,\tTrain mse: 0.01088111,\tTrain_RMSE: 0.10431255,\tTrain_acc: 0.10425784,\tTest mse: 0.01078764,\tTime: 28.29639292s\n"
     ]
    },
    {
     "name": "stderr",
     "output_type": "stream",
     "text": [
      "Training:  56%|█████▌    | 111/200 [53:01<42:18, 28.52s/Epochs]"
     ]
    },
    {
     "name": "stdout",
     "output_type": "stream",
     "text": [
      "Epoch: 0110,\tTrain mse: 0.01075927,\tTrain_RMSE: 0.10372690,\tTrain_acc: 0.10366895,\tTest mse: 0.01118289,\tTime: 29.32560182s\n"
     ]
    },
    {
     "name": "stderr",
     "output_type": "stream",
     "text": [
      "Training:  56%|█████▋    | 113/200 [53:58<41:28, 28.60s/Epochs]"
     ]
    },
    {
     "name": "stdout",
     "output_type": "stream",
     "text": [
      "Epoch: 0112,\tTrain mse: 0.01121687,\tTrain_RMSE: 0.10590975,\tTrain_acc: 0.10582980,\tTest mse: 0.01142609,\tTime: 28.38334584s\n"
     ]
    },
    {
     "name": "stderr",
     "output_type": "stream",
     "text": [
      "Training:  57%|█████▊    | 115/200 [54:54<40:01, 28.25s/Epochs]"
     ]
    },
    {
     "name": "stdout",
     "output_type": "stream",
     "text": [
      "Epoch: 0114,\tTrain mse: 0.01053362,\tTrain_RMSE: 0.10263342,\tTrain_acc: 0.10257743,\tTest mse: 0.01013576,\tTime: 27.72011805s\n"
     ]
    },
    {
     "name": "stderr",
     "output_type": "stream",
     "text": [
      "Training:  58%|█████▊    | 117/200 [55:49<38:39, 27.94s/Epochs]"
     ]
    },
    {
     "name": "stdout",
     "output_type": "stream",
     "text": [
      "Epoch: 0116,\tTrain mse: 0.01027319,\tTrain_RMSE: 0.10135676,\tTrain_acc: 0.10130547,\tTest mse: 0.01040948,\tTime: 27.38702774s\n"
     ]
    },
    {
     "name": "stderr",
     "output_type": "stream",
     "text": [
      "Training:  60%|█████▉    | 119/200 [56:47<38:07, 28.24s/Epochs]"
     ]
    },
    {
     "name": "stdout",
     "output_type": "stream",
     "text": [
      "Epoch: 0118,\tTrain mse: 0.01041004,\tTrain_RMSE: 0.10202959,\tTrain_acc: 0.10196204,\tTest mse: 0.00989235,\tTime: 28.19853926s\n"
     ]
    },
    {
     "name": "stderr",
     "output_type": "stream",
     "text": [
      "Training:  60%|██████    | 121/200 [57:44<37:17, 28.32s/Epochs]"
     ]
    },
    {
     "name": "stdout",
     "output_type": "stream",
     "text": [
      "Epoch: 0120,\tTrain mse: 0.00988497,\tTrain_RMSE: 0.09942319,\tTrain_acc: 0.09937305,\tTest mse: 0.00974032,\tTime: 27.69585490s\n"
     ]
    },
    {
     "name": "stderr",
     "output_type": "stream",
     "text": [
      "Training:  62%|██████▏   | 123/200 [58:39<35:52, 27.95s/Epochs]"
     ]
    },
    {
     "name": "stdout",
     "output_type": "stream",
     "text": [
      "Epoch: 0122,\tTrain mse: 0.01020678,\tTrain_RMSE: 0.10102859,\tTrain_acc: 0.10094278,\tTest mse: 0.01242271,\tTime: 27.59377289s\n"
     ]
    },
    {
     "name": "stderr",
     "output_type": "stream",
     "text": [
      "Training:  62%|██████▎   | 125/200 [59:36<35:19, 28.26s/Epochs]"
     ]
    },
    {
     "name": "stdout",
     "output_type": "stream",
     "text": [
      "Epoch: 0124,\tTrain mse: 0.01118153,\tTrain_RMSE: 0.10574276,\tTrain_acc: 0.10565415,\tTest mse: 0.01081518,\tTime: 29.08139086s\n"
     ]
    },
    {
     "name": "stderr",
     "output_type": "stream",
     "text": [
      "Training:  64%|██████▎   | 127/200 [1:00:34<34:56, 28.72s/Epochs]"
     ]
    },
    {
     "name": "stdout",
     "output_type": "stream",
     "text": [
      "Epoch: 0126,\tTrain mse: 0.01004482,\tTrain_RMSE: 0.10022383,\tTrain_acc: 0.10015994,\tTest mse: 0.00989928,\tTime: 28.71202588s\n"
     ]
    },
    {
     "name": "stderr",
     "output_type": "stream",
     "text": [
      "Training:  64%|██████▍   | 129/200 [1:01:33<34:19, 29.01s/Epochs]"
     ]
    },
    {
     "name": "stdout",
     "output_type": "stream",
     "text": [
      "Epoch: 0128,\tTrain mse: 0.00966246,\tTrain_RMSE: 0.09829782,\tTrain_acc: 0.09824686,\tTest mse: 0.00936388,\tTime: 29.49133444s\n"
     ]
    },
    {
     "name": "stderr",
     "output_type": "stream",
     "text": [
      "Training:  66%|██████▌   | 131/200 [1:02:30<33:14, 28.91s/Epochs]"
     ]
    },
    {
     "name": "stdout",
     "output_type": "stream",
     "text": [
      "Epoch: 0130,\tTrain mse: 0.00940742,\tTrain_RMSE: 0.09699187,\tTrain_acc: 0.09694270,\tTest mse: 0.00921230,\tTime: 28.89472771s\n"
     ]
    },
    {
     "name": "stderr",
     "output_type": "stream",
     "text": [
      "Training:  66%|██████▋   | 133/200 [1:03:28<32:21, 28.98s/Epochs]"
     ]
    },
    {
     "name": "stdout",
     "output_type": "stream",
     "text": [
      "Epoch: 0132,\tTrain mse: 0.00920674,\tTrain_RMSE: 0.09595176,\tTrain_acc: 0.09590317,\tTest mse: 0.00913747,\tTime: 29.20515990s\n"
     ]
    },
    {
     "name": "stderr",
     "output_type": "stream",
     "text": [
      "Training:  68%|██████▊   | 135/200 [1:04:26<31:12, 28.81s/Epochs]"
     ]
    },
    {
     "name": "stdout",
     "output_type": "stream",
     "text": [
      "Epoch: 0134,\tTrain mse: 0.01201025,\tTrain_RMSE: 0.10959129,\tTrain_acc: 0.10921647,\tTest mse: 0.01064523,\tTime: 27.91812253s\n"
     ]
    },
    {
     "name": "stderr",
     "output_type": "stream",
     "text": [
      "Training:  68%|██████▊   | 137/200 [1:05:21<29:32, 28.14s/Epochs]"
     ]
    },
    {
     "name": "stdout",
     "output_type": "stream",
     "text": [
      "Epoch: 0136,\tTrain mse: 0.00954655,\tTrain_RMSE: 0.09770647,\tTrain_acc: 0.09764113,\tTest mse: 0.00904815,\tTime: 27.29764462s\n"
     ]
    },
    {
     "name": "stderr",
     "output_type": "stream",
     "text": [
      "Training:  70%|██████▉   | 139/200 [1:06:17<28:31, 28.06s/Epochs]"
     ]
    },
    {
     "name": "stdout",
     "output_type": "stream",
     "text": [
      "Epoch: 0138,\tTrain mse: 0.00906028,\tTrain_RMSE: 0.09518548,\tTrain_acc: 0.09513592,\tTest mse: 0.00889943,\tTime: 28.09817910s\n"
     ]
    },
    {
     "name": "stderr",
     "output_type": "stream",
     "text": [
      "Training:  70%|███████   | 141/200 [1:07:15<27:58, 28.45s/Epochs]"
     ]
    },
    {
     "name": "stdout",
     "output_type": "stream",
     "text": [
      "Epoch: 0140,\tTrain mse: 0.00890674,\tTrain_RMSE: 0.09437555,\tTrain_acc: 0.09432735,\tTest mse: 0.00878927,\tTime: 28.90593529s\n"
     ]
    },
    {
     "name": "stderr",
     "output_type": "stream",
     "text": [
      "Training:  72%|███████▏  | 143/200 [1:08:12<27:17, 28.73s/Epochs]"
     ]
    },
    {
     "name": "stdout",
     "output_type": "stream",
     "text": [
      "Epoch: 0142,\tTrain mse: 0.01213918,\tTrain_RMSE: 0.11017793,\tTrain_acc: 0.10988340,\tTest mse: 0.00911039,\tTime: 29.49666095s\n"
     ]
    },
    {
     "name": "stderr",
     "output_type": "stream",
     "text": [
      "Training:  72%|███████▎  | 145/200 [1:09:09<26:05, 28.47s/Epochs]"
     ]
    },
    {
     "name": "stdout",
     "output_type": "stream",
     "text": [
      "Epoch: 0144,\tTrain mse: 0.00931180,\tTrain_RMSE: 0.09649769,\tTrain_acc: 0.09643064,\tTest mse: 0.00889297,\tTime: 27.81014729s\n"
     ]
    },
    {
     "name": "stderr",
     "output_type": "stream",
     "text": [
      "Training:  74%|███████▎  | 147/200 [1:10:05<24:53, 28.18s/Epochs]"
     ]
    },
    {
     "name": "stdout",
     "output_type": "stream",
     "text": [
      "Epoch: 0146,\tTrain mse: 0.00882348,\tTrain_RMSE: 0.09393340,\tTrain_acc: 0.09388516,\tTest mse: 0.00874512,\tTime: 27.89893484s\n"
     ]
    },
    {
     "name": "stderr",
     "output_type": "stream",
     "text": [
      "Training:  74%|███████▍  | 149/200 [1:11:00<23:45, 27.95s/Epochs]"
     ]
    },
    {
     "name": "stdout",
     "output_type": "stream",
     "text": [
      "Epoch: 0148,\tTrain mse: 0.00860905,\tTrain_RMSE: 0.09278495,\tTrain_acc: 0.09273811,\tTest mse: 0.00850586,\tTime: 27.89897823s\n"
     ]
    },
    {
     "name": "stderr",
     "output_type": "stream",
     "text": [
      "Training:  76%|███████▌  | 151/200 [1:11:57<22:55, 28.08s/Epochs]"
     ]
    },
    {
     "name": "stdout",
     "output_type": "stream",
     "text": [
      "Epoch: 0150,\tTrain mse: 0.00926074,\tTrain_RMSE: 0.09623275,\tTrain_acc: 0.09613106,\tTest mse: 0.01108144,\tTime: 27.99865389s\n"
     ]
    },
    {
     "name": "stderr",
     "output_type": "stream",
     "text": [
      "Training:  76%|███████▋  | 153/200 [1:12:53<21:55, 27.99s/Epochs]"
     ]
    },
    {
     "name": "stdout",
     "output_type": "stream",
     "text": [
      "Epoch: 0152,\tTrain mse: 0.00892167,\tTrain_RMSE: 0.09445457,\tTrain_acc: 0.09439392,\tTest mse: 0.00839824,\tTime: 27.89790130s\n"
     ]
    },
    {
     "name": "stderr",
     "output_type": "stream",
     "text": [
      "Training:  78%|███████▊  | 155/200 [1:13:50<21:17, 28.38s/Epochs]"
     ]
    },
    {
     "name": "stdout",
     "output_type": "stream",
     "text": [
      "Epoch: 0154,\tTrain mse: 0.00872016,\tTrain_RMSE: 0.09338180,\tTrain_acc: 0.09332521,\tTest mse: 0.00854673,\tTime: 28.30539489s\n"
     ]
    },
    {
     "name": "stderr",
     "output_type": "stream",
     "text": [
      "Training:  78%|███████▊  | 157/200 [1:14:48<20:31, 28.63s/Epochs]"
     ]
    },
    {
     "name": "stdout",
     "output_type": "stream",
     "text": [
      "Epoch: 0156,\tTrain mse: 0.00862292,\tTrain_RMSE: 0.09285967,\tTrain_acc: 0.09280978,\tTest mse: 0.00841600,\tTime: 28.78960943s\n"
     ]
    },
    {
     "name": "stderr",
     "output_type": "stream",
     "text": [
      "Training:  80%|███████▉  | 159/200 [1:15:47<19:45, 28.92s/Epochs]"
     ]
    },
    {
     "name": "stdout",
     "output_type": "stream",
     "text": [
      "Epoch: 0158,\tTrain mse: 0.00896230,\tTrain_RMSE: 0.09466944,\tTrain_acc: 0.09460346,\tTest mse: 0.00967206,\tTime: 28.69991136s\n",
      "Epoch   159: reducing learning rate of group 0 to 2.5000e-04.\n"
     ]
    },
    {
     "name": "stderr",
     "output_type": "stream",
     "text": [
      "Training:  80%|████████  | 161/200 [1:16:44<18:43, 28.80s/Epochs]"
     ]
    },
    {
     "name": "stdout",
     "output_type": "stream",
     "text": [
      "Epoch: 0160,\tTrain mse: 0.00842599,\tTrain_RMSE: 0.09179318,\tTrain_acc: 0.09173252,\tTest mse: 0.00843337,\tTime: 28.18973947s\n"
     ]
    },
    {
     "name": "stderr",
     "output_type": "stream",
     "text": [
      "Training:  82%|████████▏ | 163/200 [1:17:40<17:30, 28.38s/Epochs]"
     ]
    },
    {
     "name": "stdout",
     "output_type": "stream",
     "text": [
      "Epoch: 0162,\tTrain mse: 0.00821456,\tTrain_RMSE: 0.09063422,\tTrain_acc: 0.09058689,\tTest mse: 0.00815502,\tTime: 28.30637026s\n"
     ]
    },
    {
     "name": "stderr",
     "output_type": "stream",
     "text": [
      "Training:  82%|████████▎ | 165/200 [1:18:36<16:29, 28.26s/Epochs]"
     ]
    },
    {
     "name": "stdout",
     "output_type": "stream",
     "text": [
      "Epoch: 0164,\tTrain mse: 0.00813334,\tTrain_RMSE: 0.09018505,\tTrain_acc: 0.09013901,\tTest mse: 0.00805255,\tTime: 27.89865589s\n"
     ]
    },
    {
     "name": "stderr",
     "output_type": "stream",
     "text": [
      "Training:  84%|████████▎ | 167/200 [1:19:32<15:20, 27.91s/Epochs]"
     ]
    },
    {
     "name": "stdout",
     "output_type": "stream",
     "text": [
      "Epoch: 0166,\tTrain mse: 0.00808917,\tTrain_RMSE: 0.08993983,\tTrain_acc: 0.08989408,\tTest mse: 0.00800420,\tTime: 27.40867257s\n"
     ]
    },
    {
     "name": "stderr",
     "output_type": "stream",
     "text": [
      "Training:  84%|████████▍ | 169/200 [1:20:29<14:34, 28.19s/Epochs]"
     ]
    },
    {
     "name": "stdout",
     "output_type": "stream",
     "text": [
      "Epoch: 0168,\tTrain mse: 0.00805349,\tTrain_RMSE: 0.08974125,\tTrain_acc: 0.08969565,\tTest mse: 0.00796718,\tTime: 28.59633899s\n"
     ]
    },
    {
     "name": "stderr",
     "output_type": "stream",
     "text": [
      "Training:  86%|████████▌ | 171/200 [1:21:24<13:32, 28.03s/Epochs]"
     ]
    },
    {
     "name": "stdout",
     "output_type": "stream",
     "text": [
      "Epoch: 0170,\tTrain mse: 0.00801800,\tTrain_RMSE: 0.08954327,\tTrain_acc: 0.08949774,\tTest mse: 0.00793350,\tTime: 27.90621352s\n"
     ]
    },
    {
     "name": "stderr",
     "output_type": "stream",
     "text": [
      "Training:  86%|████████▋ | 173/200 [1:22:20<12:35, 28.00s/Epochs]"
     ]
    },
    {
     "name": "stdout",
     "output_type": "stream",
     "text": [
      "Epoch: 0172,\tTrain mse: 0.00798446,\tTrain_RMSE: 0.08935581,\tTrain_acc: 0.08931037,\tTest mse: 0.00790076,\tTime: 27.60953927s\n"
     ]
    },
    {
     "name": "stderr",
     "output_type": "stream",
     "text": [
      "Training:  88%|████████▊ | 175/200 [1:23:17<11:44, 28.19s/Epochs]"
     ]
    },
    {
     "name": "stdout",
     "output_type": "stream",
     "text": [
      "Epoch: 0174,\tTrain mse: 0.00795160,\tTrain_RMSE: 0.08917176,\tTrain_acc: 0.08912640,\tTest mse: 0.00786846,\tTime: 28.48575950s\n"
     ]
    },
    {
     "name": "stderr",
     "output_type": "stream",
     "text": [
      "Training:  88%|████████▊ | 177/200 [1:24:13<10:44, 28.04s/Epochs]"
     ]
    },
    {
     "name": "stdout",
     "output_type": "stream",
     "text": [
      "Epoch: 0176,\tTrain mse: 0.00791870,\tTrain_RMSE: 0.08898707,\tTrain_acc: 0.08894180,\tTest mse: 0.00783679,\tTime: 28.59325242s\n"
     ]
    },
    {
     "name": "stderr",
     "output_type": "stream",
     "text": [
      "Training:  90%|████████▉ | 179/200 [1:25:08<09:45, 27.90s/Epochs]"
     ]
    },
    {
     "name": "stdout",
     "output_type": "stream",
     "text": [
      "Epoch: 0178,\tTrain mse: 0.00788600,\tTrain_RMSE: 0.08880317,\tTrain_acc: 0.08875800,\tTest mse: 0.00780518,\tTime: 27.59866118s\n"
     ]
    },
    {
     "name": "stderr",
     "output_type": "stream",
     "text": [
      "Training:  90%|█████████ | 181/200 [1:26:04<08:49, 27.87s/Epochs]"
     ]
    },
    {
     "name": "stdout",
     "output_type": "stream",
     "text": [
      "Epoch: 0180,\tTrain mse: 0.00785418,\tTrain_RMSE: 0.08862379,\tTrain_acc: 0.08857867,\tTest mse: 0.00777315,\tTime: 27.79643893s\n"
     ]
    },
    {
     "name": "stderr",
     "output_type": "stream",
     "text": [
      "Training:  92%|█████████▏| 183/200 [1:27:00<07:53, 27.85s/Epochs]"
     ]
    },
    {
     "name": "stdout",
     "output_type": "stream",
     "text": [
      "Epoch: 0182,\tTrain mse: 0.00782239,\tTrain_RMSE: 0.08844430,\tTrain_acc: 0.08839925,\tTest mse: 0.00774127,\tTime: 27.71202707s\n"
     ]
    },
    {
     "name": "stderr",
     "output_type": "stream",
     "text": [
      "Training:  92%|█████████▎| 185/200 [1:27:55<06:55, 27.73s/Epochs]"
     ]
    },
    {
     "name": "stdout",
     "output_type": "stream",
     "text": [
      "Epoch: 0184,\tTrain mse: 0.00779075,\tTrain_RMSE: 0.08826521,\tTrain_acc: 0.08822025,\tTest mse: 0.00770967,\tTime: 27.20597410s\n"
     ]
    },
    {
     "name": "stderr",
     "output_type": "stream",
     "text": [
      "Training:  94%|█████████▎| 187/200 [1:28:51<05:59, 27.68s/Epochs]"
     ]
    },
    {
     "name": "stdout",
     "output_type": "stream",
     "text": [
      "Epoch: 0186,\tTrain mse: 0.00775827,\tTrain_RMSE: 0.08808104,\tTrain_acc: 0.08803617,\tTest mse: 0.00767565,\tTime: 26.90587401s\n"
     ]
    },
    {
     "name": "stderr",
     "output_type": "stream",
     "text": [
      "Training:  94%|█████████▍| 189/200 [1:29:46<05:04, 27.66s/Epochs]"
     ]
    },
    {
     "name": "stdout",
     "output_type": "stream",
     "text": [
      "Epoch: 0188,\tTrain mse: 0.00772576,\tTrain_RMSE: 0.08789629,\tTrain_acc: 0.08785153,\tTest mse: 0.00764382,\tTime: 27.80530572s\n"
     ]
    },
    {
     "name": "stderr",
     "output_type": "stream",
     "text": [
      "Training:  96%|█████████▌| 191/200 [1:30:42<04:10, 27.87s/Epochs]"
     ]
    },
    {
     "name": "stdout",
     "output_type": "stream",
     "text": [
      "Epoch: 0190,\tTrain mse: 0.00769266,\tTrain_RMSE: 0.08770781,\tTrain_acc: 0.08766314,\tTest mse: 0.00761278,\tTime: 28.19868588s\n"
     ]
    },
    {
     "name": "stderr",
     "output_type": "stream",
     "text": [
      "Training:  96%|█████████▋| 193/200 [1:31:37<03:15, 27.88s/Epochs]"
     ]
    },
    {
     "name": "stdout",
     "output_type": "stream",
     "text": [
      "Epoch: 0192,\tTrain mse: 0.00766034,\tTrain_RMSE: 0.08752335,\tTrain_acc: 0.08747877,\tTest mse: 0.00758094,\tTime: 28.27974534s\n"
     ]
    },
    {
     "name": "stderr",
     "output_type": "stream",
     "text": [
      "Training:  98%|█████████▊| 195/200 [1:32:34<02:19, 27.98s/Epochs]"
     ]
    },
    {
     "name": "stdout",
     "output_type": "stream",
     "text": [
      "Epoch: 0194,\tTrain mse: 0.00762900,\tTrain_RMSE: 0.08734413,\tTrain_acc: 0.08729963,\tTest mse: 0.00754964,\tTime: 27.99805427s\n"
     ]
    },
    {
     "name": "stderr",
     "output_type": "stream",
     "text": [
      "Training:  98%|█████████▊| 197/200 [1:33:28<01:23, 27.69s/Epochs]"
     ]
    },
    {
     "name": "stdout",
     "output_type": "stream",
     "text": [
      "Epoch: 0196,\tTrain mse: 0.00759677,\tTrain_RMSE: 0.08715947,\tTrain_acc: 0.08711506,\tTest mse: 0.00751792,\tTime: 27.49261856s\n"
     ]
    },
    {
     "name": "stderr",
     "output_type": "stream",
     "text": [
      "Training: 100%|█████████▉| 199/200 [1:34:24<00:27, 27.80s/Epochs]"
     ]
    },
    {
     "name": "stdout",
     "output_type": "stream",
     "text": [
      "Epoch: 0198,\tTrain mse: 0.00756466,\tTrain_RMSE: 0.08697505,\tTrain_acc: 0.08693073,\tTest mse: 0.00748653,\tTime: 27.81989861s\n"
     ]
    },
    {
     "name": "stderr",
     "output_type": "stream",
     "text": [
      "Training: 100%|██████████| 200/200 [1:34:52<00:00, 28.46s/Epochs]\n"
     ]
    },
    {
     "name": "stdout",
     "output_type": "stream",
     "text": [
      "Model.state_dict:\n",
      "node_encode.0.weight \t torch.Size([26, 2])\n",
      "node_encode.0.bias \t torch.Size([26])\n",
      "node_encode.1.weight \t torch.Size([26, 26])\n",
      "node_encode.1.bias \t torch.Size([26])\n",
      "node_encode.2.weight \t torch.Size([26, 26])\n",
      "node_encode.2.bias \t torch.Size([26])\n",
      "node_encode.3.weight \t torch.Size([26, 26])\n",
      "node_encode.3.bias \t torch.Size([26])\n",
      "node_encode_norm.weight \t torch.Size([26])\n",
      "node_encode_norm.bias \t torch.Size([26])\n",
      "edge_encode.0.weight \t torch.Size([26, 3])\n",
      "edge_encode.0.bias \t torch.Size([26])\n",
      "edge_encode.1.weight \t torch.Size([26, 26])\n",
      "edge_encode.1.bias \t torch.Size([26])\n",
      "edge_encode.2.weight \t torch.Size([26, 26])\n",
      "edge_encode.2.bias \t torch.Size([26])\n",
      "edge_encode.3.weight \t torch.Size([26, 26])\n",
      "edge_encode.3.bias \t torch.Size([26])\n",
      "edge_encode_norm.weight \t torch.Size([26])\n",
      "edge_encode_norm.bias \t torch.Size([26])\n",
      "edge_down_mps.0.0.0.weight \t torch.Size([26, 78])\n",
      "edge_down_mps.0.0.0.bias \t torch.Size([26])\n",
      "edge_down_mps.0.0.1.weight \t torch.Size([26, 26])\n",
      "edge_down_mps.0.0.1.bias \t torch.Size([26])\n",
      "edge_down_mps.0.0.2.weight \t torch.Size([26, 26])\n",
      "edge_down_mps.0.0.2.bias \t torch.Size([26])\n",
      "edge_down_mps.0.0.3.weight \t torch.Size([26, 26])\n",
      "edge_down_mps.0.0.3.bias \t torch.Size([26])\n",
      "edge_down_mps.0.0.4.weight \t torch.Size([26, 26])\n",
      "edge_down_mps.0.0.4.bias \t torch.Size([26])\n",
      "edge_down_mps.0.1.0.weight \t torch.Size([26, 78])\n",
      "edge_down_mps.0.1.0.bias \t torch.Size([26])\n",
      "edge_down_mps.0.1.1.weight \t torch.Size([26, 26])\n",
      "edge_down_mps.0.1.1.bias \t torch.Size([26])\n",
      "edge_down_mps.0.1.2.weight \t torch.Size([26, 26])\n",
      "edge_down_mps.0.1.2.bias \t torch.Size([26])\n",
      "edge_down_mps.0.1.3.weight \t torch.Size([26, 26])\n",
      "edge_down_mps.0.1.3.bias \t torch.Size([26])\n",
      "edge_down_mps.0.1.4.weight \t torch.Size([26, 26])\n",
      "edge_down_mps.0.1.4.bias \t torch.Size([26])\n",
      "edge_down_mps.1.0.0.weight \t torch.Size([26, 78])\n",
      "edge_down_mps.1.0.0.bias \t torch.Size([26])\n",
      "edge_down_mps.1.0.1.weight \t torch.Size([26, 26])\n",
      "edge_down_mps.1.0.1.bias \t torch.Size([26])\n",
      "edge_down_mps.1.0.2.weight \t torch.Size([26, 26])\n",
      "edge_down_mps.1.0.2.bias \t torch.Size([26])\n",
      "edge_down_mps.1.0.3.weight \t torch.Size([26, 26])\n",
      "edge_down_mps.1.0.3.bias \t torch.Size([26])\n",
      "edge_down_mps.1.0.4.weight \t torch.Size([26, 26])\n",
      "edge_down_mps.1.0.4.bias \t torch.Size([26])\n",
      "edge_down_mps.1.1.0.weight \t torch.Size([26, 78])\n",
      "edge_down_mps.1.1.0.bias \t torch.Size([26])\n",
      "edge_down_mps.1.1.1.weight \t torch.Size([26, 26])\n",
      "edge_down_mps.1.1.1.bias \t torch.Size([26])\n",
      "edge_down_mps.1.1.2.weight \t torch.Size([26, 26])\n",
      "edge_down_mps.1.1.2.bias \t torch.Size([26])\n",
      "edge_down_mps.1.1.3.weight \t torch.Size([26, 26])\n",
      "edge_down_mps.1.1.3.bias \t torch.Size([26])\n",
      "edge_down_mps.1.1.4.weight \t torch.Size([26, 26])\n",
      "edge_down_mps.1.1.4.bias \t torch.Size([26])\n",
      "edge_down_mps.2.0.0.weight \t torch.Size([26, 78])\n",
      "edge_down_mps.2.0.0.bias \t torch.Size([26])\n",
      "edge_down_mps.2.0.1.weight \t torch.Size([26, 26])\n",
      "edge_down_mps.2.0.1.bias \t torch.Size([26])\n",
      "edge_down_mps.2.0.2.weight \t torch.Size([26, 26])\n",
      "edge_down_mps.2.0.2.bias \t torch.Size([26])\n",
      "edge_down_mps.2.0.3.weight \t torch.Size([26, 26])\n",
      "edge_down_mps.2.0.3.bias \t torch.Size([26])\n",
      "edge_down_mps.2.0.4.weight \t torch.Size([26, 26])\n",
      "edge_down_mps.2.0.4.bias \t torch.Size([26])\n",
      "edge_down_mps.3.0.0.weight \t torch.Size([26, 78])\n",
      "edge_down_mps.3.0.0.bias \t torch.Size([26])\n",
      "edge_down_mps.3.0.1.weight \t torch.Size([26, 26])\n",
      "edge_down_mps.3.0.1.bias \t torch.Size([26])\n",
      "edge_down_mps.3.0.2.weight \t torch.Size([26, 26])\n",
      "edge_down_mps.3.0.2.bias \t torch.Size([26])\n",
      "edge_down_mps.3.0.3.weight \t torch.Size([26, 26])\n",
      "edge_down_mps.3.0.3.bias \t torch.Size([26])\n",
      "edge_down_mps.3.0.4.weight \t torch.Size([26, 26])\n",
      "edge_down_mps.3.0.4.bias \t torch.Size([26])\n",
      "edge_down_norms.0.0.weight \t torch.Size([26])\n",
      "edge_down_norms.0.0.bias \t torch.Size([26])\n",
      "edge_down_norms.0.1.weight \t torch.Size([26])\n",
      "edge_down_norms.0.1.bias \t torch.Size([26])\n",
      "edge_down_norms.1.0.weight \t torch.Size([26])\n",
      "edge_down_norms.1.0.bias \t torch.Size([26])\n",
      "edge_down_norms.1.1.weight \t torch.Size([26])\n",
      "edge_down_norms.1.1.bias \t torch.Size([26])\n",
      "edge_down_norms.2.0.weight \t torch.Size([26])\n",
      "edge_down_norms.2.0.bias \t torch.Size([26])\n",
      "edge_down_norms.3.0.weight \t torch.Size([26])\n",
      "edge_down_norms.3.0.bias \t torch.Size([26])\n",
      "node_down_mps.0.0.0.weight \t torch.Size([26, 52])\n",
      "node_down_mps.0.0.0.bias \t torch.Size([26])\n",
      "node_down_mps.0.0.1.weight \t torch.Size([26, 26])\n",
      "node_down_mps.0.0.1.bias \t torch.Size([26])\n",
      "node_down_mps.0.0.2.weight \t torch.Size([26, 26])\n",
      "node_down_mps.0.0.2.bias \t torch.Size([26])\n",
      "node_down_mps.0.0.3.weight \t torch.Size([26, 26])\n",
      "node_down_mps.0.0.3.bias \t torch.Size([26])\n",
      "node_down_mps.0.0.4.weight \t torch.Size([26, 26])\n",
      "node_down_mps.0.0.4.bias \t torch.Size([26])\n",
      "node_down_mps.0.1.0.weight \t torch.Size([26, 52])\n",
      "node_down_mps.0.1.0.bias \t torch.Size([26])\n",
      "node_down_mps.0.1.1.weight \t torch.Size([26, 26])\n",
      "node_down_mps.0.1.1.bias \t torch.Size([26])\n",
      "node_down_mps.0.1.2.weight \t torch.Size([26, 26])\n",
      "node_down_mps.0.1.2.bias \t torch.Size([26])\n",
      "node_down_mps.0.1.3.weight \t torch.Size([26, 26])\n",
      "node_down_mps.0.1.3.bias \t torch.Size([26])\n",
      "node_down_mps.0.1.4.weight \t torch.Size([26, 26])\n",
      "node_down_mps.0.1.4.bias \t torch.Size([26])\n",
      "node_down_mps.1.0.0.weight \t torch.Size([26, 84])\n",
      "node_down_mps.1.0.0.bias \t torch.Size([26])\n",
      "node_down_mps.1.0.1.weight \t torch.Size([26, 26])\n",
      "node_down_mps.1.0.1.bias \t torch.Size([26])\n",
      "node_down_mps.1.0.2.weight \t torch.Size([26, 26])\n",
      "node_down_mps.1.0.2.bias \t torch.Size([26])\n",
      "node_down_mps.1.0.3.weight \t torch.Size([26, 26])\n",
      "node_down_mps.1.0.3.bias \t torch.Size([26])\n",
      "node_down_mps.1.0.4.weight \t torch.Size([26, 26])\n",
      "node_down_mps.1.0.4.bias \t torch.Size([26])\n",
      "node_down_mps.1.1.0.weight \t torch.Size([26, 84])\n",
      "node_down_mps.1.1.0.bias \t torch.Size([26])\n",
      "node_down_mps.1.1.1.weight \t torch.Size([26, 26])\n",
      "node_down_mps.1.1.1.bias \t torch.Size([26])\n",
      "node_down_mps.1.1.2.weight \t torch.Size([26, 26])\n",
      "node_down_mps.1.1.2.bias \t torch.Size([26])\n",
      "node_down_mps.1.1.3.weight \t torch.Size([26, 26])\n",
      "node_down_mps.1.1.3.bias \t torch.Size([26])\n",
      "node_down_mps.1.1.4.weight \t torch.Size([26, 26])\n",
      "node_down_mps.1.1.4.bias \t torch.Size([26])\n",
      "node_down_mps.2.0.0.weight \t torch.Size([26, 84])\n",
      "node_down_mps.2.0.0.bias \t torch.Size([26])\n",
      "node_down_mps.2.0.1.weight \t torch.Size([26, 26])\n",
      "node_down_mps.2.0.1.bias \t torch.Size([26])\n",
      "node_down_mps.2.0.2.weight \t torch.Size([26, 26])\n",
      "node_down_mps.2.0.2.bias \t torch.Size([26])\n",
      "node_down_mps.2.0.3.weight \t torch.Size([26, 26])\n",
      "node_down_mps.2.0.3.bias \t torch.Size([26])\n",
      "node_down_mps.2.0.4.weight \t torch.Size([26, 26])\n",
      "node_down_mps.2.0.4.bias \t torch.Size([26])\n",
      "node_down_mps.3.0.0.weight \t torch.Size([26, 84])\n",
      "node_down_mps.3.0.0.bias \t torch.Size([26])\n",
      "node_down_mps.3.0.1.weight \t torch.Size([26, 26])\n",
      "node_down_mps.3.0.1.bias \t torch.Size([26])\n",
      "node_down_mps.3.0.2.weight \t torch.Size([26, 26])\n",
      "node_down_mps.3.0.2.bias \t torch.Size([26])\n",
      "node_down_mps.3.0.3.weight \t torch.Size([26, 26])\n",
      "node_down_mps.3.0.3.bias \t torch.Size([26])\n",
      "node_down_mps.3.0.4.weight \t torch.Size([26, 26])\n",
      "node_down_mps.3.0.4.bias \t torch.Size([26])\n",
      "node_down_norms.0.0.weight \t torch.Size([26])\n",
      "node_down_norms.0.0.bias \t torch.Size([26])\n",
      "node_down_norms.0.1.weight \t torch.Size([26])\n",
      "node_down_norms.0.1.bias \t torch.Size([26])\n",
      "node_down_norms.1.0.weight \t torch.Size([26])\n",
      "node_down_norms.1.0.bias \t torch.Size([26])\n",
      "node_down_norms.1.1.weight \t torch.Size([26])\n",
      "node_down_norms.1.1.bias \t torch.Size([26])\n",
      "node_down_norms.2.0.weight \t torch.Size([26])\n",
      "node_down_norms.2.0.bias \t torch.Size([26])\n",
      "node_down_norms.3.0.weight \t torch.Size([26])\n",
      "node_down_norms.3.0.bias \t torch.Size([26])\n",
      "edge_up_mps.0.0.0.weight \t torch.Size([26, 78])\n",
      "edge_up_mps.0.0.0.bias \t torch.Size([26])\n",
      "edge_up_mps.0.0.1.weight \t torch.Size([26, 26])\n",
      "edge_up_mps.0.0.1.bias \t torch.Size([26])\n",
      "edge_up_mps.0.0.2.weight \t torch.Size([26, 26])\n",
      "edge_up_mps.0.0.2.bias \t torch.Size([26])\n",
      "edge_up_mps.0.0.3.weight \t torch.Size([26, 26])\n",
      "edge_up_mps.0.0.3.bias \t torch.Size([26])\n",
      "edge_up_mps.0.0.4.weight \t torch.Size([26, 26])\n",
      "edge_up_mps.0.0.4.bias \t torch.Size([26])\n",
      "edge_up_mps.1.0.0.weight \t torch.Size([26, 78])\n",
      "edge_up_mps.1.0.0.bias \t torch.Size([26])\n",
      "edge_up_mps.1.0.1.weight \t torch.Size([26, 26])\n",
      "edge_up_mps.1.0.1.bias \t torch.Size([26])\n",
      "edge_up_mps.1.0.2.weight \t torch.Size([26, 26])\n",
      "edge_up_mps.1.0.2.bias \t torch.Size([26])\n",
      "edge_up_mps.1.0.3.weight \t torch.Size([26, 26])\n",
      "edge_up_mps.1.0.3.bias \t torch.Size([26])\n",
      "edge_up_mps.1.0.4.weight \t torch.Size([26, 26])\n",
      "edge_up_mps.1.0.4.bias \t torch.Size([26])\n",
      "edge_up_mps.2.0.0.weight \t torch.Size([26, 78])\n",
      "edge_up_mps.2.0.0.bias \t torch.Size([26])\n",
      "edge_up_mps.2.0.1.weight \t torch.Size([26, 26])\n",
      "edge_up_mps.2.0.1.bias \t torch.Size([26])\n",
      "edge_up_mps.2.0.2.weight \t torch.Size([26, 26])\n",
      "edge_up_mps.2.0.2.bias \t torch.Size([26])\n",
      "edge_up_mps.2.0.3.weight \t torch.Size([26, 26])\n",
      "edge_up_mps.2.0.3.bias \t torch.Size([26])\n",
      "edge_up_mps.2.0.4.weight \t torch.Size([26, 26])\n",
      "edge_up_mps.2.0.4.bias \t torch.Size([26])\n",
      "edge_up_mps.2.1.0.weight \t torch.Size([26, 78])\n",
      "edge_up_mps.2.1.0.bias \t torch.Size([26])\n",
      "edge_up_mps.2.1.1.weight \t torch.Size([26, 26])\n",
      "edge_up_mps.2.1.1.bias \t torch.Size([26])\n",
      "edge_up_mps.2.1.2.weight \t torch.Size([26, 26])\n",
      "edge_up_mps.2.1.2.bias \t torch.Size([26])\n",
      "edge_up_mps.2.1.3.weight \t torch.Size([26, 26])\n",
      "edge_up_mps.2.1.3.bias \t torch.Size([26])\n",
      "edge_up_mps.2.1.4.weight \t torch.Size([26, 26])\n",
      "edge_up_mps.2.1.4.bias \t torch.Size([26])\n",
      "edge_up_mps.3.0.0.weight \t torch.Size([26, 78])\n",
      "edge_up_mps.3.0.0.bias \t torch.Size([26])\n",
      "edge_up_mps.3.0.1.weight \t torch.Size([26, 26])\n",
      "edge_up_mps.3.0.1.bias \t torch.Size([26])\n",
      "edge_up_mps.3.0.2.weight \t torch.Size([26, 26])\n",
      "edge_up_mps.3.0.2.bias \t torch.Size([26])\n",
      "edge_up_mps.3.0.3.weight \t torch.Size([26, 26])\n",
      "edge_up_mps.3.0.3.bias \t torch.Size([26])\n",
      "edge_up_mps.3.0.4.weight \t torch.Size([26, 26])\n",
      "edge_up_mps.3.0.4.bias \t torch.Size([26])\n",
      "edge_up_mps.3.1.0.weight \t torch.Size([26, 78])\n",
      "edge_up_mps.3.1.0.bias \t torch.Size([26])\n",
      "edge_up_mps.3.1.1.weight \t torch.Size([26, 26])\n",
      "edge_up_mps.3.1.1.bias \t torch.Size([26])\n",
      "edge_up_mps.3.1.2.weight \t torch.Size([26, 26])\n",
      "edge_up_mps.3.1.2.bias \t torch.Size([26])\n",
      "edge_up_mps.3.1.3.weight \t torch.Size([26, 26])\n",
      "edge_up_mps.3.1.3.bias \t torch.Size([26])\n",
      "edge_up_mps.3.1.4.weight \t torch.Size([26, 26])\n",
      "edge_up_mps.3.1.4.bias \t torch.Size([26])\n",
      "edge_up_norms.0.0.weight \t torch.Size([26])\n",
      "edge_up_norms.0.0.bias \t torch.Size([26])\n",
      "edge_up_norms.1.0.weight \t torch.Size([26])\n",
      "edge_up_norms.1.0.bias \t torch.Size([26])\n",
      "edge_up_norms.2.0.weight \t torch.Size([26])\n",
      "edge_up_norms.2.0.bias \t torch.Size([26])\n",
      "edge_up_norms.2.1.weight \t torch.Size([26])\n",
      "edge_up_norms.2.1.bias \t torch.Size([26])\n",
      "edge_up_norms.3.0.weight \t torch.Size([26])\n",
      "edge_up_norms.3.0.bias \t torch.Size([26])\n",
      "edge_up_norms.3.1.weight \t torch.Size([26])\n",
      "edge_up_norms.3.1.bias \t torch.Size([26])\n",
      "node_up_mps.0.0.0.weight \t torch.Size([26, 84])\n",
      "node_up_mps.0.0.0.bias \t torch.Size([26])\n",
      "node_up_mps.0.0.1.weight \t torch.Size([26, 26])\n",
      "node_up_mps.0.0.1.bias \t torch.Size([26])\n",
      "node_up_mps.0.0.2.weight \t torch.Size([26, 26])\n",
      "node_up_mps.0.0.2.bias \t torch.Size([26])\n",
      "node_up_mps.0.0.3.weight \t torch.Size([26, 26])\n",
      "node_up_mps.0.0.3.bias \t torch.Size([26])\n",
      "node_up_mps.0.0.4.weight \t torch.Size([26, 26])\n",
      "node_up_mps.0.0.4.bias \t torch.Size([26])\n",
      "node_up_mps.1.0.0.weight \t torch.Size([26, 84])\n",
      "node_up_mps.1.0.0.bias \t torch.Size([26])\n",
      "node_up_mps.1.0.1.weight \t torch.Size([26, 26])\n",
      "node_up_mps.1.0.1.bias \t torch.Size([26])\n",
      "node_up_mps.1.0.2.weight \t torch.Size([26, 26])\n",
      "node_up_mps.1.0.2.bias \t torch.Size([26])\n",
      "node_up_mps.1.0.3.weight \t torch.Size([26, 26])\n",
      "node_up_mps.1.0.3.bias \t torch.Size([26])\n",
      "node_up_mps.1.0.4.weight \t torch.Size([26, 26])\n",
      "node_up_mps.1.0.4.bias \t torch.Size([26])\n",
      "node_up_mps.2.0.0.weight \t torch.Size([26, 84])\n",
      "node_up_mps.2.0.0.bias \t torch.Size([26])\n",
      "node_up_mps.2.0.1.weight \t torch.Size([26, 26])\n",
      "node_up_mps.2.0.1.bias \t torch.Size([26])\n",
      "node_up_mps.2.0.2.weight \t torch.Size([26, 26])\n",
      "node_up_mps.2.0.2.bias \t torch.Size([26])\n",
      "node_up_mps.2.0.3.weight \t torch.Size([26, 26])\n",
      "node_up_mps.2.0.3.bias \t torch.Size([26])\n",
      "node_up_mps.2.0.4.weight \t torch.Size([26, 26])\n",
      "node_up_mps.2.0.4.bias \t torch.Size([26])\n",
      "node_up_mps.2.1.0.weight \t torch.Size([26, 84])\n",
      "node_up_mps.2.1.0.bias \t torch.Size([26])\n",
      "node_up_mps.2.1.1.weight \t torch.Size([26, 26])\n",
      "node_up_mps.2.1.1.bias \t torch.Size([26])\n",
      "node_up_mps.2.1.2.weight \t torch.Size([26, 26])\n",
      "node_up_mps.2.1.2.bias \t torch.Size([26])\n",
      "node_up_mps.2.1.3.weight \t torch.Size([26, 26])\n",
      "node_up_mps.2.1.3.bias \t torch.Size([26])\n",
      "node_up_mps.2.1.4.weight \t torch.Size([26, 26])\n",
      "node_up_mps.2.1.4.bias \t torch.Size([26])\n",
      "node_up_mps.3.0.0.weight \t torch.Size([26, 52])\n",
      "node_up_mps.3.0.0.bias \t torch.Size([26])\n",
      "node_up_mps.3.0.1.weight \t torch.Size([26, 26])\n",
      "node_up_mps.3.0.1.bias \t torch.Size([26])\n",
      "node_up_mps.3.0.2.weight \t torch.Size([26, 26])\n",
      "node_up_mps.3.0.2.bias \t torch.Size([26])\n",
      "node_up_mps.3.0.3.weight \t torch.Size([26, 26])\n",
      "node_up_mps.3.0.3.bias \t torch.Size([26])\n",
      "node_up_mps.3.0.4.weight \t torch.Size([26, 26])\n",
      "node_up_mps.3.0.4.bias \t torch.Size([26])\n",
      "node_up_mps.3.1.0.weight \t torch.Size([26, 52])\n",
      "node_up_mps.3.1.0.bias \t torch.Size([26])\n",
      "node_up_mps.3.1.1.weight \t torch.Size([26, 26])\n",
      "node_up_mps.3.1.1.bias \t torch.Size([26])\n",
      "node_up_mps.3.1.2.weight \t torch.Size([26, 26])\n",
      "node_up_mps.3.1.2.bias \t torch.Size([26])\n",
      "node_up_mps.3.1.3.weight \t torch.Size([26, 26])\n",
      "node_up_mps.3.1.3.bias \t torch.Size([26])\n",
      "node_up_mps.3.1.4.weight \t torch.Size([26, 26])\n",
      "node_up_mps.3.1.4.bias \t torch.Size([26])\n",
      "node_up_norms.0.0.weight \t torch.Size([26])\n",
      "node_up_norms.0.0.bias \t torch.Size([26])\n",
      "node_up_norms.1.0.weight \t torch.Size([26])\n",
      "node_up_norms.1.0.bias \t torch.Size([26])\n",
      "node_up_norms.2.0.weight \t torch.Size([26])\n",
      "node_up_norms.2.0.bias \t torch.Size([26])\n",
      "node_up_norms.2.1.weight \t torch.Size([26])\n",
      "node_up_norms.2.1.bias \t torch.Size([26])\n",
      "node_up_norms.3.0.weight \t torch.Size([26])\n",
      "node_up_norms.3.0.bias \t torch.Size([26])\n",
      "node_up_norms.3.1.weight \t torch.Size([26])\n",
      "node_up_norms.3.1.bias \t torch.Size([26])\n",
      "autoencode_down.0.0.0.weight \t torch.Size([160, 169000])\n",
      "autoencode_down.0.0.0.bias \t torch.Size([160])\n",
      "autoencode_down.0.0.1.weight \t torch.Size([128, 160])\n",
      "autoencode_down.0.0.1.bias \t torch.Size([128])\n",
      "autoencode_down.0.0.2.weight \t torch.Size([64, 128])\n",
      "autoencode_down.0.0.2.bias \t torch.Size([64])\n",
      "autoencode_down.0.0.3.weight \t torch.Size([32, 64])\n",
      "autoencode_down.0.0.3.bias \t torch.Size([32])\n",
      "autoencode_down.0.1.0.weight \t torch.Size([160, 169000])\n",
      "autoencode_down.0.1.0.bias \t torch.Size([160])\n",
      "autoencode_down.0.1.1.weight \t torch.Size([128, 160])\n",
      "autoencode_down.0.1.1.bias \t torch.Size([128])\n",
      "autoencode_down.0.1.2.weight \t torch.Size([64, 128])\n",
      "autoencode_down.0.1.2.bias \t torch.Size([64])\n",
      "autoencode_down.0.1.3.weight \t torch.Size([32, 64])\n",
      "autoencode_down.0.1.3.bias \t torch.Size([32])\n",
      "autoencode_down.1.0.0.weight \t torch.Size([160, 124800])\n",
      "autoencode_down.1.0.0.bias \t torch.Size([160])\n",
      "autoencode_down.1.0.1.weight \t torch.Size([128, 160])\n",
      "autoencode_down.1.0.1.bias \t torch.Size([128])\n",
      "autoencode_down.1.0.2.weight \t torch.Size([64, 128])\n",
      "autoencode_down.1.0.2.bias \t torch.Size([64])\n",
      "autoencode_down.1.0.3.weight \t torch.Size([32, 64])\n",
      "autoencode_down.1.0.3.bias \t torch.Size([32])\n",
      "autoencode_down.2.0.0.weight \t torch.Size([160, 101400])\n",
      "autoencode_down.2.0.0.bias \t torch.Size([160])\n",
      "autoencode_down.2.0.1.weight \t torch.Size([128, 160])\n",
      "autoencode_down.2.0.1.bias \t torch.Size([128])\n",
      "autoencode_down.2.0.2.weight \t torch.Size([64, 128])\n",
      "autoencode_down.2.0.2.bias \t torch.Size([64])\n",
      "autoencode_down.2.0.3.weight \t torch.Size([32, 64])\n",
      "autoencode_down.2.0.3.bias \t torch.Size([32])\n",
      "attn_score_down.0.0.weight \t torch.Size([1, 58])\n",
      "attn_score_down.0.1.weight \t torch.Size([1, 58])\n",
      "attn_score_down.1.0.weight \t torch.Size([1, 58])\n",
      "attn_score_down.2.0.weight \t torch.Size([1, 58])\n",
      "autoencode_up.0.0.0.weight \t torch.Size([160, 101400])\n",
      "autoencode_up.0.0.0.bias \t torch.Size([160])\n",
      "autoencode_up.0.0.1.weight \t torch.Size([128, 160])\n",
      "autoencode_up.0.0.1.bias \t torch.Size([128])\n",
      "autoencode_up.0.0.2.weight \t torch.Size([64, 128])\n",
      "autoencode_up.0.0.2.bias \t torch.Size([64])\n",
      "autoencode_up.0.0.3.weight \t torch.Size([32, 64])\n",
      "autoencode_up.0.0.3.bias \t torch.Size([32])\n",
      "autoencode_up.1.0.0.weight \t torch.Size([160, 124800])\n",
      "autoencode_up.1.0.0.bias \t torch.Size([160])\n",
      "autoencode_up.1.0.1.weight \t torch.Size([128, 160])\n",
      "autoencode_up.1.0.1.bias \t torch.Size([128])\n",
      "autoencode_up.1.0.2.weight \t torch.Size([64, 128])\n",
      "autoencode_up.1.0.2.bias \t torch.Size([64])\n",
      "autoencode_up.1.0.3.weight \t torch.Size([32, 64])\n",
      "autoencode_up.1.0.3.bias \t torch.Size([32])\n",
      "autoencode_up.2.0.0.weight \t torch.Size([160, 169000])\n",
      "autoencode_up.2.0.0.bias \t torch.Size([160])\n",
      "autoencode_up.2.0.1.weight \t torch.Size([128, 160])\n",
      "autoencode_up.2.0.1.bias \t torch.Size([128])\n",
      "autoencode_up.2.0.2.weight \t torch.Size([64, 128])\n",
      "autoencode_up.2.0.2.bias \t torch.Size([64])\n",
      "autoencode_up.2.0.3.weight \t torch.Size([32, 64])\n",
      "autoencode_up.2.0.3.bias \t torch.Size([32])\n",
      "autoencode_up.2.1.0.weight \t torch.Size([160, 169000])\n",
      "autoencode_up.2.1.0.bias \t torch.Size([160])\n",
      "autoencode_up.2.1.1.weight \t torch.Size([128, 160])\n",
      "autoencode_up.2.1.1.bias \t torch.Size([128])\n",
      "autoencode_up.2.1.2.weight \t torch.Size([64, 128])\n",
      "autoencode_up.2.1.2.bias \t torch.Size([64])\n",
      "autoencode_up.2.1.3.weight \t torch.Size([32, 64])\n",
      "autoencode_up.2.1.3.bias \t torch.Size([32])\n",
      "attn_score_up.0.0.weight \t torch.Size([1, 58])\n",
      "attn_score_up.1.0.weight \t torch.Size([1, 58])\n",
      "attn_score_up.2.0.weight \t torch.Size([1, 58])\n",
      "attn_score_up.2.1.weight \t torch.Size([1, 58])\n",
      "node_decode.0.weight \t torch.Size([26, 26])\n",
      "node_decode.0.bias \t torch.Size([26])\n",
      "node_decode.1.weight \t torch.Size([26, 26])\n",
      "node_decode.1.bias \t torch.Size([26])\n",
      "node_decode.2.weight \t torch.Size([26, 26])\n",
      "node_decode.2.bias \t torch.Size([26])\n",
      "node_decode.3.weight \t torch.Size([2, 26])\n",
      "node_decode.3.bias \t torch.Size([2])\n"
     ]
    },
    {
     "data": {
      "image/png": "[encoded data removed]",
      "text/plain": [
       "<Figure size 432x288 with 1 Axes>"
      ]
     },
     "metadata": {
      "needs_background": "light"
     },
     "output_type": "display_data"
    }
   ],
   "source": [
    "SEED = 42    #42\n",
    "torch.manual_seed(SEED)\n",
    "torch.cuda.manual_seed_all(SEED)\n",
    "np.random.seed(SEED)\n",
    "random.seed(SEED)        #Python\n",
    "device = 'cuda' if torch.cuda.is_available() else 'cpu'    #cuda\n",
    "#perm_list=torch.load(dataset_dir+'/perm_list.pt')\n",
    "perm_list=torch.load(dataset_dir+'/perm_list_150.pt')\n",
    "\n",
    "print(device)\n",
    "for i in range(len(perm_list[0])):\n",
    "   \n",
    "    perm_list[0][i]=perm_list[0][i].to(device)\n",
    "print(perm_list[0][0].device)\n",
    "\n",
    "pathE='/root/data1/d_0.4_EMD/Encode_state_dict.pt'\n",
    "pathD='/root/data1/d_0.4_EMD/Decode_state_dict.pt'\n",
    "pathED = '/root/data1/d_0.4_EMD/ED_state_dict.pt'\n",
    "epochs = 200\n",
    "\n",
    "file_path= dataset_dir+'/meshgraphnets_miniset'+str(per_t)+str(batch_size)+str(number_trajectories)+'traj'+str(satart_number_ts)+str(number_ts)+'ts_vis.pt'\n",
    "dataset = torch.load(file_path)\n",
    "print(len(dataset))\n",
    "EDstats_list = get_EDstats(dataset)\n",
    "\n",
    "[EDmean_vec_x,EDstd_vec_x,EDmean_vec_edge,EDstd_vec_edge] = EDstats_list\n",
    "torch.save(EDstats_list,dataset_dir+'/EDstats_list.pt')\n",
    "\n",
    "(EDmean_vec_x,EDstd_vec_x,EDmean_vec_edge,EDstd_vec_edge)=(EDmean_vec_x.to(device),\n",
    "        EDstd_vec_x.to(device),EDmean_vec_edge.to(device),EDstd_vec_edge.to(device))\n",
    "\n",
    "train_size=7        #改\n",
    "train_loader = DataLoader(dataset[:train_size],  shuffle=False)\n",
    "valid_loader = DataLoader(dataset[train_size:], shuffle=False)#分一下训练数据和验证数据\n",
    "\n",
    "\n",
    "sample = dataset[:train_size][0]\n",
    "\n",
    "in_channels_node = sample.x.shape[1]  #2\n",
    "in_channels_edge = sample.edge_attr.shape[1]  #3\n",
    "hidden_channels = 26#24    #22#12\n",
    "out_channels = in_channels_node\n",
    "batch_size =25       #改25\n",
    "n_mlp_encode = 4\n",
    "n_mlp_mp = 5#5\n",
    "encoding_dim=32#32\n",
    "ae_dim=[160,128,64,32]#[128,64,32,16,10][300,128,64,32]\n",
    "n_mp_down = [2,2,1,1]\n",
    "n_mp_up= [1,1,2,2]\n",
    "pool_num =[6500,4800,3900]#[2000,1500,1200,1000][2000,1600,1400,1000]\n",
    "\n",
    "act = F.elu\n",
    "param_sharing = False\n",
    "\n",
    "model = MessagePassing_Autoencode_attn(\n",
    "                hidden_channels,\n",
    "                in_channels_node,\n",
    "                in_channels_edge,\n",
    "                \n",
    "                out_channels,\n",
    "                encoding_dim,\n",
    "                n_mlp_mp,\n",
    "                n_mlp_encode,\n",
    "\n",
    "                ae_dim,\n",
    "                n_mp_down,\n",
    "                n_mp_up,\n",
    "                pool_num,\n",
    "                \n",
    "                act,\n",
    "                \n",
    "                name='gnn_topk')\n",
    "\n",
    "model.to(device)\n",
    "#model.load_state_dict(torch.load(pathED), strict=False)\n",
    "train_hist, test_hist=train(epochs, model, perm_list,train_loader, valid_loader,per_t,batch_size,\n",
    "                            EDmean_vec_x,EDstd_vec_x,EDmean_vec_edge,EDstd_vec_edge,pathED,pathD,pathE)\n",
    "plot_dir='/root/data1/d_0.4_EMD/loss/'\n",
    "save_DEplots(train_hist, test_hist,plot_dir)"
   ]
  },
  {
   "cell_type": "markdown",
   "metadata": {},
   "source": [
    "optimizer = torch.optim.Adam(model.parameters(), lr=0.00025) #weight_decay=1e-4\n",
    "scheduler = torch.optim.lr_scheduler.ReduceLROnPlateau(optimizer, mode='min', factor=0.5,\n",
    "                                patience=5, threshold=0.0000001, threshold_mode='rel',\n",
    "                                cooldown=0, min_lr=0.000001, eps=1e-08, verbose=True)"
   ]
  },
  {
   "cell_type": "code",
   "execution_count": 3,
   "metadata": {},
   "outputs": [
    {
     "name": "stdout",
     "output_type": "stream",
     "text": [
      "cuda\n",
      "cuda:0\n",
      "8\n"
     ]
    },
    {
     "name": "stderr",
     "output_type": "stream",
     "text": [
      "/usr/local/lib/python3.8/dist-packages/torch_geometric/deprecation.py:12: UserWarning: 'data.DataLoader' is deprecated, use 'loader.DataLoader' instead\n",
      "  warnings.warn(out)\n",
      "Training:   0%|          | 1/200 [00:30<1:39:39, 30.05s/Epochs]"
     ]
    },
    {
     "name": "stdout",
     "output_type": "stream",
     "text": [
      "Epoch: 0000,\tTrain mse: 0.07356535,\tTrain_RMSE: 0.27122934,\tTrain_acc: 0.24391073,\tTest mse: 0.01597888,\tTime: 30.04798818s\n"
     ]
    },
    {
     "name": "stderr",
     "output_type": "stream",
     "text": [
      "Training:   2%|▏         | 3/200 [01:26<1:33:47, 28.56s/Epochs]"
     ]
    },
    {
     "name": "stdout",
     "output_type": "stream",
     "text": [
      "Epoch: 0002,\tTrain mse: 0.02121144,\tTrain_RMSE: 0.14564149,\tTrain_acc: 0.14352810,\tTest mse: 0.01609485,\tTime: 28.09249926s\n"
     ]
    },
    {
     "name": "stderr",
     "output_type": "stream",
     "text": [
      "Training:   2%|▎         | 5/200 [02:21<1:30:51, 27.95s/Epochs]"
     ]
    },
    {
     "name": "stdout",
     "output_type": "stream",
     "text": [
      "Epoch: 0004,\tTrain mse: 0.01173479,\tTrain_RMSE: 0.10832724,\tTrain_acc: 0.10799881,\tTest mse: 0.01120480,\tTime: 27.40650821s\n"
     ]
    },
    {
     "name": "stderr",
     "output_type": "stream",
     "text": [
      "Training:   4%|▎         | 7/200 [03:16<1:28:49, 27.61s/Epochs]"
     ]
    },
    {
     "name": "stdout",
     "output_type": "stream",
     "text": [
      "Epoch: 0006,\tTrain mse: 0.00904355,\tTrain_RMSE: 0.09509758,\tTrain_acc: 0.09502616,\tTest mse: 0.00859056,\tTime: 27.09011912s\n"
     ]
    },
    {
     "name": "stderr",
     "output_type": "stream",
     "text": [
      "Training:   4%|▍         | 9/200 [04:11<1:28:17, 27.74s/Epochs]"
     ]
    },
    {
     "name": "stdout",
     "output_type": "stream",
     "text": [
      "Epoch: 0008,\tTrain mse: 0.00818232,\tTrain_RMSE: 0.09045619,\tTrain_acc: 0.09040941,\tTest mse: 0.00806485,\tTime: 28.00552464s\n"
     ]
    },
    {
     "name": "stderr",
     "output_type": "stream",
     "text": [
      "Training:   6%|▌         | 11/200 [05:06<1:26:30, 27.46s/Epochs]"
     ]
    },
    {
     "name": "stdout",
     "output_type": "stream",
     "text": [
      "Epoch: 0010,\tTrain mse: 0.00790559,\tTrain_RMSE: 0.08891338,\tTrain_acc: 0.08886830,\tTest mse: 0.00778504,\tTime: 26.79545403s\n"
     ]
    },
    {
     "name": "stderr",
     "output_type": "stream",
     "text": [
      "Training:   6%|▋         | 13/200 [06:02<1:26:36, 27.79s/Epochs]"
     ]
    },
    {
     "name": "stdout",
     "output_type": "stream",
     "text": [
      "Epoch: 0012,\tTrain mse: 0.00777349,\tTrain_RMSE: 0.08816742,\tTrain_acc: 0.08812260,\tTest mse: 0.00767829,\tTime: 28.58043551s\n"
     ]
    },
    {
     "name": "stderr",
     "output_type": "stream",
     "text": [
      "Training:   8%|▊         | 15/200 [06:57<1:25:18, 27.67s/Epochs]"
     ]
    },
    {
     "name": "stdout",
     "output_type": "stream",
     "text": [
      "Epoch: 0014,\tTrain mse: 0.00769315,\tTrain_RMSE: 0.08771060,\tTrain_acc: 0.08766600,\tTest mse: 0.00760998,\tTime: 27.57882023s\n"
     ]
    },
    {
     "name": "stderr",
     "output_type": "stream",
     "text": [
      "Training:   8%|▊         | 17/200 [07:52<1:24:01, 27.55s/Epochs]"
     ]
    },
    {
     "name": "stdout",
     "output_type": "stream",
     "text": [
      "Epoch: 0016,\tTrain mse: 0.00763757,\tTrain_RMSE: 0.08739319,\tTrain_acc: 0.08734872,\tTest mse: 0.00755760,\tTime: 27.10183239s\n"
     ]
    },
    {
     "name": "stderr",
     "output_type": "stream",
     "text": [
      "Training:  10%|▉         | 19/200 [08:47<1:23:07, 27.56s/Epochs]"
     ]
    },
    {
     "name": "stdout",
     "output_type": "stream",
     "text": [
      "Epoch: 0018,\tTrain mse: 0.00759529,\tTrain_RMSE: 0.08715094,\tTrain_acc: 0.08710657,\tTest mse: 0.00751732,\tTime: 27.40645671s\n"
     ]
    },
    {
     "name": "stderr",
     "output_type": "stream",
     "text": [
      "Training:  10%|█         | 21/200 [09:42<1:22:11, 27.55s/Epochs]"
     ]
    },
    {
     "name": "stdout",
     "output_type": "stream",
     "text": [
      "Epoch: 0020,\tTrain mse: 0.00756099,\tTrain_RMSE: 0.08695395,\tTrain_acc: 0.08690967,\tTest mse: 0.00748446,\tTime: 27.49618459s\n"
     ]
    },
    {
     "name": "stderr",
     "output_type": "stream",
     "text": [
      "Training:  12%|█▏        | 23/200 [10:40<1:22:57, 28.12s/Epochs]"
     ]
    },
    {
     "name": "stdout",
     "output_type": "stream",
     "text": [
      "Epoch: 0022,\tTrain mse: 0.00753209,\tTrain_RMSE: 0.08678761,\tTrain_acc: 0.08674338,\tTest mse: 0.00745583,\tTime: 28.99846601s\n"
     ]
    },
    {
     "name": "stderr",
     "output_type": "stream",
     "text": [
      "Training:  12%|█▎        | 25/200 [11:35<1:21:26, 27.92s/Epochs]"
     ]
    },
    {
     "name": "stdout",
     "output_type": "stream",
     "text": [
      "Epoch: 0024,\tTrain mse: 0.00750481,\tTrain_RMSE: 0.08663032,\tTrain_acc: 0.08658617,\tTest mse: 0.00742904,\tTime: 27.39657283s\n"
     ]
    },
    {
     "name": "stderr",
     "output_type": "stream",
     "text": [
      "Training:  14%|█▎        | 27/200 [12:30<1:20:04, 27.77s/Epochs]"
     ]
    },
    {
     "name": "stdout",
     "output_type": "stream",
     "text": [
      "Epoch: 0026,\tTrain mse: 0.00747927,\tTrain_RMSE: 0.08648277,\tTrain_acc: 0.08643870,\tTest mse: 0.00740339,\tTime: 27.99383402s\n"
     ]
    },
    {
     "name": "stderr",
     "output_type": "stream",
     "text": [
      "Training:  14%|█▍        | 29/200 [13:28<1:20:17, 28.17s/Epochs]"
     ]
    },
    {
     "name": "stdout",
     "output_type": "stream",
     "text": [
      "Epoch: 0028,\tTrain mse: 0.00745403,\tTrain_RMSE: 0.08633674,\tTrain_acc: 0.08629273,\tTest mse: 0.00737972,\tTime: 28.38583040s\n"
     ]
    },
    {
     "name": "stderr",
     "output_type": "stream",
     "text": [
      "Training:  16%|█▌        | 31/200 [14:22<1:18:11, 27.76s/Epochs]"
     ]
    },
    {
     "name": "stdout",
     "output_type": "stream",
     "text": [
      "Epoch: 0030,\tTrain mse: 0.00743057,\tTrain_RMSE: 0.08620073,\tTrain_acc: 0.08615678,\tTest mse: 0.00735638,\tTime: 26.90281200s\n"
     ]
    },
    {
     "name": "stderr",
     "output_type": "stream",
     "text": [
      "Training:  16%|█▋        | 33/200 [15:18<1:17:02, 27.68s/Epochs]"
     ]
    },
    {
     "name": "stdout",
     "output_type": "stream",
     "text": [
      "Epoch: 0032,\tTrain mse: 0.00740725,\tTrain_RMSE: 0.08606538,\tTrain_acc: 0.08602151,\tTest mse: 0.00733381,\tTime: 27.31423020s\n"
     ]
    },
    {
     "name": "stderr",
     "output_type": "stream",
     "text": [
      "Training:  18%|█▊        | 35/200 [16:13<1:15:34, 27.48s/Epochs]"
     ]
    },
    {
     "name": "stdout",
     "output_type": "stream",
     "text": [
      "Epoch: 0034,\tTrain mse: 0.00738387,\tTrain_RMSE: 0.08592945,\tTrain_acc: 0.08588564,\tTest mse: 0.00731034,\tTime: 26.80326271s\n"
     ]
    },
    {
     "name": "stderr",
     "output_type": "stream",
     "text": [
      "Training:  18%|█▊        | 37/200 [17:07<1:14:37, 27.47s/Epochs]"
     ]
    },
    {
     "name": "stdout",
     "output_type": "stream",
     "text": [
      "Epoch: 0036,\tTrain mse: 0.00736068,\tTrain_RMSE: 0.08579438,\tTrain_acc: 0.08575062,\tTest mse: 0.00728756,\tTime: 27.49139404s\n"
     ]
    },
    {
     "name": "stderr",
     "output_type": "stream",
     "text": [
      "Training:  20%|█▉        | 39/200 [18:04<1:14:52, 27.90s/Epochs]"
     ]
    },
    {
     "name": "stdout",
     "output_type": "stream",
     "text": [
      "Epoch: 0038,\tTrain mse: 0.00733766,\tTrain_RMSE: 0.08566016,\tTrain_acc: 0.08561645,\tTest mse: 0.00726436,\tTime: 28.39504004s\n"
     ]
    },
    {
     "name": "stderr",
     "output_type": "stream",
     "text": [
      "Training:  20%|██        | 41/200 [19:00<1:14:06, 27.97s/Epochs]"
     ]
    },
    {
     "name": "stdout",
     "output_type": "stream",
     "text": [
      "Epoch: 0040,\tTrain mse: 0.00731420,\tTrain_RMSE: 0.08552311,\tTrain_acc: 0.08547948,\tTest mse: 0.00724272,\tTime: 27.69510460s\n"
     ]
    },
    {
     "name": "stderr",
     "output_type": "stream",
     "text": [
      "Training:  22%|██▏       | 43/200 [19:55<1:12:11, 27.59s/Epochs]"
     ]
    },
    {
     "name": "stdout",
     "output_type": "stream",
     "text": [
      "Epoch: 0042,\tTrain mse: 0.00729110,\tTrain_RMSE: 0.08538792,\tTrain_acc: 0.08534434,\tTest mse: 0.00721795,\tTime: 27.37180257s\n"
     ]
    },
    {
     "name": "stderr",
     "output_type": "stream",
     "text": [
      "Training:  22%|██▎       | 45/200 [20:50<1:11:38, 27.74s/Epochs]"
     ]
    },
    {
     "name": "stdout",
     "output_type": "stream",
     "text": [
      "Epoch: 0044,\tTrain mse: 0.00726782,\tTrain_RMSE: 0.08525150,\tTrain_acc: 0.08520798,\tTest mse: 0.00719845,\tTime: 27.99176598s\n"
     ]
    },
    {
     "name": "stderr",
     "output_type": "stream",
     "text": [
      "Training:  24%|██▎       | 47/200 [21:47<1:11:34, 28.07s/Epochs]"
     ]
    },
    {
     "name": "stdout",
     "output_type": "stream",
     "text": [
      "Epoch: 0046,\tTrain mse: 0.00724353,\tTrain_RMSE: 0.08510892,\tTrain_acc: 0.08506547,\tTest mse: 0.00717633,\tTime: 28.08634496s\n"
     ]
    },
    {
     "name": "stderr",
     "output_type": "stream",
     "text": [
      "Training:  24%|██▍       | 49/200 [22:44<1:10:46, 28.13s/Epochs]"
     ]
    },
    {
     "name": "stdout",
     "output_type": "stream",
     "text": [
      "Epoch: 0048,\tTrain mse: 0.00752651,\tTrain_RMSE: 0.08675547,\tTrain_acc: 0.08670691,\tTest mse: 0.00746136,\tTime: 27.59680057s\n"
     ]
    },
    {
     "name": "stderr",
     "output_type": "stream",
     "text": [
      "Training:  26%|██▌       | 51/200 [23:39<1:08:53, 27.74s/Epochs]"
     ]
    },
    {
     "name": "stdout",
     "output_type": "stream",
     "text": [
      "Epoch: 0050,\tTrain mse: 0.00727364,\tTrain_RMSE: 0.08528567,\tTrain_acc: 0.08524122,\tTest mse: 0.00718587,\tTime: 27.21009231s\n"
     ]
    },
    {
     "name": "stderr",
     "output_type": "stream",
     "text": [
      "Training:  26%|██▋       | 53/200 [24:35<1:08:13, 27.84s/Epochs]"
     ]
    },
    {
     "name": "stdout",
     "output_type": "stream",
     "text": [
      "Epoch: 0052,\tTrain mse: 0.00720367,\tTrain_RMSE: 0.08487441,\tTrain_acc: 0.08483084,\tTest mse: 0.00715818,\tTime: 27.70739818s\n"
     ]
    },
    {
     "name": "stderr",
     "output_type": "stream",
     "text": [
      "Training:  28%|██▊       | 55/200 [25:30<1:07:05, 27.76s/Epochs]"
     ]
    },
    {
     "name": "stdout",
     "output_type": "stream",
     "text": [
      "Epoch: 0054,\tTrain mse: 0.00714835,\tTrain_RMSE: 0.08454791,\tTrain_acc: 0.08450472,\tTest mse: 0.00708290,\tTime: 28.10263085s\n"
     ]
    },
    {
     "name": "stderr",
     "output_type": "stream",
     "text": [
      "Training:  28%|██▊       | 57/200 [26:24<1:05:15, 27.38s/Epochs]"
     ]
    },
    {
     "name": "stdout",
     "output_type": "stream",
     "text": [
      "Epoch: 0056,\tTrain mse: 0.00733980,\tTrain_RMSE: 0.08567265,\tTrain_acc: 0.08562039,\tTest mse: 0.00782496,\tTime: 27.21140122s\n"
     ]
    },
    {
     "name": "stderr",
     "output_type": "stream",
     "text": [
      "Training:  30%|██▉       | 59/200 [27:18<1:04:19, 27.37s/Epochs]"
     ]
    },
    {
     "name": "stdout",
     "output_type": "stream",
     "text": [
      "Epoch: 0058,\tTrain mse: 0.00723500,\tTrain_RMSE: 0.08505878,\tTrain_acc: 0.08501302,\tTest mse: 0.00712258,\tTime: 27.41952348s\n"
     ]
    },
    {
     "name": "stderr",
     "output_type": "stream",
     "text": [
      "Training:  30%|███       | 61/200 [28:13<1:03:25, 27.37s/Epochs]"
     ]
    },
    {
     "name": "stdout",
     "output_type": "stream",
     "text": [
      "Epoch: 0060,\tTrain mse: 0.00714757,\tTrain_RMSE: 0.08454333,\tTrain_acc: 0.08449917,\tTest mse: 0.00711631,\tTime: 27.51171827s\n"
     ]
    },
    {
     "name": "stderr",
     "output_type": "stream",
     "text": [
      "Training:  32%|███▏      | 63/200 [29:08<1:02:48, 27.51s/Epochs]"
     ]
    },
    {
     "name": "stdout",
     "output_type": "stream",
     "text": [
      "Epoch: 0062,\tTrain mse: 0.00707239,\tTrain_RMSE: 0.08409749,\tTrain_acc: 0.08405440,\tTest mse: 0.00700192,\tTime: 27.59044576s\n"
     ]
    },
    {
     "name": "stderr",
     "output_type": "stream",
     "text": [
      "Training:  32%|███▎      | 65/200 [30:04<1:02:21, 27.71s/Epochs]"
     ]
    },
    {
     "name": "stdout",
     "output_type": "stream",
     "text": [
      "Epoch: 0064,\tTrain mse: 0.00702606,\tTrain_RMSE: 0.08382162,\tTrain_acc: 0.08377879,\tTest mse: 0.00695674,\tTime: 27.70220447s\n"
     ]
    },
    {
     "name": "stderr",
     "output_type": "stream",
     "text": [
      "Training:  34%|███▎      | 67/200 [31:00<1:01:43, 27.84s/Epochs]"
     ]
    },
    {
     "name": "stdout",
     "output_type": "stream",
     "text": [
      "Epoch: 0066,\tTrain mse: 0.00736941,\tTrain_RMSE: 0.08584528,\tTrain_acc: 0.08578192,\tTest mse: 0.00816118,\tTime: 28.29637122s\n"
     ]
    },
    {
     "name": "stderr",
     "output_type": "stream",
     "text": [
      "Training:  34%|███▍      | 69/200 [31:56<1:00:58, 27.93s/Epochs]"
     ]
    },
    {
     "name": "stdout",
     "output_type": "stream",
     "text": [
      "Epoch: 0068,\tTrain mse: 0.00718980,\tTrain_RMSE: 0.08479268,\tTrain_acc: 0.08474477,\tTest mse: 0.00699785,\tTime: 28.29625893s\n"
     ]
    },
    {
     "name": "stderr",
     "output_type": "stream",
     "text": [
      "Training:  36%|███▌      | 71/200 [32:51<59:46, 27.80s/Epochs]  "
     ]
    },
    {
     "name": "stdout",
     "output_type": "stream",
     "text": [
      "Epoch: 0070,\tTrain mse: 0.00710707,\tTrain_RMSE: 0.08430344,\tTrain_acc: 0.08425773,\tTest mse: 0.00702796,\tTime: 27.80383325s\n"
     ]
    },
    {
     "name": "stderr",
     "output_type": "stream",
     "text": [
      "Training:  36%|███▋      | 73/200 [33:47<58:52, 27.81s/Epochs]"
     ]
    },
    {
     "name": "stdout",
     "output_type": "stream",
     "text": [
      "Epoch: 0072,\tTrain mse: 0.00698280,\tTrain_RMSE: 0.08356316,\tTrain_acc: 0.08352030,\tTest mse: 0.00685965,\tTime: 27.90678287s\n"
     ]
    },
    {
     "name": "stderr",
     "output_type": "stream",
     "text": [
      "Training:  38%|███▊      | 75/200 [34:43<58:11, 27.93s/Epochs]"
     ]
    },
    {
     "name": "stdout",
     "output_type": "stream",
     "text": [
      "Epoch: 0074,\tTrain mse: 0.00693225,\tTrain_RMSE: 0.08326013,\tTrain_acc: 0.08321764,\tTest mse: 0.00684757,\tTime: 27.39001441s\n"
     ]
    },
    {
     "name": "stderr",
     "output_type": "stream",
     "text": [
      "Training:  38%|███▊      | 77/200 [35:38<56:40, 27.64s/Epochs]"
     ]
    },
    {
     "name": "stdout",
     "output_type": "stream",
     "text": [
      "Epoch: 0076,\tTrain mse: 0.00687768,\tTrain_RMSE: 0.08293180,\tTrain_acc: 0.08288940,\tTest mse: 0.00680907,\tTime: 27.19887400s\n"
     ]
    },
    {
     "name": "stderr",
     "output_type": "stream",
     "text": [
      "Training:  40%|███▉      | 79/200 [36:34<56:11, 27.86s/Epochs]"
     ]
    },
    {
     "name": "stdout",
     "output_type": "stream",
     "text": [
      "Epoch: 0078,\tTrain mse: 0.00685709,\tTrain_RMSE: 0.08280754,\tTrain_acc: 0.08276514,\tTest mse: 0.00680439,\tTime: 27.91370678s\n"
     ]
    },
    {
     "name": "stderr",
     "output_type": "stream",
     "text": [
      "Training:  40%|████      | 81/200 [37:30<55:21, 27.91s/Epochs]"
     ]
    },
    {
     "name": "stdout",
     "output_type": "stream",
     "text": [
      "Epoch: 0080,\tTrain mse: 0.00716973,\tTrain_RMSE: 0.08467427,\tTrain_acc: 0.08462541,\tTest mse: 0.00739341,\tTime: 28.20415092s\n"
     ]
    },
    {
     "name": "stderr",
     "output_type": "stream",
     "text": [
      "Training:  42%|████▏     | 83/200 [38:26<54:25, 27.91s/Epochs]"
     ]
    },
    {
     "name": "stdout",
     "output_type": "stream",
     "text": [
      "Epoch: 0082,\tTrain mse: 0.00684314,\tTrain_RMSE: 0.08272326,\tTrain_acc: 0.08268088,\tTest mse: 0.00673026,\tTime: 27.70539904s\n"
     ]
    },
    {
     "name": "stderr",
     "output_type": "stream",
     "text": [
      "Training:  42%|████▎     | 85/200 [39:22<53:15, 27.78s/Epochs]"
     ]
    },
    {
     "name": "stdout",
     "output_type": "stream",
     "text": [
      "Epoch: 0084,\tTrain mse: 0.00676396,\tTrain_RMSE: 0.08224328,\tTrain_acc: 0.08220121,\tTest mse: 0.00669492,\tTime: 27.29508281s\n"
     ]
    },
    {
     "name": "stderr",
     "output_type": "stream",
     "text": [
      "Training:  44%|████▎     | 87/200 [40:17<52:20, 27.79s/Epochs]"
     ]
    },
    {
     "name": "stdout",
     "output_type": "stream",
     "text": [
      "Epoch: 0086,\tTrain mse: 0.00686137,\tTrain_RMSE: 0.08283337,\tTrain_acc: 0.08279055,\tTest mse: 0.00690712,\tTime: 27.30399752s\n"
     ]
    },
    {
     "name": "stderr",
     "output_type": "stream",
     "text": [
      "Training:  44%|████▍     | 89/200 [41:12<50:53, 27.51s/Epochs]"
     ]
    },
    {
     "name": "stdout",
     "output_type": "stream",
     "text": [
      "Epoch: 0088,\tTrain mse: 0.00695308,\tTrain_RMSE: 0.08338510,\tTrain_acc: 0.08333151,\tTest mse: 0.00683912,\tTime: 26.69779873s\n"
     ]
    },
    {
     "name": "stderr",
     "output_type": "stream",
     "text": [
      "Training:  46%|████▌     | 91/200 [42:08<50:13, 27.65s/Epochs]"
     ]
    },
    {
     "name": "stdout",
     "output_type": "stream",
     "text": [
      "Epoch: 0090,\tTrain mse: 0.00670811,\tTrain_RMSE: 0.08190305,\tTrain_acc: 0.08186089,\tTest mse: 0.00667435,\tTime: 27.50392628s\n"
     ]
    },
    {
     "name": "stderr",
     "output_type": "stream",
     "text": [
      "Training:  46%|████▋     | 93/200 [43:03<49:07, 27.55s/Epochs]"
     ]
    },
    {
     "name": "stdout",
     "output_type": "stream",
     "text": [
      "Epoch: 0092,\tTrain mse: 0.00667755,\tTrain_RMSE: 0.08171627,\tTrain_acc: 0.08167413,\tTest mse: 0.00669288,\tTime: 27.49826860s\n"
     ]
    },
    {
     "name": "stderr",
     "output_type": "stream",
     "text": [
      "Training:  48%|████▊     | 95/200 [43:56<47:38, 27.22s/Epochs]"
     ]
    },
    {
     "name": "stdout",
     "output_type": "stream",
     "text": [
      "Epoch: 0094,\tTrain mse: 0.00709596,\tTrain_RMSE: 0.08423751,\tTrain_acc: 0.08419406,\tTest mse: 0.00681767,\tTime: 27.18749642s\n"
     ]
    },
    {
     "name": "stderr",
     "output_type": "stream",
     "text": [
      "Training:  48%|████▊     | 97/200 [44:51<46:51, 27.30s/Epochs]"
     ]
    },
    {
     "name": "stdout",
     "output_type": "stream",
     "text": [
      "Epoch: 0096,\tTrain mse: 0.00662082,\tTrain_RMSE: 0.08136840,\tTrain_acc: 0.08132677,\tTest mse: 0.00654421,\tTime: 27.88745856s\n"
     ]
    },
    {
     "name": "stderr",
     "output_type": "stream",
     "text": [
      "Training:  50%|████▉     | 99/200 [45:46<46:21, 27.54s/Epochs]"
     ]
    },
    {
     "name": "stdout",
     "output_type": "stream",
     "text": [
      "Epoch: 0098,\tTrain mse: 0.00669011,\tTrain_RMSE: 0.08179307,\tTrain_acc: 0.08175083,\tTest mse: 0.00671725,\tTime: 28.38546753s\n"
     ]
    },
    {
     "name": "stderr",
     "output_type": "stream",
     "text": [
      "Training:  50%|█████     | 101/200 [46:42<45:57, 27.85s/Epochs]"
     ]
    },
    {
     "name": "stdout",
     "output_type": "stream",
     "text": [
      "Epoch: 0100,\tTrain mse: 0.00669505,\tTrain_RMSE: 0.08182329,\tTrain_acc: 0.08177862,\tTest mse: 0.00647902,\tTime: 28.39964175s\n"
     ]
    },
    {
     "name": "stderr",
     "output_type": "stream",
     "text": [
      "Training:  52%|█████▏    | 103/200 [47:37<44:47, 27.70s/Epochs]"
     ]
    },
    {
     "name": "stdout",
     "output_type": "stream",
     "text": [
      "Epoch: 0102,\tTrain mse: 0.00676983,\tTrain_RMSE: 0.08227898,\tTrain_acc: 0.08223329,\tTest mse: 0.00686286,\tTime: 27.80516934s\n"
     ]
    },
    {
     "name": "stderr",
     "output_type": "stream",
     "text": [
      "Training:  52%|█████▎    | 105/200 [48:33<43:52, 27.71s/Epochs]"
     ]
    },
    {
     "name": "stdout",
     "output_type": "stream",
     "text": [
      "Epoch: 0104,\tTrain mse: 0.00649082,\tTrain_RMSE: 0.08056563,\tTrain_acc: 0.08052438,\tTest mse: 0.00642701,\tTime: 27.99811459s\n"
     ]
    },
    {
     "name": "stderr",
     "output_type": "stream",
     "text": [
      "Training:  54%|█████▎    | 107/200 [49:28<43:01, 27.76s/Epochs]"
     ]
    },
    {
     "name": "stdout",
     "output_type": "stream",
     "text": [
      "Epoch: 0106,\tTrain mse: 0.00664142,\tTrain_RMSE: 0.08149492,\tTrain_acc: 0.08145100,\tTest mse: 0.00676435,\tTime: 27.40053129s\n"
     ]
    },
    {
     "name": "stderr",
     "output_type": "stream",
     "text": [
      "Training:  55%|█████▍    | 109/200 [50:22<41:31, 27.38s/Epochs]"
     ]
    },
    {
     "name": "stdout",
     "output_type": "stream",
     "text": [
      "Epoch: 0108,\tTrain mse: 0.00647680,\tTrain_RMSE: 0.08047857,\tTrain_acc: 0.08043708,\tTest mse: 0.00637110,\tTime: 27.29177403s\n"
     ]
    },
    {
     "name": "stderr",
     "output_type": "stream",
     "text": [
      "Training:  56%|█████▌    | 111/200 [51:17<40:44, 27.47s/Epochs]"
     ]
    },
    {
     "name": "stdout",
     "output_type": "stream",
     "text": [
      "Epoch: 0110,\tTrain mse: 0.00657355,\tTrain_RMSE: 0.08107746,\tTrain_acc: 0.08103085,\tTest mse: 0.00689683,\tTime: 27.80391955s\n"
     ]
    },
    {
     "name": "stderr",
     "output_type": "stream",
     "text": [
      "Training:  56%|█████▋    | 113/200 [52:13<40:03, 27.63s/Epochs]"
     ]
    },
    {
     "name": "stdout",
     "output_type": "stream",
     "text": [
      "Epoch: 0112,\tTrain mse: 0.00647030,\tTrain_RMSE: 0.08043817,\tTrain_acc: 0.08039556,\tTest mse: 0.00644795,\tTime: 27.69353271s\n"
     ]
    },
    {
     "name": "stderr",
     "output_type": "stream",
     "text": [
      "Training:  57%|█████▊    | 115/200 [53:08<39:11, 27.66s/Epochs]"
     ]
    },
    {
     "name": "stdout",
     "output_type": "stream",
     "text": [
      "Epoch: 0114,\tTrain mse: 0.00637904,\tTrain_RMSE: 0.07986889,\tTrain_acc: 0.07982781,\tTest mse: 0.00631821,\tTime: 27.68210483s\n"
     ]
    },
    {
     "name": "stderr",
     "output_type": "stream",
     "text": [
      "Training:  58%|█████▊    | 117/200 [54:03<38:03, 27.51s/Epochs]"
     ]
    },
    {
     "name": "stdout",
     "output_type": "stream",
     "text": [
      "Epoch: 0116,\tTrain mse: 0.00639057,\tTrain_RMSE: 0.07994106,\tTrain_acc: 0.07989977,\tTest mse: 0.00640077,\tTime: 27.19807863s\n"
     ]
    },
    {
     "name": "stderr",
     "output_type": "stream",
     "text": [
      "Training:  60%|█████▉    | 119/200 [54:59<37:24, 27.71s/Epochs]"
     ]
    },
    {
     "name": "stdout",
     "output_type": "stream",
     "text": [
      "Epoch: 0118,\tTrain mse: 0.00672289,\tTrain_RMSE: 0.08199325,\tTrain_acc: 0.08194719,\tTest mse: 0.00631359,\tTime: 28.10444283s\n"
     ]
    },
    {
     "name": "stderr",
     "output_type": "stream",
     "text": [
      "Training:  60%|██████    | 121/200 [55:54<36:27, 27.69s/Epochs]"
     ]
    },
    {
     "name": "stdout",
     "output_type": "stream",
     "text": [
      "Epoch: 0120,\tTrain mse: 0.00629313,\tTrain_RMSE: 0.07932927,\tTrain_acc: 0.07928859,\tTest mse: 0.00624780,\tTime: 27.79298711s\n"
     ]
    },
    {
     "name": "stderr",
     "output_type": "stream",
     "text": [
      "Training:  62%|██████▏   | 123/200 [56:49<35:21, 27.55s/Epochs]"
     ]
    },
    {
     "name": "stdout",
     "output_type": "stream",
     "text": [
      "Epoch: 0122,\tTrain mse: 0.00656839,\tTrain_RMSE: 0.08104563,\tTrain_acc: 0.08100354,\tTest mse: 0.00631955,\tTime: 27.19700122s\n"
     ]
    },
    {
     "name": "stderr",
     "output_type": "stream",
     "text": [
      "Training:  62%|██████▎   | 125/200 [57:45<34:35, 27.68s/Epochs]"
     ]
    },
    {
     "name": "stdout",
     "output_type": "stream",
     "text": [
      "Epoch: 0124,\tTrain mse: 0.00623766,\tTrain_RMSE: 0.07897885,\tTrain_acc: 0.07893834,\tTest mse: 0.00619645,\tTime: 27.59947944s\n"
     ]
    },
    {
     "name": "stderr",
     "output_type": "stream",
     "text": [
      "Training:  64%|██████▎   | 127/200 [58:40<33:35, 27.61s/Epochs]"
     ]
    },
    {
     "name": "stdout",
     "output_type": "stream",
     "text": [
      "Epoch: 0126,\tTrain mse: 0.00685890,\tTrain_RMSE: 0.08281848,\tTrain_acc: 0.08276996,\tTest mse: 0.00668296,\tTime: 27.49944353s\n"
     ]
    },
    {
     "name": "stderr",
     "output_type": "stream",
     "text": [
      "Training:  64%|██████▍   | 129/200 [59:36<32:52, 27.79s/Epochs]"
     ]
    },
    {
     "name": "stdout",
     "output_type": "stream",
     "text": [
      "Epoch: 0128,\tTrain mse: 0.00627451,\tTrain_RMSE: 0.07921181,\tTrain_acc: 0.07917005,\tTest mse: 0.00621351,\tTime: 27.70882273s\n"
     ]
    },
    {
     "name": "stderr",
     "output_type": "stream",
     "text": [
      "Training:  65%|██████▌   | 130/200 [1:00:03<32:18, 27.70s/Epochs]"
     ]
    },
    {
     "name": "stdout",
     "output_type": "stream",
     "text": [
      "Epoch   130: reducing learning rate of group 0 to 1.2500e-04.\n"
     ]
    },
    {
     "name": "stderr",
     "output_type": "stream",
     "text": [
      "Training:  66%|██████▌   | 131/200 [1:00:31<31:49, 27.67s/Epochs]"
     ]
    },
    {
     "name": "stdout",
     "output_type": "stream",
     "text": [
      "Epoch: 0130,\tTrain mse: 0.00623581,\tTrain_RMSE: 0.07896717,\tTrain_acc: 0.07892685,\tTest mse: 0.00610619,\tTime: 27.59097147s\n"
     ]
    },
    {
     "name": "stderr",
     "output_type": "stream",
     "text": [
      "Training:  66%|██████▋   | 133/200 [1:01:26<30:50, 27.62s/Epochs]"
     ]
    },
    {
     "name": "stdout",
     "output_type": "stream",
     "text": [
      "Epoch: 0132,\tTrain mse: 0.00616355,\tTrain_RMSE: 0.07850830,\tTrain_acc: 0.07846822,\tTest mse: 0.00609317,\tTime: 27.12228823s\n"
     ]
    },
    {
     "name": "stderr",
     "output_type": "stream",
     "text": [
      "Training:  68%|██████▊   | 135/200 [1:02:24<30:28, 28.13s/Epochs]"
     ]
    },
    {
     "name": "stdout",
     "output_type": "stream",
     "text": [
      "Epoch: 0134,\tTrain mse: 0.00614105,\tTrain_RMSE: 0.07836484,\tTrain_acc: 0.07832473,\tTest mse: 0.00607794,\tTime: 28.20981383s\n"
     ]
    },
    {
     "name": "stderr",
     "output_type": "stream",
     "text": [
      "Training:  68%|██████▊   | 137/200 [1:03:21<29:53, 28.46s/Epochs]"
     ]
    },
    {
     "name": "stdout",
     "output_type": "stream",
     "text": [
      "Epoch: 0136,\tTrain mse: 0.00612398,\tTrain_RMSE: 0.07825584,\tTrain_acc: 0.07821572,\tTest mse: 0.00606501,\tTime: 28.91289401s\n"
     ]
    },
    {
     "name": "stderr",
     "output_type": "stream",
     "text": [
      "Training:  70%|██████▉   | 139/200 [1:04:18<28:49, 28.35s/Epochs]"
     ]
    },
    {
     "name": "stdout",
     "output_type": "stream",
     "text": [
      "Epoch: 0138,\tTrain mse: 0.00611060,\tTrain_RMSE: 0.07817032,\tTrain_acc: 0.07813025,\tTest mse: 0.00605308,\tTime: 28.40160680s\n"
     ]
    },
    {
     "name": "stderr",
     "output_type": "stream",
     "text": [
      "Training:  70%|███████   | 141/200 [1:05:13<27:29, 27.96s/Epochs]"
     ]
    },
    {
     "name": "stdout",
     "output_type": "stream",
     "text": [
      "Epoch: 0140,\tTrain mse: 0.00609770,\tTrain_RMSE: 0.07808779,\tTrain_acc: 0.07804775,\tTest mse: 0.00604108,\tTime: 27.79149866s\n"
     ]
    },
    {
     "name": "stderr",
     "output_type": "stream",
     "text": [
      "Training:  72%|███████▏  | 143/200 [1:06:07<26:03, 27.43s/Epochs]"
     ]
    },
    {
     "name": "stdout",
     "output_type": "stream",
     "text": [
      "Epoch: 0142,\tTrain mse: 0.00608459,\tTrain_RMSE: 0.07800381,\tTrain_acc: 0.07796381,\tTest mse: 0.00602775,\tTime: 26.71311355s\n"
     ]
    },
    {
     "name": "stderr",
     "output_type": "stream",
     "text": [
      "Training:  72%|███████▎  | 145/200 [1:07:02<25:08, 27.43s/Epochs]"
     ]
    },
    {
     "name": "stdout",
     "output_type": "stream",
     "text": [
      "Epoch: 0144,\tTrain mse: 0.00607153,\tTrain_RMSE: 0.07792005,\tTrain_acc: 0.07788010,\tTest mse: 0.00601435,\tTime: 27.11003590s\n"
     ]
    },
    {
     "name": "stderr",
     "output_type": "stream",
     "text": [
      "Training:  74%|███████▎  | 147/200 [1:07:57<24:15, 27.46s/Epochs]"
     ]
    },
    {
     "name": "stdout",
     "output_type": "stream",
     "text": [
      "Epoch: 0146,\tTrain mse: 0.00605828,\tTrain_RMSE: 0.07783493,\tTrain_acc: 0.07779501,\tTest mse: 0.00600161,\tTime: 27.49744916s\n"
     ]
    },
    {
     "name": "stderr",
     "output_type": "stream",
     "text": [
      "Training:  74%|███████▍  | 149/200 [1:08:51<23:18, 27.42s/Epochs]"
     ]
    },
    {
     "name": "stdout",
     "output_type": "stream",
     "text": [
      "Epoch: 0148,\tTrain mse: 0.00604507,\tTrain_RMSE: 0.07775004,\tTrain_acc: 0.07771017,\tTest mse: 0.00598888,\tTime: 27.09028172s\n"
     ]
    },
    {
     "name": "stderr",
     "output_type": "stream",
     "text": [
      "Training:  76%|███████▌  | 151/200 [1:09:47<22:31, 27.57s/Epochs]"
     ]
    },
    {
     "name": "stdout",
     "output_type": "stream",
     "text": [
      "Epoch: 0150,\tTrain mse: 0.00603246,\tTrain_RMSE: 0.07766893,\tTrain_acc: 0.07762908,\tTest mse: 0.00597680,\tTime: 28.00576377s\n"
     ]
    },
    {
     "name": "stderr",
     "output_type": "stream",
     "text": [
      "Training:  76%|███████▋  | 153/200 [1:10:43<21:45, 27.78s/Epochs]"
     ]
    },
    {
     "name": "stdout",
     "output_type": "stream",
     "text": [
      "Epoch: 0152,\tTrain mse: 0.00601997,\tTrain_RMSE: 0.07758847,\tTrain_acc: 0.07754866,\tTest mse: 0.00596497,\tTime: 28.10333467s\n"
     ]
    },
    {
     "name": "stderr",
     "output_type": "stream",
     "text": [
      "Training:  78%|███████▊  | 155/200 [1:11:39<20:55, 27.90s/Epochs]"
     ]
    },
    {
     "name": "stdout",
     "output_type": "stream",
     "text": [
      "Epoch: 0154,\tTrain mse: 0.00600671,\tTrain_RMSE: 0.07750294,\tTrain_acc: 0.07746318,\tTest mse: 0.00595154,\tTime: 28.09225941s\n"
     ]
    },
    {
     "name": "stderr",
     "output_type": "stream",
     "text": [
      "Training:  78%|███████▊  | 157/200 [1:12:35<20:01, 27.95s/Epochs]"
     ]
    },
    {
     "name": "stdout",
     "output_type": "stream",
     "text": [
      "Epoch: 0156,\tTrain mse: 0.00599327,\tTrain_RMSE: 0.07741622,\tTrain_acc: 0.07737651,\tTest mse: 0.00593894,\tTime: 27.78895688s\n"
     ]
    },
    {
     "name": "stderr",
     "output_type": "stream",
     "text": [
      "Training:  80%|███████▉  | 159/200 [1:13:30<19:00, 27.82s/Epochs]"
     ]
    },
    {
     "name": "stdout",
     "output_type": "stream",
     "text": [
      "Epoch: 0158,\tTrain mse: 0.00598019,\tTrain_RMSE: 0.07733167,\tTrain_acc: 0.07729200,\tTest mse: 0.00592510,\tTime: 27.19569850s\n"
     ]
    },
    {
     "name": "stderr",
     "output_type": "stream",
     "text": [
      "Training:  80%|████████  | 161/200 [1:14:27<18:10, 27.96s/Epochs]"
     ]
    },
    {
     "name": "stdout",
     "output_type": "stream",
     "text": [
      "Epoch: 0160,\tTrain mse: 0.00596682,\tTrain_RMSE: 0.07724516,\tTrain_acc: 0.07720552,\tTest mse: 0.00591263,\tTime: 27.80459619s\n"
     ]
    },
    {
     "name": "stderr",
     "output_type": "stream",
     "text": [
      "Training:  82%|████████▏ | 163/200 [1:15:22<17:13, 27.94s/Epochs]"
     ]
    },
    {
     "name": "stdout",
     "output_type": "stream",
     "text": [
      "Epoch: 0162,\tTrain mse: 0.00595380,\tTrain_RMSE: 0.07716088,\tTrain_acc: 0.07712128,\tTest mse: 0.00589923,\tTime: 28.29631209s\n"
     ]
    },
    {
     "name": "stderr",
     "output_type": "stream",
     "text": [
      "Training:  82%|████████▎ | 165/200 [1:16:19<16:23, 28.10s/Epochs]"
     ]
    },
    {
     "name": "stdout",
     "output_type": "stream",
     "text": [
      "Epoch: 0164,\tTrain mse: 0.00594047,\tTrain_RMSE: 0.07707443,\tTrain_acc: 0.07703488,\tTest mse: 0.00588429,\tTime: 28.50481963s\n"
     ]
    },
    {
     "name": "stderr",
     "output_type": "stream",
     "text": [
      "Training:  84%|████████▎ | 167/200 [1:17:15<15:27, 28.11s/Epochs]"
     ]
    },
    {
     "name": "stdout",
     "output_type": "stream",
     "text": [
      "Epoch: 0166,\tTrain mse: 0.00592590,\tTrain_RMSE: 0.07697986,\tTrain_acc: 0.07694038,\tTest mse: 0.00587096,\tTime: 28.19827056s\n"
     ]
    },
    {
     "name": "stderr",
     "output_type": "stream",
     "text": [
      "Training:  84%|████████▍ | 169/200 [1:18:10<14:23, 27.86s/Epochs]"
     ]
    },
    {
     "name": "stdout",
     "output_type": "stream",
     "text": [
      "Epoch: 0168,\tTrain mse: 0.00591223,\tTrain_RMSE: 0.07689103,\tTrain_acc: 0.07685159,\tTest mse: 0.00585707,\tTime: 27.49765611s\n"
     ]
    },
    {
     "name": "stderr",
     "output_type": "stream",
     "text": [
      "Training:  86%|████████▌ | 171/200 [1:19:06<13:26, 27.79s/Epochs]"
     ]
    },
    {
     "name": "stdout",
     "output_type": "stream",
     "text": [
      "Epoch: 0170,\tTrain mse: 0.00589917,\tTrain_RMSE: 0.07680605,\tTrain_acc: 0.07676665,\tTest mse: 0.00584421,\tTime: 27.40136528s\n"
     ]
    },
    {
     "name": "stderr",
     "output_type": "stream",
     "text": [
      "Training:  86%|████████▋ | 173/200 [1:20:00<12:23, 27.53s/Epochs]"
     ]
    },
    {
     "name": "stdout",
     "output_type": "stream",
     "text": [
      "Epoch: 0172,\tTrain mse: 0.00588511,\tTrain_RMSE: 0.07671444,\tTrain_acc: 0.07667509,\tTest mse: 0.00583065,\tTime: 27.39871454s\n"
     ]
    },
    {
     "name": "stderr",
     "output_type": "stream",
     "text": [
      "Training:  88%|████████▊ | 175/200 [1:20:55<11:27, 27.51s/Epochs]"
     ]
    },
    {
     "name": "stdout",
     "output_type": "stream",
     "text": [
      "Epoch: 0174,\tTrain mse: 0.00587133,\tTrain_RMSE: 0.07662457,\tTrain_acc: 0.07658527,\tTest mse: 0.00581663,\tTime: 27.21163273s\n"
     ]
    },
    {
     "name": "stderr",
     "output_type": "stream",
     "text": [
      "Training:  88%|████████▊ | 177/200 [1:21:51<10:34, 27.60s/Epochs]"
     ]
    },
    {
     "name": "stdout",
     "output_type": "stream",
     "text": [
      "Epoch: 0176,\tTrain mse: 0.00585725,\tTrain_RMSE: 0.07653265,\tTrain_acc: 0.07649338,\tTest mse: 0.00580337,\tTime: 27.90183806s\n"
     ]
    },
    {
     "name": "stderr",
     "output_type": "stream",
     "text": [
      "Training:  90%|████████▉ | 179/200 [1:22:45<09:35, 27.39s/Epochs]"
     ]
    },
    {
     "name": "stdout",
     "output_type": "stream",
     "text": [
      "Epoch: 0178,\tTrain mse: 0.00584378,\tTrain_RMSE: 0.07644463,\tTrain_acc: 0.07640541,\tTest mse: 0.00578954,\tTime: 27.10445023s\n"
     ]
    },
    {
     "name": "stderr",
     "output_type": "stream",
     "text": [
      "Training:  90%|█████████ | 181/200 [1:23:40<08:38, 27.31s/Epochs]"
     ]
    },
    {
     "name": "stdout",
     "output_type": "stream",
     "text": [
      "Epoch: 0180,\tTrain mse: 0.00582985,\tTrain_RMSE: 0.07635344,\tTrain_acc: 0.07631426,\tTest mse: 0.00577561,\tTime: 27.19854784s\n"
     ]
    },
    {
     "name": "stderr",
     "output_type": "stream",
     "text": [
      "Training:  92%|█████████▏| 183/200 [1:24:35<07:46, 27.44s/Epochs]"
     ]
    },
    {
     "name": "stdout",
     "output_type": "stream",
     "text": [
      "Epoch: 0182,\tTrain mse: 0.00581588,\tTrain_RMSE: 0.07626191,\tTrain_acc: 0.07622278,\tTest mse: 0.00576179,\tTime: 27.39817190s\n"
     ]
    },
    {
     "name": "stderr",
     "output_type": "stream",
     "text": [
      "Training:  92%|█████████▎| 185/200 [1:25:30<06:52, 27.48s/Epochs]"
     ]
    },
    {
     "name": "stdout",
     "output_type": "stream",
     "text": [
      "Epoch: 0184,\tTrain mse: 0.00580203,\tTrain_RMSE: 0.07617103,\tTrain_acc: 0.07613194,\tTest mse: 0.00574765,\tTime: 27.60288906s\n"
     ]
    },
    {
     "name": "stderr",
     "output_type": "stream",
     "text": [
      "Training:  94%|█████████▎| 187/200 [1:26:25<05:57, 27.54s/Epochs]"
     ]
    },
    {
     "name": "stdout",
     "output_type": "stream",
     "text": [
      "Epoch: 0186,\tTrain mse: 0.00578767,\tTrain_RMSE: 0.07607675,\tTrain_acc: 0.07603770,\tTest mse: 0.00573370,\tTime: 27.51606345s\n"
     ]
    },
    {
     "name": "stderr",
     "output_type": "stream",
     "text": [
      "Training:  94%|█████████▍| 189/200 [1:27:18<04:58, 27.10s/Epochs]"
     ]
    },
    {
     "name": "stdout",
     "output_type": "stream",
     "text": [
      "Epoch: 0188,\tTrain mse: 0.00577350,\tTrain_RMSE: 0.07598352,\tTrain_acc: 0.07594453,\tTest mse: 0.00572022,\tTime: 27.09630942s\n"
     ]
    },
    {
     "name": "stderr",
     "output_type": "stream",
     "text": [
      "Training:  96%|█████████▌| 191/200 [1:28:13<04:05, 27.31s/Epochs]"
     ]
    },
    {
     "name": "stdout",
     "output_type": "stream",
     "text": [
      "Epoch: 0190,\tTrain mse: 0.00575945,\tTrain_RMSE: 0.07589104,\tTrain_acc: 0.07585211,\tTest mse: 0.00570572,\tTime: 27.09358788s\n"
     ]
    },
    {
     "name": "stderr",
     "output_type": "stream",
     "text": [
      "Training:  96%|█████████▋| 193/200 [1:29:10<03:14, 27.73s/Epochs]"
     ]
    },
    {
     "name": "stdout",
     "output_type": "stream",
     "text": [
      "Epoch: 0192,\tTrain mse: 0.00574521,\tTrain_RMSE: 0.07579715,\tTrain_acc: 0.07575826,\tTest mse: 0.00569128,\tTime: 27.60613799s\n"
     ]
    },
    {
     "name": "stderr",
     "output_type": "stream",
     "text": [
      "Training:  98%|█████████▊| 195/200 [1:30:06<02:19, 27.80s/Epochs]"
     ]
    },
    {
     "name": "stdout",
     "output_type": "stream",
     "text": [
      "Epoch: 0194,\tTrain mse: 0.00573120,\tTrain_RMSE: 0.07570470,\tTrain_acc: 0.07566586,\tTest mse: 0.00567749,\tTime: 27.98689604s\n"
     ]
    },
    {
     "name": "stderr",
     "output_type": "stream",
     "text": [
      "Training:  98%|█████████▊| 197/200 [1:31:02<01:23, 27.84s/Epochs]"
     ]
    },
    {
     "name": "stdout",
     "output_type": "stream",
     "text": [
      "Epoch: 0196,\tTrain mse: 0.00571653,\tTrain_RMSE: 0.07560773,\tTrain_acc: 0.07556891,\tTest mse: 0.00566317,\tTime: 27.48156667s\n"
     ]
    },
    {
     "name": "stderr",
     "output_type": "stream",
     "text": [
      "Training: 100%|█████████▉| 199/200 [1:31:57<00:27, 27.83s/Epochs]"
     ]
    },
    {
     "name": "stdout",
     "output_type": "stream",
     "text": [
      "Epoch: 0198,\tTrain mse: 0.00570245,\tTrain_RMSE: 0.07551454,\tTrain_acc: 0.07547578,\tTest mse: 0.00564941,\tTime: 27.71139622s\n"
     ]
    },
    {
     "name": "stderr",
     "output_type": "stream",
     "text": [
      "Training: 100%|██████████| 200/200 [1:32:25<00:00, 27.73s/Epochs]\n"
     ]
    },
    {
     "name": "stdout",
     "output_type": "stream",
     "text": [
      "Model.state_dict:\n",
      "node_encode.0.weight \t torch.Size([26, 2])\n",
      "node_encode.0.bias \t torch.Size([26])\n",
      "node_encode.1.weight \t torch.Size([26, 26])\n",
      "node_encode.1.bias \t torch.Size([26])\n",
      "node_encode.2.weight \t torch.Size([26, 26])\n",
      "node_encode.2.bias \t torch.Size([26])\n",
      "node_encode.3.weight \t torch.Size([26, 26])\n",
      "node_encode.3.bias \t torch.Size([26])\n",
      "node_encode_norm.weight \t torch.Size([26])\n",
      "node_encode_norm.bias \t torch.Size([26])\n",
      "edge_encode.0.weight \t torch.Size([26, 3])\n",
      "edge_encode.0.bias \t torch.Size([26])\n",
      "edge_encode.1.weight \t torch.Size([26, 26])\n",
      "edge_encode.1.bias \t torch.Size([26])\n",
      "edge_encode.2.weight \t torch.Size([26, 26])\n",
      "edge_encode.2.bias \t torch.Size([26])\n",
      "edge_encode.3.weight \t torch.Size([26, 26])\n",
      "edge_encode.3.bias \t torch.Size([26])\n",
      "edge_encode_norm.weight \t torch.Size([26])\n",
      "edge_encode_norm.bias \t torch.Size([26])\n",
      "edge_down_mps.0.0.0.weight \t torch.Size([26, 78])\n",
      "edge_down_mps.0.0.0.bias \t torch.Size([26])\n",
      "edge_down_mps.0.0.1.weight \t torch.Size([26, 26])\n",
      "edge_down_mps.0.0.1.bias \t torch.Size([26])\n",
      "edge_down_mps.0.0.2.weight \t torch.Size([26, 26])\n",
      "edge_down_mps.0.0.2.bias \t torch.Size([26])\n",
      "edge_down_mps.0.0.3.weight \t torch.Size([26, 26])\n",
      "edge_down_mps.0.0.3.bias \t torch.Size([26])\n",
      "edge_down_mps.0.0.4.weight \t torch.Size([26, 26])\n",
      "edge_down_mps.0.0.4.bias \t torch.Size([26])\n",
      "edge_down_mps.0.1.0.weight \t torch.Size([26, 78])\n",
      "edge_down_mps.0.1.0.bias \t torch.Size([26])\n",
      "edge_down_mps.0.1.1.weight \t torch.Size([26, 26])\n",
      "edge_down_mps.0.1.1.bias \t torch.Size([26])\n",
      "edge_down_mps.0.1.2.weight \t torch.Size([26, 26])\n",
      "edge_down_mps.0.1.2.bias \t torch.Size([26])\n",
      "edge_down_mps.0.1.3.weight \t torch.Size([26, 26])\n",
      "edge_down_mps.0.1.3.bias \t torch.Size([26])\n",
      "edge_down_mps.0.1.4.weight \t torch.Size([26, 26])\n",
      "edge_down_mps.0.1.4.bias \t torch.Size([26])\n",
      "edge_down_mps.1.0.0.weight \t torch.Size([26, 78])\n",
      "edge_down_mps.1.0.0.bias \t torch.Size([26])\n",
      "edge_down_mps.1.0.1.weight \t torch.Size([26, 26])\n",
      "edge_down_mps.1.0.1.bias \t torch.Size([26])\n",
      "edge_down_mps.1.0.2.weight \t torch.Size([26, 26])\n",
      "edge_down_mps.1.0.2.bias \t torch.Size([26])\n",
      "edge_down_mps.1.0.3.weight \t torch.Size([26, 26])\n",
      "edge_down_mps.1.0.3.bias \t torch.Size([26])\n",
      "edge_down_mps.1.0.4.weight \t torch.Size([26, 26])\n",
      "edge_down_mps.1.0.4.bias \t torch.Size([26])\n",
      "edge_down_mps.1.1.0.weight \t torch.Size([26, 78])\n",
      "edge_down_mps.1.1.0.bias \t torch.Size([26])\n",
      "edge_down_mps.1.1.1.weight \t torch.Size([26, 26])\n",
      "edge_down_mps.1.1.1.bias \t torch.Size([26])\n",
      "edge_down_mps.1.1.2.weight \t torch.Size([26, 26])\n",
      "edge_down_mps.1.1.2.bias \t torch.Size([26])\n",
      "edge_down_mps.1.1.3.weight \t torch.Size([26, 26])\n",
      "edge_down_mps.1.1.3.bias \t torch.Size([26])\n",
      "edge_down_mps.1.1.4.weight \t torch.Size([26, 26])\n",
      "edge_down_mps.1.1.4.bias \t torch.Size([26])\n",
      "edge_down_mps.2.0.0.weight \t torch.Size([26, 78])\n",
      "edge_down_mps.2.0.0.bias \t torch.Size([26])\n",
      "edge_down_mps.2.0.1.weight \t torch.Size([26, 26])\n",
      "edge_down_mps.2.0.1.bias \t torch.Size([26])\n",
      "edge_down_mps.2.0.2.weight \t torch.Size([26, 26])\n",
      "edge_down_mps.2.0.2.bias \t torch.Size([26])\n",
      "edge_down_mps.2.0.3.weight \t torch.Size([26, 26])\n",
      "edge_down_mps.2.0.3.bias \t torch.Size([26])\n",
      "edge_down_mps.2.0.4.weight \t torch.Size([26, 26])\n",
      "edge_down_mps.2.0.4.bias \t torch.Size([26])\n",
      "edge_down_mps.3.0.0.weight \t torch.Size([26, 78])\n",
      "edge_down_mps.3.0.0.bias \t torch.Size([26])\n",
      "edge_down_mps.3.0.1.weight \t torch.Size([26, 26])\n",
      "edge_down_mps.3.0.1.bias \t torch.Size([26])\n",
      "edge_down_mps.3.0.2.weight \t torch.Size([26, 26])\n",
      "edge_down_mps.3.0.2.bias \t torch.Size([26])\n",
      "edge_down_mps.3.0.3.weight \t torch.Size([26, 26])\n",
      "edge_down_mps.3.0.3.bias \t torch.Size([26])\n",
      "edge_down_mps.3.0.4.weight \t torch.Size([26, 26])\n",
      "edge_down_mps.3.0.4.bias \t torch.Size([26])\n",
      "edge_down_norms.0.0.weight \t torch.Size([26])\n",
      "edge_down_norms.0.0.bias \t torch.Size([26])\n",
      "edge_down_norms.0.1.weight \t torch.Size([26])\n",
      "edge_down_norms.0.1.bias \t torch.Size([26])\n",
      "edge_down_norms.1.0.weight \t torch.Size([26])\n",
      "edge_down_norms.1.0.bias \t torch.Size([26])\n",
      "edge_down_norms.1.1.weight \t torch.Size([26])\n",
      "edge_down_norms.1.1.bias \t torch.Size([26])\n",
      "edge_down_norms.2.0.weight \t torch.Size([26])\n",
      "edge_down_norms.2.0.bias \t torch.Size([26])\n",
      "edge_down_norms.3.0.weight \t torch.Size([26])\n",
      "edge_down_norms.3.0.bias \t torch.Size([26])\n",
      "node_down_mps.0.0.0.weight \t torch.Size([26, 52])\n",
      "node_down_mps.0.0.0.bias \t torch.Size([26])\n",
      "node_down_mps.0.0.1.weight \t torch.Size([26, 26])\n",
      "node_down_mps.0.0.1.bias \t torch.Size([26])\n",
      "node_down_mps.0.0.2.weight \t torch.Size([26, 26])\n",
      "node_down_mps.0.0.2.bias \t torch.Size([26])\n",
      "node_down_mps.0.0.3.weight \t torch.Size([26, 26])\n",
      "node_down_mps.0.0.3.bias \t torch.Size([26])\n",
      "node_down_mps.0.0.4.weight \t torch.Size([26, 26])\n",
      "node_down_mps.0.0.4.bias \t torch.Size([26])\n",
      "node_down_mps.0.1.0.weight \t torch.Size([26, 52])\n",
      "node_down_mps.0.1.0.bias \t torch.Size([26])\n",
      "node_down_mps.0.1.1.weight \t torch.Size([26, 26])\n",
      "node_down_mps.0.1.1.bias \t torch.Size([26])\n",
      "node_down_mps.0.1.2.weight \t torch.Size([26, 26])\n",
      "node_down_mps.0.1.2.bias \t torch.Size([26])\n",
      "node_down_mps.0.1.3.weight \t torch.Size([26, 26])\n",
      "node_down_mps.0.1.3.bias \t torch.Size([26])\n",
      "node_down_mps.0.1.4.weight \t torch.Size([26, 26])\n",
      "node_down_mps.0.1.4.bias \t torch.Size([26])\n",
      "node_down_mps.1.0.0.weight \t torch.Size([26, 84])\n",
      "node_down_mps.1.0.0.bias \t torch.Size([26])\n",
      "node_down_mps.1.0.1.weight \t torch.Size([26, 26])\n",
      "node_down_mps.1.0.1.bias \t torch.Size([26])\n",
      "node_down_mps.1.0.2.weight \t torch.Size([26, 26])\n",
      "node_down_mps.1.0.2.bias \t torch.Size([26])\n",
      "node_down_mps.1.0.3.weight \t torch.Size([26, 26])\n",
      "node_down_mps.1.0.3.bias \t torch.Size([26])\n",
      "node_down_mps.1.0.4.weight \t torch.Size([26, 26])\n",
      "node_down_mps.1.0.4.bias \t torch.Size([26])\n",
      "node_down_mps.1.1.0.weight \t torch.Size([26, 84])\n",
      "node_down_mps.1.1.0.bias \t torch.Size([26])\n",
      "node_down_mps.1.1.1.weight \t torch.Size([26, 26])\n",
      "node_down_mps.1.1.1.bias \t torch.Size([26])\n",
      "node_down_mps.1.1.2.weight \t torch.Size([26, 26])\n",
      "node_down_mps.1.1.2.bias \t torch.Size([26])\n",
      "node_down_mps.1.1.3.weight \t torch.Size([26, 26])\n",
      "node_down_mps.1.1.3.bias \t torch.Size([26])\n",
      "node_down_mps.1.1.4.weight \t torch.Size([26, 26])\n",
      "node_down_mps.1.1.4.bias \t torch.Size([26])\n",
      "node_down_mps.2.0.0.weight \t torch.Size([26, 84])\n",
      "node_down_mps.2.0.0.bias \t torch.Size([26])\n",
      "node_down_mps.2.0.1.weight \t torch.Size([26, 26])\n",
      "node_down_mps.2.0.1.bias \t torch.Size([26])\n",
      "node_down_mps.2.0.2.weight \t torch.Size([26, 26])\n",
      "node_down_mps.2.0.2.bias \t torch.Size([26])\n",
      "node_down_mps.2.0.3.weight \t torch.Size([26, 26])\n",
      "node_down_mps.2.0.3.bias \t torch.Size([26])\n",
      "node_down_mps.2.0.4.weight \t torch.Size([26, 26])\n",
      "node_down_mps.2.0.4.bias \t torch.Size([26])\n",
      "node_down_mps.3.0.0.weight \t torch.Size([26, 84])\n",
      "node_down_mps.3.0.0.bias \t torch.Size([26])\n",
      "node_down_mps.3.0.1.weight \t torch.Size([26, 26])\n",
      "node_down_mps.3.0.1.bias \t torch.Size([26])\n",
      "node_down_mps.3.0.2.weight \t torch.Size([26, 26])\n",
      "node_down_mps.3.0.2.bias \t torch.Size([26])\n",
      "node_down_mps.3.0.3.weight \t torch.Size([26, 26])\n",
      "node_down_mps.3.0.3.bias \t torch.Size([26])\n",
      "node_down_mps.3.0.4.weight \t torch.Size([26, 26])\n",
      "node_down_mps.3.0.4.bias \t torch.Size([26])\n",
      "node_down_norms.0.0.weight \t torch.Size([26])\n",
      "node_down_norms.0.0.bias \t torch.Size([26])\n",
      "node_down_norms.0.1.weight \t torch.Size([26])\n",
      "node_down_norms.0.1.bias \t torch.Size([26])\n",
      "node_down_norms.1.0.weight \t torch.Size([26])\n",
      "node_down_norms.1.0.bias \t torch.Size([26])\n",
      "node_down_norms.1.1.weight \t torch.Size([26])\n",
      "node_down_norms.1.1.bias \t torch.Size([26])\n",
      "node_down_norms.2.0.weight \t torch.Size([26])\n",
      "node_down_norms.2.0.bias \t torch.Size([26])\n",
      "node_down_norms.3.0.weight \t torch.Size([26])\n",
      "node_down_norms.3.0.bias \t torch.Size([26])\n",
      "edge_up_mps.0.0.0.weight \t torch.Size([26, 78])\n",
      "edge_up_mps.0.0.0.bias \t torch.Size([26])\n",
      "edge_up_mps.0.0.1.weight \t torch.Size([26, 26])\n",
      "edge_up_mps.0.0.1.bias \t torch.Size([26])\n",
      "edge_up_mps.0.0.2.weight \t torch.Size([26, 26])\n",
      "edge_up_mps.0.0.2.bias \t torch.Size([26])\n",
      "edge_up_mps.0.0.3.weight \t torch.Size([26, 26])\n",
      "edge_up_mps.0.0.3.bias \t torch.Size([26])\n",
      "edge_up_mps.0.0.4.weight \t torch.Size([26, 26])\n",
      "edge_up_mps.0.0.4.bias \t torch.Size([26])\n",
      "edge_up_mps.1.0.0.weight \t torch.Size([26, 78])\n",
      "edge_up_mps.1.0.0.bias \t torch.Size([26])\n",
      "edge_up_mps.1.0.1.weight \t torch.Size([26, 26])\n",
      "edge_up_mps.1.0.1.bias \t torch.Size([26])\n",
      "edge_up_mps.1.0.2.weight \t torch.Size([26, 26])\n",
      "edge_up_mps.1.0.2.bias \t torch.Size([26])\n",
      "edge_up_mps.1.0.3.weight \t torch.Size([26, 26])\n",
      "edge_up_mps.1.0.3.bias \t torch.Size([26])\n",
      "edge_up_mps.1.0.4.weight \t torch.Size([26, 26])\n",
      "edge_up_mps.1.0.4.bias \t torch.Size([26])\n",
      "edge_up_mps.2.0.0.weight \t torch.Size([26, 78])\n",
      "edge_up_mps.2.0.0.bias \t torch.Size([26])\n",
      "edge_up_mps.2.0.1.weight \t torch.Size([26, 26])\n",
      "edge_up_mps.2.0.1.bias \t torch.Size([26])\n",
      "edge_up_mps.2.0.2.weight \t torch.Size([26, 26])\n",
      "edge_up_mps.2.0.2.bias \t torch.Size([26])\n",
      "edge_up_mps.2.0.3.weight \t torch.Size([26, 26])\n",
      "edge_up_mps.2.0.3.bias \t torch.Size([26])\n",
      "edge_up_mps.2.0.4.weight \t torch.Size([26, 26])\n",
      "edge_up_mps.2.0.4.bias \t torch.Size([26])\n",
      "edge_up_mps.2.1.0.weight \t torch.Size([26, 78])\n",
      "edge_up_mps.2.1.0.bias \t torch.Size([26])\n",
      "edge_up_mps.2.1.1.weight \t torch.Size([26, 26])\n",
      "edge_up_mps.2.1.1.bias \t torch.Size([26])\n",
      "edge_up_mps.2.1.2.weight \t torch.Size([26, 26])\n",
      "edge_up_mps.2.1.2.bias \t torch.Size([26])\n",
      "edge_up_mps.2.1.3.weight \t torch.Size([26, 26])\n",
      "edge_up_mps.2.1.3.bias \t torch.Size([26])\n",
      "edge_up_mps.2.1.4.weight \t torch.Size([26, 26])\n",
      "edge_up_mps.2.1.4.bias \t torch.Size([26])\n",
      "edge_up_mps.3.0.0.weight \t torch.Size([26, 78])\n",
      "edge_up_mps.3.0.0.bias \t torch.Size([26])\n",
      "edge_up_mps.3.0.1.weight \t torch.Size([26, 26])\n",
      "edge_up_mps.3.0.1.bias \t torch.Size([26])\n",
      "edge_up_mps.3.0.2.weight \t torch.Size([26, 26])\n",
      "edge_up_mps.3.0.2.bias \t torch.Size([26])\n",
      "edge_up_mps.3.0.3.weight \t torch.Size([26, 26])\n",
      "edge_up_mps.3.0.3.bias \t torch.Size([26])\n",
      "edge_up_mps.3.0.4.weight \t torch.Size([26, 26])\n",
      "edge_up_mps.3.0.4.bias \t torch.Size([26])\n",
      "edge_up_mps.3.1.0.weight \t torch.Size([26, 78])\n",
      "edge_up_mps.3.1.0.bias \t torch.Size([26])\n",
      "edge_up_mps.3.1.1.weight \t torch.Size([26, 26])\n",
      "edge_up_mps.3.1.1.bias \t torch.Size([26])\n",
      "edge_up_mps.3.1.2.weight \t torch.Size([26, 26])\n",
      "edge_up_mps.3.1.2.bias \t torch.Size([26])\n",
      "edge_up_mps.3.1.3.weight \t torch.Size([26, 26])\n",
      "edge_up_mps.3.1.3.bias \t torch.Size([26])\n",
      "edge_up_mps.3.1.4.weight \t torch.Size([26, 26])\n",
      "edge_up_mps.3.1.4.bias \t torch.Size([26])\n",
      "edge_up_norms.0.0.weight \t torch.Size([26])\n",
      "edge_up_norms.0.0.bias \t torch.Size([26])\n",
      "edge_up_norms.1.0.weight \t torch.Size([26])\n",
      "edge_up_norms.1.0.bias \t torch.Size([26])\n",
      "edge_up_norms.2.0.weight \t torch.Size([26])\n",
      "edge_up_norms.2.0.bias \t torch.Size([26])\n",
      "edge_up_norms.2.1.weight \t torch.Size([26])\n",
      "edge_up_norms.2.1.bias \t torch.Size([26])\n",
      "edge_up_norms.3.0.weight \t torch.Size([26])\n",
      "edge_up_norms.3.0.bias \t torch.Size([26])\n",
      "edge_up_norms.3.1.weight \t torch.Size([26])\n",
      "edge_up_norms.3.1.bias \t torch.Size([26])\n",
      "node_up_mps.0.0.0.weight \t torch.Size([26, 84])\n",
      "node_up_mps.0.0.0.bias \t torch.Size([26])\n",
      "node_up_mps.0.0.1.weight \t torch.Size([26, 26])\n",
      "node_up_mps.0.0.1.bias \t torch.Size([26])\n",
      "node_up_mps.0.0.2.weight \t torch.Size([26, 26])\n",
      "node_up_mps.0.0.2.bias \t torch.Size([26])\n",
      "node_up_mps.0.0.3.weight \t torch.Size([26, 26])\n",
      "node_up_mps.0.0.3.bias \t torch.Size([26])\n",
      "node_up_mps.0.0.4.weight \t torch.Size([26, 26])\n",
      "node_up_mps.0.0.4.bias \t torch.Size([26])\n",
      "node_up_mps.1.0.0.weight \t torch.Size([26, 84])\n",
      "node_up_mps.1.0.0.bias \t torch.Size([26])\n",
      "node_up_mps.1.0.1.weight \t torch.Size([26, 26])\n",
      "node_up_mps.1.0.1.bias \t torch.Size([26])\n",
      "node_up_mps.1.0.2.weight \t torch.Size([26, 26])\n",
      "node_up_mps.1.0.2.bias \t torch.Size([26])\n",
      "node_up_mps.1.0.3.weight \t torch.Size([26, 26])\n",
      "node_up_mps.1.0.3.bias \t torch.Size([26])\n",
      "node_up_mps.1.0.4.weight \t torch.Size([26, 26])\n",
      "node_up_mps.1.0.4.bias \t torch.Size([26])\n",
      "node_up_mps.2.0.0.weight \t torch.Size([26, 84])\n",
      "node_up_mps.2.0.0.bias \t torch.Size([26])\n",
      "node_up_mps.2.0.1.weight \t torch.Size([26, 26])\n",
      "node_up_mps.2.0.1.bias \t torch.Size([26])\n",
      "node_up_mps.2.0.2.weight \t torch.Size([26, 26])\n",
      "node_up_mps.2.0.2.bias \t torch.Size([26])\n",
      "node_up_mps.2.0.3.weight \t torch.Size([26, 26])\n",
      "node_up_mps.2.0.3.bias \t torch.Size([26])\n",
      "node_up_mps.2.0.4.weight \t torch.Size([26, 26])\n",
      "node_up_mps.2.0.4.bias \t torch.Size([26])\n",
      "node_up_mps.2.1.0.weight \t torch.Size([26, 84])\n",
      "node_up_mps.2.1.0.bias \t torch.Size([26])\n",
      "node_up_mps.2.1.1.weight \t torch.Size([26, 26])\n",
      "node_up_mps.2.1.1.bias \t torch.Size([26])\n",
      "node_up_mps.2.1.2.weight \t torch.Size([26, 26])\n",
      "node_up_mps.2.1.2.bias \t torch.Size([26])\n",
      "node_up_mps.2.1.3.weight \t torch.Size([26, 26])\n",
      "node_up_mps.2.1.3.bias \t torch.Size([26])\n",
      "node_up_mps.2.1.4.weight \t torch.Size([26, 26])\n",
      "node_up_mps.2.1.4.bias \t torch.Size([26])\n",
      "node_up_mps.3.0.0.weight \t torch.Size([26, 52])\n",
      "node_up_mps.3.0.0.bias \t torch.Size([26])\n",
      "node_up_mps.3.0.1.weight \t torch.Size([26, 26])\n",
      "node_up_mps.3.0.1.bias \t torch.Size([26])\n",
      "node_up_mps.3.0.2.weight \t torch.Size([26, 26])\n",
      "node_up_mps.3.0.2.bias \t torch.Size([26])\n",
      "node_up_mps.3.0.3.weight \t torch.Size([26, 26])\n",
      "node_up_mps.3.0.3.bias \t torch.Size([26])\n",
      "node_up_mps.3.0.4.weight \t torch.Size([26, 26])\n",
      "node_up_mps.3.0.4.bias \t torch.Size([26])\n",
      "node_up_mps.3.1.0.weight \t torch.Size([26, 52])\n",
      "node_up_mps.3.1.0.bias \t torch.Size([26])\n",
      "node_up_mps.3.1.1.weight \t torch.Size([26, 26])\n",
      "node_up_mps.3.1.1.bias \t torch.Size([26])\n",
      "node_up_mps.3.1.2.weight \t torch.Size([26, 26])\n",
      "node_up_mps.3.1.2.bias \t torch.Size([26])\n",
      "node_up_mps.3.1.3.weight \t torch.Size([26, 26])\n",
      "node_up_mps.3.1.3.bias \t torch.Size([26])\n",
      "node_up_mps.3.1.4.weight \t torch.Size([26, 26])\n",
      "node_up_mps.3.1.4.bias \t torch.Size([26])\n",
      "node_up_norms.0.0.weight \t torch.Size([26])\n",
      "node_up_norms.0.0.bias \t torch.Size([26])\n",
      "node_up_norms.1.0.weight \t torch.Size([26])\n",
      "node_up_norms.1.0.bias \t torch.Size([26])\n",
      "node_up_norms.2.0.weight \t torch.Size([26])\n",
      "node_up_norms.2.0.bias \t torch.Size([26])\n",
      "node_up_norms.2.1.weight \t torch.Size([26])\n",
      "node_up_norms.2.1.bias \t torch.Size([26])\n",
      "node_up_norms.3.0.weight \t torch.Size([26])\n",
      "node_up_norms.3.0.bias \t torch.Size([26])\n",
      "node_up_norms.3.1.weight \t torch.Size([26])\n",
      "node_up_norms.3.1.bias \t torch.Size([26])\n",
      "autoencode_down.0.0.0.weight \t torch.Size([160, 169000])\n",
      "autoencode_down.0.0.0.bias \t torch.Size([160])\n",
      "autoencode_down.0.0.1.weight \t torch.Size([128, 160])\n",
      "autoencode_down.0.0.1.bias \t torch.Size([128])\n",
      "autoencode_down.0.0.2.weight \t torch.Size([64, 128])\n",
      "autoencode_down.0.0.2.bias \t torch.Size([64])\n",
      "autoencode_down.0.0.3.weight \t torch.Size([32, 64])\n",
      "autoencode_down.0.0.3.bias \t torch.Size([32])\n",
      "autoencode_down.0.1.0.weight \t torch.Size([160, 169000])\n",
      "autoencode_down.0.1.0.bias \t torch.Size([160])\n",
      "autoencode_down.0.1.1.weight \t torch.Size([128, 160])\n",
      "autoencode_down.0.1.1.bias \t torch.Size([128])\n",
      "autoencode_down.0.1.2.weight \t torch.Size([64, 128])\n",
      "autoencode_down.0.1.2.bias \t torch.Size([64])\n",
      "autoencode_down.0.1.3.weight \t torch.Size([32, 64])\n",
      "autoencode_down.0.1.3.bias \t torch.Size([32])\n",
      "autoencode_down.1.0.0.weight \t torch.Size([160, 124800])\n",
      "autoencode_down.1.0.0.bias \t torch.Size([160])\n",
      "autoencode_down.1.0.1.weight \t torch.Size([128, 160])\n",
      "autoencode_down.1.0.1.bias \t torch.Size([128])\n",
      "autoencode_down.1.0.2.weight \t torch.Size([64, 128])\n",
      "autoencode_down.1.0.2.bias \t torch.Size([64])\n",
      "autoencode_down.1.0.3.weight \t torch.Size([32, 64])\n",
      "autoencode_down.1.0.3.bias \t torch.Size([32])\n",
      "autoencode_down.2.0.0.weight \t torch.Size([160, 101400])\n",
      "autoencode_down.2.0.0.bias \t torch.Size([160])\n",
      "autoencode_down.2.0.1.weight \t torch.Size([128, 160])\n",
      "autoencode_down.2.0.1.bias \t torch.Size([128])\n",
      "autoencode_down.2.0.2.weight \t torch.Size([64, 128])\n",
      "autoencode_down.2.0.2.bias \t torch.Size([64])\n",
      "autoencode_down.2.0.3.weight \t torch.Size([32, 64])\n",
      "autoencode_down.2.0.3.bias \t torch.Size([32])\n",
      "attn_score_down.0.0.weight \t torch.Size([1, 58])\n",
      "attn_score_down.0.1.weight \t torch.Size([1, 58])\n",
      "attn_score_down.1.0.weight \t torch.Size([1, 58])\n",
      "attn_score_down.2.0.weight \t torch.Size([1, 58])\n",
      "autoencode_up.0.0.0.weight \t torch.Size([160, 101400])\n",
      "autoencode_up.0.0.0.bias \t torch.Size([160])\n",
      "autoencode_up.0.0.1.weight \t torch.Size([128, 160])\n",
      "autoencode_up.0.0.1.bias \t torch.Size([128])\n",
      "autoencode_up.0.0.2.weight \t torch.Size([64, 128])\n",
      "autoencode_up.0.0.2.bias \t torch.Size([64])\n",
      "autoencode_up.0.0.3.weight \t torch.Size([32, 64])\n",
      "autoencode_up.0.0.3.bias \t torch.Size([32])\n",
      "autoencode_up.1.0.0.weight \t torch.Size([160, 124800])\n",
      "autoencode_up.1.0.0.bias \t torch.Size([160])\n",
      "autoencode_up.1.0.1.weight \t torch.Size([128, 160])\n",
      "autoencode_up.1.0.1.bias \t torch.Size([128])\n",
      "autoencode_up.1.0.2.weight \t torch.Size([64, 128])\n",
      "autoencode_up.1.0.2.bias \t torch.Size([64])\n",
      "autoencode_up.1.0.3.weight \t torch.Size([32, 64])\n",
      "autoencode_up.1.0.3.bias \t torch.Size([32])\n",
      "autoencode_up.2.0.0.weight \t torch.Size([160, 169000])\n",
      "autoencode_up.2.0.0.bias \t torch.Size([160])\n",
      "autoencode_up.2.0.1.weight \t torch.Size([128, 160])\n",
      "autoencode_up.2.0.1.bias \t torch.Size([128])\n",
      "autoencode_up.2.0.2.weight \t torch.Size([64, 128])\n",
      "autoencode_up.2.0.2.bias \t torch.Size([64])\n",
      "autoencode_up.2.0.3.weight \t torch.Size([32, 64])\n",
      "autoencode_up.2.0.3.bias \t torch.Size([32])\n",
      "autoencode_up.2.1.0.weight \t torch.Size([160, 169000])\n",
      "autoencode_up.2.1.0.bias \t torch.Size([160])\n",
      "autoencode_up.2.1.1.weight \t torch.Size([128, 160])\n",
      "autoencode_up.2.1.1.bias \t torch.Size([128])\n",
      "autoencode_up.2.1.2.weight \t torch.Size([64, 128])\n",
      "autoencode_up.2.1.2.bias \t torch.Size([64])\n",
      "autoencode_up.2.1.3.weight \t torch.Size([32, 64])\n",
      "autoencode_up.2.1.3.bias \t torch.Size([32])\n",
      "attn_score_up.0.0.weight \t torch.Size([1, 58])\n",
      "attn_score_up.1.0.weight \t torch.Size([1, 58])\n",
      "attn_score_up.2.0.weight \t torch.Size([1, 58])\n",
      "attn_score_up.2.1.weight \t torch.Size([1, 58])\n",
      "node_decode.0.weight \t torch.Size([26, 26])\n",
      "node_decode.0.bias \t torch.Size([26])\n",
      "node_decode.1.weight \t torch.Size([26, 26])\n",
      "node_decode.1.bias \t torch.Size([26])\n",
      "node_decode.2.weight \t torch.Size([26, 26])\n",
      "node_decode.2.bias \t torch.Size([26])\n",
      "node_decode.3.weight \t torch.Size([2, 26])\n",
      "node_decode.3.bias \t torch.Size([2])\n"
     ]
    },
    {
     "data": {
      "image/png": "[encoded data removed]",
      "text/plain": [
       "<Figure size 432x288 with 1 Axes>"
      ]
     },
     "metadata": {
      "needs_background": "light"
     },
     "output_type": "display_data"
    }
   ],
   "source": [
    "SEED = 42    #42\n",
    "torch.manual_seed(SEED)\n",
    "torch.cuda.manual_seed_all(SEED)\n",
    "np.random.seed(SEED)\n",
    "random.seed(SEED)        #Python\n",
    "device = 'cuda' if torch.cuda.is_available() else 'cpu'    #cuda\n",
    "#perm_list=torch.load(dataset_dir+'/perm_list.pt')\n",
    "perm_list=torch.load(dataset_dir+'/perm_list_150.pt')\n",
    "\n",
    "print(device)\n",
    "for i in range(len(perm_list[0])):\n",
    "   \n",
    "    perm_list[0][i]=perm_list[0][i].to(device)\n",
    "print(perm_list[0][0].device)\n",
    "\n",
    "pathE='/root/data1/d_0.4_EMD/Encode_state_dict.pt'\n",
    "pathD='/root/data1/d_0.4_EMD/Decode_state_dict.pt'\n",
    "pathED = '/root/data1/d_0.4_EMD/ED_state_dict.pt'\n",
    "epochs = 200\n",
    "\n",
    "file_path= dataset_dir+'/meshgraphnets_miniset'+str(per_t)+str(batch_size)+str(number_trajectories)+'traj'+str(satart_number_ts)+str(number_ts)+'ts_vis.pt'\n",
    "dataset = torch.load(file_path)\n",
    "print(len(dataset))\n",
    "EDstats_list = get_EDstats(dataset)\n",
    "\n",
    "[EDmean_vec_x,EDstd_vec_x,EDmean_vec_edge,EDstd_vec_edge] = EDstats_list\n",
    "torch.save(EDstats_list,dataset_dir+'/EDstats_list.pt')\n",
    "\n",
    "(EDmean_vec_x,EDstd_vec_x,EDmean_vec_edge,EDstd_vec_edge)=(EDmean_vec_x.to(device),\n",
    "        EDstd_vec_x.to(device),EDmean_vec_edge.to(device),EDstd_vec_edge.to(device))\n",
    "\n",
    "train_size=7        #改\n",
    "train_loader = DataLoader(dataset[:train_size],  shuffle=False)\n",
    "valid_loader = DataLoader(dataset[train_size:], shuffle=False)#分一下训练数据和验证数据\n",
    "\n",
    "\n",
    "sample = dataset[:train_size][0]\n",
    "\n",
    "in_channels_node = sample.x.shape[1]  #2\n",
    "in_channels_edge = sample.edge_attr.shape[1]  #3\n",
    "hidden_channels = 26#24    #22#12\n",
    "out_channels = in_channels_node\n",
    "batch_size =25       #改25\n",
    "n_mlp_encode = 4\n",
    "n_mlp_mp = 5#5\n",
    "encoding_dim=32#32\n",
    "ae_dim=[160,128,64,32]#[128,64,32,16,10][300,128,64,32]\n",
    "n_mp_down = [2,2,1,1]\n",
    "n_mp_up= [1,1,2,2]\n",
    "pool_num =[6500,4800,3900]#[2000,1500,1200,1000][2000,1600,1400,1000]\n",
    "\n",
    "act = F.elu\n",
    "param_sharing = False\n",
    "\n",
    "model = MessagePassing_Autoencode_attn(\n",
    "                hidden_channels,\n",
    "                in_channels_node,\n",
    "                in_channels_edge,\n",
    "                \n",
    "                out_channels,\n",
    "                encoding_dim,\n",
    "                n_mlp_mp,\n",
    "                n_mlp_encode,\n",
    "\n",
    "                ae_dim,\n",
    "                n_mp_down,\n",
    "                n_mp_up,\n",
    "                pool_num,\n",
    "                \n",
    "                act,\n",
    "                \n",
    "                name='gnn_topk')\n",
    "\n",
    "model.to(device)\n",
    "model.load_state_dict(torch.load(pathED), strict=False)\n",
    "train_hist, test_hist=train(epochs, model, perm_list,train_loader, valid_loader,per_t,batch_size,\n",
    "                            EDmean_vec_x,EDstd_vec_x,EDmean_vec_edge,EDstd_vec_edge,pathED,pathD,pathE)\n",
    "plot_dir='/root/data1/d_0.4_EMD/loss/'\n",
    "save_DEplots(train_hist, test_hist,plot_dir)"
   ]
  },
  {
   "cell_type": "markdown",
   "metadata": {},
   "source": [
    "optimizer = torch.optim.Adam(model.parameters(), lr=0.0001) #weight_decay=1e-4\n",
    "scheduler = torch.optim.lr_scheduler.ReduceLROnPlateau(optimizer, mode='min', factor=0.5,\n",
    "                                patience=5, threshold=0.0000001, threshold_mode='rel',\n",
    "                                cooldown=0, min_lr=0.000001, eps=1e-08, verbose=True)"
   ]
  },
  {
   "cell_type": "code",
   "execution_count": 3,
   "metadata": {},
   "outputs": [
    {
     "name": "stdout",
     "output_type": "stream",
     "text": [
      "cuda\n",
      "cuda:0\n",
      "8\n"
     ]
    },
    {
     "name": "stderr",
     "output_type": "stream",
     "text": [
      "/usr/local/lib/python3.8/dist-packages/torch_geometric/deprecation.py:12: UserWarning: 'data.DataLoader' is deprecated, use 'loader.DataLoader' instead\n",
      "  warnings.warn(out)\n"
     ]
    }
   ],
   "source": [
    "SEED = 42    #42\n",
    "torch.manual_seed(SEED)\n",
    "torch.cuda.manual_seed_all(SEED)\n",
    "np.random.seed(SEED)\n",
    "random.seed(SEED)        #Python\n",
    "device = 'cuda' if torch.cuda.is_available() else 'cpu'    #cuda\n",
    "#perm_list=torch.load(dataset_dir+'/perm_list.pt')\n",
    "perm_list=torch.load(dataset_dir+'/perm_list_150.pt')\n",
    "\n",
    "print(device)\n",
    "for i in range(len(perm_list[0])):\n",
    "   \n",
    "    perm_list[0][i]=perm_list[0][i].to(device)\n",
    "print(perm_list[0][0].device)\n",
    "\n",
    "pathE='/root/data1/d_0.4_EMD/Encode_state_dict.pt'\n",
    "pathD='/root/data1/d_0.4_EMD/Decode_state_dict.pt'\n",
    "pathED = '/root/data1/d_0.4_EMD/ED_state_dict.pt'\n",
    "epochs = 200\n",
    "\n",
    "file_path= dataset_dir+'/meshgraphnets_miniset'+str(per_t)+str(batch_size)+str(number_trajectories)+'traj'+str(satart_number_ts)+str(number_ts)+'ts_vis.pt'\n",
    "dataset = torch.load(file_path)\n",
    "print(len(dataset))\n",
    "#EDstats_list = get_EDstats(dataset)\n",
    "\n",
    "[EDmean_vec_x,EDstd_vec_x,EDmean_vec_edge,EDstd_vec_edge] = torch.load(dataset_dir+'/EDstats_list.pt')\n",
    "\n",
    "(EDmean_vec_x,EDstd_vec_x,EDmean_vec_edge,EDstd_vec_edge)=(EDmean_vec_x.to(device),\n",
    "        EDstd_vec_x.to(device),EDmean_vec_edge.to(device),EDstd_vec_edge.to(device))\n",
    "\n",
    "train_size=7        #改\n",
    "train_loader = DataLoader(dataset[:train_size],  shuffle=False)\n",
    "valid_loader = DataLoader(dataset[train_size:], shuffle=False)#分一下训练数据和验证数据\n",
    "\n",
    "\n",
    "sample = dataset[:train_size][0]\n",
    "\n",
    "in_channels_node = sample.x.shape[1]  #2\n",
    "in_channels_edge = sample.edge_attr.shape[1]  #3\n",
    "hidden_channels = 26#24    #22#12\n",
    "out_channels = in_channels_node\n",
    "batch_size =25       #改25\n",
    "n_mlp_encode = 4\n",
    "n_mlp_mp = 5#5\n",
    "encoding_dim=32#32\n",
    "ae_dim=[160,128,64,32]#[128,64,32,16,10][300,128,64,32]\n",
    "n_mp_down = [2,2,1,1]\n",
    "n_mp_up= [1,1,2,2]\n",
    "pool_num =[6500,4800,3900]#[2000,1500,1200,1000][2000,1600,1400,1000]\n",
    "\n",
    "act = F.elu\n",
    "param_sharing = False"
   ]
  },
  {
   "cell_type": "code",
   "execution_count": 6,
   "metadata": {},
   "outputs": [
    {
     "name": "stdout",
     "output_type": "stream",
     "text": [
      "8\n",
      "8 200\n",
      "/root/data1/d_slice_0\n",
      "601\n",
      "Done collecting data!\n",
      "Done saving data!\n",
      "Output Location:  /root/data1/d_0.4_EMD/meshgraphnets_miniset111traj50200ts_vis.pt\n",
      "200\n",
      "Data(x=[7793, 2], edge_index=[2, 45964], edge_attr=[45964, 3], cells=[15190, 3], mesh_pos=[7793, 2])\n"
     ]
    },
    {
     "name": "stderr",
     "output_type": "stream",
     "text": [
      "/usr/local/lib/python3.8/dist-packages/torch_geometric/deprecation.py:12: UserWarning: 'data.DataLoader' is deprecated, use 'loader.DataLoader' instead\n",
      "  warnings.warn(out)\n"
     ]
    },
    {
     "name": "stdout",
     "output_type": "stream",
     "text": [
      "torch.Size([1558600, 2])\n"
     ]
    }
   ],
   "source": [
    "model = MessagePassing_Autoencode_attn(\n",
    "                hidden_channels,\n",
    "                in_channels_node,\n",
    "                in_channels_edge,\n",
    "                \n",
    "                out_channels,\n",
    "                encoding_dim,\n",
    "                n_mlp_mp,\n",
    "                n_mlp_encode,\n",
    "\n",
    "                ae_dim,\n",
    "                n_mp_down,\n",
    "                n_mp_up,\n",
    "                pool_num,\n",
    "                \n",
    "                act,\n",
    "                \n",
    "                name='gnn_topk')\n",
    "model.to(device)\n",
    "model.load_state_dict(torch.load(pathED), strict=False)\n",
    "dataset = torch.load(file_path)\n",
    "print(len(dataset))   #6\n",
    "n=int(len(dataset)/number_trajectories)\n",
    "nn=int(n*batch_size)\n",
    "print(n,nn)#6,150\n",
    "\n",
    "get_dataset(number_trajectories,satart_number_ts,number_ts,1,1,dataset_dir,path)\n",
    "\n",
    "file_path_ed= dataset_dir+'/meshgraphnets_miniset'+str(1)+str(1)+str(number_trajectories)+'traj'+str(satart_number_ts)+str(number_ts)+'ts_vis.pt'\n",
    "dataset_input = torch.load(file_path_ed)\n",
    "print(len(dataset_input))  #150\n",
    "print(dataset_input[0])    \n",
    "\n",
    "for i in range(number_trajectories):\n",
    "  dataset_=dataset[i*n:(i+1)*n]\n",
    "  num_=int(dataset_[0].x.shape[0]/(per_t*batch_size))\n",
    "  loader_ = DataLoader(dataset_,  shuffle=False)\n",
    "  pred_=torch.tensor([[0,0]]).type(torch.float).to(device)\n",
    "  #pred_=torch.tensor([[0]]).type(torch.float).to(device)\n",
    "  per_t=1\n",
    "  batch_size=25    #改\n",
    "  device = 'cuda' if torch.cuda.is_available() else 'cpu'\n",
    "  with torch.no_grad():\n",
    "    for step, data in enumerate(loader_):\n",
    "      data=data.to(device)\n",
    "      \n",
    "      out, _ = model(data, per_t ,perm_list[0], batch_size,EDmean_vec_x,EDstd_vec_x,EDmean_vec_edge,EDstd_vec_edge,batch=None, return_mask=False)\n",
    "      pred_=torch.vstack((pred_,out))\n",
    "  pred_=pred_[1:,:]\n",
    "  print(pred_.shape)   #150*3718,2\n",
    "  pred_=pred_*EDstd_vec_x+EDmean_vec_x   #pred是torch，行数为600个时间*点数，列为2\n",
    "  dataset_input_=dataset_input[i*nn:(i+1)*nn]\n",
    "\n",
    "  pred_=pred_.to('cpu')\n",
    "\n",
    "  viz_data_loader_ = copy.deepcopy(dataset_input_)\n",
    "  eval_data_loader_ = copy.deepcopy(dataset_input_)\n",
    "\n",
    "\n",
    "  for j in range(int(pred_.shape[0]/num_)):\n",
    "    viz_data_loader_[j].x=pred_[j*num_:(j+1)*num_,:]\n",
    "    eval_data_loader_[j].x=(dataset_input_[j].x-viz_data_loader_[j].x)\n",
    "  torch.save(viz_data_loader_,dataset_dir+'/encode_decode_output_'+str(i)+str(number_trajectories)+'traj'+str(satart_number_ts)+str(number_ts)+'ts_vis.pt')#200个data\n"
   ]
  },
  {
   "cell_type": "markdown",
   "metadata": {},
   "source": [
    "查看还原效果"
   ]
  },
  {
   "cell_type": "markdown",
   "metadata": {},
   "source": [
    "复制到文件夹查看还原效果"
   ]
  },
  {
   "cell_type": "code",
   "execution_count": 7,
   "metadata": {},
   "outputs": [
    {
     "name": "stdout",
     "output_type": "stream",
     "text": [
      "200\n",
      "Data(x=[7793, 2], edge_index=[2, 45964], edge_attr=[45964, 3], cells=[15190, 3], mesh_pos=[7793, 2])\n",
      "start to create the destination folder\n",
      "start to store data as a new variable\n",
      "transform succeed\n"
     ]
    }
   ],
   "source": [
    "for i in range(number_trajectories):\n",
    "    data=torch.load(dataset_dir+'/encode_decode_output_'+str(i)+str(number_trajectories)+'traj'+str(satart_number_ts)+str(number_ts)+'ts_vis.pt')\n",
    "    print(len(data))\n",
    "    print(data[0])\n",
    "    num=200\n",
    "    originalFolder='/root/data1/d_slice_'+str(i)\n",
    "    destinationFolder='/root/data1/d_0.4_dataset_EDoutput_'+str(i)\n",
    "    fileName=\"/slice_\"\n",
    "    transform_vector(data, satart_number_ts,number_ts, originalFolder, destinationFolder, fileName)"
   ]
  },
  {
   "cell_type": "markdown",
   "metadata": {},
   "source": [
    "生成低维数据"
   ]
  },
  {
   "cell_type": "code",
   "execution_count": 8,
   "metadata": {},
   "outputs": [
    {
     "name": "stdout",
     "output_type": "stream",
     "text": [
      "/root/data1/d_slice_0\n",
      "601\n",
      "Done collecting data!\n",
      "Done saving data!\n",
      "Output Location:  /root/data1/d_0.4_EMD/meshgraphnets_miniset12001traj50200ts_vis.pt\n",
      "1\n"
     ]
    }
   ],
   "source": [
    "per_t=1     #在编码和解码的时候每三个时刻个用的点是一样的\n",
    "batch_size = int(number_ts/per_t)\n",
    "\n",
    "\n",
    "dataset_dir = '/root/data1/d_0.4_EMD'\n",
    "path='/root/data1/d_slice_'\n",
    "\n",
    "get_dataset(number_trajectories,satart_number_ts,number_ts,per_t,batch_size,dataset_dir,path)\n",
    "\n",
    "file_path= dataset_dir+'/meshgraphnets_miniset'+str(per_t)+str(batch_size)+str(number_trajectories)+'traj'+str(satart_number_ts)+str(number_ts)+'ts_vis.pt'\n",
    "dataset_M = torch.load(file_path)\n",
    "print(len(dataset_M))   #长度为150  "
   ]
  },
  {
   "cell_type": "code",
   "execution_count": 9,
   "metadata": {},
   "outputs": [
    {
     "name": "stdout",
     "output_type": "stream",
     "text": [
      "200\n",
      "Data(x=[3900, 26], edge_index=[2, 14586], edge_attr=[14586, 26]) Data(x=[3900, 26], edge_index=[2, 14586], edge_attr=[14586, 26]) Data(x=[3900, 26], edge_index=[2, 14586], edge_attr=[14586, 26]) Data(x=[3900, 26], edge_index=[2, 14586], edge_attr=[14586, 26]) Data(x=[3900, 26], edge_index=[2, 14586], edge_attr=[14586, 26]) Data(x=[3900, 26], edge_index=[2, 14586], edge_attr=[14586, 26])\n"
     ]
    }
   ],
   "source": [
    "M_encode=GNN_topk_encode(\n",
    "                hidden_channels,\n",
    "                in_channels_node,\n",
    "                in_channels_edge,\n",
    "                \n",
    "                out_channels,\n",
    "                encoding_dim,\n",
    "                n_mlp_mp,\n",
    "                n_mlp_encode,\n",
    "\n",
    "                ae_dim,\n",
    "                n_mp_down,\n",
    "                n_mp_up,\n",
    "                pool_num,\n",
    "                \n",
    "                act,\n",
    "                \n",
    "                name='gnn_topk')\n",
    "M_encode.to(device)\n",
    "M_encode.load_state_dict(torch.load(pathE), strict=False)\n",
    "with torch.no_grad():\n",
    "  for i in range(len(dataset_M)):\n",
    "    dataset_M[i]=dataset_M[i].to(device)\n",
    "    data_list,batches , xs, positions, edge_attrs, edge_indices, edge_masks= M_encode(dataset_M[i], per_t , perm_list[0],\n",
    "                                                                                            batch_size,EDmean_vec_x,EDstd_vec_x,\n",
    "                                                                                            EDmean_vec_edge,EDstd_vec_edge,\n",
    "                                                                                            batch=None, return_mask=False)  \n",
    "    torch.save(data_list,dataset_dir+'/M_encode_output_'+str(i)+str(number_trajectories)+'traj'+str(per_t)+str(batch_size)+str(satart_number_ts)+str(number_ts)+'ts_vis.pt')\n",
    "    torch.save(batches,dataset_dir+'/'+str(i)+str(number_trajectories)+'traj'+'batches.pt')\n",
    "    torch.save(xs,dataset_dir+'/'+str(i)+str(number_trajectories)+'traj'+'xs.pt')\n",
    "    torch.save( positions,dataset_dir+'/'+str(i)+str(number_trajectories)+'traj'+'positions.pt')\n",
    "    torch.save( edge_attrs,dataset_dir+'/'+str(i)+str(number_trajectories)+'traj'+'edge_attrs.pt')\n",
    "    torch.save( edge_indices,dataset_dir+'/'+str(i)+str(number_trajectories)+'traj'+'edge_indices.pt')\n",
    "    torch.save( edge_masks,dataset_dir+'/'+str(i)+str(number_trajectories)+'traj'+'edge_masks.pt')\n",
    "    \n",
    "    print(len(data_list))\n",
    "    print(data_list[0],data_list[1],data_list[2],data_list[3],data_list[4],data_list[5])"
   ]
  },
  {
   "cell_type": "code",
   "execution_count": 4,
   "metadata": {},
   "outputs": [
    {
     "name": "stdout",
     "output_type": "stream",
     "text": [
      "14586\n"
     ]
    }
   ],
   "source": [
    "per_t=1     #在编码和解码的时候每三个时刻个用的点是一样的\n",
    "batch_size = int(number_ts/per_t)\n",
    "a=torch.load(dataset_dir+'/M_encode_output_'+str(0)+str(number_trajectories)\n",
    "                                             +'traj'+str(per_t)+str(batch_size)+str(satart_number_ts)+str(number_ts)+'ts_vis.pt')\n",
    "edge_num=a[0].edge_attr.shape[0]\n",
    "print(edge_num)    #14586"
   ]
  },
  {
   "cell_type": "markdown",
   "metadata": {},
   "source": [
    "在低维上进行时序预测"
   ]
  },
  {
   "cell_type": "markdown",
   "metadata": {},
   "source": [
    "训练预测边属性模型"
   ]
  },
  {
   "cell_type": "code",
   "execution_count": null,
   "metadata": {},
   "outputs": [
    {
     "name": "stdout",
     "output_type": "stream",
     "text": [
      "1900\n",
      "190\n"
     ]
    }
   ],
   "source": [
    "data_1=[]\n",
    "data_label_1=[]\n",
    "\n",
    "for i in range(number_trajectories):\n",
    "    per_t=1\n",
    "    dataset_encode=torch.load(dataset_dir+'/M_encode_output_'+str(i)+str(number_trajectories)\n",
    "                                             +'traj'+str(per_t)+str(batch_size)+str(satart_number_ts)+str(number_ts)+'ts_vis.pt')\n",
    "    per_t=11\n",
    "    for j in range(len(dataset_encode)-per_t+1):\n",
    "        for k in range(per_t):\n",
    "            if k <(per_t-1):\n",
    "                E_data  = copy.deepcopy(dataset_encode[j+k])\n",
    "                E_data=E_data.to('cpu')\n",
    "                data_1.append(E_data)\n",
    "            else:\n",
    "                E_data  = copy.deepcopy(dataset_encode[j+k])\n",
    "                E_data=E_data.to('cpu')\n",
    "                data_label_1.append(E_data)\n",
    "                       \n",
    "print(len(data_1))      #140*10\n",
    "print(len(data_label_1))   #140\n",
    "\n",
    "data_=data_1\n",
    "data_label=data_label_1\n",
    "\n",
    "'''data_2=[]\n",
    "data_label_2=[]\n",
    "\n",
    "data_3=[]\n",
    "data_label_3=[]\n",
    "\n",
    "for i in range(len(dataset_encode)-per_t+1):\n",
    "    if i in r_index:\n",
    "        for j in range(per_t-1):\n",
    "            E_data  = copy.deepcopy(data_1[i*(per_t-1)+j])\n",
    "            \n",
    "            data_2.append(E_data)\n",
    "        E_data  = copy.deepcopy(data_label_1[i])\n",
    "        data_label_2.append(E_data)\n",
    "    else:\n",
    "        for j in range(per_t-1):\n",
    "            E_data  = copy.deepcopy(data_1[i*(per_t-1)+j])\n",
    "            \n",
    "            data_3.append(E_data)\n",
    "        E_data  = copy.deepcopy(data_label_1[i])\n",
    "        data_label_3.append(E_data)\n",
    "\n",
    "print(len(data_2))      #40*10\n",
    "print(len(data_label_2))   #40\n",
    "\n",
    "print(len(data_3))      #100*10\n",
    "print(len(data_label_3))   #100\n",
    "    \n",
    "\n",
    "\n",
    "\n",
    "data_=data_3+data_2\n",
    "data_label=data_label_3+data_label_2'''\n",
    "\n",
    "\n",
    "\n",
    "all=data_+data_label\n",
    "\n",
    "\n",
    "\n",
    "data_stats_list = get_EDstats(all)\n",
    "\n",
    "torch.save(data_stats_list,dataset_dir+'/data_stats_list.pt')\n",
    "\n"
   ]
  },
  {
   "cell_type": "code",
   "execution_count": 5,
   "metadata": {},
   "outputs": [],
   "source": [
    "class objectview(object):\n",
    "    def __init__(self, d):\n",
    "        self.__dict__ = d\n",
    "\n",
    "\n",
    "        \n",
    "for args in [\n",
    "        {'model_type': 'meshgraphnet_transformer',\n",
    "         'num_layers': 2,\n",
    "         'batchsize': 5,       #是lable上的batchsize\n",
    "         'hidden_dim': 30,      #在低维空间上的编码可以写大一点，128#30\n",
    "         'hidden_channels':26,  #这里的hidden_dim与encode_decode中的hidden_channels相同\n",
    "         'epochs': 2500,#5000\n",
    "         'attr_epochs':8000,#8000\n",
    "         'train_size':140, #45\n",
    "         'test_size': 50, #10         #按照lable的来\n",
    "         'device':'cuda',\n",
    "         'shuffle': False,\n",
    "         'save_best_model': True,\n",
    "         'checkpoint_dir': '/root/data1/d_0.4_EMD/mgnn_transformerbest_models/',\n",
    "         'postprocess_dir': '/root/data1/d_0.4_EMD/mgnn_transformer_loss_plots/',\n",
    "         'd_k': 28,#28\n",
    "         'd_v': 28,\n",
    "         'input_shape': 12,   #加上时间信息，所以比n_graph_encode的最后一个多两维\n",
    "         'n_heads': 6,\n",
    "         'n_layers': 5,\n",
    "         'ff_dim': 64,\n",
    "         'seq_len': 10,        #改per_t-1,二推一\n",
    "         'per_t':11,\n",
    "         'attr_train_size':170,\n",
    "         'attr_batchsize':5,\n",
    "        'n_graph_encode':[500,150,80,10],\n",
    "        'pool_num':[6500,4800,3900]},\n",
    "]:\n",
    "\n",
    "        args = objectview(args)\n",
    "torch.manual_seed(5)  #Torch\n",
    "random.seed(5)        #Python\n",
    "np.random.seed(5)     #NumPy\n",
    "torch.cuda.manual_seed_all(5)   #GPU"
   ]
  },
  {
   "cell_type": "code",
   "execution_count": null,
   "metadata": {},
   "outputs": [
    {
     "name": "stdout",
     "output_type": "stream",
     "text": [
      "cuda\n"
     ]
    },
    {
     "name": "stderr",
     "output_type": "stream",
     "text": [
      "/usr/local/lib/python3.8/dist-packages/torch_geometric/deprecation.py:12: UserWarning: 'data.DataLoader' is deprecated, use 'loader.DataLoader' instead\n",
      "  warnings.warn(out)\n",
      "Training:   0%|          | 1/2500 [00:30<21:15:14, 30.62s/Epochs]"
     ]
    },
    {
     "name": "stdout",
     "output_type": "stream",
     "text": [
      "train loss 1.021499 test loss 1.310246\n"
     ]
    },
    {
     "name": "stderr",
     "output_type": "stream",
     "text": [
      "Training:   4%|▍         | 101/2500 [21:28<10:46:10, 16.16s/Epochs]"
     ]
    },
    {
     "name": "stdout",
     "output_type": "stream",
     "text": [
      "train loss 0.050063 test loss 0.048433\n"
     ]
    },
    {
     "name": "stderr",
     "output_type": "stream",
     "text": [
      "Training:   8%|▊         | 201/2500 [42:19<9:30:39, 14.89s/Epochs] "
     ]
    },
    {
     "name": "stdout",
     "output_type": "stream",
     "text": [
      "train loss 0.038576 test loss 0.033156\n"
     ]
    },
    {
     "name": "stderr",
     "output_type": "stream",
     "text": [
      "Training:  12%|█▏        | 301/2500 [58:25<6:36:49, 10.83s/Epochs]"
     ]
    },
    {
     "name": "stdout",
     "output_type": "stream",
     "text": [
      "train loss 0.034608 test loss 0.025994\n"
     ]
    },
    {
     "name": "stderr",
     "output_type": "stream",
     "text": [
      "Training:  16%|█▌        | 401/2500 [1:14:14<6:24:31, 10.99s/Epochs]"
     ]
    },
    {
     "name": "stdout",
     "output_type": "stream",
     "text": [
      "train loss 0.020615 test loss 0.017844\n"
     ]
    },
    {
     "name": "stderr",
     "output_type": "stream",
     "text": [
      "Training:  20%|██        | 501/2500 [1:30:15<6:51:53, 12.36s/Epochs]"
     ]
    },
    {
     "name": "stdout",
     "output_type": "stream",
     "text": [
      "train loss 0.021866 test loss 0.016233\n"
     ]
    },
    {
     "name": "stderr",
     "output_type": "stream",
     "text": [
      "Training:  24%|██▍       | 601/2500 [1:50:06<8:28:20, 16.06s/Epochs]"
     ]
    },
    {
     "name": "stdout",
     "output_type": "stream",
     "text": [
      "train loss 0.02066 test loss 0.017699\n"
     ]
    },
    {
     "name": "stderr",
     "output_type": "stream",
     "text": [
      "Training:  28%|██▊       | 701/2500 [2:22:19<7:47:25, 15.59s/Epochs] "
     ]
    },
    {
     "name": "stdout",
     "output_type": "stream",
     "text": [
      "train loss 0.015918 test loss 0.015467\n"
     ]
    },
    {
     "name": "stderr",
     "output_type": "stream",
     "text": [
      "Training:  29%|██▉       | 723/2500 [2:28:56<11:14:59, 22.79s/Epochs]"
     ]
    }
   ],
   "source": [
    "data_stats_list=torch.load(dataset_dir+'/data_stats_list.pt')\n",
    "\n",
    "device = 'cuda' if torch.cuda.is_available() else 'cpu'\n",
    "args.device = device\n",
    "print(device)\n",
    "\n",
    "test_losses, losses, best_model,best_test_loss =gmesh_transformer_train(data_,data_label, device,data_stats_list, args,edge_num)\n",
    "print(\"Min test set loss: {0}\".format(min(test_losses)))\n",
    "print(\"Minimum loss: {0}\".format(min(losses)))\n",
    "\n",
    "save_plots(args, losses, test_losses)"
   ]
  },
  {
   "cell_type": "code",
   "execution_count": 6,
   "metadata": {},
   "outputs": [
    {
     "name": "stdout",
     "output_type": "stream",
     "text": [
      "200\n",
      "Data(x=[3900, 26], edge_index=[2, 14586], edge_attr=[14586, 26])\n"
     ]
    }
   ],
   "source": [
    "per_t=1     #在编码和解码的时候每三个时刻个用的点是一样的\n",
    "batch_size = int(number_ts/per_t)\n",
    "data_encode=torch.load(dataset_dir+'/M_encode_output_'+str(0)+str(number_trajectories)\n",
    "                                             +'traj'+str(per_t)+str(batch_size)+str(satart_number_ts)+str(number_ts)+'ts_vis.pt')\n",
    "print(len(data_encode))\n",
    "data=copy.deepcopy(data_encode[0:10])\n",
    "a=copy.deepcopy(data_encode[0])\n",
    "print(a)"
   ]
  },
  {
   "cell_type": "code",
   "execution_count": 7,
   "metadata": {},
   "outputs": [],
   "source": [
    "device='cuda'\n",
    "class objectview(object):\n",
    "    def __init__(self, d):\n",
    "        self.__dict__ = d        \n",
    "        \n",
    "for args in [\n",
    "        {'model_type': 'meshgraphnet_transformer',\n",
    "         'num_layers': 2,\n",
    "         'batchsize': 5,       #是lable上的batchsize\n",
    "         'hidden_dim': 30,      #在低维空间上的编码可以写大一点，128#30\n",
    "         'hidden_channels':26,  #这里的hidden_dim与encode_decode中的hidden_channels相同\n",
    "         'epochs': 2500,#5000\n",
    "         'attr_epochs':8000,#8000\n",
    "         'train_size':140, #45\n",
    "         'test_size': 50, #10         #按照lable的来\n",
    "         'device':'cuda',\n",
    "         'shuffle': False,\n",
    "         'save_best_model': True,\n",
    "         'checkpoint_dir': '/root/data1/d_0.4_EMD/mgnn_transformerbest_models/',\n",
    "         'postprocess_dir': '/root/data1/d_0.4_EMD/mgnn_transformer_loss_plots/',\n",
    "         'd_k': 28,#28\n",
    "         'd_v': 28,\n",
    "         'input_shape': 12,   #加上时间信息，所以比n_graph_encode的最后一个多两维\n",
    "         'n_heads': 6,\n",
    "         'n_layers': 5,\n",
    "         'ff_dim': 64,\n",
    "         'seq_len': 10,        #改per_t-1,二推一\n",
    "         'per_t':11,\n",
    "         'attr_train_size':170,\n",
    "         'attr_batchsize':5,\n",
    "        'n_graph_encode':[500,150,80,10],\n",
    "        'pool_num':[6500,4800,3900]},\n",
    "]:\n",
    "        args = objectview(args)\n",
    "    \n",
    "model_name='g_trans_model_nl'+str(args.num_layers)+'_bs'+str(args.batchsize) + \\\n",
    "               '_hd'+str(args.hidden_dim)+'_ep'+str(args.epochs)+'_wd' + \\\n",
    "               '_shuff_'+str(args.shuffle)+'_dk'+str(args.d_k)+'_heads'+str(args.n_heads)\n",
    "args.batchsize=1\n",
    "node_model = MeshGraphNet_transformer(args,edge_num).to(device)\n",
    "node_model.load_state_dict(torch.load('/root/data1/d_0.4_EMD/mgnn_transformerbest_models/'+model_name+'.pt'))\n",
    "\n",
    "EDstats_list=torch.load(dataset_dir+'/EDstats_list.pt')\n",
    "data_stats_list=torch.load(dataset_dir+'/data_stats_list.pt')\n",
    "[EDmean_vec_x,EDstd_vec_x,EDmean_vec_edge,EDstd_vec_edge] = EDstats_list\n",
    "(EDmean_vec_x,EDstd_vec_x,EDmean_vec_edge,EDstd_vec_edge)=(EDmean_vec_x.to(device),\n",
    "        EDstd_vec_x.to(device),EDmean_vec_edge.to(device),EDstd_vec_edge.to(device))\n",
    "[mean_vec_x,std_vec_x,mean_vec_edge,std_vec_edge] = data_stats_list\n",
    "(mean_vec_x,std_vec_x,mean_vec_edge,std_vec_edge)=(mean_vec_x.to(device),std_vec_x.to(device),\n",
    "                                                   mean_vec_edge.to(device),std_vec_edge.to(device))"
   ]
  },
  {
   "cell_type": "code",
   "execution_count": 8,
   "metadata": {},
   "outputs": [],
   "source": [
    "def predict_sequences_multiple(model, data, a, predict_num,seq_len):\n",
    "\n",
    "        print('[Model] Predicting Sequences Multiple...')\n",
    "        a=a.to(device)\n",
    "        code_index=a.edge_index\n",
    "        for i in range(predict_num):\n",
    "          list_p = data[:] if i == 0 else data[i:]\n",
    "          data_loader=DataLoader(list_p, batch_size=seq_len, shuffle=False) \n",
    "          for i,batch in enumerate(data_loader):\n",
    "              batch=batch.to(device)\n",
    "              code_x,code_edge_attr = gmesh_transformer_pred(batch,a,model,mean_vec_x,std_vec_x,mean_vec_edge,std_vec_edge)\n",
    "          \n",
    "          new_data=Data(x=code_x, edge_index=code_index, edge_attr=code_edge_attr)\n",
    "          data.append(new_data)\n",
    "\n",
    "        return data"
   ]
  },
  {
   "cell_type": "code",
   "execution_count": 10,
   "metadata": {},
   "outputs": [
    {
     "name": "stdout",
     "output_type": "stream",
     "text": [
      "[Model] Predicting Sequences Multiple...\n",
      "200\n"
     ]
    }
   ],
   "source": [
    "predict_num=190\n",
    "seq_len=10\n",
    "data=predict_sequences_multiple(node_model, data, a, predict_num,seq_len)\n",
    "print(len(data))  #60"
   ]
  },
  {
   "cell_type": "code",
   "execution_count": 11,
   "metadata": {},
   "outputs": [
    {
     "name": "stdout",
     "output_type": "stream",
     "text": [
      "200\n"
     ]
    }
   ],
   "source": [
    "i=0\n",
    "batches=torch.load(dataset_dir+'/'+str(i)+str(number_trajectories)+'traj'+'batches.pt')\n",
    "xs=torch.load(dataset_dir+'/'+str(i)+str(number_trajectories)+'traj'+'xs.pt')\n",
    "positions=torch.load( dataset_dir+'/'+str(i)+str(number_trajectories)+'traj'+'positions.pt')\n",
    "edge_attrs=torch.load( dataset_dir+'/'+str(i)+str(number_trajectories)+'traj'+'edge_attrs.pt')\n",
    "edge_indices=torch.load( dataset_dir+'/'+str(i)+str(number_trajectories)+'traj'+'edge_indices.pt')\n",
    "edge_masks=torch.load(dataset_dir+'/'+str(i)+str(number_trajectories)+'traj'+'edge_masks.pt')\n",
    "\n",
    "\n",
    "perm_list=torch.load(dataset_dir+'/perm_list_150.pt')\n",
    "\n",
    "\n",
    "\n",
    "\n",
    "decode_model=GNN_Decode(\n",
    "                hidden_channels,\n",
    "                in_channels_node,\n",
    "                in_channels_edge,\n",
    "                \n",
    "                out_channels,\n",
    "                encoding_dim,\n",
    "                n_mlp_mp,\n",
    "                n_mlp_encode,\n",
    "\n",
    "                ae_dim,\n",
    "                n_mp_down,\n",
    "                n_mp_up,\n",
    "                pool_num,\n",
    "                \n",
    "                act,\n",
    "                \n",
    "                name='gnn_topk')\n",
    "decode_model.load_state_dict(torch.load(pathD), strict=False)\n",
    "decode_model.to(device)\n",
    "\n",
    "pred_x=[]\n",
    "with torch.no_grad():\n",
    "        for i in range(len(data)):\n",
    "              x=decode_model(data[i], batches , xs, positions, edge_attrs, edge_indices, edge_masks,perm_list[0])\n",
    "              x=x*EDstd_vec_x+EDmean_vec_x\n",
    "              pred_x.append(x)\n",
    "\n",
    "              \n",
    "print(len(pred_x))"
   ]
  },
  {
   "cell_type": "code",
   "execution_count": 13,
   "metadata": {},
   "outputs": [],
   "source": [
    "def ROM_transform_vector(data, satart_number_ts,number_ts, originalFolder, destinationFolder, fileName):\n",
    "\n",
    "    folder = os.path.exists(destinationFolder)\n",
    "\n",
    "    if not folder: \n",
    "        print('start to create the destination folder')   \n",
    "        os.makedirs(destinationFolder)       \n",
    "        copyFiles(originalFolder,destinationFolder) \n",
    "\n",
    "    print('start to store data as a new variable')\n",
    "    \n",
    "    for i in range(number_ts):\n",
    "        f_filename = destinationFolder + fileName + str(i+satart_number_ts)+ \".vtk\"\n",
    "        reader=vtk.vtkPolyDataReader()\n",
    "        reader.SetFileName(f_filename)  # SetFileName设置要读取的vtk文件\n",
    "        reader.ReadAllScalarsOn()\n",
    "        reader.ReadAllVectorsOn()\n",
    "        reader.ReadAllTensorsOn()\n",
    "        reader.Update()\n",
    "\n",
    "        vtkdata=reader.GetOutput()  # GetOutput获取文件的数据\n",
    "        num_points=vtkdata.GetNumberOfPoints() \n",
    "        point_data =vtkdata.GetPointData()\n",
    "        a=data[i]\n",
    "        a=a.to('cpu')\n",
    "        a=a.numpy()\n",
    "    \n",
    "        velocity_array = point_data.GetArray('U')\n",
    "        #print(velocity_array.GetTuple(0)[0:2])\n",
    "        for j in range(num_points):\n",
    "            original_velocity = list(velocity_array.GetTuple(j))\n",
    "            original_velocity[0:2]=tuple(a[j])\n",
    "            velocity_array.SetTuple(j, original_velocity)\n",
    "\n",
    "        writer = vtk.vtkGenericDataObjectWriter()\n",
    "        writer.SetFileName(f_filename)\n",
    "        writer.SetInputData(vtkdata)\n",
    "        writer.Write()\n",
    "       \n",
    "    print('transform succeed')\t"
   ]
  },
  {
   "cell_type": "code",
   "execution_count": 13,
   "metadata": {},
   "outputs": [
    {
     "name": "stdout",
     "output_type": "stream",
     "text": [
      "start to create the destination folder\n",
      "start to store data as a new variable\n",
      "transform succeed\n"
     ]
    }
   ],
   "source": [
    "for i in range(number_trajectories):\n",
    "    satart_number_ts=50\n",
    "    ts=len(pred_x)\n",
    "    originalFolder='/root/data1/d_slice_'+str(i)\n",
    "    destinationFolder='/root/data1/ROM_d_0.4_dataset_EDoutput_'+str(predict_num)+str(i)\n",
    "    fileName=\"/slice_\"\n",
    "    ROM_transform_vector(pred_x, satart_number_ts,ts, originalFolder, destinationFolder, fileName)"
   ]
  },
  {
   "cell_type": "code",
   "execution_count": 14,
   "metadata": {},
   "outputs": [],
   "source": [
    "def pcc_of_two(ori_data, rom_data):\n",
    "\n",
    "    if ori_data.ndim == rom_data.ndim:\n",
    "        if rom_data.ndim == 3:\n",
    "            y_u = ori_data[...,0] # u\n",
    "            y_v = ori_data[...,1] # v\n",
    "            y_0_u = rom_data[...,0] # u\n",
    "            y_0_v = rom_data[...,1] # v\n",
    "            pcc_x = pearson_value(y_u, y_0_u)\n",
    "            pcc_y = pearson_value(y_v, y_0_v)\n",
    "            plt.figure(1)\n",
    "            plt.plot(pcc_x)\n",
    "            plt.xlabel('Time(s)',{'size' : 11})\n",
    "            plt.ylabel('Pearson Correlation Coefficient of x axis',{'size' : 11})\n",
    "            plt.figure(2)\n",
    "            plt.plot(pcc_y)\n",
    "            plt.xlabel('Time(s)',{'size' : 11})\n",
    "            plt.ylabel('Pearson Correlation Coefficient of y axis',{'size' : 11})\n",
    "            plt.show()\n",
    "        elif rom_data.ndim == 2:\n",
    "            pcc = pearson_value(ori_data, rom_data)\n",
    "            # print(pcc.shape)\n",
    "            plt.figure(1)\n",
    "            # x = np.linspace(0,pcc.shape[0], num = pcc.shape[0])\n",
    "            plt.plot(pcc)\n",
    "            plt.ylim((0.8, 1))\n",
    "            plt.xlabel('Time(s)',{'size' : 11})\n",
    "            plt.ylabel('Pearson Correlation Coefficient',{'size' : 11})\n",
    "            plt.show()\n",
    "    else:\n",
    "        print('the dimension of these two series are not equal. Please check them.')"
   ]
  },
  {
   "cell_type": "code",
   "execution_count": 15,
   "metadata": {},
   "outputs": [
    {
     "name": "stdout",
     "output_type": "stream",
     "text": [
      "200\n",
      "(200, 15586) (200, 15586)\n"
     ]
    },
    {
     "data": {
      "image/png": "[encoded data removed]",
      "text/plain": [
       "<Figure size 432x288 with 1 Axes>"
      ]
     },
     "metadata": {
      "needs_background": "light"
     },
     "output_type": "display_data"
    }
   ],
   "source": [
    "ED_out = pred_x   #60\n",
    "ori=torch.load(dataset_dir+'/meshgraphnets_miniset'+str(1)+str(1)+str(number_trajectories)+'traj'+str(satart_number_ts)+str(number_ts)+'ts_vis.pt')\n",
    "print(len(ori))   #150\n",
    "ori=ori[0:200]\n",
    "\n",
    "ts=200\n",
    "\n",
    "for i in range(ts):\n",
    "    \n",
    "    uvw=ED_out[i].reshape(1,ED_out[i].shape[0],ED_out[i].shape[1]).to('cpu')\n",
    "    ouvw=ori[i].x.reshape(1,ori[i].x.shape[0],ori[i].x.shape[1])\n",
    "    outputs = uvw if i==0 else np.vstack((outputs,uvw))\n",
    "    inputs=ouvw if i==0 else np.vstack((inputs,ouvw))\n",
    "\n",
    "output_ = np.hstack((outputs[:,:,0],outputs[:,:,1]))\n",
    "input_ = np.hstack((inputs[:,:,0],inputs[:,:,1]))\n",
    "print(output_.shape,input_.shape)\n",
    "\n",
    "pcc_of_two(input_, output_)"
   ]
  },
  {
   "cell_type": "code",
   "execution_count": null,
   "metadata": {},
   "outputs": [],
   "source": []
  },
  {
   "cell_type": "code",
   "execution_count": null,
   "metadata": {},
   "outputs": [],
   "source": [
    "def mse(ori_data, rom_data):\n",
    "\n",
    "    rmse_value = []\n",
    "    acc=torch.nn.MSELoss(reduction='sum')\n",
    "    acc1=torch.nn.MSELoss('mean')\n",
    "    if len(ori_data) != len(rom_data):\n",
    "        print('the length of these two array do not match')\n",
    "    else:\n",
    "        for i in range(len(rom_data)):\n",
    "            #value = mean_squared_error(ori_data[i], rom_data[i])\n",
    "            ori=torch.Tensor(ori_data[i])\n",
    "            #print(ori.shape)\n",
    "            rom=torch.Tensor(rom_data[i])\n",
    "            #value =math.sqrt(acc(ori, rom))\n",
    "            #print()\n",
    "            #print((acc(ori, rom)))\n",
    "            #print(math.sqrt((acc(ori, rom))))\n",
    "            #print(acc1(ori, rom))\n",
    "            #print(math.sqrt((acc1(ori, rom))))\n",
    "            k=(torch.norm(ori, p=1))/len(ori)\n",
    "            #value=acc1(ori,rom)\n",
    "            #value =math.sqrt((acc1(ori, rom)))\n",
    "            value =math.sqrt((acc1(ori, rom)))/k\n",
    "            #value =math.sqrt((acc(ori, rom)))/(torch.norm(ori, p=1))\n",
    "            #value =(acc(ori, rom)/torch.pow((torch.norm(ori, p=2)),2))\n",
    "            #value =math.sqrt(acc(ori, rom)/(torch.pow((torch.norm(ori, p=2)),2)))\n",
    "            #print(value)\n",
    "            if i == 0:\n",
    "                rmse_value = value\n",
    "            else:\n",
    "                rmse_value = np.hstack((rmse_value,value))\n",
    "        rmse_value = np.reshape(rmse_value,(-1,1))\n",
    "    return rmse_value\n",
    "\n",
    "def mse_of_two(ori_data, rom_data):\n",
    "    # , rom_data_1):\n",
    "    if ori_data.ndim == rom_data.ndim:\n",
    "        if rom_data.ndim == 3:\n",
    "            y_u = ori_data[...,0] # u\n",
    "            y_v = ori_data[...,1] # v\n",
    "            y_0_u = rom_data[...,0] # u\n",
    "            y_0_v = rom_data[...,1] # v\n",
    "            rmse_x = mse(y_u, y_0_u)\n",
    "            rmse_y = mse(y_v, y_0_v)\n",
    "            plt.figure(1)\n",
    "            plt.plot(rmse_x)\n",
    "            plt.xlabel('Time(s)',{'size' : 11})\n",
    "            plt.ylabel('RMSE of x axis',{'size' : 11})\n",
    "            plt.figure(2)\n",
    "            plt.plot(rmse_y)\n",
    "            plt.xlabel('Time(s)',{'size' : 11})\n",
    "            plt.ylabel('RMSE of y axis',{'size' : 11})\n",
    "            plt.show()\n",
    "        elif rom_data.ndim == 2:\n",
    "            rmse_value = mse(ori_data, rom_data)\n",
    "            # rmse_value_1 = rmse(ori_data, rom_data_1)\n",
    "            # print(pcc.shape[0], pcc.shape[1])\n",
    "            plt.figure(1)\n",
    "            # x = np.linspace(0,rmse_value.shape[0], rmse_value.shape[0])\n",
    "            # plt.plot(x, rmse_value, x, rmse_value_1)\n",
    "            plt.plot(rmse_value)\n",
    "            plt.ylim((0, 0.3))\n",
    "            plt.xlabel('Time(s)',{'size' : 11})\n",
    "            plt.ylabel('RRMSE',{'size' : 11})\n",
    "            # plt.legend(['7', '8'], loc='lower right')   \n",
    "            plt.show()\n",
    "    else:\n",
    "        print('the dimension of these two series are not equal. Please check them.')"
   ]
  },
  {
   "cell_type": "code",
   "execution_count": 17,
   "metadata": {},
   "outputs": [
    {
     "name": "stderr",
     "output_type": "stream",
     "text": [
      "/usr/local/lib/python3.8/dist-packages/torch/nn/_reduction.py:42: UserWarning: size_average and reduce args will be deprecated, please use reduction='mean' instead.\n",
      "  warnings.warn(warning.format(ret))\n"
     ]
    },
    {
     "data": {
      "image/png": "[encoded data removed]",
      "text/plain": [
       "<Figure size 432x288 with 1 Axes>"
      ]
     },
     "metadata": {
      "needs_background": "light"
     },
     "output_type": "display_data"
    }
   ],
   "source": [
    "mse_of_two(input_, output_)"
   ]
  },
  {
   "cell_type": "markdown",
   "metadata": {},
   "source": [
    "得到十个数据"
   ]
  },
  {
   "cell_type": "code",
   "execution_count": 1,
   "metadata": {},
   "outputs": [
    {
     "name": "stderr",
     "output_type": "stream",
     "text": [
      "/usr/local/lib/python3.8/dist-packages/tqdm/auto.py:22: TqdmWarning: IProgress not found. Please update jupyter and ipywidgets. See https://ipywidgets.readthedocs.io/en/stable/user_install.html\n",
      "  from .autonotebook import tqdm as notebook_tqdm\n"
     ]
    }
   ],
   "source": [
    "import numpy as np\n",
    "import meshio\n",
    "import torch\n",
    "import tensorflow.compat.v1 as tf\n",
    "from torch_geometric.data import Data\n",
    "import torch.nn.functional as F\n",
    "from torch_geometric.loader import DataLoader\n",
    "import pandas as pd\n",
    "import os\n",
    "import time\n",
    "from IPython.lib.display import isdir\n",
    "import random\n",
    "import matplotlib.pyplot as plt\n",
    "import copy\n",
    "from matplotlib import tri as mtri\n",
    "from matplotlib import animation\n",
    "from mpl_toolkits.axes_grid1 import make_axes_locatable\n",
    "\n",
    "from d_pooling import *\n",
    "#from mgn import *\n",
    "from d_tap_processing import *\n",
    "#from global_tpok_mp import *\n",
    "\n",
    "from d_TAP_MP_Attention import *\n",
    "from GTF import *"
   ]
  },
  {
   "cell_type": "code",
   "execution_count": 2,
   "metadata": {},
   "outputs": [
    {
     "name": "stdout",
     "output_type": "stream",
     "text": [
      "cuda\n",
      "cuda:0\n"
     ]
    }
   ],
   "source": [
    "SEED = 123    #42\n",
    "torch.manual_seed(SEED)\n",
    "torch.cuda.manual_seed_all(SEED)\n",
    "np.random.seed(SEED)\n",
    "random.seed(SEED)        #Python\n",
    "dataset_dir = '/root/data1/d_0.4_EMD'\n",
    "device = 'cuda' if torch.cuda.is_available() else 'cpu'    #cuda\n",
    "#perm_list=torch.load(dataset_dir+'/perm_list.pt')\n",
    "perm_list=torch.load(dataset_dir+'/perm_list_150.pt')\n",
    "\n",
    "print(device)\n",
    "for i in range(len(perm_list[0])):\n",
    "   \n",
    "    perm_list[0][i]=perm_list[0][i].to(device)\n",
    "print(perm_list[0][0].device)\n",
    "\n",
    "\n",
    "pathE='/root/data1/d_0.4_EMD/Encode_state_dict.pt'\n",
    "pathD='/root/data1/d_0.4_EMD/Decode_state_dict.pt'\n",
    "pathED = '/root/data1/d_0.4_EMD/ED_state_dict.pt'\n",
    "\n",
    "epochs = 200\n",
    "\n",
    "[EDmean_vec_x,EDstd_vec_x,EDmean_vec_edge,EDstd_vec_edge] = torch.load(dataset_dir+'/EDstats_list.pt')\n",
    "\n",
    "(EDmean_vec_x,EDstd_vec_x,EDmean_vec_edge,EDstd_vec_edge)=(EDmean_vec_x.to(device),\n",
    "        EDstd_vec_x.to(device),EDmean_vec_edge.to(device),EDstd_vec_edge.to(device))\n",
    "train_size=7        #改\n",
    "\n",
    "\n",
    "in_channels_node = 2 #2\n",
    "in_channels_edge = 3 #3\n",
    "hidden_channels = 26#24    #22#12\n",
    "out_channels = in_channels_node\n",
    "batch_size =25       #改25\n",
    "n_mlp_encode = 4\n",
    "n_mlp_mp = 5#5\n",
    "encoding_dim=32#32\n",
    "ae_dim=[160,128,64,32]#[128,64,32,16,10][300,128,64,32]\n",
    "n_mp_down = [2,2,1,1]\n",
    "n_mp_up= [1,1,2,2]\n",
    "pool_num =[6500,4800,3900]#[2000,1500,1200,1000][2000,1600,1400,1000]\n",
    "\n",
    "act = F.elu\n",
    "param_sharing = False"
   ]
  },
  {
   "cell_type": "code",
   "execution_count": 3,
   "metadata": {},
   "outputs": [
    {
     "ename": "AttributeError",
     "evalue": "'Global_attention' object has no attribute 'min_score'",
     "output_type": "error",
     "traceback": [
      "\u001b[0;31m---------------------------------------------------------------------------\u001b[0m",
      "\u001b[0;31mAttributeError\u001b[0m                            Traceback (most recent call last)",
      "File \u001b[0;32m/usr/local/lib/python3.8/dist-packages/IPython/core/formatters.py:707\u001b[0m, in \u001b[0;36mPlainTextFormatter.__call__\u001b[0;34m(self, obj)\u001b[0m\n\u001b[1;32m    700\u001b[0m stream \u001b[38;5;241m=\u001b[39m StringIO()\n\u001b[1;32m    701\u001b[0m printer \u001b[38;5;241m=\u001b[39m pretty\u001b[38;5;241m.\u001b[39mRepresentationPrinter(stream, \u001b[38;5;28mself\u001b[39m\u001b[38;5;241m.\u001b[39mverbose,\n\u001b[1;32m    702\u001b[0m     \u001b[38;5;28mself\u001b[39m\u001b[38;5;241m.\u001b[39mmax_width, \u001b[38;5;28mself\u001b[39m\u001b[38;5;241m.\u001b[39mnewline,\n\u001b[1;32m    703\u001b[0m     max_seq_length\u001b[38;5;241m=\u001b[39m\u001b[38;5;28mself\u001b[39m\u001b[38;5;241m.\u001b[39mmax_seq_length,\n\u001b[1;32m    704\u001b[0m     singleton_pprinters\u001b[38;5;241m=\u001b[39m\u001b[38;5;28mself\u001b[39m\u001b[38;5;241m.\u001b[39msingleton_printers,\n\u001b[1;32m    705\u001b[0m     type_pprinters\u001b[38;5;241m=\u001b[39m\u001b[38;5;28mself\u001b[39m\u001b[38;5;241m.\u001b[39mtype_printers,\n\u001b[1;32m    706\u001b[0m     deferred_pprinters\u001b[38;5;241m=\u001b[39m\u001b[38;5;28mself\u001b[39m\u001b[38;5;241m.\u001b[39mdeferred_printers)\n\u001b[0;32m--> 707\u001b[0m \u001b[43mprinter\u001b[49m\u001b[38;5;241;43m.\u001b[39;49m\u001b[43mpretty\u001b[49m\u001b[43m(\u001b[49m\u001b[43mobj\u001b[49m\u001b[43m)\u001b[49m\n\u001b[1;32m    708\u001b[0m printer\u001b[38;5;241m.\u001b[39mflush()\n\u001b[1;32m    709\u001b[0m \u001b[38;5;28;01mreturn\u001b[39;00m stream\u001b[38;5;241m.\u001b[39mgetvalue()\n",
      "File \u001b[0;32m/usr/local/lib/python3.8/dist-packages/IPython/lib/pretty.py:410\u001b[0m, in \u001b[0;36mRepresentationPrinter.pretty\u001b[0;34m(self, obj)\u001b[0m\n\u001b[1;32m    407\u001b[0m                         \u001b[38;5;28;01mreturn\u001b[39;00m meth(obj, \u001b[38;5;28mself\u001b[39m, cycle)\n\u001b[1;32m    408\u001b[0m                 \u001b[38;5;28;01mif\u001b[39;00m \u001b[38;5;28mcls\u001b[39m \u001b[38;5;129;01mis\u001b[39;00m \u001b[38;5;129;01mnot\u001b[39;00m \u001b[38;5;28mobject\u001b[39m \\\n\u001b[1;32m    409\u001b[0m                         \u001b[38;5;129;01mand\u001b[39;00m \u001b[38;5;28mcallable\u001b[39m(\u001b[38;5;28mcls\u001b[39m\u001b[38;5;241m.\u001b[39m\u001b[38;5;18m__dict__\u001b[39m\u001b[38;5;241m.\u001b[39mget(\u001b[38;5;124m'\u001b[39m\u001b[38;5;124m__repr__\u001b[39m\u001b[38;5;124m'\u001b[39m)):\n\u001b[0;32m--> 410\u001b[0m                     \u001b[38;5;28;01mreturn\u001b[39;00m \u001b[43m_repr_pprint\u001b[49m\u001b[43m(\u001b[49m\u001b[43mobj\u001b[49m\u001b[43m,\u001b[49m\u001b[43m \u001b[49m\u001b[38;5;28;43mself\u001b[39;49m\u001b[43m,\u001b[49m\u001b[43m \u001b[49m\u001b[43mcycle\u001b[49m\u001b[43m)\u001b[49m\n\u001b[1;32m    412\u001b[0m     \u001b[38;5;28;01mreturn\u001b[39;00m _default_pprint(obj, \u001b[38;5;28mself\u001b[39m, cycle)\n\u001b[1;32m    413\u001b[0m \u001b[38;5;28;01mfinally\u001b[39;00m:\n",
      "File \u001b[0;32m/usr/local/lib/python3.8/dist-packages/IPython/lib/pretty.py:778\u001b[0m, in \u001b[0;36m_repr_pprint\u001b[0;34m(obj, p, cycle)\u001b[0m\n\u001b[1;32m    776\u001b[0m \u001b[38;5;250m\u001b[39m\u001b[38;5;124;03m\"\"\"A pprint that just redirects to the normal repr function.\"\"\"\u001b[39;00m\n\u001b[1;32m    777\u001b[0m \u001b[38;5;66;03m# Find newlines and replace them with p.break_()\u001b[39;00m\n\u001b[0;32m--> 778\u001b[0m output \u001b[38;5;241m=\u001b[39m \u001b[38;5;28;43mrepr\u001b[39;49m\u001b[43m(\u001b[49m\u001b[43mobj\u001b[49m\u001b[43m)\u001b[49m\n\u001b[1;32m    779\u001b[0m lines \u001b[38;5;241m=\u001b[39m output\u001b[38;5;241m.\u001b[39msplitlines()\n\u001b[1;32m    780\u001b[0m \u001b[38;5;28;01mwith\u001b[39;00m p\u001b[38;5;241m.\u001b[39mgroup():\n",
      "File \u001b[0;32m/usr/local/lib/python3.8/dist-packages/torch/nn/modules/module.py:1538\u001b[0m, in \u001b[0;36mModule.__repr__\u001b[0;34m(self)\u001b[0m\n\u001b[1;32m   1536\u001b[0m child_lines \u001b[38;5;241m=\u001b[39m []\n\u001b[1;32m   1537\u001b[0m \u001b[38;5;28;01mfor\u001b[39;00m key, module \u001b[38;5;129;01min\u001b[39;00m \u001b[38;5;28mself\u001b[39m\u001b[38;5;241m.\u001b[39m_modules\u001b[38;5;241m.\u001b[39mitems():\n\u001b[0;32m-> 1538\u001b[0m     mod_str \u001b[38;5;241m=\u001b[39m \u001b[38;5;28;43mrepr\u001b[39;49m\u001b[43m(\u001b[49m\u001b[43mmodule\u001b[49m\u001b[43m)\u001b[49m\n\u001b[1;32m   1539\u001b[0m     mod_str \u001b[38;5;241m=\u001b[39m _addindent(mod_str, \u001b[38;5;241m2\u001b[39m)\n\u001b[1;32m   1540\u001b[0m     child_lines\u001b[38;5;241m.\u001b[39mappend(\u001b[38;5;124m'\u001b[39m\u001b[38;5;124m(\u001b[39m\u001b[38;5;124m'\u001b[39m \u001b[38;5;241m+\u001b[39m key \u001b[38;5;241m+\u001b[39m \u001b[38;5;124m'\u001b[39m\u001b[38;5;124m): \u001b[39m\u001b[38;5;124m'\u001b[39m \u001b[38;5;241m+\u001b[39m mod_str)\n",
      "File \u001b[0;32m/usr/local/lib/python3.8/dist-packages/torch/nn/modules/module.py:1538\u001b[0m, in \u001b[0;36mModule.__repr__\u001b[0;34m(self)\u001b[0m\n\u001b[1;32m   1536\u001b[0m child_lines \u001b[38;5;241m=\u001b[39m []\n\u001b[1;32m   1537\u001b[0m \u001b[38;5;28;01mfor\u001b[39;00m key, module \u001b[38;5;129;01min\u001b[39;00m \u001b[38;5;28mself\u001b[39m\u001b[38;5;241m.\u001b[39m_modules\u001b[38;5;241m.\u001b[39mitems():\n\u001b[0;32m-> 1538\u001b[0m     mod_str \u001b[38;5;241m=\u001b[39m \u001b[38;5;28;43mrepr\u001b[39;49m\u001b[43m(\u001b[49m\u001b[43mmodule\u001b[49m\u001b[43m)\u001b[49m\n\u001b[1;32m   1539\u001b[0m     mod_str \u001b[38;5;241m=\u001b[39m _addindent(mod_str, \u001b[38;5;241m2\u001b[39m)\n\u001b[1;32m   1540\u001b[0m     child_lines\u001b[38;5;241m.\u001b[39mappend(\u001b[38;5;124m'\u001b[39m\u001b[38;5;124m(\u001b[39m\u001b[38;5;124m'\u001b[39m \u001b[38;5;241m+\u001b[39m key \u001b[38;5;241m+\u001b[39m \u001b[38;5;124m'\u001b[39m\u001b[38;5;124m): \u001b[39m\u001b[38;5;124m'\u001b[39m \u001b[38;5;241m+\u001b[39m mod_str)\n",
      "File \u001b[0;32m/usr/local/lib/python3.8/dist-packages/torch/nn/modules/module.py:1538\u001b[0m, in \u001b[0;36mModule.__repr__\u001b[0;34m(self)\u001b[0m\n\u001b[1;32m   1536\u001b[0m child_lines \u001b[38;5;241m=\u001b[39m []\n\u001b[1;32m   1537\u001b[0m \u001b[38;5;28;01mfor\u001b[39;00m key, module \u001b[38;5;129;01min\u001b[39;00m \u001b[38;5;28mself\u001b[39m\u001b[38;5;241m.\u001b[39m_modules\u001b[38;5;241m.\u001b[39mitems():\n\u001b[0;32m-> 1538\u001b[0m     mod_str \u001b[38;5;241m=\u001b[39m \u001b[38;5;28;43mrepr\u001b[39;49m\u001b[43m(\u001b[49m\u001b[43mmodule\u001b[49m\u001b[43m)\u001b[49m\n\u001b[1;32m   1539\u001b[0m     mod_str \u001b[38;5;241m=\u001b[39m _addindent(mod_str, \u001b[38;5;241m2\u001b[39m)\n\u001b[1;32m   1540\u001b[0m     child_lines\u001b[38;5;241m.\u001b[39mappend(\u001b[38;5;124m'\u001b[39m\u001b[38;5;124m(\u001b[39m\u001b[38;5;124m'\u001b[39m \u001b[38;5;241m+\u001b[39m key \u001b[38;5;241m+\u001b[39m \u001b[38;5;124m'\u001b[39m\u001b[38;5;124m): \u001b[39m\u001b[38;5;124m'\u001b[39m \u001b[38;5;241m+\u001b[39m mod_str)\n",
      "File \u001b[0;32m~/data1/d_TAP_MP_Attention.py:760\u001b[0m, in \u001b[0;36mGlobal_attention.__repr__\u001b[0;34m(self)\u001b[0m\n\u001b[1;32m    759\u001b[0m \u001b[38;5;28;01mdef\u001b[39;00m \u001b[38;5;21m__repr__\u001b[39m(\u001b[38;5;28mself\u001b[39m) \u001b[38;5;241m-\u001b[39m\u001b[38;5;241m>\u001b[39m \u001b[38;5;28mstr\u001b[39m:\n\u001b[0;32m--> 760\u001b[0m     \u001b[38;5;28;01mif\u001b[39;00m \u001b[38;5;28;43mself\u001b[39;49m\u001b[38;5;241;43m.\u001b[39;49m\u001b[43mmin_score\u001b[49m \u001b[38;5;129;01mis\u001b[39;00m \u001b[38;5;28;01mNone\u001b[39;00m:\n\u001b[1;32m    761\u001b[0m         ratio \u001b[38;5;241m=\u001b[39m \u001b[38;5;124mf\u001b[39m\u001b[38;5;124m'\u001b[39m\u001b[38;5;124mratio=\u001b[39m\u001b[38;5;132;01m{\u001b[39;00m\u001b[38;5;28mself\u001b[39m\u001b[38;5;241m.\u001b[39mratio\u001b[38;5;132;01m}\u001b[39;00m\u001b[38;5;124m'\u001b[39m\n\u001b[1;32m    762\u001b[0m     \u001b[38;5;28;01melse\u001b[39;00m:\n",
      "File \u001b[0;32m/usr/local/lib/python3.8/dist-packages/torch/nn/modules/module.py:947\u001b[0m, in \u001b[0;36mModule.__getattr__\u001b[0;34m(self, name)\u001b[0m\n\u001b[1;32m    945\u001b[0m     \u001b[38;5;28;01mif\u001b[39;00m name \u001b[38;5;129;01min\u001b[39;00m modules:\n\u001b[1;32m    946\u001b[0m         \u001b[38;5;28;01mreturn\u001b[39;00m modules[name]\n\u001b[0;32m--> 947\u001b[0m \u001b[38;5;28;01mraise\u001b[39;00m \u001b[38;5;167;01mAttributeError\u001b[39;00m(\u001b[38;5;124m\"\u001b[39m\u001b[38;5;124m'\u001b[39m\u001b[38;5;132;01m{}\u001b[39;00m\u001b[38;5;124m'\u001b[39m\u001b[38;5;124m object has no attribute \u001b[39m\u001b[38;5;124m'\u001b[39m\u001b[38;5;132;01m{}\u001b[39;00m\u001b[38;5;124m'\u001b[39m\u001b[38;5;124m\"\u001b[39m\u001b[38;5;241m.\u001b[39mformat(\n\u001b[1;32m    948\u001b[0m     \u001b[38;5;28mtype\u001b[39m(\u001b[38;5;28mself\u001b[39m)\u001b[38;5;241m.\u001b[39m\u001b[38;5;18m__name__\u001b[39m, name))\n",
      "\u001b[0;31mAttributeError\u001b[0m: 'Global_attention' object has no attribute 'min_score'"
     ]
    }
   ],
   "source": [
    "M_encode=GNN_topk_encode(\n",
    "                hidden_channels,\n",
    "                in_channels_node,\n",
    "                in_channels_edge,\n",
    "                \n",
    "                out_channels,\n",
    "                encoding_dim,\n",
    "                n_mlp_mp,\n",
    "                n_mlp_encode,\n",
    "\n",
    "                ae_dim,\n",
    "                n_mp_down,\n",
    "                n_mp_up,\n",
    "                pool_num,\n",
    "                \n",
    "                act,\n",
    "                \n",
    "                name='gnn_topk')\n",
    "M_encode.to(device)\n",
    "M_encode.load_state_dict(torch.load(pathE), strict=False)\n",
    "\n",
    "\n",
    "decode_model=GNN_Decode(\n",
    "                hidden_channels,\n",
    "                in_channels_node,\n",
    "                in_channels_edge,\n",
    "                \n",
    "                out_channels,\n",
    "                encoding_dim,\n",
    "                n_mlp_mp,\n",
    "                n_mlp_encode,\n",
    "\n",
    "                ae_dim,\n",
    "                n_mp_down,\n",
    "                n_mp_up,\n",
    "                pool_num,\n",
    "                \n",
    "                act,\n",
    "                \n",
    "                name='gnn_topk')\n",
    "decode_model.load_state_dict(torch.load(pathD), strict=False)\n",
    "decode_model.to(device)"
   ]
  },
  {
   "cell_type": "code",
   "execution_count": 4,
   "metadata": {},
   "outputs": [
    {
     "name": "stdout",
     "output_type": "stream",
     "text": [
      "1\n",
      "cuda\n",
      "cuda:0\n",
      "10\n",
      "Data(x=[3900, 26], edge_index=[2, 14586], edge_attr=[14586, 26]) Data(x=[3900, 26], edge_index=[2, 14586], edge_attr=[14586, 26]) Data(x=[3900, 26], edge_index=[2, 14586], edge_attr=[14586, 26]) Data(x=[3900, 26], edge_index=[2, 14586], edge_attr=[14586, 26]) Data(x=[3900, 26], edge_index=[2, 14586], edge_attr=[14586, 26]) Data(x=[3900, 26], edge_index=[2, 14586], edge_attr=[14586, 26])\n"
     ]
    }
   ],
   "source": [
    "per_t=1     \n",
    "satart_number_ts=200\n",
    "number_ts=10\n",
    "batch_size = int(number_ts/per_t)\n",
    "dataset_dir = '/root/data1/d_0.4_EMD'\n",
    "path='/root/data1/d_slice_'     #将文件命名为yuan_0\n",
    "number_trajectories=1\n",
    "\n",
    "#get_dataset(number_trajectories,satart_number_ts,number_ts,per_t,batch_size,dataset_dir,path)\n",
    "\n",
    "file_path= dataset_dir+'/meshgraphnets_miniset'+str(per_t)+str(batch_size)+str(number_trajectories)+'traj'+str(satart_number_ts)+str(number_ts)+'ts_vis.pt'\n",
    "dataset_M = torch.load(file_path)\n",
    "print(len(dataset_M))   #长度为1  \n",
    "\n",
    "perm_list=torch.load(dataset_dir+'/perm_list_150.pt')\n",
    "\n",
    "print(device)\n",
    "for i in range(len(perm_list[0])):\n",
    "   \n",
    "    perm_list[0][i]=perm_list[0][i].to(device)\n",
    "print(perm_list[0][0].device)\n",
    "\n",
    "\n",
    "\n",
    "\n",
    "with torch.no_grad():\n",
    "  for i in range(len(dataset_M)):\n",
    "    dataset_M[i]=dataset_M[i].to(device)\n",
    "    data_list,batches , xs, positions, edge_attrs, edge_indices, edge_masks= M_encode(dataset_M[i], per_t , perm_list[0],\n",
    "                                                                                            batch_size,EDmean_vec_x,EDstd_vec_x,\n",
    "                                                                                            EDmean_vec_edge,EDstd_vec_edge,\n",
    "                                                                                            batch=None, return_mask=False)  \n",
    "    torch.save(data_list,dataset_dir+'/M_encode_output_'+str(i)+str(number_trajectories)+'traj'+str(per_t)+str(batch_size)+str(satart_number_ts)+str(number_ts)+'ts_vis.pt')\n",
    "    torch.save(batches,dataset_dir+'/'+str(satart_number_ts)+str(i)+str(number_trajectories)+'traj'+'batches.pt')\n",
    "    torch.save(xs,dataset_dir+'/'+str(satart_number_ts)+str(i)+str(number_trajectories)+'traj'+'xs.pt')\n",
    "    torch.save( positions,dataset_dir+'/'+str(satart_number_ts)+str(i)+str(number_trajectories)+'traj'+'positions.pt')\n",
    "    torch.save( edge_attrs,dataset_dir+'/'+str(satart_number_ts)+str(i)+str(number_trajectories)+'traj'+'edge_attrs.pt')\n",
    "    torch.save( edge_indices,dataset_dir+'/'+str(satart_number_ts)+str(i)+str(number_trajectories)+'traj'+'edge_indices.pt')\n",
    "    torch.save( edge_masks,dataset_dir+'/'+str(satart_number_ts)+str(i)+str(number_trajectories)+'traj'+'edge_masks.pt')\n",
    "    \n",
    "    print(len(data_list))#10\n",
    "    print(data_list[0],data_list[1],data_list[2],data_list[3],data_list[4],data_list[5])"
   ]
  },
  {
   "cell_type": "code",
   "execution_count": 5,
   "metadata": {},
   "outputs": [
    {
     "name": "stdout",
     "output_type": "stream",
     "text": [
      "10\n",
      "Data(x=[3900, 26], edge_index=[2, 14586], edge_attr=[14586, 26])\n"
     ]
    }
   ],
   "source": [
    "per_t=1     \n",
    "batch_size = int(number_ts/per_t)\n",
    "data_encode=torch.load(dataset_dir+'/M_encode_output_'+str(0)+str(number_trajectories)\n",
    "                                             +'traj'+str(per_t)+str(batch_size)+str(satart_number_ts)+str(number_ts)+'ts_vis.pt')\n",
    "print(len(data_encode)) #10\n",
    "data=copy.deepcopy(data_encode[0:10])\n",
    "a=copy.deepcopy(data_encode[0])\n",
    "print(a)"
   ]
  },
  {
   "cell_type": "code",
   "execution_count": 6,
   "metadata": {},
   "outputs": [
    {
     "name": "stdout",
     "output_type": "stream",
     "text": [
      "14586\n"
     ]
    }
   ],
   "source": [
    "edge_num=a.edge_attr.shape[0]\n",
    "print(edge_num)#9762"
   ]
  },
  {
   "cell_type": "code",
   "execution_count": 9,
   "metadata": {},
   "outputs": [
    {
     "name": "stdout",
     "output_type": "stream",
     "text": [
      "[Model] Predicting Sequences Multiple...\n"
     ]
    },
    {
     "name": "stderr",
     "output_type": "stream",
     "text": [
      "/usr/local/lib/python3.8/dist-packages/torch_geometric/deprecation.py:12: UserWarning: 'data.DataLoader' is deprecated, use 'loader.DataLoader' instead\n",
      "  warnings.warn(out)\n"
     ]
    },
    {
     "name": "stdout",
     "output_type": "stream",
     "text": [
      "110\n",
      "Data(x=[3900, 26], edge_index=[2, 14586], edge_attr=[14586, 26])\n"
     ]
    }
   ],
   "source": [
    "predict_num=100\n",
    "seq_len=10\n",
    "data=predict_sequences_multiple(node_model, data, a, predict_num,seq_len)\n",
    "print(len(data))  #60\n",
    "print(data[0])"
   ]
  },
  {
   "cell_type": "code",
   "execution_count": 10,
   "metadata": {},
   "outputs": [],
   "source": [
    "torch.save(data,'/root/data1/STGCN_result/GA_d_0.4_110_pred')"
   ]
  },
  {
   "cell_type": "code",
   "execution_count": 11,
   "metadata": {},
   "outputs": [
    {
     "name": "stdout",
     "output_type": "stream",
     "text": [
      "110\n"
     ]
    }
   ],
   "source": [
    "i=0\n",
    "batches=torch.load(dataset_dir+'/'+str(satart_number_ts)+str(i)+str(number_trajectories)+'traj'+'batches.pt')\n",
    "xs=torch.load(dataset_dir+'/'+str(satart_number_ts)+str(i)+str(number_trajectories)+'traj'+'xs.pt')\n",
    "positions=torch.load( dataset_dir+'/'+str(satart_number_ts)+str(i)+str(number_trajectories)+'traj'+'positions.pt')\n",
    "edge_attrs=torch.load( dataset_dir+'/'+str(satart_number_ts)+str(i)+str(number_trajectories)+'traj'+'edge_attrs.pt')\n",
    "edge_indices=torch.load( dataset_dir+'/'+str(satart_number_ts)+str(i)+str(number_trajectories)+'traj'+'edge_indices.pt')\n",
    "edge_masks=torch.load(dataset_dir+'/'+str(satart_number_ts)+str(i)+str(number_trajectories)+'traj'+'edge_masks.pt')\n",
    "\n",
    "\n",
    "\n",
    "\n",
    "perm_list=torch.load(dataset_dir+'/perm_list_150.pt')\n",
    "\n",
    "\n",
    "pred_x=[]\n",
    "with torch.no_grad():\n",
    "        for i in range(len(data)):\n",
    "              x=decode_model(data[i], batches , xs, positions, edge_attrs, edge_indices, edge_masks,perm_list[0])\n",
    "              x=x*EDstd_vec_x+EDmean_vec_x\n",
    "              pred_x.append(x)\n",
    "\n",
    "              \n",
    "print(len(pred_x))"
   ]
  },
  {
   "cell_type": "code",
   "execution_count": 14,
   "metadata": {},
   "outputs": [
    {
     "name": "stdout",
     "output_type": "stream",
     "text": [
      "start to create the destination folder\n",
      "start to store data as a new variable\n",
      "transform succeed\n"
     ]
    }
   ],
   "source": [
    "for i in range(number_trajectories):\n",
    "    satart_number_ts=200\n",
    "    ts=len(pred_x)\n",
    "    originalFolder='/root/data1/d_slice_'+str(i)\n",
    "    destinationFolder='/root/data1/ROM_pred_d_0.4_dataset_EDoutput_'+str(predict_num)+str(i)\n",
    "    fileName=\"/slice_\"\n",
    "    ROM_transform_vector(pred_x, satart_number_ts,ts, originalFolder, destinationFolder, fileName)"
   ]
  },
  {
   "cell_type": "code",
   "execution_count": 15,
   "metadata": {},
   "outputs": [],
   "source": [
    "def pcc_of_two(ori_data, rom_data):\n",
    "\n",
    "    if ori_data.ndim == rom_data.ndim:\n",
    "        if rom_data.ndim == 3:\n",
    "            y_u = ori_data[...,0] # u\n",
    "            y_v = ori_data[...,1] # v\n",
    "            y_0_u = rom_data[...,0] # u\n",
    "            y_0_v = rom_data[...,1] # v\n",
    "            pcc_x = pearson_value(y_u, y_0_u)\n",
    "            pcc_y = pearson_value(y_v, y_0_v)\n",
    "            plt.figure(1)\n",
    "            plt.plot(pcc_x)\n",
    "            plt.xlabel('Time(s)',{'size' : 11})\n",
    "            plt.ylabel('Pearson Correlation Coefficient of x axis',{'size' : 11})\n",
    "            plt.figure(2)\n",
    "            plt.plot(pcc_y)\n",
    "            plt.xlabel('Time(s)',{'size' : 11})\n",
    "            plt.ylabel('Pearson Correlation Coefficient of y axis',{'size' : 11})\n",
    "            plt.show()\n",
    "        elif rom_data.ndim == 2:\n",
    "            pcc = pearson_value(ori_data, rom_data)\n",
    "            # print(pcc.shape)\n",
    "            f=plt.figure(1)\n",
    "            # x = np.linspace(0,pcc.shape[0], num = pcc.shape[0])\n",
    "            plt.plot(pcc)\n",
    "            plt.ylim((0.8, 1))\n",
    "            plt.xlabel('Time(s)',{'size' : 11})\n",
    "            plt.ylabel('Pearson Correlation Coefficient',{'size' : 11})\n",
    "            plt.show()\n",
    "            f.savefig('/root/data1/d_0.4_EMD/pcc_pre_circle_230.pdf', bbox_inches='tight')\n",
    "    else:\n",
    "        print('the dimension of these two series are not equal. Please check them.')"
   ]
  },
  {
   "cell_type": "code",
   "execution_count": 16,
   "metadata": {},
   "outputs": [],
   "source": [
    "def get(number_trajectories,satart_number_ts,number_ts,per_t,batch_size,path):\n",
    "  data_list = []\n",
    "\n",
    "  for i in range(number_trajectories):\n",
    "\n",
    "    if os.path.isdir(path):\n",
    "      path_k=path\n",
    "      print(path_k)\n",
    "      vtk_num=get_vtk_num(path_k)\n",
    "      print(vtk_num)\n",
    "      for ts in range(satart_number_ts,vtk_num):\n",
    "        \n",
    "        if(ts==number_ts+satart_number_ts):\n",
    "          break\n",
    "        point, cells, velocity=read_vtk_file(path_k+\"/slice_\"+str(ts+i)+\".vtk\")\n",
    "        \n",
    "        data_list.append(Data(x=velocity))\n",
    "  return data_list"
   ]
  },
  {
   "cell_type": "code",
   "execution_count": 17,
   "metadata": {},
   "outputs": [
    {
     "name": "stdout",
     "output_type": "stream",
     "text": [
      "/root/data1/ROM_pred_d_0.4_dataset_EDoutput_1000\n",
      "601\n",
      "[Data(x=[7793, 2]), Data(x=[7793, 2]), Data(x=[7793, 2]), Data(x=[7793, 2]), Data(x=[7793, 2]), Data(x=[7793, 2]), Data(x=[7793, 2]), Data(x=[7793, 2]), Data(x=[7793, 2]), Data(x=[7793, 2]), Data(x=[7793, 2]), Data(x=[7793, 2]), Data(x=[7793, 2]), Data(x=[7793, 2]), Data(x=[7793, 2]), Data(x=[7793, 2]), Data(x=[7793, 2]), Data(x=[7793, 2]), Data(x=[7793, 2]), Data(x=[7793, 2]), Data(x=[7793, 2]), Data(x=[7793, 2]), Data(x=[7793, 2]), Data(x=[7793, 2]), Data(x=[7793, 2]), Data(x=[7793, 2]), Data(x=[7793, 2]), Data(x=[7793, 2]), Data(x=[7793, 2]), Data(x=[7793, 2]), Data(x=[7793, 2]), Data(x=[7793, 2]), Data(x=[7793, 2]), Data(x=[7793, 2]), Data(x=[7793, 2]), Data(x=[7793, 2]), Data(x=[7793, 2]), Data(x=[7793, 2]), Data(x=[7793, 2]), Data(x=[7793, 2]), Data(x=[7793, 2]), Data(x=[7793, 2]), Data(x=[7793, 2]), Data(x=[7793, 2]), Data(x=[7793, 2]), Data(x=[7793, 2]), Data(x=[7793, 2]), Data(x=[7793, 2]), Data(x=[7793, 2]), Data(x=[7793, 2]), Data(x=[7793, 2]), Data(x=[7793, 2]), Data(x=[7793, 2]), Data(x=[7793, 2]), Data(x=[7793, 2]), Data(x=[7793, 2]), Data(x=[7793, 2]), Data(x=[7793, 2]), Data(x=[7793, 2]), Data(x=[7793, 2]), Data(x=[7793, 2]), Data(x=[7793, 2]), Data(x=[7793, 2]), Data(x=[7793, 2]), Data(x=[7793, 2]), Data(x=[7793, 2]), Data(x=[7793, 2]), Data(x=[7793, 2]), Data(x=[7793, 2]), Data(x=[7793, 2]), Data(x=[7793, 2]), Data(x=[7793, 2]), Data(x=[7793, 2]), Data(x=[7793, 2]), Data(x=[7793, 2]), Data(x=[7793, 2]), Data(x=[7793, 2]), Data(x=[7793, 2]), Data(x=[7793, 2]), Data(x=[7793, 2]), Data(x=[7793, 2]), Data(x=[7793, 2]), Data(x=[7793, 2]), Data(x=[7793, 2]), Data(x=[7793, 2]), Data(x=[7793, 2]), Data(x=[7793, 2]), Data(x=[7793, 2]), Data(x=[7793, 2]), Data(x=[7793, 2]), Data(x=[7793, 2]), Data(x=[7793, 2]), Data(x=[7793, 2]), Data(x=[7793, 2]), Data(x=[7793, 2]), Data(x=[7793, 2]), Data(x=[7793, 2]), Data(x=[7793, 2]), Data(x=[7793, 2]), Data(x=[7793, 2]), Data(x=[7793, 2]), Data(x=[7793, 2]), Data(x=[7793, 2]), Data(x=[7793, 2]), Data(x=[7793, 2]), Data(x=[7793, 2]), Data(x=[7793, 2]), Data(x=[7793, 2]), Data(x=[7793, 2]), Data(x=[7793, 2])]\n",
      "110\n",
      "110\n"
     ]
    }
   ],
   "source": [
    "dataset_dir = '/root/data1/d_0.4_EMD'\n",
    "number_trajectories=1\n",
    "satart_number_ts=200\n",
    "number_ts=110\n",
    "path='/root/data1/ROM_pred_d_0.4_dataset_EDoutput_1000'\n",
    "ED_out=get(number_trajectories,satart_number_ts,number_ts,1,1,path)\n",
    "print(ED_out)\n",
    "print(len(ED_out))\n",
    "ED_out=ED_out[0:110]\n",
    "path='/root/data1/d_slice_'\n",
    "#get_dataset(number_trajectories,satart_number_ts,number_ts,1,1,dataset_dir,path)\n",
    "ori=torch.load(dataset_dir+'/meshgraphnets_miniset'+str(1)+str(1)+str(number_trajectories)+'traj'+str(satart_number_ts)+str(number_ts)+'ts_vis.pt')\n",
    "print(len(ori))   #150\n",
    "ori=ori[0:110]"
   ]
  },
  {
   "cell_type": "code",
   "execution_count": 18,
   "metadata": {},
   "outputs": [
    {
     "name": "stdout",
     "output_type": "stream",
     "text": [
      "(110, 15586) (110, 15586)\n"
     ]
    },
    {
     "data": {
      "image/png": "[encoded data removed]",
      "text/plain": [
       "<Figure size 432x288 with 1 Axes>"
      ]
     },
     "metadata": {
      "needs_background": "light"
     },
     "output_type": "display_data"
    }
   ],
   "source": [
    "ts=110\n",
    "\n",
    "for i in range(ts):\n",
    "    \n",
    "    uvw=ED_out[i].x.reshape(1,ED_out[i].x.shape[0],ED_out[i].x.shape[1]).to('cpu')\n",
    "    ouvw=ori[i].x.reshape(1,ori[i].x.shape[0],ori[i].x.shape[1])\n",
    "    outputs = uvw if i==0 else np.vstack((outputs,uvw))\n",
    "    inputs=ouvw if i==0 else np.vstack((inputs,ouvw))\n",
    "\n",
    "output_ = np.hstack((outputs[:,:,0],outputs[:,:,1]))\n",
    "input_ = np.hstack((inputs[:,:,0],inputs[:,:,1]))\n",
    "print(output_.shape,input_.shape)\n",
    "\n",
    "pcc_of_two(input_, output_)"
   ]
  },
  {
   "cell_type": "code",
   "execution_count": 19,
   "metadata": {},
   "outputs": [],
   "source": [
    "from keras import backend as K\n",
    "def mse(ori_data, rom_data):\n",
    "\n",
    "    rmse_value = []\n",
    "    acc=torch.nn.MSELoss()\n",
    "    if len(ori_data) != len(rom_data):\n",
    "        print('the length of these two array do not match')\n",
    "    else:\n",
    "        for i in range(len(rom_data)):\n",
    "            #value = mean_squared_error(ori_data[i], rom_data[i])\n",
    "            ori=torch.Tensor(ori_data[i])\n",
    "            \n",
    "            rom=torch.Tensor(rom_data[i])\n",
    "            \n",
    "            k=((torch.norm(ori, p=1))/len(ori))\n",
    "            \n",
    "            #value =acc(ori, rom)\n",
    "            \n",
    "            #value =math.sqrt(acc(ori, rom))\n",
    "            value=math.sqrt(acc(ori,rom))/k\n",
    "            #value =math.sqrt((acc(ori, rom))/(torch.norm(ori, p=1)))\n",
    "           \n",
    "            #value =math.sqrt(acc(ori, rom)/(torch.pow((torch.norm(ori, p=2)),2)/len(ori)))\n",
    "            if i == 0:\n",
    "                rmse_value = value\n",
    "            else:\n",
    "                rmse_value = np.hstack((rmse_value,value))\n",
    "        rmse_value = np.reshape(rmse_value,(-1,1))\n",
    "    return rmse_value\n",
    "\n",
    "def mse_of_two(ori_data, rom_data):\n",
    "    # , rom_data_1):\n",
    "    if ori_data.ndim == rom_data.ndim:\n",
    "        if rom_data.ndim == 3:\n",
    "            y_u = ori_data[...,0] # u\n",
    "            y_v = ori_data[...,1] # v\n",
    "            y_0_u = rom_data[...,0] # u\n",
    "            y_0_v = rom_data[...,1] # v\n",
    "            rmse_x = mse(y_u, y_0_u)\n",
    "            rmse_y = mse(y_v, y_0_v)\n",
    "            plt.figure(1)\n",
    "            plt.plot(rmse_x)\n",
    "            plt.xlabel('Time(s)',{'size' : 11})\n",
    "            plt.ylabel('RMSE of x axis',{'size' : 11})\n",
    "            plt.figure(2)\n",
    "            plt.plot(rmse_y)\n",
    "            plt.xlabel('Time(s)',{'size' : 11})\n",
    "            plt.ylabel('RMSE of y axis',{'size' : 11})\n",
    "            plt.show()\n",
    "        elif rom_data.ndim == 2:\n",
    "            rmse_value = mse(ori_data, rom_data)\n",
    "            # rmse_value_1 = rmse(ori_data, rom_data_1)\n",
    "            # print(pcc.shape[0], pcc.shape[1])\n",
    "            plt.figure(1)\n",
    "            # x = np.linspace(0,rmse_value.shape[0], rmse_value.shape[0])\n",
    "            # plt.plot(x, rmse_value, x, rmse_value_1)\n",
    "            plt.plot(rmse_value)\n",
    "            plt.ylim((0, 0.3))\n",
    "            plt.xlabel('Time(s)',{'size' : 11})\n",
    "            plt.ylabel('RRMSE',{'size' : 11})\n",
    "            # plt.legend(['7', '8'], loc='lower right')   \n",
    "            plt.show()\n",
    "    else:\n",
    "        print('the dimension of these two series are not equal. Please check them.')"
   ]
  },
  {
   "cell_type": "code",
   "execution_count": 20,
   "metadata": {},
   "outputs": [
    {
     "data": {
      "image/png": "[encoded data removed]",
      "text/plain": [
       "<Figure size 432x288 with 1 Axes>"
      ]
     },
     "metadata": {
      "needs_background": "light"
     },
     "output_type": "display_data"
    }
   ],
   "source": [
    "mse_of_two(input_, output_)"
   ]
  },
  {
   "cell_type": "code",
   "execution_count": 21,
   "metadata": {},
   "outputs": [],
   "source": [
    "def point_over_time(ori_data, edg_data,j,ts , fieldName,path):\n",
    "        point = [0,ts]\n",
    "       \n",
    "        x = np.linspace(point[0],int(point[1]-1),int(point[1]-point[0]))\n",
    "        y_u=[]\n",
    "        y_1_u=[]\n",
    "        for i in range(ts):\n",
    "            y_u.append(ori_data[i].x[j,0])\n",
    "            y_1_u.append(edg_data[i].x[j,0])\n",
    "        print(len(y_u))\n",
    "        f = plt.figure()\n",
    "        plt.plot(x, y_u,'k',  linewidth = 0.7)\n",
    "        plt.plot(x, y_1_u, 'r--', linewidth = 0.7)\n",
    "        plt.xlim((point[0], point[1]))# range\n",
    "        plt.ylim((-5, 5))\n",
    "\n",
    "        plt.title(fieldName + ' Magnitude')\n",
    "        plt.xlabel('Time(s)')\n",
    "        plt.ylabel(fieldName)\n",
    "        \n",
    "        plt.legend(['Full Model', 'Global Aware Graph Neural Networks'], loc='upper right')\n",
    "        #f.savefig('/root/data1/EMD/'+str(j)+'velocity.pdf', bbox_inches='tight')\n",
    "        f.savefig(path, bbox_inches='tight')"
   ]
  },
  {
   "cell_type": "code",
   "execution_count": 22,
   "metadata": {},
   "outputs": [
    {
     "name": "stdout",
     "output_type": "stream",
     "text": [
      "110\n",
      "tensor([ 0.0424, -0.0221])\n",
      "110\n"
     ]
    },
    {
     "data": {
      "image/png": "[encoded data removed]",
      "text/plain": [
       "<Figure size 432x288 with 1 Axes>"
      ]
     },
     "metadata": {
      "needs_background": "light"
     },
     "output_type": "display_data"
    }
   ],
   "source": [
    "number_trajectories=1\n",
    "satart_number_ts=200\n",
    "number_ts=110\n",
    "ori=torch.load(dataset_dir+'/meshgraphnets_miniset'+str(1)+str(1)+str(number_trajectories)+'traj'+str(satart_number_ts)+str(number_ts)+'ts_vis.pt')\n",
    "print(len(ori))   #150\n",
    "ori=ori[0:110]\n",
    "ts=110\n",
    "j=1704#7793\n",
    "fieldName='Velocity'\n",
    "print(ori[0].mesh_pos[j]) \n",
    "path='/root/data1/d_0.4_EMD/'+str(j)+'velocity.pdf'\n",
    "point_over_time(ori, ED_out,j,ts , fieldName,path)"
   ]
  },
  {
   "cell_type": "code",
   "execution_count": 23,
   "metadata": {},
   "outputs": [
    {
     "name": "stdout",
     "output_type": "stream",
     "text": [
      "tensor([0.1758, 0.0078])\n"
     ]
    }
   ],
   "source": [
    "print(ori[0].mesh_pos[6704]) "
   ]
  },
  {
   "cell_type": "markdown",
   "metadata": {},
   "source": [
    "时间"
   ]
  },
  {
   "cell_type": "code",
   "execution_count": 1,
   "metadata": {},
   "outputs": [
    {
     "name": "stderr",
     "output_type": "stream",
     "text": [
      "/usr/local/lib/python3.8/dist-packages/tqdm/auto.py:22: TqdmWarning: IProgress not found. Please update jupyter and ipywidgets. See https://ipywidgets.readthedocs.io/en/stable/user_install.html\n",
      "  from .autonotebook import tqdm as notebook_tqdm\n"
     ]
    }
   ],
   "source": [
    "import torch\n",
    "import copy\n",
    "import time\n",
    "from GTF import *\n",
    "from torch_geometric.data import Data\n",
    "from d_TAP_MP_Attention import *\n",
    "from d_tap_processing import * \n"
   ]
  },
  {
   "cell_type": "code",
   "execution_count": 2,
   "metadata": {},
   "outputs": [
    {
     "name": "stdout",
     "output_type": "stream",
     "text": [
      "14586\n"
     ]
    }
   ],
   "source": [
    "data_encode=torch.load('/root/data1/d_0.4_EMD/M_encode_output_01traj11020010ts_vis.pt')\n",
    "data=copy.deepcopy(data_encode[0:10])\n",
    "device ='cpu'    #cuda\n",
    "for i in range(len(data)):\n",
    "    data[i].x=data[i].x.to(device)\n",
    "    data[i].edge_index=data[i].edge_index.to(device)\n",
    "    data[i].edge_attr=data[i].edge_attr.to(device)\n",
    "a=copy.deepcopy(data[0])\n",
    "edge_num=a.edge_attr.shape[0]\n",
    "print(edge_num)"
   ]
  },
  {
   "cell_type": "code",
   "execution_count": 3,
   "metadata": {},
   "outputs": [],
   "source": [
    "class objectview(object):\n",
    "    def __init__(self, d):\n",
    "        self.__dict__ = d        \n",
    "for args in [\n",
    "        {'model_type': 'meshgraphnet_transformer',\n",
    "         'num_layers': 2,\n",
    "         'batchsize': 5,       #是lable上的batchsize\n",
    "         'hidden_dim': 30,      #在低维空间上的编码可以写大一点，128#30\n",
    "         'hidden_channels':26,  #这里的hidden_dim与encode_decode中的hidden_channels相同\n",
    "         'epochs': 2500,#5000\n",
    "         'attr_epochs':8000,#8000\n",
    "         'train_size':140, #45\n",
    "         'test_size': 50, #10         #按照lable的来\n",
    "         'device':'cuda',\n",
    "         'shuffle': False,\n",
    "         'save_best_model': True,\n",
    "         'checkpoint_dir': '/root/data1/d_0.4_EMD/mgnn_transformerbest_models/',\n",
    "         'postprocess_dir': '/root/data1/d_0.4_EMD/mgnn_transformer_loss_plots/',\n",
    "         'd_k': 28,#28\n",
    "         'd_v': 28,\n",
    "         'input_shape': 12,   #加上时间信息，所以比n_graph_encode的最后一个多两维\n",
    "         'n_heads': 6,\n",
    "         'n_layers': 5,\n",
    "         'ff_dim': 64,\n",
    "         'seq_len': 10,        #改per_t-1,二推一\n",
    "         'per_t':11,\n",
    "         'attr_train_size':170,\n",
    "         'attr_batchsize':5,\n",
    "        'n_graph_encode':[500,150,80,10],\n",
    "        'pool_num':[6500,4800,3900]},\n",
    "]:\n",
    "        args = objectview(args)    \n",
    "model_name='g_trans_model_nl'+str(args.num_layers)+'_bs'+str(args.batchsize) + \\\n",
    "               '_hd'+str(args.hidden_dim)+'_ep'+str(args.epochs)+'_wd' + \\\n",
    "               '_shuff_'+str(args.shuffle)+'_dk'+str(args.d_k)+'_heads'+str(args.n_heads)\n",
    "args.batchsize=1\n",
    "node_model = MeshGraphNet_transformer(args,edge_num)\n",
    "node_model.load_state_dict(torch.load('/root/data1/d_0.4_EMD/mgnn_transformerbest_models/'+model_name+'.pt'))\n",
    "\n",
    "EDstats_list=torch.load('/root/data1/d_0.4_EMD/EDstats_list.pt')\n",
    "data_stats_list=torch.load('/root/data1/d_0.4_EMD/data_stats_list.pt')\n",
    "[EDmean_vec_x,EDstd_vec_x,EDmean_vec_edge,EDstd_vec_edge] = EDstats_list\n",
    "[mean_vec_x,std_vec_x,mean_vec_edge,std_vec_edge] = data_stats_list"
   ]
  },
  {
   "cell_type": "code",
   "execution_count": 4,
   "metadata": {},
   "outputs": [],
   "source": [
    "in_channels_node = 2 #2\n",
    "in_channels_edge = 3 #3\n",
    "hidden_channels = 26#24    #22#12\n",
    "out_channels = in_channels_node\n",
    "batch_size =25       #改25\n",
    "n_mlp_encode = 4\n",
    "n_mlp_mp = 5#5\n",
    "encoding_dim=32#32\n",
    "ae_dim=[160,128,64,32]#[128,64,32,16,10][300,128,64,32]\n",
    "n_mp_down = [2,2,1,1]\n",
    "n_mp_up= [1,1,2,2]\n",
    "pool_num =[6500,4800,3900]#[2000,1500,1200,1000][2000,1600,1400,1000]\n",
    "act = F.elu\n",
    "param_sharing = False\n",
    "pathD='/root/data1/d_0.4_EMD/Decode_state_dict.pt'"
   ]
  },
  {
   "cell_type": "code",
   "execution_count": 5,
   "metadata": {},
   "outputs": [
    {
     "data": {
      "text/plain": [
       "<All keys matched successfully>"
      ]
     },
     "execution_count": 5,
     "metadata": {},
     "output_type": "execute_result"
    }
   ],
   "source": [
    "decode_model=GNN_Decode(\n",
    "                hidden_channels,\n",
    "                in_channels_node,\n",
    "                in_channels_edge,\n",
    "                \n",
    "                out_channels,\n",
    "                encoding_dim,\n",
    "                n_mlp_mp,\n",
    "                n_mlp_encode,\n",
    "\n",
    "                ae_dim,\n",
    "                n_mp_down,\n",
    "                n_mp_up,\n",
    "                pool_num,\n",
    "                \n",
    "                act,\n",
    "                \n",
    "                name='gnn_topk')\n",
    "decode_model.load_state_dict(torch.load(pathD), strict=False)"
   ]
  },
  {
   "cell_type": "code",
   "execution_count": 6,
   "metadata": {},
   "outputs": [
    {
     "name": "stderr",
     "output_type": "stream",
     "text": [
      "/usr/local/lib/python3.8/dist-packages/torch_geometric/deprecation.py:12: UserWarning: 'data.DataLoader' is deprecated, use 'loader.DataLoader' instead\n",
      "  warnings.warn(out)\n"
     ]
    }
   ],
   "source": [
    "list_p=data\n",
    "data_loader=DataLoader(list_p, batch_size=10, shuffle=False) \n",
    "batches=torch.load('/root/data1/d_0.4_EMD/20001trajbatches.pt')\n",
    "for i in range(len(batches)):\n",
    "    batches[i]=batches[i].to(device)    \n",
    "xs=torch.load('/root/data1/d_0.4_EMD/20001trajxs.pt')\n",
    "for i in range(len(xs)):\n",
    "    xs[i]=xs[i].to(device) \n",
    "positions=torch.load('/root/data1/d_0.4_EMD/20001trajpositions.pt')\n",
    "for i in range(len(positions)):\n",
    "    positions[i]=positions[i].to(device) \n",
    "edge_attrs=torch.load( '/root/data1/d_0.4_EMD/20001trajedge_attrs.pt')\n",
    "for i in range(len(edge_attrs)):\n",
    "    edge_attrs[i]=edge_attrs[i].to(device)\n",
    "edge_indices=torch.load( '/root/data1/d_0.4_EMD/20001trajedge_indices.pt')\n",
    "for i in range(len(edge_indices)):\n",
    "    edge_indices[i]=edge_indices[i].to(device)\n",
    "edge_masks=torch.load('/root/data1/d_0.4_EMD/20001trajedge_masks.pt')\n",
    "for i in range(len(edge_masks)):\n",
    "    edge_masks[i]=edge_masks[i].to(device)\n",
    "perm_list=torch.load('/root/data1/d_0.4_EMD/perm_list_150.pt')"
   ]
  },
  {
   "cell_type": "code",
   "execution_count": 29,
   "metadata": {},
   "outputs": [
    {
     "name": "stdout",
     "output_type": "stream",
     "text": [
      "0.5009963512420654\n"
     ]
    }
   ],
   "source": [
    "time_start=time.time()\n",
    "for i,batch in enumerate(data_loader):\n",
    "    code_x,code_edge_attr = gmesh_transformer_pred(batch,a,node_model,mean_vec_x,std_vec_x,mean_vec_edge,std_vec_edge)\n",
    "    print(time.time() - time_start)\n",
    "#new_data=Data(x=code_x, edge_index=a.edge_index, edge_attr=code_edge_attr)\n",
    "#with torch.no_grad():\n",
    "        #x=decode_model(new_data, batches , xs, positions, edge_attrs, edge_indices, edge_masks,perm_list[0])\n",
    "        #x=x*EDstd_vec_x+EDmean_vec_x\n"
   ]
  },
  {
   "cell_type": "code",
   "execution_count": 9,
   "metadata": {},
   "outputs": [
    {
     "name": "stdout",
     "output_type": "stream",
     "text": [
      "0.005863189697265625\n"
     ]
    }
   ],
   "source": [
    "for i,batch in enumerate(data_loader):\n",
    "    code_x,code_edge_attr = gmesh_transformer_pred(batch,a,node_model,mean_vec_x,std_vec_x,mean_vec_edge,std_vec_edge)"
   ]
  },
  {
   "cell_type": "markdown",
   "metadata": {},
   "source": [
    "3900与5100对比"
   ]
  },
  {
   "cell_type": "code",
   "execution_count": 28,
   "metadata": {},
   "outputs": [],
   "source": [
    "def cc(ori_data, rom_data_0, rom_data_1):\n",
    "    pcc_0 = pearson_value(ori_data, rom_data_0)\n",
    "    pcc_1 = pearson_value(ori_data, rom_data_1)\n",
    "    \n",
    "    fig, ax = plt.subplots()\n",
    "    x = np.linspace(0,pcc_0.shape[0],pcc_0.shape[0])\n",
    "    print(pcc_0.shape, pcc_1.shape)\n",
    "    ax.set_prop_cycle(color = ['#f6b93b','#6a89cc'], linestyle = ['-', '-'])\n",
    "    y_0 = pcc_0\n",
    "    y_1 = pcc_1\n",
    "    \n",
    "   \n",
    "    ax.plot(x, y_0, x, y_1)\n",
    "     \n",
    "            # plt.xlim((-0.1, 200.1))# range\n",
    "    plt.ylim((0.98, 1))\n",
    "    plt.xlabel('Time Level',{'size' : 11})\n",
    "    plt.ylabel('Pearson Correlation Coefficient',{'size' : 11})\n",
    "            # plt.xticks(np.arange(0,200.1,25))\n",
    "            # plt.yticks(np.arange(0.97,1.0001,0.01))\n",
    "            # plt.legend(['D4:AE+TF', 'D8:AE+TF', 'D12:AE+TF', 'D4:PCA+TF', 'D8:PCA+TF', 'D12:PCA+TF'], loc='lower right')   \n",
    "    plt.legend(['5100', '3900'], loc='lower right')   \n",
    "\n",
    "    plt.show()\n",
    "    fig.savefig('/root/data1/d_0.4_EMD/'+'Pcc.pdf', bbox_inches='tight')"
   ]
  },
  {
   "cell_type": "code",
   "execution_count": 25,
   "metadata": {},
   "outputs": [
    {
     "name": "stdout",
     "output_type": "stream",
     "text": [
      "/root/data1/ROM_pred_d_dataset_EDoutput_1000\n",
      "601\n",
      "110\n"
     ]
    }
   ],
   "source": [
    "dataset_dir_1 = '/root/data1/d_EMD'\n",
    "number_trajectories=1\n",
    "satart_number_ts=200\n",
    "number_ts=110\n",
    "path_1='/root/data1/ROM_pred_d_dataset_EDoutput_1000'\n",
    "ED_out_1=get(number_trajectories,satart_number_ts,number_ts,1,1,path_1)\n",
    "#print(ED_out_1)\n",
    "print(len(ED_out_1))\n",
    "ED_out_1=ED_out_1[0:110]"
   ]
  },
  {
   "cell_type": "code",
   "execution_count": 26,
   "metadata": {},
   "outputs": [
    {
     "name": "stdout",
     "output_type": "stream",
     "text": [
      "/root/data1/ROM_pred_d_0.4_dataset_EDoutput_1000\n",
      "601\n",
      "110\n",
      "110\n"
     ]
    }
   ],
   "source": [
    "dataset_dir = '/root/data1/d_0.4_EMD'\n",
    "number_trajectories=1\n",
    "satart_number_ts=200\n",
    "number_ts=110\n",
    "path_2='/root/data1/ROM_pred_d_0.4_dataset_EDoutput_1000'\n",
    "ED_out_2=get(number_trajectories,satart_number_ts,number_ts,1,1,\n",
    "path_2)\n",
    "#print(ED_out_2)\n",
    "print(len(ED_out_2))\n",
    "ED_out_2=ED_out_2[0:110]\n",
    "path='/root/data1/d_slice_'\n",
    "#get_dataset(number_trajectories,satart_number_ts,number_ts,1,1,dataset_dir,path)\n",
    "ori=torch.load(dataset_dir+'/meshgraphnets_miniset'+str(1)+str(1)+str(number_trajectories)+'traj'+str(satart_number_ts)+str(number_ts)+'ts_vis.pt')\n",
    "print(len(ori))   #150\n",
    "ori=ori[0:110]"
   ]
  },
  {
   "cell_type": "code",
   "execution_count": 29,
   "metadata": {},
   "outputs": [
    {
     "name": "stdout",
     "output_type": "stream",
     "text": [
      "(110, 15586) (110, 15586) (110, 15586)\n",
      "(110, 1) (110, 1)\n"
     ]
    },
    {
     "data": {
      "image/png": "[encoded data removed]",
      "text/plain": [
       "<Figure size 432x288 with 1 Axes>"
      ]
     },
     "metadata": {
      "needs_background": "light"
     },
     "output_type": "display_data"
    }
   ],
   "source": [
    "ts=110\n",
    "\n",
    "for i in range(ts):\n",
    "    \n",
    "    uvw_1=ED_out_1[i].x.reshape(1,ED_out_1[i].x.shape[0],ED_out_1[i].x.shape[1]).to('cpu')\n",
    "    uvw_2=ED_out_2[i].x.reshape(1,ED_out_2[i].x.shape[0],ED_out_2[i].x.shape[1]).to('cpu')\n",
    "    ouvw=ori[i].x.reshape(1,ori[i].x.shape[0],ori[i].x.shape[1])\n",
    "    outputs_1 = uvw_1 if i==0 else np.vstack((outputs_1,uvw_1))\n",
    "    outputs_2 = uvw_2 if i==0 else np.vstack((outputs_2,uvw_2))\n",
    "    inputs=ouvw if i==0 else np.vstack((inputs,ouvw))\n",
    "\n",
    "output_1 = np.hstack((outputs_1[:,:,0],outputs_1[:,:,1]))\n",
    "output_2 = np.hstack((outputs_2[:,:,0],outputs_2[:,:,1]))\n",
    "input_ = np.hstack((inputs[:,:,0],inputs[:,:,1]))\n",
    "print(output_1.shape,output_2.shape,input_.shape)\n",
    "\n",
    "cc(input_, output_1,output_2)"
   ]
  },
  {
   "cell_type": "code",
   "execution_count": 30,
   "metadata": {},
   "outputs": [],
   "source": [
    "def rrmse(ori_data, rom_data):\n",
    "\n",
    "    rmse_value = []\n",
    "    acc=torch.nn.MSELoss()\n",
    "    if len(ori_data) != len(rom_data):\n",
    "        print('the length of these two array do not match')\n",
    "    else:\n",
    "        for i in range(len(rom_data)):\n",
    "            #value = mean_squared_error(ori_data[i], rom_data[i])\n",
    "            ori=torch.Tensor(ori_data[i])\n",
    "            \n",
    "            rom=torch.Tensor(rom_data[i])\n",
    "            \n",
    "            k=((torch.norm(ori, p=1))/len(ori))\n",
    "            \n",
    "            #value =acc(ori, rom)\n",
    "            \n",
    "            #value =math.sqrt(acc(ori, rom))\n",
    "            value=math.sqrt(acc(ori,rom))/k\n",
    "            #value =math.sqrt((acc(ori, rom))/(torch.norm(ori, p=1)))\n",
    "           \n",
    "            #value =math.sqrt(acc(ori, rom)/(torch.pow((torch.norm(ori, p=2)),2)/len(ori)))\n",
    "            if i == 0:\n",
    "                rmse_value = value\n",
    "            else:\n",
    "                rmse_value = np.hstack((rmse_value,value))\n",
    "        rmse_value = np.reshape(rmse_value,(-1,1))\n",
    "    return rmse_value\n",
    "def rmse_over_time(ori_data, rom_data_0, rom_data_1):\n",
    "    rmse_0 = rrmse(ori_data, rom_data_0)\n",
    "    rmse_1 = rrmse(ori_data, rom_data_1)\n",
    "\n",
    "    fig, ax = plt.subplots()\n",
    "    x = np.linspace(0,rmse_0.shape[0],rmse_0.shape[0])\n",
    "    ax.set_prop_cycle(color = ['#f6b93b','#6a89cc'], linestyle = ['-', '-'])\n",
    "    # x = np.linspace(0,15,2875)\n",
    "    y_0 = rmse_0\n",
    "    y_1 = rmse_1\n",
    "   \n",
    "    ax.plot(x, y_0, x, y_1)\n",
    "    # , x, rmse_4, linewidth = 0.6)\n",
    "    # plt.xlim((-0.1, 200.1))# range\n",
    "    plt.ylim((-0.005, 0.3))\n",
    "    plt.xlabel('Time Level',{'size' : 11})\n",
    "    plt.ylabel('RRMSE',{'size' : 11})\n",
    "    # plt.xticks(np.arange(0,200.1,25))\n",
    "    # plt.yticks(np.arange(0,0.081,0.02))\n",
    "    plt.legend(['5100', '3900'], loc='upper right')   \n",
    "    plt.show()\n",
    "    fig.savefig('/root/data1/d_0.4_EMD/'+'RMSE.pdf', bbox_inches='tight')"
   ]
  },
  {
   "cell_type": "code",
   "execution_count": 31,
   "metadata": {},
   "outputs": [
    {
     "data": {
      "image/png": "[encoded data removed]",
      "text/plain": [
       "<Figure size 432x288 with 1 Axes>"
      ]
     },
     "metadata": {
      "needs_background": "light"
     },
     "output_type": "display_data"
    }
   ],
   "source": [
    "rmse_over_time(input_,output_1, output_2)"
   ]
  },
  {
   "cell_type": "code",
   "execution_count": null,
   "metadata": {},
   "outputs": [],
   "source": [
    "def point_over_time(ori_data,rom_data_0, rom_data_1, j,ts , fieldName):\n",
    "        point = [0,ts]\n",
    "        x = np.linspace(point[0],int(point[1]-1),int(point[1]-point[0]))\n",
    "        y_u=[]\n",
    "        y_0_u=[]\n",
    "        y_1_u=[]\n",
    "       \n",
    "        for i in range(ts):\n",
    "            y_u.append(ori_data[i].x[j,0])\n",
    "            y_0_u.append(rom_data_0[i].x[j,0])\n",
    "            y_1_u.append(rom_data_1[i].x[j,0])\n",
    "            \n",
    "        print(len(y_u))\n",
    "        fig, ax = plt.subplots()\n",
    "        ax.set_prop_cycle(color = ['#2f3542','#ff6b81','#6a89cc'], linestyle = ['-','-', '-'])\n",
    "        ax.plot(x, y_u, x, y_0_u,x, y_1_u,  linewidth = 0.6)\n",
    "\n",
    "        plt.ylim((-7, 7))\n",
    "\n",
    "        \n",
    "        plt.xlabel('Time(s)')\n",
    "        plt.ylabel(fieldName)\n",
    "        \n",
    "        plt.legend(['Full Model','5100', '3900'], loc='lower right')\n",
    "        fig.savefig('/root/data1/d_0.4_EMD/5100-3900duibi'+str(j)+'velocity.pdf', bbox_inches='tight')"
   ]
  },
  {
   "cell_type": "code",
   "execution_count": 33,
   "metadata": {},
   "outputs": [
    {
     "name": "stdout",
     "output_type": "stream",
     "text": [
      "tensor([ 0.1608, -0.0207])\n",
      "110\n"
     ]
    },
    {
     "data": {
      "image/png": "[encoded data removed]",
      "text/plain": [
       "<Figure size 432x288 with 1 Axes>"
      ]
     },
     "metadata": {
      "needs_background": "light"
     },
     "output_type": "display_data"
    }
   ],
   "source": [
    "fieldName='Velocity'\n",
    "j=1900\n",
    "print(ori[0].mesh_pos[j]) \n",
    "\n",
    "ts=110\n",
    "point_over_time(ori, ED_out_1,ED_out_2,j,ts , fieldName)"
   ]
  },
  {
   "cell_type": "code",
   "execution_count": 2,
   "metadata": {},
   "outputs": [
    {
     "name": "stdout",
     "output_type": "stream",
     "text": [
      "110\n"
     ]
    }
   ],
   "source": [
    "dataset_dir = '/root/data1/d_0.4_EMD'\n",
    "number_trajectories=1\n",
    "satart_number_ts=200\n",
    "number_ts=110\n",
    "path='/root/data1/d_slice_'\n",
    "ori=torch.load(dataset_dir+'/meshgraphnets_miniset'+str(1)+str(1)+str(number_trajectories)+'traj'+str(satart_number_ts)+str(number_ts)+'ts_vis.pt')\n",
    "print(len(ori))   #150\n",
    "ori=ori[0:110]"
   ]
  },
  {
   "cell_type": "code",
   "execution_count": 5,
   "metadata": {},
   "outputs": [
    {
     "name": "stdout",
     "output_type": "stream",
     "text": [
      "tensor([ 0.0424, -0.0221])\n"
     ]
    }
   ],
   "source": [
    "j=1704\n",
    "print(ori[0].mesh_pos[j]) "
   ]
  },
  {
   "cell_type": "code",
   "execution_count": 4,
   "metadata": {},
   "outputs": [
    {
     "name": "stdout",
     "output_type": "stream",
     "text": [
      "/root/data1/ROM_pred_d_dataset_EDoutput_1000\n",
      "601\n",
      "110\n",
      "/root/data1/ROM_pred_d_0.4_dataset_EDoutput_1000\n",
      "601\n",
      "110\n",
      "110\n"
     ]
    }
   ],
   "source": [
    "dataset_dir_1 = '/root/data1/d_EMD'\n",
    "number_trajectories=1\n",
    "satart_number_ts=200\n",
    "number_ts=110\n",
    "path_1='/root/data1/ROM_pred_d_dataset_EDoutput_1000'\n",
    "ED_out_1=get(number_trajectories,satart_number_ts,number_ts,1,1,path_1)\n",
    "#print(ED_out_1)\n",
    "print(len(ED_out_1))\n",
    "ED_out_1=ED_out_1[0:110]\n",
    "\n",
    "dataset_dir = '/root/data1/d_0.4_EMD'\n",
    "number_trajectories=1\n",
    "satart_number_ts=200\n",
    "number_ts=110\n",
    "path_2='/root/data1/ROM_pred_d_0.4_dataset_EDoutput_1000'\n",
    "ED_out_2=get(number_trajectories,satart_number_ts,number_ts,1,1,path_2)\n",
    "print(len(ED_out_2))\n",
    "ED_out_2=ED_out_2[0:110]\n",
    "\n",
    "path='/root/data1/d_slice_'\n",
    "#get_dataset(number_trajectories,satart_number_ts,number_ts,1,1,dataset_dir,path)\n",
    "ori=torch.load(dataset_dir+'/meshgraphnets_miniset'+str(1)+str(1)+str(number_trajectories)+'traj'+str(satart_number_ts)+str(number_ts)+'ts_vis.pt')\n",
    "print(len(ori))   #150\n",
    "ori=ori[0:110]\n",
    "\n"
   ]
  },
  {
   "cell_type": "code",
   "execution_count": 15,
   "metadata": {},
   "outputs": [],
   "source": [
    "def vtk_vector(ori,data,i,destination_vtu_path_0):\n",
    "    \n",
    "    reader=vtk.vtkPolyDataReader()\n",
    "    reader.SetFileName(destination_vtu_path_0)  # SetFileName设置要读取的vtk文件\n",
    "    reader.ReadAllScalarsOn()\n",
    "    reader.ReadAllVectorsOn()\n",
    "    reader.ReadAllTensorsOn()\n",
    "    reader.Update()\n",
    "\n",
    "    vtkdata=reader.GetOutput()  # GetOutput获取文件的数据\n",
    "    num_points=vtkdata.GetNumberOfPoints() \n",
    "    point_data =vtkdata.GetPointData()\n",
    "    \n",
    "    a=ori[i].x-data[i].x\n",
    "    print(a.shape)\n",
    "    a=a.to('cpu')\n",
    "    a=a.numpy()\n",
    "    \n",
    "    velocity_array = point_data.GetArray('U')\n",
    "        #print(velocity_array.GetTuple(0)[0:2])\n",
    "    for j in range(num_points):\n",
    "            original_velocity = list(velocity_array.GetTuple(j))\n",
    "            original_velocity[0:2]=tuple(a[j])\n",
    "            velocity_array.SetTuple(j, original_velocity)\n",
    "\n",
    "    writer = vtk.vtkGenericDataObjectWriter()\n",
    "    writer.SetFileName(destination_vtu_path_0)\n",
    "    writer.SetInputData(vtkdata)\n",
    "    writer.Write()\n",
    "       \n",
    "    print('transform succeed')"
   ]
  },
  {
   "cell_type": "code",
   "execution_count": 22,
   "metadata": {},
   "outputs": [],
   "source": [
    "\n",
    "import shutil\n",
    " \n",
    "def copy_vtu_file(source_path, destination_path):\n",
    "    shutil.copy2(source_path, destination_path)\n",
    " \n",
    "# 使用方法\n",
    "t=5\n",
    "\n",
    "source_vtu_path = '/root/data1/d_slice_0/slice_' + str(t+satart_number_ts)+ \".vtk\""
   ]
  },
  {
   "cell_type": "code",
   "execution_count": 23,
   "metadata": {},
   "outputs": [
    {
     "name": "stdout",
     "output_type": "stream",
     "text": [
      "torch.Size([7793, 2])\n",
      "transform succeed\n",
      "torch.Size([7793, 2])\n",
      "transform succeed\n"
     ]
    }
   ],
   "source": [
    "destination_vtu_path_0 = '/root/data1/d_0.4_EMD/5100_slice_' + str(t+satart_number_ts)+ \".vtk\"\n",
    "destination_vtu_path_1 = '/root/data1/d_0.4_EMD/3900_slice_' + str(t+satart_number_ts)+ \".vtk\"\n",
    "\n",
    "copy_vtu_file(source_vtu_path, destination_vtu_path_0)\n",
    "copy_vtu_file(source_vtu_path, destination_vtu_path_1)\n",
    "\n",
    "vtk_vector(ori,ED_out_1,t,destination_vtu_path_0)\n",
    "vtk_vector(ori,ED_out_2,t,destination_vtu_path_1)\n",
    "\n"
   ]
  },
  {
   "cell_type": "markdown",
   "metadata": {},
   "source": []
  },
  {
   "cell_type": "markdown",
   "metadata": {},
   "source": []
  },
  {
   "cell_type": "code",
   "execution_count": null,
   "metadata": {},
   "outputs": [],
   "source": [
    "edge_data_1=[]\n",
    "edge_data_label_1=[]\n",
    "per_t=2\n",
    "for i in range(number_trajectories):\n",
    "    dataset_encode=torch.load(dataset_dir+'/M_encode_output_'+str(i)+str(number_trajectories)\n",
    "                                             +'traj'+str(per_t)+str(batch_size)+str(satart_number_ts)+str(number_ts)+'ts_vis.pt')\n",
    "    for j in range(number_ts-(per_t-1)):\n",
    "        if (j%per_t)==0:\n",
    "            E_data  = copy.deepcopy(dataset_encode[j+per_t-2])\n",
    "            E_data=E_data.to('cpu')\n",
    "            edge_data_1.append(E_data)     \n",
    "        \n",
    "            E_data_  = copy.deepcopy(dataset_encode[j+per_t-1])\n",
    "            E_data_=E_data_.to('cpu')\n",
    "            edge_data_label_1.append(E_data_)\n",
    "                       \n",
    "print(len(edge_data_1))\n",
    "print(len(edge_data_label_1))\n",
    "\n",
    "\n",
    "\n",
    "edge_data=[]\n",
    "edge_data_label=[]\n",
    "for i in range(int(len(edge_data_label_1)/number_trajectories)):\n",
    "     for k in range(number_trajectories):\n",
    "          edge_data.append(edge_data_1[i+k*int(len(edge_data_1)/number_trajectories)])\n",
    "          edge_data_label.append(edge_data_label_1[i+k*int(len(edge_data_label_1)/number_trajectories)])\n",
    "          \n",
    "print(len(edge_data))\n",
    "print(len(edge_data_label))\n",
    "\n",
    "class objectview(object):\n",
    "    def __init__(self, d):\n",
    "        self.__dict__ = d\n",
    "       \n",
    "for args in [\n",
    "        {'model_type': 'meshgraphnet_transformer',\n",
    "         'num_layers': 3,\n",
    "         'batchsize': 10,       #是lable上的batchsize\n",
    "         'hidden_dim': 300,      #在低维空间上的编码可以写大一点，128#30\n",
    "         'hidden_channels':12,  #这里的hidden_dim与encode_decode中的hidden_channels相同\n",
    "         'epochs': 3000,#5000\n",
    "         'attr_epochs':8000,#8000\n",
    "         'train_size':200, #45\n",
    "         'test_size': 100, #10         #按照lable的来\n",
    "         'device':'cuda',\n",
    "         'shuffle': False,\n",
    "         'save_best_model': True,\n",
    "         'checkpoint_dir': '/root/data1/circle_EMD/mgnn_transformerbest_models/',\n",
    "         'postprocess_dir': '/root/data1/circle_EMD/mgnn_transformer_loss_plots/',\n",
    "         'd_k': 28,#28\n",
    "         'd_v': 28,\n",
    "         'input_shape': 10,   #加上时间信息，所以比n_graph_encode的最后一个多两维\n",
    "         'n_heads': 5,\n",
    "         'n_layers': 3,\n",
    "         'ff_dim': 64,\n",
    "         'seq_len': 1,        #改per_t-1,二推一\n",
    "         'per_t':2,\n",
    "         'attr_train_size':200,\n",
    "         'attr_batchsize':10,\n",
    "        'n_graph_encode':[500,150,80,8],\n",
    "        'pool_num':[2000,1500,1400,1200,1000]},\n",
    "]:\n",
    "\n",
    "\n",
    "        args = objectview(args)\n",
    "data_stats_list=torch.load(dataset_dir+'/data_stats_list.pt')"
   ]
  },
  {
   "cell_type": "code",
   "execution_count": null,
   "metadata": {},
   "outputs": [],
   "source": [
    "torch.manual_seed(5)  #Torch\n",
    "random.seed(5)        #Python\n",
    "np.random.seed(5)     #NumPy\n",
    "torch.cuda.manual_seed_all(SEED)   #GPU\n",
    "\n",
    "data_stats_list=torch.load(dataset_dir+'/data_stats_list.pt')\n",
    "\n",
    "\n",
    "device = 'cuda' if torch.cuda.is_available() else 'cpu'\n",
    "args.device = device\n",
    "print(device)\n",
    "\n",
    "test_losses, losses, best_model,best_test_loss =edge_gnn_train(edge_data,edge_data_label, device,data_stats_list, args)\n",
    "     \n",
    "print(\"Min test set loss: {0}\".format(min(test_losses)))\n",
    "print(\"Minimum loss: {0}\".format(min(losses)))\n",
    "\n",
    "save_plots(args, losses, test_losses)"
   ]
  },
  {
   "cell_type": "markdown",
   "metadata": {},
   "source": [
    "预测edge_attr"
   ]
  },
  {
   "cell_type": "code",
   "execution_count": null,
   "metadata": {},
   "outputs": [],
   "source": [
    "data_stats_list=torch.load(dataset_dir+'/data_stats_list.pt')\n",
    "\n",
    "model =  edge_gnn(args)\n",
    "model_name='edge_gnn_trans_model_nl'+str(args.num_layers)+'_bs'+str(args.attr_batchsize) + \\\n",
    "               '_hd'+str(args.hidden_dim)+'_ep'+str(args.attr_epochs)+'_wd' + \\\n",
    "               '_shuff_'+str(args.shuffle)\n",
    "model.load_state_dict(torch.load('/root/data1/circle_EMD/mgnn_transformerbest_models/'+model_name+'.pt'))\n",
    "\n",
    "\n",
    "y=edge_pred(edge_data,model,data_stats_list)\n",
    "\n",
    "print(len(y))"
   ]
  },
  {
   "cell_type": "markdown",
   "metadata": {},
   "source": [
    "训练node_x模型"
   ]
  },
  {
   "cell_type": "code",
   "execution_count": null,
   "metadata": {},
   "outputs": [],
   "source": [
    "\n",
    "class objectview(object):\n",
    "    def __init__(self, d):\n",
    "        self.__dict__ = d\n",
    "\n",
    "\n",
    "        \n",
    "for args in [\n",
    "        {'model_type': 'meshgraphnet_transformer',\n",
    "         'num_layers': 3,\n",
    "         'batchsize': 10,       #是lable上的batchsize\n",
    "         'hidden_dim': 300,      #在低维空间上的编码可以写大一点，128#30\n",
    "         'hidden_channels':12,  #这里的hidden_dim与encode_decode中的hidden_channels相同\n",
    "         'epochs': 3000,#5000\n",
    "         'attr_epochs':8000,#8000\n",
    "         'train_size':200, #45\n",
    "         'test_size': 100, #10         #按照lable的来\n",
    "         'device':'cuda',\n",
    "         'shuffle': False,\n",
    "         'save_best_model': True,\n",
    "         'checkpoint_dir': '/root/data1/circle_EMD/mgnn_transformerbest_models/',\n",
    "         'postprocess_dir': '/root/data1/circle_EMD/mgnn_transformer_loss_plots/',\n",
    "         'd_k': 28,#28\n",
    "         'd_v': 28,\n",
    "         'input_shape': 10,   #加上时间信息，所以比n_graph_encode的最后一个多两维\n",
    "         'n_heads': 5,\n",
    "         'n_layers': 3,\n",
    "         'ff_dim': 64,\n",
    "         'seq_len': 1,        #改per_t-1,二推一\n",
    "         'per_t':2,\n",
    "         'attr_train_size':200,\n",
    "         'attr_batchsize':10,\n",
    "        'n_graph_encode':[500,150,80,8],\n",
    "        'pool_num':[2000,1500,1400,1200,1000]},\n",
    "]:\n",
    "\n",
    "        args = objectview(args)\n",
    "torch.manual_seed(5)  #Torch\n",
    "random.seed(5)        #Python\n",
    "np.random.seed(5)     #NumPy\n",
    "torch.cuda.manual_seed_all(SEED)   #GPU\n",
    "\n",
    "data_1=[]\n",
    "data_label_1=[]\n",
    "per_t=2\n",
    "for i in range(number_trajectories):\n",
    "    dataset_encode=dataset_encode=torch.load(dataset_dir+'/M_encode_output_'+str(i)+str(number_trajectories)\n",
    "                                             +'traj'+str(per_t)+str(batch_size)+str(satart_number_ts)+str(number_ts)+'ts_vis.pt')\n",
    "    for j in range(number_ts):\n",
    "        if (j%per_t)<(per_t-1):\n",
    "            E_data  = copy.deepcopy(dataset_encode[j])\n",
    "            E_data=E_data.to('cpu')\n",
    "            data_1.append(E_data)     \n",
    "        else:\n",
    "            \n",
    "            E_data  = copy.deepcopy(dataset_encode[j])\n",
    "            E_data=E_data.to('cpu')\n",
    "            data_label_1.append(E_data)\n",
    "                       \n",
    "print(len(data_1))\n",
    "print(len(data_label_1))\n",
    "\n",
    "data_=[]\n",
    "data_label=[]\n",
    "for i in range(int(len(data_label_1)/number_trajectories)):\n",
    "     for k in range(number_trajectories):\n",
    "          for j in range(per_t-1):\n",
    "              data_.append(data_1[i*(per_t-1)+j+k*int(len(data_1)/number_trajectories)])\n",
    "          data_label.append(data_label_1[i+k*int(len(data_label_1)/number_trajectories)])\n",
    "          \n",
    "print(len(data_))\n",
    "print(len(data_label))\n",
    "\n",
    "'''data_1=[]\n",
    "data_label_1=[]\n",
    "per_t=2\n",
    "for i in range(number_trajectories):\n",
    "    dataset_encode=dataset_encode=torch.load(dataset_dir+'/M_encode_output_'+str(i)+str(number_trajectories)\n",
    "                                             +'traj'+str(per_t)+str(batch_size)+str(satart_number_ts)+str(number_ts)+'ts_vis.pt')\n",
    "    for j in range(number_ts-per_t+1):\n",
    "            for k in range(per_t):\n",
    "                 if k<per_t-1:\n",
    "                       E_data  = copy.deepcopy(dataset_encode[j+k])\n",
    "                       E_data=E_data.to('cpu')\n",
    "                       data_1.append(E_data)   \n",
    "                 else:\n",
    "                       E_data  = copy.deepcopy(dataset_encode[j+1])\n",
    "                       E_data=E_data.to('cpu')\n",
    "                       data_label_1.append(E_data)\n",
    "                       \n",
    "print(len(data_1))    #592\n",
    "print(len(data_label_1)) #592'''\n",
    "\n",
    "'''data_=[]\n",
    "data_label=[]\n",
    "for i in range(int(len(data_label_1)/number_trajectories)):\n",
    "     for k in range(number_trajectories):\n",
    "          for j in range(per_t-1):\n",
    "              data_.append(data_1[i*(per_t-1)+j+k*int(len(data_1)/number_trajectories)])\n",
    "          data_label.append(data_label_1[i+k*int(len(data_label_1)/number_trajectories)])\n",
    "          \n",
    "print(len(data_))\n",
    "print(len(data_label)) '''\n",
    "\n",
    "\n",
    "\n",
    "#all=data_+data_label\n",
    "\n",
    "\n",
    "\n",
    "#data_stats_list = get_EDstats(all)\n",
    "\n",
    "#torch.save(data_stats_list,dataset_dir+'/data_stats_list.pt')\n",
    "data_stats_list=torch.load(dataset_dir+'/data_stats_list.pt')\n",
    "\n",
    "device = 'cuda' if torch.cuda.is_available() else 'cpu'\n",
    "args.device = device\n",
    "print(device)\n",
    "\n",
    "test_losses, losses, best_model,best_test_loss = gmesh_train(\n",
    "     data_,data_label, device,data_stats_list, args)\n",
    "print(\"Min test set loss: {0}\".format(min(test_losses)))\n",
    "print(\"Minimum loss: {0}\".format(min(losses)))\n",
    "\n",
    "save_plots(args, losses, test_losses)"
   ]
  },
  {
   "cell_type": "markdown",
   "metadata": {},
   "source": [
    "给定两个时刻点，预测之后的时刻"
   ]
  },
  {
   "cell_type": "code",
   "execution_count": null,
   "metadata": {},
   "outputs": [],
   "source": [
    "#get_dataset(number_trajectories,satart_number_ts,number_ts,1,1,dataset_dir,path)\n",
    "data_list_ori=torch.load(dataset_dir+'/meshgraphnets_miniset'+str(1)+str(1)+\n",
    "               str(number_trajectories)+'traj'+str(satart_number_ts)+str(number_ts)+'ts_vis.pt')\n",
    "print(len(data_list_ori))\n",
    "data=copy.deepcopy(data_list_ori[0:2])"
   ]
  },
  {
   "cell_type": "code",
   "execution_count": null,
   "metadata": {},
   "outputs": [],
   "source": [
    "encode_model=GNN_encode(\n",
    "                hidden_channels,\n",
    "                in_channels_node,\n",
    "                in_channels_edge,\n",
    "\n",
    "                out_channels,\n",
    "                encoding_dim,\n",
    "                n_mlp_mp,\n",
    "                n_mlp_encode,\n",
    "\n",
    "                ae_dim,\n",
    "                n_mp_down,\n",
    "                n_mp_up,\n",
    "                pool_num,\n",
    "                \n",
    "                act, \n",
    "                name='gnn_topk')\n",
    "\n",
    "encode_model.load_state_dict(torch.load(pathE), strict=False)\n",
    "encode_model.to(device)\n",
    "\n",
    "\n",
    "decode_model=GNN_Decode(\n",
    "                hidden_channels,\n",
    "                in_channels_node,\n",
    "                in_channels_edge,\n",
    "                \n",
    "                out_channels,\n",
    "                encoding_dim,\n",
    "                n_mlp_mp,\n",
    "                n_mlp_encode,\n",
    "\n",
    "                ae_dim,\n",
    "                n_mp_down,\n",
    "                n_mp_up,\n",
    "                pool_num,\n",
    "                \n",
    "                act,\n",
    "                \n",
    "                name='gnn_topk')\n",
    "\n",
    "decode_model.load_state_dict(torch.load(pathD), strict=False)\n",
    "decode_model.to(device)\n",
    "\n",
    "\n",
    "class objectview(object):\n",
    "    def __init__(self, d):\n",
    "        self.__dict__ = d\n",
    "for args in [\n",
    "        {'model_type': 'meshgraphnet_transformer',\n",
    "         'num_layers': 3,\n",
    "         'batchsize': 10,       #是lable上的batchsize\n",
    "         'hidden_dim': 300,      #在低维空间上的编码可以写大一点，128#30\n",
    "         'hidden_channels':12,  #这里的hidden_dim与encode_decode中的hidden_channels相同\n",
    "         'epochs': 5000,#5000\n",
    "         'attr_epochs':8000,#8000\n",
    "         'train_size':150, #45\n",
    "         'test_size': 50, #10         #按照lable的来\n",
    "         'device':'cuda',\n",
    "         'shuffle': False,\n",
    "         'save_best_model': True,\n",
    "         'checkpoint_dir': '/root/data1/circle_EMD/mgnn_transformerbest_models/',\n",
    "         'postprocess_dir': '/root/data1/circle_EMD/mgnn_transformer_loss_plots/',\n",
    "         'd_k': 28,#28\n",
    "         'd_v': 28,\n",
    "         'input_shape': 10,   #加上时间信息，所以比n_graph_encode的最后一个多两维\n",
    "         'n_heads': 5,\n",
    "         'n_layers': 3,\n",
    "         'ff_dim': 64,\n",
    "         'seq_len': 2,        #改per_t-1,二推一\n",
    "         'per_t':3,\n",
    "         'attr_train_size':150,\n",
    "         'attr_batchsize':10,\n",
    "        'n_graph_encode':[500,150,80,8],\n",
    "        'pool_num':[2000,1500,1400,1200,1000]},\n",
    "]:\n",
    "\n",
    "        args = objectview(args)\n",
    "\n",
    "edge_model =  edge_gnn(args).to(device)\n",
    "model_name='edge_gnn_trans_model_nl'+str(args.num_layers)+'_bs'+str(args.attr_batchsize) + \\\n",
    "               '_hd'+str(args.hidden_dim)+'_ep'+str(args.attr_epochs)+'_wd' + \\\n",
    "               '_shuff_'+str(args.shuffle)\n",
    "edge_model.load_state_dict(torch.load('/root/data1/circle_EMD/mgnn_transformerbest_models/'+model_name+'.pt'))\n",
    "\n",
    "\n",
    "\n",
    "model_name='g_trans_model_nl'+str(args.num_layers)+'_bs'+str(args.batchsize) + \\\n",
    "               '_hd'+str(args.hidden_dim)+'_ep'+str(args.epochs)+'_wd' + \\\n",
    "               '_shuff_'+str(args.shuffle)+'_dk'+str(args.d_k)+'_heads'+str(args.n_heads)\n",
    "args.batchsize=1\n",
    "node_model = MeshGraphNet_transformer(args).to(device)\n",
    "node_model.load_state_dict(torch.load('/root/data1/circle_EMD/mgnn_transformerbest_models/'+model_name+'.pt'))\n",
    "\n",
    "\n",
    "predict_num=5\n",
    "seq_len=4\n",
    "EDstats_list=torch.load(dataset_dir+'/EDstats_list.pt')\n",
    "data_stats_list=torch.load(dataset_dir+'/data_stats_list.pt')\n",
    "[EDmean_vec_x,EDstd_vec_x,EDmean_vec_edge,EDstd_vec_edge] = EDstats_list\n",
    "(EDmean_vec_x,EDstd_vec_x,EDmean_vec_edge,EDstd_vec_edge)=(EDmean_vec_x.to(device),\n",
    "        EDstd_vec_x.to(device),EDmean_vec_edge.to(device),EDstd_vec_edge.to(device))\n",
    "[mean_vec_x,std_vec_x,mean_vec_edge,std_vec_edge] = data_stats_list\n",
    "(mean_vec_x,std_vec_x,mean_vec_edge,std_vec_edge)=(mean_vec_x.to(device),std_vec_x.to(device),\n",
    "                                                   mean_vec_edge.to(device),std_vec_edge.to(device))\n",
    "edge_index_ori=data[0].edge_index\n",
    "edge_attr_ori=data[0].edge_attr\n",
    "cells_ori=data[0].cells\n",
    "mesh_pos_ori=data[0].mesh_pos\n",
    "for i in range(predict_num):\n",
    "    list_p = data[:] if i == 0 else data[i:]\n",
    "    with torch.no_grad():\n",
    "        data_pred_list, batches , xs, positions, edge_attrs, edge_indices, edge_masks,perms=encode_model(list_p,seq_len,per_t,EDmean_vec_x,\n",
    "                                                                                                    EDstd_vec_x,EDmean_vec_edge,\n",
    "                                                                                                    EDstd_vec_edge)\n",
    "        edge_index_new=data_pred_list[-1].edge_index\n",
    "        edge_new_data=edge_gnn_pred(data_pred_list[-1],edge_model,mean_vec_x,std_vec_x,mean_vec_edge,std_vec_edge)\n",
    "        edge_attr_new=edge_new_data.edge_attr\n",
    "        #将data_pred_list变成batch=2的一张大图，记为data_loader\n",
    "        data_loader=DataLoader(data_pred_list, batch_size=seq_len, shuffle=False) \n",
    "        for i,batch in enumerate(data_loader):\n",
    "             \n",
    "             node_new_data=gmesh_transformer_pred(batch,edge_new_data,node_model,mean_vec_x,std_vec_x,mean_vec_edge,std_vec_edge)\n",
    "        new_data=Data(x=node_new_data, edge_index=edge_index_new, edge_attr=edge_attr_new)\n",
    "        \n",
    "    with torch.no_grad():\n",
    "        x=decode_model(new_data, batches , xs, positions, edge_attrs, edge_indices, edge_masks,perms)\n",
    "        x=x*EDstd_vec_x+EDmean_vec_x\n",
    "    data.append(Data(x=x, edge_index=edge_index_ori, edge_attr=edge_attr_ori,cells=cells_ori,mesh_pos=mesh_pos_ori))#这里是和取得时候一样的\n",
    "\n",
    "print(len(data))"
   ]
  },
  {
   "cell_type": "code",
   "execution_count": null,
   "metadata": {},
   "outputs": [],
   "source": [
    "ED_out = data[:]\n",
    "ori=copy.deepcopy(data_list_ori[:9])\n",
    "\n",
    "\n",
    "\n",
    "for i in range(len(ori)):\n",
    "    \n",
    "    ED_out[i].to('cpu')\n",
    "    ori[i].to('cpu')\n",
    "\n",
    "    uvw=ED_out[i].x[:,0].reshape(1,ED_out[i].x.shape[0])\n",
    "    ouvw=ori[i].x[:,0].reshape(1,ori[i].x.shape[0])\n",
    "    outputs = uvw if i==0 else np.vstack((outputs,uvw))\n",
    "    inputs=ouvw if i==0 else np.vstack((inputs,ouvw))\n",
    "print(inputs.shape)\n",
    "print(outputs.shape)\n",
    "\n",
    "\n",
    "pcc_of_two(inputs, outputs)"
   ]
  },
  {
   "cell_type": "code",
   "execution_count": null,
   "metadata": {},
   "outputs": [],
   "source": [
    "mse_of_two(inputs, outputs)"
   ]
  },
  {
   "cell_type": "code",
   "execution_count": null,
   "metadata": {},
   "outputs": [],
   "source": [
    "ED_out = data[2:]\n",
    "ori=copy.deepcopy(data_list_ori[2:4])\n",
    "\n",
    "\n",
    "\n",
    "for i in range(len(ori)):\n",
    "    \n",
    "    ED_out[i].to('cpu')\n",
    "    ori[i].to('cpu')\n",
    "\n",
    "    uvw=ED_out[i].x[:,1].reshape(1,ED_out[i].x.shape[0])\n",
    "    ouvw=ori[i].x[:,1].reshape(1,ori[i].x.shape[0])\n",
    "    outputs = uvw if i==0 else np.vstack((outputs,uvw))\n",
    "    inputs=ouvw if i==0 else np.vstack((inputs,ouvw))\n",
    "print(inputs.shape)\n",
    "print(outputs.shape)\n",
    "\n",
    "\n",
    "pcc_of_two(inputs, outputs)"
   ]
  },
  {
   "cell_type": "code",
   "execution_count": null,
   "metadata": {},
   "outputs": [],
   "source": [
    "mse_of_two(inputs, outputs)"
   ]
  },
  {
   "cell_type": "code",
   "execution_count": null,
   "metadata": {},
   "outputs": [],
   "source": [
    "def all_rom_pred(predict_num,seq_len,data,per_t,\n",
    "                 encode_model,decode_model,edge_model,node_model,EDmean_vec_x,EDstd_vec_x,\n",
    "                 EDmean_vec_edge,EDstd_vec_edge,mean_vec_x,std_vec_x,mean_vec_edge,std_vec_edge):\n",
    "    data_pred=[]\n",
    "\n",
    "    for i in range(predict_num-1):\n",
    "\n",
    "        list_p = data[i] \n",
    "        print(list_p)\n",
    "        with torch.no_grad():\n",
    "            data_pred_list, batches , xs, positions, edge_attrs, edge_indices, edge_masks,perms=encode_model(list_p,seq_len,per_t,EDmean_vec_x,\n",
    "                                                                                                    EDstd_vec_x,EDmean_vec_edge,\n",
    "                                                                                                    EDstd_vec_edge)\n",
    "            \n",
    "            edge_index_new=data_pred_list[-1].edge_index\n",
    "            edge_new_data=edge_gnn_pred(data_pred_list[-1],edge_model,mean_vec_x,std_vec_x,mean_vec_edge,std_vec_edge)\n",
    "            edge_attr_new=edge_new_data.edge_attr\n",
    "            #将data_pred_list变成batch=2的一张大图，记为data_loader\n",
    "            data_loader=DataLoader(data_pred_list, batch_size=seq_len, shuffle=False) \n",
    "            for i,batch in enumerate(data_loader):\n",
    "             \n",
    "                 node_new_data=gmesh_pred(batch,node_model,mean_vec_x,std_vec_x,mean_vec_edge,std_vec_edge)\n",
    "                 \n",
    "            new_data=Data(x=node_new_data, edge_index=edge_index_new, edge_attr=edge_attr_new)\n",
    "        \n",
    "        with torch.no_grad():\n",
    "            x=decode_model(new_data, batches , xs, positions, edge_attrs, edge_indices, edge_masks,perms)\n",
    "            x=x*EDstd_vec_x+EDmean_vec_x\n",
    "        data_pred.append(x)\n",
    "    return data_pred"
   ]
  },
  {
   "cell_type": "code",
   "execution_count": null,
   "metadata": {},
   "outputs": [],
   "source": [
    "from mmp import *\n",
    "encode_model=GNN_encode(\n",
    "                hidden_channels,\n",
    "                in_channels_node,\n",
    "                in_channels_edge,\n",
    "\n",
    "                out_channels,\n",
    "                encoding_dim,\n",
    "                n_mlp_mp,\n",
    "                n_mlp_encode,\n",
    "\n",
    "                ae_dim,\n",
    "                n_mp_down,\n",
    "                n_mp_up,\n",
    "                pool_num,\n",
    "                \n",
    "                act, \n",
    "                name='gnn_topk')\n",
    "\n",
    "encode_model.load_state_dict(torch.load(pathE), strict=False)\n",
    "encode_model.to(device)\n",
    "\n",
    "\n",
    "decode_model=GNN_Decode(\n",
    "                hidden_channels,\n",
    "                in_channels_node,\n",
    "                in_channels_edge,\n",
    "                \n",
    "                out_channels,\n",
    "                encoding_dim,\n",
    "                n_mlp_mp,\n",
    "                n_mlp_encode,\n",
    "\n",
    "                ae_dim,\n",
    "                n_mp_down,\n",
    "                n_mp_up,\n",
    "                pool_num,\n",
    "                \n",
    "                act,\n",
    "                \n",
    "                name='gnn_topk')\n",
    "\n",
    "decode_model.load_state_dict(torch.load(pathD), strict=False)\n",
    "decode_model.to(device)\n",
    "\n",
    "\n",
    "class objectview(object):\n",
    "    def __init__(self, d):\n",
    "        self.__dict__ = d\n",
    "       \n",
    "for args in [\n",
    "        {'model_type': 'meshgraphnet_transformer',\n",
    "         'num_layers': 3,\n",
    "         'batchsize': 10,       #是lable上的batchsize\n",
    "         'hidden_dim': 300,      #在低维空间上的编码可以写大一点，128#30\n",
    "         'hidden_channels':12,  #这里的hidden_dim与encode_decode中的hidden_channels相同\n",
    "         'epochs': 3000,#5000\n",
    "         'attr_epochs':8000,#8000\n",
    "         'train_size':200, #45\n",
    "         'test_size': 100, #10         #按照lable的来\n",
    "         'device':'cuda',\n",
    "         'shuffle': False,\n",
    "         'save_best_model': True,\n",
    "         'checkpoint_dir': '/root/data1/circle_EMD/mgnn_transformerbest_models/',\n",
    "         'postprocess_dir': '/root/data1/circle_EMD/mgnn_transformer_loss_plots/',\n",
    "         'd_k': 28,#28\n",
    "         'd_v': 28,\n",
    "         'input_shape': 10,   #加上时间信息，所以比n_graph_encode的最后一个多两维\n",
    "         'n_heads': 5,\n",
    "         'n_layers': 3,\n",
    "         'ff_dim': 64,\n",
    "         'seq_len': 1,        #改per_t-1,二推一\n",
    "         'per_t':2,\n",
    "         'attr_train_size':200,\n",
    "         'attr_batchsize':10,\n",
    "        'n_graph_encode':[500,150,80,8],\n",
    "        'pool_num':[2000,1500,1400,1200,1000]},\n",
    "]:\n",
    "\n",
    "        args = objectview(args)\n",
    "\n",
    "edge_model =  edge_gnn(args).to(device)\n",
    "model_name='edge_gnn_trans_model_nl'+str(args.num_layers)+'_bs'+str(args.attr_batchsize) + \\\n",
    "               '_hd'+str(args.hidden_dim)+'_ep'+str(args.attr_epochs)+'_wd' + \\\n",
    "               '_shuff_'+str(args.shuffle)\n",
    "edge_model.load_state_dict(torch.load('/root/data1/circle_EMD/mgnn_transformerbest_models/'+model_name+'.pt'))\n",
    "\n",
    "\n",
    "\n",
    "model_name='g_trans_model_nl'+str(args.num_layers)+'_bs'+str(args.batchsize) + \\\n",
    "               '_hd'+str(args.hidden_dim)+'_ep'+str(args.epochs)+'_wd' + \\\n",
    "               '_shuff_'+str(args.shuffle)+'_dk'+str(args.d_k)+'_heads'+str(args.n_heads)\n",
    "args.batchsize=1\n",
    "node_model = MeshGraphNet(args).to(device)\n",
    "node_model.load_state_dict(torch.load('/root/data1/circle_EMD/mgnn_transformerbest_models/'+model_name+'.pt'))"
   ]
  },
  {
   "cell_type": "code",
   "execution_count": null,
   "metadata": {},
   "outputs": [],
   "source": [
    "#get_dataset(number_trajectories,satart_number_ts,number_ts,1,1,dataset_dir,path)\n",
    "data_list_ori=torch.load(dataset_dir+'/meshgraphnets_miniset'+str(1)+str(1)+\n",
    "               str(number_trajectories)+'traj'+str(satart_number_ts)+str(number_ts)+'ts_vis.pt')\n",
    "print(len(data_list_ori))\n",
    "#data=copy.deepcopy(data_list_ori[0:2])\n",
    "\n",
    "EDstats_list=torch.load(dataset_dir+'/EDstats_list.pt')\n",
    "data_stats_list=torch.load(dataset_dir+'/data_stats_list.pt')\n",
    "[EDmean_vec_x,EDstd_vec_x,EDmean_vec_edge,EDstd_vec_edge] = EDstats_list\n",
    "(EDmean_vec_x,EDstd_vec_x,EDmean_vec_edge,EDstd_vec_edge)=(EDmean_vec_x.to(device),\n",
    "        EDstd_vec_x.to(device),EDmean_vec_edge.to(device),EDstd_vec_edge.to(device))\n",
    "[mean_vec_x,std_vec_x,mean_vec_edge,std_vec_edge] = data_stats_list\n",
    "(mean_vec_x,std_vec_x,mean_vec_edge,std_vec_edge)=(mean_vec_x.to(device),std_vec_x.to(device),\n",
    "                                                   mean_vec_edge.to(device),std_vec_edge.to(device))"
   ]
  },
  {
   "cell_type": "code",
   "execution_count": null,
   "metadata": {},
   "outputs": [],
   "source": [
    "ED_out = list_data\n",
    "ori=torch.load('/root/data1/EMD/meshgraphnets_miniset111traj300ts_vis.pt')\n",
    "ori=ori[280:299]\n",
    "\n",
    "print(ED_out[0])\n",
    "print(ori[0])\n",
    "ts=8\n",
    "\n",
    "for i in range(ts):\n",
    "    \n",
    "    uvw=ED_out[i].x.reshape(1,ED_out[i].x.shape[0],ED_out[i].x.shape[1])\n",
    "    ouvw=ori[i].x.reshape(1,ori[i].x.shape[0],ori[i].x.shape[1])\n",
    "    outputs = uvw if i==1 else np.vstack((outputs,uvw))\n",
    "    inputs=ouvw if i==1 else np.vstack((inputs,ouvw))\n",
    "\n",
    "output_ = np.hstack((outputs[:,:,0],outputs[:,:,1]))\n",
    "input_ = np.hstack((inputs[:,:,0],inputs[:,:,1]))\n",
    "print(output_.shape,input_.shape)\n",
    "\n",
    "pcc_of_two(input_, output_)"
   ]
  },
  {
   "cell_type": "code",
   "execution_count": null,
   "metadata": {},
   "outputs": [],
   "source": [
    "predict_num=150\n",
    "per_t=2\n",
    "seq_len=1\n",
    "a=[]\n",
    "for k in range(number_trajectories):\n",
    "    data_list_= data_list_ori[k*int(len(data_list_ori)/number_trajectories):(k+1)*int(len(data_list_ori)/number_trajectories)]\n",
    "    print(len( data_list_))\n",
    "    data_pred=all_rom_pred(predict_num,seq_len,data_list_,per_t,\n",
    "                 encode_model,decode_model,edge_model,node_model,EDmean_vec_x,EDstd_vec_x,\n",
    "                 EDmean_vec_edge,EDstd_vec_edge,mean_vec_x,std_vec_x,mean_vec_edge,std_vec_edge)\n",
    "   \n",
    "        \n",
    "    a=a+data\n",
    "\n",
    "print(len(a))"
   ]
  },
  {
   "cell_type": "code",
   "execution_count": null,
   "metadata": {},
   "outputs": [],
   "source": [
    "ED_out = a[:]\n",
    "print(len(ED_out))\n",
    "ori=copy.deepcopy(data_list_ori[:])\n",
    "print(len(ori))\n",
    "\n",
    "\n",
    "\n",
    "for i in range(int(len(ori)/number_trajectories)):\n",
    "    \n",
    "    ED_out[i].to('cpu')\n",
    "    ori[i].to('cpu')\n",
    "\n",
    "    uvw=ED_out[i].x[:,0].reshape(1,ED_out[i].x.shape[0])\n",
    "    ouvw=ori[i].x[:,0].reshape(1,ori[i].x.shape[0])\n",
    "    outputs = uvw if i==0 else np.vstack((outputs,uvw))\n",
    "    inputs=ouvw if i==0 else np.vstack((inputs,ouvw))\n",
    "print(inputs.shape)\n",
    "print(outputs.shape)\n",
    "\n",
    "\n",
    "pcc_of_two(inputs, outputs)"
   ]
  },
  {
   "cell_type": "code",
   "execution_count": null,
   "metadata": {},
   "outputs": [],
   "source": [
    "mse_of_two(inputs, outputs)"
   ]
  },
  {
   "cell_type": "code",
   "execution_count": null,
   "metadata": {},
   "outputs": [],
   "source": [
    "ED_out = a[:]\n",
    "print(len(ED_out))\n",
    "ori=copy.deepcopy(data_list_ori[:])\n",
    "print(len(ori))\n",
    "\n",
    "\n",
    "\n",
    "for i in range(int(len(ori)/number_trajectories)):\n",
    "    i=i+int(len(ori)/number_trajectories)\n",
    "    \n",
    "    ED_out[i].to('cpu')\n",
    "    ori[i].to('cpu')\n",
    "    \n",
    "\n",
    "    uvw=ED_out[i].x[:,0].reshape(1,ED_out[i].x.shape[0])\n",
    "    ouvw=ori[i].x[:,0].reshape(1,ori[i].x.shape[0])\n",
    "    outputs = uvw if i==150 else np.vstack((outputs,uvw))\n",
    "    inputs=ouvw if i==150 else np.vstack((inputs,ouvw))\n",
    "print(inputs.shape)\n",
    "print(outputs.shape)\n",
    "\n",
    "\n",
    "pcc_of_two(inputs, outputs)"
   ]
  },
  {
   "cell_type": "code",
   "execution_count": null,
   "metadata": {},
   "outputs": [],
   "source": [
    "mse_of_two(inputs, outputs)"
   ]
  },
  {
   "cell_type": "code",
   "execution_count": null,
   "metadata": {},
   "outputs": [],
   "source": [
    "ED_out = a[:]\n",
    "print(len(ED_out))\n",
    "ori=copy.deepcopy(data_list_ori[:])\n",
    "print(len(ori))\n",
    "\n",
    "\n",
    "\n",
    "for i in range(int(len(ori)/number_trajectories)):\n",
    "    i=i+2*int(len(ori)/number_trajectories)\n",
    "    \n",
    "    ED_out[i].to('cpu')\n",
    "    ori[i].to('cpu')\n",
    "    \n",
    "\n",
    "    uvw=ED_out[i].x[:,0].reshape(1,ED_out[i].x.shape[0])\n",
    "    ouvw=ori[i].x[:,0].reshape(1,ori[i].x.shape[0])\n",
    "    outputs = uvw if i==300 else np.vstack((outputs,uvw))\n",
    "    inputs=ouvw if i==300 else np.vstack((inputs,ouvw))\n",
    "print(inputs.shape)\n",
    "print(outputs.shape)\n",
    "\n",
    "\n",
    "pcc_of_two(inputs, outputs)"
   ]
  },
  {
   "cell_type": "code",
   "execution_count": null,
   "metadata": {},
   "outputs": [],
   "source": [
    "mse_of_two(inputs, outputs)"
   ]
  },
  {
   "cell_type": "code",
   "execution_count": null,
   "metadata": {},
   "outputs": [],
   "source": [
    "ED_out = a[:]\n",
    "print(len(ED_out))\n",
    "ori=copy.deepcopy(data_list_ori[:])\n",
    "print(len(ori))\n",
    "\n",
    "\n",
    "\n",
    "for i in range(int(len(ori)/number_trajectories)):\n",
    "    i=i+3*int(len(ori)/number_trajectories)\n",
    "    \n",
    "    ED_out[i].to('cpu')\n",
    "    ori[i].to('cpu')\n",
    "    \n",
    "\n",
    "    uvw=ED_out[i].x[:,0].reshape(1,ED_out[i].x.shape[0])\n",
    "    ouvw=ori[i].x[:,0].reshape(1,ori[i].x.shape[0])\n",
    "    outputs = uvw if i==450 else np.vstack((outputs,uvw))\n",
    "    inputs=ouvw if i==450 else np.vstack((inputs,ouvw))\n",
    "print(inputs.shape)\n",
    "print(outputs.shape)\n",
    "\n",
    "\n",
    "pcc_of_two(inputs, outputs)"
   ]
  },
  {
   "cell_type": "code",
   "execution_count": null,
   "metadata": {},
   "outputs": [],
   "source": [
    "mse_of_two(inputs, outputs)"
   ]
  },
  {
   "cell_type": "markdown",
   "metadata": {},
   "source": [
    "复制到文件夹查看效果ROM"
   ]
  },
  {
   "cell_type": "code",
   "execution_count": null,
   "metadata": {},
   "outputs": [],
   "source": [
    "for i in range(number_trajectories):\n",
    "    data=a[i*int(len(a)/number_trajectories):(i+1)*int(len(a)/number_trajectories)]\n",
    "    torch.save(data,dataset_dir+'/ROM_circle_data'+str(i)+str(number_trajectories)+'traj'+str(number_ts)+'ts_vis.pt')\n",
    "    print(len(data))   #150\n",
    "    print(data[0])\n",
    "    num=150\n",
    "    originalFolder='/root/data1/dataset_'+str(i)\n",
    "    destinationFolder='/root/data1/ROM_circledataset_EDoutput_'+str(i)\n",
    "    fileName=\"/circle-2d-drag_\"\n",
    "    transform_vector(data, satart_number_ts,number_ts, originalFolder, destinationFolder, fileName)"
   ]
  },
  {
   "cell_type": "markdown",
   "metadata": {},
   "source": [
    "某一点的全时间速度曲线"
   ]
  },
  {
   "cell_type": "code",
   "execution_count": null,
   "metadata": {},
   "outputs": [],
   "source": [
    "data_list_ori=torch.load(dataset_dir+'/meshgraphnets_miniset'+str(1)+str(1)+\n",
    "               str(number_trajectories)+'traj'+str(satart_number_ts)+str(number_ts)+'ts_vis.pt')\n",
    "print(len(data_list_ori))"
   ]
  },
  {
   "cell_type": "code",
   "execution_count": null,
   "metadata": {},
   "outputs": [],
   "source": [
    "edg_data=torch.load(dataset_dir+'/ROM_circle_data'+str(0)+str(number_trajectories)+'traj'+str(number_ts)+'ts_vis.pt')\n",
    "j=3694   #(0,3718)\n",
    "fieldName='Velocity'\n",
    "#fieldName='Temperature'\n",
    "\n",
    "dataset_input=data_list_ori[0:150]\n",
    "print(dataset_input[0].mesh_pos[j]) \n",
    "\n",
    "path_t='/root/data1/circle_EMD/'+str(j)+str(0)+str(number_trajectories)+'velocity.pdf'\n",
    "\n",
    "point_over_time(dataset_input, edg_data,j,number_ts,fieldName,path_t)"
   ]
  },
  {
   "cell_type": "markdown",
   "metadata": {},
   "source": [
    "对比试验"
   ]
  },
  {
   "cell_type": "code",
   "execution_count": null,
   "metadata": {},
   "outputs": [],
   "source": [
    "import numpy as np\n",
    "import meshio\n",
    "import torch\n",
    "import tensorflow.compat.v1 as tf\n",
    "\n",
    "from torch_geometric.data import Data\n",
    "import torch.nn.functional as F\n",
    "from torch_geometric.loader import DataLoader\n",
    "import pandas as pd\n",
    "import os\n",
    "import time\n",
    "from IPython.lib.display import isdir\n",
    "import random\n",
    "import matplotlib.pyplot as plt\n",
    "import copy\n",
    "from matplotlib import tri as mtri\n",
    "from matplotlib import animation\n",
    "from mpl_toolkits.axes_grid1 import make_axes_locatable\n",
    "\n",
    "\n",
    "from pooling import *\n",
    "from mgn import *\n",
    "from processing import *\n",
    "#from global_tpok_mp import *\n",
    "from MP_ED import *"
   ]
  },
  {
   "cell_type": "code",
   "execution_count": null,
   "metadata": {},
   "outputs": [],
   "source": [
    "number_trajectories=4\n",
    "number_ts=150   #600\n",
    "satart_number_ts=50\n",
    "per_t=1     #在编码和解码的时候每五个用的点是一样的\n",
    "dt=0.1\n",
    "batch_size = 25\n",
    "dataset_dir = '/root/data1/circle_EMD'\n",
    "path='/root/data1/dataset_'\n",
    "#get_dataset(number_trajectories,satart_number_ts,number_ts,per_t,batch_size,dataset_dir,path)"
   ]
  },
  {
   "cell_type": "code",
   "execution_count": null,
   "metadata": {},
   "outputs": [],
   "source": [
    "SEED = 123\n",
    "torch.manual_seed(SEED)\n",
    "torch.cuda.manual_seed_all(SEED)\n",
    "np.random.seed(SEED)\n",
    "random.seed(SEED)        #Python\n",
    "\n",
    "\n",
    "pathE='/root/data1/circle_EMD/MP_Encode_state_dict.pt'\n",
    "pathD='/root/data1/circle_EMD/MP_Decode_state_dict.pt'\n",
    "pathED = '/root/data1/circle_EMD/MP_ED_state_dict.pt'\n",
    "epochs = 500\n",
    "device = 'cuda' if torch.cuda.is_available() else 'cpu'    #cuda\n",
    "file_path= dataset_dir+'/meshgraphnets_miniset'+str(per_t)+str(batch_size)+str(number_trajectories)+'traj'+str(satart_number_ts)+str(number_ts)+'ts_vis.pt'\n",
    "dataset = torch.load(file_path)\n",
    "print(len(dataset))\n",
    "EDstats_list = get_EDstats(dataset)\n",
    "[EDmean_vec_x,EDstd_vec_x,EDmean_vec_edge,EDstd_vec_edge] = EDstats_list\n",
    "torch.save(EDstats_list,dataset_dir+'/EDstats_list.pt')\n",
    "\n",
    "(EDmean_vec_x,EDstd_vec_x,EDmean_vec_edge,EDstd_vec_edge)=(EDmean_vec_x.to(device),\n",
    "        EDstd_vec_x.to(device),EDmean_vec_edge.to(device),EDstd_vec_edge.to(device))\n",
    "\n",
    "train_size=18        #改\n",
    "train_loader = DataLoader(dataset[:train_size],  shuffle=False)\n",
    "valid_loader = DataLoader(dataset[train_size:], shuffle=False)#分一下训练数据和验证数据\n",
    "\n",
    "\n",
    "sample = dataset[:train_size][0]\n",
    "\n",
    "in_channels_node = sample.x.shape[1]\n",
    "in_channels_edge = sample.edge_attr.shape[1]\n",
    "hidden_channels = 12    #22#12\n",
    "out_channels = in_channels_node\n",
    "batch_size =25       #改\n",
    "n_mlp_encode = 4\n",
    "n_mlp_mp = 6\n",
    "encoding_dim=10\n",
    "ae_dim=[128,64,32,16,10]\n",
    "n_mp_down = [2,2,1,1,1]\n",
    "n_mp_up= [1,1,1,2,2]\n",
    "pool_num = [2000,1500,1200,1000]\n",
    "\n",
    "act = F.elu\n",
    "param_sharing = False\n",
    "\n",
    "model = MessagePassing_Autoencode_attn(\n",
    "                hidden_channels,\n",
    "                in_channels_node,\n",
    "                in_channels_edge,\n",
    "                \n",
    "                out_channels,\n",
    "                encoding_dim,\n",
    "                n_mlp_mp,\n",
    "                n_mlp_encode,\n",
    "\n",
    "                ae_dim,\n",
    "                n_mp_down,\n",
    "                n_mp_up,\n",
    "                pool_num,\n",
    "                \n",
    "                act,\n",
    "                \n",
    "                name='gnn_topk')\n",
    "\n",
    "model.to(device)\n",
    "#model.load_state_dict(torch.load(pathED), strict=False)\n",
    "train_hist, test_hist=train(epochs, model, train_loader, valid_loader,per_t,batch_size,\n",
    "                            EDmean_vec_x,EDstd_vec_x,EDmean_vec_edge,EDstd_vec_edge,pathED,pathD,pathE)\n",
    "plot_dir='/root/data1/circle_EMD/MP_loss/'\n",
    "save_DEplots(train_hist, test_hist,plot_dir)\n"
   ]
  }
 ],
 "metadata": {
  "kernelspec": {
   "display_name": "Python 3",
   "language": "python",
   "name": "python3"
  },
  "language_info": {
   "codemirror_mode": {
    "name": "ipython",
    "version": 3
   },
   "file_extension": ".py",
   "mimetype": "text/x-python",
   "name": "python",
   "nbconvert_exporter": "python",
   "pygments_lexer": "ipython3",
   "version": "3.8.10"
  }
 },
 "nbformat": 4,
 "nbformat_minor": 2
}
