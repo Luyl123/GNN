{
 "cells": [
  {
   "cell_type": "markdown",
   "metadata": {},
   "source": [
    "model_1(multicale mesageing passing+unet+adaptive)"
   ]
  },
  {
   "cell_type": "code",
   "execution_count": 1,
   "metadata": {},
   "outputs": [
    {
     "name": "stderr",
     "output_type": "stream",
     "text": [
      "/usr/local/lib/python3.8/dist-packages/tqdm/auto.py:22: TqdmWarning: IProgress not found. Please update jupyter and ipywidgets. See https://ipywidgets.readthedocs.io/en/stable/user_install.html\n",
      "  from .autonotebook import tqdm as notebook_tqdm\n"
     ]
    }
   ],
   "source": [
    "import numpy as np\n",
    "import meshio\n",
    "import torch\n",
    "import tensorflow.compat.v1 as tf\n",
    "from torch_geometric.data import Data\n",
    "import torch.nn.functional as F\n",
    "from torch_geometric.loader import DataLoader\n",
    "import pandas as pd\n",
    "import os\n",
    "import time\n",
    "from IPython.lib.display import isdir\n",
    "import random\n",
    "import matplotlib.pyplot as plt\n",
    "import copy\n",
    "from matplotlib import tri as mtri\n",
    "from matplotlib import animation\n",
    "from mpl_toolkits.axes_grid1 import make_axes_locatable\n",
    "\n",
    "from models_duibishiyan import *\n",
    "from poolings_duibishiyan import *\n",
    "from processing_duibishiyan import *"
   ]
  },
  {
   "cell_type": "code",
   "execution_count": 2,
   "metadata": {},
   "outputs": [],
   "source": [
    "number_trajectories=1\n",
    "number_ts=200   #400\n",
    "satart_number_ts=50\n",
    "per_t=1     #在编码和解码的时候每五个用的点是一样的\n",
    "dt=0.1\n",
    "batch_size = 25\n",
    "#data_dir = '/root/data1/circle_fenjie_EMD'\n",
    "#path='/root/data1/yuan_'\n",
    "#get_dataset(number_trajectories,satart_number_ts,number_ts,per_t,batch_size,dataset_dir,path)"
   ]
  },
  {
   "cell_type": "code",
   "execution_count": 3,
   "metadata": {},
   "outputs": [
    {
     "name": "stdout",
     "output_type": "stream",
     "text": [
      "8\n",
      "3718\n",
      "Data(x=[92950, 2], edge_index=[2, 21714], edge_attr=[21714, 3], cells=[7139, 3], mesh_pos=[3718, 2])\n"
     ]
    },
    {
     "name": "stderr",
     "output_type": "stream",
     "text": [
      "Training:   0%|          | 1/200 [00:24<1:19:53, 24.09s/Epochs]"
     ]
    },
    {
     "name": "stdout",
     "output_type": "stream",
     "text": [
      "Epoch: 0000,\tTrain mse: 0.95617505,\tTrain_RMSE: 0.97759844,\tTrain_acc: 0.97763503,\tTest mse: 0.86325115,\tTime: 24.08880901s\n"
     ]
    },
    {
     "name": "stderr",
     "output_type": "stream",
     "text": [
      "Training:   1%|          | 2/200 [00:47<1:17:15, 23.41s/Epochs]"
     ]
    },
    {
     "name": "stdout",
     "output_type": "stream",
     "text": [
      "Epoch: 0001,\tTrain mse: 0.89794329,\tTrain_RMSE: 0.94748710,\tTrain_acc: 0.94751537,\tTest mse: 0.81104004,\tTime: 22.93013287s\n"
     ]
    },
    {
     "name": "stderr",
     "output_type": "stream",
     "text": [
      "Training:   2%|▏         | 3/200 [01:10<1:16:29, 23.30s/Epochs]"
     ]
    },
    {
     "name": "stdout",
     "output_type": "stream",
     "text": [
      "Epoch: 0002,\tTrain mse: 0.71353911,\tTrain_RMSE: 0.84385734,\tTrain_acc: 0.84389502,\tTest mse: 0.56018078,\tTime: 23.15889049s\n"
     ]
    },
    {
     "name": "stderr",
     "output_type": "stream",
     "text": [
      "Training:   2%|▏         | 4/200 [01:33<1:16:14, 23.34s/Epochs]"
     ]
    },
    {
     "name": "stdout",
     "output_type": "stream",
     "text": [
      "Epoch: 0003,\tTrain mse: 0.48941224,\tTrain_RMSE: 0.69908506,\tTrain_acc: 0.69911748,\tTest mse: 0.42101547,\tTime: 23.40053201s\n"
     ]
    },
    {
     "name": "stderr",
     "output_type": "stream",
     "text": [
      "Training:   2%|▎         | 5/200 [01:57<1:16:04, 23.41s/Epochs]"
     ]
    },
    {
     "name": "stdout",
     "output_type": "stream",
     "text": [
      "Epoch: 0004,\tTrain mse: 0.39108436,\tTrain_RMSE: 0.62487828,\tTrain_acc: 0.62490195,\tTest mse: 0.35564059,\tTime: 23.52299333s\n"
     ]
    },
    {
     "name": "stderr",
     "output_type": "stream",
     "text": [
      "Training:   3%|▎         | 6/200 [02:20<1:15:37, 23.39s/Epochs]"
     ]
    },
    {
     "name": "stdout",
     "output_type": "stream",
     "text": [
      "Epoch: 0005,\tTrain mse: 0.32702023,\tTrain_RMSE: 0.57168816,\tTrain_acc: 0.57170707,\tTest mse: 0.30680209,\tTime: 23.35008335s\n"
     ]
    },
    {
     "name": "stderr",
     "output_type": "stream",
     "text": [
      "Training:   4%|▎         | 7/200 [02:43<1:15:20, 23.42s/Epochs]"
     ]
    },
    {
     "name": "stdout",
     "output_type": "stream",
     "text": [
      "Epoch: 0006,\tTrain mse: 0.29449418,\tTrain_RMSE: 0.54265880,\tTrain_acc: 0.54267728,\tTest mse: 0.28719556,\tTime: 23.49254298s\n"
     ]
    },
    {
     "name": "stderr",
     "output_type": "stream",
     "text": [
      "Training:   4%|▍         | 8/200 [03:07<1:15:05, 23.47s/Epochs]"
     ]
    },
    {
     "name": "stdout",
     "output_type": "stream",
     "text": [
      "Epoch: 0007,\tTrain mse: 0.29933278,\tTrain_RMSE: 0.54705411,\tTrain_acc: 0.54707015,\tTest mse: 0.31436470,\tTime: 23.55222130s\n"
     ]
    },
    {
     "name": "stderr",
     "output_type": "stream",
     "text": [
      "Training:   4%|▍         | 9/200 [03:30<1:14:34, 23.43s/Epochs]"
     ]
    },
    {
     "name": "stdout",
     "output_type": "stream",
     "text": [
      "Epoch: 0008,\tTrain mse: 0.33116571,\tTrain_RMSE: 0.57506062,\tTrain_acc: 0.57507277,\tTest mse: 0.29714027,\tTime: 23.34074593s\n"
     ]
    },
    {
     "name": "stderr",
     "output_type": "stream",
     "text": [
      "Training:   5%|▌         | 10/200 [03:54<1:14:07, 23.41s/Epochs]"
     ]
    },
    {
     "name": "stdout",
     "output_type": "stream",
     "text": [
      "Epoch: 0009,\tTrain mse: 0.28508914,\tTrain_RMSE: 0.53388825,\tTrain_acc: 0.53390789,\tTest mse: 0.27137044,\tTime: 23.35347366s\n"
     ]
    },
    {
     "name": "stderr",
     "output_type": "stream",
     "text": [
      "Training:   6%|▌         | 11/200 [04:17<1:13:39, 23.38s/Epochs]"
     ]
    },
    {
     "name": "stdout",
     "output_type": "stream",
     "text": [
      "Epoch: 0010,\tTrain mse: 0.26080449,\tTrain_RMSE: 0.51063288,\tTrain_acc: 0.51065063,\tTest mse: 0.24160571,\tTime: 23.33406925s\n"
     ]
    },
    {
     "name": "stderr",
     "output_type": "stream",
     "text": [
      "Training:   6%|▌         | 12/200 [04:40<1:13:16, 23.39s/Epochs]"
     ]
    },
    {
     "name": "stdout",
     "output_type": "stream",
     "text": [
      "Epoch: 0011,\tTrain mse: 0.23501514,\tTrain_RMSE: 0.48476969,\tTrain_acc: 0.48478603,\tTest mse: 0.25081092,\tTime: 23.38862276s\n"
     ]
    },
    {
     "name": "stderr",
     "output_type": "stream",
     "text": [
      "Training:   6%|▋         | 13/200 [05:04<1:12:56, 23.40s/Epochs]"
     ]
    },
    {
     "name": "stdout",
     "output_type": "stream",
     "text": [
      "Epoch: 0012,\tTrain mse: 0.23525709,\tTrain_RMSE: 0.48491099,\tTrain_acc: 0.48492780,\tTest mse: 0.22680895,\tTime: 23.43915582s\n"
     ]
    },
    {
     "name": "stderr",
     "output_type": "stream",
     "text": [
      "Training:   7%|▋         | 14/200 [05:27<1:12:18, 23.32s/Epochs]"
     ]
    },
    {
     "name": "stdout",
     "output_type": "stream",
     "text": [
      "Epoch: 0013,\tTrain mse: 0.22421721,\tTrain_RMSE: 0.47350683,\tTrain_acc: 0.47352305,\tTest mse: 0.22093073,\tTime: 23.13577628s\n"
     ]
    },
    {
     "name": "stderr",
     "output_type": "stream",
     "text": [
      "Training:   8%|▊         | 15/200 [05:50<1:11:46, 23.28s/Epochs]"
     ]
    },
    {
     "name": "stdout",
     "output_type": "stream",
     "text": [
      "Epoch: 0014,\tTrain mse: 0.22023473,\tTrain_RMSE: 0.46928668,\tTrain_acc: 0.46930116,\tTest mse: 0.21700555,\tTime: 23.17410731s\n"
     ]
    },
    {
     "name": "stderr",
     "output_type": "stream",
     "text": [
      "Training:   8%|▊         | 16/200 [06:13<1:11:10, 23.21s/Epochs]"
     ]
    },
    {
     "name": "stdout",
     "output_type": "stream",
     "text": [
      "Epoch: 0015,\tTrain mse: 0.21592490,\tTrain_RMSE: 0.46467363,\tTrain_acc: 0.46468857,\tTest mse: 0.21420555,\tTime: 23.04895425s\n"
     ]
    },
    {
     "name": "stderr",
     "output_type": "stream",
     "text": [
      "Training:   8%|▊         | 17/200 [06:36<1:10:46, 23.20s/Epochs]"
     ]
    },
    {
     "name": "stdout",
     "output_type": "stream",
     "text": [
      "Epoch: 0016,\tTrain mse: 0.21359367,\tTrain_RMSE: 0.46216008,\tTrain_acc: 0.46217498,\tTest mse: 0.21082571,\tTime: 23.18378496s\n"
     ]
    },
    {
     "name": "stderr",
     "output_type": "stream",
     "text": [
      "Training:   9%|▉         | 18/200 [07:00<1:10:22, 23.20s/Epochs]"
     ]
    },
    {
     "name": "stdout",
     "output_type": "stream",
     "text": [
      "Epoch: 0017,\tTrain mse: 0.21229080,\tTrain_RMSE: 0.46074679,\tTrain_acc: 0.46076202,\tTest mse: 0.22322057,\tTime: 23.19962907s\n"
     ]
    },
    {
     "name": "stderr",
     "output_type": "stream",
     "text": [
      "Training:  10%|▉         | 19/200 [07:23<1:09:58, 23.20s/Epochs]"
     ]
    },
    {
     "name": "stdout",
     "output_type": "stream",
     "text": [
      "Epoch: 0018,\tTrain mse: 0.21756776,\tTrain_RMSE: 0.46635471,\tTrain_acc: 0.46637231,\tTest mse: 0.21801478,\tTime: 23.18019605s\n"
     ]
    },
    {
     "name": "stderr",
     "output_type": "stream",
     "text": [
      "Training:  10%|█         | 20/200 [07:46<1:09:43, 23.24s/Epochs]"
     ]
    },
    {
     "name": "stdout",
     "output_type": "stream",
     "text": [
      "Epoch: 0019,\tTrain mse: 0.20708848,\tTrain_RMSE: 0.45500399,\tTrain_acc: 0.45502028,\tTest mse: 0.19967717,\tTime: 23.34263873s\n"
     ]
    },
    {
     "name": "stderr",
     "output_type": "stream",
     "text": [
      "Training:  10%|█         | 21/200 [08:09<1:09:22, 23.25s/Epochs]"
     ]
    },
    {
     "name": "stdout",
     "output_type": "stream",
     "text": [
      "Epoch: 0020,\tTrain mse: 0.19373745,\tTrain_RMSE: 0.44014105,\tTrain_acc: 0.44015682,\tTest mse: 0.18902384,\tTime: 23.28089452s\n"
     ]
    },
    {
     "name": "stderr",
     "output_type": "stream",
     "text": [
      "Training:  11%|█         | 22/200 [08:33<1:09:03, 23.28s/Epochs]"
     ]
    },
    {
     "name": "stdout",
     "output_type": "stream",
     "text": [
      "Epoch: 0021,\tTrain mse: 0.18374683,\tTrain_RMSE: 0.42864588,\tTrain_acc: 0.42866096,\tTest mse: 0.17643192,\tTime: 23.33085203s\n"
     ]
    },
    {
     "name": "stderr",
     "output_type": "stream",
     "text": [
      "Training:  12%|█▏        | 23/200 [08:56<1:08:25, 23.20s/Epochs]"
     ]
    },
    {
     "name": "stdout",
     "output_type": "stream",
     "text": [
      "Epoch: 0022,\tTrain mse: 0.17357602,\tTrain_RMSE: 0.41661722,\tTrain_acc: 0.41663188,\tTest mse: 0.16809921,\tTime: 23.00244260s\n"
     ]
    },
    {
     "name": "stderr",
     "output_type": "stream",
     "text": [
      "Training:  12%|█▏        | 24/200 [09:19<1:07:55, 23.16s/Epochs]"
     ]
    },
    {
     "name": "stdout",
     "output_type": "stream",
     "text": [
      "Epoch: 0023,\tTrain mse: 0.16563327,\tTrain_RMSE: 0.40697630,\tTrain_acc: 0.40698996,\tTest mse: 0.18010491,\tTime: 23.06107831s\n"
     ]
    },
    {
     "name": "stderr",
     "output_type": "stream",
     "text": [
      "Training:  12%|█▎        | 25/200 [09:42<1:07:26, 23.12s/Epochs]"
     ]
    },
    {
     "name": "stdout",
     "output_type": "stream",
     "text": [
      "Epoch: 0024,\tTrain mse: 0.17301644,\tTrain_RMSE: 0.41578244,\tTrain_acc: 0.41579807,\tTest mse: 0.16039750,\tTime: 23.03903794s\n"
     ]
    },
    {
     "name": "stderr",
     "output_type": "stream",
     "text": [
      "Training:  13%|█▎        | 26/200 [10:05<1:06:57, 23.09s/Epochs]"
     ]
    },
    {
     "name": "stdout",
     "output_type": "stream",
     "text": [
      "Epoch: 0025,\tTrain mse: 0.16047449,\tTrain_RMSE: 0.40058747,\tTrain_acc: 0.40060046,\tTest mse: 0.15508567,\tTime: 23.01200819s\n"
     ]
    },
    {
     "name": "stderr",
     "output_type": "stream",
     "text": [
      "Training:  14%|█▎        | 27/200 [10:28<1:06:37, 23.10s/Epochs]"
     ]
    },
    {
     "name": "stdout",
     "output_type": "stream",
     "text": [
      "Epoch: 0026,\tTrain mse: 0.16499429,\tTrain_RMSE: 0.40607709,\tTrain_acc: 0.40608755,\tTest mse: 0.15667488,\tTime: 23.13888717s\n"
     ]
    },
    {
     "name": "stderr",
     "output_type": "stream",
     "text": [
      "Training:  14%|█▍        | 28/200 [10:51<1:06:20, 23.15s/Epochs]"
     ]
    },
    {
     "name": "stdout",
     "output_type": "stream",
     "text": [
      "Epoch: 0027,\tTrain mse: 0.15910173,\tTrain_RMSE: 0.39882563,\tTrain_acc: 0.39884141,\tTest mse: 0.15674114,\tTime: 23.23742390s\n"
     ]
    },
    {
     "name": "stderr",
     "output_type": "stream",
     "text": [
      "Training:  14%|█▍        | 29/200 [11:14<1:05:59, 23.16s/Epochs]"
     ]
    },
    {
     "name": "stdout",
     "output_type": "stream",
     "text": [
      "Epoch: 0028,\tTrain mse: 0.15670159,\tTrain_RMSE: 0.39584924,\tTrain_acc: 0.39586231,\tTest mse: 0.15427415,\tTime: 23.17716718s\n"
     ]
    },
    {
     "name": "stderr",
     "output_type": "stream",
     "text": [
      "Training:  15%|█▌        | 30/200 [11:38<1:05:37, 23.16s/Epochs]"
     ]
    },
    {
     "name": "stdout",
     "output_type": "stream",
     "text": [
      "Epoch: 0029,\tTrain mse: 0.15830692,\tTrain_RMSE: 0.39787199,\tTrain_acc: 0.39788452,\tTest mse: 0.16216984,\tTime: 23.17841530s\n"
     ]
    },
    {
     "name": "stderr",
     "output_type": "stream",
     "text": [
      "Training:  16%|█▌        | 31/200 [12:01<1:05:15, 23.17s/Epochs]"
     ]
    },
    {
     "name": "stdout",
     "output_type": "stream",
     "text": [
      "Epoch: 0030,\tTrain mse: 0.19839853,\tTrain_RMSE: 0.44444593,\tTrain_acc: 0.44444835,\tTest mse: 0.17974317,\tTime: 23.18492746s\n"
     ]
    },
    {
     "name": "stderr",
     "output_type": "stream",
     "text": [
      "Training:  16%|█▌        | 32/200 [12:24<1:05:02, 23.23s/Epochs]"
     ]
    },
    {
     "name": "stdout",
     "output_type": "stream",
     "text": [
      "Epoch: 0031,\tTrain mse: 0.18610841,\tTrain_RMSE: 0.43120185,\tTrain_acc: 0.43121749,\tTest mse: 0.14497358,\tTime: 23.36722279s\n"
     ]
    },
    {
     "name": "stderr",
     "output_type": "stream",
     "text": [
      "Training:  16%|█▋        | 33/200 [12:47<1:04:34, 23.20s/Epochs]"
     ]
    },
    {
     "name": "stdout",
     "output_type": "stream",
     "text": [
      "Epoch: 0032,\tTrain mse: 0.18582353,\tTrain_RMSE: 0.42919865,\tTrain_acc: 0.42919672,\tTest mse: 0.22997041,\tTime: 23.13112950s\n"
     ]
    },
    {
     "name": "stderr",
     "output_type": "stream",
     "text": [
      "Training:  17%|█▋        | 34/200 [13:10<1:04:08, 23.18s/Epochs]"
     ]
    },
    {
     "name": "stdout",
     "output_type": "stream",
     "text": [
      "Epoch: 0033,\tTrain mse: 0.20578618,\tTrain_RMSE: 0.45344034,\tTrain_acc: 0.45345771,\tTest mse: 0.18290523,\tTime: 23.13688326s\n"
     ]
    },
    {
     "name": "stderr",
     "output_type": "stream",
     "text": [
      "Training:  18%|█▊        | 35/200 [13:34<1:03:45, 23.18s/Epochs]"
     ]
    },
    {
     "name": "stdout",
     "output_type": "stream",
     "text": [
      "Epoch: 0034,\tTrain mse: 0.17721153,\tTrain_RMSE: 0.42087675,\tTrain_acc: 0.42088902,\tTest mse: 0.16555634,\tTime: 23.18089843s\n"
     ]
    },
    {
     "name": "stderr",
     "output_type": "stream",
     "text": [
      "Training:  18%|█▊        | 36/200 [13:57<1:03:50, 23.36s/Epochs]"
     ]
    },
    {
     "name": "stdout",
     "output_type": "stream",
     "text": [
      "Epoch: 0035,\tTrain mse: 0.16479013,\tTrain_RMSE: 0.40586662,\tTrain_acc: 0.40587908,\tTest mse: 0.17076802,\tTime: 23.76890111s\n",
      "Epoch    36: reducing learning rate of group 0 to 5.0000e-04.\n"
     ]
    },
    {
     "name": "stderr",
     "output_type": "stream",
     "text": [
      "Training:  18%|█▊        | 37/200 [14:21<1:03:20, 23.32s/Epochs]"
     ]
    },
    {
     "name": "stdout",
     "output_type": "stream",
     "text": [
      "Epoch: 0036,\tTrain mse: 0.15615038,\tTrain_RMSE: 0.39499133,\tTrain_acc: 0.39501113,\tTest mse: 0.15106846,\tTime: 23.21094775s\n"
     ]
    },
    {
     "name": "stderr",
     "output_type": "stream",
     "text": [
      "Training:  19%|█▉        | 38/200 [14:44<1:03:06, 23.37s/Epochs]"
     ]
    },
    {
     "name": "stdout",
     "output_type": "stream",
     "text": [
      "Epoch: 0037,\tTrain mse: 0.14293894,\tTrain_RMSE: 0.37800985,\tTrain_acc: 0.37802568,\tTest mse: 0.13808309,\tTime: 23.50843668s\n"
     ]
    },
    {
     "name": "stderr",
     "output_type": "stream",
     "text": [
      "Training:  20%|█▉        | 39/200 [15:07<1:02:39, 23.35s/Epochs]"
     ]
    },
    {
     "name": "stdout",
     "output_type": "stream",
     "text": [
      "Epoch: 0038,\tTrain mse: 0.13392336,\tTrain_RMSE: 0.36592923,\tTrain_acc: 0.36594278,\tTest mse: 0.13154876,\tTime: 23.28926182s\n"
     ]
    },
    {
     "name": "stderr",
     "output_type": "stream",
     "text": [
      "Training:  20%|██        | 40/200 [15:31<1:02:13, 23.34s/Epochs]"
     ]
    },
    {
     "name": "stdout",
     "output_type": "stream",
     "text": [
      "Epoch: 0039,\tTrain mse: 0.12868260,\tTrain_RMSE: 0.35870330,\tTrain_acc: 0.35871592,\tTest mse: 0.12591623,\tTime: 23.30312300s\n"
     ]
    },
    {
     "name": "stderr",
     "output_type": "stream",
     "text": [
      "Training:  20%|██        | 41/200 [15:54<1:01:47, 23.32s/Epochs]"
     ]
    },
    {
     "name": "stdout",
     "output_type": "stream",
     "text": [
      "Epoch: 0040,\tTrain mse: 0.12435571,\tTrain_RMSE: 0.35263179,\tTrain_acc: 0.35264385,\tTest mse: 0.12288140,\tTime: 23.27261305s\n"
     ]
    },
    {
     "name": "stderr",
     "output_type": "stream",
     "text": [
      "Training:  21%|██        | 42/200 [16:17<1:01:22, 23.31s/Epochs]"
     ]
    },
    {
     "name": "stdout",
     "output_type": "stream",
     "text": [
      "Epoch: 0041,\tTrain mse: 0.12068556,\tTrain_RMSE: 0.34738564,\tTrain_acc: 0.34739763,\tTest mse: 0.11883692,\tTime: 23.28271317s\n"
     ]
    },
    {
     "name": "stderr",
     "output_type": "stream",
     "text": [
      "Training:  22%|██▏       | 43/200 [16:41<1:00:57, 23.30s/Epochs]"
     ]
    },
    {
     "name": "stdout",
     "output_type": "stream",
     "text": [
      "Epoch: 0042,\tTrain mse: 0.11796282,\tTrain_RMSE: 0.34344659,\tTrain_acc: 0.34345829,\tTest mse: 0.11643947,\tTime: 23.26841617s\n"
     ]
    },
    {
     "name": "stderr",
     "output_type": "stream",
     "text": [
      "Training:  22%|██▏       | 44/200 [17:04<1:00:34, 23.30s/Epochs]"
     ]
    },
    {
     "name": "stdout",
     "output_type": "stream",
     "text": [
      "Epoch: 0043,\tTrain mse: 0.11583231,\tTrain_RMSE: 0.34033132,\tTrain_acc: 0.34034318,\tTest mse: 0.11356165,\tTime: 23.30137753s\n"
     ]
    },
    {
     "name": "stderr",
     "output_type": "stream",
     "text": [
      "Training:  22%|██▎       | 45/200 [17:27<1:00:17, 23.34s/Epochs]"
     ]
    },
    {
     "name": "stdout",
     "output_type": "stream",
     "text": [
      "Epoch: 0044,\tTrain mse: 0.11242075,\tTrain_RMSE: 0.33527914,\tTrain_acc: 0.33529085,\tTest mse: 0.10972749,\tTime: 23.42606449s\n"
     ]
    },
    {
     "name": "stderr",
     "output_type": "stream",
     "text": [
      "Training:  23%|██▎       | 46/200 [17:51<59:59, 23.37s/Epochs]  "
     ]
    },
    {
     "name": "stdout",
     "output_type": "stream",
     "text": [
      "Epoch: 0045,\tTrain mse: 0.10883769,\tTrain_RMSE: 0.32989394,\tTrain_acc: 0.32990551,\tTest mse: 0.10657532,\tTime: 23.45435619s\n"
     ]
    },
    {
     "name": "stderr",
     "output_type": "stream",
     "text": [
      "Training:  24%|██▎       | 47/200 [18:14<59:45, 23.44s/Epochs]"
     ]
    },
    {
     "name": "stdout",
     "output_type": "stream",
     "text": [
      "Epoch: 0046,\tTrain mse: 0.10568432,\tTrain_RMSE: 0.32507934,\tTrain_acc: 0.32509035,\tTest mse: 0.10393111,\tTime: 23.58268213s\n"
     ]
    },
    {
     "name": "stderr",
     "output_type": "stream",
     "text": [
      "Training:  24%|██▍       | 48/200 [18:38<59:19, 23.42s/Epochs]"
     ]
    },
    {
     "name": "stdout",
     "output_type": "stream",
     "text": [
      "Epoch: 0047,\tTrain mse: 0.10254568,\tTrain_RMSE: 0.32021392,\tTrain_acc: 0.32022521,\tTest mse: 0.10018745,\tTime: 23.36905622s\n"
     ]
    },
    {
     "name": "stderr",
     "output_type": "stream",
     "text": [
      "Training:  24%|██▍       | 49/200 [19:01<58:55, 23.42s/Epochs]"
     ]
    },
    {
     "name": "stdout",
     "output_type": "stream",
     "text": [
      "Epoch: 0048,\tTrain mse: 0.09925391,\tTrain_RMSE: 0.31503156,\tTrain_acc: 0.31504270,\tTest mse: 0.09651905,\tTime: 23.41325188s\n"
     ]
    },
    {
     "name": "stderr",
     "output_type": "stream",
     "text": [
      "Training:  25%|██▌       | 50/200 [19:24<58:27, 23.38s/Epochs]"
     ]
    },
    {
     "name": "stdout",
     "output_type": "stream",
     "text": [
      "Epoch: 0049,\tTrain mse: 0.09571563,\tTrain_RMSE: 0.30936603,\tTrain_acc: 0.30937704,\tTest mse: 0.09250662,\tTime: 23.29979539s\n"
     ]
    },
    {
     "name": "stderr",
     "output_type": "stream",
     "text": [
      "Training:  26%|██▌       | 51/200 [19:48<58:01, 23.36s/Epochs]"
     ]
    },
    {
     "name": "stdout",
     "output_type": "stream",
     "text": [
      "Epoch: 0050,\tTrain mse: 0.09207233,\tTrain_RMSE: 0.30341662,\tTrain_acc: 0.30342752,\tTest mse: 0.08937697,\tTime: 23.31764269s\n"
     ]
    },
    {
     "name": "stderr",
     "output_type": "stream",
     "text": [
      "Training:  26%|██▌       | 52/200 [20:11<57:36, 23.36s/Epochs]"
     ]
    },
    {
     "name": "stdout",
     "output_type": "stream",
     "text": [
      "Epoch: 0051,\tTrain mse: 0.08924963,\tTrain_RMSE: 0.29873263,\tTrain_acc: 0.29874361,\tTest mse: 0.08853845,\tTime: 23.34245777s\n"
     ]
    },
    {
     "name": "stderr",
     "output_type": "stream",
     "text": [
      "Training:  26%|██▋       | 53/200 [20:34<56:49, 23.20s/Epochs]"
     ]
    },
    {
     "name": "stdout",
     "output_type": "stream",
     "text": [
      "Epoch: 0052,\tTrain mse: 0.08677724,\tTrain_RMSE: 0.29454743,\tTrain_acc: 0.29455850,\tTest mse: 0.08607492,\tTime: 22.81831527s\n"
     ]
    },
    {
     "name": "stderr",
     "output_type": "stream",
     "text": [
      "Training:  27%|██▋       | 54/200 [20:57<56:25, 23.19s/Epochs]"
     ]
    },
    {
     "name": "stdout",
     "output_type": "stream",
     "text": [
      "Epoch: 0053,\tTrain mse: 0.08578155,\tTrain_RMSE: 0.29287081,\tTrain_acc: 0.29288095,\tTest mse: 0.08589391,\tTime: 23.16867661s\n"
     ]
    },
    {
     "name": "stderr",
     "output_type": "stream",
     "text": [
      "Training:  28%|██▊       | 55/200 [21:20<55:51, 23.11s/Epochs]"
     ]
    },
    {
     "name": "stdout",
     "output_type": "stream",
     "text": [
      "Epoch: 0054,\tTrain mse: 0.08644063,\tTrain_RMSE: 0.29399851,\tTrain_acc: 0.29400837,\tTest mse: 0.08878709,\tTime: 22.92700720s\n"
     ]
    },
    {
     "name": "stderr",
     "output_type": "stream",
     "text": [
      "Training:  28%|██▊       | 56/200 [21:43<55:25, 23.09s/Epochs]"
     ]
    },
    {
     "name": "stdout",
     "output_type": "stream",
     "text": [
      "Epoch: 0055,\tTrain mse: 0.09041506,\tTrain_RMSE: 0.30062721,\tTrain_acc: 0.30063707,\tTest mse: 0.08865498,\tTime: 23.05746222s\n"
     ]
    },
    {
     "name": "stderr",
     "output_type": "stream",
     "text": [
      "Training:  28%|██▊       | 57/200 [22:06<54:56, 23.05s/Epochs]"
     ]
    },
    {
     "name": "stdout",
     "output_type": "stream",
     "text": [
      "Epoch: 0056,\tTrain mse: 0.08769917,\tTrain_RMSE: 0.29610005,\tTrain_acc: 0.29610968,\tTest mse: 0.08342122,\tTime: 22.95724940s\n"
     ]
    },
    {
     "name": "stderr",
     "output_type": "stream",
     "text": [
      "Training:  29%|██▉       | 58/200 [22:29<54:29, 23.02s/Epochs]"
     ]
    },
    {
     "name": "stdout",
     "output_type": "stream",
     "text": [
      "Epoch: 0057,\tTrain mse: 0.08417916,\tTrain_RMSE: 0.29011326,\tTrain_acc: 0.29012361,\tTest mse: 0.08178989,\tTime: 22.94556928s\n"
     ]
    },
    {
     "name": "stderr",
     "output_type": "stream",
     "text": [
      "Training:  30%|██▉       | 59/200 [22:52<54:08, 23.04s/Epochs]"
     ]
    },
    {
     "name": "stdout",
     "output_type": "stream",
     "text": [
      "Epoch: 0058,\tTrain mse: 0.08084781,\tTrain_RMSE: 0.28431555,\tTrain_acc: 0.28432646,\tTest mse: 0.07848398,\tTime: 23.07447124s\n"
     ]
    },
    {
     "name": "stderr",
     "output_type": "stream",
     "text": [
      "Training:  30%|███       | 60/200 [23:15<53:50, 23.08s/Epochs]"
     ]
    },
    {
     "name": "stdout",
     "output_type": "stream",
     "text": [
      "Epoch: 0059,\tTrain mse: 0.07905721,\tTrain_RMSE: 0.28115936,\tTrain_acc: 0.28116933,\tTest mse: 0.07723521,\tTime: 23.16714168s\n"
     ]
    },
    {
     "name": "stderr",
     "output_type": "stream",
     "text": [
      "Training:  30%|███       | 61/200 [23:38<53:25, 23.06s/Epochs]"
     ]
    },
    {
     "name": "stdout",
     "output_type": "stream",
     "text": [
      "Epoch: 0060,\tTrain mse: 0.07808875,\tTrain_RMSE: 0.27942764,\tTrain_acc: 0.27943787,\tTest mse: 0.07608912,\tTime: 23.02979875s\n"
     ]
    },
    {
     "name": "stderr",
     "output_type": "stream",
     "text": [
      "Training:  31%|███       | 62/200 [24:01<52:59, 23.04s/Epochs]"
     ]
    },
    {
     "name": "stdout",
     "output_type": "stream",
     "text": [
      "Epoch: 0061,\tTrain mse: 0.07831830,\tTrain_RMSE: 0.27984919,\tTrain_acc: 0.27985841,\tTest mse: 0.07699718,\tTime: 22.97923827s\n"
     ]
    },
    {
     "name": "stderr",
     "output_type": "stream",
     "text": [
      "Training:  32%|███▏      | 63/200 [24:24<52:43, 23.09s/Epochs]"
     ]
    },
    {
     "name": "stdout",
     "output_type": "stream",
     "text": [
      "Epoch: 0062,\tTrain mse: 0.07920057,\tTrain_RMSE: 0.28142046,\tTrain_acc: 0.28142938,\tTest mse: 0.08328888,\tTime: 23.21226263s\n"
     ]
    },
    {
     "name": "stderr",
     "output_type": "stream",
     "text": [
      "Training:  32%|███▏      | 64/200 [24:48<52:28, 23.15s/Epochs]"
     ]
    },
    {
     "name": "stdout",
     "output_type": "stream",
     "text": [
      "Epoch: 0063,\tTrain mse: 0.08506527,\tTrain_RMSE: 0.29151277,\tTrain_acc: 0.29152235,\tTest mse: 0.10495786,\tTime: 23.29090428s\n"
     ]
    },
    {
     "name": "stderr",
     "output_type": "stream",
     "text": [
      "Training:  32%|███▎      | 65/200 [25:11<52:00, 23.12s/Epochs]"
     ]
    },
    {
     "name": "stdout",
     "output_type": "stream",
     "text": [
      "Epoch: 0064,\tTrain mse: 0.09627667,\tTrain_RMSE: 0.31005328,\tTrain_acc: 0.31006923,\tTest mse: 0.08679418,\tTime: 23.03477001s\n",
      "Epoch    65: reducing learning rate of group 0 to 2.5000e-04.\n"
     ]
    },
    {
     "name": "stderr",
     "output_type": "stream",
     "text": [
      "Training:  33%|███▎      | 66/200 [25:34<51:39, 23.13s/Epochs]"
     ]
    },
    {
     "name": "stdout",
     "output_type": "stream",
     "text": [
      "Epoch: 0065,\tTrain mse: 0.08128095,\tTrain_RMSE: 0.28498803,\tTrain_acc: 0.28500119,\tTest mse: 0.07705533,\tTime: 23.16698813s\n"
     ]
    },
    {
     "name": "stderr",
     "output_type": "stream",
     "text": [
      "Training:  34%|███▎      | 67/200 [25:57<51:12, 23.10s/Epochs]"
     ]
    },
    {
     "name": "stdout",
     "output_type": "stream",
     "text": [
      "Epoch: 0066,\tTrain mse: 0.07569279,\tTrain_RMSE: 0.27505312,\tTrain_acc: 0.27506492,\tTest mse: 0.07360879,\tTime: 23.02896214s\n"
     ]
    },
    {
     "name": "stderr",
     "output_type": "stream",
     "text": [
      "Training:  34%|███▍      | 68/200 [26:20<50:46, 23.08s/Epochs]"
     ]
    },
    {
     "name": "stdout",
     "output_type": "stream",
     "text": [
      "Epoch: 0067,\tTrain mse: 0.07399295,\tTrain_RMSE: 0.27196009,\tTrain_acc: 0.27197048,\tTest mse: 0.07089481,\tTime: 23.03082991s\n"
     ]
    },
    {
     "name": "stderr",
     "output_type": "stream",
     "text": [
      "Training:  34%|███▍      | 69/200 [26:43<50:15, 23.02s/Epochs]"
     ]
    },
    {
     "name": "stdout",
     "output_type": "stream",
     "text": [
      "Epoch: 0068,\tTrain mse: 0.07046582,\tTrain_RMSE: 0.26537072,\tTrain_acc: 0.26538196,\tTest mse: 0.06852409,\tTime: 22.88294578s\n"
     ]
    },
    {
     "name": "stderr",
     "output_type": "stream",
     "text": [
      "Training:  35%|███▌      | 70/200 [27:06<49:52, 23.02s/Epochs]"
     ]
    },
    {
     "name": "stdout",
     "output_type": "stream",
     "text": [
      "Epoch: 0069,\tTrain mse: 0.06906407,\tTrain_RMSE: 0.26274674,\tTrain_acc: 0.26275727,\tTest mse: 0.06755929,\tTime: 23.00030971s\n"
     ]
    },
    {
     "name": "stderr",
     "output_type": "stream",
     "text": [
      "Training:  36%|███▌      | 71/200 [27:29<49:30, 23.03s/Epochs]"
     ]
    },
    {
     "name": "stdout",
     "output_type": "stream",
     "text": [
      "Epoch: 0070,\tTrain mse: 0.06804829,\tTrain_RMSE: 0.26078812,\tTrain_acc: 0.26079902,\tTest mse: 0.06613631,\tTime: 23.06375599s\n"
     ]
    },
    {
     "name": "stderr",
     "output_type": "stream",
     "text": [
      "Training:  36%|███▌      | 72/200 [27:52<49:14, 23.08s/Epochs]"
     ]
    },
    {
     "name": "stdout",
     "output_type": "stream",
     "text": [
      "Epoch: 0071,\tTrain mse: 0.06695636,\tTrain_RMSE: 0.25869666,\tTrain_acc: 0.25870726,\tTest mse: 0.06553613,\tTime: 23.18907762s\n"
     ]
    },
    {
     "name": "stderr",
     "output_type": "stream",
     "text": [
      "Training:  36%|███▋      | 73/200 [28:15<48:51, 23.09s/Epochs]"
     ]
    },
    {
     "name": "stdout",
     "output_type": "stream",
     "text": [
      "Epoch: 0072,\tTrain mse: 0.06622319,\tTrain_RMSE: 0.25727332,\tTrain_acc: 0.25728393,\tTest mse: 0.06540724,\tTime: 23.10135412s\n"
     ]
    },
    {
     "name": "stderr",
     "output_type": "stream",
     "text": [
      "Training:  37%|███▋      | 74/200 [28:38<48:22, 23.04s/Epochs]"
     ]
    },
    {
     "name": "stdout",
     "output_type": "stream",
     "text": [
      "Epoch: 0073,\tTrain mse: 0.06563129,\tTrain_RMSE: 0.25611428,\tTrain_acc: 0.25612503,\tTest mse: 0.06420580,\tTime: 22.92438126s\n"
     ]
    },
    {
     "name": "stderr",
     "output_type": "stream",
     "text": [
      "Training:  38%|███▊      | 75/200 [29:01<48:04, 23.08s/Epochs]"
     ]
    },
    {
     "name": "stdout",
     "output_type": "stream",
     "text": [
      "Epoch: 0074,\tTrain mse: 0.06489759,\tTrain_RMSE: 0.25468172,\tTrain_acc: 0.25469232,\tTest mse: 0.06376078,\tTime: 23.17423725s\n"
     ]
    },
    {
     "name": "stderr",
     "output_type": "stream",
     "text": [
      "Training:  38%|███▊      | 76/200 [29:25<47:46, 23.11s/Epochs]"
     ]
    },
    {
     "name": "stdout",
     "output_type": "stream",
     "text": [
      "Epoch: 0075,\tTrain mse: 0.06403813,\tTrain_RMSE: 0.25298289,\tTrain_acc: 0.25299346,\tTest mse: 0.06287009,\tTime: 23.19326949s\n"
     ]
    },
    {
     "name": "stderr",
     "output_type": "stream",
     "text": [
      "Training:  38%|███▊      | 77/200 [29:48<47:23, 23.11s/Epochs]"
     ]
    },
    {
     "name": "stdout",
     "output_type": "stream",
     "text": [
      "Epoch: 0076,\tTrain mse: 0.06310091,\tTrain_RMSE: 0.25113117,\tTrain_acc: 0.25114155,\tTest mse: 0.06248923,\tTime: 23.11321163s\n"
     ]
    },
    {
     "name": "stderr",
     "output_type": "stream",
     "text": [
      "Training:  39%|███▉      | 78/200 [30:11<47:01, 23.13s/Epochs]"
     ]
    },
    {
     "name": "stdout",
     "output_type": "stream",
     "text": [
      "Epoch: 0077,\tTrain mse: 0.06278834,\tTrain_RMSE: 0.25051291,\tTrain_acc: 0.25052300,\tTest mse: 0.06192817,\tTime: 23.15280485s\n"
     ]
    },
    {
     "name": "stderr",
     "output_type": "stream",
     "text": [
      "Training:  40%|███▉      | 79/200 [30:34<46:35, 23.11s/Epochs]"
     ]
    },
    {
     "name": "stdout",
     "output_type": "stream",
     "text": [
      "Epoch: 0078,\tTrain mse: 0.06218064,\tTrain_RMSE: 0.24930067,\tTrain_acc: 0.24931052,\tTest mse: 0.06167518,\tTime: 23.05772185s\n"
     ]
    },
    {
     "name": "stderr",
     "output_type": "stream",
     "text": [
      "Training:  40%|████      | 80/200 [30:57<46:12, 23.10s/Epochs]"
     ]
    },
    {
     "name": "stdout",
     "output_type": "stream",
     "text": [
      "Epoch: 0079,\tTrain mse: 0.06134208,\tTrain_RMSE: 0.24761216,\tTrain_acc: 0.24762206,\tTest mse: 0.06020059,\tTime: 23.09211040s\n"
     ]
    },
    {
     "name": "stderr",
     "output_type": "stream",
     "text": [
      "Training:  40%|████      | 81/200 [31:20<45:57, 23.17s/Epochs]"
     ]
    },
    {
     "name": "stdout",
     "output_type": "stream",
     "text": [
      "Epoch: 0080,\tTrain mse: 0.06075174,\tTrain_RMSE: 0.24641950,\tTrain_acc: 0.24642947,\tTest mse: 0.05990117,\tTime: 23.32309651s\n"
     ]
    },
    {
     "name": "stderr",
     "output_type": "stream",
     "text": [
      "Training:  41%|████      | 82/200 [31:43<45:30, 23.14s/Epochs]"
     ]
    },
    {
     "name": "stdout",
     "output_type": "stream",
     "text": [
      "Epoch: 0081,\tTrain mse: 0.06028924,\tTrain_RMSE: 0.24547392,\tTrain_acc: 0.24548411,\tTest mse: 0.05908488,\tTime: 23.07364488s\n"
     ]
    },
    {
     "name": "stderr",
     "output_type": "stream",
     "text": [
      "Training:  42%|████▏     | 83/200 [32:07<45:07, 23.14s/Epochs]"
     ]
    },
    {
     "name": "stdout",
     "output_type": "stream",
     "text": [
      "Epoch: 0082,\tTrain mse: 0.05967850,\tTrain_RMSE: 0.24422814,\tTrain_acc: 0.24423803,\tTest mse: 0.05788621,\tTime: 23.12972474s\n"
     ]
    },
    {
     "name": "stderr",
     "output_type": "stream",
     "text": [
      "Training:  42%|████▏     | 84/200 [32:29<44:33, 23.05s/Epochs]"
     ]
    },
    {
     "name": "stdout",
     "output_type": "stream",
     "text": [
      "Epoch: 0083,\tTrain mse: 0.05925706,\tTrain_RMSE: 0.24337206,\tTrain_acc: 0.24338162,\tTest mse: 0.05712732,\tTime: 22.84626317s\n"
     ]
    },
    {
     "name": "stderr",
     "output_type": "stream",
     "text": [
      "Training:  42%|████▎     | 85/200 [32:53<44:18, 23.11s/Epochs]"
     ]
    },
    {
     "name": "stdout",
     "output_type": "stream",
     "text": [
      "Epoch: 0084,\tTrain mse: 0.05934309,\tTrain_RMSE: 0.24355217,\tTrain_acc: 0.24356206,\tTest mse: 0.05852901,\tTime: 23.25921988s\n"
     ]
    },
    {
     "name": "stderr",
     "output_type": "stream",
     "text": [
      "Training:  43%|████▎     | 86/200 [33:16<44:09, 23.24s/Epochs]"
     ]
    },
    {
     "name": "stdout",
     "output_type": "stream",
     "text": [
      "Epoch: 0085,\tTrain mse: 0.05870184,\tTrain_RMSE: 0.24220008,\tTrain_acc: 0.24221000,\tTest mse: 0.05692269,\tTime: 23.52784920s\n"
     ]
    },
    {
     "name": "stderr",
     "output_type": "stream",
     "text": [
      "Training:  44%|████▎     | 87/200 [33:39<43:35, 23.15s/Epochs]"
     ]
    },
    {
     "name": "stdout",
     "output_type": "stream",
     "text": [
      "Epoch: 0086,\tTrain mse: 0.05767163,\tTrain_RMSE: 0.24007526,\tTrain_acc: 0.24008498,\tTest mse: 0.05611780,\tTime: 22.93188882s\n"
     ]
    },
    {
     "name": "stderr",
     "output_type": "stream",
     "text": [
      "Training:  44%|████▍     | 88/200 [34:02<43:06, 23.09s/Epochs]"
     ]
    },
    {
     "name": "stdout",
     "output_type": "stream",
     "text": [
      "Epoch: 0087,\tTrain mse: 0.05842249,\tTrain_RMSE: 0.24165076,\tTrain_acc: 0.24166007,\tTest mse: 0.05558892,\tTime: 22.95748496s\n"
     ]
    },
    {
     "name": "stderr",
     "output_type": "stream",
     "text": [
      "Training:  44%|████▍     | 89/200 [34:25<42:40, 23.07s/Epochs]"
     ]
    },
    {
     "name": "stdout",
     "output_type": "stream",
     "text": [
      "Epoch: 0088,\tTrain mse: 0.05977776,\tTrain_RMSE: 0.24443607,\tTrain_acc: 0.24444574,\tTest mse: 0.05609517,\tTime: 23.00888228s\n"
     ]
    },
    {
     "name": "stderr",
     "output_type": "stream",
     "text": [
      "Training:  45%|████▌     | 90/200 [34:48<42:10, 23.01s/Epochs]"
     ]
    },
    {
     "name": "stdout",
     "output_type": "stream",
     "text": [
      "Epoch: 0089,\tTrain mse: 0.05664059,\tTrain_RMSE: 0.23789716,\tTrain_acc: 0.23790769,\tTest mse: 0.05420126,\tTime: 22.86034799s\n"
     ]
    },
    {
     "name": "stderr",
     "output_type": "stream",
     "text": [
      "Training:  46%|████▌     | 91/200 [35:11<41:47, 23.01s/Epochs]"
     ]
    },
    {
     "name": "stdout",
     "output_type": "stream",
     "text": [
      "Epoch: 0090,\tTrain mse: 0.05549359,\tTrain_RMSE: 0.23550459,\tTrain_acc: 0.23551445,\tTest mse: 0.05342424,\tTime: 23.01345539s\n"
     ]
    },
    {
     "name": "stderr",
     "output_type": "stream",
     "text": [
      "Training:  46%|████▌     | 92/200 [35:34<41:24, 23.01s/Epochs]"
     ]
    },
    {
     "name": "stdout",
     "output_type": "stream",
     "text": [
      "Epoch: 0091,\tTrain mse: 0.05401518,\tTrain_RMSE: 0.23234593,\tTrain_acc: 0.23235540,\tTest mse: 0.05259744,\tTime: 22.99713564s\n"
     ]
    },
    {
     "name": "stderr",
     "output_type": "stream",
     "text": [
      "Training:  46%|████▋     | 93/200 [35:57<40:57, 22.97s/Epochs]"
     ]
    },
    {
     "name": "stdout",
     "output_type": "stream",
     "text": [
      "Epoch: 0092,\tTrain mse: 0.05516981,\tTrain_RMSE: 0.23483743,\tTrain_acc: 0.23484650,\tTest mse: 0.05298447,\tTime: 22.88473535s\n"
     ]
    },
    {
     "name": "stderr",
     "output_type": "stream",
     "text": [
      "Training:  47%|████▋     | 94/200 [36:20<40:31, 22.94s/Epochs]"
     ]
    },
    {
     "name": "stdout",
     "output_type": "stream",
     "text": [
      "Epoch: 0093,\tTrain mse: 0.05393017,\tTrain_RMSE: 0.23214963,\tTrain_acc: 0.23215811,\tTest mse: 0.05202153,\tTime: 22.87160611s\n"
     ]
    },
    {
     "name": "stderr",
     "output_type": "stream",
     "text": [
      "Training:  48%|████▊     | 95/200 [36:43<40:05, 22.91s/Epochs]"
     ]
    },
    {
     "name": "stdout",
     "output_type": "stream",
     "text": [
      "Epoch: 0094,\tTrain mse: 0.05317583,\tTrain_RMSE: 0.23053864,\tTrain_acc: 0.23054698,\tTest mse: 0.05144770,\tTime: 22.82316518s\n"
     ]
    },
    {
     "name": "stderr",
     "output_type": "stream",
     "text": [
      "Training:  48%|████▊     | 96/200 [37:06<39:44, 22.93s/Epochs]"
     ]
    },
    {
     "name": "stdout",
     "output_type": "stream",
     "text": [
      "Epoch: 0095,\tTrain mse: 0.05411942,\tTrain_RMSE: 0.23257770,\tTrain_acc: 0.23258559,\tTest mse: 0.05246192,\tTime: 22.98605800s\n"
     ]
    },
    {
     "name": "stderr",
     "output_type": "stream",
     "text": [
      "Training:  48%|████▊     | 97/200 [37:29<39:36, 23.07s/Epochs]"
     ]
    },
    {
     "name": "stdout",
     "output_type": "stream",
     "text": [
      "Epoch: 0096,\tTrain mse: 0.05375322,\tTrain_RMSE: 0.23173947,\tTrain_acc: 0.23174796,\tTest mse: 0.05265225,\tTime: 23.40365934s\n"
     ]
    },
    {
     "name": "stderr",
     "output_type": "stream",
     "text": [
      "Training:  49%|████▉     | 98/200 [37:52<39:15, 23.10s/Epochs]"
     ]
    },
    {
     "name": "stdout",
     "output_type": "stream",
     "text": [
      "Epoch: 0097,\tTrain mse: 0.05257642,\tTrain_RMSE: 0.22921520,\tTrain_acc: 0.22922508,\tTest mse: 0.05123471,\tTime: 23.15183258s\n"
     ]
    },
    {
     "name": "stderr",
     "output_type": "stream",
     "text": [
      "Training:  50%|████▉     | 99/200 [38:15<38:52, 23.09s/Epochs]"
     ]
    },
    {
     "name": "stdout",
     "output_type": "stream",
     "text": [
      "Epoch: 0098,\tTrain mse: 0.05143887,\tTrain_RMSE: 0.22671318,\tTrain_acc: 0.22672287,\tTest mse: 0.05009408,\tTime: 23.08182335s\n"
     ]
    },
    {
     "name": "stderr",
     "output_type": "stream",
     "text": [
      "Training:  50%|█████     | 100/200 [38:38<38:26, 23.06s/Epochs]"
     ]
    },
    {
     "name": "stdout",
     "output_type": "stream",
     "text": [
      "Epoch: 0099,\tTrain mse: 0.05090985,\tTrain_RMSE: 0.22557129,\tTrain_acc: 0.22558026,\tTest mse: 0.05032306,\tTime: 22.99476051s\n"
     ]
    },
    {
     "name": "stderr",
     "output_type": "stream",
     "text": [
      "Training:  50%|█████     | 101/200 [39:01<38:08, 23.11s/Epochs]"
     ]
    },
    {
     "name": "stdout",
     "output_type": "stream",
     "text": [
      "Epoch: 0100,\tTrain mse: 0.05254136,\tTrain_RMSE: 0.22916770,\tTrain_acc: 0.22917660,\tTest mse: 0.05000579,\tTime: 23.22578287s\n"
     ]
    },
    {
     "name": "stderr",
     "output_type": "stream",
     "text": [
      "Training:  51%|█████     | 102/200 [39:25<37:50, 23.17s/Epochs]"
     ]
    },
    {
     "name": "stdout",
     "output_type": "stream",
     "text": [
      "Epoch: 0101,\tTrain mse: 0.05045067,\tTrain_RMSE: 0.22454717,\tTrain_acc: 0.22455551,\tTest mse: 0.04967983,\tTime: 23.28653526s\n"
     ]
    },
    {
     "name": "stderr",
     "output_type": "stream",
     "text": [
      "Training:  52%|█████▏    | 103/200 [39:48<37:25, 23.15s/Epochs]"
     ]
    },
    {
     "name": "stdout",
     "output_type": "stream",
     "text": [
      "Epoch: 0102,\tTrain mse: 0.05097363,\tTrain_RMSE: 0.22573668,\tTrain_acc: 0.22574444,\tTest mse: 0.04998841,\tTime: 23.11305594s\n"
     ]
    },
    {
     "name": "stderr",
     "output_type": "stream",
     "text": [
      "Training:  52%|█████▏    | 104/200 [40:11<37:06, 23.19s/Epochs]"
     ]
    },
    {
     "name": "stdout",
     "output_type": "stream",
     "text": [
      "Epoch: 0103,\tTrain mse: 0.05136497,\tTrain_RMSE: 0.22657915,\tTrain_acc: 0.22658698,\tTest mse: 0.05205907,\tTime: 23.27481627s\n"
     ]
    },
    {
     "name": "stderr",
     "output_type": "stream",
     "text": [
      "Training:  52%|█████▎    | 105/200 [40:34<36:41, 23.18s/Epochs]"
     ]
    },
    {
     "name": "stdout",
     "output_type": "stream",
     "text": [
      "Epoch: 0104,\tTrain mse: 0.05075391,\tTrain_RMSE: 0.22521958,\tTrain_acc: 0.22522885,\tTest mse: 0.04905634,\tTime: 23.14794135s\n"
     ]
    },
    {
     "name": "stderr",
     "output_type": "stream",
     "text": [
      "Training:  53%|█████▎    | 106/200 [40:57<36:19, 23.19s/Epochs]"
     ]
    },
    {
     "name": "stdout",
     "output_type": "stream",
     "text": [
      "Epoch: 0105,\tTrain mse: 0.04878163,\tTrain_RMSE: 0.22080262,\tTrain_acc: 0.22081161,\tTest mse: 0.04791028,\tTime: 23.22057891s\n"
     ]
    },
    {
     "name": "stderr",
     "output_type": "stream",
     "text": [
      "Training:  54%|█████▎    | 107/200 [41:21<35:56, 23.19s/Epochs]"
     ]
    },
    {
     "name": "stdout",
     "output_type": "stream",
     "text": [
      "Epoch: 0106,\tTrain mse: 0.04859537,\tTrain_RMSE: 0.22039722,\tTrain_acc: 0.22040588,\tTest mse: 0.04756011,\tTime: 23.18444943s\n"
     ]
    },
    {
     "name": "stderr",
     "output_type": "stream",
     "text": [
      "Training:  54%|█████▍    | 108/200 [41:44<35:31, 23.17s/Epochs]"
     ]
    },
    {
     "name": "stdout",
     "output_type": "stream",
     "text": [
      "Epoch: 0107,\tTrain mse: 0.04847304,\tTrain_RMSE: 0.22012301,\tTrain_acc: 0.22013137,\tTest mse: 0.04764576,\tTime: 23.12409520s\n"
     ]
    },
    {
     "name": "stderr",
     "output_type": "stream",
     "text": [
      "Training:  55%|█████▍    | 109/200 [42:07<35:07, 23.15s/Epochs]"
     ]
    },
    {
     "name": "stdout",
     "output_type": "stream",
     "text": [
      "Epoch: 0108,\tTrain mse: 0.04953166,\tTrain_RMSE: 0.22252285,\tTrain_acc: 0.22253102,\tTest mse: 0.04773424,\tTime: 23.11574101s\n"
     ]
    },
    {
     "name": "stderr",
     "output_type": "stream",
     "text": [
      "Training:  55%|█████▌    | 110/200 [42:30<34:50, 23.22s/Epochs]"
     ]
    },
    {
     "name": "stdout",
     "output_type": "stream",
     "text": [
      "Epoch: 0109,\tTrain mse: 0.04844088,\tTrain_RMSE: 0.22003046,\tTrain_acc: 0.22003798,\tTest mse: 0.04659337,\tTime: 23.38087487s\n"
     ]
    },
    {
     "name": "stderr",
     "output_type": "stream",
     "text": [
      "Training:  56%|█████▌    | 111/200 [42:53<34:26, 23.22s/Epochs]"
     ]
    },
    {
     "name": "stdout",
     "output_type": "stream",
     "text": [
      "Epoch: 0110,\tTrain mse: 0.04748516,\tTrain_RMSE: 0.21786462,\tTrain_acc: 0.21787208,\tTest mse: 0.04606289,\tTime: 23.21422887s\n"
     ]
    },
    {
     "name": "stderr",
     "output_type": "stream",
     "text": [
      "Training:  56%|█████▌    | 112/200 [43:17<34:02, 23.22s/Epochs]"
     ]
    },
    {
     "name": "stdout",
     "output_type": "stream",
     "text": [
      "Epoch: 0111,\tTrain mse: 0.04812052,\tTrain_RMSE: 0.21933377,\tTrain_acc: 0.21934076,\tTest mse: 0.04647894,\tTime: 23.19993401s\n"
     ]
    },
    {
     "name": "stderr",
     "output_type": "stream",
     "text": [
      "Training:  56%|█████▋    | 113/200 [43:40<33:42, 23.24s/Epochs]"
     ]
    },
    {
     "name": "stdout",
     "output_type": "stream",
     "text": [
      "Epoch: 0112,\tTrain mse: 0.04804350,\tTrain_RMSE: 0.21914354,\tTrain_acc: 0.21915087,\tTest mse: 0.04689756,\tTime: 23.30644441s\n"
     ]
    },
    {
     "name": "stderr",
     "output_type": "stream",
     "text": [
      "Training:  57%|█████▋    | 114/200 [44:03<33:21, 23.28s/Epochs]"
     ]
    },
    {
     "name": "stdout",
     "output_type": "stream",
     "text": [
      "Epoch: 0113,\tTrain mse: 0.04848072,\tTrain_RMSE: 0.22014158,\tTrain_acc: 0.22014911,\tTest mse: 0.04679694,\tTime: 23.35114932s\n"
     ]
    },
    {
     "name": "stderr",
     "output_type": "stream",
     "text": [
      "Training:  57%|█████▊    | 115/200 [44:27<32:57, 23.26s/Epochs]"
     ]
    },
    {
     "name": "stdout",
     "output_type": "stream",
     "text": [
      "Epoch: 0114,\tTrain mse: 0.04847918,\tTrain_RMSE: 0.22014124,\tTrain_acc: 0.22014834,\tTest mse: 0.04711830,\tTime: 23.22031713s\n",
      "Epoch   115: reducing learning rate of group 0 to 1.2500e-04.\n"
     ]
    },
    {
     "name": "stderr",
     "output_type": "stream",
     "text": [
      "Training:  58%|█████▊    | 116/200 [44:50<32:35, 23.28s/Epochs]"
     ]
    },
    {
     "name": "stdout",
     "output_type": "stream",
     "text": [
      "Epoch: 0115,\tTrain mse: 0.04778008,\tTrain_RMSE: 0.21853951,\tTrain_acc: 0.21854848,\tTest mse: 0.04744364,\tTime: 23.32159233s\n"
     ]
    },
    {
     "name": "stderr",
     "output_type": "stream",
     "text": [
      "Training:  58%|█████▊    | 117/200 [45:13<32:14, 23.31s/Epochs]"
     ]
    },
    {
     "name": "stdout",
     "output_type": "stream",
     "text": [
      "Epoch: 0116,\tTrain mse: 0.04757784,\tTrain_RMSE: 0.21808510,\tTrain_acc: 0.21809307,\tTest mse: 0.04686021,\tTime: 23.37114573s\n"
     ]
    },
    {
     "name": "stderr",
     "output_type": "stream",
     "text": [
      "Training:  59%|█████▉    | 118/200 [45:37<31:54, 23.35s/Epochs]"
     ]
    },
    {
     "name": "stdout",
     "output_type": "stream",
     "text": [
      "Epoch: 0117,\tTrain mse: 0.04735485,\tTrain_RMSE: 0.21757221,\tTrain_acc: 0.21758041,\tTest mse: 0.04700622,\tTime: 23.45527744s\n"
     ]
    },
    {
     "name": "stderr",
     "output_type": "stream",
     "text": [
      "Training:  60%|█████▉    | 119/200 [46:00<31:31, 23.35s/Epochs]"
     ]
    },
    {
     "name": "stdout",
     "output_type": "stream",
     "text": [
      "Epoch: 0118,\tTrain mse: 0.04763709,\tTrain_RMSE: 0.21821936,\tTrain_acc: 0.21822758,\tTest mse: 0.04737649,\tTime: 23.34934974s\n",
      "Epoch   119: reducing learning rate of group 0 to 6.2500e-05.\n"
     ]
    },
    {
     "name": "stderr",
     "output_type": "stream",
     "text": [
      "Training:  60%|██████    | 120/200 [46:23<31:07, 23.34s/Epochs]"
     ]
    },
    {
     "name": "stdout",
     "output_type": "stream",
     "text": [
      "Epoch: 0119,\tTrain mse: 0.04777562,\tTrain_RMSE: 0.21853452,\tTrain_acc: 0.21854283,\tTest mse: 0.04729932,\tTime: 23.32488108s\n"
     ]
    },
    {
     "name": "stderr",
     "output_type": "stream",
     "text": [
      "Training:  60%|██████    | 121/200 [46:47<30:47, 23.38s/Epochs]"
     ]
    },
    {
     "name": "stdout",
     "output_type": "stream",
     "text": [
      "Epoch: 0120,\tTrain mse: 0.04785173,\tTrain_RMSE: 0.21870965,\tTrain_acc: 0.21871789,\tTest mse: 0.04740103,\tTime: 23.47214866s\n"
     ]
    },
    {
     "name": "stderr",
     "output_type": "stream",
     "text": [
      "Training:  61%|██████    | 122/200 [47:10<30:28, 23.45s/Epochs]"
     ]
    },
    {
     "name": "stdout",
     "output_type": "stream",
     "text": [
      "Epoch: 0121,\tTrain mse: 0.04788260,\tTrain_RMSE: 0.21877290,\tTrain_acc: 0.21878135,\tTest mse: 0.04754281,\tTime: 23.59660244s\n"
     ]
    },
    {
     "name": "stderr",
     "output_type": "stream",
     "text": [
      "Training:  62%|██████▏   | 123/200 [47:34<30:05, 23.44s/Epochs]"
     ]
    },
    {
     "name": "stdout",
     "output_type": "stream",
     "text": [
      "Epoch: 0122,\tTrain mse: 0.04806001,\tTrain_RMSE: 0.21917984,\tTrain_acc: 0.21918823,\tTest mse: 0.04759083,\tTime: 23.43141913s\n",
      "Epoch   123: reducing learning rate of group 0 to 3.1250e-05.\n"
     ]
    },
    {
     "name": "stderr",
     "output_type": "stream",
     "text": [
      "Training:  62%|██████▏   | 124/200 [47:57<29:39, 23.42s/Epochs]"
     ]
    },
    {
     "name": "stdout",
     "output_type": "stream",
     "text": [
      "Epoch: 0123,\tTrain mse: 0.04809327,\tTrain_RMSE: 0.21925652,\tTrain_acc: 0.21926489,\tTest mse: 0.04780133,\tTime: 23.35953355s\n"
     ]
    },
    {
     "name": "stderr",
     "output_type": "stream",
     "text": [
      "Training:  62%|██████▎   | 125/200 [48:21<29:15, 23.41s/Epochs]"
     ]
    },
    {
     "name": "stdout",
     "output_type": "stream",
     "text": [
      "Epoch: 0124,\tTrain mse: 0.04808492,\tTrain_RMSE: 0.21923818,\tTrain_acc: 0.21924657,\tTest mse: 0.04769580,\tTime: 23.37853479s\n"
     ]
    },
    {
     "name": "stderr",
     "output_type": "stream",
     "text": [
      "Training:  63%|██████▎   | 126/200 [48:44<28:50, 23.38s/Epochs]"
     ]
    },
    {
     "name": "stdout",
     "output_type": "stream",
     "text": [
      "Epoch: 0125,\tTrain mse: 0.04813197,\tTrain_RMSE: 0.21934651,\tTrain_acc: 0.21935484,\tTest mse: 0.04779636,\tTime: 23.32176709s\n"
     ]
    },
    {
     "name": "stderr",
     "output_type": "stream",
     "text": [
      "Training:  64%|██████▎   | 127/200 [49:07<28:22, 23.33s/Epochs]"
     ]
    },
    {
     "name": "stdout",
     "output_type": "stream",
     "text": [
      "Epoch: 0126,\tTrain mse: 0.04827372,\tTrain_RMSE: 0.21967110,\tTrain_acc: 0.21967933,\tTest mse: 0.04788192,\tTime: 23.19266486s\n",
      "Epoch   127: reducing learning rate of group 0 to 1.5625e-05.\n"
     ]
    },
    {
     "name": "stderr",
     "output_type": "stream",
     "text": [
      "Training:  64%|██████▍   | 128/200 [49:31<28:03, 23.38s/Epochs]"
     ]
    },
    {
     "name": "stdout",
     "output_type": "stream",
     "text": [
      "Epoch: 0127,\tTrain mse: 0.04830244,\tTrain_RMSE: 0.21973234,\tTrain_acc: 0.21974066,\tTest mse: 0.04788706,\tTime: 23.52034879s\n"
     ]
    },
    {
     "name": "stderr",
     "output_type": "stream",
     "text": [
      "Training:  64%|██████▍   | 129/200 [49:54<27:38, 23.36s/Epochs]"
     ]
    },
    {
     "name": "stdout",
     "output_type": "stream",
     "text": [
      "Epoch: 0128,\tTrain mse: 0.04824906,\tTrain_RMSE: 0.21961375,\tTrain_acc: 0.21962203,\tTest mse: 0.04778533,\tTime: 23.31389570s\n"
     ]
    },
    {
     "name": "stderr",
     "output_type": "stream",
     "text": [
      "Training:  65%|██████▌   | 130/200 [50:17<27:13, 23.33s/Epochs]"
     ]
    },
    {
     "name": "stdout",
     "output_type": "stream",
     "text": [
      "Epoch: 0129,\tTrain mse: 0.04819493,\tTrain_RMSE: 0.21949150,\tTrain_acc: 0.21949977,\tTest mse: 0.04794097,\tTime: 23.24774575s\n"
     ]
    },
    {
     "name": "stderr",
     "output_type": "stream",
     "text": [
      "Training:  66%|██████▌   | 131/200 [50:40<26:48, 23.31s/Epochs]"
     ]
    },
    {
     "name": "stdout",
     "output_type": "stream",
     "text": [
      "Epoch: 0130,\tTrain mse: 0.04822639,\tTrain_RMSE: 0.21956259,\tTrain_acc: 0.21957089,\tTest mse: 0.04784961,\tTime: 23.26806402s\n",
      "Epoch   131: reducing learning rate of group 0 to 7.8125e-06.\n"
     ]
    },
    {
     "name": "stderr",
     "output_type": "stream",
     "text": [
      "Training:  66%|██████▌   | 132/200 [51:04<26:24, 23.29s/Epochs]"
     ]
    },
    {
     "name": "stdout",
     "output_type": "stream",
     "text": [
      "Epoch: 0131,\tTrain mse: 0.04822316,\tTrain_RMSE: 0.21955454,\tTrain_acc: 0.21956284,\tTest mse: 0.04784643,\tTime: 23.25229597s\n"
     ]
    },
    {
     "name": "stderr",
     "output_type": "stream",
     "text": [
      "Training:  66%|██████▋   | 133/200 [51:27<26:01, 23.31s/Epochs]"
     ]
    },
    {
     "name": "stdout",
     "output_type": "stream",
     "text": [
      "Epoch: 0132,\tTrain mse: 0.04820950,\tTrain_RMSE: 0.21952548,\tTrain_acc: 0.21953374,\tTest mse: 0.04782614,\tTime: 23.35006428s\n"
     ]
    },
    {
     "name": "stderr",
     "output_type": "stream",
     "text": [
      "Training:  67%|██████▋   | 134/200 [51:51<25:42, 23.36s/Epochs]"
     ]
    },
    {
     "name": "stdout",
     "output_type": "stream",
     "text": [
      "Epoch: 0133,\tTrain mse: 0.04821138,\tTrain_RMSE: 0.21952884,\tTrain_acc: 0.21953714,\tTest mse: 0.04779868,\tTime: 23.48482037s\n"
     ]
    },
    {
     "name": "stderr",
     "output_type": "stream",
     "text": [
      "Training:  68%|██████▊   | 135/200 [52:14<25:18, 23.37s/Epochs]"
     ]
    },
    {
     "name": "stdout",
     "output_type": "stream",
     "text": [
      "Epoch: 0134,\tTrain mse: 0.04821518,\tTrain_RMSE: 0.21953654,\tTrain_acc: 0.21954489,\tTest mse: 0.04776945,\tTime: 23.37851000s\n",
      "Epoch   135: reducing learning rate of group 0 to 3.9063e-06.\n"
     ]
    },
    {
     "name": "stderr",
     "output_type": "stream",
     "text": [
      "Training:  68%|██████▊   | 136/200 [52:37<24:57, 23.40s/Epochs]"
     ]
    },
    {
     "name": "stdout",
     "output_type": "stream",
     "text": [
      "Epoch: 0135,\tTrain mse: 0.04822463,\tTrain_RMSE: 0.21955766,\tTrain_acc: 0.21956600,\tTest mse: 0.04778103,\tTime: 23.47154021s\n"
     ]
    },
    {
     "name": "stderr",
     "output_type": "stream",
     "text": [
      "Training:  68%|██████▊   | 137/200 [53:01<24:31, 23.35s/Epochs]"
     ]
    },
    {
     "name": "stdout",
     "output_type": "stream",
     "text": [
      "Epoch: 0136,\tTrain mse: 0.04821775,\tTrain_RMSE: 0.21954192,\tTrain_acc: 0.21955022,\tTest mse: 0.04779934,\tTime: 23.24086642s\n"
     ]
    },
    {
     "name": "stderr",
     "output_type": "stream",
     "text": [
      "Training:  69%|██████▉   | 138/200 [53:24<24:04, 23.29s/Epochs]"
     ]
    },
    {
     "name": "stdout",
     "output_type": "stream",
     "text": [
      "Epoch: 0137,\tTrain mse: 0.04821825,\tTrain_RMSE: 0.21954113,\tTrain_acc: 0.21954949,\tTest mse: 0.04778043,\tTime: 23.14432549s\n"
     ]
    },
    {
     "name": "stderr",
     "output_type": "stream",
     "text": [
      "Training:  70%|██████▉   | 139/200 [53:47<23:38, 23.25s/Epochs]"
     ]
    },
    {
     "name": "stdout",
     "output_type": "stream",
     "text": [
      "Epoch: 0138,\tTrain mse: 0.04822252,\tTrain_RMSE: 0.21955168,\tTrain_acc: 0.21956003,\tTest mse: 0.04775640,\tTime: 23.16653275s\n",
      "Epoch   139: reducing learning rate of group 0 to 1.9531e-06.\n"
     ]
    },
    {
     "name": "stderr",
     "output_type": "stream",
     "text": [
      "Training:  70%|███████   | 140/200 [54:10<23:16, 23.27s/Epochs]"
     ]
    },
    {
     "name": "stdout",
     "output_type": "stream",
     "text": [
      "Epoch: 0139,\tTrain mse: 0.04823293,\tTrain_RMSE: 0.21957597,\tTrain_acc: 0.21958430,\tTest mse: 0.04779510,\tTime: 23.31109262s\n"
     ]
    },
    {
     "name": "stderr",
     "output_type": "stream",
     "text": [
      "Training:  70%|███████   | 141/200 [54:34<22:52, 23.26s/Epochs]"
     ]
    },
    {
     "name": "stdout",
     "output_type": "stream",
     "text": [
      "Epoch: 0140,\tTrain mse: 0.04822743,\tTrain_RMSE: 0.21956351,\tTrain_acc: 0.21957184,\tTest mse: 0.04777965,\tTime: 23.22017741s\n"
     ]
    },
    {
     "name": "stderr",
     "output_type": "stream",
     "text": [
      "Training:  71%|███████   | 142/200 [54:57<22:26, 23.21s/Epochs]"
     ]
    },
    {
     "name": "stdout",
     "output_type": "stream",
     "text": [
      "Epoch: 0141,\tTrain mse: 0.04823286,\tTrain_RMSE: 0.21957567,\tTrain_acc: 0.21958402,\tTest mse: 0.04777022,\tTime: 23.09817624s\n"
     ]
    },
    {
     "name": "stderr",
     "output_type": "stream",
     "text": [
      "Training:  72%|███████▏  | 143/200 [55:20<22:06, 23.27s/Epochs]"
     ]
    },
    {
     "name": "stdout",
     "output_type": "stream",
     "text": [
      "Epoch: 0142,\tTrain mse: 0.04822504,\tTrain_RMSE: 0.21955902,\tTrain_acc: 0.21956737,\tTest mse: 0.04772229,\tTime: 23.41395760s\n",
      "Epoch   143: reducing learning rate of group 0 to 9.7656e-07.\n"
     ]
    },
    {
     "name": "stderr",
     "output_type": "stream",
     "text": [
      "Training:  72%|███████▏  | 144/200 [55:43<21:40, 23.22s/Epochs]"
     ]
    },
    {
     "name": "stdout",
     "output_type": "stream",
     "text": [
      "Epoch: 0143,\tTrain mse: 0.04823304,\tTrain_RMSE: 0.21957560,\tTrain_acc: 0.21958396,\tTest mse: 0.04775583,\tTime: 23.08913636s\n"
     ]
    },
    {
     "name": "stderr",
     "output_type": "stream",
     "text": [
      "Training:  72%|███████▎  | 145/200 [56:06<21:17, 23.23s/Epochs]"
     ]
    },
    {
     "name": "stdout",
     "output_type": "stream",
     "text": [
      "Epoch: 0144,\tTrain mse: 0.04823454,\tTrain_RMSE: 0.21957937,\tTrain_acc: 0.21958773,\tTest mse: 0.04779825,\tTime: 23.24219584s\n"
     ]
    },
    {
     "name": "stderr",
     "output_type": "stream",
     "text": [
      "Training:  73%|███████▎  | 146/200 [56:29<20:52, 23.19s/Epochs]"
     ]
    },
    {
     "name": "stdout",
     "output_type": "stream",
     "text": [
      "Epoch: 0145,\tTrain mse: 0.04823327,\tTrain_RMSE: 0.21957649,\tTrain_acc: 0.21958485,\tTest mse: 0.04782590,\tTime: 23.11789155s\n"
     ]
    },
    {
     "name": "stderr",
     "output_type": "stream",
     "text": [
      "Training:  74%|███████▎  | 147/200 [56:53<20:27, 23.15s/Epochs]"
     ]
    },
    {
     "name": "stdout",
     "output_type": "stream",
     "text": [
      "Epoch: 0146,\tTrain mse: 0.04823021,\tTrain_RMSE: 0.21956943,\tTrain_acc: 0.21957779,\tTest mse: 0.04780511,\tTime: 23.05104256s\n",
      "Epoch   147: reducing learning rate of group 0 to 4.8828e-07.\n"
     ]
    },
    {
     "name": "stderr",
     "output_type": "stream",
     "text": [
      "Training:  74%|███████▍  | 148/200 [57:15<20:00, 23.08s/Epochs]"
     ]
    },
    {
     "name": "stdout",
     "output_type": "stream",
     "text": [
      "Epoch: 0147,\tTrain mse: 0.04823239,\tTrain_RMSE: 0.21957390,\tTrain_acc: 0.21958226,\tTest mse: 0.04779245,\tTime: 22.90256691s\n"
     ]
    },
    {
     "name": "stderr",
     "output_type": "stream",
     "text": [
      "Training:  74%|███████▍  | 149/200 [57:38<19:34, 23.03s/Epochs]"
     ]
    },
    {
     "name": "stdout",
     "output_type": "stream",
     "text": [
      "Epoch: 0148,\tTrain mse: 0.04821764,\tTrain_RMSE: 0.21954161,\tTrain_acc: 0.21954995,\tTest mse: 0.04779768,\tTime: 22.93074846s\n"
     ]
    },
    {
     "name": "stderr",
     "output_type": "stream",
     "text": [
      "Training:  75%|███████▌  | 150/200 [58:01<19:09, 22.99s/Epochs]"
     ]
    },
    {
     "name": "stdout",
     "output_type": "stream",
     "text": [
      "Epoch: 0149,\tTrain mse: 0.04822253,\tTrain_RMSE: 0.21955182,\tTrain_acc: 0.21956021,\tTest mse: 0.04777992,\tTime: 22.88319278s\n"
     ]
    },
    {
     "name": "stderr",
     "output_type": "stream",
     "text": [
      "Training:  76%|███████▌  | 151/200 [58:24<18:46, 22.99s/Epochs]"
     ]
    },
    {
     "name": "stdout",
     "output_type": "stream",
     "text": [
      "Epoch: 0150,\tTrain mse: 0.04822884,\tTrain_RMSE: 0.21956559,\tTrain_acc: 0.21957399,\tTest mse: 0.04779302,\tTime: 22.99539018s\n",
      "Epoch   151: reducing learning rate of group 0 to 2.4414e-07.\n"
     ]
    },
    {
     "name": "stderr",
     "output_type": "stream",
     "text": [
      "Training:  76%|███████▌  | 152/200 [58:47<18:23, 22.98s/Epochs]"
     ]
    },
    {
     "name": "stdout",
     "output_type": "stream",
     "text": [
      "Epoch: 0151,\tTrain mse: 0.04822382,\tTrain_RMSE: 0.21955432,\tTrain_acc: 0.21956269,\tTest mse: 0.04781194,\tTime: 22.96760321s\n"
     ]
    },
    {
     "name": "stderr",
     "output_type": "stream",
     "text": [
      "Training:  76%|███████▋  | 153/200 [59:10<18:01, 23.00s/Epochs]"
     ]
    },
    {
     "name": "stdout",
     "output_type": "stream",
     "text": [
      "Epoch: 0152,\tTrain mse: 0.04822153,\tTrain_RMSE: 0.21954887,\tTrain_acc: 0.21955726,\tTest mse: 0.04782875,\tTime: 23.04885554s\n"
     ]
    },
    {
     "name": "stderr",
     "output_type": "stream",
     "text": [
      "Training:  77%|███████▋  | 154/200 [59:33<17:37, 22.99s/Epochs]"
     ]
    },
    {
     "name": "stdout",
     "output_type": "stream",
     "text": [
      "Epoch: 0153,\tTrain mse: 0.04822575,\tTrain_RMSE: 0.21955856,\tTrain_acc: 0.21956694,\tTest mse: 0.04781629,\tTime: 22.97105241s\n"
     ]
    },
    {
     "name": "stderr",
     "output_type": "stream",
     "text": [
      "Training:  78%|███████▊  | 155/200 [59:57<17:21, 23.15s/Epochs]"
     ]
    },
    {
     "name": "stdout",
     "output_type": "stream",
     "text": [
      "Epoch: 0154,\tTrain mse: 0.04822322,\tTrain_RMSE: 0.21955271,\tTrain_acc: 0.21956111,\tTest mse: 0.04780646,\tTime: 23.52507830s\n",
      "Epoch   155: reducing learning rate of group 0 to 1.2207e-07.\n"
     ]
    },
    {
     "name": "stderr",
     "output_type": "stream",
     "text": [
      "Training:  78%|███████▊  | 156/200 [1:00:20<16:56, 23.10s/Epochs]"
     ]
    },
    {
     "name": "stdout",
     "output_type": "stream",
     "text": [
      "Epoch: 0155,\tTrain mse: 0.04821844,\tTrain_RMSE: 0.21954184,\tTrain_acc: 0.21955025,\tTest mse: 0.04780323,\tTime: 22.98094606s\n"
     ]
    },
    {
     "name": "stderr",
     "output_type": "stream",
     "text": [
      "Training:  78%|███████▊  | 157/200 [1:00:43<16:36, 23.17s/Epochs]"
     ]
    },
    {
     "name": "stdout",
     "output_type": "stream",
     "text": [
      "Epoch: 0156,\tTrain mse: 0.04822018,\tTrain_RMSE: 0.21954581,\tTrain_acc: 0.21955422,\tTest mse: 0.04781288,\tTime: 23.32424998s\n"
     ]
    },
    {
     "name": "stderr",
     "output_type": "stream",
     "text": [
      "Training:  79%|███████▉  | 158/200 [1:01:07<16:18, 23.31s/Epochs]"
     ]
    },
    {
     "name": "stdout",
     "output_type": "stream",
     "text": [
      "Epoch: 0157,\tTrain mse: 0.04820765,\tTrain_RMSE: 0.21951832,\tTrain_acc: 0.21952668,\tTest mse: 0.04780653,\tTime: 23.62432194s\n"
     ]
    },
    {
     "name": "stderr",
     "output_type": "stream",
     "text": [
      "Training:  80%|███████▉  | 159/200 [1:01:30<15:57, 23.36s/Epochs]"
     ]
    },
    {
     "name": "stdout",
     "output_type": "stream",
     "text": [
      "Epoch: 0158,\tTrain mse: 0.04820690,\tTrain_RMSE: 0.21951669,\tTrain_acc: 0.21952507,\tTest mse: 0.04781811,\tTime: 23.49753833s\n",
      "Epoch   159: reducing learning rate of group 0 to 1.0000e-07.\n"
     ]
    },
    {
     "name": "stderr",
     "output_type": "stream",
     "text": [
      "Training:  80%|████████  | 160/200 [1:01:54<15:35, 23.39s/Epochs]"
     ]
    },
    {
     "name": "stdout",
     "output_type": "stream",
     "text": [
      "Epoch: 0159,\tTrain mse: 0.04821523,\tTrain_RMSE: 0.21953491,\tTrain_acc: 0.21954329,\tTest mse: 0.04781792,\tTime: 23.45707321s\n"
     ]
    },
    {
     "name": "stderr",
     "output_type": "stream",
     "text": [
      "Training:  80%|████████  | 161/200 [1:02:17<15:15, 23.48s/Epochs]"
     ]
    },
    {
     "name": "stdout",
     "output_type": "stream",
     "text": [
      "Epoch: 0160,\tTrain mse: 0.04820638,\tTrain_RMSE: 0.21951558,\tTrain_acc: 0.21952395,\tTest mse: 0.04780870,\tTime: 23.67700911s\n"
     ]
    },
    {
     "name": "stderr",
     "output_type": "stream",
     "text": [
      "Training:  81%|████████  | 162/200 [1:02:41<14:51, 23.47s/Epochs]"
     ]
    },
    {
     "name": "stdout",
     "output_type": "stream",
     "text": [
      "Epoch: 0161,\tTrain mse: 0.04820333,\tTrain_RMSE: 0.21950874,\tTrain_acc: 0.21951711,\tTest mse: 0.04781567,\tTime: 23.44636059s\n"
     ]
    },
    {
     "name": "stderr",
     "output_type": "stream",
     "text": [
      "Training:  82%|████████▏ | 163/200 [1:03:04<14:25, 23.38s/Epochs]"
     ]
    },
    {
     "name": "stdout",
     "output_type": "stream",
     "text": [
      "Epoch: 0162,\tTrain mse: 0.04821535,\tTrain_RMSE: 0.21953489,\tTrain_acc: 0.21954328,\tTest mse: 0.04780133,\tTime: 23.16863704s\n"
     ]
    },
    {
     "name": "stderr",
     "output_type": "stream",
     "text": [
      "Training:  82%|████████▏ | 164/200 [1:03:27<13:59, 23.32s/Epochs]"
     ]
    },
    {
     "name": "stdout",
     "output_type": "stream",
     "text": [
      "Epoch: 0163,\tTrain mse: 0.04822259,\tTrain_RMSE: 0.21955056,\tTrain_acc: 0.21955895,\tTest mse: 0.04781458,\tTime: 23.19005942s\n"
     ]
    },
    {
     "name": "stderr",
     "output_type": "stream",
     "text": [
      "Training:  82%|████████▎ | 165/200 [1:03:50<13:34, 23.27s/Epochs]"
     ]
    },
    {
     "name": "stdout",
     "output_type": "stream",
     "text": [
      "Epoch: 0164,\tTrain mse: 0.04821223,\tTrain_RMSE: 0.21952825,\tTrain_acc: 0.21953662,\tTest mse: 0.04781744,\tTime: 23.15317178s\n"
     ]
    },
    {
     "name": "stderr",
     "output_type": "stream",
     "text": [
      "Training:  83%|████████▎ | 166/200 [1:04:14<13:11, 23.28s/Epochs]"
     ]
    },
    {
     "name": "stdout",
     "output_type": "stream",
     "text": [
      "Epoch: 0165,\tTrain mse: 0.04821498,\tTrain_RMSE: 0.21953453,\tTrain_acc: 0.21954292,\tTest mse: 0.04780822,\tTime: 23.28912377s\n"
     ]
    },
    {
     "name": "stderr",
     "output_type": "stream",
     "text": [
      "Training:  84%|████████▎ | 167/200 [1:04:37<12:46, 23.23s/Epochs]"
     ]
    },
    {
     "name": "stdout",
     "output_type": "stream",
     "text": [
      "Epoch: 0166,\tTrain mse: 0.04822100,\tTrain_RMSE: 0.21954840,\tTrain_acc: 0.21955676,\tTest mse: 0.04781036,\tTime: 23.10421515s\n"
     ]
    },
    {
     "name": "stderr",
     "output_type": "stream",
     "text": [
      "Training:  84%|████████▍ | 168/200 [1:05:00<12:22, 23.19s/Epochs]"
     ]
    },
    {
     "name": "stdout",
     "output_type": "stream",
     "text": [
      "Epoch: 0167,\tTrain mse: 0.04821995,\tTrain_RMSE: 0.21954574,\tTrain_acc: 0.21955413,\tTest mse: 0.04778908,\tTime: 23.10936975s\n"
     ]
    },
    {
     "name": "stderr",
     "output_type": "stream",
     "text": [
      "Training:  84%|████████▍ | 169/200 [1:05:23<11:59, 23.21s/Epochs]"
     ]
    },
    {
     "name": "stdout",
     "output_type": "stream",
     "text": [
      "Epoch: 0168,\tTrain mse: 0.04822343,\tTrain_RMSE: 0.21955379,\tTrain_acc: 0.21956214,\tTest mse: 0.04779361,\tTime: 23.25763798s\n"
     ]
    },
    {
     "name": "stderr",
     "output_type": "stream",
     "text": [
      "Training:  85%|████████▌ | 170/200 [1:05:46<11:37, 23.24s/Epochs]"
     ]
    },
    {
     "name": "stdout",
     "output_type": "stream",
     "text": [
      "Epoch: 0169,\tTrain mse: 0.04821571,\tTrain_RMSE: 0.21953626,\tTrain_acc: 0.21954462,\tTest mse: 0.04779205,\tTime: 23.31598878s\n"
     ]
    },
    {
     "name": "stderr",
     "output_type": "stream",
     "text": [
      "Training:  86%|████████▌ | 171/200 [1:06:10<11:14, 23.27s/Epochs]"
     ]
    },
    {
     "name": "stdout",
     "output_type": "stream",
     "text": [
      "Epoch: 0170,\tTrain mse: 0.04821691,\tTrain_RMSE: 0.21953893,\tTrain_acc: 0.21954732,\tTest mse: 0.04778879,\tTime: 23.34326053s\n"
     ]
    },
    {
     "name": "stderr",
     "output_type": "stream",
     "text": [
      "Training:  86%|████████▌ | 172/200 [1:06:33<10:52, 23.29s/Epochs]"
     ]
    },
    {
     "name": "stdout",
     "output_type": "stream",
     "text": [
      "Epoch: 0171,\tTrain mse: 0.04821694,\tTrain_RMSE: 0.21953902,\tTrain_acc: 0.21954741,\tTest mse: 0.04779028,\tTime: 23.32758021s\n"
     ]
    },
    {
     "name": "stderr",
     "output_type": "stream",
     "text": [
      "Training:  86%|████████▋ | 173/200 [1:06:56<10:26, 23.19s/Epochs]"
     ]
    },
    {
     "name": "stdout",
     "output_type": "stream",
     "text": [
      "Epoch: 0172,\tTrain mse: 0.04821735,\tTrain_RMSE: 0.21953996,\tTrain_acc: 0.21954831,\tTest mse: 0.04780863,\tTime: 22.96961522s\n"
     ]
    },
    {
     "name": "stderr",
     "output_type": "stream",
     "text": [
      "Training:  87%|████████▋ | 174/200 [1:07:19<10:03, 23.20s/Epochs]"
     ]
    },
    {
     "name": "stdout",
     "output_type": "stream",
     "text": [
      "Epoch: 0173,\tTrain mse: 0.04821060,\tTrain_RMSE: 0.21952550,\tTrain_acc: 0.21953385,\tTest mse: 0.04779121,\tTime: 23.21012568s\n"
     ]
    },
    {
     "name": "stderr",
     "output_type": "stream",
     "text": [
      "Training:  88%|████████▊ | 175/200 [1:07:42<09:39, 23.16s/Epochs]"
     ]
    },
    {
     "name": "stdout",
     "output_type": "stream",
     "text": [
      "Epoch: 0174,\tTrain mse: 0.04820937,\tTrain_RMSE: 0.21952260,\tTrain_acc: 0.21953094,\tTest mse: 0.04778568,\tTime: 23.07903790s\n"
     ]
    },
    {
     "name": "stderr",
     "output_type": "stream",
     "text": [
      "Training:  88%|████████▊ | 176/200 [1:08:06<09:16, 23.18s/Epochs]"
     ]
    },
    {
     "name": "stdout",
     "output_type": "stream",
     "text": [
      "Epoch: 0175,\tTrain mse: 0.04819848,\tTrain_RMSE: 0.21949763,\tTrain_acc: 0.21950598,\tTest mse: 0.04780908,\tTime: 23.22504926s\n"
     ]
    },
    {
     "name": "stderr",
     "output_type": "stream",
     "text": [
      "Training:  88%|████████▊ | 177/200 [1:08:29<08:51, 23.12s/Epochs]"
     ]
    },
    {
     "name": "stdout",
     "output_type": "stream",
     "text": [
      "Epoch: 0176,\tTrain mse: 0.04821608,\tTrain_RMSE: 0.21953710,\tTrain_acc: 0.21954545,\tTest mse: 0.04779001,\tTime: 22.98545766s\n"
     ]
    },
    {
     "name": "stderr",
     "output_type": "stream",
     "text": [
      "Training:  89%|████████▉ | 178/200 [1:08:52<08:27, 23.07s/Epochs]"
     ]
    },
    {
     "name": "stdout",
     "output_type": "stream",
     "text": [
      "Epoch: 0177,\tTrain mse: 0.04821785,\tTrain_RMSE: 0.21954115,\tTrain_acc: 0.21954951,\tTest mse: 0.04777701,\tTime: 22.95024085s\n"
     ]
    },
    {
     "name": "stderr",
     "output_type": "stream",
     "text": [
      "Training:  90%|████████▉ | 179/200 [1:09:15<08:04, 23.05s/Epochs]"
     ]
    },
    {
     "name": "stdout",
     "output_type": "stream",
     "text": [
      "Epoch: 0178,\tTrain mse: 0.04821350,\tTrain_RMSE: 0.21953143,\tTrain_acc: 0.21953979,\tTest mse: 0.04778894,\tTime: 23.00989842s\n"
     ]
    },
    {
     "name": "stderr",
     "output_type": "stream",
     "text": [
      "Training:  90%|█████████ | 180/200 [1:09:38<07:42, 23.13s/Epochs]"
     ]
    },
    {
     "name": "stdout",
     "output_type": "stream",
     "text": [
      "Epoch: 0179,\tTrain mse: 0.04821622,\tTrain_RMSE: 0.21953762,\tTrain_acc: 0.21954598,\tTest mse: 0.04778804,\tTime: 23.30670404s\n"
     ]
    },
    {
     "name": "stderr",
     "output_type": "stream",
     "text": [
      "Training:  90%|█████████ | 181/200 [1:10:01<07:22, 23.27s/Epochs]"
     ]
    },
    {
     "name": "stdout",
     "output_type": "stream",
     "text": [
      "Epoch: 0180,\tTrain mse: 0.04821514,\tTrain_RMSE: 0.21953510,\tTrain_acc: 0.21954346,\tTest mse: 0.04777570,\tTime: 23.57796669s\n"
     ]
    },
    {
     "name": "stderr",
     "output_type": "stream",
     "text": [
      "Training:  91%|█████████ | 182/200 [1:10:25<06:58, 23.28s/Epochs]"
     ]
    },
    {
     "name": "stdout",
     "output_type": "stream",
     "text": [
      "Epoch: 0181,\tTrain mse: 0.04821522,\tTrain_RMSE: 0.21953516,\tTrain_acc: 0.21954352,\tTest mse: 0.04777553,\tTime: 23.29695106s\n"
     ]
    },
    {
     "name": "stderr",
     "output_type": "stream",
     "text": [
      "Training:  92%|█████████▏| 183/200 [1:10:48<06:34, 23.22s/Epochs]"
     ]
    },
    {
     "name": "stdout",
     "output_type": "stream",
     "text": [
      "Epoch: 0182,\tTrain mse: 0.04821534,\tTrain_RMSE: 0.21953547,\tTrain_acc: 0.21954383,\tTest mse: 0.04777719,\tTime: 23.07902646s\n"
     ]
    },
    {
     "name": "stderr",
     "output_type": "stream",
     "text": [
      "Training:  92%|█████████▏| 184/200 [1:11:11<06:11, 23.22s/Epochs]"
     ]
    },
    {
     "name": "stdout",
     "output_type": "stream",
     "text": [
      "Epoch: 0183,\tTrain mse: 0.04822353,\tTrain_RMSE: 0.21955284,\tTrain_acc: 0.21956123,\tTest mse: 0.04777719,\tTime: 23.21877575s\n"
     ]
    },
    {
     "name": "stderr",
     "output_type": "stream",
     "text": [
      "Training:  92%|█████████▎| 185/200 [1:11:34<05:48, 23.20s/Epochs]"
     ]
    },
    {
     "name": "stdout",
     "output_type": "stream",
     "text": [
      "Epoch: 0184,\tTrain mse: 0.04822407,\tTrain_RMSE: 0.21955400,\tTrain_acc: 0.21956237,\tTest mse: 0.04779174,\tTime: 23.16057158s\n"
     ]
    },
    {
     "name": "stderr",
     "output_type": "stream",
     "text": [
      "Training:  93%|█████████▎| 186/200 [1:11:57<05:24, 23.21s/Epochs]"
     ]
    },
    {
     "name": "stdout",
     "output_type": "stream",
     "text": [
      "Epoch: 0185,\tTrain mse: 0.04822114,\tTrain_RMSE: 0.21954741,\tTrain_acc: 0.21955578,\tTest mse: 0.04779228,\tTime: 23.23515821s\n"
     ]
    },
    {
     "name": "stderr",
     "output_type": "stream",
     "text": [
      "Training:  94%|█████████▎| 187/200 [1:12:21<05:01, 23.20s/Epochs]"
     ]
    },
    {
     "name": "stdout",
     "output_type": "stream",
     "text": [
      "Epoch: 0186,\tTrain mse: 0.04821107,\tTrain_RMSE: 0.21952671,\tTrain_acc: 0.21953504,\tTest mse: 0.04779869,\tTime: 23.16779017s\n"
     ]
    },
    {
     "name": "stderr",
     "output_type": "stream",
     "text": [
      "Training:  94%|█████████▍| 188/200 [1:12:44<04:38, 23.17s/Epochs]"
     ]
    },
    {
     "name": "stdout",
     "output_type": "stream",
     "text": [
      "Epoch: 0187,\tTrain mse: 0.04822506,\tTrain_RMSE: 0.21955751,\tTrain_acc: 0.21956588,\tTest mse: 0.04779444,\tTime: 23.10654044s\n"
     ]
    },
    {
     "name": "stderr",
     "output_type": "stream",
     "text": [
      "Training:  94%|█████████▍| 189/200 [1:13:07<04:14, 23.18s/Epochs]"
     ]
    },
    {
     "name": "stdout",
     "output_type": "stream",
     "text": [
      "Epoch: 0188,\tTrain mse: 0.04823197,\tTrain_RMSE: 0.21957234,\tTrain_acc: 0.21958071,\tTest mse: 0.04777624,\tTime: 23.19298863s\n"
     ]
    },
    {
     "name": "stderr",
     "output_type": "stream",
     "text": [
      "Training:  95%|█████████▌| 190/200 [1:13:30<03:51, 23.17s/Epochs]"
     ]
    },
    {
     "name": "stdout",
     "output_type": "stream",
     "text": [
      "Epoch: 0189,\tTrain mse: 0.04823330,\tTrain_RMSE: 0.21957497,\tTrain_acc: 0.21958335,\tTest mse: 0.04779288,\tTime: 23.14979386s\n"
     ]
    },
    {
     "name": "stderr",
     "output_type": "stream",
     "text": [
      "Training:  96%|█████████▌| 191/200 [1:13:53<03:28, 23.17s/Epochs]"
     ]
    },
    {
     "name": "stdout",
     "output_type": "stream",
     "text": [
      "Epoch: 0190,\tTrain mse: 0.04823450,\tTrain_RMSE: 0.21957767,\tTrain_acc: 0.21958604,\tTest mse: 0.04777678,\tTime: 23.17752242s\n"
     ]
    },
    {
     "name": "stderr",
     "output_type": "stream",
     "text": [
      "Training:  96%|█████████▌| 192/200 [1:14:16<03:05, 23.18s/Epochs]"
     ]
    },
    {
     "name": "stdout",
     "output_type": "stream",
     "text": [
      "Epoch: 0191,\tTrain mse: 0.04822583,\tTrain_RMSE: 0.21955781,\tTrain_acc: 0.21956620,\tTest mse: 0.04777484,\tTime: 23.17756772s\n"
     ]
    },
    {
     "name": "stderr",
     "output_type": "stream",
     "text": [
      "Training:  96%|█████████▋| 193/200 [1:14:40<02:42, 23.18s/Epochs]"
     ]
    },
    {
     "name": "stdout",
     "output_type": "stream",
     "text": [
      "Epoch: 0192,\tTrain mse: 0.04821723,\tTrain_RMSE: 0.21953950,\tTrain_acc: 0.21954787,\tTest mse: 0.04777474,\tTime: 23.19013238s\n"
     ]
    },
    {
     "name": "stderr",
     "output_type": "stream",
     "text": [
      "Training:  97%|█████████▋| 194/200 [1:15:03<02:19, 23.18s/Epochs]"
     ]
    },
    {
     "name": "stdout",
     "output_type": "stream",
     "text": [
      "Epoch: 0193,\tTrain mse: 0.04822964,\tTrain_RMSE: 0.21956661,\tTrain_acc: 0.21957499,\tTest mse: 0.04779047,\tTime: 23.19399619s\n"
     ]
    },
    {
     "name": "stderr",
     "output_type": "stream",
     "text": [
      "Training:  98%|█████████▊| 195/200 [1:15:26<01:55, 23.18s/Epochs]"
     ]
    },
    {
     "name": "stdout",
     "output_type": "stream",
     "text": [
      "Epoch: 0194,\tTrain mse: 0.04823358,\tTrain_RMSE: 0.21957560,\tTrain_acc: 0.21958400,\tTest mse: 0.04778949,\tTime: 23.16291285s\n"
     ]
    },
    {
     "name": "stderr",
     "output_type": "stream",
     "text": [
      "Training:  98%|█████████▊| 196/200 [1:15:49<01:32, 23.17s/Epochs]"
     ]
    },
    {
     "name": "stdout",
     "output_type": "stream",
     "text": [
      "Epoch: 0195,\tTrain mse: 0.04823501,\tTrain_RMSE: 0.21957885,\tTrain_acc: 0.21958724,\tTest mse: 0.04777918,\tTime: 23.15883017s\n"
     ]
    },
    {
     "name": "stderr",
     "output_type": "stream",
     "text": [
      "Training:  98%|█████████▊| 197/200 [1:16:12<01:09, 23.19s/Epochs]"
     ]
    },
    {
     "name": "stdout",
     "output_type": "stream",
     "text": [
      "Epoch: 0196,\tTrain mse: 0.04822808,\tTrain_RMSE: 0.21956309,\tTrain_acc: 0.21957149,\tTest mse: 0.04779992,\tTime: 23.22535515s\n"
     ]
    },
    {
     "name": "stderr",
     "output_type": "stream",
     "text": [
      "Training:  99%|█████████▉| 198/200 [1:16:36<00:46, 23.20s/Epochs]"
     ]
    },
    {
     "name": "stdout",
     "output_type": "stream",
     "text": [
      "Epoch: 0197,\tTrain mse: 0.04822875,\tTrain_RMSE: 0.21956462,\tTrain_acc: 0.21957302,\tTest mse: 0.04778969,\tTime: 23.20589757s\n"
     ]
    },
    {
     "name": "stderr",
     "output_type": "stream",
     "text": [
      "Training: 100%|█████████▉| 199/200 [1:16:59<00:23, 23.20s/Epochs]"
     ]
    },
    {
     "name": "stdout",
     "output_type": "stream",
     "text": [
      "Epoch: 0198,\tTrain mse: 0.04822999,\tTrain_RMSE: 0.21956757,\tTrain_acc: 0.21957594,\tTest mse: 0.04778611,\tTime: 23.20606780s\n"
     ]
    },
    {
     "name": "stderr",
     "output_type": "stream",
     "text": [
      "Training: 100%|██████████| 200/200 [1:17:22<00:00, 23.21s/Epochs]"
     ]
    },
    {
     "name": "stdout",
     "output_type": "stream",
     "text": [
      "Epoch: 0199,\tTrain mse: 0.04821670,\tTrain_RMSE: 0.21953835,\tTrain_acc: 0.21954672,\tTest mse: 0.04778881,\tTime: 23.20271277s\n",
      "Model.state_dict:\n",
      "node_encode.0.weight \t torch.Size([26, 2])\n",
      "node_encode.0.bias \t torch.Size([26])\n",
      "node_encode.1.weight \t torch.Size([26, 26])\n",
      "node_encode.1.bias \t torch.Size([26])\n",
      "node_encode.2.weight \t torch.Size([26, 26])\n",
      "node_encode.2.bias \t torch.Size([26])\n",
      "node_encode_norm.weight \t torch.Size([26])\n",
      "node_encode_norm.bias \t torch.Size([26])\n",
      "edge_encode.0.weight \t torch.Size([26, 3])\n",
      "edge_encode.0.bias \t torch.Size([26])\n",
      "edge_encode.1.weight \t torch.Size([26, 26])\n",
      "edge_encode.1.bias \t torch.Size([26])\n",
      "edge_encode.2.weight \t torch.Size([26, 26])\n",
      "edge_encode.2.bias \t torch.Size([26])\n",
      "edge_encode_norm.weight \t torch.Size([26])\n",
      "edge_encode_norm.bias \t torch.Size([26])\n",
      "down_mps.0.0.edge_down_mps.0.0.0.weight \t torch.Size([26, 78])\n",
      "down_mps.0.0.edge_down_mps.0.0.0.bias \t torch.Size([26])\n",
      "down_mps.0.0.edge_down_mps.0.0.1.weight \t torch.Size([26, 26])\n",
      "down_mps.0.0.edge_down_mps.0.0.1.bias \t torch.Size([26])\n",
      "down_mps.0.0.edge_down_mps.0.0.2.weight \t torch.Size([26, 26])\n",
      "down_mps.0.0.edge_down_mps.0.0.2.bias \t torch.Size([26])\n",
      "down_mps.0.0.edge_down_mps.0.1.0.weight \t torch.Size([26, 78])\n",
      "down_mps.0.0.edge_down_mps.0.1.0.bias \t torch.Size([26])\n",
      "down_mps.0.0.edge_down_mps.0.1.1.weight \t torch.Size([26, 26])\n",
      "down_mps.0.0.edge_down_mps.0.1.1.bias \t torch.Size([26])\n",
      "down_mps.0.0.edge_down_mps.0.1.2.weight \t torch.Size([26, 26])\n",
      "down_mps.0.0.edge_down_mps.0.1.2.bias \t torch.Size([26])\n",
      "down_mps.0.0.edge_down_mps.0.2.0.weight \t torch.Size([26, 78])\n",
      "down_mps.0.0.edge_down_mps.0.2.0.bias \t torch.Size([26])\n",
      "down_mps.0.0.edge_down_mps.0.2.1.weight \t torch.Size([26, 26])\n",
      "down_mps.0.0.edge_down_mps.0.2.1.bias \t torch.Size([26])\n",
      "down_mps.0.0.edge_down_mps.0.2.2.weight \t torch.Size([26, 26])\n",
      "down_mps.0.0.edge_down_mps.0.2.2.bias \t torch.Size([26])\n",
      "down_mps.0.0.edge_down_norms.0.0.weight \t torch.Size([26])\n",
      "down_mps.0.0.edge_down_norms.0.0.bias \t torch.Size([26])\n",
      "down_mps.0.0.edge_down_norms.0.1.weight \t torch.Size([26])\n",
      "down_mps.0.0.edge_down_norms.0.1.bias \t torch.Size([26])\n",
      "down_mps.0.0.edge_down_norms.0.2.weight \t torch.Size([26])\n",
      "down_mps.0.0.edge_down_norms.0.2.bias \t torch.Size([26])\n",
      "down_mps.0.0.node_down_mps.0.0.0.weight \t torch.Size([26, 52])\n",
      "down_mps.0.0.node_down_mps.0.0.0.bias \t torch.Size([26])\n",
      "down_mps.0.0.node_down_mps.0.0.1.weight \t torch.Size([26, 26])\n",
      "down_mps.0.0.node_down_mps.0.0.1.bias \t torch.Size([26])\n",
      "down_mps.0.0.node_down_mps.0.0.2.weight \t torch.Size([26, 26])\n",
      "down_mps.0.0.node_down_mps.0.0.2.bias \t torch.Size([26])\n",
      "down_mps.0.0.node_down_mps.0.1.0.weight \t torch.Size([26, 52])\n",
      "down_mps.0.0.node_down_mps.0.1.0.bias \t torch.Size([26])\n",
      "down_mps.0.0.node_down_mps.0.1.1.weight \t torch.Size([26, 26])\n",
      "down_mps.0.0.node_down_mps.0.1.1.bias \t torch.Size([26])\n",
      "down_mps.0.0.node_down_mps.0.1.2.weight \t torch.Size([26, 26])\n",
      "down_mps.0.0.node_down_mps.0.1.2.bias \t torch.Size([26])\n",
      "down_mps.0.0.node_down_mps.0.2.0.weight \t torch.Size([26, 52])\n",
      "down_mps.0.0.node_down_mps.0.2.0.bias \t torch.Size([26])\n",
      "down_mps.0.0.node_down_mps.0.2.1.weight \t torch.Size([26, 26])\n",
      "down_mps.0.0.node_down_mps.0.2.1.bias \t torch.Size([26])\n",
      "down_mps.0.0.node_down_mps.0.2.2.weight \t torch.Size([26, 26])\n",
      "down_mps.0.0.node_down_mps.0.2.2.bias \t torch.Size([26])\n",
      "down_mps.0.0.node_down_norms.0.0.weight \t torch.Size([26])\n",
      "down_mps.0.0.node_down_norms.0.0.bias \t torch.Size([26])\n",
      "down_mps.0.0.node_down_norms.0.1.weight \t torch.Size([26])\n",
      "down_mps.0.0.node_down_norms.0.1.bias \t torch.Size([26])\n",
      "down_mps.0.0.node_down_norms.0.2.weight \t torch.Size([26])\n"
     ]
    },
    {
     "name": "stderr",
     "output_type": "stream",
     "text": [
      "\n"
     ]
    },
    {
     "name": "stdout",
     "output_type": "stream",
     "text": [
      "down_mps.0.0.node_down_norms.0.2.bias \t torch.Size([26])\n",
      "down_mps.1.0.edge_down_mps.0.0.0.weight \t torch.Size([26, 78])\n",
      "down_mps.1.0.edge_down_mps.0.0.0.bias \t torch.Size([26])\n",
      "down_mps.1.0.edge_down_mps.0.0.1.weight \t torch.Size([26, 26])\n",
      "down_mps.1.0.edge_down_mps.0.0.1.bias \t torch.Size([26])\n",
      "down_mps.1.0.edge_down_mps.0.0.2.weight \t torch.Size([26, 26])\n",
      "down_mps.1.0.edge_down_mps.0.0.2.bias \t torch.Size([26])\n",
      "down_mps.1.0.edge_down_mps.0.1.0.weight \t torch.Size([26, 78])\n",
      "down_mps.1.0.edge_down_mps.0.1.0.bias \t torch.Size([26])\n",
      "down_mps.1.0.edge_down_mps.0.1.1.weight \t torch.Size([26, 26])\n",
      "down_mps.1.0.edge_down_mps.0.1.1.bias \t torch.Size([26])\n",
      "down_mps.1.0.edge_down_mps.0.1.2.weight \t torch.Size([26, 26])\n",
      "down_mps.1.0.edge_down_mps.0.1.2.bias \t torch.Size([26])\n",
      "down_mps.1.0.edge_down_mps.0.2.0.weight \t torch.Size([26, 78])\n",
      "down_mps.1.0.edge_down_mps.0.2.0.bias \t torch.Size([26])\n",
      "down_mps.1.0.edge_down_mps.0.2.1.weight \t torch.Size([26, 26])\n",
      "down_mps.1.0.edge_down_mps.0.2.1.bias \t torch.Size([26])\n",
      "down_mps.1.0.edge_down_mps.0.2.2.weight \t torch.Size([26, 26])\n",
      "down_mps.1.0.edge_down_mps.0.2.2.bias \t torch.Size([26])\n",
      "down_mps.1.0.edge_down_norms.0.0.weight \t torch.Size([26])\n",
      "down_mps.1.0.edge_down_norms.0.0.bias \t torch.Size([26])\n",
      "down_mps.1.0.edge_down_norms.0.1.weight \t torch.Size([26])\n",
      "down_mps.1.0.edge_down_norms.0.1.bias \t torch.Size([26])\n",
      "down_mps.1.0.edge_down_norms.0.2.weight \t torch.Size([26])\n",
      "down_mps.1.0.edge_down_norms.0.2.bias \t torch.Size([26])\n",
      "down_mps.1.0.node_down_mps.0.0.0.weight \t torch.Size([26, 52])\n",
      "down_mps.1.0.node_down_mps.0.0.0.bias \t torch.Size([26])\n",
      "down_mps.1.0.node_down_mps.0.0.1.weight \t torch.Size([26, 26])\n",
      "down_mps.1.0.node_down_mps.0.0.1.bias \t torch.Size([26])\n",
      "down_mps.1.0.node_down_mps.0.0.2.weight \t torch.Size([26, 26])\n",
      "down_mps.1.0.node_down_mps.0.0.2.bias \t torch.Size([26])\n",
      "down_mps.1.0.node_down_mps.0.1.0.weight \t torch.Size([26, 52])\n",
      "down_mps.1.0.node_down_mps.0.1.0.bias \t torch.Size([26])\n",
      "down_mps.1.0.node_down_mps.0.1.1.weight \t torch.Size([26, 26])\n",
      "down_mps.1.0.node_down_mps.0.1.1.bias \t torch.Size([26])\n",
      "down_mps.1.0.node_down_mps.0.1.2.weight \t torch.Size([26, 26])\n",
      "down_mps.1.0.node_down_mps.0.1.2.bias \t torch.Size([26])\n",
      "down_mps.1.0.node_down_mps.0.2.0.weight \t torch.Size([26, 52])\n",
      "down_mps.1.0.node_down_mps.0.2.0.bias \t torch.Size([26])\n",
      "down_mps.1.0.node_down_mps.0.2.1.weight \t torch.Size([26, 26])\n",
      "down_mps.1.0.node_down_mps.0.2.1.bias \t torch.Size([26])\n",
      "down_mps.1.0.node_down_mps.0.2.2.weight \t torch.Size([26, 26])\n",
      "down_mps.1.0.node_down_mps.0.2.2.bias \t torch.Size([26])\n",
      "down_mps.1.0.node_down_norms.0.0.weight \t torch.Size([26])\n",
      "down_mps.1.0.node_down_norms.0.0.bias \t torch.Size([26])\n",
      "down_mps.1.0.node_down_norms.0.1.weight \t torch.Size([26])\n",
      "down_mps.1.0.node_down_norms.0.1.bias \t torch.Size([26])\n",
      "down_mps.1.0.node_down_norms.0.2.weight \t torch.Size([26])\n",
      "down_mps.1.0.node_down_norms.0.2.bias \t torch.Size([26])\n",
      "down_mps.2.0.edge_down_mps.0.0.0.weight \t torch.Size([26, 78])\n",
      "down_mps.2.0.edge_down_mps.0.0.0.bias \t torch.Size([26])\n",
      "down_mps.2.0.edge_down_mps.0.0.1.weight \t torch.Size([26, 26])\n",
      "down_mps.2.0.edge_down_mps.0.0.1.bias \t torch.Size([26])\n",
      "down_mps.2.0.edge_down_mps.0.0.2.weight \t torch.Size([26, 26])\n",
      "down_mps.2.0.edge_down_mps.0.0.2.bias \t torch.Size([26])\n",
      "down_mps.2.0.edge_down_mps.0.1.0.weight \t torch.Size([26, 78])\n",
      "down_mps.2.0.edge_down_mps.0.1.0.bias \t torch.Size([26])\n",
      "down_mps.2.0.edge_down_mps.0.1.1.weight \t torch.Size([26, 26])\n",
      "down_mps.2.0.edge_down_mps.0.1.1.bias \t torch.Size([26])\n",
      "down_mps.2.0.edge_down_mps.0.1.2.weight \t torch.Size([26, 26])\n",
      "down_mps.2.0.edge_down_mps.0.1.2.bias \t torch.Size([26])\n",
      "down_mps.2.0.edge_down_mps.0.2.0.weight \t torch.Size([26, 78])\n",
      "down_mps.2.0.edge_down_mps.0.2.0.bias \t torch.Size([26])\n",
      "down_mps.2.0.edge_down_mps.0.2.1.weight \t torch.Size([26, 26])\n",
      "down_mps.2.0.edge_down_mps.0.2.1.bias \t torch.Size([26])\n",
      "down_mps.2.0.edge_down_mps.0.2.2.weight \t torch.Size([26, 26])\n",
      "down_mps.2.0.edge_down_mps.0.2.2.bias \t torch.Size([26])\n",
      "down_mps.2.0.edge_down_norms.0.0.weight \t torch.Size([26])\n",
      "down_mps.2.0.edge_down_norms.0.0.bias \t torch.Size([26])\n",
      "down_mps.2.0.edge_down_norms.0.1.weight \t torch.Size([26])\n",
      "down_mps.2.0.edge_down_norms.0.1.bias \t torch.Size([26])\n",
      "down_mps.2.0.edge_down_norms.0.2.weight \t torch.Size([26])\n",
      "down_mps.2.0.edge_down_norms.0.2.bias \t torch.Size([26])\n",
      "down_mps.2.0.node_down_mps.0.0.0.weight \t torch.Size([26, 52])\n",
      "down_mps.2.0.node_down_mps.0.0.0.bias \t torch.Size([26])\n",
      "down_mps.2.0.node_down_mps.0.0.1.weight \t torch.Size([26, 26])\n",
      "down_mps.2.0.node_down_mps.0.0.1.bias \t torch.Size([26])\n",
      "down_mps.2.0.node_down_mps.0.0.2.weight \t torch.Size([26, 26])\n",
      "down_mps.2.0.node_down_mps.0.0.2.bias \t torch.Size([26])\n",
      "down_mps.2.0.node_down_mps.0.1.0.weight \t torch.Size([26, 52])\n",
      "down_mps.2.0.node_down_mps.0.1.0.bias \t torch.Size([26])\n",
      "down_mps.2.0.node_down_mps.0.1.1.weight \t torch.Size([26, 26])\n",
      "down_mps.2.0.node_down_mps.0.1.1.bias \t torch.Size([26])\n",
      "down_mps.2.0.node_down_mps.0.1.2.weight \t torch.Size([26, 26])\n",
      "down_mps.2.0.node_down_mps.0.1.2.bias \t torch.Size([26])\n",
      "down_mps.2.0.node_down_mps.0.2.0.weight \t torch.Size([26, 52])\n",
      "down_mps.2.0.node_down_mps.0.2.0.bias \t torch.Size([26])\n",
      "down_mps.2.0.node_down_mps.0.2.1.weight \t torch.Size([26, 26])\n",
      "down_mps.2.0.node_down_mps.0.2.1.bias \t torch.Size([26])\n",
      "down_mps.2.0.node_down_mps.0.2.2.weight \t torch.Size([26, 26])\n",
      "down_mps.2.0.node_down_mps.0.2.2.bias \t torch.Size([26])\n",
      "down_mps.2.0.node_down_norms.0.0.weight \t torch.Size([26])\n",
      "down_mps.2.0.node_down_norms.0.0.bias \t torch.Size([26])\n",
      "down_mps.2.0.node_down_norms.0.1.weight \t torch.Size([26])\n",
      "down_mps.2.0.node_down_norms.0.1.bias \t torch.Size([26])\n",
      "down_mps.2.0.node_down_norms.0.2.weight \t torch.Size([26])\n",
      "down_mps.2.0.node_down_norms.0.2.bias \t torch.Size([26])\n",
      "down_mps.3.0.edge_down_mps.0.0.0.weight \t torch.Size([26, 78])\n",
      "down_mps.3.0.edge_down_mps.0.0.0.bias \t torch.Size([26])\n",
      "down_mps.3.0.edge_down_mps.0.0.1.weight \t torch.Size([26, 26])\n",
      "down_mps.3.0.edge_down_mps.0.0.1.bias \t torch.Size([26])\n",
      "down_mps.3.0.edge_down_mps.0.0.2.weight \t torch.Size([26, 26])\n",
      "down_mps.3.0.edge_down_mps.0.0.2.bias \t torch.Size([26])\n",
      "down_mps.3.0.edge_down_mps.0.1.0.weight \t torch.Size([26, 78])\n",
      "down_mps.3.0.edge_down_mps.0.1.0.bias \t torch.Size([26])\n",
      "down_mps.3.0.edge_down_mps.0.1.1.weight \t torch.Size([26, 26])\n",
      "down_mps.3.0.edge_down_mps.0.1.1.bias \t torch.Size([26])\n",
      "down_mps.3.0.edge_down_mps.0.1.2.weight \t torch.Size([26, 26])\n",
      "down_mps.3.0.edge_down_mps.0.1.2.bias \t torch.Size([26])\n",
      "down_mps.3.0.edge_down_mps.0.2.0.weight \t torch.Size([26, 78])\n",
      "down_mps.3.0.edge_down_mps.0.2.0.bias \t torch.Size([26])\n",
      "down_mps.3.0.edge_down_mps.0.2.1.weight \t torch.Size([26, 26])\n",
      "down_mps.3.0.edge_down_mps.0.2.1.bias \t torch.Size([26])\n",
      "down_mps.3.0.edge_down_mps.0.2.2.weight \t torch.Size([26, 26])\n",
      "down_mps.3.0.edge_down_mps.0.2.2.bias \t torch.Size([26])\n",
      "down_mps.3.0.edge_down_norms.0.0.weight \t torch.Size([26])\n",
      "down_mps.3.0.edge_down_norms.0.0.bias \t torch.Size([26])\n",
      "down_mps.3.0.edge_down_norms.0.1.weight \t torch.Size([26])\n",
      "down_mps.3.0.edge_down_norms.0.1.bias \t torch.Size([26])\n",
      "down_mps.3.0.edge_down_norms.0.2.weight \t torch.Size([26])\n",
      "down_mps.3.0.edge_down_norms.0.2.bias \t torch.Size([26])\n",
      "down_mps.3.0.node_down_mps.0.0.0.weight \t torch.Size([26, 52])\n",
      "down_mps.3.0.node_down_mps.0.0.0.bias \t torch.Size([26])\n",
      "down_mps.3.0.node_down_mps.0.0.1.weight \t torch.Size([26, 26])\n",
      "down_mps.3.0.node_down_mps.0.0.1.bias \t torch.Size([26])\n",
      "down_mps.3.0.node_down_mps.0.0.2.weight \t torch.Size([26, 26])\n",
      "down_mps.3.0.node_down_mps.0.0.2.bias \t torch.Size([26])\n",
      "down_mps.3.0.node_down_mps.0.1.0.weight \t torch.Size([26, 52])\n",
      "down_mps.3.0.node_down_mps.0.1.0.bias \t torch.Size([26])\n",
      "down_mps.3.0.node_down_mps.0.1.1.weight \t torch.Size([26, 26])\n",
      "down_mps.3.0.node_down_mps.0.1.1.bias \t torch.Size([26])\n",
      "down_mps.3.0.node_down_mps.0.1.2.weight \t torch.Size([26, 26])\n",
      "down_mps.3.0.node_down_mps.0.1.2.bias \t torch.Size([26])\n",
      "down_mps.3.0.node_down_mps.0.2.0.weight \t torch.Size([26, 52])\n",
      "down_mps.3.0.node_down_mps.0.2.0.bias \t torch.Size([26])\n",
      "down_mps.3.0.node_down_mps.0.2.1.weight \t torch.Size([26, 26])\n",
      "down_mps.3.0.node_down_mps.0.2.1.bias \t torch.Size([26])\n",
      "down_mps.3.0.node_down_mps.0.2.2.weight \t torch.Size([26, 26])\n",
      "down_mps.3.0.node_down_mps.0.2.2.bias \t torch.Size([26])\n",
      "down_mps.3.0.node_down_norms.0.0.weight \t torch.Size([26])\n",
      "down_mps.3.0.node_down_norms.0.0.bias \t torch.Size([26])\n",
      "down_mps.3.0.node_down_norms.0.1.weight \t torch.Size([26])\n",
      "down_mps.3.0.node_down_norms.0.1.bias \t torch.Size([26])\n",
      "down_mps.3.0.node_down_norms.0.2.weight \t torch.Size([26])\n",
      "down_mps.3.0.node_down_norms.0.2.bias \t torch.Size([26])\n",
      "pools.0.weight \t torch.Size([1, 26])\n",
      "pools.1.weight \t torch.Size([1, 26])\n",
      "pools.2.weight \t torch.Size([1, 26])\n",
      "up_mps.0.0.edge_down_mps.0.0.0.weight \t torch.Size([26, 78])\n",
      "up_mps.0.0.edge_down_mps.0.0.0.bias \t torch.Size([26])\n",
      "up_mps.0.0.edge_down_mps.0.0.1.weight \t torch.Size([26, 26])\n",
      "up_mps.0.0.edge_down_mps.0.0.1.bias \t torch.Size([26])\n",
      "up_mps.0.0.edge_down_mps.0.0.2.weight \t torch.Size([26, 26])\n",
      "up_mps.0.0.edge_down_mps.0.0.2.bias \t torch.Size([26])\n",
      "up_mps.0.0.edge_down_mps.0.1.0.weight \t torch.Size([26, 78])\n",
      "up_mps.0.0.edge_down_mps.0.1.0.bias \t torch.Size([26])\n",
      "up_mps.0.0.edge_down_mps.0.1.1.weight \t torch.Size([26, 26])\n",
      "up_mps.0.0.edge_down_mps.0.1.1.bias \t torch.Size([26])\n",
      "up_mps.0.0.edge_down_mps.0.1.2.weight \t torch.Size([26, 26])\n",
      "up_mps.0.0.edge_down_mps.0.1.2.bias \t torch.Size([26])\n",
      "up_mps.0.0.edge_down_mps.1.0.0.weight \t torch.Size([26, 78])\n",
      "up_mps.0.0.edge_down_mps.1.0.0.bias \t torch.Size([26])\n",
      "up_mps.0.0.edge_down_mps.1.0.1.weight \t torch.Size([26, 26])\n",
      "up_mps.0.0.edge_down_mps.1.0.1.bias \t torch.Size([26])\n",
      "up_mps.0.0.edge_down_mps.1.0.2.weight \t torch.Size([26, 26])\n",
      "up_mps.0.0.edge_down_mps.1.0.2.bias \t torch.Size([26])\n",
      "up_mps.0.0.edge_down_mps.2.0.0.weight \t torch.Size([26, 78])\n",
      "up_mps.0.0.edge_down_mps.2.0.0.bias \t torch.Size([26])\n",
      "up_mps.0.0.edge_down_mps.2.0.1.weight \t torch.Size([26, 26])\n",
      "up_mps.0.0.edge_down_mps.2.0.1.bias \t torch.Size([26])\n",
      "up_mps.0.0.edge_down_mps.2.0.2.weight \t torch.Size([26, 26])\n",
      "up_mps.0.0.edge_down_mps.2.0.2.bias \t torch.Size([26])\n",
      "up_mps.0.0.edge_down_norms.0.0.weight \t torch.Size([26])\n",
      "up_mps.0.0.edge_down_norms.0.0.bias \t torch.Size([26])\n",
      "up_mps.0.0.edge_down_norms.0.1.weight \t torch.Size([26])\n",
      "up_mps.0.0.edge_down_norms.0.1.bias \t torch.Size([26])\n",
      "up_mps.0.0.edge_down_norms.1.0.weight \t torch.Size([26])\n",
      "up_mps.0.0.edge_down_norms.1.0.bias \t torch.Size([26])\n",
      "up_mps.0.0.edge_down_norms.2.0.weight \t torch.Size([26])\n",
      "up_mps.0.0.edge_down_norms.2.0.bias \t torch.Size([26])\n",
      "up_mps.0.0.node_down_mps.0.0.0.weight \t torch.Size([26, 52])\n",
      "up_mps.0.0.node_down_mps.0.0.0.bias \t torch.Size([26])\n",
      "up_mps.0.0.node_down_mps.0.0.1.weight \t torch.Size([26, 26])\n",
      "up_mps.0.0.node_down_mps.0.0.1.bias \t torch.Size([26])\n",
      "up_mps.0.0.node_down_mps.0.0.2.weight \t torch.Size([26, 26])\n",
      "up_mps.0.0.node_down_mps.0.0.2.bias \t torch.Size([26])\n",
      "up_mps.0.0.node_down_mps.0.1.0.weight \t torch.Size([26, 52])\n",
      "up_mps.0.0.node_down_mps.0.1.0.bias \t torch.Size([26])\n",
      "up_mps.0.0.node_down_mps.0.1.1.weight \t torch.Size([26, 26])\n",
      "up_mps.0.0.node_down_mps.0.1.1.bias \t torch.Size([26])\n",
      "up_mps.0.0.node_down_mps.0.1.2.weight \t torch.Size([26, 26])\n",
      "up_mps.0.0.node_down_mps.0.1.2.bias \t torch.Size([26])\n",
      "up_mps.0.0.node_down_mps.1.0.0.weight \t torch.Size([26, 52])\n",
      "up_mps.0.0.node_down_mps.1.0.0.bias \t torch.Size([26])\n",
      "up_mps.0.0.node_down_mps.1.0.1.weight \t torch.Size([26, 26])\n",
      "up_mps.0.0.node_down_mps.1.0.1.bias \t torch.Size([26])\n",
      "up_mps.0.0.node_down_mps.1.0.2.weight \t torch.Size([26, 26])\n",
      "up_mps.0.0.node_down_mps.1.0.2.bias \t torch.Size([26])\n",
      "up_mps.0.0.node_down_mps.2.0.0.weight \t torch.Size([26, 52])\n",
      "up_mps.0.0.node_down_mps.2.0.0.bias \t torch.Size([26])\n",
      "up_mps.0.0.node_down_mps.2.0.1.weight \t torch.Size([26, 26])\n",
      "up_mps.0.0.node_down_mps.2.0.1.bias \t torch.Size([26])\n",
      "up_mps.0.0.node_down_mps.2.0.2.weight \t torch.Size([26, 26])\n",
      "up_mps.0.0.node_down_mps.2.0.2.bias \t torch.Size([26])\n",
      "up_mps.0.0.node_down_norms.0.0.weight \t torch.Size([26])\n",
      "up_mps.0.0.node_down_norms.0.0.bias \t torch.Size([26])\n",
      "up_mps.0.0.node_down_norms.0.1.weight \t torch.Size([26])\n",
      "up_mps.0.0.node_down_norms.0.1.bias \t torch.Size([26])\n",
      "up_mps.0.0.node_down_norms.1.0.weight \t torch.Size([26])\n",
      "up_mps.0.0.node_down_norms.1.0.bias \t torch.Size([26])\n",
      "up_mps.0.0.node_down_norms.2.0.weight \t torch.Size([26])\n",
      "up_mps.0.0.node_down_norms.2.0.bias \t torch.Size([26])\n",
      "up_mps.0.0.edge_up_mps.0.0.0.weight \t torch.Size([26, 78])\n",
      "up_mps.0.0.edge_up_mps.0.0.0.bias \t torch.Size([26])\n",
      "up_mps.0.0.edge_up_mps.0.0.1.weight \t torch.Size([26, 26])\n",
      "up_mps.0.0.edge_up_mps.0.0.1.bias \t torch.Size([26])\n",
      "up_mps.0.0.edge_up_mps.0.0.2.weight \t torch.Size([26, 26])\n",
      "up_mps.0.0.edge_up_mps.0.0.2.bias \t torch.Size([26])\n",
      "up_mps.0.0.edge_up_mps.1.0.0.weight \t torch.Size([26, 78])\n",
      "up_mps.0.0.edge_up_mps.1.0.0.bias \t torch.Size([26])\n",
      "up_mps.0.0.edge_up_mps.1.0.1.weight \t torch.Size([26, 26])\n",
      "up_mps.0.0.edge_up_mps.1.0.1.bias \t torch.Size([26])\n",
      "up_mps.0.0.edge_up_mps.1.0.2.weight \t torch.Size([26, 26])\n",
      "up_mps.0.0.edge_up_mps.1.0.2.bias \t torch.Size([26])\n",
      "up_mps.0.0.edge_up_mps.1.1.0.weight \t torch.Size([26, 78])\n",
      "up_mps.0.0.edge_up_mps.1.1.0.bias \t torch.Size([26])\n",
      "up_mps.0.0.edge_up_mps.1.1.1.weight \t torch.Size([26, 26])\n",
      "up_mps.0.0.edge_up_mps.1.1.1.bias \t torch.Size([26])\n",
      "up_mps.0.0.edge_up_mps.1.1.2.weight \t torch.Size([26, 26])\n",
      "up_mps.0.0.edge_up_mps.1.1.2.bias \t torch.Size([26])\n",
      "up_mps.0.0.edge_up_norms.0.0.weight \t torch.Size([26])\n",
      "up_mps.0.0.edge_up_norms.0.0.bias \t torch.Size([26])\n",
      "up_mps.0.0.edge_up_norms.1.0.weight \t torch.Size([26])\n",
      "up_mps.0.0.edge_up_norms.1.0.bias \t torch.Size([26])\n",
      "up_mps.0.0.edge_up_norms.1.1.weight \t torch.Size([26])\n",
      "up_mps.0.0.edge_up_norms.1.1.bias \t torch.Size([26])\n",
      "up_mps.0.0.node_up_mps.0.0.0.weight \t torch.Size([26, 52])\n",
      "up_mps.0.0.node_up_mps.0.0.0.bias \t torch.Size([26])\n",
      "up_mps.0.0.node_up_mps.0.0.1.weight \t torch.Size([26, 26])\n",
      "up_mps.0.0.node_up_mps.0.0.1.bias \t torch.Size([26])\n",
      "up_mps.0.0.node_up_mps.0.0.2.weight \t torch.Size([26, 26])\n",
      "up_mps.0.0.node_up_mps.0.0.2.bias \t torch.Size([26])\n",
      "up_mps.0.0.node_up_mps.1.0.0.weight \t torch.Size([26, 52])\n",
      "up_mps.0.0.node_up_mps.1.0.0.bias \t torch.Size([26])\n",
      "up_mps.0.0.node_up_mps.1.0.1.weight \t torch.Size([26, 26])\n",
      "up_mps.0.0.node_up_mps.1.0.1.bias \t torch.Size([26])\n",
      "up_mps.0.0.node_up_mps.1.0.2.weight \t torch.Size([26, 26])\n",
      "up_mps.0.0.node_up_mps.1.0.2.bias \t torch.Size([26])\n",
      "up_mps.0.0.node_up_mps.1.1.0.weight \t torch.Size([26, 52])\n",
      "up_mps.0.0.node_up_mps.1.1.0.bias \t torch.Size([26])\n",
      "up_mps.0.0.node_up_mps.1.1.1.weight \t torch.Size([26, 26])\n",
      "up_mps.0.0.node_up_mps.1.1.1.bias \t torch.Size([26])\n",
      "up_mps.0.0.node_up_mps.1.1.2.weight \t torch.Size([26, 26])\n",
      "up_mps.0.0.node_up_mps.1.1.2.bias \t torch.Size([26])\n",
      "up_mps.0.0.node_up_norms.0.0.weight \t torch.Size([26])\n",
      "up_mps.0.0.node_up_norms.0.0.bias \t torch.Size([26])\n",
      "up_mps.0.0.node_up_norms.1.0.weight \t torch.Size([26])\n",
      "up_mps.0.0.node_up_norms.1.0.bias \t torch.Size([26])\n",
      "up_mps.0.0.node_up_norms.1.1.weight \t torch.Size([26])\n",
      "up_mps.0.0.node_up_norms.1.1.bias \t torch.Size([26])\n",
      "up_mps.0.0.edge_encoder_f2c_mlp.0.weight \t torch.Size([26, 2])\n",
      "up_mps.0.0.edge_encoder_f2c_mlp.0.bias \t torch.Size([26])\n",
      "up_mps.0.0.edge_encoder_f2c_mlp.1.weight \t torch.Size([26, 26])\n",
      "up_mps.0.0.edge_encoder_f2c_mlp.1.bias \t torch.Size([26])\n",
      "up_mps.0.0.edge_encoder_f2c_mlp.2.weight \t torch.Size([26, 26])\n",
      "up_mps.0.0.edge_encoder_f2c_mlp.2.bias \t torch.Size([26])\n",
      "up_mps.0.0.downsample_mlp.0.weight \t torch.Size([26, 52])\n",
      "up_mps.0.0.downsample_mlp.0.bias \t torch.Size([26])\n",
      "up_mps.0.0.downsample_mlp.1.weight \t torch.Size([26, 26])\n",
      "up_mps.0.0.downsample_mlp.1.bias \t torch.Size([26])\n",
      "up_mps.0.0.downsample_mlp.2.weight \t torch.Size([26, 26])\n",
      "up_mps.0.0.downsample_mlp.2.bias \t torch.Size([26])\n",
      "up_mps.0.0.upsample_mlp.0.weight \t torch.Size([26, 78])\n",
      "up_mps.0.0.upsample_mlp.0.bias \t torch.Size([26])\n",
      "up_mps.0.0.upsample_mlp.1.weight \t torch.Size([26, 26])\n",
      "up_mps.0.0.upsample_mlp.1.bias \t torch.Size([26])\n",
      "up_mps.0.0.upsample_mlp.2.weight \t torch.Size([26, 26])\n",
      "up_mps.0.0.upsample_mlp.2.bias \t torch.Size([26])\n",
      "up_mps.0.0.downsample_norm.weight \t torch.Size([26])\n",
      "up_mps.0.0.downsample_norm.bias \t torch.Size([26])\n",
      "up_mps.0.0.upsample_norm.weight \t torch.Size([26])\n",
      "up_mps.0.0.upsample_norm.bias \t torch.Size([26])\n",
      "up_mps.1.0.edge_down_mps.0.0.0.weight \t torch.Size([26, 78])\n",
      "up_mps.1.0.edge_down_mps.0.0.0.bias \t torch.Size([26])\n",
      "up_mps.1.0.edge_down_mps.0.0.1.weight \t torch.Size([26, 26])\n",
      "up_mps.1.0.edge_down_mps.0.0.1.bias \t torch.Size([26])\n",
      "up_mps.1.0.edge_down_mps.0.0.2.weight \t torch.Size([26, 26])\n",
      "up_mps.1.0.edge_down_mps.0.0.2.bias \t torch.Size([26])\n",
      "up_mps.1.0.edge_down_mps.0.1.0.weight \t torch.Size([26, 78])\n",
      "up_mps.1.0.edge_down_mps.0.1.0.bias \t torch.Size([26])\n",
      "up_mps.1.0.edge_down_mps.0.1.1.weight \t torch.Size([26, 26])\n",
      "up_mps.1.0.edge_down_mps.0.1.1.bias \t torch.Size([26])\n",
      "up_mps.1.0.edge_down_mps.0.1.2.weight \t torch.Size([26, 26])\n",
      "up_mps.1.0.edge_down_mps.0.1.2.bias \t torch.Size([26])\n",
      "up_mps.1.0.edge_down_mps.1.0.0.weight \t torch.Size([26, 78])\n",
      "up_mps.1.0.edge_down_mps.1.0.0.bias \t torch.Size([26])\n",
      "up_mps.1.0.edge_down_mps.1.0.1.weight \t torch.Size([26, 26])\n",
      "up_mps.1.0.edge_down_mps.1.0.1.bias \t torch.Size([26])\n",
      "up_mps.1.0.edge_down_mps.1.0.2.weight \t torch.Size([26, 26])\n",
      "up_mps.1.0.edge_down_mps.1.0.2.bias \t torch.Size([26])\n",
      "up_mps.1.0.edge_down_mps.2.0.0.weight \t torch.Size([26, 78])\n",
      "up_mps.1.0.edge_down_mps.2.0.0.bias \t torch.Size([26])\n",
      "up_mps.1.0.edge_down_mps.2.0.1.weight \t torch.Size([26, 26])\n",
      "up_mps.1.0.edge_down_mps.2.0.1.bias \t torch.Size([26])\n",
      "up_mps.1.0.edge_down_mps.2.0.2.weight \t torch.Size([26, 26])\n",
      "up_mps.1.0.edge_down_mps.2.0.2.bias \t torch.Size([26])\n",
      "up_mps.1.0.edge_down_norms.0.0.weight \t torch.Size([26])\n",
      "up_mps.1.0.edge_down_norms.0.0.bias \t torch.Size([26])\n",
      "up_mps.1.0.edge_down_norms.0.1.weight \t torch.Size([26])\n",
      "up_mps.1.0.edge_down_norms.0.1.bias \t torch.Size([26])\n",
      "up_mps.1.0.edge_down_norms.1.0.weight \t torch.Size([26])\n",
      "up_mps.1.0.edge_down_norms.1.0.bias \t torch.Size([26])\n",
      "up_mps.1.0.edge_down_norms.2.0.weight \t torch.Size([26])\n",
      "up_mps.1.0.edge_down_norms.2.0.bias \t torch.Size([26])\n",
      "up_mps.1.0.node_down_mps.0.0.0.weight \t torch.Size([26, 52])\n",
      "up_mps.1.0.node_down_mps.0.0.0.bias \t torch.Size([26])\n",
      "up_mps.1.0.node_down_mps.0.0.1.weight \t torch.Size([26, 26])\n",
      "up_mps.1.0.node_down_mps.0.0.1.bias \t torch.Size([26])\n",
      "up_mps.1.0.node_down_mps.0.0.2.weight \t torch.Size([26, 26])\n",
      "up_mps.1.0.node_down_mps.0.0.2.bias \t torch.Size([26])\n",
      "up_mps.1.0.node_down_mps.0.1.0.weight \t torch.Size([26, 52])\n",
      "up_mps.1.0.node_down_mps.0.1.0.bias \t torch.Size([26])\n",
      "up_mps.1.0.node_down_mps.0.1.1.weight \t torch.Size([26, 26])\n",
      "up_mps.1.0.node_down_mps.0.1.1.bias \t torch.Size([26])\n",
      "up_mps.1.0.node_down_mps.0.1.2.weight \t torch.Size([26, 26])\n",
      "up_mps.1.0.node_down_mps.0.1.2.bias \t torch.Size([26])\n",
      "up_mps.1.0.node_down_mps.1.0.0.weight \t torch.Size([26, 52])\n",
      "up_mps.1.0.node_down_mps.1.0.0.bias \t torch.Size([26])\n",
      "up_mps.1.0.node_down_mps.1.0.1.weight \t torch.Size([26, 26])\n",
      "up_mps.1.0.node_down_mps.1.0.1.bias \t torch.Size([26])\n",
      "up_mps.1.0.node_down_mps.1.0.2.weight \t torch.Size([26, 26])\n",
      "up_mps.1.0.node_down_mps.1.0.2.bias \t torch.Size([26])\n",
      "up_mps.1.0.node_down_mps.2.0.0.weight \t torch.Size([26, 52])\n",
      "up_mps.1.0.node_down_mps.2.0.0.bias \t torch.Size([26])\n",
      "up_mps.1.0.node_down_mps.2.0.1.weight \t torch.Size([26, 26])\n",
      "up_mps.1.0.node_down_mps.2.0.1.bias \t torch.Size([26])\n",
      "up_mps.1.0.node_down_mps.2.0.2.weight \t torch.Size([26, 26])\n",
      "up_mps.1.0.node_down_mps.2.0.2.bias \t torch.Size([26])\n",
      "up_mps.1.0.node_down_norms.0.0.weight \t torch.Size([26])\n",
      "up_mps.1.0.node_down_norms.0.0.bias \t torch.Size([26])\n",
      "up_mps.1.0.node_down_norms.0.1.weight \t torch.Size([26])\n",
      "up_mps.1.0.node_down_norms.0.1.bias \t torch.Size([26])\n",
      "up_mps.1.0.node_down_norms.1.0.weight \t torch.Size([26])\n",
      "up_mps.1.0.node_down_norms.1.0.bias \t torch.Size([26])\n",
      "up_mps.1.0.node_down_norms.2.0.weight \t torch.Size([26])\n",
      "up_mps.1.0.node_down_norms.2.0.bias \t torch.Size([26])\n",
      "up_mps.1.0.edge_up_mps.0.0.0.weight \t torch.Size([26, 78])\n",
      "up_mps.1.0.edge_up_mps.0.0.0.bias \t torch.Size([26])\n",
      "up_mps.1.0.edge_up_mps.0.0.1.weight \t torch.Size([26, 26])\n",
      "up_mps.1.0.edge_up_mps.0.0.1.bias \t torch.Size([26])\n",
      "up_mps.1.0.edge_up_mps.0.0.2.weight \t torch.Size([26, 26])\n",
      "up_mps.1.0.edge_up_mps.0.0.2.bias \t torch.Size([26])\n",
      "up_mps.1.0.edge_up_mps.1.0.0.weight \t torch.Size([26, 78])\n",
      "up_mps.1.0.edge_up_mps.1.0.0.bias \t torch.Size([26])\n",
      "up_mps.1.0.edge_up_mps.1.0.1.weight \t torch.Size([26, 26])\n",
      "up_mps.1.0.edge_up_mps.1.0.1.bias \t torch.Size([26])\n",
      "up_mps.1.0.edge_up_mps.1.0.2.weight \t torch.Size([26, 26])\n",
      "up_mps.1.0.edge_up_mps.1.0.2.bias \t torch.Size([26])\n",
      "up_mps.1.0.edge_up_mps.1.1.0.weight \t torch.Size([26, 78])\n",
      "up_mps.1.0.edge_up_mps.1.1.0.bias \t torch.Size([26])\n",
      "up_mps.1.0.edge_up_mps.1.1.1.weight \t torch.Size([26, 26])\n",
      "up_mps.1.0.edge_up_mps.1.1.1.bias \t torch.Size([26])\n",
      "up_mps.1.0.edge_up_mps.1.1.2.weight \t torch.Size([26, 26])\n",
      "up_mps.1.0.edge_up_mps.1.1.2.bias \t torch.Size([26])\n",
      "up_mps.1.0.edge_up_norms.0.0.weight \t torch.Size([26])\n",
      "up_mps.1.0.edge_up_norms.0.0.bias \t torch.Size([26])\n",
      "up_mps.1.0.edge_up_norms.1.0.weight \t torch.Size([26])\n",
      "up_mps.1.0.edge_up_norms.1.0.bias \t torch.Size([26])\n",
      "up_mps.1.0.edge_up_norms.1.1.weight \t torch.Size([26])\n",
      "up_mps.1.0.edge_up_norms.1.1.bias \t torch.Size([26])\n",
      "up_mps.1.0.node_up_mps.0.0.0.weight \t torch.Size([26, 52])\n",
      "up_mps.1.0.node_up_mps.0.0.0.bias \t torch.Size([26])\n",
      "up_mps.1.0.node_up_mps.0.0.1.weight \t torch.Size([26, 26])\n",
      "up_mps.1.0.node_up_mps.0.0.1.bias \t torch.Size([26])\n",
      "up_mps.1.0.node_up_mps.0.0.2.weight \t torch.Size([26, 26])\n",
      "up_mps.1.0.node_up_mps.0.0.2.bias \t torch.Size([26])\n",
      "up_mps.1.0.node_up_mps.1.0.0.weight \t torch.Size([26, 52])\n",
      "up_mps.1.0.node_up_mps.1.0.0.bias \t torch.Size([26])\n",
      "up_mps.1.0.node_up_mps.1.0.1.weight \t torch.Size([26, 26])\n",
      "up_mps.1.0.node_up_mps.1.0.1.bias \t torch.Size([26])\n",
      "up_mps.1.0.node_up_mps.1.0.2.weight \t torch.Size([26, 26])\n",
      "up_mps.1.0.node_up_mps.1.0.2.bias \t torch.Size([26])\n",
      "up_mps.1.0.node_up_mps.1.1.0.weight \t torch.Size([26, 52])\n",
      "up_mps.1.0.node_up_mps.1.1.0.bias \t torch.Size([26])\n",
      "up_mps.1.0.node_up_mps.1.1.1.weight \t torch.Size([26, 26])\n",
      "up_mps.1.0.node_up_mps.1.1.1.bias \t torch.Size([26])\n",
      "up_mps.1.0.node_up_mps.1.1.2.weight \t torch.Size([26, 26])\n",
      "up_mps.1.0.node_up_mps.1.1.2.bias \t torch.Size([26])\n",
      "up_mps.1.0.node_up_norms.0.0.weight \t torch.Size([26])\n",
      "up_mps.1.0.node_up_norms.0.0.bias \t torch.Size([26])\n",
      "up_mps.1.0.node_up_norms.1.0.weight \t torch.Size([26])\n",
      "up_mps.1.0.node_up_norms.1.0.bias \t torch.Size([26])\n",
      "up_mps.1.0.node_up_norms.1.1.weight \t torch.Size([26])\n",
      "up_mps.1.0.node_up_norms.1.1.bias \t torch.Size([26])\n",
      "up_mps.1.0.edge_encoder_f2c_mlp.0.weight \t torch.Size([26, 2])\n",
      "up_mps.1.0.edge_encoder_f2c_mlp.0.bias \t torch.Size([26])\n",
      "up_mps.1.0.edge_encoder_f2c_mlp.1.weight \t torch.Size([26, 26])\n",
      "up_mps.1.0.edge_encoder_f2c_mlp.1.bias \t torch.Size([26])\n",
      "up_mps.1.0.edge_encoder_f2c_mlp.2.weight \t torch.Size([26, 26])\n",
      "up_mps.1.0.edge_encoder_f2c_mlp.2.bias \t torch.Size([26])\n",
      "up_mps.1.0.downsample_mlp.0.weight \t torch.Size([26, 52])\n",
      "up_mps.1.0.downsample_mlp.0.bias \t torch.Size([26])\n",
      "up_mps.1.0.downsample_mlp.1.weight \t torch.Size([26, 26])\n",
      "up_mps.1.0.downsample_mlp.1.bias \t torch.Size([26])\n",
      "up_mps.1.0.downsample_mlp.2.weight \t torch.Size([26, 26])\n",
      "up_mps.1.0.downsample_mlp.2.bias \t torch.Size([26])\n",
      "up_mps.1.0.upsample_mlp.0.weight \t torch.Size([26, 78])\n",
      "up_mps.1.0.upsample_mlp.0.bias \t torch.Size([26])\n",
      "up_mps.1.0.upsample_mlp.1.weight \t torch.Size([26, 26])\n",
      "up_mps.1.0.upsample_mlp.1.bias \t torch.Size([26])\n",
      "up_mps.1.0.upsample_mlp.2.weight \t torch.Size([26, 26])\n",
      "up_mps.1.0.upsample_mlp.2.bias \t torch.Size([26])\n",
      "up_mps.1.0.downsample_norm.weight \t torch.Size([26])\n",
      "up_mps.1.0.downsample_norm.bias \t torch.Size([26])\n",
      "up_mps.1.0.upsample_norm.weight \t torch.Size([26])\n",
      "up_mps.1.0.upsample_norm.bias \t torch.Size([26])\n",
      "up_mps.2.0.edge_down_mps.0.0.0.weight \t torch.Size([26, 78])\n",
      "up_mps.2.0.edge_down_mps.0.0.0.bias \t torch.Size([26])\n",
      "up_mps.2.0.edge_down_mps.0.0.1.weight \t torch.Size([26, 26])\n",
      "up_mps.2.0.edge_down_mps.0.0.1.bias \t torch.Size([26])\n",
      "up_mps.2.0.edge_down_mps.0.0.2.weight \t torch.Size([26, 26])\n",
      "up_mps.2.0.edge_down_mps.0.0.2.bias \t torch.Size([26])\n",
      "up_mps.2.0.edge_down_mps.0.1.0.weight \t torch.Size([26, 78])\n",
      "up_mps.2.0.edge_down_mps.0.1.0.bias \t torch.Size([26])\n",
      "up_mps.2.0.edge_down_mps.0.1.1.weight \t torch.Size([26, 26])\n",
      "up_mps.2.0.edge_down_mps.0.1.1.bias \t torch.Size([26])\n",
      "up_mps.2.0.edge_down_mps.0.1.2.weight \t torch.Size([26, 26])\n",
      "up_mps.2.0.edge_down_mps.0.1.2.bias \t torch.Size([26])\n",
      "up_mps.2.0.edge_down_mps.1.0.0.weight \t torch.Size([26, 78])\n",
      "up_mps.2.0.edge_down_mps.1.0.0.bias \t torch.Size([26])\n",
      "up_mps.2.0.edge_down_mps.1.0.1.weight \t torch.Size([26, 26])\n",
      "up_mps.2.0.edge_down_mps.1.0.1.bias \t torch.Size([26])\n",
      "up_mps.2.0.edge_down_mps.1.0.2.weight \t torch.Size([26, 26])\n",
      "up_mps.2.0.edge_down_mps.1.0.2.bias \t torch.Size([26])\n",
      "up_mps.2.0.edge_down_mps.2.0.0.weight \t torch.Size([26, 78])\n",
      "up_mps.2.0.edge_down_mps.2.0.0.bias \t torch.Size([26])\n",
      "up_mps.2.0.edge_down_mps.2.0.1.weight \t torch.Size([26, 26])\n",
      "up_mps.2.0.edge_down_mps.2.0.1.bias \t torch.Size([26])\n",
      "up_mps.2.0.edge_down_mps.2.0.2.weight \t torch.Size([26, 26])\n",
      "up_mps.2.0.edge_down_mps.2.0.2.bias \t torch.Size([26])\n",
      "up_mps.2.0.edge_down_norms.0.0.weight \t torch.Size([26])\n",
      "up_mps.2.0.edge_down_norms.0.0.bias \t torch.Size([26])\n",
      "up_mps.2.0.edge_down_norms.0.1.weight \t torch.Size([26])\n",
      "up_mps.2.0.edge_down_norms.0.1.bias \t torch.Size([26])\n",
      "up_mps.2.0.edge_down_norms.1.0.weight \t torch.Size([26])\n",
      "up_mps.2.0.edge_down_norms.1.0.bias \t torch.Size([26])\n",
      "up_mps.2.0.edge_down_norms.2.0.weight \t torch.Size([26])\n",
      "up_mps.2.0.edge_down_norms.2.0.bias \t torch.Size([26])\n",
      "up_mps.2.0.node_down_mps.0.0.0.weight \t torch.Size([26, 52])\n",
      "up_mps.2.0.node_down_mps.0.0.0.bias \t torch.Size([26])\n",
      "up_mps.2.0.node_down_mps.0.0.1.weight \t torch.Size([26, 26])\n",
      "up_mps.2.0.node_down_mps.0.0.1.bias \t torch.Size([26])\n",
      "up_mps.2.0.node_down_mps.0.0.2.weight \t torch.Size([26, 26])\n",
      "up_mps.2.0.node_down_mps.0.0.2.bias \t torch.Size([26])\n",
      "up_mps.2.0.node_down_mps.0.1.0.weight \t torch.Size([26, 52])\n",
      "up_mps.2.0.node_down_mps.0.1.0.bias \t torch.Size([26])\n",
      "up_mps.2.0.node_down_mps.0.1.1.weight \t torch.Size([26, 26])\n",
      "up_mps.2.0.node_down_mps.0.1.1.bias \t torch.Size([26])\n",
      "up_mps.2.0.node_down_mps.0.1.2.weight \t torch.Size([26, 26])\n",
      "up_mps.2.0.node_down_mps.0.1.2.bias \t torch.Size([26])\n",
      "up_mps.2.0.node_down_mps.1.0.0.weight \t torch.Size([26, 52])\n",
      "up_mps.2.0.node_down_mps.1.0.0.bias \t torch.Size([26])\n",
      "up_mps.2.0.node_down_mps.1.0.1.weight \t torch.Size([26, 26])\n",
      "up_mps.2.0.node_down_mps.1.0.1.bias \t torch.Size([26])\n",
      "up_mps.2.0.node_down_mps.1.0.2.weight \t torch.Size([26, 26])\n",
      "up_mps.2.0.node_down_mps.1.0.2.bias \t torch.Size([26])\n",
      "up_mps.2.0.node_down_mps.2.0.0.weight \t torch.Size([26, 52])\n",
      "up_mps.2.0.node_down_mps.2.0.0.bias \t torch.Size([26])\n",
      "up_mps.2.0.node_down_mps.2.0.1.weight \t torch.Size([26, 26])\n",
      "up_mps.2.0.node_down_mps.2.0.1.bias \t torch.Size([26])\n",
      "up_mps.2.0.node_down_mps.2.0.2.weight \t torch.Size([26, 26])\n",
      "up_mps.2.0.node_down_mps.2.0.2.bias \t torch.Size([26])\n",
      "up_mps.2.0.node_down_norms.0.0.weight \t torch.Size([26])\n",
      "up_mps.2.0.node_down_norms.0.0.bias \t torch.Size([26])\n",
      "up_mps.2.0.node_down_norms.0.1.weight \t torch.Size([26])\n",
      "up_mps.2.0.node_down_norms.0.1.bias \t torch.Size([26])\n",
      "up_mps.2.0.node_down_norms.1.0.weight \t torch.Size([26])\n",
      "up_mps.2.0.node_down_norms.1.0.bias \t torch.Size([26])\n",
      "up_mps.2.0.node_down_norms.2.0.weight \t torch.Size([26])\n",
      "up_mps.2.0.node_down_norms.2.0.bias \t torch.Size([26])\n",
      "up_mps.2.0.edge_up_mps.0.0.0.weight \t torch.Size([26, 78])\n",
      "up_mps.2.0.edge_up_mps.0.0.0.bias \t torch.Size([26])\n",
      "up_mps.2.0.edge_up_mps.0.0.1.weight \t torch.Size([26, 26])\n",
      "up_mps.2.0.edge_up_mps.0.0.1.bias \t torch.Size([26])\n",
      "up_mps.2.0.edge_up_mps.0.0.2.weight \t torch.Size([26, 26])\n",
      "up_mps.2.0.edge_up_mps.0.0.2.bias \t torch.Size([26])\n",
      "up_mps.2.0.edge_up_mps.1.0.0.weight \t torch.Size([26, 78])\n",
      "up_mps.2.0.edge_up_mps.1.0.0.bias \t torch.Size([26])\n",
      "up_mps.2.0.edge_up_mps.1.0.1.weight \t torch.Size([26, 26])\n",
      "up_mps.2.0.edge_up_mps.1.0.1.bias \t torch.Size([26])\n",
      "up_mps.2.0.edge_up_mps.1.0.2.weight \t torch.Size([26, 26])\n",
      "up_mps.2.0.edge_up_mps.1.0.2.bias \t torch.Size([26])\n",
      "up_mps.2.0.edge_up_mps.1.1.0.weight \t torch.Size([26, 78])\n",
      "up_mps.2.0.edge_up_mps.1.1.0.bias \t torch.Size([26])\n",
      "up_mps.2.0.edge_up_mps.1.1.1.weight \t torch.Size([26, 26])\n",
      "up_mps.2.0.edge_up_mps.1.1.1.bias \t torch.Size([26])\n",
      "up_mps.2.0.edge_up_mps.1.1.2.weight \t torch.Size([26, 26])\n",
      "up_mps.2.0.edge_up_mps.1.1.2.bias \t torch.Size([26])\n",
      "up_mps.2.0.edge_up_norms.0.0.weight \t torch.Size([26])\n",
      "up_mps.2.0.edge_up_norms.0.0.bias \t torch.Size([26])\n",
      "up_mps.2.0.edge_up_norms.1.0.weight \t torch.Size([26])\n",
      "up_mps.2.0.edge_up_norms.1.0.bias \t torch.Size([26])\n",
      "up_mps.2.0.edge_up_norms.1.1.weight \t torch.Size([26])\n",
      "up_mps.2.0.edge_up_norms.1.1.bias \t torch.Size([26])\n",
      "up_mps.2.0.node_up_mps.0.0.0.weight \t torch.Size([26, 52])\n",
      "up_mps.2.0.node_up_mps.0.0.0.bias \t torch.Size([26])\n",
      "up_mps.2.0.node_up_mps.0.0.1.weight \t torch.Size([26, 26])\n",
      "up_mps.2.0.node_up_mps.0.0.1.bias \t torch.Size([26])\n",
      "up_mps.2.0.node_up_mps.0.0.2.weight \t torch.Size([26, 26])\n",
      "up_mps.2.0.node_up_mps.0.0.2.bias \t torch.Size([26])\n",
      "up_mps.2.0.node_up_mps.1.0.0.weight \t torch.Size([26, 52])\n",
      "up_mps.2.0.node_up_mps.1.0.0.bias \t torch.Size([26])\n",
      "up_mps.2.0.node_up_mps.1.0.1.weight \t torch.Size([26, 26])\n",
      "up_mps.2.0.node_up_mps.1.0.1.bias \t torch.Size([26])\n",
      "up_mps.2.0.node_up_mps.1.0.2.weight \t torch.Size([26, 26])\n",
      "up_mps.2.0.node_up_mps.1.0.2.bias \t torch.Size([26])\n",
      "up_mps.2.0.node_up_mps.1.1.0.weight \t torch.Size([26, 52])\n",
      "up_mps.2.0.node_up_mps.1.1.0.bias \t torch.Size([26])\n",
      "up_mps.2.0.node_up_mps.1.1.1.weight \t torch.Size([26, 26])\n",
      "up_mps.2.0.node_up_mps.1.1.1.bias \t torch.Size([26])\n",
      "up_mps.2.0.node_up_mps.1.1.2.weight \t torch.Size([26, 26])\n",
      "up_mps.2.0.node_up_mps.1.1.2.bias \t torch.Size([26])\n",
      "up_mps.2.0.node_up_norms.0.0.weight \t torch.Size([26])\n",
      "up_mps.2.0.node_up_norms.0.0.bias \t torch.Size([26])\n",
      "up_mps.2.0.node_up_norms.1.0.weight \t torch.Size([26])\n",
      "up_mps.2.0.node_up_norms.1.0.bias \t torch.Size([26])\n",
      "up_mps.2.0.node_up_norms.1.1.weight \t torch.Size([26])\n",
      "up_mps.2.0.node_up_norms.1.1.bias \t torch.Size([26])\n",
      "up_mps.2.0.edge_encoder_f2c_mlp.0.weight \t torch.Size([26, 2])\n",
      "up_mps.2.0.edge_encoder_f2c_mlp.0.bias \t torch.Size([26])\n",
      "up_mps.2.0.edge_encoder_f2c_mlp.1.weight \t torch.Size([26, 26])\n",
      "up_mps.2.0.edge_encoder_f2c_mlp.1.bias \t torch.Size([26])\n",
      "up_mps.2.0.edge_encoder_f2c_mlp.2.weight \t torch.Size([26, 26])\n",
      "up_mps.2.0.edge_encoder_f2c_mlp.2.bias \t torch.Size([26])\n",
      "up_mps.2.0.downsample_mlp.0.weight \t torch.Size([26, 52])\n",
      "up_mps.2.0.downsample_mlp.0.bias \t torch.Size([26])\n",
      "up_mps.2.0.downsample_mlp.1.weight \t torch.Size([26, 26])\n",
      "up_mps.2.0.downsample_mlp.1.bias \t torch.Size([26])\n",
      "up_mps.2.0.downsample_mlp.2.weight \t torch.Size([26, 26])\n",
      "up_mps.2.0.downsample_mlp.2.bias \t torch.Size([26])\n",
      "up_mps.2.0.upsample_mlp.0.weight \t torch.Size([26, 78])\n",
      "up_mps.2.0.upsample_mlp.0.bias \t torch.Size([26])\n",
      "up_mps.2.0.upsample_mlp.1.weight \t torch.Size([26, 26])\n",
      "up_mps.2.0.upsample_mlp.1.bias \t torch.Size([26])\n",
      "up_mps.2.0.upsample_mlp.2.weight \t torch.Size([26, 26])\n",
      "up_mps.2.0.upsample_mlp.2.bias \t torch.Size([26])\n",
      "up_mps.2.0.downsample_norm.weight \t torch.Size([26])\n",
      "up_mps.2.0.downsample_norm.bias \t torch.Size([26])\n",
      "up_mps.2.0.upsample_norm.weight \t torch.Size([26])\n",
      "up_mps.2.0.upsample_norm.bias \t torch.Size([26])\n",
      "up_mps.3.0.edge_down_mps.0.0.0.weight \t torch.Size([26, 78])\n",
      "up_mps.3.0.edge_down_mps.0.0.0.bias \t torch.Size([26])\n",
      "up_mps.3.0.edge_down_mps.0.0.1.weight \t torch.Size([26, 26])\n",
      "up_mps.3.0.edge_down_mps.0.0.1.bias \t torch.Size([26])\n",
      "up_mps.3.0.edge_down_mps.0.0.2.weight \t torch.Size([26, 26])\n",
      "up_mps.3.0.edge_down_mps.0.0.2.bias \t torch.Size([26])\n",
      "up_mps.3.0.edge_down_mps.0.1.0.weight \t torch.Size([26, 78])\n",
      "up_mps.3.0.edge_down_mps.0.1.0.bias \t torch.Size([26])\n",
      "up_mps.3.0.edge_down_mps.0.1.1.weight \t torch.Size([26, 26])\n",
      "up_mps.3.0.edge_down_mps.0.1.1.bias \t torch.Size([26])\n",
      "up_mps.3.0.edge_down_mps.0.1.2.weight \t torch.Size([26, 26])\n",
      "up_mps.3.0.edge_down_mps.0.1.2.bias \t torch.Size([26])\n",
      "up_mps.3.0.edge_down_mps.1.0.0.weight \t torch.Size([26, 78])\n",
      "up_mps.3.0.edge_down_mps.1.0.0.bias \t torch.Size([26])\n",
      "up_mps.3.0.edge_down_mps.1.0.1.weight \t torch.Size([26, 26])\n",
      "up_mps.3.0.edge_down_mps.1.0.1.bias \t torch.Size([26])\n",
      "up_mps.3.0.edge_down_mps.1.0.2.weight \t torch.Size([26, 26])\n",
      "up_mps.3.0.edge_down_mps.1.0.2.bias \t torch.Size([26])\n",
      "up_mps.3.0.edge_down_mps.2.0.0.weight \t torch.Size([26, 78])\n",
      "up_mps.3.0.edge_down_mps.2.0.0.bias \t torch.Size([26])\n",
      "up_mps.3.0.edge_down_mps.2.0.1.weight \t torch.Size([26, 26])\n",
      "up_mps.3.0.edge_down_mps.2.0.1.bias \t torch.Size([26])\n",
      "up_mps.3.0.edge_down_mps.2.0.2.weight \t torch.Size([26, 26])\n",
      "up_mps.3.0.edge_down_mps.2.0.2.bias \t torch.Size([26])\n",
      "up_mps.3.0.edge_down_norms.0.0.weight \t torch.Size([26])\n",
      "up_mps.3.0.edge_down_norms.0.0.bias \t torch.Size([26])\n",
      "up_mps.3.0.edge_down_norms.0.1.weight \t torch.Size([26])\n",
      "up_mps.3.0.edge_down_norms.0.1.bias \t torch.Size([26])\n",
      "up_mps.3.0.edge_down_norms.1.0.weight \t torch.Size([26])\n",
      "up_mps.3.0.edge_down_norms.1.0.bias \t torch.Size([26])\n",
      "up_mps.3.0.edge_down_norms.2.0.weight \t torch.Size([26])\n",
      "up_mps.3.0.edge_down_norms.2.0.bias \t torch.Size([26])\n",
      "up_mps.3.0.node_down_mps.0.0.0.weight \t torch.Size([26, 52])\n",
      "up_mps.3.0.node_down_mps.0.0.0.bias \t torch.Size([26])\n",
      "up_mps.3.0.node_down_mps.0.0.1.weight \t torch.Size([26, 26])\n",
      "up_mps.3.0.node_down_mps.0.0.1.bias \t torch.Size([26])\n",
      "up_mps.3.0.node_down_mps.0.0.2.weight \t torch.Size([26, 26])\n",
      "up_mps.3.0.node_down_mps.0.0.2.bias \t torch.Size([26])\n",
      "up_mps.3.0.node_down_mps.0.1.0.weight \t torch.Size([26, 52])\n",
      "up_mps.3.0.node_down_mps.0.1.0.bias \t torch.Size([26])\n",
      "up_mps.3.0.node_down_mps.0.1.1.weight \t torch.Size([26, 26])\n",
      "up_mps.3.0.node_down_mps.0.1.1.bias \t torch.Size([26])\n",
      "up_mps.3.0.node_down_mps.0.1.2.weight \t torch.Size([26, 26])\n",
      "up_mps.3.0.node_down_mps.0.1.2.bias \t torch.Size([26])\n",
      "up_mps.3.0.node_down_mps.1.0.0.weight \t torch.Size([26, 52])\n",
      "up_mps.3.0.node_down_mps.1.0.0.bias \t torch.Size([26])\n",
      "up_mps.3.0.node_down_mps.1.0.1.weight \t torch.Size([26, 26])\n",
      "up_mps.3.0.node_down_mps.1.0.1.bias \t torch.Size([26])\n",
      "up_mps.3.0.node_down_mps.1.0.2.weight \t torch.Size([26, 26])\n",
      "up_mps.3.0.node_down_mps.1.0.2.bias \t torch.Size([26])\n",
      "up_mps.3.0.node_down_mps.2.0.0.weight \t torch.Size([26, 52])\n",
      "up_mps.3.0.node_down_mps.2.0.0.bias \t torch.Size([26])\n",
      "up_mps.3.0.node_down_mps.2.0.1.weight \t torch.Size([26, 26])\n",
      "up_mps.3.0.node_down_mps.2.0.1.bias \t torch.Size([26])\n",
      "up_mps.3.0.node_down_mps.2.0.2.weight \t torch.Size([26, 26])\n",
      "up_mps.3.0.node_down_mps.2.0.2.bias \t torch.Size([26])\n",
      "up_mps.3.0.node_down_norms.0.0.weight \t torch.Size([26])\n",
      "up_mps.3.0.node_down_norms.0.0.bias \t torch.Size([26])\n",
      "up_mps.3.0.node_down_norms.0.1.weight \t torch.Size([26])\n",
      "up_mps.3.0.node_down_norms.0.1.bias \t torch.Size([26])\n",
      "up_mps.3.0.node_down_norms.1.0.weight \t torch.Size([26])\n",
      "up_mps.3.0.node_down_norms.1.0.bias \t torch.Size([26])\n",
      "up_mps.3.0.node_down_norms.2.0.weight \t torch.Size([26])\n",
      "up_mps.3.0.node_down_norms.2.0.bias \t torch.Size([26])\n",
      "up_mps.3.0.edge_up_mps.0.0.0.weight \t torch.Size([26, 78])\n",
      "up_mps.3.0.edge_up_mps.0.0.0.bias \t torch.Size([26])\n",
      "up_mps.3.0.edge_up_mps.0.0.1.weight \t torch.Size([26, 26])\n",
      "up_mps.3.0.edge_up_mps.0.0.1.bias \t torch.Size([26])\n",
      "up_mps.3.0.edge_up_mps.0.0.2.weight \t torch.Size([26, 26])\n",
      "up_mps.3.0.edge_up_mps.0.0.2.bias \t torch.Size([26])\n",
      "up_mps.3.0.edge_up_mps.1.0.0.weight \t torch.Size([26, 78])\n",
      "up_mps.3.0.edge_up_mps.1.0.0.bias \t torch.Size([26])\n",
      "up_mps.3.0.edge_up_mps.1.0.1.weight \t torch.Size([26, 26])\n",
      "up_mps.3.0.edge_up_mps.1.0.1.bias \t torch.Size([26])\n",
      "up_mps.3.0.edge_up_mps.1.0.2.weight \t torch.Size([26, 26])\n",
      "up_mps.3.0.edge_up_mps.1.0.2.bias \t torch.Size([26])\n",
      "up_mps.3.0.edge_up_mps.1.1.0.weight \t torch.Size([26, 78])\n",
      "up_mps.3.0.edge_up_mps.1.1.0.bias \t torch.Size([26])\n",
      "up_mps.3.0.edge_up_mps.1.1.1.weight \t torch.Size([26, 26])\n",
      "up_mps.3.0.edge_up_mps.1.1.1.bias \t torch.Size([26])\n",
      "up_mps.3.0.edge_up_mps.1.1.2.weight \t torch.Size([26, 26])\n",
      "up_mps.3.0.edge_up_mps.1.1.2.bias \t torch.Size([26])\n",
      "up_mps.3.0.edge_up_norms.0.0.weight \t torch.Size([26])\n",
      "up_mps.3.0.edge_up_norms.0.0.bias \t torch.Size([26])\n",
      "up_mps.3.0.edge_up_norms.1.0.weight \t torch.Size([26])\n",
      "up_mps.3.0.edge_up_norms.1.0.bias \t torch.Size([26])\n",
      "up_mps.3.0.edge_up_norms.1.1.weight \t torch.Size([26])\n",
      "up_mps.3.0.edge_up_norms.1.1.bias \t torch.Size([26])\n",
      "up_mps.3.0.node_up_mps.0.0.0.weight \t torch.Size([26, 52])\n",
      "up_mps.3.0.node_up_mps.0.0.0.bias \t torch.Size([26])\n",
      "up_mps.3.0.node_up_mps.0.0.1.weight \t torch.Size([26, 26])\n",
      "up_mps.3.0.node_up_mps.0.0.1.bias \t torch.Size([26])\n",
      "up_mps.3.0.node_up_mps.0.0.2.weight \t torch.Size([26, 26])\n",
      "up_mps.3.0.node_up_mps.0.0.2.bias \t torch.Size([26])\n",
      "up_mps.3.0.node_up_mps.1.0.0.weight \t torch.Size([26, 52])\n",
      "up_mps.3.0.node_up_mps.1.0.0.bias \t torch.Size([26])\n",
      "up_mps.3.0.node_up_mps.1.0.1.weight \t torch.Size([26, 26])\n",
      "up_mps.3.0.node_up_mps.1.0.1.bias \t torch.Size([26])\n",
      "up_mps.3.0.node_up_mps.1.0.2.weight \t torch.Size([26, 26])\n",
      "up_mps.3.0.node_up_mps.1.0.2.bias \t torch.Size([26])\n",
      "up_mps.3.0.node_up_mps.1.1.0.weight \t torch.Size([26, 52])\n",
      "up_mps.3.0.node_up_mps.1.1.0.bias \t torch.Size([26])\n",
      "up_mps.3.0.node_up_mps.1.1.1.weight \t torch.Size([26, 26])\n",
      "up_mps.3.0.node_up_mps.1.1.1.bias \t torch.Size([26])\n",
      "up_mps.3.0.node_up_mps.1.1.2.weight \t torch.Size([26, 26])\n",
      "up_mps.3.0.node_up_mps.1.1.2.bias \t torch.Size([26])\n",
      "up_mps.3.0.node_up_norms.0.0.weight \t torch.Size([26])\n",
      "up_mps.3.0.node_up_norms.0.0.bias \t torch.Size([26])\n",
      "up_mps.3.0.node_up_norms.1.0.weight \t torch.Size([26])\n",
      "up_mps.3.0.node_up_norms.1.0.bias \t torch.Size([26])\n",
      "up_mps.3.0.node_up_norms.1.1.weight \t torch.Size([26])\n",
      "up_mps.3.0.node_up_norms.1.1.bias \t torch.Size([26])\n",
      "up_mps.3.0.edge_encoder_f2c_mlp.0.weight \t torch.Size([26, 2])\n",
      "up_mps.3.0.edge_encoder_f2c_mlp.0.bias \t torch.Size([26])\n",
      "up_mps.3.0.edge_encoder_f2c_mlp.1.weight \t torch.Size([26, 26])\n",
      "up_mps.3.0.edge_encoder_f2c_mlp.1.bias \t torch.Size([26])\n",
      "up_mps.3.0.edge_encoder_f2c_mlp.2.weight \t torch.Size([26, 26])\n",
      "up_mps.3.0.edge_encoder_f2c_mlp.2.bias \t torch.Size([26])\n",
      "up_mps.3.0.downsample_mlp.0.weight \t torch.Size([26, 52])\n",
      "up_mps.3.0.downsample_mlp.0.bias \t torch.Size([26])\n",
      "up_mps.3.0.downsample_mlp.1.weight \t torch.Size([26, 26])\n",
      "up_mps.3.0.downsample_mlp.1.bias \t torch.Size([26])\n",
      "up_mps.3.0.downsample_mlp.2.weight \t torch.Size([26, 26])\n",
      "up_mps.3.0.downsample_mlp.2.bias \t torch.Size([26])\n",
      "up_mps.3.0.upsample_mlp.0.weight \t torch.Size([26, 78])\n",
      "up_mps.3.0.upsample_mlp.0.bias \t torch.Size([26])\n",
      "up_mps.3.0.upsample_mlp.1.weight \t torch.Size([26, 26])\n",
      "up_mps.3.0.upsample_mlp.1.bias \t torch.Size([26])\n",
      "up_mps.3.0.upsample_mlp.2.weight \t torch.Size([26, 26])\n",
      "up_mps.3.0.upsample_mlp.2.bias \t torch.Size([26])\n",
      "up_mps.3.0.downsample_norm.weight \t torch.Size([26])\n",
      "up_mps.3.0.downsample_norm.bias \t torch.Size([26])\n",
      "up_mps.3.0.upsample_norm.weight \t torch.Size([26])\n",
      "up_mps.3.0.upsample_norm.bias \t torch.Size([26])\n",
      "up_mps.3.1.edge_down_mps.0.0.0.weight \t torch.Size([26, 78])\n",
      "up_mps.3.1.edge_down_mps.0.0.0.bias \t torch.Size([26])\n",
      "up_mps.3.1.edge_down_mps.0.0.1.weight \t torch.Size([26, 26])\n",
      "up_mps.3.1.edge_down_mps.0.0.1.bias \t torch.Size([26])\n",
      "up_mps.3.1.edge_down_mps.0.0.2.weight \t torch.Size([26, 26])\n",
      "up_mps.3.1.edge_down_mps.0.0.2.bias \t torch.Size([26])\n",
      "up_mps.3.1.edge_down_mps.0.1.0.weight \t torch.Size([26, 78])\n",
      "up_mps.3.1.edge_down_mps.0.1.0.bias \t torch.Size([26])\n",
      "up_mps.3.1.edge_down_mps.0.1.1.weight \t torch.Size([26, 26])\n",
      "up_mps.3.1.edge_down_mps.0.1.1.bias \t torch.Size([26])\n",
      "up_mps.3.1.edge_down_mps.0.1.2.weight \t torch.Size([26, 26])\n",
      "up_mps.3.1.edge_down_mps.0.1.2.bias \t torch.Size([26])\n",
      "up_mps.3.1.edge_down_mps.1.0.0.weight \t torch.Size([26, 78])\n",
      "up_mps.3.1.edge_down_mps.1.0.0.bias \t torch.Size([26])\n",
      "up_mps.3.1.edge_down_mps.1.0.1.weight \t torch.Size([26, 26])\n",
      "up_mps.3.1.edge_down_mps.1.0.1.bias \t torch.Size([26])\n",
      "up_mps.3.1.edge_down_mps.1.0.2.weight \t torch.Size([26, 26])\n",
      "up_mps.3.1.edge_down_mps.1.0.2.bias \t torch.Size([26])\n",
      "up_mps.3.1.edge_down_mps.2.0.0.weight \t torch.Size([26, 78])\n",
      "up_mps.3.1.edge_down_mps.2.0.0.bias \t torch.Size([26])\n",
      "up_mps.3.1.edge_down_mps.2.0.1.weight \t torch.Size([26, 26])\n",
      "up_mps.3.1.edge_down_mps.2.0.1.bias \t torch.Size([26])\n",
      "up_mps.3.1.edge_down_mps.2.0.2.weight \t torch.Size([26, 26])\n",
      "up_mps.3.1.edge_down_mps.2.0.2.bias \t torch.Size([26])\n",
      "up_mps.3.1.edge_down_norms.0.0.weight \t torch.Size([26])\n",
      "up_mps.3.1.edge_down_norms.0.0.bias \t torch.Size([26])\n",
      "up_mps.3.1.edge_down_norms.0.1.weight \t torch.Size([26])\n",
      "up_mps.3.1.edge_down_norms.0.1.bias \t torch.Size([26])\n",
      "up_mps.3.1.edge_down_norms.1.0.weight \t torch.Size([26])\n",
      "up_mps.3.1.edge_down_norms.1.0.bias \t torch.Size([26])\n",
      "up_mps.3.1.edge_down_norms.2.0.weight \t torch.Size([26])\n",
      "up_mps.3.1.edge_down_norms.2.0.bias \t torch.Size([26])\n",
      "up_mps.3.1.node_down_mps.0.0.0.weight \t torch.Size([26, 52])\n",
      "up_mps.3.1.node_down_mps.0.0.0.bias \t torch.Size([26])\n",
      "up_mps.3.1.node_down_mps.0.0.1.weight \t torch.Size([26, 26])\n",
      "up_mps.3.1.node_down_mps.0.0.1.bias \t torch.Size([26])\n",
      "up_mps.3.1.node_down_mps.0.0.2.weight \t torch.Size([26, 26])\n",
      "up_mps.3.1.node_down_mps.0.0.2.bias \t torch.Size([26])\n",
      "up_mps.3.1.node_down_mps.0.1.0.weight \t torch.Size([26, 52])\n",
      "up_mps.3.1.node_down_mps.0.1.0.bias \t torch.Size([26])\n",
      "up_mps.3.1.node_down_mps.0.1.1.weight \t torch.Size([26, 26])\n",
      "up_mps.3.1.node_down_mps.0.1.1.bias \t torch.Size([26])\n",
      "up_mps.3.1.node_down_mps.0.1.2.weight \t torch.Size([26, 26])\n",
      "up_mps.3.1.node_down_mps.0.1.2.bias \t torch.Size([26])\n",
      "up_mps.3.1.node_down_mps.1.0.0.weight \t torch.Size([26, 52])\n",
      "up_mps.3.1.node_down_mps.1.0.0.bias \t torch.Size([26])\n",
      "up_mps.3.1.node_down_mps.1.0.1.weight \t torch.Size([26, 26])\n",
      "up_mps.3.1.node_down_mps.1.0.1.bias \t torch.Size([26])\n",
      "up_mps.3.1.node_down_mps.1.0.2.weight \t torch.Size([26, 26])\n",
      "up_mps.3.1.node_down_mps.1.0.2.bias \t torch.Size([26])\n",
      "up_mps.3.1.node_down_mps.2.0.0.weight \t torch.Size([26, 52])\n",
      "up_mps.3.1.node_down_mps.2.0.0.bias \t torch.Size([26])\n",
      "up_mps.3.1.node_down_mps.2.0.1.weight \t torch.Size([26, 26])\n",
      "up_mps.3.1.node_down_mps.2.0.1.bias \t torch.Size([26])\n",
      "up_mps.3.1.node_down_mps.2.0.2.weight \t torch.Size([26, 26])\n",
      "up_mps.3.1.node_down_mps.2.0.2.bias \t torch.Size([26])\n",
      "up_mps.3.1.node_down_norms.0.0.weight \t torch.Size([26])\n",
      "up_mps.3.1.node_down_norms.0.0.bias \t torch.Size([26])\n",
      "up_mps.3.1.node_down_norms.0.1.weight \t torch.Size([26])\n",
      "up_mps.3.1.node_down_norms.0.1.bias \t torch.Size([26])\n",
      "up_mps.3.1.node_down_norms.1.0.weight \t torch.Size([26])\n",
      "up_mps.3.1.node_down_norms.1.0.bias \t torch.Size([26])\n",
      "up_mps.3.1.node_down_norms.2.0.weight \t torch.Size([26])\n",
      "up_mps.3.1.node_down_norms.2.0.bias \t torch.Size([26])\n",
      "up_mps.3.1.edge_up_mps.0.0.0.weight \t torch.Size([26, 78])\n",
      "up_mps.3.1.edge_up_mps.0.0.0.bias \t torch.Size([26])\n",
      "up_mps.3.1.edge_up_mps.0.0.1.weight \t torch.Size([26, 26])\n",
      "up_mps.3.1.edge_up_mps.0.0.1.bias \t torch.Size([26])\n",
      "up_mps.3.1.edge_up_mps.0.0.2.weight \t torch.Size([26, 26])\n",
      "up_mps.3.1.edge_up_mps.0.0.2.bias \t torch.Size([26])\n",
      "up_mps.3.1.edge_up_mps.1.0.0.weight \t torch.Size([26, 78])\n",
      "up_mps.3.1.edge_up_mps.1.0.0.bias \t torch.Size([26])\n",
      "up_mps.3.1.edge_up_mps.1.0.1.weight \t torch.Size([26, 26])\n",
      "up_mps.3.1.edge_up_mps.1.0.1.bias \t torch.Size([26])\n",
      "up_mps.3.1.edge_up_mps.1.0.2.weight \t torch.Size([26, 26])\n",
      "up_mps.3.1.edge_up_mps.1.0.2.bias \t torch.Size([26])\n",
      "up_mps.3.1.edge_up_mps.1.1.0.weight \t torch.Size([26, 78])\n",
      "up_mps.3.1.edge_up_mps.1.1.0.bias \t torch.Size([26])\n",
      "up_mps.3.1.edge_up_mps.1.1.1.weight \t torch.Size([26, 26])\n",
      "up_mps.3.1.edge_up_mps.1.1.1.bias \t torch.Size([26])\n",
      "up_mps.3.1.edge_up_mps.1.1.2.weight \t torch.Size([26, 26])\n",
      "up_mps.3.1.edge_up_mps.1.1.2.bias \t torch.Size([26])\n",
      "up_mps.3.1.edge_up_norms.0.0.weight \t torch.Size([26])\n",
      "up_mps.3.1.edge_up_norms.0.0.bias \t torch.Size([26])\n",
      "up_mps.3.1.edge_up_norms.1.0.weight \t torch.Size([26])\n",
      "up_mps.3.1.edge_up_norms.1.0.bias \t torch.Size([26])\n",
      "up_mps.3.1.edge_up_norms.1.1.weight \t torch.Size([26])\n",
      "up_mps.3.1.edge_up_norms.1.1.bias \t torch.Size([26])\n",
      "up_mps.3.1.node_up_mps.0.0.0.weight \t torch.Size([26, 52])\n",
      "up_mps.3.1.node_up_mps.0.0.0.bias \t torch.Size([26])\n",
      "up_mps.3.1.node_up_mps.0.0.1.weight \t torch.Size([26, 26])\n",
      "up_mps.3.1.node_up_mps.0.0.1.bias \t torch.Size([26])\n",
      "up_mps.3.1.node_up_mps.0.0.2.weight \t torch.Size([26, 26])\n",
      "up_mps.3.1.node_up_mps.0.0.2.bias \t torch.Size([26])\n",
      "up_mps.3.1.node_up_mps.1.0.0.weight \t torch.Size([26, 52])\n",
      "up_mps.3.1.node_up_mps.1.0.0.bias \t torch.Size([26])\n",
      "up_mps.3.1.node_up_mps.1.0.1.weight \t torch.Size([26, 26])\n",
      "up_mps.3.1.node_up_mps.1.0.1.bias \t torch.Size([26])\n",
      "up_mps.3.1.node_up_mps.1.0.2.weight \t torch.Size([26, 26])\n",
      "up_mps.3.1.node_up_mps.1.0.2.bias \t torch.Size([26])\n",
      "up_mps.3.1.node_up_mps.1.1.0.weight \t torch.Size([26, 52])\n",
      "up_mps.3.1.node_up_mps.1.1.0.bias \t torch.Size([26])\n",
      "up_mps.3.1.node_up_mps.1.1.1.weight \t torch.Size([26, 26])\n",
      "up_mps.3.1.node_up_mps.1.1.1.bias \t torch.Size([26])\n",
      "up_mps.3.1.node_up_mps.1.1.2.weight \t torch.Size([26, 26])\n",
      "up_mps.3.1.node_up_mps.1.1.2.bias \t torch.Size([26])\n",
      "up_mps.3.1.node_up_norms.0.0.weight \t torch.Size([26])\n",
      "up_mps.3.1.node_up_norms.0.0.bias \t torch.Size([26])\n",
      "up_mps.3.1.node_up_norms.1.0.weight \t torch.Size([26])\n",
      "up_mps.3.1.node_up_norms.1.0.bias \t torch.Size([26])\n",
      "up_mps.3.1.node_up_norms.1.1.weight \t torch.Size([26])\n",
      "up_mps.3.1.node_up_norms.1.1.bias \t torch.Size([26])\n",
      "up_mps.3.1.edge_encoder_f2c_mlp.0.weight \t torch.Size([26, 2])\n",
      "up_mps.3.1.edge_encoder_f2c_mlp.0.bias \t torch.Size([26])\n",
      "up_mps.3.1.edge_encoder_f2c_mlp.1.weight \t torch.Size([26, 26])\n",
      "up_mps.3.1.edge_encoder_f2c_mlp.1.bias \t torch.Size([26])\n",
      "up_mps.3.1.edge_encoder_f2c_mlp.2.weight \t torch.Size([26, 26])\n",
      "up_mps.3.1.edge_encoder_f2c_mlp.2.bias \t torch.Size([26])\n",
      "up_mps.3.1.downsample_mlp.0.weight \t torch.Size([26, 52])\n",
      "up_mps.3.1.downsample_mlp.0.bias \t torch.Size([26])\n",
      "up_mps.3.1.downsample_mlp.1.weight \t torch.Size([26, 26])\n",
      "up_mps.3.1.downsample_mlp.1.bias \t torch.Size([26])\n",
      "up_mps.3.1.downsample_mlp.2.weight \t torch.Size([26, 26])\n",
      "up_mps.3.1.downsample_mlp.2.bias \t torch.Size([26])\n",
      "up_mps.3.1.upsample_mlp.0.weight \t torch.Size([26, 78])\n",
      "up_mps.3.1.upsample_mlp.0.bias \t torch.Size([26])\n",
      "up_mps.3.1.upsample_mlp.1.weight \t torch.Size([26, 26])\n",
      "up_mps.3.1.upsample_mlp.1.bias \t torch.Size([26])\n",
      "up_mps.3.1.upsample_mlp.2.weight \t torch.Size([26, 26])\n",
      "up_mps.3.1.upsample_mlp.2.bias \t torch.Size([26])\n",
      "up_mps.3.1.downsample_norm.weight \t torch.Size([26])\n",
      "up_mps.3.1.downsample_norm.bias \t torch.Size([26])\n",
      "up_mps.3.1.upsample_norm.weight \t torch.Size([26])\n",
      "up_mps.3.1.upsample_norm.bias \t torch.Size([26])\n",
      "node_decode.0.weight \t torch.Size([26, 26])\n",
      "node_decode.0.bias \t torch.Size([26])\n",
      "node_decode.1.weight \t torch.Size([26, 26])\n",
      "node_decode.1.bias \t torch.Size([26])\n",
      "node_decode.2.weight \t torch.Size([2, 26])\n",
      "node_decode.2.bias \t torch.Size([2])\n"
     ]
    }
   ],
   "source": [
    "SEED = 123\n",
    "torch.manual_seed(SEED)\n",
    "np.random.seed(SEED)\n",
    "random.seed(SEED)        #Python\n",
    "\n",
    "#pathE='/root/data1/EMD/Encode_state_dict.pt'\n",
    "#pathD='/root/data1/EMD/Decode_state_dict.pt'\n",
    "#pathED = '/root/data1/EMD/ED_state_dict.pt'\n",
    "epochs = 200\n",
    "\n",
    "device = 'cuda' if torch.cuda.is_available() else 'cpu'    #cuda\n",
    "\n",
    "file_path= '/root/data1/circle_fenjie_EMD/meshgraphnets_miniset1251traj50200ts_vis.pt'\n",
    "dataset = torch.load(file_path)\n",
    "print(len(dataset))\n",
    "#EDstats_list = get_EDstats(dataset)\n",
    "[EDmean_vec_x,EDstd_vec_x,EDmean_vec_edge,EDstd_vec_edge] = torch.load('/root/data1/circle_fenjie_EMD/EDstats_list.pt')\n",
    "\n",
    "(EDmean_vec_x,EDstd_vec_x,EDmean_vec_edge,EDstd_vec_edge)=(EDmean_vec_x.to(device),\n",
    "        EDstd_vec_x.to(device),EDmean_vec_edge.to(device),EDstd_vec_edge.to(device))\n",
    "\n",
    "train_size=7       #改\n",
    "train_loader = DataLoader(dataset[:train_size], shuffle=False)\n",
    "valid_loader = DataLoader(dataset[train_size:], shuffle=False)#分一下训练数据和验证数据\n",
    "num=int(dataset[:train_size][0].x.shape[0]/(per_t*batch_size))\n",
    "print(num)#3718\n",
    "sample = dataset[:train_size][0]\n",
    "print(sample)\n",
    "in_channels_node = sample.x.shape[1]\n",
    "in_channels_edge = sample.edge_attr.shape[1]\n",
    "hidden_channels = 26  #22\n",
    "out_channels = in_channels_node\n",
    "batch_size =25       #改\n",
    "n_mlp_encode = 3\n",
    "n_mlp_mp = 3\n",
    "\n",
    "n_mp_down_topk = [1,1,1,1]\n",
    "n_mp_up_topk = [1,1,1,2]\n",
    "pool_ratios = [3500,2800,1500]#[1./2.]\n",
    "\n",
    "#n_mp_down_topk = [1,1]\n",
    "#n_mp_up_topk = [1,2]\n",
    "#pool_ratios = [1/2]#[1./2.]\n",
    "n_mp_down_enc = [3]#3\n",
    "n_mp_up_enc = []\n",
    "lengthscales_enc = []\n",
    "n_mp_down_dec = [2,1,1]\n",
    "n_mp_up_dec = [1,2]\n",
    "lengthscales_dec = [0.5,1]\n",
    "interp = 'learned'\n",
    "act = F.elu\n",
    "param_sharing = False\n",
    "bounding_box = []\n",
    "if len(lengthscales_dec) > 0:\n",
    "        x_lo = sample.mesh_pos[:num,0].min() - lengthscales_dec[0]/2\n",
    "        x_hi = sample.mesh_pos[:num,0].max() + lengthscales_dec[0]/2\n",
    "        y_lo = sample.mesh_pos[:num,1].min() - lengthscales_dec[0]/2\n",
    "        y_hi = sample.mesh_pos[:num,1].max() + lengthscales_dec[0]/2\n",
    "        bounding_box = [x_lo.cpu().item(), x_hi.cpu().item(), y_lo.cpu().item(), y_hi.cpu().item()]\n",
    "\n",
    "model = model_1_GNN_TopK(\n",
    "                in_channels_node,\n",
    "                in_channels_edge,\n",
    "                hidden_channels,\n",
    "                out_channels,\n",
    "                n_mlp_encode,\n",
    "                n_mlp_mp,\n",
    "                n_mp_down_topk,\n",
    "                n_mp_up_topk,\n",
    "                pool_ratios,\n",
    "                n_mp_down_enc,\n",
    "                n_mp_up_enc,\n",
    "                n_mp_down_dec,\n",
    "                n_mp_up_dec,\n",
    "                lengthscales_enc,\n",
    "                lengthscales_dec,\n",
    "                bounding_box,\n",
    "                interp,\n",
    "                act,\n",
    "                param_sharing,\n",
    "                name='gnn_topk')\n",
    "model.to(device)\n",
    "train_hist, test_hist=model_1_train(epochs, model, train_loader, valid_loader,per_t,batch_size,EDmean_vec_x,EDstd_vec_x,EDmean_vec_edge,EDstd_vec_edge)\n"
   ]
  },
  {
   "cell_type": "code",
   "execution_count": 4,
   "metadata": {},
   "outputs": [
    {
     "name": "stdout",
     "output_type": "stream",
     "text": [
      "8\n",
      "torch.Size([743600, 2])\n",
      "200\n",
      "Data(x=[3718, 2], edge_index=[2, 21714], edge_attr=[21714, 3], cells=[7139, 3], mesh_pos=[3718, 2])\n"
     ]
    }
   ],
   "source": [
    "model = model_1_GNN_TopK(\n",
    "                in_channels_node,\n",
    "                in_channels_edge,\n",
    "                hidden_channels,\n",
    "                out_channels,\n",
    "                n_mlp_encode,\n",
    "                n_mlp_mp,\n",
    "                n_mp_down_topk,\n",
    "                n_mp_up_topk,\n",
    "                pool_ratios,\n",
    "                n_mp_down_enc,\n",
    "                n_mp_up_enc,\n",
    "                n_mp_down_dec,\n",
    "                n_mp_up_dec,\n",
    "                lengthscales_enc,\n",
    "                lengthscales_dec,\n",
    "                bounding_box,\n",
    "                interp,\n",
    "                act,\n",
    "                param_sharing,\n",
    "                name='gnn_topk')\n",
    "model.to(device)\n",
    "pathED = '/root/data1/duibishiyan/model_1_ED_state_dict.pt'\n",
    "model.load_state_dict(torch.load(pathED), strict=False)\n",
    "dataset = torch.load(file_path)\n",
    "loader = DataLoader(dataset,  shuffle=False)\n",
    "print(len(dataset))\n",
    "pred=torch.tensor([[0,0]]).type(torch.float).to(device)\n",
    "per_t=1\n",
    "batch_size=25     #改\n",
    "device = 'cuda' if torch.cuda.is_available() else 'cpu'\n",
    "with torch.no_grad():\n",
    "  for step, data in enumerate(loader):\n",
    "    data=data.to(device)\n",
    "    out, _ = model(data, per_t , batch_size,EDmean_vec_x,EDstd_vec_x,EDmean_vec_edge,EDstd_vec_edge,batch=None, return_mask=False)\n",
    "    pred=torch.vstack((pred,out))\n",
    "pred=pred[1:,:]\n",
    "print(pred.shape)   #200*3718\n",
    "pred=pred*EDstd_vec_x+EDmean_vec_x   #pred是torch，行数为600个时间*点数，列为2\n",
    "#per_t=1\n",
    "#batch_size=1\n",
    "#get_dataset(number_trajectories,number_ts,per_t,batch_size,dataset_dir,path)\n",
    "\n",
    "file_path_ed='/root/data1/circle_fenjie_EMD/meshgraphnets_miniset111traj50200ts_vis.pt'\n",
    "dataset_input = torch.load(file_path_ed)\n",
    "print(len(dataset_input)) #200\n",
    "print(dataset_input[0])\n",
    "pred=pred.to('cpu')\n",
    "viz_data = {}\n",
    "viz_data_loader = copy.deepcopy(dataset_input)\n",
    "for i in range(int(pred.shape[0]/num)):\n",
    "  viz_data_loader[i].x=pred[i*num:(i+1)*num,:]\n",
    "torch.save(viz_data_loader,'/root/data1/duibishiyan'+'/model_1_encode_decode_output'+str(number_trajectories)+'traj'+str(satart_number_ts)+str(number_ts)+'ts_vis.pt')#300个data"
   ]
  },
  {
   "cell_type": "code",
   "execution_count": 5,
   "metadata": {},
   "outputs": [
    {
     "name": "stdout",
     "output_type": "stream",
     "text": [
      "200\n",
      "Data(x=[3718, 2], edge_index=[2, 21714], edge_attr=[21714, 3], cells=[7139, 3], mesh_pos=[3718, 2])\n",
      "start to create the destination folder\n",
      "start to store data as a new variable\n",
      "transform succeed\n"
     ]
    }
   ],
   "source": [
    "for i in range(number_trajectories):\n",
    "    data=torch.load('/root/data1/duibishiyan'+'/model_1_encode_decode_output'+str(number_trajectories)+'traj'+str(satart_number_ts)+str(number_ts)+'ts_vis.pt')\n",
    "    print(len(data))#200\n",
    "    print(data[0])\n",
    "   \n",
    "    originalFolder='/root/data1/yuan_'+str(i)\n",
    "    destinationFolder='/root/data1/model1_duibishiyan_circle_dataset_EDoutput_'+str(i)\n",
    "    fileName=\"/circle-2d-drag_\"\n",
    "    transform_vector(data, satart_number_ts,number_ts, originalFolder, destinationFolder, fileName)"
   ]
  },
  {
   "cell_type": "markdown",
   "metadata": {},
   "source": [
    "model_2(gcn+unet+adaptive)"
   ]
  },
  {
   "cell_type": "code",
   "execution_count": 2,
   "metadata": {},
   "outputs": [
    {
     "name": "stderr",
     "output_type": "stream",
     "text": [
      "/usr/local/lib/python3.8/dist-packages/tqdm/auto.py:22: TqdmWarning: IProgress not found. Please update jupyter and ipywidgets. See https://ipywidgets.readthedocs.io/en/stable/user_install.html\n",
      "  from .autonotebook import tqdm as notebook_tqdm\n"
     ]
    }
   ],
   "source": [
    "import numpy as np\n",
    "import meshio\n",
    "import torch\n",
    "import tensorflow.compat.v1 as tf\n",
    "\n",
    "from torch_geometric.data import Data\n",
    "import torch.nn.functional as F\n",
    "from torch_geometric.loader import DataLoader\n",
    "import pandas as pd\n",
    "import os\n",
    "import time\n",
    "from IPython.lib.display import isdir\n",
    "import random\n",
    "import matplotlib.pyplot as plt\n",
    "import copy\n",
    "from matplotlib import tri as mtri\n",
    "from matplotlib import animation\n",
    "from mpl_toolkits.axes_grid1 import make_axes_locatable\n",
    "\n",
    "from models_duibishiyan import *\n",
    "from poolings_duibishiyan import *\n",
    "from processing_duibishiyan import *"
   ]
  },
  {
   "cell_type": "code",
   "execution_count": 3,
   "metadata": {},
   "outputs": [],
   "source": [
    "number_trajectories=1\n",
    "number_ts=200   #600\n",
    "satart_number_ts=50\n",
    "per_t=1     #在编码和解码的时候每五个用的点是一样的\n",
    "dt=0.1\n",
    "batch_size = 25\n",
    "#dataset_dir = '/root/data1/circle_EMD'\n",
    "#path='/root/data1/dataset_'\n",
    "#get_dataset(number_trajectories,satart_number_ts,number_ts,per_t,batch_size,dataset_dir,path)"
   ]
  },
  {
   "cell_type": "code",
   "execution_count": 4,
   "metadata": {},
   "outputs": [
    {
     "name": "stdout",
     "output_type": "stream",
     "text": [
      "8\n"
     ]
    },
    {
     "name": "stderr",
     "output_type": "stream",
     "text": [
      "Training:   0%|          | 1/200 [00:07<26:21,  7.95s/Epochs]"
     ]
    },
    {
     "name": "stdout",
     "output_type": "stream",
     "text": [
      "Epoch: 0000,\tTrain mse: 0.97567185,\tTrain_RMSE: 0.98773562,\tTrain_acc: 0.98776901,\tTest mse: 0.94798899,\tTime: 7.94886208s\n"
     ]
    },
    {
     "name": "stderr",
     "output_type": "stream",
     "text": [
      "Training:   1%|          | 2/200 [00:14<24:27,  7.41s/Epochs]"
     ]
    },
    {
     "name": "stdout",
     "output_type": "stream",
     "text": [
      "Epoch: 0001,\tTrain mse: 0.90726603,\tTrain_RMSE: 0.95239264,\tTrain_acc: 0.95242649,\tTest mse: 0.84664047,\tTime: 7.03571200s\n"
     ]
    },
    {
     "name": "stderr",
     "output_type": "stream",
     "text": [
      "Training:   2%|▏         | 3/200 [00:22<24:11,  7.37s/Epochs]"
     ]
    },
    {
     "name": "stdout",
     "output_type": "stream",
     "text": [
      "Epoch: 0002,\tTrain mse: 0.78889699,\tTrain_RMSE: 0.88793537,\tTrain_acc: 0.88796932,\tTest mse: 0.71674585,\tTime: 7.31768966s\n"
     ]
    },
    {
     "name": "stderr",
     "output_type": "stream",
     "text": [
      "Training:   2%|▏         | 4/200 [00:29<23:38,  7.23s/Epochs]"
     ]
    },
    {
     "name": "stdout",
     "output_type": "stream",
     "text": [
      "Epoch: 0003,\tTrain mse: 0.66972293,\tTrain_RMSE: 0.81817029,\tTrain_acc: 0.81820124,\tTest mse: 0.63015854,\tTime: 7.02530241s\n"
     ]
    },
    {
     "name": "stderr",
     "output_type": "stream",
     "text": [
      "Training:   2%|▎         | 5/200 [00:36<23:14,  7.15s/Epochs]"
     ]
    },
    {
     "name": "stdout",
     "output_type": "stream",
     "text": [
      "Epoch: 0004,\tTrain mse: 0.63371652,\tTrain_RMSE: 0.79605339,\tTrain_acc: 0.79607737,\tTest mse: 0.65364146,\tTime: 7.00581908s\n"
     ]
    },
    {
     "name": "stderr",
     "output_type": "stream",
     "text": [
      "Training:   3%|▎         | 6/200 [00:43<22:57,  7.10s/Epochs]"
     ]
    },
    {
     "name": "stdout",
     "output_type": "stream",
     "text": [
      "Epoch: 0005,\tTrain mse: 0.65480431,\tTrain_RMSE: 0.80919588,\tTrain_acc: 0.80922198,\tTest mse: 0.64203399,\tTime: 6.99155974s\n"
     ]
    },
    {
     "name": "stderr",
     "output_type": "stream",
     "text": [
      "Training:   4%|▎         | 7/200 [00:50<22:43,  7.06s/Epochs]"
     ]
    },
    {
     "name": "stdout",
     "output_type": "stream",
     "text": [
      "Epoch: 0006,\tTrain mse: 0.60410092,\tTrain_RMSE: 0.77693326,\tTrain_acc: 0.77696341,\tTest mse: 0.54441476,\tTime: 6.99298406s\n"
     ]
    },
    {
     "name": "stderr",
     "output_type": "stream",
     "text": [
      "Training:   4%|▍         | 8/200 [00:57<22:32,  7.04s/Epochs]"
     ]
    },
    {
     "name": "stdout",
     "output_type": "stream",
     "text": [
      "Epoch: 0007,\tTrain mse: 0.52701852,\tTrain_RMSE: 0.72589463,\tTrain_acc: 0.72592008,\tTest mse: 0.49257505,\tTime: 6.99564624s\n"
     ]
    },
    {
     "name": "stderr",
     "output_type": "stream",
     "text": [
      "Training:   4%|▍         | 9/200 [01:04<22:21,  7.02s/Epochs]"
     ]
    },
    {
     "name": "stdout",
     "output_type": "stream",
     "text": [
      "Epoch: 0008,\tTrain mse: 0.47683213,\tTrain_RMSE: 0.69034615,\tTrain_acc: 0.69037068,\tTest mse: 0.50125921,\tTime: 6.97571707s\n"
     ]
    },
    {
     "name": "stderr",
     "output_type": "stream",
     "text": [
      "Training:   5%|▌         | 10/200 [01:11<22:14,  7.03s/Epochs]"
     ]
    },
    {
     "name": "stdout",
     "output_type": "stream",
     "text": [
      "Epoch: 0009,\tTrain mse: 0.42717421,\tTrain_RMSE: 0.65291166,\tTrain_acc: 0.65294260,\tTest mse: 0.42692208,\tTime: 7.02906466s\n"
     ]
    },
    {
     "name": "stderr",
     "output_type": "stream",
     "text": [
      "Training:   6%|▌         | 11/200 [01:18<22:07,  7.02s/Epochs]"
     ]
    },
    {
     "name": "stdout",
     "output_type": "stream",
     "text": [
      "Epoch: 0010,\tTrain mse: 0.41341401,\tTrain_RMSE: 0.64291844,\tTrain_acc: 0.64294016,\tTest mse: 0.42009228,\tTime: 7.01964307s\n"
     ]
    },
    {
     "name": "stderr",
     "output_type": "stream",
     "text": [
      "Training:   6%|▌         | 12/200 [01:25<21:58,  7.02s/Epochs]"
     ]
    },
    {
     "name": "stdout",
     "output_type": "stream",
     "text": [
      "Epoch: 0011,\tTrain mse: 0.40939205,\tTrain_RMSE: 0.63978525,\tTrain_acc: 0.63980663,\tTest mse: 0.41579300,\tTime: 6.99409223s\n"
     ]
    },
    {
     "name": "stderr",
     "output_type": "stream",
     "text": [
      "Training:   6%|▋         | 13/200 [01:32<21:49,  7.00s/Epochs]"
     ]
    },
    {
     "name": "stdout",
     "output_type": "stream",
     "text": [
      "Epoch: 0012,\tTrain mse: 0.39753160,\tTrain_RMSE: 0.63046781,\tTrain_acc: 0.63048947,\tTest mse: 0.41403908,\tTime: 6.97076917s\n"
     ]
    },
    {
     "name": "stderr",
     "output_type": "stream",
     "text": [
      "Training:   7%|▋         | 14/200 [01:39<21:46,  7.02s/Epochs]"
     ]
    },
    {
     "name": "stdout",
     "output_type": "stream",
     "text": [
      "Epoch: 0013,\tTrain mse: 0.42434275,\tTrain_RMSE: 0.65139142,\tTrain_acc: 0.65141010,\tTest mse: 0.43194088,\tTime: 7.07137680s\n"
     ]
    },
    {
     "name": "stderr",
     "output_type": "stream",
     "text": [
      "Training:   8%|▊         | 15/200 [01:46<21:39,  7.02s/Epochs]"
     ]
    },
    {
     "name": "stdout",
     "output_type": "stream",
     "text": [
      "Epoch: 0014,\tTrain mse: 0.43268152,\tTrain_RMSE: 0.65778152,\tTrain_acc: 0.65780193,\tTest mse: 0.43267834,\tTime: 7.02331424s\n"
     ]
    },
    {
     "name": "stderr",
     "output_type": "stream",
     "text": [
      "Training:   8%|▊         | 16/200 [01:53<21:31,  7.02s/Epochs]"
     ]
    },
    {
     "name": "stdout",
     "output_type": "stream",
     "text": [
      "Epoch: 0015,\tTrain mse: 0.38183343,\tTrain_RMSE: 0.61634169,\tTrain_acc: 0.61637414,\tTest mse: 0.28023496,\tTime: 7.00218034s\n"
     ]
    },
    {
     "name": "stderr",
     "output_type": "stream",
     "text": [
      "Training:   8%|▊         | 17/200 [02:00<21:22,  7.01s/Epochs]"
     ]
    },
    {
     "name": "stdout",
     "output_type": "stream",
     "text": [
      "Epoch: 0016,\tTrain mse: 0.25652317,\tTrain_RMSE: 0.50625465,\tTrain_acc: 0.50627542,\tTest mse: 0.22224383,\tTime: 6.98126388s\n"
     ]
    },
    {
     "name": "stderr",
     "output_type": "stream",
     "text": [
      "Training:   9%|▉         | 18/200 [02:07<21:14,  7.00s/Epochs]"
     ]
    },
    {
     "name": "stdout",
     "output_type": "stream",
     "text": [
      "Epoch: 0017,\tTrain mse: 0.20574005,\tTrain_RMSE: 0.45338534,\tTrain_acc: 0.45340359,\tTest mse: 0.18586676,\tTime: 6.99313426s\n"
     ]
    },
    {
     "name": "stderr",
     "output_type": "stream",
     "text": [
      "Training:  10%|▉         | 19/200 [02:14<21:06,  7.00s/Epochs]"
     ]
    },
    {
     "name": "stdout",
     "output_type": "stream",
     "text": [
      "Epoch: 0018,\tTrain mse: 0.18562760,\tTrain_RMSE: 0.43083890,\tTrain_acc: 0.43085265,\tTest mse: 0.18644702,\tTime: 6.98134995s\n"
     ]
    },
    {
     "name": "stderr",
     "output_type": "stream",
     "text": [
      "Training:  10%|█         | 20/200 [02:21<20:58,  6.99s/Epochs]"
     ]
    },
    {
     "name": "stdout",
     "output_type": "stream",
     "text": [
      "Epoch: 0019,\tTrain mse: 0.18546379,\tTrain_RMSE: 0.43065033,\tTrain_acc: 0.43066457,\tTest mse: 0.18334281,\tTime: 6.97283602s\n"
     ]
    },
    {
     "name": "stderr",
     "output_type": "stream",
     "text": [
      "Training:  10%|█         | 21/200 [02:28<20:50,  6.99s/Epochs]"
     ]
    },
    {
     "name": "stdout",
     "output_type": "stream",
     "text": [
      "Epoch: 0020,\tTrain mse: 0.19109373,\tTrain_RMSE: 0.43708113,\tTrain_acc: 0.43709293,\tTest mse: 0.21641944,\tTime: 6.97367096s\n"
     ]
    },
    {
     "name": "stderr",
     "output_type": "stream",
     "text": [
      "Training:  11%|█         | 22/200 [02:35<20:43,  6.98s/Epochs]"
     ]
    },
    {
     "name": "stdout",
     "output_type": "stream",
     "text": [
      "Epoch: 0021,\tTrain mse: 0.20857406,\tTrain_RMSE: 0.45651991,\tTrain_acc: 0.45653397,\tTest mse: 0.18799950,\tTime: 6.97959876s\n"
     ]
    },
    {
     "name": "stderr",
     "output_type": "stream",
     "text": [
      "Training:  12%|█▏        | 23/200 [02:42<20:40,  7.01s/Epochs]"
     ]
    },
    {
     "name": "stdout",
     "output_type": "stream",
     "text": [
      "Epoch: 0022,\tTrain mse: 0.18743799,\tTrain_RMSE: 0.43292956,\tTrain_acc: 0.43294320,\tTest mse: 0.18045114,\tTime: 7.07089782s\n"
     ]
    },
    {
     "name": "stderr",
     "output_type": "stream",
     "text": [
      "Training:  12%|█▏        | 24/200 [02:49<20:33,  7.01s/Epochs]"
     ]
    },
    {
     "name": "stdout",
     "output_type": "stream",
     "text": [
      "Epoch: 0023,\tTrain mse: 0.16601688,\tTrain_RMSE: 0.40730595,\tTrain_acc: 0.40732130,\tTest mse: 0.15000769,\tTime: 6.99871612s\n"
     ]
    },
    {
     "name": "stderr",
     "output_type": "stream",
     "text": [
      "Training:  12%|█▎        | 25/200 [02:56<20:26,  7.01s/Epochs]"
     ]
    },
    {
     "name": "stdout",
     "output_type": "stream",
     "text": [
      "Epoch: 0024,\tTrain mse: 0.14684701,\tTrain_RMSE: 0.38320108,\tTrain_acc: 0.38321272,\tTest mse: 0.14548483,\tTime: 6.99991202s\n"
     ]
    },
    {
     "name": "stderr",
     "output_type": "stream",
     "text": [
      "Training:  13%|█▎        | 26/200 [03:03<20:16,  6.99s/Epochs]"
     ]
    },
    {
     "name": "stdout",
     "output_type": "stream",
     "text": [
      "Epoch: 0025,\tTrain mse: 0.13752493,\tTrain_RMSE: 0.37081481,\tTrain_acc: 0.37082693,\tTest mse: 0.13344644,\tTime: 6.95993233s\n"
     ]
    },
    {
     "name": "stderr",
     "output_type": "stream",
     "text": [
      "Training:  14%|█▎        | 27/200 [03:10<20:19,  7.05s/Epochs]"
     ]
    },
    {
     "name": "stdout",
     "output_type": "stream",
     "text": [
      "Epoch: 0026,\tTrain mse: 0.12865387,\tTrain_RMSE: 0.35864607,\tTrain_acc: 0.35865721,\tTest mse: 0.12414756,\tTime: 7.17258716s\n"
     ]
    },
    {
     "name": "stderr",
     "output_type": "stream",
     "text": [
      "Training:  14%|█▍        | 28/200 [03:17<20:08,  7.03s/Epochs]"
     ]
    },
    {
     "name": "stdout",
     "output_type": "stream",
     "text": [
      "Epoch: 0027,\tTrain mse: 0.11694692,\tTrain_RMSE: 0.34194046,\tTrain_acc: 0.34195170,\tTest mse: 0.11117865,\tTime: 6.97230077s\n"
     ]
    },
    {
     "name": "stderr",
     "output_type": "stream",
     "text": [
      "Training:  14%|█▍        | 29/200 [03:24<19:57,  7.00s/Epochs]"
     ]
    },
    {
     "name": "stdout",
     "output_type": "stream",
     "text": [
      "Epoch: 0028,\tTrain mse: 0.10837011,\tTrain_RMSE: 0.32918954,\tTrain_acc: 0.32919940,\tTest mse: 0.10843879,\tTime: 6.95414352s\n"
     ]
    },
    {
     "name": "stderr",
     "output_type": "stream",
     "text": [
      "Training:  15%|█▌        | 30/200 [03:31<19:48,  6.99s/Epochs]"
     ]
    },
    {
     "name": "stdout",
     "output_type": "stream",
     "text": [
      "Epoch: 0029,\tTrain mse: 0.10644244,\tTrain_RMSE: 0.32621871,\tTrain_acc: 0.32622707,\tTest mse: 0.10634796,\tTime: 6.95599079s\n"
     ]
    },
    {
     "name": "stderr",
     "output_type": "stream",
     "text": [
      "Training:  16%|█▌        | 31/200 [03:38<19:37,  6.97s/Epochs]"
     ]
    },
    {
     "name": "stdout",
     "output_type": "stream",
     "text": [
      "Epoch: 0030,\tTrain mse: 0.10605482,\tTrain_RMSE: 0.32564304,\tTrain_acc: 0.32565156,\tTest mse: 0.10453867,\tTime: 6.90696788s\n"
     ]
    },
    {
     "name": "stderr",
     "output_type": "stream",
     "text": [
      "Training:  16%|█▌        | 32/200 [03:45<19:28,  6.95s/Epochs]"
     ]
    },
    {
     "name": "stdout",
     "output_type": "stream",
     "text": [
      "Epoch: 0031,\tTrain mse: 0.10346801,\tTrain_RMSE: 0.32165833,\tTrain_acc: 0.32166767,\tTest mse: 0.10328980,\tTime: 6.91902971s\n"
     ]
    },
    {
     "name": "stderr",
     "output_type": "stream",
     "text": [
      "Training:  16%|█▋        | 33/200 [03:52<19:20,  6.95s/Epochs]"
     ]
    },
    {
     "name": "stdout",
     "output_type": "stream",
     "text": [
      "Epoch: 0032,\tTrain mse: 0.10439027,\tTrain_RMSE: 0.32304663,\tTrain_acc: 0.32305500,\tTest mse: 0.10422416,\tTime: 6.92878795s\n"
     ]
    },
    {
     "name": "stderr",
     "output_type": "stream",
     "text": [
      "Training:  17%|█▋        | 34/200 [03:59<19:14,  6.95s/Epochs]"
     ]
    },
    {
     "name": "stdout",
     "output_type": "stream",
     "text": [
      "Epoch: 0033,\tTrain mse: 0.10089969,\tTrain_RMSE: 0.31763161,\tTrain_acc: 0.31764069,\tTest mse: 0.09845020,\tTime: 6.96741867s\n"
     ]
    },
    {
     "name": "stderr",
     "output_type": "stream",
     "text": [
      "Training:  18%|█▊        | 35/200 [04:06<19:07,  6.95s/Epochs]"
     ]
    },
    {
     "name": "stdout",
     "output_type": "stream",
     "text": [
      "Epoch: 0034,\tTrain mse: 0.09706331,\tTrain_RMSE: 0.31154693,\tTrain_acc: 0.31155670,\tTest mse: 0.09504022,\tTime: 6.94901991s\n"
     ]
    },
    {
     "name": "stderr",
     "output_type": "stream",
     "text": [
      "Training:  18%|█▊        | 36/200 [04:13<19:02,  6.97s/Epochs]"
     ]
    },
    {
     "name": "stdout",
     "output_type": "stream",
     "text": [
      "Epoch: 0035,\tTrain mse: 0.09522694,\tTrain_RMSE: 0.30858358,\tTrain_acc: 0.30859289,\tTest mse: 0.09640224,\tTime: 7.00451756s\n"
     ]
    },
    {
     "name": "stderr",
     "output_type": "stream",
     "text": [
      "Training:  18%|█▊        | 37/200 [04:20<18:57,  6.98s/Epochs]"
     ]
    },
    {
     "name": "stdout",
     "output_type": "stream",
     "text": [
      "Epoch: 0036,\tTrain mse: 0.09571496,\tTrain_RMSE: 0.30937473,\tTrain_acc: 0.30938393,\tTest mse: 0.10562231,\tTime: 6.99858475s\n"
     ]
    },
    {
     "name": "stderr",
     "output_type": "stream",
     "text": [
      "Training:  19%|█▉        | 38/200 [04:27<18:49,  6.97s/Epochs]"
     ]
    },
    {
     "name": "stdout",
     "output_type": "stream",
     "text": [
      "Epoch: 0037,\tTrain mse: 0.10025693,\tTrain_RMSE: 0.31657957,\tTrain_acc: 0.31658956,\tTest mse: 0.09752310,\tTime: 6.95709682s\n"
     ]
    },
    {
     "name": "stderr",
     "output_type": "stream",
     "text": [
      "Training:  20%|█▉        | 39/200 [04:34<18:42,  6.97s/Epochs]"
     ]
    },
    {
     "name": "stdout",
     "output_type": "stream",
     "text": [
      "Epoch: 0038,\tTrain mse: 0.09553428,\tTrain_RMSE: 0.30907926,\tTrain_acc: 0.30908948,\tTest mse: 0.09590021,\tTime: 6.97844386s\n",
      "Epoch    39: reducing learning rate of group 0 to 5.0000e-04.\n"
     ]
    },
    {
     "name": "stderr",
     "output_type": "stream",
     "text": [
      "Training:  20%|██        | 40/200 [04:41<18:36,  6.98s/Epochs]"
     ]
    },
    {
     "name": "stdout",
     "output_type": "stream",
     "text": [
      "Epoch: 0039,\tTrain mse: 0.09486050,\tTrain_RMSE: 0.30799239,\tTrain_acc: 0.30800229,\tTest mse: 0.09530713,\tTime: 6.98914504s\n"
     ]
    },
    {
     "name": "stderr",
     "output_type": "stream",
     "text": [
      "Training:  20%|██        | 41/200 [04:48<18:31,  6.99s/Epochs]"
     ]
    },
    {
     "name": "stdout",
     "output_type": "stream",
     "text": [
      "Epoch: 0040,\tTrain mse: 0.09555295,\tTrain_RMSE: 0.30911131,\tTrain_acc: 0.30912048,\tTest mse: 0.09531104,\tTime: 7.02591586s\n"
     ]
    },
    {
     "name": "stderr",
     "output_type": "stream",
     "text": [
      "Training:  21%|██        | 42/200 [04:55<18:24,  6.99s/Epochs]"
     ]
    },
    {
     "name": "stdout",
     "output_type": "stream",
     "text": [
      "Epoch: 0041,\tTrain mse: 0.09423311,\tTrain_RMSE: 0.30696903,\tTrain_acc: 0.30697840,\tTest mse: 0.09320047,\tTime: 6.99090767s\n"
     ]
    },
    {
     "name": "stderr",
     "output_type": "stream",
     "text": [
      "Training:  22%|██▏       | 43/200 [05:02<18:17,  6.99s/Epochs]"
     ]
    },
    {
     "name": "stdout",
     "output_type": "stream",
     "text": [
      "Epoch: 0042,\tTrain mse: 0.09219936,\tTrain_RMSE: 0.30363869,\tTrain_acc: 0.30364808,\tTest mse: 0.09158319,\tTime: 6.97567153s\n"
     ]
    },
    {
     "name": "stderr",
     "output_type": "stream",
     "text": [
      "Training:  22%|██▏       | 44/200 [05:09<18:09,  6.98s/Epochs]"
     ]
    },
    {
     "name": "stdout",
     "output_type": "stream",
     "text": [
      "Epoch: 0043,\tTrain mse: 0.09090036,\tTrain_RMSE: 0.30149137,\tTrain_acc: 0.30150062,\tTest mse: 0.09055178,\tTime: 6.96603203s\n"
     ]
    },
    {
     "name": "stderr",
     "output_type": "stream",
     "text": [
      "Training:  22%|██▎       | 45/200 [05:15<18:01,  6.98s/Epochs]"
     ]
    },
    {
     "name": "stdout",
     "output_type": "stream",
     "text": [
      "Epoch: 0044,\tTrain mse: 0.09127226,\tTrain_RMSE: 0.30210555,\tTrain_acc: 0.30211449,\tTest mse: 0.09131703,\tTime: 6.97344732s\n"
     ]
    },
    {
     "name": "stderr",
     "output_type": "stream",
     "text": [
      "Training:  23%|██▎       | 46/200 [05:22<17:54,  6.97s/Epochs]"
     ]
    },
    {
     "name": "stdout",
     "output_type": "stream",
     "text": [
      "Epoch: 0045,\tTrain mse: 0.09021820,\tTrain_RMSE: 0.30035499,\tTrain_acc: 0.30036438,\tTest mse: 0.08992057,\tTime: 6.96075082s\n"
     ]
    },
    {
     "name": "stderr",
     "output_type": "stream",
     "text": [
      "Training:  24%|██▎       | 47/200 [05:29<17:46,  6.97s/Epochs]"
     ]
    },
    {
     "name": "stdout",
     "output_type": "stream",
     "text": [
      "Epoch: 0046,\tTrain mse: 0.08886344,\tTrain_RMSE: 0.29809614,\tTrain_acc: 0.29810554,\tTest mse: 0.08795057,\tTime: 6.96893811s\n"
     ]
    },
    {
     "name": "stderr",
     "output_type": "stream",
     "text": [
      "Training:  24%|██▍       | 48/200 [05:36<17:44,  7.00s/Epochs]"
     ]
    },
    {
     "name": "stdout",
     "output_type": "stream",
     "text": [
      "Epoch: 0047,\tTrain mse: 0.08878114,\tTrain_RMSE: 0.29793963,\tTrain_acc: 0.29794857,\tTest mse: 0.08913061,\tTime: 7.06799912s\n"
     ]
    },
    {
     "name": "stderr",
     "output_type": "stream",
     "text": [
      "Training:  24%|██▍       | 49/200 [05:43<17:36,  7.00s/Epochs]"
     ]
    },
    {
     "name": "stdout",
     "output_type": "stream",
     "text": [
      "Epoch: 0048,\tTrain mse: 0.08804598,\tTrain_RMSE: 0.29672035,\tTrain_acc: 0.29672971,\tTest mse: 0.08837023,\tTime: 6.98965693s\n"
     ]
    },
    {
     "name": "stderr",
     "output_type": "stream",
     "text": [
      "Training:  25%|██▌       | 50/200 [05:51<17:33,  7.02s/Epochs]"
     ]
    },
    {
     "name": "stdout",
     "output_type": "stream",
     "text": [
      "Epoch: 0049,\tTrain mse: 0.08800961,\tTrain_RMSE: 0.29665348,\tTrain_acc: 0.29666302,\tTest mse: 0.08522223,\tTime: 7.06911898s\n"
     ]
    },
    {
     "name": "stderr",
     "output_type": "stream",
     "text": [
      "Training:  26%|██▌       | 51/200 [05:57<17:21,  6.99s/Epochs]"
     ]
    },
    {
     "name": "stdout",
     "output_type": "stream",
     "text": [
      "Epoch: 0050,\tTrain mse: 0.08786665,\tTrain_RMSE: 0.29640458,\tTrain_acc: 0.29641291,\tTest mse: 0.08888761,\tTime: 6.92176485s\n"
     ]
    },
    {
     "name": "stderr",
     "output_type": "stream",
     "text": [
      "Training:  26%|██▌       | 52/200 [06:04<17:10,  6.96s/Epochs]"
     ]
    },
    {
     "name": "stdout",
     "output_type": "stream",
     "text": [
      "Epoch: 0051,\tTrain mse: 0.08730747,\tTrain_RMSE: 0.29546850,\tTrain_acc: 0.29547879,\tTest mse: 0.08646477,\tTime: 6.90041447s\n"
     ]
    },
    {
     "name": "stderr",
     "output_type": "stream",
     "text": [
      "Training:  26%|██▋       | 53/200 [06:11<17:02,  6.96s/Epochs]"
     ]
    },
    {
     "name": "stdout",
     "output_type": "stream",
     "text": [
      "Epoch: 0052,\tTrain mse: 0.08878237,\tTrain_RMSE: 0.29793438,\tTrain_acc: 0.29794365,\tTest mse: 0.09647207,\tTime: 6.94154787s\n"
     ]
    },
    {
     "name": "stderr",
     "output_type": "stream",
     "text": [
      "Training:  27%|██▋       | 54/200 [06:18<16:54,  6.95s/Epochs]"
     ]
    },
    {
     "name": "stdout",
     "output_type": "stream",
     "text": [
      "Epoch: 0053,\tTrain mse: 0.10510420,\tTrain_RMSE: 0.32366998,\tTrain_acc: 0.32368079,\tTest mse: 0.10153491,\tTime: 6.92868066s\n",
      "Epoch    54: reducing learning rate of group 0 to 2.5000e-04.\n"
     ]
    },
    {
     "name": "stderr",
     "output_type": "stream",
     "text": [
      "Training:  28%|██▊       | 55/200 [06:25<16:46,  6.94s/Epochs]"
     ]
    },
    {
     "name": "stdout",
     "output_type": "stream",
     "text": [
      "Epoch: 0054,\tTrain mse: 0.09405593,\tTrain_RMSE: 0.30662035,\tTrain_acc: 0.30663246,\tTest mse: 0.09108900,\tTime: 6.91863012s\n"
     ]
    },
    {
     "name": "stderr",
     "output_type": "stream",
     "text": [
      "Training:  28%|██▊       | 56/200 [06:32<16:39,  6.94s/Epochs]"
     ]
    },
    {
     "name": "stdout",
     "output_type": "stream",
     "text": [
      "Epoch: 0055,\tTrain mse: 0.09011365,\tTrain_RMSE: 0.30017240,\tTrain_acc: 0.30018187,\tTest mse: 0.08924270,\tTime: 6.92833209s\n"
     ]
    },
    {
     "name": "stderr",
     "output_type": "stream",
     "text": [
      "Training:  28%|██▊       | 57/200 [06:39<16:31,  6.93s/Epochs]"
     ]
    },
    {
     "name": "stdout",
     "output_type": "stream",
     "text": [
      "Epoch: 0056,\tTrain mse: 0.08970169,\tTrain_RMSE: 0.29949239,\tTrain_acc: 0.29950124,\tTest mse: 0.08881747,\tTime: 6.92447042s\n"
     ]
    },
    {
     "name": "stderr",
     "output_type": "stream",
     "text": [
      "Training:  29%|██▉       | 58/200 [06:46<16:25,  6.94s/Epochs]"
     ]
    },
    {
     "name": "stdout",
     "output_type": "stream",
     "text": [
      "Epoch: 0057,\tTrain mse: 0.08966477,\tTrain_RMSE: 0.29943638,\tTrain_acc: 0.29944530,\tTest mse: 0.08957967,\tTime: 6.95861220s\n",
      "Epoch    58: reducing learning rate of group 0 to 1.2500e-04.\n"
     ]
    },
    {
     "name": "stderr",
     "output_type": "stream",
     "text": [
      "Training:  30%|██▉       | 59/200 [06:53<16:18,  6.94s/Epochs]"
     ]
    },
    {
     "name": "stdout",
     "output_type": "stream",
     "text": [
      "Epoch: 0058,\tTrain mse: 0.08964514,\tTrain_RMSE: 0.29940210,\tTrain_acc: 0.29941103,\tTest mse: 0.09027153,\tTime: 6.93678665s\n"
     ]
    },
    {
     "name": "stderr",
     "output_type": "stream",
     "text": [
      "Training:  30%|███       | 60/200 [07:00<16:20,  7.00s/Epochs]"
     ]
    },
    {
     "name": "stdout",
     "output_type": "stream",
     "text": [
      "Epoch: 0059,\tTrain mse: 0.09033228,\tTrain_RMSE: 0.30054186,\tTrain_acc: 0.30055085,\tTest mse: 0.09005262,\tTime: 7.14153504s\n"
     ]
    },
    {
     "name": "stderr",
     "output_type": "stream",
     "text": [
      "Training:  30%|███       | 61/200 [07:07<16:12,  7.00s/Epochs]"
     ]
    },
    {
     "name": "stdout",
     "output_type": "stream",
     "text": [
      "Epoch: 0060,\tTrain mse: 0.08977628,\tTrain_RMSE: 0.29961835,\tTrain_acc: 0.29962739,\tTest mse: 0.08962797,\tTime: 6.98877668s\n"
     ]
    },
    {
     "name": "stderr",
     "output_type": "stream",
     "text": [
      "Training:  31%|███       | 62/200 [07:14<16:04,  6.99s/Epochs]"
     ]
    },
    {
     "name": "stdout",
     "output_type": "stream",
     "text": [
      "Epoch: 0061,\tTrain mse: 0.08882908,\tTrain_RMSE: 0.29803456,\tTrain_acc: 0.29804373,\tTest mse: 0.08843321,\tTime: 6.96191120s\n",
      "Epoch    62: reducing learning rate of group 0 to 6.2500e-05.\n"
     ]
    },
    {
     "name": "stderr",
     "output_type": "stream",
     "text": [
      "Training:  32%|███▏      | 63/200 [07:21<15:56,  6.98s/Epochs]"
     ]
    },
    {
     "name": "stdout",
     "output_type": "stream",
     "text": [
      "Epoch: 0062,\tTrain mse: 0.08836081,\tTrain_RMSE: 0.29724719,\tTrain_acc: 0.29725617,\tTest mse: 0.08820045,\tTime: 6.97446036s\n"
     ]
    },
    {
     "name": "stderr",
     "output_type": "stream",
     "text": [
      "Training:  32%|███▏      | 64/200 [07:28<15:49,  6.98s/Epochs]"
     ]
    },
    {
     "name": "stdout",
     "output_type": "stream",
     "text": [
      "Epoch: 0063,\tTrain mse: 0.08829873,\tTrain_RMSE: 0.29714322,\tTrain_acc: 0.29715234,\tTest mse: 0.08811287,\tTime: 6.97009659s\n"
     ]
    },
    {
     "name": "stderr",
     "output_type": "stream",
     "text": [
      "Training:  32%|███▎      | 65/200 [07:35<15:42,  6.98s/Epochs]"
     ]
    },
    {
     "name": "stdout",
     "output_type": "stream",
     "text": [
      "Epoch: 0064,\tTrain mse: 0.08820972,\tTrain_RMSE: 0.29699418,\tTrain_acc: 0.29700333,\tTest mse: 0.08815113,\tTime: 6.97725034s\n"
     ]
    },
    {
     "name": "stderr",
     "output_type": "stream",
     "text": [
      "Training:  33%|███▎      | 66/200 [07:42<15:35,  6.98s/Epochs]"
     ]
    },
    {
     "name": "stdout",
     "output_type": "stream",
     "text": [
      "Epoch: 0065,\tTrain mse: 0.08822344,\tTrain_RMSE: 0.29701756,\tTrain_acc: 0.29702672,\tTest mse: 0.08824515,\tTime: 6.97928214s\n",
      "Epoch    66: reducing learning rate of group 0 to 3.1250e-05.\n"
     ]
    },
    {
     "name": "stderr",
     "output_type": "stream",
     "text": [
      "Training:  34%|███▎      | 67/200 [07:49<15:27,  6.97s/Epochs]"
     ]
    },
    {
     "name": "stdout",
     "output_type": "stream",
     "text": [
      "Epoch: 0066,\tTrain mse: 0.08820226,\tTrain_RMSE: 0.29698075,\tTrain_acc: 0.29698983,\tTest mse: 0.08823372,\tTime: 6.95289564s\n"
     ]
    },
    {
     "name": "stderr",
     "output_type": "stream",
     "text": [
      "Training:  34%|███▍      | 68/200 [07:56<15:19,  6.97s/Epochs]"
     ]
    },
    {
     "name": "stdout",
     "output_type": "stream",
     "text": [
      "Epoch: 0067,\tTrain mse: 0.08821990,\tTrain_RMSE: 0.29701066,\tTrain_acc: 0.29701972,\tTest mse: 0.08814250,\tTime: 6.95309973s\n"
     ]
    },
    {
     "name": "stderr",
     "output_type": "stream",
     "text": [
      "Training:  34%|███▍      | 69/200 [08:03<15:11,  6.96s/Epochs]"
     ]
    },
    {
     "name": "stdout",
     "output_type": "stream",
     "text": [
      "Epoch: 0068,\tTrain mse: 0.08828386,\tTrain_RMSE: 0.29711918,\tTrain_acc: 0.29712835,\tTest mse: 0.08818822,\tTime: 6.94509935s\n"
     ]
    },
    {
     "name": "stderr",
     "output_type": "stream",
     "text": [
      "Training:  35%|███▌      | 70/200 [08:10<15:05,  6.96s/Epochs]"
     ]
    },
    {
     "name": "stdout",
     "output_type": "stream",
     "text": [
      "Epoch: 0069,\tTrain mse: 0.08828916,\tTrain_RMSE: 0.29712805,\tTrain_acc: 0.29713726,\tTest mse: 0.08835091,\tTime: 6.96748567s\n",
      "Epoch    70: reducing learning rate of group 0 to 1.5625e-05.\n"
     ]
    },
    {
     "name": "stderr",
     "output_type": "stream",
     "text": [
      "Training:  36%|███▌      | 71/200 [08:17<14:59,  6.97s/Epochs]"
     ]
    },
    {
     "name": "stdout",
     "output_type": "stream",
     "text": [
      "Epoch: 0070,\tTrain mse: 0.08831861,\tTrain_RMSE: 0.29717850,\tTrain_acc: 0.29718778,\tTest mse: 0.08828320,\tTime: 6.99383450s\n"
     ]
    },
    {
     "name": "stderr",
     "output_type": "stream",
     "text": [
      "Training:  36%|███▌      | 72/200 [08:24<14:51,  6.96s/Epochs]"
     ]
    },
    {
     "name": "stdout",
     "output_type": "stream",
     "text": [
      "Epoch: 0071,\tTrain mse: 0.08835239,\tTrain_RMSE: 0.29723530,\tTrain_acc: 0.29724464,\tTest mse: 0.08830550,\tTime: 6.94485617s\n"
     ]
    },
    {
     "name": "stderr",
     "output_type": "stream",
     "text": [
      "Training:  36%|███▋      | 73/200 [08:31<14:44,  6.97s/Epochs]"
     ]
    },
    {
     "name": "stdout",
     "output_type": "stream",
     "text": [
      "Epoch: 0072,\tTrain mse: 0.08843724,\tTrain_RMSE: 0.29737827,\tTrain_acc: 0.29738754,\tTest mse: 0.08841065,\tTime: 6.96732497s\n"
     ]
    },
    {
     "name": "stderr",
     "output_type": "stream",
     "text": [
      "Training:  37%|███▋      | 74/200 [08:38<14:36,  6.96s/Epochs]"
     ]
    },
    {
     "name": "stdout",
     "output_type": "stream",
     "text": [
      "Epoch: 0073,\tTrain mse: 0.08846940,\tTrain_RMSE: 0.29743248,\tTrain_acc: 0.29744178,\tTest mse: 0.08837389,\tTime: 6.94312406s\n",
      "Epoch    74: reducing learning rate of group 0 to 7.8125e-06.\n"
     ]
    },
    {
     "name": "stderr",
     "output_type": "stream",
     "text": [
      "Training:  38%|███▊      | 75/200 [08:45<14:29,  6.96s/Epochs]"
     ]
    },
    {
     "name": "stdout",
     "output_type": "stream",
     "text": [
      "Epoch: 0074,\tTrain mse: 0.08844312,\tTrain_RMSE: 0.29738792,\tTrain_acc: 0.29739714,\tTest mse: 0.08837955,\tTime: 6.95960975s\n"
     ]
    },
    {
     "name": "stderr",
     "output_type": "stream",
     "text": [
      "Training:  38%|███▊      | 76/200 [08:52<14:24,  6.97s/Epochs]"
     ]
    },
    {
     "name": "stdout",
     "output_type": "stream",
     "text": [
      "Epoch: 0075,\tTrain mse: 0.08848071,\tTrain_RMSE: 0.29745162,\tTrain_acc: 0.29746088,\tTest mse: 0.08839072,\tTime: 7.00519848s\n"
     ]
    },
    {
     "name": "stderr",
     "output_type": "stream",
     "text": [
      "Training:  38%|███▊      | 77/200 [08:59<14:19,  6.99s/Epochs]"
     ]
    },
    {
     "name": "stdout",
     "output_type": "stream",
     "text": [
      "Epoch: 0076,\tTrain mse: 0.08850724,\tTrain_RMSE: 0.29749584,\tTrain_acc: 0.29750511,\tTest mse: 0.08836893,\tTime: 7.02659011s\n"
     ]
    },
    {
     "name": "stderr",
     "output_type": "stream",
     "text": [
      "Training:  39%|███▉      | 78/200 [09:06<14:20,  7.05s/Epochs]"
     ]
    },
    {
     "name": "stdout",
     "output_type": "stream",
     "text": [
      "Epoch: 0077,\tTrain mse: 0.08846223,\tTrain_RMSE: 0.29741994,\tTrain_acc: 0.29742914,\tTest mse: 0.08837903,\tTime: 7.19542742s\n",
      "Epoch    78: reducing learning rate of group 0 to 3.9063e-06.\n"
     ]
    },
    {
     "name": "stderr",
     "output_type": "stream",
     "text": [
      "Training:  40%|███▉      | 79/200 [09:13<14:11,  7.04s/Epochs]"
     ]
    },
    {
     "name": "stdout",
     "output_type": "stream",
     "text": [
      "Epoch: 0078,\tTrain mse: 0.08850473,\tTrain_RMSE: 0.29749160,\tTrain_acc: 0.29750085,\tTest mse: 0.08838201,\tTime: 6.99601007s\n"
     ]
    },
    {
     "name": "stderr",
     "output_type": "stream",
     "text": [
      "Training:  40%|████      | 80/200 [09:20<14:02,  7.02s/Epochs]"
     ]
    },
    {
     "name": "stdout",
     "output_type": "stream",
     "text": [
      "Epoch: 0079,\tTrain mse: 0.08852465,\tTrain_RMSE: 0.29752530,\tTrain_acc: 0.29753453,\tTest mse: 0.08840971,\tTime: 6.99153566s\n"
     ]
    },
    {
     "name": "stderr",
     "output_type": "stream",
     "text": [
      "Training:  40%|████      | 81/200 [09:27<13:56,  7.03s/Epochs]"
     ]
    },
    {
     "name": "stdout",
     "output_type": "stream",
     "text": [
      "Epoch: 0080,\tTrain mse: 0.08852575,\tTrain_RMSE: 0.29752701,\tTrain_acc: 0.29753625,\tTest mse: 0.08841148,\tTime: 7.03233171s\n"
     ]
    },
    {
     "name": "stderr",
     "output_type": "stream",
     "text": [
      "Training:  41%|████      | 82/200 [09:34<13:47,  7.01s/Epochs]"
     ]
    },
    {
     "name": "stdout",
     "output_type": "stream",
     "text": [
      "Epoch: 0081,\tTrain mse: 0.08853355,\tTrain_RMSE: 0.29754005,\tTrain_acc: 0.29754934,\tTest mse: 0.08838704,\tTime: 6.98596478s\n",
      "Epoch    82: reducing learning rate of group 0 to 1.9531e-06.\n"
     ]
    },
    {
     "name": "stderr",
     "output_type": "stream",
     "text": [
      "Training:  42%|████▏     | 83/200 [09:41<13:40,  7.01s/Epochs]"
     ]
    },
    {
     "name": "stdout",
     "output_type": "stream",
     "text": [
      "Epoch: 0082,\tTrain mse: 0.08851912,\tTrain_RMSE: 0.29751606,\tTrain_acc: 0.29752535,\tTest mse: 0.08836752,\tTime: 6.99533820s\n"
     ]
    },
    {
     "name": "stderr",
     "output_type": "stream",
     "text": [
      "Training:  42%|████▏     | 84/200 [09:48<13:32,  7.01s/Epochs]"
     ]
    },
    {
     "name": "stdout",
     "output_type": "stream",
     "text": [
      "Epoch: 0083,\tTrain mse: 0.08851990,\tTrain_RMSE: 0.29751721,\tTrain_acc: 0.29752648,\tTest mse: 0.08841039,\tTime: 6.99786878s\n"
     ]
    },
    {
     "name": "stderr",
     "output_type": "stream",
     "text": [
      "Training:  42%|████▎     | 85/200 [09:55<13:24,  7.00s/Epochs]"
     ]
    },
    {
     "name": "stdout",
     "output_type": "stream",
     "text": [
      "Epoch: 0084,\tTrain mse: 0.08856661,\tTrain_RMSE: 0.29759525,\tTrain_acc: 0.29760453,\tTest mse: 0.08838288,\tTime: 6.97212625s\n"
     ]
    },
    {
     "name": "stderr",
     "output_type": "stream",
     "text": [
      "Training:  43%|████▎     | 86/200 [10:02<13:16,  6.99s/Epochs]"
     ]
    },
    {
     "name": "stdout",
     "output_type": "stream",
     "text": [
      "Epoch: 0085,\tTrain mse: 0.08853188,\tTrain_RMSE: 0.29753698,\tTrain_acc: 0.29754624,\tTest mse: 0.08838299,\tTime: 6.95999885s\n",
      "Epoch    86: reducing learning rate of group 0 to 9.7656e-07.\n"
     ]
    },
    {
     "name": "stderr",
     "output_type": "stream",
     "text": [
      "Training:  44%|████▎     | 87/200 [10:09<13:08,  6.98s/Epochs]"
     ]
    },
    {
     "name": "stdout",
     "output_type": "stream",
     "text": [
      "Epoch: 0086,\tTrain mse: 0.08855309,\tTrain_RMSE: 0.29757271,\tTrain_acc: 0.29758200,\tTest mse: 0.08846727,\tTime: 6.95997214s\n"
     ]
    },
    {
     "name": "stderr",
     "output_type": "stream",
     "text": [
      "Training:  44%|████▍     | 88/200 [10:16<13:02,  6.99s/Epochs]"
     ]
    },
    {
     "name": "stdout",
     "output_type": "stream",
     "text": [
      "Epoch: 0087,\tTrain mse: 0.08854851,\tTrain_RMSE: 0.29756534,\tTrain_acc: 0.29757461,\tTest mse: 0.08840327,\tTime: 7.00015569s\n"
     ]
    },
    {
     "name": "stderr",
     "output_type": "stream",
     "text": [
      "Training:  44%|████▍     | 89/200 [10:23<12:56,  6.99s/Epochs]"
     ]
    },
    {
     "name": "stdout",
     "output_type": "stream",
     "text": [
      "Epoch: 0088,\tTrain mse: 0.08854198,\tTrain_RMSE: 0.29755413,\tTrain_acc: 0.29756337,\tTest mse: 0.08854258,\tTime: 7.00329113s\n"
     ]
    },
    {
     "name": "stderr",
     "output_type": "stream",
     "text": [
      "Training:  45%|████▌     | 90/200 [10:30<12:45,  6.96s/Epochs]"
     ]
    },
    {
     "name": "stdout",
     "output_type": "stream",
     "text": [
      "Epoch: 0089,\tTrain mse: 0.08845867,\tTrain_RMSE: 0.29741378,\tTrain_acc: 0.29742295,\tTest mse: 0.08839354,\tTime: 6.87832117s\n",
      "Epoch    90: reducing learning rate of group 0 to 4.8828e-07.\n"
     ]
    },
    {
     "name": "stderr",
     "output_type": "stream",
     "text": [
      "Training:  46%|████▌     | 91/200 [10:37<12:39,  6.97s/Epochs]"
     ]
    },
    {
     "name": "stdout",
     "output_type": "stream",
     "text": [
      "Epoch: 0090,\tTrain mse: 0.08851368,\tTrain_RMSE: 0.29750679,\tTrain_acc: 0.29751605,\tTest mse: 0.08840356,\tTime: 6.98190689s\n"
     ]
    },
    {
     "name": "stderr",
     "output_type": "stream",
     "text": [
      "Training:  46%|████▌     | 92/200 [10:44<12:31,  6.96s/Epochs]"
     ]
    },
    {
     "name": "stdout",
     "output_type": "stream",
     "text": [
      "Epoch: 0091,\tTrain mse: 0.08851254,\tTrain_RMSE: 0.29750482,\tTrain_acc: 0.29751408,\tTest mse: 0.08837783,\tTime: 6.93752146s\n"
     ]
    },
    {
     "name": "stderr",
     "output_type": "stream",
     "text": [
      "Training:  46%|████▋     | 93/200 [10:50<12:23,  6.95s/Epochs]"
     ]
    },
    {
     "name": "stdout",
     "output_type": "stream",
     "text": [
      "Epoch: 0092,\tTrain mse: 0.08846937,\tTrain_RMSE: 0.29743149,\tTrain_acc: 0.29744068,\tTest mse: 0.08834064,\tTime: 6.92141104s\n"
     ]
    },
    {
     "name": "stderr",
     "output_type": "stream",
     "text": [
      "Training:  47%|████▋     | 94/200 [10:57<12:15,  6.94s/Epochs]"
     ]
    },
    {
     "name": "stdout",
     "output_type": "stream",
     "text": [
      "Epoch: 0093,\tTrain mse: 0.08852017,\tTrain_RMSE: 0.29751762,\tTrain_acc: 0.29752690,\tTest mse: 0.08838635,\tTime: 6.91647649s\n",
      "Epoch    94: reducing learning rate of group 0 to 2.4414e-07.\n"
     ]
    },
    {
     "name": "stderr",
     "output_type": "stream",
     "text": [
      "Training:  48%|████▊     | 95/200 [11:04<12:06,  6.92s/Epochs]"
     ]
    },
    {
     "name": "stdout",
     "output_type": "stream",
     "text": [
      "Epoch: 0094,\tTrain mse: 0.08854095,\tTrain_RMSE: 0.29755233,\tTrain_acc: 0.29756159,\tTest mse: 0.08839180,\tTime: 6.87845278s\n"
     ]
    },
    {
     "name": "stderr",
     "output_type": "stream",
     "text": [
      "Training:  48%|████▊     | 96/200 [11:11<11:59,  6.92s/Epochs]"
     ]
    },
    {
     "name": "stdout",
     "output_type": "stream",
     "text": [
      "Epoch: 0095,\tTrain mse: 0.08853366,\tTrain_RMSE: 0.29754003,\tTrain_acc: 0.29754925,\tTest mse: 0.08834396,\tTime: 6.90128636s\n"
     ]
    },
    {
     "name": "stderr",
     "output_type": "stream",
     "text": [
      "Training:  48%|████▊     | 97/200 [11:18<11:52,  6.92s/Epochs]"
     ]
    },
    {
     "name": "stdout",
     "output_type": "stream",
     "text": [
      "Epoch: 0096,\tTrain mse: 0.08855266,\tTrain_RMSE: 0.29757207,\tTrain_acc: 0.29758132,\tTest mse: 0.08835944,\tTime: 6.91328216s\n"
     ]
    },
    {
     "name": "stderr",
     "output_type": "stream",
     "text": [
      "Training:  49%|████▉     | 98/200 [11:25<11:45,  6.91s/Epochs]"
     ]
    },
    {
     "name": "stdout",
     "output_type": "stream",
     "text": [
      "Epoch: 0097,\tTrain mse: 0.08854883,\tTrain_RMSE: 0.29756562,\tTrain_acc: 0.29757488,\tTest mse: 0.08832939,\tTime: 6.90976381s\n",
      "Epoch    98: reducing learning rate of group 0 to 1.2207e-07.\n"
     ]
    },
    {
     "name": "stderr",
     "output_type": "stream",
     "text": [
      "Training:  50%|████▉     | 99/200 [11:32<11:38,  6.92s/Epochs]"
     ]
    },
    {
     "name": "stdout",
     "output_type": "stream",
     "text": [
      "Epoch: 0098,\tTrain mse: 0.08854463,\tTrain_RMSE: 0.29755848,\tTrain_acc: 0.29756773,\tTest mse: 0.08833021,\tTime: 6.92109442s\n"
     ]
    },
    {
     "name": "stderr",
     "output_type": "stream",
     "text": [
      "Training:  50%|█████     | 100/200 [11:39<11:31,  6.91s/Epochs]"
     ]
    },
    {
     "name": "stdout",
     "output_type": "stream",
     "text": [
      "Epoch: 0099,\tTrain mse: 0.08854470,\tTrain_RMSE: 0.29755862,\tTrain_acc: 0.29756790,\tTest mse: 0.08832683,\tTime: 6.90913463s\n"
     ]
    },
    {
     "name": "stderr",
     "output_type": "stream",
     "text": [
      "Training:  50%|█████     | 101/200 [11:46<11:24,  6.92s/Epochs]"
     ]
    },
    {
     "name": "stdout",
     "output_type": "stream",
     "text": [
      "Epoch: 0100,\tTrain mse: 0.08853420,\tTrain_RMSE: 0.29754093,\tTrain_acc: 0.29755017,\tTest mse: 0.08832797,\tTime: 6.91429782s\n"
     ]
    },
    {
     "name": "stderr",
     "output_type": "stream",
     "text": [
      "Training:  51%|█████     | 102/200 [11:53<11:17,  6.91s/Epochs]"
     ]
    },
    {
     "name": "stdout",
     "output_type": "stream",
     "text": [
      "Epoch: 0101,\tTrain mse: 0.08854459,\tTrain_RMSE: 0.29755839,\tTrain_acc: 0.29756761,\tTest mse: 0.08832924,\tTime: 6.90886879s\n",
      "Epoch   102: reducing learning rate of group 0 to 1.0000e-07.\n"
     ]
    },
    {
     "name": "stderr",
     "output_type": "stream",
     "text": [
      "Training:  52%|█████▏    | 103/200 [12:00<11:10,  6.91s/Epochs]"
     ]
    },
    {
     "name": "stdout",
     "output_type": "stream",
     "text": [
      "Epoch: 0102,\tTrain mse: 0.08853453,\tTrain_RMSE: 0.29754154,\tTrain_acc: 0.29755080,\tTest mse: 0.08832981,\tTime: 6.91237354s\n"
     ]
    },
    {
     "name": "stderr",
     "output_type": "stream",
     "text": [
      "Training:  52%|█████▏    | 104/200 [12:06<11:04,  6.92s/Epochs]"
     ]
    },
    {
     "name": "stdout",
     "output_type": "stream",
     "text": [
      "Epoch: 0103,\tTrain mse: 0.08853205,\tTrain_RMSE: 0.29753744,\tTrain_acc: 0.29754671,\tTest mse: 0.08835370,\tTime: 6.92580748s\n"
     ]
    },
    {
     "name": "stderr",
     "output_type": "stream",
     "text": [
      "Training:  52%|█████▎    | 105/200 [12:13<10:56,  6.91s/Epochs]"
     ]
    },
    {
     "name": "stdout",
     "output_type": "stream",
     "text": [
      "Epoch: 0104,\tTrain mse: 0.08853138,\tTrain_RMSE: 0.29753638,\tTrain_acc: 0.29754561,\tTest mse: 0.08834453,\tTime: 6.90434909s\n"
     ]
    },
    {
     "name": "stderr",
     "output_type": "stream",
     "text": [
      "Training:  53%|█████▎    | 106/200 [12:20<10:50,  6.92s/Epochs]"
     ]
    },
    {
     "name": "stdout",
     "output_type": "stream",
     "text": [
      "Epoch: 0105,\tTrain mse: 0.08849919,\tTrain_RMSE: 0.29748154,\tTrain_acc: 0.29749072,\tTest mse: 0.08832888,\tTime: 6.92307377s\n"
     ]
    },
    {
     "name": "stderr",
     "output_type": "stream",
     "text": [
      "Training:  54%|█████▎    | 107/200 [12:27<10:43,  6.92s/Epochs]"
     ]
    },
    {
     "name": "stdout",
     "output_type": "stream",
     "text": [
      "Epoch: 0106,\tTrain mse: 0.08849363,\tTrain_RMSE: 0.29747215,\tTrain_acc: 0.29748130,\tTest mse: 0.08845460,\tTime: 6.91924953s\n"
     ]
    },
    {
     "name": "stderr",
     "output_type": "stream",
     "text": [
      "Training:  54%|█████▍    | 108/200 [12:34<10:35,  6.91s/Epochs]"
     ]
    },
    {
     "name": "stdout",
     "output_type": "stream",
     "text": [
      "Epoch: 0107,\tTrain mse: 0.08847409,\tTrain_RMSE: 0.29743939,\tTrain_acc: 0.29744855,\tTest mse: 0.08846021,\tTime: 6.88465261s\n"
     ]
    },
    {
     "name": "stderr",
     "output_type": "stream",
     "text": [
      "Training:  55%|█████▍    | 109/200 [12:41<10:28,  6.91s/Epochs]"
     ]
    },
    {
     "name": "stdout",
     "output_type": "stream",
     "text": [
      "Epoch: 0108,\tTrain mse: 0.08848571,\tTrain_RMSE: 0.29745888,\tTrain_acc: 0.29746807,\tTest mse: 0.08833824,\tTime: 6.90782452s\n"
     ]
    },
    {
     "name": "stderr",
     "output_type": "stream",
     "text": [
      "Training:  55%|█████▌    | 110/200 [12:48<10:21,  6.91s/Epochs]"
     ]
    },
    {
     "name": "stdout",
     "output_type": "stream",
     "text": [
      "Epoch: 0109,\tTrain mse: 0.08848964,\tTrain_RMSE: 0.29746549,\tTrain_acc: 0.29747462,\tTest mse: 0.08833664,\tTime: 6.90287542s\n"
     ]
    },
    {
     "name": "stderr",
     "output_type": "stream",
     "text": [
      "Training:  56%|█████▌    | 111/200 [12:55<10:14,  6.91s/Epochs]"
     ]
    },
    {
     "name": "stdout",
     "output_type": "stream",
     "text": [
      "Epoch: 0110,\tTrain mse: 0.08848750,\tTrain_RMSE: 0.29746194,\tTrain_acc: 0.29747111,\tTest mse: 0.08845869,\tTime: 6.91032386s\n"
     ]
    },
    {
     "name": "stderr",
     "output_type": "stream",
     "text": [
      "Training:  56%|█████▌    | 112/200 [13:02<10:08,  6.91s/Epochs]"
     ]
    },
    {
     "name": "stdout",
     "output_type": "stream",
     "text": [
      "Epoch: 0111,\tTrain mse: 0.08852602,\tTrain_RMSE: 0.29752726,\tTrain_acc: 0.29753652,\tTest mse: 0.08833984,\tTime: 6.92220974s\n"
     ]
    },
    {
     "name": "stderr",
     "output_type": "stream",
     "text": [
      "Training:  56%|█████▋    | 113/200 [13:09<10:01,  6.91s/Epochs]"
     ]
    },
    {
     "name": "stdout",
     "output_type": "stream",
     "text": [
      "Epoch: 0112,\tTrain mse: 0.08853060,\tTrain_RMSE: 0.29753490,\tTrain_acc: 0.29754415,\tTest mse: 0.08833774,\tTime: 6.90335560s\n"
     ]
    },
    {
     "name": "stderr",
     "output_type": "stream",
     "text": [
      "Training:  57%|█████▋    | 114/200 [13:16<09:54,  6.91s/Epochs]"
     ]
    },
    {
     "name": "stdout",
     "output_type": "stream",
     "text": [
      "Epoch: 0113,\tTrain mse: 0.08851840,\tTrain_RMSE: 0.29751453,\tTrain_acc: 0.29752380,\tTest mse: 0.08835185,\tTime: 6.90233374s\n"
     ]
    },
    {
     "name": "stderr",
     "output_type": "stream",
     "text": [
      "Training:  57%|█████▊    | 115/200 [13:22<09:47,  6.91s/Epochs]"
     ]
    },
    {
     "name": "stdout",
     "output_type": "stream",
     "text": [
      "Epoch: 0114,\tTrain mse: 0.08852344,\tTrain_RMSE: 0.29752295,\tTrain_acc: 0.29753220,\tTest mse: 0.08835255,\tTime: 6.90820122s\n"
     ]
    },
    {
     "name": "stderr",
     "output_type": "stream",
     "text": [
      "Training:  58%|█████▊    | 116/200 [13:29<09:40,  6.91s/Epochs]"
     ]
    },
    {
     "name": "stdout",
     "output_type": "stream",
     "text": [
      "Epoch: 0115,\tTrain mse: 0.08848029,\tTrain_RMSE: 0.29744981,\tTrain_acc: 0.29745898,\tTest mse: 0.08833693,\tTime: 6.91647315s\n"
     ]
    },
    {
     "name": "stderr",
     "output_type": "stream",
     "text": [
      "Training:  58%|█████▊    | 117/200 [13:36<09:33,  6.91s/Epochs]"
     ]
    },
    {
     "name": "stdout",
     "output_type": "stream",
     "text": [
      "Epoch: 0116,\tTrain mse: 0.08852558,\tTrain_RMSE: 0.29752660,\tTrain_acc: 0.29753584,\tTest mse: 0.08835103,\tTime: 6.91003036s\n"
     ]
    },
    {
     "name": "stderr",
     "output_type": "stream",
     "text": [
      "Training:  59%|█████▉    | 118/200 [13:43<09:30,  6.96s/Epochs]"
     ]
    },
    {
     "name": "stdout",
     "output_type": "stream",
     "text": [
      "Epoch: 0117,\tTrain mse: 0.08848415,\tTrain_RMSE: 0.29745631,\tTrain_acc: 0.29746547,\tTest mse: 0.08834302,\tTime: 7.06348515s\n"
     ]
    },
    {
     "name": "stderr",
     "output_type": "stream",
     "text": [
      "Training:  60%|█████▉    | 119/200 [13:50<09:22,  6.95s/Epochs]"
     ]
    },
    {
     "name": "stdout",
     "output_type": "stream",
     "text": [
      "Epoch: 0118,\tTrain mse: 0.08851384,\tTrain_RMSE: 0.29750693,\tTrain_acc: 0.29751623,\tTest mse: 0.08836344,\tTime: 6.92501831s\n"
     ]
    },
    {
     "name": "stderr",
     "output_type": "stream",
     "text": [
      "Training:  60%|██████    | 120/200 [13:57<09:15,  6.94s/Epochs]"
     ]
    },
    {
     "name": "stdout",
     "output_type": "stream",
     "text": [
      "Epoch: 0119,\tTrain mse: 0.08852509,\tTrain_RMSE: 0.29752580,\tTrain_acc: 0.29753506,\tTest mse: 0.08837761,\tTime: 6.92741823s\n"
     ]
    },
    {
     "name": "stderr",
     "output_type": "stream",
     "text": [
      "Training:  60%|██████    | 121/200 [14:04<09:08,  6.94s/Epochs]"
     ]
    },
    {
     "name": "stdout",
     "output_type": "stream",
     "text": [
      "Epoch: 0120,\tTrain mse: 0.08851993,\tTrain_RMSE: 0.29751711,\tTrain_acc: 0.29752636,\tTest mse: 0.08847776,\tTime: 6.92830563s\n"
     ]
    },
    {
     "name": "stderr",
     "output_type": "stream",
     "text": [
      "Training:  61%|██████    | 122/200 [14:11<09:01,  6.94s/Epochs]"
     ]
    },
    {
     "name": "stdout",
     "output_type": "stream",
     "text": [
      "Epoch: 0121,\tTrain mse: 0.08851346,\tTrain_RMSE: 0.29750630,\tTrain_acc: 0.29751557,\tTest mse: 0.08837477,\tTime: 6.94306159s\n"
     ]
    },
    {
     "name": "stderr",
     "output_type": "stream",
     "text": [
      "Training:  62%|██████▏   | 123/200 [14:18<08:53,  6.93s/Epochs]"
     ]
    },
    {
     "name": "stdout",
     "output_type": "stream",
     "text": [
      "Epoch: 0122,\tTrain mse: 0.08852028,\tTrain_RMSE: 0.29751764,\tTrain_acc: 0.29752693,\tTest mse: 0.08835350,\tTime: 6.89252543s\n"
     ]
    },
    {
     "name": "stderr",
     "output_type": "stream",
     "text": [
      "Training:  62%|██████▏   | 124/200 [14:25<08:45,  6.91s/Epochs]"
     ]
    },
    {
     "name": "stdout",
     "output_type": "stream",
     "text": [
      "Epoch: 0123,\tTrain mse: 0.08851323,\tTrain_RMSE: 0.29750581,\tTrain_acc: 0.29751509,\tTest mse: 0.08847436,\tTime: 6.88587046s\n"
     ]
    },
    {
     "name": "stderr",
     "output_type": "stream",
     "text": [
      "Training:  62%|██████▎   | 125/200 [14:32<08:37,  6.90s/Epochs]"
     ]
    },
    {
     "name": "stdout",
     "output_type": "stream",
     "text": [
      "Epoch: 0124,\tTrain mse: 0.08851119,\tTrain_RMSE: 0.29750235,\tTrain_acc: 0.29751164,\tTest mse: 0.08847395,\tTime: 6.86622834s\n"
     ]
    },
    {
     "name": "stderr",
     "output_type": "stream",
     "text": [
      "Training:  63%|██████▎   | 126/200 [14:39<08:31,  6.92s/Epochs]"
     ]
    },
    {
     "name": "stdout",
     "output_type": "stream",
     "text": [
      "Epoch: 0125,\tTrain mse: 0.08851074,\tTrain_RMSE: 0.29750159,\tTrain_acc: 0.29751086,\tTest mse: 0.08847115,\tTime: 6.95137978s\n"
     ]
    },
    {
     "name": "stderr",
     "output_type": "stream",
     "text": [
      "Training:  64%|██████▎   | 127/200 [14:46<08:28,  6.97s/Epochs]"
     ]
    },
    {
     "name": "stdout",
     "output_type": "stream",
     "text": [
      "Epoch: 0126,\tTrain mse: 0.08851639,\tTrain_RMSE: 0.29751112,\tTrain_acc: 0.29752040,\tTest mse: 0.08848081,\tTime: 7.08201599s\n"
     ]
    },
    {
     "name": "stderr",
     "output_type": "stream",
     "text": [
      "Training:  64%|██████▍   | 128/200 [14:53<08:21,  6.96s/Epochs]"
     ]
    },
    {
     "name": "stdout",
     "output_type": "stream",
     "text": [
      "Epoch: 0127,\tTrain mse: 0.08852211,\tTrain_RMSE: 0.29752071,\tTrain_acc: 0.29753000,\tTest mse: 0.08847929,\tTime: 6.95409298s\n"
     ]
    },
    {
     "name": "stderr",
     "output_type": "stream",
     "text": [
      "Training:  64%|██████▍   | 129/200 [15:00<08:15,  6.97s/Epochs]"
     ]
    },
    {
     "name": "stdout",
     "output_type": "stream",
     "text": [
      "Epoch: 0128,\tTrain mse: 0.08852981,\tTrain_RMSE: 0.29753366,\tTrain_acc: 0.29754293,\tTest mse: 0.08848155,\tTime: 6.99686456s\n"
     ]
    },
    {
     "name": "stderr",
     "output_type": "stream",
     "text": [
      "Training:  65%|██████▌   | 130/200 [15:07<08:08,  6.97s/Epochs]"
     ]
    },
    {
     "name": "stdout",
     "output_type": "stream",
     "text": [
      "Epoch: 0129,\tTrain mse: 0.08852268,\tTrain_RMSE: 0.29752174,\tTrain_acc: 0.29753098,\tTest mse: 0.08847190,\tTime: 6.96518278s\n"
     ]
    },
    {
     "name": "stderr",
     "output_type": "stream",
     "text": [
      "Training:  66%|██████▌   | 131/200 [15:14<08:00,  6.96s/Epochs]"
     ]
    },
    {
     "name": "stdout",
     "output_type": "stream",
     "text": [
      "Epoch: 0130,\tTrain mse: 0.08851985,\tTrain_RMSE: 0.29751701,\tTrain_acc: 0.29752627,\tTest mse: 0.08846821,\tTime: 6.94066286s\n"
     ]
    },
    {
     "name": "stderr",
     "output_type": "stream",
     "text": [
      "Training:  66%|██████▌   | 132/200 [15:21<07:53,  6.96s/Epochs]"
     ]
    },
    {
     "name": "stdout",
     "output_type": "stream",
     "text": [
      "Epoch: 0131,\tTrain mse: 0.08851588,\tTrain_RMSE: 0.29751034,\tTrain_acc: 0.29751959,\tTest mse: 0.08846419,\tTime: 6.95863700s\n"
     ]
    },
    {
     "name": "stderr",
     "output_type": "stream",
     "text": [
      "Training:  66%|██████▋   | 133/200 [15:28<07:46,  6.97s/Epochs]"
     ]
    },
    {
     "name": "stdout",
     "output_type": "stream",
     "text": [
      "Epoch: 0132,\tTrain mse: 0.08850633,\tTrain_RMSE: 0.29749431,\tTrain_acc: 0.29750359,\tTest mse: 0.08847644,\tTime: 6.98018336s\n"
     ]
    },
    {
     "name": "stderr",
     "output_type": "stream",
     "text": [
      "Training:  67%|██████▋   | 134/200 [15:35<07:42,  7.00s/Epochs]"
     ]
    },
    {
     "name": "stdout",
     "output_type": "stream",
     "text": [
      "Epoch: 0133,\tTrain mse: 0.08851602,\tTrain_RMSE: 0.29751040,\tTrain_acc: 0.29751968,\tTest mse: 0.08847885,\tTime: 7.09001875s\n"
     ]
    },
    {
     "name": "stderr",
     "output_type": "stream",
     "text": [
      "Training:  68%|██████▊   | 135/200 [15:42<07:35,  7.00s/Epochs]"
     ]
    },
    {
     "name": "stdout",
     "output_type": "stream",
     "text": [
      "Epoch: 0134,\tTrain mse: 0.08852124,\tTrain_RMSE: 0.29751915,\tTrain_acc: 0.29752845,\tTest mse: 0.08851537,\tTime: 7.00069356s\n"
     ]
    },
    {
     "name": "stderr",
     "output_type": "stream",
     "text": [
      "Training:  68%|██████▊   | 136/200 [15:49<07:32,  7.07s/Epochs]"
     ]
    },
    {
     "name": "stdout",
     "output_type": "stream",
     "text": [
      "Epoch: 0135,\tTrain mse: 0.08852295,\tTrain_RMSE: 0.29752202,\tTrain_acc: 0.29753128,\tTest mse: 0.08853075,\tTime: 7.21998763s\n"
     ]
    },
    {
     "name": "stderr",
     "output_type": "stream",
     "text": [
      "Training:  68%|██████▊   | 137/200 [15:56<07:24,  7.06s/Epochs]"
     ]
    },
    {
     "name": "stdout",
     "output_type": "stream",
     "text": [
      "Epoch: 0136,\tTrain mse: 0.08851851,\tTrain_RMSE: 0.29751456,\tTrain_acc: 0.29752383,\tTest mse: 0.08853246,\tTime: 7.03846216s\n"
     ]
    },
    {
     "name": "stderr",
     "output_type": "stream",
     "text": [
      "Training:  69%|██████▉   | 138/200 [16:03<07:16,  7.05s/Epochs]"
     ]
    },
    {
     "name": "stdout",
     "output_type": "stream",
     "text": [
      "Epoch: 0137,\tTrain mse: 0.08851180,\tTrain_RMSE: 0.29750332,\tTrain_acc: 0.29751262,\tTest mse: 0.08852533,\tTime: 7.01615548s\n"
     ]
    },
    {
     "name": "stderr",
     "output_type": "stream",
     "text": [
      "Training:  70%|██████▉   | 139/200 [16:10<07:09,  7.03s/Epochs]"
     ]
    },
    {
     "name": "stdout",
     "output_type": "stream",
     "text": [
      "Epoch: 0138,\tTrain mse: 0.08852616,\tTrain_RMSE: 0.29752754,\tTrain_acc: 0.29753679,\tTest mse: 0.08852740,\tTime: 6.99774551s\n"
     ]
    },
    {
     "name": "stderr",
     "output_type": "stream",
     "text": [
      "Training:  70%|███████   | 140/200 [16:17<07:01,  7.03s/Epochs]"
     ]
    },
    {
     "name": "stdout",
     "output_type": "stream",
     "text": [
      "Epoch: 0139,\tTrain mse: 0.08852997,\tTrain_RMSE: 0.29753385,\tTrain_acc: 0.29754314,\tTest mse: 0.08853038,\tTime: 7.03002715s\n"
     ]
    },
    {
     "name": "stderr",
     "output_type": "stream",
     "text": [
      "Training:  70%|███████   | 141/200 [16:24<06:55,  7.05s/Epochs]"
     ]
    },
    {
     "name": "stdout",
     "output_type": "stream",
     "text": [
      "Epoch: 0140,\tTrain mse: 0.08853680,\tTrain_RMSE: 0.29754530,\tTrain_acc: 0.29755458,\tTest mse: 0.08850706,\tTime: 7.08347082s\n"
     ]
    },
    {
     "name": "stderr",
     "output_type": "stream",
     "text": [
      "Training:  71%|███████   | 142/200 [16:31<06:49,  7.06s/Epochs]"
     ]
    },
    {
     "name": "stdout",
     "output_type": "stream",
     "text": [
      "Epoch: 0141,\tTrain mse: 0.08853686,\tTrain_RMSE: 0.29754547,\tTrain_acc: 0.29755479,\tTest mse: 0.08851919,\tTime: 7.08231378s\n"
     ]
    },
    {
     "name": "stderr",
     "output_type": "stream",
     "text": [
      "Training:  72%|███████▏  | 143/200 [16:38<06:41,  7.04s/Epochs]"
     ]
    },
    {
     "name": "stdout",
     "output_type": "stream",
     "text": [
      "Epoch: 0142,\tTrain mse: 0.08853441,\tTrain_RMSE: 0.29754137,\tTrain_acc: 0.29755068,\tTest mse: 0.08850875,\tTime: 6.99531579s\n"
     ]
    },
    {
     "name": "stderr",
     "output_type": "stream",
     "text": [
      "Training:  72%|███████▏  | 144/200 [16:45<06:33,  7.03s/Epochs]"
     ]
    },
    {
     "name": "stdout",
     "output_type": "stream",
     "text": [
      "Epoch: 0143,\tTrain mse: 0.08850115,\tTrain_RMSE: 0.29748597,\tTrain_acc: 0.29749525,\tTest mse: 0.08851369,\tTime: 6.98885131s\n"
     ]
    },
    {
     "name": "stderr",
     "output_type": "stream",
     "text": [
      "Training:  72%|███████▎  | 145/200 [16:52<06:26,  7.02s/Epochs]"
     ]
    },
    {
     "name": "stdout",
     "output_type": "stream",
     "text": [
      "Epoch: 0144,\tTrain mse: 0.08850706,\tTrain_RMSE: 0.29749594,\tTrain_acc: 0.29750523,\tTest mse: 0.08850564,\tTime: 7.02140188s\n"
     ]
    },
    {
     "name": "stderr",
     "output_type": "stream",
     "text": [
      "Training:  73%|███████▎  | 146/200 [16:59<06:18,  7.01s/Epochs]"
     ]
    },
    {
     "name": "stdout",
     "output_type": "stream",
     "text": [
      "Epoch: 0145,\tTrain mse: 0.08849770,\tTrain_RMSE: 0.29748006,\tTrain_acc: 0.29748932,\tTest mse: 0.08849432,\tTime: 6.97067451s\n"
     ]
    },
    {
     "name": "stderr",
     "output_type": "stream",
     "text": [
      "Training:  74%|███████▎  | 147/200 [17:06<06:11,  7.01s/Epochs]"
     ]
    },
    {
     "name": "stdout",
     "output_type": "stream",
     "text": [
      "Epoch: 0146,\tTrain mse: 0.08850772,\tTrain_RMSE: 0.29749703,\tTrain_acc: 0.29750633,\tTest mse: 0.08847698,\tTime: 6.99523830s\n"
     ]
    },
    {
     "name": "stderr",
     "output_type": "stream",
     "text": [
      "Training:  74%|███████▍  | 148/200 [17:13<06:04,  7.01s/Epochs]"
     ]
    },
    {
     "name": "stdout",
     "output_type": "stream",
     "text": [
      "Epoch: 0147,\tTrain mse: 0.08850737,\tTrain_RMSE: 0.29749646,\tTrain_acc: 0.29750574,\tTest mse: 0.08848058,\tTime: 7.01959276s\n"
     ]
    },
    {
     "name": "stderr",
     "output_type": "stream",
     "text": [
      "Training:  74%|███████▍  | 149/200 [17:20<05:57,  7.01s/Epochs]"
     ]
    },
    {
     "name": "stdout",
     "output_type": "stream",
     "text": [
      "Epoch: 0148,\tTrain mse: 0.08850496,\tTrain_RMSE: 0.29749235,\tTrain_acc: 0.29750165,\tTest mse: 0.08836619,\tTime: 6.99440336s\n"
     ]
    },
    {
     "name": "stderr",
     "output_type": "stream",
     "text": [
      "Training:  75%|███████▌  | 150/200 [17:27<05:50,  7.00s/Epochs]"
     ]
    },
    {
     "name": "stdout",
     "output_type": "stream",
     "text": [
      "Epoch: 0149,\tTrain mse: 0.08851285,\tTrain_RMSE: 0.29750549,\tTrain_acc: 0.29751477,\tTest mse: 0.08835842,\tTime: 6.99941730s\n"
     ]
    },
    {
     "name": "stderr",
     "output_type": "stream",
     "text": [
      "Training:  76%|███████▌  | 151/200 [17:34<05:43,  7.00s/Epochs]"
     ]
    },
    {
     "name": "stdout",
     "output_type": "stream",
     "text": [
      "Epoch: 0150,\tTrain mse: 0.08852304,\tTrain_RMSE: 0.29752271,\tTrain_acc: 0.29753199,\tTest mse: 0.08835324,\tTime: 6.99596190s\n"
     ]
    },
    {
     "name": "stderr",
     "output_type": "stream",
     "text": [
      "Training:  76%|███████▌  | 152/200 [17:41<05:35,  7.00s/Epochs]"
     ]
    },
    {
     "name": "stdout",
     "output_type": "stream",
     "text": [
      "Epoch: 0151,\tTrain mse: 0.08850547,\tTrain_RMSE: 0.29749312,\tTrain_acc: 0.29750240,\tTest mse: 0.08845364,\tTime: 6.98601103s\n"
     ]
    },
    {
     "name": "stderr",
     "output_type": "stream",
     "text": [
      "Training:  76%|███████▋  | 153/200 [17:48<05:28,  7.00s/Epochs]"
     ]
    },
    {
     "name": "stdout",
     "output_type": "stream",
     "text": [
      "Epoch: 0152,\tTrain mse: 0.08850427,\tTrain_RMSE: 0.29749116,\tTrain_acc: 0.29750046,\tTest mse: 0.08845750,\tTime: 6.99770975s\n"
     ]
    },
    {
     "name": "stderr",
     "output_type": "stream",
     "text": [
      "Training:  77%|███████▋  | 154/200 [17:55<05:22,  7.01s/Epochs]"
     ]
    },
    {
     "name": "stdout",
     "output_type": "stream",
     "text": [
      "Epoch: 0153,\tTrain mse: 0.08852182,\tTrain_RMSE: 0.29752066,\tTrain_acc: 0.29752994,\tTest mse: 0.08844551,\tTime: 7.04850149s\n"
     ]
    },
    {
     "name": "stderr",
     "output_type": "stream",
     "text": [
      "Training:  78%|███████▊  | 155/200 [18:02<05:14,  6.99s/Epochs]"
     ]
    },
    {
     "name": "stdout",
     "output_type": "stream",
     "text": [
      "Epoch: 0154,\tTrain mse: 0.08851609,\tTrain_RMSE: 0.29751094,\tTrain_acc: 0.29752025,\tTest mse: 0.08836225,\tTime: 6.94556475s\n"
     ]
    },
    {
     "name": "stderr",
     "output_type": "stream",
     "text": [
      "Training:  78%|███████▊  | 156/200 [18:09<05:07,  6.98s/Epochs]"
     ]
    },
    {
     "name": "stdout",
     "output_type": "stream",
     "text": [
      "Epoch: 0155,\tTrain mse: 0.08851103,\tTrain_RMSE: 0.29750239,\tTrain_acc: 0.29751170,\tTest mse: 0.08847332,\tTime: 6.95805287s\n"
     ]
    },
    {
     "name": "stderr",
     "output_type": "stream",
     "text": [
      "Training:  78%|███████▊  | 157/200 [18:16<05:00,  6.98s/Epochs]"
     ]
    },
    {
     "name": "stdout",
     "output_type": "stream",
     "text": [
      "Epoch: 0156,\tTrain mse: 0.08853577,\tTrain_RMSE: 0.29754381,\tTrain_acc: 0.29755306,\tTest mse: 0.08836282,\tTime: 6.97137237s\n"
     ]
    },
    {
     "name": "stderr",
     "output_type": "stream",
     "text": [
      "Training:  79%|███████▉  | 158/200 [18:23<04:52,  6.98s/Epochs]"
     ]
    },
    {
     "name": "stdout",
     "output_type": "stream",
     "text": [
      "Epoch: 0157,\tTrain mse: 0.08853079,\tTrain_RMSE: 0.29753552,\tTrain_acc: 0.29754481,\tTest mse: 0.08836131,\tTime: 6.96187496s\n"
     ]
    },
    {
     "name": "stderr",
     "output_type": "stream",
     "text": [
      "Training:  80%|███████▉  | 159/200 [18:30<04:46,  6.98s/Epochs]"
     ]
    },
    {
     "name": "stdout",
     "output_type": "stream",
     "text": [
      "Epoch: 0158,\tTrain mse: 0.08853319,\tTrain_RMSE: 0.29753953,\tTrain_acc: 0.29754877,\tTest mse: 0.08847103,\tTime: 6.97985029s\n"
     ]
    },
    {
     "name": "stderr",
     "output_type": "stream",
     "text": [
      "Training:  80%|████████  | 160/200 [18:37<04:38,  6.96s/Epochs]"
     ]
    },
    {
     "name": "stdout",
     "output_type": "stream",
     "text": [
      "Epoch: 0159,\tTrain mse: 0.08853198,\tTrain_RMSE: 0.29753740,\tTrain_acc: 0.29754668,\tTest mse: 0.08846216,\tTime: 6.93251562s\n"
     ]
    },
    {
     "name": "stderr",
     "output_type": "stream",
     "text": [
      "Training:  80%|████████  | 161/200 [18:44<04:31,  6.96s/Epochs]"
     ]
    },
    {
     "name": "stdout",
     "output_type": "stream",
     "text": [
      "Epoch: 0160,\tTrain mse: 0.08853155,\tTrain_RMSE: 0.29753680,\tTrain_acc: 0.29754609,\tTest mse: 0.08848898,\tTime: 6.93293881s\n"
     ]
    },
    {
     "name": "stderr",
     "output_type": "stream",
     "text": [
      "Training:  81%|████████  | 162/200 [18:51<04:24,  6.95s/Epochs]"
     ]
    },
    {
     "name": "stdout",
     "output_type": "stream",
     "text": [
      "Epoch: 0161,\tTrain mse: 0.08852710,\tTrain_RMSE: 0.29752939,\tTrain_acc: 0.29753870,\tTest mse: 0.08846964,\tTime: 6.92711830s\n"
     ]
    },
    {
     "name": "stderr",
     "output_type": "stream",
     "text": [
      "Training:  82%|████████▏ | 163/200 [18:58<04:17,  6.95s/Epochs]"
     ]
    },
    {
     "name": "stdout",
     "output_type": "stream",
     "text": [
      "Epoch: 0162,\tTrain mse: 0.08853477,\tTrain_RMSE: 0.29754204,\tTrain_acc: 0.29755133,\tTest mse: 0.08846727,\tTime: 6.95986080s\n"
     ]
    },
    {
     "name": "stderr",
     "output_type": "stream",
     "text": [
      "Training:  82%|████████▏ | 164/200 [19:05<04:10,  6.95s/Epochs]"
     ]
    },
    {
     "name": "stdout",
     "output_type": "stream",
     "text": [
      "Epoch: 0163,\tTrain mse: 0.08854931,\tTrain_RMSE: 0.29756652,\tTrain_acc: 0.29757583,\tTest mse: 0.08838598,\tTime: 6.95648336s\n"
     ]
    },
    {
     "name": "stderr",
     "output_type": "stream",
     "text": [
      "Training:  82%|████████▎ | 165/200 [19:12<04:03,  6.97s/Epochs]"
     ]
    },
    {
     "name": "stdout",
     "output_type": "stream",
     "text": [
      "Epoch: 0164,\tTrain mse: 0.08854806,\tTrain_RMSE: 0.29756427,\tTrain_acc: 0.29757354,\tTest mse: 0.08847831,\tTime: 7.00383854s\n"
     ]
    },
    {
     "name": "stderr",
     "output_type": "stream",
     "text": [
      "Training:  83%|████████▎ | 166/200 [19:19<03:57,  6.97s/Epochs]"
     ]
    },
    {
     "name": "stdout",
     "output_type": "stream",
     "text": [
      "Epoch: 0165,\tTrain mse: 0.08854443,\tTrain_RMSE: 0.29755831,\tTrain_acc: 0.29756758,\tTest mse: 0.08838227,\tTime: 6.98367429s\n"
     ]
    },
    {
     "name": "stderr",
     "output_type": "stream",
     "text": [
      "Training:  84%|████████▎ | 167/200 [19:26<03:50,  7.00s/Epochs]"
     ]
    },
    {
     "name": "stdout",
     "output_type": "stream",
     "text": [
      "Epoch: 0166,\tTrain mse: 0.08855519,\tTrain_RMSE: 0.29757633,\tTrain_acc: 0.29758564,\tTest mse: 0.08837438,\tTime: 7.04734707s\n"
     ]
    },
    {
     "name": "stderr",
     "output_type": "stream",
     "text": [
      "Training:  84%|████████▍ | 168/200 [19:33<03:43,  6.97s/Epochs]"
     ]
    },
    {
     "name": "stdout",
     "output_type": "stream",
     "text": [
      "Epoch: 0167,\tTrain mse: 0.08854136,\tTrain_RMSE: 0.29755296,\tTrain_acc: 0.29756227,\tTest mse: 0.08834351,\tTime: 6.92415977s\n"
     ]
    },
    {
     "name": "stderr",
     "output_type": "stream",
     "text": [
      "Training:  84%|████████▍ | 169/200 [19:40<03:35,  6.96s/Epochs]"
     ]
    },
    {
     "name": "stdout",
     "output_type": "stream",
     "text": [
      "Epoch: 0168,\tTrain mse: 0.08852188,\tTrain_RMSE: 0.29752033,\tTrain_acc: 0.29752964,\tTest mse: 0.08835486,\tTime: 6.93251204s\n"
     ]
    },
    {
     "name": "stderr",
     "output_type": "stream",
     "text": [
      "Training:  85%|████████▌ | 170/200 [19:47<03:28,  6.95s/Epochs]"
     ]
    },
    {
     "name": "stdout",
     "output_type": "stream",
     "text": [
      "Epoch: 0169,\tTrain mse: 0.08852543,\tTrain_RMSE: 0.29752661,\tTrain_acc: 0.29753587,\tTest mse: 0.08845893,\tTime: 6.92592931s\n"
     ]
    },
    {
     "name": "stderr",
     "output_type": "stream",
     "text": [
      "Training:  86%|████████▌ | 171/200 [19:53<03:21,  6.95s/Epochs]"
     ]
    },
    {
     "name": "stdout",
     "output_type": "stream",
     "text": [
      "Epoch: 0170,\tTrain mse: 0.08853232,\tTrain_RMSE: 0.29753784,\tTrain_acc: 0.29754710,\tTest mse: 0.08846644,\tTime: 6.92929149s\n"
     ]
    },
    {
     "name": "stderr",
     "output_type": "stream",
     "text": [
      "Training:  86%|████████▌ | 172/200 [20:00<03:14,  6.94s/Epochs]"
     ]
    },
    {
     "name": "stdout",
     "output_type": "stream",
     "text": [
      "Epoch: 0171,\tTrain mse: 0.08853276,\tTrain_RMSE: 0.29753869,\tTrain_acc: 0.29754797,\tTest mse: 0.08836190,\tTime: 6.92720675s\n"
     ]
    },
    {
     "name": "stderr",
     "output_type": "stream",
     "text": [
      "Training:  86%|████████▋ | 173/200 [20:07<03:07,  6.94s/Epochs]"
     ]
    },
    {
     "name": "stdout",
     "output_type": "stream",
     "text": [
      "Epoch: 0172,\tTrain mse: 0.08852252,\tTrain_RMSE: 0.29752153,\tTrain_acc: 0.29753080,\tTest mse: 0.08834889,\tTime: 6.93844128s\n"
     ]
    },
    {
     "name": "stderr",
     "output_type": "stream",
     "text": [
      "Training:  87%|████████▋ | 174/200 [20:14<03:00,  6.95s/Epochs]"
     ]
    },
    {
     "name": "stdout",
     "output_type": "stream",
     "text": [
      "Epoch: 0173,\tTrain mse: 0.08853505,\tTrain_RMSE: 0.29754256,\tTrain_acc: 0.29755181,\tTest mse: 0.08835903,\tTime: 6.95640802s\n"
     ]
    },
    {
     "name": "stderr",
     "output_type": "stream",
     "text": [
      "Training:  88%|████████▊ | 175/200 [20:21<02:53,  6.95s/Epochs]"
     ]
    },
    {
     "name": "stdout",
     "output_type": "stream",
     "text": [
      "Epoch: 0174,\tTrain mse: 0.08853481,\tTrain_RMSE: 0.29754220,\tTrain_acc: 0.29755148,\tTest mse: 0.08837479,\tTime: 6.95499945s\n"
     ]
    },
    {
     "name": "stderr",
     "output_type": "stream",
     "text": [
      "Training:  88%|████████▊ | 176/200 [20:28<02:46,  6.95s/Epochs]"
     ]
    },
    {
     "name": "stdout",
     "output_type": "stream",
     "text": [
      "Epoch: 0175,\tTrain mse: 0.08852542,\tTrain_RMSE: 0.29752633,\tTrain_acc: 0.29753560,\tTest mse: 0.08837484,\tTime: 6.94911504s\n"
     ]
    },
    {
     "name": "stderr",
     "output_type": "stream",
     "text": [
      "Training:  88%|████████▊ | 177/200 [20:35<02:39,  6.94s/Epochs]"
     ]
    },
    {
     "name": "stdout",
     "output_type": "stream",
     "text": [
      "Epoch: 0176,\tTrain mse: 0.08852902,\tTrain_RMSE: 0.29753246,\tTrain_acc: 0.29754171,\tTest mse: 0.08836246,\tTime: 6.91040373s\n"
     ]
    },
    {
     "name": "stderr",
     "output_type": "stream",
     "text": [
      "Training:  89%|████████▉ | 178/200 [20:42<02:33,  6.97s/Epochs]"
     ]
    },
    {
     "name": "stdout",
     "output_type": "stream",
     "text": [
      "Epoch: 0177,\tTrain mse: 0.08853305,\tTrain_RMSE: 0.29753924,\tTrain_acc: 0.29754850,\tTest mse: 0.08834296,\tTime: 7.04047060s\n"
     ]
    },
    {
     "name": "stderr",
     "output_type": "stream",
     "text": [
      "Training:  90%|████████▉ | 179/200 [20:49<02:26,  6.95s/Epochs]"
     ]
    },
    {
     "name": "stdout",
     "output_type": "stream",
     "text": [
      "Epoch: 0178,\tTrain mse: 0.08853605,\tTrain_RMSE: 0.29754436,\tTrain_acc: 0.29755363,\tTest mse: 0.08845016,\tTime: 6.91725922s\n"
     ]
    },
    {
     "name": "stderr",
     "output_type": "stream",
     "text": [
      "Training:  90%|█████████ | 180/200 [20:56<02:18,  6.95s/Epochs]"
     ]
    },
    {
     "name": "stdout",
     "output_type": "stream",
     "text": [
      "Epoch: 0179,\tTrain mse: 0.08852759,\tTrain_RMSE: 0.29753002,\tTrain_acc: 0.29753932,\tTest mse: 0.08837768,\tTime: 6.93589306s\n"
     ]
    },
    {
     "name": "stderr",
     "output_type": "stream",
     "text": [
      "Training:  90%|█████████ | 181/200 [21:03<02:11,  6.94s/Epochs]"
     ]
    },
    {
     "name": "stdout",
     "output_type": "stream",
     "text": [
      "Epoch: 0180,\tTrain mse: 0.08853232,\tTrain_RMSE: 0.29753811,\tTrain_acc: 0.29754734,\tTest mse: 0.08849757,\tTime: 6.93221164s\n"
     ]
    },
    {
     "name": "stderr",
     "output_type": "stream",
     "text": [
      "Training:  91%|█████████ | 182/200 [21:10<02:04,  6.93s/Epochs]"
     ]
    },
    {
     "name": "stdout",
     "output_type": "stream",
     "text": [
      "Epoch: 0181,\tTrain mse: 0.08852034,\tTrain_RMSE: 0.29751782,\tTrain_acc: 0.29752707,\tTest mse: 0.08837390,\tTime: 6.89646268s\n"
     ]
    },
    {
     "name": "stderr",
     "output_type": "stream",
     "text": [
      "Training:  92%|█████████▏| 183/200 [21:17<01:57,  6.93s/Epochs]"
     ]
    },
    {
     "name": "stdout",
     "output_type": "stream",
     "text": [
      "Epoch: 0182,\tTrain mse: 0.08852393,\tTrain_RMSE: 0.29752395,\tTrain_acc: 0.29753321,\tTest mse: 0.08834113,\tTime: 6.92540908s\n"
     ]
    },
    {
     "name": "stderr",
     "output_type": "stream",
     "text": [
      "Training:  92%|█████████▏| 184/200 [21:24<01:51,  6.95s/Epochs]"
     ]
    },
    {
     "name": "stdout",
     "output_type": "stream",
     "text": [
      "Epoch: 0183,\tTrain mse: 0.08850638,\tTrain_RMSE: 0.29749470,\tTrain_acc: 0.29750395,\tTest mse: 0.08846314,\tTime: 7.01092362s\n"
     ]
    },
    {
     "name": "stderr",
     "output_type": "stream",
     "text": [
      "Training:  92%|█████████▎| 185/200 [21:31<01:44,  6.97s/Epochs]"
     ]
    },
    {
     "name": "stdout",
     "output_type": "stream",
     "text": [
      "Epoch: 0184,\tTrain mse: 0.08851987,\tTrain_RMSE: 0.29751725,\tTrain_acc: 0.29752651,\tTest mse: 0.08846371,\tTime: 7.02291226s\n"
     ]
    },
    {
     "name": "stderr",
     "output_type": "stream",
     "text": [
      "Training:  93%|█████████▎| 186/200 [21:38<01:37,  6.98s/Epochs]"
     ]
    },
    {
     "name": "stdout",
     "output_type": "stream",
     "text": [
      "Epoch: 0185,\tTrain mse: 0.08853908,\tTrain_RMSE: 0.29754931,\tTrain_acc: 0.29755855,\tTest mse: 0.08845227,\tTime: 6.98970413s\n"
     ]
    },
    {
     "name": "stderr",
     "output_type": "stream",
     "text": [
      "Training:  94%|█████████▎| 187/200 [21:45<01:31,  7.00s/Epochs]"
     ]
    },
    {
     "name": "stdout",
     "output_type": "stream",
     "text": [
      "Epoch: 0186,\tTrain mse: 0.08851820,\tTrain_RMSE: 0.29751453,\tTrain_acc: 0.29752383,\tTest mse: 0.08844919,\tTime: 7.05605483s\n"
     ]
    },
    {
     "name": "stderr",
     "output_type": "stream",
     "text": [
      "Training:  94%|█████████▍| 188/200 [21:52<01:23,  7.00s/Epochs]"
     ]
    },
    {
     "name": "stdout",
     "output_type": "stream",
     "text": [
      "Epoch: 0187,\tTrain mse: 0.08851689,\tTrain_RMSE: 0.29751235,\tTrain_acc: 0.29752159,\tTest mse: 0.08845605,\tTime: 6.97470880s\n"
     ]
    },
    {
     "name": "stderr",
     "output_type": "stream",
     "text": [
      "Training:  94%|█████████▍| 189/200 [21:59<01:16,  6.98s/Epochs]"
     ]
    },
    {
     "name": "stdout",
     "output_type": "stream",
     "text": [
      "Epoch: 0188,\tTrain mse: 0.08851755,\tTrain_RMSE: 0.29751350,\tTrain_acc: 0.29752275,\tTest mse: 0.08845527,\tTime: 6.94978023s\n"
     ]
    },
    {
     "name": "stderr",
     "output_type": "stream",
     "text": [
      "Training:  95%|█████████▌| 190/200 [22:06<01:09,  6.98s/Epochs]"
     ]
    },
    {
     "name": "stdout",
     "output_type": "stream",
     "text": [
      "Epoch: 0189,\tTrain mse: 0.08854027,\tTrain_RMSE: 0.29755165,\tTrain_acc: 0.29756090,\tTest mse: 0.08845172,\tTime: 6.96777821s\n"
     ]
    },
    {
     "name": "stderr",
     "output_type": "stream",
     "text": [
      "Training:  96%|█████████▌| 191/200 [22:13<01:02,  6.97s/Epochs]"
     ]
    },
    {
     "name": "stdout",
     "output_type": "stream",
     "text": [
      "Epoch: 0190,\tTrain mse: 0.08854428,\tTrain_RMSE: 0.29755816,\tTrain_acc: 0.29756737,\tTest mse: 0.08848348,\tTime: 6.96190906s\n"
     ]
    },
    {
     "name": "stderr",
     "output_type": "stream",
     "text": [
      "Training:  96%|█████████▌| 192/200 [22:20<00:55,  6.96s/Epochs]"
     ]
    },
    {
     "name": "stdout",
     "output_type": "stream",
     "text": [
      "Epoch: 0191,\tTrain mse: 0.08854161,\tTrain_RMSE: 0.29755368,\tTrain_acc: 0.29756296,\tTest mse: 0.08847400,\tTime: 6.92668629s\n"
     ]
    },
    {
     "name": "stderr",
     "output_type": "stream",
     "text": [
      "Training:  96%|█████████▋| 193/200 [22:27<00:48,  6.96s/Epochs]"
     ]
    },
    {
     "name": "stdout",
     "output_type": "stream",
     "text": [
      "Epoch: 0192,\tTrain mse: 0.08853915,\tTrain_RMSE: 0.29754962,\tTrain_acc: 0.29755890,\tTest mse: 0.08848573,\tTime: 6.94465137s\n"
     ]
    },
    {
     "name": "stderr",
     "output_type": "stream",
     "text": [
      "Training:  97%|█████████▋| 194/200 [22:34<00:41,  6.95s/Epochs]"
     ]
    },
    {
     "name": "stdout",
     "output_type": "stream",
     "text": [
      "Epoch: 0193,\tTrain mse: 0.08854351,\tTrain_RMSE: 0.29755696,\tTrain_acc: 0.29756624,\tTest mse: 0.08847605,\tTime: 6.94012856s\n"
     ]
    },
    {
     "name": "stderr",
     "output_type": "stream",
     "text": [
      "Training:  98%|█████████▊| 195/200 [22:40<00:34,  6.95s/Epochs]"
     ]
    },
    {
     "name": "stdout",
     "output_type": "stream",
     "text": [
      "Epoch: 0194,\tTrain mse: 0.08854882,\tTrain_RMSE: 0.29756583,\tTrain_acc: 0.29757509,\tTest mse: 0.08845717,\tTime: 6.96143961s\n"
     ]
    },
    {
     "name": "stderr",
     "output_type": "stream",
     "text": [
      "Training:  98%|█████████▊| 196/200 [22:47<00:27,  6.96s/Epochs]"
     ]
    },
    {
     "name": "stdout",
     "output_type": "stream",
     "text": [
      "Epoch: 0195,\tTrain mse: 0.08854125,\tTrain_RMSE: 0.29755316,\tTrain_acc: 0.29756242,\tTest mse: 0.08846746,\tTime: 6.97187114s\n"
     ]
    },
    {
     "name": "stderr",
     "output_type": "stream",
     "text": [
      "Training:  98%|█████████▊| 197/200 [22:54<00:20,  6.96s/Epochs]"
     ]
    },
    {
     "name": "stdout",
     "output_type": "stream",
     "text": [
      "Epoch: 0196,\tTrain mse: 0.08852190,\tTrain_RMSE: 0.29752077,\tTrain_acc: 0.29753006,\tTest mse: 0.08845892,\tTime: 6.97160316s\n"
     ]
    },
    {
     "name": "stderr",
     "output_type": "stream",
     "text": [
      "Training:  99%|█████████▉| 198/200 [23:01<00:13,  6.96s/Epochs]"
     ]
    },
    {
     "name": "stdout",
     "output_type": "stream",
     "text": [
      "Epoch: 0197,\tTrain mse: 0.08851888,\tTrain_RMSE: 0.29751569,\tTrain_acc: 0.29752499,\tTest mse: 0.08845113,\tTime: 6.94232392s\n"
     ]
    },
    {
     "name": "stderr",
     "output_type": "stream",
     "text": [
      "Training: 100%|█████████▉| 199/200 [23:08<00:06,  6.94s/Epochs]"
     ]
    },
    {
     "name": "stdout",
     "output_type": "stream",
     "text": [
      "Epoch: 0198,\tTrain mse: 0.08852277,\tTrain_RMSE: 0.29752227,\tTrain_acc: 0.29753152,\tTest mse: 0.08835621,\tTime: 6.90265632s\n"
     ]
    },
    {
     "name": "stderr",
     "output_type": "stream",
     "text": [
      "Training: 100%|██████████| 200/200 [23:15<00:00,  6.98s/Epochs]"
     ]
    },
    {
     "name": "stdout",
     "output_type": "stream",
     "text": [
      "Epoch: 0199,\tTrain mse: 0.08852192,\tTrain_RMSE: 0.29752083,\tTrain_acc: 0.29753008,\tTest mse: 0.08845883,\tTime: 6.96591806s\n",
      "Model.state_dict:\n",
      "node_encode.0.weight \t torch.Size([22, 2])\n",
      "node_encode.0.bias \t torch.Size([22])\n",
      "node_encode.1.weight \t torch.Size([22, 22])\n",
      "node_encode.1.bias \t torch.Size([22])\n",
      "node_encode.2.weight \t torch.Size([22, 22])\n",
      "node_encode.2.bias \t torch.Size([22])\n",
      "node_encode.3.weight \t torch.Size([22, 22])\n",
      "node_encode.3.bias \t torch.Size([22])\n",
      "node_encode.4.weight \t torch.Size([22, 22])\n",
      "node_encode.4.bias \t torch.Size([22])\n",
      "node_encode.5.weight \t torch.Size([22, 22])\n",
      "node_encode.5.bias \t torch.Size([22])\n",
      "node_encode_norm.weight \t torch.Size([22])\n",
      "node_encode_norm.bias \t torch.Size([22])\n",
      "edge_encode.0.weight \t torch.Size([22, 3])\n",
      "edge_encode.0.bias \t torch.Size([22])\n",
      "edge_encode.1.weight \t torch.Size([22, 22])\n",
      "edge_encode.1.bias \t torch.Size([22])\n",
      "edge_encode.2.weight \t torch.Size([22, 22])\n",
      "edge_encode.2.bias \t torch.Size([22])\n",
      "edge_encode.3.weight \t torch.Size([22, 22])\n",
      "edge_encode.3.bias \t torch.Size([22])\n",
      "edge_encode.4.weight \t torch.Size([22, 22])\n",
      "edge_encode.4.bias \t torch.Size([22])\n",
      "edge_encode.5.weight \t torch.Size([22, 22])\n",
      "edge_encode.5.bias \t torch.Size([22])\n",
      "edge_encode_norm.weight \t torch.Size([22])\n",
      "edge_encode_norm.bias \t torch.Size([22])\n",
      "edge_down_mps.0.0.0.weight \t torch.Size([22, 66])\n",
      "edge_down_mps.0.0.0.bias \t torch.Size([22])\n",
      "edge_down_mps.0.0.1.weight \t torch.Size([22, 22])\n",
      "edge_down_mps.0.0.1.bias \t torch.Size([22])\n",
      "edge_down_mps.0.0.2.weight \t torch.Size([22, 22])\n",
      "edge_down_mps.0.0.2.bias \t torch.Size([22])\n",
      "edge_down_mps.0.0.3.weight \t torch.Size([22, 22])\n",
      "edge_down_mps.0.0.3.bias \t torch.Size([22])\n",
      "edge_down_mps.0.1.0.weight \t torch.Size([22, 66])\n",
      "edge_down_mps.0.1.0.bias \t torch.Size([22])\n",
      "edge_down_mps.0.1.1.weight \t torch.Size([22, 22])\n",
      "edge_down_mps.0.1.1.bias \t torch.Size([22])\n",
      "edge_down_mps.0.1.2.weight \t torch.Size([22, 22])\n",
      "edge_down_mps.0.1.2.bias \t torch.Size([22])\n",
      "edge_down_mps.0.1.3.weight \t torch.Size([22, 22])\n",
      "edge_down_mps.0.1.3.bias \t torch.Size([22])\n",
      "edge_down_mps.1.0.0.weight \t torch.Size([22, 66])\n",
      "edge_down_mps.1.0.0.bias \t torch.Size([22])\n",
      "edge_down_mps.1.0.1.weight \t torch.Size([22, 22])\n",
      "edge_down_mps.1.0.1.bias \t torch.Size([22])\n",
      "edge_down_mps.1.0.2.weight \t torch.Size([22, 22])\n",
      "edge_down_mps.1.0.2.bias \t torch.Size([22])\n",
      "edge_down_mps.1.0.3.weight \t torch.Size([22, 22])\n",
      "edge_down_mps.1.0.3.bias \t torch.Size([22])\n",
      "edge_down_mps.1.1.0.weight \t torch.Size([22, 66])\n",
      "edge_down_mps.1.1.0.bias \t torch.Size([22])\n",
      "edge_down_mps.1.1.1.weight \t torch.Size([22, 22])\n",
      "edge_down_mps.1.1.1.bias \t torch.Size([22])\n",
      "edge_down_mps.1.1.2.weight \t torch.Size([22, 22])\n",
      "edge_down_mps.1.1.2.bias \t torch.Size([22])\n",
      "edge_down_mps.1.1.3.weight \t torch.Size([22, 22])\n",
      "edge_down_mps.1.1.3.bias \t torch.Size([22])\n",
      "edge_down_mps.2.0.0.weight \t torch.Size([22, 66])\n",
      "edge_down_mps.2.0.0.bias \t torch.Size([22])\n",
      "edge_down_mps.2.0.1.weight \t torch.Size([22, 22])\n",
      "edge_down_mps.2.0.1.bias \t torch.Size([22])\n",
      "edge_down_mps.2.0.2.weight \t torch.Size([22, 22])\n",
      "edge_down_mps.2.0.2.bias \t torch.Size([22])\n",
      "edge_down_mps.2.0.3.weight \t torch.Size([22, 22])\n",
      "edge_down_mps.2.0.3.bias \t torch.Size([22])\n",
      "edge_down_mps.3.0.0.weight \t torch.Size([22, 66])\n",
      "edge_down_mps.3.0.0.bias \t torch.Size([22])\n",
      "edge_down_mps.3.0.1.weight \t torch.Size([22, 22])\n",
      "edge_down_mps.3.0.1.bias \t torch.Size([22])\n",
      "edge_down_mps.3.0.2.weight \t torch.Size([22, 22])\n",
      "edge_down_mps.3.0.2.bias \t torch.Size([22])\n",
      "edge_down_mps.3.0.3.weight \t torch.Size([22, 22])\n",
      "edge_down_mps.3.0.3.bias \t torch.Size([22])\n",
      "edge_down_norms.0.0.weight \t torch.Size([22])\n",
      "edge_down_norms.0.0.bias \t torch.Size([22])\n",
      "edge_down_norms.0.1.weight \t torch.Size([22])\n",
      "edge_down_norms.0.1.bias \t torch.Size([22])\n",
      "edge_down_norms.1.0.weight \t torch.Size([22])\n",
      "edge_down_norms.1.0.bias \t torch.Size([22])\n",
      "edge_down_norms.1.1.weight \t torch.Size([22])\n",
      "edge_down_norms.1.1.bias \t torch.Size([22])\n",
      "edge_down_norms.2.0.weight \t torch.Size([22])\n",
      "edge_down_norms.2.0.bias \t torch.Size([22])\n",
      "edge_down_norms.3.0.weight \t torch.Size([22])\n",
      "edge_down_norms.3.0.bias \t torch.Size([22])\n",
      "node_down_mps.0.0.0.weight \t torch.Size([22, 44])\n",
      "node_down_mps.0.0.0.bias \t torch.Size([22])\n",
      "node_down_mps.0.0.1.weight \t torch.Size([22, 22])\n",
      "node_down_mps.0.0.1.bias \t torch.Size([22])\n",
      "node_down_mps.0.0.2.weight \t torch.Size([22, 22])\n",
      "node_down_mps.0.0.2.bias \t torch.Size([22])\n",
      "node_down_mps.0.0.3.weight \t torch.Size([22, 22])\n",
      "node_down_mps.0.0.3.bias \t torch.Size([22])\n",
      "node_down_mps.0.1.0.weight \t torch.Size([22, 44])\n",
      "node_down_mps.0.1.0.bias \t torch.Size([22])\n",
      "node_down_mps.0.1.1.weight \t torch.Size([22, 22])\n",
      "node_down_mps.0.1.1.bias \t torch.Size([22])\n",
      "node_down_mps.0.1.2.weight \t torch.Size([22, 22])\n",
      "node_down_mps.0.1.2.bias \t torch.Size([22])\n",
      "node_down_mps.0.1.3.weight \t torch.Size([22, 22])\n",
      "node_down_mps.0.1.3.bias \t torch.Size([22])\n",
      "node_down_mps.1.0.0.weight \t torch.Size([22, 44])\n",
      "node_down_mps.1.0.0.bias \t torch.Size([22])\n",
      "node_down_mps.1.0.1.weight \t torch.Size([22, 22])\n",
      "node_down_mps.1.0.1.bias \t torch.Size([22])\n",
      "node_down_mps.1.0.2.weight \t torch.Size([22, 22])\n",
      "node_down_mps.1.0.2.bias \t torch.Size([22])\n",
      "node_down_mps.1.0.3.weight \t torch.Size([22, 22])\n",
      "node_down_mps.1.0.3.bias \t torch.Size([22])\n",
      "node_down_mps.1.1.0.weight \t torch.Size([22, 44])\n",
      "node_down_mps.1.1.0.bias \t torch.Size([22])\n",
      "node_down_mps.1.1.1.weight \t torch.Size([22, 22])\n",
      "node_down_mps.1.1.1.bias \t torch.Size([22])\n",
      "node_down_mps.1.1.2.weight \t torch.Size([22, 22])\n",
      "node_down_mps.1.1.2.bias \t torch.Size([22])\n",
      "node_down_mps.1.1.3.weight \t torch.Size([22, 22])\n",
      "node_down_mps.1.1.3.bias \t torch.Size([22])\n",
      "node_down_mps.2.0.0.weight \t torch.Size([22, 44])\n",
      "node_down_mps.2.0.0.bias \t torch.Size([22])\n",
      "node_down_mps.2.0.1.weight \t torch.Size([22, 22])\n",
      "node_down_mps.2.0.1.bias \t torch.Size([22])\n",
      "node_down_mps.2.0.2.weight \t torch.Size([22, 22])\n",
      "node_down_mps.2.0.2.bias \t torch.Size([22])\n",
      "node_down_mps.2.0.3.weight \t torch.Size([22, 22])\n",
      "node_down_mps.2.0.3.bias \t torch.Size([22])\n",
      "node_down_mps.3.0.0.weight \t torch.Size([22, 44])\n",
      "node_down_mps.3.0.0.bias \t torch.Size([22])\n",
      "node_down_mps.3.0.1.weight \t torch.Size([22, 22])\n",
      "node_down_mps.3.0.1.bias \t torch.Size([22])\n",
      "node_down_mps.3.0.2.weight \t torch.Size([22, 22])\n",
      "node_down_mps.3.0.2.bias \t torch.Size([22])\n",
      "node_down_mps.3.0.3.weight \t torch.Size([22, 22])\n",
      "node_down_mps.3.0.3.bias \t torch.Size([22])\n",
      "node_down_norms.0.0.weight \t torch.Size([22])\n",
      "node_down_norms.0.0.bias \t torch.Size([22])\n",
      "node_down_norms.0.1.weight \t torch.Size([22])\n",
      "node_down_norms.0.1.bias \t torch.Size([22])\n",
      "node_down_norms.1.0.weight \t torch.Size([22])\n",
      "node_down_norms.1.0.bias \t torch.Size([22])\n",
      "node_down_norms.1.1.weight \t torch.Size([22])\n",
      "node_down_norms.1.1.bias \t torch.Size([22])\n",
      "node_down_norms.2.0.weight \t torch.Size([22])\n",
      "node_down_norms.2.0.bias \t torch.Size([22])\n",
      "node_down_norms.3.0.weight \t torch.Size([22])\n",
      "node_down_norms.3.0.bias \t torch.Size([22])\n",
      "edge_up_mps.0.0.0.weight \t torch.Size([22, 66])\n",
      "edge_up_mps.0.0.0.bias \t torch.Size([22])\n",
      "edge_up_mps.0.0.1.weight \t torch.Size([22, 22])\n",
      "edge_up_mps.0.0.1.bias \t torch.Size([22])\n",
      "edge_up_mps.0.0.2.weight \t torch.Size([22, 22])\n",
      "edge_up_mps.0.0.2.bias \t torch.Size([22])\n",
      "edge_up_mps.0.0.3.weight \t torch.Size([22, 22])\n",
      "edge_up_mps.0.0.3.bias \t torch.Size([22])\n",
      "edge_up_mps.1.0.0.weight \t torch.Size([22, 66])\n",
      "edge_up_mps.1.0.0.bias \t torch.Size([22])\n",
      "edge_up_mps.1.0.1.weight \t torch.Size([22, 22])\n",
      "edge_up_mps.1.0.1.bias \t torch.Size([22])\n",
      "edge_up_mps.1.0.2.weight \t torch.Size([22, 22])\n",
      "edge_up_mps.1.0.2.bias \t torch.Size([22])\n",
      "edge_up_mps.1.0.3.weight \t torch.Size([22, 22])\n",
      "edge_up_mps.1.0.3.bias \t torch.Size([22])\n",
      "edge_up_mps.2.0.0.weight \t torch.Size([22, 66])\n",
      "edge_up_mps.2.0.0.bias \t torch.Size([22])\n",
      "edge_up_mps.2.0.1.weight \t torch.Size([22, 22])\n",
      "edge_up_mps.2.0.1.bias \t torch.Size([22])\n",
      "edge_up_mps.2.0.2.weight \t torch.Size([22, 22])\n",
      "edge_up_mps.2.0.2.bias \t torch.Size([22])\n",
      "edge_up_mps.2.0.3.weight \t torch.Size([22, 22])\n",
      "edge_up_mps.2.0.3.bias \t torch.Size([22])\n",
      "edge_up_mps.2.1.0.weight \t torch.Size([22, 66])\n",
      "edge_up_mps.2.1.0.bias \t torch.Size([22])\n",
      "edge_up_mps.2.1.1.weight \t torch.Size([22, 22])\n",
      "edge_up_mps.2.1.1.bias \t torch.Size([22])\n",
      "edge_up_mps.2.1.2.weight \t torch.Size([22, 22])\n",
      "edge_up_mps.2.1.2.bias \t torch.Size([22])\n",
      "edge_up_mps.2.1.3.weight \t torch.Size([22, 22])\n",
      "edge_up_mps.2.1.3.bias \t torch.Size([22])\n",
      "edge_up_mps.3.0.0.weight \t torch.Size([22, 66])\n",
      "edge_up_mps.3.0.0.bias \t torch.Size([22])\n",
      "edge_up_mps.3.0.1.weight \t torch.Size([22, 22])\n",
      "edge_up_mps.3.0.1.bias \t torch.Size([22])\n",
      "edge_up_mps.3.0.2.weight \t torch.Size([22, 22])\n",
      "edge_up_mps.3.0.2.bias \t torch.Size([22])\n",
      "edge_up_mps.3.0.3.weight \t torch.Size([22, 22])\n",
      "edge_up_mps.3.0.3.bias \t torch.Size([22])\n",
      "edge_up_mps.3.1.0.weight \t torch.Size([22, 66])\n",
      "edge_up_mps.3.1.0.bias \t torch.Size([22])\n",
      "edge_up_mps.3.1.1.weight \t torch.Size([22, 22])\n",
      "edge_up_mps.3.1.1.bias \t torch.Size([22])\n",
      "edge_up_mps.3.1.2.weight \t torch.Size([22, 22])\n",
      "edge_up_mps.3.1.2.bias \t torch.Size([22])\n",
      "edge_up_mps.3.1.3.weight \t torch.Size([22, 22])\n",
      "edge_up_mps.3.1.3.bias \t torch.Size([22])\n",
      "edge_up_norms.0.0.weight \t torch.Size([22])\n",
      "edge_up_norms.0.0.bias \t torch.Size([22])\n",
      "edge_up_norms.1.0.weight \t torch.Size([22])\n",
      "edge_up_norms.1.0.bias \t torch.Size([22])\n",
      "edge_up_norms.2.0.weight \t torch.Size([22])\n",
      "edge_up_norms.2.0.bias \t torch.Size([22])\n",
      "edge_up_norms.2.1.weight \t torch.Size([22])\n",
      "edge_up_norms.2.1.bias \t torch.Size([22])\n",
      "edge_up_norms.3.0.weight \t torch.Size([22])\n",
      "edge_up_norms.3.0.bias \t torch.Size([22])\n",
      "edge_up_norms.3.1.weight \t torch.Size([22])\n",
      "edge_up_norms.3.1.bias \t torch.Size([22])\n",
      "node_up_mps.0.0.0.weight \t torch.Size([22, 44])\n",
      "node_up_mps.0.0.0.bias \t torch.Size([22])\n",
      "node_up_mps.0.0.1.weight \t torch.Size([22, 22])\n",
      "node_up_mps.0.0.1.bias \t torch.Size([22])\n",
      "node_up_mps.0.0.2.weight \t torch.Size([22, 22])\n",
      "node_up_mps.0.0.2.bias \t torch.Size([22])\n",
      "node_up_mps.0.0.3.weight \t torch.Size([22, 22])\n",
      "node_up_mps.0.0.3.bias \t torch.Size([22])\n",
      "node_up_mps.1.0.0.weight \t torch.Size([22, 44])\n",
      "node_up_mps.1.0.0.bias \t torch.Size([22])\n",
      "node_up_mps.1.0.1.weight \t torch.Size([22, 22])\n",
      "node_up_mps.1.0.1.bias \t torch.Size([22])\n",
      "node_up_mps.1.0.2.weight \t torch.Size([22, 22])\n",
      "node_up_mps.1.0.2.bias \t torch.Size([22])\n",
      "node_up_mps.1.0.3.weight \t torch.Size([22, 22])\n",
      "node_up_mps.1.0.3.bias \t torch.Size([22])\n",
      "node_up_mps.2.0.0.weight \t torch.Size([22, 44])\n",
      "node_up_mps.2.0.0.bias \t torch.Size([22])\n",
      "node_up_mps.2.0.1.weight \t torch.Size([22, 22])\n",
      "node_up_mps.2.0.1.bias \t torch.Size([22])\n",
      "node_up_mps.2.0.2.weight \t torch.Size([22, 22])\n",
      "node_up_mps.2.0.2.bias \t torch.Size([22])\n",
      "node_up_mps.2.0.3.weight \t torch.Size([22, 22])\n",
      "node_up_mps.2.0.3.bias \t torch.Size([22])\n",
      "node_up_mps.2.1.0.weight \t torch.Size([22, 44])\n",
      "node_up_mps.2.1.0.bias \t torch.Size([22])\n",
      "node_up_mps.2.1.1.weight \t torch.Size([22, 22])\n",
      "node_up_mps.2.1.1.bias \t torch.Size([22])\n",
      "node_up_mps.2.1.2.weight \t torch.Size([22, 22])\n",
      "node_up_mps.2.1.2.bias \t torch.Size([22])\n",
      "node_up_mps.2.1.3.weight \t torch.Size([22, 22])\n",
      "node_up_mps.2.1.3.bias \t torch.Size([22])\n",
      "node_up_mps.3.0.0.weight \t torch.Size([22, 44])\n",
      "node_up_mps.3.0.0.bias \t torch.Size([22])\n",
      "node_up_mps.3.0.1.weight \t torch.Size([22, 22])\n",
      "node_up_mps.3.0.1.bias \t torch.Size([22])\n",
      "node_up_mps.3.0.2.weight \t torch.Size([22, 22])\n",
      "node_up_mps.3.0.2.bias \t torch.Size([22])\n",
      "node_up_mps.3.0.3.weight \t torch.Size([22, 22])\n",
      "node_up_mps.3.0.3.bias \t torch.Size([22])\n",
      "node_up_mps.3.1.0.weight \t torch.Size([22, 44])\n",
      "node_up_mps.3.1.0.bias \t torch.Size([22])\n",
      "node_up_mps.3.1.1.weight \t torch.Size([22, 22])\n",
      "node_up_mps.3.1.1.bias \t torch.Size([22])\n",
      "node_up_mps.3.1.2.weight \t torch.Size([22, 22])\n",
      "node_up_mps.3.1.2.bias \t torch.Size([22])\n",
      "node_up_mps.3.1.3.weight \t torch.Size([22, 22])\n",
      "node_up_mps.3.1.3.bias \t torch.Size([22])\n",
      "node_up_norms.0.0.weight \t torch.Size([22])\n",
      "node_up_norms.0.0.bias \t torch.Size([22])\n",
      "node_up_norms.1.0.weight \t torch.Size([22])\n",
      "node_up_norms.1.0.bias \t torch.Size([22])\n",
      "node_up_norms.2.0.weight \t torch.Size([22])\n",
      "node_up_norms.2.0.bias \t torch.Size([22])\n",
      "node_up_norms.2.1.weight \t torch.Size([22])\n",
      "node_up_norms.2.1.bias \t torch.Size([22])\n",
      "node_up_norms.3.0.weight \t torch.Size([22])\n",
      "node_up_norms.3.0.bias \t torch.Size([22])\n",
      "node_up_norms.3.1.weight \t torch.Size([22])\n",
      "node_up_norms.3.1.bias \t torch.Size([22])\n",
      "node_decode.0.weight \t torch.Size([22, 22])\n",
      "node_decode.0.bias \t torch.Size([22])\n",
      "node_decode.1.weight \t torch.Size([22, 22])\n",
      "node_decode.1.bias \t torch.Size([22])\n",
      "node_decode.2.weight \t torch.Size([22, 22])\n",
      "node_decode.2.bias \t torch.Size([22])\n",
      "node_decode.3.weight \t torch.Size([22, 22])\n",
      "node_decode.3.bias \t torch.Size([22])\n",
      "node_decode.4.weight \t torch.Size([22, 22])\n",
      "node_decode.4.bias \t torch.Size([22])\n",
      "node_decode.5.weight \t torch.Size([2, 22])\n",
      "node_decode.5.bias \t torch.Size([2])\n",
      "pools.0.weight \t torch.Size([1, 22])\n",
      "pools.1.weight \t torch.Size([1, 22])\n",
      "pools.2.weight \t torch.Size([1, 22])\n"
     ]
    },
    {
     "name": "stderr",
     "output_type": "stream",
     "text": [
      "\n"
     ]
    }
   ],
   "source": [
    "SEED = 123\n",
    "torch.manual_seed(SEED)\n",
    "np.random.seed(SEED)\n",
    "random.seed(SEED)        #Python\n",
    "\n",
    "#pathE='/root/data1/EMD/Encode_state_dict.pt'\n",
    "#pathD='/root/data1/EMD/Decode_state_dict.pt'\n",
    "#pathED = '/root/data1/EMD/ED_state_dict.pt'\n",
    "epochs = 200\n",
    "\n",
    "device = 'cuda' if torch.cuda.is_available() else 'cpu'    #cuda\n",
    "\n",
    "file_path= '/root/data1/circle_fenjie_EMD/meshgraphnets_miniset1251traj50200ts_vis.pt'\n",
    "dataset = torch.load(file_path)\n",
    "print(len(dataset))\n",
    "#EDstats_list = get_EDstats(dataset)\n",
    "[EDmean_vec_x,EDstd_vec_x,EDmean_vec_edge,EDstd_vec_edge] = torch.load('/root/data1/circle_fenjie_EMD/EDstats_list.pt')\n",
    "\n",
    "(EDmean_vec_x,EDstd_vec_x,EDmean_vec_edge,EDstd_vec_edge)=(EDmean_vec_x.to(device),\n",
    "        EDstd_vec_x.to(device),EDmean_vec_edge.to(device),EDstd_vec_edge.to(device))\n",
    "\n",
    "train_size= 7       #改\n",
    "train_loader = DataLoader(dataset[:train_size],  shuffle=False)\n",
    "valid_loader = DataLoader(dataset[train_size:], shuffle=False)#分一下训练数据和验证数据\n",
    "\n",
    "\n",
    "sample = dataset[:train_size][0]\n",
    "\n",
    "in_channels_node = sample.x.shape[1]\n",
    "in_channels_edge = sample.edge_attr.shape[1]\n",
    "hidden_channels = 22    #22#12\n",
    "out_channels = in_channels_node\n",
    "batch_size =25       #改\n",
    "n_mlp_encode = 6\n",
    "n_mlp_mp = 4\n",
    "encoding_dim=10\n",
    "ae_dim=[128,64,32,16,10]\n",
    "n_mp_down = [2,2,1,1]\n",
    "n_mp_up= [1,1,2,2]\n",
    "pool_num = [3300,2500,1500] #[3300,2500,1500]\n",
    "\n",
    "act = F.elu\n",
    "param_sharing = False\n",
    "\n",
    "model = model_2_GCN_Unet(\n",
    "                hidden_channels,\n",
    "                in_channels_node,\n",
    "                in_channels_edge,\n",
    "                \n",
    "                out_channels,\n",
    "                encoding_dim,\n",
    "                n_mlp_mp,\n",
    "                n_mlp_encode,\n",
    "\n",
    "                ae_dim,\n",
    "                n_mp_down,\n",
    "                n_mp_up,\n",
    "                pool_num,\n",
    "                \n",
    "                act,\n",
    "                \n",
    "                name='gnn_topk')\n",
    "\n",
    "model.to(device)\n",
    "#model.load_state_dict(torch.load(pathED), strict=False)\n",
    "train_hist, test_hist=model_2_train(epochs, model, train_loader, valid_loader,per_t,batch_size,\n",
    "                            EDmean_vec_x,EDstd_vec_x,EDmean_vec_edge,EDstd_vec_edge)"
   ]
  },
  {
   "cell_type": "code",
   "execution_count": 6,
   "metadata": {},
   "outputs": [
    {
     "name": "stdout",
     "output_type": "stream",
     "text": [
      "8\n",
      "3718\n",
      "torch.Size([743600, 2])\n",
      "200\n",
      "Data(x=[3718, 2], edge_index=[2, 21714], edge_attr=[21714, 3], cells=[7139, 3], mesh_pos=[3718, 2])\n"
     ]
    }
   ],
   "source": [
    "model = model_2_GCN_Unet(\n",
    "                hidden_channels,\n",
    "                in_channels_node,\n",
    "                in_channels_edge,\n",
    "                \n",
    "                out_channels,\n",
    "                encoding_dim,\n",
    "                n_mlp_mp,\n",
    "                n_mlp_encode,\n",
    "\n",
    "                ae_dim,\n",
    "                n_mp_down,\n",
    "                n_mp_up,\n",
    "                pool_num,\n",
    "                \n",
    "                act,\n",
    "                \n",
    "                name='gnn_topk')\n",
    "model.to(device)\n",
    "pathED = '/root/data1/duibishiyan/model_2_ED_state_dict.pt'\n",
    "model.load_state_dict(torch.load(pathED), strict=False)\n",
    "dataset = torch.load(file_path)\n",
    "loader = DataLoader(dataset,  shuffle=False)\n",
    "print(len(dataset))\n",
    "per_t=1\n",
    "batch_size=25     #改\n",
    "num=int(dataset[0].x.shape[0]/(per_t*batch_size))\n",
    "print(num)\n",
    "pred=torch.tensor([[0,0]]).type(torch.float).to(device)\n",
    "\n",
    "device = 'cuda' if torch.cuda.is_available() else 'cpu'\n",
    "with torch.no_grad():\n",
    "  for step, data in enumerate(loader):\n",
    "    data=data.to(device)\n",
    "    out, _ = model(data, per_t , batch_size,EDmean_vec_x,EDstd_vec_x,EDmean_vec_edge,EDstd_vec_edge,batch=None, return_mask=False)\n",
    "    pred=torch.vstack((pred,out))\n",
    "pred=pred[1:,:]\n",
    "print(pred.shape)   #200*3718\n",
    "pred=pred*EDstd_vec_x+EDmean_vec_x   #pred是torch，行数为600个时间*点数，列为2\n",
    "#per_t=1\n",
    "#batch_size=1\n",
    "#get_dataset(number_trajectories,number_ts,per_t,batch_size,dataset_dir,path)\n",
    "file_path_ed='/root/data1/circle_fenjie_EMD/meshgraphnets_miniset111traj50200ts_vis.pt'\n",
    "dataset_input = torch.load(file_path_ed)\n",
    "print(len(dataset_input)) #200\n",
    "print(dataset_input[0])\n",
    "pred=pred.to('cpu')\n",
    "viz_data = {}\n",
    "viz_data_loader = copy.deepcopy(dataset_input)\n",
    "\n",
    "for i in range(int(pred.shape[0]/num)):\n",
    "  viz_data_loader[i].x=pred[i*num:(i+1)*num,:]\n",
    "torch.save(viz_data_loader,'/root/data1/duibishiyan'+'/model_2_encode_decode_output'+str(number_trajectories)+'traj'+str(satart_number_ts)+str(number_ts)+'ts_vis.pt')#300个data"
   ]
  },
  {
   "cell_type": "code",
   "execution_count": 7,
   "metadata": {},
   "outputs": [
    {
     "name": "stdout",
     "output_type": "stream",
     "text": [
      "200\n",
      "Data(x=[3718, 2], edge_index=[2, 21714], edge_attr=[21714, 3], cells=[7139, 3], mesh_pos=[3718, 2])\n",
      "start to create the destination folder\n",
      "start to store data as a new variable\n",
      "transform succeed\n"
     ]
    }
   ],
   "source": [
    "for i in range(number_trajectories):\n",
    "    data=torch.load('/root/data1/duibishiyan'+'/model_2_encode_decode_output'+str(number_trajectories)+'traj'+str(satart_number_ts)+str(number_ts)+'ts_vis.pt')\n",
    "    print(len(data))#200\n",
    "    print(data[0])\n",
    "   \n",
    "    originalFolder='/root/data1/yuan_'+str(i)\n",
    "    destinationFolder='/root/data1/model2_duibishiyan_circle_dataset_EDoutput_'+str(i)\n",
    "    fileName=\"/circle-2d-drag_\"\n",
    "    transform_vector(data, satart_number_ts,number_ts, originalFolder, destinationFolder, fileName)"
   ]
  },
  {
   "cell_type": "code",
   "execution_count": 1,
   "metadata": {},
   "outputs": [
    {
     "name": "stderr",
     "output_type": "stream",
     "text": [
      "/usr/local/lib/python3.8/dist-packages/tqdm/auto.py:22: TqdmWarning: IProgress not found. Please update jupyter and ipywidgets. See https://ipywidgets.readthedocs.io/en/stable/user_install.html\n",
      "  from .autonotebook import tqdm as notebook_tqdm\n"
     ]
    }
   ],
   "source": [
    "from processing_duibishiyan import *"
   ]
  },
  {
   "cell_type": "code",
   "execution_count": 2,
   "metadata": {},
   "outputs": [
    {
     "name": "stdout",
     "output_type": "stream",
     "text": [
      "200\n",
      "(200, 7436) (200, 7436) (200, 7436) (200, 7436)\n",
      "(200, 1) (200, 1)\n"
     ]
    },
    {
     "data": {
      "image/png": "[encoded data removed]",
      "text/plain": [
       "<Figure size 432x288 with 1 Axes>"
      ]
     },
     "metadata": {
      "needs_background": "light"
     },
     "output_type": "display_data"
    }
   ],
   "source": [
    "ED_out_0 = torch.load('/root/data1/circle_fenjie_EMD/encode_decode_output_01traj50200ts_vis.pt') \n",
    "ED_out_1 = torch.load('/root/data1/duibishiyan/model_1_encode_decode_output1traj50200ts_vis.pt')\n",
    "ED_out_2 = torch.load('/root/data1/duibishiyan/model_2_encode_decode_output1traj50200ts_vis.pt')\n",
    "\n",
    "number_ts=200\n",
    "ori=torch.load('/root/data1/circle_fenjie_EMD/meshgraphnets_miniset111traj50200ts_vis.pt')\n",
    "print(len(ori))   #200\n",
    "\n",
    "\n",
    "for i in range(number_ts):\n",
    "    \n",
    "    uvw_0=ED_out_0[i].x.reshape(1,ED_out_0[i].x.shape[0],ED_out_0[i].x.shape[1])\n",
    "    uvw_1=ED_out_1[i].x.reshape(1,ED_out_1[i].x.shape[0],ED_out_1[i].x.shape[1])\n",
    "    uvw_2=ED_out_2[i].x.reshape(1,ED_out_2[i].x.shape[0],ED_out_2[i].x.shape[1])\n",
    "    \n",
    "    ouvw=ori[i].x.reshape(1,ori[i].x.shape[0],ori[i].x.shape[1])\n",
    "    outputs_0 = uvw_0 if i==0 else np.vstack((outputs_0,uvw_0))\n",
    "    outputs_1 = uvw_1 if i==0 else np.vstack((outputs_1,uvw_1))\n",
    "    outputs_2 = uvw_2 if i==0 else np.vstack((outputs_2,uvw_2))\n",
    "    inputs=ouvw if i==0 else np.vstack((inputs,ouvw))\n",
    "\n",
    "output_0 = np.hstack((outputs_0[:,:,0],outputs_0[:,:,1]))\n",
    "output_1 = np.hstack((outputs_1[:,:,0],outputs_1[:,:,1]))\n",
    "output_2 = np.hstack((outputs_2[:,:,0],outputs_2[:,:,1]))\n",
    "input_ = np.hstack((inputs[:,:,0],inputs[:,:,1]))\n",
    "print(output_0.shape,output_1.shape,output_2.shape,input_.shape)\n",
    "\n",
    "cc(input_, output_0, output_1, output_2)"
   ]
  },
  {
   "cell_type": "code",
   "execution_count": 3,
   "metadata": {},
   "outputs": [
    {
     "name": "stderr",
     "output_type": "stream",
     "text": [
      "2024-11-23 15:45:01.297331: I tensorflow/core/platform/cpu_feature_guard.cc:151] This TensorFlow binary is optimized with oneAPI Deep Neural Network Library (oneDNN) to use the following CPU instructions in performance-critical operations:  AVX2 AVX512F FMA\n",
      "To enable them in other operations, rebuild TensorFlow with the appropriate compiler flags.\n",
      "2024-11-23 15:45:01.997950: I tensorflow/core/common_runtime/gpu/gpu_device.cc:1525] Created device /job:localhost/replica:0/task:0/device:GPU:0 with 22068 MB memory:  -> device: 0, name: NVIDIA GeForce RTX 4090, pci bus id: 0000:9a:00.0, compute capability: 8.9\n"
     ]
    },
    {
     "data": {
      "image/png": "[encoded data removed]",
      "text/plain": [
       "<Figure size 432x288 with 1 Axes>"
      ]
     },
     "metadata": {
      "needs_background": "light"
     },
     "output_type": "display_data"
    }
   ],
   "source": [
    "rmse_over_time(input_, output_0, output_1, output_2)"
   ]
  },
  {
   "cell_type": "code",
   "execution_count": 4,
   "metadata": {},
   "outputs": [
    {
     "name": "stdout",
     "output_type": "stream",
     "text": [
      "tensor([0.6040, 0.3584])\n",
      "200\n"
     ]
    },
    {
     "data": {
      "image/png": "[encoded data removed]",
      "text/plain": [
       "<Figure size 576x288 with 1 Axes>"
      ]
     },
     "metadata": {
      "needs_background": "light"
     },
     "output_type": "display_data"
    }
   ],
   "source": [
    "ED_out_0 = torch.load('/root/data1/circle_fenjie_EMD/encode_decode_output_01traj50200ts_vis.pt') \n",
    "ED_out_1 = torch.load('/root/data1/duibishiyan/model_1_encode_decode_output1traj50200ts_vis.pt')\n",
    "ED_out_2 = torch.load('/root/data1/duibishiyan/model_2_encode_decode_output1traj50200ts_vis.pt')\n",
    "\n",
    "ts=200\n",
    "ori=torch.load('/root/data1/circle_fenjie_EMD/meshgraphnets_miniset111traj50200ts_vis.pt')\n",
    "j=1704\n",
    "fieldName='Velocity'\n",
    "print(ori[0].mesh_pos[j]) \n",
    "point_over_time(ori,ED_out_0,ED_out_1, ED_out_2 ,j,ts , fieldName)"
   ]
  },
  {
   "cell_type": "code",
   "execution_count": 1,
   "metadata": {},
   "outputs": [
    {
     "name": "stderr",
     "output_type": "stream",
     "text": [
      "/usr/local/lib/python3.8/dist-packages/tqdm/auto.py:22: TqdmWarning: IProgress not found. Please update jupyter and ipywidgets. See https://ipywidgets.readthedocs.io/en/stable/user_install.html\n",
      "  from .autonotebook import tqdm as notebook_tqdm\n"
     ]
    }
   ],
   "source": [
    "import torch\n",
    "from processing_duibishiyan import *"
   ]
  },
  {
   "cell_type": "code",
   "execution_count": 2,
   "metadata": {},
   "outputs": [],
   "source": [
    "ED_out_0 = torch.load('/root/data1/circle_fenjie_EMD/encode_decode_output_01traj50200ts_vis.pt') \n",
    "ED_out_1 = torch.load('/root/data1/duibishiyan/model_1_encode_decode_output1traj50200ts_vis.pt')\n",
    "ED_out_2 = torch.load('/root/data1/duibishiyan/model_2_encode_decode_output1traj50200ts_vis.pt')\n",
    "\n",
    "ori=torch.load('/root/data1/circle_fenjie_EMD/meshgraphnets_miniset111traj50200ts_vis.pt')\n",
    "import shutil\n",
    " \n",
    "def copy_vtu_file(source_path, destination_path):\n",
    "    shutil.copy2(source_path, destination_path)\n",
    " \n",
    "# 使用方法\n",
    "t=110\n",
    "satart_number_ts=50\n",
    "source_vtu_path = '/root/data1/yuan_0/circle-2d-drag_' + str(t+satart_number_ts)+ \".vtu\"\n"
   ]
  },
  {
   "cell_type": "code",
   "execution_count": 3,
   "metadata": {},
   "outputs": [],
   "source": [
    "destination_vtu_path_0 = '/root/data1/duibishiyan/ours_circle-2d-drag_' + str(t+satart_number_ts)+ \".vtu\"\n",
    "destination_vtu_path_1 = '/root/data1/duibishiyan/Mul_circle-2d-drag_' + str(t+satart_number_ts)+ \".vtu\"\n",
    "destination_vtu_path_2 = '/root/data1/duibishiyan/Gcn_circle-2d-drag_' + str(t+satart_number_ts)+ \".vtu\"\n",
    "copy_vtu_file(source_vtu_path, destination_vtu_path_0)\n",
    "copy_vtu_file(source_vtu_path, destination_vtu_path_1)\n",
    "copy_vtu_file(source_vtu_path, destination_vtu_path_2)\n",
    "mesh_0 =meshio.read(destination_vtu_path_0)\n",
    "mesh_1 =meshio.read(destination_vtu_path_1)\n",
    "mesh_2 =meshio.read(destination_vtu_path_2)\n",
    "v_0 = abs(ori[t].x-ED_out_0[t].x)\n",
    "v_0=v_0.numpy()\n",
    "v_1 = abs(ori[t].x-ED_out_1[t].x)\n",
    "v_1=v_1.numpy()\n",
    "v_2 = abs(ori[t].x-ED_out_2[t].x)\n",
    "v_2=v_2.numpy()\n",
    "mesh_0.point_data[\"Velocity\"][:,0:2]=v_0\n",
    "mesh_1.point_data[\"Velocity\"][:,0:2]=v_1\n",
    "mesh_2.point_data[\"Velocity\"][:,0:2]=v_2\n",
    "meshio.write(destination_vtu_path_0, mesh_0)\n",
    "meshio.write(destination_vtu_path_1, mesh_1)\n",
    "meshio.write(destination_vtu_path_2, mesh_2)"
   ]
  },
  {
   "cell_type": "markdown",
   "metadata": {},
   "source": [
    "test"
   ]
  },
  {
   "cell_type": "code",
   "execution_count": 2,
   "metadata": {},
   "outputs": [],
   "source": [
    "import numpy as np\n",
    "import meshio\n",
    "import torch\n",
    "import tensorflow.compat.v1 as tf\n",
    "\n",
    "from torch_geometric.data import Data\n",
    "import torch.nn.functional as F\n",
    "from torch_geometric.loader import DataLoader\n",
    "import pandas as pd\n",
    "import os\n",
    "import time\n",
    "from IPython.lib.display import isdir\n",
    "import random\n",
    "import matplotlib.pyplot as plt\n",
    "import copy\n",
    "from matplotlib import tri as mtri\n",
    "from matplotlib import animation\n",
    "from mpl_toolkits.axes_grid1 import make_axes_locatable\n",
    "\n",
    "#from circle_pooling import *\n",
    "\n",
    "#from mgn import *\n",
    "from tap_processing import *\n",
    "#from global_tpok_mp import *\n",
    "\n",
    "from circle_TAP_MP_Attention import *\n"
   ]
  },
  {
   "cell_type": "code",
   "execution_count": 3,
   "metadata": {},
   "outputs": [
    {
     "name": "stdout",
     "output_type": "stream",
     "text": [
      "/root/data1/yuan_0\n",
      "402\n"
     ]
    },
    {
     "name": "stderr",
     "output_type": "stream",
     "text": [
      "2024-11-15 13:46:44.420316: I tensorflow/core/platform/cpu_feature_guard.cc:151] This TensorFlow binary is optimized with oneAPI Deep Neural Network Library (oneDNN) to use the following CPU instructions in performance-critical operations:  AVX2 AVX512F FMA\n",
      "To enable them in other operations, rebuild TensorFlow with the appropriate compiler flags.\n",
      "2024-11-15 13:47:02.420218: I tensorflow/core/common_runtime/gpu/gpu_device.cc:1525] Created device /job:localhost/replica:0/task:0/device:GPU:0 with 20970 MB memory:  -> device: 0, name: NVIDIA GeForce RTX 4090, pci bus id: 0000:9e:00.0, compute capability: 8.9\n"
     ]
    },
    {
     "name": "stdout",
     "output_type": "stream",
     "text": [
      "Done collecting data!\n",
      "Done saving data!\n",
      "Output Location:  /root/data1/duibishiyan/meshgraphnets_miniset1251traj250150ts_vis.pt\n"
     ]
    }
   ],
   "source": [
    "number_trajectories=1\n",
    "number_ts=150   #400\n",
    "satart_number_ts=250\n",
    "per_t=1     #在编码和解码的时候每五个用的点是一样的\n",
    "dt=0.1\n",
    "batch_size = 25\n",
    "dataset_dir = '/root/data1/duibishiyan'\n",
    "path='/root/data1/yuan_'\n",
    "get_dataset(number_trajectories,satart_number_ts,number_ts,per_t,batch_size,dataset_dir,path)"
   ]
  },
  {
   "cell_type": "code",
   "execution_count": 4,
   "metadata": {},
   "outputs": [
    {
     "name": "stdout",
     "output_type": "stream",
     "text": [
      "cuda\n",
      "1\n",
      "3\n",
      "cuda:0\n"
     ]
    }
   ],
   "source": [
    "device = 'cuda' if torch.cuda.is_available() else 'cpu'    #cuda\n",
    "perm_list=torch.load('/root/data1/circle_fenjie_EMD/perm_list_150.pt')\n",
    "\n",
    "print(device)\n",
    "print(len(perm_list))\n",
    "print(len(perm_list[0]))\n",
    "for i in range(len(perm_list[0])):\n",
    "   \n",
    "    perm_list[0][i]=perm_list[0][i].to(device)\n",
    "print(perm_list[0][0].device)"
   ]
  },
  {
   "cell_type": "code",
   "execution_count": 5,
   "metadata": {},
   "outputs": [
    {
     "name": "stdout",
     "output_type": "stream",
     "text": [
      "6\n"
     ]
    }
   ],
   "source": [
    "file_path= dataset_dir+'/meshgraphnets_miniset'+str(per_t)+str(batch_size)+str(number_trajectories)+'traj'+str(satart_number_ts)+str(number_ts)+'ts_vis.pt'\n",
    "dataset = torch.load(file_path)\n",
    "print(len(dataset))\n",
    "EDstats_list = torch.load('/root/data1/circle_fenjie_EMD/EDstats_list.pt')\n",
    "[EDmean_vec_x,EDstd_vec_x,EDmean_vec_edge,EDstd_vec_edge] = EDstats_list\n",
    "(EDmean_vec_x,EDstd_vec_x,EDmean_vec_edge,EDstd_vec_edge)=(EDmean_vec_x.to(device),\n",
    "        EDstd_vec_x.to(device),EDmean_vec_edge.to(device),EDstd_vec_edge.to(device))\n",
    "\n",
    "sample = dataset[0]\n",
    "\n",
    "in_channels_node = sample.x.shape[1]\n",
    "in_channels_edge = sample.edge_attr.shape[1]\n",
    "hidden_channels = 25    #22#12\n",
    "out_channels = in_channels_node\n",
    "batch_size =25       #改\n",
    "n_mlp_encode = 4\n",
    "n_mlp_mp = 6#5\n",
    "encoding_dim=16\n",
    "ae_dim=[300,128,64,32,16]#[128,64,32,16,10]\n",
    "n_mp_down = [2,2,1,1]\n",
    "n_mp_up= [1,1,2,2]\n",
    "pool_num = [3300,2500,1500]#[2000,1500,1200,1000][2000,1600,1400,1000]\n",
    "\n",
    "act = F.elu\n",
    "param_sharing = False\n"
   ]
  },
  {
   "cell_type": "code",
   "execution_count": 6,
   "metadata": {},
   "outputs": [
    {
     "name": "stdout",
     "output_type": "stream",
     "text": [
      "6\n",
      "6 150\n",
      "150\n",
      "Data(x=[3718, 2], edge_index=[2, 21714], edge_attr=[21714, 3], cells=[7139, 3], mesh_pos=[3718, 2])\n",
      "torch.Size([557700, 2])\n"
     ]
    }
   ],
   "source": [
    "model = MessagePassing_Autoencode_attn(\n",
    "                hidden_channels,\n",
    "                in_channels_node,\n",
    "                in_channels_edge,\n",
    "                \n",
    "                out_channels,\n",
    "                encoding_dim,\n",
    "                n_mlp_mp,\n",
    "                n_mlp_encode,\n",
    "\n",
    "                ae_dim,\n",
    "                n_mp_down,\n",
    "                n_mp_up,\n",
    "                pool_num,\n",
    "                \n",
    "                act,\n",
    "                \n",
    "                name='gnn_topk')\n",
    "model.to(device)\n",
    "pathED='/root/data1/circle_fenjie_EMD/ED_state_dict.pt'\n",
    "model.load_state_dict(torch.load(pathED), strict=False)\n",
    "\n",
    "print(len(dataset))   #6\n",
    "n=int(len(dataset)/number_trajectories)\n",
    "nn=int(n*batch_size)\n",
    "print(n,nn)#6,150\n",
    "\n",
    "#get_dataset(number_trajectories,satart_number_ts,number_ts,1,1,dataset_dir,path)\n",
    "\n",
    "file_path_ed= '/root/data1/circle_fenjie_EMD/meshgraphnets_miniset111traj250150ts_vis.pt'\n",
    "dataset_input = torch.load(file_path_ed)\n",
    "print(len(dataset_input))  #150\n",
    "print(dataset_input[0])    \n",
    "\n",
    "for i in range(number_trajectories):\n",
    "  dataset_=dataset[i*n:(i+1)*n]\n",
    "  num_=int(dataset_[0].x.shape[0]/(per_t*batch_size))\n",
    "  loader_ = DataLoader(dataset_,  shuffle=False)\n",
    "  pred_=torch.tensor([[0,0]]).type(torch.float).to(device)\n",
    "  #pred_=torch.tensor([[0]]).type(torch.float).to(device)\n",
    "  #per_t=1\n",
    "  #batch_size=25    #改\n",
    "  #device = 'cuda' if torch.cuda.is_available() else 'cpu'\n",
    "  with torch.no_grad():\n",
    "    for step, data in enumerate(loader_):\n",
    "      data=data.to(device)\n",
    "      \n",
    "      out, _ = model(data, per_t ,perm_list[0], batch_size,EDmean_vec_x,EDstd_vec_x,EDmean_vec_edge,EDstd_vec_edge,batch=None, return_mask=False)\n",
    "      pred_=torch.vstack((pred_,out))\n",
    "  pred_=pred_[1:,:]\n",
    "  print(pred_.shape)   #150*3718,2\n",
    "  pred_=pred_*EDstd_vec_x+EDmean_vec_x   #pred是torch，行数为600个时间*点数，列为2\n",
    "  dataset_input_=dataset_input[i*nn:(i+1)*nn]\n",
    "\n",
    "  pred_=pred_.to('cpu')\n",
    "\n",
    "  viz_data_loader_ = copy.deepcopy(dataset_input_)\n",
    "\n",
    "\n",
    "\n",
    "  for j in range(int(pred_.shape[0]/num_)):\n",
    "    viz_data_loader_[j].x=pred_[j*num_:(j+1)*num_,:]\n",
    "  \n",
    "  torch.save(viz_data_loader_,dataset_dir+'/test_GA_encode_decode_output_'+str(i)+str(number_trajectories)+'traj'+str(satart_number_ts)+str(number_ts)+'ts_vis.pt')#200个data\n"
   ]
  },
  {
   "cell_type": "code",
   "execution_count": 1,
   "metadata": {},
   "outputs": [
    {
     "name": "stderr",
     "output_type": "stream",
     "text": [
      "/usr/local/lib/python3.8/dist-packages/tqdm/auto.py:22: TqdmWarning: IProgress not found. Please update jupyter and ipywidgets. See https://ipywidgets.readthedocs.io/en/stable/user_install.html\n",
      "  from .autonotebook import tqdm as notebook_tqdm\n"
     ]
    }
   ],
   "source": [
    "import numpy as np\n",
    "import meshio\n",
    "import torch\n",
    "import tensorflow.compat.v1 as tf\n",
    "\n",
    "from torch_geometric.data import Data\n",
    "import torch.nn.functional as F\n",
    "from torch_geometric.loader import DataLoader\n",
    "import pandas as pd\n",
    "import os\n",
    "import time\n",
    "from IPython.lib.display import isdir\n",
    "import random\n",
    "import matplotlib.pyplot as plt\n",
    "import copy\n",
    "from matplotlib import tri as mtri\n",
    "from matplotlib import animation\n",
    "from mpl_toolkits.axes_grid1 import make_axes_locatable\n",
    "from models_duibishiyan import *"
   ]
  },
  {
   "cell_type": "code",
   "execution_count": 2,
   "metadata": {},
   "outputs": [
    {
     "name": "stdout",
     "output_type": "stream",
     "text": [
      "6\n"
     ]
    }
   ],
   "source": [
    "number_trajectories=1\n",
    "number_ts=150   #400\n",
    "satart_number_ts=250\n",
    "per_t=1\n",
    "batch_size=25 \n",
    "dataset = torch.load('/root/data1/duibishiyan/meshgraphnets_miniset1251traj250150ts_vis.pt')\n",
    "print(len(dataset))\n",
    "sample=dataset[0]\n",
    "num=int(sample.x.shape[0]/(per_t*batch_size))\n",
    "in_channels_node = sample.x.shape[1]\n",
    "in_channels_edge = sample.edge_attr.shape[1]\n",
    "hidden_channels = 26  #22\n",
    "out_channels = in_channels_node\n",
    "batch_size =25       #改\n",
    "n_mlp_encode = 3\n",
    "n_mlp_mp = 3\n",
    "\n",
    "n_mp_down_topk = [1,1,1,1]\n",
    "n_mp_up_topk = [1,1,1,2]\n",
    "pool_ratios = [3500,2800,1500]#[1./2.]\n",
    "\n",
    "#n_mp_down_topk = [1,1]\n",
    "#n_mp_up_topk = [1,2]\n",
    "#pool_ratios = [1/2]#[1./2.]\n",
    "n_mp_down_enc = [3]#3\n",
    "n_mp_up_enc = []\n",
    "lengthscales_enc = []\n",
    "n_mp_down_dec = [2,1,1]\n",
    "n_mp_up_dec = [1,2]\n",
    "lengthscales_dec = [0.5,1]\n",
    "interp = 'learned'\n",
    "act = F.elu\n",
    "param_sharing = False\n",
    "bounding_box = []\n",
    "if len(lengthscales_dec) > 0:\n",
    "        x_lo = sample.mesh_pos[:num,0].min() - lengthscales_dec[0]/2\n",
    "        x_hi = sample.mesh_pos[:num,0].max() + lengthscales_dec[0]/2\n",
    "        y_lo = sample.mesh_pos[:num,1].min() - lengthscales_dec[0]/2\n",
    "        y_hi = sample.mesh_pos[:num,1].max() + lengthscales_dec[0]/2\n",
    "        bounding_box = [x_lo.cpu().item(), x_hi.cpu().item(), y_lo.cpu().item(), y_hi.cpu().item()]"
   ]
  },
  {
   "cell_type": "code",
   "execution_count": 3,
   "metadata": {},
   "outputs": [
    {
     "name": "stdout",
     "output_type": "stream",
     "text": [
      "6\n",
      "torch.Size([557700, 2])\n",
      "150\n",
      "Data(x=[3718, 2], edge_index=[2, 21714], edge_attr=[21714, 3], cells=[7139, 3], mesh_pos=[3718, 2])\n"
     ]
    }
   ],
   "source": [
    "device = 'cuda' if torch.cuda.is_available() else 'cpu'\n",
    "[EDmean_vec_x,EDstd_vec_x,EDmean_vec_edge,EDstd_vec_edge] = torch.load('/root/data1/circle_fenjie_EMD/EDstats_list.pt')\n",
    "\n",
    "(EDmean_vec_x,EDstd_vec_x,EDmean_vec_edge,EDstd_vec_edge)=(EDmean_vec_x.to(device),\n",
    "        EDstd_vec_x.to(device),EDmean_vec_edge.to(device),EDstd_vec_edge.to(device))\n",
    "\n",
    "model = model_1_GNN_TopK(\n",
    "                in_channels_node,\n",
    "                in_channels_edge,\n",
    "                hidden_channels,\n",
    "                out_channels,\n",
    "                n_mlp_encode,\n",
    "                n_mlp_mp,\n",
    "                n_mp_down_topk,\n",
    "                n_mp_up_topk,\n",
    "                pool_ratios,\n",
    "                n_mp_down_enc,\n",
    "                n_mp_up_enc,\n",
    "                n_mp_down_dec,\n",
    "                n_mp_up_dec,\n",
    "                lengthscales_enc,\n",
    "                lengthscales_dec,\n",
    "                bounding_box,\n",
    "                interp,\n",
    "                act,\n",
    "                param_sharing,\n",
    "                name='gnn_topk')\n",
    "model.to(device)\n",
    "pathED = '/root/data1/duibishiyan/model_1_ED_state_dict.pt'\n",
    "model.load_state_dict(torch.load(pathED), strict=False)\n",
    "\n",
    "loader = DataLoader(dataset,  shuffle=False)\n",
    "print(len(dataset))\n",
    "pred=torch.tensor([[0,0]]).type(torch.float).to(device)\n",
    "\n",
    "    #改\n",
    "\n",
    "with torch.no_grad():\n",
    "  for step, data in enumerate(loader):\n",
    "    data=data.to(device)\n",
    "    out, _ = model(data, per_t , batch_size,EDmean_vec_x,EDstd_vec_x,EDmean_vec_edge,EDstd_vec_edge,batch=None, return_mask=False)\n",
    "    pred=torch.vstack((pred,out))\n",
    "pred=pred[1:,:]\n",
    "print(pred.shape)   #200*3718\n",
    "pred=pred*EDstd_vec_x+EDmean_vec_x   #pred是torch，行数为600个时间*点数，列为2\n",
    "#per_t=1\n",
    "#batch_size=1\n",
    "#get_dataset(number_trajectories,number_ts,per_t,batch_size,dataset_dir,path)\n",
    "\n",
    "file_path_ed= '/root/data1/circle_fenjie_EMD/meshgraphnets_miniset111traj250150ts_vis.pt'\n",
    "dataset_input = torch.load(file_path_ed)\n",
    "print(len(dataset_input)) #200\n",
    "print(dataset_input[0])\n",
    "pred=pred.to('cpu')\n",
    "viz_data = {}\n",
    "viz_data_loader = copy.deepcopy(dataset_input)\n",
    "for i in range(int(pred.shape[0]/num)):\n",
    "  viz_data_loader[i].x=pred[i*num:(i+1)*num,:]\n",
    "torch.save(viz_data_loader,'/root/data1/duibishiyan'+'/test_MAE_encode_decode_output'+str(number_trajectories)+'traj'+str(satart_number_ts)+str(number_ts)+'ts_vis.pt')#300个data"
   ]
  },
  {
   "cell_type": "code",
   "execution_count": 4,
   "metadata": {},
   "outputs": [],
   "source": [
    "in_channels_node = sample.x.shape[1]\n",
    "in_channels_edge = sample.edge_attr.shape[1]\n",
    "hidden_channels = 22    #22#12\n",
    "out_channels = in_channels_node\n",
    "batch_size =25       #改\n",
    "n_mlp_encode = 6\n",
    "n_mlp_mp = 4\n",
    "encoding_dim=10\n",
    "ae_dim=[128,64,32,16,10]\n",
    "n_mp_down = [2,2,1,1]\n",
    "n_mp_up= [1,1,2,2]\n",
    "pool_num = [3300,2500,1500] #[3300,2500,1500]\n",
    "\n",
    "act = F.elu\n",
    "param_sharing = False"
   ]
  },
  {
   "cell_type": "code",
   "execution_count": 6,
   "metadata": {},
   "outputs": [
    {
     "name": "stdout",
     "output_type": "stream",
     "text": [
      "6\n",
      "3718\n",
      "torch.Size([557700, 2])\n",
      "150\n",
      "Data(x=[3718, 2], edge_index=[2, 21714], edge_attr=[21714, 3], cells=[7139, 3], mesh_pos=[3718, 2])\n"
     ]
    }
   ],
   "source": [
    "model = model_2_GCN_Unet(\n",
    "                hidden_channels,\n",
    "                in_channels_node,\n",
    "                in_channels_edge,\n",
    "                \n",
    "                out_channels,\n",
    "                encoding_dim,\n",
    "                n_mlp_mp,\n",
    "                n_mlp_encode,\n",
    "\n",
    "                ae_dim,\n",
    "                n_mp_down,\n",
    "                n_mp_up,\n",
    "                pool_num,\n",
    "                \n",
    "                act,\n",
    "                \n",
    "                name='gnn_topk')\n",
    "model.to(device)\n",
    "pathED = '/root/data1/duibishiyan/model_2_ED_state_dict.pt'\n",
    "model.load_state_dict(torch.load(pathED), strict=False)\n",
    "dataset = torch.load('/root/data1/duibishiyan/meshgraphnets_miniset1251traj250150ts_vis.pt')\n",
    "loader = DataLoader(dataset,  shuffle=False)\n",
    "print(len(dataset))\n",
    "per_t=1\n",
    "batch_size=25     #改\n",
    "num=int(dataset[0].x.shape[0]/(per_t*batch_size))\n",
    "print(num)\n",
    "pred=torch.tensor([[0,0]]).type(torch.float).to(device)\n",
    "\n",
    "\n",
    "with torch.no_grad():\n",
    "  for step, data in enumerate(loader):\n",
    "    data=data.to(device)\n",
    "    out, _ = model(data, per_t , batch_size,EDmean_vec_x,EDstd_vec_x,EDmean_vec_edge,EDstd_vec_edge,batch=None, return_mask=False)\n",
    "    pred=torch.vstack((pred,out))\n",
    "pred=pred[1:,:]\n",
    "print(pred.shape)   #200*3718\n",
    "pred=pred*EDstd_vec_x+EDmean_vec_x   #pred是torch，行数为600个时间*点数，列为2\n",
    "#per_t=1\n",
    "#batch_size=1\n",
    "#get_dataset(number_trajectories,number_ts,per_t,batch_size,dataset_dir,path)\n",
    "\n",
    "dataset_input = torch.load(file_path_ed)\n",
    "print(len(dataset_input)) #200\n",
    "print(dataset_input[0])\n",
    "pred=pred.to('cpu')\n",
    "viz_data = {}\n",
    "viz_data_loader = copy.deepcopy(dataset_input)\n",
    "\n",
    "for i in range(int(pred.shape[0]/num)):\n",
    "  viz_data_loader[i].x=pred[i*num:(i+1)*num,:]\n",
    "torch.save(viz_data_loader,'/root/data1/duibishiyan'+'/test_GU_encode_decode_output'+str(number_trajectories)+'traj'+str(satart_number_ts)+str(number_ts)+'ts_vis.pt')#300个data"
   ]
  },
  {
   "cell_type": "code",
   "execution_count": 1,
   "metadata": {},
   "outputs": [
    {
     "name": "stderr",
     "output_type": "stream",
     "text": [
      "/usr/local/lib/python3.8/dist-packages/tqdm/auto.py:22: TqdmWarning: IProgress not found. Please update jupyter and ipywidgets. See https://ipywidgets.readthedocs.io/en/stable/user_install.html\n",
      "  from .autonotebook import tqdm as notebook_tqdm\n"
     ]
    }
   ],
   "source": [
    "from processing_duibishiyan import *\n",
    "import torch\n",
    "import numpy as np"
   ]
  },
  {
   "cell_type": "code",
   "execution_count": 2,
   "metadata": {},
   "outputs": [
    {
     "name": "stdout",
     "output_type": "stream",
     "text": [
      "150\n",
      "(150, 7436) (150, 7436) (150, 7436) (150, 7436)\n"
     ]
    }
   ],
   "source": [
    "ED_out_0 = torch.load('/root/data1/duibishiyan/test_GA_encode_decode_output_01traj250150ts_vis.pt') \n",
    "ED_out_1 = torch.load('/root/data1/duibishiyan/test_MAE_encode_decode_output1traj250150ts_vis.pt')\n",
    "ED_out_2 = torch.load('/root/data1/duibishiyan/test_GU_encode_decode_output1traj250150ts_vis.pt')\n",
    "number_ts=150\n",
    "ori=torch.load('/root/data1/circle_fenjie_EMD/meshgraphnets_miniset111traj250150ts_vis.pt')\n",
    "print(len(ori))   #150\n",
    "\n",
    "for i in range(number_ts):\n",
    "    \n",
    "    uvw_0=ED_out_0[i].x.reshape(1,ED_out_0[i].x.shape[0],ED_out_0[i].x.shape[1])\n",
    "    uvw_1=ED_out_1[i].x.reshape(1,ED_out_1[i].x.shape[0],ED_out_1[i].x.shape[1])\n",
    "    uvw_2=ED_out_2[i].x.reshape(1,ED_out_2[i].x.shape[0],ED_out_2[i].x.shape[1])\n",
    "    \n",
    "    ouvw=ori[i].x.reshape(1,ori[i].x.shape[0],ori[i].x.shape[1])\n",
    "    outputs_0 = uvw_0 if i==0 else np.vstack((outputs_0,uvw_0))\n",
    "    outputs_1 = uvw_1 if i==0 else np.vstack((outputs_1,uvw_1))\n",
    "    outputs_2 = uvw_2 if i==0 else np.vstack((outputs_2,uvw_2))\n",
    "    inputs=ouvw if i==0 else np.vstack((inputs,ouvw))\n",
    "\n",
    "output_0 = np.hstack((outputs_0[:,:,0],outputs_0[:,:,1]))\n",
    "output_1 = np.hstack((outputs_1[:,:,0],outputs_1[:,:,1]))\n",
    "output_2 = np.hstack((outputs_2[:,:,0],outputs_2[:,:,1]))\n",
    "input_ = np.hstack((inputs[:,:,0],inputs[:,:,1]))\n",
    "print(output_0.shape,output_1.shape,output_2.shape,input_.shape)\n"
   ]
  },
  {
   "cell_type": "code",
   "execution_count": 3,
   "metadata": {},
   "outputs": [
    {
     "name": "stdout",
     "output_type": "stream",
     "text": [
      "(150, 1) (150, 1)\n"
     ]
    },
    {
     "data": {
      "image/png": "[encoded data removed]",
      "text/plain": [
       "<Figure size 432x288 with 1 Axes>"
      ]
     },
     "metadata": {
      "needs_background": "light"
     },
     "output_type": "display_data"
    }
   ],
   "source": [
    "y_0,y_1,y_2=cc(input_, output_0, output_1, output_2)"
   ]
  },
  {
   "cell_type": "code",
   "execution_count": 4,
   "metadata": {},
   "outputs": [
    {
     "name": "stdout",
     "output_type": "stream",
     "text": [
      "0.9980487633966433 0.9888142424036029 0.9809391707977639\n"
     ]
    }
   ],
   "source": [
    "print(np.mean(y_0),np.mean(y_1),np.mean(y_2))"
   ]
  },
  {
   "cell_type": "code",
   "execution_count": 5,
   "metadata": {},
   "outputs": [
    {
     "name": "stderr",
     "output_type": "stream",
     "text": [
      "2025-04-23 18:15:00.059038: I tensorflow/core/platform/cpu_feature_guard.cc:151] This TensorFlow binary is optimized with oneAPI Deep Neural Network Library (oneDNN) to use the following CPU instructions in performance-critical operations:  AVX2 AVX512F FMA\n",
      "To enable them in other operations, rebuild TensorFlow with the appropriate compiler flags.\n",
      "2025-04-23 18:15:00.871796: I tensorflow/core/common_runtime/gpu/gpu_device.cc:1525] Created device /job:localhost/replica:0/task:0/device:GPU:0 with 17514 MB memory:  -> device: 0, name: NVIDIA GeForce RTX 4090, pci bus id: 0000:9b:00.0, compute capability: 8.9\n"
     ]
    },
    {
     "data": {
      "image/png": "[encoded data removed]",
      "text/plain": [
       "<Figure size 432x288 with 1 Axes>"
      ]
     },
     "metadata": {
      "needs_background": "light"
     },
     "output_type": "display_data"
    }
   ],
   "source": [
    "y_0,y_1,y_2=rmse_over_time(input_, output_0, output_1, output_2)"
   ]
  },
  {
   "cell_type": "code",
   "execution_count": 6,
   "metadata": {},
   "outputs": [
    {
     "name": "stdout",
     "output_type": "stream",
     "text": [
      "0.019981468 0.047683217 0.06210669\n"
     ]
    }
   ],
   "source": [
    "print(np.mean(y_0),np.mean(y_1),np.mean(y_2))"
   ]
  },
  {
   "cell_type": "code",
   "execution_count": 14,
   "metadata": {},
   "outputs": [],
   "source": [
    "def acc(ori_data, rom_data):\n",
    "\n",
    "    acc_value = []\n",
    "    if len(ori_data) != len(rom_data):\n",
    "        print('the length of these two array do not match')\n",
    "    else:\n",
    "        for i in range(len(rom_data)):\n",
    "            ori=torch.Tensor(ori_data[i])\n",
    "            rom=torch.Tensor(rom_data[i])\n",
    "            value =torch.norm(ori- rom, p=2)/torch.norm(ori, p=2)\n",
    "            \n",
    "            if i == 0:\n",
    "                acc_value = value\n",
    "            else:\n",
    "                acc_value = np.hstack((acc_value,value))\n",
    "        acc_value = np.reshape(acc_value,(-1,1))\n",
    "    return acc_value"
   ]
  },
  {
   "cell_type": "code",
   "execution_count": 15,
   "metadata": {},
   "outputs": [
    {
     "name": "stdout",
     "output_type": "stream",
     "text": [
      "0.050021317 0.119363405 0.15547173\n"
     ]
    }
   ],
   "source": [
    "acc0=acc(input_, output_0)\n",
    "acc1=acc(input_, output_1)\n",
    "acc2=acc(input_, output_2)\n",
    "print(np.mean(acc0),np.mean(acc1),np.mean(acc2))\n"
   ]
  },
  {
   "cell_type": "code",
   "execution_count": 1,
   "metadata": {},
   "outputs": [
    {
     "name": "stderr",
     "output_type": "stream",
     "text": [
      "/usr/local/lib/python3.8/dist-packages/tqdm/auto.py:22: TqdmWarning: IProgress not found. Please update jupyter and ipywidgets. See https://ipywidgets.readthedocs.io/en/stable/user_install.html\n",
      "  from .autonotebook import tqdm as notebook_tqdm\n"
     ]
    }
   ],
   "source": [
    "import torch\n",
    "from processing_duibishiyan import *"
   ]
  },
  {
   "cell_type": "code",
   "execution_count": 7,
   "metadata": {},
   "outputs": [
    {
     "name": "stdout",
     "output_type": "stream",
     "text": [
      "tensor([0.6040, 0.3584])\n",
      "150\n"
     ]
    },
    {
     "data": {
      "image/png": "[encoded data removed]",
      "text/plain": [
       "<Figure size 864x288 with 1 Axes>"
      ]
     },
     "metadata": {
      "needs_background": "light"
     },
     "output_type": "display_data"
    }
   ],
   "source": [
    "ED_out_0 = torch.load('/root/data1/duibishiyan/test_GA_encode_decode_output_01traj250150ts_vis.pt') \n",
    "ED_out_1 = torch.load('/root/data1/duibishiyan/test_MAE_encode_decode_output1traj250150ts_vis.pt')\n",
    "ED_out_2 = torch.load('/root/data1/duibishiyan/test_GU_encode_decode_output1traj250150ts_vis.pt')\n",
    "\n",
    "ori=torch.load('/root/data1/circle_fenjie_EMD/meshgraphnets_miniset111traj250150ts_vis.pt')\n",
    "\n",
    "ts=150\n",
    "j=1704\n",
    "fieldName='Velocity'\n",
    "print(ori[0].mesh_pos[j]) \n",
    "point_over_time(ori,ED_out_0,ED_out_1, ED_out_2 ,j,ts , fieldName)"
   ]
  },
  {
   "cell_type": "code",
   "execution_count": 3,
   "metadata": {},
   "outputs": [],
   "source": [
    "ED_out_0 = torch.load('/root/data1/duibishiyan/test_GA_encode_decode_output_01traj250150ts_vis.pt') \n",
    "ED_out_1 = torch.load('/root/data1/duibishiyan/test_MAE_encode_decode_output1traj250150ts_vis.pt')\n",
    "ED_out_2 = torch.load('/root/data1/duibishiyan/test_GU_encode_decode_output1traj250150ts_vis.pt')\n",
    "\n",
    "ori=torch.load('/root/data1/circle_fenjie_EMD/meshgraphnets_miniset111traj250150ts_vis.pt')\n",
    "\n",
    "import shutil\n",
    " \n",
    "def copy_vtu_file(source_path, destination_path):\n",
    "    shutil.copy2(source_path, destination_path)\n",
    " \n",
    "# 使用方法\n",
    "t=130  #0-150\n",
    "satart_number_ts=250\n",
    "source_vtu_path = '/root/data1/yuan_0/circle-2d-drag_' + str(t+satart_number_ts)+ \".vtu\""
   ]
  },
  {
   "cell_type": "code",
   "execution_count": 4,
   "metadata": {},
   "outputs": [],
   "source": [
    "destination_vtu_path_0 = '/root/data1/duibishiyan/test_yuan_GA_circle-2d-drag_' + str(t+satart_number_ts)+ \".vtu\"\n",
    "destination_vtu_path_1 = '/root/data1/duibishiyan/test_yuan_Mul_circle-2d-drag_' + str(t+satart_number_ts)+ \".vtu\"\n",
    "destination_vtu_path_2 = '/root/data1/duibishiyan/test_yuan_Gcn_circle-2d-drag_' + str(t+satart_number_ts)+ \".vtu\"\n",
    "copy_vtu_file(source_vtu_path, destination_vtu_path_0)\n",
    "copy_vtu_file(source_vtu_path, destination_vtu_path_1)\n",
    "copy_vtu_file(source_vtu_path, destination_vtu_path_2)\n",
    "mesh_0 =meshio.read(destination_vtu_path_0)\n",
    "mesh_1 =meshio.read(destination_vtu_path_1)\n",
    "mesh_2 =meshio.read(destination_vtu_path_2)\n",
    "v_0 = abs(ED_out_0[t].x)\n",
    "v_0=v_0.numpy()\n",
    "v_1 = abs(ED_out_1[t].x)\n",
    "v_1=v_1.numpy()\n",
    "v_2 = abs(ED_out_2[t].x)\n",
    "v_2=v_2.numpy()\n",
    "mesh_0.point_data[\"Velocity\"][:,0:2]=v_0\n",
    "mesh_1.point_data[\"Velocity\"][:,0:2]=v_1\n",
    "mesh_2.point_data[\"Velocity\"][:,0:2]=v_2\n",
    "meshio.write(destination_vtu_path_0, mesh_0)\n",
    "meshio.write(destination_vtu_path_1, mesh_1)\n",
    "meshio.write(destination_vtu_path_2, mesh_2)"
   ]
  },
  {
   "cell_type": "code",
   "execution_count": 8,
   "metadata": {},
   "outputs": [],
   "source": [
    "destination_vtu_path_0 = '/root/data1/duibishiyan/test_GA_circle-2d-drag_' + str(t+satart_number_ts)+ \".vtu\"\n",
    "destination_vtu_path_1 = '/root/data1/duibishiyan/test_Mul_circle-2d-drag_' + str(t+satart_number_ts)+ \".vtu\"\n",
    "destination_vtu_path_2 = '/root/data1/duibishiyan/test_Gcn_circle-2d-drag_' + str(t+satart_number_ts)+ \".vtu\"\n",
    "copy_vtu_file(source_vtu_path, destination_vtu_path_0)\n",
    "copy_vtu_file(source_vtu_path, destination_vtu_path_1)\n",
    "copy_vtu_file(source_vtu_path, destination_vtu_path_2)\n",
    "mesh_0 =meshio.read(destination_vtu_path_0)\n",
    "mesh_1 =meshio.read(destination_vtu_path_1)\n",
    "mesh_2 =meshio.read(destination_vtu_path_2)\n",
    "v_0 = abs(ori[t].x-ED_out_0[t].x)\n",
    "v_0=v_0.numpy()\n",
    "v_1 = abs(ori[t].x-ED_out_1[t].x)\n",
    "v_1=v_1.numpy()\n",
    "v_2 = abs(ori[t].x-ED_out_2[t].x)\n",
    "v_2=v_2.numpy()\n",
    "mesh_0.point_data[\"Velocity\"][:,0:2]=v_0\n",
    "mesh_1.point_data[\"Velocity\"][:,0:2]=v_1\n",
    "mesh_2.point_data[\"Velocity\"][:,0:2]=v_2\n",
    "meshio.write(destination_vtu_path_0, mesh_0)\n",
    "meshio.write(destination_vtu_path_1, mesh_1)\n",
    "meshio.write(destination_vtu_path_2, mesh_2)"
   ]
  }
 ],
 "metadata": {
  "kernelspec": {
   "display_name": "Python 3",
   "language": "python",
   "name": "python3"
  },
  "language_info": {
   "codemirror_mode": {
    "name": "ipython",
    "version": 3
   },
   "file_extension": ".py",
   "mimetype": "text/x-python",
   "name": "python",
   "nbconvert_exporter": "python",
   "pygments_lexer": "ipython3",
   "version": "3.8.10"
  }
 },
 "nbformat": 4,
 "nbformat_minor": 2
}
