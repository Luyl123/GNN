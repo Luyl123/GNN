{
 "cells": [
  {
   "cell_type": "code",
   "execution_count": 4,
   "metadata": {},
   "outputs": [],
   "source": [
    "import numpy as np\n",
    "import meshio\n",
    "import torch\n",
    "import tensorflow.compat.v1 as tf\n",
    "\n",
    "from torch_geometric.data import Data\n",
    "import torch.nn.functional as F\n",
    "from torch_geometric.loader import DataLoader\n",
    "import pandas as pd\n",
    "import os\n",
    "import time\n",
    "from IPython.lib.display import isdir\n",
    "import random\n",
    "import matplotlib.pyplot as plt\n",
    "import copy\n",
    "from matplotlib import tri as mtri\n",
    "from matplotlib import animation\n",
    "from mpl_toolkits.axes_grid1 import make_axes_locatable\n",
    "\n",
    "from models_duibishiyan import *\n",
    "from poolings_duibishiyan import *\n",
    "from bubble_processing_duibishiyan import *"
   ]
  },
  {
   "cell_type": "code",
   "execution_count": 5,
   "metadata": {},
   "outputs": [],
   "source": [
    "number_trajectories=1\n",
    "number_ts=200   #400\n",
    "satart_number_ts=50\n",
    "per_t=1     #在编码和解码的时候每五个用的点是一样的\n",
    "dt=0.1\n",
    "batch_size = 25"
   ]
  },
  {
   "cell_type": "code",
   "execution_count": 6,
   "metadata": {},
   "outputs": [
    {
     "ename": "RuntimeError",
     "evalue": "CUDA error: out of memory",
     "output_type": "error",
     "traceback": [
      "\u001b[0;31m---------------------------------------------------------------------------\u001b[0m",
      "\u001b[0;31mRuntimeError\u001b[0m                              Traceback (most recent call last)",
      "Input \u001b[0;32mIn [6]\u001b[0m, in \u001b[0;36m<cell line: 2>\u001b[0;34m()\u001b[0m\n\u001b[1;32m      1\u001b[0m SEED \u001b[38;5;241m=\u001b[39m \u001b[38;5;241m123\u001b[39m\n\u001b[0;32m----> 2\u001b[0m \u001b[43mtorch\u001b[49m\u001b[38;5;241;43m.\u001b[39;49m\u001b[43mmanual_seed\u001b[49m\u001b[43m(\u001b[49m\u001b[43mSEED\u001b[49m\u001b[43m)\u001b[49m\n\u001b[1;32m      3\u001b[0m np\u001b[38;5;241m.\u001b[39mrandom\u001b[38;5;241m.\u001b[39mseed(SEED)\n\u001b[1;32m      4\u001b[0m random\u001b[38;5;241m.\u001b[39mseed(SEED)        \u001b[38;5;66;03m#Python\u001b[39;00m\n",
      "File \u001b[0;32m/usr/local/lib/python3.8/dist-packages/torch/random.py:36\u001b[0m, in \u001b[0;36mmanual_seed\u001b[0;34m(seed)\u001b[0m\n\u001b[1;32m     33\u001b[0m \u001b[38;5;28;01mimport\u001b[39;00m \u001b[38;5;21;01mtorch\u001b[39;00m\u001b[38;5;21;01m.\u001b[39;00m\u001b[38;5;21;01mcuda\u001b[39;00m\n\u001b[1;32m     35\u001b[0m \u001b[38;5;28;01mif\u001b[39;00m \u001b[38;5;129;01mnot\u001b[39;00m torch\u001b[38;5;241m.\u001b[39mcuda\u001b[38;5;241m.\u001b[39m_is_in_bad_fork():\n\u001b[0;32m---> 36\u001b[0m     \u001b[43mtorch\u001b[49m\u001b[38;5;241;43m.\u001b[39;49m\u001b[43mcuda\u001b[49m\u001b[38;5;241;43m.\u001b[39;49m\u001b[43mmanual_seed_all\u001b[49m\u001b[43m(\u001b[49m\u001b[43mseed\u001b[49m\u001b[43m)\u001b[49m\n\u001b[1;32m     38\u001b[0m \u001b[38;5;28;01mreturn\u001b[39;00m default_generator\u001b[38;5;241m.\u001b[39mmanual_seed(seed)\n",
      "File \u001b[0;32m/usr/local/lib/python3.8/dist-packages/torch/cuda/random.py:113\u001b[0m, in \u001b[0;36mmanual_seed_all\u001b[0;34m(seed)\u001b[0m\n\u001b[1;32m    110\u001b[0m         default_generator \u001b[38;5;241m=\u001b[39m torch\u001b[38;5;241m.\u001b[39mcuda\u001b[38;5;241m.\u001b[39mdefault_generators[i]\n\u001b[1;32m    111\u001b[0m         default_generator\u001b[38;5;241m.\u001b[39mmanual_seed(seed)\n\u001b[0;32m--> 113\u001b[0m \u001b[43m_lazy_call\u001b[49m\u001b[43m(\u001b[49m\u001b[43mcb\u001b[49m\u001b[43m)\u001b[49m\n",
      "File \u001b[0;32m/usr/local/lib/python3.8/dist-packages/torch/cuda/__init__.py:114\u001b[0m, in \u001b[0;36m_lazy_call\u001b[0;34m(callable)\u001b[0m\n\u001b[1;32m    112\u001b[0m \u001b[38;5;28;01mdef\u001b[39;00m \u001b[38;5;21m_lazy_call\u001b[39m(\u001b[38;5;28mcallable\u001b[39m):\n\u001b[1;32m    113\u001b[0m     \u001b[38;5;28;01mif\u001b[39;00m is_initialized():\n\u001b[0;32m--> 114\u001b[0m         \u001b[38;5;28;43mcallable\u001b[39;49m\u001b[43m(\u001b[49m\u001b[43m)\u001b[49m\n\u001b[1;32m    115\u001b[0m     \u001b[38;5;28;01melse\u001b[39;00m:\n\u001b[1;32m    116\u001b[0m         \u001b[38;5;66;03m# TODO(torch_deploy): this accesses linecache, which attempts to read the\u001b[39;00m\n\u001b[1;32m    117\u001b[0m         \u001b[38;5;66;03m# file system to get traceback info. Patch linecache or do something\u001b[39;00m\n\u001b[1;32m    118\u001b[0m         \u001b[38;5;66;03m# else here if this ends up being important.\u001b[39;00m\n\u001b[1;32m    119\u001b[0m \n\u001b[1;32m    120\u001b[0m         \u001b[38;5;66;03m# Don't store the actual traceback to avoid memory cycle\u001b[39;00m\n\u001b[1;32m    121\u001b[0m         _queued_calls\u001b[38;5;241m.\u001b[39mappend((\u001b[38;5;28mcallable\u001b[39m, traceback\u001b[38;5;241m.\u001b[39mformat_stack()))\n",
      "File \u001b[0;32m/usr/local/lib/python3.8/dist-packages/torch/cuda/random.py:111\u001b[0m, in \u001b[0;36mmanual_seed_all.<locals>.cb\u001b[0;34m()\u001b[0m\n\u001b[1;32m    109\u001b[0m \u001b[38;5;28;01mfor\u001b[39;00m i \u001b[38;5;129;01min\u001b[39;00m \u001b[38;5;28mrange\u001b[39m(device_count()):\n\u001b[1;32m    110\u001b[0m     default_generator \u001b[38;5;241m=\u001b[39m torch\u001b[38;5;241m.\u001b[39mcuda\u001b[38;5;241m.\u001b[39mdefault_generators[i]\n\u001b[0;32m--> 111\u001b[0m     \u001b[43mdefault_generator\u001b[49m\u001b[38;5;241;43m.\u001b[39;49m\u001b[43mmanual_seed\u001b[49m\u001b[43m(\u001b[49m\u001b[43mseed\u001b[49m\u001b[43m)\u001b[49m\n",
      "\u001b[0;31mRuntimeError\u001b[0m: CUDA error: out of memory"
     ]
    }
   ],
   "source": [
    "SEED = 123\n",
    "torch.manual_seed(SEED)\n",
    "np.random.seed(SEED)\n",
    "random.seed(SEED)        #Python\n",
    "\n",
    "\n",
    "epochs = 200\n",
    "\n",
    "device = 'cuda' if torch.cuda.is_available() else 'cpu'    #cuda\n",
    "\n",
    "file_path= '/root/data1/bubble_EMD/meshgraphnets_miniset1251traj50200ts_vis.pt'\n",
    "dataset = torch.load(file_path)\n",
    "print(len(dataset))\n",
    "#EDstats_list = get_EDstats(dataset)\n",
    "[EDmean_vec_x,EDstd_vec_x,EDmean_vec_edge,EDstd_vec_edge] = torch.load('/root/data1/bubble_EMD/EDstats_list.pt')\n",
    "\n",
    "(EDmean_vec_x,EDstd_vec_x,EDmean_vec_edge,EDstd_vec_edge)=(EDmean_vec_x.to(device),\n",
    "        EDstd_vec_x.to(device),EDmean_vec_edge.to(device),EDstd_vec_edge.to(device))\n",
    "\n",
    "train_size=7        #改\n",
    "train_loader = DataLoader(dataset[:train_size], shuffle=False)\n",
    "valid_loader = DataLoader(dataset[train_size:], shuffle=False)#分一下训练数据和验证数据\n",
    "num=int(dataset[:train_size][0].x.shape[0]/(per_t*batch_size))\n",
    "print(num)#3718\n",
    "sample = dataset[:train_size][0]\n",
    "print(sample)\n",
    "in_channels_node = sample.x.shape[1]\n",
    "in_channels_edge = sample.edge_attr.shape[1]\n",
    "hidden_channels = 32  #22\n",
    "out_channels = in_channels_node\n",
    "batch_size =25       #改\n",
    "n_mlp_encode = 3\n",
    "n_mlp_mp = 3\n",
    "\n",
    "n_mp_down_topk = [1,1,1,1]\n",
    "n_mp_up_topk = [1,1,1,2]\n",
    "pool_ratios = [2700,2000,1400]#[1./2.]\n",
    "\n",
    "#n_mp_down_topk = [1,1,1]\n",
    "#n_mp_up_topk = [1,1,2]\n",
    "#pool_ratios = [2200,1400]#[1./2.]\n",
    "n_mp_down_enc = [3]#3\n",
    "n_mp_up_enc = []\n",
    "lengthscales_enc = []\n",
    "n_mp_down_dec = [2,1,1]\n",
    "n_mp_up_dec = [1,2]\n",
    "lengthscales_dec = [0.5,1]\n",
    "interp = 'learned'\n",
    "act = F.elu\n",
    "param_sharing = False\n",
    "bounding_box = []\n",
    "if len(lengthscales_dec) > 0:\n",
    "        x_lo = sample.mesh_pos[:num,0].min() - lengthscales_dec[0]/2\n",
    "        x_hi = sample.mesh_pos[:num,0].max() + lengthscales_dec[0]/2\n",
    "        y_lo = sample.mesh_pos[:num,1].min() - lengthscales_dec[0]/2\n",
    "        y_hi = sample.mesh_pos[:num,1].max() + lengthscales_dec[0]/2\n",
    "        bounding_box = [x_lo.cpu().item(), x_hi.cpu().item(), y_lo.cpu().item(), y_hi.cpu().item()]"
   ]
  },
  {
   "cell_type": "code",
   "execution_count": null,
   "metadata": {},
   "outputs": [
    {
     "name": "stderr",
     "output_type": "stream",
     "text": [
      "Training:   0%|          | 1/200 [00:28<1:34:30, 28.50s/Epochs]"
     ]
    },
    {
     "name": "stdout",
     "output_type": "stream",
     "text": [
      "Epoch: 0000,\tTrain mse: 0.38150394,\tTrain_RMSE: 0.59681310,\tTrain_acc: 0.59626335,\tTest mse: 0.38694268,\tTime: 28.49605465s\n"
     ]
    },
    {
     "name": "stderr",
     "output_type": "stream",
     "text": [
      "Training:   1%|          | 2/200 [00:56<1:32:08, 27.92s/Epochs]"
     ]
    },
    {
     "name": "stdout",
     "output_type": "stream",
     "text": [
      "Epoch: 0001,\tTrain mse: 0.33043372,\tTrain_RMSE: 0.57415501,\tTrain_acc: 0.57426065,\tTest mse: 0.24822536,\tTime: 27.52111530s\n"
     ]
    },
    {
     "name": "stderr",
     "output_type": "stream",
     "text": [
      "Training:   2%|▏         | 3/200 [01:23<1:30:58, 27.71s/Epochs]"
     ]
    },
    {
     "name": "stdout",
     "output_type": "stream",
     "text": [
      "Epoch: 0002,\tTrain mse: 0.22676803,\tTrain_RMSE: 0.47581391,\tTrain_acc: 0.47586709,\tTest mse: 0.18877581,\tTime: 27.45390368s\n"
     ]
    },
    {
     "name": "stderr",
     "output_type": "stream",
     "text": [
      "Training:   2%|▏         | 4/200 [01:50<1:30:13, 27.62s/Epochs]"
     ]
    },
    {
     "name": "stdout",
     "output_type": "stream",
     "text": [
      "Epoch: 0003,\tTrain mse: 0.17192753,\tTrain_RMSE: 0.41434931,\tTrain_acc: 0.41438487,\tTest mse: 0.19184639,\tTime: 27.47641826s\n"
     ]
    },
    {
     "name": "stderr",
     "output_type": "stream",
     "text": [
      "Training:   2%|▎         | 5/200 [02:19<1:30:18, 27.79s/Epochs]"
     ]
    },
    {
     "name": "stdout",
     "output_type": "stream",
     "text": [
      "Epoch: 0004,\tTrain mse: 0.17975552,\tTrain_RMSE: 0.42374544,\tTrain_acc: 0.42376766,\tTest mse: 0.16723156,\tTime: 28.08867669s\n"
     ]
    },
    {
     "name": "stderr",
     "output_type": "stream",
     "text": [
      "Training:   3%|▎         | 6/200 [02:47<1:30:09, 27.89s/Epochs]"
     ]
    },
    {
     "name": "stdout",
     "output_type": "stream",
     "text": [
      "Epoch: 0005,\tTrain mse: 0.14833792,\tTrain_RMSE: 0.38482797,\tTrain_acc: 0.38487500,\tTest mse: 0.12982787,\tTime: 28.06908870s\n"
     ]
    },
    {
     "name": "stderr",
     "output_type": "stream",
     "text": [
      "Training:   4%|▎         | 7/200 [03:15<1:29:55, 27.95s/Epochs]"
     ]
    },
    {
     "name": "stdout",
     "output_type": "stream",
     "text": [
      "Epoch: 0006,\tTrain mse: 0.11669951,\tTrain_RMSE: 0.34144838,\tTrain_acc: 0.34149536,\tTest mse: 0.10313179,\tTime: 28.09177709s\n"
     ]
    },
    {
     "name": "stderr",
     "output_type": "stream",
     "text": [
      "Training:   4%|▍         | 8/200 [03:43<1:29:29, 27.96s/Epochs]"
     ]
    },
    {
     "name": "stdout",
     "output_type": "stream",
     "text": [
      "Epoch: 0007,\tTrain mse: 0.11361891,\tTrain_RMSE: 0.33561705,\tTrain_acc: 0.33553949,\tTest mse: 0.11919262,\tTime: 27.98476148s\n"
     ]
    },
    {
     "name": "stderr",
     "output_type": "stream",
     "text": [
      "Training:   4%|▍         | 9/200 [04:10<1:28:34, 27.83s/Epochs]"
     ]
    },
    {
     "name": "stdout",
     "output_type": "stream",
     "text": [
      "Epoch: 0008,\tTrain mse: 0.10929491,\tTrain_RMSE: 0.33051752,\tTrain_acc: 0.33055431,\tTest mse: 0.10085548,\tTime: 27.51792955s\n"
     ]
    },
    {
     "name": "stderr",
     "output_type": "stream",
     "text": [
      "Training:   5%|▌         | 10/200 [04:38<1:27:58, 27.78s/Epochs]"
     ]
    },
    {
     "name": "stdout",
     "output_type": "stream",
     "text": [
      "Epoch: 0009,\tTrain mse: 0.09671316,\tTrain_RMSE: 0.31096067,\tTrain_acc: 0.31098053,\tTest mse: 0.08706519,\tTime: 27.67588401s\n"
     ]
    },
    {
     "name": "stderr",
     "output_type": "stream",
     "text": [
      "Training:   6%|▌         | 11/200 [05:06<1:27:28, 27.77s/Epochs]"
     ]
    },
    {
     "name": "stdout",
     "output_type": "stream",
     "text": [
      "Epoch: 0010,\tTrain mse: 0.08461157,\tTrain_RMSE: 0.29085661,\tTrain_acc: 0.29086599,\tTest mse: 0.07884628,\tTime: 27.74262547s\n"
     ]
    },
    {
     "name": "stderr",
     "output_type": "stream",
     "text": [
      "Training:   6%|▌         | 12/200 [05:34<1:27:07, 27.80s/Epochs]"
     ]
    },
    {
     "name": "stdout",
     "output_type": "stream",
     "text": [
      "Epoch: 0011,\tTrain mse: 0.07709720,\tTrain_RMSE: 0.27765922,\tTrain_acc: 0.27766773,\tTest mse: 0.07332812,\tTime: 27.88487720s\n"
     ]
    },
    {
     "name": "stderr",
     "output_type": "stream",
     "text": [
      "Training:   6%|▋         | 13/200 [06:02<1:27:11, 27.98s/Epochs]"
     ]
    },
    {
     "name": "stdout",
     "output_type": "stream",
     "text": [
      "Epoch: 0012,\tTrain mse: 0.07262773,\tTrain_RMSE: 0.26947967,\tTrain_acc: 0.26949012,\tTest mse: 0.06863575,\tTime: 28.37251806s\n"
     ]
    },
    {
     "name": "stderr",
     "output_type": "stream",
     "text": [
      "Training:   7%|▋         | 14/200 [06:30<1:26:28, 27.90s/Epochs]"
     ]
    },
    {
     "name": "stdout",
     "output_type": "stream",
     "text": [
      "Epoch: 0013,\tTrain mse: 0.07006673,\tTrain_RMSE: 0.26458178,\tTrain_acc: 0.26457494,\tTest mse: 0.06629901,\tTime: 27.70430970s\n"
     ]
    },
    {
     "name": "stderr",
     "output_type": "stream",
     "text": [
      "Training:   8%|▊         | 15/200 [06:58<1:26:10, 27.95s/Epochs]"
     ]
    },
    {
     "name": "stdout",
     "output_type": "stream",
     "text": [
      "Epoch: 0014,\tTrain mse: 0.06732257,\tTrain_RMSE: 0.25941470,\tTrain_acc: 0.25942373,\tTest mse: 0.06171346,\tTime: 28.06132436s\n"
     ]
    },
    {
     "name": "stderr",
     "output_type": "stream",
     "text": [
      "Training:   8%|▊         | 16/200 [07:25<1:25:33, 27.90s/Epochs]"
     ]
    },
    {
     "name": "stdout",
     "output_type": "stream",
     "text": [
      "Epoch: 0015,\tTrain mse: 0.06406633,\tTrain_RMSE: 0.25306853,\tTrain_acc: 0.25306895,\tTest mse: 0.05861484,\tTime: 27.79343987s\n"
     ]
    },
    {
     "name": "stderr",
     "output_type": "stream",
     "text": [
      "Training:   8%|▊         | 17/200 [07:53<1:24:38, 27.75s/Epochs]"
     ]
    },
    {
     "name": "stdout",
     "output_type": "stream",
     "text": [
      "Epoch: 0016,\tTrain mse: 0.05991025,\tTrain_RMSE: 0.24472790,\tTrain_acc: 0.24473466,\tTest mse: 0.05966293,\tTime: 27.39799619s\n"
     ]
    },
    {
     "name": "stderr",
     "output_type": "stream",
     "text": [
      "Training:   9%|▉         | 18/200 [08:20<1:23:54, 27.66s/Epochs]"
     ]
    },
    {
     "name": "stdout",
     "output_type": "stream",
     "text": [
      "Epoch: 0017,\tTrain mse: 0.07512258,\tTrain_RMSE: 0.27308977,\tTrain_acc: 0.27306947,\tTest mse: 0.06647476,\tTime: 27.45592690s\n"
     ]
    },
    {
     "name": "stderr",
     "output_type": "stream",
     "text": [
      "Training:  10%|▉         | 19/200 [08:48<1:23:33, 27.70s/Epochs]"
     ]
    },
    {
     "name": "stdout",
     "output_type": "stream",
     "text": [
      "Epoch: 0018,\tTrain mse: 0.06495534,\tTrain_RMSE: 0.25477426,\tTrain_acc: 0.25478515,\tTest mse: 0.06411131,\tTime: 27.78503656s\n"
     ]
    },
    {
     "name": "stderr",
     "output_type": "stream",
     "text": [
      "Training:  10%|█         | 20/200 [09:16<1:23:01, 27.67s/Epochs]"
     ]
    },
    {
     "name": "stdout",
     "output_type": "stream",
     "text": [
      "Epoch: 0019,\tTrain mse: 0.06186388,\tTrain_RMSE: 0.24862738,\tTrain_acc: 0.24864519,\tTest mse: 0.05839330,\tTime: 27.60909772s\n"
     ]
    },
    {
     "name": "stderr",
     "output_type": "stream",
     "text": [
      "Training:  10%|█         | 21/200 [09:43<1:22:16, 27.58s/Epochs]"
     ]
    },
    {
     "name": "stdout",
     "output_type": "stream",
     "text": [
      "Epoch: 0020,\tTrain mse: 0.05616639,\tTrain_RMSE: 0.23694619,\tTrain_acc: 0.23696345,\tTest mse: 0.04977434,\tTime: 27.35331225s\n"
     ]
    },
    {
     "name": "stderr",
     "output_type": "stream",
     "text": [
      "Training:  11%|█         | 22/200 [10:11<1:21:59, 27.64s/Epochs]"
     ]
    },
    {
     "name": "stdout",
     "output_type": "stream",
     "text": [
      "Epoch: 0021,\tTrain mse: 0.05330467,\tTrain_RMSE: 0.23083388,\tTrain_acc: 0.23083857,\tTest mse: 0.05386576,\tTime: 27.78293085s\n"
     ]
    },
    {
     "name": "stderr",
     "output_type": "stream",
     "text": [
      "Training:  12%|█▏        | 23/200 [10:38<1:21:24, 27.59s/Epochs]"
     ]
    },
    {
     "name": "stdout",
     "output_type": "stream",
     "text": [
      "Epoch: 0022,\tTrain mse: 0.05036999,\tTrain_RMSE: 0.22433033,\tTrain_acc: 0.22435297,\tTest mse: 0.04500328,\tTime: 27.48733687s\n"
     ]
    },
    {
     "name": "stderr",
     "output_type": "stream",
     "text": [
      "Training:  12%|█▏        | 24/200 [11:06<1:20:44, 27.52s/Epochs]"
     ]
    },
    {
     "name": "stdout",
     "output_type": "stream",
     "text": [
      "Epoch: 0023,\tTrain mse: 0.04565198,\tTrain_RMSE: 0.21363516,\tTrain_acc: 0.21364017,\tTest mse: 0.04471737,\tTime: 27.35580063s\n"
     ]
    },
    {
     "name": "stderr",
     "output_type": "stream",
     "text": [
      "Training:  12%|█▎        | 25/200 [11:33<1:20:24, 27.57s/Epochs]"
     ]
    },
    {
     "name": "stdout",
     "output_type": "stream",
     "text": [
      "Epoch: 0024,\tTrain mse: 0.04376900,\tTrain_RMSE: 0.20916668,\tTrain_acc: 0.20917897,\tTest mse: 0.04161036,\tTime: 27.66679835s\n"
     ]
    },
    {
     "name": "stderr",
     "output_type": "stream",
     "text": [
      "Training:  13%|█▎        | 26/200 [12:01<1:19:47, 27.52s/Epochs]"
     ]
    },
    {
     "name": "stdout",
     "output_type": "stream",
     "text": [
      "Epoch: 0025,\tTrain mse: 0.05103137,\tTrain_RMSE: 0.22488071,\tTrain_acc: 0.22482343,\tTest mse: 0.06767634,\tTime: 27.39251328s\n"
     ]
    },
    {
     "name": "stderr",
     "output_type": "stream",
     "text": [
      "Training:  14%|█▎        | 27/200 [12:29<1:19:38, 27.62s/Epochs]"
     ]
    },
    {
     "name": "stdout",
     "output_type": "stream",
     "text": [
      "Epoch: 0026,\tTrain mse: 0.07150952,\tTrain_RMSE: 0.26704377,\tTrain_acc: 0.26704141,\tTest mse: 0.05435005,\tTime: 27.86015010s\n"
     ]
    },
    {
     "name": "stderr",
     "output_type": "stream",
     "text": [
      "Training:  14%|█▍        | 28/200 [12:56<1:19:10, 27.62s/Epochs]"
     ]
    },
    {
     "name": "stdout",
     "output_type": "stream",
     "text": [
      "Epoch: 0027,\tTrain mse: 0.06204352,\tTrain_RMSE: 0.24876309,\tTrain_acc: 0.24875465,\tTest mse: 0.05961411,\tTime: 27.61217332s\n"
     ]
    },
    {
     "name": "stderr",
     "output_type": "stream",
     "text": [
      "Training:  14%|█▍        | 29/200 [13:23<1:18:23, 27.50s/Epochs]"
     ]
    },
    {
     "name": "stdout",
     "output_type": "stream",
     "text": [
      "Epoch: 0028,\tTrain mse: 0.05394104,\tTrain_RMSE: 0.23190362,\tTrain_acc: 0.23193868,\tTest mse: 0.04407554,\tTime: 27.23325086s\n",
      "Epoch    29: reducing learning rate of group 0 to 5.0000e-04.\n"
     ]
    },
    {
     "name": "stderr",
     "output_type": "stream",
     "text": [
      "Training:  15%|█▌        | 30/200 [13:51<1:17:57, 27.51s/Epochs]"
     ]
    },
    {
     "name": "stdout",
     "output_type": "stream",
     "text": [
      "Epoch: 0029,\tTrain mse: 0.04420380,\tTrain_RMSE: 0.21022059,\tTrain_acc: 0.21022888,\tTest mse: 0.04294413,\tTime: 27.53289175s\n"
     ]
    },
    {
     "name": "stderr",
     "output_type": "stream",
     "text": [
      "Training:  16%|█▌        | 31/200 [14:18<1:17:10, 27.40s/Epochs]"
     ]
    },
    {
     "name": "stdout",
     "output_type": "stream",
     "text": [
      "Epoch: 0030,\tTrain mse: 0.04187184,\tTrain_RMSE: 0.20456524,\tTrain_acc: 0.20457084,\tTest mse: 0.03907357,\tTime: 27.13372612s\n"
     ]
    },
    {
     "name": "stderr",
     "output_type": "stream",
     "text": [
      "Training:  16%|█▌        | 32/200 [14:46<1:16:49, 27.44s/Epochs]"
     ]
    },
    {
     "name": "stdout",
     "output_type": "stream",
     "text": [
      "Epoch: 0031,\tTrain mse: 0.03945272,\tTrain_RMSE: 0.19858673,\tTrain_acc: 0.19859038,\tTest mse: 0.03802840,\tTime: 27.52956605s\n"
     ]
    },
    {
     "name": "stderr",
     "output_type": "stream",
     "text": [
      "Training:  16%|█▋        | 33/200 [15:13<1:16:10, 27.37s/Epochs]"
     ]
    },
    {
     "name": "stdout",
     "output_type": "stream",
     "text": [
      "Epoch: 0032,\tTrain mse: 0.03816769,\tTrain_RMSE: 0.19533030,\tTrain_acc: 0.19533604,\tTest mse: 0.03640286,\tTime: 27.20166850s\n"
     ]
    },
    {
     "name": "stderr",
     "output_type": "stream",
     "text": [
      "Training:  17%|█▋        | 34/200 [15:41<1:15:55, 27.44s/Epochs]"
     ]
    },
    {
     "name": "stdout",
     "output_type": "stream",
     "text": [
      "Epoch: 0033,\tTrain mse: 0.03688599,\tTrain_RMSE: 0.19201839,\tTrain_acc: 0.19201998,\tTest mse: 0.03473327,\tTime: 27.60958743s\n"
     ]
    },
    {
     "name": "stderr",
     "output_type": "stream",
     "text": [
      "Training:  18%|█▊        | 35/200 [16:08<1:15:40, 27.52s/Epochs]"
     ]
    },
    {
     "name": "stdout",
     "output_type": "stream",
     "text": [
      "Epoch: 0034,\tTrain mse: 0.03562838,\tTrain_RMSE: 0.18870684,\tTrain_acc: 0.18870707,\tTest mse: 0.03387354,\tTime: 27.69719219s\n"
     ]
    },
    {
     "name": "stderr",
     "output_type": "stream",
     "text": [
      "Training:  18%|█▊        | 36/200 [16:36<1:15:18, 27.55s/Epochs]"
     ]
    },
    {
     "name": "stdout",
     "output_type": "stream",
     "text": [
      "Epoch: 0035,\tTrain mse: 0.03459964,\tTrain_RMSE: 0.18596239,\tTrain_acc: 0.18596263,\tTest mse: 0.03309933,\tTime: 27.63067746s\n"
     ]
    },
    {
     "name": "stderr",
     "output_type": "stream",
     "text": [
      "Training:  18%|█▊        | 37/200 [17:03<1:14:49, 27.54s/Epochs]"
     ]
    },
    {
     "name": "stdout",
     "output_type": "stream",
     "text": [
      "Epoch: 0036,\tTrain mse: 0.03371513,\tTrain_RMSE: 0.18355307,\tTrain_acc: 0.18355401,\tTest mse: 0.03249262,\tTime: 27.50958395s\n"
     ]
    },
    {
     "name": "stderr",
     "output_type": "stream",
     "text": [
      "Training:  19%|█▉        | 38/200 [17:31<1:14:22, 27.54s/Epochs]"
     ]
    },
    {
     "name": "stdout",
     "output_type": "stream",
     "text": [
      "Epoch: 0037,\tTrain mse: 0.03312691,\tTrain_RMSE: 0.18192550,\tTrain_acc: 0.18192701,\tTest mse: 0.03226803,\tTime: 27.55077600s\n"
     ]
    },
    {
     "name": "stderr",
     "output_type": "stream",
     "text": [
      "Training:  20%|█▉        | 39/200 [17:58<1:13:55, 27.55s/Epochs]"
     ]
    },
    {
     "name": "stdout",
     "output_type": "stream",
     "text": [
      "Epoch: 0038,\tTrain mse: 0.03280841,\tTrain_RMSE: 0.18106457,\tTrain_acc: 0.18106541,\tTest mse: 0.03138880,\tTime: 27.55785298s\n"
     ]
    },
    {
     "name": "stderr",
     "output_type": "stream",
     "text": [
      "Training:  20%|██        | 40/200 [18:26<1:13:26, 27.54s/Epochs]"
     ]
    },
    {
     "name": "stdout",
     "output_type": "stream",
     "text": [
      "Epoch: 0039,\tTrain mse: 0.03218619,\tTrain_RMSE: 0.17936199,\tTrain_acc: 0.17936179,\tTest mse: 0.03032869,\tTime: 27.52582169s\n"
     ]
    },
    {
     "name": "stderr",
     "output_type": "stream",
     "text": [
      "Training:  20%|██        | 41/200 [18:54<1:13:16, 27.65s/Epochs]"
     ]
    },
    {
     "name": "stdout",
     "output_type": "stream",
     "text": [
      "Epoch: 0040,\tTrain mse: 0.03095167,\tTrain_RMSE: 0.17587493,\tTrain_acc: 0.17587534,\tTest mse: 0.02951678,\tTime: 27.89364171s\n"
     ]
    },
    {
     "name": "stderr",
     "output_type": "stream",
     "text": [
      "Training:  21%|██        | 42/200 [19:22<1:12:50, 27.66s/Epochs]"
     ]
    },
    {
     "name": "stdout",
     "output_type": "stream",
     "text": [
      "Epoch: 0041,\tTrain mse: 0.03022599,\tTrain_RMSE: 0.17379358,\tTrain_acc: 0.17379364,\tTest mse: 0.02914071,\tTime: 27.68049741s\n"
     ]
    },
    {
     "name": "stderr",
     "output_type": "stream",
     "text": [
      "Training:  22%|██▏       | 43/200 [19:49<1:12:08, 27.57s/Epochs]"
     ]
    },
    {
     "name": "stdout",
     "output_type": "stream",
     "text": [
      "Epoch: 0042,\tTrain mse: 0.02985114,\tTrain_RMSE: 0.17271309,\tTrain_acc: 0.17271350,\tTest mse: 0.02858131,\tTime: 27.35566640s\n"
     ]
    },
    {
     "name": "stderr",
     "output_type": "stream",
     "text": [
      "Training:  22%|██▏       | 44/200 [20:16<1:11:40, 27.56s/Epochs]"
     ]
    },
    {
     "name": "stdout",
     "output_type": "stream",
     "text": [
      "Epoch: 0043,\tTrain mse: 0.02947584,\tTrain_RMSE: 0.17160876,\tTrain_acc: 0.17160827,\tTest mse: 0.02775697,\tTime: 27.55256009s\n"
     ]
    },
    {
     "name": "stderr",
     "output_type": "stream",
     "text": [
      "Training:  22%|██▎       | 45/200 [20:44<1:11:08, 27.54s/Epochs]"
     ]
    },
    {
     "name": "stdout",
     "output_type": "stream",
     "text": [
      "Epoch: 0044,\tTrain mse: 0.02928211,\tTrain_RMSE: 0.17101990,\tTrain_acc: 0.17101279,\tTest mse: 0.02717442,\tTime: 27.48064065s\n"
     ]
    },
    {
     "name": "stderr",
     "output_type": "stream",
     "text": [
      "Training:  23%|██▎       | 46/200 [21:11<1:10:40, 27.53s/Epochs]"
     ]
    },
    {
     "name": "stdout",
     "output_type": "stream",
     "text": [
      "Epoch: 0045,\tTrain mse: 0.02904211,\tTrain_RMSE: 0.17029083,\tTrain_acc: 0.17027931,\tTest mse: 0.02818358,\tTime: 27.51805520s\n"
     ]
    },
    {
     "name": "stderr",
     "output_type": "stream",
     "text": [
      "Training:  24%|██▎       | 47/200 [21:39<1:10:25, 27.62s/Epochs]"
     ]
    },
    {
     "name": "stdout",
     "output_type": "stream",
     "text": [
      "Epoch: 0046,\tTrain mse: 0.02880501,\tTrain_RMSE: 0.16959409,\tTrain_acc: 0.16958706,\tTest mse: 0.02796611,\tTime: 27.81954408s\n"
     ]
    },
    {
     "name": "stderr",
     "output_type": "stream",
     "text": [
      "Training:  24%|██▍       | 48/200 [22:07<1:09:57, 27.62s/Epochs]"
     ]
    },
    {
     "name": "stdout",
     "output_type": "stream",
     "text": [
      "Epoch: 0047,\tTrain mse: 0.02825456,\tTrain_RMSE: 0.16798128,\tTrain_acc: 0.16797516,\tTest mse: 0.02828803,\tTime: 27.60065770s\n"
     ]
    },
    {
     "name": "stderr",
     "output_type": "stream",
     "text": [
      "Training:  24%|██▍       | 49/200 [22:34<1:09:14, 27.51s/Epochs]"
     ]
    },
    {
     "name": "stdout",
     "output_type": "stream",
     "text": [
      "Epoch: 0048,\tTrain mse: 0.02962149,\tTrain_RMSE: 0.17193109,\tTrain_acc: 0.17191465,\tTest mse: 0.03021730,\tTime: 27.27843189s\n",
      "Epoch    49: reducing learning rate of group 0 to 2.5000e-04.\n"
     ]
    },
    {
     "name": "stderr",
     "output_type": "stream",
     "text": [
      "Training:  25%|██▌       | 50/200 [23:02<1:08:48, 27.52s/Epochs]"
     ]
    },
    {
     "name": "stdout",
     "output_type": "stream",
     "text": [
      "Epoch: 0049,\tTrain mse: 0.02907352,\tTrain_RMSE: 0.17036154,\tTrain_acc: 0.17036396,\tTest mse: 0.02886971,\tTime: 27.53385329s\n"
     ]
    },
    {
     "name": "stderr",
     "output_type": "stream",
     "text": [
      "Training:  26%|██▌       | 51/200 [23:30<1:08:46, 27.69s/Epochs]"
     ]
    },
    {
     "name": "stdout",
     "output_type": "stream",
     "text": [
      "Epoch: 0050,\tTrain mse: 0.02844811,\tTrain_RMSE: 0.16857308,\tTrain_acc: 0.16856883,\tTest mse: 0.02757019,\tTime: 28.09470391s\n"
     ]
    },
    {
     "name": "stderr",
     "output_type": "stream",
     "text": [
      "Training:  26%|██▌       | 52/200 [23:58<1:08:28, 27.76s/Epochs]"
     ]
    },
    {
     "name": "stdout",
     "output_type": "stream",
     "text": [
      "Epoch: 0051,\tTrain mse: 0.02763357,\tTrain_RMSE: 0.16614024,\tTrain_acc: 0.16613564,\tTest mse: 0.02640002,\tTime: 27.90268040s\n"
     ]
    },
    {
     "name": "stderr",
     "output_type": "stream",
     "text": [
      "Training:  26%|██▋       | 53/200 [24:25<1:07:58, 27.74s/Epochs]"
     ]
    },
    {
     "name": "stdout",
     "output_type": "stream",
     "text": [
      "Epoch: 0052,\tTrain mse: 0.02686676,\tTrain_RMSE: 0.16381727,\tTrain_acc: 0.16380855,\tTest mse: 0.02575257,\tTime: 27.70427752s\n"
     ]
    },
    {
     "name": "stderr",
     "output_type": "stream",
     "text": [
      "Training:  27%|██▋       | 54/200 [24:53<1:07:32, 27.76s/Epochs]"
     ]
    },
    {
     "name": "stdout",
     "output_type": "stream",
     "text": [
      "Epoch: 0053,\tTrain mse: 0.02669543,\tTrain_RMSE: 0.16329567,\tTrain_acc: 0.16328685,\tTest mse: 0.02575967,\tTime: 27.78671026s\n"
     ]
    },
    {
     "name": "stderr",
     "output_type": "stream",
     "text": [
      "Training:  28%|██▊       | 55/200 [25:20<1:06:41, 27.60s/Epochs]"
     ]
    },
    {
     "name": "stdout",
     "output_type": "stream",
     "text": [
      "Epoch: 0054,\tTrain mse: 0.02649541,\tTrain_RMSE: 0.16268208,\tTrain_acc: 0.16267529,\tTest mse: 0.02543697,\tTime: 27.22336745s\n"
     ]
    },
    {
     "name": "stderr",
     "output_type": "stream",
     "text": [
      "Training:  28%|██▊       | 56/200 [25:48<1:06:00, 27.51s/Epochs]"
     ]
    },
    {
     "name": "stdout",
     "output_type": "stream",
     "text": [
      "Epoch: 0055,\tTrain mse: 0.02623363,\tTrain_RMSE: 0.16187650,\tTrain_acc: 0.16186927,\tTest mse: 0.02514962,\tTime: 27.29295301s\n"
     ]
    },
    {
     "name": "stderr",
     "output_type": "stream",
     "text": [
      "Training:  28%|██▊       | 57/200 [26:15<1:05:32, 27.50s/Epochs]"
     ]
    },
    {
     "name": "stdout",
     "output_type": "stream",
     "text": [
      "Epoch: 0056,\tTrain mse: 0.02607890,\tTrain_RMSE: 0.16140149,\tTrain_acc: 0.16139476,\tTest mse: 0.02499669,\tTime: 27.48974848s\n"
     ]
    },
    {
     "name": "stderr",
     "output_type": "stream",
     "text": [
      "Training:  29%|██▉       | 58/200 [26:43<1:05:16, 27.58s/Epochs]"
     ]
    },
    {
     "name": "stdout",
     "output_type": "stream",
     "text": [
      "Epoch: 0057,\tTrain mse: 0.02606606,\tTrain_RMSE: 0.16136057,\tTrain_acc: 0.16135238,\tTest mse: 0.02506716,\tTime: 27.77319932s\n"
     ]
    },
    {
     "name": "stderr",
     "output_type": "stream",
     "text": [
      "Training:  30%|██▉       | 59/200 [27:10<1:04:38, 27.51s/Epochs]"
     ]
    },
    {
     "name": "stdout",
     "output_type": "stream",
     "text": [
      "Epoch: 0058,\tTrain mse: 0.02610382,\tTrain_RMSE: 0.16146440,\tTrain_acc: 0.16145414,\tTest mse: 0.02530635,\tTime: 27.33468246s\n"
     ]
    },
    {
     "name": "stderr",
     "output_type": "stream",
     "text": [
      "Training:  30%|███       | 60/200 [27:37<1:03:53, 27.38s/Epochs]"
     ]
    },
    {
     "name": "stdout",
     "output_type": "stream",
     "text": [
      "Epoch: 0059,\tTrain mse: 0.02601150,\tTrain_RMSE: 0.16115260,\tTrain_acc: 0.16114178,\tTest mse: 0.02580264,\tTime: 27.08855438s\n"
     ]
    },
    {
     "name": "stderr",
     "output_type": "stream",
     "text": [
      "Training:  30%|███       | 61/200 [28:05<1:03:18, 27.33s/Epochs]"
     ]
    },
    {
     "name": "stdout",
     "output_type": "stream",
     "text": [
      "Epoch: 0060,\tTrain mse: 0.02593741,\tTrain_RMSE: 0.16092152,\tTrain_acc: 0.16091162,\tTest mse: 0.02590575,\tTime: 27.19380283s\n",
      "Epoch    61: reducing learning rate of group 0 to 1.2500e-04.\n"
     ]
    },
    {
     "name": "stderr",
     "output_type": "stream",
     "text": [
      "Training:  31%|███       | 62/200 [28:32<1:02:45, 27.29s/Epochs]"
     ]
    },
    {
     "name": "stdout",
     "output_type": "stream",
     "text": [
      "Epoch: 0061,\tTrain mse: 0.02579897,\tTrain_RMSE: 0.16050750,\tTrain_acc: 0.16049990,\tTest mse: 0.02537477,\tTime: 27.19333720s\n"
     ]
    },
    {
     "name": "stderr",
     "output_type": "stream",
     "text": [
      "Training:  32%|███▏      | 63/200 [28:59<1:02:21, 27.31s/Epochs]"
     ]
    },
    {
     "name": "stdout",
     "output_type": "stream",
     "text": [
      "Epoch: 0062,\tTrain mse: 0.02563548,\tTrain_RMSE: 0.15999682,\tTrain_acc: 0.15998839,\tTest mse: 0.02533803,\tTime: 27.35192275s\n"
     ]
    },
    {
     "name": "stderr",
     "output_type": "stream",
     "text": [
      "Training:  32%|███▏      | 64/200 [29:27<1:02:04, 27.39s/Epochs]"
     ]
    },
    {
     "name": "stdout",
     "output_type": "stream",
     "text": [
      "Epoch: 0063,\tTrain mse: 0.02565725,\tTrain_RMSE: 0.16007677,\tTrain_acc: 0.16006787,\tTest mse: 0.02519717,\tTime: 27.57195544s\n"
     ]
    },
    {
     "name": "stderr",
     "output_type": "stream",
     "text": [
      "Training:  32%|███▎      | 65/200 [29:54<1:01:29, 27.33s/Epochs]"
     ]
    },
    {
     "name": "stdout",
     "output_type": "stream",
     "text": [
      "Epoch: 0064,\tTrain mse: 0.02552950,\tTrain_RMSE: 0.15966606,\tTrain_acc: 0.15965667,\tTest mse: 0.02500017,\tTime: 27.18811917s\n",
      "Epoch    65: reducing learning rate of group 0 to 6.2500e-05.\n"
     ]
    },
    {
     "name": "stderr",
     "output_type": "stream",
     "text": [
      "Training:  33%|███▎      | 66/200 [30:21<1:00:54, 27.27s/Epochs]"
     ]
    },
    {
     "name": "stdout",
     "output_type": "stream",
     "text": [
      "Epoch: 0065,\tTrain mse: 0.02543407,\tTrain_RMSE: 0.15938395,\tTrain_acc: 0.15937632,\tTest mse: 0.02476002,\tTime: 27.13408875s\n"
     ]
    },
    {
     "name": "stderr",
     "output_type": "stream",
     "text": [
      "Training:  34%|███▎      | 67/200 [30:48<1:00:23, 27.24s/Epochs]"
     ]
    },
    {
     "name": "stdout",
     "output_type": "stream",
     "text": [
      "Epoch: 0066,\tTrain mse: 0.02521760,\tTrain_RMSE: 0.15870569,\tTrain_acc: 0.15869823,\tTest mse: 0.02472055,\tTime: 27.17935228s\n"
     ]
    },
    {
     "name": "stderr",
     "output_type": "stream",
     "text": [
      "Training:  34%|███▍      | 68/200 [31:16<59:59, 27.27s/Epochs]  "
     ]
    },
    {
     "name": "stdout",
     "output_type": "stream",
     "text": [
      "Epoch: 0067,\tTrain mse: 0.02526716,\tTrain_RMSE: 0.15886191,\tTrain_acc: 0.15885420,\tTest mse: 0.02491451,\tTime: 27.33178258s\n"
     ]
    },
    {
     "name": "stderr",
     "output_type": "stream",
     "text": [
      "Training:  34%|███▍      | 69/200 [31:43<59:37, 27.31s/Epochs]"
     ]
    },
    {
     "name": "stdout",
     "output_type": "stream",
     "text": [
      "Epoch: 0068,\tTrain mse: 0.02526798,\tTrain_RMSE: 0.15887247,\tTrain_acc: 0.15886566,\tTest mse: 0.02472416,\tTime: 27.39491820s\n"
     ]
    },
    {
     "name": "stderr",
     "output_type": "stream",
     "text": [
      "Training:  35%|███▌      | 70/200 [32:10<59:17, 27.37s/Epochs]"
     ]
    },
    {
     "name": "stdout",
     "output_type": "stream",
     "text": [
      "Epoch: 0069,\tTrain mse: 0.02520231,\tTrain_RMSE: 0.15866397,\tTrain_acc: 0.15865701,\tTest mse: 0.02462843,\tTime: 27.49695921s\n"
     ]
    },
    {
     "name": "stderr",
     "output_type": "stream",
     "text": [
      "Training:  36%|███▌      | 71/200 [32:38<59:05, 27.48s/Epochs]"
     ]
    },
    {
     "name": "stdout",
     "output_type": "stream",
     "text": [
      "Epoch: 0070,\tTrain mse: 0.02523426,\tTrain_RMSE: 0.15876462,\tTrain_acc: 0.15875788,\tTest mse: 0.02473002,\tTime: 27.76051354s\n"
     ]
    },
    {
     "name": "stderr",
     "output_type": "stream",
     "text": [
      "Training:  36%|███▌      | 72/200 [33:06<58:32, 27.44s/Epochs]"
     ]
    },
    {
     "name": "stdout",
     "output_type": "stream",
     "text": [
      "Epoch: 0071,\tTrain mse: 0.02521829,\tTrain_RMSE: 0.15871860,\tTrain_acc: 0.15871266,\tTest mse: 0.02462908,\tTime: 27.34672165s\n"
     ]
    },
    {
     "name": "stderr",
     "output_type": "stream",
     "text": [
      "Training:  36%|███▋      | 73/200 [33:33<58:16, 27.53s/Epochs]"
     ]
    },
    {
     "name": "stdout",
     "output_type": "stream",
     "text": [
      "Epoch: 0072,\tTrain mse: 0.02515574,\tTrain_RMSE: 0.15852385,\tTrain_acc: 0.15851730,\tTest mse: 0.02465362,\tTime: 27.72974539s\n"
     ]
    },
    {
     "name": "stderr",
     "output_type": "stream",
     "text": [
      "Training:  37%|███▋      | 74/200 [34:01<57:48, 27.53s/Epochs]"
     ]
    },
    {
     "name": "stdout",
     "output_type": "stream",
     "text": [
      "Epoch: 0073,\tTrain mse: 0.02513961,\tTrain_RMSE: 0.15847144,\tTrain_acc: 0.15846495,\tTest mse: 0.02458881,\tTime: 27.52428722s\n"
     ]
    },
    {
     "name": "stderr",
     "output_type": "stream",
     "text": [
      "Training:  38%|███▊      | 75/200 [34:29<57:32, 27.62s/Epochs]"
     ]
    },
    {
     "name": "stdout",
     "output_type": "stream",
     "text": [
      "Epoch: 0074,\tTrain mse: 0.02507004,\tTrain_RMSE: 0.15825173,\tTrain_acc: 0.15824518,\tTest mse: 0.02446483,\tTime: 27.83604598s\n"
     ]
    },
    {
     "name": "stderr",
     "output_type": "stream",
     "text": [
      "Training:  38%|███▊      | 76/200 [34:56<57:07, 27.64s/Epochs]"
     ]
    },
    {
     "name": "stdout",
     "output_type": "stream",
     "text": [
      "Epoch: 0075,\tTrain mse: 0.02500482,\tTrain_RMSE: 0.15804271,\tTrain_acc: 0.15803592,\tTest mse: 0.02433288,\tTime: 27.69729280s\n"
     ]
    },
    {
     "name": "stderr",
     "output_type": "stream",
     "text": [
      "Training:  38%|███▊      | 77/200 [35:24<56:33, 27.59s/Epochs]"
     ]
    },
    {
     "name": "stdout",
     "output_type": "stream",
     "text": [
      "Epoch: 0076,\tTrain mse: 0.02497897,\tTrain_RMSE: 0.15795922,\tTrain_acc: 0.15795283,\tTest mse: 0.02418981,\tTime: 27.45338011s\n"
     ]
    },
    {
     "name": "stderr",
     "output_type": "stream",
     "text": [
      "Training:  39%|███▉      | 78/200 [35:52<56:14, 27.66s/Epochs]"
     ]
    },
    {
     "name": "stdout",
     "output_type": "stream",
     "text": [
      "Epoch: 0077,\tTrain mse: 0.02492513,\tTrain_RMSE: 0.15778850,\tTrain_acc: 0.15778203,\tTest mse: 0.02409065,\tTime: 27.81237864s\n"
     ]
    },
    {
     "name": "stderr",
     "output_type": "stream",
     "text": [
      "Training:  40%|███▉      | 79/200 [36:19<55:37, 27.58s/Epochs]"
     ]
    },
    {
     "name": "stdout",
     "output_type": "stream",
     "text": [
      "Epoch: 0078,\tTrain mse: 0.02486733,\tTrain_RMSE: 0.15760247,\tTrain_acc: 0.15759574,\tTest mse: 0.02402675,\tTime: 27.41156673s\n"
     ]
    },
    {
     "name": "stderr",
     "output_type": "stream",
     "text": [
      "Training:  40%|████      | 80/200 [36:47<55:05, 27.55s/Epochs]"
     ]
    },
    {
     "name": "stdout",
     "output_type": "stream",
     "text": [
      "Epoch: 0079,\tTrain mse: 0.02481024,\tTrain_RMSE: 0.15742116,\tTrain_acc: 0.15741435,\tTest mse: 0.02393856,\tTime: 27.45659542s\n"
     ]
    },
    {
     "name": "stderr",
     "output_type": "stream",
     "text": [
      "Training:  40%|████      | 81/200 [37:14<54:42, 27.58s/Epochs]"
     ]
    },
    {
     "name": "stdout",
     "output_type": "stream",
     "text": [
      "Epoch: 0080,\tTrain mse: 0.02473169,\tTrain_RMSE: 0.15716813,\tTrain_acc: 0.15716098,\tTest mse: 0.02384802,\tTime: 27.66724658s\n"
     ]
    },
    {
     "name": "stderr",
     "output_type": "stream",
     "text": [
      "Training:  41%|████      | 82/200 [37:42<54:07, 27.52s/Epochs]"
     ]
    },
    {
     "name": "stdout",
     "output_type": "stream",
     "text": [
      "Epoch: 0081,\tTrain mse: 0.02465975,\tTrain_RMSE: 0.15693981,\tTrain_acc: 0.15693259,\tTest mse: 0.02373157,\tTime: 27.38638473s\n"
     ]
    },
    {
     "name": "stderr",
     "output_type": "stream",
     "text": [
      "Training:  42%|████▏     | 83/200 [38:09<53:31, 27.45s/Epochs]"
     ]
    },
    {
     "name": "stdout",
     "output_type": "stream",
     "text": [
      "Epoch: 0082,\tTrain mse: 0.02458882,\tTrain_RMSE: 0.15671348,\tTrain_acc: 0.15670605,\tTest mse: 0.02370346,\tTime: 27.26956010s\n"
     ]
    },
    {
     "name": "stderr",
     "output_type": "stream",
     "text": [
      "Training:  42%|████▏     | 84/200 [38:36<52:57, 27.40s/Epochs]"
     ]
    },
    {
     "name": "stdout",
     "output_type": "stream",
     "text": [
      "Epoch: 0083,\tTrain mse: 0.02450707,\tTrain_RMSE: 0.15645018,\tTrain_acc: 0.15644281,\tTest mse: 0.02363640,\tTime: 27.27296495s\n"
     ]
    },
    {
     "name": "stderr",
     "output_type": "stream",
     "text": [
      "Training:  42%|████▎     | 85/200 [39:04<52:31, 27.41s/Epochs]"
     ]
    },
    {
     "name": "stdout",
     "output_type": "stream",
     "text": [
      "Epoch: 0084,\tTrain mse: 0.02442984,\tTrain_RMSE: 0.15620226,\tTrain_acc: 0.15619501,\tTest mse: 0.02355596,\tTime: 27.43230009s\n"
     ]
    },
    {
     "name": "stderr",
     "output_type": "stream",
     "text": [
      "Training:  43%|████▎     | 86/200 [39:31<51:59, 27.37s/Epochs]"
     ]
    },
    {
     "name": "stdout",
     "output_type": "stream",
     "text": [
      "Epoch: 0085,\tTrain mse: 0.02437464,\tTrain_RMSE: 0.15602526,\tTrain_acc: 0.15601777,\tTest mse: 0.02347999,\tTime: 27.27413416s\n"
     ]
    },
    {
     "name": "stderr",
     "output_type": "stream",
     "text": [
      "Training:  44%|████▎     | 87/200 [39:58<51:27, 27.32s/Epochs]"
     ]
    },
    {
     "name": "stdout",
     "output_type": "stream",
     "text": [
      "Epoch: 0086,\tTrain mse: 0.02429987,\tTrain_RMSE: 0.15578610,\tTrain_acc: 0.15577872,\tTest mse: 0.02342240,\tTime: 27.21094155s\n"
     ]
    },
    {
     "name": "stderr",
     "output_type": "stream",
     "text": [
      "Training:  44%|████▍     | 88/200 [40:25<50:58, 27.31s/Epochs]"
     ]
    },
    {
     "name": "stdout",
     "output_type": "stream",
     "text": [
      "Epoch: 0087,\tTrain mse: 0.02424251,\tTrain_RMSE: 0.15560482,\tTrain_acc: 0.15559742,\tTest mse: 0.02335706,\tTime: 27.28454733s\n"
     ]
    },
    {
     "name": "stderr",
     "output_type": "stream",
     "text": [
      "Training:  44%|████▍     | 89/200 [40:53<50:52, 27.50s/Epochs]"
     ]
    },
    {
     "name": "stdout",
     "output_type": "stream",
     "text": [
      "Epoch: 0088,\tTrain mse: 0.02418209,\tTrain_RMSE: 0.15541030,\tTrain_acc: 0.15540299,\tTest mse: 0.02327688,\tTime: 27.93701243s\n"
     ]
    },
    {
     "name": "stderr",
     "output_type": "stream",
     "text": [
      "Training:  45%|████▌     | 90/200 [41:21<50:30, 27.55s/Epochs]"
     ]
    },
    {
     "name": "stdout",
     "output_type": "stream",
     "text": [
      "Epoch: 0089,\tTrain mse: 0.02410619,\tTrain_RMSE: 0.15516569,\tTrain_acc: 0.15515827,\tTest mse: 0.02322629,\tTime: 27.67930508s\n"
     ]
    },
    {
     "name": "stderr",
     "output_type": "stream",
     "text": [
      "Training:  46%|████▌     | 91/200 [41:49<50:11, 27.63s/Epochs]"
     ]
    },
    {
     "name": "stdout",
     "output_type": "stream",
     "text": [
      "Epoch: 0090,\tTrain mse: 0.02405140,\tTrain_RMSE: 0.15498914,\tTrain_acc: 0.15498166,\tTest mse: 0.02313069,\tTime: 27.79831600s\n"
     ]
    },
    {
     "name": "stderr",
     "output_type": "stream",
     "text": [
      "Training:  46%|████▌     | 92/200 [42:16<49:43, 27.63s/Epochs]"
     ]
    },
    {
     "name": "stdout",
     "output_type": "stream",
     "text": [
      "Epoch: 0091,\tTrain mse: 0.02399786,\tTrain_RMSE: 0.15481712,\tTrain_acc: 0.15480947,\tTest mse: 0.02311157,\tTime: 27.62075591s\n"
     ]
    },
    {
     "name": "stderr",
     "output_type": "stream",
     "text": [
      "Training:  46%|████▋     | 93/200 [42:44<49:20, 27.67s/Epochs]"
     ]
    },
    {
     "name": "stdout",
     "output_type": "stream",
     "text": [
      "Epoch: 0092,\tTrain mse: 0.02393094,\tTrain_RMSE: 0.15460187,\tTrain_acc: 0.15459424,\tTest mse: 0.02304253,\tTime: 27.75870466s\n"
     ]
    },
    {
     "name": "stderr",
     "output_type": "stream",
     "text": [
      "Training:  47%|████▋     | 94/200 [43:12<48:57, 27.71s/Epochs]"
     ]
    },
    {
     "name": "stdout",
     "output_type": "stream",
     "text": [
      "Epoch: 0093,\tTrain mse: 0.02386776,\tTrain_RMSE: 0.15439668,\tTrain_acc: 0.15438896,\tTest mse: 0.02299325,\tTime: 27.82327342s\n"
     ]
    },
    {
     "name": "stderr",
     "output_type": "stream",
     "text": [
      "Training:  48%|████▊     | 95/200 [43:39<48:22, 27.64s/Epochs]"
     ]
    },
    {
     "name": "stdout",
     "output_type": "stream",
     "text": [
      "Epoch: 0094,\tTrain mse: 0.02381940,\tTrain_RMSE: 0.15424022,\tTrain_acc: 0.15423301,\tTest mse: 0.02291160,\tTime: 27.46366096s\n"
     ]
    },
    {
     "name": "stderr",
     "output_type": "stream",
     "text": [
      "Training:  48%|████▊     | 96/200 [44:07<48:01, 27.70s/Epochs]"
     ]
    },
    {
     "name": "stdout",
     "output_type": "stream",
     "text": [
      "Epoch: 0095,\tTrain mse: 0.02376514,\tTrain_RMSE: 0.15406498,\tTrain_acc: 0.15405789,\tTest mse: 0.02288612,\tTime: 27.84719205s\n"
     ]
    },
    {
     "name": "stderr",
     "output_type": "stream",
     "text": [
      "Training:  48%|████▊     | 97/200 [44:35<47:30, 27.68s/Epochs]"
     ]
    },
    {
     "name": "stdout",
     "output_type": "stream",
     "text": [
      "Epoch: 0096,\tTrain mse: 0.02369893,\tTrain_RMSE: 0.15385054,\tTrain_acc: 0.15384363,\tTest mse: 0.02287845,\tTime: 27.61852503s\n"
     ]
    },
    {
     "name": "stderr",
     "output_type": "stream",
     "text": [
      "Training:  49%|████▉     | 98/200 [45:02<46:57, 27.62s/Epochs]"
     ]
    },
    {
     "name": "stdout",
     "output_type": "stream",
     "text": [
      "Epoch: 0097,\tTrain mse: 0.02365211,\tTrain_RMSE: 0.15369932,\tTrain_acc: 0.15369257,\tTest mse: 0.02282157,\tTime: 27.48154068s\n"
     ]
    },
    {
     "name": "stderr",
     "output_type": "stream",
     "text": [
      "Training:  50%|████▉     | 99/200 [45:30<46:25, 27.58s/Epochs]"
     ]
    },
    {
     "name": "stdout",
     "output_type": "stream",
     "text": [
      "Epoch: 0098,\tTrain mse: 0.02359456,\tTrain_RMSE: 0.15351235,\tTrain_acc: 0.15350573,\tTest mse: 0.02285326,\tTime: 27.48584104s\n"
     ]
    },
    {
     "name": "stderr",
     "output_type": "stream",
     "text": [
      "Training:  50%|█████     | 100/200 [45:57<45:55, 27.55s/Epochs]"
     ]
    },
    {
     "name": "stdout",
     "output_type": "stream",
     "text": [
      "Epoch: 0099,\tTrain mse: 0.02353739,\tTrain_RMSE: 0.15332585,\tTrain_acc: 0.15331909,\tTest mse: 0.02275074,\tTime: 27.49280453s\n"
     ]
    },
    {
     "name": "stderr",
     "output_type": "stream",
     "text": [
      "Training:  50%|█████     | 101/200 [46:25<45:38, 27.66s/Epochs]"
     ]
    },
    {
     "name": "stdout",
     "output_type": "stream",
     "text": [
      "Epoch: 0100,\tTrain mse: 0.02348715,\tTrain_RMSE: 0.15316308,\tTrain_acc: 0.15315625,\tTest mse: 0.02272114,\tTime: 27.90898848s\n"
     ]
    },
    {
     "name": "stderr",
     "output_type": "stream",
     "text": [
      "Training:  51%|█████     | 102/200 [46:53<45:07, 27.63s/Epochs]"
     ]
    },
    {
     "name": "stdout",
     "output_type": "stream",
     "text": [
      "Epoch: 0101,\tTrain mse: 0.02344324,\tTrain_RMSE: 0.15301922,\tTrain_acc: 0.15301231,\tTest mse: 0.02264663,\tTime: 27.55052876s\n"
     ]
    },
    {
     "name": "stderr",
     "output_type": "stream",
     "text": [
      "Training:  52%|█████▏    | 103/200 [47:21<44:43, 27.66s/Epochs]"
     ]
    },
    {
     "name": "stdout",
     "output_type": "stream",
     "text": [
      "Epoch: 0102,\tTrain mse: 0.02337774,\tTrain_RMSE: 0.15280594,\tTrain_acc: 0.15279889,\tTest mse: 0.02256113,\tTime: 27.73888540s\n"
     ]
    },
    {
     "name": "stderr",
     "output_type": "stream",
     "text": [
      "Training:  52%|█████▏    | 104/200 [47:48<44:18, 27.70s/Epochs]"
     ]
    },
    {
     "name": "stdout",
     "output_type": "stream",
     "text": [
      "Epoch: 0103,\tTrain mse: 0.02333417,\tTrain_RMSE: 0.15266038,\tTrain_acc: 0.15265319,\tTest mse: 0.02249276,\tTime: 27.77928042s\n"
     ]
    },
    {
     "name": "stderr",
     "output_type": "stream",
     "text": [
      "Training:  52%|█████▎    | 105/200 [48:16<43:52, 27.71s/Epochs]"
     ]
    },
    {
     "name": "stdout",
     "output_type": "stream",
     "text": [
      "Epoch: 0104,\tTrain mse: 0.02326364,\tTrain_RMSE: 0.15242915,\tTrain_acc: 0.15242213,\tTest mse: 0.02240079,\tTime: 27.73076296s\n"
     ]
    },
    {
     "name": "stderr",
     "output_type": "stream",
     "text": [
      "Training:  53%|█████▎    | 106/200 [48:44<43:29, 27.76s/Epochs]"
     ]
    },
    {
     "name": "stdout",
     "output_type": "stream",
     "text": [
      "Epoch: 0105,\tTrain mse: 0.02318660,\tTrain_RMSE: 0.15217625,\tTrain_acc: 0.15216920,\tTest mse: 0.02232204,\tTime: 27.86914730s\n"
     ]
    },
    {
     "name": "stderr",
     "output_type": "stream",
     "text": [
      "Training:  54%|█████▎    | 107/200 [49:12<43:03, 27.77s/Epochs]"
     ]
    },
    {
     "name": "stdout",
     "output_type": "stream",
     "text": [
      "Epoch: 0106,\tTrain mse: 0.02314901,\tTrain_RMSE: 0.15205368,\tTrain_acc: 0.15204674,\tTest mse: 0.02227986,\tTime: 27.81314230s\n"
     ]
    },
    {
     "name": "stderr",
     "output_type": "stream",
     "text": [
      "Training:  54%|█████▍    | 108/200 [49:39<42:21, 27.63s/Epochs]"
     ]
    },
    {
     "name": "stdout",
     "output_type": "stream",
     "text": [
      "Epoch: 0107,\tTrain mse: 0.02304981,\tTrain_RMSE: 0.15172712,\tTrain_acc: 0.15172012,\tTest mse: 0.02219659,\tTime: 27.27563095s\n"
     ]
    },
    {
     "name": "stderr",
     "output_type": "stream",
     "text": [
      "Training:  55%|█████▍    | 109/200 [50:06<41:46, 27.55s/Epochs]"
     ]
    },
    {
     "name": "stdout",
     "output_type": "stream",
     "text": [
      "Epoch: 0108,\tTrain mse: 0.02297938,\tTrain_RMSE: 0.15149461,\tTrain_acc: 0.15148765,\tTest mse: 0.02213427,\tTime: 27.36965442s\n"
     ]
    },
    {
     "name": "stderr",
     "output_type": "stream",
     "text": [
      "Training:  55%|█████▌    | 110/200 [50:34<41:19, 27.55s/Epochs]"
     ]
    },
    {
     "name": "stdout",
     "output_type": "stream",
     "text": [
      "Epoch: 0109,\tTrain mse: 0.02291336,\tTrain_RMSE: 0.15127664,\tTrain_acc: 0.15126970,\tTest mse: 0.02207006,\tTime: 27.56276965s\n"
     ]
    },
    {
     "name": "stderr",
     "output_type": "stream",
     "text": [
      "Training:  56%|█████▌    | 111/200 [51:02<40:53, 27.57s/Epochs]"
     ]
    },
    {
     "name": "stdout",
     "output_type": "stream",
     "text": [
      "Epoch: 0110,\tTrain mse: 0.02284473,\tTrain_RMSE: 0.15104843,\tTrain_acc: 0.15104143,\tTest mse: 0.02197893,\tTime: 27.58979940s\n"
     ]
    },
    {
     "name": "stderr",
     "output_type": "stream",
     "text": [
      "Training:  56%|█████▌    | 112/200 [51:29<40:28, 27.60s/Epochs]"
     ]
    },
    {
     "name": "stdout",
     "output_type": "stream",
     "text": [
      "Epoch: 0111,\tTrain mse: 0.02277869,\tTrain_RMSE: 0.15082937,\tTrain_acc: 0.15082248,\tTest mse: 0.02190574,\tTime: 27.67300606s\n"
     ]
    },
    {
     "name": "stderr",
     "output_type": "stream",
     "text": [
      "Training:  56%|█████▋    | 113/200 [51:57<40:02, 27.62s/Epochs]"
     ]
    },
    {
     "name": "stdout",
     "output_type": "stream",
     "text": [
      "Epoch: 0112,\tTrain mse: 0.02269880,\tTrain_RMSE: 0.15056524,\tTrain_acc: 0.15055810,\tTest mse: 0.02187341,\tTime: 27.66757607s\n"
     ]
    },
    {
     "name": "stderr",
     "output_type": "stream",
     "text": [
      "Training:  57%|█████▋    | 114/200 [52:25<39:40, 27.68s/Epochs]"
     ]
    },
    {
     "name": "stdout",
     "output_type": "stream",
     "text": [
      "Epoch: 0113,\tTrain mse: 0.02263758,\tTrain_RMSE: 0.15036260,\tTrain_acc: 0.15035562,\tTest mse: 0.02179048,\tTime: 27.80308771s\n"
     ]
    },
    {
     "name": "stderr",
     "output_type": "stream",
     "text": [
      "Training:  57%|█████▊    | 115/200 [52:52<39:08, 27.63s/Epochs]"
     ]
    },
    {
     "name": "stdout",
     "output_type": "stream",
     "text": [
      "Epoch: 0114,\tTrain mse: 0.02257491,\tTrain_RMSE: 0.15015277,\tTrain_acc: 0.15014571,\tTest mse: 0.02171365,\tTime: 27.53416348s\n"
     ]
    },
    {
     "name": "stderr",
     "output_type": "stream",
     "text": [
      "Training:  58%|█████▊    | 116/200 [53:20<38:44, 27.68s/Epochs]"
     ]
    },
    {
     "name": "stdout",
     "output_type": "stream",
     "text": [
      "Epoch: 0115,\tTrain mse: 0.02251487,\tTrain_RMSE: 0.14995268,\tTrain_acc: 0.14994554,\tTest mse: 0.02163820,\tTime: 27.77109075s\n"
     ]
    },
    {
     "name": "stderr",
     "output_type": "stream",
     "text": [
      "Training:  58%|█████▊    | 117/200 [53:48<38:15, 27.65s/Epochs]"
     ]
    },
    {
     "name": "stdout",
     "output_type": "stream",
     "text": [
      "Epoch: 0116,\tTrain mse: 0.02247034,\tTrain_RMSE: 0.14980256,\tTrain_acc: 0.14979525,\tTest mse: 0.02156249,\tTime: 27.59170461s\n"
     ]
    },
    {
     "name": "stderr",
     "output_type": "stream",
     "text": [
      "Training:  59%|█████▉    | 118/200 [54:15<37:43, 27.61s/Epochs]"
     ]
    },
    {
     "name": "stdout",
     "output_type": "stream",
     "text": [
      "Epoch: 0117,\tTrain mse: 0.02241008,\tTrain_RMSE: 0.14960238,\tTrain_acc: 0.14959505,\tTest mse: 0.02152362,\tTime: 27.49996328s\n"
     ]
    },
    {
     "name": "stderr",
     "output_type": "stream",
     "text": [
      "Training:  60%|█████▉    | 119/200 [54:43<37:16, 27.61s/Epochs]"
     ]
    },
    {
     "name": "stdout",
     "output_type": "stream",
     "text": [
      "Epoch: 0118,\tTrain mse: 0.02235154,\tTrain_RMSE: 0.14940709,\tTrain_acc: 0.14939964,\tTest mse: 0.02149807,\tTime: 27.60568619s\n"
     ]
    },
    {
     "name": "stderr",
     "output_type": "stream",
     "text": [
      "Training:  60%|██████    | 120/200 [55:10<36:50, 27.64s/Epochs]"
     ]
    },
    {
     "name": "stdout",
     "output_type": "stream",
     "text": [
      "Epoch: 0119,\tTrain mse: 0.02227988,\tTrain_RMSE: 0.14916682,\tTrain_acc: 0.14915943,\tTest mse: 0.02142653,\tTime: 27.70158339s\n"
     ]
    },
    {
     "name": "stderr",
     "output_type": "stream",
     "text": [
      "Training:  60%|██████    | 121/200 [55:39<36:34, 27.78s/Epochs]"
     ]
    },
    {
     "name": "stdout",
     "output_type": "stream",
     "text": [
      "Epoch: 0120,\tTrain mse: 0.02220811,\tTrain_RMSE: 0.14892636,\tTrain_acc: 0.14891872,\tTest mse: 0.02135703,\tTime: 28.11012030s\n"
     ]
    },
    {
     "name": "stderr",
     "output_type": "stream",
     "text": [
      "Training:  61%|██████    | 122/200 [56:06<36:05, 27.76s/Epochs]"
     ]
    },
    {
     "name": "stdout",
     "output_type": "stream",
     "text": [
      "Epoch: 0121,\tTrain mse: 0.02213763,\tTrain_RMSE: 0.14868940,\tTrain_acc: 0.14868192,\tTest mse: 0.02128271,\tTime: 27.71654058s\n"
     ]
    },
    {
     "name": "stderr",
     "output_type": "stream",
     "text": [
      "Training:  62%|██████▏   | 123/200 [56:34<35:41, 27.82s/Epochs]"
     ]
    },
    {
     "name": "stdout",
     "output_type": "stream",
     "text": [
      "Epoch: 0122,\tTrain mse: 0.02208441,\tTrain_RMSE: 0.14851064,\tTrain_acc: 0.14850317,\tTest mse: 0.02122902,\tTime: 27.94757462s\n"
     ]
    },
    {
     "name": "stderr",
     "output_type": "stream",
     "text": [
      "Training:  62%|██████▏   | 124/200 [57:02<35:06, 27.72s/Epochs]"
     ]
    },
    {
     "name": "stdout",
     "output_type": "stream",
     "text": [
      "Epoch: 0123,\tTrain mse: 0.02202687,\tTrain_RMSE: 0.14831588,\tTrain_acc: 0.14830859,\tTest mse: 0.02120139,\tTime: 27.48571515s\n"
     ]
    },
    {
     "name": "stderr",
     "output_type": "stream",
     "text": [
      "Training:  62%|██████▎   | 125/200 [57:29<34:28, 27.59s/Epochs]"
     ]
    },
    {
     "name": "stdout",
     "output_type": "stream",
     "text": [
      "Epoch: 0124,\tTrain mse: 0.02195227,\tTrain_RMSE: 0.14806482,\tTrain_acc: 0.14805740,\tTest mse: 0.02114842,\tTime: 27.27196097s\n"
     ]
    },
    {
     "name": "stderr",
     "output_type": "stream",
     "text": [
      "Training:  63%|██████▎   | 126/200 [57:56<33:58, 27.54s/Epochs]"
     ]
    },
    {
     "name": "stdout",
     "output_type": "stream",
     "text": [
      "Epoch: 0125,\tTrain mse: 0.02188783,\tTrain_RMSE: 0.14784798,\tTrain_acc: 0.14784069,\tTest mse: 0.02108037,\tTime: 27.43748307s\n"
     ]
    },
    {
     "name": "stderr",
     "output_type": "stream",
     "text": [
      "Training:  64%|██████▎   | 127/200 [58:24<33:27, 27.50s/Epochs]"
     ]
    },
    {
     "name": "stdout",
     "output_type": "stream",
     "text": [
      "Epoch: 0126,\tTrain mse: 0.02185817,\tTrain_RMSE: 0.14774871,\tTrain_acc: 0.14774199,\tTest mse: 0.02100552,\tTime: 27.39074230s\n"
     ]
    },
    {
     "name": "stderr",
     "output_type": "stream",
     "text": [
      "Training:  64%|██████▍   | 128/200 [58:51<32:57, 27.47s/Epochs]"
     ]
    },
    {
     "name": "stdout",
     "output_type": "stream",
     "text": [
      "Epoch: 0127,\tTrain mse: 0.02181582,\tTrain_RMSE: 0.14760558,\tTrain_acc: 0.14759877,\tTest mse: 0.02088892,\tTime: 27.40509272s\n"
     ]
    },
    {
     "name": "stderr",
     "output_type": "stream",
     "text": [
      "Training:  64%|██████▍   | 129/200 [59:19<32:33, 27.51s/Epochs]"
     ]
    },
    {
     "name": "stdout",
     "output_type": "stream",
     "text": [
      "Epoch: 0128,\tTrain mse: 0.02176381,\tTrain_RMSE: 0.14742931,\tTrain_acc: 0.14742275,\tTest mse: 0.02080006,\tTime: 27.60599399s\n"
     ]
    },
    {
     "name": "stderr",
     "output_type": "stream",
     "text": [
      "Training:  65%|██████▌   | 130/200 [59:47<32:09, 27.56s/Epochs]"
     ]
    },
    {
     "name": "stdout",
     "output_type": "stream",
     "text": [
      "Epoch: 0129,\tTrain mse: 0.02167947,\tTrain_RMSE: 0.14714034,\tTrain_acc: 0.14713386,\tTest mse: 0.02070593,\tTime: 27.67256427s\n"
     ]
    },
    {
     "name": "stderr",
     "output_type": "stream",
     "text": [
      "Training:  66%|██████▌   | 131/200 [1:00:14<31:49, 27.68s/Epochs]"
     ]
    },
    {
     "name": "stdout",
     "output_type": "stream",
     "text": [
      "Epoch: 0130,\tTrain mse: 0.02161383,\tTrain_RMSE: 0.14691850,\tTrain_acc: 0.14691196,\tTest mse: 0.02064898,\tTime: 27.94340682s\n"
     ]
    },
    {
     "name": "stderr",
     "output_type": "stream",
     "text": [
      "Training:  66%|██████▌   | 132/200 [1:00:42<31:19, 27.63s/Epochs]"
     ]
    },
    {
     "name": "stdout",
     "output_type": "stream",
     "text": [
      "Epoch: 0131,\tTrain mse: 0.02153397,\tTrain_RMSE: 0.14664272,\tTrain_acc: 0.14663623,\tTest mse: 0.02056430,\tTime: 27.53010225s\n"
     ]
    },
    {
     "name": "stderr",
     "output_type": "stream",
     "text": [
      "Training:  66%|██████▋   | 133/200 [1:01:10<30:54, 27.69s/Epochs]"
     ]
    },
    {
     "name": "stdout",
     "output_type": "stream",
     "text": [
      "Epoch: 0132,\tTrain mse: 0.02148126,\tTrain_RMSE: 0.14646313,\tTrain_acc: 0.14645655,\tTest mse: 0.02049298,\tTime: 27.80665565s\n"
     ]
    },
    {
     "name": "stderr",
     "output_type": "stream",
     "text": [
      "Training:  67%|██████▋   | 134/200 [1:01:37<30:21, 27.59s/Epochs]"
     ]
    },
    {
     "name": "stdout",
     "output_type": "stream",
     "text": [
      "Epoch: 0133,\tTrain mse: 0.02140279,\tTrain_RMSE: 0.14619462,\tTrain_acc: 0.14618817,\tTest mse: 0.02043913,\tTime: 27.37481403s\n"
     ]
    },
    {
     "name": "stderr",
     "output_type": "stream",
     "text": [
      "Training:  68%|██████▊   | 135/200 [1:02:04<29:45, 27.47s/Epochs]"
     ]
    },
    {
     "name": "stdout",
     "output_type": "stream",
     "text": [
      "Epoch: 0134,\tTrain mse: 0.02134512,\tTrain_RMSE: 0.14599833,\tTrain_acc: 0.14599180,\tTest mse: 0.02035541,\tTime: 27.18598485s\n"
     ]
    },
    {
     "name": "stderr",
     "output_type": "stream",
     "text": [
      "Training:  68%|██████▊   | 136/200 [1:02:32<29:12, 27.38s/Epochs]"
     ]
    },
    {
     "name": "stdout",
     "output_type": "stream",
     "text": [
      "Epoch: 0135,\tTrain mse: 0.02127902,\tTrain_RMSE: 0.14577287,\tTrain_acc: 0.14576648,\tTest mse: 0.02030191,\tTime: 27.17877984s\n"
     ]
    },
    {
     "name": "stderr",
     "output_type": "stream",
     "text": [
      "Training:  68%|██████▊   | 137/200 [1:02:59<28:47, 27.42s/Epochs]"
     ]
    },
    {
     "name": "stdout",
     "output_type": "stream",
     "text": [
      "Epoch: 0136,\tTrain mse: 0.02123057,\tTrain_RMSE: 0.14560733,\tTrain_acc: 0.14560108,\tTest mse: 0.02028522,\tTime: 27.51150393s\n"
     ]
    },
    {
     "name": "stderr",
     "output_type": "stream",
     "text": [
      "Training:  69%|██████▉   | 138/200 [1:03:27<28:38, 27.72s/Epochs]"
     ]
    },
    {
     "name": "stdout",
     "output_type": "stream",
     "text": [
      "Epoch: 0137,\tTrain mse: 0.02117457,\tTrain_RMSE: 0.14541410,\tTrain_acc: 0.14540789,\tTest mse: 0.02023717,\tTime: 28.40565443s\n"
     ]
    },
    {
     "name": "stderr",
     "output_type": "stream",
     "text": [
      "Training:  70%|██████▉   | 139/200 [1:03:55<28:07, 27.66s/Epochs]"
     ]
    },
    {
     "name": "stdout",
     "output_type": "stream",
     "text": [
      "Epoch: 0138,\tTrain mse: 0.02111203,\tTrain_RMSE: 0.14519805,\tTrain_acc: 0.14519179,\tTest mse: 0.02020192,\tTime: 27.53249073s\n"
     ]
    },
    {
     "name": "stderr",
     "output_type": "stream",
     "text": [
      "Training:  70%|███████   | 140/200 [1:04:23<27:37, 27.63s/Epochs]"
     ]
    },
    {
     "name": "stdout",
     "output_type": "stream",
     "text": [
      "Epoch: 0139,\tTrain mse: 0.02105412,\tTrain_RMSE: 0.14499812,\tTrain_acc: 0.14499199,\tTest mse: 0.02017296,\tTime: 27.53700495s\n"
     ]
    },
    {
     "name": "stderr",
     "output_type": "stream",
     "text": [
      "Training:  70%|███████   | 141/200 [1:04:50<27:08, 27.61s/Epochs]"
     ]
    },
    {
     "name": "stdout",
     "output_type": "stream",
     "text": [
      "Epoch: 0140,\tTrain mse: 0.02101007,\tTrain_RMSE: 0.14484518,\tTrain_acc: 0.14483903,\tTest mse: 0.02013422,\tTime: 27.57018685s\n"
     ]
    },
    {
     "name": "stderr",
     "output_type": "stream",
     "text": [
      "Training:  71%|███████   | 142/200 [1:05:18<26:39, 27.57s/Epochs]"
     ]
    },
    {
     "name": "stdout",
     "output_type": "stream",
     "text": [
      "Epoch: 0141,\tTrain mse: 0.02094393,\tTrain_RMSE: 0.14461745,\tTrain_acc: 0.14461127,\tTest mse: 0.02006921,\tTime: 27.47491241s\n"
     ]
    },
    {
     "name": "stderr",
     "output_type": "stream",
     "text": [
      "Training:  72%|███████▏  | 143/200 [1:05:45<26:09, 27.53s/Epochs]"
     ]
    },
    {
     "name": "stdout",
     "output_type": "stream",
     "text": [
      "Epoch: 0142,\tTrain mse: 0.02089991,\tTrain_RMSE: 0.14446581,\tTrain_acc: 0.14445989,\tTest mse: 0.02002604,\tTime: 27.44222522s\n"
     ]
    },
    {
     "name": "stderr",
     "output_type": "stream",
     "text": [
      "Training:  72%|███████▏  | 144/200 [1:06:12<25:33, 27.38s/Epochs]"
     ]
    },
    {
     "name": "stdout",
     "output_type": "stream",
     "text": [
      "Epoch: 0143,\tTrain mse: 0.02084042,\tTrain_RMSE: 0.14425942,\tTrain_acc: 0.14425352,\tTest mse: 0.01996647,\tTime: 27.02731133s\n"
     ]
    },
    {
     "name": "stderr",
     "output_type": "stream",
     "text": [
      "Training:  72%|███████▎  | 145/200 [1:06:39<25:05, 27.37s/Epochs]"
     ]
    },
    {
     "name": "stdout",
     "output_type": "stream",
     "text": [
      "Epoch: 0144,\tTrain mse: 0.02078320,\tTrain_RMSE: 0.14405942,\tTrain_acc: 0.14405356,\tTest mse: 0.01993197,\tTime: 27.32857823s\n"
     ]
    },
    {
     "name": "stderr",
     "output_type": "stream",
     "text": [
      "Training:  73%|███████▎  | 146/200 [1:07:07<24:42, 27.46s/Epochs]"
     ]
    },
    {
     "name": "stdout",
     "output_type": "stream",
     "text": [
      "Epoch: 0145,\tTrain mse: 0.02073036,\tTrain_RMSE: 0.14387585,\tTrain_acc: 0.14387003,\tTest mse: 0.01983893,\tTime: 27.67397380s\n"
     ]
    },
    {
     "name": "stderr",
     "output_type": "stream",
     "text": [
      "Training:  74%|███████▎  | 147/200 [1:07:35<24:18, 27.51s/Epochs]"
     ]
    },
    {
     "name": "stdout",
     "output_type": "stream",
     "text": [
      "Epoch: 0146,\tTrain mse: 0.02065743,\tTrain_RMSE: 0.14362356,\tTrain_acc: 0.14361760,\tTest mse: 0.01971687,\tTime: 27.63773108s\n"
     ]
    },
    {
     "name": "stderr",
     "output_type": "stream",
     "text": [
      "Training:  74%|███████▍  | 148/200 [1:08:02<23:53, 27.56s/Epochs]"
     ]
    },
    {
     "name": "stdout",
     "output_type": "stream",
     "text": [
      "Epoch: 0147,\tTrain mse: 0.02060815,\tTrain_RMSE: 0.14345015,\tTrain_acc: 0.14344400,\tTest mse: 0.01965271,\tTime: 27.67266273s\n"
     ]
    },
    {
     "name": "stderr",
     "output_type": "stream",
     "text": [
      "Training:  74%|███████▍  | 149/200 [1:08:30<23:28, 27.62s/Epochs]"
     ]
    },
    {
     "name": "stdout",
     "output_type": "stream",
     "text": [
      "Epoch: 0148,\tTrain mse: 0.02055018,\tTrain_RMSE: 0.14324816,\tTrain_acc: 0.14324208,\tTest mse: 0.01960095,\tTime: 27.74986267s\n"
     ]
    },
    {
     "name": "stderr",
     "output_type": "stream",
     "text": [
      "Training:  75%|███████▌  | 150/200 [1:08:59<23:14, 27.90s/Epochs]"
     ]
    },
    {
     "name": "stdout",
     "output_type": "stream",
     "text": [
      "Epoch: 0149,\tTrain mse: 0.02052739,\tTrain_RMSE: 0.14317154,\tTrain_acc: 0.14316587,\tTest mse: 0.01952399,\tTime: 28.54461122s\n"
     ]
    },
    {
     "name": "stderr",
     "output_type": "stream",
     "text": [
      "Training:  76%|███████▌  | 151/200 [1:09:27<22:49, 27.96s/Epochs]"
     ]
    },
    {
     "name": "stdout",
     "output_type": "stream",
     "text": [
      "Epoch: 0150,\tTrain mse: 0.02047495,\tTrain_RMSE: 0.14298853,\tTrain_acc: 0.14298292,\tTest mse: 0.01950391,\tTime: 28.09558773s\n"
     ]
    },
    {
     "name": "stderr",
     "output_type": "stream",
     "text": [
      "Training:  76%|███████▌  | 152/200 [1:09:54<22:15, 27.82s/Epochs]"
     ]
    },
    {
     "name": "stdout",
     "output_type": "stream",
     "text": [
      "Epoch: 0151,\tTrain mse: 0.02043472,\tTrain_RMSE: 0.14284759,\tTrain_acc: 0.14284216,\tTest mse: 0.01944647,\tTime: 27.48201489s\n"
     ]
    },
    {
     "name": "stderr",
     "output_type": "stream",
     "text": [
      "Training:  76%|███████▋  | 153/200 [1:10:22<21:45, 27.77s/Epochs]"
     ]
    },
    {
     "name": "stdout",
     "output_type": "stream",
     "text": [
      "Epoch: 0152,\tTrain mse: 0.02039641,\tTrain_RMSE: 0.14271350,\tTrain_acc: 0.14270794,\tTest mse: 0.01940419,\tTime: 27.66862345s\n"
     ]
    },
    {
     "name": "stderr",
     "output_type": "stream",
     "text": [
      "Training:  77%|███████▋  | 154/200 [1:10:50<21:15, 27.73s/Epochs]"
     ]
    },
    {
     "name": "stdout",
     "output_type": "stream",
     "text": [
      "Epoch: 0153,\tTrain mse: 0.02032737,\tTrain_RMSE: 0.14247075,\tTrain_acc: 0.14246532,\tTest mse: 0.01935874,\tTime: 27.63865924s\n"
     ]
    },
    {
     "name": "stderr",
     "output_type": "stream",
     "text": [
      "Training:  78%|███████▊  | 155/200 [1:11:17<20:45, 27.68s/Epochs]"
     ]
    },
    {
     "name": "stdout",
     "output_type": "stream",
     "text": [
      "Epoch: 0154,\tTrain mse: 0.02026769,\tTrain_RMSE: 0.14226189,\tTrain_acc: 0.14225641,\tTest mse: 0.01929596,\tTime: 27.55261064s\n"
     ]
    },
    {
     "name": "stderr",
     "output_type": "stream",
     "text": [
      "Training:  78%|███████▊  | 156/200 [1:11:45<20:16, 27.66s/Epochs]"
     ]
    },
    {
     "name": "stdout",
     "output_type": "stream",
     "text": [
      "Epoch: 0155,\tTrain mse: 0.02020524,\tTrain_RMSE: 0.14203982,\tTrain_acc: 0.14203423,\tTest mse: 0.01933653,\tTime: 27.60797453s\n"
     ]
    },
    {
     "name": "stderr",
     "output_type": "stream",
     "text": [
      "Training:  78%|███████▊  | 157/200 [1:12:12<19:47, 27.61s/Epochs]"
     ]
    },
    {
     "name": "stdout",
     "output_type": "stream",
     "text": [
      "Epoch: 0156,\tTrain mse: 0.02017423,\tTrain_RMSE: 0.14193236,\tTrain_acc: 0.14192678,\tTest mse: 0.01927564,\tTime: 27.48330355s\n"
     ]
    },
    {
     "name": "stderr",
     "output_type": "stream",
     "text": [
      "Training:  79%|███████▉  | 158/200 [1:12:40<19:16, 27.53s/Epochs]"
     ]
    },
    {
     "name": "stdout",
     "output_type": "stream",
     "text": [
      "Epoch: 0157,\tTrain mse: 0.02011506,\tTrain_RMSE: 0.14172361,\tTrain_acc: 0.14171797,\tTest mse: 0.01921547,\tTime: 27.35191441s\n"
     ]
    },
    {
     "name": "stderr",
     "output_type": "stream",
     "text": [
      "Training:  80%|███████▉  | 159/200 [1:13:08<18:54, 27.67s/Epochs]"
     ]
    },
    {
     "name": "stdout",
     "output_type": "stream",
     "text": [
      "Epoch: 0158,\tTrain mse: 0.02005114,\tTrain_RMSE: 0.14149668,\tTrain_acc: 0.14149097,\tTest mse: 0.01919929,\tTime: 27.97829556s\n"
     ]
    },
    {
     "name": "stderr",
     "output_type": "stream",
     "text": [
      "Training:  80%|████████  | 160/200 [1:13:36<18:30, 27.77s/Epochs]"
     ]
    },
    {
     "name": "stdout",
     "output_type": "stream",
     "text": [
      "Epoch: 0159,\tTrain mse: 0.02000603,\tTrain_RMSE: 0.14133825,\tTrain_acc: 0.14133275,\tTest mse: 0.01911833,\tTime: 28.00588465s\n"
     ]
    },
    {
     "name": "stderr",
     "output_type": "stream",
     "text": [
      "Training:  80%|████████  | 161/200 [1:14:04<18:05, 27.83s/Epochs]"
     ]
    },
    {
     "name": "stdout",
     "output_type": "stream",
     "text": [
      "Epoch: 0160,\tTrain mse: 0.01993916,\tTrain_RMSE: 0.14110020,\tTrain_acc: 0.14109468,\tTest mse: 0.01908173,\tTime: 27.95533180s\n"
     ]
    },
    {
     "name": "stderr",
     "output_type": "stream",
     "text": [
      "Training:  81%|████████  | 162/200 [1:14:32<17:39, 27.88s/Epochs]"
     ]
    },
    {
     "name": "stdout",
     "output_type": "stream",
     "text": [
      "Epoch: 0161,\tTrain mse: 0.01987390,\tTrain_RMSE: 0.14086779,\tTrain_acc: 0.14086212,\tTest mse: 0.01902294,\tTime: 27.99273539s\n"
     ]
    },
    {
     "name": "stderr",
     "output_type": "stream",
     "text": [
      "Training:  82%|████████▏ | 163/200 [1:14:59<17:06, 27.73s/Epochs]"
     ]
    },
    {
     "name": "stdout",
     "output_type": "stream",
     "text": [
      "Epoch: 0162,\tTrain mse: 0.01984084,\tTrain_RMSE: 0.14075195,\tTrain_acc: 0.14074638,\tTest mse: 0.01896775,\tTime: 27.39637542s\n"
     ]
    },
    {
     "name": "stderr",
     "output_type": "stream",
     "text": [
      "Training:  82%|████████▏ | 164/200 [1:15:26<16:35, 27.66s/Epochs]"
     ]
    },
    {
     "name": "stdout",
     "output_type": "stream",
     "text": [
      "Epoch: 0163,\tTrain mse: 0.01979688,\tTrain_RMSE: 0.14059584,\tTrain_acc: 0.14059022,\tTest mse: 0.01891229,\tTime: 27.47786570s\n"
     ]
    },
    {
     "name": "stderr",
     "output_type": "stream",
     "text": [
      "Training:  82%|████████▎ | 165/200 [1:15:54<16:06, 27.60s/Epochs]"
     ]
    },
    {
     "name": "stdout",
     "output_type": "stream",
     "text": [
      "Epoch: 0164,\tTrain mse: 0.01972177,\tTrain_RMSE: 0.14032465,\tTrain_acc: 0.14031884,\tTest mse: 0.01887549,\tTime: 27.47219372s\n"
     ]
    },
    {
     "name": "stderr",
     "output_type": "stream",
     "text": [
      "Training:  83%|████████▎ | 166/200 [1:16:21<15:36, 27.55s/Epochs]"
     ]
    },
    {
     "name": "stdout",
     "output_type": "stream",
     "text": [
      "Epoch: 0165,\tTrain mse: 0.01967435,\tTrain_RMSE: 0.14015547,\tTrain_acc: 0.14015001,\tTest mse: 0.01882864,\tTime: 27.42074347s\n"
     ]
    },
    {
     "name": "stderr",
     "output_type": "stream",
     "text": [
      "Training:  84%|████████▎ | 167/200 [1:16:49<15:10, 27.60s/Epochs]"
     ]
    },
    {
     "name": "stdout",
     "output_type": "stream",
     "text": [
      "Epoch: 0166,\tTrain mse: 0.01962392,\tTrain_RMSE: 0.13997540,\tTrain_acc: 0.13996993,\tTest mse: 0.01877765,\tTime: 27.71049047s\n"
     ]
    },
    {
     "name": "stderr",
     "output_type": "stream",
     "text": [
      "Training:  84%|████████▍ | 168/200 [1:17:17<14:46, 27.71s/Epochs]"
     ]
    },
    {
     "name": "stdout",
     "output_type": "stream",
     "text": [
      "Epoch: 0167,\tTrain mse: 0.01958551,\tTrain_RMSE: 0.13984015,\tTrain_acc: 0.13983469,\tTest mse: 0.01873154,\tTime: 27.96005106s\n"
     ]
    },
    {
     "name": "stderr",
     "output_type": "stream",
     "text": [
      "Training:  84%|████████▍ | 169/200 [1:17:45<14:18, 27.71s/Epochs]"
     ]
    },
    {
     "name": "stdout",
     "output_type": "stream",
     "text": [
      "Epoch: 0168,\tTrain mse: 0.01954410,\tTrain_RMSE: 0.13969201,\tTrain_acc: 0.13968654,\tTest mse: 0.01869826,\tTime: 27.71256113s\n"
     ]
    },
    {
     "name": "stderr",
     "output_type": "stream",
     "text": [
      "Training:  85%|████████▌ | 170/200 [1:18:12<13:48, 27.60s/Epochs]"
     ]
    },
    {
     "name": "stdout",
     "output_type": "stream",
     "text": [
      "Epoch: 0169,\tTrain mse: 0.01950304,\tTrain_RMSE: 0.13954490,\tTrain_acc: 0.13953935,\tTest mse: 0.01866595,\tTime: 27.34722972s\n"
     ]
    },
    {
     "name": "stderr",
     "output_type": "stream",
     "text": [
      "Training:  86%|████████▌ | 171/200 [1:18:40<13:19, 27.57s/Epochs]"
     ]
    },
    {
     "name": "stdout",
     "output_type": "stream",
     "text": [
      "Epoch: 0170,\tTrain mse: 0.01946013,\tTrain_RMSE: 0.13939197,\tTrain_acc: 0.13938661,\tTest mse: 0.01864065,\tTime: 27.50915360s\n"
     ]
    },
    {
     "name": "stderr",
     "output_type": "stream",
     "text": [
      "Training:  86%|████████▌ | 172/200 [1:19:07<12:51, 27.55s/Epochs]"
     ]
    },
    {
     "name": "stdout",
     "output_type": "stream",
     "text": [
      "Epoch: 0171,\tTrain mse: 0.01939746,\tTrain_RMSE: 0.13916558,\tTrain_acc: 0.13916041,\tTest mse: 0.01862283,\tTime: 27.47994900s\n"
     ]
    },
    {
     "name": "stderr",
     "output_type": "stream",
     "text": [
      "Training:  86%|████████▋ | 173/200 [1:19:35<12:24, 27.57s/Epochs]"
     ]
    },
    {
     "name": "stdout",
     "output_type": "stream",
     "text": [
      "Epoch: 0172,\tTrain mse: 0.01935081,\tTrain_RMSE: 0.13899896,\tTrain_acc: 0.13899359,\tTest mse: 0.01856787,\tTime: 27.61059856s\n"
     ]
    },
    {
     "name": "stderr",
     "output_type": "stream",
     "text": [
      "Training:  87%|████████▋ | 174/200 [1:20:02<11:56, 27.54s/Epochs]"
     ]
    },
    {
     "name": "stdout",
     "output_type": "stream",
     "text": [
      "Epoch: 0173,\tTrain mse: 0.01930322,\tTrain_RMSE: 0.13882878,\tTrain_acc: 0.13882349,\tTest mse: 0.01851781,\tTime: 27.48565269s\n"
     ]
    },
    {
     "name": "stderr",
     "output_type": "stream",
     "text": [
      "Training:  88%|████████▊ | 175/200 [1:20:29<11:27, 27.48s/Epochs]"
     ]
    },
    {
     "name": "stdout",
     "output_type": "stream",
     "text": [
      "Epoch: 0174,\tTrain mse: 0.01924392,\tTrain_RMSE: 0.13861401,\tTrain_acc: 0.13860869,\tTest mse: 0.01846798,\tTime: 27.34437966s\n"
     ]
    },
    {
     "name": "stderr",
     "output_type": "stream",
     "text": [
      "Training:  88%|████████▊ | 176/200 [1:20:57<10:59, 27.49s/Epochs]"
     ]
    },
    {
     "name": "stdout",
     "output_type": "stream",
     "text": [
      "Epoch: 0175,\tTrain mse: 0.01919349,\tTrain_RMSE: 0.13843093,\tTrain_acc: 0.13842551,\tTest mse: 0.01842579,\tTime: 27.49288321s\n"
     ]
    },
    {
     "name": "stderr",
     "output_type": "stream",
     "text": [
      "Training:  88%|████████▊ | 177/200 [1:21:25<10:32, 27.51s/Epochs]"
     ]
    },
    {
     "name": "stdout",
     "output_type": "stream",
     "text": [
      "Epoch: 0176,\tTrain mse: 0.01914770,\tTrain_RMSE: 0.13826418,\tTrain_acc: 0.13825868,\tTest mse: 0.01837642,\tTime: 27.57059693s\n"
     ]
    },
    {
     "name": "stderr",
     "output_type": "stream",
     "text": [
      "Training:  89%|████████▉ | 178/200 [1:21:52<10:04, 27.46s/Epochs]"
     ]
    },
    {
     "name": "stdout",
     "output_type": "stream",
     "text": [
      "Epoch: 0177,\tTrain mse: 0.01908905,\tTrain_RMSE: 0.13805208,\tTrain_acc: 0.13804667,\tTest mse: 0.01827662,\tTime: 27.34016705s\n"
     ]
    },
    {
     "name": "stderr",
     "output_type": "stream",
     "text": [
      "Training:  90%|████████▉ | 179/200 [1:22:19<09:36, 27.45s/Epochs]"
     ]
    },
    {
     "name": "stdout",
     "output_type": "stream",
     "text": [
      "Epoch: 0178,\tTrain mse: 0.01900369,\tTrain_RMSE: 0.13774234,\tTrain_acc: 0.13773689,\tTest mse: 0.01817632,\tTime: 27.43641305s\n"
     ]
    },
    {
     "name": "stderr",
     "output_type": "stream",
     "text": [
      "Training:  90%|█████████ | 180/200 [1:22:47<09:08, 27.43s/Epochs]"
     ]
    },
    {
     "name": "stdout",
     "output_type": "stream",
     "text": [
      "Epoch: 0179,\tTrain mse: 0.01894211,\tTrain_RMSE: 0.13751823,\tTrain_acc: 0.13751274,\tTest mse: 0.01810705,\tTime: 27.36472058s\n"
     ]
    },
    {
     "name": "stderr",
     "output_type": "stream",
     "text": [
      "Training:  90%|█████████ | 181/200 [1:23:14<08:42, 27.51s/Epochs]"
     ]
    },
    {
     "name": "stdout",
     "output_type": "stream",
     "text": [
      "Epoch: 0180,\tTrain mse: 0.01889963,\tTrain_RMSE: 0.13736135,\tTrain_acc: 0.13735579,\tTest mse: 0.01806496,\tTime: 27.68652272s\n"
     ]
    },
    {
     "name": "stderr",
     "output_type": "stream",
     "text": [
      "Training:  91%|█████████ | 182/200 [1:23:42<08:15, 27.51s/Epochs]"
     ]
    },
    {
     "name": "stdout",
     "output_type": "stream",
     "text": [
      "Epoch: 0181,\tTrain mse: 0.01885526,\tTrain_RMSE: 0.13719598,\tTrain_acc: 0.13719021,\tTest mse: 0.01801196,\tTime: 27.52341986s\n"
     ]
    },
    {
     "name": "stderr",
     "output_type": "stream",
     "text": [
      "Training:  92%|█████████▏| 183/200 [1:24:09<07:47, 27.48s/Epochs]"
     ]
    },
    {
     "name": "stdout",
     "output_type": "stream",
     "text": [
      "Epoch: 0182,\tTrain mse: 0.01879531,\tTrain_RMSE: 0.13697702,\tTrain_acc: 0.13697103,\tTest mse: 0.01794296,\tTime: 27.41041017s\n"
     ]
    },
    {
     "name": "stderr",
     "output_type": "stream",
     "text": [
      "Training:  92%|█████████▏| 184/200 [1:24:37<07:19, 27.44s/Epochs]"
     ]
    },
    {
     "name": "stdout",
     "output_type": "stream",
     "text": [
      "Epoch: 0183,\tTrain mse: 0.01874529,\tTrain_RMSE: 0.13679438,\tTrain_acc: 0.13678800,\tTest mse: 0.01790879,\tTime: 27.34814787s\n"
     ]
    },
    {
     "name": "stderr",
     "output_type": "stream",
     "text": [
      "Training:  92%|█████████▎| 185/200 [1:25:04<06:51, 27.42s/Epochs]"
     ]
    },
    {
     "name": "stdout",
     "output_type": "stream",
     "text": [
      "Epoch: 0184,\tTrain mse: 0.01871667,\tTrain_RMSE: 0.13669169,\tTrain_acc: 0.13668557,\tTest mse: 0.01785469,\tTime: 27.36004877s\n"
     ]
    },
    {
     "name": "stderr",
     "output_type": "stream",
     "text": [
      "Training:  93%|█████████▎| 186/200 [1:25:31<06:22, 27.34s/Epochs]"
     ]
    },
    {
     "name": "stdout",
     "output_type": "stream",
     "text": [
      "Epoch: 0185,\tTrain mse: 0.01865264,\tTrain_RMSE: 0.13645720,\tTrain_acc: 0.13645117,\tTest mse: 0.01776981,\tTime: 27.14365435s\n"
     ]
    },
    {
     "name": "stderr",
     "output_type": "stream",
     "text": [
      "Training:  94%|█████████▎| 187/200 [1:25:59<05:56, 27.40s/Epochs]"
     ]
    },
    {
     "name": "stdout",
     "output_type": "stream",
     "text": [
      "Epoch: 0186,\tTrain mse: 0.01858732,\tTrain_RMSE: 0.13621426,\tTrain_acc: 0.13620816,\tTest mse: 0.01766349,\tTime: 27.54765868s\n"
     ]
    },
    {
     "name": "stderr",
     "output_type": "stream",
     "text": [
      "Training:  94%|█████████▍| 188/200 [1:26:27<05:30, 27.53s/Epochs]"
     ]
    },
    {
     "name": "stdout",
     "output_type": "stream",
     "text": [
      "Epoch: 0187,\tTrain mse: 0.01851616,\tTrain_RMSE: 0.13595388,\tTrain_acc: 0.13594757,\tTest mse: 0.01761398,\tTime: 27.84421539s\n"
     ]
    },
    {
     "name": "stderr",
     "output_type": "stream",
     "text": [
      "Training:  94%|█████████▍| 189/200 [1:26:54<05:03, 27.55s/Epochs]"
     ]
    },
    {
     "name": "stdout",
     "output_type": "stream",
     "text": [
      "Epoch: 0188,\tTrain mse: 0.01846400,\tTrain_RMSE: 0.13576402,\tTrain_acc: 0.13575780,\tTest mse: 0.01756040,\tTime: 27.58440733s\n"
     ]
    },
    {
     "name": "stderr",
     "output_type": "stream",
     "text": [
      "Training:  95%|█████████▌| 190/200 [1:27:22<04:36, 27.69s/Epochs]"
     ]
    },
    {
     "name": "stdout",
     "output_type": "stream",
     "text": [
      "Epoch: 0189,\tTrain mse: 0.01841555,\tTrain_RMSE: 0.13558747,\tTrain_acc: 0.13558120,\tTest mse: 0.01749652,\tTime: 28.01420522s\n"
     ]
    },
    {
     "name": "stderr",
     "output_type": "stream",
     "text": [
      "Training:  96%|█████████▌| 191/200 [1:27:50<04:09, 27.75s/Epochs]"
     ]
    },
    {
     "name": "stdout",
     "output_type": "stream",
     "text": [
      "Epoch: 0190,\tTrain mse: 0.01836693,\tTrain_RMSE: 0.13540728,\tTrain_acc: 0.13540110,\tTest mse: 0.01744336,\tTime: 27.88167810s\n"
     ]
    },
    {
     "name": "stderr",
     "output_type": "stream",
     "text": [
      "Training:  96%|█████████▌| 192/200 [1:28:18<03:42, 27.76s/Epochs]"
     ]
    },
    {
     "name": "stdout",
     "output_type": "stream",
     "text": [
      "Epoch: 0191,\tTrain mse: 0.01830852,\tTrain_RMSE: 0.13519170,\tTrain_acc: 0.13518529,\tTest mse: 0.01737570,\tTime: 27.78107715s\n"
     ]
    },
    {
     "name": "stderr",
     "output_type": "stream",
     "text": [
      "Training:  96%|█████████▋| 193/200 [1:28:45<03:13, 27.70s/Epochs]"
     ]
    },
    {
     "name": "stdout",
     "output_type": "stream",
     "text": [
      "Epoch: 0192,\tTrain mse: 0.01824658,\tTrain_RMSE: 0.13496020,\tTrain_acc: 0.13495360,\tTest mse: 0.01736483,\tTime: 27.57411242s\n"
     ]
    },
    {
     "name": "stderr",
     "output_type": "stream",
     "text": [
      "Training:  97%|█████████▋| 194/200 [1:29:13<02:46, 27.73s/Epochs]"
     ]
    },
    {
     "name": "stdout",
     "output_type": "stream",
     "text": [
      "Epoch: 0193,\tTrain mse: 0.01822169,\tTrain_RMSE: 0.13487113,\tTrain_acc: 0.13486481,\tTest mse: 0.01731044,\tTime: 27.80319524s\n"
     ]
    },
    {
     "name": "stderr",
     "output_type": "stream",
     "text": [
      "Training:  98%|█████████▊| 195/200 [1:29:41<02:18, 27.73s/Epochs]"
     ]
    },
    {
     "name": "stdout",
     "output_type": "stream",
     "text": [
      "Epoch: 0194,\tTrain mse: 0.01819158,\tTrain_RMSE: 0.13476152,\tTrain_acc: 0.13475509,\tTest mse: 0.01726650,\tTime: 27.70420837s\n"
     ]
    },
    {
     "name": "stderr",
     "output_type": "stream",
     "text": [
      "Training:  98%|█████████▊| 196/200 [1:30:09<01:50, 27.71s/Epochs]"
     ]
    },
    {
     "name": "stdout",
     "output_type": "stream",
     "text": [
      "Epoch: 0195,\tTrain mse: 0.01816337,\tTrain_RMSE: 0.13465557,\tTrain_acc: 0.13464901,\tTest mse: 0.01726173,\tTime: 27.65509105s\n"
     ]
    },
    {
     "name": "stderr",
     "output_type": "stream",
     "text": [
      "Training:  98%|█████████▊| 197/200 [1:30:36<01:23, 27.70s/Epochs]"
     ]
    },
    {
     "name": "stdout",
     "output_type": "stream",
     "text": [
      "Epoch: 0196,\tTrain mse: 0.01812459,\tTrain_RMSE: 0.13451258,\tTrain_acc: 0.13450615,\tTest mse: 0.01719070,\tTime: 27.68017817s\n"
     ]
    },
    {
     "name": "stderr",
     "output_type": "stream",
     "text": [
      "Training:  99%|█████████▉| 198/200 [1:31:04<00:55, 27.71s/Epochs]"
     ]
    },
    {
     "name": "stdout",
     "output_type": "stream",
     "text": [
      "Epoch: 0197,\tTrain mse: 0.01807757,\tTrain_RMSE: 0.13433833,\tTrain_acc: 0.13433176,\tTest mse: 0.01714086,\tTime: 27.73608804s\n"
     ]
    },
    {
     "name": "stderr",
     "output_type": "stream",
     "text": [
      "Training: 100%|█████████▉| 199/200 [1:31:32<00:27, 27.70s/Epochs]"
     ]
    },
    {
     "name": "stdout",
     "output_type": "stream",
     "text": [
      "Epoch: 0198,\tTrain mse: 0.01802524,\tTrain_RMSE: 0.13414378,\tTrain_acc: 0.13413727,\tTest mse: 0.01711315,\tTime: 27.67366052s\n"
     ]
    },
    {
     "name": "stderr",
     "output_type": "stream",
     "text": [
      "Training: 100%|██████████| 200/200 [1:32:00<00:00, 27.60s/Epochs]"
     ]
    },
    {
     "name": "stdout",
     "output_type": "stream",
     "text": [
      "Epoch: 0199,\tTrain mse: 0.01797058,\tTrain_RMSE: 0.13393583,\tTrain_acc: 0.13392925,\tTest mse: 0.01710614,\tTime: 27.95309401s\n",
      "Model.state_dict:\n",
      "node_encode.0.weight \t torch.Size([32, 2])\n",
      "node_encode.0.bias \t torch.Size([32])\n",
      "node_encode.1.weight \t torch.Size([32, 32])\n",
      "node_encode.1.bias \t torch.Size([32])\n",
      "node_encode.2.weight \t torch.Size([32, 32])\n",
      "node_encode.2.bias \t torch.Size([32])\n",
      "node_encode_norm.weight \t torch.Size([32])\n",
      "node_encode_norm.bias \t torch.Size([32])\n",
      "edge_encode.0.weight \t torch.Size([32, 3])\n",
      "edge_encode.0.bias \t torch.Size([32])\n",
      "edge_encode.1.weight \t torch.Size([32, 32])\n",
      "edge_encode.1.bias \t torch.Size([32])\n",
      "edge_encode.2.weight \t torch.Size([32, 32])\n",
      "edge_encode.2.bias \t torch.Size([32])\n",
      "edge_encode_norm.weight \t torch.Size([32])\n",
      "edge_encode_norm.bias \t torch.Size([32])\n",
      "down_mps.0.0.edge_down_mps.0.0.0.weight \t torch.Size([32, 96])\n",
      "down_mps.0.0.edge_down_mps.0.0.0.bias \t torch.Size([32])\n",
      "down_mps.0.0.edge_down_mps.0.0.1.weight \t torch.Size([32, 32])\n",
      "down_mps.0.0.edge_down_mps.0.0.1.bias \t torch.Size([32])\n",
      "down_mps.0.0.edge_down_mps.0.0.2.weight \t torch.Size([32, 32])\n",
      "down_mps.0.0.edge_down_mps.0.0.2.bias \t torch.Size([32])\n",
      "down_mps.0.0.edge_down_mps.0.1.0.weight \t torch.Size([32, 96])\n",
      "down_mps.0.0.edge_down_mps.0.1.0.bias \t torch.Size([32])\n",
      "down_mps.0.0.edge_down_mps.0.1.1.weight \t torch.Size([32, 32])\n",
      "down_mps.0.0.edge_down_mps.0.1.1.bias \t torch.Size([32])\n",
      "down_mps.0.0.edge_down_mps.0.1.2.weight \t torch.Size([32, 32])\n",
      "down_mps.0.0.edge_down_mps.0.1.2.bias \t torch.Size([32])\n",
      "down_mps.0.0.edge_down_mps.0.2.0.weight \t torch.Size([32, 96])\n",
      "down_mps.0.0.edge_down_mps.0.2.0.bias \t torch.Size([32])\n",
      "down_mps.0.0.edge_down_mps.0.2.1.weight \t torch.Size([32, 32])\n",
      "down_mps.0.0.edge_down_mps.0.2.1.bias \t torch.Size([32])\n",
      "down_mps.0.0.edge_down_mps.0.2.2.weight \t torch.Size([32, 32])\n",
      "down_mps.0.0.edge_down_mps.0.2.2.bias \t torch.Size([32])\n",
      "down_mps.0.0.edge_down_norms.0.0.weight \t torch.Size([32])\n",
      "down_mps.0.0.edge_down_norms.0.0.bias \t torch.Size([32])\n",
      "down_mps.0.0.edge_down_norms.0.1.weight \t torch.Size([32])\n",
      "down_mps.0.0.edge_down_norms.0.1.bias \t torch.Size([32])\n",
      "down_mps.0.0.edge_down_norms.0.2.weight \t torch.Size([32])\n",
      "down_mps.0.0.edge_down_norms.0.2.bias \t torch.Size([32])\n",
      "down_mps.0.0.node_down_mps.0.0.0.weight \t torch.Size([32, 64])\n",
      "down_mps.0.0.node_down_mps.0.0.0.bias \t torch.Size([32])\n",
      "down_mps.0.0.node_down_mps.0.0.1.weight \t torch.Size([32, 32])\n",
      "down_mps.0.0.node_down_mps.0.0.1.bias \t torch.Size([32])\n",
      "down_mps.0.0.node_down_mps.0.0.2.weight \t torch.Size([32, 32])\n",
      "down_mps.0.0.node_down_mps.0.0.2.bias \t torch.Size([32])\n",
      "down_mps.0.0.node_down_mps.0.1.0.weight \t torch.Size([32, 64])\n",
      "down_mps.0.0.node_down_mps.0.1.0.bias \t torch.Size([32])\n",
      "down_mps.0.0.node_down_mps.0.1.1.weight \t torch.Size([32, 32])\n",
      "down_mps.0.0.node_down_mps.0.1.1.bias \t torch.Size([32])\n",
      "down_mps.0.0.node_down_mps.0.1.2.weight \t torch.Size([32, 32])\n",
      "down_mps.0.0.node_down_mps.0.1.2.bias \t torch.Size([32])\n",
      "down_mps.0.0.node_down_mps.0.2.0.weight \t torch.Size([32, 64])\n",
      "down_mps.0.0.node_down_mps.0.2.0.bias \t torch.Size([32])\n"
     ]
    },
    {
     "name": "stderr",
     "output_type": "stream",
     "text": [
      "\n"
     ]
    },
    {
     "name": "stdout",
     "output_type": "stream",
     "text": [
      "down_mps.0.0.node_down_mps.0.2.1.weight \t torch.Size([32, 32])\n",
      "down_mps.0.0.node_down_mps.0.2.1.bias \t torch.Size([32])\n",
      "down_mps.0.0.node_down_mps.0.2.2.weight \t torch.Size([32, 32])\n",
      "down_mps.0.0.node_down_mps.0.2.2.bias \t torch.Size([32])\n",
      "down_mps.0.0.node_down_norms.0.0.weight \t torch.Size([32])\n",
      "down_mps.0.0.node_down_norms.0.0.bias \t torch.Size([32])\n",
      "down_mps.0.0.node_down_norms.0.1.weight \t torch.Size([32])\n",
      "down_mps.0.0.node_down_norms.0.1.bias \t torch.Size([32])\n",
      "down_mps.0.0.node_down_norms.0.2.weight \t torch.Size([32])\n",
      "down_mps.0.0.node_down_norms.0.2.bias \t torch.Size([32])\n",
      "down_mps.1.0.edge_down_mps.0.0.0.weight \t torch.Size([32, 96])\n",
      "down_mps.1.0.edge_down_mps.0.0.0.bias \t torch.Size([32])\n",
      "down_mps.1.0.edge_down_mps.0.0.1.weight \t torch.Size([32, 32])\n",
      "down_mps.1.0.edge_down_mps.0.0.1.bias \t torch.Size([32])\n",
      "down_mps.1.0.edge_down_mps.0.0.2.weight \t torch.Size([32, 32])\n",
      "down_mps.1.0.edge_down_mps.0.0.2.bias \t torch.Size([32])\n",
      "down_mps.1.0.edge_down_mps.0.1.0.weight \t torch.Size([32, 96])\n",
      "down_mps.1.0.edge_down_mps.0.1.0.bias \t torch.Size([32])\n",
      "down_mps.1.0.edge_down_mps.0.1.1.weight \t torch.Size([32, 32])\n",
      "down_mps.1.0.edge_down_mps.0.1.1.bias \t torch.Size([32])\n",
      "down_mps.1.0.edge_down_mps.0.1.2.weight \t torch.Size([32, 32])\n",
      "down_mps.1.0.edge_down_mps.0.1.2.bias \t torch.Size([32])\n",
      "down_mps.1.0.edge_down_mps.0.2.0.weight \t torch.Size([32, 96])\n",
      "down_mps.1.0.edge_down_mps.0.2.0.bias \t torch.Size([32])\n",
      "down_mps.1.0.edge_down_mps.0.2.1.weight \t torch.Size([32, 32])\n",
      "down_mps.1.0.edge_down_mps.0.2.1.bias \t torch.Size([32])\n",
      "down_mps.1.0.edge_down_mps.0.2.2.weight \t torch.Size([32, 32])\n",
      "down_mps.1.0.edge_down_mps.0.2.2.bias \t torch.Size([32])\n",
      "down_mps.1.0.edge_down_norms.0.0.weight \t torch.Size([32])\n",
      "down_mps.1.0.edge_down_norms.0.0.bias \t torch.Size([32])\n",
      "down_mps.1.0.edge_down_norms.0.1.weight \t torch.Size([32])\n",
      "down_mps.1.0.edge_down_norms.0.1.bias \t torch.Size([32])\n",
      "down_mps.1.0.edge_down_norms.0.2.weight \t torch.Size([32])\n",
      "down_mps.1.0.edge_down_norms.0.2.bias \t torch.Size([32])\n",
      "down_mps.1.0.node_down_mps.0.0.0.weight \t torch.Size([32, 64])\n",
      "down_mps.1.0.node_down_mps.0.0.0.bias \t torch.Size([32])\n",
      "down_mps.1.0.node_down_mps.0.0.1.weight \t torch.Size([32, 32])\n",
      "down_mps.1.0.node_down_mps.0.0.1.bias \t torch.Size([32])\n",
      "down_mps.1.0.node_down_mps.0.0.2.weight \t torch.Size([32, 32])\n",
      "down_mps.1.0.node_down_mps.0.0.2.bias \t torch.Size([32])\n",
      "down_mps.1.0.node_down_mps.0.1.0.weight \t torch.Size([32, 64])\n",
      "down_mps.1.0.node_down_mps.0.1.0.bias \t torch.Size([32])\n",
      "down_mps.1.0.node_down_mps.0.1.1.weight \t torch.Size([32, 32])\n",
      "down_mps.1.0.node_down_mps.0.1.1.bias \t torch.Size([32])\n",
      "down_mps.1.0.node_down_mps.0.1.2.weight \t torch.Size([32, 32])\n",
      "down_mps.1.0.node_down_mps.0.1.2.bias \t torch.Size([32])\n",
      "down_mps.1.0.node_down_mps.0.2.0.weight \t torch.Size([32, 64])\n",
      "down_mps.1.0.node_down_mps.0.2.0.bias \t torch.Size([32])\n",
      "down_mps.1.0.node_down_mps.0.2.1.weight \t torch.Size([32, 32])\n",
      "down_mps.1.0.node_down_mps.0.2.1.bias \t torch.Size([32])\n",
      "down_mps.1.0.node_down_mps.0.2.2.weight \t torch.Size([32, 32])\n",
      "down_mps.1.0.node_down_mps.0.2.2.bias \t torch.Size([32])\n",
      "down_mps.1.0.node_down_norms.0.0.weight \t torch.Size([32])\n",
      "down_mps.1.0.node_down_norms.0.0.bias \t torch.Size([32])\n",
      "down_mps.1.0.node_down_norms.0.1.weight \t torch.Size([32])\n",
      "down_mps.1.0.node_down_norms.0.1.bias \t torch.Size([32])\n",
      "down_mps.1.0.node_down_norms.0.2.weight \t torch.Size([32])\n",
      "down_mps.1.0.node_down_norms.0.2.bias \t torch.Size([32])\n",
      "down_mps.2.0.edge_down_mps.0.0.0.weight \t torch.Size([32, 96])\n",
      "down_mps.2.0.edge_down_mps.0.0.0.bias \t torch.Size([32])\n",
      "down_mps.2.0.edge_down_mps.0.0.1.weight \t torch.Size([32, 32])\n",
      "down_mps.2.0.edge_down_mps.0.0.1.bias \t torch.Size([32])\n",
      "down_mps.2.0.edge_down_mps.0.0.2.weight \t torch.Size([32, 32])\n",
      "down_mps.2.0.edge_down_mps.0.0.2.bias \t torch.Size([32])\n",
      "down_mps.2.0.edge_down_mps.0.1.0.weight \t torch.Size([32, 96])\n",
      "down_mps.2.0.edge_down_mps.0.1.0.bias \t torch.Size([32])\n",
      "down_mps.2.0.edge_down_mps.0.1.1.weight \t torch.Size([32, 32])\n",
      "down_mps.2.0.edge_down_mps.0.1.1.bias \t torch.Size([32])\n",
      "down_mps.2.0.edge_down_mps.0.1.2.weight \t torch.Size([32, 32])\n",
      "down_mps.2.0.edge_down_mps.0.1.2.bias \t torch.Size([32])\n",
      "down_mps.2.0.edge_down_mps.0.2.0.weight \t torch.Size([32, 96])\n",
      "down_mps.2.0.edge_down_mps.0.2.0.bias \t torch.Size([32])\n",
      "down_mps.2.0.edge_down_mps.0.2.1.weight \t torch.Size([32, 32])\n",
      "down_mps.2.0.edge_down_mps.0.2.1.bias \t torch.Size([32])\n",
      "down_mps.2.0.edge_down_mps.0.2.2.weight \t torch.Size([32, 32])\n",
      "down_mps.2.0.edge_down_mps.0.2.2.bias \t torch.Size([32])\n",
      "down_mps.2.0.edge_down_norms.0.0.weight \t torch.Size([32])\n",
      "down_mps.2.0.edge_down_norms.0.0.bias \t torch.Size([32])\n",
      "down_mps.2.0.edge_down_norms.0.1.weight \t torch.Size([32])\n",
      "down_mps.2.0.edge_down_norms.0.1.bias \t torch.Size([32])\n",
      "down_mps.2.0.edge_down_norms.0.2.weight \t torch.Size([32])\n",
      "down_mps.2.0.edge_down_norms.0.2.bias \t torch.Size([32])\n",
      "down_mps.2.0.node_down_mps.0.0.0.weight \t torch.Size([32, 64])\n",
      "down_mps.2.0.node_down_mps.0.0.0.bias \t torch.Size([32])\n",
      "down_mps.2.0.node_down_mps.0.0.1.weight \t torch.Size([32, 32])\n",
      "down_mps.2.0.node_down_mps.0.0.1.bias \t torch.Size([32])\n",
      "down_mps.2.0.node_down_mps.0.0.2.weight \t torch.Size([32, 32])\n",
      "down_mps.2.0.node_down_mps.0.0.2.bias \t torch.Size([32])\n",
      "down_mps.2.0.node_down_mps.0.1.0.weight \t torch.Size([32, 64])\n",
      "down_mps.2.0.node_down_mps.0.1.0.bias \t torch.Size([32])\n",
      "down_mps.2.0.node_down_mps.0.1.1.weight \t torch.Size([32, 32])\n",
      "down_mps.2.0.node_down_mps.0.1.1.bias \t torch.Size([32])\n",
      "down_mps.2.0.node_down_mps.0.1.2.weight \t torch.Size([32, 32])\n",
      "down_mps.2.0.node_down_mps.0.1.2.bias \t torch.Size([32])\n",
      "down_mps.2.0.node_down_mps.0.2.0.weight \t torch.Size([32, 64])\n",
      "down_mps.2.0.node_down_mps.0.2.0.bias \t torch.Size([32])\n",
      "down_mps.2.0.node_down_mps.0.2.1.weight \t torch.Size([32, 32])\n",
      "down_mps.2.0.node_down_mps.0.2.1.bias \t torch.Size([32])\n",
      "down_mps.2.0.node_down_mps.0.2.2.weight \t torch.Size([32, 32])\n",
      "down_mps.2.0.node_down_mps.0.2.2.bias \t torch.Size([32])\n",
      "down_mps.2.0.node_down_norms.0.0.weight \t torch.Size([32])\n",
      "down_mps.2.0.node_down_norms.0.0.bias \t torch.Size([32])\n",
      "down_mps.2.0.node_down_norms.0.1.weight \t torch.Size([32])\n",
      "down_mps.2.0.node_down_norms.0.1.bias \t torch.Size([32])\n",
      "down_mps.2.0.node_down_norms.0.2.weight \t torch.Size([32])\n",
      "down_mps.2.0.node_down_norms.0.2.bias \t torch.Size([32])\n",
      "down_mps.3.0.edge_down_mps.0.0.0.weight \t torch.Size([32, 96])\n",
      "down_mps.3.0.edge_down_mps.0.0.0.bias \t torch.Size([32])\n",
      "down_mps.3.0.edge_down_mps.0.0.1.weight \t torch.Size([32, 32])\n",
      "down_mps.3.0.edge_down_mps.0.0.1.bias \t torch.Size([32])\n",
      "down_mps.3.0.edge_down_mps.0.0.2.weight \t torch.Size([32, 32])\n",
      "down_mps.3.0.edge_down_mps.0.0.2.bias \t torch.Size([32])\n",
      "down_mps.3.0.edge_down_mps.0.1.0.weight \t torch.Size([32, 96])\n",
      "down_mps.3.0.edge_down_mps.0.1.0.bias \t torch.Size([32])\n",
      "down_mps.3.0.edge_down_mps.0.1.1.weight \t torch.Size([32, 32])\n",
      "down_mps.3.0.edge_down_mps.0.1.1.bias \t torch.Size([32])\n",
      "down_mps.3.0.edge_down_mps.0.1.2.weight \t torch.Size([32, 32])\n",
      "down_mps.3.0.edge_down_mps.0.1.2.bias \t torch.Size([32])\n",
      "down_mps.3.0.edge_down_mps.0.2.0.weight \t torch.Size([32, 96])\n",
      "down_mps.3.0.edge_down_mps.0.2.0.bias \t torch.Size([32])\n",
      "down_mps.3.0.edge_down_mps.0.2.1.weight \t torch.Size([32, 32])\n",
      "down_mps.3.0.edge_down_mps.0.2.1.bias \t torch.Size([32])\n",
      "down_mps.3.0.edge_down_mps.0.2.2.weight \t torch.Size([32, 32])\n",
      "down_mps.3.0.edge_down_mps.0.2.2.bias \t torch.Size([32])\n",
      "down_mps.3.0.edge_down_norms.0.0.weight \t torch.Size([32])\n",
      "down_mps.3.0.edge_down_norms.0.0.bias \t torch.Size([32])\n",
      "down_mps.3.0.edge_down_norms.0.1.weight \t torch.Size([32])\n",
      "down_mps.3.0.edge_down_norms.0.1.bias \t torch.Size([32])\n",
      "down_mps.3.0.edge_down_norms.0.2.weight \t torch.Size([32])\n",
      "down_mps.3.0.edge_down_norms.0.2.bias \t torch.Size([32])\n",
      "down_mps.3.0.node_down_mps.0.0.0.weight \t torch.Size([32, 64])\n",
      "down_mps.3.0.node_down_mps.0.0.0.bias \t torch.Size([32])\n",
      "down_mps.3.0.node_down_mps.0.0.1.weight \t torch.Size([32, 32])\n",
      "down_mps.3.0.node_down_mps.0.0.1.bias \t torch.Size([32])\n",
      "down_mps.3.0.node_down_mps.0.0.2.weight \t torch.Size([32, 32])\n",
      "down_mps.3.0.node_down_mps.0.0.2.bias \t torch.Size([32])\n",
      "down_mps.3.0.node_down_mps.0.1.0.weight \t torch.Size([32, 64])\n",
      "down_mps.3.0.node_down_mps.0.1.0.bias \t torch.Size([32])\n",
      "down_mps.3.0.node_down_mps.0.1.1.weight \t torch.Size([32, 32])\n",
      "down_mps.3.0.node_down_mps.0.1.1.bias \t torch.Size([32])\n",
      "down_mps.3.0.node_down_mps.0.1.2.weight \t torch.Size([32, 32])\n",
      "down_mps.3.0.node_down_mps.0.1.2.bias \t torch.Size([32])\n",
      "down_mps.3.0.node_down_mps.0.2.0.weight \t torch.Size([32, 64])\n",
      "down_mps.3.0.node_down_mps.0.2.0.bias \t torch.Size([32])\n",
      "down_mps.3.0.node_down_mps.0.2.1.weight \t torch.Size([32, 32])\n",
      "down_mps.3.0.node_down_mps.0.2.1.bias \t torch.Size([32])\n",
      "down_mps.3.0.node_down_mps.0.2.2.weight \t torch.Size([32, 32])\n",
      "down_mps.3.0.node_down_mps.0.2.2.bias \t torch.Size([32])\n",
      "down_mps.3.0.node_down_norms.0.0.weight \t torch.Size([32])\n",
      "down_mps.3.0.node_down_norms.0.0.bias \t torch.Size([32])\n",
      "down_mps.3.0.node_down_norms.0.1.weight \t torch.Size([32])\n",
      "down_mps.3.0.node_down_norms.0.1.bias \t torch.Size([32])\n",
      "down_mps.3.0.node_down_norms.0.2.weight \t torch.Size([32])\n",
      "down_mps.3.0.node_down_norms.0.2.bias \t torch.Size([32])\n",
      "pools.0.weight \t torch.Size([1, 32])\n",
      "pools.1.weight \t torch.Size([1, 32])\n",
      "pools.2.weight \t torch.Size([1, 32])\n",
      "up_mps.0.0.edge_down_mps.0.0.0.weight \t torch.Size([32, 96])\n",
      "up_mps.0.0.edge_down_mps.0.0.0.bias \t torch.Size([32])\n",
      "up_mps.0.0.edge_down_mps.0.0.1.weight \t torch.Size([32, 32])\n",
      "up_mps.0.0.edge_down_mps.0.0.1.bias \t torch.Size([32])\n",
      "up_mps.0.0.edge_down_mps.0.0.2.weight \t torch.Size([32, 32])\n",
      "up_mps.0.0.edge_down_mps.0.0.2.bias \t torch.Size([32])\n",
      "up_mps.0.0.edge_down_mps.0.1.0.weight \t torch.Size([32, 96])\n",
      "up_mps.0.0.edge_down_mps.0.1.0.bias \t torch.Size([32])\n",
      "up_mps.0.0.edge_down_mps.0.1.1.weight \t torch.Size([32, 32])\n",
      "up_mps.0.0.edge_down_mps.0.1.1.bias \t torch.Size([32])\n",
      "up_mps.0.0.edge_down_mps.0.1.2.weight \t torch.Size([32, 32])\n",
      "up_mps.0.0.edge_down_mps.0.1.2.bias \t torch.Size([32])\n",
      "up_mps.0.0.edge_down_mps.1.0.0.weight \t torch.Size([32, 96])\n",
      "up_mps.0.0.edge_down_mps.1.0.0.bias \t torch.Size([32])\n",
      "up_mps.0.0.edge_down_mps.1.0.1.weight \t torch.Size([32, 32])\n",
      "up_mps.0.0.edge_down_mps.1.0.1.bias \t torch.Size([32])\n",
      "up_mps.0.0.edge_down_mps.1.0.2.weight \t torch.Size([32, 32])\n",
      "up_mps.0.0.edge_down_mps.1.0.2.bias \t torch.Size([32])\n",
      "up_mps.0.0.edge_down_mps.2.0.0.weight \t torch.Size([32, 96])\n",
      "up_mps.0.0.edge_down_mps.2.0.0.bias \t torch.Size([32])\n",
      "up_mps.0.0.edge_down_mps.2.0.1.weight \t torch.Size([32, 32])\n",
      "up_mps.0.0.edge_down_mps.2.0.1.bias \t torch.Size([32])\n",
      "up_mps.0.0.edge_down_mps.2.0.2.weight \t torch.Size([32, 32])\n",
      "up_mps.0.0.edge_down_mps.2.0.2.bias \t torch.Size([32])\n",
      "up_mps.0.0.edge_down_norms.0.0.weight \t torch.Size([32])\n",
      "up_mps.0.0.edge_down_norms.0.0.bias \t torch.Size([32])\n",
      "up_mps.0.0.edge_down_norms.0.1.weight \t torch.Size([32])\n",
      "up_mps.0.0.edge_down_norms.0.1.bias \t torch.Size([32])\n",
      "up_mps.0.0.edge_down_norms.1.0.weight \t torch.Size([32])\n",
      "up_mps.0.0.edge_down_norms.1.0.bias \t torch.Size([32])\n",
      "up_mps.0.0.edge_down_norms.2.0.weight \t torch.Size([32])\n",
      "up_mps.0.0.edge_down_norms.2.0.bias \t torch.Size([32])\n",
      "up_mps.0.0.node_down_mps.0.0.0.weight \t torch.Size([32, 64])\n",
      "up_mps.0.0.node_down_mps.0.0.0.bias \t torch.Size([32])\n",
      "up_mps.0.0.node_down_mps.0.0.1.weight \t torch.Size([32, 32])\n",
      "up_mps.0.0.node_down_mps.0.0.1.bias \t torch.Size([32])\n",
      "up_mps.0.0.node_down_mps.0.0.2.weight \t torch.Size([32, 32])\n",
      "up_mps.0.0.node_down_mps.0.0.2.bias \t torch.Size([32])\n",
      "up_mps.0.0.node_down_mps.0.1.0.weight \t torch.Size([32, 64])\n",
      "up_mps.0.0.node_down_mps.0.1.0.bias \t torch.Size([32])\n",
      "up_mps.0.0.node_down_mps.0.1.1.weight \t torch.Size([32, 32])\n",
      "up_mps.0.0.node_down_mps.0.1.1.bias \t torch.Size([32])\n",
      "up_mps.0.0.node_down_mps.0.1.2.weight \t torch.Size([32, 32])\n",
      "up_mps.0.0.node_down_mps.0.1.2.bias \t torch.Size([32])\n",
      "up_mps.0.0.node_down_mps.1.0.0.weight \t torch.Size([32, 64])\n",
      "up_mps.0.0.node_down_mps.1.0.0.bias \t torch.Size([32])\n",
      "up_mps.0.0.node_down_mps.1.0.1.weight \t torch.Size([32, 32])\n",
      "up_mps.0.0.node_down_mps.1.0.1.bias \t torch.Size([32])\n",
      "up_mps.0.0.node_down_mps.1.0.2.weight \t torch.Size([32, 32])\n",
      "up_mps.0.0.node_down_mps.1.0.2.bias \t torch.Size([32])\n",
      "up_mps.0.0.node_down_mps.2.0.0.weight \t torch.Size([32, 64])\n",
      "up_mps.0.0.node_down_mps.2.0.0.bias \t torch.Size([32])\n",
      "up_mps.0.0.node_down_mps.2.0.1.weight \t torch.Size([32, 32])\n",
      "up_mps.0.0.node_down_mps.2.0.1.bias \t torch.Size([32])\n",
      "up_mps.0.0.node_down_mps.2.0.2.weight \t torch.Size([32, 32])\n",
      "up_mps.0.0.node_down_mps.2.0.2.bias \t torch.Size([32])\n",
      "up_mps.0.0.node_down_norms.0.0.weight \t torch.Size([32])\n",
      "up_mps.0.0.node_down_norms.0.0.bias \t torch.Size([32])\n",
      "up_mps.0.0.node_down_norms.0.1.weight \t torch.Size([32])\n",
      "up_mps.0.0.node_down_norms.0.1.bias \t torch.Size([32])\n",
      "up_mps.0.0.node_down_norms.1.0.weight \t torch.Size([32])\n",
      "up_mps.0.0.node_down_norms.1.0.bias \t torch.Size([32])\n",
      "up_mps.0.0.node_down_norms.2.0.weight \t torch.Size([32])\n",
      "up_mps.0.0.node_down_norms.2.0.bias \t torch.Size([32])\n",
      "up_mps.0.0.edge_up_mps.0.0.0.weight \t torch.Size([32, 96])\n",
      "up_mps.0.0.edge_up_mps.0.0.0.bias \t torch.Size([32])\n",
      "up_mps.0.0.edge_up_mps.0.0.1.weight \t torch.Size([32, 32])\n",
      "up_mps.0.0.edge_up_mps.0.0.1.bias \t torch.Size([32])\n",
      "up_mps.0.0.edge_up_mps.0.0.2.weight \t torch.Size([32, 32])\n",
      "up_mps.0.0.edge_up_mps.0.0.2.bias \t torch.Size([32])\n",
      "up_mps.0.0.edge_up_mps.1.0.0.weight \t torch.Size([32, 96])\n",
      "up_mps.0.0.edge_up_mps.1.0.0.bias \t torch.Size([32])\n",
      "up_mps.0.0.edge_up_mps.1.0.1.weight \t torch.Size([32, 32])\n",
      "up_mps.0.0.edge_up_mps.1.0.1.bias \t torch.Size([32])\n",
      "up_mps.0.0.edge_up_mps.1.0.2.weight \t torch.Size([32, 32])\n",
      "up_mps.0.0.edge_up_mps.1.0.2.bias \t torch.Size([32])\n",
      "up_mps.0.0.edge_up_mps.1.1.0.weight \t torch.Size([32, 96])\n",
      "up_mps.0.0.edge_up_mps.1.1.0.bias \t torch.Size([32])\n",
      "up_mps.0.0.edge_up_mps.1.1.1.weight \t torch.Size([32, 32])\n",
      "up_mps.0.0.edge_up_mps.1.1.1.bias \t torch.Size([32])\n",
      "up_mps.0.0.edge_up_mps.1.1.2.weight \t torch.Size([32, 32])\n",
      "up_mps.0.0.edge_up_mps.1.1.2.bias \t torch.Size([32])\n",
      "up_mps.0.0.edge_up_norms.0.0.weight \t torch.Size([32])\n",
      "up_mps.0.0.edge_up_norms.0.0.bias \t torch.Size([32])\n",
      "up_mps.0.0.edge_up_norms.1.0.weight \t torch.Size([32])\n",
      "up_mps.0.0.edge_up_norms.1.0.bias \t torch.Size([32])\n",
      "up_mps.0.0.edge_up_norms.1.1.weight \t torch.Size([32])\n",
      "up_mps.0.0.edge_up_norms.1.1.bias \t torch.Size([32])\n",
      "up_mps.0.0.node_up_mps.0.0.0.weight \t torch.Size([32, 64])\n",
      "up_mps.0.0.node_up_mps.0.0.0.bias \t torch.Size([32])\n",
      "up_mps.0.0.node_up_mps.0.0.1.weight \t torch.Size([32, 32])\n",
      "up_mps.0.0.node_up_mps.0.0.1.bias \t torch.Size([32])\n",
      "up_mps.0.0.node_up_mps.0.0.2.weight \t torch.Size([32, 32])\n",
      "up_mps.0.0.node_up_mps.0.0.2.bias \t torch.Size([32])\n",
      "up_mps.0.0.node_up_mps.1.0.0.weight \t torch.Size([32, 64])\n",
      "up_mps.0.0.node_up_mps.1.0.0.bias \t torch.Size([32])\n",
      "up_mps.0.0.node_up_mps.1.0.1.weight \t torch.Size([32, 32])\n",
      "up_mps.0.0.node_up_mps.1.0.1.bias \t torch.Size([32])\n",
      "up_mps.0.0.node_up_mps.1.0.2.weight \t torch.Size([32, 32])\n",
      "up_mps.0.0.node_up_mps.1.0.2.bias \t torch.Size([32])\n",
      "up_mps.0.0.node_up_mps.1.1.0.weight \t torch.Size([32, 64])\n",
      "up_mps.0.0.node_up_mps.1.1.0.bias \t torch.Size([32])\n",
      "up_mps.0.0.node_up_mps.1.1.1.weight \t torch.Size([32, 32])\n",
      "up_mps.0.0.node_up_mps.1.1.1.bias \t torch.Size([32])\n",
      "up_mps.0.0.node_up_mps.1.1.2.weight \t torch.Size([32, 32])\n",
      "up_mps.0.0.node_up_mps.1.1.2.bias \t torch.Size([32])\n",
      "up_mps.0.0.node_up_norms.0.0.weight \t torch.Size([32])\n",
      "up_mps.0.0.node_up_norms.0.0.bias \t torch.Size([32])\n",
      "up_mps.0.0.node_up_norms.1.0.weight \t torch.Size([32])\n",
      "up_mps.0.0.node_up_norms.1.0.bias \t torch.Size([32])\n",
      "up_mps.0.0.node_up_norms.1.1.weight \t torch.Size([32])\n",
      "up_mps.0.0.node_up_norms.1.1.bias \t torch.Size([32])\n",
      "up_mps.0.0.edge_encoder_f2c_mlp.0.weight \t torch.Size([32, 2])\n",
      "up_mps.0.0.edge_encoder_f2c_mlp.0.bias \t torch.Size([32])\n",
      "up_mps.0.0.edge_encoder_f2c_mlp.1.weight \t torch.Size([32, 32])\n",
      "up_mps.0.0.edge_encoder_f2c_mlp.1.bias \t torch.Size([32])\n",
      "up_mps.0.0.edge_encoder_f2c_mlp.2.weight \t torch.Size([32, 32])\n",
      "up_mps.0.0.edge_encoder_f2c_mlp.2.bias \t torch.Size([32])\n",
      "up_mps.0.0.downsample_mlp.0.weight \t torch.Size([32, 64])\n",
      "up_mps.0.0.downsample_mlp.0.bias \t torch.Size([32])\n",
      "up_mps.0.0.downsample_mlp.1.weight \t torch.Size([32, 32])\n",
      "up_mps.0.0.downsample_mlp.1.bias \t torch.Size([32])\n",
      "up_mps.0.0.downsample_mlp.2.weight \t torch.Size([32, 32])\n",
      "up_mps.0.0.downsample_mlp.2.bias \t torch.Size([32])\n",
      "up_mps.0.0.upsample_mlp.0.weight \t torch.Size([32, 96])\n",
      "up_mps.0.0.upsample_mlp.0.bias \t torch.Size([32])\n",
      "up_mps.0.0.upsample_mlp.1.weight \t torch.Size([32, 32])\n",
      "up_mps.0.0.upsample_mlp.1.bias \t torch.Size([32])\n",
      "up_mps.0.0.upsample_mlp.2.weight \t torch.Size([32, 32])\n",
      "up_mps.0.0.upsample_mlp.2.bias \t torch.Size([32])\n",
      "up_mps.0.0.downsample_norm.weight \t torch.Size([32])\n",
      "up_mps.0.0.downsample_norm.bias \t torch.Size([32])\n",
      "up_mps.0.0.upsample_norm.weight \t torch.Size([32])\n",
      "up_mps.0.0.upsample_norm.bias \t torch.Size([32])\n",
      "up_mps.1.0.edge_down_mps.0.0.0.weight \t torch.Size([32, 96])\n",
      "up_mps.1.0.edge_down_mps.0.0.0.bias \t torch.Size([32])\n",
      "up_mps.1.0.edge_down_mps.0.0.1.weight \t torch.Size([32, 32])\n",
      "up_mps.1.0.edge_down_mps.0.0.1.bias \t torch.Size([32])\n",
      "up_mps.1.0.edge_down_mps.0.0.2.weight \t torch.Size([32, 32])\n",
      "up_mps.1.0.edge_down_mps.0.0.2.bias \t torch.Size([32])\n",
      "up_mps.1.0.edge_down_mps.0.1.0.weight \t torch.Size([32, 96])\n",
      "up_mps.1.0.edge_down_mps.0.1.0.bias \t torch.Size([32])\n",
      "up_mps.1.0.edge_down_mps.0.1.1.weight \t torch.Size([32, 32])\n",
      "up_mps.1.0.edge_down_mps.0.1.1.bias \t torch.Size([32])\n",
      "up_mps.1.0.edge_down_mps.0.1.2.weight \t torch.Size([32, 32])\n",
      "up_mps.1.0.edge_down_mps.0.1.2.bias \t torch.Size([32])\n",
      "up_mps.1.0.edge_down_mps.1.0.0.weight \t torch.Size([32, 96])\n",
      "up_mps.1.0.edge_down_mps.1.0.0.bias \t torch.Size([32])\n",
      "up_mps.1.0.edge_down_mps.1.0.1.weight \t torch.Size([32, 32])\n",
      "up_mps.1.0.edge_down_mps.1.0.1.bias \t torch.Size([32])\n",
      "up_mps.1.0.edge_down_mps.1.0.2.weight \t torch.Size([32, 32])\n",
      "up_mps.1.0.edge_down_mps.1.0.2.bias \t torch.Size([32])\n",
      "up_mps.1.0.edge_down_mps.2.0.0.weight \t torch.Size([32, 96])\n",
      "up_mps.1.0.edge_down_mps.2.0.0.bias \t torch.Size([32])\n",
      "up_mps.1.0.edge_down_mps.2.0.1.weight \t torch.Size([32, 32])\n",
      "up_mps.1.0.edge_down_mps.2.0.1.bias \t torch.Size([32])\n",
      "up_mps.1.0.edge_down_mps.2.0.2.weight \t torch.Size([32, 32])\n",
      "up_mps.1.0.edge_down_mps.2.0.2.bias \t torch.Size([32])\n",
      "up_mps.1.0.edge_down_norms.0.0.weight \t torch.Size([32])\n",
      "up_mps.1.0.edge_down_norms.0.0.bias \t torch.Size([32])\n",
      "up_mps.1.0.edge_down_norms.0.1.weight \t torch.Size([32])\n",
      "up_mps.1.0.edge_down_norms.0.1.bias \t torch.Size([32])\n",
      "up_mps.1.0.edge_down_norms.1.0.weight \t torch.Size([32])\n",
      "up_mps.1.0.edge_down_norms.1.0.bias \t torch.Size([32])\n",
      "up_mps.1.0.edge_down_norms.2.0.weight \t torch.Size([32])\n",
      "up_mps.1.0.edge_down_norms.2.0.bias \t torch.Size([32])\n",
      "up_mps.1.0.node_down_mps.0.0.0.weight \t torch.Size([32, 64])\n",
      "up_mps.1.0.node_down_mps.0.0.0.bias \t torch.Size([32])\n",
      "up_mps.1.0.node_down_mps.0.0.1.weight \t torch.Size([32, 32])\n",
      "up_mps.1.0.node_down_mps.0.0.1.bias \t torch.Size([32])\n",
      "up_mps.1.0.node_down_mps.0.0.2.weight \t torch.Size([32, 32])\n",
      "up_mps.1.0.node_down_mps.0.0.2.bias \t torch.Size([32])\n",
      "up_mps.1.0.node_down_mps.0.1.0.weight \t torch.Size([32, 64])\n",
      "up_mps.1.0.node_down_mps.0.1.0.bias \t torch.Size([32])\n",
      "up_mps.1.0.node_down_mps.0.1.1.weight \t torch.Size([32, 32])\n",
      "up_mps.1.0.node_down_mps.0.1.1.bias \t torch.Size([32])\n",
      "up_mps.1.0.node_down_mps.0.1.2.weight \t torch.Size([32, 32])\n",
      "up_mps.1.0.node_down_mps.0.1.2.bias \t torch.Size([32])\n",
      "up_mps.1.0.node_down_mps.1.0.0.weight \t torch.Size([32, 64])\n",
      "up_mps.1.0.node_down_mps.1.0.0.bias \t torch.Size([32])\n",
      "up_mps.1.0.node_down_mps.1.0.1.weight \t torch.Size([32, 32])\n",
      "up_mps.1.0.node_down_mps.1.0.1.bias \t torch.Size([32])\n",
      "up_mps.1.0.node_down_mps.1.0.2.weight \t torch.Size([32, 32])\n",
      "up_mps.1.0.node_down_mps.1.0.2.bias \t torch.Size([32])\n",
      "up_mps.1.0.node_down_mps.2.0.0.weight \t torch.Size([32, 64])\n",
      "up_mps.1.0.node_down_mps.2.0.0.bias \t torch.Size([32])\n",
      "up_mps.1.0.node_down_mps.2.0.1.weight \t torch.Size([32, 32])\n",
      "up_mps.1.0.node_down_mps.2.0.1.bias \t torch.Size([32])\n",
      "up_mps.1.0.node_down_mps.2.0.2.weight \t torch.Size([32, 32])\n",
      "up_mps.1.0.node_down_mps.2.0.2.bias \t torch.Size([32])\n",
      "up_mps.1.0.node_down_norms.0.0.weight \t torch.Size([32])\n",
      "up_mps.1.0.node_down_norms.0.0.bias \t torch.Size([32])\n",
      "up_mps.1.0.node_down_norms.0.1.weight \t torch.Size([32])\n",
      "up_mps.1.0.node_down_norms.0.1.bias \t torch.Size([32])\n",
      "up_mps.1.0.node_down_norms.1.0.weight \t torch.Size([32])\n",
      "up_mps.1.0.node_down_norms.1.0.bias \t torch.Size([32])\n",
      "up_mps.1.0.node_down_norms.2.0.weight \t torch.Size([32])\n",
      "up_mps.1.0.node_down_norms.2.0.bias \t torch.Size([32])\n",
      "up_mps.1.0.edge_up_mps.0.0.0.weight \t torch.Size([32, 96])\n",
      "up_mps.1.0.edge_up_mps.0.0.0.bias \t torch.Size([32])\n",
      "up_mps.1.0.edge_up_mps.0.0.1.weight \t torch.Size([32, 32])\n",
      "up_mps.1.0.edge_up_mps.0.0.1.bias \t torch.Size([32])\n",
      "up_mps.1.0.edge_up_mps.0.0.2.weight \t torch.Size([32, 32])\n",
      "up_mps.1.0.edge_up_mps.0.0.2.bias \t torch.Size([32])\n",
      "up_mps.1.0.edge_up_mps.1.0.0.weight \t torch.Size([32, 96])\n",
      "up_mps.1.0.edge_up_mps.1.0.0.bias \t torch.Size([32])\n",
      "up_mps.1.0.edge_up_mps.1.0.1.weight \t torch.Size([32, 32])\n",
      "up_mps.1.0.edge_up_mps.1.0.1.bias \t torch.Size([32])\n",
      "up_mps.1.0.edge_up_mps.1.0.2.weight \t torch.Size([32, 32])\n",
      "up_mps.1.0.edge_up_mps.1.0.2.bias \t torch.Size([32])\n",
      "up_mps.1.0.edge_up_mps.1.1.0.weight \t torch.Size([32, 96])\n",
      "up_mps.1.0.edge_up_mps.1.1.0.bias \t torch.Size([32])\n",
      "up_mps.1.0.edge_up_mps.1.1.1.weight \t torch.Size([32, 32])\n",
      "up_mps.1.0.edge_up_mps.1.1.1.bias \t torch.Size([32])\n",
      "up_mps.1.0.edge_up_mps.1.1.2.weight \t torch.Size([32, 32])\n",
      "up_mps.1.0.edge_up_mps.1.1.2.bias \t torch.Size([32])\n",
      "up_mps.1.0.edge_up_norms.0.0.weight \t torch.Size([32])\n",
      "up_mps.1.0.edge_up_norms.0.0.bias \t torch.Size([32])\n",
      "up_mps.1.0.edge_up_norms.1.0.weight \t torch.Size([32])\n",
      "up_mps.1.0.edge_up_norms.1.0.bias \t torch.Size([32])\n",
      "up_mps.1.0.edge_up_norms.1.1.weight \t torch.Size([32])\n",
      "up_mps.1.0.edge_up_norms.1.1.bias \t torch.Size([32])\n",
      "up_mps.1.0.node_up_mps.0.0.0.weight \t torch.Size([32, 64])\n",
      "up_mps.1.0.node_up_mps.0.0.0.bias \t torch.Size([32])\n",
      "up_mps.1.0.node_up_mps.0.0.1.weight \t torch.Size([32, 32])\n",
      "up_mps.1.0.node_up_mps.0.0.1.bias \t torch.Size([32])\n",
      "up_mps.1.0.node_up_mps.0.0.2.weight \t torch.Size([32, 32])\n",
      "up_mps.1.0.node_up_mps.0.0.2.bias \t torch.Size([32])\n",
      "up_mps.1.0.node_up_mps.1.0.0.weight \t torch.Size([32, 64])\n",
      "up_mps.1.0.node_up_mps.1.0.0.bias \t torch.Size([32])\n",
      "up_mps.1.0.node_up_mps.1.0.1.weight \t torch.Size([32, 32])\n",
      "up_mps.1.0.node_up_mps.1.0.1.bias \t torch.Size([32])\n",
      "up_mps.1.0.node_up_mps.1.0.2.weight \t torch.Size([32, 32])\n",
      "up_mps.1.0.node_up_mps.1.0.2.bias \t torch.Size([32])\n",
      "up_mps.1.0.node_up_mps.1.1.0.weight \t torch.Size([32, 64])\n",
      "up_mps.1.0.node_up_mps.1.1.0.bias \t torch.Size([32])\n",
      "up_mps.1.0.node_up_mps.1.1.1.weight \t torch.Size([32, 32])\n",
      "up_mps.1.0.node_up_mps.1.1.1.bias \t torch.Size([32])\n",
      "up_mps.1.0.node_up_mps.1.1.2.weight \t torch.Size([32, 32])\n",
      "up_mps.1.0.node_up_mps.1.1.2.bias \t torch.Size([32])\n",
      "up_mps.1.0.node_up_norms.0.0.weight \t torch.Size([32])\n",
      "up_mps.1.0.node_up_norms.0.0.bias \t torch.Size([32])\n",
      "up_mps.1.0.node_up_norms.1.0.weight \t torch.Size([32])\n",
      "up_mps.1.0.node_up_norms.1.0.bias \t torch.Size([32])\n",
      "up_mps.1.0.node_up_norms.1.1.weight \t torch.Size([32])\n",
      "up_mps.1.0.node_up_norms.1.1.bias \t torch.Size([32])\n",
      "up_mps.1.0.edge_encoder_f2c_mlp.0.weight \t torch.Size([32, 2])\n",
      "up_mps.1.0.edge_encoder_f2c_mlp.0.bias \t torch.Size([32])\n",
      "up_mps.1.0.edge_encoder_f2c_mlp.1.weight \t torch.Size([32, 32])\n",
      "up_mps.1.0.edge_encoder_f2c_mlp.1.bias \t torch.Size([32])\n",
      "up_mps.1.0.edge_encoder_f2c_mlp.2.weight \t torch.Size([32, 32])\n",
      "up_mps.1.0.edge_encoder_f2c_mlp.2.bias \t torch.Size([32])\n",
      "up_mps.1.0.downsample_mlp.0.weight \t torch.Size([32, 64])\n",
      "up_mps.1.0.downsample_mlp.0.bias \t torch.Size([32])\n",
      "up_mps.1.0.downsample_mlp.1.weight \t torch.Size([32, 32])\n",
      "up_mps.1.0.downsample_mlp.1.bias \t torch.Size([32])\n",
      "up_mps.1.0.downsample_mlp.2.weight \t torch.Size([32, 32])\n",
      "up_mps.1.0.downsample_mlp.2.bias \t torch.Size([32])\n",
      "up_mps.1.0.upsample_mlp.0.weight \t torch.Size([32, 96])\n",
      "up_mps.1.0.upsample_mlp.0.bias \t torch.Size([32])\n",
      "up_mps.1.0.upsample_mlp.1.weight \t torch.Size([32, 32])\n",
      "up_mps.1.0.upsample_mlp.1.bias \t torch.Size([32])\n",
      "up_mps.1.0.upsample_mlp.2.weight \t torch.Size([32, 32])\n",
      "up_mps.1.0.upsample_mlp.2.bias \t torch.Size([32])\n",
      "up_mps.1.0.downsample_norm.weight \t torch.Size([32])\n",
      "up_mps.1.0.downsample_norm.bias \t torch.Size([32])\n",
      "up_mps.1.0.upsample_norm.weight \t torch.Size([32])\n",
      "up_mps.1.0.upsample_norm.bias \t torch.Size([32])\n",
      "up_mps.2.0.edge_down_mps.0.0.0.weight \t torch.Size([32, 96])\n",
      "up_mps.2.0.edge_down_mps.0.0.0.bias \t torch.Size([32])\n",
      "up_mps.2.0.edge_down_mps.0.0.1.weight \t torch.Size([32, 32])\n",
      "up_mps.2.0.edge_down_mps.0.0.1.bias \t torch.Size([32])\n",
      "up_mps.2.0.edge_down_mps.0.0.2.weight \t torch.Size([32, 32])\n",
      "up_mps.2.0.edge_down_mps.0.0.2.bias \t torch.Size([32])\n",
      "up_mps.2.0.edge_down_mps.0.1.0.weight \t torch.Size([32, 96])\n",
      "up_mps.2.0.edge_down_mps.0.1.0.bias \t torch.Size([32])\n",
      "up_mps.2.0.edge_down_mps.0.1.1.weight \t torch.Size([32, 32])\n",
      "up_mps.2.0.edge_down_mps.0.1.1.bias \t torch.Size([32])\n",
      "up_mps.2.0.edge_down_mps.0.1.2.weight \t torch.Size([32, 32])\n",
      "up_mps.2.0.edge_down_mps.0.1.2.bias \t torch.Size([32])\n",
      "up_mps.2.0.edge_down_mps.1.0.0.weight \t torch.Size([32, 96])\n",
      "up_mps.2.0.edge_down_mps.1.0.0.bias \t torch.Size([32])\n",
      "up_mps.2.0.edge_down_mps.1.0.1.weight \t torch.Size([32, 32])\n",
      "up_mps.2.0.edge_down_mps.1.0.1.bias \t torch.Size([32])\n",
      "up_mps.2.0.edge_down_mps.1.0.2.weight \t torch.Size([32, 32])\n",
      "up_mps.2.0.edge_down_mps.1.0.2.bias \t torch.Size([32])\n",
      "up_mps.2.0.edge_down_mps.2.0.0.weight \t torch.Size([32, 96])\n",
      "up_mps.2.0.edge_down_mps.2.0.0.bias \t torch.Size([32])\n",
      "up_mps.2.0.edge_down_mps.2.0.1.weight \t torch.Size([32, 32])\n",
      "up_mps.2.0.edge_down_mps.2.0.1.bias \t torch.Size([32])\n",
      "up_mps.2.0.edge_down_mps.2.0.2.weight \t torch.Size([32, 32])\n",
      "up_mps.2.0.edge_down_mps.2.0.2.bias \t torch.Size([32])\n",
      "up_mps.2.0.edge_down_norms.0.0.weight \t torch.Size([32])\n",
      "up_mps.2.0.edge_down_norms.0.0.bias \t torch.Size([32])\n",
      "up_mps.2.0.edge_down_norms.0.1.weight \t torch.Size([32])\n",
      "up_mps.2.0.edge_down_norms.0.1.bias \t torch.Size([32])\n",
      "up_mps.2.0.edge_down_norms.1.0.weight \t torch.Size([32])\n",
      "up_mps.2.0.edge_down_norms.1.0.bias \t torch.Size([32])\n",
      "up_mps.2.0.edge_down_norms.2.0.weight \t torch.Size([32])\n",
      "up_mps.2.0.edge_down_norms.2.0.bias \t torch.Size([32])\n",
      "up_mps.2.0.node_down_mps.0.0.0.weight \t torch.Size([32, 64])\n",
      "up_mps.2.0.node_down_mps.0.0.0.bias \t torch.Size([32])\n",
      "up_mps.2.0.node_down_mps.0.0.1.weight \t torch.Size([32, 32])\n",
      "up_mps.2.0.node_down_mps.0.0.1.bias \t torch.Size([32])\n",
      "up_mps.2.0.node_down_mps.0.0.2.weight \t torch.Size([32, 32])\n",
      "up_mps.2.0.node_down_mps.0.0.2.bias \t torch.Size([32])\n",
      "up_mps.2.0.node_down_mps.0.1.0.weight \t torch.Size([32, 64])\n",
      "up_mps.2.0.node_down_mps.0.1.0.bias \t torch.Size([32])\n",
      "up_mps.2.0.node_down_mps.0.1.1.weight \t torch.Size([32, 32])\n",
      "up_mps.2.0.node_down_mps.0.1.1.bias \t torch.Size([32])\n",
      "up_mps.2.0.node_down_mps.0.1.2.weight \t torch.Size([32, 32])\n",
      "up_mps.2.0.node_down_mps.0.1.2.bias \t torch.Size([32])\n",
      "up_mps.2.0.node_down_mps.1.0.0.weight \t torch.Size([32, 64])\n",
      "up_mps.2.0.node_down_mps.1.0.0.bias \t torch.Size([32])\n",
      "up_mps.2.0.node_down_mps.1.0.1.weight \t torch.Size([32, 32])\n",
      "up_mps.2.0.node_down_mps.1.0.1.bias \t torch.Size([32])\n",
      "up_mps.2.0.node_down_mps.1.0.2.weight \t torch.Size([32, 32])\n",
      "up_mps.2.0.node_down_mps.1.0.2.bias \t torch.Size([32])\n",
      "up_mps.2.0.node_down_mps.2.0.0.weight \t torch.Size([32, 64])\n",
      "up_mps.2.0.node_down_mps.2.0.0.bias \t torch.Size([32])\n",
      "up_mps.2.0.node_down_mps.2.0.1.weight \t torch.Size([32, 32])\n",
      "up_mps.2.0.node_down_mps.2.0.1.bias \t torch.Size([32])\n",
      "up_mps.2.0.node_down_mps.2.0.2.weight \t torch.Size([32, 32])\n",
      "up_mps.2.0.node_down_mps.2.0.2.bias \t torch.Size([32])\n",
      "up_mps.2.0.node_down_norms.0.0.weight \t torch.Size([32])\n",
      "up_mps.2.0.node_down_norms.0.0.bias \t torch.Size([32])\n",
      "up_mps.2.0.node_down_norms.0.1.weight \t torch.Size([32])\n",
      "up_mps.2.0.node_down_norms.0.1.bias \t torch.Size([32])\n",
      "up_mps.2.0.node_down_norms.1.0.weight \t torch.Size([32])\n",
      "up_mps.2.0.node_down_norms.1.0.bias \t torch.Size([32])\n",
      "up_mps.2.0.node_down_norms.2.0.weight \t torch.Size([32])\n",
      "up_mps.2.0.node_down_norms.2.0.bias \t torch.Size([32])\n",
      "up_mps.2.0.edge_up_mps.0.0.0.weight \t torch.Size([32, 96])\n",
      "up_mps.2.0.edge_up_mps.0.0.0.bias \t torch.Size([32])\n",
      "up_mps.2.0.edge_up_mps.0.0.1.weight \t torch.Size([32, 32])\n",
      "up_mps.2.0.edge_up_mps.0.0.1.bias \t torch.Size([32])\n",
      "up_mps.2.0.edge_up_mps.0.0.2.weight \t torch.Size([32, 32])\n",
      "up_mps.2.0.edge_up_mps.0.0.2.bias \t torch.Size([32])\n",
      "up_mps.2.0.edge_up_mps.1.0.0.weight \t torch.Size([32, 96])\n",
      "up_mps.2.0.edge_up_mps.1.0.0.bias \t torch.Size([32])\n",
      "up_mps.2.0.edge_up_mps.1.0.1.weight \t torch.Size([32, 32])\n",
      "up_mps.2.0.edge_up_mps.1.0.1.bias \t torch.Size([32])\n",
      "up_mps.2.0.edge_up_mps.1.0.2.weight \t torch.Size([32, 32])\n",
      "up_mps.2.0.edge_up_mps.1.0.2.bias \t torch.Size([32])\n",
      "up_mps.2.0.edge_up_mps.1.1.0.weight \t torch.Size([32, 96])\n",
      "up_mps.2.0.edge_up_mps.1.1.0.bias \t torch.Size([32])\n",
      "up_mps.2.0.edge_up_mps.1.1.1.weight \t torch.Size([32, 32])\n",
      "up_mps.2.0.edge_up_mps.1.1.1.bias \t torch.Size([32])\n",
      "up_mps.2.0.edge_up_mps.1.1.2.weight \t torch.Size([32, 32])\n",
      "up_mps.2.0.edge_up_mps.1.1.2.bias \t torch.Size([32])\n",
      "up_mps.2.0.edge_up_norms.0.0.weight \t torch.Size([32])\n",
      "up_mps.2.0.edge_up_norms.0.0.bias \t torch.Size([32])\n",
      "up_mps.2.0.edge_up_norms.1.0.weight \t torch.Size([32])\n",
      "up_mps.2.0.edge_up_norms.1.0.bias \t torch.Size([32])\n",
      "up_mps.2.0.edge_up_norms.1.1.weight \t torch.Size([32])\n",
      "up_mps.2.0.edge_up_norms.1.1.bias \t torch.Size([32])\n",
      "up_mps.2.0.node_up_mps.0.0.0.weight \t torch.Size([32, 64])\n",
      "up_mps.2.0.node_up_mps.0.0.0.bias \t torch.Size([32])\n",
      "up_mps.2.0.node_up_mps.0.0.1.weight \t torch.Size([32, 32])\n",
      "up_mps.2.0.node_up_mps.0.0.1.bias \t torch.Size([32])\n",
      "up_mps.2.0.node_up_mps.0.0.2.weight \t torch.Size([32, 32])\n",
      "up_mps.2.0.node_up_mps.0.0.2.bias \t torch.Size([32])\n",
      "up_mps.2.0.node_up_mps.1.0.0.weight \t torch.Size([32, 64])\n",
      "up_mps.2.0.node_up_mps.1.0.0.bias \t torch.Size([32])\n",
      "up_mps.2.0.node_up_mps.1.0.1.weight \t torch.Size([32, 32])\n",
      "up_mps.2.0.node_up_mps.1.0.1.bias \t torch.Size([32])\n",
      "up_mps.2.0.node_up_mps.1.0.2.weight \t torch.Size([32, 32])\n",
      "up_mps.2.0.node_up_mps.1.0.2.bias \t torch.Size([32])\n",
      "up_mps.2.0.node_up_mps.1.1.0.weight \t torch.Size([32, 64])\n",
      "up_mps.2.0.node_up_mps.1.1.0.bias \t torch.Size([32])\n",
      "up_mps.2.0.node_up_mps.1.1.1.weight \t torch.Size([32, 32])\n",
      "up_mps.2.0.node_up_mps.1.1.1.bias \t torch.Size([32])\n",
      "up_mps.2.0.node_up_mps.1.1.2.weight \t torch.Size([32, 32])\n",
      "up_mps.2.0.node_up_mps.1.1.2.bias \t torch.Size([32])\n",
      "up_mps.2.0.node_up_norms.0.0.weight \t torch.Size([32])\n",
      "up_mps.2.0.node_up_norms.0.0.bias \t torch.Size([32])\n",
      "up_mps.2.0.node_up_norms.1.0.weight \t torch.Size([32])\n",
      "up_mps.2.0.node_up_norms.1.0.bias \t torch.Size([32])\n",
      "up_mps.2.0.node_up_norms.1.1.weight \t torch.Size([32])\n",
      "up_mps.2.0.node_up_norms.1.1.bias \t torch.Size([32])\n",
      "up_mps.2.0.edge_encoder_f2c_mlp.0.weight \t torch.Size([32, 2])\n",
      "up_mps.2.0.edge_encoder_f2c_mlp.0.bias \t torch.Size([32])\n",
      "up_mps.2.0.edge_encoder_f2c_mlp.1.weight \t torch.Size([32, 32])\n",
      "up_mps.2.0.edge_encoder_f2c_mlp.1.bias \t torch.Size([32])\n",
      "up_mps.2.0.edge_encoder_f2c_mlp.2.weight \t torch.Size([32, 32])\n",
      "up_mps.2.0.edge_encoder_f2c_mlp.2.bias \t torch.Size([32])\n",
      "up_mps.2.0.downsample_mlp.0.weight \t torch.Size([32, 64])\n",
      "up_mps.2.0.downsample_mlp.0.bias \t torch.Size([32])\n",
      "up_mps.2.0.downsample_mlp.1.weight \t torch.Size([32, 32])\n",
      "up_mps.2.0.downsample_mlp.1.bias \t torch.Size([32])\n",
      "up_mps.2.0.downsample_mlp.2.weight \t torch.Size([32, 32])\n",
      "up_mps.2.0.downsample_mlp.2.bias \t torch.Size([32])\n",
      "up_mps.2.0.upsample_mlp.0.weight \t torch.Size([32, 96])\n",
      "up_mps.2.0.upsample_mlp.0.bias \t torch.Size([32])\n",
      "up_mps.2.0.upsample_mlp.1.weight \t torch.Size([32, 32])\n",
      "up_mps.2.0.upsample_mlp.1.bias \t torch.Size([32])\n",
      "up_mps.2.0.upsample_mlp.2.weight \t torch.Size([32, 32])\n",
      "up_mps.2.0.upsample_mlp.2.bias \t torch.Size([32])\n",
      "up_mps.2.0.downsample_norm.weight \t torch.Size([32])\n",
      "up_mps.2.0.downsample_norm.bias \t torch.Size([32])\n",
      "up_mps.2.0.upsample_norm.weight \t torch.Size([32])\n",
      "up_mps.2.0.upsample_norm.bias \t torch.Size([32])\n",
      "up_mps.3.0.edge_down_mps.0.0.0.weight \t torch.Size([32, 96])\n",
      "up_mps.3.0.edge_down_mps.0.0.0.bias \t torch.Size([32])\n",
      "up_mps.3.0.edge_down_mps.0.0.1.weight \t torch.Size([32, 32])\n",
      "up_mps.3.0.edge_down_mps.0.0.1.bias \t torch.Size([32])\n",
      "up_mps.3.0.edge_down_mps.0.0.2.weight \t torch.Size([32, 32])\n",
      "up_mps.3.0.edge_down_mps.0.0.2.bias \t torch.Size([32])\n",
      "up_mps.3.0.edge_down_mps.0.1.0.weight \t torch.Size([32, 96])\n",
      "up_mps.3.0.edge_down_mps.0.1.0.bias \t torch.Size([32])\n",
      "up_mps.3.0.edge_down_mps.0.1.1.weight \t torch.Size([32, 32])\n",
      "up_mps.3.0.edge_down_mps.0.1.1.bias \t torch.Size([32])\n",
      "up_mps.3.0.edge_down_mps.0.1.2.weight \t torch.Size([32, 32])\n",
      "up_mps.3.0.edge_down_mps.0.1.2.bias \t torch.Size([32])\n",
      "up_mps.3.0.edge_down_mps.1.0.0.weight \t torch.Size([32, 96])\n",
      "up_mps.3.0.edge_down_mps.1.0.0.bias \t torch.Size([32])\n",
      "up_mps.3.0.edge_down_mps.1.0.1.weight \t torch.Size([32, 32])\n",
      "up_mps.3.0.edge_down_mps.1.0.1.bias \t torch.Size([32])\n",
      "up_mps.3.0.edge_down_mps.1.0.2.weight \t torch.Size([32, 32])\n",
      "up_mps.3.0.edge_down_mps.1.0.2.bias \t torch.Size([32])\n",
      "up_mps.3.0.edge_down_mps.2.0.0.weight \t torch.Size([32, 96])\n",
      "up_mps.3.0.edge_down_mps.2.0.0.bias \t torch.Size([32])\n",
      "up_mps.3.0.edge_down_mps.2.0.1.weight \t torch.Size([32, 32])\n",
      "up_mps.3.0.edge_down_mps.2.0.1.bias \t torch.Size([32])\n",
      "up_mps.3.0.edge_down_mps.2.0.2.weight \t torch.Size([32, 32])\n",
      "up_mps.3.0.edge_down_mps.2.0.2.bias \t torch.Size([32])\n",
      "up_mps.3.0.edge_down_norms.0.0.weight \t torch.Size([32])\n",
      "up_mps.3.0.edge_down_norms.0.0.bias \t torch.Size([32])\n",
      "up_mps.3.0.edge_down_norms.0.1.weight \t torch.Size([32])\n",
      "up_mps.3.0.edge_down_norms.0.1.bias \t torch.Size([32])\n",
      "up_mps.3.0.edge_down_norms.1.0.weight \t torch.Size([32])\n",
      "up_mps.3.0.edge_down_norms.1.0.bias \t torch.Size([32])\n",
      "up_mps.3.0.edge_down_norms.2.0.weight \t torch.Size([32])\n",
      "up_mps.3.0.edge_down_norms.2.0.bias \t torch.Size([32])\n",
      "up_mps.3.0.node_down_mps.0.0.0.weight \t torch.Size([32, 64])\n",
      "up_mps.3.0.node_down_mps.0.0.0.bias \t torch.Size([32])\n",
      "up_mps.3.0.node_down_mps.0.0.1.weight \t torch.Size([32, 32])\n",
      "up_mps.3.0.node_down_mps.0.0.1.bias \t torch.Size([32])\n",
      "up_mps.3.0.node_down_mps.0.0.2.weight \t torch.Size([32, 32])\n",
      "up_mps.3.0.node_down_mps.0.0.2.bias \t torch.Size([32])\n",
      "up_mps.3.0.node_down_mps.0.1.0.weight \t torch.Size([32, 64])\n",
      "up_mps.3.0.node_down_mps.0.1.0.bias \t torch.Size([32])\n",
      "up_mps.3.0.node_down_mps.0.1.1.weight \t torch.Size([32, 32])\n",
      "up_mps.3.0.node_down_mps.0.1.1.bias \t torch.Size([32])\n",
      "up_mps.3.0.node_down_mps.0.1.2.weight \t torch.Size([32, 32])\n",
      "up_mps.3.0.node_down_mps.0.1.2.bias \t torch.Size([32])\n",
      "up_mps.3.0.node_down_mps.1.0.0.weight \t torch.Size([32, 64])\n",
      "up_mps.3.0.node_down_mps.1.0.0.bias \t torch.Size([32])\n",
      "up_mps.3.0.node_down_mps.1.0.1.weight \t torch.Size([32, 32])\n",
      "up_mps.3.0.node_down_mps.1.0.1.bias \t torch.Size([32])\n",
      "up_mps.3.0.node_down_mps.1.0.2.weight \t torch.Size([32, 32])\n",
      "up_mps.3.0.node_down_mps.1.0.2.bias \t torch.Size([32])\n",
      "up_mps.3.0.node_down_mps.2.0.0.weight \t torch.Size([32, 64])\n",
      "up_mps.3.0.node_down_mps.2.0.0.bias \t torch.Size([32])\n",
      "up_mps.3.0.node_down_mps.2.0.1.weight \t torch.Size([32, 32])\n",
      "up_mps.3.0.node_down_mps.2.0.1.bias \t torch.Size([32])\n",
      "up_mps.3.0.node_down_mps.2.0.2.weight \t torch.Size([32, 32])\n",
      "up_mps.3.0.node_down_mps.2.0.2.bias \t torch.Size([32])\n",
      "up_mps.3.0.node_down_norms.0.0.weight \t torch.Size([32])\n",
      "up_mps.3.0.node_down_norms.0.0.bias \t torch.Size([32])\n",
      "up_mps.3.0.node_down_norms.0.1.weight \t torch.Size([32])\n",
      "up_mps.3.0.node_down_norms.0.1.bias \t torch.Size([32])\n",
      "up_mps.3.0.node_down_norms.1.0.weight \t torch.Size([32])\n",
      "up_mps.3.0.node_down_norms.1.0.bias \t torch.Size([32])\n",
      "up_mps.3.0.node_down_norms.2.0.weight \t torch.Size([32])\n",
      "up_mps.3.0.node_down_norms.2.0.bias \t torch.Size([32])\n",
      "up_mps.3.0.edge_up_mps.0.0.0.weight \t torch.Size([32, 96])\n",
      "up_mps.3.0.edge_up_mps.0.0.0.bias \t torch.Size([32])\n",
      "up_mps.3.0.edge_up_mps.0.0.1.weight \t torch.Size([32, 32])\n",
      "up_mps.3.0.edge_up_mps.0.0.1.bias \t torch.Size([32])\n",
      "up_mps.3.0.edge_up_mps.0.0.2.weight \t torch.Size([32, 32])\n",
      "up_mps.3.0.edge_up_mps.0.0.2.bias \t torch.Size([32])\n",
      "up_mps.3.0.edge_up_mps.1.0.0.weight \t torch.Size([32, 96])\n",
      "up_mps.3.0.edge_up_mps.1.0.0.bias \t torch.Size([32])\n",
      "up_mps.3.0.edge_up_mps.1.0.1.weight \t torch.Size([32, 32])\n",
      "up_mps.3.0.edge_up_mps.1.0.1.bias \t torch.Size([32])\n",
      "up_mps.3.0.edge_up_mps.1.0.2.weight \t torch.Size([32, 32])\n",
      "up_mps.3.0.edge_up_mps.1.0.2.bias \t torch.Size([32])\n",
      "up_mps.3.0.edge_up_mps.1.1.0.weight \t torch.Size([32, 96])\n",
      "up_mps.3.0.edge_up_mps.1.1.0.bias \t torch.Size([32])\n",
      "up_mps.3.0.edge_up_mps.1.1.1.weight \t torch.Size([32, 32])\n",
      "up_mps.3.0.edge_up_mps.1.1.1.bias \t torch.Size([32])\n",
      "up_mps.3.0.edge_up_mps.1.1.2.weight \t torch.Size([32, 32])\n",
      "up_mps.3.0.edge_up_mps.1.1.2.bias \t torch.Size([32])\n",
      "up_mps.3.0.edge_up_norms.0.0.weight \t torch.Size([32])\n",
      "up_mps.3.0.edge_up_norms.0.0.bias \t torch.Size([32])\n",
      "up_mps.3.0.edge_up_norms.1.0.weight \t torch.Size([32])\n",
      "up_mps.3.0.edge_up_norms.1.0.bias \t torch.Size([32])\n",
      "up_mps.3.0.edge_up_norms.1.1.weight \t torch.Size([32])\n",
      "up_mps.3.0.edge_up_norms.1.1.bias \t torch.Size([32])\n",
      "up_mps.3.0.node_up_mps.0.0.0.weight \t torch.Size([32, 64])\n",
      "up_mps.3.0.node_up_mps.0.0.0.bias \t torch.Size([32])\n",
      "up_mps.3.0.node_up_mps.0.0.1.weight \t torch.Size([32, 32])\n",
      "up_mps.3.0.node_up_mps.0.0.1.bias \t torch.Size([32])\n",
      "up_mps.3.0.node_up_mps.0.0.2.weight \t torch.Size([32, 32])\n",
      "up_mps.3.0.node_up_mps.0.0.2.bias \t torch.Size([32])\n",
      "up_mps.3.0.node_up_mps.1.0.0.weight \t torch.Size([32, 64])\n",
      "up_mps.3.0.node_up_mps.1.0.0.bias \t torch.Size([32])\n",
      "up_mps.3.0.node_up_mps.1.0.1.weight \t torch.Size([32, 32])\n",
      "up_mps.3.0.node_up_mps.1.0.1.bias \t torch.Size([32])\n",
      "up_mps.3.0.node_up_mps.1.0.2.weight \t torch.Size([32, 32])\n",
      "up_mps.3.0.node_up_mps.1.0.2.bias \t torch.Size([32])\n",
      "up_mps.3.0.node_up_mps.1.1.0.weight \t torch.Size([32, 64])\n",
      "up_mps.3.0.node_up_mps.1.1.0.bias \t torch.Size([32])\n",
      "up_mps.3.0.node_up_mps.1.1.1.weight \t torch.Size([32, 32])\n",
      "up_mps.3.0.node_up_mps.1.1.1.bias \t torch.Size([32])\n",
      "up_mps.3.0.node_up_mps.1.1.2.weight \t torch.Size([32, 32])\n",
      "up_mps.3.0.node_up_mps.1.1.2.bias \t torch.Size([32])\n",
      "up_mps.3.0.node_up_norms.0.0.weight \t torch.Size([32])\n",
      "up_mps.3.0.node_up_norms.0.0.bias \t torch.Size([32])\n",
      "up_mps.3.0.node_up_norms.1.0.weight \t torch.Size([32])\n",
      "up_mps.3.0.node_up_norms.1.0.bias \t torch.Size([32])\n",
      "up_mps.3.0.node_up_norms.1.1.weight \t torch.Size([32])\n",
      "up_mps.3.0.node_up_norms.1.1.bias \t torch.Size([32])\n",
      "up_mps.3.0.edge_encoder_f2c_mlp.0.weight \t torch.Size([32, 2])\n",
      "up_mps.3.0.edge_encoder_f2c_mlp.0.bias \t torch.Size([32])\n",
      "up_mps.3.0.edge_encoder_f2c_mlp.1.weight \t torch.Size([32, 32])\n",
      "up_mps.3.0.edge_encoder_f2c_mlp.1.bias \t torch.Size([32])\n",
      "up_mps.3.0.edge_encoder_f2c_mlp.2.weight \t torch.Size([32, 32])\n",
      "up_mps.3.0.edge_encoder_f2c_mlp.2.bias \t torch.Size([32])\n",
      "up_mps.3.0.downsample_mlp.0.weight \t torch.Size([32, 64])\n",
      "up_mps.3.0.downsample_mlp.0.bias \t torch.Size([32])\n",
      "up_mps.3.0.downsample_mlp.1.weight \t torch.Size([32, 32])\n",
      "up_mps.3.0.downsample_mlp.1.bias \t torch.Size([32])\n",
      "up_mps.3.0.downsample_mlp.2.weight \t torch.Size([32, 32])\n",
      "up_mps.3.0.downsample_mlp.2.bias \t torch.Size([32])\n",
      "up_mps.3.0.upsample_mlp.0.weight \t torch.Size([32, 96])\n",
      "up_mps.3.0.upsample_mlp.0.bias \t torch.Size([32])\n",
      "up_mps.3.0.upsample_mlp.1.weight \t torch.Size([32, 32])\n",
      "up_mps.3.0.upsample_mlp.1.bias \t torch.Size([32])\n",
      "up_mps.3.0.upsample_mlp.2.weight \t torch.Size([32, 32])\n",
      "up_mps.3.0.upsample_mlp.2.bias \t torch.Size([32])\n",
      "up_mps.3.0.downsample_norm.weight \t torch.Size([32])\n",
      "up_mps.3.0.downsample_norm.bias \t torch.Size([32])\n",
      "up_mps.3.0.upsample_norm.weight \t torch.Size([32])\n",
      "up_mps.3.0.upsample_norm.bias \t torch.Size([32])\n",
      "up_mps.3.1.edge_down_mps.0.0.0.weight \t torch.Size([32, 96])\n",
      "up_mps.3.1.edge_down_mps.0.0.0.bias \t torch.Size([32])\n",
      "up_mps.3.1.edge_down_mps.0.0.1.weight \t torch.Size([32, 32])\n",
      "up_mps.3.1.edge_down_mps.0.0.1.bias \t torch.Size([32])\n",
      "up_mps.3.1.edge_down_mps.0.0.2.weight \t torch.Size([32, 32])\n",
      "up_mps.3.1.edge_down_mps.0.0.2.bias \t torch.Size([32])\n",
      "up_mps.3.1.edge_down_mps.0.1.0.weight \t torch.Size([32, 96])\n",
      "up_mps.3.1.edge_down_mps.0.1.0.bias \t torch.Size([32])\n",
      "up_mps.3.1.edge_down_mps.0.1.1.weight \t torch.Size([32, 32])\n",
      "up_mps.3.1.edge_down_mps.0.1.1.bias \t torch.Size([32])\n",
      "up_mps.3.1.edge_down_mps.0.1.2.weight \t torch.Size([32, 32])\n",
      "up_mps.3.1.edge_down_mps.0.1.2.bias \t torch.Size([32])\n",
      "up_mps.3.1.edge_down_mps.1.0.0.weight \t torch.Size([32, 96])\n",
      "up_mps.3.1.edge_down_mps.1.0.0.bias \t torch.Size([32])\n",
      "up_mps.3.1.edge_down_mps.1.0.1.weight \t torch.Size([32, 32])\n",
      "up_mps.3.1.edge_down_mps.1.0.1.bias \t torch.Size([32])\n",
      "up_mps.3.1.edge_down_mps.1.0.2.weight \t torch.Size([32, 32])\n",
      "up_mps.3.1.edge_down_mps.1.0.2.bias \t torch.Size([32])\n",
      "up_mps.3.1.edge_down_mps.2.0.0.weight \t torch.Size([32, 96])\n",
      "up_mps.3.1.edge_down_mps.2.0.0.bias \t torch.Size([32])\n",
      "up_mps.3.1.edge_down_mps.2.0.1.weight \t torch.Size([32, 32])\n",
      "up_mps.3.1.edge_down_mps.2.0.1.bias \t torch.Size([32])\n",
      "up_mps.3.1.edge_down_mps.2.0.2.weight \t torch.Size([32, 32])\n",
      "up_mps.3.1.edge_down_mps.2.0.2.bias \t torch.Size([32])\n",
      "up_mps.3.1.edge_down_norms.0.0.weight \t torch.Size([32])\n",
      "up_mps.3.1.edge_down_norms.0.0.bias \t torch.Size([32])\n",
      "up_mps.3.1.edge_down_norms.0.1.weight \t torch.Size([32])\n",
      "up_mps.3.1.edge_down_norms.0.1.bias \t torch.Size([32])\n",
      "up_mps.3.1.edge_down_norms.1.0.weight \t torch.Size([32])\n",
      "up_mps.3.1.edge_down_norms.1.0.bias \t torch.Size([32])\n",
      "up_mps.3.1.edge_down_norms.2.0.weight \t torch.Size([32])\n",
      "up_mps.3.1.edge_down_norms.2.0.bias \t torch.Size([32])\n",
      "up_mps.3.1.node_down_mps.0.0.0.weight \t torch.Size([32, 64])\n",
      "up_mps.3.1.node_down_mps.0.0.0.bias \t torch.Size([32])\n",
      "up_mps.3.1.node_down_mps.0.0.1.weight \t torch.Size([32, 32])\n",
      "up_mps.3.1.node_down_mps.0.0.1.bias \t torch.Size([32])\n",
      "up_mps.3.1.node_down_mps.0.0.2.weight \t torch.Size([32, 32])\n",
      "up_mps.3.1.node_down_mps.0.0.2.bias \t torch.Size([32])\n",
      "up_mps.3.1.node_down_mps.0.1.0.weight \t torch.Size([32, 64])\n",
      "up_mps.3.1.node_down_mps.0.1.0.bias \t torch.Size([32])\n",
      "up_mps.3.1.node_down_mps.0.1.1.weight \t torch.Size([32, 32])\n",
      "up_mps.3.1.node_down_mps.0.1.1.bias \t torch.Size([32])\n",
      "up_mps.3.1.node_down_mps.0.1.2.weight \t torch.Size([32, 32])\n",
      "up_mps.3.1.node_down_mps.0.1.2.bias \t torch.Size([32])\n",
      "up_mps.3.1.node_down_mps.1.0.0.weight \t torch.Size([32, 64])\n",
      "up_mps.3.1.node_down_mps.1.0.0.bias \t torch.Size([32])\n",
      "up_mps.3.1.node_down_mps.1.0.1.weight \t torch.Size([32, 32])\n",
      "up_mps.3.1.node_down_mps.1.0.1.bias \t torch.Size([32])\n",
      "up_mps.3.1.node_down_mps.1.0.2.weight \t torch.Size([32, 32])\n",
      "up_mps.3.1.node_down_mps.1.0.2.bias \t torch.Size([32])\n",
      "up_mps.3.1.node_down_mps.2.0.0.weight \t torch.Size([32, 64])\n",
      "up_mps.3.1.node_down_mps.2.0.0.bias \t torch.Size([32])\n",
      "up_mps.3.1.node_down_mps.2.0.1.weight \t torch.Size([32, 32])\n",
      "up_mps.3.1.node_down_mps.2.0.1.bias \t torch.Size([32])\n",
      "up_mps.3.1.node_down_mps.2.0.2.weight \t torch.Size([32, 32])\n",
      "up_mps.3.1.node_down_mps.2.0.2.bias \t torch.Size([32])\n",
      "up_mps.3.1.node_down_norms.0.0.weight \t torch.Size([32])\n",
      "up_mps.3.1.node_down_norms.0.0.bias \t torch.Size([32])\n",
      "up_mps.3.1.node_down_norms.0.1.weight \t torch.Size([32])\n",
      "up_mps.3.1.node_down_norms.0.1.bias \t torch.Size([32])\n",
      "up_mps.3.1.node_down_norms.1.0.weight \t torch.Size([32])\n",
      "up_mps.3.1.node_down_norms.1.0.bias \t torch.Size([32])\n",
      "up_mps.3.1.node_down_norms.2.0.weight \t torch.Size([32])\n",
      "up_mps.3.1.node_down_norms.2.0.bias \t torch.Size([32])\n",
      "up_mps.3.1.edge_up_mps.0.0.0.weight \t torch.Size([32, 96])\n",
      "up_mps.3.1.edge_up_mps.0.0.0.bias \t torch.Size([32])\n",
      "up_mps.3.1.edge_up_mps.0.0.1.weight \t torch.Size([32, 32])\n",
      "up_mps.3.1.edge_up_mps.0.0.1.bias \t torch.Size([32])\n",
      "up_mps.3.1.edge_up_mps.0.0.2.weight \t torch.Size([32, 32])\n",
      "up_mps.3.1.edge_up_mps.0.0.2.bias \t torch.Size([32])\n",
      "up_mps.3.1.edge_up_mps.1.0.0.weight \t torch.Size([32, 96])\n",
      "up_mps.3.1.edge_up_mps.1.0.0.bias \t torch.Size([32])\n",
      "up_mps.3.1.edge_up_mps.1.0.1.weight \t torch.Size([32, 32])\n",
      "up_mps.3.1.edge_up_mps.1.0.1.bias \t torch.Size([32])\n",
      "up_mps.3.1.edge_up_mps.1.0.2.weight \t torch.Size([32, 32])\n",
      "up_mps.3.1.edge_up_mps.1.0.2.bias \t torch.Size([32])\n",
      "up_mps.3.1.edge_up_mps.1.1.0.weight \t torch.Size([32, 96])\n",
      "up_mps.3.1.edge_up_mps.1.1.0.bias \t torch.Size([32])\n",
      "up_mps.3.1.edge_up_mps.1.1.1.weight \t torch.Size([32, 32])\n",
      "up_mps.3.1.edge_up_mps.1.1.1.bias \t torch.Size([32])\n",
      "up_mps.3.1.edge_up_mps.1.1.2.weight \t torch.Size([32, 32])\n",
      "up_mps.3.1.edge_up_mps.1.1.2.bias \t torch.Size([32])\n",
      "up_mps.3.1.edge_up_norms.0.0.weight \t torch.Size([32])\n",
      "up_mps.3.1.edge_up_norms.0.0.bias \t torch.Size([32])\n",
      "up_mps.3.1.edge_up_norms.1.0.weight \t torch.Size([32])\n",
      "up_mps.3.1.edge_up_norms.1.0.bias \t torch.Size([32])\n",
      "up_mps.3.1.edge_up_norms.1.1.weight \t torch.Size([32])\n",
      "up_mps.3.1.edge_up_norms.1.1.bias \t torch.Size([32])\n",
      "up_mps.3.1.node_up_mps.0.0.0.weight \t torch.Size([32, 64])\n",
      "up_mps.3.1.node_up_mps.0.0.0.bias \t torch.Size([32])\n",
      "up_mps.3.1.node_up_mps.0.0.1.weight \t torch.Size([32, 32])\n",
      "up_mps.3.1.node_up_mps.0.0.1.bias \t torch.Size([32])\n",
      "up_mps.3.1.node_up_mps.0.0.2.weight \t torch.Size([32, 32])\n",
      "up_mps.3.1.node_up_mps.0.0.2.bias \t torch.Size([32])\n",
      "up_mps.3.1.node_up_mps.1.0.0.weight \t torch.Size([32, 64])\n",
      "up_mps.3.1.node_up_mps.1.0.0.bias \t torch.Size([32])\n",
      "up_mps.3.1.node_up_mps.1.0.1.weight \t torch.Size([32, 32])\n",
      "up_mps.3.1.node_up_mps.1.0.1.bias \t torch.Size([32])\n",
      "up_mps.3.1.node_up_mps.1.0.2.weight \t torch.Size([32, 32])\n",
      "up_mps.3.1.node_up_mps.1.0.2.bias \t torch.Size([32])\n",
      "up_mps.3.1.node_up_mps.1.1.0.weight \t torch.Size([32, 64])\n",
      "up_mps.3.1.node_up_mps.1.1.0.bias \t torch.Size([32])\n",
      "up_mps.3.1.node_up_mps.1.1.1.weight \t torch.Size([32, 32])\n",
      "up_mps.3.1.node_up_mps.1.1.1.bias \t torch.Size([32])\n",
      "up_mps.3.1.node_up_mps.1.1.2.weight \t torch.Size([32, 32])\n",
      "up_mps.3.1.node_up_mps.1.1.2.bias \t torch.Size([32])\n",
      "up_mps.3.1.node_up_norms.0.0.weight \t torch.Size([32])\n",
      "up_mps.3.1.node_up_norms.0.0.bias \t torch.Size([32])\n",
      "up_mps.3.1.node_up_norms.1.0.weight \t torch.Size([32])\n",
      "up_mps.3.1.node_up_norms.1.0.bias \t torch.Size([32])\n",
      "up_mps.3.1.node_up_norms.1.1.weight \t torch.Size([32])\n",
      "up_mps.3.1.node_up_norms.1.1.bias \t torch.Size([32])\n",
      "up_mps.3.1.edge_encoder_f2c_mlp.0.weight \t torch.Size([32, 2])\n",
      "up_mps.3.1.edge_encoder_f2c_mlp.0.bias \t torch.Size([32])\n",
      "up_mps.3.1.edge_encoder_f2c_mlp.1.weight \t torch.Size([32, 32])\n",
      "up_mps.3.1.edge_encoder_f2c_mlp.1.bias \t torch.Size([32])\n",
      "up_mps.3.1.edge_encoder_f2c_mlp.2.weight \t torch.Size([32, 32])\n",
      "up_mps.3.1.edge_encoder_f2c_mlp.2.bias \t torch.Size([32])\n",
      "up_mps.3.1.downsample_mlp.0.weight \t torch.Size([32, 64])\n",
      "up_mps.3.1.downsample_mlp.0.bias \t torch.Size([32])\n",
      "up_mps.3.1.downsample_mlp.1.weight \t torch.Size([32, 32])\n",
      "up_mps.3.1.downsample_mlp.1.bias \t torch.Size([32])\n",
      "up_mps.3.1.downsample_mlp.2.weight \t torch.Size([32, 32])\n",
      "up_mps.3.1.downsample_mlp.2.bias \t torch.Size([32])\n",
      "up_mps.3.1.upsample_mlp.0.weight \t torch.Size([32, 96])\n",
      "up_mps.3.1.upsample_mlp.0.bias \t torch.Size([32])\n",
      "up_mps.3.1.upsample_mlp.1.weight \t torch.Size([32, 32])\n",
      "up_mps.3.1.upsample_mlp.1.bias \t torch.Size([32])\n",
      "up_mps.3.1.upsample_mlp.2.weight \t torch.Size([32, 32])\n",
      "up_mps.3.1.upsample_mlp.2.bias \t torch.Size([32])\n",
      "up_mps.3.1.downsample_norm.weight \t torch.Size([32])\n",
      "up_mps.3.1.downsample_norm.bias \t torch.Size([32])\n",
      "up_mps.3.1.upsample_norm.weight \t torch.Size([32])\n",
      "up_mps.3.1.upsample_norm.bias \t torch.Size([32])\n",
      "node_decode.0.weight \t torch.Size([32, 32])\n",
      "node_decode.0.bias \t torch.Size([32])\n",
      "node_decode.1.weight \t torch.Size([32, 32])\n",
      "node_decode.1.bias \t torch.Size([32])\n",
      "node_decode.2.weight \t torch.Size([2, 32])\n",
      "node_decode.2.bias \t torch.Size([2])\n"
     ]
    }
   ],
   "source": [
    "\n",
    "model = model_1_GNN_TopK(\n",
    "                in_channels_node,\n",
    "                in_channels_edge,\n",
    "                hidden_channels,\n",
    "                out_channels,\n",
    "                n_mlp_encode,\n",
    "                n_mlp_mp,\n",
    "                n_mp_down_topk,\n",
    "                n_mp_up_topk,\n",
    "                pool_ratios,\n",
    "                n_mp_down_enc,\n",
    "                n_mp_up_enc,\n",
    "                n_mp_down_dec,\n",
    "                n_mp_up_dec,\n",
    "                lengthscales_enc,\n",
    "                lengthscales_dec,\n",
    "                bounding_box,\n",
    "                interp,\n",
    "                act,\n",
    "                param_sharing,\n",
    "                name='gnn_topk')\n",
    "model.to(device)\n",
    "model.load_state_dict(torch.load('/root/data1/bubble_duibishiyan/model_1_ED_state_dict.pt'), strict=False)\n",
    "train_hist, test_hist=model_1_train(epochs, model, train_loader, valid_loader,per_t,batch_size,EDmean_vec_x,EDstd_vec_x,EDmean_vec_edge,EDstd_vec_edge)"
   ]
  },
  {
   "cell_type": "code",
   "execution_count": null,
   "metadata": {},
   "outputs": [
    {
     "name": "stdout",
     "output_type": "stream",
     "text": [
      "8\n"
     ]
    }
   ],
   "source": [
    "SEED = 123\n",
    "torch.manual_seed(SEED)\n",
    "np.random.seed(SEED)\n",
    "random.seed(SEED)        #Python\n",
    "\n",
    "\n",
    "epochs = 200\n",
    "\n",
    "device = 'cuda' if torch.cuda.is_available() else 'cpu'    #cuda\n",
    "\n",
    "file_path= '/root/data1/bubble_EMD/meshgraphnets_miniset1251traj50200ts_vis.pt'\n",
    "dataset = torch.load(file_path)\n",
    "print(len(dataset))\n",
    "#EDstats_list = get_EDstats(dataset)\n",
    "[EDmean_vec_x,EDstd_vec_x,EDmean_vec_edge,EDstd_vec_edge] = torch.load('/root/data1/bubble_EMD/EDstats_list.pt')\n",
    "\n",
    "(EDmean_vec_x,EDstd_vec_x,EDmean_vec_edge,EDstd_vec_edge)=(EDmean_vec_x.to(device),\n",
    "        EDstd_vec_x.to(device),EDmean_vec_edge.to(device),EDstd_vec_edge.to(device))\n",
    "\n",
    "train_size=7        #改\n",
    "train_loader = DataLoader(dataset[:train_size], shuffle=False)\n",
    "valid_loader = DataLoader(dataset[train_size:], shuffle=False)#分一下训练数据和验证数据\n",
    "\n",
    "\n",
    "sample = dataset[:train_size][0]\n",
    "\n",
    "in_channels_node = sample.x.shape[1]\n",
    "in_channels_edge = sample.edge_attr.shape[1]\n",
    "hidden_channels = 32    #22#12\n",
    "out_channels = in_channels_node\n",
    "batch_size =25       #改\n",
    "n_mlp_encode = 6\n",
    "n_mlp_mp = 3\n",
    "encoding_dim=10\n",
    "ae_dim=[128,64,32,16,10]\n",
    "n_mp_down = [2,2,2,2,1,1]\n",
    "n_mp_up= [1,1,2,2,2,2]\n",
    "pool_num =[3000,2700,2200,1800,1400] #[3300,2500,1500]\n",
    "\n",
    "\n",
    "act = F.elu\n",
    "param_sharing = False"
   ]
  },
  {
   "cell_type": "code",
   "execution_count": null,
   "metadata": {},
   "outputs": [
    {
     "name": "stderr",
     "output_type": "stream",
     "text": [
      "Training:   0%|          | 1/200 [00:11<38:31, 11.61s/Epochs]"
     ]
    },
    {
     "name": "stdout",
     "output_type": "stream",
     "text": [
      "Epoch: 0000,\tTrain mse: 0.52336864,\tTrain_RMSE: 0.67544673,\tTrain_acc: 0.67517543,\tTest mse: 0.26294652,\tTime: 11.61335635s\n"
     ]
    },
    {
     "name": "stderr",
     "output_type": "stream",
     "text": [
      "Training:   1%|          | 2/200 [00:22<37:08, 11.26s/Epochs]"
     ]
    },
    {
     "name": "stdout",
     "output_type": "stream",
     "text": [
      "Epoch: 0001,\tTrain mse: 0.23326937,\tTrain_RMSE: 0.48269243,\tTrain_acc: 0.48276457,\tTest mse: 0.20309283,\tTime: 11.00287604s\n"
     ]
    },
    {
     "name": "stderr",
     "output_type": "stream",
     "text": [
      "Training:   2%|▏         | 3/200 [00:33<37:04, 11.29s/Epochs]"
     ]
    },
    {
     "name": "stdout",
     "output_type": "stream",
     "text": [
      "Epoch: 0002,\tTrain mse: 0.18338395,\tTrain_RMSE: 0.42803760,\tTrain_acc: 0.42808989,\tTest mse: 0.16898084,\tTime: 11.33556414s\n"
     ]
    },
    {
     "name": "stderr",
     "output_type": "stream",
     "text": [
      "Training:   2%|▏         | 4/200 [00:45<36:36, 11.21s/Epochs]"
     ]
    },
    {
     "name": "stdout",
     "output_type": "stream",
     "text": [
      "Epoch: 0003,\tTrain mse: 0.16471604,\tTrain_RMSE: 0.40583863,\tTrain_acc: 0.40585560,\tTest mse: 0.16392292,\tTime: 11.07560945s\n"
     ]
    },
    {
     "name": "stderr",
     "output_type": "stream",
     "text": [
      "Training:   2%|▎         | 5/200 [00:55<35:59, 11.07s/Epochs]"
     ]
    },
    {
     "name": "stdout",
     "output_type": "stream",
     "text": [
      "Epoch: 0004,\tTrain mse: 0.15405441,\tTrain_RMSE: 0.39246130,\tTrain_acc: 0.39248627,\tTest mse: 0.15220448,\tTime: 10.83556461s\n"
     ]
    },
    {
     "name": "stderr",
     "output_type": "stream",
     "text": [
      "Training:   3%|▎         | 6/200 [01:06<35:33, 11.00s/Epochs]"
     ]
    },
    {
     "name": "stdout",
     "output_type": "stream",
     "text": [
      "Epoch: 0005,\tTrain mse: 0.15095275,\tTrain_RMSE: 0.38850837,\tTrain_acc: 0.38851684,\tTest mse: 0.14970116,\tTime: 10.84682417s\n"
     ]
    },
    {
     "name": "stderr",
     "output_type": "stream",
     "text": [
      "Training:   4%|▎         | 7/200 [01:17<35:24, 11.01s/Epochs]"
     ]
    },
    {
     "name": "stdout",
     "output_type": "stream",
     "text": [
      "Epoch: 0006,\tTrain mse: 0.14776684,\tTrain_RMSE: 0.38438167,\tTrain_acc: 0.38439092,\tTest mse: 0.15076785,\tTime: 11.02378345s\n"
     ]
    },
    {
     "name": "stderr",
     "output_type": "stream",
     "text": [
      "Training:   4%|▍         | 8/200 [01:28<35:09, 10.99s/Epochs]"
     ]
    },
    {
     "name": "stdout",
     "output_type": "stream",
     "text": [
      "Epoch: 0007,\tTrain mse: 0.15029588,\tTrain_RMSE: 0.38764519,\tTrain_acc: 0.38765088,\tTest mse: 0.15591371,\tTime: 10.94666314s\n"
     ]
    },
    {
     "name": "stderr",
     "output_type": "stream",
     "text": [
      "Training:   4%|▍         | 9/200 [01:39<34:46, 10.92s/Epochs]"
     ]
    },
    {
     "name": "stdout",
     "output_type": "stream",
     "text": [
      "Epoch: 0008,\tTrain mse: 0.15062668,\tTrain_RMSE: 0.38805761,\tTrain_acc: 0.38807398,\tTest mse: 0.15191846,\tTime: 10.77202654s\n"
     ]
    },
    {
     "name": "stderr",
     "output_type": "stream",
     "text": [
      "Training:   5%|▌         | 10/200 [01:50<34:52, 11.01s/Epochs]"
     ]
    },
    {
     "name": "stdout",
     "output_type": "stream",
     "text": [
      "Epoch: 0009,\tTrain mse: 0.14499059,\tTrain_RMSE: 0.38073452,\tTrain_acc: 0.38075086,\tTest mse: 0.14904468,\tTime: 11.21950364s\n"
     ]
    },
    {
     "name": "stderr",
     "output_type": "stream",
     "text": [
      "Training:   6%|▌         | 11/200 [02:01<34:22, 10.91s/Epochs]"
     ]
    },
    {
     "name": "stdout",
     "output_type": "stream",
     "text": [
      "Epoch: 0010,\tTrain mse: 0.14234951,\tTrain_RMSE: 0.37722790,\tTrain_acc: 0.37724546,\tTest mse: 0.14680874,\tTime: 10.68176723s\n"
     ]
    },
    {
     "name": "stderr",
     "output_type": "stream",
     "text": [
      "Training:   6%|▌         | 12/200 [02:12<34:10, 10.91s/Epochs]"
     ]
    },
    {
     "name": "stdout",
     "output_type": "stream",
     "text": [
      "Epoch: 0011,\tTrain mse: 0.13904838,\tTrain_RMSE: 0.37283165,\tTrain_acc: 0.37284949,\tTest mse: 0.14221780,\tTime: 10.88705373s\n"
     ]
    },
    {
     "name": "stderr",
     "output_type": "stream",
     "text": [
      "Training:   6%|▋         | 13/200 [02:23<33:58, 10.90s/Epochs]"
     ]
    },
    {
     "name": "stdout",
     "output_type": "stream",
     "text": [
      "Epoch: 0012,\tTrain mse: 0.13478894,\tTrain_RMSE: 0.36708187,\tTrain_acc: 0.36710140,\tTest mse: 0.13726585,\tTime: 10.88611412s\n"
     ]
    },
    {
     "name": "stderr",
     "output_type": "stream",
     "text": [
      "Training:   7%|▋         | 14/200 [02:34<33:49, 10.91s/Epochs]"
     ]
    },
    {
     "name": "stdout",
     "output_type": "stream",
     "text": [
      "Epoch: 0013,\tTrain mse: 0.13141169,\tTrain_RMSE: 0.36246250,\tTrain_acc: 0.36247987,\tTest mse: 0.13440830,\tTime: 10.92861915s\n"
     ]
    },
    {
     "name": "stderr",
     "output_type": "stream",
     "text": [
      "Training:   8%|▊         | 15/200 [02:44<33:20, 10.82s/Epochs]"
     ]
    },
    {
     "name": "stdout",
     "output_type": "stream",
     "text": [
      "Epoch: 0014,\tTrain mse: 0.13039259,\tTrain_RMSE: 0.36105374,\tTrain_acc: 0.36106569,\tTest mse: 0.13473442,\tTime: 10.59582233s\n"
     ]
    },
    {
     "name": "stderr",
     "output_type": "stream",
     "text": [
      "Training:   8%|▊         | 16/200 [02:55<33:06, 10.79s/Epochs]"
     ]
    },
    {
     "name": "stdout",
     "output_type": "stream",
     "text": [
      "Epoch: 0015,\tTrain mse: 0.13083407,\tTrain_RMSE: 0.36166438,\tTrain_acc: 0.36167496,\tTest mse: 0.13493614,\tTime: 10.74277592s\n"
     ]
    },
    {
     "name": "stderr",
     "output_type": "stream",
     "text": [
      "Training:   8%|▊         | 17/200 [03:06<32:56, 10.80s/Epochs]"
     ]
    },
    {
     "name": "stdout",
     "output_type": "stream",
     "text": [
      "Epoch: 0016,\tTrain mse: 0.13116083,\tTrain_RMSE: 0.36211211,\tTrain_acc: 0.36212322,\tTest mse: 0.13508727,\tTime: 10.81559229s\n"
     ]
    },
    {
     "name": "stderr",
     "output_type": "stream",
     "text": [
      "Training:   9%|▉         | 18/200 [03:17<32:58, 10.87s/Epochs]"
     ]
    },
    {
     "name": "stdout",
     "output_type": "stream",
     "text": [
      "Epoch: 0017,\tTrain mse: 0.13053561,\tTrain_RMSE: 0.36124932,\tTrain_acc: 0.36126143,\tTest mse: 0.13465992,\tTime: 11.02372551s\n"
     ]
    },
    {
     "name": "stderr",
     "output_type": "stream",
     "text": [
      "Training:  10%|▉         | 19/200 [03:28<32:51, 10.89s/Epochs]"
     ]
    },
    {
     "name": "stdout",
     "output_type": "stream",
     "text": [
      "Epoch: 0018,\tTrain mse: 0.12959170,\tTrain_RMSE: 0.35993705,\tTrain_acc: 0.35994989,\tTest mse: 0.13316569,\tTime: 10.95289421s\n"
     ]
    },
    {
     "name": "stderr",
     "output_type": "stream",
     "text": [
      "Training:  10%|█         | 20/200 [03:39<32:39, 10.89s/Epochs]"
     ]
    },
    {
     "name": "stdout",
     "output_type": "stream",
     "text": [
      "Epoch: 0019,\tTrain mse: 0.12832059,\tTrain_RMSE: 0.35815661,\tTrain_acc: 0.35817060,\tTest mse: 0.13067211,\tTime: 10.86104012s\n"
     ]
    },
    {
     "name": "stderr",
     "output_type": "stream",
     "text": [
      "Training:  10%|█         | 21/200 [03:49<32:15, 10.81s/Epochs]"
     ]
    },
    {
     "name": "stdout",
     "output_type": "stream",
     "text": [
      "Epoch: 0020,\tTrain mse: 0.12768253,\tTrain_RMSE: 0.35725956,\tTrain_acc: 0.35727254,\tTest mse: 0.12928750,\tTime: 10.63494325s\n"
     ]
    },
    {
     "name": "stderr",
     "output_type": "stream",
     "text": [
      "Training:  11%|█         | 22/200 [04:00<32:13, 10.86s/Epochs]"
     ]
    },
    {
     "name": "stdout",
     "output_type": "stream",
     "text": [
      "Epoch: 0021,\tTrain mse: 0.12682448,\tTrain_RMSE: 0.35605506,\tTrain_acc: 0.35606989,\tTest mse: 0.12957217,\tTime: 10.98601127s\n"
     ]
    },
    {
     "name": "stderr",
     "output_type": "stream",
     "text": [
      "Training:  12%|█▏        | 23/200 [04:11<32:21, 10.97s/Epochs]"
     ]
    },
    {
     "name": "stdout",
     "output_type": "stream",
     "text": [
      "Epoch: 0022,\tTrain mse: 0.12527380,\tTrain_RMSE: 0.35388458,\tTrain_acc: 0.35389763,\tTest mse: 0.12869334,\tTime: 11.22069287s\n"
     ]
    },
    {
     "name": "stderr",
     "output_type": "stream",
     "text": [
      "Training:  12%|█▏        | 24/200 [04:22<32:10, 10.97s/Epochs]"
     ]
    },
    {
     "name": "stdout",
     "output_type": "stream",
     "text": [
      "Epoch: 0023,\tTrain mse: 0.12746327,\tTrain_RMSE: 0.35694505,\tTrain_acc: 0.35694784,\tTest mse: 0.12626809,\tTime: 10.95729470s\n"
     ]
    },
    {
     "name": "stderr",
     "output_type": "stream",
     "text": [
      "Training:  12%|█▎        | 25/200 [04:34<32:06, 11.01s/Epochs]"
     ]
    },
    {
     "name": "stdout",
     "output_type": "stream",
     "text": [
      "Epoch: 0024,\tTrain mse: 0.12938991,\tTrain_RMSE: 0.35958194,\tTrain_acc: 0.35959545,\tTest mse: 0.13366199,\tTime: 11.10945392s\n"
     ]
    },
    {
     "name": "stderr",
     "output_type": "stream",
     "text": [
      "Training:  13%|█▎        | 26/200 [04:44<31:36, 10.90s/Epochs]"
     ]
    },
    {
     "name": "stdout",
     "output_type": "stream",
     "text": [
      "Epoch: 0025,\tTrain mse: 0.12004608,\tTrain_RMSE: 0.34638255,\tTrain_acc: 0.34641415,\tTest mse: 0.11980724,\tTime: 10.63456941s\n"
     ]
    },
    {
     "name": "stderr",
     "output_type": "stream",
     "text": [
      "Training:  14%|█▎        | 27/200 [04:55<31:10, 10.81s/Epochs]"
     ]
    },
    {
     "name": "stdout",
     "output_type": "stream",
     "text": [
      "Epoch: 0026,\tTrain mse: 0.12047801,\tTrain_RMSE: 0.34701481,\tTrain_acc: 0.34701398,\tTest mse: 0.11976809,\tTime: 10.60684133s\n"
     ]
    },
    {
     "name": "stderr",
     "output_type": "stream",
     "text": [
      "Training:  14%|█▍        | 28/200 [05:05<30:53, 10.77s/Epochs]"
     ]
    },
    {
     "name": "stdout",
     "output_type": "stream",
     "text": [
      "Epoch: 0027,\tTrain mse: 0.12422202,\tTrain_RMSE: 0.35227225,\tTrain_acc: 0.35227737,\tTest mse: 0.12640642,\tTime: 10.68339896s\n"
     ]
    },
    {
     "name": "stderr",
     "output_type": "stream",
     "text": [
      "Training:  14%|█▍        | 29/200 [05:16<30:29, 10.70s/Epochs]"
     ]
    },
    {
     "name": "stdout",
     "output_type": "stream",
     "text": [
      "Epoch: 0028,\tTrain mse: 0.11403969,\tTrain_RMSE: 0.33760160,\tTrain_acc: 0.33763096,\tTest mse: 0.11187299,\tTime: 10.51252532s\n"
     ]
    },
    {
     "name": "stderr",
     "output_type": "stream",
     "text": [
      "Training:  15%|█▌        | 30/200 [05:27<30:12, 10.66s/Epochs]"
     ]
    },
    {
     "name": "stdout",
     "output_type": "stream",
     "text": [
      "Epoch: 0029,\tTrain mse: 0.11205932,\tTrain_RMSE: 0.33465718,\tTrain_acc: 0.33465916,\tTest mse: 0.11336494,\tTime: 10.57338548s\n"
     ]
    },
    {
     "name": "stderr",
     "output_type": "stream",
     "text": [
      "Training:  16%|█▌        | 31/200 [05:37<30:06, 10.69s/Epochs]"
     ]
    },
    {
     "name": "stdout",
     "output_type": "stream",
     "text": [
      "Epoch: 0030,\tTrain mse: 0.11152400,\tTrain_RMSE: 0.33380399,\tTrain_acc: 0.33381477,\tTest mse: 0.11252717,\tTime: 10.75682187s\n"
     ]
    },
    {
     "name": "stderr",
     "output_type": "stream",
     "text": [
      "Training:  16%|█▌        | 32/200 [05:48<29:49, 10.65s/Epochs]"
     ]
    },
    {
     "name": "stdout",
     "output_type": "stream",
     "text": [
      "Epoch: 0031,\tTrain mse: 0.10577463,\tTrain_RMSE: 0.32511073,\tTrain_acc: 0.32513052,\tTest mse: 0.10333769,\tTime: 10.56867790s\n"
     ]
    },
    {
     "name": "stderr",
     "output_type": "stream",
     "text": [
      "Training:  16%|█▋        | 33/200 [05:59<29:38, 10.65s/Epochs]"
     ]
    },
    {
     "name": "stdout",
     "output_type": "stream",
     "text": [
      "Epoch: 0032,\tTrain mse: 0.10139883,\tTrain_RMSE: 0.31830890,\tTrain_acc: 0.31831565,\tTest mse: 0.10811159,\tTime: 10.64685893s\n"
     ]
    },
    {
     "name": "stderr",
     "output_type": "stream",
     "text": [
      "Training:  17%|█▋        | 34/200 [06:09<29:10, 10.54s/Epochs]"
     ]
    },
    {
     "name": "stdout",
     "output_type": "stream",
     "text": [
      "Epoch: 0033,\tTrain mse: 0.10678746,\tTrain_RMSE: 0.32676292,\tTrain_acc: 0.32676387,\tTest mse: 0.11137925,\tTime: 10.29266906s\n"
     ]
    },
    {
     "name": "stderr",
     "output_type": "stream",
     "text": [
      "Training:  18%|█▊        | 35/200 [06:19<28:56, 10.52s/Epochs]"
     ]
    },
    {
     "name": "stdout",
     "output_type": "stream",
     "text": [
      "Epoch: 0034,\tTrain mse: 0.10101130,\tTrain_RMSE: 0.31762617,\tTrain_acc: 0.31765255,\tTest mse: 0.09957981,\tTime: 10.47051978s\n"
     ]
    },
    {
     "name": "stderr",
     "output_type": "stream",
     "text": [
      "Training:  18%|█▊        | 36/200 [06:30<28:55, 10.58s/Epochs]"
     ]
    },
    {
     "name": "stdout",
     "output_type": "stream",
     "text": [
      "Epoch: 0035,\tTrain mse: 0.09280256,\tTrain_RMSE: 0.30460066,\tTrain_acc: 0.30462289,\tTest mse: 0.09507622,\tTime: 10.71627784s\n"
     ]
    },
    {
     "name": "stderr",
     "output_type": "stream",
     "text": [
      "Training:  18%|█▊        | 37/200 [06:41<28:51, 10.62s/Epochs]"
     ]
    },
    {
     "name": "stdout",
     "output_type": "stream",
     "text": [
      "Epoch: 0036,\tTrain mse: 0.08969737,\tTrain_RMSE: 0.29947263,\tTrain_acc: 0.29948795,\tTest mse: 0.09024592,\tTime: 10.71519113s\n"
     ]
    },
    {
     "name": "stderr",
     "output_type": "stream",
     "text": [
      "Training:  19%|█▉        | 38/200 [06:51<28:45, 10.65s/Epochs]"
     ]
    },
    {
     "name": "stdout",
     "output_type": "stream",
     "text": [
      "Epoch: 0037,\tTrain mse: 0.08753117,\tTrain_RMSE: 0.29583432,\tTrain_acc: 0.29584342,\tTest mse: 0.09072745,\tTime: 10.72177148s\n"
     ]
    },
    {
     "name": "stderr",
     "output_type": "stream",
     "text": [
      "Training:  20%|█▉        | 39/200 [07:02<28:35, 10.66s/Epochs]"
     ]
    },
    {
     "name": "stdout",
     "output_type": "stream",
     "text": [
      "Epoch: 0038,\tTrain mse: 0.08631017,\tTrain_RMSE: 0.29376410,\tTrain_acc: 0.29377645,\tTest mse: 0.08991069,\tTime: 10.66504431s\n"
     ]
    },
    {
     "name": "stderr",
     "output_type": "stream",
     "text": [
      "Training:  20%|██        | 40/200 [07:13<28:24, 10.65s/Epochs]"
     ]
    },
    {
     "name": "stdout",
     "output_type": "stream",
     "text": [
      "Epoch: 0039,\tTrain mse: 0.08697146,\tTrain_RMSE: 0.29490062,\tTrain_acc: 0.29490870,\tTest mse: 0.09302700,\tTime: 10.64179325s\n"
     ]
    },
    {
     "name": "stderr",
     "output_type": "stream",
     "text": [
      "Training:  20%|██        | 41/200 [07:24<28:23, 10.72s/Epochs]"
     ]
    },
    {
     "name": "stdout",
     "output_type": "stream",
     "text": [
      "Epoch: 0040,\tTrain mse: 0.08628668,\tTrain_RMSE: 0.29369556,\tTrain_acc: 0.29371038,\tTest mse: 0.08933146,\tTime: 10.86440825s\n"
     ]
    },
    {
     "name": "stderr",
     "output_type": "stream",
     "text": [
      "Training:  21%|██        | 42/200 [07:34<28:20, 10.76s/Epochs]"
     ]
    },
    {
     "name": "stdout",
     "output_type": "stream",
     "text": [
      "Epoch: 0041,\tTrain mse: 0.08397173,\tTrain_RMSE: 0.28975359,\tTrain_acc: 0.28976959,\tTest mse: 0.08483609,\tTime: 10.85818911s\n"
     ]
    },
    {
     "name": "stderr",
     "output_type": "stream",
     "text": [
      "Training:  22%|██▏       | 43/200 [07:45<28:21, 10.84s/Epochs]"
     ]
    },
    {
     "name": "stdout",
     "output_type": "stream",
     "text": [
      "Epoch: 0042,\tTrain mse: 0.08384307,\tTrain_RMSE: 0.28954919,\tTrain_acc: 0.28955382,\tTest mse: 0.08945505,\tTime: 11.02789354s\n"
     ]
    },
    {
     "name": "stderr",
     "output_type": "stream",
     "text": [
      "Training:  22%|██▏       | 44/200 [07:56<28:13, 10.86s/Epochs]"
     ]
    },
    {
     "name": "stdout",
     "output_type": "stream",
     "text": [
      "Epoch: 0043,\tTrain mse: 0.08446511,\tTrain_RMSE: 0.29059677,\tTrain_acc: 0.29060829,\tTest mse: 0.08587135,\tTime: 10.89313936s\n"
     ]
    },
    {
     "name": "stderr",
     "output_type": "stream",
     "text": [
      "Training:  22%|██▎       | 45/200 [08:07<28:01, 10.85s/Epochs]"
     ]
    },
    {
     "name": "stdout",
     "output_type": "stream",
     "text": [
      "Epoch: 0044,\tTrain mse: 0.08125619,\tTrain_RMSE: 0.28502776,\tTrain_acc: 0.28504360,\tTest mse: 0.08058510,\tTime: 10.83275008s\n"
     ]
    },
    {
     "name": "stderr",
     "output_type": "stream",
     "text": [
      "Training:  23%|██▎       | 46/200 [08:18<27:48, 10.83s/Epochs]"
     ]
    },
    {
     "name": "stdout",
     "output_type": "stream",
     "text": [
      "Epoch: 0045,\tTrain mse: 0.08006793,\tTrain_RMSE: 0.28295569,\tTrain_acc: 0.28296220,\tTest mse: 0.08087652,\tTime: 10.79436827s\n"
     ]
    },
    {
     "name": "stderr",
     "output_type": "stream",
     "text": [
      "Training:  24%|██▎       | 47/200 [08:29<27:45, 10.89s/Epochs]"
     ]
    },
    {
     "name": "stdout",
     "output_type": "stream",
     "text": [
      "Epoch: 0046,\tTrain mse: 0.08619098,\tTrain_RMSE: 0.29351277,\tTrain_acc: 0.29350790,\tTest mse: 0.08915774,\tTime: 11.00609541s\n"
     ]
    },
    {
     "name": "stderr",
     "output_type": "stream",
     "text": [
      "Training:  24%|██▍       | 48/200 [08:40<27:28, 10.85s/Epochs]"
     ]
    },
    {
     "name": "stdout",
     "output_type": "stream",
     "text": [
      "Epoch: 0047,\tTrain mse: 0.08332038,\tTrain_RMSE: 0.28861542,\tTrain_acc: 0.28863087,\tTest mse: 0.08180533,\tTime: 10.75140572s\n"
     ]
    },
    {
     "name": "stderr",
     "output_type": "stream",
     "text": [
      "Training:  24%|██▍       | 49/200 [08:51<27:17, 10.85s/Epochs]"
     ]
    },
    {
     "name": "stdout",
     "output_type": "stream",
     "text": [
      "Epoch: 0048,\tTrain mse: 0.07998016,\tTrain_RMSE: 0.28279044,\tTrain_acc: 0.28279787,\tTest mse: 0.08288207,\tTime: 10.84938741s\n"
     ]
    },
    {
     "name": "stderr",
     "output_type": "stream",
     "text": [
      "Training:  25%|██▌       | 50/200 [09:02<27:12, 10.88s/Epochs]"
     ]
    },
    {
     "name": "stdout",
     "output_type": "stream",
     "text": [
      "Epoch: 0049,\tTrain mse: 0.07962049,\tTrain_RMSE: 0.28210038,\tTrain_acc: 0.28211078,\tTest mse: 0.08282465,\tTime: 10.95601416s\n"
     ]
    },
    {
     "name": "stderr",
     "output_type": "stream",
     "text": [
      "Training:  26%|██▌       | 51/200 [09:12<26:42, 10.76s/Epochs]"
     ]
    },
    {
     "name": "stdout",
     "output_type": "stream",
     "text": [
      "Epoch: 0050,\tTrain mse: 0.07905718,\tTrain_RMSE: 0.28112104,\tTrain_acc: 0.28113651,\tTest mse: 0.08048589,\tTime: 10.47017646s\n"
     ]
    },
    {
     "name": "stderr",
     "output_type": "stream",
     "text": [
      "Training:  26%|██▌       | 52/200 [09:23<26:35, 10.78s/Epochs]"
     ]
    },
    {
     "name": "stdout",
     "output_type": "stream",
     "text": [
      "Epoch: 0051,\tTrain mse: 0.07934168,\tTrain_RMSE: 0.28165748,\tTrain_acc: 0.28167051,\tTest mse: 0.08075671,\tTime: 10.84221888s\n"
     ]
    },
    {
     "name": "stderr",
     "output_type": "stream",
     "text": [
      "Training:  26%|██▋       | 53/200 [09:34<26:38, 10.87s/Epochs]"
     ]
    },
    {
     "name": "stdout",
     "output_type": "stream",
     "text": [
      "Epoch: 0052,\tTrain mse: 0.08059530,\tTrain_RMSE: 0.28387458,\tTrain_acc: 0.28388447,\tTest mse: 0.08417007,\tTime: 11.08582997s\n"
     ]
    },
    {
     "name": "stderr",
     "output_type": "stream",
     "text": [
      "Training:  27%|██▋       | 54/200 [09:45<26:25, 10.86s/Epochs]"
     ]
    },
    {
     "name": "stdout",
     "output_type": "stream",
     "text": [
      "Epoch: 0053,\tTrain mse: 0.08108401,\tTrain_RMSE: 0.28472835,\tTrain_acc: 0.28474811,\tTest mse: 0.08733177,\tTime: 10.82540464s\n"
     ]
    },
    {
     "name": "stderr",
     "output_type": "stream",
     "text": [
      "Training:  28%|██▊       | 55/200 [09:55<26:06, 10.80s/Epochs]"
     ]
    },
    {
     "name": "stdout",
     "output_type": "stream",
     "text": [
      "Epoch: 0054,\tTrain mse: 0.08023407,\tTrain_RMSE: 0.28317632,\tTrain_acc: 0.28319728,\tTest mse: 0.08097818,\tTime: 10.66690302s\n"
     ]
    },
    {
     "name": "stderr",
     "output_type": "stream",
     "text": [
      "Training:  28%|██▊       | 56/200 [10:06<25:56, 10.81s/Epochs]"
     ]
    },
    {
     "name": "stdout",
     "output_type": "stream",
     "text": [
      "Epoch: 0055,\tTrain mse: 0.07957074,\tTrain_RMSE: 0.28205910,\tTrain_acc: 0.28207129,\tTest mse: 0.08330674,\tTime: 10.82056165s\n"
     ]
    },
    {
     "name": "stderr",
     "output_type": "stream",
     "text": [
      "Training:  28%|██▊       | 57/200 [10:17<25:53, 10.86s/Epochs]"
     ]
    },
    {
     "name": "stdout",
     "output_type": "stream",
     "text": [
      "Epoch: 0056,\tTrain mse: 0.07951166,\tTrain_RMSE: 0.28193273,\tTrain_acc: 0.28194976,\tTest mse: 0.08166815,\tTime: 10.98411345s\n",
      "Epoch    57: reducing learning rate of group 0 to 5.0000e-04.\n"
     ]
    },
    {
     "name": "stderr",
     "output_type": "stream",
     "text": [
      "Training:  29%|██▉       | 58/200 [10:28<25:55, 10.96s/Epochs]"
     ]
    },
    {
     "name": "stdout",
     "output_type": "stream",
     "text": [
      "Epoch: 0057,\tTrain mse: 0.07500304,\tTrain_RMSE: 0.27377655,\tTrain_acc: 0.27380422,\tTest mse: 0.07825468,\tTime: 11.17949533s\n"
     ]
    },
    {
     "name": "stderr",
     "output_type": "stream",
     "text": [
      "Training:  30%|██▉       | 59/200 [10:39<25:45, 10.96s/Epochs]"
     ]
    },
    {
     "name": "stdout",
     "output_type": "stream",
     "text": [
      "Epoch: 0058,\tTrain mse: 0.07398038,\tTrain_RMSE: 0.27194964,\tTrain_acc: 0.27197012,\tTest mse: 0.07572635,\tTime: 10.96925735s\n"
     ]
    },
    {
     "name": "stderr",
     "output_type": "stream",
     "text": [
      "Training:  30%|███       | 60/200 [10:50<25:37, 10.98s/Epochs]"
     ]
    },
    {
     "name": "stdout",
     "output_type": "stream",
     "text": [
      "Epoch: 0059,\tTrain mse: 0.07370401,\tTrain_RMSE: 0.27144722,\tTrain_acc: 0.27145869,\tTest mse: 0.07550312,\tTime: 11.02848053s\n"
     ]
    },
    {
     "name": "stderr",
     "output_type": "stream",
     "text": [
      "Training:  30%|███       | 61/200 [11:01<25:19, 10.94s/Epochs]"
     ]
    },
    {
     "name": "stdout",
     "output_type": "stream",
     "text": [
      "Epoch: 0060,\tTrain mse: 0.07366348,\tTrain_RMSE: 0.27136675,\tTrain_acc: 0.27137873,\tTest mse: 0.07674108,\tTime: 10.82376051s\n"
     ]
    },
    {
     "name": "stderr",
     "output_type": "stream",
     "text": [
      "Training:  31%|███       | 62/200 [11:12<25:18, 11.00s/Epochs]"
     ]
    },
    {
     "name": "stdout",
     "output_type": "stream",
     "text": [
      "Epoch: 0061,\tTrain mse: 0.07321435,\tTrain_RMSE: 0.27053705,\tTrain_acc: 0.27055255,\tTest mse: 0.07610293,\tTime: 11.16628814s\n"
     ]
    },
    {
     "name": "stderr",
     "output_type": "stream",
     "text": [
      "Training:  32%|███▏      | 63/200 [11:23<24:59, 10.95s/Epochs]"
     ]
    },
    {
     "name": "stdout",
     "output_type": "stream",
     "text": [
      "Epoch: 0062,\tTrain mse: 0.07364147,\tTrain_RMSE: 0.27133861,\tTrain_acc: 0.27135050,\tTest mse: 0.07745633,\tTime: 10.80842733s\n"
     ]
    },
    {
     "name": "stderr",
     "output_type": "stream",
     "text": [
      "Training:  32%|███▏      | 64/200 [11:34<24:41, 10.90s/Epochs]"
     ]
    },
    {
     "name": "stdout",
     "output_type": "stream",
     "text": [
      "Epoch: 0063,\tTrain mse: 0.07378795,\tTrain_RMSE: 0.27159563,\tTrain_acc: 0.27160975,\tTest mse: 0.07776726,\tTime: 10.77661180s\n"
     ]
    },
    {
     "name": "stderr",
     "output_type": "stream",
     "text": [
      "Training:  32%|███▎      | 65/200 [11:45<24:33, 10.92s/Epochs]"
     ]
    },
    {
     "name": "stdout",
     "output_type": "stream",
     "text": [
      "Epoch: 0064,\tTrain mse: 0.07325655,\tTrain_RMSE: 0.27061325,\tTrain_acc: 0.27063197,\tTest mse: 0.07563028,\tTime: 10.96588826s\n"
     ]
    },
    {
     "name": "stderr",
     "output_type": "stream",
     "text": [
      "Training:  33%|███▎      | 66/200 [11:56<24:21, 10.90s/Epochs]"
     ]
    },
    {
     "name": "stdout",
     "output_type": "stream",
     "text": [
      "Epoch: 0065,\tTrain mse: 0.07318603,\tTrain_RMSE: 0.27050195,\tTrain_acc: 0.27051544,\tTest mse: 0.07559843,\tTime: 10.86985803s\n",
      "Epoch    66: reducing learning rate of group 0 to 2.5000e-04.\n"
     ]
    },
    {
     "name": "stderr",
     "output_type": "stream",
     "text": [
      "Training:  34%|███▎      | 67/200 [12:07<24:13, 10.93s/Epochs]"
     ]
    },
    {
     "name": "stdout",
     "output_type": "stream",
     "text": [
      "Epoch: 0066,\tTrain mse: 0.07268483,\tTrain_RMSE: 0.26956239,\tTrain_acc: 0.26957706,\tTest mse: 0.07498541,\tTime: 10.98364592s\n"
     ]
    },
    {
     "name": "stderr",
     "output_type": "stream",
     "text": [
      "Training:  34%|███▍      | 68/200 [12:18<23:57, 10.89s/Epochs]"
     ]
    },
    {
     "name": "stdout",
     "output_type": "stream",
     "text": [
      "Epoch: 0067,\tTrain mse: 0.07277847,\tTrain_RMSE: 0.26974135,\tTrain_acc: 0.26975426,\tTest mse: 0.07565041,\tTime: 10.80309534s\n"
     ]
    },
    {
     "name": "stderr",
     "output_type": "stream",
     "text": [
      "Training:  34%|███▍      | 69/200 [12:28<23:41, 10.85s/Epochs]"
     ]
    },
    {
     "name": "stdout",
     "output_type": "stream",
     "text": [
      "Epoch: 0068,\tTrain mse: 0.07292288,\tTrain_RMSE: 0.27000598,\tTrain_acc: 0.27002060,\tTest mse: 0.07491988,\tTime: 10.75844669s\n"
     ]
    },
    {
     "name": "stderr",
     "output_type": "stream",
     "text": [
      "Training:  35%|███▌      | 70/200 [12:39<23:23, 10.80s/Epochs]"
     ]
    },
    {
     "name": "stdout",
     "output_type": "stream",
     "text": [
      "Epoch: 0069,\tTrain mse: 0.07291626,\tTrain_RMSE: 0.26999883,\tTrain_acc: 0.27001143,\tTest mse: 0.07551364,\tTime: 10.67349792s\n"
     ]
    },
    {
     "name": "stderr",
     "output_type": "stream",
     "text": [
      "Training:  36%|███▌      | 71/200 [12:50<23:04, 10.73s/Epochs]"
     ]
    },
    {
     "name": "stdout",
     "output_type": "stream",
     "text": [
      "Epoch: 0070,\tTrain mse: 0.07293153,\tTrain_RMSE: 0.27002305,\tTrain_acc: 0.27003735,\tTest mse: 0.07514445,\tTime: 10.56389856s\n"
     ]
    },
    {
     "name": "stderr",
     "output_type": "stream",
     "text": [
      "Training:  36%|███▌      | 72/200 [13:00<22:51, 10.72s/Epochs]"
     ]
    },
    {
     "name": "stdout",
     "output_type": "stream",
     "text": [
      "Epoch: 0071,\tTrain mse: 0.07263110,\tTrain_RMSE: 0.26946736,\tTrain_acc: 0.26948234,\tTest mse: 0.07466937,\tTime: 10.68606234s\n"
     ]
    },
    {
     "name": "stderr",
     "output_type": "stream",
     "text": [
      "Training:  36%|███▋      | 73/200 [13:11<22:47, 10.77s/Epochs]"
     ]
    },
    {
     "name": "stdout",
     "output_type": "stream",
     "text": [
      "Epoch: 0072,\tTrain mse: 0.07278437,\tTrain_RMSE: 0.26975673,\tTrain_acc: 0.26976880,\tTest mse: 0.07528802,\tTime: 10.88596487s\n"
     ]
    },
    {
     "name": "stderr",
     "output_type": "stream",
     "text": [
      "Training:  37%|███▋      | 74/200 [13:22<22:47, 10.85s/Epochs]"
     ]
    },
    {
     "name": "stdout",
     "output_type": "stream",
     "text": [
      "Epoch: 0073,\tTrain mse: 0.07291175,\tTrain_RMSE: 0.26998354,\tTrain_acc: 0.26999697,\tTest mse: 0.07516212,\tTime: 11.04796457s\n"
     ]
    },
    {
     "name": "stderr",
     "output_type": "stream",
     "text": [
      "Training:  38%|███▊      | 75/200 [13:33<22:31, 10.81s/Epochs]"
     ]
    },
    {
     "name": "stdout",
     "output_type": "stream",
     "text": [
      "Epoch: 0074,\tTrain mse: 0.07227511,\tTrain_RMSE: 0.26880409,\tTrain_acc: 0.26882020,\tTest mse: 0.07396654,\tTime: 10.72569847s\n"
     ]
    },
    {
     "name": "stderr",
     "output_type": "stream",
     "text": [
      "Training:  38%|███▊      | 76/200 [13:44<22:23, 10.84s/Epochs]"
     ]
    },
    {
     "name": "stdout",
     "output_type": "stream",
     "text": [
      "Epoch: 0075,\tTrain mse: 0.07248271,\tTrain_RMSE: 0.26919972,\tTrain_acc: 0.26921186,\tTest mse: 0.07453557,\tTime: 10.88219953s\n"
     ]
    },
    {
     "name": "stderr",
     "output_type": "stream",
     "text": [
      "Training:  38%|███▊      | 77/200 [13:55<22:10, 10.82s/Epochs]"
     ]
    },
    {
     "name": "stdout",
     "output_type": "stream",
     "text": [
      "Epoch: 0076,\tTrain mse: 0.07263313,\tTrain_RMSE: 0.26947115,\tTrain_acc: 0.26948342,\tTest mse: 0.07508751,\tTime: 10.76706290s\n"
     ]
    },
    {
     "name": "stderr",
     "output_type": "stream",
     "text": [
      "Training:  39%|███▉      | 78/200 [14:05<21:54, 10.77s/Epochs]"
     ]
    },
    {
     "name": "stdout",
     "output_type": "stream",
     "text": [
      "Epoch: 0077,\tTrain mse: 0.07200862,\tTrain_RMSE: 0.26830495,\tTrain_acc: 0.26832196,\tTest mse: 0.07368246,\tTime: 10.66464853s\n"
     ]
    },
    {
     "name": "stderr",
     "output_type": "stream",
     "text": [
      "Training:  40%|███▉      | 79/200 [14:16<21:35, 10.71s/Epochs]"
     ]
    },
    {
     "name": "stdout",
     "output_type": "stream",
     "text": [
      "Epoch: 0078,\tTrain mse: 0.07189412,\tTrain_RMSE: 0.26810343,\tTrain_acc: 0.26811635,\tTest mse: 0.07386088,\tTime: 10.56076503s\n"
     ]
    },
    {
     "name": "stderr",
     "output_type": "stream",
     "text": [
      "Training:  40%|████      | 80/200 [14:27<21:28, 10.74s/Epochs]"
     ]
    },
    {
     "name": "stdout",
     "output_type": "stream",
     "text": [
      "Epoch: 0079,\tTrain mse: 0.07247645,\tTrain_RMSE: 0.26918215,\tTrain_acc: 0.26919302,\tTest mse: 0.07550579,\tTime: 10.80768538s\n"
     ]
    },
    {
     "name": "stderr",
     "output_type": "stream",
     "text": [
      "Training:  40%|████      | 81/200 [14:37<21:07, 10.65s/Epochs]"
     ]
    },
    {
     "name": "stdout",
     "output_type": "stream",
     "text": [
      "Epoch: 0080,\tTrain mse: 0.07182467,\tTrain_RMSE: 0.26795848,\tTrain_acc: 0.26797688,\tTest mse: 0.07310772,\tTime: 10.44862199s\n"
     ]
    },
    {
     "name": "stderr",
     "output_type": "stream",
     "text": [
      "Training:  41%|████      | 82/200 [14:48<21:15, 10.81s/Epochs]"
     ]
    },
    {
     "name": "stdout",
     "output_type": "stream",
     "text": [
      "Epoch: 0081,\tTrain mse: 0.07143345,\tTrain_RMSE: 0.26724531,\tTrain_acc: 0.26725802,\tTest mse: 0.07342952,\tTime: 11.16431880s\n"
     ]
    },
    {
     "name": "stderr",
     "output_type": "stream",
     "text": [
      "Training:  42%|████▏     | 83/200 [14:59<21:05, 10.81s/Epochs]"
     ]
    },
    {
     "name": "stdout",
     "output_type": "stream",
     "text": [
      "Epoch: 0082,\tTrain mse: 0.07209042,\tTrain_RMSE: 0.26846778,\tTrain_acc: 0.26847893,\tTest mse: 0.07498466,\tTime: 10.83146334s\n"
     ]
    },
    {
     "name": "stderr",
     "output_type": "stream",
     "text": [
      "Training:  42%|████▏     | 84/200 [15:10<21:00, 10.86s/Epochs]"
     ]
    },
    {
     "name": "stdout",
     "output_type": "stream",
     "text": [
      "Epoch: 0083,\tTrain mse: 0.07158624,\tTrain_RMSE: 0.26751519,\tTrain_acc: 0.26753217,\tTest mse: 0.07322299,\tTime: 10.97960377s\n"
     ]
    },
    {
     "name": "stderr",
     "output_type": "stream",
     "text": [
      "Training:  42%|████▎     | 85/200 [15:21<20:50, 10.87s/Epochs]"
     ]
    },
    {
     "name": "stdout",
     "output_type": "stream",
     "text": [
      "Epoch: 0084,\tTrain mse: 0.07108186,\tTrain_RMSE: 0.26658404,\tTrain_acc: 0.26659778,\tTest mse: 0.07308829,\tTime: 10.88867235s\n"
     ]
    },
    {
     "name": "stderr",
     "output_type": "stream",
     "text": [
      "Training:  43%|████▎     | 86/200 [15:32<20:31, 10.80s/Epochs]"
     ]
    },
    {
     "name": "stdout",
     "output_type": "stream",
     "text": [
      "Epoch: 0085,\tTrain mse: 0.07188707,\tTrain_RMSE: 0.26809308,\tTrain_acc: 0.26810384,\tTest mse: 0.07491500,\tTime: 10.63978529s\n"
     ]
    },
    {
     "name": "stderr",
     "output_type": "stream",
     "text": [
      "Training:  44%|████▎     | 87/200 [15:42<20:16, 10.77s/Epochs]"
     ]
    },
    {
     "name": "stdout",
     "output_type": "stream",
     "text": [
      "Epoch: 0086,\tTrain mse: 0.07175080,\tTrain_RMSE: 0.26782110,\tTrain_acc: 0.26783678,\tTest mse: 0.07293892,\tTime: 10.67559838s\n"
     ]
    },
    {
     "name": "stderr",
     "output_type": "stream",
     "text": [
      "Training:  44%|████▍     | 88/200 [15:53<20:05, 10.76s/Epochs]"
     ]
    },
    {
     "name": "stdout",
     "output_type": "stream",
     "text": [
      "Epoch: 0087,\tTrain mse: 0.07081058,\tTrain_RMSE: 0.26607595,\tTrain_acc: 0.26608995,\tTest mse: 0.07280801,\tTime: 10.75536704s\n"
     ]
    },
    {
     "name": "stderr",
     "output_type": "stream",
     "text": [
      "Training:  44%|████▍     | 89/200 [16:04<19:44, 10.67s/Epochs]"
     ]
    },
    {
     "name": "stdout",
     "output_type": "stream",
     "text": [
      "Epoch: 0088,\tTrain mse: 0.07129238,\tTrain_RMSE: 0.26697836,\tTrain_acc: 0.26698905,\tTest mse: 0.07371248,\tTime: 10.44383335s\n"
     ]
    },
    {
     "name": "stderr",
     "output_type": "stream",
     "text": [
      "Training:  45%|████▌     | 90/200 [16:14<19:36, 10.69s/Epochs]"
     ]
    },
    {
     "name": "stdout",
     "output_type": "stream",
     "text": [
      "Epoch: 0089,\tTrain mse: 0.07082300,\tTrain_RMSE: 0.26608963,\tTrain_acc: 0.26610437,\tTest mse: 0.07258044,\tTime: 10.75234962s\n"
     ]
    },
    {
     "name": "stderr",
     "output_type": "stream",
     "text": [
      "Training:  46%|████▌     | 91/200 [16:25<19:23, 10.68s/Epochs]"
     ]
    },
    {
     "name": "stdout",
     "output_type": "stream",
     "text": [
      "Epoch: 0090,\tTrain mse: 0.07056963,\tTrain_RMSE: 0.26562491,\tTrain_acc: 0.26563764,\tTest mse: 0.07234580,\tTime: 10.63675570s\n"
     ]
    },
    {
     "name": "stderr",
     "output_type": "stream",
     "text": [
      "Training:  46%|████▌     | 92/200 [16:36<19:23, 10.77s/Epochs]"
     ]
    },
    {
     "name": "stdout",
     "output_type": "stream",
     "text": [
      "Epoch: 0091,\tTrain mse: 0.07139729,\tTrain_RMSE: 0.26717892,\tTrain_acc: 0.26718825,\tTest mse: 0.07437593,\tTime: 10.99246192s\n"
     ]
    },
    {
     "name": "stderr",
     "output_type": "stream",
     "text": [
      "Training:  46%|████▋     | 93/200 [16:47<19:14, 10.79s/Epochs]"
     ]
    },
    {
     "name": "stdout",
     "output_type": "stream",
     "text": [
      "Epoch: 0092,\tTrain mse: 0.07082169,\tTrain_RMSE: 0.26607865,\tTrain_acc: 0.26609528,\tTest mse: 0.07179148,\tTime: 10.83707952s\n"
     ]
    },
    {
     "name": "stderr",
     "output_type": "stream",
     "text": [
      "Training:  47%|████▋     | 94/200 [16:58<19:06, 10.81s/Epochs]"
     ]
    },
    {
     "name": "stdout",
     "output_type": "stream",
     "text": [
      "Epoch: 0093,\tTrain mse: 0.07007717,\tTrain_RMSE: 0.26469632,\tTrain_acc: 0.26470870,\tTest mse: 0.07174458,\tTime: 10.86640286s\n"
     ]
    },
    {
     "name": "stderr",
     "output_type": "stream",
     "text": [
      "Training:  48%|████▊     | 95/200 [17:09<18:56, 10.83s/Epochs]"
     ]
    },
    {
     "name": "stdout",
     "output_type": "stream",
     "text": [
      "Epoch: 0094,\tTrain mse: 0.07061251,\tTrain_RMSE: 0.26570401,\tTrain_acc: 0.26571393,\tTest mse: 0.07320005,\tTime: 10.85666656s\n"
     ]
    },
    {
     "name": "stderr",
     "output_type": "stream",
     "text": [
      "Training:  48%|████▊     | 96/200 [17:19<18:45, 10.82s/Epochs]"
     ]
    },
    {
     "name": "stdout",
     "output_type": "stream",
     "text": [
      "Epoch: 0095,\tTrain mse: 0.07031231,\tTrain_RMSE: 0.26512651,\tTrain_acc: 0.26514059,\tTest mse: 0.07196166,\tTime: 10.79881668s\n"
     ]
    },
    {
     "name": "stderr",
     "output_type": "stream",
     "text": [
      "Training:  48%|████▊     | 97/200 [17:30<18:35, 10.83s/Epochs]"
     ]
    },
    {
     "name": "stdout",
     "output_type": "stream",
     "text": [
      "Epoch: 0096,\tTrain mse: 0.06971252,\tTrain_RMSE: 0.26400379,\tTrain_acc: 0.26401699,\tTest mse: 0.07127196,\tTime: 10.85383439s\n"
     ]
    },
    {
     "name": "stderr",
     "output_type": "stream",
     "text": [
      "Training:  49%|████▉     | 98/200 [17:41<18:22, 10.81s/Epochs]"
     ]
    },
    {
     "name": "stdout",
     "output_type": "stream",
     "text": [
      "Epoch: 0097,\tTrain mse: 0.07045289,\tTrain_RMSE: 0.26541173,\tTrain_acc: 0.26542154,\tTest mse: 0.07221884,\tTime: 10.74488449s\n"
     ]
    },
    {
     "name": "stderr",
     "output_type": "stream",
     "text": [
      "Training:  50%|████▉     | 99/200 [17:52<18:08, 10.78s/Epochs]"
     ]
    },
    {
     "name": "stdout",
     "output_type": "stream",
     "text": [
      "Epoch: 0098,\tTrain mse: 0.07062354,\tTrain_RMSE: 0.26571104,\tTrain_acc: 0.26572156,\tTest mse: 0.07249421,\tTime: 10.71543241s\n"
     ]
    },
    {
     "name": "stderr",
     "output_type": "stream",
     "text": [
      "Training:  50%|█████     | 100/200 [18:02<17:45, 10.66s/Epochs]"
     ]
    },
    {
     "name": "stdout",
     "output_type": "stream",
     "text": [
      "Epoch: 0099,\tTrain mse: 0.06953170,\tTrain_RMSE: 0.26365298,\tTrain_acc: 0.26366922,\tTest mse: 0.07044890,\tTime: 10.37586069s\n"
     ]
    },
    {
     "name": "stderr",
     "output_type": "stream",
     "text": [
      "Training:  50%|█████     | 101/200 [18:13<17:37, 10.68s/Epochs]"
     ]
    },
    {
     "name": "stdout",
     "output_type": "stream",
     "text": [
      "Epoch: 0100,\tTrain mse: 0.06960623,\tTrain_RMSE: 0.26380700,\tTrain_acc: 0.26381779,\tTest mse: 0.07188120,\tTime: 10.73690581s\n"
     ]
    },
    {
     "name": "stderr",
     "output_type": "stream",
     "text": [
      "Training:  51%|█████     | 102/200 [18:24<17:31, 10.73s/Epochs]"
     ]
    },
    {
     "name": "stdout",
     "output_type": "stream",
     "text": [
      "Epoch: 0101,\tTrain mse: 0.06967899,\tTrain_RMSE: 0.26393285,\tTrain_acc: 0.26394552,\tTest mse: 0.07170186,\tTime: 10.83183479s\n"
     ]
    },
    {
     "name": "stderr",
     "output_type": "stream",
     "text": [
      "Training:  52%|█████▏    | 103/200 [18:35<17:29, 10.82s/Epochs]"
     ]
    },
    {
     "name": "stdout",
     "output_type": "stream",
     "text": [
      "Epoch: 0102,\tTrain mse: 0.06919690,\tTrain_RMSE: 0.26301974,\tTrain_acc: 0.26303363,\tTest mse: 0.07066081,\tTime: 11.04934978s\n"
     ]
    },
    {
     "name": "stderr",
     "output_type": "stream",
     "text": [
      "Training:  52%|█████▏    | 104/200 [18:46<17:20, 10.84s/Epochs]"
     ]
    },
    {
     "name": "stdout",
     "output_type": "stream",
     "text": [
      "Epoch: 0103,\tTrain mse: 0.06932994,\tTrain_RMSE: 0.26328166,\tTrain_acc: 0.26329291,\tTest mse: 0.07118865,\tTime: 10.88598800s\n"
     ]
    },
    {
     "name": "stderr",
     "output_type": "stream",
     "text": [
      "Training:  52%|█████▎    | 105/200 [18:56<17:10, 10.85s/Epochs]"
     ]
    },
    {
     "name": "stdout",
     "output_type": "stream",
     "text": [
      "Epoch: 0104,\tTrain mse: 0.06981110,\tTrain_RMSE: 0.26418444,\tTrain_acc: 0.26419342,\tTest mse: 0.07296883,\tTime: 10.87247419s\n"
     ]
    },
    {
     "name": "stderr",
     "output_type": "stream",
     "text": [
      "Training:  53%|█████▎    | 106/200 [19:07<17:06, 10.92s/Epochs]"
     ]
    },
    {
     "name": "stdout",
     "output_type": "stream",
     "text": [
      "Epoch: 0105,\tTrain mse: 0.06890635,\tTrain_RMSE: 0.26244992,\tTrain_acc: 0.26246884,\tTest mse: 0.06966528,\tTime: 11.07030368s\n"
     ]
    },
    {
     "name": "stderr",
     "output_type": "stream",
     "text": [
      "Training:  54%|█████▎    | 107/200 [19:19<16:59, 10.96s/Epochs]"
     ]
    },
    {
     "name": "stdout",
     "output_type": "stream",
     "text": [
      "Epoch: 0106,\tTrain mse: 0.06864870,\tTrain_RMSE: 0.26198628,\tTrain_acc: 0.26199800,\tTest mse: 0.07041799,\tTime: 11.05201101s\n"
     ]
    },
    {
     "name": "stderr",
     "output_type": "stream",
     "text": [
      "Training:  54%|█████▍    | 108/200 [19:29<16:47, 10.95s/Epochs]"
     ]
    },
    {
     "name": "stdout",
     "output_type": "stream",
     "text": [
      "Epoch: 0107,\tTrain mse: 0.06944999,\tTrain_RMSE: 0.26350714,\tTrain_acc: 0.26351780,\tTest mse: 0.07252159,\tTime: 10.92698050s\n"
     ]
    },
    {
     "name": "stderr",
     "output_type": "stream",
     "text": [
      "Training:  55%|█████▍    | 109/200 [19:40<16:28, 10.86s/Epochs]"
     ]
    },
    {
     "name": "stdout",
     "output_type": "stream",
     "text": [
      "Epoch: 0108,\tTrain mse: 0.06876257,\tTrain_RMSE: 0.26217169,\tTrain_acc: 0.26218945,\tTest mse: 0.06994697,\tTime: 10.64556789s\n"
     ]
    },
    {
     "name": "stderr",
     "output_type": "stream",
     "text": [
      "Training:  55%|█████▌    | 110/200 [19:51<16:11, 10.79s/Epochs]"
     ]
    },
    {
     "name": "stdout",
     "output_type": "stream",
     "text": [
      "Epoch: 0109,\tTrain mse: 0.06794411,\tTrain_RMSE: 0.26062961,\tTrain_acc: 0.26064333,\tTest mse: 0.06925327,\tTime: 10.63469863s\n"
     ]
    },
    {
     "name": "stderr",
     "output_type": "stream",
     "text": [
      "Training:  56%|█████▌    | 111/200 [20:02<16:01, 10.80s/Epochs]"
     ]
    },
    {
     "name": "stdout",
     "output_type": "stream",
     "text": [
      "Epoch: 0110,\tTrain mse: 0.06884753,\tTrain_RMSE: 0.26236877,\tTrain_acc: 0.26237983,\tTest mse: 0.07097109,\tTime: 10.82700419s\n"
     ]
    },
    {
     "name": "stderr",
     "output_type": "stream",
     "text": [
      "Training:  56%|█████▌    | 112/200 [20:12<15:49, 10.79s/Epochs]"
     ]
    },
    {
     "name": "stdout",
     "output_type": "stream",
     "text": [
      "Epoch: 0111,\tTrain mse: 0.06918187,\tTrain_RMSE: 0.26296974,\tTrain_acc: 0.26298207,\tTest mse: 0.07158855,\tTime: 10.77160358s\n"
     ]
    },
    {
     "name": "stderr",
     "output_type": "stream",
     "text": [
      "Training:  56%|█████▋    | 113/200 [20:23<15:40, 10.81s/Epochs]"
     ]
    },
    {
     "name": "stdout",
     "output_type": "stream",
     "text": [
      "Epoch: 0112,\tTrain mse: 0.06788020,\tTrain_RMSE: 0.26049098,\tTrain_acc: 0.26050949,\tTest mse: 0.06890980,\tTime: 10.83846450s\n"
     ]
    },
    {
     "name": "stderr",
     "output_type": "stream",
     "text": [
      "Training:  57%|█████▋    | 114/200 [20:34<15:25, 10.77s/Epochs]"
     ]
    },
    {
     "name": "stdout",
     "output_type": "stream",
     "text": [
      "Epoch: 0113,\tTrain mse: 0.06802897,\tTrain_RMSE: 0.26079890,\tTrain_acc: 0.26081073,\tTest mse: 0.07127748,\tTime: 10.66909504s\n"
     ]
    },
    {
     "name": "stderr",
     "output_type": "stream",
     "text": [
      "Training:  57%|█████▊    | 115/200 [20:45<15:18, 10.80s/Epochs]"
     ]
    },
    {
     "name": "stdout",
     "output_type": "stream",
     "text": [
      "Epoch: 0114,\tTrain mse: 0.06808608,\tTrain_RMSE: 0.26088393,\tTrain_acc: 0.26089939,\tTest mse: 0.07069427,\tTime: 10.89020801s\n"
     ]
    },
    {
     "name": "stderr",
     "output_type": "stream",
     "text": [
      "Training:  58%|█████▊    | 116/200 [20:56<15:13, 10.87s/Epochs]"
     ]
    },
    {
     "name": "stdout",
     "output_type": "stream",
     "text": [
      "Epoch: 0115,\tTrain mse: 0.06754805,\tTrain_RMSE: 0.25985715,\tTrain_acc: 0.25987262,\tTest mse: 0.06929411,\tTime: 11.02700019s\n"
     ]
    },
    {
     "name": "stderr",
     "output_type": "stream",
     "text": [
      "Training:  58%|█████▊    | 117/200 [21:06<14:57, 10.82s/Epochs]"
     ]
    },
    {
     "name": "stdout",
     "output_type": "stream",
     "text": [
      "Epoch: 0116,\tTrain mse: 0.06763678,\tTrain_RMSE: 0.26004597,\tTrain_acc: 0.26005879,\tTest mse: 0.06986548,\tTime: 10.68480945s\n"
     ]
    },
    {
     "name": "stderr",
     "output_type": "stream",
     "text": [
      "Training:  59%|█████▉    | 118/200 [21:17<14:47, 10.82s/Epochs]"
     ]
    },
    {
     "name": "stdout",
     "output_type": "stream",
     "text": [
      "Epoch: 0117,\tTrain mse: 0.06862903,\tTrain_RMSE: 0.26194209,\tTrain_acc: 0.26195300,\tTest mse: 0.07242880,\tTime: 10.83074498s\n"
     ]
    },
    {
     "name": "stderr",
     "output_type": "stream",
     "text": [
      "Training:  60%|█████▉    | 119/200 [21:28<14:36, 10.82s/Epochs]"
     ]
    },
    {
     "name": "stdout",
     "output_type": "stream",
     "text": [
      "Epoch: 0118,\tTrain mse: 0.06773481,\tTrain_RMSE: 0.26019449,\tTrain_acc: 0.26021463,\tTest mse: 0.06868694,\tTime: 10.82224846s\n"
     ]
    },
    {
     "name": "stderr",
     "output_type": "stream",
     "text": [
      "Training:  60%|██████    | 120/200 [21:39<14:27, 10.84s/Epochs]"
     ]
    },
    {
     "name": "stdout",
     "output_type": "stream",
     "text": [
      "Epoch: 0119,\tTrain mse: 0.06701448,\tTrain_RMSE: 0.25883922,\tTrain_acc: 0.25885260,\tTest mse: 0.06963447,\tTime: 10.88453102s\n"
     ]
    },
    {
     "name": "stderr",
     "output_type": "stream",
     "text": [
      "Training:  60%|██████    | 121/200 [21:50<14:14, 10.82s/Epochs]"
     ]
    },
    {
     "name": "stdout",
     "output_type": "stream",
     "text": [
      "Epoch: 0120,\tTrain mse: 0.06815062,\tTrain_RMSE: 0.26103326,\tTrain_acc: 0.26104331,\tTest mse: 0.07198722,\tTime: 10.77777171s\n"
     ]
    },
    {
     "name": "stderr",
     "output_type": "stream",
     "text": [
      "Training:  61%|██████    | 122/200 [22:01<14:06, 10.85s/Epochs]"
     ]
    },
    {
     "name": "stdout",
     "output_type": "stream",
     "text": [
      "Epoch: 0121,\tTrain mse: 0.06811724,\tTrain_RMSE: 0.26093600,\tTrain_acc: 0.26095051,\tTest mse: 0.07087581,\tTime: 10.90413833s\n"
     ]
    },
    {
     "name": "stderr",
     "output_type": "stream",
     "text": [
      "Training:  62%|██████▏   | 123/200 [22:11<13:53, 10.82s/Epochs]"
     ]
    },
    {
     "name": "stdout",
     "output_type": "stream",
     "text": [
      "Epoch: 0122,\tTrain mse: 0.06672247,\tTrain_RMSE: 0.25825047,\tTrain_acc: 0.25826824,\tTest mse: 0.06880875,\tTime: 10.75641751s\n"
     ]
    },
    {
     "name": "stderr",
     "output_type": "stream",
     "text": [
      "Training:  62%|██████▏   | 124/200 [22:23<13:48, 10.90s/Epochs]"
     ]
    },
    {
     "name": "stdout",
     "output_type": "stream",
     "text": [
      "Epoch: 0123,\tTrain mse: 0.06687032,\tTrain_RMSE: 0.25856321,\tTrain_acc: 0.25857565,\tTest mse: 0.06957681,\tTime: 11.08496237s\n"
     ]
    },
    {
     "name": "stderr",
     "output_type": "stream",
     "text": [
      "Training:  62%|██████▎   | 125/200 [22:33<13:35, 10.88s/Epochs]"
     ]
    },
    {
     "name": "stdout",
     "output_type": "stream",
     "text": [
      "Epoch: 0124,\tTrain mse: 0.06811563,\tTrain_RMSE: 0.26096669,\tTrain_acc: 0.26097637,\tTest mse: 0.07305804,\tTime: 10.81450152s\n",
      "Epoch   125: reducing learning rate of group 0 to 1.2500e-04.\n"
     ]
    },
    {
     "name": "stderr",
     "output_type": "stream",
     "text": [
      "Training:  63%|██████▎   | 126/200 [22:44<13:21, 10.83s/Epochs]"
     ]
    },
    {
     "name": "stdout",
     "output_type": "stream",
     "text": [
      "Epoch: 0125,\tTrain mse: 0.06700415,\tTrain_RMSE: 0.25877448,\tTrain_acc: 0.25879687,\tTest mse: 0.07127603,\tTime: 10.71572447s\n"
     ]
    },
    {
     "name": "stderr",
     "output_type": "stream",
     "text": [
      "Training:  64%|██████▎   | 127/200 [22:55<13:07, 10.79s/Epochs]"
     ]
    },
    {
     "name": "stdout",
     "output_type": "stream",
     "text": [
      "Epoch: 0126,\tTrain mse: 0.06636541,\tTrain_RMSE: 0.25754671,\tTrain_acc: 0.25756690,\tTest mse: 0.07002944,\tTime: 10.68801141s\n"
     ]
    },
    {
     "name": "stderr",
     "output_type": "stream",
     "text": [
      "Training:  64%|██████▍   | 128/200 [23:05<12:54, 10.76s/Epochs]"
     ]
    },
    {
     "name": "stdout",
     "output_type": "stream",
     "text": [
      "Epoch: 0127,\tTrain mse: 0.06600590,\tTrain_RMSE: 0.25685627,\tTrain_acc: 0.25687337,\tTest mse: 0.06909756,\tTime: 10.70792317s\n"
     ]
    },
    {
     "name": "stderr",
     "output_type": "stream",
     "text": [
      "Training:  64%|██████▍   | 129/200 [23:16<12:41, 10.73s/Epochs]"
     ]
    },
    {
     "name": "stdout",
     "output_type": "stream",
     "text": [
      "Epoch: 0128,\tTrain mse: 0.06580194,\tTrain_RMSE: 0.25646380,\tTrain_acc: 0.25647888,\tTest mse: 0.06878186,\tTime: 10.64157748s\n"
     ]
    },
    {
     "name": "stderr",
     "output_type": "stream",
     "text": [
      "Training:  65%|██████▌   | 130/200 [23:27<12:31, 10.74s/Epochs]"
     ]
    },
    {
     "name": "stdout",
     "output_type": "stream",
     "text": [
      "Epoch: 0129,\tTrain mse: 0.06572884,\tTrain_RMSE: 0.25632558,\tTrain_acc: 0.25633952,\tTest mse: 0.06916439,\tTime: 10.76914763s\n"
     ]
    },
    {
     "name": "stderr",
     "output_type": "stream",
     "text": [
      "Training:  66%|██████▌   | 131/200 [23:38<12:22, 10.76s/Epochs]"
     ]
    },
    {
     "name": "stdout",
     "output_type": "stream",
     "text": [
      "Epoch: 0130,\tTrain mse: 0.06566370,\tTrain_RMSE: 0.25619696,\tTrain_acc: 0.25621134,\tTest mse: 0.06917031,\tTime: 10.79928279s\n",
      "Epoch   131: reducing learning rate of group 0 to 6.2500e-05.\n"
     ]
    },
    {
     "name": "stderr",
     "output_type": "stream",
     "text": [
      "Training:  66%|██████▌   | 132/200 [23:49<12:19, 10.87s/Epochs]"
     ]
    },
    {
     "name": "stdout",
     "output_type": "stream",
     "text": [
      "Epoch: 0131,\tTrain mse: 0.06549891,\tTrain_RMSE: 0.25586668,\tTrain_acc: 0.25588125,\tTest mse: 0.06921151,\tTime: 11.12900972s\n"
     ]
    },
    {
     "name": "stderr",
     "output_type": "stream",
     "text": [
      "Training:  66%|██████▋   | 133/200 [24:00<12:05, 10.82s/Epochs]"
     ]
    },
    {
     "name": "stdout",
     "output_type": "stream",
     "text": [
      "Epoch: 0132,\tTrain mse: 0.06547698,\tTrain_RMSE: 0.25583078,\tTrain_acc: 0.25584531,\tTest mse: 0.06893451,\tTime: 10.70835471s\n"
     ]
    },
    {
     "name": "stderr",
     "output_type": "stream",
     "text": [
      "Training:  67%|██████▋   | 134/200 [24:10<11:53, 10.81s/Epochs]"
     ]
    },
    {
     "name": "stdout",
     "output_type": "stream",
     "text": [
      "Epoch: 0133,\tTrain mse: 0.06547575,\tTrain_RMSE: 0.25583095,\tTrain_acc: 0.25584513,\tTest mse: 0.06849773,\tTime: 10.76942825s\n"
     ]
    },
    {
     "name": "stderr",
     "output_type": "stream",
     "text": [
      "Training:  68%|██████▊   | 135/200 [24:21<11:41, 10.79s/Epochs]"
     ]
    },
    {
     "name": "stdout",
     "output_type": "stream",
     "text": [
      "Epoch: 0134,\tTrain mse: 0.06540424,\tTrain_RMSE: 0.25569406,\tTrain_acc: 0.25570813,\tTest mse: 0.06841953,\tTime: 10.76657104s\n"
     ]
    },
    {
     "name": "stderr",
     "output_type": "stream",
     "text": [
      "Training:  68%|██████▊   | 136/200 [24:32<11:31, 10.81s/Epochs]"
     ]
    },
    {
     "name": "stdout",
     "output_type": "stream",
     "text": [
      "Epoch: 0135,\tTrain mse: 0.06539260,\tTrain_RMSE: 0.25567223,\tTrain_acc: 0.25568619,\tTest mse: 0.06853095,\tTime: 10.84212232s\n"
     ]
    },
    {
     "name": "stderr",
     "output_type": "stream",
     "text": [
      "Training:  68%|██████▊   | 137/200 [24:43<11:22, 10.83s/Epochs]"
     ]
    },
    {
     "name": "stdout",
     "output_type": "stream",
     "text": [
      "Epoch: 0136,\tTrain mse: 0.06536562,\tTrain_RMSE: 0.25561954,\tTrain_acc: 0.25563323,\tTest mse: 0.06849391,\tTime: 10.88297081s\n"
     ]
    },
    {
     "name": "stderr",
     "output_type": "stream",
     "text": [
      "Training:  69%|██████▉   | 138/200 [24:54<11:16, 10.91s/Epochs]"
     ]
    },
    {
     "name": "stdout",
     "output_type": "stream",
     "text": [
      "Epoch: 0137,\tTrain mse: 0.06531642,\tTrain_RMSE: 0.25552431,\tTrain_acc: 0.25553811,\tTest mse: 0.06852912,\tTime: 11.10511589s\n"
     ]
    },
    {
     "name": "stderr",
     "output_type": "stream",
     "text": [
      "Training:  70%|██████▉   | 139/200 [25:05<11:03, 10.88s/Epochs]"
     ]
    },
    {
     "name": "stdout",
     "output_type": "stream",
     "text": [
      "Epoch: 0138,\tTrain mse: 0.06528917,\tTrain_RMSE: 0.25546977,\tTrain_acc: 0.25548351,\tTest mse: 0.06846193,\tTime: 10.80020666s\n"
     ]
    },
    {
     "name": "stderr",
     "output_type": "stream",
     "text": [
      "Training:  70%|███████   | 140/200 [25:16<10:54, 10.90s/Epochs]"
     ]
    },
    {
     "name": "stdout",
     "output_type": "stream",
     "text": [
      "Epoch: 0139,\tTrain mse: 0.06521250,\tTrain_RMSE: 0.25531835,\tTrain_acc: 0.25533229,\tTest mse: 0.06839545,\tTime: 10.95858049s\n"
     ]
    },
    {
     "name": "stderr",
     "output_type": "stream",
     "text": [
      "Training:  70%|███████   | 141/200 [25:27<10:42, 10.89s/Epochs]"
     ]
    },
    {
     "name": "stdout",
     "output_type": "stream",
     "text": [
      "Epoch: 0140,\tTrain mse: 0.06511462,\tTrain_RMSE: 0.25512688,\tTrain_acc: 0.25514108,\tTest mse: 0.06827606,\tTime: 10.86137986s\n"
     ]
    },
    {
     "name": "stderr",
     "output_type": "stream",
     "text": [
      "Training:  71%|███████   | 142/200 [25:38<10:35, 10.96s/Epochs]"
     ]
    },
    {
     "name": "stdout",
     "output_type": "stream",
     "text": [
      "Epoch: 0141,\tTrain mse: 0.06506511,\tTrain_RMSE: 0.25502986,\tTrain_acc: 0.25504380,\tTest mse: 0.06830060,\tTime: 11.11391282s\n"
     ]
    },
    {
     "name": "stderr",
     "output_type": "stream",
     "text": [
      "Training:  72%|███████▏  | 143/200 [25:48<10:22, 10.91s/Epochs]"
     ]
    },
    {
     "name": "stdout",
     "output_type": "stream",
     "text": [
      "Epoch: 0142,\tTrain mse: 0.06500691,\tTrain_RMSE: 0.25491543,\tTrain_acc: 0.25492933,\tTest mse: 0.06836516,\tTime: 10.80926347s\n"
     ]
    },
    {
     "name": "stderr",
     "output_type": "stream",
     "text": [
      "Training:  72%|███████▏  | 144/200 [25:59<10:06, 10.83s/Epochs]"
     ]
    },
    {
     "name": "stdout",
     "output_type": "stream",
     "text": [
      "Epoch: 0143,\tTrain mse: 0.06495043,\tTrain_RMSE: 0.25480358,\tTrain_acc: 0.25481808,\tTest mse: 0.06837579,\tTime: 10.61823678s\n"
     ]
    },
    {
     "name": "stderr",
     "output_type": "stream",
     "text": [
      "Training:  72%|███████▎  | 145/200 [26:10<09:52, 10.76s/Epochs]"
     ]
    },
    {
     "name": "stdout",
     "output_type": "stream",
     "text": [
      "Epoch: 0144,\tTrain mse: 0.06489908,\tTrain_RMSE: 0.25470041,\tTrain_acc: 0.25471526,\tTest mse: 0.06833617,\tTime: 10.61885691s\n"
     ]
    },
    {
     "name": "stderr",
     "output_type": "stream",
     "text": [
      "Training:  73%|███████▎  | 146/200 [26:21<09:48, 10.89s/Epochs]"
     ]
    },
    {
     "name": "stdout",
     "output_type": "stream",
     "text": [
      "Epoch: 0145,\tTrain mse: 0.06483051,\tTrain_RMSE: 0.25456519,\tTrain_acc: 0.25458056,\tTest mse: 0.06837627,\tTime: 11.19144106s\n"
     ]
    },
    {
     "name": "stderr",
     "output_type": "stream",
     "text": [
      "Training:  74%|███████▎  | 147/200 [26:32<09:37, 10.89s/Epochs]"
     ]
    },
    {
     "name": "stdout",
     "output_type": "stream",
     "text": [
      "Epoch: 0146,\tTrain mse: 0.06475347,\tTrain_RMSE: 0.25441246,\tTrain_acc: 0.25442791,\tTest mse: 0.06829615,\tTime: 10.88469291s\n",
      "Epoch   147: reducing learning rate of group 0 to 3.1250e-05.\n"
     ]
    },
    {
     "name": "stderr",
     "output_type": "stream",
     "text": [
      "Training:  74%|███████▍  | 148/200 [26:43<09:29, 10.94s/Epochs]"
     ]
    },
    {
     "name": "stdout",
     "output_type": "stream",
     "text": [
      "Epoch: 0147,\tTrain mse: 0.06472887,\tTrain_RMSE: 0.25436956,\tTrain_acc: 0.25438532,\tTest mse: 0.06716818,\tTime: 11.06532431s\n"
     ]
    },
    {
     "name": "stderr",
     "output_type": "stream",
     "text": [
      "Training:  74%|███████▍  | 149/200 [26:54<09:14, 10.88s/Epochs]"
     ]
    },
    {
     "name": "stdout",
     "output_type": "stream",
     "text": [
      "Epoch: 0148,\tTrain mse: 0.06449366,\tTrain_RMSE: 0.25389897,\tTrain_acc: 0.25391364,\tTest mse: 0.06709298,\tTime: 10.72936082s\n"
     ]
    },
    {
     "name": "stderr",
     "output_type": "stream",
     "text": [
      "Training:  75%|███████▌  | 150/200 [27:04<09:03, 10.88s/Epochs]"
     ]
    },
    {
     "name": "stdout",
     "output_type": "stream",
     "text": [
      "Epoch: 0149,\tTrain mse: 0.06434871,\tTrain_RMSE: 0.25361812,\tTrain_acc: 0.25363296,\tTest mse: 0.06733121,\tTime: 10.86366224s\n"
     ]
    },
    {
     "name": "stderr",
     "output_type": "stream",
     "text": [
      "Training:  76%|███████▌  | 151/200 [27:15<08:48, 10.79s/Epochs]"
     ]
    },
    {
     "name": "stdout",
     "output_type": "stream",
     "text": [
      "Epoch: 0150,\tTrain mse: 0.06432404,\tTrain_RMSE: 0.25356891,\tTrain_acc: 0.25358382,\tTest mse: 0.06721531,\tTime: 10.59477997s\n"
     ]
    },
    {
     "name": "stderr",
     "output_type": "stream",
     "text": [
      "Training:  76%|███████▌  | 152/200 [27:26<08:38, 10.80s/Epochs]"
     ]
    },
    {
     "name": "stdout",
     "output_type": "stream",
     "text": [
      "Epoch: 0151,\tTrain mse: 0.06431946,\tTrain_RMSE: 0.25356037,\tTrain_acc: 0.25357544,\tTest mse: 0.06706288,\tTime: 10.80999446s\n"
     ]
    },
    {
     "name": "stderr",
     "output_type": "stream",
     "text": [
      "Training:  76%|███████▋  | 153/200 [27:37<08:26, 10.78s/Epochs]"
     ]
    },
    {
     "name": "stdout",
     "output_type": "stream",
     "text": [
      "Epoch: 0152,\tTrain mse: 0.06428909,\tTrain_RMSE: 0.25349891,\tTrain_acc: 0.25351378,\tTest mse: 0.06704468,\tTime: 10.75209975s\n"
     ]
    },
    {
     "name": "stderr",
     "output_type": "stream",
     "text": [
      "Training:  77%|███████▋  | 154/200 [27:48<08:18, 10.85s/Epochs]"
     ]
    },
    {
     "name": "stdout",
     "output_type": "stream",
     "text": [
      "Epoch: 0153,\tTrain mse: 0.06422909,\tTrain_RMSE: 0.25338186,\tTrain_acc: 0.25339663,\tTest mse: 0.06702072,\tTime: 10.98992801s\n"
     ]
    },
    {
     "name": "stderr",
     "output_type": "stream",
     "text": [
      "Training:  78%|███████▊  | 155/200 [27:58<08:06, 10.81s/Epochs]"
     ]
    },
    {
     "name": "stdout",
     "output_type": "stream",
     "text": [
      "Epoch: 0154,\tTrain mse: 0.06421543,\tTrain_RMSE: 0.25335501,\tTrain_acc: 0.25336984,\tTest mse: 0.06696431,\tTime: 10.73423052s\n"
     ]
    },
    {
     "name": "stderr",
     "output_type": "stream",
     "text": [
      "Training:  78%|███████▊  | 156/200 [28:09<07:55, 10.80s/Epochs]"
     ]
    },
    {
     "name": "stdout",
     "output_type": "stream",
     "text": [
      "Epoch: 0155,\tTrain mse: 0.06419832,\tTrain_RMSE: 0.25332092,\tTrain_acc: 0.25333571,\tTest mse: 0.06695679,\tTime: 10.75871563s\n"
     ]
    },
    {
     "name": "stderr",
     "output_type": "stream",
     "text": [
      "Training:  78%|███████▊  | 157/200 [28:20<07:43, 10.78s/Epochs]"
     ]
    },
    {
     "name": "stdout",
     "output_type": "stream",
     "text": [
      "Epoch: 0156,\tTrain mse: 0.06416226,\tTrain_RMSE: 0.25324978,\tTrain_acc: 0.25326452,\tTest mse: 0.06696771,\tTime: 10.75242496s\n"
     ]
    },
    {
     "name": "stderr",
     "output_type": "stream",
     "text": [
      "Training:  79%|███████▉  | 158/200 [28:31<07:34, 10.82s/Epochs]"
     ]
    },
    {
     "name": "stdout",
     "output_type": "stream",
     "text": [
      "Epoch: 0157,\tTrain mse: 0.06414271,\tTrain_RMSE: 0.25321126,\tTrain_acc: 0.25322628,\tTest mse: 0.06691849,\tTime: 10.89248967s\n"
     ]
    },
    {
     "name": "stderr",
     "output_type": "stream",
     "text": [
      "Training:  80%|███████▉  | 159/200 [28:42<07:24, 10.83s/Epochs]"
     ]
    },
    {
     "name": "stdout",
     "output_type": "stream",
     "text": [
      "Epoch: 0158,\tTrain mse: 0.06411904,\tTrain_RMSE: 0.25316538,\tTrain_acc: 0.25318035,\tTest mse: 0.06691722,\tTime: 10.86168432s\n"
     ]
    },
    {
     "name": "stderr",
     "output_type": "stream",
     "text": [
      "Training:  80%|████████  | 160/200 [28:52<07:12, 10.81s/Epochs]"
     ]
    },
    {
     "name": "stdout",
     "output_type": "stream",
     "text": [
      "Epoch: 0159,\tTrain mse: 0.06409517,\tTrain_RMSE: 0.25311772,\tTrain_acc: 0.25313270,\tTest mse: 0.06685957,\tTime: 10.77345729s\n"
     ]
    },
    {
     "name": "stderr",
     "output_type": "stream",
     "text": [
      "Training:  80%|████████  | 161/200 [29:03<06:57, 10.71s/Epochs]"
     ]
    },
    {
     "name": "stdout",
     "output_type": "stream",
     "text": [
      "Epoch: 0160,\tTrain mse: 0.06405713,\tTrain_RMSE: 0.25304236,\tTrain_acc: 0.25305742,\tTest mse: 0.06679574,\tTime: 10.46969485s\n"
     ]
    },
    {
     "name": "stderr",
     "output_type": "stream",
     "text": [
      "Training:  81%|████████  | 162/200 [29:14<06:47, 10.73s/Epochs]"
     ]
    },
    {
     "name": "stdout",
     "output_type": "stream",
     "text": [
      "Epoch: 0161,\tTrain mse: 0.06403387,\tTrain_RMSE: 0.25299541,\tTrain_acc: 0.25301039,\tTest mse: 0.06680828,\tTime: 10.78003931s\n"
     ]
    },
    {
     "name": "stderr",
     "output_type": "stream",
     "text": [
      "Training:  82%|████████▏ | 163/200 [29:24<06:37, 10.74s/Epochs]"
     ]
    },
    {
     "name": "stdout",
     "output_type": "stream",
     "text": [
      "Epoch: 0162,\tTrain mse: 0.06400228,\tTrain_RMSE: 0.25293303,\tTrain_acc: 0.25294799,\tTest mse: 0.06677549,\tTime: 10.77239943s\n"
     ]
    },
    {
     "name": "stderr",
     "output_type": "stream",
     "text": [
      "Training:  82%|████████▏ | 164/200 [29:35<06:29, 10.82s/Epochs]"
     ]
    },
    {
     "name": "stdout",
     "output_type": "stream",
     "text": [
      "Epoch: 0163,\tTrain mse: 0.06400059,\tTrain_RMSE: 0.25292916,\tTrain_acc: 0.25294417,\tTest mse: 0.06677310,\tTime: 10.99736023s\n"
     ]
    },
    {
     "name": "stderr",
     "output_type": "stream",
     "text": [
      "Training:  82%|████████▎ | 165/200 [29:46<06:19, 10.85s/Epochs]"
     ]
    },
    {
     "name": "stdout",
     "output_type": "stream",
     "text": [
      "Epoch: 0164,\tTrain mse: 0.06396363,\tTrain_RMSE: 0.25285613,\tTrain_acc: 0.25287113,\tTest mse: 0.06672513,\tTime: 10.90886497s\n"
     ]
    },
    {
     "name": "stderr",
     "output_type": "stream",
     "text": [
      "Training:  83%|████████▎ | 166/200 [29:57<06:08, 10.85s/Epochs]"
     ]
    },
    {
     "name": "stdout",
     "output_type": "stream",
     "text": [
      "Epoch: 0165,\tTrain mse: 0.06392649,\tTrain_RMSE: 0.25278330,\tTrain_acc: 0.25279820,\tTest mse: 0.06668272,\tTime: 10.84826159s\n"
     ]
    },
    {
     "name": "stderr",
     "output_type": "stream",
     "text": [
      "Training:  84%|████████▎ | 167/200 [30:08<05:57, 10.84s/Epochs]"
     ]
    },
    {
     "name": "stdout",
     "output_type": "stream",
     "text": [
      "Epoch: 0166,\tTrain mse: 0.06389388,\tTrain_RMSE: 0.25271960,\tTrain_acc: 0.25273463,\tTest mse: 0.06662877,\tTime: 10.82742667s\n"
     ]
    },
    {
     "name": "stderr",
     "output_type": "stream",
     "text": [
      "Training:  84%|████████▍ | 168/200 [30:18<05:43, 10.72s/Epochs]"
     ]
    },
    {
     "name": "stdout",
     "output_type": "stream",
     "text": [
      "Epoch: 0167,\tTrain mse: 0.06386667,\tTrain_RMSE: 0.25266537,\tTrain_acc: 0.25268030,\tTest mse: 0.06659401,\tTime: 10.44870234s\n"
     ]
    },
    {
     "name": "stderr",
     "output_type": "stream",
     "text": [
      "Training:  84%|████████▍ | 169/200 [30:29<05:32, 10.71s/Epochs]"
     ]
    },
    {
     "name": "stdout",
     "output_type": "stream",
     "text": [
      "Epoch: 0168,\tTrain mse: 0.06381064,\tTrain_RMSE: 0.25255403,\tTrain_acc: 0.25256911,\tTest mse: 0.06651600,\tTime: 10.67465043s\n"
     ]
    },
    {
     "name": "stderr",
     "output_type": "stream",
     "text": [
      "Training:  85%|████████▌ | 170/200 [30:40<05:21, 10.71s/Epochs]"
     ]
    },
    {
     "name": "stdout",
     "output_type": "stream",
     "text": [
      "Epoch: 0169,\tTrain mse: 0.06379052,\tTrain_RMSE: 0.25251417,\tTrain_acc: 0.25252920,\tTest mse: 0.06646327,\tTime: 10.71629167s\n"
     ]
    },
    {
     "name": "stderr",
     "output_type": "stream",
     "text": [
      "Training:  86%|████████▌ | 171/200 [30:51<05:10, 10.71s/Epochs]"
     ]
    },
    {
     "name": "stdout",
     "output_type": "stream",
     "text": [
      "Epoch: 0170,\tTrain mse: 0.06376267,\tTrain_RMSE: 0.25246011,\tTrain_acc: 0.25247487,\tTest mse: 0.06644905,\tTime: 10.70957541s\n"
     ]
    },
    {
     "name": "stderr",
     "output_type": "stream",
     "text": [
      "Training:  86%|████████▌ | 172/200 [31:01<04:59, 10.70s/Epochs]"
     ]
    },
    {
     "name": "stdout",
     "output_type": "stream",
     "text": [
      "Epoch: 0171,\tTrain mse: 0.06375142,\tTrain_RMSE: 0.25243853,\tTrain_acc: 0.25245333,\tTest mse: 0.06640945,\tTime: 10.67996144s\n"
     ]
    },
    {
     "name": "stderr",
     "output_type": "stream",
     "text": [
      "Training:  86%|████████▋ | 173/200 [31:12<04:51, 10.81s/Epochs]"
     ]
    },
    {
     "name": "stdout",
     "output_type": "stream",
     "text": [
      "Epoch: 0172,\tTrain mse: 0.06371570,\tTrain_RMSE: 0.25236592,\tTrain_acc: 0.25238091,\tTest mse: 0.06635816,\tTime: 11.04259443s\n"
     ]
    },
    {
     "name": "stderr",
     "output_type": "stream",
     "text": [
      "Training:  87%|████████▋ | 174/200 [31:23<04:42, 10.85s/Epochs]"
     ]
    },
    {
     "name": "stdout",
     "output_type": "stream",
     "text": [
      "Epoch: 0173,\tTrain mse: 0.06369888,\tTrain_RMSE: 0.25233346,\tTrain_acc: 0.25234821,\tTest mse: 0.06631691,\tTime: 10.95856547s\n"
     ]
    },
    {
     "name": "stderr",
     "output_type": "stream",
     "text": [
      "Training:  88%|████████▊ | 175/200 [31:34<04:31, 10.87s/Epochs]"
     ]
    },
    {
     "name": "stdout",
     "output_type": "stream",
     "text": [
      "Epoch: 0174,\tTrain mse: 0.06365242,\tTrain_RMSE: 0.25224097,\tTrain_acc: 0.25225565,\tTest mse: 0.06631898,\tTime: 10.90473604s\n"
     ]
    },
    {
     "name": "stderr",
     "output_type": "stream",
     "text": [
      "Training:  88%|████████▊ | 176/200 [31:45<04:18, 10.79s/Epochs]"
     ]
    },
    {
     "name": "stdout",
     "output_type": "stream",
     "text": [
      "Epoch: 0175,\tTrain mse: 0.06360606,\tTrain_RMSE: 0.25214872,\tTrain_acc: 0.25216359,\tTest mse: 0.06626817,\tTime: 10.61054635s\n"
     ]
    },
    {
     "name": "stderr",
     "output_type": "stream",
     "text": [
      "Training:  88%|████████▊ | 177/200 [31:55<04:06, 10.71s/Epochs]"
     ]
    },
    {
     "name": "stdout",
     "output_type": "stream",
     "text": [
      "Epoch: 0176,\tTrain mse: 0.06359931,\tTrain_RMSE: 0.25213523,\tTrain_acc: 0.25215003,\tTest mse: 0.06621793,\tTime: 10.51762748s\n"
     ]
    },
    {
     "name": "stderr",
     "output_type": "stream",
     "text": [
      "Training:  89%|████████▉ | 178/200 [32:06<03:55, 10.70s/Epochs]"
     ]
    },
    {
     "name": "stdout",
     "output_type": "stream",
     "text": [
      "Epoch: 0177,\tTrain mse: 0.06354268,\tTrain_RMSE: 0.25202169,\tTrain_acc: 0.25203657,\tTest mse: 0.06596587,\tTime: 10.68392086s\n"
     ]
    },
    {
     "name": "stderr",
     "output_type": "stream",
     "text": [
      "Training:  90%|████████▉ | 179/200 [32:17<03:45, 10.73s/Epochs]"
     ]
    },
    {
     "name": "stdout",
     "output_type": "stream",
     "text": [
      "Epoch: 0178,\tTrain mse: 0.06346832,\tTrain_RMSE: 0.25187492,\tTrain_acc: 0.25188988,\tTest mse: 0.06594279,\tTime: 10.79604721s\n"
     ]
    },
    {
     "name": "stderr",
     "output_type": "stream",
     "text": [
      "Training:  90%|█████████ | 180/200 [32:27<03:34, 10.73s/Epochs]"
     ]
    },
    {
     "name": "stdout",
     "output_type": "stream",
     "text": [
      "Epoch: 0179,\tTrain mse: 0.06345275,\tTrain_RMSE: 0.25184473,\tTrain_acc: 0.25185964,\tTest mse: 0.06595538,\tTime: 10.72906041s\n"
     ]
    },
    {
     "name": "stderr",
     "output_type": "stream",
     "text": [
      "Training:  90%|█████████ | 181/200 [32:38<03:24, 10.74s/Epochs]"
     ]
    },
    {
     "name": "stdout",
     "output_type": "stream",
     "text": [
      "Epoch: 0180,\tTrain mse: 0.06343059,\tTrain_RMSE: 0.25179927,\tTrain_acc: 0.25181425,\tTest mse: 0.06589444,\tTime: 10.76307654s\n"
     ]
    },
    {
     "name": "stderr",
     "output_type": "stream",
     "text": [
      "Training:  91%|█████████ | 182/200 [32:49<03:13, 10.73s/Epochs]"
     ]
    },
    {
     "name": "stdout",
     "output_type": "stream",
     "text": [
      "Epoch: 0181,\tTrain mse: 0.06339865,\tTrain_RMSE: 0.25173665,\tTrain_acc: 0.25175166,\tTest mse: 0.06585027,\tTime: 10.68977594s\n"
     ]
    },
    {
     "name": "stderr",
     "output_type": "stream",
     "text": [
      "Training:  92%|█████████▏| 183/200 [33:00<03:02, 10.76s/Epochs]"
     ]
    },
    {
     "name": "stdout",
     "output_type": "stream",
     "text": [
      "Epoch: 0182,\tTrain mse: 0.06337182,\tTrain_RMSE: 0.25168388,\tTrain_acc: 0.25169873,\tTest mse: 0.06579962,\tTime: 10.82022595s\n"
     ]
    },
    {
     "name": "stderr",
     "output_type": "stream",
     "text": [
      "Training:  92%|█████████▏| 184/200 [33:10<02:51, 10.69s/Epochs]"
     ]
    },
    {
     "name": "stdout",
     "output_type": "stream",
     "text": [
      "Epoch: 0183,\tTrain mse: 0.06337759,\tTrain_RMSE: 0.25169529,\tTrain_acc: 0.25171027,\tTest mse: 0.06572726,\tTime: 10.54234433s\n"
     ]
    },
    {
     "name": "stderr",
     "output_type": "stream",
     "text": [
      "Training:  92%|█████████▎| 185/200 [33:21<02:40, 10.70s/Epochs]"
     ]
    },
    {
     "name": "stdout",
     "output_type": "stream",
     "text": [
      "Epoch: 0184,\tTrain mse: 0.06337385,\tTrain_RMSE: 0.25168750,\tTrain_acc: 0.25170276,\tTest mse: 0.06567592,\tTime: 10.71470571s\n"
     ]
    },
    {
     "name": "stderr",
     "output_type": "stream",
     "text": [
      "Training:  93%|█████████▎| 186/200 [33:32<02:29, 10.70s/Epochs]"
     ]
    },
    {
     "name": "stdout",
     "output_type": "stream",
     "text": [
      "Epoch: 0185,\tTrain mse: 0.06329491,\tTrain_RMSE: 0.25153146,\tTrain_acc: 0.25154659,\tTest mse: 0.06566303,\tTime: 10.68898892s\n"
     ]
    },
    {
     "name": "stderr",
     "output_type": "stream",
     "text": [
      "Training:  94%|█████████▎| 187/200 [33:42<02:18, 10.69s/Epochs]"
     ]
    },
    {
     "name": "stdout",
     "output_type": "stream",
     "text": [
      "Epoch: 0186,\tTrain mse: 0.06326739,\tTrain_RMSE: 0.25147637,\tTrain_acc: 0.25149155,\tTest mse: 0.06558196,\tTime: 10.66092491s\n"
     ]
    },
    {
     "name": "stderr",
     "output_type": "stream",
     "text": [
      "Training:  94%|█████████▍| 188/200 [33:53<02:08, 10.75s/Epochs]"
     ]
    },
    {
     "name": "stdout",
     "output_type": "stream",
     "text": [
      "Epoch: 0187,\tTrain mse: 0.06323133,\tTrain_RMSE: 0.25140545,\tTrain_acc: 0.25142059,\tTest mse: 0.06557276,\tTime: 10.89283633s\n"
     ]
    },
    {
     "name": "stderr",
     "output_type": "stream",
     "text": [
      "Training:  94%|█████████▍| 189/200 [34:04<01:58, 10.81s/Epochs]"
     ]
    },
    {
     "name": "stdout",
     "output_type": "stream",
     "text": [
      "Epoch: 0188,\tTrain mse: 0.06321083,\tTrain_RMSE: 0.25136586,\tTrain_acc: 0.25138098,\tTest mse: 0.06553461,\tTime: 10.96157265s\n"
     ]
    },
    {
     "name": "stderr",
     "output_type": "stream",
     "text": [
      "Training:  95%|█████████▌| 190/200 [34:15<01:47, 10.79s/Epochs]"
     ]
    },
    {
     "name": "stdout",
     "output_type": "stream",
     "text": [
      "Epoch: 0189,\tTrain mse: 0.06317452,\tTrain_RMSE: 0.25129323,\tTrain_acc: 0.25130820,\tTest mse: 0.06544099,\tTime: 10.74762797s\n"
     ]
    },
    {
     "name": "stderr",
     "output_type": "stream",
     "text": [
      "Training:  96%|█████████▌| 191/200 [34:26<01:37, 10.81s/Epochs]"
     ]
    },
    {
     "name": "stdout",
     "output_type": "stream",
     "text": [
      "Epoch: 0190,\tTrain mse: 0.06309871,\tTrain_RMSE: 0.25114176,\tTrain_acc: 0.25115687,\tTest mse: 0.06541021,\tTime: 10.85699964s\n"
     ]
    },
    {
     "name": "stderr",
     "output_type": "stream",
     "text": [
      "Training:  96%|█████████▌| 192/200 [34:37<01:26, 10.87s/Epochs]"
     ]
    },
    {
     "name": "stdout",
     "output_type": "stream",
     "text": [
      "Epoch: 0191,\tTrain mse: 0.06304147,\tTrain_RMSE: 0.25102748,\tTrain_acc: 0.25104269,\tTest mse: 0.06532830,\tTime: 10.99450898s\n"
     ]
    },
    {
     "name": "stderr",
     "output_type": "stream",
     "text": [
      "Training:  96%|█████████▋| 193/200 [34:48<01:15, 10.86s/Epochs]"
     ]
    },
    {
     "name": "stdout",
     "output_type": "stream",
     "text": [
      "Epoch: 0192,\tTrain mse: 0.06298828,\tTrain_RMSE: 0.25092120,\tTrain_acc: 0.25093609,\tTest mse: 0.06523983,\tTime: 10.82541823s\n"
     ]
    },
    {
     "name": "stderr",
     "output_type": "stream",
     "text": [
      "Training:  97%|█████████▋| 194/200 [34:58<01:04, 10.77s/Epochs]"
     ]
    },
    {
     "name": "stdout",
     "output_type": "stream",
     "text": [
      "Epoch: 0193,\tTrain mse: 0.06299525,\tTrain_RMSE: 0.25093503,\tTrain_acc: 0.25095028,\tTest mse: 0.06523885,\tTime: 10.55928111s\n"
     ]
    },
    {
     "name": "stderr",
     "output_type": "stream",
     "text": [
      "Training:  98%|█████████▊| 195/200 [35:09<00:53, 10.75s/Epochs]"
     ]
    },
    {
     "name": "stdout",
     "output_type": "stream",
     "text": [
      "Epoch: 0194,\tTrain mse: 0.06302303,\tTrain_RMSE: 0.25099002,\tTrain_acc: 0.25100517,\tTest mse: 0.06522027,\tTime: 10.69803309s\n"
     ]
    },
    {
     "name": "stderr",
     "output_type": "stream",
     "text": [
      "Training:  98%|█████████▊| 196/200 [35:20<00:42, 10.74s/Epochs]"
     ]
    },
    {
     "name": "stdout",
     "output_type": "stream",
     "text": [
      "Epoch: 0195,\tTrain mse: 0.06294144,\tTrain_RMSE: 0.25082872,\tTrain_acc: 0.25084394,\tTest mse: 0.06517072,\tTime: 10.72028351s\n"
     ]
    },
    {
     "name": "stderr",
     "output_type": "stream",
     "text": [
      "Training:  98%|█████████▊| 197/200 [35:31<00:32, 10.81s/Epochs]"
     ]
    },
    {
     "name": "stdout",
     "output_type": "stream",
     "text": [
      "Epoch: 0196,\tTrain mse: 0.06290033,\tTrain_RMSE: 0.25074669,\tTrain_acc: 0.25076163,\tTest mse: 0.06515657,\tTime: 10.98621368s\n"
     ]
    },
    {
     "name": "stderr",
     "output_type": "stream",
     "text": [
      "Training:  99%|█████████▉| 198/200 [35:42<00:21, 10.87s/Epochs]"
     ]
    },
    {
     "name": "stdout",
     "output_type": "stream",
     "text": [
      "Epoch: 0197,\tTrain mse: 0.06284341,\tTrain_RMSE: 0.25063445,\tTrain_acc: 0.25064933,\tTest mse: 0.06537226,\tTime: 10.99730229s\n"
     ]
    },
    {
     "name": "stderr",
     "output_type": "stream",
     "text": [
      "Training: 100%|█████████▉| 199/200 [35:52<00:10, 10.86s/Epochs]"
     ]
    },
    {
     "name": "stdout",
     "output_type": "stream",
     "text": [
      "Epoch: 0198,\tTrain mse: 0.06282661,\tTrain_RMSE: 0.25060059,\tTrain_acc: 0.25061554,\tTest mse: 0.06537260,\tTime: 10.85227871s\n"
     ]
    },
    {
     "name": "stderr",
     "output_type": "stream",
     "text": [
      "Training: 100%|██████████| 200/200 [36:03<00:00, 10.82s/Epochs]"
     ]
    },
    {
     "name": "stdout",
     "output_type": "stream",
     "text": [
      "Epoch: 0199,\tTrain mse: 0.06279532,\tTrain_RMSE: 0.25053847,\tTrain_acc: 0.25055367,\tTest mse: 0.06534732,\tTime: 10.90403390s\n",
      "Model.state_dict:\n",
      "node_encode.0.weight \t torch.Size([32, 2])\n",
      "node_encode.0.bias \t torch.Size([32])\n",
      "node_encode.1.weight \t torch.Size([32, 32])\n",
      "node_encode.1.bias \t torch.Size([32])\n",
      "node_encode.2.weight \t torch.Size([32, 32])\n",
      "node_encode.2.bias \t torch.Size([32])\n",
      "node_encode.3.weight \t torch.Size([32, 32])\n",
      "node_encode.3.bias \t torch.Size([32])\n",
      "node_encode.4.weight \t torch.Size([32, 32])\n",
      "node_encode.4.bias \t torch.Size([32])\n",
      "node_encode.5.weight \t torch.Size([32, 32])\n",
      "node_encode.5.bias \t torch.Size([32])\n",
      "node_encode_norm.weight \t torch.Size([32])\n",
      "node_encode_norm.bias \t torch.Size([32])\n",
      "edge_encode.0.weight \t torch.Size([32, 3])\n",
      "edge_encode.0.bias \t torch.Size([32])\n",
      "edge_encode.1.weight \t torch.Size([32, 32])\n",
      "edge_encode.1.bias \t torch.Size([32])\n",
      "edge_encode.2.weight \t torch.Size([32, 32])\n",
      "edge_encode.2.bias \t torch.Size([32])\n",
      "edge_encode.3.weight \t torch.Size([32, 32])\n",
      "edge_encode.3.bias \t torch.Size([32])\n",
      "edge_encode.4.weight \t torch.Size([32, 32])\n",
      "edge_encode.4.bias \t torch.Size([32])\n",
      "edge_encode.5.weight \t torch.Size([32, 32])\n",
      "edge_encode.5.bias \t torch.Size([32])\n",
      "edge_encode_norm.weight \t torch.Size([32])\n",
      "edge_encode_norm.bias \t torch.Size([32])\n",
      "edge_down_mps.0.0.0.weight \t torch.Size([32, 96])\n",
      "edge_down_mps.0.0.0.bias \t torch.Size([32])\n",
      "edge_down_mps.0.0.1.weight \t torch.Size([32, 32])\n",
      "edge_down_mps.0.0.1.bias \t torch.Size([32])\n",
      "edge_down_mps.0.0.2.weight \t torch.Size([32, 32])\n",
      "edge_down_mps.0.0.2.bias \t torch.Size([32])\n",
      "edge_down_mps.0.1.0.weight \t torch.Size([32, 96])\n",
      "edge_down_mps.0.1.0.bias \t torch.Size([32])\n",
      "edge_down_mps.0.1.1.weight \t torch.Size([32, 32])\n",
      "edge_down_mps.0.1.1.bias \t torch.Size([32])\n",
      "edge_down_mps.0.1.2.weight \t torch.Size([32, 32])\n",
      "edge_down_mps.0.1.2.bias \t torch.Size([32])\n",
      "edge_down_mps.1.0.0.weight \t torch.Size([32, 96])\n",
      "edge_down_mps.1.0.0.bias \t torch.Size([32])\n",
      "edge_down_mps.1.0.1.weight \t torch.Size([32, 32])\n",
      "edge_down_mps.1.0.1.bias \t torch.Size([32])\n",
      "edge_down_mps.1.0.2.weight \t torch.Size([32, 32])\n",
      "edge_down_mps.1.0.2.bias \t torch.Size([32])\n",
      "edge_down_mps.1.1.0.weight \t torch.Size([32, 96])\n",
      "edge_down_mps.1.1.0.bias \t torch.Size([32])\n",
      "edge_down_mps.1.1.1.weight \t torch.Size([32, 32])\n",
      "edge_down_mps.1.1.1.bias \t torch.Size([32])\n",
      "edge_down_mps.1.1.2.weight \t torch.Size([32, 32])\n",
      "edge_down_mps.1.1.2.bias \t torch.Size([32])\n",
      "edge_down_mps.2.0.0.weight \t torch.Size([32, 96])\n",
      "edge_down_mps.2.0.0.bias \t torch.Size([32])\n",
      "edge_down_mps.2.0.1.weight \t torch.Size([32, 32])\n",
      "edge_down_mps.2.0.1.bias \t torch.Size([32])\n",
      "edge_down_mps.2.0.2.weight \t torch.Size([32, 32])\n",
      "edge_down_mps.2.0.2.bias \t torch.Size([32])\n",
      "edge_down_mps.2.1.0.weight \t torch.Size([32, 96])\n",
      "edge_down_mps.2.1.0.bias \t torch.Size([32])\n",
      "edge_down_mps.2.1.1.weight \t torch.Size([32, 32])\n",
      "edge_down_mps.2.1.1.bias \t torch.Size([32])\n",
      "edge_down_mps.2.1.2.weight \t torch.Size([32, 32])\n",
      "edge_down_mps.2.1.2.bias \t torch.Size([32])\n",
      "edge_down_mps.3.0.0.weight \t torch.Size([32, 96])\n",
      "edge_down_mps.3.0.0.bias \t torch.Size([32])\n",
      "edge_down_mps.3.0.1.weight \t torch.Size([32, 32])\n",
      "edge_down_mps.3.0.1.bias \t torch.Size([32])\n",
      "edge_down_mps.3.0.2.weight \t torch.Size([32, 32])\n",
      "edge_down_mps.3.0.2.bias \t torch.Size([32])\n",
      "edge_down_mps.3.1.0.weight \t torch.Size([32, 96])\n",
      "edge_down_mps.3.1.0.bias \t torch.Size([32])\n",
      "edge_down_mps.3.1.1.weight \t torch.Size([32, 32])\n",
      "edge_down_mps.3.1.1.bias \t torch.Size([32])\n",
      "edge_down_mps.3.1.2.weight \t torch.Size([32, 32])\n",
      "edge_down_mps.3.1.2.bias \t torch.Size([32])\n",
      "edge_down_mps.4.0.0.weight \t torch.Size([32, 96])\n",
      "edge_down_mps.4.0.0.bias \t torch.Size([32])\n",
      "edge_down_mps.4.0.1.weight \t torch.Size([32, 32])\n",
      "edge_down_mps.4.0.1.bias \t torch.Size([32])\n",
      "edge_down_mps.4.0.2.weight \t torch.Size([32, 32])\n",
      "edge_down_mps.4.0.2.bias \t torch.Size([32])\n",
      "edge_down_mps.5.0.0.weight \t torch.Size([32, 96])\n",
      "edge_down_mps.5.0.0.bias \t torch.Size([32])\n",
      "edge_down_mps.5.0.1.weight \t torch.Size([32, 32])\n",
      "edge_down_mps.5.0.1.bias \t torch.Size([32])\n",
      "edge_down_mps.5.0.2.weight \t torch.Size([32, 32])\n",
      "edge_down_mps.5.0.2.bias \t torch.Size([32])\n",
      "edge_down_norms.0.0.weight \t torch.Size([32])\n",
      "edge_down_norms.0.0.bias \t torch.Size([32])\n",
      "edge_down_norms.0.1.weight \t torch.Size([32])\n",
      "edge_down_norms.0.1.bias \t torch.Size([32])\n",
      "edge_down_norms.1.0.weight \t torch.Size([32])\n",
      "edge_down_norms.1.0.bias \t torch.Size([32])\n",
      "edge_down_norms.1.1.weight \t torch.Size([32])\n",
      "edge_down_norms.1.1.bias \t torch.Size([32])\n",
      "edge_down_norms.2.0.weight \t torch.Size([32])\n",
      "edge_down_norms.2.0.bias \t torch.Size([32])\n",
      "edge_down_norms.2.1.weight \t torch.Size([32])\n",
      "edge_down_norms.2.1.bias \t torch.Size([32])\n",
      "edge_down_norms.3.0.weight \t torch.Size([32])\n",
      "edge_down_norms.3.0.bias \t torch.Size([32])\n",
      "edge_down_norms.3.1.weight \t torch.Size([32])\n",
      "edge_down_norms.3.1.bias \t torch.Size([32])\n",
      "edge_down_norms.4.0.weight \t torch.Size([32])\n",
      "edge_down_norms.4.0.bias \t torch.Size([32])\n",
      "edge_down_norms.5.0.weight \t torch.Size([32])\n",
      "edge_down_norms.5.0.bias \t torch.Size([32])\n",
      "node_down_mps.0.0.0.weight \t torch.Size([32, 64])\n",
      "node_down_mps.0.0.0.bias \t torch.Size([32])\n",
      "node_down_mps.0.0.1.weight \t torch.Size([32, 32])\n",
      "node_down_mps.0.0.1.bias \t torch.Size([32])\n",
      "node_down_mps.0.0.2.weight \t torch.Size([32, 32])\n",
      "node_down_mps.0.0.2.bias \t torch.Size([32])\n",
      "node_down_mps.0.1.0.weight \t torch.Size([32, 64])\n",
      "node_down_mps.0.1.0.bias \t torch.Size([32])\n",
      "node_down_mps.0.1.1.weight \t torch.Size([32, 32])\n",
      "node_down_mps.0.1.1.bias \t torch.Size([32])\n",
      "node_down_mps.0.1.2.weight \t torch.Size([32, 32])\n",
      "node_down_mps.0.1.2.bias \t torch.Size([32])\n",
      "node_down_mps.1.0.0.weight \t torch.Size([32, 64])\n",
      "node_down_mps.1.0.0.bias \t torch.Size([32])\n",
      "node_down_mps.1.0.1.weight \t torch.Size([32, 32])\n",
      "node_down_mps.1.0.1.bias \t torch.Size([32])\n",
      "node_down_mps.1.0.2.weight \t torch.Size([32, 32])\n",
      "node_down_mps.1.0.2.bias \t torch.Size([32])\n",
      "node_down_mps.1.1.0.weight \t torch.Size([32, 64])\n",
      "node_down_mps.1.1.0.bias \t torch.Size([32])\n",
      "node_down_mps.1.1.1.weight \t torch.Size([32, 32])\n",
      "node_down_mps.1.1.1.bias \t torch.Size([32])\n",
      "node_down_mps.1.1.2.weight \t torch.Size([32, 32])\n",
      "node_down_mps.1.1.2.bias \t torch.Size([32])\n",
      "node_down_mps.2.0.0.weight \t torch.Size([32, 64])\n",
      "node_down_mps.2.0.0.bias \t torch.Size([32])\n",
      "node_down_mps.2.0.1.weight \t torch.Size([32, 32])\n",
      "node_down_mps.2.0.1.bias \t torch.Size([32])\n",
      "node_down_mps.2.0.2.weight \t torch.Size([32, 32])\n",
      "node_down_mps.2.0.2.bias \t torch.Size([32])\n",
      "node_down_mps.2.1.0.weight \t torch.Size([32, 64])\n",
      "node_down_mps.2.1.0.bias \t torch.Size([32])\n",
      "node_down_mps.2.1.1.weight \t torch.Size([32, 32])\n",
      "node_down_mps.2.1.1.bias \t torch.Size([32])\n",
      "node_down_mps.2.1.2.weight \t torch.Size([32, 32])\n",
      "node_down_mps.2.1.2.bias \t torch.Size([32])\n",
      "node_down_mps.3.0.0.weight \t torch.Size([32, 64])\n",
      "node_down_mps.3.0.0.bias \t torch.Size([32])\n",
      "node_down_mps.3.0.1.weight \t torch.Size([32, 32])\n",
      "node_down_mps.3.0.1.bias \t torch.Size([32])\n",
      "node_down_mps.3.0.2.weight \t torch.Size([32, 32])\n",
      "node_down_mps.3.0.2.bias \t torch.Size([32])\n",
      "node_down_mps.3.1.0.weight \t torch.Size([32, 64])\n",
      "node_down_mps.3.1.0.bias \t torch.Size([32])\n",
      "node_down_mps.3.1.1.weight \t torch.Size([32, 32])\n",
      "node_down_mps.3.1.1.bias \t torch.Size([32])\n",
      "node_down_mps.3.1.2.weight \t torch.Size([32, 32])\n",
      "node_down_mps.3.1.2.bias \t torch.Size([32])\n",
      "node_down_mps.4.0.0.weight \t torch.Size([32, 64])\n",
      "node_down_mps.4.0.0.bias \t torch.Size([32])\n",
      "node_down_mps.4.0.1.weight \t torch.Size([32, 32])\n",
      "node_down_mps.4.0.1.bias \t torch.Size([32])\n",
      "node_down_mps.4.0.2.weight \t torch.Size([32, 32])\n",
      "node_down_mps.4.0.2.bias \t torch.Size([32])\n",
      "node_down_mps.5.0.0.weight \t torch.Size([32, 64])\n",
      "node_down_mps.5.0.0.bias \t torch.Size([32])\n",
      "node_down_mps.5.0.1.weight \t torch.Size([32, 32])\n",
      "node_down_mps.5.0.1.bias \t torch.Size([32])\n",
      "node_down_mps.5.0.2.weight \t torch.Size([32, 32])\n",
      "node_down_mps.5.0.2.bias \t torch.Size([32])\n",
      "node_down_norms.0.0.weight \t torch.Size([32])\n",
      "node_down_norms.0.0.bias \t torch.Size([32])\n",
      "node_down_norms.0.1.weight \t torch.Size([32])\n",
      "node_down_norms.0.1.bias \t torch.Size([32])\n",
      "node_down_norms.1.0.weight \t torch.Size([32])\n",
      "node_down_norms.1.0.bias \t torch.Size([32])\n",
      "node_down_norms.1.1.weight \t torch.Size([32])\n",
      "node_down_norms.1.1.bias \t torch.Size([32])\n",
      "node_down_norms.2.0.weight \t torch.Size([32])\n",
      "node_down_norms.2.0.bias \t torch.Size([32])\n",
      "node_down_norms.2.1.weight \t torch.Size([32])\n",
      "node_down_norms.2.1.bias \t torch.Size([32])\n",
      "node_down_norms.3.0.weight \t torch.Size([32])\n",
      "node_down_norms.3.0.bias \t torch.Size([32])\n",
      "node_down_norms.3.1.weight \t torch.Size([32])\n",
      "node_down_norms.3.1.bias \t torch.Size([32])\n",
      "node_down_norms.4.0.weight \t torch.Size([32])\n",
      "node_down_norms.4.0.bias \t torch.Size([32])\n",
      "node_down_norms.5.0.weight \t torch.Size([32])\n",
      "node_down_norms.5.0.bias \t torch.Size([32])\n",
      "edge_up_mps.0.0.0.weight \t torch.Size([32, 96])\n",
      "edge_up_mps.0.0.0.bias \t torch.Size([32])\n",
      "edge_up_mps.0.0.1.weight \t torch.Size([32, 32])\n",
      "edge_up_mps.0.0.1.bias \t torch.Size([32])\n",
      "edge_up_mps.0.0.2.weight \t torch.Size([32, 32])\n",
      "edge_up_mps.0.0.2.bias \t torch.Size([32])\n",
      "edge_up_mps.1.0.0.weight \t torch.Size([32, 96])\n",
      "edge_up_mps.1.0.0.bias \t torch.Size([32])\n",
      "edge_up_mps.1.0.1.weight \t torch.Size([32, 32])\n",
      "edge_up_mps.1.0.1.bias \t torch.Size([32])\n",
      "edge_up_mps.1.0.2.weight \t torch.Size([32, 32])\n",
      "edge_up_mps.1.0.2.bias \t torch.Size([32])\n"
     ]
    },
    {
     "name": "stderr",
     "output_type": "stream",
     "text": [
      "\n"
     ]
    },
    {
     "name": "stdout",
     "output_type": "stream",
     "text": [
      "edge_up_mps.2.0.0.weight \t torch.Size([32, 96])\n",
      "edge_up_mps.2.0.0.bias \t torch.Size([32])\n",
      "edge_up_mps.2.0.1.weight \t torch.Size([32, 32])\n",
      "edge_up_mps.2.0.1.bias \t torch.Size([32])\n",
      "edge_up_mps.2.0.2.weight \t torch.Size([32, 32])\n",
      "edge_up_mps.2.0.2.bias \t torch.Size([32])\n",
      "edge_up_mps.2.1.0.weight \t torch.Size([32, 96])\n",
      "edge_up_mps.2.1.0.bias \t torch.Size([32])\n",
      "edge_up_mps.2.1.1.weight \t torch.Size([32, 32])\n",
      "edge_up_mps.2.1.1.bias \t torch.Size([32])\n",
      "edge_up_mps.2.1.2.weight \t torch.Size([32, 32])\n",
      "edge_up_mps.2.1.2.bias \t torch.Size([32])\n",
      "edge_up_mps.3.0.0.weight \t torch.Size([32, 96])\n",
      "edge_up_mps.3.0.0.bias \t torch.Size([32])\n",
      "edge_up_mps.3.0.1.weight \t torch.Size([32, 32])\n",
      "edge_up_mps.3.0.1.bias \t torch.Size([32])\n",
      "edge_up_mps.3.0.2.weight \t torch.Size([32, 32])\n",
      "edge_up_mps.3.0.2.bias \t torch.Size([32])\n",
      "edge_up_mps.3.1.0.weight \t torch.Size([32, 96])\n",
      "edge_up_mps.3.1.0.bias \t torch.Size([32])\n",
      "edge_up_mps.3.1.1.weight \t torch.Size([32, 32])\n",
      "edge_up_mps.3.1.1.bias \t torch.Size([32])\n",
      "edge_up_mps.3.1.2.weight \t torch.Size([32, 32])\n",
      "edge_up_mps.3.1.2.bias \t torch.Size([32])\n",
      "edge_up_mps.4.0.0.weight \t torch.Size([32, 96])\n",
      "edge_up_mps.4.0.0.bias \t torch.Size([32])\n",
      "edge_up_mps.4.0.1.weight \t torch.Size([32, 32])\n",
      "edge_up_mps.4.0.1.bias \t torch.Size([32])\n",
      "edge_up_mps.4.0.2.weight \t torch.Size([32, 32])\n",
      "edge_up_mps.4.0.2.bias \t torch.Size([32])\n",
      "edge_up_mps.4.1.0.weight \t torch.Size([32, 96])\n",
      "edge_up_mps.4.1.0.bias \t torch.Size([32])\n",
      "edge_up_mps.4.1.1.weight \t torch.Size([32, 32])\n",
      "edge_up_mps.4.1.1.bias \t torch.Size([32])\n",
      "edge_up_mps.4.1.2.weight \t torch.Size([32, 32])\n",
      "edge_up_mps.4.1.2.bias \t torch.Size([32])\n",
      "edge_up_mps.5.0.0.weight \t torch.Size([32, 96])\n",
      "edge_up_mps.5.0.0.bias \t torch.Size([32])\n",
      "edge_up_mps.5.0.1.weight \t torch.Size([32, 32])\n",
      "edge_up_mps.5.0.1.bias \t torch.Size([32])\n",
      "edge_up_mps.5.0.2.weight \t torch.Size([32, 32])\n",
      "edge_up_mps.5.0.2.bias \t torch.Size([32])\n",
      "edge_up_mps.5.1.0.weight \t torch.Size([32, 96])\n",
      "edge_up_mps.5.1.0.bias \t torch.Size([32])\n",
      "edge_up_mps.5.1.1.weight \t torch.Size([32, 32])\n",
      "edge_up_mps.5.1.1.bias \t torch.Size([32])\n",
      "edge_up_mps.5.1.2.weight \t torch.Size([32, 32])\n",
      "edge_up_mps.5.1.2.bias \t torch.Size([32])\n",
      "edge_up_norms.0.0.weight \t torch.Size([32])\n",
      "edge_up_norms.0.0.bias \t torch.Size([32])\n",
      "edge_up_norms.1.0.weight \t torch.Size([32])\n",
      "edge_up_norms.1.0.bias \t torch.Size([32])\n",
      "edge_up_norms.2.0.weight \t torch.Size([32])\n",
      "edge_up_norms.2.0.bias \t torch.Size([32])\n",
      "edge_up_norms.2.1.weight \t torch.Size([32])\n",
      "edge_up_norms.2.1.bias \t torch.Size([32])\n",
      "edge_up_norms.3.0.weight \t torch.Size([32])\n",
      "edge_up_norms.3.0.bias \t torch.Size([32])\n",
      "edge_up_norms.3.1.weight \t torch.Size([32])\n",
      "edge_up_norms.3.1.bias \t torch.Size([32])\n",
      "edge_up_norms.4.0.weight \t torch.Size([32])\n",
      "edge_up_norms.4.0.bias \t torch.Size([32])\n",
      "edge_up_norms.4.1.weight \t torch.Size([32])\n",
      "edge_up_norms.4.1.bias \t torch.Size([32])\n",
      "edge_up_norms.5.0.weight \t torch.Size([32])\n",
      "edge_up_norms.5.0.bias \t torch.Size([32])\n",
      "edge_up_norms.5.1.weight \t torch.Size([32])\n",
      "edge_up_norms.5.1.bias \t torch.Size([32])\n",
      "node_up_mps.0.0.0.weight \t torch.Size([32, 64])\n",
      "node_up_mps.0.0.0.bias \t torch.Size([32])\n",
      "node_up_mps.0.0.1.weight \t torch.Size([32, 32])\n",
      "node_up_mps.0.0.1.bias \t torch.Size([32])\n",
      "node_up_mps.0.0.2.weight \t torch.Size([32, 32])\n",
      "node_up_mps.0.0.2.bias \t torch.Size([32])\n",
      "node_up_mps.1.0.0.weight \t torch.Size([32, 64])\n",
      "node_up_mps.1.0.0.bias \t torch.Size([32])\n",
      "node_up_mps.1.0.1.weight \t torch.Size([32, 32])\n",
      "node_up_mps.1.0.1.bias \t torch.Size([32])\n",
      "node_up_mps.1.0.2.weight \t torch.Size([32, 32])\n",
      "node_up_mps.1.0.2.bias \t torch.Size([32])\n",
      "node_up_mps.2.0.0.weight \t torch.Size([32, 64])\n",
      "node_up_mps.2.0.0.bias \t torch.Size([32])\n",
      "node_up_mps.2.0.1.weight \t torch.Size([32, 32])\n",
      "node_up_mps.2.0.1.bias \t torch.Size([32])\n",
      "node_up_mps.2.0.2.weight \t torch.Size([32, 32])\n",
      "node_up_mps.2.0.2.bias \t torch.Size([32])\n",
      "node_up_mps.2.1.0.weight \t torch.Size([32, 64])\n",
      "node_up_mps.2.1.0.bias \t torch.Size([32])\n",
      "node_up_mps.2.1.1.weight \t torch.Size([32, 32])\n",
      "node_up_mps.2.1.1.bias \t torch.Size([32])\n",
      "node_up_mps.2.1.2.weight \t torch.Size([32, 32])\n",
      "node_up_mps.2.1.2.bias \t torch.Size([32])\n",
      "node_up_mps.3.0.0.weight \t torch.Size([32, 64])\n",
      "node_up_mps.3.0.0.bias \t torch.Size([32])\n",
      "node_up_mps.3.0.1.weight \t torch.Size([32, 32])\n",
      "node_up_mps.3.0.1.bias \t torch.Size([32])\n",
      "node_up_mps.3.0.2.weight \t torch.Size([32, 32])\n",
      "node_up_mps.3.0.2.bias \t torch.Size([32])\n",
      "node_up_mps.3.1.0.weight \t torch.Size([32, 64])\n",
      "node_up_mps.3.1.0.bias \t torch.Size([32])\n",
      "node_up_mps.3.1.1.weight \t torch.Size([32, 32])\n",
      "node_up_mps.3.1.1.bias \t torch.Size([32])\n",
      "node_up_mps.3.1.2.weight \t torch.Size([32, 32])\n",
      "node_up_mps.3.1.2.bias \t torch.Size([32])\n",
      "node_up_mps.4.0.0.weight \t torch.Size([32, 64])\n",
      "node_up_mps.4.0.0.bias \t torch.Size([32])\n",
      "node_up_mps.4.0.1.weight \t torch.Size([32, 32])\n",
      "node_up_mps.4.0.1.bias \t torch.Size([32])\n",
      "node_up_mps.4.0.2.weight \t torch.Size([32, 32])\n",
      "node_up_mps.4.0.2.bias \t torch.Size([32])\n",
      "node_up_mps.4.1.0.weight \t torch.Size([32, 64])\n",
      "node_up_mps.4.1.0.bias \t torch.Size([32])\n",
      "node_up_mps.4.1.1.weight \t torch.Size([32, 32])\n",
      "node_up_mps.4.1.1.bias \t torch.Size([32])\n",
      "node_up_mps.4.1.2.weight \t torch.Size([32, 32])\n",
      "node_up_mps.4.1.2.bias \t torch.Size([32])\n",
      "node_up_mps.5.0.0.weight \t torch.Size([32, 64])\n",
      "node_up_mps.5.0.0.bias \t torch.Size([32])\n",
      "node_up_mps.5.0.1.weight \t torch.Size([32, 32])\n",
      "node_up_mps.5.0.1.bias \t torch.Size([32])\n",
      "node_up_mps.5.0.2.weight \t torch.Size([32, 32])\n",
      "node_up_mps.5.0.2.bias \t torch.Size([32])\n",
      "node_up_mps.5.1.0.weight \t torch.Size([32, 64])\n",
      "node_up_mps.5.1.0.bias \t torch.Size([32])\n",
      "node_up_mps.5.1.1.weight \t torch.Size([32, 32])\n",
      "node_up_mps.5.1.1.bias \t torch.Size([32])\n",
      "node_up_mps.5.1.2.weight \t torch.Size([32, 32])\n",
      "node_up_mps.5.1.2.bias \t torch.Size([32])\n",
      "node_up_norms.0.0.weight \t torch.Size([32])\n",
      "node_up_norms.0.0.bias \t torch.Size([32])\n",
      "node_up_norms.1.0.weight \t torch.Size([32])\n",
      "node_up_norms.1.0.bias \t torch.Size([32])\n",
      "node_up_norms.2.0.weight \t torch.Size([32])\n",
      "node_up_norms.2.0.bias \t torch.Size([32])\n",
      "node_up_norms.2.1.weight \t torch.Size([32])\n",
      "node_up_norms.2.1.bias \t torch.Size([32])\n",
      "node_up_norms.3.0.weight \t torch.Size([32])\n",
      "node_up_norms.3.0.bias \t torch.Size([32])\n",
      "node_up_norms.3.1.weight \t torch.Size([32])\n",
      "node_up_norms.3.1.bias \t torch.Size([32])\n",
      "node_up_norms.4.0.weight \t torch.Size([32])\n",
      "node_up_norms.4.0.bias \t torch.Size([32])\n",
      "node_up_norms.4.1.weight \t torch.Size([32])\n",
      "node_up_norms.4.1.bias \t torch.Size([32])\n",
      "node_up_norms.5.0.weight \t torch.Size([32])\n",
      "node_up_norms.5.0.bias \t torch.Size([32])\n",
      "node_up_norms.5.1.weight \t torch.Size([32])\n",
      "node_up_norms.5.1.bias \t torch.Size([32])\n",
      "node_decode.0.weight \t torch.Size([32, 32])\n",
      "node_decode.0.bias \t torch.Size([32])\n",
      "node_decode.1.weight \t torch.Size([32, 32])\n",
      "node_decode.1.bias \t torch.Size([32])\n",
      "node_decode.2.weight \t torch.Size([32, 32])\n",
      "node_decode.2.bias \t torch.Size([32])\n",
      "node_decode.3.weight \t torch.Size([32, 32])\n",
      "node_decode.3.bias \t torch.Size([32])\n",
      "node_decode.4.weight \t torch.Size([32, 32])\n",
      "node_decode.4.bias \t torch.Size([32])\n",
      "node_decode.5.weight \t torch.Size([2, 32])\n",
      "node_decode.5.bias \t torch.Size([2])\n",
      "pools.0.weight \t torch.Size([1, 32])\n",
      "pools.1.weight \t torch.Size([1, 32])\n",
      "pools.2.weight \t torch.Size([1, 32])\n",
      "pools.3.weight \t torch.Size([1, 32])\n",
      "pools.4.weight \t torch.Size([1, 32])\n"
     ]
    }
   ],
   "source": [
    "model = model_2_GCN_Unet(\n",
    "                hidden_channels,\n",
    "                in_channels_node,\n",
    "                in_channels_edge,\n",
    "                \n",
    "                out_channels,\n",
    "                encoding_dim,\n",
    "                n_mlp_mp,\n",
    "                n_mlp_encode,\n",
    "\n",
    "                ae_dim,\n",
    "                n_mp_down,\n",
    "                n_mp_up,\n",
    "                pool_num,\n",
    "                \n",
    "                act,\n",
    "                \n",
    "                name='gnn_topk')\n",
    "\n",
    "model.to(device)\n",
    "model.load_state_dict(torch.load('/root/data1/bubble_duibishiyan/model_2_ED_state_dict.pt'), strict=False)\n",
    "train_hist, test_hist=model_2_train(epochs, model, train_loader, valid_loader,per_t,batch_size,\n",
    "                            EDmean_vec_x,EDstd_vec_x,EDmean_vec_edge,EDstd_vec_edge)"
   ]
  },
  {
   "cell_type": "code",
   "execution_count": null,
   "metadata": {},
   "outputs": [
    {
     "name": "stderr",
     "output_type": "stream",
     "text": [
      "Training:   0%|          | 1/200 [00:11<37:31, 11.31s/Epochs]"
     ]
    },
    {
     "name": "stdout",
     "output_type": "stream",
     "text": [
      "Epoch: 0000,\tTrain mse: 0.09042927,\tTrain_RMSE: 0.29809228,\tTrain_acc: 0.29801950,\tTest mse: 0.07686933,\tTime: 11.31386924s\n"
     ]
    },
    {
     "name": "stderr",
     "output_type": "stream",
     "text": [
      "Training:   1%|          | 2/200 [00:22<36:08, 10.95s/Epochs]"
     ]
    },
    {
     "name": "stdout",
     "output_type": "stream",
     "text": [
      "Epoch: 0001,\tTrain mse: 0.07026295,\tTrain_RMSE: 0.26494289,\tTrain_acc: 0.26496124,\tTest mse: 0.07201789,\tTime: 10.69188213s\n"
     ]
    },
    {
     "name": "stderr",
     "output_type": "stream",
     "text": [
      "Training:   2%|▏         | 3/200 [00:32<35:28, 10.80s/Epochs]"
     ]
    },
    {
     "name": "stdout",
     "output_type": "stream",
     "text": [
      "Epoch: 0002,\tTrain mse: 0.06699908,\tTrain_RMSE: 0.25877886,\tTrain_acc: 0.25879931,\tTest mse: 0.07014710,\tTime: 10.62577844s\n"
     ]
    },
    {
     "name": "stderr",
     "output_type": "stream",
     "text": [
      "Training:   2%|▏         | 4/200 [00:43<35:03, 10.73s/Epochs]"
     ]
    },
    {
     "name": "stdout",
     "output_type": "stream",
     "text": [
      "Epoch: 0003,\tTrain mse: 0.06431307,\tTrain_RMSE: 0.25353242,\tTrain_acc: 0.25355503,\tTest mse: 0.06621882,\tTime: 10.61981249s\n"
     ]
    },
    {
     "name": "stderr",
     "output_type": "stream",
     "text": [
      "Training:   2%|▎         | 5/200 [00:54<34:53, 10.74s/Epochs]"
     ]
    },
    {
     "name": "stdout",
     "output_type": "stream",
     "text": [
      "Epoch: 0004,\tTrain mse: 0.06376532,\tTrain_RMSE: 0.25245062,\tTrain_acc: 0.25246456,\tTest mse: 0.06536633,\tTime: 10.74405622s\n"
     ]
    },
    {
     "name": "stderr",
     "output_type": "stream",
     "text": [
      "Training:   3%|▎         | 6/200 [01:04<34:50, 10.77s/Epochs]"
     ]
    },
    {
     "name": "stdout",
     "output_type": "stream",
     "text": [
      "Epoch: 0005,\tTrain mse: 0.06210265,\tTrain_RMSE: 0.24915384,\tTrain_acc: 0.24916971,\tTest mse: 0.06418393,\tTime: 10.84427595s\n"
     ]
    },
    {
     "name": "stderr",
     "output_type": "stream",
     "text": [
      "Training:   4%|▎         | 7/200 [01:15<34:38, 10.77s/Epochs]"
     ]
    },
    {
     "name": "stdout",
     "output_type": "stream",
     "text": [
      "Epoch: 0006,\tTrain mse: 0.06216085,\tTrain_RMSE: 0.24926572,\tTrain_acc: 0.24927762,\tTest mse: 0.06564634,\tTime: 10.75159717s\n"
     ]
    },
    {
     "name": "stderr",
     "output_type": "stream",
     "text": [
      "Training:   4%|▍         | 8/200 [01:26<34:31, 10.79s/Epochs]"
     ]
    },
    {
     "name": "stdout",
     "output_type": "stream",
     "text": [
      "Epoch: 0007,\tTrain mse: 0.06229764,\tTrain_RMSE: 0.24953050,\tTrain_acc: 0.24954456,\tTest mse: 0.06516573,\tTime: 10.82751799s\n"
     ]
    },
    {
     "name": "stderr",
     "output_type": "stream",
     "text": [
      "Training:   4%|▍         | 9/200 [01:36<34:03, 10.70s/Epochs]"
     ]
    },
    {
     "name": "stdout",
     "output_type": "stream",
     "text": [
      "Epoch: 0008,\tTrain mse: 0.06238725,\tTrain_RMSE: 0.24971177,\tTrain_acc: 0.24972585,\tTest mse: 0.06562347,\tTime: 10.50686407s\n"
     ]
    },
    {
     "name": "stderr",
     "output_type": "stream",
     "text": [
      "Training:   5%|▌         | 10/200 [01:47<33:53, 10.70s/Epochs]"
     ]
    },
    {
     "name": "stdout",
     "output_type": "stream",
     "text": [
      "Epoch: 0009,\tTrain mse: 0.06241378,\tTrain_RMSE: 0.24976513,\tTrain_acc: 0.24978013,\tTest mse: 0.06506529,\tTime: 10.71263099s\n"
     ]
    },
    {
     "name": "stderr",
     "output_type": "stream",
     "text": [
      "Training:   6%|▌         | 11/200 [01:58<33:53, 10.76s/Epochs]"
     ]
    },
    {
     "name": "stdout",
     "output_type": "stream",
     "text": [
      "Epoch: 0010,\tTrain mse: 0.06232885,\tTrain_RMSE: 0.24959526,\tTrain_acc: 0.24960953,\tTest mse: 0.06493212,\tTime: 10.87633038s\n"
     ]
    },
    {
     "name": "stderr",
     "output_type": "stream",
     "text": [
      "Training:   6%|▌         | 12/200 [02:09<33:39, 10.74s/Epochs]"
     ]
    },
    {
     "name": "stdout",
     "output_type": "stream",
     "text": [
      "Epoch: 0011,\tTrain mse: 0.06222111,\tTrain_RMSE: 0.24938444,\tTrain_acc: 0.24939884,\tTest mse: 0.06505715,\tTime: 10.70078492s\n",
      "Epoch    12: reducing learning rate of group 0 to 5.0000e-05.\n"
     ]
    },
    {
     "name": "stderr",
     "output_type": "stream",
     "text": [
      "Training:   6%|▋         | 13/200 [02:19<33:27, 10.74s/Epochs]"
     ]
    },
    {
     "name": "stdout",
     "output_type": "stream",
     "text": [
      "Epoch: 0012,\tTrain mse: 0.06218058,\tTrain_RMSE: 0.24930292,\tTrain_acc: 0.24931794,\tTest mse: 0.06457953,\tTime: 10.72710896s\n"
     ]
    },
    {
     "name": "stderr",
     "output_type": "stream",
     "text": [
      "Training:   7%|▋         | 14/200 [02:30<33:14, 10.72s/Epochs]"
     ]
    },
    {
     "name": "stdout",
     "output_type": "stream",
     "text": [
      "Epoch: 0013,\tTrain mse: 0.06200171,\tTrain_RMSE: 0.24894547,\tTrain_acc: 0.24896002,\tTest mse: 0.06441790,\tTime: 10.68618178s\n"
     ]
    },
    {
     "name": "stderr",
     "output_type": "stream",
     "text": [
      "Training:   8%|▊         | 15/200 [02:41<32:53, 10.67s/Epochs]"
     ]
    },
    {
     "name": "stdout",
     "output_type": "stream",
     "text": [
      "Epoch: 0014,\tTrain mse: 0.06193635,\tTrain_RMSE: 0.24880873,\tTrain_acc: 0.24882385,\tTest mse: 0.06423240,\tTime: 10.52933288s\n"
     ]
    },
    {
     "name": "stderr",
     "output_type": "stream",
     "text": [
      "Training:   8%|▊         | 16/200 [02:52<32:51, 10.72s/Epochs]"
     ]
    },
    {
     "name": "stdout",
     "output_type": "stream",
     "text": [
      "Epoch: 0015,\tTrain mse: 0.06171608,\tTrain_RMSE: 0.24836938,\tTrain_acc: 0.24838455,\tTest mse: 0.06427364,\tTime: 10.82965136s\n"
     ]
    },
    {
     "name": "stderr",
     "output_type": "stream",
     "text": [
      "Training:   8%|▊         | 17/200 [03:02<32:46, 10.74s/Epochs]"
     ]
    },
    {
     "name": "stdout",
     "output_type": "stream",
     "text": [
      "Epoch: 0016,\tTrain mse: 0.06157296,\tTrain_RMSE: 0.24808048,\tTrain_acc: 0.24809571,\tTest mse: 0.06405558,\tTime: 10.80746984s\n"
     ]
    },
    {
     "name": "stderr",
     "output_type": "stream",
     "text": [
      "Training:   9%|▉         | 18/200 [03:13<32:33, 10.73s/Epochs]"
     ]
    },
    {
     "name": "stdout",
     "output_type": "stream",
     "text": [
      "Epoch: 0017,\tTrain mse: 0.06151997,\tTrain_RMSE: 0.24797351,\tTrain_acc: 0.24798867,\tTest mse: 0.06405863,\tTime: 10.70814085s\n"
     ]
    },
    {
     "name": "stderr",
     "output_type": "stream",
     "text": [
      "Training:  10%|▉         | 19/200 [03:24<32:23, 10.74s/Epochs]"
     ]
    },
    {
     "name": "stdout",
     "output_type": "stream",
     "text": [
      "Epoch: 0018,\tTrain mse: 0.06152004,\tTrain_RMSE: 0.24797366,\tTrain_acc: 0.24798878,\tTest mse: 0.06400391,\tTime: 10.74376488s\n"
     ]
    },
    {
     "name": "stderr",
     "output_type": "stream",
     "text": [
      "Training:  10%|█         | 20/200 [03:34<32:07, 10.71s/Epochs]"
     ]
    },
    {
     "name": "stdout",
     "output_type": "stream",
     "text": [
      "Epoch: 0019,\tTrain mse: 0.06144132,\tTrain_RMSE: 0.24781632,\tTrain_acc: 0.24783126,\tTest mse: 0.06403093,\tTime: 10.63536716s\n"
     ]
    },
    {
     "name": "stderr",
     "output_type": "stream",
     "text": [
      "Training:  10%|█         | 21/200 [03:45<31:46, 10.65s/Epochs]"
     ]
    },
    {
     "name": "stdout",
     "output_type": "stream",
     "text": [
      "Epoch: 0020,\tTrain mse: 0.06140868,\tTrain_RMSE: 0.24775184,\tTrain_acc: 0.24776681,\tTest mse: 0.06395628,\tTime: 10.52212763s\n"
     ]
    },
    {
     "name": "stderr",
     "output_type": "stream",
     "text": [
      "Training:  11%|█         | 22/200 [03:56<31:40, 10.68s/Epochs]"
     ]
    },
    {
     "name": "stdout",
     "output_type": "stream",
     "text": [
      "Epoch: 0021,\tTrain mse: 0.06137190,\tTrain_RMSE: 0.24767966,\tTrain_acc: 0.24769467,\tTest mse: 0.06385387,\tTime: 10.73954320s\n"
     ]
    },
    {
     "name": "stderr",
     "output_type": "stream",
     "text": [
      "Training:  12%|█▏        | 23/200 [04:06<31:25, 10.65s/Epochs]"
     ]
    },
    {
     "name": "stdout",
     "output_type": "stream",
     "text": [
      "Epoch: 0022,\tTrain mse: 0.06127212,\tTrain_RMSE: 0.24747852,\tTrain_acc: 0.24749321,\tTest mse: 0.06387027,\tTime: 10.59016562s\n"
     ]
    },
    {
     "name": "stderr",
     "output_type": "stream",
     "text": [
      "Training:  12%|█▏        | 24/200 [04:17<31:12, 10.64s/Epochs]"
     ]
    },
    {
     "name": "stdout",
     "output_type": "stream",
     "text": [
      "Epoch: 0023,\tTrain mse: 0.06118252,\tTrain_RMSE: 0.24729635,\tTrain_acc: 0.24731095,\tTest mse: 0.06379779,\tTime: 10.60342646s\n"
     ]
    },
    {
     "name": "stderr",
     "output_type": "stream",
     "text": [
      "Training:  12%|█▎        | 25/200 [04:28<31:07, 10.67s/Epochs]"
     ]
    },
    {
     "name": "stdout",
     "output_type": "stream",
     "text": [
      "Epoch: 0024,\tTrain mse: 0.06111492,\tTrain_RMSE: 0.24715950,\tTrain_acc: 0.24717438,\tTest mse: 0.06363755,\tTime: 10.74706697s\n"
     ]
    },
    {
     "name": "stderr",
     "output_type": "stream",
     "text": [
      "Training:  13%|█▎        | 26/200 [04:39<31:08, 10.74s/Epochs]"
     ]
    },
    {
     "name": "stdout",
     "output_type": "stream",
     "text": [
      "Epoch: 0025,\tTrain mse: 0.06107649,\tTrain_RMSE: 0.24708330,\tTrain_acc: 0.24709791,\tTest mse: 0.06365927,\tTime: 10.89146972s\n"
     ]
    },
    {
     "name": "stderr",
     "output_type": "stream",
     "text": [
      "Training:  14%|█▎        | 27/200 [04:49<31:07, 10.79s/Epochs]"
     ]
    },
    {
     "name": "stdout",
     "output_type": "stream",
     "text": [
      "Epoch: 0026,\tTrain mse: 0.06097746,\tTrain_RMSE: 0.24688331,\tTrain_acc: 0.24689773,\tTest mse: 0.06354690,\tTime: 10.91753793s\n"
     ]
    },
    {
     "name": "stderr",
     "output_type": "stream",
     "text": [
      "Training:  14%|█▍        | 28/200 [05:00<30:42, 10.71s/Epochs]"
     ]
    },
    {
     "name": "stdout",
     "output_type": "stream",
     "text": [
      "Epoch: 0027,\tTrain mse: 0.06093231,\tTrain_RMSE: 0.24679066,\tTrain_acc: 0.24680533,\tTest mse: 0.06364976,\tTime: 10.52420592s\n"
     ]
    },
    {
     "name": "stderr",
     "output_type": "stream",
     "text": [
      "Training:  14%|█▍        | 29/200 [05:10<30:22, 10.66s/Epochs]"
     ]
    },
    {
     "name": "stdout",
     "output_type": "stream",
     "text": [
      "Epoch: 0028,\tTrain mse: 0.06084664,\tTrain_RMSE: 0.24661575,\tTrain_acc: 0.24663043,\tTest mse: 0.06351374,\tTime: 10.51858521s\n"
     ]
    },
    {
     "name": "stderr",
     "output_type": "stream",
     "text": [
      "Training:  15%|█▌        | 30/200 [05:21<30:06, 10.63s/Epochs]"
     ]
    },
    {
     "name": "stdout",
     "output_type": "stream",
     "text": [
      "Epoch: 0029,\tTrain mse: 0.06076730,\tTrain_RMSE: 0.24645676,\tTrain_acc: 0.24647124,\tTest mse: 0.06355282,\tTime: 10.55412626s\n"
     ]
    },
    {
     "name": "stderr",
     "output_type": "stream",
     "text": [
      "Training:  16%|█▌        | 31/200 [05:32<29:57, 10.64s/Epochs]"
     ]
    },
    {
     "name": "stdout",
     "output_type": "stream",
     "text": [
      "Epoch: 0030,\tTrain mse: 0.06072797,\tTrain_RMSE: 0.24637722,\tTrain_acc: 0.24639158,\tTest mse: 0.06356232,\tTime: 10.66614056s\n"
     ]
    },
    {
     "name": "stderr",
     "output_type": "stream",
     "text": [
      "Training:  16%|█▌        | 32/200 [05:42<29:45, 10.63s/Epochs]"
     ]
    },
    {
     "name": "stdout",
     "output_type": "stream",
     "text": [
      "Epoch: 0031,\tTrain mse: 0.06069079,\tTrain_RMSE: 0.24629832,\tTrain_acc: 0.24631314,\tTest mse: 0.06370773,\tTime: 10.59220386s\n"
     ]
    },
    {
     "name": "stderr",
     "output_type": "stream",
     "text": [
      "Training:  16%|█▋        | 33/200 [05:53<29:40, 10.66s/Epochs]"
     ]
    },
    {
     "name": "stdout",
     "output_type": "stream",
     "text": [
      "Epoch: 0032,\tTrain mse: 0.06060355,\tTrain_RMSE: 0.24611581,\tTrain_acc: 0.24613100,\tTest mse: 0.06357934,\tTime: 10.74046159s\n"
     ]
    },
    {
     "name": "stderr",
     "output_type": "stream",
     "text": [
      "Training:  17%|█▋        | 34/200 [06:04<29:27, 10.65s/Epochs]"
     ]
    },
    {
     "name": "stdout",
     "output_type": "stream",
     "text": [
      "Epoch: 0033,\tTrain mse: 0.06039367,\tTrain_RMSE: 0.24568991,\tTrain_acc: 0.24570587,\tTest mse: 0.06349573,\tTime: 10.61725950s\n"
     ]
    },
    {
     "name": "stderr",
     "output_type": "stream",
     "text": [
      "Training:  18%|█▊        | 35/200 [06:14<29:20, 10.67s/Epochs]"
     ]
    },
    {
     "name": "stdout",
     "output_type": "stream",
     "text": [
      "Epoch: 0034,\tTrain mse: 0.06028876,\tTrain_RMSE: 0.24547622,\tTrain_acc: 0.24549207,\tTest mse: 0.06336360,\tTime: 10.72323132s\n"
     ]
    },
    {
     "name": "stderr",
     "output_type": "stream",
     "text": [
      "Training:  18%|█▊        | 36/200 [06:25<29:02, 10.62s/Epochs]"
     ]
    },
    {
     "name": "stdout",
     "output_type": "stream",
     "text": [
      "Epoch: 0035,\tTrain mse: 0.06025625,\tTrain_RMSE: 0.24540955,\tTrain_acc: 0.24542543,\tTest mse: 0.06321713,\tTime: 10.50687003s\n"
     ]
    },
    {
     "name": "stderr",
     "output_type": "stream",
     "text": [
      "Training:  18%|█▊        | 37/200 [06:36<28:51, 10.62s/Epochs]"
     ]
    },
    {
     "name": "stdout",
     "output_type": "stream",
     "text": [
      "Epoch: 0036,\tTrain mse: 0.06012905,\tTrain_RMSE: 0.24515107,\tTrain_acc: 0.24516717,\tTest mse: 0.06305750,\tTime: 10.62383032s\n"
     ]
    },
    {
     "name": "stderr",
     "output_type": "stream",
     "text": [
      "Training:  19%|█▉        | 38/200 [06:46<28:44, 10.64s/Epochs]"
     ]
    },
    {
     "name": "stdout",
     "output_type": "stream",
     "text": [
      "Epoch: 0037,\tTrain mse: 0.06003505,\tTrain_RMSE: 0.24495942,\tTrain_acc: 0.24497582,\tTest mse: 0.06288423,\tTime: 10.68704367s\n"
     ]
    },
    {
     "name": "stderr",
     "output_type": "stream",
     "text": [
      "Training:  20%|█▉        | 39/200 [06:57<28:28, 10.61s/Epochs]"
     ]
    },
    {
     "name": "stdout",
     "output_type": "stream",
     "text": [
      "Epoch: 0038,\tTrain mse: 0.05992391,\tTrain_RMSE: 0.24473376,\tTrain_acc: 0.24475011,\tTest mse: 0.06294572,\tTime: 10.53995585s\n"
     ]
    },
    {
     "name": "stderr",
     "output_type": "stream",
     "text": [
      "Training:  20%|██        | 40/200 [07:08<28:29, 10.68s/Epochs]"
     ]
    },
    {
     "name": "stdout",
     "output_type": "stream",
     "text": [
      "Epoch: 0039,\tTrain mse: 0.05982023,\tTrain_RMSE: 0.24452104,\tTrain_acc: 0.24453755,\tTest mse: 0.06282161,\tTime: 10.84720206s\n"
     ]
    },
    {
     "name": "stderr",
     "output_type": "stream",
     "text": [
      "Training:  20%|██        | 41/200 [07:18<28:13, 10.65s/Epochs]"
     ]
    },
    {
     "name": "stdout",
     "output_type": "stream",
     "text": [
      "Epoch: 0040,\tTrain mse: 0.05972003,\tTrain_RMSE: 0.24431653,\tTrain_acc: 0.24433327,\tTest mse: 0.06273147,\tTime: 10.58127022s\n"
     ]
    },
    {
     "name": "stderr",
     "output_type": "stream",
     "text": [
      "Training:  21%|██        | 42/200 [07:29<27:53, 10.59s/Epochs]"
     ]
    },
    {
     "name": "stdout",
     "output_type": "stream",
     "text": [
      "Epoch: 0041,\tTrain mse: 0.05958164,\tTrain_RMSE: 0.24403415,\tTrain_acc: 0.24405079,\tTest mse: 0.06257952,\tTime: 10.45324993s\n"
     ]
    },
    {
     "name": "stderr",
     "output_type": "stream",
     "text": [
      "Training:  22%|██▏       | 43/200 [07:39<27:38, 10.57s/Epochs]"
     ]
    },
    {
     "name": "stdout",
     "output_type": "stream",
     "text": [
      "Epoch: 0042,\tTrain mse: 0.05948692,\tTrain_RMSE: 0.24384097,\tTrain_acc: 0.24385774,\tTest mse: 0.06249626,\tTime: 10.49877572s\n"
     ]
    },
    {
     "name": "stderr",
     "output_type": "stream",
     "text": [
      "Training:  22%|██▏       | 44/200 [07:50<27:27, 10.56s/Epochs]"
     ]
    },
    {
     "name": "stdout",
     "output_type": "stream",
     "text": [
      "Epoch: 0043,\tTrain mse: 0.05936365,\tTrain_RMSE: 0.24358878,\tTrain_acc: 0.24360529,\tTest mse: 0.06237888,\tTime: 10.55742621s\n"
     ]
    },
    {
     "name": "stderr",
     "output_type": "stream",
     "text": [
      "Training:  22%|██▎       | 45/200 [08:01<27:30, 10.65s/Epochs]"
     ]
    },
    {
     "name": "stdout",
     "output_type": "stream",
     "text": [
      "Epoch: 0044,\tTrain mse: 0.05927051,\tTrain_RMSE: 0.24339964,\tTrain_acc: 0.24341528,\tTest mse: 0.06245755,\tTime: 10.85547876s\n"
     ]
    },
    {
     "name": "stderr",
     "output_type": "stream",
     "text": [
      "Training:  23%|██▎       | 46/200 [08:11<27:21, 10.66s/Epochs]"
     ]
    },
    {
     "name": "stdout",
     "output_type": "stream",
     "text": [
      "Epoch: 0045,\tTrain mse: 0.05915589,\tTrain_RMSE: 0.24316183,\tTrain_acc: 0.24317813,\tTest mse: 0.06225834,\tTime: 10.67581034s\n"
     ]
    },
    {
     "name": "stderr",
     "output_type": "stream",
     "text": [
      "Training:  24%|██▎       | 47/200 [08:22<27:00, 10.59s/Epochs]"
     ]
    },
    {
     "name": "stdout",
     "output_type": "stream",
     "text": [
      "Epoch: 0046,\tTrain mse: 0.05904387,\tTrain_RMSE: 0.24293292,\tTrain_acc: 0.24294856,\tTest mse: 0.06208170,\tTime: 10.43710494s\n"
     ]
    },
    {
     "name": "stderr",
     "output_type": "stream",
     "text": [
      "Training:  24%|██▍       | 48/200 [08:32<26:58, 10.65s/Epochs]"
     ]
    },
    {
     "name": "stdout",
     "output_type": "stream",
     "text": [
      "Epoch: 0047,\tTrain mse: 0.05897942,\tTrain_RMSE: 0.24280096,\tTrain_acc: 0.24281642,\tTest mse: 0.06200942,\tTime: 10.77134633s\n"
     ]
    },
    {
     "name": "stderr",
     "output_type": "stream",
     "text": [
      "Training:  24%|██▍       | 49/200 [08:43<26:45, 10.63s/Epochs]"
     ]
    },
    {
     "name": "stdout",
     "output_type": "stream",
     "text": [
      "Epoch: 0048,\tTrain mse: 0.05884052,\tTrain_RMSE: 0.24251484,\tTrain_acc: 0.24253017,\tTest mse: 0.06148362,\tTime: 10.59446192s\n"
     ]
    },
    {
     "name": "stderr",
     "output_type": "stream",
     "text": [
      "Training:  25%|██▌       | 50/200 [08:53<26:25, 10.57s/Epochs]"
     ]
    },
    {
     "name": "stdout",
     "output_type": "stream",
     "text": [
      "Epoch: 0049,\tTrain mse: 0.05874940,\tTrain_RMSE: 0.24232758,\tTrain_acc: 0.24234296,\tTest mse: 0.06131839,\tTime: 10.41638255s\n"
     ]
    },
    {
     "name": "stderr",
     "output_type": "stream",
     "text": [
      "Training:  26%|██▌       | 51/200 [09:04<26:15, 10.58s/Epochs]"
     ]
    },
    {
     "name": "stdout",
     "output_type": "stream",
     "text": [
      "Epoch: 0050,\tTrain mse: 0.05865495,\tTrain_RMSE: 0.24213456,\tTrain_acc: 0.24214987,\tTest mse: 0.06118972,\tTime: 10.59172440s\n"
     ]
    },
    {
     "name": "stderr",
     "output_type": "stream",
     "text": [
      "Training:  26%|██▌       | 52/200 [09:15<26:19, 10.67s/Epochs]"
     ]
    },
    {
     "name": "stdout",
     "output_type": "stream",
     "text": [
      "Epoch: 0051,\tTrain mse: 0.05853800,\tTrain_RMSE: 0.24189224,\tTrain_acc: 0.24190755,\tTest mse: 0.06104283,\tTime: 10.89133263s\n"
     ]
    },
    {
     "name": "stderr",
     "output_type": "stream",
     "text": [
      "Training:  26%|██▋       | 53/200 [09:25<25:59, 10.61s/Epochs]"
     ]
    },
    {
     "name": "stdout",
     "output_type": "stream",
     "text": [
      "Epoch: 0052,\tTrain mse: 0.05845142,\tTrain_RMSE: 0.24171448,\tTrain_acc: 0.24172941,\tTest mse: 0.06096435,\tTime: 10.45212698s\n"
     ]
    },
    {
     "name": "stderr",
     "output_type": "stream",
     "text": [
      "Training:  27%|██▋       | 54/200 [09:36<25:47, 10.60s/Epochs]"
     ]
    },
    {
     "name": "stdout",
     "output_type": "stream",
     "text": [
      "Epoch: 0053,\tTrain mse: 0.05835263,\tTrain_RMSE: 0.24151067,\tTrain_acc: 0.24152561,\tTest mse: 0.06086782,\tTime: 10.58027697s\n"
     ]
    },
    {
     "name": "stderr",
     "output_type": "stream",
     "text": [
      "Training:  28%|██▊       | 55/200 [09:47<25:50, 10.69s/Epochs]"
     ]
    },
    {
     "name": "stdout",
     "output_type": "stream",
     "text": [
      "Epoch: 0054,\tTrain mse: 0.05822383,\tTrain_RMSE: 0.24124526,\tTrain_acc: 0.24125989,\tTest mse: 0.06075101,\tTime: 10.90190768s\n"
     ]
    },
    {
     "name": "stderr",
     "output_type": "stream",
     "text": [
      "Training:  28%|██▊       | 56/200 [09:58<25:37, 10.68s/Epochs]"
     ]
    },
    {
     "name": "stdout",
     "output_type": "stream",
     "text": [
      "Epoch: 0055,\tTrain mse: 0.05808536,\tTrain_RMSE: 0.24095832,\tTrain_acc: 0.24097273,\tTest mse: 0.06056367,\tTime: 10.65161180s\n"
     ]
    },
    {
     "name": "stderr",
     "output_type": "stream",
     "text": [
      "Training:  28%|██▊       | 57/200 [10:08<25:28, 10.69s/Epochs]"
     ]
    },
    {
     "name": "stdout",
     "output_type": "stream",
     "text": [
      "Epoch: 0056,\tTrain mse: 0.05801274,\tTrain_RMSE: 0.24080797,\tTrain_acc: 0.24082229,\tTest mse: 0.06039239,\tTime: 10.70446396s\n"
     ]
    },
    {
     "name": "stderr",
     "output_type": "stream",
     "text": [
      "Training:  29%|██▉       | 58/200 [10:19<25:23, 10.73s/Epochs]"
     ]
    },
    {
     "name": "stdout",
     "output_type": "stream",
     "text": [
      "Epoch: 0057,\tTrain mse: 0.05790687,\tTrain_RMSE: 0.24058833,\tTrain_acc: 0.24060249,\tTest mse: 0.06024931,\tTime: 10.81817412s\n"
     ]
    },
    {
     "name": "stderr",
     "output_type": "stream",
     "text": [
      "Training:  30%|██▉       | 59/200 [10:30<25:01, 10.65s/Epochs]"
     ]
    },
    {
     "name": "stdout",
     "output_type": "stream",
     "text": [
      "Epoch: 0058,\tTrain mse: 0.05784132,\tTrain_RMSE: 0.24045115,\tTrain_acc: 0.24046531,\tTest mse: 0.06010693,\tTime: 10.45701814s\n"
     ]
    },
    {
     "name": "stderr",
     "output_type": "stream",
     "text": [
      "Training:  30%|███       | 60/200 [10:40<24:48, 10.63s/Epochs]"
     ]
    },
    {
     "name": "stdout",
     "output_type": "stream",
     "text": [
      "Epoch: 0059,\tTrain mse: 0.05779122,\tTrain_RMSE: 0.24034832,\tTrain_acc: 0.24036221,\tTest mse: 0.05998348,\tTime: 10.59970093s\n"
     ]
    },
    {
     "name": "stderr",
     "output_type": "stream",
     "text": [
      "Training:  30%|███       | 61/200 [10:51<24:45, 10.69s/Epochs]"
     ]
    },
    {
     "name": "stdout",
     "output_type": "stream",
     "text": [
      "Epoch: 0060,\tTrain mse: 0.05771298,\tTrain_RMSE: 0.24018534,\tTrain_acc: 0.24019910,\tTest mse: 0.05993165,\tTime: 10.80417299s\n"
     ]
    },
    {
     "name": "stderr",
     "output_type": "stream",
     "text": [
      "Training:  31%|███       | 62/200 [11:02<24:30, 10.66s/Epochs]"
     ]
    },
    {
     "name": "stdout",
     "output_type": "stream",
     "text": [
      "Epoch: 0061,\tTrain mse: 0.05764181,\tTrain_RMSE: 0.24003637,\tTrain_acc: 0.24005057,\tTest mse: 0.05985957,\tTime: 10.58570027s\n"
     ]
    },
    {
     "name": "stderr",
     "output_type": "stream",
     "text": [
      "Training:  32%|███▏      | 63/200 [11:12<24:22, 10.68s/Epochs]"
     ]
    },
    {
     "name": "stdout",
     "output_type": "stream",
     "text": [
      "Epoch: 0062,\tTrain mse: 0.05757338,\tTrain_RMSE: 0.23989264,\tTrain_acc: 0.23990704,\tTest mse: 0.05960845,\tTime: 10.71854377s\n"
     ]
    },
    {
     "name": "stderr",
     "output_type": "stream",
     "text": [
      "Training:  32%|███▏      | 64/200 [11:23<24:18, 10.72s/Epochs]"
     ]
    },
    {
     "name": "stdout",
     "output_type": "stream",
     "text": [
      "Epoch: 0063,\tTrain mse: 0.05750495,\tTrain_RMSE: 0.23974913,\tTrain_acc: 0.23976362,\tTest mse: 0.05950514,\tTime: 10.83756995s\n"
     ]
    },
    {
     "name": "stderr",
     "output_type": "stream",
     "text": [
      "Training:  32%|███▎      | 65/200 [11:34<24:01, 10.68s/Epochs]"
     ]
    },
    {
     "name": "stdout",
     "output_type": "stream",
     "text": [
      "Epoch: 0064,\tTrain mse: 0.05740963,\tTrain_RMSE: 0.23955217,\tTrain_acc: 0.23956658,\tTest mse: 0.05947142,\tTime: 10.56176901s\n"
     ]
    },
    {
     "name": "stderr",
     "output_type": "stream",
     "text": [
      "Training:  33%|███▎      | 66/200 [11:44<23:42, 10.62s/Epochs]"
     ]
    },
    {
     "name": "stdout",
     "output_type": "stream",
     "text": [
      "Epoch: 0065,\tTrain mse: 0.05735125,\tTrain_RMSE: 0.23943178,\tTrain_acc: 0.23944601,\tTest mse: 0.05944372,\tTime: 10.47077870s\n"
     ]
    },
    {
     "name": "stderr",
     "output_type": "stream",
     "text": [
      "Training:  34%|███▎      | 67/200 [11:55<23:33, 10.63s/Epochs]"
     ]
    },
    {
     "name": "stdout",
     "output_type": "stream",
     "text": [
      "Epoch: 0066,\tTrain mse: 0.05725291,\tTrain_RMSE: 0.23922729,\tTrain_acc: 0.23924157,\tTest mse: 0.05938816,\tTime: 10.65982270s\n"
     ]
    },
    {
     "name": "stderr",
     "output_type": "stream",
     "text": [
      "Training:  34%|███▍      | 68/200 [12:06<23:32, 10.70s/Epochs]"
     ]
    },
    {
     "name": "stdout",
     "output_type": "stream",
     "text": [
      "Epoch: 0067,\tTrain mse: 0.05719306,\tTrain_RMSE: 0.23910314,\tTrain_acc: 0.23911744,\tTest mse: 0.05918582,\tTime: 10.86252618s\n"
     ]
    },
    {
     "name": "stderr",
     "output_type": "stream",
     "text": [
      "Training:  34%|███▍      | 69/200 [12:16<23:18, 10.67s/Epochs]"
     ]
    },
    {
     "name": "stdout",
     "output_type": "stream",
     "text": [
      "Epoch: 0068,\tTrain mse: 0.05714379,\tTrain_RMSE: 0.23900006,\tTrain_acc: 0.23901395,\tTest mse: 0.05906047,\tTime: 10.61248851s\n"
     ]
    },
    {
     "name": "stderr",
     "output_type": "stream",
     "text": [
      "Training:  35%|███▌      | 70/200 [12:27<23:11, 10.70s/Epochs]"
     ]
    },
    {
     "name": "stdout",
     "output_type": "stream",
     "text": [
      "Epoch: 0069,\tTrain mse: 0.05707387,\tTrain_RMSE: 0.23885506,\tTrain_acc: 0.23886873,\tTest mse: 0.05883770,\tTime: 10.75808835s\n"
     ]
    },
    {
     "name": "stderr",
     "output_type": "stream",
     "text": [
      "Training:  36%|███▌      | 71/200 [12:38<22:58, 10.69s/Epochs]"
     ]
    },
    {
     "name": "stdout",
     "output_type": "stream",
     "text": [
      "Epoch: 0070,\tTrain mse: 0.05700765,\tTrain_RMSE: 0.23871809,\tTrain_acc: 0.23873124,\tTest mse: 0.05891704,\tTime: 10.65042686s\n"
     ]
    },
    {
     "name": "stderr",
     "output_type": "stream",
     "text": [
      "Training:  36%|███▌      | 72/200 [12:48<22:46, 10.68s/Epochs]"
     ]
    },
    {
     "name": "stdout",
     "output_type": "stream",
     "text": [
      "Epoch: 0071,\tTrain mse: 0.05698226,\tTrain_RMSE: 0.23866411,\tTrain_acc: 0.23867707,\tTest mse: 0.05887325,\tTime: 10.65747237s\n"
     ]
    },
    {
     "name": "stderr",
     "output_type": "stream",
     "text": [
      "Training:  36%|███▋      | 73/200 [12:59<22:40, 10.71s/Epochs]"
     ]
    },
    {
     "name": "stdout",
     "output_type": "stream",
     "text": [
      "Epoch: 0072,\tTrain mse: 0.05691862,\tTrain_RMSE: 0.23852975,\tTrain_acc: 0.23854311,\tTest mse: 0.05856525,\tTime: 10.78788900s\n"
     ]
    },
    {
     "name": "stderr",
     "output_type": "stream",
     "text": [
      "Training:  37%|███▋      | 74/200 [13:10<22:24, 10.67s/Epochs]"
     ]
    },
    {
     "name": "stdout",
     "output_type": "stream",
     "text": [
      "Epoch: 0073,\tTrain mse: 0.05683265,\tTrain_RMSE: 0.23835092,\tTrain_acc: 0.23836356,\tTest mse: 0.05848142,\tTime: 10.58323693s\n"
     ]
    },
    {
     "name": "stderr",
     "output_type": "stream",
     "text": [
      "Training:  38%|███▊      | 75/200 [13:21<22:23, 10.75s/Epochs]"
     ]
    },
    {
     "name": "stdout",
     "output_type": "stream",
     "text": [
      "Epoch: 0074,\tTrain mse: 0.05677142,\tTrain_RMSE: 0.23822349,\tTrain_acc: 0.23823619,\tTest mse: 0.05844806,\tTime: 10.92731667s\n"
     ]
    },
    {
     "name": "stderr",
     "output_type": "stream",
     "text": [
      "Training:  38%|███▊      | 76/200 [13:31<22:11, 10.74s/Epochs]"
     ]
    },
    {
     "name": "stdout",
     "output_type": "stream",
     "text": [
      "Epoch: 0075,\tTrain mse: 0.05673218,\tTrain_RMSE: 0.23814171,\tTrain_acc: 0.23815431,\tTest mse: 0.05845403,\tTime: 10.70569992s\n"
     ]
    },
    {
     "name": "stderr",
     "output_type": "stream",
     "text": [
      "Training:  38%|███▊      | 77/200 [13:42<21:55, 10.70s/Epochs]"
     ]
    },
    {
     "name": "stdout",
     "output_type": "stream",
     "text": [
      "Epoch: 0076,\tTrain mse: 0.05666955,\tTrain_RMSE: 0.23800899,\tTrain_acc: 0.23802201,\tTest mse: 0.05836378,\tTime: 10.59720993s\n"
     ]
    },
    {
     "name": "stderr",
     "output_type": "stream",
     "text": [
      "Training:  39%|███▉      | 78/200 [13:53<21:41, 10.67s/Epochs]"
     ]
    },
    {
     "name": "stdout",
     "output_type": "stream",
     "text": [
      "Epoch: 0077,\tTrain mse: 0.05655384,\tTrain_RMSE: 0.23776618,\tTrain_acc: 0.23777902,\tTest mse: 0.05829043,\tTime: 10.60275936s\n"
     ]
    },
    {
     "name": "stderr",
     "output_type": "stream",
     "text": [
      "Training:  40%|███▉      | 79/200 [14:03<21:29, 10.66s/Epochs]"
     ]
    },
    {
     "name": "stdout",
     "output_type": "stream",
     "text": [
      "Epoch: 0078,\tTrain mse: 0.05652182,\tTrain_RMSE: 0.23769905,\tTrain_acc: 0.23771171,\tTest mse: 0.05816294,\tTime: 10.63433361s\n"
     ]
    },
    {
     "name": "stderr",
     "output_type": "stream",
     "text": [
      "Training:  40%|████      | 80/200 [14:14<21:20, 10.67s/Epochs]"
     ]
    },
    {
     "name": "stdout",
     "output_type": "stream",
     "text": [
      "Epoch: 0079,\tTrain mse: 0.05643814,\tTrain_RMSE: 0.23752395,\tTrain_acc: 0.23753634,\tTest mse: 0.05802956,\tTime: 10.69521022s\n"
     ]
    },
    {
     "name": "stderr",
     "output_type": "stream",
     "text": [
      "Training:  40%|████      | 81/200 [14:25<21:13, 10.70s/Epochs]"
     ]
    },
    {
     "name": "stdout",
     "output_type": "stream",
     "text": [
      "Epoch: 0080,\tTrain mse: 0.05638653,\tTrain_RMSE: 0.23741608,\tTrain_acc: 0.23742856,\tTest mse: 0.05781264,\tTime: 10.77561045s\n"
     ]
    },
    {
     "name": "stderr",
     "output_type": "stream",
     "text": [
      "Training:  41%|████      | 82/200 [14:35<20:59, 10.67s/Epochs]"
     ]
    },
    {
     "name": "stdout",
     "output_type": "stream",
     "text": [
      "Epoch: 0081,\tTrain mse: 0.05633518,\tTrain_RMSE: 0.23730574,\tTrain_acc: 0.23731831,\tTest mse: 0.05771554,\tTime: 10.59238911s\n"
     ]
    },
    {
     "name": "stderr",
     "output_type": "stream",
     "text": [
      "Training:  42%|████▏     | 83/200 [14:46<20:44, 10.64s/Epochs]"
     ]
    },
    {
     "name": "stdout",
     "output_type": "stream",
     "text": [
      "Epoch: 0082,\tTrain mse: 0.05626746,\tTrain_RMSE: 0.23716376,\tTrain_acc: 0.23717660,\tTest mse: 0.05760094,\tTime: 10.56086135s\n"
     ]
    },
    {
     "name": "stderr",
     "output_type": "stream",
     "text": [
      "Training:  42%|████▏     | 84/200 [14:57<20:39, 10.69s/Epochs]"
     ]
    },
    {
     "name": "stdout",
     "output_type": "stream",
     "text": [
      "Epoch: 0083,\tTrain mse: 0.05624275,\tTrain_RMSE: 0.23711136,\tTrain_acc: 0.23712422,\tTest mse: 0.05757856,\tTime: 10.80289268s\n"
     ]
    },
    {
     "name": "stderr",
     "output_type": "stream",
     "text": [
      "Training:  42%|████▎     | 85/200 [15:07<20:33, 10.72s/Epochs]"
     ]
    },
    {
     "name": "stdout",
     "output_type": "stream",
     "text": [
      "Epoch: 0084,\tTrain mse: 0.05624599,\tTrain_RMSE: 0.23711648,\tTrain_acc: 0.23712951,\tTest mse: 0.05759244,\tTime: 10.80382919s\n"
     ]
    },
    {
     "name": "stderr",
     "output_type": "stream",
     "text": [
      "Training:  43%|████▎     | 86/200 [15:18<20:31, 10.80s/Epochs]"
     ]
    },
    {
     "name": "stdout",
     "output_type": "stream",
     "text": [
      "Epoch: 0085,\tTrain mse: 0.05627092,\tTrain_RMSE: 0.23716809,\tTrain_acc: 0.23718095,\tTest mse: 0.05752116,\tTime: 10.98091745s\n"
     ]
    },
    {
     "name": "stderr",
     "output_type": "stream",
     "text": [
      "Training:  44%|████▎     | 87/200 [15:29<20:15, 10.75s/Epochs]"
     ]
    },
    {
     "name": "stdout",
     "output_type": "stream",
     "text": [
      "Epoch: 0086,\tTrain mse: 0.05627622,\tTrain_RMSE: 0.23717935,\tTrain_acc: 0.23719199,\tTest mse: 0.05750173,\tTime: 10.63686967s\n"
     ]
    },
    {
     "name": "stderr",
     "output_type": "stream",
     "text": [
      "Training:  44%|████▍     | 88/200 [15:40<19:58, 10.70s/Epochs]"
     ]
    },
    {
     "name": "stdout",
     "output_type": "stream",
     "text": [
      "Epoch: 0087,\tTrain mse: 0.05626197,\tTrain_RMSE: 0.23714831,\tTrain_acc: 0.23716073,\tTest mse: 0.05734166,\tTime: 10.58193946s\n"
     ]
    },
    {
     "name": "stderr",
     "output_type": "stream",
     "text": [
      "Training:  44%|████▍     | 89/200 [15:50<19:41, 10.65s/Epochs]"
     ]
    },
    {
     "name": "stdout",
     "output_type": "stream",
     "text": [
      "Epoch: 0088,\tTrain mse: 0.05623149,\tTrain_RMSE: 0.23708519,\tTrain_acc: 0.23709767,\tTest mse: 0.05731354,\tTime: 10.51352382s\n"
     ]
    },
    {
     "name": "stderr",
     "output_type": "stream",
     "text": [
      "Training:  45%|████▌     | 90/200 [16:01<19:32, 10.66s/Epochs]"
     ]
    },
    {
     "name": "stdout",
     "output_type": "stream",
     "text": [
      "Epoch: 0089,\tTrain mse: 0.05614995,\tTrain_RMSE: 0.23691350,\tTrain_acc: 0.23692569,\tTest mse: 0.05725848,\tTime: 10.67738295s\n"
     ]
    },
    {
     "name": "stderr",
     "output_type": "stream",
     "text": [
      "Training:  46%|████▌     | 91/200 [16:11<19:15, 10.61s/Epochs]"
     ]
    },
    {
     "name": "stdout",
     "output_type": "stream",
     "text": [
      "Epoch: 0090,\tTrain mse: 0.05617249,\tTrain_RMSE: 0.23696158,\tTrain_acc: 0.23697355,\tTest mse: 0.05724383,\tTime: 10.48577785s\n"
     ]
    },
    {
     "name": "stderr",
     "output_type": "stream",
     "text": [
      "Training:  46%|████▌     | 92/200 [16:22<19:09, 10.64s/Epochs]"
     ]
    },
    {
     "name": "stdout",
     "output_type": "stream",
     "text": [
      "Epoch: 0091,\tTrain mse: 0.05612821,\tTrain_RMSE: 0.23686976,\tTrain_acc: 0.23688146,\tTest mse: 0.05725074,\tTime: 10.71593380s\n"
     ]
    },
    {
     "name": "stderr",
     "output_type": "stream",
     "text": [
      "Training:  46%|████▋     | 93/200 [16:33<19:07, 10.72s/Epochs]"
     ]
    },
    {
     "name": "stdout",
     "output_type": "stream",
     "text": [
      "Epoch: 0092,\tTrain mse: 0.05611732,\tTrain_RMSE: 0.23684916,\tTrain_acc: 0.23686089,\tTest mse: 0.05729703,\tTime: 10.92114878s\n"
     ]
    },
    {
     "name": "stderr",
     "output_type": "stream",
     "text": [
      "Training:  47%|████▋     | 94/200 [16:44<18:57, 10.73s/Epochs]"
     ]
    },
    {
     "name": "stdout",
     "output_type": "stream",
     "text": [
      "Epoch: 0093,\tTrain mse: 0.05612510,\tTrain_RMSE: 0.23686718,\tTrain_acc: 0.23687895,\tTest mse: 0.05727996,\tTime: 10.75192237s\n"
     ]
    },
    {
     "name": "stderr",
     "output_type": "stream",
     "text": [
      "Training:  48%|████▊     | 95/200 [16:54<18:43, 10.70s/Epochs]"
     ]
    },
    {
     "name": "stdout",
     "output_type": "stream",
     "text": [
      "Epoch: 0094,\tTrain mse: 0.05615340,\tTrain_RMSE: 0.23692705,\tTrain_acc: 0.23693892,\tTest mse: 0.05719458,\tTime: 10.62113976s\n"
     ]
    },
    {
     "name": "stderr",
     "output_type": "stream",
     "text": [
      "Training:  48%|████▊     | 96/200 [17:05<18:33, 10.71s/Epochs]"
     ]
    },
    {
     "name": "stdout",
     "output_type": "stream",
     "text": [
      "Epoch: 0095,\tTrain mse: 0.05622222,\tTrain_RMSE: 0.23707441,\tTrain_acc: 0.23708579,\tTest mse: 0.05745681,\tTime: 10.73342919s\n"
     ]
    },
    {
     "name": "stderr",
     "output_type": "stream",
     "text": [
      "Training:  48%|████▊     | 97/200 [17:16<18:24, 10.73s/Epochs]"
     ]
    },
    {
     "name": "stdout",
     "output_type": "stream",
     "text": [
      "Epoch: 0096,\tTrain mse: 0.05622424,\tTrain_RMSE: 0.23707631,\tTrain_acc: 0.23708799,\tTest mse: 0.05741334,\tTime: 10.76057720s\n"
     ]
    },
    {
     "name": "stderr",
     "output_type": "stream",
     "text": [
      "Training:  49%|████▉     | 98/200 [17:27<18:14, 10.73s/Epochs]"
     ]
    },
    {
     "name": "stdout",
     "output_type": "stream",
     "text": [
      "Epoch: 0097,\tTrain mse: 0.05624088,\tTrain_RMSE: 0.23711328,\tTrain_acc: 0.23712461,\tTest mse: 0.05755843,\tTime: 10.73629379s\n"
     ]
    },
    {
     "name": "stderr",
     "output_type": "stream",
     "text": [
      "Training:  50%|████▉     | 99/200 [17:37<18:03, 10.72s/Epochs]"
     ]
    },
    {
     "name": "stdout",
     "output_type": "stream",
     "text": [
      "Epoch: 0098,\tTrain mse: 0.05624776,\tTrain_RMSE: 0.23712764,\tTrain_acc: 0.23713906,\tTest mse: 0.05770303,\tTime: 10.71032715s\n"
     ]
    },
    {
     "name": "stderr",
     "output_type": "stream",
     "text": [
      "Training:  50%|█████     | 100/200 [17:48<17:52, 10.73s/Epochs]"
     ]
    },
    {
     "name": "stdout",
     "output_type": "stream",
     "text": [
      "Epoch: 0099,\tTrain mse: 0.05631169,\tTrain_RMSE: 0.23726234,\tTrain_acc: 0.23727329,\tTest mse: 0.05773247,\tTime: 10.73035932s\n"
     ]
    },
    {
     "name": "stderr",
     "output_type": "stream",
     "text": [
      "Training:  50%|█████     | 101/200 [17:59<17:38, 10.69s/Epochs]"
     ]
    },
    {
     "name": "stdout",
     "output_type": "stream",
     "text": [
      "Epoch: 0100,\tTrain mse: 0.05635010,\tTrain_RMSE: 0.23734119,\tTrain_acc: 0.23735237,\tTest mse: 0.05768932,\tTime: 10.60825801s\n",
      "Epoch   101: reducing learning rate of group 0 to 2.5000e-05.\n"
     ]
    },
    {
     "name": "stderr",
     "output_type": "stream",
     "text": [
      "Training:  51%|█████     | 102/200 [18:09<17:26, 10.68s/Epochs]"
     ]
    },
    {
     "name": "stdout",
     "output_type": "stream",
     "text": [
      "Epoch: 0101,\tTrain mse: 0.05625933,\tTrain_RMSE: 0.23715149,\tTrain_acc: 0.23716325,\tTest mse: 0.05753175,\tTime: 10.65266228s\n"
     ]
    },
    {
     "name": "stderr",
     "output_type": "stream",
     "text": [
      "Training:  52%|█████▏    | 103/200 [18:20<17:14, 10.67s/Epochs]"
     ]
    },
    {
     "name": "stdout",
     "output_type": "stream",
     "text": [
      "Epoch: 0102,\tTrain mse: 0.05620429,\tTrain_RMSE: 0.23703902,\tTrain_acc: 0.23705132,\tTest mse: 0.05758300,\tTime: 10.63609385s\n"
     ]
    },
    {
     "name": "stderr",
     "output_type": "stream",
     "text": [
      "Training:  52%|█████▏    | 104/200 [18:31<17:03, 10.66s/Epochs]"
     ]
    },
    {
     "name": "stdout",
     "output_type": "stream",
     "text": [
      "Epoch: 0103,\tTrain mse: 0.05624422,\tTrain_RMSE: 0.23712167,\tTrain_acc: 0.23713322,\tTest mse: 0.05754459,\tTime: 10.63964367s\n"
     ]
    },
    {
     "name": "stderr",
     "output_type": "stream",
     "text": [
      "Training:  52%|█████▎    | 105/200 [18:41<16:55, 10.69s/Epochs]"
     ]
    },
    {
     "name": "stdout",
     "output_type": "stream",
     "text": [
      "Epoch: 0104,\tTrain mse: 0.05625858,\tTrain_RMSE: 0.23715270,\tTrain_acc: 0.23716433,\tTest mse: 0.05773493,\tTime: 10.74716592s\n"
     ]
    },
    {
     "name": "stderr",
     "output_type": "stream",
     "text": [
      "Training:  53%|█████▎    | 106/200 [18:52<16:52, 10.77s/Epochs]"
     ]
    },
    {
     "name": "stdout",
     "output_type": "stream",
     "text": [
      "Epoch: 0105,\tTrain mse: 0.05622951,\tTrain_RMSE: 0.23709250,\tTrain_acc: 0.23710443,\tTest mse: 0.05770733,\tTime: 10.97003412s\n"
     ]
    },
    {
     "name": "stderr",
     "output_type": "stream",
     "text": [
      "Training:  54%|█████▎    | 107/200 [19:03<16:38, 10.73s/Epochs]"
     ]
    },
    {
     "name": "stdout",
     "output_type": "stream",
     "text": [
      "Epoch: 0106,\tTrain mse: 0.05629415,\tTrain_RMSE: 0.23722679,\tTrain_acc: 0.23723871,\tTest mse: 0.05782611,\tTime: 10.63436198s\n",
      "Epoch   107: reducing learning rate of group 0 to 1.2500e-05.\n"
     ]
    },
    {
     "name": "stderr",
     "output_type": "stream",
     "text": [
      "Training:  54%|█████▍    | 108/200 [19:14<16:26, 10.72s/Epochs]"
     ]
    },
    {
     "name": "stdout",
     "output_type": "stream",
     "text": [
      "Epoch: 0107,\tTrain mse: 0.05628314,\tTrain_RMSE: 0.23720458,\tTrain_acc: 0.23721683,\tTest mse: 0.05741566,\tTime: 10.68427539s\n"
     ]
    },
    {
     "name": "stderr",
     "output_type": "stream",
     "text": [
      "Training:  55%|█████▍    | 109/200 [19:24<16:12, 10.69s/Epochs]"
     ]
    },
    {
     "name": "stdout",
     "output_type": "stream",
     "text": [
      "Epoch: 0108,\tTrain mse: 0.05618704,\tTrain_RMSE: 0.23700115,\tTrain_acc: 0.23701301,\tTest mse: 0.05744635,\tTime: 10.62309980s\n"
     ]
    },
    {
     "name": "stderr",
     "output_type": "stream",
     "text": [
      "Training:  55%|█████▌    | 110/200 [19:35<16:02, 10.69s/Epochs]"
     ]
    },
    {
     "name": "stdout",
     "output_type": "stream",
     "text": [
      "Epoch: 0109,\tTrain mse: 0.05616198,\tTrain_RMSE: 0.23694733,\tTrain_acc: 0.23695910,\tTest mse: 0.05767004,\tTime: 10.68812394s\n"
     ]
    },
    {
     "name": "stderr",
     "output_type": "stream",
     "text": [
      "Training:  56%|█████▌    | 111/200 [19:46<15:53, 10.72s/Epochs]"
     ]
    },
    {
     "name": "stdout",
     "output_type": "stream",
     "text": [
      "Epoch: 0110,\tTrain mse: 0.05619766,\tTrain_RMSE: 0.23702400,\tTrain_acc: 0.23703580,\tTest mse: 0.05760368,\tTime: 10.77359414s\n"
     ]
    },
    {
     "name": "stderr",
     "output_type": "stream",
     "text": [
      "Training:  56%|█████▌    | 112/200 [19:57<15:47, 10.76s/Epochs]"
     ]
    },
    {
     "name": "stdout",
     "output_type": "stream",
     "text": [
      "Epoch: 0111,\tTrain mse: 0.05622690,\tTrain_RMSE: 0.23708627,\tTrain_acc: 0.23709790,\tTest mse: 0.05762161,\tTime: 10.86589074s\n"
     ]
    },
    {
     "name": "stderr",
     "output_type": "stream",
     "text": [
      "Training:  56%|█████▋    | 113/200 [20:07<15:32, 10.71s/Epochs]"
     ]
    },
    {
     "name": "stdout",
     "output_type": "stream",
     "text": [
      "Epoch: 0112,\tTrain mse: 0.05625019,\tTrain_RMSE: 0.23713374,\tTrain_acc: 0.23714536,\tTest mse: 0.05764125,\tTime: 10.60049987s\n",
      "Epoch   113: reducing learning rate of group 0 to 6.2500e-06.\n"
     ]
    },
    {
     "name": "stderr",
     "output_type": "stream",
     "text": [
      "Training:  57%|█████▋    | 114/200 [20:18<15:28, 10.79s/Epochs]"
     ]
    },
    {
     "name": "stdout",
     "output_type": "stream",
     "text": [
      "Epoch: 0113,\tTrain mse: 0.05624188,\tTrain_RMSE: 0.23711636,\tTrain_acc: 0.23712820,\tTest mse: 0.05764267,\tTime: 10.97053480s\n"
     ]
    },
    {
     "name": "stderr",
     "output_type": "stream",
     "text": [
      "Training:  57%|█████▊    | 115/200 [20:29<15:17, 10.80s/Epochs]"
     ]
    },
    {
     "name": "stdout",
     "output_type": "stream",
     "text": [
      "Epoch: 0114,\tTrain mse: 0.05622988,\tTrain_RMSE: 0.23709048,\tTrain_acc: 0.23710215,\tTest mse: 0.05768181,\tTime: 10.81205010s\n"
     ]
    },
    {
     "name": "stderr",
     "output_type": "stream",
     "text": [
      "Training:  58%|█████▊    | 116/200 [20:40<15:02, 10.74s/Epochs]"
     ]
    },
    {
     "name": "stdout",
     "output_type": "stream",
     "text": [
      "Epoch: 0115,\tTrain mse: 0.05624318,\tTrain_RMSE: 0.23711924,\tTrain_acc: 0.23713104,\tTest mse: 0.05765718,\tTime: 10.60061812s\n"
     ]
    },
    {
     "name": "stderr",
     "output_type": "stream",
     "text": [
      "Training:  58%|█████▊    | 117/200 [20:50<14:51, 10.74s/Epochs]"
     ]
    },
    {
     "name": "stdout",
     "output_type": "stream",
     "text": [
      "Epoch: 0116,\tTrain mse: 0.05624694,\tTrain_RMSE: 0.23712702,\tTrain_acc: 0.23713866,\tTest mse: 0.05766161,\tTime: 10.73263025s\n"
     ]
    },
    {
     "name": "stderr",
     "output_type": "stream",
     "text": [
      "Training:  59%|█████▉    | 118/200 [21:01<14:41, 10.75s/Epochs]"
     ]
    },
    {
     "name": "stdout",
     "output_type": "stream",
     "text": [
      "Epoch: 0117,\tTrain mse: 0.05626646,\tTrain_RMSE: 0.23716849,\tTrain_acc: 0.23718014,\tTest mse: 0.05768470,\tTime: 10.77635670s\n"
     ]
    },
    {
     "name": "stderr",
     "output_type": "stream",
     "text": [
      "Training:  60%|█████▉    | 119/200 [21:12<14:26, 10.70s/Epochs]"
     ]
    },
    {
     "name": "stdout",
     "output_type": "stream",
     "text": [
      "Epoch: 0118,\tTrain mse: 0.05626925,\tTrain_RMSE: 0.23717451,\tTrain_acc: 0.23718604,\tTest mse: 0.05761348,\tTime: 10.57682180s\n",
      "Epoch   119: reducing learning rate of group 0 to 3.1250e-06.\n"
     ]
    },
    {
     "name": "stderr",
     "output_type": "stream",
     "text": [
      "Training:  60%|██████    | 120/200 [21:22<14:16, 10.71s/Epochs]"
     ]
    },
    {
     "name": "stdout",
     "output_type": "stream",
     "text": [
      "Epoch: 0119,\tTrain mse: 0.05626593,\tTrain_RMSE: 0.23716723,\tTrain_acc: 0.23717883,\tTest mse: 0.05760676,\tTime: 10.73512149s\n"
     ]
    },
    {
     "name": "stderr",
     "output_type": "stream",
     "text": [
      "Training:  60%|██████    | 121/200 [21:33<14:04, 10.69s/Epochs]"
     ]
    },
    {
     "name": "stdout",
     "output_type": "stream",
     "text": [
      "Epoch: 0120,\tTrain mse: 0.05626221,\tTrain_RMSE: 0.23715916,\tTrain_acc: 0.23717077,\tTest mse: 0.05764471,\tTime: 10.63851619s\n"
     ]
    },
    {
     "name": "stderr",
     "output_type": "stream",
     "text": [
      "Training:  61%|██████    | 122/200 [21:44<13:49, 10.63s/Epochs]"
     ]
    },
    {
     "name": "stdout",
     "output_type": "stream",
     "text": [
      "Epoch: 0121,\tTrain mse: 0.05627062,\tTrain_RMSE: 0.23717749,\tTrain_acc: 0.23718901,\tTest mse: 0.05757177,\tTime: 10.50206566s\n"
     ]
    },
    {
     "name": "stderr",
     "output_type": "stream",
     "text": [
      "Training:  62%|██████▏   | 123/200 [21:55<13:47, 10.74s/Epochs]"
     ]
    },
    {
     "name": "stdout",
     "output_type": "stream",
     "text": [
      "Epoch: 0122,\tTrain mse: 0.05629504,\tTrain_RMSE: 0.23722862,\tTrain_acc: 0.23724009,\tTest mse: 0.05759231,\tTime: 10.99808359s\n"
     ]
    },
    {
     "name": "stderr",
     "output_type": "stream",
     "text": [
      "Training:  62%|██████▏   | 124/200 [22:06<13:41, 10.81s/Epochs]"
     ]
    },
    {
     "name": "stdout",
     "output_type": "stream",
     "text": [
      "Epoch: 0123,\tTrain mse: 0.05629888,\tTrain_RMSE: 0.23723676,\tTrain_acc: 0.23724830,\tTest mse: 0.05760572,\tTime: 10.96730185s\n"
     ]
    },
    {
     "name": "stderr",
     "output_type": "stream",
     "text": [
      "Training:  62%|██████▎   | 125/200 [22:16<13:26, 10.75s/Epochs]"
     ]
    },
    {
     "name": "stdout",
     "output_type": "stream",
     "text": [
      "Epoch: 0124,\tTrain mse: 0.05628634,\tTrain_RMSE: 0.23721022,\tTrain_acc: 0.23722169,\tTest mse: 0.05759427,\tTime: 10.59344912s\n",
      "Epoch   125: reducing learning rate of group 0 to 1.5625e-06.\n"
     ]
    },
    {
     "name": "stderr",
     "output_type": "stream",
     "text": [
      "Training:  63%|██████▎   | 126/200 [22:27<13:12, 10.71s/Epochs]"
     ]
    },
    {
     "name": "stdout",
     "output_type": "stream",
     "text": [
      "Epoch: 0125,\tTrain mse: 0.05629162,\tTrain_RMSE: 0.23722171,\tTrain_acc: 0.23723325,\tTest mse: 0.05759595,\tTime: 10.61866665s\n"
     ]
    },
    {
     "name": "stderr",
     "output_type": "stream",
     "text": [
      "Training:  64%|██████▎   | 127/200 [22:37<13:01, 10.71s/Epochs]"
     ]
    },
    {
     "name": "stdout",
     "output_type": "stream",
     "text": [
      "Epoch: 0126,\tTrain mse: 0.05629332,\tTrain_RMSE: 0.23722523,\tTrain_acc: 0.23723674,\tTest mse: 0.05764784,\tTime: 10.71055293s\n"
     ]
    },
    {
     "name": "stderr",
     "output_type": "stream",
     "text": [
      "Training:  64%|██████▍   | 128/200 [22:49<13:03, 10.89s/Epochs]"
     ]
    },
    {
     "name": "stdout",
     "output_type": "stream",
     "text": [
      "Epoch: 0127,\tTrain mse: 0.05629819,\tTrain_RMSE: 0.23723525,\tTrain_acc: 0.23724681,\tTest mse: 0.05757058,\tTime: 11.29773593s\n"
     ]
    },
    {
     "name": "stderr",
     "output_type": "stream",
     "text": [
      "Training:  64%|██████▍   | 129/200 [23:00<12:53, 10.89s/Epochs]"
     ]
    },
    {
     "name": "stdout",
     "output_type": "stream",
     "text": [
      "Epoch: 0128,\tTrain mse: 0.05629413,\tTrain_RMSE: 0.23722710,\tTrain_acc: 0.23723873,\tTest mse: 0.05767220,\tTime: 10.90071058s\n"
     ]
    },
    {
     "name": "stderr",
     "output_type": "stream",
     "text": [
      "Training:  65%|██████▌   | 130/200 [23:10<12:40, 10.87s/Epochs]"
     ]
    },
    {
     "name": "stdout",
     "output_type": "stream",
     "text": [
      "Epoch: 0129,\tTrain mse: 0.05629965,\tTrain_RMSE: 0.23723866,\tTrain_acc: 0.23725027,\tTest mse: 0.05760455,\tTime: 10.81020355s\n"
     ]
    },
    {
     "name": "stderr",
     "output_type": "stream",
     "text": [
      "Training:  66%|██████▌   | 131/200 [23:21<12:25, 10.81s/Epochs]"
     ]
    },
    {
     "name": "stdout",
     "output_type": "stream",
     "text": [
      "Epoch: 0130,\tTrain mse: 0.05630498,\tTrain_RMSE: 0.23724987,\tTrain_acc: 0.23726143,\tTest mse: 0.05762108,\tTime: 10.66123390s\n",
      "Epoch   131: reducing learning rate of group 0 to 7.8125e-07.\n"
     ]
    },
    {
     "name": "stderr",
     "output_type": "stream",
     "text": [
      "Training:  66%|██████▌   | 132/200 [23:32<12:10, 10.74s/Epochs]"
     ]
    },
    {
     "name": "stdout",
     "output_type": "stream",
     "text": [
      "Epoch: 0131,\tTrain mse: 0.05631627,\tTrain_RMSE: 0.23727365,\tTrain_acc: 0.23728518,\tTest mse: 0.05762169,\tTime: 10.58835077s\n"
     ]
    },
    {
     "name": "stderr",
     "output_type": "stream",
     "text": [
      "Training:  66%|██████▋   | 133/200 [23:42<11:55, 10.68s/Epochs]"
     ]
    },
    {
     "name": "stdout",
     "output_type": "stream",
     "text": [
      "Epoch: 0132,\tTrain mse: 0.05630744,\tTrain_RMSE: 0.23725522,\tTrain_acc: 0.23726669,\tTest mse: 0.05767386,\tTime: 10.52804089s\n"
     ]
    },
    {
     "name": "stderr",
     "output_type": "stream",
     "text": [
      "Training:  67%|██████▋   | 134/200 [23:53<11:42, 10.64s/Epochs]"
     ]
    },
    {
     "name": "stdout",
     "output_type": "stream",
     "text": [
      "Epoch: 0133,\tTrain mse: 0.05631955,\tTrain_RMSE: 0.23728075,\tTrain_acc: 0.23729238,\tTest mse: 0.05760596,\tTime: 10.55560279s\n"
     ]
    },
    {
     "name": "stderr",
     "output_type": "stream",
     "text": [
      "Training:  68%|██████▊   | 135/200 [24:04<11:35, 10.70s/Epochs]"
     ]
    },
    {
     "name": "stdout",
     "output_type": "stream",
     "text": [
      "Epoch: 0134,\tTrain mse: 0.05631332,\tTrain_RMSE: 0.23726748,\tTrain_acc: 0.23727910,\tTest mse: 0.05760976,\tTime: 10.84429216s\n"
     ]
    },
    {
     "name": "stderr",
     "output_type": "stream",
     "text": [
      "Training:  68%|██████▊   | 136/200 [24:14<11:26, 10.73s/Epochs]"
     ]
    },
    {
     "name": "stdout",
     "output_type": "stream",
     "text": [
      "Epoch: 0135,\tTrain mse: 0.05631360,\tTrain_RMSE: 0.23726851,\tTrain_acc: 0.23728004,\tTest mse: 0.05763226,\tTime: 10.79667473s\n"
     ]
    },
    {
     "name": "stderr",
     "output_type": "stream",
     "text": [
      "Training:  68%|██████▊   | 137/200 [24:25<11:17, 10.75s/Epochs]"
     ]
    },
    {
     "name": "stdout",
     "output_type": "stream",
     "text": [
      "Epoch: 0136,\tTrain mse: 0.05630660,\tTrain_RMSE: 0.23725354,\tTrain_acc: 0.23726508,\tTest mse: 0.05762455,\tTime: 10.80522585s\n",
      "Epoch   137: reducing learning rate of group 0 to 3.9063e-07.\n"
     ]
    },
    {
     "name": "stderr",
     "output_type": "stream",
     "text": [
      "Training:  69%|██████▉   | 138/200 [24:36<11:06, 10.75s/Epochs]"
     ]
    },
    {
     "name": "stdout",
     "output_type": "stream",
     "text": [
      "Epoch: 0137,\tTrain mse: 0.05631500,\tTrain_RMSE: 0.23727103,\tTrain_acc: 0.23728259,\tTest mse: 0.05761553,\tTime: 10.74570632s\n"
     ]
    },
    {
     "name": "stderr",
     "output_type": "stream",
     "text": [
      "Training:  70%|██████▉   | 139/200 [24:47<10:52, 10.70s/Epochs]"
     ]
    },
    {
     "name": "stdout",
     "output_type": "stream",
     "text": [
      "Epoch: 0138,\tTrain mse: 0.05632837,\tTrain_RMSE: 0.23729910,\tTrain_acc: 0.23731062,\tTest mse: 0.05764381,\tTime: 10.56852412s\n"
     ]
    },
    {
     "name": "stderr",
     "output_type": "stream",
     "text": [
      "Training:  70%|███████   | 140/200 [24:57<10:39, 10.66s/Epochs]"
     ]
    },
    {
     "name": "stdout",
     "output_type": "stream",
     "text": [
      "Epoch: 0139,\tTrain mse: 0.05631181,\tTrain_RMSE: 0.23726459,\tTrain_acc: 0.23727623,\tTest mse: 0.05763753,\tTime: 10.55674624s\n"
     ]
    },
    {
     "name": "stderr",
     "output_type": "stream",
     "text": [
      "Training:  70%|███████   | 141/200 [25:08<10:29, 10.66s/Epochs]"
     ]
    },
    {
     "name": "stdout",
     "output_type": "stream",
     "text": [
      "Epoch: 0140,\tTrain mse: 0.05631734,\tTrain_RMSE: 0.23727601,\tTrain_acc: 0.23728764,\tTest mse: 0.05762795,\tTime: 10.67878866s\n"
     ]
    },
    {
     "name": "stderr",
     "output_type": "stream",
     "text": [
      "Training:  71%|███████   | 142/200 [25:18<10:18, 10.67s/Epochs]"
     ]
    },
    {
     "name": "stdout",
     "output_type": "stream",
     "text": [
      "Epoch: 0141,\tTrain mse: 0.05631802,\tTrain_RMSE: 0.23727738,\tTrain_acc: 0.23728888,\tTest mse: 0.05762668,\tTime: 10.68942165s\n"
     ]
    },
    {
     "name": "stderr",
     "output_type": "stream",
     "text": [
      "Training:  72%|███████▏  | 143/200 [25:29<10:12, 10.74s/Epochs]"
     ]
    },
    {
     "name": "stdout",
     "output_type": "stream",
     "text": [
      "Epoch: 0142,\tTrain mse: 0.05632562,\tTrain_RMSE: 0.23729365,\tTrain_acc: 0.23730516,\tTest mse: 0.05764338,\tTime: 10.89764833s\n",
      "Epoch   143: reducing learning rate of group 0 to 1.9531e-07.\n"
     ]
    },
    {
     "name": "stderr",
     "output_type": "stream",
     "text": [
      "Training:  72%|███████▏  | 144/200 [25:40<09:59, 10.71s/Epochs]"
     ]
    },
    {
     "name": "stdout",
     "output_type": "stream",
     "text": [
      "Epoch: 0143,\tTrain mse: 0.05631883,\tTrain_RMSE: 0.23727892,\tTrain_acc: 0.23729044,\tTest mse: 0.05765687,\tTime: 10.65084338s\n"
     ]
    },
    {
     "name": "stderr",
     "output_type": "stream",
     "text": [
      "Training:  72%|███████▎  | 145/200 [25:51<09:46, 10.66s/Epochs]"
     ]
    },
    {
     "name": "stdout",
     "output_type": "stream",
     "text": [
      "Epoch: 0144,\tTrain mse: 0.05632421,\tTrain_RMSE: 0.23729033,\tTrain_acc: 0.23730189,\tTest mse: 0.05764445,\tTime: 10.51772571s\n"
     ]
    },
    {
     "name": "stderr",
     "output_type": "stream",
     "text": [
      "Training:  73%|███████▎  | 146/200 [26:01<09:34, 10.64s/Epochs]"
     ]
    },
    {
     "name": "stdout",
     "output_type": "stream",
     "text": [
      "Epoch: 0145,\tTrain mse: 0.05632757,\tTrain_RMSE: 0.23729792,\tTrain_acc: 0.23730946,\tTest mse: 0.05766288,\tTime: 10.60785604s\n"
     ]
    },
    {
     "name": "stderr",
     "output_type": "stream",
     "text": [
      "Training:  74%|███████▎  | 147/200 [26:12<09:25, 10.67s/Epochs]"
     ]
    },
    {
     "name": "stdout",
     "output_type": "stream",
     "text": [
      "Epoch: 0146,\tTrain mse: 0.05632858,\tTrain_RMSE: 0.23729978,\tTrain_acc: 0.23731133,\tTest mse: 0.05766019,\tTime: 10.71996140s\n"
     ]
    },
    {
     "name": "stderr",
     "output_type": "stream",
     "text": [
      "Training:  74%|███████▍  | 148/200 [26:23<09:13, 10.65s/Epochs]"
     ]
    },
    {
     "name": "stdout",
     "output_type": "stream",
     "text": [
      "Epoch: 0147,\tTrain mse: 0.05631241,\tTrain_RMSE: 0.23726582,\tTrain_acc: 0.23727740,\tTest mse: 0.05764312,\tTime: 10.62186170s\n"
     ]
    },
    {
     "name": "stderr",
     "output_type": "stream",
     "text": [
      "Training:  74%|███████▍  | 149/200 [26:33<09:04, 10.68s/Epochs]"
     ]
    },
    {
     "name": "stdout",
     "output_type": "stream",
     "text": [
      "Epoch: 0148,\tTrain mse: 0.05632338,\tTrain_RMSE: 0.23728852,\tTrain_acc: 0.23730004,\tTest mse: 0.05761298,\tTime: 10.75234485s\n",
      "Epoch   149: reducing learning rate of group 0 to 1.0000e-07.\n"
     ]
    },
    {
     "name": "stderr",
     "output_type": "stream",
     "text": [
      "Training:  75%|███████▌  | 150/200 [26:44<08:49, 10.59s/Epochs]"
     ]
    },
    {
     "name": "stdout",
     "output_type": "stream",
     "text": [
      "Epoch: 0149,\tTrain mse: 0.05632213,\tTrain_RMSE: 0.23728602,\tTrain_acc: 0.23729756,\tTest mse: 0.05761992,\tTime: 10.36245513s\n"
     ]
    },
    {
     "name": "stderr",
     "output_type": "stream",
     "text": [
      "Training:  76%|███████▌  | 151/200 [26:54<08:42, 10.66s/Epochs]"
     ]
    },
    {
     "name": "stdout",
     "output_type": "stream",
     "text": [
      "Epoch: 0150,\tTrain mse: 0.05632210,\tTrain_RMSE: 0.23728585,\tTrain_acc: 0.23729739,\tTest mse: 0.05764212,\tTime: 10.84219098s\n"
     ]
    },
    {
     "name": "stderr",
     "output_type": "stream",
     "text": [
      "Training:  76%|███████▌  | 152/200 [27:05<08:32, 10.68s/Epochs]"
     ]
    },
    {
     "name": "stdout",
     "output_type": "stream",
     "text": [
      "Epoch: 0151,\tTrain mse: 0.05632229,\tTrain_RMSE: 0.23728637,\tTrain_acc: 0.23729794,\tTest mse: 0.05765789,\tTime: 10.70557213s\n"
     ]
    },
    {
     "name": "stderr",
     "output_type": "stream",
     "text": [
      "Training:  76%|███████▋  | 153/200 [27:16<08:24, 10.74s/Epochs]"
     ]
    },
    {
     "name": "stdout",
     "output_type": "stream",
     "text": [
      "Epoch: 0152,\tTrain mse: 0.05632214,\tTrain_RMSE: 0.23728586,\tTrain_acc: 0.23729742,\tTest mse: 0.05766500,\tTime: 10.87195158s\n"
     ]
    },
    {
     "name": "stderr",
     "output_type": "stream",
     "text": [
      "Training:  77%|███████▋  | 154/200 [27:27<08:13, 10.73s/Epochs]"
     ]
    },
    {
     "name": "stdout",
     "output_type": "stream",
     "text": [
      "Epoch: 0153,\tTrain mse: 0.05632268,\tTrain_RMSE: 0.23728701,\tTrain_acc: 0.23729856,\tTest mse: 0.05766243,\tTime: 10.71734333s\n"
     ]
    },
    {
     "name": "stderr",
     "output_type": "stream",
     "text": [
      "Training:  78%|███████▊  | 155/200 [27:37<08:02, 10.72s/Epochs]"
     ]
    },
    {
     "name": "stdout",
     "output_type": "stream",
     "text": [
      "Epoch: 0154,\tTrain mse: 0.05632409,\tTrain_RMSE: 0.23728998,\tTrain_acc: 0.23730153,\tTest mse: 0.05766238,\tTime: 10.70654559s\n"
     ]
    },
    {
     "name": "stderr",
     "output_type": "stream",
     "text": [
      "Training:  78%|███████▊  | 156/200 [27:48<07:52, 10.74s/Epochs]"
     ]
    },
    {
     "name": "stdout",
     "output_type": "stream",
     "text": [
      "Epoch: 0155,\tTrain mse: 0.05633173,\tTrain_RMSE: 0.23730617,\tTrain_acc: 0.23731773,\tTest mse: 0.05764460,\tTime: 10.76334572s\n"
     ]
    },
    {
     "name": "stderr",
     "output_type": "stream",
     "text": [
      "Training:  78%|███████▊  | 157/200 [27:59<07:39, 10.69s/Epochs]"
     ]
    },
    {
     "name": "stdout",
     "output_type": "stream",
     "text": [
      "Epoch: 0156,\tTrain mse: 0.05632961,\tTrain_RMSE: 0.23730149,\tTrain_acc: 0.23731300,\tTest mse: 0.05766467,\tTime: 10.58209467s\n"
     ]
    },
    {
     "name": "stderr",
     "output_type": "stream",
     "text": [
      "Training:  79%|███████▉  | 158/200 [28:10<07:29, 10.71s/Epochs]"
     ]
    },
    {
     "name": "stdout",
     "output_type": "stream",
     "text": [
      "Epoch: 0157,\tTrain mse: 0.05632335,\tTrain_RMSE: 0.23728838,\tTrain_acc: 0.23729995,\tTest mse: 0.05765665,\tTime: 10.76462150s\n"
     ]
    },
    {
     "name": "stderr",
     "output_type": "stream",
     "text": [
      "Training:  80%|███████▉  | 159/200 [28:20<07:19, 10.73s/Epochs]"
     ]
    },
    {
     "name": "stdout",
     "output_type": "stream",
     "text": [
      "Epoch: 0158,\tTrain mse: 0.05631860,\tTrain_RMSE: 0.23727852,\tTrain_acc: 0.23729022,\tTest mse: 0.05765207,\tTime: 10.75630546s\n"
     ]
    },
    {
     "name": "stderr",
     "output_type": "stream",
     "text": [
      "Training:  80%|████████  | 160/200 [28:31<07:11, 10.79s/Epochs]"
     ]
    },
    {
     "name": "stdout",
     "output_type": "stream",
     "text": [
      "Epoch: 0159,\tTrain mse: 0.05632560,\tTrain_RMSE: 0.23729297,\tTrain_acc: 0.23730451,\tTest mse: 0.05765887,\tTime: 10.93827772s\n"
     ]
    },
    {
     "name": "stderr",
     "output_type": "stream",
     "text": [
      "Training:  80%|████████  | 161/200 [28:42<06:59, 10.77s/Epochs]"
     ]
    },
    {
     "name": "stdout",
     "output_type": "stream",
     "text": [
      "Epoch: 0160,\tTrain mse: 0.05631686,\tTrain_RMSE: 0.23727453,\tTrain_acc: 0.23728615,\tTest mse: 0.05765437,\tTime: 10.70625329s\n"
     ]
    },
    {
     "name": "stderr",
     "output_type": "stream",
     "text": [
      "Training:  81%|████████  | 162/200 [28:53<06:50, 10.79s/Epochs]"
     ]
    },
    {
     "name": "stdout",
     "output_type": "stream",
     "text": [
      "Epoch: 0161,\tTrain mse: 0.05631937,\tTrain_RMSE: 0.23728016,\tTrain_acc: 0.23729177,\tTest mse: 0.05765574,\tTime: 10.84741139s\n"
     ]
    },
    {
     "name": "stderr",
     "output_type": "stream",
     "text": [
      "Training:  82%|████████▏ | 163/200 [29:04<06:37, 10.75s/Epochs]"
     ]
    },
    {
     "name": "stdout",
     "output_type": "stream",
     "text": [
      "Epoch: 0162,\tTrain mse: 0.05631500,\tTrain_RMSE: 0.23727098,\tTrain_acc: 0.23728256,\tTest mse: 0.05765486,\tTime: 10.66266608s\n"
     ]
    },
    {
     "name": "stderr",
     "output_type": "stream",
     "text": [
      "Training:  82%|████████▏ | 164/200 [29:14<06:26, 10.74s/Epochs]"
     ]
    },
    {
     "name": "stdout",
     "output_type": "stream",
     "text": [
      "Epoch: 0163,\tTrain mse: 0.05632154,\tTrain_RMSE: 0.23728474,\tTrain_acc: 0.23729631,\tTest mse: 0.05766052,\tTime: 10.70818067s\n"
     ]
    },
    {
     "name": "stderr",
     "output_type": "stream",
     "text": [
      "Training:  82%|████████▎ | 165/200 [29:25<06:17, 10.79s/Epochs]"
     ]
    },
    {
     "name": "stdout",
     "output_type": "stream",
     "text": [
      "Epoch: 0164,\tTrain mse: 0.05631824,\tTrain_RMSE: 0.23727779,\tTrain_acc: 0.23728940,\tTest mse: 0.05766703,\tTime: 10.90328503s\n"
     ]
    },
    {
     "name": "stderr",
     "output_type": "stream",
     "text": [
      "Training:  83%|████████▎ | 166/200 [29:36<06:05, 10.76s/Epochs]"
     ]
    },
    {
     "name": "stdout",
     "output_type": "stream",
     "text": [
      "Epoch: 0165,\tTrain mse: 0.05632527,\tTrain_RMSE: 0.23729255,\tTrain_acc: 0.23730414,\tTest mse: 0.05766531,\tTime: 10.68783355s\n"
     ]
    },
    {
     "name": "stderr",
     "output_type": "stream",
     "text": [
      "Training:  84%|████████▎ | 167/200 [29:47<05:57, 10.84s/Epochs]"
     ]
    },
    {
     "name": "stdout",
     "output_type": "stream",
     "text": [
      "Epoch: 0166,\tTrain mse: 0.05632244,\tTrain_RMSE: 0.23728707,\tTrain_acc: 0.23729868,\tTest mse: 0.05766370,\tTime: 11.00893474s\n"
     ]
    },
    {
     "name": "stderr",
     "output_type": "stream",
     "text": [
      "Training:  84%|████████▍ | 168/200 [29:57<05:44, 10.75s/Epochs]"
     ]
    },
    {
     "name": "stdout",
     "output_type": "stream",
     "text": [
      "Epoch: 0167,\tTrain mse: 0.05632486,\tTrain_RMSE: 0.23729198,\tTrain_acc: 0.23730350,\tTest mse: 0.05766444,\tTime: 10.55512667s\n"
     ]
    },
    {
     "name": "stderr",
     "output_type": "stream",
     "text": [
      "Training:  84%|████████▍ | 169/200 [30:08<05:33, 10.77s/Epochs]"
     ]
    },
    {
     "name": "stdout",
     "output_type": "stream",
     "text": [
      "Epoch: 0168,\tTrain mse: 0.05632316,\tTrain_RMSE: 0.23728836,\tTrain_acc: 0.23729989,\tTest mse: 0.05766002,\tTime: 10.80802512s\n"
     ]
    },
    {
     "name": "stderr",
     "output_type": "stream",
     "text": [
      "Training:  85%|████████▌ | 170/200 [30:19<05:20, 10.68s/Epochs]"
     ]
    },
    {
     "name": "stdout",
     "output_type": "stream",
     "text": [
      "Epoch: 0169,\tTrain mse: 0.05633036,\tTrain_RMSE: 0.23730358,\tTrain_acc: 0.23731512,\tTest mse: 0.05766386,\tTime: 10.47497749s\n"
     ]
    },
    {
     "name": "stderr",
     "output_type": "stream",
     "text": [
      "Training:  86%|████████▌ | 171/200 [30:29<05:08, 10.63s/Epochs]"
     ]
    },
    {
     "name": "stdout",
     "output_type": "stream",
     "text": [
      "Epoch: 0170,\tTrain mse: 0.05631744,\tTrain_RMSE: 0.23727612,\tTrain_acc: 0.23728767,\tTest mse: 0.05765801,\tTime: 10.49999189s\n"
     ]
    },
    {
     "name": "stderr",
     "output_type": "stream",
     "text": [
      "Training:  86%|████████▌ | 172/200 [30:40<04:59, 10.71s/Epochs]"
     ]
    },
    {
     "name": "stdout",
     "output_type": "stream",
     "text": [
      "Epoch: 0171,\tTrain mse: 0.05632182,\tTrain_RMSE: 0.23728524,\tTrain_acc: 0.23729679,\tTest mse: 0.05772492,\tTime: 10.89457226s\n"
     ]
    },
    {
     "name": "stderr",
     "output_type": "stream",
     "text": [
      "Training:  86%|████████▋ | 173/200 [30:51<04:49, 10.74s/Epochs]"
     ]
    },
    {
     "name": "stdout",
     "output_type": "stream",
     "text": [
      "Epoch: 0172,\tTrain mse: 0.05632973,\tTrain_RMSE: 0.23730190,\tTrain_acc: 0.23731352,\tTest mse: 0.05766874,\tTime: 10.79449701s\n"
     ]
    },
    {
     "name": "stderr",
     "output_type": "stream",
     "text": [
      "Training:  87%|████████▋ | 174/200 [31:02<04:38, 10.71s/Epochs]"
     ]
    },
    {
     "name": "stdout",
     "output_type": "stream",
     "text": [
      "Epoch: 0173,\tTrain mse: 0.05633007,\tTrain_RMSE: 0.23730282,\tTrain_acc: 0.23731448,\tTest mse: 0.05767525,\tTime: 10.63349223s\n"
     ]
    },
    {
     "name": "stderr",
     "output_type": "stream",
     "text": [
      "Training:  88%|████████▊ | 175/200 [31:12<04:28, 10.74s/Epochs]"
     ]
    },
    {
     "name": "stdout",
     "output_type": "stream",
     "text": [
      "Epoch: 0174,\tTrain mse: 0.05632269,\tTrain_RMSE: 0.23728700,\tTrain_acc: 0.23729864,\tTest mse: 0.05766552,\tTime: 10.82885671s\n"
     ]
    },
    {
     "name": "stderr",
     "output_type": "stream",
     "text": [
      "Training:  88%|████████▊ | 176/200 [31:23<04:16, 10.69s/Epochs]"
     ]
    },
    {
     "name": "stdout",
     "output_type": "stream",
     "text": [
      "Epoch: 0175,\tTrain mse: 0.05633840,\tTrain_RMSE: 0.23732041,\tTrain_acc: 0.23733206,\tTest mse: 0.05766135,\tTime: 10.55759382s\n"
     ]
    },
    {
     "name": "stderr",
     "output_type": "stream",
     "text": [
      "Training:  88%|████████▊ | 177/200 [31:34<04:05, 10.69s/Epochs]"
     ]
    },
    {
     "name": "stdout",
     "output_type": "stream",
     "text": [
      "Epoch: 0176,\tTrain mse: 0.05632641,\tTrain_RMSE: 0.23729460,\tTrain_acc: 0.23730630,\tTest mse: 0.05764122,\tTime: 10.70405102s\n"
     ]
    },
    {
     "name": "stderr",
     "output_type": "stream",
     "text": [
      "Training:  89%|████████▉ | 178/200 [31:44<03:55, 10.73s/Epochs]"
     ]
    },
    {
     "name": "stdout",
     "output_type": "stream",
     "text": [
      "Epoch: 0177,\tTrain mse: 0.05632604,\tTrain_RMSE: 0.23729424,\tTrain_acc: 0.23730585,\tTest mse: 0.05765682,\tTime: 10.80302048s\n"
     ]
    },
    {
     "name": "stderr",
     "output_type": "stream",
     "text": [
      "Training:  90%|████████▉ | 179/200 [31:55<03:44, 10.67s/Epochs]"
     ]
    },
    {
     "name": "stdout",
     "output_type": "stream",
     "text": [
      "Epoch: 0178,\tTrain mse: 0.05632751,\tTrain_RMSE: 0.23729754,\tTrain_acc: 0.23730917,\tTest mse: 0.05766633,\tTime: 10.54937458s\n"
     ]
    },
    {
     "name": "stderr",
     "output_type": "stream",
     "text": [
      "Training:  90%|█████████ | 180/200 [32:06<03:33, 10.67s/Epochs]"
     ]
    },
    {
     "name": "stdout",
     "output_type": "stream",
     "text": [
      "Epoch: 0179,\tTrain mse: 0.05633049,\tTrain_RMSE: 0.23730377,\tTrain_acc: 0.23731543,\tTest mse: 0.05766594,\tTime: 10.64809275s\n"
     ]
    },
    {
     "name": "stderr",
     "output_type": "stream",
     "text": [
      "Training:  90%|█████████ | 181/200 [32:16<03:22, 10.67s/Epochs]"
     ]
    },
    {
     "name": "stdout",
     "output_type": "stream",
     "text": [
      "Epoch: 0180,\tTrain mse: 0.05632228,\tTrain_RMSE: 0.23728659,\tTrain_acc: 0.23729827,\tTest mse: 0.05766594,\tTime: 10.68313551s\n"
     ]
    },
    {
     "name": "stderr",
     "output_type": "stream",
     "text": [
      "Training:  91%|█████████ | 182/200 [32:27<03:11, 10.64s/Epochs]"
     ]
    },
    {
     "name": "stdout",
     "output_type": "stream",
     "text": [
      "Epoch: 0181,\tTrain mse: 0.05633184,\tTrain_RMSE: 0.23730664,\tTrain_acc: 0.23731825,\tTest mse: 0.05764958,\tTime: 10.56593776s\n"
     ]
    },
    {
     "name": "stderr",
     "output_type": "stream",
     "text": [
      "Training:  92%|█████████▏| 183/200 [32:38<03:01, 10.67s/Epochs]"
     ]
    },
    {
     "name": "stdout",
     "output_type": "stream",
     "text": [
      "Epoch: 0182,\tTrain mse: 0.05632545,\tTrain_RMSE: 0.23729337,\tTrain_acc: 0.23730499,\tTest mse: 0.05767522,\tTime: 10.73641419s\n"
     ]
    },
    {
     "name": "stderr",
     "output_type": "stream",
     "text": [
      "Training:  92%|█████████▏| 184/200 [32:49<02:52, 10.75s/Epochs]"
     ]
    },
    {
     "name": "stdout",
     "output_type": "stream",
     "text": [
      "Epoch: 0183,\tTrain mse: 0.05632123,\tTrain_RMSE: 0.23728443,\tTrain_acc: 0.23729604,\tTest mse: 0.05767114,\tTime: 10.94067883s\n"
     ]
    },
    {
     "name": "stderr",
     "output_type": "stream",
     "text": [
      "Training:  92%|█████████▎| 185/200 [32:59<02:41, 10.74s/Epochs]"
     ]
    },
    {
     "name": "stdout",
     "output_type": "stream",
     "text": [
      "Epoch: 0184,\tTrain mse: 0.05633372,\tTrain_RMSE: 0.23731052,\tTrain_acc: 0.23732218,\tTest mse: 0.05768842,\tTime: 10.72213101s\n"
     ]
    },
    {
     "name": "stderr",
     "output_type": "stream",
     "text": [
      "Training:  93%|█████████▎| 186/200 [33:10<02:29, 10.70s/Epochs]"
     ]
    },
    {
     "name": "stdout",
     "output_type": "stream",
     "text": [
      "Epoch: 0185,\tTrain mse: 0.05633246,\tTrain_RMSE: 0.23730797,\tTrain_acc: 0.23731959,\tTest mse: 0.05766315,\tTime: 10.59123492s\n"
     ]
    },
    {
     "name": "stderr",
     "output_type": "stream",
     "text": [
      "Training:  94%|█████████▎| 187/200 [33:21<02:18, 10.68s/Epochs]"
     ]
    },
    {
     "name": "stdout",
     "output_type": "stream",
     "text": [
      "Epoch: 0186,\tTrain mse: 0.05632780,\tTrain_RMSE: 0.23729804,\tTrain_acc: 0.23730962,\tTest mse: 0.05765992,\tTime: 10.63513899s\n"
     ]
    },
    {
     "name": "stderr",
     "output_type": "stream",
     "text": [
      "Training:  94%|█████████▍| 188/200 [33:31<02:07, 10.60s/Epochs]"
     ]
    },
    {
     "name": "stdout",
     "output_type": "stream",
     "text": [
      "Epoch: 0187,\tTrain mse: 0.05633173,\tTrain_RMSE: 0.23730640,\tTrain_acc: 0.23731799,\tTest mse: 0.05767174,\tTime: 10.39828587s\n"
     ]
    },
    {
     "name": "stderr",
     "output_type": "stream",
     "text": [
      "Training:  94%|█████████▍| 189/200 [33:41<01:55, 10.54s/Epochs]"
     ]
    },
    {
     "name": "stdout",
     "output_type": "stream",
     "text": [
      "Epoch: 0188,\tTrain mse: 0.05633829,\tTrain_RMSE: 0.23732025,\tTrain_acc: 0.23733178,\tTest mse: 0.05764913,\tTime: 10.41887355s\n"
     ]
    },
    {
     "name": "stderr",
     "output_type": "stream",
     "text": [
      "Training:  95%|█████████▌| 190/200 [33:52<01:45, 10.52s/Epochs]"
     ]
    },
    {
     "name": "stdout",
     "output_type": "stream",
     "text": [
      "Epoch: 0189,\tTrain mse: 0.05633454,\tTrain_RMSE: 0.23731238,\tTrain_acc: 0.23732392,\tTest mse: 0.05766682,\tTime: 10.44956970s\n"
     ]
    },
    {
     "name": "stderr",
     "output_type": "stream",
     "text": [
      "Training:  96%|█████████▌| 191/200 [34:02<01:34, 10.53s/Epochs]"
     ]
    },
    {
     "name": "stdout",
     "output_type": "stream",
     "text": [
      "Epoch: 0190,\tTrain mse: 0.05633572,\tTrain_RMSE: 0.23731475,\tTrain_acc: 0.23732634,\tTest mse: 0.05765721,\tTime: 10.54645991s\n"
     ]
    },
    {
     "name": "stderr",
     "output_type": "stream",
     "text": [
      "Training:  96%|█████████▌| 192/200 [34:13<01:24, 10.62s/Epochs]"
     ]
    },
    {
     "name": "stdout",
     "output_type": "stream",
     "text": [
      "Epoch: 0191,\tTrain mse: 0.05633938,\tTrain_RMSE: 0.23732246,\tTrain_acc: 0.23733407,\tTest mse: 0.05765400,\tTime: 10.85352969s\n"
     ]
    },
    {
     "name": "stderr",
     "output_type": "stream",
     "text": [
      "Training:  96%|█████████▋| 193/200 [34:24<01:14, 10.67s/Epochs]"
     ]
    },
    {
     "name": "stdout",
     "output_type": "stream",
     "text": [
      "Epoch: 0192,\tTrain mse: 0.05632906,\tTrain_RMSE: 0.23730082,\tTrain_acc: 0.23731238,\tTest mse: 0.05766873,\tTime: 10.75992417s\n"
     ]
    },
    {
     "name": "stderr",
     "output_type": "stream",
     "text": [
      "Training:  97%|█████████▋| 194/200 [34:35<01:04, 10.71s/Epochs]"
     ]
    },
    {
     "name": "stdout",
     "output_type": "stream",
     "text": [
      "Epoch: 0193,\tTrain mse: 0.05633065,\tTrain_RMSE: 0.23730407,\tTrain_acc: 0.23731562,\tTest mse: 0.05765351,\tTime: 10.81219864s\n"
     ]
    },
    {
     "name": "stderr",
     "output_type": "stream",
     "text": [
      "Training:  98%|█████████▊| 195/200 [34:46<00:53, 10.76s/Epochs]"
     ]
    },
    {
     "name": "stdout",
     "output_type": "stream",
     "text": [
      "Epoch: 0194,\tTrain mse: 0.05633518,\tTrain_RMSE: 0.23731363,\tTrain_acc: 0.23732524,\tTest mse: 0.05765622,\tTime: 10.87453389s\n"
     ]
    },
    {
     "name": "stderr",
     "output_type": "stream",
     "text": [
      "Training:  98%|█████████▊| 196/200 [34:56<00:43, 10.76s/Epochs]"
     ]
    },
    {
     "name": "stdout",
     "output_type": "stream",
     "text": [
      "Epoch: 0195,\tTrain mse: 0.05633617,\tTrain_RMSE: 0.23731553,\tTrain_acc: 0.23732722,\tTest mse: 0.05764994,\tTime: 10.76765156s\n"
     ]
    },
    {
     "name": "stderr",
     "output_type": "stream",
     "text": [
      "Training:  98%|█████████▊| 197/200 [35:07<00:32, 10.82s/Epochs]"
     ]
    },
    {
     "name": "stdout",
     "output_type": "stream",
     "text": [
      "Epoch: 0196,\tTrain mse: 0.05633298,\tTrain_RMSE: 0.23730880,\tTrain_acc: 0.23732039,\tTest mse: 0.05765932,\tTime: 10.94069338s\n"
     ]
    },
    {
     "name": "stderr",
     "output_type": "stream",
     "text": [
      "Training:  99%|█████████▉| 198/200 [35:18<00:21, 10.71s/Epochs]"
     ]
    },
    {
     "name": "stdout",
     "output_type": "stream",
     "text": [
      "Epoch: 0197,\tTrain mse: 0.05633718,\tTrain_RMSE: 0.23731731,\tTrain_acc: 0.23732893,\tTest mse: 0.05764826,\tTime: 10.46844816s\n"
     ]
    },
    {
     "name": "stderr",
     "output_type": "stream",
     "text": [
      "Training: 100%|█████████▉| 199/200 [35:28<00:10, 10.68s/Epochs]"
     ]
    },
    {
     "name": "stdout",
     "output_type": "stream",
     "text": [
      "Epoch: 0198,\tTrain mse: 0.05632594,\tTrain_RMSE: 0.23729367,\tTrain_acc: 0.23730531,\tTest mse: 0.05771345,\tTime: 10.59773874s\n"
     ]
    },
    {
     "name": "stderr",
     "output_type": "stream",
     "text": [
      "Training: 100%|██████████| 200/200 [35:39<00:00, 10.70s/Epochs]"
     ]
    },
    {
     "name": "stdout",
     "output_type": "stream",
     "text": [
      "Epoch: 0199,\tTrain mse: 0.05633434,\tTrain_RMSE: 0.23731160,\tTrain_acc: 0.23732319,\tTest mse: 0.05772004,\tTime: 10.55904675s\n",
      "Model.state_dict:\n",
      "node_encode.0.weight \t torch.Size([32, 2])\n",
      "node_encode.0.bias \t torch.Size([32])\n",
      "node_encode.1.weight \t torch.Size([32, 32])\n",
      "node_encode.1.bias \t torch.Size([32])\n",
      "node_encode.2.weight \t torch.Size([32, 32])\n",
      "node_encode.2.bias \t torch.Size([32])\n",
      "node_encode.3.weight \t torch.Size([32, 32])\n",
      "node_encode.3.bias \t torch.Size([32])\n",
      "node_encode.4.weight \t torch.Size([32, 32])\n",
      "node_encode.4.bias \t torch.Size([32])\n",
      "node_encode.5.weight \t torch.Size([32, 32])\n",
      "node_encode.5.bias \t torch.Size([32])\n",
      "node_encode_norm.weight \t torch.Size([32])\n",
      "node_encode_norm.bias \t torch.Size([32])\n",
      "edge_encode.0.weight \t torch.Size([32, 3])\n",
      "edge_encode.0.bias \t torch.Size([32])\n",
      "edge_encode.1.weight \t torch.Size([32, 32])\n",
      "edge_encode.1.bias \t torch.Size([32])\n",
      "edge_encode.2.weight \t torch.Size([32, 32])\n",
      "edge_encode.2.bias \t torch.Size([32])\n",
      "edge_encode.3.weight \t torch.Size([32, 32])\n",
      "edge_encode.3.bias \t torch.Size([32])\n",
      "edge_encode.4.weight \t torch.Size([32, 32])\n",
      "edge_encode.4.bias \t torch.Size([32])\n",
      "edge_encode.5.weight \t torch.Size([32, 32])\n",
      "edge_encode.5.bias \t torch.Size([32])\n",
      "edge_encode_norm.weight \t torch.Size([32])\n",
      "edge_encode_norm.bias \t torch.Size([32])\n",
      "edge_down_mps.0.0.0.weight \t torch.Size([32, 96])\n",
      "edge_down_mps.0.0.0.bias \t torch.Size([32])\n",
      "edge_down_mps.0.0.1.weight \t torch.Size([32, 32])\n",
      "edge_down_mps.0.0.1.bias \t torch.Size([32])\n",
      "edge_down_mps.0.0.2.weight \t torch.Size([32, 32])\n",
      "edge_down_mps.0.0.2.bias \t torch.Size([32])\n",
      "edge_down_mps.0.1.0.weight \t torch.Size([32, 96])\n",
      "edge_down_mps.0.1.0.bias \t torch.Size([32])\n",
      "edge_down_mps.0.1.1.weight \t torch.Size([32, 32])\n",
      "edge_down_mps.0.1.1.bias \t torch.Size([32])\n",
      "edge_down_mps.0.1.2.weight \t torch.Size([32, 32])\n",
      "edge_down_mps.0.1.2.bias \t torch.Size([32])\n",
      "edge_down_mps.1.0.0.weight \t torch.Size([32, 96])\n",
      "edge_down_mps.1.0.0.bias \t torch.Size([32])\n",
      "edge_down_mps.1.0.1.weight \t torch.Size([32, 32])\n",
      "edge_down_mps.1.0.1.bias \t torch.Size([32])\n",
      "edge_down_mps.1.0.2.weight \t torch.Size([32, 32])\n",
      "edge_down_mps.1.0.2.bias \t torch.Size([32])\n",
      "edge_down_mps.1.1.0.weight \t torch.Size([32, 96])\n",
      "edge_down_mps.1.1.0.bias \t torch.Size([32])\n",
      "edge_down_mps.1.1.1.weight \t torch.Size([32, 32])\n",
      "edge_down_mps.1.1.1.bias \t torch.Size([32])\n",
      "edge_down_mps.1.1.2.weight \t torch.Size([32, 32])\n",
      "edge_down_mps.1.1.2.bias \t torch.Size([32])\n",
      "edge_down_mps.2.0.0.weight \t torch.Size([32, 96])\n",
      "edge_down_mps.2.0.0.bias \t torch.Size([32])\n",
      "edge_down_mps.2.0.1.weight \t torch.Size([32, 32])\n",
      "edge_down_mps.2.0.1.bias \t torch.Size([32])\n",
      "edge_down_mps.2.0.2.weight \t torch.Size([32, 32])\n",
      "edge_down_mps.2.0.2.bias \t torch.Size([32])\n",
      "edge_down_mps.2.1.0.weight \t torch.Size([32, 96])\n",
      "edge_down_mps.2.1.0.bias \t torch.Size([32])\n",
      "edge_down_mps.2.1.1.weight \t torch.Size([32, 32])\n",
      "edge_down_mps.2.1.1.bias \t torch.Size([32])\n",
      "edge_down_mps.2.1.2.weight \t torch.Size([32, 32])\n",
      "edge_down_mps.2.1.2.bias \t torch.Size([32])\n",
      "edge_down_mps.3.0.0.weight \t torch.Size([32, 96])\n",
      "edge_down_mps.3.0.0.bias \t torch.Size([32])\n",
      "edge_down_mps.3.0.1.weight \t torch.Size([32, 32])\n",
      "edge_down_mps.3.0.1.bias \t torch.Size([32])\n",
      "edge_down_mps.3.0.2.weight \t torch.Size([32, 32])\n",
      "edge_down_mps.3.0.2.bias \t torch.Size([32])\n",
      "edge_down_mps.3.1.0.weight \t torch.Size([32, 96])\n",
      "edge_down_mps.3.1.0.bias \t torch.Size([32])\n",
      "edge_down_mps.3.1.1.weight \t torch.Size([32, 32])\n",
      "edge_down_mps.3.1.1.bias \t torch.Size([32])\n",
      "edge_down_mps.3.1.2.weight \t torch.Size([32, 32])\n",
      "edge_down_mps.3.1.2.bias \t torch.Size([32])\n",
      "edge_down_mps.4.0.0.weight \t torch.Size([32, 96])\n",
      "edge_down_mps.4.0.0.bias \t torch.Size([32])\n",
      "edge_down_mps.4.0.1.weight \t torch.Size([32, 32])\n",
      "edge_down_mps.4.0.1.bias \t torch.Size([32])\n",
      "edge_down_mps.4.0.2.weight \t torch.Size([32, 32])\n",
      "edge_down_mps.4.0.2.bias \t torch.Size([32])\n",
      "edge_down_mps.5.0.0.weight \t torch.Size([32, 96])\n",
      "edge_down_mps.5.0.0.bias \t torch.Size([32])\n",
      "edge_down_mps.5.0.1.weight \t torch.Size([32, 32])\n",
      "edge_down_mps.5.0.1.bias \t torch.Size([32])\n",
      "edge_down_mps.5.0.2.weight \t torch.Size([32, 32])\n",
      "edge_down_mps.5.0.2.bias \t torch.Size([32])\n",
      "edge_down_norms.0.0.weight \t torch.Size([32])\n",
      "edge_down_norms.0.0.bias \t torch.Size([32])\n",
      "edge_down_norms.0.1.weight \t torch.Size([32])\n",
      "edge_down_norms.0.1.bias \t torch.Size([32])\n",
      "edge_down_norms.1.0.weight \t torch.Size([32])\n",
      "edge_down_norms.1.0.bias \t torch.Size([32])\n",
      "edge_down_norms.1.1.weight \t torch.Size([32])\n",
      "edge_down_norms.1.1.bias \t torch.Size([32])\n",
      "edge_down_norms.2.0.weight \t torch.Size([32])\n",
      "edge_down_norms.2.0.bias \t torch.Size([32])\n",
      "edge_down_norms.2.1.weight \t torch.Size([32])\n",
      "edge_down_norms.2.1.bias \t torch.Size([32])\n",
      "edge_down_norms.3.0.weight \t torch.Size([32])\n",
      "edge_down_norms.3.0.bias \t torch.Size([32])\n",
      "edge_down_norms.3.1.weight \t torch.Size([32])\n",
      "edge_down_norms.3.1.bias \t torch.Size([32])\n",
      "edge_down_norms.4.0.weight \t torch.Size([32])\n",
      "edge_down_norms.4.0.bias \t torch.Size([32])\n",
      "edge_down_norms.5.0.weight \t torch.Size([32])\n",
      "edge_down_norms.5.0.bias \t torch.Size([32])\n",
      "node_down_mps.0.0.0.weight \t torch.Size([32, 64])\n",
      "node_down_mps.0.0.0.bias \t torch.Size([32])\n",
      "node_down_mps.0.0.1.weight \t torch.Size([32, 32])\n",
      "node_down_mps.0.0.1.bias \t torch.Size([32])\n",
      "node_down_mps.0.0.2.weight \t torch.Size([32, 32])\n",
      "node_down_mps.0.0.2.bias \t torch.Size([32])\n",
      "node_down_mps.0.1.0.weight \t torch.Size([32, 64])\n",
      "node_down_mps.0.1.0.bias \t torch.Size([32])\n",
      "node_down_mps.0.1.1.weight \t torch.Size([32, 32])\n",
      "node_down_mps.0.1.1.bias \t torch.Size([32])\n",
      "node_down_mps.0.1.2.weight \t torch.Size([32, 32])\n",
      "node_down_mps.0.1.2.bias \t torch.Size([32])\n",
      "node_down_mps.1.0.0.weight \t torch.Size([32, 64])\n",
      "node_down_mps.1.0.0.bias \t torch.Size([32])\n",
      "node_down_mps.1.0.1.weight \t torch.Size([32, 32])\n",
      "node_down_mps.1.0.1.bias \t torch.Size([32])\n",
      "node_down_mps.1.0.2.weight \t torch.Size([32, 32])\n",
      "node_down_mps.1.0.2.bias \t torch.Size([32])\n",
      "node_down_mps.1.1.0.weight \t torch.Size([32, 64])\n",
      "node_down_mps.1.1.0.bias \t torch.Size([32])\n",
      "node_down_mps.1.1.1.weight \t torch.Size([32, 32])\n",
      "node_down_mps.1.1.1.bias \t torch.Size([32])\n",
      "node_down_mps.1.1.2.weight \t torch.Size([32, 32])\n",
      "node_down_mps.1.1.2.bias \t torch.Size([32])\n",
      "node_down_mps.2.0.0.weight \t torch.Size([32, 64])\n",
      "node_down_mps.2.0.0.bias \t torch.Size([32])\n",
      "node_down_mps.2.0.1.weight \t torch.Size([32, 32])\n",
      "node_down_mps.2.0.1.bias \t torch.Size([32])\n",
      "node_down_mps.2.0.2.weight \t torch.Size([32, 32])\n",
      "node_down_mps.2.0.2.bias \t torch.Size([32])\n",
      "node_down_mps.2.1.0.weight \t torch.Size([32, 64])\n",
      "node_down_mps.2.1.0.bias \t torch.Size([32])\n",
      "node_down_mps.2.1.1.weight \t torch.Size([32, 32])\n",
      "node_down_mps.2.1.1.bias \t torch.Size([32])\n",
      "node_down_mps.2.1.2.weight \t torch.Size([32, 32])\n",
      "node_down_mps.2.1.2.bias \t torch.Size([32])\n",
      "node_down_mps.3.0.0.weight \t torch.Size([32, 64])\n",
      "node_down_mps.3.0.0.bias \t torch.Size([32])\n",
      "node_down_mps.3.0.1.weight \t torch.Size([32, 32])\n",
      "node_down_mps.3.0.1.bias \t torch.Size([32])\n",
      "node_down_mps.3.0.2.weight \t torch.Size([32, 32])\n",
      "node_down_mps.3.0.2.bias \t torch.Size([32])\n",
      "node_down_mps.3.1.0.weight \t torch.Size([32, 64])\n",
      "node_down_mps.3.1.0.bias \t torch.Size([32])\n",
      "node_down_mps.3.1.1.weight \t torch.Size([32, 32])\n",
      "node_down_mps.3.1.1.bias \t torch.Size([32])\n",
      "node_down_mps.3.1.2.weight \t torch.Size([32, 32])\n",
      "node_down_mps.3.1.2.bias \t torch.Size([32])\n",
      "node_down_mps.4.0.0.weight \t torch.Size([32, 64])\n",
      "node_down_mps.4.0.0.bias \t torch.Size([32])\n",
      "node_down_mps.4.0.1.weight \t torch.Size([32, 32])\n",
      "node_down_mps.4.0.1.bias \t torch.Size([32])\n",
      "node_down_mps.4.0.2.weight \t torch.Size([32, 32])\n",
      "node_down_mps.4.0.2.bias \t torch.Size([32])\n",
      "node_down_mps.5.0.0.weight \t torch.Size([32, 64])\n",
      "node_down_mps.5.0.0.bias \t torch.Size([32])\n",
      "node_down_mps.5.0.1.weight \t torch.Size([32, 32])\n",
      "node_down_mps.5.0.1.bias \t torch.Size([32])\n",
      "node_down_mps.5.0.2.weight \t torch.Size([32, 32])\n",
      "node_down_mps.5.0.2.bias \t torch.Size([32])\n",
      "node_down_norms.0.0.weight \t torch.Size([32])\n",
      "node_down_norms.0.0.bias \t torch.Size([32])\n",
      "node_down_norms.0.1.weight \t torch.Size([32])\n",
      "node_down_norms.0.1.bias \t torch.Size([32])\n",
      "node_down_norms.1.0.weight \t torch.Size([32])\n",
      "node_down_norms.1.0.bias \t torch.Size([32])\n",
      "node_down_norms.1.1.weight \t torch.Size([32])\n",
      "node_down_norms.1.1.bias \t torch.Size([32])\n",
      "node_down_norms.2.0.weight \t torch.Size([32])\n",
      "node_down_norms.2.0.bias \t torch.Size([32])\n",
      "node_down_norms.2.1.weight \t torch.Size([32])\n",
      "node_down_norms.2.1.bias \t torch.Size([32])\n",
      "node_down_norms.3.0.weight \t torch.Size([32])\n",
      "node_down_norms.3.0.bias \t torch.Size([32])\n",
      "node_down_norms.3.1.weight \t torch.Size([32])\n",
      "node_down_norms.3.1.bias \t torch.Size([32])\n",
      "node_down_norms.4.0.weight \t torch.Size([32])\n",
      "node_down_norms.4.0.bias \t torch.Size([32])\n",
      "node_down_norms.5.0.weight \t torch.Size([32])\n",
      "node_down_norms.5.0.bias \t torch.Size([32])\n",
      "edge_up_mps.0.0.0.weight \t torch.Size([32, 96])\n",
      "edge_up_mps.0.0.0.bias \t torch.Size([32])\n",
      "edge_up_mps.0.0.1.weight \t torch.Size([32, 32])\n",
      "edge_up_mps.0.0.1.bias \t torch.Size([32])\n",
      "edge_up_mps.0.0.2.weight \t torch.Size([32, 32])\n",
      "edge_up_mps.0.0.2.bias \t torch.Size([32])\n",
      "edge_up_mps.1.0.0.weight \t torch.Size([32, 96])\n",
      "edge_up_mps.1.0.0.bias \t torch.Size([32])\n",
      "edge_up_mps.1.0.1.weight \t torch.Size([32, 32])\n",
      "edge_up_mps.1.0.1.bias \t torch.Size([32])\n",
      "edge_up_mps.1.0.2.weight \t torch.Size([32, 32])\n"
     ]
    },
    {
     "name": "stderr",
     "output_type": "stream",
     "text": [
      "\n"
     ]
    },
    {
     "name": "stdout",
     "output_type": "stream",
     "text": [
      "edge_up_mps.1.0.2.bias \t torch.Size([32])\n",
      "edge_up_mps.2.0.0.weight \t torch.Size([32, 96])\n",
      "edge_up_mps.2.0.0.bias \t torch.Size([32])\n",
      "edge_up_mps.2.0.1.weight \t torch.Size([32, 32])\n",
      "edge_up_mps.2.0.1.bias \t torch.Size([32])\n",
      "edge_up_mps.2.0.2.weight \t torch.Size([32, 32])\n",
      "edge_up_mps.2.0.2.bias \t torch.Size([32])\n",
      "edge_up_mps.2.1.0.weight \t torch.Size([32, 96])\n",
      "edge_up_mps.2.1.0.bias \t torch.Size([32])\n",
      "edge_up_mps.2.1.1.weight \t torch.Size([32, 32])\n",
      "edge_up_mps.2.1.1.bias \t torch.Size([32])\n",
      "edge_up_mps.2.1.2.weight \t torch.Size([32, 32])\n",
      "edge_up_mps.2.1.2.bias \t torch.Size([32])\n",
      "edge_up_mps.3.0.0.weight \t torch.Size([32, 96])\n",
      "edge_up_mps.3.0.0.bias \t torch.Size([32])\n",
      "edge_up_mps.3.0.1.weight \t torch.Size([32, 32])\n",
      "edge_up_mps.3.0.1.bias \t torch.Size([32])\n",
      "edge_up_mps.3.0.2.weight \t torch.Size([32, 32])\n",
      "edge_up_mps.3.0.2.bias \t torch.Size([32])\n",
      "edge_up_mps.3.1.0.weight \t torch.Size([32, 96])\n",
      "edge_up_mps.3.1.0.bias \t torch.Size([32])\n",
      "edge_up_mps.3.1.1.weight \t torch.Size([32, 32])\n",
      "edge_up_mps.3.1.1.bias \t torch.Size([32])\n",
      "edge_up_mps.3.1.2.weight \t torch.Size([32, 32])\n",
      "edge_up_mps.3.1.2.bias \t torch.Size([32])\n",
      "edge_up_mps.4.0.0.weight \t torch.Size([32, 96])\n",
      "edge_up_mps.4.0.0.bias \t torch.Size([32])\n",
      "edge_up_mps.4.0.1.weight \t torch.Size([32, 32])\n",
      "edge_up_mps.4.0.1.bias \t torch.Size([32])\n",
      "edge_up_mps.4.0.2.weight \t torch.Size([32, 32])\n",
      "edge_up_mps.4.0.2.bias \t torch.Size([32])\n",
      "edge_up_mps.4.1.0.weight \t torch.Size([32, 96])\n",
      "edge_up_mps.4.1.0.bias \t torch.Size([32])\n",
      "edge_up_mps.4.1.1.weight \t torch.Size([32, 32])\n",
      "edge_up_mps.4.1.1.bias \t torch.Size([32])\n",
      "edge_up_mps.4.1.2.weight \t torch.Size([32, 32])\n",
      "edge_up_mps.4.1.2.bias \t torch.Size([32])\n",
      "edge_up_mps.5.0.0.weight \t torch.Size([32, 96])\n",
      "edge_up_mps.5.0.0.bias \t torch.Size([32])\n",
      "edge_up_mps.5.0.1.weight \t torch.Size([32, 32])\n",
      "edge_up_mps.5.0.1.bias \t torch.Size([32])\n",
      "edge_up_mps.5.0.2.weight \t torch.Size([32, 32])\n",
      "edge_up_mps.5.0.2.bias \t torch.Size([32])\n",
      "edge_up_mps.5.1.0.weight \t torch.Size([32, 96])\n",
      "edge_up_mps.5.1.0.bias \t torch.Size([32])\n",
      "edge_up_mps.5.1.1.weight \t torch.Size([32, 32])\n",
      "edge_up_mps.5.1.1.bias \t torch.Size([32])\n",
      "edge_up_mps.5.1.2.weight \t torch.Size([32, 32])\n",
      "edge_up_mps.5.1.2.bias \t torch.Size([32])\n",
      "edge_up_norms.0.0.weight \t torch.Size([32])\n",
      "edge_up_norms.0.0.bias \t torch.Size([32])\n",
      "edge_up_norms.1.0.weight \t torch.Size([32])\n",
      "edge_up_norms.1.0.bias \t torch.Size([32])\n",
      "edge_up_norms.2.0.weight \t torch.Size([32])\n",
      "edge_up_norms.2.0.bias \t torch.Size([32])\n",
      "edge_up_norms.2.1.weight \t torch.Size([32])\n",
      "edge_up_norms.2.1.bias \t torch.Size([32])\n",
      "edge_up_norms.3.0.weight \t torch.Size([32])\n",
      "edge_up_norms.3.0.bias \t torch.Size([32])\n",
      "edge_up_norms.3.1.weight \t torch.Size([32])\n",
      "edge_up_norms.3.1.bias \t torch.Size([32])\n",
      "edge_up_norms.4.0.weight \t torch.Size([32])\n",
      "edge_up_norms.4.0.bias \t torch.Size([32])\n",
      "edge_up_norms.4.1.weight \t torch.Size([32])\n",
      "edge_up_norms.4.1.bias \t torch.Size([32])\n",
      "edge_up_norms.5.0.weight \t torch.Size([32])\n",
      "edge_up_norms.5.0.bias \t torch.Size([32])\n",
      "edge_up_norms.5.1.weight \t torch.Size([32])\n",
      "edge_up_norms.5.1.bias \t torch.Size([32])\n",
      "node_up_mps.0.0.0.weight \t torch.Size([32, 64])\n",
      "node_up_mps.0.0.0.bias \t torch.Size([32])\n",
      "node_up_mps.0.0.1.weight \t torch.Size([32, 32])\n",
      "node_up_mps.0.0.1.bias \t torch.Size([32])\n",
      "node_up_mps.0.0.2.weight \t torch.Size([32, 32])\n",
      "node_up_mps.0.0.2.bias \t torch.Size([32])\n",
      "node_up_mps.1.0.0.weight \t torch.Size([32, 64])\n",
      "node_up_mps.1.0.0.bias \t torch.Size([32])\n",
      "node_up_mps.1.0.1.weight \t torch.Size([32, 32])\n",
      "node_up_mps.1.0.1.bias \t torch.Size([32])\n",
      "node_up_mps.1.0.2.weight \t torch.Size([32, 32])\n",
      "node_up_mps.1.0.2.bias \t torch.Size([32])\n",
      "node_up_mps.2.0.0.weight \t torch.Size([32, 64])\n",
      "node_up_mps.2.0.0.bias \t torch.Size([32])\n",
      "node_up_mps.2.0.1.weight \t torch.Size([32, 32])\n",
      "node_up_mps.2.0.1.bias \t torch.Size([32])\n",
      "node_up_mps.2.0.2.weight \t torch.Size([32, 32])\n",
      "node_up_mps.2.0.2.bias \t torch.Size([32])\n",
      "node_up_mps.2.1.0.weight \t torch.Size([32, 64])\n",
      "node_up_mps.2.1.0.bias \t torch.Size([32])\n",
      "node_up_mps.2.1.1.weight \t torch.Size([32, 32])\n",
      "node_up_mps.2.1.1.bias \t torch.Size([32])\n",
      "node_up_mps.2.1.2.weight \t torch.Size([32, 32])\n",
      "node_up_mps.2.1.2.bias \t torch.Size([32])\n",
      "node_up_mps.3.0.0.weight \t torch.Size([32, 64])\n",
      "node_up_mps.3.0.0.bias \t torch.Size([32])\n",
      "node_up_mps.3.0.1.weight \t torch.Size([32, 32])\n",
      "node_up_mps.3.0.1.bias \t torch.Size([32])\n",
      "node_up_mps.3.0.2.weight \t torch.Size([32, 32])\n",
      "node_up_mps.3.0.2.bias \t torch.Size([32])\n",
      "node_up_mps.3.1.0.weight \t torch.Size([32, 64])\n",
      "node_up_mps.3.1.0.bias \t torch.Size([32])\n",
      "node_up_mps.3.1.1.weight \t torch.Size([32, 32])\n",
      "node_up_mps.3.1.1.bias \t torch.Size([32])\n",
      "node_up_mps.3.1.2.weight \t torch.Size([32, 32])\n",
      "node_up_mps.3.1.2.bias \t torch.Size([32])\n",
      "node_up_mps.4.0.0.weight \t torch.Size([32, 64])\n",
      "node_up_mps.4.0.0.bias \t torch.Size([32])\n",
      "node_up_mps.4.0.1.weight \t torch.Size([32, 32])\n",
      "node_up_mps.4.0.1.bias \t torch.Size([32])\n",
      "node_up_mps.4.0.2.weight \t torch.Size([32, 32])\n",
      "node_up_mps.4.0.2.bias \t torch.Size([32])\n",
      "node_up_mps.4.1.0.weight \t torch.Size([32, 64])\n",
      "node_up_mps.4.1.0.bias \t torch.Size([32])\n",
      "node_up_mps.4.1.1.weight \t torch.Size([32, 32])\n",
      "node_up_mps.4.1.1.bias \t torch.Size([32])\n",
      "node_up_mps.4.1.2.weight \t torch.Size([32, 32])\n",
      "node_up_mps.4.1.2.bias \t torch.Size([32])\n",
      "node_up_mps.5.0.0.weight \t torch.Size([32, 64])\n",
      "node_up_mps.5.0.0.bias \t torch.Size([32])\n",
      "node_up_mps.5.0.1.weight \t torch.Size([32, 32])\n",
      "node_up_mps.5.0.1.bias \t torch.Size([32])\n",
      "node_up_mps.5.0.2.weight \t torch.Size([32, 32])\n",
      "node_up_mps.5.0.2.bias \t torch.Size([32])\n",
      "node_up_mps.5.1.0.weight \t torch.Size([32, 64])\n",
      "node_up_mps.5.1.0.bias \t torch.Size([32])\n",
      "node_up_mps.5.1.1.weight \t torch.Size([32, 32])\n",
      "node_up_mps.5.1.1.bias \t torch.Size([32])\n",
      "node_up_mps.5.1.2.weight \t torch.Size([32, 32])\n",
      "node_up_mps.5.1.2.bias \t torch.Size([32])\n",
      "node_up_norms.0.0.weight \t torch.Size([32])\n",
      "node_up_norms.0.0.bias \t torch.Size([32])\n",
      "node_up_norms.1.0.weight \t torch.Size([32])\n",
      "node_up_norms.1.0.bias \t torch.Size([32])\n",
      "node_up_norms.2.0.weight \t torch.Size([32])\n",
      "node_up_norms.2.0.bias \t torch.Size([32])\n",
      "node_up_norms.2.1.weight \t torch.Size([32])\n",
      "node_up_norms.2.1.bias \t torch.Size([32])\n",
      "node_up_norms.3.0.weight \t torch.Size([32])\n",
      "node_up_norms.3.0.bias \t torch.Size([32])\n",
      "node_up_norms.3.1.weight \t torch.Size([32])\n",
      "node_up_norms.3.1.bias \t torch.Size([32])\n",
      "node_up_norms.4.0.weight \t torch.Size([32])\n",
      "node_up_norms.4.0.bias \t torch.Size([32])\n",
      "node_up_norms.4.1.weight \t torch.Size([32])\n",
      "node_up_norms.4.1.bias \t torch.Size([32])\n",
      "node_up_norms.5.0.weight \t torch.Size([32])\n",
      "node_up_norms.5.0.bias \t torch.Size([32])\n",
      "node_up_norms.5.1.weight \t torch.Size([32])\n",
      "node_up_norms.5.1.bias \t torch.Size([32])\n",
      "node_decode.0.weight \t torch.Size([32, 32])\n",
      "node_decode.0.bias \t torch.Size([32])\n",
      "node_decode.1.weight \t torch.Size([32, 32])\n",
      "node_decode.1.bias \t torch.Size([32])\n",
      "node_decode.2.weight \t torch.Size([32, 32])\n",
      "node_decode.2.bias \t torch.Size([32])\n",
      "node_decode.3.weight \t torch.Size([32, 32])\n",
      "node_decode.3.bias \t torch.Size([32])\n",
      "node_decode.4.weight \t torch.Size([32, 32])\n",
      "node_decode.4.bias \t torch.Size([32])\n",
      "node_decode.5.weight \t torch.Size([2, 32])\n",
      "node_decode.5.bias \t torch.Size([2])\n",
      "pools.0.weight \t torch.Size([1, 32])\n",
      "pools.1.weight \t torch.Size([1, 32])\n",
      "pools.2.weight \t torch.Size([1, 32])\n",
      "pools.3.weight \t torch.Size([1, 32])\n",
      "pools.4.weight \t torch.Size([1, 32])\n"
     ]
    }
   ],
   "source": [
    "model = model_2_GCN_Unet(\n",
    "                hidden_channels,\n",
    "                in_channels_node,\n",
    "                in_channels_edge,\n",
    "                \n",
    "                out_channels,\n",
    "                encoding_dim,\n",
    "                n_mlp_mp,\n",
    "                n_mlp_encode,\n",
    "\n",
    "                ae_dim,\n",
    "                n_mp_down,\n",
    "                n_mp_up,\n",
    "                pool_num,\n",
    "                \n",
    "                act,\n",
    "                \n",
    "                name='gnn_topk')\n",
    "\n",
    "model.to(device)\n",
    "model.load_state_dict(torch.load('/root/data1/bubble_duibishiyan/model_2_ED_state_dict.pt'), strict=False)\n",
    "train_hist, test_hist=model_2_train(epochs, model, train_loader, valid_loader,per_t,batch_size,\n",
    "                            EDmean_vec_x,EDstd_vec_x,EDmean_vec_edge,EDstd_vec_edge)"
   ]
  },
  {
   "cell_type": "code",
   "execution_count": null,
   "metadata": {},
   "outputs": [
    {
     "name": "stdout",
     "output_type": "stream",
     "text": [
      "14\n",
      "torch.Size([1172850, 2])\n",
      "450\n",
      "Data(x=[3351, 2], edge_index=[2, 19634], edge_attr=[19634, 3], cells=[6467, 3], mesh_pos=[3351, 2])\n"
     ]
    }
   ],
   "source": [
    "model = model_1_GNN_TopK(\n",
    "                in_channels_node,\n",
    "                in_channels_edge,\n",
    "                hidden_channels,\n",
    "                out_channels,\n",
    "                n_mlp_encode,\n",
    "                n_mlp_mp,\n",
    "                n_mp_down_topk,\n",
    "                n_mp_up_topk,\n",
    "                pool_ratios,\n",
    "                n_mp_down_enc,\n",
    "                n_mp_up_enc,\n",
    "                n_mp_down_dec,\n",
    "                n_mp_up_dec,\n",
    "                lengthscales_enc,\n",
    "                lengthscales_dec,\n",
    "                bounding_box,\n",
    "                interp,\n",
    "                act,\n",
    "                param_sharing,\n",
    "                name='gnn_topk')\n",
    "model.to(device)\n",
    "pathED = '/root/data1/bubble_duibishiyan/model_1_ED_state_dict.pt'\n",
    "model.load_state_dict(torch.load(pathED), strict=False)\n",
    "dataset = torch.load('/root/data1/bubble_EMD/meshgraphnets_miniset1251traj50350ts_vis.pt')#350\n",
    "loader = DataLoader(dataset,  shuffle=False)\n",
    "print(len(dataset))#14\n",
    "pred=torch.tensor([[0,0]]).type(torch.float).to(device)\n",
    "per_t=1\n",
    "batch_size=25     #改\n",
    "device = 'cuda' if torch.cuda.is_available() else 'cpu'\n",
    "with torch.no_grad():\n",
    "  for step, data in enumerate(loader):\n",
    "    data=data.to(device)\n",
    "    out, _ = model(data, per_t , batch_size,EDmean_vec_x,EDstd_vec_x,EDmean_vec_edge,EDstd_vec_edge,batch=None, return_mask=False)\n",
    "    pred=torch.vstack((pred,out))\n",
    "pred=pred[1:,:]\n",
    "print(pred.shape)   #200*3718\n",
    "pred=pred*EDstd_vec_x+EDmean_vec_x   #pred是torch，行数为600个时间*点数，列为2\n",
    "#per_t=1\n",
    "#batch_size=1\n",
    "#get_dataset(number_trajectories,number_ts,per_t,batch_size,dataset_dir,path)\n",
    "\n",
    "file_path_ed='/root/data1/bubble_EMD/meshgraphnets_miniset111traj50450ts_vis.pt'\n",
    "dataset_input = torch.load(file_path_ed)\n",
    "print(len(dataset_input)) #200\n",
    "print(dataset_input[0])\n",
    "pred=pred.to('cpu')\n",
    "viz_data = {}\n",
    "viz_data_loader = copy.deepcopy(dataset_input)\n",
    "for i in range(int(pred.shape[0]/num)):\n",
    "  viz_data_loader[i].x=pred[i*num:(i+1)*num,:]\n",
    "torch.save(viz_data_loader,'/root/data1/bubble_duibishiyan'+'/model_1_encode_decode_output'+str(number_trajectories)+'traj'+str(satart_number_ts)+str(number_ts)+'ts_vis.pt')#300个data"
   ]
  },
  {
   "cell_type": "code",
   "execution_count": null,
   "metadata": {},
   "outputs": [
    {
     "name": "stdout",
     "output_type": "stream",
     "text": [
      "14\n",
      "3351\n",
      "torch.Size([1172850, 2])\n",
      "450\n",
      "Data(x=[3351, 2], edge_index=[2, 19634], edge_attr=[19634, 3], cells=[6467, 3], mesh_pos=[3351, 2])\n"
     ]
    }
   ],
   "source": [
    "model = model_2_GCN_Unet(\n",
    "                hidden_channels,\n",
    "                in_channels_node,\n",
    "                in_channels_edge,\n",
    "                \n",
    "                out_channels,\n",
    "                encoding_dim,\n",
    "                n_mlp_mp,\n",
    "                n_mlp_encode,\n",
    "\n",
    "                ae_dim,\n",
    "                n_mp_down,\n",
    "                n_mp_up,\n",
    "                pool_num,\n",
    "                \n",
    "                act,\n",
    "                \n",
    "                name='gnn_topk')\n",
    "model.to(device)\n",
    "pathED = '/root/data1/bubble_duibishiyan/model_2_ED_state_dict.pt'\n",
    "model.load_state_dict(torch.load(pathED), strict=False)\n",
    "dataset = torch.load('/root/data1/bubble_EMD/meshgraphnets_miniset1251traj50350ts_vis.pt')\n",
    "loader = DataLoader(dataset,  shuffle=False)\n",
    "print(len(dataset))\n",
    "per_t=1\n",
    "batch_size=25     #改\n",
    "num=int(dataset[0].x.shape[0]/(per_t*batch_size))\n",
    "print(num)\n",
    "pred=torch.tensor([[0,0]]).type(torch.float).to(device)\n",
    "\n",
    "device = 'cuda' if torch.cuda.is_available() else 'cpu'\n",
    "with torch.no_grad():\n",
    "  for step, data in enumerate(loader):\n",
    "    data=data.to(device)\n",
    "    out, _ = model(data, per_t , batch_size,EDmean_vec_x,EDstd_vec_x,EDmean_vec_edge,EDstd_vec_edge,batch=None, return_mask=False)\n",
    "    pred=torch.vstack((pred,out))\n",
    "pred=pred[1:,:]\n",
    "print(pred.shape)   #200*3718\n",
    "pred=pred*EDstd_vec_x+EDmean_vec_x   #pred是torch，行数为600个时间*点数，列为2\n",
    "#per_t=1\n",
    "#batch_size=1\n",
    "#get_dataset(number_trajectories,number_ts,per_t,batch_size,dataset_dir,path)\n",
    "file_path_ed='/root/data1/bubble_EMD/meshgraphnets_miniset111traj50450ts_vis.pt'\n",
    "dataset_input = torch.load(file_path_ed)\n",
    "print(len(dataset_input)) #200\n",
    "print(dataset_input[0])\n",
    "pred=pred.to('cpu')\n",
    "viz_data = {}\n",
    "viz_data_loader = copy.deepcopy(dataset_input)\n",
    "\n",
    "for i in range(int(pred.shape[0]/num)):\n",
    "  viz_data_loader[i].x=pred[i*num:(i+1)*num,:]\n",
    "torch.save(viz_data_loader,'/root/data1/bubble_duibishiyan'+'/model_2_encode_decode_output'+str(number_trajectories)+'traj'+str(satart_number_ts)+str(number_ts)+'ts_vis.pt')#300个data"
   ]
  },
  {
   "cell_type": "code",
   "execution_count": 1,
   "metadata": {},
   "outputs": [
    {
     "name": "stderr",
     "output_type": "stream",
     "text": [
      "/usr/local/lib/python3.8/dist-packages/tqdm/auto.py:22: TqdmWarning: IProgress not found. Please update jupyter and ipywidgets. See https://ipywidgets.readthedocs.io/en/stable/user_install.html\n",
      "  from .autonotebook import tqdm as notebook_tqdm\n"
     ]
    }
   ],
   "source": [
    "from bubble_processing_duibishiyan import *\n",
    "import torch\n",
    "import matplotlib.pyplot as plt\n",
    "import numpy as np"
   ]
  },
  {
   "cell_type": "code",
   "execution_count": 2,
   "metadata": {},
   "outputs": [],
   "source": [
    "def cc(ori_data, rom_data_0, rom_data_1, rom_data_2):\n",
    "    pcc_0 = pearson_value(ori_data, rom_data_0)\n",
    "    pcc_1 = pearson_value(ori_data, rom_data_1)\n",
    "    pcc_2 = pearson_value(ori_data, rom_data_2)\n",
    "    fig, ax = plt.subplots()\n",
    "    x = np.linspace(25+0,25+(0.5*pcc_0.shape[0]),pcc_0.shape[0])\n",
    "    print(pcc_0.shape, pcc_1.shape)\n",
    "    ax.set_prop_cycle(color = ['red','#6a89cc','#f6b93b'], linestyle = ['-', '-', '-'],linewidth=[2,2,2])\n",
    "    y_0 = pcc_0\n",
    "    y_1 = pcc_1\n",
    "    y_2 =pcc_2\n",
    "   \n",
    "    ax.plot(x, y_0, x, y_1, x, y_2)\n",
    "     \n",
    "            # plt.xlim((-0.1, 200.1))# range\n",
    "    plt.ylim((0.95, 1))\n",
    "    plt.xlabel('Time(s)',{'size' : 11})\n",
    "    plt.ylabel('Pearson Correlation Coefficient',{'size' : 11})\n",
    "            # plt.xticks(np.arange(0,200.1,25))\n",
    "            # plt.yticks(np.arange(0.97,1.0001,0.01))\n",
    "            # plt.legend(['D4:AE+TF', 'D8:AE+TF', 'D12:AE+TF', 'D4:PCA+TF', 'D8:PCA+TF', 'D12:PCA+TF'], loc='lower right')   \n",
    "    plt.legend(['GAG-AE', 'MG-AE', 'GU-AE'], loc='lower center',ncol=3)\n",
    "    #plt.axis([50,400,0.95, 1])\n",
    "    plt.axis([25,200,0.95, 1])\n",
    "    plt.xticks([25, 50,75,100,125,150,175,200])\n",
    "    plt.axvline(x=125,ls=\":\")\n",
    "    plt.show()\n",
    "    fig.savefig('/root/data1/bubble_duibishiyan/'+'Pcc.pdf', bbox_inches='tight')\n",
    "    return y_0,y_1,y_2"
   ]
  },
  {
   "cell_type": "code",
   "execution_count": 3,
   "metadata": {},
   "outputs": [
    {
     "name": "stdout",
     "output_type": "stream",
     "text": [
      "450\n",
      "(350, 6702) (350, 6702) (350, 6702) (350, 6702)\n"
     ]
    }
   ],
   "source": [
    "ED_out_0 = torch.load('/root/data1/bubble_duibishiyan/GA_encode_decode_output1traj50200ts_vis.pt') \n",
    "ED_out_1 = torch.load('/root/data1/bubble_duibishiyan/model_1_encode_decode_output1traj50200ts_vis.pt')\n",
    "ED_out_2 = torch.load('/root/data1/bubble_duibishiyan/model_2_encode_decode_output1traj50200ts_vis.pt')\n",
    "\n",
    "number_ts=350\n",
    "ori=torch.load('/root/data1/bubble_EMD/meshgraphnets_miniset111traj50450ts_vis.pt')\n",
    "print(len(ori))   #200\n",
    "\n",
    "\n",
    "for i in range(number_ts):\n",
    "    \n",
    "    uvw_0=ED_out_0[i].x.reshape(1,ED_out_0[i].x.shape[0],ED_out_0[i].x.shape[1])\n",
    "    uvw_1=ED_out_1[i].x.reshape(1,ED_out_1[i].x.shape[0],ED_out_1[i].x.shape[1])\n",
    "    uvw_2=ED_out_2[i].x.reshape(1,ED_out_2[i].x.shape[0],ED_out_2[i].x.shape[1])\n",
    "    \n",
    "    ouvw=ori[i].x.reshape(1,ori[i].x.shape[0],ori[i].x.shape[1])\n",
    "    outputs_0 = uvw_0 if i==0 else np.vstack((outputs_0,uvw_0))\n",
    "    outputs_1 = uvw_1 if i==0 else np.vstack((outputs_1,uvw_1))\n",
    "    outputs_2 = uvw_2 if i==0 else np.vstack((outputs_2,uvw_2))\n",
    "    inputs=ouvw if i==0 else np.vstack((inputs,ouvw))\n",
    "\n",
    "output_0 = np.hstack((outputs_0[:,:,0],outputs_0[:,:,1]))\n",
    "output_1 = np.hstack((outputs_1[:,:,0],outputs_1[:,:,1]))\n",
    "output_2 = np.hstack((outputs_2[:,:,0],outputs_2[:,:,1]))\n",
    "input_ = np.hstack((inputs[:,:,0],inputs[:,:,1]))\n",
    "print(output_0.shape,output_1.shape,output_2.shape,input_.shape)\n",
    "\n"
   ]
  },
  {
   "cell_type": "code",
   "execution_count": 4,
   "metadata": {},
   "outputs": [
    {
     "name": "stdout",
     "output_type": "stream",
     "text": [
      "(350, 1) (350, 1)\n"
     ]
    },
    {
     "data": {
      "image/png": "[encoded data removed]",
      "text/plain": [
       "<Figure size 432x288 with 1 Axes>"
      ]
     },
     "metadata": {
      "needs_background": "light"
     },
     "output_type": "display_data"
    }
   ],
   "source": [
    "y_0,y_1,y_2=cc(input_, output_0, output_1, output_2)"
   ]
  },
  {
   "cell_type": "code",
   "execution_count": 6,
   "metadata": {},
   "outputs": [
    {
     "name": "stdout",
     "output_type": "stream",
     "text": [
      "0.9973484862536413 0.9919341462650654 0.9717194088231387\n"
     ]
    }
   ],
   "source": [
    "import numpy as np\n",
    "print(np.mean(y_0),np.mean(y_1),np.mean(y_2))"
   ]
  },
  {
   "cell_type": "code",
   "execution_count": 5,
   "metadata": {},
   "outputs": [],
   "source": [
    "def rmse_over_time(ori_data, rom_data_0, rom_data_1, rom_data_2):\n",
    "    rmse_0 = rmse(ori_data, rom_data_0)\n",
    "    rmse_1 = rmse(ori_data, rom_data_1)\n",
    "    rmse_2 = rmse(ori_data, rom_data_2)\n",
    "  \n",
    "    # rmse_4 = rmse(ori_data, rom_data_4)\n",
    "    # rmse_5 = rmse(ori_data, rom_data_5)\n",
    " \n",
    "    # plt.figure(1)\n",
    "    # x = np.linspace(5,8,600)\n",
    "\n",
    "    fig, ax = plt.subplots()\n",
    "    x = np.linspace(25+0,25+(0.5*rmse_0.shape[0]),rmse_0.shape[0])\n",
    "    ax.set_prop_cycle(color = ['red','#6a89cc','#f6b93b'], linestyle = ['-', '-', '-'],linewidth=[2,2,2])\n",
    "    # x = np.linspace(0,15,2875)\n",
    "    y_0 = rmse_0\n",
    "    y_1 = rmse_1\n",
    "    y_2 = rmse_2\n",
    "   \n",
    "    # y_4 = rmse_4[-1800:-1200,:]\n",
    "    # y_5 = rmse_5[-1800:-1200,:]\n",
    "    # plt.title('Correlation Coefficient')\n",
    "    ax.plot(x, y_0, x, y_1, x, y_2)\n",
    "    # , x, rmse_4, linewidth = 0.6)\n",
    "    # plt.xlim((-0.1, 200.1))# range\n",
    "    plt.ylim((0, 0.042))\n",
    "    plt.xlabel('Time(s)',{'size' : 11})\n",
    "    plt.ylabel('RMSE',{'size' : 11})\n",
    "    # plt.xticks(np.arange(0,200.1,25))\n",
    "    # plt.yticks(np.arange(0,0.081,0.02))\n",
    "    plt.legend(['GAG-AE', 'MG-AE', 'GU-AE'], loc='lower center',ncol=3)\n",
    "    #plt.axis([50,400,0, 0.042])\n",
    "    plt.axis([25,200,0, 0.042])\n",
    "    plt.xticks([25, 50,75,100,125,150,175,200])\n",
    "    plt.axvline(x=125,ls=\":\")\n",
    "    plt.show()\n",
    "    fig.savefig('/root/data1/bubble_duibishiyan/'+'RMSE.pdf', bbox_inches='tight')\n",
    "    return y_0,y_1,y_2"
   ]
  },
  {
   "cell_type": "code",
   "execution_count": 6,
   "metadata": {},
   "outputs": [
    {
     "name": "stderr",
     "output_type": "stream",
     "text": [
      "2025-04-23 18:38:54.847283: I tensorflow/core/platform/cpu_feature_guard.cc:151] This TensorFlow binary is optimized with oneAPI Deep Neural Network Library (oneDNN) to use the following CPU instructions in performance-critical operations:  AVX2 AVX512F FMA\n",
      "To enable them in other operations, rebuild TensorFlow with the appropriate compiler flags.\n",
      "2025-04-23 18:38:55.475773: I tensorflow/core/common_runtime/gpu/gpu_device.cc:1525] Created device /job:localhost/replica:0/task:0/device:GPU:0 with 3944 MB memory:  -> device: 0, name: NVIDIA GeForce RTX 4090, pci bus id: 0000:9b:00.0, compute capability: 8.9\n"
     ]
    },
    {
     "data": {
      "image/png": "[encoded data removed]",
      "text/plain": [
       "<Figure size 432x288 with 1 Axes>"
      ]
     },
     "metadata": {
      "needs_background": "light"
     },
     "output_type": "display_data"
    }
   ],
   "source": [
    "y_0,y_1,y_2=rmse_over_time(input_, output_0, output_1, output_2)"
   ]
  },
  {
   "cell_type": "code",
   "execution_count": 9,
   "metadata": {},
   "outputs": [
    {
     "name": "stdout",
     "output_type": "stream",
     "text": [
      "0.010430206 0.018156284 0.033759102\n"
     ]
    }
   ],
   "source": [
    "print(np.mean(y_0),np.mean(y_1),np.mean(y_2))"
   ]
  },
  {
   "cell_type": "code",
   "execution_count": 10,
   "metadata": {},
   "outputs": [],
   "source": [
    "def acc(ori_data, rom_data):\n",
    "\n",
    "    acc_value = []\n",
    "    if len(ori_data) != len(rom_data):\n",
    "        print('the length of these two array do not match')\n",
    "    else:\n",
    "        for i in range(len(rom_data)):\n",
    "            ori=torch.Tensor(ori_data[i])\n",
    "            rom=torch.Tensor(rom_data[i])\n",
    "            value =torch.norm(ori- rom, p=2)/torch.norm(ori, p=2)\n",
    "            \n",
    "            if i == 0:\n",
    "                acc_value = value\n",
    "            else:\n",
    "                acc_value = np.hstack((acc_value,value))\n",
    "        acc_value = np.reshape(acc_value,(-1,1))\n",
    "    return acc_value"
   ]
  },
  {
   "cell_type": "code",
   "execution_count": 11,
   "metadata": {},
   "outputs": [
    {
     "name": "stdout",
     "output_type": "stream",
     "text": [
      "0.07248664 0.12611596 0.23473044\n"
     ]
    }
   ],
   "source": [
    "acc0=acc(input_, output_0)\n",
    "acc1=acc(input_, output_1)\n",
    "acc2=acc(input_, output_2)\n",
    "print(np.mean(acc0),np.mean(acc1),np.mean(acc2))"
   ]
  },
  {
   "cell_type": "code",
   "execution_count": null,
   "metadata": {},
   "outputs": [
    {
     "name": "stderr",
     "output_type": "stream",
     "text": [
      "/usr/local/lib/python3.8/dist-packages/tqdm/auto.py:22: TqdmWarning: IProgress not found. Please update jupyter and ipywidgets. See https://ipywidgets.readthedocs.io/en/stable/user_install.html\n",
      "  from .autonotebook import tqdm as notebook_tqdm\n"
     ]
    }
   ],
   "source": [
    "from bubble_processing_duibishiyan import *"
   ]
  },
  {
   "cell_type": "code",
   "execution_count": null,
   "metadata": {},
   "outputs": [
    {
     "name": "stdout",
     "output_type": "stream",
     "text": [
      "450\n",
      "Data(x=[3351, 2], edge_index=[2, 19634], edge_attr=[19634, 3], cells=[6467, 3], mesh_pos=[3351, 2])\n",
      "start to create the destination folder\n",
      "start to store data as a new variable\n",
      "transform succeed\n"
     ]
    }
   ],
   "source": [
    "number_trajectories=1\n",
    "for i in range(number_trajectories):\n",
    "    data=torch.load('/root/data1/bubble_duibishiyan/GA_encode_decode_output1traj50200ts_vis.pt')\n",
    "    print(len(data))#450\n",
    "    print(data[0])\n",
    "    satart_number_ts=50\n",
    "    num=350\n",
    "    originalFolder='/root/data1/water_slice_'+str(i)\n",
    "    destinationFolder='/root/data1/bubble_duibishiyan/GA_bubble_dataset_EDoutput_'+str(i)\n",
    "    fileName=\"/slice_\"\n",
    "    transform_vector(data, satart_number_ts,num, originalFolder, destinationFolder, fileName)"
   ]
  },
  {
   "cell_type": "code",
   "execution_count": null,
   "metadata": {},
   "outputs": [
    {
     "name": "stdout",
     "output_type": "stream",
     "text": [
      "450\n",
      "Data(x=[3351, 2], edge_index=[2, 19634], edge_attr=[19634, 3], cells=[6467, 3], mesh_pos=[3351, 2])\n",
      "start to create the destination folder\n",
      "start to store data as a new variable\n",
      "transform succeed\n"
     ]
    }
   ],
   "source": [
    "number_trajectories=1\n",
    "for i in range(number_trajectories):\n",
    "    data=torch.load('/root/data1/bubble_duibishiyan/model_1_encode_decode_output1traj50200ts_vis.pt')\n",
    "    print(len(data))#450\n",
    "    print(data[0])\n",
    "    satart_number_ts=50\n",
    "    num=350\n",
    "    originalFolder='/root/data1/water_slice_'+str(i)\n",
    "    destinationFolder='/root/data1/bubble_duibishiyan/model_1_bubble_dataset_EDoutput_'+str(i)\n",
    "    fileName=\"/slice_\"\n",
    "    transform_vector(data, satart_number_ts,num, originalFolder, destinationFolder, fileName)"
   ]
  },
  {
   "cell_type": "code",
   "execution_count": null,
   "metadata": {},
   "outputs": [
    {
     "name": "stdout",
     "output_type": "stream",
     "text": [
      "450\n",
      "Data(x=[3351, 2], edge_index=[2, 19634], edge_attr=[19634, 3], cells=[6467, 3], mesh_pos=[3351, 2])\n",
      "start to create the destination folder\n",
      "start to store data as a new variable\n",
      "transform succeed\n"
     ]
    }
   ],
   "source": [
    "number_trajectories=1\n",
    "for i in range(number_trajectories):\n",
    "    data=torch.load('/root/data1/bubble_duibishiyan/model_2_encode_decode_output1traj50200ts_vis.pt')\n",
    "    print(len(data))#450\n",
    "    print(data[0])\n",
    "    satart_number_ts=50\n",
    "    num=350\n",
    "    originalFolder='/root/data1/water_slice_'+str(i)\n",
    "    destinationFolder='/root/data1/bubble_duibishiyan/model_2_bubble_dataset_EDoutput_'+str(i)\n",
    "    fileName=\"/slice_\"\n",
    "    transform_vector(data, satart_number_ts,num, originalFolder, destinationFolder, fileName)"
   ]
  },
  {
   "cell_type": "code",
   "execution_count": null,
   "metadata": {},
   "outputs": [
    {
     "name": "stderr",
     "output_type": "stream",
     "text": [
      "/usr/local/lib/python3.8/dist-packages/tqdm/auto.py:22: TqdmWarning: IProgress not found. Please update jupyter and ipywidgets. See https://ipywidgets.readthedocs.io/en/stable/user_install.html\n",
      "  from .autonotebook import tqdm as notebook_tqdm\n"
     ]
    }
   ],
   "source": [
    "from bubble_processing_duibishiyan import *"
   ]
  },
  {
   "cell_type": "code",
   "execution_count": 7,
   "metadata": {},
   "outputs": [],
   "source": [
    "def point_over_time(ori_data,rom_data_0, rom_data_1, rom_data_2 ,j,start,ts):\n",
    "        point = [0,150]\n",
    "        x = np.linspace(125,125+int(point[1]*0.5),int(point[1]-point[0]))\n",
    "        y_u=[]\n",
    "        y_0_u=[]\n",
    "        y_1_u=[]\n",
    "        y_2_u=[]\n",
    "        for i in range(ts):\n",
    "            y_u.append(ori_data[start+i].x[j,0])\n",
    "            y_0_u.append(rom_data_0[start+i].x[j,0])\n",
    "            y_1_u.append(rom_data_1[start+i].x[j,0])\n",
    "            y_2_u.append(rom_data_2[start+i].x[j,0])\n",
    "        print(len(y_u))\n",
    "        fig, ax = plt.subplots(figsize=(12, 4))\n",
    "        ax.set_prop_cycle(color = ['#2f3542','red','#6a89cc','#f6b93b'], linestyle = ['-','--', '--', '--'],linewidth=[4,2.5,2.5,2.5])\n",
    "        \n",
    "        ax.plot(x, y_u, x, y_0_u,x, y_1_u, x, y_2_u)\n",
    "\n",
    "        plt.ylim((-0.35, 0.22))\n",
    "       \n",
    "\n",
    "        \n",
    "        plt.xlabel('Time(s)')\n",
    "        plt.ylabel('Liquid velocity (m/s)')\n",
    "        plt.legend(['Full Model','GAG-AE', 'MG-AE', 'GU-AE'], loc='lower center',ncol=4)\n",
    "        #plt.axis([250,400,-0.35, 0.22])\n",
    "        #plt.xticks([250, 260, 280, 300, 320, 340, 360, 380, 400])\n",
    "        plt.axis([125,200,-0.35, 0.22])\n",
    "        plt.xticks([125, 150,175,200])\n",
    "        fig.savefig('/root/data1/bubble_duibishiyan/'+str(j)+'velocity.pdf', bbox_inches='tight')\n",
    "        plt.axis([130,150,-0.35, 0.22])\n",
    "        plt.xticks([130, 140,150])\n",
    "        fig.savefig('/root/data1/bubble_duibishiyan/'+str(j)+'-260-300velocity.pdf', bbox_inches='tight')"
   ]
  },
  {
   "cell_type": "code",
   "execution_count": null,
   "metadata": {},
   "outputs": [
    {
     "name": "stdout",
     "output_type": "stream",
     "text": [
      "450\n"
     ]
    }
   ],
   "source": []
  },
  {
   "cell_type": "code",
   "execution_count": 8,
   "metadata": {},
   "outputs": [
    {
     "name": "stdout",
     "output_type": "stream",
     "text": [
      "450\n",
      "tensor([0.0542, 0.1445])\n",
      "150\n"
     ]
    },
    {
     "data": {
      "image/png": "[encoded data removed]",
      "text/plain": [
       "<Figure size 864x288 with 1 Axes>"
      ]
     },
     "metadata": {
      "needs_background": "light"
     },
     "output_type": "display_data"
    }
   ],
   "source": [
    "ED_out_0 = torch.load('/root/data1/bubble_duibishiyan/GA_encode_decode_output1traj50200ts_vis.pt') \n",
    "ED_out_1 = torch.load('/root/data1/bubble_duibishiyan/model_1_encode_decode_output1traj50200ts_vis.pt')\n",
    "ED_out_2 = torch.load('/root/data1/bubble_duibishiyan/model_2_encode_decode_output1traj50200ts_vis.pt')\n",
    "\n",
    "start=200\n",
    "ts=150\n",
    "ori=torch.load('/root/data1/bubble_EMD/meshgraphnets_miniset111traj50450ts_vis.pt')\n",
    "print(len(ori))   #200\n",
    "j=2700   #3351\n",
    "\n",
    "print(ori[0].mesh_pos[j]) \n",
    "point_over_time(ori,ED_out_0,ED_out_1, ED_out_2 ,j,start,ts)"
   ]
  },
  {
   "cell_type": "code",
   "execution_count": 1,
   "metadata": {},
   "outputs": [
    {
     "name": "stderr",
     "output_type": "stream",
     "text": [
      "/usr/local/lib/python3.8/dist-packages/tqdm/auto.py:22: TqdmWarning: IProgress not found. Please update jupyter and ipywidgets. See https://ipywidgets.readthedocs.io/en/stable/user_install.html\n",
      "  from .autonotebook import tqdm as notebook_tqdm\n"
     ]
    }
   ],
   "source": [
    "import torch\n",
    "import vtk"
   ]
  },
  {
   "cell_type": "code",
   "execution_count": 2,
   "metadata": {},
   "outputs": [],
   "source": [
    "def vtk_vector(ori,data,i,destination_vtu_path_0):\n",
    "    \n",
    "    reader=vtk.vtkPolyDataReader()\n",
    "    reader.SetFileName(destination_vtu_path_0)  # SetFileName设置要读取的vtk文件\n",
    "    reader.ReadAllScalarsOn()\n",
    "    reader.ReadAllVectorsOn()\n",
    "    reader.ReadAllTensorsOn()\n",
    "    reader.Update()\n",
    "\n",
    "    vtkdata=reader.GetOutput()  # GetOutput获取文件的数据\n",
    "    num_points=vtkdata.GetNumberOfPoints() \n",
    "    point_data =vtkdata.GetPointData()\n",
    "    \n",
    "    #a=ori[i].x-data[i].x\n",
    "    a=data[i].x\n",
    "    print(a.shape)\n",
    "    a=a.to('cpu')\n",
    "    a=a.numpy()\n",
    "    \n",
    "    velocity_array = point_data.GetArray('U.water')\n",
    "        #print(velocity_array.GetTuple(0)[0:2])\n",
    "    for j in range(num_points):\n",
    "            original_velocity = list(velocity_array.GetTuple(j))\n",
    "            original_velocity[0:2]=tuple(a[j])\n",
    "            velocity_array.SetTuple(j, original_velocity)\n",
    "\n",
    "    writer = vtk.vtkGenericDataObjectWriter()\n",
    "    writer.SetFileName(destination_vtu_path_0)\n",
    "    writer.SetInputData(vtkdata)\n",
    "    writer.Write()\n",
    "       \n",
    "    print('transform succeed')"
   ]
  },
  {
   "cell_type": "code",
   "execution_count": 3,
   "metadata": {},
   "outputs": [],
   "source": [
    "import shutil\n",
    " \n",
    "def copy_vtk_file(source_path, destination_path):\n",
    "    shutil.copy2(source_path, destination_path)\n",
    " \n",
    "# 使用方法\n",
    "t=280  #0-110\n",
    "satart_number_ts=50\n",
    "source_vtu_path = '/root/data1/water_slice_0/slice_' + str(t+satart_number_ts)+ \".vtk\""
   ]
  },
  {
   "cell_type": "code",
   "execution_count": 4,
   "metadata": {},
   "outputs": [],
   "source": [
    "ED_out_0 = torch.load('/root/data1/bubble_duibishiyan/GA_encode_decode_output1traj50200ts_vis.pt') \n",
    "ED_out_1 = torch.load('/root/data1/bubble_duibishiyan/model_1_encode_decode_output1traj50200ts_vis.pt')\n",
    "ED_out_2 = torch.load('/root/data1/bubble_duibishiyan/model_2_encode_decode_output1traj50200ts_vis.pt')\n",
    "ori=torch.load('/root/data1/bubble_EMD/meshgraphnets_miniset111traj50450ts_vis.pt')"
   ]
  },
  {
   "cell_type": "code",
   "execution_count": 5,
   "metadata": {},
   "outputs": [
    {
     "name": "stdout",
     "output_type": "stream",
     "text": [
      "torch.Size([3351, 2])\n",
      "transform succeed\n",
      "torch.Size([3351, 2])\n",
      "transform succeed\n",
      "torch.Size([3351, 2])\n",
      "transform succeed\n"
     ]
    }
   ],
   "source": [
    "destination_vtu_path_0 = '/root/data1/bubble_duibishiyan/ae_GA_slice_' + str(t+satart_number_ts)+ \".vtk\"\n",
    "destination_vtu_path_1 = '/root/data1/bubble_duibishiyan/ae_model_1_slice_' + str(t+satart_number_ts)+ \".vtk\"\n",
    "destination_vtu_path_2 = '/root/data1/bubble_duibishiyan/ae_model_2_slice_' + str(t+satart_number_ts)+ \".vtk\"\n",
    "copy_vtk_file(source_vtu_path, destination_vtu_path_0)\n",
    "copy_vtk_file(source_vtu_path, destination_vtu_path_1)\n",
    "copy_vtk_file(source_vtu_path, destination_vtu_path_2)\n",
    "\n",
    "vtk_vector(ori,ED_out_0,t,destination_vtu_path_0)\n",
    "vtk_vector(ori,ED_out_1,t,destination_vtu_path_1)\n",
    "vtk_vector(ori,ED_out_2,t,destination_vtu_path_2)"
   ]
  },
  {
   "cell_type": "markdown",
   "metadata": {},
   "source": [
    "训练时间序列模型"
   ]
  },
  {
   "cell_type": "code",
   "execution_count": null,
   "metadata": {},
   "outputs": [
    {
     "name": "stderr",
     "output_type": "stream",
     "text": [
      "/usr/local/lib/python3.8/dist-packages/tqdm/auto.py:22: TqdmWarning: IProgress not found. Please update jupyter and ipywidgets. See https://ipywidgets.readthedocs.io/en/stable/user_install.html\n",
      "  from .autonotebook import tqdm as notebook_tqdm\n"
     ]
    }
   ],
   "source": [
    "import tensorflow.compat.v1 as tf\n",
    "import torch\n",
    "from STGCN import *\n",
    "import scipy.sparse as sp"
   ]
  },
  {
   "cell_type": "code",
   "execution_count": null,
   "metadata": {},
   "outputs": [],
   "source": [
    "dataset_encode=torch.load('/root/data1/bubble_EMD/M_encode_output_01traj120050200ts_vis.pt')"
   ]
  },
  {
   "cell_type": "code",
   "execution_count": null,
   "metadata": {},
   "outputs": [],
   "source": [
    "device = 'cuda' if torch.cuda.is_available() else 'cpu'\n",
    "n_frame=31\n",
    "n_his=30\n",
    "n=dataset_encode[0].x.shape[0]\n",
    "C0=dataset_encode[0].x.shape[1]\n",
    "edge_index=dataset_encode[0].edge_index\n",
    "data=seq_gen(dataset_encode,  n_frame)#(190,11,n,C)\n",
    "n_train=150\n",
    "n_val=20\n",
    "Ks=3\n",
    "Kt=5\n",
    "batch_size=10\n",
    "epoch=300\n",
    "opt='RMSProp'\n",
    "lr=1e-3\n",
    "save_=5\n",
    "blocks = [[C0, 64, 128], [128, 64, 128]]\n",
    "\n",
    "inputs,x_stats=data_gen(data, n_train, n_val)"
   ]
  },
  {
   "cell_type": "code",
   "execution_count": null,
   "metadata": {},
   "outputs": [
    {
     "name": "stdout",
     "output_type": "stream",
     "text": [
      "torch.Size([150, 31, 1400, 32])\n",
      "torch.Size([20, 31, 1400, 32])\n"
     ]
    }
   ],
   "source": [
    "print(inputs.get_data('train').shape)\n",
    "print(inputs.get_data('val').shape)"
   ]
  },
  {
   "cell_type": "code",
   "execution_count": null,
   "metadata": {},
   "outputs": [
    {
     "name": "stdout",
     "output_type": "stream",
     "text": [
      "(1400, 1400)\n"
     ]
    }
   ],
   "source": [
    "W = sp.coo_matrix((torch.ones(edge_index.shape[1]).to('cpu'), (edge_index[0, :].to('cpu'), edge_index[1, :].to('cpu'))), \n",
    "                                    shape=(n, n), dtype=np.float32)\n",
    "W = W + W.T.multiply(W.T > W) - W.multiply(W.T > W)\n",
    "print(W.shape)"
   ]
  },
  {
   "cell_type": "code",
   "execution_count": null,
   "metadata": {},
   "outputs": [
    {
     "name": "stdout",
     "output_type": "stream",
     "text": [
      "tensor(2.0000)\n",
      "torch.Size([1400, 1400])\n"
     ]
    }
   ],
   "source": [
    "W_dense = torch.tensor(W.toarray(), dtype=torch.float32)\n",
    "L = scaled_laplacian(W_dense)\n",
    "print(L.shape)"
   ]
  },
  {
   "cell_type": "code",
   "execution_count": null,
   "metadata": {},
   "outputs": [],
   "source": [
    "Lk = cheb_poly_approx(L, Ks, n)"
   ]
  },
  {
   "cell_type": "code",
   "execution_count": null,
   "metadata": {},
   "outputs": [
    {
     "name": "stdout",
     "output_type": "stream",
     "text": [
      "(1400, 4200)\n"
     ]
    }
   ],
   "source": [
    "print(Lk.shape)\n",
    "tf.add_to_collection(name='graph_kernel', value=tf.cast(tf.constant(Lk), tf.float32))"
   ]
  },
  {
   "cell_type": "code",
   "execution_count": null,
   "metadata": {},
   "outputs": [
    {
     "name": "stdout",
     "output_type": "stream",
     "text": [
      "WARNING:tensorflow:From /usr/local/lib/python3.8/dist-packages/tensorflow/python/util/dispatch.py:1082: calling dropout (from tensorflow.python.ops.nn_ops) with keep_prob is deprecated and will be removed in a future version.\n",
      "Instructions for updating:\n",
      "Please use `rate` instead of `keep_prob`. Rate should be set to `rate = 1 - keep_prob`.\n",
      "WARNING:tensorflow:From /usr/local/lib/python3.8/dist-packages/tensorflow/python/training/rmsprop.py:188: calling Ones.__init__ (from tensorflow.python.ops.init_ops) with dtype is deprecated and will be removed in a future version.\n",
      "Instructions for updating:\n",
      "Call initializer instance with the dtype argument instead of passing it to the constructor\n"
     ]
    },
    {
     "name": "stderr",
     "output_type": "stream",
     "text": [
      "2024-11-21 15:10:15.392824: I tensorflow/core/platform/cpu_feature_guard.cc:151] This TensorFlow binary is optimized with oneAPI Deep Neural Network Library (oneDNN) to use the following CPU instructions in performance-critical operations:  AVX2 AVX512F FMA\n",
      "To enable them in other operations, rebuild TensorFlow with the appropriate compiler flags.\n",
      "2024-11-21 15:10:30.355659: I tensorflow/core/common_runtime/gpu/gpu_device.cc:1525] Created device /job:localhost/replica:0/task:0/device:GPU:0 with 21051 MB memory:  -> device: 0, name: NVIDIA GeForce RTX 3090, pci bus id: 0000:53:00.0, compute capability: 8.6\n",
      "2024-11-21 15:10:37.584912: I tensorflow/stream_executor/cuda/cuda_dnn.cc:368] Loaded cuDNN version 8202\n",
      "2024-11-21 15:10:43.049561: I tensorflow/core/platform/default/subprocess.cc:304] Start cannot spawn child process: No such file or directory\n",
      "2024-11-21 15:10:44.198439: I tensorflow/stream_executor/cuda/cuda_blas.cc:1786] TensorFloat-32 will be used for the matrix multiplication. This will only be logged once.\n"
     ]
    },
    {
     "name": "stdout",
     "output_type": "stream",
     "text": [
      "Epoch  0: MSE  8.251%; MAE  0.203; RMSE  0.287.\n",
      "Epoch  5: MSE  1.167%; MAE  0.073; RMSE  0.108.\n",
      "Epoch 10: MSE  0.362%; MAE  0.037; RMSE  0.060.\n",
      "Epoch 15: MSE  0.236%; MAE  0.029; RMSE  0.049.\n",
      "Epoch 20: MSE  0.199%; MAE  0.026; RMSE  0.045.\n",
      "Epoch 25: MSE  0.183%; MAE  0.025; RMSE  0.043.\n",
      "Epoch 30: MSE  0.175%; MAE  0.024; RMSE  0.042.\n",
      "Epoch 35: MSE  0.172%; MAE  0.024; RMSE  0.041.\n",
      "Epoch 40: MSE  0.170%; MAE  0.024; RMSE  0.041.\n",
      "Epoch 45: MSE  0.169%; MAE  0.024; RMSE  0.041.\n",
      "Epoch 50: MSE  0.169%; MAE  0.024; RMSE  0.041.\n",
      "Epoch 55: MSE  0.169%; MAE  0.024; RMSE  0.041.\n",
      "Epoch 60: MSE  0.169%; MAE  0.024; RMSE  0.041.\n",
      "Epoch 65: MSE  0.169%; MAE  0.024; RMSE  0.041.\n",
      "Epoch 70: MSE  0.169%; MAE  0.024; RMSE  0.041.\n",
      "Epoch 75: MSE  0.169%; MAE  0.024; RMSE  0.041.\n",
      "Epoch 80: MSE  0.169%; MAE  0.024; RMSE  0.041.\n",
      "Epoch 85: MSE  0.169%; MAE  0.024; RMSE  0.041.\n",
      "Epoch 90: MSE  0.169%; MAE  0.024; RMSE  0.041.\n",
      "Epoch 95: MSE  0.169%; MAE  0.024; RMSE  0.041.\n",
      "Epoch 100: MSE  0.169%; MAE  0.024; RMSE  0.041.\n",
      "Epoch 105: MSE  0.169%; MAE  0.024; RMSE  0.041.\n",
      "Epoch 110: MSE  0.169%; MAE  0.024; RMSE  0.041.\n",
      "Epoch 115: MSE  0.169%; MAE  0.024; RMSE  0.041.\n",
      "Epoch 120: MSE  0.169%; MAE  0.024; RMSE  0.041.\n",
      "Epoch 125: MSE  0.169%; MAE  0.024; RMSE  0.041.\n",
      "Epoch 130: MSE  0.169%; MAE  0.024; RMSE  0.041.\n",
      "Epoch 135: MSE  0.169%; MAE  0.024; RMSE  0.041.\n",
      "Epoch 140: MSE  0.169%; MAE  0.024; RMSE  0.041.\n",
      "Epoch 145: MSE  0.169%; MAE  0.024; RMSE  0.041.\n",
      "Epoch 150: MSE  0.169%; MAE  0.024; RMSE  0.041.\n",
      "Epoch 155: MSE  0.169%; MAE  0.024; RMSE  0.041.\n",
      "Epoch 160: MSE  0.169%; MAE  0.024; RMSE  0.041.\n",
      "Epoch 165: MSE  0.169%; MAE  0.024; RMSE  0.041.\n",
      "Epoch 170: MSE  0.169%; MAE  0.024; RMSE  0.041.\n",
      "Epoch 175: MSE  0.169%; MAE  0.024; RMSE  0.041.\n",
      "Epoch 180: MSE  0.169%; MAE  0.024; RMSE  0.041.\n",
      "Epoch 185: MSE  0.169%; MAE  0.024; RMSE  0.041.\n",
      "Epoch 190: MSE  0.169%; MAE  0.024; RMSE  0.041.\n",
      "Epoch 195: MSE  0.169%; MAE  0.024; RMSE  0.041.\n",
      "Epoch 200: MSE  0.169%; MAE  0.024; RMSE  0.041.\n",
      "Epoch 205: MSE  0.169%; MAE  0.024; RMSE  0.041.\n",
      "Epoch 210: MSE  0.169%; MAE  0.024; RMSE  0.041.\n",
      "Epoch 215: MSE  0.169%; MAE  0.024; RMSE  0.041.\n",
      "Epoch 220: MSE  0.169%; MAE  0.024; RMSE  0.041.\n",
      "Epoch 225: MSE  0.169%; MAE  0.024; RMSE  0.041.\n",
      "Epoch 230: MSE  0.169%; MAE  0.024; RMSE  0.041.\n",
      "Epoch 235: MSE  0.169%; MAE  0.024; RMSE  0.041.\n",
      "Epoch 240: MSE  0.169%; MAE  0.024; RMSE  0.041.\n",
      "Epoch 245: MSE  0.169%; MAE  0.024; RMSE  0.041.\n",
      "Epoch 250: MSE  0.169%; MAE  0.024; RMSE  0.041.\n",
      "Epoch 255: MSE  0.169%; MAE  0.024; RMSE  0.041.\n",
      "Epoch 260: MSE  0.169%; MAE  0.024; RMSE  0.041.\n",
      "Epoch 265: MSE  0.169%; MAE  0.024; RMSE  0.041.\n",
      "Epoch 270: MSE  0.169%; MAE  0.024; RMSE  0.041.\n",
      "Epoch 275: MSE  0.169%; MAE  0.024; RMSE  0.041.\n",
      "Epoch 280: MSE  0.169%; MAE  0.024; RMSE  0.041.\n",
      "Epoch 285: MSE  0.169%; MAE  0.024; RMSE  0.041.\n",
      "Epoch 290: MSE  0.169%; MAE  0.024; RMSE  0.041.\n",
      "Epoch 295: MSE  0.169%; MAE  0.024; RMSE  0.041.\n",
      "Training model finished!\n"
     ]
    }
   ],
   "source": [
    "model_train(inputs, n, n_his, Ks, Kt,batch_size, epoch,opt,blocks, C0,lr,save_,x_stats)"
   ]
  },
  {
   "cell_type": "code",
   "execution_count": null,
   "metadata": {},
   "outputs": [
    {
     "name": "stdout",
     "output_type": "stream",
     "text": [
      "torch.Size([1, 31, 1400, 32])\n",
      "INFO:tensorflow:Restoring parameters from /root/data1/bubble_duibishiyan/saved_model/model.ckpt\n"
     ]
    },
    {
     "name": "stderr",
     "output_type": "stream",
     "text": [
      "2024-11-21 15:21:09.364081: I tensorflow/core/common_runtime/gpu/gpu_device.cc:1525] Created device /job:localhost/replica:0/task:0/device:GPU:0 with 21051 MB memory:  -> device: 0, name: NVIDIA GeForce RTX 3090, pci bus id: 0000:53:00.0, compute capability: 8.6\n"
     ]
    },
    {
     "name": "stdout",
     "output_type": "stream",
     "text": [
      ">> Loading saved model from /root/data1/bubble_duibishiyan/saved_model/model.ckpt ...\n",
      "(320, 1400, 32)\n",
      "Testing model finished!\n",
      "torch.Size([320, 1400, 32])\n"
     ]
    }
   ],
   "source": [
    "data_test=seq_gen(dataset_encode[0:n_frame],  n_frame)#[1,21,n,c0]\n",
    "print(data_test.shape)\n",
    "x_test = z_score(data_test, x_stats['mean'], x_stats['std'])\n",
    "n_pred=320  #350-30\n",
    "y_test=model_test(x_test, x_stats,  n_his, n_pred, load_path='/root/data1/bubble_duibishiyan/saved_model/')#逆标准化\n",
    "print(y_test.shape)#(320,n,c0)"
   ]
  },
  {
   "cell_type": "code",
   "execution_count": null,
   "metadata": {},
   "outputs": [],
   "source": [
    "torch.save(y_test,'/root/data1/bubble_duibishiyan/ST_320_pred')"
   ]
  },
  {
   "cell_type": "code",
   "execution_count": null,
   "metadata": {},
   "outputs": [
    {
     "name": "stderr",
     "output_type": "stream",
     "text": [
      "/usr/local/lib/python3.8/dist-packages/tqdm/auto.py:22: TqdmWarning: IProgress not found. Please update jupyter and ipywidgets. See https://ipywidgets.readthedocs.io/en/stable/user_install.html\n",
      "  from .autonotebook import tqdm as notebook_tqdm\n"
     ]
    }
   ],
   "source": [
    "import copy\n",
    "from  self_attention import *\n",
    "\n",
    "import numpy as np\n",
    "import random"
   ]
  },
  {
   "cell_type": "code",
   "execution_count": null,
   "metadata": {},
   "outputs": [
    {
     "name": "stdout",
     "output_type": "stream",
     "text": [
      "3264\n"
     ]
    }
   ],
   "source": [
    "a=torch.load('/root/data1/bubble_EMD/M_encode_output_01traj120050200ts_vis.pt')\n",
    "edge_num=a[0].edge_attr.shape[0]\n",
    "print(edge_num)    #14586\n",
    "number_trajectories=1"
   ]
  },
  {
   "cell_type": "code",
   "execution_count": null,
   "metadata": {},
   "outputs": [
    {
     "name": "stdout",
     "output_type": "stream",
     "text": [
      "1900\n",
      "190\n"
     ]
    }
   ],
   "source": [
    "data_1=[]\n",
    "data_label_1=[]\n",
    "\n",
    "for i in range(number_trajectories):\n",
    "    dataset_encode=torch.load('/root/data1/bubble_EMD/M_encode_output_01traj120050200ts_vis.pt')\n",
    "    per_t=11\n",
    "    for j in range(len(dataset_encode)-per_t+1):\n",
    "        for k in range(per_t):\n",
    "            if k <(per_t-1):\n",
    "                E_data  = copy.deepcopy(dataset_encode[j+k])\n",
    "                E_data=E_data.to('cpu')\n",
    "                data_1.append(E_data)\n",
    "            else:\n",
    "                E_data  = copy.deepcopy(dataset_encode[j+k])\n",
    "                E_data=E_data.to('cpu')\n",
    "                data_label_1.append(E_data)\n",
    "                       \n",
    "print(len(data_1))      #140*10\n",
    "print(len(data_label_1))   #140\n",
    "\n",
    "data_=data_1\n",
    "data_label=data_label_1\n"
   ]
  },
  {
   "cell_type": "code",
   "execution_count": null,
   "metadata": {},
   "outputs": [],
   "source": [
    "device='cuda'\n",
    "class objectview(object):\n",
    "    def __init__(self, d):\n",
    "        self.__dict__ = d   \n",
    "for args in [\n",
    "        {'model_type': 'Multi-attention',\n",
    "         \n",
    "         'batchsize': 5,       #是lable上的batchsize\n",
    "         'hidden_dim': 32,     #这里的hidden_dim与encode_decode中的hidden_channels相同\n",
    "         'epochs': 1000,#5000\n",
    "         \n",
    "         'train_size':150, #45\n",
    "         'test_size': 40, #10         #按照lable的来\n",
    "         'device':'cuda',\n",
    "         'shuffle': False,\n",
    "         'save_best_model': True,\n",
    "         'checkpoint_dir': '/root/data1/bubble_EMD/Multi-attention_best_models/',\n",
    "         'postprocess_dir': '/root/data1/bubble_EMD/Multi-attention_loss_plots/',\n",
    "         'd_k': 28,#28\n",
    "         'd_v': 28,\n",
    "         'input_shape': 12,   #加上时间信息，所以比n_graph_encode的最后一个多两维\n",
    "         'n_heads': 6,\n",
    "         'n_layers': 5,\n",
    "         'ff_dim': 64,\n",
    "         'seq_len': 10,        #改per_t-1,二推一\n",
    "         'per_t':11,\n",
    "         \n",
    "        'n_graph_encode':[500,150,80,10],\n",
    "        'pool_num':[2700,2000,1400]},\n",
    "]:\n",
    "        args = objectview(args)\n",
    "torch.manual_seed(5)  #Torch\n",
    "random.seed(5)        #Python\n",
    "np.random.seed(5)     #NumPy\n",
    "torch.cuda.manual_seed_all(5)   #GPU"
   ]
  },
  {
   "cell_type": "code",
   "execution_count": null,
   "metadata": {},
   "outputs": [
    {
     "name": "stdout",
     "output_type": "stream",
     "text": [
      "cuda\n"
     ]
    },
    {
     "name": "stderr",
     "output_type": "stream",
     "text": [
      "/usr/local/lib/python3.8/dist-packages/torch_geometric/deprecation.py:12: UserWarning: 'data.DataLoader' is deprecated, use 'loader.DataLoader' instead\n",
      "  warnings.warn(out)\n",
      "Training:   0%|          | 1/1000 [00:05<1:30:18,  5.42s/Epochs]"
     ]
    },
    {
     "name": "stdout",
     "output_type": "stream",
     "text": [
      "train loss 0.954905 test loss 1.113865\n"
     ]
    },
    {
     "name": "stderr",
     "output_type": "stream",
     "text": [
      "Training:  10%|█         | 101/1000 [04:43<53:59,  3.60s/Epochs]"
     ]
    },
    {
     "name": "stdout",
     "output_type": "stream",
     "text": [
      "train loss 0.025073 test loss 0.022302\n"
     ]
    },
    {
     "name": "stderr",
     "output_type": "stream",
     "text": [
      "Training:  20%|██        | 201/1000 [09:24<44:37,  3.35s/Epochs]"
     ]
    },
    {
     "name": "stdout",
     "output_type": "stream",
     "text": [
      "train loss 0.018278 test loss 0.01691\n"
     ]
    },
    {
     "name": "stderr",
     "output_type": "stream",
     "text": [
      "Training:  30%|███       | 301/1000 [14:06<36:40,  3.15s/Epochs]"
     ]
    },
    {
     "name": "stdout",
     "output_type": "stream",
     "text": [
      "train loss 0.015847 test loss 0.011502\n"
     ]
    },
    {
     "name": "stderr",
     "output_type": "stream",
     "text": [
      "Training:  40%|████      | 401/1000 [18:44<33:50,  3.39s/Epochs]"
     ]
    },
    {
     "name": "stdout",
     "output_type": "stream",
     "text": [
      "train loss 0.014417 test loss 0.010111\n"
     ]
    },
    {
     "name": "stderr",
     "output_type": "stream",
     "text": [
      "Training:  50%|█████     | 501/1000 [23:26<26:22,  3.17s/Epochs]"
     ]
    },
    {
     "name": "stdout",
     "output_type": "stream",
     "text": [
      "train loss 0.012704 test loss 0.010662\n"
     ]
    },
    {
     "name": "stderr",
     "output_type": "stream",
     "text": [
      "Training:  60%|██████    | 601/1000 [28:21<25:29,  3.83s/Epochs]"
     ]
    },
    {
     "name": "stdout",
     "output_type": "stream",
     "text": [
      "train loss 0.014364 test loss 0.011293\n"
     ]
    },
    {
     "name": "stderr",
     "output_type": "stream",
     "text": [
      "Training:  70%|███████   | 701/1000 [33:37<18:33,  3.72s/Epochs]"
     ]
    },
    {
     "name": "stdout",
     "output_type": "stream",
     "text": [
      "train loss 0.015465 test loss 0.010333\n"
     ]
    },
    {
     "name": "stderr",
     "output_type": "stream",
     "text": [
      "Training:  80%|████████  | 801/1000 [38:41<12:36,  3.80s/Epochs]"
     ]
    },
    {
     "name": "stdout",
     "output_type": "stream",
     "text": [
      "train loss 0.012034 test loss 0.008884\n"
     ]
    },
    {
     "name": "stderr",
     "output_type": "stream",
     "text": [
      "Training:  86%|████████▌ | 858/1000 [41:29<07:10,  3.03s/Epochs]"
     ]
    },
    {
     "name": "stdout",
     "output_type": "stream",
     "text": [
      "Epoch   858: reducing learning rate of group 0 to 5.0000e-05.\n"
     ]
    },
    {
     "name": "stderr",
     "output_type": "stream",
     "text": [
      "Training:  90%|█████████ | 901/1000 [43:42<05:34,  3.38s/Epochs]"
     ]
    },
    {
     "name": "stdout",
     "output_type": "stream",
     "text": [
      "train loss 0.011374 test loss 0.00978\n"
     ]
    },
    {
     "name": "stderr",
     "output_type": "stream",
     "text": [
      "Training: 100%|██████████| 1000/1000 [48:57<00:00,  2.94s/Epochs]"
     ]
    },
    {
     "name": "stdout",
     "output_type": "stream",
     "text": [
      "Min test set loss: 0.008075340650975704\n",
      "Minimum loss: 0.009888516925275325\n"
     ]
    },
    {
     "name": "stderr",
     "output_type": "stream",
     "text": [
      "\n"
     ]
    },
    {
     "data": {
      "image/png": "[encoded data removed]",
      "text/plain": [
       "<Figure size 432x288 with 1 Axes>"
      ]
     },
     "metadata": {
      "needs_background": "light"
     },
     "output_type": "display_data"
    }
   ],
   "source": [
    "data_stats_list=torch.load('/root/data1/bubble_EMD/data_stats_list.pt')\n",
    "\n",
    "device = 'cuda' if torch.cuda.is_available() else 'cpu'\n",
    "args.device = device\n",
    "print(device)\n",
    "\n",
    "test_losses, losses, best_model,best_test_loss =Mulit_attention_train(data_,data_label, device,data_stats_list, args,edge_num)\n",
    "print(\"Min test set loss: {0}\".format(min(test_losses)))\n",
    "print(\"Minimum loss: {0}\".format(min(losses)))\n",
    "\n",
    "save_plots(args, losses, test_losses)"
   ]
  },
  {
   "cell_type": "code",
   "execution_count": null,
   "metadata": {},
   "outputs": [
    {
     "name": "stdout",
     "output_type": "stream",
     "text": [
      "200\n",
      "Data(x=[1400, 32], edge_index=[2, 3264], edge_attr=[3264, 32])\n"
     ]
    }
   ],
   "source": [
    "per_t=1     \n",
    "data_encode=torch.load('/root/data1/bubble_EMD/M_encode_output_01traj120050200ts_vis.pt')\n",
    "print(len(data_encode))\n",
    "data=copy.deepcopy(data_encode[0:10])\n",
    "a=copy.deepcopy(data_encode[0])\n",
    "print(a)"
   ]
  },
  {
   "cell_type": "code",
   "execution_count": null,
   "metadata": {},
   "outputs": [],
   "source": [
    "model_name='Multi-attention_model_nl'+'_bs'+str(args.batchsize) + \\\n",
    "               '_hd'+str(args.hidden_dim)+'_ep'+str(args.epochs)+'_wd' + \\\n",
    "               '_shuff_'+str(args.shuffle)+'_dk'+str(args.d_k)+'_heads'+str(args.n_heads)\n",
    "args.batchsize=1\n",
    "node_model = self_transformer(args,edge_num).to(device)\n",
    "node_model.load_state_dict(torch.load('/root/data1/bubble_EMD/Multi-attention_best_models/'+model_name+'.pt'))\n",
    "\n",
    "EDstats_list=torch.load('/root/data1/bubble_EMD/EDstats_list.pt')\n",
    "data_stats_list=torch.load('/root/data1/bubble_EMD/data_stats_list.pt')\n",
    "[EDmean_vec_x,EDstd_vec_x,EDmean_vec_edge,EDstd_vec_edge] = EDstats_list\n",
    "(EDmean_vec_x,EDstd_vec_x,EDmean_vec_edge,EDstd_vec_edge)=(EDmean_vec_x.to(device),\n",
    "        EDstd_vec_x.to(device),EDmean_vec_edge.to(device),EDstd_vec_edge.to(device))\n",
    "[mean_vec_x,std_vec_x,mean_vec_edge,std_vec_edge] = data_stats_list\n",
    "(mean_vec_x,std_vec_x,mean_vec_edge,std_vec_edge)=(mean_vec_x.to(device),std_vec_x.to(device),\n",
    "                                                   mean_vec_edge.to(device),std_vec_edge.to(device))"
   ]
  },
  {
   "cell_type": "code",
   "execution_count": null,
   "metadata": {},
   "outputs": [],
   "source": [
    "def predict_sequences_multiple(model, data, a, predict_num,seq_len):\n",
    "\n",
    "        print('[Model] Predicting Sequences Multiple...')\n",
    "        a=a.to(device)\n",
    "        code_index=a.edge_index\n",
    "        for i in range(predict_num):\n",
    "          list_p = data[:] if i == 0 else data[i:]\n",
    "          data_loader=DataLoader(list_p, batch_size=seq_len, shuffle=False) \n",
    "          for i,batch in enumerate(data_loader):\n",
    "              batch=batch.to(device)\n",
    "              code_x,code_edge_attr = Mulit_attention_pred(batch,model,mean_vec_x,std_vec_x,mean_vec_edge,std_vec_edge)\n",
    "          \n",
    "          new_data=Data(x=code_x, edge_index=code_index, edge_attr=code_edge_attr)\n",
    "          data.append(new_data)\n",
    "\n",
    "        return data"
   ]
  },
  {
   "cell_type": "code",
   "execution_count": null,
   "metadata": {},
   "outputs": [
    {
     "name": "stdout",
     "output_type": "stream",
     "text": [
      "[Model] Predicting Sequences Multiple...\n"
     ]
    },
    {
     "name": "stderr",
     "output_type": "stream",
     "text": [
      "/usr/local/lib/python3.8/dist-packages/torch_geometric/deprecation.py:12: UserWarning: 'data.DataLoader' is deprecated, use 'loader.DataLoader' instead\n",
      "  warnings.warn(out)\n"
     ]
    },
    {
     "name": "stdout",
     "output_type": "stream",
     "text": [
      "350\n"
     ]
    }
   ],
   "source": [
    "predict_num=340#350-10\n",
    "seq_len=10\n",
    "data=predict_sequences_multiple(node_model, data, a, predict_num,seq_len)\n",
    "print(len(data))  #60"
   ]
  },
  {
   "cell_type": "code",
   "execution_count": null,
   "metadata": {},
   "outputs": [],
   "source": [
    "torch.save(data,'/root/data1/bubble_duibishiyan/MultiAttention_350_pred')"
   ]
  },
  {
   "cell_type": "markdown",
   "metadata": {},
   "source": [
    "还原"
   ]
  },
  {
   "cell_type": "code",
   "execution_count": null,
   "metadata": {},
   "outputs": [],
   "source": [
    "from d_TAP_MP_Attention import *"
   ]
  },
  {
   "cell_type": "code",
   "execution_count": null,
   "metadata": {},
   "outputs": [
    {
     "name": "stderr",
     "output_type": "stream",
     "text": [
      "/usr/local/lib/python3.8/dist-packages/tqdm/auto.py:22: TqdmWarning: IProgress not found. Please update jupyter and ipywidgets. See https://ipywidgets.readthedocs.io/en/stable/user_install.html\n",
      "  from .autonotebook import tqdm as notebook_tqdm\n"
     ]
    }
   ],
   "source": [
    "import torch"
   ]
  },
  {
   "cell_type": "code",
   "execution_count": null,
   "metadata": {},
   "outputs": [],
   "source": [
    "data_GA=torch.load('/root/data1/bubble_duibishiyan/GA_350_pred')\n",
    "y_test=torch.load('/root/data1/bubble_duibishiyan/ST_320_pred')"
   ]
  },
  {
   "cell_type": "code",
   "execution_count": null,
   "metadata": {},
   "outputs": [
    {
     "name": "stdout",
     "output_type": "stream",
     "text": [
      "Data(x=[1400, 32], edge_index=[2, 3264], edge_attr=[3264, 32])\n",
      "350\n",
      "320\n",
      "torch.Size([1400, 32])\n"
     ]
    }
   ],
   "source": [
    "print(data_GA[0])\n",
    "print(len(data_GA))\n",
    "print(len(y_test))\n",
    "print(y_test[0].shape)"
   ]
  },
  {
   "cell_type": "code",
   "execution_count": null,
   "metadata": {},
   "outputs": [],
   "source": [
    "import copy"
   ]
  },
  {
   "cell_type": "code",
   "execution_count": null,
   "metadata": {},
   "outputs": [],
   "source": [
    "device='cuda'\n",
    "y_ST=copy.deepcopy(data_GA)\n",
    "for i in range(int(len(data_GA)-30)):\n",
    "    y_ST[i+30].x=y_test[i,:,:].to(device)"
   ]
  },
  {
   "cell_type": "code",
   "execution_count": null,
   "metadata": {},
   "outputs": [],
   "source": [
    "data_list=torch.load('/root/data1/bubble_EMD/M_encode_output_01traj120050200ts_vis.pt')"
   ]
  },
  {
   "cell_type": "code",
   "execution_count": null,
   "metadata": {},
   "outputs": [
    {
     "name": "stdout",
     "output_type": "stream",
     "text": [
      "Data(x=[1400, 32], edge_index=[2, 3264], edge_attr=[3264, 32])\n"
     ]
    }
   ],
   "source": [
    "print(data_list[0])"
   ]
  },
  {
   "cell_type": "code",
   "execution_count": null,
   "metadata": {},
   "outputs": [],
   "source": [
    "for i in range(30):\n",
    "    y_ST[i]=data_list[i]"
   ]
  },
  {
   "cell_type": "code",
   "execution_count": null,
   "metadata": {},
   "outputs": [],
   "source": [
    "#data=torch.load('/root/data1/bubble_duibishiyan/GA_350_pred')\n",
    "data=y_ST\n",
    "#data=torch.load('/root/data1/bubble_duibishiyan/MultiAttention_350_pred')"
   ]
  },
  {
   "cell_type": "code",
   "execution_count": null,
   "metadata": {},
   "outputs": [
    {
     "name": "stdout",
     "output_type": "stream",
     "text": [
      "350\n"
     ]
    }
   ],
   "source": [
    "i=0\n",
    "device='cuda'\n",
    "number_trajectories=1\n",
    "dataset_dir = '/root/data1/bubble_EMD'\n",
    "batches=torch.load(dataset_dir+'/'+str(i)+str(number_trajectories)+'traj'+'batches.pt')\n",
    "xs=torch.load(dataset_dir+'/'+str(i)+str(number_trajectories)+'traj'+'xs.pt')\n",
    "positions=torch.load( dataset_dir+'/'+str(i)+str(number_trajectories)+'traj'+'positions.pt')\n",
    "edge_attrs=torch.load( dataset_dir+'/'+str(i)+str(number_trajectories)+'traj'+'edge_attrs.pt')\n",
    "edge_indices=torch.load( dataset_dir+'/'+str(i)+str(number_trajectories)+'traj'+'edge_indices.pt')\n",
    "edge_masks=torch.load(dataset_dir+'/'+str(i)+str(number_trajectories)+'traj'+'edge_masks.pt')\n",
    "EDstats_list=torch.load('/root/data1/bubble_EMD/EDstats_list.pt')\n",
    "\n",
    "[EDmean_vec_x,EDstd_vec_x,EDmean_vec_edge,EDstd_vec_edge] = EDstats_list\n",
    "(EDmean_vec_x,EDstd_vec_x,EDmean_vec_edge,EDstd_vec_edge)=(EDmean_vec_x.to(device),\n",
    "        EDstd_vec_x.to(device),EDmean_vec_edge.to(device),EDstd_vec_edge.to(device))\n",
    "\n",
    "\n",
    "\n",
    "perm_list=torch.load(dataset_dir+'/perm_list_150.pt')\n",
    "\n",
    "in_channels_node = 2  #2\n",
    "in_channels_edge = 3  #3\n",
    "hidden_channels = 32    #22#12\n",
    "out_channels = in_channels_node\n",
    "batch_size =25       #改\n",
    "n_mlp_encode = 4\n",
    "n_mlp_mp = 6#5\n",
    "encoding_dim=32\n",
    "ae_dim=[300,128,64,32]#[128,64,32,16,10]\n",
    "n_mp_down = [2,2,1,1]\n",
    "n_mp_up= [1,1,2,2]\n",
    "pool_num =[2700,2000,1400]#[2000,1500,1200,1000][2000,1600,1400,1000]\n",
    "\n",
    "act = F.elu\n",
    "param_sharing = False\n",
    "pathD='/root/data1/bubble_EMD/Decode_state_dict.pt'\n",
    "\n",
    "\n",
    "\n",
    "decode_model=GNN_Decode(\n",
    "                hidden_channels,\n",
    "                in_channels_node,\n",
    "                in_channels_edge,\n",
    "                \n",
    "                out_channels,\n",
    "                encoding_dim,\n",
    "                n_mlp_mp,\n",
    "                n_mlp_encode,\n",
    "\n",
    "                ae_dim,\n",
    "                n_mp_down,\n",
    "                n_mp_up,\n",
    "                pool_num,\n",
    "                \n",
    "                act,\n",
    "                \n",
    "                name='gnn_topk')\n",
    "decode_model.load_state_dict(torch.load(pathD), strict=False)\n",
    "decode_model.to(device)\n",
    "\n",
    "pred_x=[]\n",
    "with torch.no_grad():\n",
    "        for i in range(len(data)):\n",
    "              x=decode_model(data[i], batches , xs, positions, edge_attrs, edge_indices, edge_masks,perm_list[0])\n",
    "              x=x*EDstd_vec_x+EDmean_vec_x\n",
    "              pred_x.append(x)\n",
    "\n",
    "              \n",
    "print(len(pred_x))"
   ]
  },
  {
   "cell_type": "code",
   "execution_count": null,
   "metadata": {},
   "outputs": [],
   "source": [
    "#torch.save(pred_x,'/root/data1/bubble_duibishiyan'+'/GAROM-350.pt')\n",
    "torch.save(pred_x,'/root/data1/bubble_duibishiyan'+'/STROM-350.pt')\n",
    "#torch.save(pred_x,'/root/data1/bubble_duibishiyan'+'/Multi-attention-ROM-350.pt')"
   ]
  },
  {
   "cell_type": "code",
   "execution_count": 9,
   "metadata": {},
   "outputs": [],
   "source": [
    "def pearson_value(ori_data, rom_data):\n",
    "    # print(ori_data.shape)\n",
    "    # print(len(ori_data))\n",
    "    pearson_value = []\n",
    "    if len(ori_data) != len(rom_data):\n",
    "        print('the length of these two array do not match')\n",
    "    else:\n",
    "        for i in range(len(rom_data)):\n",
    "            row_1 = np.reshape(ori_data[i],(-1,1))\n",
    "            row_2 = np.reshape(rom_data[i],(-1,1))\n",
    "            data = np.hstack((row_1,row_2))\n",
    "            df = pd.DataFrame(data=data[0:,0:],columns=['11','22'])\n",
    "            pearson = df.corr() # pearson cc  # \n",
    "            # pearson = data.corr('spearman') # spearman cc  \n",
    "            pear_value=pearson.iloc[0:1,1:2]\n",
    "            value = pear_value.values\n",
    "            if i == 0:\n",
    "                pearson_value = value\n",
    "            else:\n",
    "                pearson_value = np.hstack((pearson_value,value)) \n",
    "        pearson_value = np.reshape(pearson_value,(-1,1))\n",
    "    return np.array(pearson_value)\n",
    "\n",
    "\n",
    "def cc(ori_data, rom_data_0, rom_data_1, rom_data_2):\n",
    "    pcc_0 = pearson_value(ori_data, rom_data_0)\n",
    "    pcc_1 = pearson_value(ori_data, rom_data_1)\n",
    "    pcc_2 = pearson_value(ori_data, rom_data_2)\n",
    "    fig, ax = plt.subplots()\n",
    "    x = np.linspace(25+0,25+0.5*pcc_0.shape[0],pcc_0.shape[0])\n",
    "    print(pcc_0.shape, pcc_1.shape)\n",
    "    ax.set_prop_cycle(color = ['red','#6a89cc','#f6b93b'], linestyle = ['-', '-', '-'],linewidth=[2,2,2])\n",
    "    y_0 = pcc_0\n",
    "    y_1 = pcc_1\n",
    "    y_2 =pcc_2\n",
    "   \n",
    "    ax.plot(x, y_0, x, y_1, x, y_2)\n",
    "     \n",
    "            # plt.xlim((-0.1, 200.1))# range\n",
    "    plt.ylim((0.7, 1))\n",
    "    plt.xlabel('Time(s)',{'size' : 11})\n",
    "    plt.ylabel('Pearson Correlation Coefficient',{'size' : 11})\n",
    "            # plt.xticks(np.arange(0,200.1,25))\n",
    "            # plt.yticks(np.arange(0.97,1.0001,0.01))\n",
    "            # plt.legend(['D4:AE+TF', 'D8:AE+TF', 'D12:AE+TF', 'D4:PCA+TF', 'D8:PCA+TF', 'D12:PCA+TF'], loc='lower right')   \n",
    "    plt.legend(['MRROM','GAG-AE+STGCN', 'GAG-AE+MHSA'], loc='lower center',ncol=3)   \n",
    "    plt.axis([25,200,0.8, 1])\n",
    "    plt.xticks([25, 50,75,100,125,150,175,200])\n",
    "    plt.axvline(x=125,ls=\":\",color='black')\n",
    "\n",
    "    plt.show()\n",
    "    fig.savefig('/root/data1/bubble_duibishiyan/'+'ROM-Pcc.pdf', bbox_inches='tight')\n",
    "    return y_0,y_1,y_2"
   ]
  },
  {
   "cell_type": "code",
   "execution_count": 10,
   "metadata": {},
   "outputs": [],
   "source": [
    "import numpy as np\n",
    "import meshio\n",
    "import torch\n",
    "import tensorflow.compat.v1 as tf\n",
    "from torch_geometric.data import Data\n",
    "import torch.nn.functional as F\n",
    "from torch_geometric.loader import DataLoader\n",
    "import pandas as pd\n",
    "import os\n",
    "import time\n",
    "from IPython.lib.display import isdir\n",
    "import random\n",
    "import matplotlib.pyplot as plt\n",
    "import copy\n",
    "from matplotlib import tri as mtri\n",
    "from matplotlib import animation\n",
    "from mpl_toolkits.axes_grid1 import make_axes_locatable"
   ]
  },
  {
   "cell_type": "code",
   "execution_count": 11,
   "metadata": {},
   "outputs": [
    {
     "name": "stdout",
     "output_type": "stream",
     "text": [
      "450\n",
      "(350, 6702) (350, 6702) (350, 6702) (350, 6702)\n"
     ]
    }
   ],
   "source": [
    "ED_out_0 = torch.load('/root/data1/bubble_duibishiyan/GAROM-350.pt') \n",
    "ED_out_1 = torch.load('/root/data1/bubble_duibishiyan/STROM-350.pt')\n",
    "ED_out_2 = torch.load('/root/data1/bubble_duibishiyan/Multi-attention-ROM-350.pt')\n",
    "\n",
    "number_ts=350\n",
    "ori=torch.load('/root/data1/bubble_EMD/meshgraphnets_miniset111traj50450ts_vis.pt')\n",
    "print(len(ori))   #200\n",
    "\n",
    "\n",
    "for i in range(number_ts):\n",
    "    \n",
    "    uvw_0=ED_out_0[i].reshape(1,ED_out_0[i].shape[0],ED_out_0[i].shape[1]).to('cpu')\n",
    "    uvw_1=ED_out_1[i].reshape(1,ED_out_1[i].shape[0],ED_out_1[i].shape[1]).to('cpu')\n",
    "    uvw_2=ED_out_2[i].reshape(1,ED_out_2[i].shape[0],ED_out_2[i].shape[1]).to('cpu')\n",
    "    \n",
    "    ouvw=ori[i].x.reshape(1,ori[i].x.shape[0],ori[i].x.shape[1])\n",
    "    outputs_0 = uvw_0 if i==0 else np.vstack((outputs_0,uvw_0))\n",
    "    outputs_1 = uvw_1 if i==0 else np.vstack((outputs_1,uvw_1))\n",
    "    outputs_2 = uvw_2 if i==0 else np.vstack((outputs_2,uvw_2))\n",
    "    inputs=ouvw if i==0 else np.vstack((inputs,ouvw))\n",
    "\n",
    "output_0 = np.hstack((outputs_0[:,:,0],outputs_0[:,:,1]))\n",
    "output_1 = np.hstack((outputs_1[:,:,0],outputs_1[:,:,1]))\n",
    "output_2 = np.hstack((outputs_2[:,:,0],outputs_2[:,:,1]))\n",
    "input_ = np.hstack((inputs[:,:,0],inputs[:,:,1]))\n",
    "print(output_0.shape,output_1.shape,output_2.shape,input_.shape)\n",
    "\n"
   ]
  },
  {
   "cell_type": "code",
   "execution_count": 12,
   "metadata": {},
   "outputs": [
    {
     "name": "stdout",
     "output_type": "stream",
     "text": [
      "(350, 1) (350, 1)\n"
     ]
    },
    {
     "data": {
      "image/png": "[encoded data removed]",
      "text/plain": [
       "<Figure size 432x288 with 1 Axes>"
      ]
     },
     "metadata": {
      "needs_background": "light"
     },
     "output_type": "display_data"
    }
   ],
   "source": [
    "y_0,y_1,y_2=cc(input_, output_0, output_1, output_2)"
   ]
  },
  {
   "cell_type": "code",
   "execution_count": 7,
   "metadata": {},
   "outputs": [
    {
     "name": "stdout",
     "output_type": "stream",
     "text": [
      "0.9946016129837469 0.97857235273697 0.8973438843125849\n"
     ]
    }
   ],
   "source": [
    "print(np.mean(y_0),np.mean(y_1),np.mean(y_2))"
   ]
  },
  {
   "cell_type": "code",
   "execution_count": 8,
   "metadata": {},
   "outputs": [],
   "source": [
    "import math\n",
    "from keras import backend as K"
   ]
  },
  {
   "cell_type": "code",
   "execution_count": 13,
   "metadata": {},
   "outputs": [],
   "source": [
    "def root_mean_squared_error(true, pred):\n",
    "    return K.mean(K.square(pred - true))\n",
    "def rmse(ori_data, rom_data):\n",
    "\n",
    "    rmse_value = []\n",
    "    if len(ori_data) != len(rom_data):\n",
    "        print('the length of these two array do not match')\n",
    "    else:\n",
    "        for i in range(len(rom_data)):\n",
    "            value = np.sqrt(root_mean_squared_error(ori_data[i], rom_data[i]))\n",
    "            if i == 0:\n",
    "                rmse_value = value\n",
    "            else:\n",
    "                rmse_value = np.hstack((rmse_value,value))\n",
    "        rmse_value = np.reshape(rmse_value,(-1,1))\n",
    "    return rmse_value\n",
    "def rmse_over_time(ori_data, rom_data_0, rom_data_1, rom_data_2):\n",
    "    rmse_0 = rmse(ori_data, rom_data_0)\n",
    "    rmse_1 = rmse(ori_data, rom_data_1)\n",
    "    rmse_2 = rmse(ori_data, rom_data_2)\n",
    "  \n",
    "    # rmse_4 = rmse(ori_data, rom_data_4)\n",
    "    # rmse_5 = rmse(ori_data, rom_data_5)\n",
    " \n",
    "    # plt.figure(1)\n",
    "    # x = np.linspace(5,8,600)\n",
    "\n",
    "    fig, ax = plt.subplots()\n",
    "    x = np.linspace(25,25+0.5*rmse_0.shape[0],rmse_0.shape[0])\n",
    "    ax.set_prop_cycle(color = ['red','#6a89cc','#f6b93b'], linestyle = ['-', '-', '-'],linewidth=[2,2,2])\n",
    "    # x = np.linspace(0,15,2875)\n",
    "    y_0 = rmse_0\n",
    "    y_1 = rmse_1\n",
    "    y_2 = rmse_2\n",
    "   \n",
    "    # y_4 = rmse_4[-1800:-1200,:]\n",
    "    # y_5 = rmse_5[-1800:-1200,:]\n",
    "    # plt.title('Correlation Coefficient')\n",
    "    ax.plot(x, y_0, x, y_1, x, y_2)\n",
    "    # , x, rmse_4, linewidth = 0.6)\n",
    "    # plt.xlim((-0.1, 200.1))# range\n",
    "    plt.ylim((0, 0.15))\n",
    "    plt.xlabel('Time(s)',{'size' : 11})\n",
    "    plt.ylabel('RMSE',{'size' : 11})\n",
    "    # plt.xticks(np.arange(0,200.1,25))\n",
    "    # plt.yticks(np.arange(0,0.081,0.02))\n",
    "   \n",
    "    plt.legend(['MRROM','GAG-AE+STGCN', 'GAG-AE+MHSA'], loc='upper center',ncol=3)   \n",
    "    plt.axis([25,200,0, 0.15])\n",
    "    plt.xticks([25, 50,75,100,125,150,175,200])\n",
    "    plt.axvline(x=125,ls=\":\",color='black') \n",
    "    plt.show()\n",
    "    fig.savefig('/root/data1/bubble_duibishiyan/'+'ROM-RMSE.pdf', bbox_inches='tight')\n",
    "    return y_0,y_1,y_2"
   ]
  },
  {
   "cell_type": "code",
   "execution_count": 14,
   "metadata": {},
   "outputs": [
    {
     "data": {
      "image/png": "[encoded data removed]",
      "text/plain": [
       "<Figure size 432x288 with 1 Axes>"
      ]
     },
     "metadata": {
      "needs_background": "light"
     },
     "output_type": "display_data"
    }
   ],
   "source": [
    "y_0,y_1,y_2=rmse_over_time(input_, output_0, output_1,output_2)"
   ]
  },
  {
   "cell_type": "code",
   "execution_count": 11,
   "metadata": {},
   "outputs": [
    {
     "name": "stdout",
     "output_type": "stream",
     "text": [
      "0.014380284 0.027638717 0.05637806\n"
     ]
    }
   ],
   "source": [
    "print(np.mean(y_0),np.mean(y_1),np.mean(y_2))"
   ]
  },
  {
   "cell_type": "code",
   "execution_count": 12,
   "metadata": {},
   "outputs": [
    {
     "name": "stdout",
     "output_type": "stream",
     "text": [
      "0.012449375 0.014710692 0.013224213 0.0428695 0.013367222 0.099488884\n"
     ]
    }
   ],
   "source": [
    "print(np.mean(y_0[0:50]),np.mean(y_0[300:350]),np.mean(y_1[0:50]),np.mean(y_1[300:350]),np.mean(y_2[0:50]),np.mean(y_2[300:350]))"
   ]
  },
  {
   "cell_type": "code",
   "execution_count": 3,
   "metadata": {},
   "outputs": [],
   "source": [
    "def acc(ori_data, rom_data):\n",
    "\n",
    "    acc_value = []\n",
    "    if len(ori_data) != len(rom_data):\n",
    "        print('the length of these two array do not match')\n",
    "    else:\n",
    "        for i in range(len(rom_data)):\n",
    "            ori=torch.Tensor(ori_data[i])\n",
    "            rom=torch.Tensor(rom_data[i])\n",
    "            value =torch.norm(ori- rom, p=2)/torch.norm(ori, p=2)\n",
    "            \n",
    "            if i == 0:\n",
    "                acc_value = value\n",
    "            else:\n",
    "                acc_value = np.hstack((acc_value,value))\n",
    "        acc_value = np.reshape(acc_value,(-1,1))\n",
    "    return acc_value"
   ]
  },
  {
   "cell_type": "code",
   "execution_count": 4,
   "metadata": {},
   "outputs": [
    {
     "name": "stdout",
     "output_type": "stream",
     "text": [
      "0.099804536 0.19182432 0.39236355\n"
     ]
    }
   ],
   "source": [
    "acc0=acc(input_, output_0)\n",
    "acc1=acc(input_, output_1)\n",
    "acc2=acc(input_, output_2)\n",
    "print(np.mean(acc0),np.mean(acc1),np.mean(acc2))"
   ]
  },
  {
   "cell_type": "code",
   "execution_count": 15,
   "metadata": {},
   "outputs": [],
   "source": [
    "def point_over_time(ori_data,rom_data_0, rom_data_1, rom_data_2 ,j,start,ts):\n",
    "        point = [0,ts]\n",
    "        x = np.linspace(125,125+point[1]*0.5,int(point[1]-point[0]))\n",
    "        y_u=[]\n",
    "        y_0_u=[]\n",
    "        y_1_u=[]\n",
    "        y_2_u=[]\n",
    "        for i in range(ts):\n",
    "            y_u.append(ori_data[start+i].x[j,0])\n",
    "            y_0_u.append(rom_data_0[start+i][j,0].to('cpu'))\n",
    "            y_1_u.append(rom_data_1[start+i][j,0].to('cpu'))\n",
    "            y_2_u.append(rom_data_2[start+i][j,0].to('cpu'))\n",
    "        print(len(y_u))\n",
    "        fig, ax = plt.subplots(figsize=(12, 4))\n",
    "        ax.set_prop_cycle(color = ['#2f3542','#ff6b81','#6a89cc','#f6b93b'], linestyle = ['-','--', '--', '--'],linewidth=[4,2,2,2])\n",
    "        \n",
    "        ax.plot(x, y_u, x, y_0_u,x, y_1_u, x, y_2_u)\n",
    "\n",
    "        plt.ylim((-0.04, 0.05))\n",
    "       \n",
    "\n",
    "        \n",
    "        plt.xlabel('Time(s)')\n",
    "        plt.ylabel('Liquid velocity (m/s)')\n",
    "        \n",
    "        plt.legend(['Full Model','MRROM','GAG-AE+STGCN', 'GAG-AE+MHSA'], loc='upper center',ncol=4)   \n",
    "        plt.axis([125,200,-0.04, 0.05])\n",
    "        plt.xticks([125, 150, 175,200])\n",
    "        plt.show()\n",
    "        fig.savefig('/root/data1/bubble_duibishiyan/ROM'+str(j)+'velocity.pdf', bbox_inches='tight')"
   ]
  },
  {
   "cell_type": "code",
   "execution_count": 14,
   "metadata": {},
   "outputs": [],
   "source": [
    "ED_out_0 = torch.load('/root/data1/bubble_duibishiyan/GAROM-350.pt') \n",
    "ED_out_1 = torch.load('/root/data1/bubble_duibishiyan/STROM-350.pt')\n",
    "ED_out_2 = torch.load('/root/data1/bubble_duibishiyan/Multi-attention-ROM-350.pt')"
   ]
  },
  {
   "cell_type": "code",
   "execution_count": 16,
   "metadata": {},
   "outputs": [
    {
     "name": "stdout",
     "output_type": "stream",
     "text": [
      "450\n",
      "tensor([0.1053, 0.5056])\n",
      "150\n"
     ]
    },
    {
     "data": {
      "image/png": "[encoded data removed]",
      "text/plain": [
       "<Figure size 864x288 with 1 Axes>"
      ]
     },
     "metadata": {
      "needs_background": "light"
     },
     "output_type": "display_data"
    }
   ],
   "source": [
    "start=200\n",
    "ts=150\n",
    "ori=torch.load('/root/data1/bubble_EMD/meshgraphnets_miniset111traj50450ts_vis.pt')\n",
    "print(len(ori))   #200\n",
    "j=2000   #3351\n",
    "\n",
    "print(ori[0].mesh_pos[j]) \n",
    "point_over_time(ori,ED_out_0,ED_out_1, ED_out_2 ,j,start,ts)"
   ]
  }
 ],
 "metadata": {
  "kernelspec": {
   "display_name": "Python 3",
   "language": "python",
   "name": "python3"
  },
  "language_info": {
   "codemirror_mode": {
    "name": "ipython",
    "version": 3
   },
   "file_extension": ".py",
   "mimetype": "text/x-python",
   "name": "python",
   "nbconvert_exporter": "python",
   "pygments_lexer": "ipython3",
   "version": "3.8.10"
  }
 },
 "nbformat": 4,
 "nbformat_minor": 2
}
