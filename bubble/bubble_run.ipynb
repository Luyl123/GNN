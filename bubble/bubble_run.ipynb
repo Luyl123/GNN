{
 "cells": [
  {
   "cell_type": "code",
   "execution_count": null,
   "metadata": {},
   "outputs": [
    {
     "name": "stderr",
     "output_type": "stream",
     "text": [
      "/usr/local/lib/python3.8/dist-packages/tqdm/auto.py:22: TqdmWarning: IProgress not found. Please update jupyter and ipywidgets. See https://ipywidgets.readthedocs.io/en/stable/user_install.html\n",
      "  from .autonotebook import tqdm as notebook_tqdm\n"
     ]
    }
   ],
   "source": [
    "import numpy as np\n",
    "import meshio\n",
    "import torch\n",
    "import tensorflow.compat.v1 as tf\n",
    "from torch_geometric.data import Data\n",
    "import torch.nn.functional as F\n",
    "from torch_geometric.loader import DataLoader\n",
    "import pandas as pd\n",
    "import os\n",
    "import time\n",
    "from IPython.lib.display import isdir\n",
    "import random\n",
    "import matplotlib.pyplot as plt\n",
    "import copy\n",
    "from matplotlib import tri as mtri\n",
    "from matplotlib import animation\n",
    "from mpl_toolkits.axes_grid1 import make_axes_locatable\n",
    "from d_pooling import *\n",
    "#from mgn import *\n",
    "from bubble_tap_processing import *\n",
    "#from global_tpok_mp import *\n",
    "from d_TAP_MP_Attention import *\n",
    "from GTF import *"
   ]
  },
  {
   "cell_type": "markdown",
   "metadata": {},
   "source": [
    "\"\"\"准备数据\"\"\""
   ]
  },
  {
   "cell_type": "code",
   "execution_count": 2,
   "metadata": {},
   "outputs": [],
   "source": [
    "number_trajectories=1\n",
    "number_ts=200   #500\n",
    "satart_number_ts=50\n",
    "per_t=1     #在编码和解码的时候每五个用的点是一样的\n",
    "dt=0.5\n",
    "batch_size = 25\n",
    "dataset_dir = '/root/data1/bubble_EMD'\n",
    "path='/root/data1/water_slice_'\n",
    "#get_dataset(number_trajectories,satart_number_ts,number_ts,per_t,batch_size,dataset_dir,path)"
   ]
  },
  {
   "cell_type": "code",
   "execution_count": 17,
   "metadata": {},
   "outputs": [],
   "source": [
    "get_dataset(number_trajectories,satart_number_ts,number_ts,1,1,dataset_dir,path)\n",
    "data_list_ori=torch.load(dataset_dir+'/meshgraphnets_miniset'+str(1)+str(1)+\n",
    "               str(number_trajectories)+'traj'+str(satart_number_ts)+str(number_ts)+'ts_vis.pt')\n",
    "print(len(data_list_ori))\n",
    "print(data_list_ori[0])\n",
    "number=int(len(data_list_ori)/number_trajectories)\n",
    "\n",
    "pool_num = [7000,6000,5000]#7793\n",
    "perm_list=[]\n",
    "for j in range(number_trajectories):\n",
    "    x=data_list_ori[(j+1)*number-1].x\n",
    "    edge_index=data_list_ori[(j+1)*number-1].edge_index\n",
    "    \n",
    "    perms=[]\n",
    "    for i in range(len(pool_num)):\n",
    "        ratio=pool_num[i]\n",
    "        min_score= None\n",
    "        x, edge_index,perm=TAPooling_Mod( x, ratio,min_score,edge_index,edge_attr=None, batch=None, attn=None)\n",
    "        \n",
    "        perms += [perm]\n",
    "    perm_list.append(perms)\n",
    "\n",
    "torch.save(perm_list,dataset_dir+'/perm_list.pt')"
   ]
  },
  {
   "cell_type": "code",
   "execution_count": 3,
   "metadata": {},
   "outputs": [
    {
     "name": "stdout",
     "output_type": "stream",
     "text": [
      "/root/data1/water_slice_0\n",
      "501\n",
      "Done collecting data!\n",
      "Done saving data!\n",
      "Output Location:  /root/data1/bubble_EMD/meshgraphnets_miniset111traj50200ts_vis.pt\n",
      "200\n",
      "3351\n",
      "2700\n",
      "2700\n",
      "2000\n",
      "2000\n",
      "1400\n"
     ]
    }
   ],
   "source": [
    "get_dataset(number_trajectories,satart_number_ts,number_ts,1,1,dataset_dir,path)\n",
    "data_list_ori=torch.load(dataset_dir+'/meshgraphnets_miniset'+str(1)+str(1)+\n",
    "               str(number_trajectories)+'traj'+str(satart_number_ts)+str(number_ts)+'ts_vis.pt')\n",
    "print(len(data_list_ori))\n",
    "number=int(len(data_list_ori)/number_trajectories)\n",
    "\n",
    "pool_num =[2700,2000,1400]#3351\n",
    "\n",
    "data_list_ori=data_list_ori[:100]\n",
    "\n",
    "data_list_pick=copy.deepcopy(data_list_ori)\n",
    "\n",
    "perms=[]\n",
    "perm_list=[]\n",
    "ratio_1_list=[500,440,302]\n",
    "ratio_2_list=[500,462,352]\n",
    "ratio_3_list=[500,462,352]\n",
    "\n",
    "ratio_4_list=[500,462,352]\n",
    "ratio_5_list=[300,200,100]\n",
    "ratio_6_list=[700,500,300]\n",
    "\n",
    "x_min_1=0\n",
    "x_max_1=0.2\n",
    "y_min_1=0\n",
    "y_max_1=0.15\n",
    "\n",
    "x_min_2=0\n",
    "x_max_2=0.2\n",
    "y_min_2=0.15\n",
    "y_max_2=0.3\n",
    "\n",
    "x_min_3=0\n",
    "x_max_3=0.2\n",
    "y_min_3=0.3\n",
    "y_max_3=0.4\n",
    "\n",
    "x_min_4=0\n",
    "x_max_4=0.2\n",
    "y_min_4=0.4\n",
    "y_max_4=0.5\n",
    "\n",
    "x_min_5=0\n",
    "x_max_5=0.2\n",
    "y_min_5=0.5\n",
    "y_max_5=0.7\n",
    "\n",
    "x_min_6=0\n",
    "x_max_6=0.2\n",
    "y_min_6=0\n",
    "y_max_6=0.7\n",
    "\n",
    "\n",
    "\n",
    "\n",
    "\n",
    "for i in range(len(pool_num)):\n",
    "      for j in range(len(data_list_ori)):\n",
    "              if j==0:\n",
    "                     sc=data_list_pick[j].x.new_zeros(data_list_pick[j].x.size(0))\n",
    "              ratio_1=ratio_1_list[i]\n",
    "              ratio_2=ratio_2_list[i]\n",
    "              ratio_3=ratio_3_list[i]\n",
    "              ratio_4=ratio_4_list[i]\n",
    "              ratio_5=ratio_5_list[i]\n",
    "              ratio_6=ratio_6_list[i]\n",
    "              \n",
    "              \n",
    "              \n",
    "              min_score= None\n",
    "              x=data_list_pick[j].x\n",
    "              edge_index=data_list_pick[j].edge_index\n",
    "              pos=data_list_pick[j].mesh_pos\n",
    "              #mask=x.new_zeros(x.size(0))\n",
    "              mask=TAPooling_Mod(x, pos,ratio_1,ratio_2,ratio_3,ratio_4,ratio_5,ratio_6,\n",
    "                                 x_min_1,x_max_1,y_min_1,y_max_1,\n",
    "                   x_min_2,x_max_2,y_min_2,y_max_2,x_min_3,x_max_3,y_min_3,y_max_3,\n",
    "                   x_min_4,x_max_4,y_min_4,y_max_4,\n",
    "                   x_min_5,x_max_5,y_min_5,y_max_5,\n",
    "                   x_min_6,x_max_6,y_min_6,y_max_6,\n",
    "                   \n",
    "                   \n",
    "                   \n",
    "                   min_score,edge_index,\n",
    "                                               edge_attr=None, batch=None, attn=None)\n",
    "              #mask[perm]=1\n",
    "              mask=mask.to('cpu')\n",
    "              sc=sc+mask\n",
    "              \n",
    "\n",
    "      _, perm =sc.sort(dim=-1, descending=True)\n",
    "      print(len(perm))\n",
    "      mask = [torch.arange(pool_num[i], dtype=torch.long) ]\n",
    "      perm = perm[mask]\n",
    "      print(len(perm))\n",
    "      perms += [perm]\n",
    "      for k in range(len(data_list_ori)):\n",
    "            edge_index=data_list_pick[k].edge_index\n",
    "            edge_attr=data_list_pick[k].edge_attr\n",
    "            edge_index, edge_attr, edge_mask = filter_adj(edge_index, edge_attr, perm,\n",
    "                                           num_nodes=data_list_pick[k].x.size(0))\n",
    "            data_list_pick[k]. x = data_list_pick[k]. x[perm]\n",
    "            data_list_pick[k].mesh_pos  = data_list_pick[k].mesh_pos[perm]\n",
    "            data_list_pick[k].edge_index= edge_index\n",
    "            data_list_pick[k]. edge_attr =  edge_attr\n",
    "            #print(data_list_pick[k]. x .shape,data_list_pick[k].edge_index.shape,data_list_pick[k]. edge_attr.shape)        \n",
    "             \n",
    "             \n",
    "      \n",
    "\n",
    "perm_list.append(perms)\n",
    "\n",
    "torch.save(perm_list,dataset_dir+'/perm_list_150.pt')"
   ]
  },
  {
   "cell_type": "markdown",
   "metadata": {},
   "source": [
    "optimizer = torch.optim.Adam(model.parameters(), lr=0.01) #weight_decay=1e-4\n",
    "scheduler = torch.optim.lr_scheduler.ReduceLROnPlateau(optimizer, mode='min', factor=0.5,\n",
    "                                patience=5, threshold=0.0000001, threshold_mode='rel',\n",
    "                                cooldown=0, min_lr=0.000001, eps=1e-08, verbose=True)\n"
   ]
  },
  {
   "cell_type": "code",
   "execution_count": 3,
   "metadata": {},
   "outputs": [
    {
     "name": "stdout",
     "output_type": "stream",
     "text": [
      "cuda\n",
      "cuda:0\n",
      "8\n"
     ]
    },
    {
     "name": "stderr",
     "output_type": "stream",
     "text": [
      "/usr/local/lib/python3.8/dist-packages/torch_geometric/deprecation.py:12: UserWarning: 'data.DataLoader' is deprecated, use 'loader.DataLoader' instead\n",
      "  warnings.warn(out)\n",
      "Training:   0%|          | 1/200 [00:39<2:11:46, 39.73s/Epochs]"
     ]
    },
    {
     "name": "stdout",
     "output_type": "stream",
     "text": [
      "Epoch: 0000,\tTrain mse: 0.97185619,\tTrain_RMSE: 0.98559378,\tTrain_acc: 0.98568797,\tTest mse: 0.87624216,\tTime: 39.72932053s\n"
     ]
    },
    {
     "name": "stderr",
     "output_type": "stream",
     "text": [
      "Training:   2%|▏         | 3/200 [01:57<2:07:42, 38.90s/Epochs]"
     ]
    },
    {
     "name": "stdout",
     "output_type": "stream",
     "text": [
      "Epoch: 0002,\tTrain mse: 0.58981111,\tTrain_RMSE: 0.76700732,\tTrain_acc: 0.76714867,\tTest mse: 0.46956494,\tTime: 38.42070746s\n"
     ]
    },
    {
     "name": "stderr",
     "output_type": "stream",
     "text": [
      "Training:   2%|▎         | 5/200 [03:13<2:04:33, 38.33s/Epochs]"
     ]
    },
    {
     "name": "stdout",
     "output_type": "stream",
     "text": [
      "Epoch: 0004,\tTrain mse: 0.29831292,\tTrain_RMSE: 0.54571673,\tTrain_acc: 0.54579902,\tTest mse: 0.25571561,\tTime: 36.89314985s\n"
     ]
    },
    {
     "name": "stderr",
     "output_type": "stream",
     "text": [
      "Training:   4%|▎         | 7/200 [04:28<2:02:08, 37.97s/Epochs]"
     ]
    },
    {
     "name": "stdout",
     "output_type": "stream",
     "text": [
      "Epoch: 0006,\tTrain mse: 0.16565458,\tTrain_RMSE: 0.40663256,\tTrain_acc: 0.40670329,\tTest mse: 0.16917893,\tTime: 37.88947368s\n"
     ]
    },
    {
     "name": "stderr",
     "output_type": "stream",
     "text": [
      "Training:   4%|▍         | 9/200 [05:44<2:00:19, 37.80s/Epochs]"
     ]
    },
    {
     "name": "stdout",
     "output_type": "stream",
     "text": [
      "Epoch: 0008,\tTrain mse: 0.14123605,\tTrain_RMSE: 0.37357810,\tTrain_acc: 0.37353644,\tTest mse: 0.12218221,\tTime: 37.39840841s\n"
     ]
    },
    {
     "name": "stderr",
     "output_type": "stream",
     "text": [
      "Training:   6%|▌         | 11/200 [07:00<1:59:20, 37.88s/Epochs]"
     ]
    },
    {
     "name": "stdout",
     "output_type": "stream",
     "text": [
      "Epoch: 0010,\tTrain mse: 0.08869989,\tTrain_RMSE: 0.29764049,\tTrain_acc: 0.29768723,\tTest mse: 0.08341844,\tTime: 37.50381398s\n"
     ]
    },
    {
     "name": "stderr",
     "output_type": "stream",
     "text": [
      "Training:   6%|▋         | 13/200 [08:14<1:56:42, 37.45s/Epochs]"
     ]
    },
    {
     "name": "stdout",
     "output_type": "stream",
     "text": [
      "Epoch: 0012,\tTrain mse: 0.06471345,\tTrain_RMSE: 0.25432229,\tTrain_acc: 0.25433728,\tTest mse: 0.06073784,\tTime: 37.39393449s\n"
     ]
    },
    {
     "name": "stderr",
     "output_type": "stream",
     "text": [
      "Training:   8%|▊         | 15/200 [09:30<1:56:12, 37.69s/Epochs]"
     ]
    },
    {
     "name": "stdout",
     "output_type": "stream",
     "text": [
      "Epoch: 0014,\tTrain mse: 0.05025792,\tTrain_RMSE: 0.22416564,\tTrain_acc: 0.22417510,\tTest mse: 0.04872862,\tTime: 37.52002859s\n"
     ]
    },
    {
     "name": "stderr",
     "output_type": "stream",
     "text": [
      "Training:   8%|▊         | 17/200 [10:45<1:55:13, 37.78s/Epochs]"
     ]
    },
    {
     "name": "stdout",
     "output_type": "stream",
     "text": [
      "Epoch: 0016,\tTrain mse: 0.07340514,\tTrain_RMSE: 0.26968824,\tTrain_acc: 0.26964170,\tTest mse: 0.07338656,\tTime: 38.39670897s\n"
     ]
    },
    {
     "name": "stderr",
     "output_type": "stream",
     "text": [
      "Training:  10%|▉         | 19/200 [12:00<1:52:23, 37.26s/Epochs]"
     ]
    },
    {
     "name": "stdout",
     "output_type": "stream",
     "text": [
      "Epoch: 0018,\tTrain mse: 0.05370148,\tTrain_RMSE: 0.23161302,\tTrain_acc: 0.23161916,\tTest mse: 0.04785412,\tTime: 34.91542053s\n"
     ]
    },
    {
     "name": "stderr",
     "output_type": "stream",
     "text": [
      "Training:  10%|█         | 21/200 [13:17<1:53:03, 37.90s/Epochs]"
     ]
    },
    {
     "name": "stdout",
     "output_type": "stream",
     "text": [
      "Epoch: 0020,\tTrain mse: 0.04216089,\tTrain_RMSE: 0.20530875,\tTrain_acc: 0.20532082,\tTest mse: 0.04031783,\tTime: 37.90813017s\n"
     ]
    },
    {
     "name": "stderr",
     "output_type": "stream",
     "text": [
      "Training:  12%|█▏        | 23/200 [14:33<1:52:06, 38.00s/Epochs]"
     ]
    },
    {
     "name": "stdout",
     "output_type": "stream",
     "text": [
      "Epoch: 0022,\tTrain mse: 0.03593674,\tTrain_RMSE: 0.18955670,\tTrain_acc: 0.18956272,\tTest mse: 0.03465294,\tTime: 38.80024195s\n"
     ]
    },
    {
     "name": "stderr",
     "output_type": "stream",
     "text": [
      "Training:  12%|█▎        | 25/200 [15:46<1:49:01, 37.38s/Epochs]"
     ]
    },
    {
     "name": "stdout",
     "output_type": "stream",
     "text": [
      "Epoch: 0024,\tTrain mse: 0.08229069,\tTrain_RMSE: 0.25953854,\tTrain_acc: 0.25930440,\tTest mse: 0.14139971,\tTime: 36.70536280s\n"
     ]
    },
    {
     "name": "stderr",
     "output_type": "stream",
     "text": [
      "Training:  14%|█▎        | 27/200 [17:03<1:48:58, 37.79s/Epochs]"
     ]
    },
    {
     "name": "stdout",
     "output_type": "stream",
     "text": [
      "Epoch: 0026,\tTrain mse: 0.07231723,\tTrain_RMSE: 0.26849025,\tTrain_acc: 0.26853663,\tTest mse: 0.06259934,\tTime: 38.11735868s\n"
     ]
    },
    {
     "name": "stderr",
     "output_type": "stream",
     "text": [
      "Training:  14%|█▍        | 29/200 [18:19<1:48:06, 37.93s/Epochs]"
     ]
    },
    {
     "name": "stdout",
     "output_type": "stream",
     "text": [
      "Epoch: 0028,\tTrain mse: 0.04830881,\tTrain_RMSE: 0.21966247,\tTrain_acc: 0.21969725,\tTest mse: 0.04425451,\tTime: 37.90587187s\n"
     ]
    },
    {
     "name": "stderr",
     "output_type": "stream",
     "text": [
      "Training:  15%|█▌        | 30/200 [18:58<1:48:12, 38.19s/Epochs]"
     ]
    },
    {
     "name": "stdout",
     "output_type": "stream",
     "text": [
      "Epoch    30: reducing learning rate of group 0 to 5.0000e-04.\n"
     ]
    },
    {
     "name": "stderr",
     "output_type": "stream",
     "text": [
      "Training:  16%|█▌        | 31/200 [19:37<1:48:05, 38.38s/Epochs]"
     ]
    },
    {
     "name": "stdout",
     "output_type": "stream",
     "text": [
      "Epoch: 0030,\tTrain mse: 0.03565713,\tTrain_RMSE: 0.18881873,\tTrain_acc: 0.18882456,\tTest mse: 0.03460144,\tTime: 38.81574655s\n"
     ]
    },
    {
     "name": "stderr",
     "output_type": "stream",
     "text": [
      "Training:  16%|█▋        | 33/200 [20:51<1:44:48, 37.65s/Epochs]"
     ]
    },
    {
     "name": "stdout",
     "output_type": "stream",
     "text": [
      "Epoch: 0032,\tTrain mse: 0.03173458,\tTrain_RMSE: 0.17812886,\tTrain_acc: 0.17813285,\tTest mse: 0.03115533,\tTime: 36.78540754s\n"
     ]
    },
    {
     "name": "stderr",
     "output_type": "stream",
     "text": [
      "Training:  18%|█▊        | 35/200 [22:04<1:42:14, 37.18s/Epochs]"
     ]
    },
    {
     "name": "stdout",
     "output_type": "stream",
     "text": [
      "Epoch: 0034,\tTrain mse: 0.02933460,\tTrain_RMSE: 0.17126188,\tTrain_acc: 0.17126432,\tTest mse: 0.02898715,\tTime: 36.58990335s\n"
     ]
    },
    {
     "name": "stderr",
     "output_type": "stream",
     "text": [
      "Training:  18%|█▊        | 37/200 [23:22<1:43:30, 38.10s/Epochs]"
     ]
    },
    {
     "name": "stdout",
     "output_type": "stream",
     "text": [
      "Epoch: 0036,\tTrain mse: 0.02761897,\tTrain_RMSE: 0.16617910,\tTrain_acc: 0.16618091,\tTest mse: 0.02736428,\tTime: 39.40586710s\n"
     ]
    },
    {
     "name": "stderr",
     "output_type": "stream",
     "text": [
      "Training:  20%|█▉        | 39/200 [24:35<1:40:19, 37.39s/Epochs]"
     ]
    },
    {
     "name": "stdout",
     "output_type": "stream",
     "text": [
      "Epoch: 0038,\tTrain mse: 0.02625472,\tTrain_RMSE: 0.16202347,\tTrain_acc: 0.16202512,\tTest mse: 0.02605138,\tTime: 36.49650526s\n"
     ]
    },
    {
     "name": "stderr",
     "output_type": "stream",
     "text": [
      "Training:  20%|██        | 41/200 [25:51<1:39:26, 37.52s/Epochs]"
     ]
    },
    {
     "name": "stdout",
     "output_type": "stream",
     "text": [
      "Epoch: 0040,\tTrain mse: 0.02509693,\tTrain_RMSE: 0.15841124,\tTrain_acc: 0.15841281,\tTest mse: 0.02492638,\tTime: 37.89900541s\n"
     ]
    },
    {
     "name": "stderr",
     "output_type": "stream",
     "text": [
      "Training:  22%|██▏       | 43/200 [27:08<1:39:23, 37.99s/Epochs]"
     ]
    },
    {
     "name": "stdout",
     "output_type": "stream",
     "text": [
      "Epoch: 0042,\tTrain mse: 0.02407830,\tTrain_RMSE: 0.15516360,\tTrain_acc: 0.15516512,\tTest mse: 0.02392942,\tTime: 37.88121319s\n"
     ]
    },
    {
     "name": "stderr",
     "output_type": "stream",
     "text": [
      "Training:  22%|██▎       | 45/200 [28:25<1:39:33, 38.54s/Epochs]"
     ]
    },
    {
     "name": "stdout",
     "output_type": "stream",
     "text": [
      "Epoch: 0044,\tTrain mse: 0.02316768,\tTrain_RMSE: 0.15220154,\tTrain_acc: 0.15220299,\tTest mse: 0.02303413,\tTime: 39.89638615s\n"
     ]
    },
    {
     "name": "stderr",
     "output_type": "stream",
     "text": [
      "Training:  24%|██▎       | 47/200 [29:42<1:38:22, 38.58s/Epochs]"
     ]
    },
    {
     "name": "stdout",
     "output_type": "stream",
     "text": [
      "Epoch: 0046,\tTrain mse: 0.02234320,\tTrain_RMSE: 0.14946902,\tTrain_acc: 0.14947039,\tTest mse: 0.02222050,\tTime: 39.81722093s\n"
     ]
    },
    {
     "name": "stderr",
     "output_type": "stream",
     "text": [
      "Training:  24%|██▍       | 49/200 [30:57<1:35:25, 37.92s/Epochs]"
     ]
    },
    {
     "name": "stdout",
     "output_type": "stream",
     "text": [
      "Epoch: 0048,\tTrain mse: 0.02158695,\tTrain_RMSE: 0.14691800,\tTrain_acc: 0.14691932,\tTest mse: 0.02147350,\tTime: 37.68252087s\n"
     ]
    },
    {
     "name": "stderr",
     "output_type": "stream",
     "text": [
      "Training:  26%|██▌       | 51/200 [32:12<1:34:05, 37.89s/Epochs]"
     ]
    },
    {
     "name": "stdout",
     "output_type": "stream",
     "text": [
      "Epoch: 0050,\tTrain mse: 0.02089035,\tTrain_RMSE: 0.14452836,\tTrain_acc: 0.14452963,\tTest mse: 0.02078501,\tTime: 37.88932943s\n"
     ]
    },
    {
     "name": "stderr",
     "output_type": "stream",
     "text": [
      "Training:  26%|██▋       | 53/200 [33:29<1:33:25, 38.13s/Epochs]"
     ]
    },
    {
     "name": "stdout",
     "output_type": "stream",
     "text": [
      "Epoch: 0052,\tTrain mse: 0.02026593,\tTrain_RMSE: 0.14235247,\tTrain_acc: 0.14235379,\tTest mse: 0.02016695,\tTime: 37.98794675s\n"
     ]
    },
    {
     "name": "stderr",
     "output_type": "stream",
     "text": [
      "Training:  28%|██▊       | 55/200 [34:45<1:31:48, 37.99s/Epochs]"
     ]
    },
    {
     "name": "stdout",
     "output_type": "stream",
     "text": [
      "Epoch: 0054,\tTrain mse: 0.01967219,\tTrain_RMSE: 0.14025155,\tTrain_acc: 0.14025262,\tTest mse: 0.01956078,\tTime: 38.59138179s\n"
     ]
    },
    {
     "name": "stderr",
     "output_type": "stream",
     "text": [
      "Training:  28%|██▊       | 57/200 [35:57<1:28:18, 37.05s/Epochs]"
     ]
    },
    {
     "name": "stdout",
     "output_type": "stream",
     "text": [
      "Epoch: 0056,\tTrain mse: 0.01923934,\tTrain_RMSE: 0.13869984,\tTrain_acc: 0.13870069,\tTest mse: 0.01903258,\tTime: 36.58435082s\n"
     ]
    },
    {
     "name": "stderr",
     "output_type": "stream",
     "text": [
      "Training:  30%|██▉       | 59/200 [37:12<1:27:57, 37.43s/Epochs]"
     ]
    },
    {
     "name": "stdout",
     "output_type": "stream",
     "text": [
      "Epoch: 0058,\tTrain mse: 0.01884510,\tTrain_RMSE: 0.13726779,\tTrain_acc: 0.13726664,\tTest mse: 0.01891921,\tTime: 38.41120911s\n"
     ]
    },
    {
     "name": "stderr",
     "output_type": "stream",
     "text": [
      "Training:  30%|███       | 61/200 [38:28<1:27:17, 37.68s/Epochs]"
     ]
    },
    {
     "name": "stdout",
     "output_type": "stream",
     "text": [
      "Epoch: 0060,\tTrain mse: 0.01818222,\tTrain_RMSE: 0.13483593,\tTrain_acc: 0.13483676,\tTest mse: 0.01812643,\tTime: 37.09816623s\n"
     ]
    },
    {
     "name": "stderr",
     "output_type": "stream",
     "text": [
      "Training:  32%|███▏      | 63/200 [39:43<1:25:49, 37.59s/Epochs]"
     ]
    },
    {
     "name": "stdout",
     "output_type": "stream",
     "text": [
      "Epoch: 0062,\tTrain mse: 0.02621310,\tTrain_RMSE: 0.16068604,\tTrain_acc: 0.16065794,\tTest mse: 0.02455409,\tTime: 37.19974184s\n"
     ]
    },
    {
     "name": "stderr",
     "output_type": "stream",
     "text": [
      "Training:  32%|███▎      | 65/200 [40:58<1:24:21, 37.49s/Epochs]"
     ]
    },
    {
     "name": "stdout",
     "output_type": "stream",
     "text": [
      "Epoch: 0064,\tTrain mse: 0.01954231,\tTrain_RMSE: 0.13972535,\tTrain_acc: 0.13973711,\tTest mse: 0.01965437,\tTime: 37.11913824s\n"
     ]
    },
    {
     "name": "stderr",
     "output_type": "stream",
     "text": [
      "Training:  34%|███▎      | 67/200 [42:11<1:22:05, 37.04s/Epochs]"
     ]
    },
    {
     "name": "stdout",
     "output_type": "stream",
     "text": [
      "Epoch: 0066,\tTrain mse: 0.01779819,\tTrain_RMSE: 0.13339888,\tTrain_acc: 0.13339710,\tTest mse: 0.01759209,\tTime: 37.29442334s\n"
     ]
    },
    {
     "name": "stderr",
     "output_type": "stream",
     "text": [
      "Training:  34%|███▍      | 69/200 [43:26<1:21:08, 37.16s/Epochs]"
     ]
    },
    {
     "name": "stdout",
     "output_type": "stream",
     "text": [
      "Epoch: 0068,\tTrain mse: 0.01723705,\tTrain_RMSE: 0.13128235,\tTrain_acc: 0.13128430,\tTest mse: 0.01713694,\tTime: 37.19149017s\n"
     ]
    },
    {
     "name": "stderr",
     "output_type": "stream",
     "text": [
      "Training:  36%|███▌      | 71/200 [44:42<1:21:06, 37.73s/Epochs]"
     ]
    },
    {
     "name": "stdout",
     "output_type": "stream",
     "text": [
      "Epoch: 0070,\tTrain mse: 0.01678787,\tTrain_RMSE: 0.12956335,\tTrain_acc: 0.12956385,\tTest mse: 0.01678410,\tTime: 38.80861688s\n"
     ]
    },
    {
     "name": "stderr",
     "output_type": "stream",
     "text": [
      "Training:  36%|███▋      | 73/200 [45:57<1:19:37, 37.62s/Epochs]"
     ]
    },
    {
     "name": "stdout",
     "output_type": "stream",
     "text": [
      "Epoch: 0072,\tTrain mse: 0.01644017,\tTrain_RMSE: 0.12821428,\tTrain_acc: 0.12821528,\tTest mse: 0.01645546,\tTime: 37.17693853s\n"
     ]
    },
    {
     "name": "stderr",
     "output_type": "stream",
     "text": [
      "Training:  38%|███▊      | 75/200 [47:13<1:18:45, 37.81s/Epochs]"
     ]
    },
    {
     "name": "stdout",
     "output_type": "stream",
     "text": [
      "Epoch: 0074,\tTrain mse: 0.01684804,\tTrain_RMSE: 0.12976679,\tTrain_acc: 0.12976077,\tTest mse: 0.01839838,\tTime: 37.90672493s\n"
     ]
    },
    {
     "name": "stderr",
     "output_type": "stream",
     "text": [
      "Training:  38%|███▊      | 77/200 [48:28<1:17:30, 37.81s/Epochs]"
     ]
    },
    {
     "name": "stdout",
     "output_type": "stream",
     "text": [
      "Epoch: 0076,\tTrain mse: 0.01683937,\tTrain_RMSE: 0.12972766,\tTrain_acc: 0.12972587,\tTest mse: 0.01600240,\tTime: 38.78805041s\n"
     ]
    },
    {
     "name": "stderr",
     "output_type": "stream",
     "text": [
      "Training:  40%|███▉      | 79/200 [49:44<1:16:29, 37.93s/Epochs]"
     ]
    },
    {
     "name": "stdout",
     "output_type": "stream",
     "text": [
      "Epoch: 0078,\tTrain mse: 0.01597335,\tTrain_RMSE: 0.12638215,\tTrain_acc: 0.12638341,\tTest mse: 0.01579018,\tTime: 38.99530816s\n"
     ]
    },
    {
     "name": "stderr",
     "output_type": "stream",
     "text": [
      "Training:  40%|████      | 81/200 [51:07<1:19:29, 40.08s/Epochs]"
     ]
    },
    {
     "name": "stdout",
     "output_type": "stream",
     "text": [
      "Epoch: 0080,\tTrain mse: 0.01578200,\tTrain_RMSE: 0.12561798,\tTrain_acc: 0.12561706,\tTest mse: 0.01612036,\tTime: 45.31082678s\n"
     ]
    },
    {
     "name": "stderr",
     "output_type": "stream",
     "text": [
      "Training:  42%|████▏     | 83/200 [52:36<1:22:40, 42.40s/Epochs]"
     ]
    },
    {
     "name": "stdout",
     "output_type": "stream",
     "text": [
      "Epoch: 0082,\tTrain mse: 0.01914006,\tTrain_RMSE: 0.13808996,\tTrain_acc: 0.13812062,\tTest mse: 0.01830171,\tTime: 44.50221133s\n"
     ]
    },
    {
     "name": "stderr",
     "output_type": "stream",
     "text": [
      "Training:  42%|████▎     | 85/200 [54:08<1:24:30, 44.09s/Epochs]"
     ]
    },
    {
     "name": "stdout",
     "output_type": "stream",
     "text": [
      "Epoch: 0084,\tTrain mse: 0.01558539,\tTrain_RMSE: 0.12483058,\tTrain_acc: 0.12483074,\tTest mse: 0.01543024,\tTime: 45.48988485s\n"
     ]
    },
    {
     "name": "stderr",
     "output_type": "stream",
     "text": [
      "Training:  44%|████▎     | 87/200 [55:39<1:24:26, 44.84s/Epochs]"
     ]
    },
    {
     "name": "stdout",
     "output_type": "stream",
     "text": [
      "Epoch: 0086,\tTrain mse: 0.01523353,\tTrain_RMSE: 0.12341908,\tTrain_acc: 0.12341978,\tTest mse: 0.01514392,\tTime: 45.72416759s\n"
     ]
    },
    {
     "name": "stderr",
     "output_type": "stream",
     "text": [
      "Training:  44%|████▍     | 89/200 [57:10<1:23:45, 45.27s/Epochs]"
     ]
    },
    {
     "name": "stdout",
     "output_type": "stream",
     "text": [
      "Epoch: 0088,\tTrain mse: 0.01498395,\tTrain_RMSE: 0.12240327,\tTrain_acc: 0.12240292,\tTest mse: 0.01507756,\tTime: 46.39001513s\n"
     ]
    },
    {
     "name": "stderr",
     "output_type": "stream",
     "text": [
      "Training:  46%|████▌     | 91/200 [58:40<1:22:17, 45.30s/Epochs]"
     ]
    },
    {
     "name": "stdout",
     "output_type": "stream",
     "text": [
      "Epoch: 0090,\tTrain mse: 0.02221529,\tTrain_RMSE: 0.14795152,\tTrain_acc: 0.14798534,\tTest mse: 0.01593987,\tTime: 45.61429381s\n"
     ]
    },
    {
     "name": "stderr",
     "output_type": "stream",
     "text": [
      "Training:  46%|████▋     | 93/200 [1:00:17<1:23:24, 46.77s/Epochs]"
     ]
    },
    {
     "name": "stdout",
     "output_type": "stream",
     "text": [
      "Epoch: 0092,\tTrain mse: 0.01572287,\tTrain_RMSE: 0.12535400,\tTrain_acc: 0.12535101,\tTest mse: 0.01553207,\tTime: 47.20144200s\n"
     ]
    },
    {
     "name": "stderr",
     "output_type": "stream",
     "text": [
      "Training:  47%|████▋     | 94/200 [1:01:01<1:20:53, 45.79s/Epochs]"
     ]
    },
    {
     "name": "stdout",
     "output_type": "stream",
     "text": [
      "Epoch    94: reducing learning rate of group 0 to 2.5000e-04.\n"
     ]
    },
    {
     "name": "stderr",
     "output_type": "stream",
     "text": [
      "Training:  48%|████▊     | 95/200 [1:01:46<1:19:50, 45.62s/Epochs]"
     ]
    },
    {
     "name": "stdout",
     "output_type": "stream",
     "text": [
      "Epoch: 0094,\tTrain mse: 0.01471809,\tTrain_RMSE: 0.12131315,\tTrain_acc: 0.12131461,\tTest mse: 0.01464199,\tTime: 45.21555829s\n"
     ]
    },
    {
     "name": "stderr",
     "output_type": "stream",
     "text": [
      "Training:  48%|████▊     | 97/200 [1:03:17<1:17:59, 45.44s/Epochs]"
     ]
    },
    {
     "name": "stdout",
     "output_type": "stream",
     "text": [
      "Epoch: 0096,\tTrain mse: 0.01447569,\tTrain_RMSE: 0.12030969,\tTrain_acc: 0.12030976,\tTest mse: 0.01440992,\tTime: 44.88222361s\n"
     ]
    },
    {
     "name": "stderr",
     "output_type": "stream",
     "text": [
      "Training:  50%|████▉     | 99/200 [1:04:47<1:16:23, 45.39s/Epochs]"
     ]
    },
    {
     "name": "stdout",
     "output_type": "stream",
     "text": [
      "Epoch: 0098,\tTrain mse: 0.01432208,\tTrain_RMSE: 0.11966906,\tTrain_acc: 0.11966897,\tTest mse: 0.01429642,\tTime: 45.00694704s\n"
     ]
    },
    {
     "name": "stderr",
     "output_type": "stream",
     "text": [
      "Training:  50%|█████     | 101/200 [1:06:19<1:14:56, 45.42s/Epochs]"
     ]
    },
    {
     "name": "stdout",
     "output_type": "stream",
     "text": [
      "Epoch: 0100,\tTrain mse: 0.01420227,\tTrain_RMSE: 0.11916777,\tTrain_acc: 0.11916776,\tTest mse: 0.01417481,\tTime: 44.50993061s\n"
     ]
    },
    {
     "name": "stderr",
     "output_type": "stream",
     "text": [
      "Training:  52%|█████▏    | 103/200 [1:07:48<1:12:49, 45.04s/Epochs]"
     ]
    },
    {
     "name": "stdout",
     "output_type": "stream",
     "text": [
      "Epoch: 0102,\tTrain mse: 0.01409754,\tTrain_RMSE: 0.11872764,\tTrain_acc: 0.11872765,\tTest mse: 0.01407057,\tTime: 44.39477134s\n"
     ]
    },
    {
     "name": "stderr",
     "output_type": "stream",
     "text": [
      "Training:  52%|█████▎    | 105/200 [1:09:20<1:12:09, 45.57s/Epochs]"
     ]
    },
    {
     "name": "stdout",
     "output_type": "stream",
     "text": [
      "Epoch: 0104,\tTrain mse: 0.01399763,\tTrain_RMSE: 0.11830622,\tTrain_acc: 0.11830623,\tTest mse: 0.01397117,\tTime: 45.71829867s\n"
     ]
    },
    {
     "name": "stderr",
     "output_type": "stream",
     "text": [
      "Training:  54%|█████▎    | 107/200 [1:10:54<1:11:40, 46.24s/Epochs]"
     ]
    },
    {
     "name": "stdout",
     "output_type": "stream",
     "text": [
      "Epoch: 0106,\tTrain mse: 0.01390246,\tTrain_RMSE: 0.11790340,\tTrain_acc: 0.11790341,\tTest mse: 0.01387348,\tTime: 46.55595064s\n"
     ]
    },
    {
     "name": "stderr",
     "output_type": "stream",
     "text": [
      "Training:  55%|█████▍    | 109/200 [1:12:25<1:09:28, 45.81s/Epochs]"
     ]
    },
    {
     "name": "stdout",
     "output_type": "stream",
     "text": [
      "Epoch: 0108,\tTrain mse: 0.01380953,\tTrain_RMSE: 0.11750877,\tTrain_acc: 0.11750878,\tTest mse: 0.01377977,\tTime: 45.18251610s\n"
     ]
    },
    {
     "name": "stderr",
     "output_type": "stream",
     "text": [
      "Training:  56%|█████▌    | 111/200 [1:13:55<1:07:16, 45.35s/Epochs]"
     ]
    },
    {
     "name": "stdout",
     "output_type": "stream",
     "text": [
      "Epoch: 0110,\tTrain mse: 0.01372384,\tTrain_RMSE: 0.11714359,\tTrain_acc: 0.11714357,\tTest mse: 0.01368896,\tTime: 44.69697142s\n"
     ]
    },
    {
     "name": "stderr",
     "output_type": "stream",
     "text": [
      "Training:  56%|█████▋    | 113/200 [1:15:28<1:06:26, 45.82s/Epochs]"
     ]
    },
    {
     "name": "stdout",
     "output_type": "stream",
     "text": [
      "Epoch: 0112,\tTrain mse: 0.01363827,\tTrain_RMSE: 0.11677784,\tTrain_acc: 0.11677779,\tTest mse: 0.01360049,\tTime: 46.18871045s\n"
     ]
    },
    {
     "name": "stderr",
     "output_type": "stream",
     "text": [
      "Training:  57%|█████▊    | 115/200 [1:16:58<1:04:11, 45.31s/Epochs]"
     ]
    },
    {
     "name": "stdout",
     "output_type": "stream",
     "text": [
      "Epoch: 0114,\tTrain mse: 0.01355315,\tTrain_RMSE: 0.11641292,\tTrain_acc: 0.11641290,\tTest mse: 0.01352315,\tTime: 43.99396133s\n"
     ]
    },
    {
     "name": "stderr",
     "output_type": "stream",
     "text": [
      "Training:  58%|█████▊    | 117/200 [1:18:28<1:02:25, 45.12s/Epochs]"
     ]
    },
    {
     "name": "stdout",
     "output_type": "stream",
     "text": [
      "Epoch: 0116,\tTrain mse: 0.01346925,\tTrain_RMSE: 0.11605199,\tTrain_acc: 0.11605199,\tTest mse: 0.01345859,\tTime: 44.69820809s\n"
     ]
    },
    {
     "name": "stderr",
     "output_type": "stream",
     "text": [
      "Training:  60%|█████▉    | 119/200 [1:19:57<1:00:40, 44.95s/Epochs]"
     ]
    },
    {
     "name": "stdout",
     "output_type": "stream",
     "text": [
      "Epoch: 0118,\tTrain mse: 0.01337518,\tTrain_RMSE: 0.11564609,\tTrain_acc: 0.11564627,\tTest mse: 0.01336289,\tTime: 45.09969211s\n"
     ]
    },
    {
     "name": "stderr",
     "output_type": "stream",
     "text": [
      "Training:  60%|██████    | 121/200 [1:21:31<1:00:25, 45.89s/Epochs]"
     ]
    },
    {
     "name": "stdout",
     "output_type": "stream",
     "text": [
      "Epoch: 0120,\tTrain mse: 0.01328127,\tTrain_RMSE: 0.11523934,\tTrain_acc: 0.11523944,\tTest mse: 0.01325870,\tTime: 47.00002718s\n"
     ]
    },
    {
     "name": "stderr",
     "output_type": "stream",
     "text": [
      "Training:  62%|██████▏   | 123/200 [1:22:59<57:50, 45.07s/Epochs]  "
     ]
    },
    {
     "name": "stdout",
     "output_type": "stream",
     "text": [
      "Epoch: 0122,\tTrain mse: 0.01319801,\tTrain_RMSE: 0.11487752,\tTrain_acc: 0.11487763,\tTest mse: 0.01317327,\tTime: 44.91602015s\n"
     ]
    },
    {
     "name": "stderr",
     "output_type": "stream",
     "text": [
      "Training:  62%|██████▎   | 125/200 [1:24:32<57:04, 45.66s/Epochs]"
     ]
    },
    {
     "name": "stdout",
     "output_type": "stream",
     "text": [
      "Epoch: 0124,\tTrain mse: 0.01310894,\tTrain_RMSE: 0.11448928,\tTrain_acc: 0.11448938,\tTest mse: 0.01308390,\tTime: 44.89214420s\n"
     ]
    },
    {
     "name": "stderr",
     "output_type": "stream",
     "text": [
      "Training:  64%|██████▎   | 127/200 [1:26:02<55:15, 45.42s/Epochs]"
     ]
    },
    {
     "name": "stdout",
     "output_type": "stream",
     "text": [
      "Epoch: 0126,\tTrain mse: 0.01302418,\tTrain_RMSE: 0.11411846,\tTrain_acc: 0.11411853,\tTest mse: 0.01300325,\tTime: 45.80866623s\n"
     ]
    },
    {
     "name": "stderr",
     "output_type": "stream",
     "text": [
      "Training:  64%|██████▍   | 129/200 [1:27:31<53:12, 44.97s/Epochs]"
     ]
    },
    {
     "name": "stdout",
     "output_type": "stream",
     "text": [
      "Epoch: 0128,\tTrain mse: 0.01293336,\tTrain_RMSE: 0.11371997,\tTrain_acc: 0.11372007,\tTest mse: 0.01290315,\tTime: 45.48341656s\n"
     ]
    },
    {
     "name": "stderr",
     "output_type": "stream",
     "text": [
      "Training:  66%|██████▌   | 131/200 [1:29:03<52:24, 45.58s/Epochs]"
     ]
    },
    {
     "name": "stdout",
     "output_type": "stream",
     "text": [
      "Epoch: 0130,\tTrain mse: 0.01284747,\tTrain_RMSE: 0.11334170,\tTrain_acc: 0.11334182,\tTest mse: 0.01281321,\tTime: 45.71644545s\n"
     ]
    },
    {
     "name": "stderr",
     "output_type": "stream",
     "text": [
      "Training:  66%|██████▋   | 133/200 [1:30:32<50:13, 44.98s/Epochs]"
     ]
    },
    {
     "name": "stdout",
     "output_type": "stream",
     "text": [
      "Epoch: 0132,\tTrain mse: 0.01275661,\tTrain_RMSE: 0.11294016,\tTrain_acc: 0.11294026,\tTest mse: 0.01272414,\tTime: 43.97892141s\n"
     ]
    },
    {
     "name": "stderr",
     "output_type": "stream",
     "text": [
      "Training:  68%|██████▊   | 135/200 [1:32:02<48:46, 45.02s/Epochs]"
     ]
    },
    {
     "name": "stdout",
     "output_type": "stream",
     "text": [
      "Epoch: 0134,\tTrain mse: 0.01266496,\tTrain_RMSE: 0.11253366,\tTrain_acc: 0.11253370,\tTest mse: 0.01263765,\tTime: 45.09892750s\n"
     ]
    },
    {
     "name": "stderr",
     "output_type": "stream",
     "text": [
      "Training:  68%|██████▊   | 137/200 [1:33:31<46:58, 44.73s/Epochs]"
     ]
    },
    {
     "name": "stdout",
     "output_type": "stream",
     "text": [
      "Epoch: 0136,\tTrain mse: 0.01257516,\tTrain_RMSE: 0.11213405,\tTrain_acc: 0.11213419,\tTest mse: 0.01253637,\tTime: 44.12119389s\n"
     ]
    },
    {
     "name": "stderr",
     "output_type": "stream",
     "text": [
      "Training:  70%|██████▉   | 139/200 [1:35:03<45:54, 45.16s/Epochs]"
     ]
    },
    {
     "name": "stdout",
     "output_type": "stream",
     "text": [
      "Epoch: 0138,\tTrain mse: 0.01250792,\tTrain_RMSE: 0.11183349,\tTrain_acc: 0.11183343,\tTest mse: 0.01244561,\tTime: 44.76746798s\n"
     ]
    },
    {
     "name": "stderr",
     "output_type": "stream",
     "text": [
      "Training:  70%|███████   | 141/200 [1:36:37<45:18, 46.07s/Epochs]"
     ]
    },
    {
     "name": "stdout",
     "output_type": "stream",
     "text": [
      "Epoch: 0140,\tTrain mse: 0.01239058,\tTrain_RMSE: 0.11130796,\tTrain_acc: 0.11130804,\tTest mse: 0.01234312,\tTime: 47.39098525s\n"
     ]
    },
    {
     "name": "stderr",
     "output_type": "stream",
     "text": [
      "Training:  72%|███████▏  | 143/200 [1:38:06<43:06, 45.38s/Epochs]"
     ]
    },
    {
     "name": "stdout",
     "output_type": "stream",
     "text": [
      "Epoch: 0142,\tTrain mse: 0.01229800,\tTrain_RMSE: 0.11089142,\tTrain_acc: 0.11089158,\tTest mse: 0.01225134,\tTime: 44.01763248s\n"
     ]
    },
    {
     "name": "stderr",
     "output_type": "stream",
     "text": [
      "Training:  72%|███████▎  | 145/200 [1:39:36<41:16, 45.03s/Epochs]"
     ]
    },
    {
     "name": "stdout",
     "output_type": "stream",
     "text": [
      "Epoch: 0144,\tTrain mse: 0.01228438,\tTrain_RMSE: 0.11083020,\tTrain_acc: 0.11083046,\tTest mse: 0.01218245,\tTime: 44.50001168s\n"
     ]
    },
    {
     "name": "stderr",
     "output_type": "stream",
     "text": [
      "Training:  74%|███████▎  | 147/200 [1:41:07<39:49, 45.09s/Epochs]"
     ]
    },
    {
     "name": "stdout",
     "output_type": "stream",
     "text": [
      "Epoch: 0146,\tTrain mse: 0.01212013,\tTrain_RMSE: 0.11008669,\tTrain_acc: 0.11008692,\tTest mse: 0.01212222,\tTime: 43.69483161s\n"
     ]
    },
    {
     "name": "stderr",
     "output_type": "stream",
     "text": [
      "Training:  74%|███████▍  | 149/200 [1:42:37<38:23, 45.18s/Epochs]"
     ]
    },
    {
     "name": "stdout",
     "output_type": "stream",
     "text": [
      "Epoch: 0148,\tTrain mse: 0.01236202,\tTrain_RMSE: 0.11117923,\tTrain_acc: 0.11118412,\tTest mse: 0.01208300,\tTime: 45.29875827s\n"
     ]
    },
    {
     "name": "stderr",
     "output_type": "stream",
     "text": [
      "Training:  76%|███████▌  | 151/200 [1:44:09<37:12, 45.55s/Epochs]"
     ]
    },
    {
     "name": "stdout",
     "output_type": "stream",
     "text": [
      "Epoch: 0150,\tTrain mse: 0.01187806,\tTrain_RMSE: 0.10898136,\tTrain_acc: 0.10898139,\tTest mse: 0.01180127,\tTime: 45.07559514s\n"
     ]
    },
    {
     "name": "stderr",
     "output_type": "stream",
     "text": [
      "Training:  76%|███████▋  | 153/200 [1:45:37<34:58, 44.64s/Epochs]"
     ]
    },
    {
     "name": "stdout",
     "output_type": "stream",
     "text": [
      "Epoch: 0152,\tTrain mse: 0.01173287,\tTrain_RMSE: 0.10831379,\tTrain_acc: 0.10831419,\tTest mse: 0.01168398,\tTime: 43.59202147s\n"
     ]
    },
    {
     "name": "stderr",
     "output_type": "stream",
     "text": [
      "Training:  78%|███████▊  | 155/200 [1:47:06<33:33, 44.74s/Epochs]"
     ]
    },
    {
     "name": "stdout",
     "output_type": "stream",
     "text": [
      "Epoch: 0154,\tTrain mse: 0.01158324,\tTrain_RMSE: 0.10762084,\tTrain_acc: 0.10762108,\tTest mse: 0.01154749,\tTime: 45.49158955s\n"
     ]
    },
    {
     "name": "stderr",
     "output_type": "stream",
     "text": [
      "Training:  78%|███████▊  | 157/200 [1:48:36<32:10, 44.89s/Epochs]"
     ]
    },
    {
     "name": "stdout",
     "output_type": "stream",
     "text": [
      "Epoch: 0156,\tTrain mse: 0.01839898,\tTrain_RMSE: 0.13495878,\tTrain_acc: 0.13499033,\tTest mse: 0.01602152,\tTime: 45.37956691s\n"
     ]
    },
    {
     "name": "stderr",
     "output_type": "stream",
     "text": [
      "Training:  80%|███████▉  | 159/200 [1:50:06<30:35, 44.77s/Epochs]"
     ]
    },
    {
     "name": "stdout",
     "output_type": "stream",
     "text": [
      "Epoch: 0158,\tTrain mse: 0.01242564,\tTrain_RMSE: 0.11143386,\tTrain_acc: 0.11144526,\tTest mse: 0.01192572,\tTime: 44.20345473s\n"
     ]
    },
    {
     "name": "stderr",
     "output_type": "stream",
     "text": [
      "Training:  80%|████████  | 161/200 [1:51:36<29:16, 45.05s/Epochs]"
     ]
    },
    {
     "name": "stdout",
     "output_type": "stream",
     "text": [
      "Epoch: 0160,\tTrain mse: 0.01134028,\tTrain_RMSE: 0.10648402,\tTrain_acc: 0.10648356,\tTest mse: 0.01113377,\tTime: 45.79750896s\n"
     ]
    },
    {
     "name": "stderr",
     "output_type": "stream",
     "text": [
      "Training:  82%|████████▏ | 163/200 [1:53:05<27:30, 44.61s/Epochs]"
     ]
    },
    {
     "name": "stdout",
     "output_type": "stream",
     "text": [
      "Epoch: 0162,\tTrain mse: 0.01103090,\tTrain_RMSE: 0.10502204,\tTrain_acc: 0.10502165,\tTest mse: 0.01091424,\tTime: 42.78985667s\n"
     ]
    },
    {
     "name": "stderr",
     "output_type": "stream",
     "text": [
      "Training:  82%|████████▎ | 165/200 [1:54:33<25:49, 44.28s/Epochs]"
     ]
    },
    {
     "name": "stdout",
     "output_type": "stream",
     "text": [
      "Epoch: 0164,\tTrain mse: 0.01076980,\tTrain_RMSE: 0.10377183,\tTrain_acc: 0.10377172,\tTest mse: 0.01068428,\tTime: 44.70806193s\n"
     ]
    },
    {
     "name": "stderr",
     "output_type": "stream",
     "text": [
      "Training:  84%|████████▎ | 167/200 [1:56:02<24:30, 44.57s/Epochs]"
     ]
    },
    {
     "name": "stdout",
     "output_type": "stream",
     "text": [
      "Epoch: 0166,\tTrain mse: 0.01057277,\tTrain_RMSE: 0.10281661,\tTrain_acc: 0.10281587,\tTest mse: 0.01088040,\tTime: 45.09135103s\n"
     ]
    },
    {
     "name": "stderr",
     "output_type": "stream",
     "text": [
      "Training:  84%|████████▍ | 169/200 [1:57:32<23:10, 44.85s/Epochs]"
     ]
    },
    {
     "name": "stdout",
     "output_type": "stream",
     "text": [
      "Epoch: 0168,\tTrain mse: 0.01073771,\tTrain_RMSE: 0.10361515,\tTrain_acc: 0.10361514,\tTest mse: 0.01092891,\tTime: 45.61243963s\n"
     ]
    },
    {
     "name": "stderr",
     "output_type": "stream",
     "text": [
      "Training:  86%|████████▌ | 171/200 [1:59:03<21:44, 44.97s/Epochs]"
     ]
    },
    {
     "name": "stdout",
     "output_type": "stream",
     "text": [
      "Epoch: 0170,\tTrain mse: 0.01031630,\tTrain_RMSE: 0.10156411,\tTrain_acc: 0.10156455,\tTest mse: 0.01025037,\tTime: 45.08857942s\n"
     ]
    },
    {
     "name": "stderr",
     "output_type": "stream",
     "text": [
      "Training:  86%|████████▋ | 173/200 [2:00:31<20:05, 44.65s/Epochs]"
     ]
    },
    {
     "name": "stdout",
     "output_type": "stream",
     "text": [
      "Epoch: 0172,\tTrain mse: 0.00995240,\tTrain_RMSE: 0.09975846,\tTrain_acc: 0.09975949,\tTest mse: 0.00990321,\tTime: 44.20159411s\n"
     ]
    },
    {
     "name": "stderr",
     "output_type": "stream",
     "text": [
      "Training:  88%|████████▊ | 175/200 [2:02:00<18:29, 44.39s/Epochs]"
     ]
    },
    {
     "name": "stdout",
     "output_type": "stream",
     "text": [
      "Epoch: 0174,\tTrain mse: 0.01059814,\tTrain_RMSE: 0.10293329,\tTrain_acc: 0.10293179,\tTest mse: 0.00997689,\tTime: 43.89063883s\n"
     ]
    },
    {
     "name": "stderr",
     "output_type": "stream",
     "text": [
      "Training:  88%|████████▊ | 177/200 [2:03:26<16:46, 43.78s/Epochs]"
     ]
    },
    {
     "name": "stdout",
     "output_type": "stream",
     "text": [
      "Epoch: 0176,\tTrain mse: 0.00981927,\tTrain_RMSE: 0.09906463,\tTrain_acc: 0.09905951,\tTest mse: 0.00969057,\tTime: 43.39327121s\n"
     ]
    },
    {
     "name": "stderr",
     "output_type": "stream",
     "text": [
      "Training:  90%|████████▉ | 179/200 [2:04:57<15:40, 44.78s/Epochs]"
     ]
    },
    {
     "name": "stdout",
     "output_type": "stream",
     "text": [
      "Epoch: 0178,\tTrain mse: 0.01126155,\tTrain_RMSE: 0.10600614,\tTrain_acc: 0.10602257,\tTest mse: 0.01065585,\tTime: 46.58290362s\n"
     ]
    },
    {
     "name": "stderr",
     "output_type": "stream",
     "text": [
      "Training:  90%|█████████ | 181/200 [2:06:27<14:13, 44.91s/Epochs]"
     ]
    },
    {
     "name": "stdout",
     "output_type": "stream",
     "text": [
      "Epoch: 0180,\tTrain mse: 0.00938212,\tTrain_RMSE: 0.09685420,\tTrain_acc: 0.09685360,\tTest mse: 0.00963276,\tTime: 45.21181870s\n"
     ]
    },
    {
     "name": "stderr",
     "output_type": "stream",
     "text": [
      "Training:  92%|█████████▏| 183/200 [2:07:57<12:45, 45.02s/Epochs]"
     ]
    },
    {
     "name": "stdout",
     "output_type": "stream",
     "text": [
      "Epoch: 0182,\tTrain mse: 0.00907556,\tTrain_RMSE: 0.09525692,\tTrain_acc: 0.09525634,\tTest mse: 0.00895128,\tTime: 44.79800057s\n"
     ]
    },
    {
     "name": "stderr",
     "output_type": "stream",
     "text": [
      "Training:  92%|█████████▎| 185/200 [2:09:28<11:20, 45.34s/Epochs]"
     ]
    },
    {
     "name": "stdout",
     "output_type": "stream",
     "text": [
      "Epoch: 0184,\tTrain mse: 0.00913971,\tTrain_RMSE: 0.09559098,\tTrain_acc: 0.09558869,\tTest mse: 0.00926107,\tTime: 46.72605681s\n"
     ]
    },
    {
     "name": "stderr",
     "output_type": "stream",
     "text": [
      "Training:  94%|█████████▎| 187/200 [2:10:59<09:50, 45.45s/Epochs]"
     ]
    },
    {
     "name": "stdout",
     "output_type": "stream",
     "text": [
      "Epoch: 0186,\tTrain mse: 0.01001012,\tTrain_RMSE: 0.10000535,\tTrain_acc: 0.10001840,\tTest mse: 0.00971040,\tTime: 45.80397367s\n"
     ]
    },
    {
     "name": "stderr",
     "output_type": "stream",
     "text": [
      "Training:  94%|█████████▍| 188/200 [2:11:44<09:04, 45.37s/Epochs]"
     ]
    },
    {
     "name": "stdout",
     "output_type": "stream",
     "text": [
      "Epoch   188: reducing learning rate of group 0 to 1.2500e-04.\n"
     ]
    },
    {
     "name": "stderr",
     "output_type": "stream",
     "text": [
      "Training:  94%|█████████▍| 189/200 [2:12:32<08:24, 45.88s/Epochs]"
     ]
    },
    {
     "name": "stdout",
     "output_type": "stream",
     "text": [
      "Epoch: 0188,\tTrain mse: 0.00874998,\tTrain_RMSE: 0.09353388,\tTrain_acc: 0.09353627,\tTest mse: 0.00854161,\tTime: 47.08872676s\n"
     ]
    },
    {
     "name": "stderr",
     "output_type": "stream",
     "text": [
      "Training:  96%|█████████▌| 191/200 [2:14:02<06:49, 45.52s/Epochs]"
     ]
    },
    {
     "name": "stdout",
     "output_type": "stream",
     "text": [
      "Epoch: 0190,\tTrain mse: 0.00844759,\tTrain_RMSE: 0.09190449,\tTrain_acc: 0.09190406,\tTest mse: 0.00835983,\tTime: 45.19478321s\n"
     ]
    },
    {
     "name": "stderr",
     "output_type": "stream",
     "text": [
      "Training:  96%|█████████▋| 193/200 [2:15:29<05:11, 44.48s/Epochs]"
     ]
    },
    {
     "name": "stdout",
     "output_type": "stream",
     "text": [
      "Epoch: 0192,\tTrain mse: 0.00830805,\tTrain_RMSE: 0.09114124,\tTrain_acc: 0.09114038,\tTest mse: 0.00825724,\tTime: 43.10802770s\n"
     ]
    },
    {
     "name": "stderr",
     "output_type": "stream",
     "text": [
      "Training:  98%|█████████▊| 195/200 [2:16:57<03:41, 44.22s/Epochs]"
     ]
    },
    {
     "name": "stdout",
     "output_type": "stream",
     "text": [
      "Epoch: 0194,\tTrain mse: 0.00820652,\tTrain_RMSE: 0.09058267,\tTrain_acc: 0.09058187,\tTest mse: 0.00815044,\tTime: 43.81133509s\n"
     ]
    },
    {
     "name": "stderr",
     "output_type": "stream",
     "text": [
      "Training:  98%|█████████▊| 197/200 [2:18:26<02:13, 44.52s/Epochs]"
     ]
    },
    {
     "name": "stdout",
     "output_type": "stream",
     "text": [
      "Epoch: 0196,\tTrain mse: 0.00812433,\tTrain_RMSE: 0.09012778,\tTrain_acc: 0.09012689,\tTest mse: 0.00807128,\tTime: 45.09486532s\n"
     ]
    },
    {
     "name": "stderr",
     "output_type": "stream",
     "text": [
      "Training: 100%|█████████▉| 199/200 [2:19:58<00:45, 45.13s/Epochs]"
     ]
    },
    {
     "name": "stdout",
     "output_type": "stream",
     "text": [
      "Epoch: 0198,\tTrain mse: 0.00804159,\tTrain_RMSE: 0.08966771,\tTrain_acc: 0.08966687,\tTest mse: 0.00798702,\tTime: 45.30071998s\n"
     ]
    },
    {
     "name": "stderr",
     "output_type": "stream",
     "text": [
      "Training: 100%|██████████| 200/200 [2:20:41<00:00, 42.21s/Epochs]\n"
     ]
    },
    {
     "name": "stdout",
     "output_type": "stream",
     "text": [
      "Model.state_dict:\n",
      "node_encode.0.weight \t torch.Size([32, 2])\n",
      "node_encode.0.bias \t torch.Size([32])\n",
      "node_encode.1.weight \t torch.Size([32, 32])\n",
      "node_encode.1.bias \t torch.Size([32])\n",
      "node_encode.2.weight \t torch.Size([32, 32])\n",
      "node_encode.2.bias \t torch.Size([32])\n",
      "node_encode.3.weight \t torch.Size([32, 32])\n",
      "node_encode.3.bias \t torch.Size([32])\n",
      "node_encode_norm.weight \t torch.Size([32])\n",
      "node_encode_norm.bias \t torch.Size([32])\n",
      "edge_encode.0.weight \t torch.Size([32, 3])\n",
      "edge_encode.0.bias \t torch.Size([32])\n",
      "edge_encode.1.weight \t torch.Size([32, 32])\n",
      "edge_encode.1.bias \t torch.Size([32])\n",
      "edge_encode.2.weight \t torch.Size([32, 32])\n",
      "edge_encode.2.bias \t torch.Size([32])\n",
      "edge_encode.3.weight \t torch.Size([32, 32])\n",
      "edge_encode.3.bias \t torch.Size([32])\n",
      "edge_encode_norm.weight \t torch.Size([32])\n",
      "edge_encode_norm.bias \t torch.Size([32])\n",
      "edge_down_mps.0.0.0.weight \t torch.Size([32, 96])\n",
      "edge_down_mps.0.0.0.bias \t torch.Size([32])\n",
      "edge_down_mps.0.0.1.weight \t torch.Size([32, 32])\n",
      "edge_down_mps.0.0.1.bias \t torch.Size([32])\n",
      "edge_down_mps.0.0.2.weight \t torch.Size([32, 32])\n",
      "edge_down_mps.0.0.2.bias \t torch.Size([32])\n",
      "edge_down_mps.0.0.3.weight \t torch.Size([32, 32])\n",
      "edge_down_mps.0.0.3.bias \t torch.Size([32])\n",
      "edge_down_mps.0.0.4.weight \t torch.Size([32, 32])\n",
      "edge_down_mps.0.0.4.bias \t torch.Size([32])\n",
      "edge_down_mps.0.0.5.weight \t torch.Size([32, 32])\n",
      "edge_down_mps.0.0.5.bias \t torch.Size([32])\n",
      "edge_down_mps.0.1.0.weight \t torch.Size([32, 96])\n",
      "edge_down_mps.0.1.0.bias \t torch.Size([32])\n",
      "edge_down_mps.0.1.1.weight \t torch.Size([32, 32])\n",
      "edge_down_mps.0.1.1.bias \t torch.Size([32])\n",
      "edge_down_mps.0.1.2.weight \t torch.Size([32, 32])\n",
      "edge_down_mps.0.1.2.bias \t torch.Size([32])\n",
      "edge_down_mps.0.1.3.weight \t torch.Size([32, 32])\n",
      "edge_down_mps.0.1.3.bias \t torch.Size([32])\n",
      "edge_down_mps.0.1.4.weight \t torch.Size([32, 32])\n",
      "edge_down_mps.0.1.4.bias \t torch.Size([32])\n",
      "edge_down_mps.0.1.5.weight \t torch.Size([32, 32])\n",
      "edge_down_mps.0.1.5.bias \t torch.Size([32])\n",
      "edge_down_mps.1.0.0.weight \t torch.Size([32, 96])\n",
      "edge_down_mps.1.0.0.bias \t torch.Size([32])\n",
      "edge_down_mps.1.0.1.weight \t torch.Size([32, 32])\n",
      "edge_down_mps.1.0.1.bias \t torch.Size([32])\n",
      "edge_down_mps.1.0.2.weight \t torch.Size([32, 32])\n",
      "edge_down_mps.1.0.2.bias \t torch.Size([32])\n",
      "edge_down_mps.1.0.3.weight \t torch.Size([32, 32])\n",
      "edge_down_mps.1.0.3.bias \t torch.Size([32])\n",
      "edge_down_mps.1.0.4.weight \t torch.Size([32, 32])\n",
      "edge_down_mps.1.0.4.bias \t torch.Size([32])\n",
      "edge_down_mps.1.0.5.weight \t torch.Size([32, 32])\n",
      "edge_down_mps.1.0.5.bias \t torch.Size([32])\n",
      "edge_down_mps.1.1.0.weight \t torch.Size([32, 96])\n",
      "edge_down_mps.1.1.0.bias \t torch.Size([32])\n",
      "edge_down_mps.1.1.1.weight \t torch.Size([32, 32])\n",
      "edge_down_mps.1.1.1.bias \t torch.Size([32])\n",
      "edge_down_mps.1.1.2.weight \t torch.Size([32, 32])\n",
      "edge_down_mps.1.1.2.bias \t torch.Size([32])\n",
      "edge_down_mps.1.1.3.weight \t torch.Size([32, 32])\n",
      "edge_down_mps.1.1.3.bias \t torch.Size([32])\n",
      "edge_down_mps.1.1.4.weight \t torch.Size([32, 32])\n",
      "edge_down_mps.1.1.4.bias \t torch.Size([32])\n",
      "edge_down_mps.1.1.5.weight \t torch.Size([32, 32])\n",
      "edge_down_mps.1.1.5.bias \t torch.Size([32])\n",
      "edge_down_mps.2.0.0.weight \t torch.Size([32, 96])\n",
      "edge_down_mps.2.0.0.bias \t torch.Size([32])\n",
      "edge_down_mps.2.0.1.weight \t torch.Size([32, 32])\n",
      "edge_down_mps.2.0.1.bias \t torch.Size([32])\n",
      "edge_down_mps.2.0.2.weight \t torch.Size([32, 32])\n",
      "edge_down_mps.2.0.2.bias \t torch.Size([32])\n",
      "edge_down_mps.2.0.3.weight \t torch.Size([32, 32])\n",
      "edge_down_mps.2.0.3.bias \t torch.Size([32])\n",
      "edge_down_mps.2.0.4.weight \t torch.Size([32, 32])\n",
      "edge_down_mps.2.0.4.bias \t torch.Size([32])\n",
      "edge_down_mps.2.0.5.weight \t torch.Size([32, 32])\n",
      "edge_down_mps.2.0.5.bias \t torch.Size([32])\n",
      "edge_down_mps.3.0.0.weight \t torch.Size([32, 96])\n",
      "edge_down_mps.3.0.0.bias \t torch.Size([32])\n",
      "edge_down_mps.3.0.1.weight \t torch.Size([32, 32])\n",
      "edge_down_mps.3.0.1.bias \t torch.Size([32])\n",
      "edge_down_mps.3.0.2.weight \t torch.Size([32, 32])\n",
      "edge_down_mps.3.0.2.bias \t torch.Size([32])\n",
      "edge_down_mps.3.0.3.weight \t torch.Size([32, 32])\n",
      "edge_down_mps.3.0.3.bias \t torch.Size([32])\n",
      "edge_down_mps.3.0.4.weight \t torch.Size([32, 32])\n",
      "edge_down_mps.3.0.4.bias \t torch.Size([32])\n",
      "edge_down_mps.3.0.5.weight \t torch.Size([32, 32])\n",
      "edge_down_mps.3.0.5.bias \t torch.Size([32])\n",
      "edge_down_norms.0.0.weight \t torch.Size([32])\n",
      "edge_down_norms.0.0.bias \t torch.Size([32])\n",
      "edge_down_norms.0.1.weight \t torch.Size([32])\n",
      "edge_down_norms.0.1.bias \t torch.Size([32])\n",
      "edge_down_norms.1.0.weight \t torch.Size([32])\n",
      "edge_down_norms.1.0.bias \t torch.Size([32])\n",
      "edge_down_norms.1.1.weight \t torch.Size([32])\n",
      "edge_down_norms.1.1.bias \t torch.Size([32])\n",
      "edge_down_norms.2.0.weight \t torch.Size([32])\n",
      "edge_down_norms.2.0.bias \t torch.Size([32])\n",
      "edge_down_norms.3.0.weight \t torch.Size([32])\n",
      "edge_down_norms.3.0.bias \t torch.Size([32])\n",
      "node_down_mps.0.0.0.weight \t torch.Size([32, 64])\n",
      "node_down_mps.0.0.0.bias \t torch.Size([32])\n",
      "node_down_mps.0.0.1.weight \t torch.Size([32, 32])\n",
      "node_down_mps.0.0.1.bias \t torch.Size([32])\n",
      "node_down_mps.0.0.2.weight \t torch.Size([32, 32])\n",
      "node_down_mps.0.0.2.bias \t torch.Size([32])\n",
      "node_down_mps.0.0.3.weight \t torch.Size([32, 32])\n",
      "node_down_mps.0.0.3.bias \t torch.Size([32])\n",
      "node_down_mps.0.0.4.weight \t torch.Size([32, 32])\n",
      "node_down_mps.0.0.4.bias \t torch.Size([32])\n",
      "node_down_mps.0.0.5.weight \t torch.Size([32, 32])\n",
      "node_down_mps.0.0.5.bias \t torch.Size([32])\n",
      "node_down_mps.0.1.0.weight \t torch.Size([32, 64])\n",
      "node_down_mps.0.1.0.bias \t torch.Size([32])\n",
      "node_down_mps.0.1.1.weight \t torch.Size([32, 32])\n",
      "node_down_mps.0.1.1.bias \t torch.Size([32])\n",
      "node_down_mps.0.1.2.weight \t torch.Size([32, 32])\n",
      "node_down_mps.0.1.2.bias \t torch.Size([32])\n",
      "node_down_mps.0.1.3.weight \t torch.Size([32, 32])\n",
      "node_down_mps.0.1.3.bias \t torch.Size([32])\n",
      "node_down_mps.0.1.4.weight \t torch.Size([32, 32])\n",
      "node_down_mps.0.1.4.bias \t torch.Size([32])\n",
      "node_down_mps.0.1.5.weight \t torch.Size([32, 32])\n",
      "node_down_mps.0.1.5.bias \t torch.Size([32])\n",
      "node_down_mps.1.0.0.weight \t torch.Size([32, 96])\n",
      "node_down_mps.1.0.0.bias \t torch.Size([32])\n",
      "node_down_mps.1.0.1.weight \t torch.Size([32, 32])\n",
      "node_down_mps.1.0.1.bias \t torch.Size([32])\n",
      "node_down_mps.1.0.2.weight \t torch.Size([32, 32])\n",
      "node_down_mps.1.0.2.bias \t torch.Size([32])\n",
      "node_down_mps.1.0.3.weight \t torch.Size([32, 32])\n",
      "node_down_mps.1.0.3.bias \t torch.Size([32])\n",
      "node_down_mps.1.0.4.weight \t torch.Size([32, 32])\n",
      "node_down_mps.1.0.4.bias \t torch.Size([32])\n",
      "node_down_mps.1.0.5.weight \t torch.Size([32, 32])\n",
      "node_down_mps.1.0.5.bias \t torch.Size([32])\n",
      "node_down_mps.1.1.0.weight \t torch.Size([32, 96])\n",
      "node_down_mps.1.1.0.bias \t torch.Size([32])\n",
      "node_down_mps.1.1.1.weight \t torch.Size([32, 32])\n",
      "node_down_mps.1.1.1.bias \t torch.Size([32])\n",
      "node_down_mps.1.1.2.weight \t torch.Size([32, 32])\n",
      "node_down_mps.1.1.2.bias \t torch.Size([32])\n",
      "node_down_mps.1.1.3.weight \t torch.Size([32, 32])\n",
      "node_down_mps.1.1.3.bias \t torch.Size([32])\n",
      "node_down_mps.1.1.4.weight \t torch.Size([32, 32])\n",
      "node_down_mps.1.1.4.bias \t torch.Size([32])\n",
      "node_down_mps.1.1.5.weight \t torch.Size([32, 32])\n",
      "node_down_mps.1.1.5.bias \t torch.Size([32])\n",
      "node_down_mps.2.0.0.weight \t torch.Size([32, 96])\n",
      "node_down_mps.2.0.0.bias \t torch.Size([32])\n",
      "node_down_mps.2.0.1.weight \t torch.Size([32, 32])\n",
      "node_down_mps.2.0.1.bias \t torch.Size([32])\n",
      "node_down_mps.2.0.2.weight \t torch.Size([32, 32])\n",
      "node_down_mps.2.0.2.bias \t torch.Size([32])\n",
      "node_down_mps.2.0.3.weight \t torch.Size([32, 32])\n",
      "node_down_mps.2.0.3.bias \t torch.Size([32])\n",
      "node_down_mps.2.0.4.weight \t torch.Size([32, 32])\n",
      "node_down_mps.2.0.4.bias \t torch.Size([32])\n",
      "node_down_mps.2.0.5.weight \t torch.Size([32, 32])\n",
      "node_down_mps.2.0.5.bias \t torch.Size([32])\n",
      "node_down_mps.3.0.0.weight \t torch.Size([32, 96])\n",
      "node_down_mps.3.0.0.bias \t torch.Size([32])\n",
      "node_down_mps.3.0.1.weight \t torch.Size([32, 32])\n",
      "node_down_mps.3.0.1.bias \t torch.Size([32])\n",
      "node_down_mps.3.0.2.weight \t torch.Size([32, 32])\n",
      "node_down_mps.3.0.2.bias \t torch.Size([32])\n",
      "node_down_mps.3.0.3.weight \t torch.Size([32, 32])\n",
      "node_down_mps.3.0.3.bias \t torch.Size([32])\n",
      "node_down_mps.3.0.4.weight \t torch.Size([32, 32])\n",
      "node_down_mps.3.0.4.bias \t torch.Size([32])\n",
      "node_down_mps.3.0.5.weight \t torch.Size([32, 32])\n",
      "node_down_mps.3.0.5.bias \t torch.Size([32])\n",
      "node_down_norms.0.0.weight \t torch.Size([32])\n",
      "node_down_norms.0.0.bias \t torch.Size([32])\n",
      "node_down_norms.0.1.weight \t torch.Size([32])\n",
      "node_down_norms.0.1.bias \t torch.Size([32])\n",
      "node_down_norms.1.0.weight \t torch.Size([32])\n",
      "node_down_norms.1.0.bias \t torch.Size([32])\n",
      "node_down_norms.1.1.weight \t torch.Size([32])\n",
      "node_down_norms.1.1.bias \t torch.Size([32])\n",
      "node_down_norms.2.0.weight \t torch.Size([32])\n",
      "node_down_norms.2.0.bias \t torch.Size([32])\n",
      "node_down_norms.3.0.weight \t torch.Size([32])\n",
      "node_down_norms.3.0.bias \t torch.Size([32])\n",
      "edge_up_mps.0.0.0.weight \t torch.Size([32, 96])\n",
      "edge_up_mps.0.0.0.bias \t torch.Size([32])\n",
      "edge_up_mps.0.0.1.weight \t torch.Size([32, 32])\n",
      "edge_up_mps.0.0.1.bias \t torch.Size([32])\n",
      "edge_up_mps.0.0.2.weight \t torch.Size([32, 32])\n",
      "edge_up_mps.0.0.2.bias \t torch.Size([32])\n",
      "edge_up_mps.0.0.3.weight \t torch.Size([32, 32])\n",
      "edge_up_mps.0.0.3.bias \t torch.Size([32])\n",
      "edge_up_mps.0.0.4.weight \t torch.Size([32, 32])\n",
      "edge_up_mps.0.0.4.bias \t torch.Size([32])\n",
      "edge_up_mps.0.0.5.weight \t torch.Size([32, 32])\n",
      "edge_up_mps.0.0.5.bias \t torch.Size([32])\n",
      "edge_up_mps.1.0.0.weight \t torch.Size([32, 96])\n",
      "edge_up_mps.1.0.0.bias \t torch.Size([32])\n",
      "edge_up_mps.1.0.1.weight \t torch.Size([32, 32])\n",
      "edge_up_mps.1.0.1.bias \t torch.Size([32])\n",
      "edge_up_mps.1.0.2.weight \t torch.Size([32, 32])\n",
      "edge_up_mps.1.0.2.bias \t torch.Size([32])\n",
      "edge_up_mps.1.0.3.weight \t torch.Size([32, 32])\n",
      "edge_up_mps.1.0.3.bias \t torch.Size([32])\n",
      "edge_up_mps.1.0.4.weight \t torch.Size([32, 32])\n",
      "edge_up_mps.1.0.4.bias \t torch.Size([32])\n",
      "edge_up_mps.1.0.5.weight \t torch.Size([32, 32])\n",
      "edge_up_mps.1.0.5.bias \t torch.Size([32])\n",
      "edge_up_mps.2.0.0.weight \t torch.Size([32, 96])\n",
      "edge_up_mps.2.0.0.bias \t torch.Size([32])\n",
      "edge_up_mps.2.0.1.weight \t torch.Size([32, 32])\n",
      "edge_up_mps.2.0.1.bias \t torch.Size([32])\n",
      "edge_up_mps.2.0.2.weight \t torch.Size([32, 32])\n",
      "edge_up_mps.2.0.2.bias \t torch.Size([32])\n",
      "edge_up_mps.2.0.3.weight \t torch.Size([32, 32])\n",
      "edge_up_mps.2.0.3.bias \t torch.Size([32])\n",
      "edge_up_mps.2.0.4.weight \t torch.Size([32, 32])\n",
      "edge_up_mps.2.0.4.bias \t torch.Size([32])\n",
      "edge_up_mps.2.0.5.weight \t torch.Size([32, 32])\n",
      "edge_up_mps.2.0.5.bias \t torch.Size([32])\n",
      "edge_up_mps.2.1.0.weight \t torch.Size([32, 96])\n",
      "edge_up_mps.2.1.0.bias \t torch.Size([32])\n",
      "edge_up_mps.2.1.1.weight \t torch.Size([32, 32])\n",
      "edge_up_mps.2.1.1.bias \t torch.Size([32])\n",
      "edge_up_mps.2.1.2.weight \t torch.Size([32, 32])\n",
      "edge_up_mps.2.1.2.bias \t torch.Size([32])\n",
      "edge_up_mps.2.1.3.weight \t torch.Size([32, 32])\n",
      "edge_up_mps.2.1.3.bias \t torch.Size([32])\n",
      "edge_up_mps.2.1.4.weight \t torch.Size([32, 32])\n",
      "edge_up_mps.2.1.4.bias \t torch.Size([32])\n",
      "edge_up_mps.2.1.5.weight \t torch.Size([32, 32])\n",
      "edge_up_mps.2.1.5.bias \t torch.Size([32])\n",
      "edge_up_mps.3.0.0.weight \t torch.Size([32, 96])\n",
      "edge_up_mps.3.0.0.bias \t torch.Size([32])\n",
      "edge_up_mps.3.0.1.weight \t torch.Size([32, 32])\n",
      "edge_up_mps.3.0.1.bias \t torch.Size([32])\n",
      "edge_up_mps.3.0.2.weight \t torch.Size([32, 32])\n",
      "edge_up_mps.3.0.2.bias \t torch.Size([32])\n",
      "edge_up_mps.3.0.3.weight \t torch.Size([32, 32])\n",
      "edge_up_mps.3.0.3.bias \t torch.Size([32])\n",
      "edge_up_mps.3.0.4.weight \t torch.Size([32, 32])\n",
      "edge_up_mps.3.0.4.bias \t torch.Size([32])\n",
      "edge_up_mps.3.0.5.weight \t torch.Size([32, 32])\n",
      "edge_up_mps.3.0.5.bias \t torch.Size([32])\n",
      "edge_up_mps.3.1.0.weight \t torch.Size([32, 96])\n",
      "edge_up_mps.3.1.0.bias \t torch.Size([32])\n",
      "edge_up_mps.3.1.1.weight \t torch.Size([32, 32])\n",
      "edge_up_mps.3.1.1.bias \t torch.Size([32])\n",
      "edge_up_mps.3.1.2.weight \t torch.Size([32, 32])\n",
      "edge_up_mps.3.1.2.bias \t torch.Size([32])\n",
      "edge_up_mps.3.1.3.weight \t torch.Size([32, 32])\n",
      "edge_up_mps.3.1.3.bias \t torch.Size([32])\n",
      "edge_up_mps.3.1.4.weight \t torch.Size([32, 32])\n",
      "edge_up_mps.3.1.4.bias \t torch.Size([32])\n",
      "edge_up_mps.3.1.5.weight \t torch.Size([32, 32])\n",
      "edge_up_mps.3.1.5.bias \t torch.Size([32])\n",
      "edge_up_norms.0.0.weight \t torch.Size([32])\n",
      "edge_up_norms.0.0.bias \t torch.Size([32])\n",
      "edge_up_norms.1.0.weight \t torch.Size([32])\n",
      "edge_up_norms.1.0.bias \t torch.Size([32])\n",
      "edge_up_norms.2.0.weight \t torch.Size([32])\n",
      "edge_up_norms.2.0.bias \t torch.Size([32])\n",
      "edge_up_norms.2.1.weight \t torch.Size([32])\n",
      "edge_up_norms.2.1.bias \t torch.Size([32])\n",
      "edge_up_norms.3.0.weight \t torch.Size([32])\n",
      "edge_up_norms.3.0.bias \t torch.Size([32])\n",
      "edge_up_norms.3.1.weight \t torch.Size([32])\n",
      "edge_up_norms.3.1.bias \t torch.Size([32])\n",
      "node_up_mps.0.0.0.weight \t torch.Size([32, 96])\n",
      "node_up_mps.0.0.0.bias \t torch.Size([32])\n",
      "node_up_mps.0.0.1.weight \t torch.Size([32, 32])\n",
      "node_up_mps.0.0.1.bias \t torch.Size([32])\n",
      "node_up_mps.0.0.2.weight \t torch.Size([32, 32])\n",
      "node_up_mps.0.0.2.bias \t torch.Size([32])\n",
      "node_up_mps.0.0.3.weight \t torch.Size([32, 32])\n",
      "node_up_mps.0.0.3.bias \t torch.Size([32])\n",
      "node_up_mps.0.0.4.weight \t torch.Size([32, 32])\n",
      "node_up_mps.0.0.4.bias \t torch.Size([32])\n",
      "node_up_mps.0.0.5.weight \t torch.Size([32, 32])\n",
      "node_up_mps.0.0.5.bias \t torch.Size([32])\n",
      "node_up_mps.1.0.0.weight \t torch.Size([32, 96])\n",
      "node_up_mps.1.0.0.bias \t torch.Size([32])\n",
      "node_up_mps.1.0.1.weight \t torch.Size([32, 32])\n",
      "node_up_mps.1.0.1.bias \t torch.Size([32])\n",
      "node_up_mps.1.0.2.weight \t torch.Size([32, 32])\n",
      "node_up_mps.1.0.2.bias \t torch.Size([32])\n",
      "node_up_mps.1.0.3.weight \t torch.Size([32, 32])\n",
      "node_up_mps.1.0.3.bias \t torch.Size([32])\n",
      "node_up_mps.1.0.4.weight \t torch.Size([32, 32])\n",
      "node_up_mps.1.0.4.bias \t torch.Size([32])\n",
      "node_up_mps.1.0.5.weight \t torch.Size([32, 32])\n",
      "node_up_mps.1.0.5.bias \t torch.Size([32])\n",
      "node_up_mps.2.0.0.weight \t torch.Size([32, 96])\n",
      "node_up_mps.2.0.0.bias \t torch.Size([32])\n",
      "node_up_mps.2.0.1.weight \t torch.Size([32, 32])\n",
      "node_up_mps.2.0.1.bias \t torch.Size([32])\n",
      "node_up_mps.2.0.2.weight \t torch.Size([32, 32])\n",
      "node_up_mps.2.0.2.bias \t torch.Size([32])\n",
      "node_up_mps.2.0.3.weight \t torch.Size([32, 32])\n",
      "node_up_mps.2.0.3.bias \t torch.Size([32])\n",
      "node_up_mps.2.0.4.weight \t torch.Size([32, 32])\n",
      "node_up_mps.2.0.4.bias \t torch.Size([32])\n",
      "node_up_mps.2.0.5.weight \t torch.Size([32, 32])\n",
      "node_up_mps.2.0.5.bias \t torch.Size([32])\n",
      "node_up_mps.2.1.0.weight \t torch.Size([32, 96])\n",
      "node_up_mps.2.1.0.bias \t torch.Size([32])\n",
      "node_up_mps.2.1.1.weight \t torch.Size([32, 32])\n",
      "node_up_mps.2.1.1.bias \t torch.Size([32])\n",
      "node_up_mps.2.1.2.weight \t torch.Size([32, 32])\n",
      "node_up_mps.2.1.2.bias \t torch.Size([32])\n",
      "node_up_mps.2.1.3.weight \t torch.Size([32, 32])\n",
      "node_up_mps.2.1.3.bias \t torch.Size([32])\n",
      "node_up_mps.2.1.4.weight \t torch.Size([32, 32])\n",
      "node_up_mps.2.1.4.bias \t torch.Size([32])\n",
      "node_up_mps.2.1.5.weight \t torch.Size([32, 32])\n",
      "node_up_mps.2.1.5.bias \t torch.Size([32])\n",
      "node_up_mps.3.0.0.weight \t torch.Size([32, 64])\n",
      "node_up_mps.3.0.0.bias \t torch.Size([32])\n",
      "node_up_mps.3.0.1.weight \t torch.Size([32, 32])\n",
      "node_up_mps.3.0.1.bias \t torch.Size([32])\n",
      "node_up_mps.3.0.2.weight \t torch.Size([32, 32])\n",
      "node_up_mps.3.0.2.bias \t torch.Size([32])\n",
      "node_up_mps.3.0.3.weight \t torch.Size([32, 32])\n",
      "node_up_mps.3.0.3.bias \t torch.Size([32])\n",
      "node_up_mps.3.0.4.weight \t torch.Size([32, 32])\n",
      "node_up_mps.3.0.4.bias \t torch.Size([32])\n",
      "node_up_mps.3.0.5.weight \t torch.Size([32, 32])\n",
      "node_up_mps.3.0.5.bias \t torch.Size([32])\n",
      "node_up_mps.3.1.0.weight \t torch.Size([32, 64])\n",
      "node_up_mps.3.1.0.bias \t torch.Size([32])\n",
      "node_up_mps.3.1.1.weight \t torch.Size([32, 32])\n",
      "node_up_mps.3.1.1.bias \t torch.Size([32])\n",
      "node_up_mps.3.1.2.weight \t torch.Size([32, 32])\n",
      "node_up_mps.3.1.2.bias \t torch.Size([32])\n",
      "node_up_mps.3.1.3.weight \t torch.Size([32, 32])\n",
      "node_up_mps.3.1.3.bias \t torch.Size([32])\n",
      "node_up_mps.3.1.4.weight \t torch.Size([32, 32])\n",
      "node_up_mps.3.1.4.bias \t torch.Size([32])\n",
      "node_up_mps.3.1.5.weight \t torch.Size([32, 32])\n",
      "node_up_mps.3.1.5.bias \t torch.Size([32])\n",
      "node_up_norms.0.0.weight \t torch.Size([32])\n",
      "node_up_norms.0.0.bias \t torch.Size([32])\n",
      "node_up_norms.1.0.weight \t torch.Size([32])\n",
      "node_up_norms.1.0.bias \t torch.Size([32])\n",
      "node_up_norms.2.0.weight \t torch.Size([32])\n",
      "node_up_norms.2.0.bias \t torch.Size([32])\n",
      "node_up_norms.2.1.weight \t torch.Size([32])\n",
      "node_up_norms.2.1.bias \t torch.Size([32])\n",
      "node_up_norms.3.0.weight \t torch.Size([32])\n",
      "node_up_norms.3.0.bias \t torch.Size([32])\n",
      "node_up_norms.3.1.weight \t torch.Size([32])\n",
      "node_up_norms.3.1.bias \t torch.Size([32])\n",
      "autoencode_down.0.0.0.weight \t torch.Size([300, 86400])\n",
      "autoencode_down.0.0.0.bias \t torch.Size([300])\n",
      "autoencode_down.0.0.1.weight \t torch.Size([128, 300])\n",
      "autoencode_down.0.0.1.bias \t torch.Size([128])\n",
      "autoencode_down.0.0.2.weight \t torch.Size([64, 128])\n",
      "autoencode_down.0.0.2.bias \t torch.Size([64])\n",
      "autoencode_down.0.0.3.weight \t torch.Size([32, 64])\n",
      "autoencode_down.0.0.3.bias \t torch.Size([32])\n",
      "autoencode_down.0.1.0.weight \t torch.Size([300, 86400])\n",
      "autoencode_down.0.1.0.bias \t torch.Size([300])\n",
      "autoencode_down.0.1.1.weight \t torch.Size([128, 300])\n",
      "autoencode_down.0.1.1.bias \t torch.Size([128])\n",
      "autoencode_down.0.1.2.weight \t torch.Size([64, 128])\n",
      "autoencode_down.0.1.2.bias \t torch.Size([64])\n",
      "autoencode_down.0.1.3.weight \t torch.Size([32, 64])\n",
      "autoencode_down.0.1.3.bias \t torch.Size([32])\n",
      "autoencode_down.1.0.0.weight \t torch.Size([300, 64000])\n",
      "autoencode_down.1.0.0.bias \t torch.Size([300])\n",
      "autoencode_down.1.0.1.weight \t torch.Size([128, 300])\n",
      "autoencode_down.1.0.1.bias \t torch.Size([128])\n",
      "autoencode_down.1.0.2.weight \t torch.Size([64, 128])\n",
      "autoencode_down.1.0.2.bias \t torch.Size([64])\n",
      "autoencode_down.1.0.3.weight \t torch.Size([32, 64])\n",
      "autoencode_down.1.0.3.bias \t torch.Size([32])\n",
      "autoencode_down.2.0.0.weight \t torch.Size([300, 44800])\n",
      "autoencode_down.2.0.0.bias \t torch.Size([300])\n",
      "autoencode_down.2.0.1.weight \t torch.Size([128, 300])\n",
      "autoencode_down.2.0.1.bias \t torch.Size([128])\n",
      "autoencode_down.2.0.2.weight \t torch.Size([64, 128])\n",
      "autoencode_down.2.0.2.bias \t torch.Size([64])\n",
      "autoencode_down.2.0.3.weight \t torch.Size([32, 64])\n",
      "autoencode_down.2.0.3.bias \t torch.Size([32])\n",
      "attn_score_down.0.0.weight \t torch.Size([1, 64])\n",
      "attn_score_down.0.1.weight \t torch.Size([1, 64])\n",
      "attn_score_down.1.0.weight \t torch.Size([1, 64])\n",
      "attn_score_down.2.0.weight \t torch.Size([1, 64])\n",
      "autoencode_up.0.0.0.weight \t torch.Size([300, 44800])\n",
      "autoencode_up.0.0.0.bias \t torch.Size([300])\n",
      "autoencode_up.0.0.1.weight \t torch.Size([128, 300])\n",
      "autoencode_up.0.0.1.bias \t torch.Size([128])\n",
      "autoencode_up.0.0.2.weight \t torch.Size([64, 128])\n",
      "autoencode_up.0.0.2.bias \t torch.Size([64])\n",
      "autoencode_up.0.0.3.weight \t torch.Size([32, 64])\n",
      "autoencode_up.0.0.3.bias \t torch.Size([32])\n",
      "autoencode_up.1.0.0.weight \t torch.Size([300, 64000])\n",
      "autoencode_up.1.0.0.bias \t torch.Size([300])\n",
      "autoencode_up.1.0.1.weight \t torch.Size([128, 300])\n",
      "autoencode_up.1.0.1.bias \t torch.Size([128])\n",
      "autoencode_up.1.0.2.weight \t torch.Size([64, 128])\n",
      "autoencode_up.1.0.2.bias \t torch.Size([64])\n",
      "autoencode_up.1.0.3.weight \t torch.Size([32, 64])\n",
      "autoencode_up.1.0.3.bias \t torch.Size([32])\n",
      "autoencode_up.2.0.0.weight \t torch.Size([300, 86400])\n",
      "autoencode_up.2.0.0.bias \t torch.Size([300])\n",
      "autoencode_up.2.0.1.weight \t torch.Size([128, 300])\n",
      "autoencode_up.2.0.1.bias \t torch.Size([128])\n",
      "autoencode_up.2.0.2.weight \t torch.Size([64, 128])\n",
      "autoencode_up.2.0.2.bias \t torch.Size([64])\n",
      "autoencode_up.2.0.3.weight \t torch.Size([32, 64])\n",
      "autoencode_up.2.0.3.bias \t torch.Size([32])\n",
      "autoencode_up.2.1.0.weight \t torch.Size([300, 86400])\n",
      "autoencode_up.2.1.0.bias \t torch.Size([300])\n",
      "autoencode_up.2.1.1.weight \t torch.Size([128, 300])\n",
      "autoencode_up.2.1.1.bias \t torch.Size([128])\n",
      "autoencode_up.2.1.2.weight \t torch.Size([64, 128])\n",
      "autoencode_up.2.1.2.bias \t torch.Size([64])\n",
      "autoencode_up.2.1.3.weight \t torch.Size([32, 64])\n",
      "autoencode_up.2.1.3.bias \t torch.Size([32])\n",
      "attn_score_up.0.0.weight \t torch.Size([1, 64])\n",
      "attn_score_up.1.0.weight \t torch.Size([1, 64])\n",
      "attn_score_up.2.0.weight \t torch.Size([1, 64])\n",
      "attn_score_up.2.1.weight \t torch.Size([1, 64])\n",
      "node_decode.0.weight \t torch.Size([32, 32])\n",
      "node_decode.0.bias \t torch.Size([32])\n",
      "node_decode.1.weight \t torch.Size([32, 32])\n",
      "node_decode.1.bias \t torch.Size([32])\n",
      "node_decode.2.weight \t torch.Size([32, 32])\n",
      "node_decode.2.bias \t torch.Size([32])\n",
      "node_decode.3.weight \t torch.Size([2, 32])\n",
      "node_decode.3.bias \t torch.Size([2])\n"
     ]
    },
    {
     "data": {
      "image/png": "[encoded data removed]",
      "text/plain": [
       "<Figure size 432x288 with 1 Axes>"
      ]
     },
     "metadata": {
      "needs_background": "light"
     },
     "output_type": "display_data"
    }
   ],
   "source": [
    "SEED = 42\n",
    "torch.manual_seed(SEED)\n",
    "torch.cuda.manual_seed_all(SEED)\n",
    "np.random.seed(SEED)\n",
    "random.seed(SEED)        #Python\n",
    "device = 'cuda' if torch.cuda.is_available() else 'cpu'    #cuda\n",
    "#perm_list=torch.load(dataset_dir+'/perm_list.pt')\n",
    "perm_list=torch.load(dataset_dir+'/perm_list_150.pt')\n",
    "\n",
    "print(device)\n",
    "for i in range(len(perm_list[0])):\n",
    "   \n",
    "    perm_list[0][i]=perm_list[0][i].to(device)\n",
    "print(perm_list[0][0].device)\n",
    "\n",
    "pathE='/root/data1/bubble_EMD/Encode_state_dict.pt'\n",
    "pathD='/root/data1/bubble_EMD/Decode_state_dict.pt'\n",
    "pathED = '/root/data1/bubble_EMD/ED_state_dict.pt'\n",
    "epochs = 200\n",
    "\n",
    "file_path= dataset_dir+'/meshgraphnets_miniset'+str(per_t)+str(batch_size)+str(number_trajectories)+'traj'+str(satart_number_ts)+str(number_ts)+'ts_vis.pt'\n",
    "dataset = torch.load(file_path)\n",
    "print(len(dataset))\n",
    "EDstats_list = get_EDstats(dataset)\n",
    "\n",
    "[EDmean_vec_x,EDstd_vec_x,EDmean_vec_edge,EDstd_vec_edge] = EDstats_list\n",
    "torch.save(EDstats_list,dataset_dir+'/EDstats_list.pt')\n",
    "\n",
    "(EDmean_vec_x,EDstd_vec_x,EDmean_vec_edge,EDstd_vec_edge)=(EDmean_vec_x.to(device),\n",
    "        EDstd_vec_x.to(device),EDmean_vec_edge.to(device),EDstd_vec_edge.to(device))\n",
    "\n",
    "train_size=7        #改\n",
    "train_loader = DataLoader(dataset[:train_size],  shuffle=False)\n",
    "valid_loader = DataLoader(dataset[train_size:], shuffle=False)#分一下训练数据和验证数据\n",
    "\n",
    "\n",
    "sample = dataset[:train_size][0]\n",
    "\n",
    "in_channels_node = sample.x.shape[1]  #2\n",
    "in_channels_edge = sample.edge_attr.shape[1]  #3\n",
    "hidden_channels = 32    #22#12\n",
    "out_channels = in_channels_node\n",
    "batch_size =25       #改\n",
    "n_mlp_encode = 4\n",
    "n_mlp_mp = 6#5\n",
    "encoding_dim=32\n",
    "ae_dim=[300,128,64,32]#[128,64,32,16,10]\n",
    "n_mp_down = [2,2,1,1]\n",
    "n_mp_up= [1,1,2,2]\n",
    "pool_num =[2700,2000,1400]#[2000,1500,1200,1000][2000,1600,1400,1000]\n",
    "\n",
    "act = F.elu\n",
    "param_sharing = False\n",
    "\n",
    "model = MessagePassing_Autoencode_attn(\n",
    "                hidden_channels,\n",
    "                in_channels_node,\n",
    "                in_channels_edge,\n",
    "                \n",
    "                out_channels,\n",
    "                encoding_dim,\n",
    "                n_mlp_mp,\n",
    "                n_mlp_encode,\n",
    "\n",
    "                ae_dim,\n",
    "                n_mp_down,\n",
    "                n_mp_up,\n",
    "                pool_num,\n",
    "                \n",
    "                act,\n",
    "                \n",
    "                name='gnn_topk')\n",
    "\n",
    "model.to(device)\n",
    "#model.load_state_dict(torch.load(pathED), strict=False)\n",
    "train_hist, test_hist=train(epochs, model, perm_list,train_loader, valid_loader,per_t,batch_size,\n",
    "                            EDmean_vec_x,EDstd_vec_x,EDmean_vec_edge,EDstd_vec_edge,pathED,pathD,pathE)\n",
    "plot_dir='/root/data1/bubble_EMD/loss/'\n",
    "save_DEplots(train_hist, test_hist,plot_dir)"
   ]
  },
  {
   "cell_type": "code",
   "execution_count": 3,
   "metadata": {},
   "outputs": [
    {
     "name": "stdout",
     "output_type": "stream",
     "text": [
      "cuda\n",
      "cuda:0\n",
      "8\n"
     ]
    },
    {
     "name": "stderr",
     "output_type": "stream",
     "text": [
      "/usr/local/lib/python3.8/dist-packages/torch_geometric/deprecation.py:12: UserWarning: 'data.DataLoader' is deprecated, use 'loader.DataLoader' instead\n",
      "  warnings.warn(out)\n",
      "Training:   0%|          | 1/200 [00:44<2:27:25, 44.45s/Epochs]"
     ]
    },
    {
     "name": "stdout",
     "output_type": "stream",
     "text": [
      "Epoch: 0000,\tTrain mse: 0.03789627,\tTrain_RMSE: 0.18043524,\tTrain_acc: 0.18026893,\tTest mse: 0.01348684,\tTime: 44.44731426s\n"
     ]
    },
    {
     "name": "stderr",
     "output_type": "stream",
     "text": [
      "Training:   2%|▏         | 3/200 [02:13<2:25:59, 44.46s/Epochs]"
     ]
    },
    {
     "name": "stdout",
     "output_type": "stream",
     "text": [
      "Epoch: 0002,\tTrain mse: 0.01448815,\tTrain_RMSE: 0.11925279,\tTrain_acc: 0.11930196,\tTest mse: 0.01478556,\tTime: 44.79496169s\n"
     ]
    },
    {
     "name": "stderr",
     "output_type": "stream",
     "text": [
      "Training:   2%|▎         | 5/200 [03:41<2:24:14, 44.38s/Epochs]"
     ]
    },
    {
     "name": "stdout",
     "output_type": "stream",
     "text": [
      "Epoch: 0004,\tTrain mse: 0.00959844,\tTrain_RMSE: 0.09787181,\tTrain_acc: 0.09787662,\tTest mse: 0.00864238,\tTime: 45.39447904s\n"
     ]
    },
    {
     "name": "stderr",
     "output_type": "stream",
     "text": [
      "Training:   4%|▎         | 7/200 [05:10<2:23:02, 44.47s/Epochs]"
     ]
    },
    {
     "name": "stdout",
     "output_type": "stream",
     "text": [
      "Epoch: 0006,\tTrain mse: 0.00836352,\tTrain_RMSE: 0.09144580,\tTrain_acc: 0.09144579,\tTest mse: 0.00839268,\tTime: 44.42085981s\n"
     ]
    },
    {
     "name": "stderr",
     "output_type": "stream",
     "text": [
      "Training:   4%|▍         | 9/200 [06:38<2:20:21, 44.09s/Epochs]"
     ]
    },
    {
     "name": "stdout",
     "output_type": "stream",
     "text": [
      "Epoch: 0008,\tTrain mse: 0.00807505,\tTrain_RMSE: 0.08985265,\tTrain_acc: 0.08985189,\tTest mse: 0.00800673,\tTime: 43.79949450s\n"
     ]
    },
    {
     "name": "stderr",
     "output_type": "stream",
     "text": [
      "Training:   6%|▌         | 11/200 [08:06<2:18:38, 44.01s/Epochs]"
     ]
    },
    {
     "name": "stdout",
     "output_type": "stream",
     "text": [
      "Epoch: 0010,\tTrain mse: 0.00797833,\tTrain_RMSE: 0.08931345,\tTrain_acc: 0.08931264,\tTest mse: 0.00793308,\tTime: 42.71037769s\n"
     ]
    },
    {
     "name": "stderr",
     "output_type": "stream",
     "text": [
      "Training:   6%|▋         | 13/200 [09:39<2:21:33, 45.42s/Epochs]"
     ]
    },
    {
     "name": "stdout",
     "output_type": "stream",
     "text": [
      "Epoch: 0012,\tTrain mse: 0.00791359,\tTrain_RMSE: 0.08895066,\tTrain_acc: 0.08894971,\tTest mse: 0.00787842,\tTime: 46.98596501s\n"
     ]
    },
    {
     "name": "stderr",
     "output_type": "stream",
     "text": [
      "Training:   8%|▊         | 15/200 [11:08<2:17:55, 44.73s/Epochs]"
     ]
    },
    {
     "name": "stdout",
     "output_type": "stream",
     "text": [
      "Epoch: 0014,\tTrain mse: 0.00786585,\tTrain_RMSE: 0.08868184,\tTrain_acc: 0.08868088,\tTest mse: 0.00783267,\tTime: 43.69189095s\n"
     ]
    },
    {
     "name": "stderr",
     "output_type": "stream",
     "text": [
      "Training:   8%|▊         | 17/200 [12:37<2:16:33, 44.77s/Epochs]"
     ]
    },
    {
     "name": "stdout",
     "output_type": "stream",
     "text": [
      "Epoch: 0016,\tTrain mse: 0.00782458,\tTrain_RMSE: 0.08844892,\tTrain_acc: 0.08844798,\tTest mse: 0.00778962,\tTime: 45.31643724s\n"
     ]
    },
    {
     "name": "stderr",
     "output_type": "stream",
     "text": [
      "Training:  10%|▉         | 19/200 [14:09<2:16:50, 45.36s/Epochs]"
     ]
    },
    {
     "name": "stdout",
     "output_type": "stream",
     "text": [
      "Epoch: 0018,\tTrain mse: 0.00778053,\tTrain_RMSE: 0.08819959,\tTrain_acc: 0.08819864,\tTest mse: 0.00774445,\tTime: 46.30715466s\n"
     ]
    },
    {
     "name": "stderr",
     "output_type": "stream",
     "text": [
      "Training:  10%|█         | 21/200 [15:39<2:15:16, 45.34s/Epochs]"
     ]
    },
    {
     "name": "stdout",
     "output_type": "stream",
     "text": [
      "Epoch: 0020,\tTrain mse: 0.00773617,\tTrain_RMSE: 0.08794786,\tTrain_acc: 0.08794692,\tTest mse: 0.00770136,\tTime: 45.89549589s\n"
     ]
    },
    {
     "name": "stderr",
     "output_type": "stream",
     "text": [
      "Training:  12%|█▏        | 23/200 [17:12<2:15:31, 45.94s/Epochs]"
     ]
    },
    {
     "name": "stdout",
     "output_type": "stream",
     "text": [
      "Epoch: 0022,\tTrain mse: 0.00769341,\tTrain_RMSE: 0.08770452,\tTrain_acc: 0.08770364,\tTest mse: 0.00765983,\tTime: 47.29850793s\n"
     ]
    },
    {
     "name": "stderr",
     "output_type": "stream",
     "text": [
      "Training:  12%|█▎        | 25/200 [18:41<2:11:47, 45.18s/Epochs]"
     ]
    },
    {
     "name": "stdout",
     "output_type": "stream",
     "text": [
      "Epoch: 0024,\tTrain mse: 0.00765097,\tTrain_RMSE: 0.08746239,\tTrain_acc: 0.08746152,\tTest mse: 0.00761648,\tTime: 44.70537496s\n"
     ]
    },
    {
     "name": "stderr",
     "output_type": "stream",
     "text": [
      "Training:  14%|█▎        | 27/200 [20:11<2:10:15, 45.18s/Epochs]"
     ]
    },
    {
     "name": "stdout",
     "output_type": "stream",
     "text": [
      "Epoch: 0026,\tTrain mse: 0.00760715,\tTrain_RMSE: 0.08721164,\tTrain_acc: 0.08721081,\tTest mse: 0.00757051,\tTime: 44.78803778s\n"
     ]
    },
    {
     "name": "stderr",
     "output_type": "stream",
     "text": [
      "Training:  14%|█▍        | 29/200 [21:40<2:07:33, 44.76s/Epochs]"
     ]
    },
    {
     "name": "stdout",
     "output_type": "stream",
     "text": [
      "Epoch: 0028,\tTrain mse: 0.00756398,\tTrain_RMSE: 0.08696389,\tTrain_acc: 0.08696308,\tTest mse: 0.00752140,\tTime: 44.53442550s\n"
     ]
    },
    {
     "name": "stderr",
     "output_type": "stream",
     "text": [
      "Training:  16%|█▌        | 31/200 [23:11<2:06:55, 45.06s/Epochs]"
     ]
    },
    {
     "name": "stdout",
     "output_type": "stream",
     "text": [
      "Epoch: 0030,\tTrain mse: 0.00751917,\tTrain_RMSE: 0.08670588,\tTrain_acc: 0.08670501,\tTest mse: 0.00747367,\tTime: 44.49616647s\n"
     ]
    },
    {
     "name": "stderr",
     "output_type": "stream",
     "text": [
      "Training:  16%|█▋        | 33/200 [24:42<2:05:53, 45.23s/Epochs]"
     ]
    },
    {
     "name": "stdout",
     "output_type": "stream",
     "text": [
      "Epoch: 0032,\tTrain mse: 0.00747260,\tTrain_RMSE: 0.08643702,\tTrain_acc: 0.08643616,\tTest mse: 0.00742902,\tTime: 45.39495254s\n"
     ]
    },
    {
     "name": "stderr",
     "output_type": "stream",
     "text": [
      "Training:  18%|█▊        | 35/200 [26:17<2:08:14, 46.64s/Epochs]"
     ]
    },
    {
     "name": "stdout",
     "output_type": "stream",
     "text": [
      "Epoch: 0034,\tTrain mse: 0.00742496,\tTrain_RMSE: 0.08616107,\tTrain_acc: 0.08616024,\tTest mse: 0.00738291,\tTime: 48.59754014s\n"
     ]
    },
    {
     "name": "stderr",
     "output_type": "stream",
     "text": [
      "Training:  18%|█▊        | 37/200 [27:49<2:05:57, 46.36s/Epochs]"
     ]
    },
    {
     "name": "stdout",
     "output_type": "stream",
     "text": [
      "Epoch: 0036,\tTrain mse: 0.00738054,\tTrain_RMSE: 0.08590292,\tTrain_acc: 0.08590207,\tTest mse: 0.00733567,\tTime: 47.50753498s\n"
     ]
    },
    {
     "name": "stderr",
     "output_type": "stream",
     "text": [
      "Training:  20%|█▉        | 39/200 [29:23<2:05:29, 46.77s/Epochs]"
     ]
    },
    {
     "name": "stdout",
     "output_type": "stream",
     "text": [
      "Epoch: 0038,\tTrain mse: 0.00733551,\tTrain_RMSE: 0.08564046,\tTrain_acc: 0.08563963,\tTest mse: 0.00729224,\tTime: 47.20447969s\n"
     ]
    },
    {
     "name": "stderr",
     "output_type": "stream",
     "text": [
      "Training:  20%|██        | 41/200 [30:57<2:03:43, 46.69s/Epochs]"
     ]
    },
    {
     "name": "stdout",
     "output_type": "stream",
     "text": [
      "Epoch: 0040,\tTrain mse: 0.00729014,\tTrain_RMSE: 0.08537520,\tTrain_acc: 0.08537439,\tTest mse: 0.00724638,\tTime: 45.99414229s\n"
     ]
    },
    {
     "name": "stderr",
     "output_type": "stream",
     "text": [
      "Training:  22%|██▏       | 43/200 [32:32<2:03:23, 47.16s/Epochs]"
     ]
    },
    {
     "name": "stdout",
     "output_type": "stream",
     "text": [
      "Epoch: 0042,\tTrain mse: 0.00724734,\tTrain_RMSE: 0.08512421,\tTrain_acc: 0.08512343,\tTest mse: 0.00720305,\tTime: 47.89764428s\n"
     ]
    },
    {
     "name": "stderr",
     "output_type": "stream",
     "text": [
      "Training:  22%|██▎       | 45/200 [34:04<2:00:25, 46.61s/Epochs]"
     ]
    },
    {
     "name": "stdout",
     "output_type": "stream",
     "text": [
      "Epoch: 0044,\tTrain mse: 0.00720381,\tTrain_RMSE: 0.08486821,\tTrain_acc: 0.08486743,\tTest mse: 0.00716154,\tTime: 45.51899505s\n"
     ]
    },
    {
     "name": "stderr",
     "output_type": "stream",
     "text": [
      "Training:  24%|██▎       | 47/200 [35:34<1:56:27, 45.67s/Epochs]"
     ]
    },
    {
     "name": "stdout",
     "output_type": "stream",
     "text": [
      "Epoch: 0046,\tTrain mse: 0.00716266,\tTrain_RMSE: 0.08462539,\tTrain_acc: 0.08462462,\tTest mse: 0.00712067,\tTime: 45.10503960s\n"
     ]
    },
    {
     "name": "stderr",
     "output_type": "stream",
     "text": [
      "Training:  24%|██▍       | 49/200 [37:06<1:55:58, 46.08s/Epochs]"
     ]
    },
    {
     "name": "stdout",
     "output_type": "stream",
     "text": [
      "Epoch: 0048,\tTrain mse: 0.00712061,\tTrain_RMSE: 0.08437664,\tTrain_acc: 0.08437589,\tTest mse: 0.00707779,\tTime: 47.57798815s\n"
     ]
    },
    {
     "name": "stderr",
     "output_type": "stream",
     "text": [
      "Training:  26%|██▌       | 51/200 [38:40<1:55:31, 46.52s/Epochs]"
     ]
    },
    {
     "name": "stdout",
     "output_type": "stream",
     "text": [
      "Epoch: 0050,\tTrain mse: 0.00707998,\tTrain_RMSE: 0.08413566,\tTrain_acc: 0.08413494,\tTest mse: 0.00703763,\tTime: 46.88491297s\n"
     ]
    },
    {
     "name": "stderr",
     "output_type": "stream",
     "text": [
      "Training:  26%|██▋       | 53/200 [40:15<1:55:21, 47.09s/Epochs]"
     ]
    },
    {
     "name": "stdout",
     "output_type": "stream",
     "text": [
      "Epoch: 0052,\tTrain mse: 0.00704034,\tTrain_RMSE: 0.08389972,\tTrain_acc: 0.08389901,\tTest mse: 0.00699320,\tTime: 48.21677113s\n"
     ]
    },
    {
     "name": "stderr",
     "output_type": "stream",
     "text": [
      "Training:  28%|██▊       | 55/200 [41:48<1:53:14, 46.86s/Epochs]"
     ]
    },
    {
     "name": "stdout",
     "output_type": "stream",
     "text": [
      "Epoch: 0054,\tTrain mse: 0.00699809,\tTrain_RMSE: 0.08364766,\tTrain_acc: 0.08364694,\tTest mse: 0.00694888,\tTime: 47.09838080s\n"
     ]
    },
    {
     "name": "stderr",
     "output_type": "stream",
     "text": [
      "Training:  28%|██▊       | 57/200 [43:19<1:49:49, 46.08s/Epochs]"
     ]
    },
    {
     "name": "stdout",
     "output_type": "stream",
     "text": [
      "Epoch: 0056,\tTrain mse: 0.00695675,\tTrain_RMSE: 0.08340016,\tTrain_acc: 0.08339944,\tTest mse: 0.00690718,\tTime: 44.28279614s\n"
     ]
    },
    {
     "name": "stderr",
     "output_type": "stream",
     "text": [
      "Training:  30%|██▉       | 59/200 [44:54<1:50:07, 46.86s/Epochs]"
     ]
    },
    {
     "name": "stdout",
     "output_type": "stream",
     "text": [
      "Epoch: 0058,\tTrain mse: 0.00691674,\tTrain_RMSE: 0.08315999,\tTrain_acc: 0.08315925,\tTest mse: 0.00686676,\tTime: 48.60281610s\n"
     ]
    },
    {
     "name": "stderr",
     "output_type": "stream",
     "text": [
      "Training:  30%|███       | 61/200 [46:32<1:51:14, 48.02s/Epochs]"
     ]
    },
    {
     "name": "stdout",
     "output_type": "stream",
     "text": [
      "Epoch: 0060,\tTrain mse: 0.00687581,\tTrain_RMSE: 0.08291355,\tTrain_acc: 0.08291283,\tTest mse: 0.00682632,\tTime: 50.69930434s\n"
     ]
    },
    {
     "name": "stderr",
     "output_type": "stream",
     "text": [
      "Training:  32%|███▏      | 63/200 [48:08<1:50:02, 48.20s/Epochs]"
     ]
    },
    {
     "name": "stdout",
     "output_type": "stream",
     "text": [
      "Epoch: 0062,\tTrain mse: 0.00683699,\tTrain_RMSE: 0.08267920,\tTrain_acc: 0.08267848,\tTest mse: 0.00678541,\tTime: 48.19547486s\n"
     ]
    },
    {
     "name": "stderr",
     "output_type": "stream",
     "text": [
      "Training:  32%|███▎      | 65/200 [49:37<1:44:07, 46.27s/Epochs]"
     ]
    },
    {
     "name": "stdout",
     "output_type": "stream",
     "text": [
      "Epoch: 0064,\tTrain mse: 0.00679864,\tTrain_RMSE: 0.08244697,\tTrain_acc: 0.08244625,\tTest mse: 0.00674676,\tTime: 45.00894737s\n"
     ]
    },
    {
     "name": "stderr",
     "output_type": "stream",
     "text": [
      "Training:  34%|███▎      | 67/200 [51:13<1:44:22, 47.08s/Epochs]"
     ]
    },
    {
     "name": "stdout",
     "output_type": "stream",
     "text": [
      "Epoch: 0066,\tTrain mse: 0.00676077,\tTrain_RMSE: 0.08221691,\tTrain_acc: 0.08221619,\tTest mse: 0.00670789,\tTime: 47.82007480s\n"
     ]
    },
    {
     "name": "stderr",
     "output_type": "stream",
     "text": [
      "Training:  34%|███▍      | 69/200 [52:48<1:43:25, 47.37s/Epochs]"
     ]
    },
    {
     "name": "stdout",
     "output_type": "stream",
     "text": [
      "Epoch: 0068,\tTrain mse: 0.00672321,\tTrain_RMSE: 0.08198821,\tTrain_acc: 0.08198749,\tTest mse: 0.00666847,\tTime: 47.40335631s\n"
     ]
    },
    {
     "name": "stderr",
     "output_type": "stream",
     "text": [
      "Training:  36%|███▌      | 71/200 [54:26<1:43:35, 48.18s/Epochs]"
     ]
    },
    {
     "name": "stdout",
     "output_type": "stream",
     "text": [
      "Epoch: 0070,\tTrain mse: 0.00668590,\tTrain_RMSE: 0.08176040,\tTrain_acc: 0.08175969,\tTest mse: 0.00663118,\tTime: 49.29139614s\n"
     ]
    },
    {
     "name": "stderr",
     "output_type": "stream",
     "text": [
      "Training:  36%|███▋      | 73/200 [55:57<1:38:59, 46.77s/Epochs]"
     ]
    },
    {
     "name": "stdout",
     "output_type": "stream",
     "text": [
      "Epoch: 0072,\tTrain mse: 0.00664939,\tTrain_RMSE: 0.08153683,\tTrain_acc: 0.08153611,\tTest mse: 0.00659299,\tTime: 45.90356565s\n"
     ]
    },
    {
     "name": "stderr",
     "output_type": "stream",
     "text": [
      "Training:  38%|███▊      | 75/200 [57:32<1:38:28, 47.27s/Epochs]"
     ]
    },
    {
     "name": "stdout",
     "output_type": "stream",
     "text": [
      "Epoch: 0074,\tTrain mse: 0.00661359,\tTrain_RMSE: 0.08131703,\tTrain_acc: 0.08131631,\tTest mse: 0.00655560,\tTime: 46.72396564s\n"
     ]
    },
    {
     "name": "stderr",
     "output_type": "stream",
     "text": [
      "Training:  38%|███▊      | 77/200 [59:00<1:33:28, 45.59s/Epochs]"
     ]
    },
    {
     "name": "stdout",
     "output_type": "stream",
     "text": [
      "Epoch: 0076,\tTrain mse: 0.00657607,\tTrain_RMSE: 0.08108608,\tTrain_acc: 0.08108538,\tTest mse: 0.00651971,\tTime: 43.90783095s\n"
     ]
    },
    {
     "name": "stderr",
     "output_type": "stream",
     "text": [
      "Training:  40%|███▉      | 79/200 [1:00:33<1:32:49, 46.03s/Epochs]"
     ]
    },
    {
     "name": "stdout",
     "output_type": "stream",
     "text": [
      "Epoch: 0078,\tTrain mse: 0.00654075,\tTrain_RMSE: 0.08086791,\tTrain_acc: 0.08086720,\tTest mse: 0.00648254,\tTime: 46.91247201s\n"
     ]
    },
    {
     "name": "stderr",
     "output_type": "stream",
     "text": [
      "Training:  40%|████      | 81/200 [1:02:08<1:32:56, 46.86s/Epochs]"
     ]
    },
    {
     "name": "stdout",
     "output_type": "stream",
     "text": [
      "Epoch: 0080,\tTrain mse: 0.00650627,\tTrain_RMSE: 0.08065450,\tTrain_acc: 0.08065380,\tTest mse: 0.00644890,\tTime: 47.68839407s\n"
     ]
    },
    {
     "name": "stderr",
     "output_type": "stream",
     "text": [
      "Training:  42%|████▏     | 83/200 [1:03:44<1:32:29, 47.43s/Epochs]"
     ]
    },
    {
     "name": "stdout",
     "output_type": "stream",
     "text": [
      "Epoch: 0082,\tTrain mse: 0.00647277,\tTrain_RMSE: 0.08044652,\tTrain_acc: 0.08044580,\tTest mse: 0.00641477,\tTime: 48.38744164s\n"
     ]
    },
    {
     "name": "stderr",
     "output_type": "stream",
     "text": [
      "Training:  42%|████▎     | 85/200 [1:05:18<1:30:15, 47.09s/Epochs]"
     ]
    },
    {
     "name": "stdout",
     "output_type": "stream",
     "text": [
      "Epoch: 0084,\tTrain mse: 0.00643993,\tTrain_RMSE: 0.08024198,\tTrain_acc: 0.08024120,\tTest mse: 0.00637665,\tTime: 47.00323486s\n"
     ]
    },
    {
     "name": "stderr",
     "output_type": "stream",
     "text": [
      "Training:  44%|████▎     | 87/200 [1:06:52<1:28:39, 47.08s/Epochs]"
     ]
    },
    {
     "name": "stdout",
     "output_type": "stream",
     "text": [
      "Epoch: 0086,\tTrain mse: 0.00640548,\tTrain_RMSE: 0.08002737,\tTrain_acc: 0.08002667,\tTest mse: 0.00634154,\tTime: 46.89628673s\n"
     ]
    },
    {
     "name": "stderr",
     "output_type": "stream",
     "text": [
      "Training:  44%|████▍     | 89/200 [1:08:26<1:27:17, 47.18s/Epochs]"
     ]
    },
    {
     "name": "stdout",
     "output_type": "stream",
     "text": [
      "Epoch: 0088,\tTrain mse: 0.00637239,\tTrain_RMSE: 0.07982026,\tTrain_acc: 0.07981952,\tTest mse: 0.00630947,\tTime: 47.87825370s\n"
     ]
    },
    {
     "name": "stderr",
     "output_type": "stream",
     "text": [
      "Training:  46%|████▌     | 91/200 [1:10:02<1:26:35, 47.67s/Epochs]"
     ]
    },
    {
     "name": "stdout",
     "output_type": "stream",
     "text": [
      "Epoch: 0090,\tTrain mse: 0.00634564,\tTrain_RMSE: 0.07965227,\tTrain_acc: 0.07965144,\tTest mse: 0.00628264,\tTime: 49.19625330s\n"
     ]
    },
    {
     "name": "stderr",
     "output_type": "stream",
     "text": [
      "Training:  46%|████▋     | 93/200 [1:11:36<1:24:29, 47.38s/Epochs]"
     ]
    },
    {
     "name": "stdout",
     "output_type": "stream",
     "text": [
      "Epoch: 0092,\tTrain mse: 0.00631938,\tTrain_RMSE: 0.07948722,\tTrain_acc: 0.07948641,\tTest mse: 0.00628142,\tTime: 46.68162060s\n"
     ]
    },
    {
     "name": "stderr",
     "output_type": "stream",
     "text": [
      "Training:  48%|████▊     | 95/200 [1:13:13<1:23:51, 47.92s/Epochs]"
     ]
    },
    {
     "name": "stdout",
     "output_type": "stream",
     "text": [
      "Epoch: 0094,\tTrain mse: 0.00631197,\tTrain_RMSE: 0.07944263,\tTrain_acc: 0.07944235,\tTest mse: 0.00622775,\tTime: 48.88131475s\n"
     ]
    },
    {
     "name": "stderr",
     "output_type": "stream",
     "text": [
      "Training:  48%|████▊     | 97/200 [1:14:45<1:20:04, 46.64s/Epochs]"
     ]
    },
    {
     "name": "stdout",
     "output_type": "stream",
     "text": [
      "Epoch: 0096,\tTrain mse: 0.00627509,\tTrain_RMSE: 0.07920718,\tTrain_acc: 0.07920599,\tTest mse: 0.00621547,\tTime: 43.79930449s\n"
     ]
    },
    {
     "name": "stderr",
     "output_type": "stream",
     "text": [
      "Training:  50%|████▉     | 99/200 [1:16:16<1:17:25, 45.99s/Epochs]"
     ]
    },
    {
     "name": "stdout",
     "output_type": "stream",
     "text": [
      "Epoch: 0098,\tTrain mse: 0.00635802,\tTrain_RMSE: 0.07972706,\tTrain_acc: 0.07972532,\tTest mse: 0.00627446,\tTime: 44.29397154s\n"
     ]
    },
    {
     "name": "stderr",
     "output_type": "stream",
     "text": [
      "Training:  50%|█████     | 101/200 [1:17:51<1:17:16, 46.83s/Epochs]"
     ]
    },
    {
     "name": "stdout",
     "output_type": "stream",
     "text": [
      "Epoch: 0100,\tTrain mse: 0.00624529,\tTrain_RMSE: 0.07901679,\tTrain_acc: 0.07901504,\tTest mse: 0.00621760,\tTime: 47.31072831s\n"
     ]
    },
    {
     "name": "stderr",
     "output_type": "stream",
     "text": [
      "Training:  52%|█████▏    | 103/200 [1:19:26<1:16:03, 47.05s/Epochs]"
     ]
    },
    {
     "name": "stdout",
     "output_type": "stream",
     "text": [
      "Epoch: 0102,\tTrain mse: 0.00618868,\tTrain_RMSE: 0.07866256,\tTrain_acc: 0.07866210,\tTest mse: 0.00614626,\tTime: 47.10401177s\n"
     ]
    },
    {
     "name": "stderr",
     "output_type": "stream",
     "text": [
      "Training:  52%|█████▎    | 105/200 [1:21:00<1:14:40, 47.17s/Epochs]"
     ]
    },
    {
     "name": "stdout",
     "output_type": "stream",
     "text": [
      "Epoch: 0104,\tTrain mse: 0.00615354,\tTrain_RMSE: 0.07843887,\tTrain_acc: 0.07843837,\tTest mse: 0.00610547,\tTime: 47.40143394s\n"
     ]
    },
    {
     "name": "stderr",
     "output_type": "stream",
     "text": [
      "Training:  54%|█████▎    | 107/200 [1:22:34<1:12:39, 46.88s/Epochs]"
     ]
    },
    {
     "name": "stdout",
     "output_type": "stream",
     "text": [
      "Epoch: 0106,\tTrain mse: 0.00615075,\tTrain_RMSE: 0.07842187,\tTrain_acc: 0.07842162,\tTest mse: 0.00605265,\tTime: 46.12490964s\n"
     ]
    },
    {
     "name": "stderr",
     "output_type": "stream",
     "text": [
      "Training:  55%|█████▍    | 109/200 [1:24:09<1:11:35, 47.20s/Epochs]"
     ]
    },
    {
     "name": "stdout",
     "output_type": "stream",
     "text": [
      "Epoch: 0108,\tTrain mse: 0.00614103,\tTrain_RMSE: 0.07836038,\tTrain_acc: 0.07836101,\tTest mse: 0.00600805,\tTime: 47.59841537s\n"
     ]
    },
    {
     "name": "stderr",
     "output_type": "stream",
     "text": [
      "Training:  56%|█████▌    | 111/200 [1:25:44<1:10:20, 47.42s/Epochs]"
     ]
    },
    {
     "name": "stdout",
     "output_type": "stream",
     "text": [
      "Epoch: 0110,\tTrain mse: 0.00610648,\tTrain_RMSE: 0.07814023,\tTrain_acc: 0.07814077,\tTest mse: 0.00606140,\tTime: 47.31082273s\n"
     ]
    },
    {
     "name": "stderr",
     "output_type": "stream",
     "text": [
      "Training:  56%|█████▋    | 113/200 [1:27:18<1:08:25, 47.19s/Epochs]"
     ]
    },
    {
     "name": "stdout",
     "output_type": "stream",
     "text": [
      "Epoch: 0112,\tTrain mse: 0.00606291,\tTrain_RMSE: 0.07786015,\tTrain_acc: 0.07786010,\tTest mse: 0.00601743,\tTime: 47.30250669s\n"
     ]
    },
    {
     "name": "stderr",
     "output_type": "stream",
     "text": [
      "Training:  57%|█████▊    | 115/200 [1:28:56<1:08:08, 48.10s/Epochs]"
     ]
    },
    {
     "name": "stdout",
     "output_type": "stream",
     "text": [
      "Epoch: 0114,\tTrain mse: 0.00602198,\tTrain_RMSE: 0.07759596,\tTrain_acc: 0.07759576,\tTest mse: 0.00600100,\tTime: 49.10315633s\n"
     ]
    },
    {
     "name": "stderr",
     "output_type": "stream",
     "text": [
      "Training:  58%|█████▊    | 117/200 [1:30:28<1:05:04, 47.04s/Epochs]"
     ]
    },
    {
     "name": "stdout",
     "output_type": "stream",
     "text": [
      "Epoch: 0116,\tTrain mse: 0.00603297,\tTrain_RMSE: 0.07766773,\tTrain_acc: 0.07766765,\tTest mse: 0.00610686,\tTime: 46.40136361s\n"
     ]
    },
    {
     "name": "stderr",
     "output_type": "stream",
     "text": [
      "Training:  60%|█████▉    | 119/200 [1:32:02<1:03:40, 47.17s/Epochs]"
     ]
    },
    {
     "name": "stdout",
     "output_type": "stream",
     "text": [
      "Epoch: 0118,\tTrain mse: 0.00604006,\tTrain_RMSE: 0.07771207,\tTrain_acc: 0.07771233,\tTest mse: 0.00603065,\tTime: 48.19056010s\n"
     ]
    },
    {
     "name": "stderr",
     "output_type": "stream",
     "text": [
      "Training:  60%|██████    | 121/200 [1:33:37<1:02:13, 47.25s/Epochs]"
     ]
    },
    {
     "name": "stdout",
     "output_type": "stream",
     "text": [
      "Epoch: 0120,\tTrain mse: 0.00597485,\tTrain_RMSE: 0.07729303,\tTrain_acc: 0.07729340,\tTest mse: 0.00587755,\tTime: 46.78596163s\n"
     ]
    },
    {
     "name": "stderr",
     "output_type": "stream",
     "text": [
      "Training:  62%|██████▏   | 123/200 [1:35:08<59:31, 46.38s/Epochs]  "
     ]
    },
    {
     "name": "stdout",
     "output_type": "stream",
     "text": [
      "Epoch: 0122,\tTrain mse: 0.00588187,\tTrain_RMSE: 0.07668639,\tTrain_acc: 0.07668564,\tTest mse: 0.00580805,\tTime: 45.20785427s\n"
     ]
    },
    {
     "name": "stderr",
     "output_type": "stream",
     "text": [
      "Training:  62%|██████▎   | 125/200 [1:36:38<57:17, 45.83s/Epochs]"
     ]
    },
    {
     "name": "stdout",
     "output_type": "stream",
     "text": [
      "Epoch: 0124,\tTrain mse: 0.00588118,\tTrain_RMSE: 0.07668320,\tTrain_acc: 0.07668287,\tTest mse: 0.00580069,\tTime: 45.59440970s\n"
     ]
    },
    {
     "name": "stderr",
     "output_type": "stream",
     "text": [
      "Training:  64%|██████▎   | 127/200 [1:38:11<55:59, 46.03s/Epochs]"
     ]
    },
    {
     "name": "stdout",
     "output_type": "stream",
     "text": [
      "Epoch: 0126,\tTrain mse: 0.00606391,\tTrain_RMSE: 0.07784475,\tTrain_acc: 0.07784062,\tTest mse: 0.00657813,\tTime: 46.62705803s\n"
     ]
    },
    {
     "name": "stderr",
     "output_type": "stream",
     "text": [
      "Training:  64%|██████▍   | 129/200 [1:39:43<54:45, 46.27s/Epochs]"
     ]
    },
    {
     "name": "stdout",
     "output_type": "stream",
     "text": [
      "Epoch: 0128,\tTrain mse: 0.00603600,\tTrain_RMSE: 0.07768816,\tTrain_acc: 0.07768980,\tTest mse: 0.00611466,\tTime: 47.03337264s\n"
     ]
    },
    {
     "name": "stderr",
     "output_type": "stream",
     "text": [
      "Training:  66%|██████▌   | 131/200 [1:41:11<51:50, 45.07s/Epochs]"
     ]
    },
    {
     "name": "stdout",
     "output_type": "stream",
     "text": [
      "Epoch: 0130,\tTrain mse: 0.00591361,\tTrain_RMSE: 0.07688825,\tTrain_acc: 0.07688770,\tTest mse: 0.00576862,\tTime: 43.51465511s\n"
     ]
    },
    {
     "name": "stderr",
     "output_type": "stream",
     "text": [
      "Training:  66%|██████▋   | 133/200 [1:42:40<50:09, 44.92s/Epochs]"
     ]
    },
    {
     "name": "stdout",
     "output_type": "stream",
     "text": [
      "Epoch: 0132,\tTrain mse: 0.00582100,\tTrain_RMSE: 0.07628599,\tTrain_acc: 0.07628469,\tTest mse: 0.00567870,\tTime: 46.28287935s\n"
     ]
    },
    {
     "name": "stderr",
     "output_type": "stream",
     "text": [
      "Training:  68%|██████▊   | 135/200 [1:44:15<50:12, 46.35s/Epochs]"
     ]
    },
    {
     "name": "stdout",
     "output_type": "stream",
     "text": [
      "Epoch: 0134,\tTrain mse: 0.00575862,\tTrain_RMSE: 0.07587927,\tTrain_acc: 0.07587856,\tTest mse: 0.00574250,\tTime: 49.20699644s\n"
     ]
    },
    {
     "name": "stderr",
     "output_type": "stream",
     "text": [
      "Training:  68%|██████▊   | 137/200 [1:45:40<46:20, 44.14s/Epochs]"
     ]
    },
    {
     "name": "stdout",
     "output_type": "stream",
     "text": [
      "Epoch: 0136,\tTrain mse: 0.00578146,\tTrain_RMSE: 0.07603068,\tTrain_acc: 0.07603077,\tTest mse: 0.00577646,\tTime: 40.00142932s\n"
     ]
    },
    {
     "name": "stderr",
     "output_type": "stream",
     "text": [
      "Training:  70%|██████▉   | 139/200 [1:46:45<38:47, 38.16s/Epochs]"
     ]
    },
    {
     "name": "stdout",
     "output_type": "stream",
     "text": [
      "Epoch: 0138,\tTrain mse: 0.00574234,\tTrain_RMSE: 0.07577364,\tTrain_acc: 0.07577377,\tTest mse: 0.00570258,\tTime: 32.30059028s\n",
      "Epoch   139: reducing learning rate of group 0 to 5.0000e-05.\n"
     ]
    },
    {
     "name": "stderr",
     "output_type": "stream",
     "text": [
      "Training:  70%|███████   | 141/200 [1:47:51<34:52, 35.46s/Epochs]"
     ]
    },
    {
     "name": "stdout",
     "output_type": "stream",
     "text": [
      "Epoch: 0140,\tTrain mse: 0.00568922,\tTrain_RMSE: 0.07541947,\tTrain_acc: 0.07541849,\tTest mse: 0.00562839,\tTime: 32.68789411s\n"
     ]
    },
    {
     "name": "stderr",
     "output_type": "stream",
     "text": [
      "Training:  72%|███████▏  | 143/200 [1:48:55<31:53, 33.56s/Epochs]"
     ]
    },
    {
     "name": "stdout",
     "output_type": "stream",
     "text": [
      "Epoch: 0142,\tTrain mse: 0.00565724,\tTrain_RMSE: 0.07520740,\tTrain_acc: 0.07520656,\tTest mse: 0.00558601,\tTime: 30.99859571s\n"
     ]
    },
    {
     "name": "stderr",
     "output_type": "stream",
     "text": [
      "Training:  72%|███████▎  | 145/200 [1:49:58<29:59, 32.71s/Epochs]"
     ]
    },
    {
     "name": "stdout",
     "output_type": "stream",
     "text": [
      "Epoch: 0144,\tTrain mse: 0.00564322,\tTrain_RMSE: 0.07511413,\tTrain_acc: 0.07511331,\tTest mse: 0.00556972,\tTime: 32.08767700s\n"
     ]
    },
    {
     "name": "stderr",
     "output_type": "stream",
     "text": [
      "Training:  74%|███████▎  | 147/200 [1:51:04<28:57, 32.78s/Epochs]"
     ]
    },
    {
     "name": "stdout",
     "output_type": "stream",
     "text": [
      "Epoch: 0146,\tTrain mse: 0.00562935,\tTrain_RMSE: 0.07502174,\tTrain_acc: 0.07502093,\tTest mse: 0.00555386,\tTime: 32.39531827s\n"
     ]
    },
    {
     "name": "stderr",
     "output_type": "stream",
     "text": [
      "Training:  74%|███████▍  | 149/200 [1:52:08<27:29, 32.35s/Epochs]"
     ]
    },
    {
     "name": "stdout",
     "output_type": "stream",
     "text": [
      "Epoch: 0148,\tTrain mse: 0.00561724,\tTrain_RMSE: 0.07494097,\tTrain_acc: 0.07494017,\tTest mse: 0.00554144,\tTime: 32.01093841s\n"
     ]
    },
    {
     "name": "stderr",
     "output_type": "stream",
     "text": [
      "Training:  76%|███████▌  | 151/200 [1:53:13<26:23, 32.32s/Epochs]"
     ]
    },
    {
     "name": "stdout",
     "output_type": "stream",
     "text": [
      "Epoch: 0150,\tTrain mse: 0.00560518,\tTrain_RMSE: 0.07486048,\tTrain_acc: 0.07485967,\tTest mse: 0.00552969,\tTime: 32.00081825s\n"
     ]
    },
    {
     "name": "stderr",
     "output_type": "stream",
     "text": [
      "Training:  76%|███████▋  | 153/200 [1:54:18<25:22, 32.39s/Epochs]"
     ]
    },
    {
     "name": "stdout",
     "output_type": "stream",
     "text": [
      "Epoch: 0152,\tTrain mse: 0.00559299,\tTrain_RMSE: 0.07477904,\tTrain_acc: 0.07477823,\tTest mse: 0.00551751,\tTime: 32.58177018s\n"
     ]
    },
    {
     "name": "stderr",
     "output_type": "stream",
     "text": [
      "Training:  78%|███████▊  | 155/200 [1:55:21<24:05, 32.13s/Epochs]"
     ]
    },
    {
     "name": "stdout",
     "output_type": "stream",
     "text": [
      "Epoch: 0154,\tTrain mse: 0.00558060,\tTrain_RMSE: 0.07469619,\tTrain_acc: 0.07469539,\tTest mse: 0.00550494,\tTime: 31.78609371s\n"
     ]
    },
    {
     "name": "stderr",
     "output_type": "stream",
     "text": [
      "Training:  78%|███████▊  | 157/200 [1:56:25<22:55, 31.99s/Epochs]"
     ]
    },
    {
     "name": "stdout",
     "output_type": "stream",
     "text": [
      "Epoch: 0156,\tTrain mse: 0.00556986,\tTrain_RMSE: 0.07462430,\tTrain_acc: 0.07462350,\tTest mse: 0.00549381,\tTime: 32.09369230s\n"
     ]
    },
    {
     "name": "stderr",
     "output_type": "stream",
     "text": [
      "Training:  80%|███████▉  | 159/200 [1:57:29<21:54, 32.06s/Epochs]"
     ]
    },
    {
     "name": "stdout",
     "output_type": "stream",
     "text": [
      "Epoch: 0158,\tTrain mse: 0.00555684,\tTrain_RMSE: 0.07453693,\tTrain_acc: 0.07453613,\tTest mse: 0.00548087,\tTime: 31.59862185s\n"
     ]
    },
    {
     "name": "stderr",
     "output_type": "stream",
     "text": [
      "Training:  80%|████████  | 161/200 [1:58:32<20:38, 31.75s/Epochs]"
     ]
    },
    {
     "name": "stdout",
     "output_type": "stream",
     "text": [
      "Epoch: 0160,\tTrain mse: 0.00554533,\tTrain_RMSE: 0.07445971,\tTrain_acc: 0.07445892,\tTest mse: 0.00546944,\tTime: 31.40555930s\n"
     ]
    },
    {
     "name": "stderr",
     "output_type": "stream",
     "text": [
      "Training:  82%|████████▏ | 163/200 [1:59:36<19:32, 31.70s/Epochs]"
     ]
    },
    {
     "name": "stdout",
     "output_type": "stream",
     "text": [
      "Epoch: 0162,\tTrain mse: 0.00553372,\tTrain_RMSE: 0.07438168,\tTrain_acc: 0.07438089,\tTest mse: 0.00545728,\tTime: 31.70032120s\n"
     ]
    },
    {
     "name": "stderr",
     "output_type": "stream",
     "text": [
      "Training:  82%|████████▎ | 165/200 [2:00:38<18:22, 31.49s/Epochs]"
     ]
    },
    {
     "name": "stdout",
     "output_type": "stream",
     "text": [
      "Epoch: 0164,\tTrain mse: 0.00552262,\tTrain_RMSE: 0.07430709,\tTrain_acc: 0.07430628,\tTest mse: 0.00544523,\tTime: 31.47345400s\n"
     ]
    },
    {
     "name": "stderr",
     "output_type": "stream",
     "text": [
      "Training:  84%|████████▎ | 167/200 [2:01:43<17:33, 31.92s/Epochs]"
     ]
    },
    {
     "name": "stdout",
     "output_type": "stream",
     "text": [
      "Epoch: 0166,\tTrain mse: 0.00550958,\tTrain_RMSE: 0.07421929,\tTrain_acc: 0.07421848,\tTest mse: 0.00543229,\tTime: 32.41135502s\n"
     ]
    },
    {
     "name": "stderr",
     "output_type": "stream",
     "text": [
      "Training:  84%|████████▍ | 169/200 [2:02:48<16:44, 32.40s/Epochs]"
     ]
    },
    {
     "name": "stdout",
     "output_type": "stream",
     "text": [
      "Epoch: 0168,\tTrain mse: 0.00549778,\tTrain_RMSE: 0.07413973,\tTrain_acc: 0.07413892,\tTest mse: 0.00542146,\tTime: 32.89945149s\n"
     ]
    },
    {
     "name": "stderr",
     "output_type": "stream",
     "text": [
      "Training:  86%|████████▌ | 171/200 [2:03:55<15:49, 32.74s/Epochs]"
     ]
    },
    {
     "name": "stdout",
     "output_type": "stream",
     "text": [
      "Epoch: 0170,\tTrain mse: 0.00548552,\tTrain_RMSE: 0.07405704,\tTrain_acc: 0.07405624,\tTest mse: 0.00540749,\tTime: 33.19041944s\n"
     ]
    },
    {
     "name": "stderr",
     "output_type": "stream",
     "text": [
      "Training:  86%|████████▋ | 173/200 [2:05:00<14:40, 32.61s/Epochs]"
     ]
    },
    {
     "name": "stdout",
     "output_type": "stream",
     "text": [
      "Epoch: 0172,\tTrain mse: 0.00547431,\tTrain_RMSE: 0.07398135,\tTrain_acc: 0.07398054,\tTest mse: 0.00539529,\tTime: 32.12288117s\n"
     ]
    },
    {
     "name": "stderr",
     "output_type": "stream",
     "text": [
      "Training:  88%|████████▊ | 175/200 [2:06:06<13:42, 32.88s/Epochs]"
     ]
    },
    {
     "name": "stdout",
     "output_type": "stream",
     "text": [
      "Epoch: 0174,\tTrain mse: 0.00546231,\tTrain_RMSE: 0.07390020,\tTrain_acc: 0.07389941,\tTest mse: 0.00538564,\tTime: 33.40420508s\n"
     ]
    },
    {
     "name": "stderr",
     "output_type": "stream",
     "text": [
      "Training:  88%|████████▊ | 177/200 [2:07:11<12:32, 32.70s/Epochs]"
     ]
    },
    {
     "name": "stdout",
     "output_type": "stream",
     "text": [
      "Epoch: 0176,\tTrain mse: 0.00544917,\tTrain_RMSE: 0.07381120,\tTrain_acc: 0.07381041,\tTest mse: 0.00537662,\tTime: 32.40304399s\n"
     ]
    },
    {
     "name": "stderr",
     "output_type": "stream",
     "text": [
      "Training:  90%|████████▉ | 179/200 [2:08:18<11:34, 33.09s/Epochs]"
     ]
    },
    {
     "name": "stdout",
     "output_type": "stream",
     "text": [
      "Epoch: 0178,\tTrain mse: 0.00543743,\tTrain_RMSE: 0.07373166,\tTrain_acc: 0.07373088,\tTest mse: 0.00536062,\tTime: 33.99122643s\n"
     ]
    },
    {
     "name": "stderr",
     "output_type": "stream",
     "text": [
      "Training:  90%|█████████ | 181/200 [2:09:23<10:24, 32.89s/Epochs]"
     ]
    },
    {
     "name": "stdout",
     "output_type": "stream",
     "text": [
      "Epoch: 0180,\tTrain mse: 0.00542399,\tTrain_RMSE: 0.07364048,\tTrain_acc: 0.07363968,\tTest mse: 0.00534707,\tTime: 32.69439530s\n"
     ]
    },
    {
     "name": "stderr",
     "output_type": "stream",
     "text": [
      "Training:  92%|█████████▏| 183/200 [2:10:28<09:15, 32.67s/Epochs]"
     ]
    },
    {
     "name": "stdout",
     "output_type": "stream",
     "text": [
      "Epoch: 0182,\tTrain mse: 0.00541227,\tTrain_RMSE: 0.07356088,\tTrain_acc: 0.07356010,\tTest mse: 0.00533387,\tTime: 32.41396236s\n"
     ]
    },
    {
     "name": "stderr",
     "output_type": "stream",
     "text": [
      "Training:  92%|█████████▎| 185/200 [2:11:33<08:08, 32.57s/Epochs]"
     ]
    },
    {
     "name": "stdout",
     "output_type": "stream",
     "text": [
      "Epoch: 0184,\tTrain mse: 0.00539894,\tTrain_RMSE: 0.07347020,\tTrain_acc: 0.07346940,\tTest mse: 0.00532064,\tTime: 31.98319292s\n"
     ]
    },
    {
     "name": "stderr",
     "output_type": "stream",
     "text": [
      "Training:  94%|█████████▎| 187/200 [2:12:38<07:01, 32.39s/Epochs]"
     ]
    },
    {
     "name": "stdout",
     "output_type": "stream",
     "text": [
      "Epoch: 0186,\tTrain mse: 0.00538823,\tTrain_RMSE: 0.07339722,\tTrain_acc: 0.07339641,\tTest mse: 0.00531103,\tTime: 32.09550357s\n"
     ]
    },
    {
     "name": "stderr",
     "output_type": "stream",
     "text": [
      "Training:  94%|█████████▍| 189/200 [2:13:44<06:00, 32.75s/Epochs]"
     ]
    },
    {
     "name": "stdout",
     "output_type": "stream",
     "text": [
      "Epoch: 0188,\tTrain mse: 0.00537523,\tTrain_RMSE: 0.07330874,\tTrain_acc: 0.07330797,\tTest mse: 0.00529695,\tTime: 33.29892492s\n"
     ]
    },
    {
     "name": "stderr",
     "output_type": "stream",
     "text": [
      "Training:  96%|█████████▌| 191/200 [2:14:49<04:54, 32.72s/Epochs]"
     ]
    },
    {
     "name": "stdout",
     "output_type": "stream",
     "text": [
      "Epoch: 0190,\tTrain mse: 0.00536208,\tTrain_RMSE: 0.07321895,\tTrain_acc: 0.07321817,\tTest mse: 0.00528562,\tTime: 32.81231260s\n"
     ]
    },
    {
     "name": "stderr",
     "output_type": "stream",
     "text": [
      "Training:  96%|█████████▋| 193/200 [2:15:54<03:47, 32.54s/Epochs]"
     ]
    },
    {
     "name": "stdout",
     "output_type": "stream",
     "text": [
      "Epoch: 0192,\tTrain mse: 0.00535058,\tTrain_RMSE: 0.07314040,\tTrain_acc: 0.07313961,\tTest mse: 0.00527180,\tTime: 32.29812598s\n"
     ]
    },
    {
     "name": "stderr",
     "output_type": "stream",
     "text": [
      "Training:  98%|█████████▊| 195/200 [2:16:59<02:41, 32.40s/Epochs]"
     ]
    },
    {
     "name": "stdout",
     "output_type": "stream",
     "text": [
      "Epoch: 0194,\tTrain mse: 0.00533788,\tTrain_RMSE: 0.07305351,\tTrain_acc: 0.07305273,\tTest mse: 0.00526069,\tTime: 31.80998278s\n"
     ]
    },
    {
     "name": "stderr",
     "output_type": "stream",
     "text": [
      "Training:  98%|█████████▊| 197/200 [2:18:01<01:35, 31.92s/Epochs]"
     ]
    },
    {
     "name": "stdout",
     "output_type": "stream",
     "text": [
      "Epoch: 0196,\tTrain mse: 0.00532763,\tTrain_RMSE: 0.07298331,\tTrain_acc: 0.07298254,\tTest mse: 0.00525158,\tTime: 31.71164632s\n"
     ]
    },
    {
     "name": "stderr",
     "output_type": "stream",
     "text": [
      "Training: 100%|█████████▉| 199/200 [2:19:05<00:31, 31.91s/Epochs]"
     ]
    },
    {
     "name": "stdout",
     "output_type": "stream",
     "text": [
      "Epoch: 0198,\tTrain mse: 0.00531552,\tTrain_RMSE: 0.07290028,\tTrain_acc: 0.07289948,\tTest mse: 0.00523543,\tTime: 32.21255541s\n"
     ]
    },
    {
     "name": "stderr",
     "output_type": "stream",
     "text": [
      "Training: 100%|██████████| 200/200 [2:19:38<00:00, 41.89s/Epochs]\n"
     ]
    },
    {
     "name": "stdout",
     "output_type": "stream",
     "text": [
      "Model.state_dict:\n",
      "node_encode.0.weight \t torch.Size([32, 2])\n",
      "node_encode.0.bias \t torch.Size([32])\n",
      "node_encode.1.weight \t torch.Size([32, 32])\n",
      "node_encode.1.bias \t torch.Size([32])\n",
      "node_encode.2.weight \t torch.Size([32, 32])\n",
      "node_encode.2.bias \t torch.Size([32])\n",
      "node_encode.3.weight \t torch.Size([32, 32])\n",
      "node_encode.3.bias \t torch.Size([32])\n",
      "node_encode_norm.weight \t torch.Size([32])\n",
      "node_encode_norm.bias \t torch.Size([32])\n",
      "edge_encode.0.weight \t torch.Size([32, 3])\n",
      "edge_encode.0.bias \t torch.Size([32])\n",
      "edge_encode.1.weight \t torch.Size([32, 32])\n",
      "edge_encode.1.bias \t torch.Size([32])\n",
      "edge_encode.2.weight \t torch.Size([32, 32])\n",
      "edge_encode.2.bias \t torch.Size([32])\n",
      "edge_encode.3.weight \t torch.Size([32, 32])\n",
      "edge_encode.3.bias \t torch.Size([32])\n",
      "edge_encode_norm.weight \t torch.Size([32])\n",
      "edge_encode_norm.bias \t torch.Size([32])\n",
      "edge_down_mps.0.0.0.weight \t torch.Size([32, 96])\n",
      "edge_down_mps.0.0.0.bias \t torch.Size([32])\n",
      "edge_down_mps.0.0.1.weight \t torch.Size([32, 32])\n",
      "edge_down_mps.0.0.1.bias \t torch.Size([32])\n",
      "edge_down_mps.0.0.2.weight \t torch.Size([32, 32])\n",
      "edge_down_mps.0.0.2.bias \t torch.Size([32])\n",
      "edge_down_mps.0.0.3.weight \t torch.Size([32, 32])\n",
      "edge_down_mps.0.0.3.bias \t torch.Size([32])\n",
      "edge_down_mps.0.0.4.weight \t torch.Size([32, 32])\n",
      "edge_down_mps.0.0.4.bias \t torch.Size([32])\n",
      "edge_down_mps.0.0.5.weight \t torch.Size([32, 32])\n",
      "edge_down_mps.0.0.5.bias \t torch.Size([32])\n",
      "edge_down_mps.0.1.0.weight \t torch.Size([32, 96])\n",
      "edge_down_mps.0.1.0.bias \t torch.Size([32])\n",
      "edge_down_mps.0.1.1.weight \t torch.Size([32, 32])\n",
      "edge_down_mps.0.1.1.bias \t torch.Size([32])\n",
      "edge_down_mps.0.1.2.weight \t torch.Size([32, 32])\n",
      "edge_down_mps.0.1.2.bias \t torch.Size([32])\n",
      "edge_down_mps.0.1.3.weight \t torch.Size([32, 32])\n",
      "edge_down_mps.0.1.3.bias \t torch.Size([32])\n",
      "edge_down_mps.0.1.4.weight \t torch.Size([32, 32])\n",
      "edge_down_mps.0.1.4.bias \t torch.Size([32])\n",
      "edge_down_mps.0.1.5.weight \t torch.Size([32, 32])\n",
      "edge_down_mps.0.1.5.bias \t torch.Size([32])\n",
      "edge_down_mps.1.0.0.weight \t torch.Size([32, 96])\n",
      "edge_down_mps.1.0.0.bias \t torch.Size([32])\n",
      "edge_down_mps.1.0.1.weight \t torch.Size([32, 32])\n",
      "edge_down_mps.1.0.1.bias \t torch.Size([32])\n",
      "edge_down_mps.1.0.2.weight \t torch.Size([32, 32])\n",
      "edge_down_mps.1.0.2.bias \t torch.Size([32])\n",
      "edge_down_mps.1.0.3.weight \t torch.Size([32, 32])\n",
      "edge_down_mps.1.0.3.bias \t torch.Size([32])\n",
      "edge_down_mps.1.0.4.weight \t torch.Size([32, 32])\n",
      "edge_down_mps.1.0.4.bias \t torch.Size([32])\n",
      "edge_down_mps.1.0.5.weight \t torch.Size([32, 32])\n",
      "edge_down_mps.1.0.5.bias \t torch.Size([32])\n",
      "edge_down_mps.1.1.0.weight \t torch.Size([32, 96])\n",
      "edge_down_mps.1.1.0.bias \t torch.Size([32])\n",
      "edge_down_mps.1.1.1.weight \t torch.Size([32, 32])\n",
      "edge_down_mps.1.1.1.bias \t torch.Size([32])\n",
      "edge_down_mps.1.1.2.weight \t torch.Size([32, 32])\n",
      "edge_down_mps.1.1.2.bias \t torch.Size([32])\n",
      "edge_down_mps.1.1.3.weight \t torch.Size([32, 32])\n",
      "edge_down_mps.1.1.3.bias \t torch.Size([32])\n",
      "edge_down_mps.1.1.4.weight \t torch.Size([32, 32])\n",
      "edge_down_mps.1.1.4.bias \t torch.Size([32])\n",
      "edge_down_mps.1.1.5.weight \t torch.Size([32, 32])\n",
      "edge_down_mps.1.1.5.bias \t torch.Size([32])\n",
      "edge_down_mps.2.0.0.weight \t torch.Size([32, 96])\n",
      "edge_down_mps.2.0.0.bias \t torch.Size([32])\n",
      "edge_down_mps.2.0.1.weight \t torch.Size([32, 32])\n",
      "edge_down_mps.2.0.1.bias \t torch.Size([32])\n",
      "edge_down_mps.2.0.2.weight \t torch.Size([32, 32])\n",
      "edge_down_mps.2.0.2.bias \t torch.Size([32])\n",
      "edge_down_mps.2.0.3.weight \t torch.Size([32, 32])\n",
      "edge_down_mps.2.0.3.bias \t torch.Size([32])\n",
      "edge_down_mps.2.0.4.weight \t torch.Size([32, 32])\n",
      "edge_down_mps.2.0.4.bias \t torch.Size([32])\n",
      "edge_down_mps.2.0.5.weight \t torch.Size([32, 32])\n",
      "edge_down_mps.2.0.5.bias \t torch.Size([32])\n",
      "edge_down_mps.3.0.0.weight \t torch.Size([32, 96])\n",
      "edge_down_mps.3.0.0.bias \t torch.Size([32])\n",
      "edge_down_mps.3.0.1.weight \t torch.Size([32, 32])\n",
      "edge_down_mps.3.0.1.bias \t torch.Size([32])\n",
      "edge_down_mps.3.0.2.weight \t torch.Size([32, 32])\n",
      "edge_down_mps.3.0.2.bias \t torch.Size([32])\n",
      "edge_down_mps.3.0.3.weight \t torch.Size([32, 32])\n",
      "edge_down_mps.3.0.3.bias \t torch.Size([32])\n",
      "edge_down_mps.3.0.4.weight \t torch.Size([32, 32])\n",
      "edge_down_mps.3.0.4.bias \t torch.Size([32])\n",
      "edge_down_mps.3.0.5.weight \t torch.Size([32, 32])\n",
      "edge_down_mps.3.0.5.bias \t torch.Size([32])\n",
      "edge_down_norms.0.0.weight \t torch.Size([32])\n",
      "edge_down_norms.0.0.bias \t torch.Size([32])\n",
      "edge_down_norms.0.1.weight \t torch.Size([32])\n",
      "edge_down_norms.0.1.bias \t torch.Size([32])\n",
      "edge_down_norms.1.0.weight \t torch.Size([32])\n",
      "edge_down_norms.1.0.bias \t torch.Size([32])\n",
      "edge_down_norms.1.1.weight \t torch.Size([32])\n",
      "edge_down_norms.1.1.bias \t torch.Size([32])\n",
      "edge_down_norms.2.0.weight \t torch.Size([32])\n",
      "edge_down_norms.2.0.bias \t torch.Size([32])\n",
      "edge_down_norms.3.0.weight \t torch.Size([32])\n",
      "edge_down_norms.3.0.bias \t torch.Size([32])\n",
      "node_down_mps.0.0.0.weight \t torch.Size([32, 64])\n",
      "node_down_mps.0.0.0.bias \t torch.Size([32])\n",
      "node_down_mps.0.0.1.weight \t torch.Size([32, 32])\n",
      "node_down_mps.0.0.1.bias \t torch.Size([32])\n",
      "node_down_mps.0.0.2.weight \t torch.Size([32, 32])\n",
      "node_down_mps.0.0.2.bias \t torch.Size([32])\n",
      "node_down_mps.0.0.3.weight \t torch.Size([32, 32])\n",
      "node_down_mps.0.0.3.bias \t torch.Size([32])\n",
      "node_down_mps.0.0.4.weight \t torch.Size([32, 32])\n",
      "node_down_mps.0.0.4.bias \t torch.Size([32])\n",
      "node_down_mps.0.0.5.weight \t torch.Size([32, 32])\n",
      "node_down_mps.0.0.5.bias \t torch.Size([32])\n",
      "node_down_mps.0.1.0.weight \t torch.Size([32, 64])\n",
      "node_down_mps.0.1.0.bias \t torch.Size([32])\n",
      "node_down_mps.0.1.1.weight \t torch.Size([32, 32])\n",
      "node_down_mps.0.1.1.bias \t torch.Size([32])\n",
      "node_down_mps.0.1.2.weight \t torch.Size([32, 32])\n",
      "node_down_mps.0.1.2.bias \t torch.Size([32])\n",
      "node_down_mps.0.1.3.weight \t torch.Size([32, 32])\n",
      "node_down_mps.0.1.3.bias \t torch.Size([32])\n",
      "node_down_mps.0.1.4.weight \t torch.Size([32, 32])\n",
      "node_down_mps.0.1.4.bias \t torch.Size([32])\n",
      "node_down_mps.0.1.5.weight \t torch.Size([32, 32])\n",
      "node_down_mps.0.1.5.bias \t torch.Size([32])\n",
      "node_down_mps.1.0.0.weight \t torch.Size([32, 96])\n",
      "node_down_mps.1.0.0.bias \t torch.Size([32])\n",
      "node_down_mps.1.0.1.weight \t torch.Size([32, 32])\n",
      "node_down_mps.1.0.1.bias \t torch.Size([32])\n",
      "node_down_mps.1.0.2.weight \t torch.Size([32, 32])\n",
      "node_down_mps.1.0.2.bias \t torch.Size([32])\n",
      "node_down_mps.1.0.3.weight \t torch.Size([32, 32])\n",
      "node_down_mps.1.0.3.bias \t torch.Size([32])\n",
      "node_down_mps.1.0.4.weight \t torch.Size([32, 32])\n",
      "node_down_mps.1.0.4.bias \t torch.Size([32])\n",
      "node_down_mps.1.0.5.weight \t torch.Size([32, 32])\n",
      "node_down_mps.1.0.5.bias \t torch.Size([32])\n",
      "node_down_mps.1.1.0.weight \t torch.Size([32, 96])\n",
      "node_down_mps.1.1.0.bias \t torch.Size([32])\n",
      "node_down_mps.1.1.1.weight \t torch.Size([32, 32])\n",
      "node_down_mps.1.1.1.bias \t torch.Size([32])\n",
      "node_down_mps.1.1.2.weight \t torch.Size([32, 32])\n",
      "node_down_mps.1.1.2.bias \t torch.Size([32])\n",
      "node_down_mps.1.1.3.weight \t torch.Size([32, 32])\n",
      "node_down_mps.1.1.3.bias \t torch.Size([32])\n",
      "node_down_mps.1.1.4.weight \t torch.Size([32, 32])\n",
      "node_down_mps.1.1.4.bias \t torch.Size([32])\n",
      "node_down_mps.1.1.5.weight \t torch.Size([32, 32])\n",
      "node_down_mps.1.1.5.bias \t torch.Size([32])\n",
      "node_down_mps.2.0.0.weight \t torch.Size([32, 96])\n",
      "node_down_mps.2.0.0.bias \t torch.Size([32])\n",
      "node_down_mps.2.0.1.weight \t torch.Size([32, 32])\n",
      "node_down_mps.2.0.1.bias \t torch.Size([32])\n",
      "node_down_mps.2.0.2.weight \t torch.Size([32, 32])\n",
      "node_down_mps.2.0.2.bias \t torch.Size([32])\n",
      "node_down_mps.2.0.3.weight \t torch.Size([32, 32])\n",
      "node_down_mps.2.0.3.bias \t torch.Size([32])\n",
      "node_down_mps.2.0.4.weight \t torch.Size([32, 32])\n",
      "node_down_mps.2.0.4.bias \t torch.Size([32])\n",
      "node_down_mps.2.0.5.weight \t torch.Size([32, 32])\n",
      "node_down_mps.2.0.5.bias \t torch.Size([32])\n",
      "node_down_mps.3.0.0.weight \t torch.Size([32, 96])\n",
      "node_down_mps.3.0.0.bias \t torch.Size([32])\n",
      "node_down_mps.3.0.1.weight \t torch.Size([32, 32])\n",
      "node_down_mps.3.0.1.bias \t torch.Size([32])\n",
      "node_down_mps.3.0.2.weight \t torch.Size([32, 32])\n",
      "node_down_mps.3.0.2.bias \t torch.Size([32])\n",
      "node_down_mps.3.0.3.weight \t torch.Size([32, 32])\n",
      "node_down_mps.3.0.3.bias \t torch.Size([32])\n",
      "node_down_mps.3.0.4.weight \t torch.Size([32, 32])\n",
      "node_down_mps.3.0.4.bias \t torch.Size([32])\n",
      "node_down_mps.3.0.5.weight \t torch.Size([32, 32])\n",
      "node_down_mps.3.0.5.bias \t torch.Size([32])\n",
      "node_down_norms.0.0.weight \t torch.Size([32])\n",
      "node_down_norms.0.0.bias \t torch.Size([32])\n",
      "node_down_norms.0.1.weight \t torch.Size([32])\n",
      "node_down_norms.0.1.bias \t torch.Size([32])\n",
      "node_down_norms.1.0.weight \t torch.Size([32])\n",
      "node_down_norms.1.0.bias \t torch.Size([32])\n",
      "node_down_norms.1.1.weight \t torch.Size([32])\n",
      "node_down_norms.1.1.bias \t torch.Size([32])\n",
      "node_down_norms.2.0.weight \t torch.Size([32])\n",
      "node_down_norms.2.0.bias \t torch.Size([32])\n",
      "node_down_norms.3.0.weight \t torch.Size([32])\n",
      "node_down_norms.3.0.bias \t torch.Size([32])\n",
      "edge_up_mps.0.0.0.weight \t torch.Size([32, 96])\n",
      "edge_up_mps.0.0.0.bias \t torch.Size([32])\n",
      "edge_up_mps.0.0.1.weight \t torch.Size([32, 32])\n",
      "edge_up_mps.0.0.1.bias \t torch.Size([32])\n",
      "edge_up_mps.0.0.2.weight \t torch.Size([32, 32])\n",
      "edge_up_mps.0.0.2.bias \t torch.Size([32])\n",
      "edge_up_mps.0.0.3.weight \t torch.Size([32, 32])\n",
      "edge_up_mps.0.0.3.bias \t torch.Size([32])\n",
      "edge_up_mps.0.0.4.weight \t torch.Size([32, 32])\n",
      "edge_up_mps.0.0.4.bias \t torch.Size([32])\n",
      "edge_up_mps.0.0.5.weight \t torch.Size([32, 32])\n",
      "edge_up_mps.0.0.5.bias \t torch.Size([32])\n",
      "edge_up_mps.1.0.0.weight \t torch.Size([32, 96])\n",
      "edge_up_mps.1.0.0.bias \t torch.Size([32])\n",
      "edge_up_mps.1.0.1.weight \t torch.Size([32, 32])\n",
      "edge_up_mps.1.0.1.bias \t torch.Size([32])\n",
      "edge_up_mps.1.0.2.weight \t torch.Size([32, 32])\n",
      "edge_up_mps.1.0.2.bias \t torch.Size([32])\n",
      "edge_up_mps.1.0.3.weight \t torch.Size([32, 32])\n",
      "edge_up_mps.1.0.3.bias \t torch.Size([32])\n",
      "edge_up_mps.1.0.4.weight \t torch.Size([32, 32])\n",
      "edge_up_mps.1.0.4.bias \t torch.Size([32])\n",
      "edge_up_mps.1.0.5.weight \t torch.Size([32, 32])\n",
      "edge_up_mps.1.0.5.bias \t torch.Size([32])\n",
      "edge_up_mps.2.0.0.weight \t torch.Size([32, 96])\n",
      "edge_up_mps.2.0.0.bias \t torch.Size([32])\n",
      "edge_up_mps.2.0.1.weight \t torch.Size([32, 32])\n",
      "edge_up_mps.2.0.1.bias \t torch.Size([32])\n",
      "edge_up_mps.2.0.2.weight \t torch.Size([32, 32])\n",
      "edge_up_mps.2.0.2.bias \t torch.Size([32])\n",
      "edge_up_mps.2.0.3.weight \t torch.Size([32, 32])\n",
      "edge_up_mps.2.0.3.bias \t torch.Size([32])\n",
      "edge_up_mps.2.0.4.weight \t torch.Size([32, 32])\n",
      "edge_up_mps.2.0.4.bias \t torch.Size([32])\n",
      "edge_up_mps.2.0.5.weight \t torch.Size([32, 32])\n",
      "edge_up_mps.2.0.5.bias \t torch.Size([32])\n",
      "edge_up_mps.2.1.0.weight \t torch.Size([32, 96])\n",
      "edge_up_mps.2.1.0.bias \t torch.Size([32])\n",
      "edge_up_mps.2.1.1.weight \t torch.Size([32, 32])\n",
      "edge_up_mps.2.1.1.bias \t torch.Size([32])\n",
      "edge_up_mps.2.1.2.weight \t torch.Size([32, 32])\n",
      "edge_up_mps.2.1.2.bias \t torch.Size([32])\n",
      "edge_up_mps.2.1.3.weight \t torch.Size([32, 32])\n",
      "edge_up_mps.2.1.3.bias \t torch.Size([32])\n",
      "edge_up_mps.2.1.4.weight \t torch.Size([32, 32])\n",
      "edge_up_mps.2.1.4.bias \t torch.Size([32])\n",
      "edge_up_mps.2.1.5.weight \t torch.Size([32, 32])\n",
      "edge_up_mps.2.1.5.bias \t torch.Size([32])\n",
      "edge_up_mps.3.0.0.weight \t torch.Size([32, 96])\n",
      "edge_up_mps.3.0.0.bias \t torch.Size([32])\n",
      "edge_up_mps.3.0.1.weight \t torch.Size([32, 32])\n",
      "edge_up_mps.3.0.1.bias \t torch.Size([32])\n",
      "edge_up_mps.3.0.2.weight \t torch.Size([32, 32])\n",
      "edge_up_mps.3.0.2.bias \t torch.Size([32])\n",
      "edge_up_mps.3.0.3.weight \t torch.Size([32, 32])\n",
      "edge_up_mps.3.0.3.bias \t torch.Size([32])\n",
      "edge_up_mps.3.0.4.weight \t torch.Size([32, 32])\n",
      "edge_up_mps.3.0.4.bias \t torch.Size([32])\n",
      "edge_up_mps.3.0.5.weight \t torch.Size([32, 32])\n",
      "edge_up_mps.3.0.5.bias \t torch.Size([32])\n",
      "edge_up_mps.3.1.0.weight \t torch.Size([32, 96])\n",
      "edge_up_mps.3.1.0.bias \t torch.Size([32])\n",
      "edge_up_mps.3.1.1.weight \t torch.Size([32, 32])\n",
      "edge_up_mps.3.1.1.bias \t torch.Size([32])\n",
      "edge_up_mps.3.1.2.weight \t torch.Size([32, 32])\n",
      "edge_up_mps.3.1.2.bias \t torch.Size([32])\n",
      "edge_up_mps.3.1.3.weight \t torch.Size([32, 32])\n",
      "edge_up_mps.3.1.3.bias \t torch.Size([32])\n",
      "edge_up_mps.3.1.4.weight \t torch.Size([32, 32])\n",
      "edge_up_mps.3.1.4.bias \t torch.Size([32])\n",
      "edge_up_mps.3.1.5.weight \t torch.Size([32, 32])\n",
      "edge_up_mps.3.1.5.bias \t torch.Size([32])\n",
      "edge_up_norms.0.0.weight \t torch.Size([32])\n",
      "edge_up_norms.0.0.bias \t torch.Size([32])\n",
      "edge_up_norms.1.0.weight \t torch.Size([32])\n",
      "edge_up_norms.1.0.bias \t torch.Size([32])\n",
      "edge_up_norms.2.0.weight \t torch.Size([32])\n",
      "edge_up_norms.2.0.bias \t torch.Size([32])\n",
      "edge_up_norms.2.1.weight \t torch.Size([32])\n",
      "edge_up_norms.2.1.bias \t torch.Size([32])\n",
      "edge_up_norms.3.0.weight \t torch.Size([32])\n",
      "edge_up_norms.3.0.bias \t torch.Size([32])\n",
      "edge_up_norms.3.1.weight \t torch.Size([32])\n",
      "edge_up_norms.3.1.bias \t torch.Size([32])\n",
      "node_up_mps.0.0.0.weight \t torch.Size([32, 96])\n",
      "node_up_mps.0.0.0.bias \t torch.Size([32])\n",
      "node_up_mps.0.0.1.weight \t torch.Size([32, 32])\n",
      "node_up_mps.0.0.1.bias \t torch.Size([32])\n",
      "node_up_mps.0.0.2.weight \t torch.Size([32, 32])\n",
      "node_up_mps.0.0.2.bias \t torch.Size([32])\n",
      "node_up_mps.0.0.3.weight \t torch.Size([32, 32])\n",
      "node_up_mps.0.0.3.bias \t torch.Size([32])\n",
      "node_up_mps.0.0.4.weight \t torch.Size([32, 32])\n",
      "node_up_mps.0.0.4.bias \t torch.Size([32])\n",
      "node_up_mps.0.0.5.weight \t torch.Size([32, 32])\n",
      "node_up_mps.0.0.5.bias \t torch.Size([32])\n",
      "node_up_mps.1.0.0.weight \t torch.Size([32, 96])\n",
      "node_up_mps.1.0.0.bias \t torch.Size([32])\n",
      "node_up_mps.1.0.1.weight \t torch.Size([32, 32])\n",
      "node_up_mps.1.0.1.bias \t torch.Size([32])\n",
      "node_up_mps.1.0.2.weight \t torch.Size([32, 32])\n",
      "node_up_mps.1.0.2.bias \t torch.Size([32])\n",
      "node_up_mps.1.0.3.weight \t torch.Size([32, 32])\n",
      "node_up_mps.1.0.3.bias \t torch.Size([32])\n",
      "node_up_mps.1.0.4.weight \t torch.Size([32, 32])\n",
      "node_up_mps.1.0.4.bias \t torch.Size([32])\n",
      "node_up_mps.1.0.5.weight \t torch.Size([32, 32])\n",
      "node_up_mps.1.0.5.bias \t torch.Size([32])\n",
      "node_up_mps.2.0.0.weight \t torch.Size([32, 96])\n",
      "node_up_mps.2.0.0.bias \t torch.Size([32])\n",
      "node_up_mps.2.0.1.weight \t torch.Size([32, 32])\n",
      "node_up_mps.2.0.1.bias \t torch.Size([32])\n",
      "node_up_mps.2.0.2.weight \t torch.Size([32, 32])\n",
      "node_up_mps.2.0.2.bias \t torch.Size([32])\n",
      "node_up_mps.2.0.3.weight \t torch.Size([32, 32])\n",
      "node_up_mps.2.0.3.bias \t torch.Size([32])\n",
      "node_up_mps.2.0.4.weight \t torch.Size([32, 32])\n",
      "node_up_mps.2.0.4.bias \t torch.Size([32])\n",
      "node_up_mps.2.0.5.weight \t torch.Size([32, 32])\n",
      "node_up_mps.2.0.5.bias \t torch.Size([32])\n",
      "node_up_mps.2.1.0.weight \t torch.Size([32, 96])\n",
      "node_up_mps.2.1.0.bias \t torch.Size([32])\n",
      "node_up_mps.2.1.1.weight \t torch.Size([32, 32])\n",
      "node_up_mps.2.1.1.bias \t torch.Size([32])\n",
      "node_up_mps.2.1.2.weight \t torch.Size([32, 32])\n",
      "node_up_mps.2.1.2.bias \t torch.Size([32])\n",
      "node_up_mps.2.1.3.weight \t torch.Size([32, 32])\n",
      "node_up_mps.2.1.3.bias \t torch.Size([32])\n",
      "node_up_mps.2.1.4.weight \t torch.Size([32, 32])\n",
      "node_up_mps.2.1.4.bias \t torch.Size([32])\n",
      "node_up_mps.2.1.5.weight \t torch.Size([32, 32])\n",
      "node_up_mps.2.1.5.bias \t torch.Size([32])\n",
      "node_up_mps.3.0.0.weight \t torch.Size([32, 64])\n",
      "node_up_mps.3.0.0.bias \t torch.Size([32])\n",
      "node_up_mps.3.0.1.weight \t torch.Size([32, 32])\n",
      "node_up_mps.3.0.1.bias \t torch.Size([32])\n",
      "node_up_mps.3.0.2.weight \t torch.Size([32, 32])\n",
      "node_up_mps.3.0.2.bias \t torch.Size([32])\n",
      "node_up_mps.3.0.3.weight \t torch.Size([32, 32])\n",
      "node_up_mps.3.0.3.bias \t torch.Size([32])\n",
      "node_up_mps.3.0.4.weight \t torch.Size([32, 32])\n",
      "node_up_mps.3.0.4.bias \t torch.Size([32])\n",
      "node_up_mps.3.0.5.weight \t torch.Size([32, 32])\n",
      "node_up_mps.3.0.5.bias \t torch.Size([32])\n",
      "node_up_mps.3.1.0.weight \t torch.Size([32, 64])\n",
      "node_up_mps.3.1.0.bias \t torch.Size([32])\n",
      "node_up_mps.3.1.1.weight \t torch.Size([32, 32])\n",
      "node_up_mps.3.1.1.bias \t torch.Size([32])\n",
      "node_up_mps.3.1.2.weight \t torch.Size([32, 32])\n",
      "node_up_mps.3.1.2.bias \t torch.Size([32])\n",
      "node_up_mps.3.1.3.weight \t torch.Size([32, 32])\n",
      "node_up_mps.3.1.3.bias \t torch.Size([32])\n",
      "node_up_mps.3.1.4.weight \t torch.Size([32, 32])\n",
      "node_up_mps.3.1.4.bias \t torch.Size([32])\n",
      "node_up_mps.3.1.5.weight \t torch.Size([32, 32])\n",
      "node_up_mps.3.1.5.bias \t torch.Size([32])\n",
      "node_up_norms.0.0.weight \t torch.Size([32])\n",
      "node_up_norms.0.0.bias \t torch.Size([32])\n",
      "node_up_norms.1.0.weight \t torch.Size([32])\n",
      "node_up_norms.1.0.bias \t torch.Size([32])\n",
      "node_up_norms.2.0.weight \t torch.Size([32])\n",
      "node_up_norms.2.0.bias \t torch.Size([32])\n",
      "node_up_norms.2.1.weight \t torch.Size([32])\n",
      "node_up_norms.2.1.bias \t torch.Size([32])\n",
      "node_up_norms.3.0.weight \t torch.Size([32])\n",
      "node_up_norms.3.0.bias \t torch.Size([32])\n",
      "node_up_norms.3.1.weight \t torch.Size([32])\n",
      "node_up_norms.3.1.bias \t torch.Size([32])\n",
      "autoencode_down.0.0.0.weight \t torch.Size([300, 86400])\n",
      "autoencode_down.0.0.0.bias \t torch.Size([300])\n",
      "autoencode_down.0.0.1.weight \t torch.Size([128, 300])\n",
      "autoencode_down.0.0.1.bias \t torch.Size([128])\n",
      "autoencode_down.0.0.2.weight \t torch.Size([64, 128])\n",
      "autoencode_down.0.0.2.bias \t torch.Size([64])\n",
      "autoencode_down.0.0.3.weight \t torch.Size([32, 64])\n",
      "autoencode_down.0.0.3.bias \t torch.Size([32])\n",
      "autoencode_down.0.1.0.weight \t torch.Size([300, 86400])\n",
      "autoencode_down.0.1.0.bias \t torch.Size([300])\n",
      "autoencode_down.0.1.1.weight \t torch.Size([128, 300])\n",
      "autoencode_down.0.1.1.bias \t torch.Size([128])\n",
      "autoencode_down.0.1.2.weight \t torch.Size([64, 128])\n",
      "autoencode_down.0.1.2.bias \t torch.Size([64])\n",
      "autoencode_down.0.1.3.weight \t torch.Size([32, 64])\n",
      "autoencode_down.0.1.3.bias \t torch.Size([32])\n",
      "autoencode_down.1.0.0.weight \t torch.Size([300, 64000])\n",
      "autoencode_down.1.0.0.bias \t torch.Size([300])\n",
      "autoencode_down.1.0.1.weight \t torch.Size([128, 300])\n",
      "autoencode_down.1.0.1.bias \t torch.Size([128])\n",
      "autoencode_down.1.0.2.weight \t torch.Size([64, 128])\n",
      "autoencode_down.1.0.2.bias \t torch.Size([64])\n",
      "autoencode_down.1.0.3.weight \t torch.Size([32, 64])\n",
      "autoencode_down.1.0.3.bias \t torch.Size([32])\n",
      "autoencode_down.2.0.0.weight \t torch.Size([300, 44800])\n",
      "autoencode_down.2.0.0.bias \t torch.Size([300])\n",
      "autoencode_down.2.0.1.weight \t torch.Size([128, 300])\n",
      "autoencode_down.2.0.1.bias \t torch.Size([128])\n",
      "autoencode_down.2.0.2.weight \t torch.Size([64, 128])\n",
      "autoencode_down.2.0.2.bias \t torch.Size([64])\n",
      "autoencode_down.2.0.3.weight \t torch.Size([32, 64])\n",
      "autoencode_down.2.0.3.bias \t torch.Size([32])\n",
      "attn_score_down.0.0.weight \t torch.Size([1, 64])\n",
      "attn_score_down.0.1.weight \t torch.Size([1, 64])\n",
      "attn_score_down.1.0.weight \t torch.Size([1, 64])\n",
      "attn_score_down.2.0.weight \t torch.Size([1, 64])\n",
      "autoencode_up.0.0.0.weight \t torch.Size([300, 44800])\n",
      "autoencode_up.0.0.0.bias \t torch.Size([300])\n",
      "autoencode_up.0.0.1.weight \t torch.Size([128, 300])\n",
      "autoencode_up.0.0.1.bias \t torch.Size([128])\n",
      "autoencode_up.0.0.2.weight \t torch.Size([64, 128])\n",
      "autoencode_up.0.0.2.bias \t torch.Size([64])\n",
      "autoencode_up.0.0.3.weight \t torch.Size([32, 64])\n",
      "autoencode_up.0.0.3.bias \t torch.Size([32])\n",
      "autoencode_up.1.0.0.weight \t torch.Size([300, 64000])\n",
      "autoencode_up.1.0.0.bias \t torch.Size([300])\n",
      "autoencode_up.1.0.1.weight \t torch.Size([128, 300])\n",
      "autoencode_up.1.0.1.bias \t torch.Size([128])\n",
      "autoencode_up.1.0.2.weight \t torch.Size([64, 128])\n",
      "autoencode_up.1.0.2.bias \t torch.Size([64])\n",
      "autoencode_up.1.0.3.weight \t torch.Size([32, 64])\n",
      "autoencode_up.1.0.3.bias \t torch.Size([32])\n",
      "autoencode_up.2.0.0.weight \t torch.Size([300, 86400])\n",
      "autoencode_up.2.0.0.bias \t torch.Size([300])\n",
      "autoencode_up.2.0.1.weight \t torch.Size([128, 300])\n",
      "autoencode_up.2.0.1.bias \t torch.Size([128])\n",
      "autoencode_up.2.0.2.weight \t torch.Size([64, 128])\n",
      "autoencode_up.2.0.2.bias \t torch.Size([64])\n",
      "autoencode_up.2.0.3.weight \t torch.Size([32, 64])\n",
      "autoencode_up.2.0.3.bias \t torch.Size([32])\n",
      "autoencode_up.2.1.0.weight \t torch.Size([300, 86400])\n",
      "autoencode_up.2.1.0.bias \t torch.Size([300])\n",
      "autoencode_up.2.1.1.weight \t torch.Size([128, 300])\n",
      "autoencode_up.2.1.1.bias \t torch.Size([128])\n",
      "autoencode_up.2.1.2.weight \t torch.Size([64, 128])\n",
      "autoencode_up.2.1.2.bias \t torch.Size([64])\n",
      "autoencode_up.2.1.3.weight \t torch.Size([32, 64])\n",
      "autoencode_up.2.1.3.bias \t torch.Size([32])\n",
      "attn_score_up.0.0.weight \t torch.Size([1, 64])\n",
      "attn_score_up.1.0.weight \t torch.Size([1, 64])\n",
      "attn_score_up.2.0.weight \t torch.Size([1, 64])\n",
      "attn_score_up.2.1.weight \t torch.Size([1, 64])\n",
      "node_decode.0.weight \t torch.Size([32, 32])\n",
      "node_decode.0.bias \t torch.Size([32])\n",
      "node_decode.1.weight \t torch.Size([32, 32])\n",
      "node_decode.1.bias \t torch.Size([32])\n",
      "node_decode.2.weight \t torch.Size([32, 32])\n",
      "node_decode.2.bias \t torch.Size([32])\n",
      "node_decode.3.weight \t torch.Size([2, 32])\n",
      "node_decode.3.bias \t torch.Size([2])\n"
     ]
    },
    {
     "data": {
      "image/png": "[encoded data removed]",
      "text/plain": [
       "<Figure size 432x288 with 1 Axes>"
      ]
     },
     "metadata": {
      "needs_background": "light"
     },
     "output_type": "display_data"
    }
   ],
   "source": [
    "SEED = 42\n",
    "torch.manual_seed(SEED)\n",
    "torch.cuda.manual_seed_all(SEED)\n",
    "np.random.seed(SEED)\n",
    "random.seed(SEED)        #Python\n",
    "device = 'cuda' if torch.cuda.is_available() else 'cpu'    #cuda\n",
    "#perm_list=torch.load(dataset_dir+'/perm_list.pt')\n",
    "perm_list=torch.load(dataset_dir+'/perm_list_150.pt')\n",
    "\n",
    "print(device)\n",
    "for i in range(len(perm_list[0])):\n",
    "   \n",
    "    perm_list[0][i]=perm_list[0][i].to(device)\n",
    "print(perm_list[0][0].device)\n",
    "\n",
    "pathE='/root/data1/bubble_EMD/Encode_state_dict.pt'\n",
    "pathD='/root/data1/bubble_EMD/Decode_state_dict.pt'\n",
    "pathED = '/root/data1/bubble_EMD/ED_state_dict.pt'\n",
    "epochs = 200\n",
    "\n",
    "file_path= dataset_dir+'/meshgraphnets_miniset'+str(per_t)+str(batch_size)+str(number_trajectories)+'traj'+str(satart_number_ts)+str(number_ts)+'ts_vis.pt'\n",
    "dataset = torch.load(file_path)\n",
    "print(len(dataset))\n",
    "#EDstats_list = get_EDstats(dataset)\n",
    "\n",
    "[EDmean_vec_x,EDstd_vec_x,EDmean_vec_edge,EDstd_vec_edge] =torch.load(dataset_dir+'/EDstats_list.pt')\n",
    "\n",
    "(EDmean_vec_x,EDstd_vec_x,EDmean_vec_edge,EDstd_vec_edge)=(EDmean_vec_x.to(device),\n",
    "        EDstd_vec_x.to(device),EDmean_vec_edge.to(device),EDstd_vec_edge.to(device))\n",
    "\n",
    "train_size=7        #改\n",
    "train_loader = DataLoader(dataset[:train_size],  shuffle=False)\n",
    "valid_loader = DataLoader(dataset[train_size:], shuffle=False)#分一下训练数据和验证数据\n",
    "\n",
    "\n",
    "sample = dataset[:train_size][0]\n",
    "\n",
    "in_channels_node = sample.x.shape[1]  #2\n",
    "in_channels_edge = sample.edge_attr.shape[1]  #3\n",
    "hidden_channels = 32    #22#12\n",
    "out_channels = in_channels_node\n",
    "batch_size =25       #改\n",
    "n_mlp_encode = 4\n",
    "n_mlp_mp = 6#5\n",
    "encoding_dim=32\n",
    "ae_dim=[300,128,64,32]#[128,64,32,16,10]\n",
    "n_mp_down = [2,2,1,1]\n",
    "n_mp_up= [1,1,2,2]\n",
    "pool_num =[2700,2000,1400]#[2000,1500,1200,1000][2000,1600,1400,1000]\n",
    "\n",
    "act = F.elu\n",
    "param_sharing = False\n",
    "\n",
    "model = MessagePassing_Autoencode_attn(\n",
    "                hidden_channels,\n",
    "                in_channels_node,\n",
    "                in_channels_edge,\n",
    "                \n",
    "                out_channels,\n",
    "                encoding_dim,\n",
    "                n_mlp_mp,\n",
    "                n_mlp_encode,\n",
    "\n",
    "                ae_dim,\n",
    "                n_mp_down,\n",
    "                n_mp_up,\n",
    "                pool_num,\n",
    "                \n",
    "                act,\n",
    "                \n",
    "                name='gnn_topk')\n",
    "\n",
    "model.to(device)\n",
    "model.load_state_dict(torch.load(pathED), strict=False)\n",
    "train_hist, test_hist=train(epochs, model, perm_list,train_loader, valid_loader,per_t,batch_size,\n",
    "                            EDmean_vec_x,EDstd_vec_x,EDmean_vec_edge,EDstd_vec_edge,pathED,pathD,pathE)\n",
    "plot_dir='/root/data1/bubble_EMD/loss/'\n",
    "save_DEplots(train_hist, test_hist,plot_dir)"
   ]
  },
  {
   "cell_type": "code",
   "execution_count": 4,
   "metadata": {},
   "outputs": [
    {
     "name": "stdout",
     "output_type": "stream",
     "text": [
      "8\n",
      "8 200\n",
      "200\n",
      "Data(x=[3351, 2], edge_index=[2, 19634], edge_attr=[19634, 3], cells=[6467, 3], mesh_pos=[3351, 2])\n"
     ]
    },
    {
     "name": "stderr",
     "output_type": "stream",
     "text": [
      "/usr/local/lib/python3.8/dist-packages/torch_geometric/deprecation.py:12: UserWarning: 'data.DataLoader' is deprecated, use 'loader.DataLoader' instead\n",
      "  warnings.warn(out)\n"
     ]
    },
    {
     "name": "stdout",
     "output_type": "stream",
     "text": [
      "torch.Size([670200, 2])\n"
     ]
    }
   ],
   "source": [
    "model = MessagePassing_Autoencode_attn(\n",
    "                hidden_channels,\n",
    "                in_channels_node,\n",
    "                in_channels_edge,\n",
    "                \n",
    "                out_channels,\n",
    "                encoding_dim,\n",
    "                n_mlp_mp,\n",
    "                n_mlp_encode,\n",
    "\n",
    "                ae_dim,\n",
    "                n_mp_down,\n",
    "                n_mp_up,\n",
    "                pool_num,\n",
    "                \n",
    "                act,\n",
    "                \n",
    "                name='gnn_topk')\n",
    "model.to(device)\n",
    "model.load_state_dict(torch.load(pathED), strict=False)\n",
    "dataset = torch.load(file_path)\n",
    "print(len(dataset))   #6\n",
    "n=int(len(dataset)/number_trajectories)\n",
    "nn=int(n*batch_size)\n",
    "print(n,nn)#6,150\n",
    "\n",
    "#get_dataset(number_trajectories,satart_number_ts,number_ts,1,1,dataset_dir,path)\n",
    "\n",
    "file_path_ed= dataset_dir+'/meshgraphnets_miniset'+str(1)+str(1)+str(number_trajectories)+'traj'+str(satart_number_ts)+str(number_ts)+'ts_vis.pt'\n",
    "dataset_input = torch.load(file_path_ed)\n",
    "print(len(dataset_input))  #150\n",
    "print(dataset_input[0])    \n",
    "\n",
    "for i in range(number_trajectories):\n",
    "  dataset_=dataset[i*n:(i+1)*n]\n",
    "  num_=int(dataset_[0].x.shape[0]/(per_t*batch_size))\n",
    "  loader_ = DataLoader(dataset_,  shuffle=False)\n",
    "  pred_=torch.tensor([[0,0]]).type(torch.float).to(device)\n",
    "  #pred_=torch.tensor([[0]]).type(torch.float).to(device)\n",
    "  per_t=1\n",
    "  batch_size=25    #改\n",
    "  device = 'cuda' if torch.cuda.is_available() else 'cpu'\n",
    "  with torch.no_grad():\n",
    "    for step, data in enumerate(loader_):\n",
    "      data=data.to(device)\n",
    "      \n",
    "      out, _ = model(data, per_t ,perm_list[0], batch_size,EDmean_vec_x,EDstd_vec_x,EDmean_vec_edge,EDstd_vec_edge,batch=None, return_mask=False)\n",
    "      pred_=torch.vstack((pred_,out))\n",
    "  pred_=pred_[1:,:]\n",
    "  print(pred_.shape)   #150*3718,2\n",
    "  pred_=pred_*EDstd_vec_x+EDmean_vec_x   #pred是torch，行数为600个时间*点数，列为2\n",
    "  dataset_input_=dataset_input[i*nn:(i+1)*nn]\n",
    "\n",
    "  pred_=pred_.to('cpu')\n",
    "\n",
    "  viz_data_loader_ = copy.deepcopy(dataset_input_)\n",
    "  \n",
    "\n",
    "\n",
    "  for j in range(int(pred_.shape[0]/num_)):\n",
    "    viz_data_loader_[j].x=pred_[j*num_:(j+1)*num_,:]\n",
    "    \n",
    "  torch.save(viz_data_loader_,dataset_dir+'/encode_decode_output_'+str(i)+str(number_trajectories)+'traj'+str(satart_number_ts)+str(number_ts)+'ts_vis.pt')#200个data\n"
   ]
  },
  {
   "cell_type": "markdown",
   "metadata": {},
   "source": [
    "查看还原效果"
   ]
  },
  {
   "cell_type": "markdown",
   "metadata": {},
   "source": [
    "复制到文件夹查看还原效果"
   ]
  },
  {
   "cell_type": "code",
   "execution_count": 5,
   "metadata": {},
   "outputs": [
    {
     "name": "stdout",
     "output_type": "stream",
     "text": [
      "200\n",
      "Data(x=[3351, 2], edge_index=[2, 19634], edge_attr=[19634, 3], cells=[6467, 3], mesh_pos=[3351, 2])\n",
      "start to create the destination folder\n",
      "start to store data as a new variable\n",
      "transform succeed\n"
     ]
    }
   ],
   "source": [
    "for i in range(number_trajectories):\n",
    "    data=torch.load(dataset_dir+'/encode_decode_output_'+str(i)+str(number_trajectories)+'traj'+str(satart_number_ts)+str(number_ts)+'ts_vis.pt')\n",
    "    print(len(data))\n",
    "    print(data[0])\n",
    "    num=200\n",
    "    originalFolder='/root/data1/water_slice_'+str(i)\n",
    "    destinationFolder='/root/data1/bubble_dataset_EDoutput_'+str(i)\n",
    "    fileName=\"/slice_\"\n",
    "    transform_vector(data, satart_number_ts,number_ts, originalFolder, destinationFolder, fileName)"
   ]
  },
  {
   "cell_type": "code",
   "execution_count": 3,
   "metadata": {},
   "outputs": [
    {
     "name": "stdout",
     "output_type": "stream",
     "text": [
      "cuda\n",
      "cuda:0\n",
      "12\n"
     ]
    },
    {
     "name": "stderr",
     "output_type": "stream",
     "text": [
      "/usr/local/lib/python3.8/dist-packages/torch_geometric/deprecation.py:12: UserWarning: 'data.DataLoader' is deprecated, use 'loader.DataLoader' instead\n",
      "  warnings.warn(out)\n"
     ]
    }
   ],
   "source": [
    "SEED = 123\n",
    "torch.manual_seed(SEED)\n",
    "torch.cuda.manual_seed_all(SEED)\n",
    "np.random.seed(SEED)\n",
    "random.seed(SEED)        #Python\n",
    "device = 'cuda' if torch.cuda.is_available() else 'cpu'    #cuda\n",
    "#perm_list=torch.load(dataset_dir+'/perm_list.pt')\n",
    "perm_list=torch.load(dataset_dir+'/perm_list_150.pt')\n",
    "\n",
    "print(device)\n",
    "for i in range(len(perm_list[0])):\n",
    "   \n",
    "    perm_list[0][i]=perm_list[0][i].to(device)\n",
    "print(perm_list[0][0].device)\n",
    "\n",
    "pathE='/root/data1/bubble_EMD/Encode_state_dict.pt'\n",
    "pathD='/root/data1/bubble_EMD/Decode_state_dict.pt'\n",
    "pathED = '/root/data1/bubble_EMD/ED_state_dict.pt'\n",
    "epochs = 400\n",
    "\n",
    "file_path= dataset_dir+'/meshgraphnets_miniset'+str(per_t)+str(batch_size)+str(number_trajectories)+'traj'+str(satart_number_ts)+str(number_ts)+'ts_vis.pt'\n",
    "dataset = torch.load(file_path)\n",
    "print(len(dataset))\n",
    "EDstats_list = get_EDstats(dataset)\n",
    "\n",
    "[EDmean_vec_x,EDstd_vec_x,EDmean_vec_edge,EDstd_vec_edge] = EDstats_list\n",
    "torch.save(EDstats_list,dataset_dir+'/EDstats_list.pt')\n",
    "\n",
    "(EDmean_vec_x,EDstd_vec_x,EDmean_vec_edge,EDstd_vec_edge)=(EDmean_vec_x.to(device),\n",
    "        EDstd_vec_x.to(device),EDmean_vec_edge.to(device),EDstd_vec_edge.to(device))\n",
    "\n",
    "train_size=11        #改\n",
    "train_loader = DataLoader(dataset[:train_size],  shuffle=False)\n",
    "valid_loader = DataLoader(dataset[train_size:], shuffle=False)#分一下训练数据和验证数据\n",
    "\n",
    "\n",
    "sample = dataset[:train_size][0]\n",
    "\n",
    "in_channels_node = sample.x.shape[1]  #2\n",
    "in_channels_edge = sample.edge_attr.shape[1]  #3\n",
    "hidden_channels = 25    #22#12\n",
    "out_channels = in_channels_node\n",
    "batch_size =25       #改\n",
    "n_mlp_encode = 4\n",
    "n_mlp_mp = 6#5\n",
    "encoding_dim=32\n",
    "ae_dim=[300,128,64,32]#[128,64,32,16,10]\n",
    "n_mp_down = [2,2,1,1]\n",
    "n_mp_up= [1,1,2,2]\n",
    "pool_num =[3100,2600,2100]#[2000,1500,1200,1000][2000,1600,1400,1000]\n",
    "\n",
    "act = F.elu\n",
    "param_sharing = False"
   ]
  },
  {
   "cell_type": "markdown",
   "metadata": {},
   "source": [
    "生成低维数据"
   ]
  },
  {
   "cell_type": "code",
   "execution_count": 6,
   "metadata": {},
   "outputs": [
    {
     "name": "stdout",
     "output_type": "stream",
     "text": [
      "/root/data1/water_slice_0\n",
      "501\n"
     ]
    },
    {
     "name": "stderr",
     "output_type": "stream",
     "text": [
      "2024-10-21 21:39:51.611756: I tensorflow/core/platform/cpu_feature_guard.cc:151] This TensorFlow binary is optimized with oneAPI Deep Neural Network Library (oneDNN) to use the following CPU instructions in performance-critical operations:  AVX2 AVX512F FMA\n",
      "To enable them in other operations, rebuild TensorFlow with the appropriate compiler flags.\n",
      "2024-10-21 21:39:51.619701: I tensorflow/core/common_runtime/gpu/gpu_device.cc:1525] Created device /job:localhost/replica:0/task:0/device:GPU:0 with 7894 MB memory:  -> device: 0, name: NVIDIA GeForce RTX 4090, pci bus id: 0000:9c:00.0, compute capability: 8.9\n"
     ]
    },
    {
     "name": "stdout",
     "output_type": "stream",
     "text": [
      "Done collecting data!\n",
      "Done saving data!\n",
      "Output Location:  /root/data1/bubble_EMD/meshgraphnets_miniset12001traj50200ts_vis.pt\n",
      "1\n"
     ]
    }
   ],
   "source": [
    "per_t=1     #在编码和解码的时候每三个时刻个用的点是一样的\n",
    "batch_size = int(number_ts/per_t)\n",
    "\n",
    "\n",
    "dataset_dir = '/root/data1/bubble_EMD'\n",
    "path='/root/data1/water_slice_'\n",
    "\n",
    "get_dataset(number_trajectories,satart_number_ts,number_ts,per_t,batch_size,dataset_dir,path)\n",
    "\n",
    "file_path= dataset_dir+'/meshgraphnets_miniset'+str(per_t)+str(batch_size)+str(number_trajectories)+'traj'+str(satart_number_ts)+str(number_ts)+'ts_vis.pt'\n",
    "dataset_M = torch.load(file_path)\n",
    "print(len(dataset_M))   #长度为150  "
   ]
  },
  {
   "cell_type": "code",
   "execution_count": 7,
   "metadata": {},
   "outputs": [
    {
     "name": "stdout",
     "output_type": "stream",
     "text": [
      "200\n",
      "Data(x=[1400, 32], edge_index=[2, 3264], edge_attr=[3264, 32]) Data(x=[1400, 32], edge_index=[2, 3264], edge_attr=[3264, 32]) Data(x=[1400, 32], edge_index=[2, 3264], edge_attr=[3264, 32]) Data(x=[1400, 32], edge_index=[2, 3264], edge_attr=[3264, 32]) Data(x=[1400, 32], edge_index=[2, 3264], edge_attr=[3264, 32]) Data(x=[1400, 32], edge_index=[2, 3264], edge_attr=[3264, 32])\n"
     ]
    }
   ],
   "source": [
    "\n",
    "M_encode=GNN_topk_encode(\n",
    "                hidden_channels,\n",
    "                in_channels_node,\n",
    "                in_channels_edge,\n",
    "                \n",
    "                out_channels,\n",
    "                encoding_dim,\n",
    "                n_mlp_mp,\n",
    "                n_mlp_encode,\n",
    "\n",
    "                ae_dim,\n",
    "                n_mp_down,\n",
    "                n_mp_up,\n",
    "                pool_num,\n",
    "                \n",
    "                act,\n",
    "                \n",
    "                name='gnn_topk')\n",
    "M_encode.to(device)\n",
    "M_encode.load_state_dict(torch.load(pathE), strict=False)\n",
    "with torch.no_grad():\n",
    "  for i in range(len(dataset_M)):\n",
    "    dataset_M[i]=dataset_M[i].to(device)\n",
    "    data_list,batches , xs, positions, edge_attrs, edge_indices, edge_masks= M_encode(dataset_M[i], per_t , perm_list[0],\n",
    "                                                                                            batch_size,EDmean_vec_x,EDstd_vec_x,\n",
    "                                                                                            EDmean_vec_edge,EDstd_vec_edge,\n",
    "                                                                                            batch=None, return_mask=False)  \n",
    "    torch.save(data_list,dataset_dir+'/M_encode_output_'+str(i)+str(number_trajectories)+'traj'+str(per_t)+str(batch_size)+str(satart_number_ts)+str(number_ts)+'ts_vis.pt')\n",
    "    torch.save(batches,dataset_dir+'/'+str(i)+str(number_trajectories)+'traj'+'batches.pt')\n",
    "    torch.save(xs,dataset_dir+'/'+str(i)+str(number_trajectories)+'traj'+'xs.pt')\n",
    "    torch.save( positions,dataset_dir+'/'+str(i)+str(number_trajectories)+'traj'+'positions.pt')\n",
    "    torch.save( edge_attrs,dataset_dir+'/'+str(i)+str(number_trajectories)+'traj'+'edge_attrs.pt')\n",
    "    torch.save( edge_indices,dataset_dir+'/'+str(i)+str(number_trajectories)+'traj'+'edge_indices.pt')\n",
    "    torch.save( edge_masks,dataset_dir+'/'+str(i)+str(number_trajectories)+'traj'+'edge_masks.pt')\n",
    "    \n",
    "    print(len(data_list))\n",
    "    print(data_list[0],data_list[1],data_list[2],data_list[3],data_list[4],data_list[5])"
   ]
  },
  {
   "cell_type": "code",
   "execution_count": 8,
   "metadata": {},
   "outputs": [
    {
     "name": "stdout",
     "output_type": "stream",
     "text": [
      "3264\n"
     ]
    }
   ],
   "source": [
    "per_t=1     #在编码和解码的时候每三个时刻个用的点是一样的\n",
    "batch_size = int(number_ts/per_t)\n",
    "a=torch.load(dataset_dir+'/M_encode_output_'+str(0)+str(number_trajectories)\n",
    "                                             +'traj'+str(per_t)+str(batch_size)+str(satart_number_ts)+str(number_ts)+'ts_vis.pt')\n",
    "edge_num=a[0].edge_attr.shape[0]\n",
    "print(edge_num)    #3264"
   ]
  },
  {
   "cell_type": "markdown",
   "metadata": {},
   "source": [
    "在低维上进行时序预测"
   ]
  },
  {
   "cell_type": "markdown",
   "metadata": {},
   "source": [
    "训练预测边属性模型"
   ]
  },
  {
   "cell_type": "code",
   "execution_count": 9,
   "metadata": {},
   "outputs": [
    {
     "name": "stdout",
     "output_type": "stream",
     "text": [
      "1900\n",
      "190\n"
     ]
    }
   ],
   "source": [
    "data_1=[]\n",
    "data_label_1=[]\n",
    "\n",
    "for i in range(number_trajectories):\n",
    "    per_t=1\n",
    "    dataset_encode=dataset_encode=torch.load(dataset_dir+'/M_encode_output_'+str(i)+str(number_trajectories)\n",
    "                                             +'traj'+str(per_t)+str(batch_size)+str(satart_number_ts)+str(number_ts)+'ts_vis.pt')\n",
    "    per_t=11\n",
    "    for j in range(len(dataset_encode)-per_t+1):\n",
    "        for k in range(per_t):\n",
    "            if k <(per_t-1):\n",
    "                E_data  = copy.deepcopy(dataset_encode[j+k])\n",
    "                E_data=E_data.to('cpu')\n",
    "                data_1.append(E_data)\n",
    "            else:\n",
    "                E_data  = copy.deepcopy(dataset_encode[j+k])\n",
    "                E_data=E_data.to('cpu')\n",
    "                data_label_1.append(E_data)\n",
    "                       \n",
    "print(len(data_1))      #140*10\n",
    "print(len(data_label_1))   #140\n",
    "\n",
    "data_=data_1\n",
    "data_label=data_label_1\n",
    "\n",
    "'''data_2=[]\n",
    "data_label_2=[]\n",
    "\n",
    "data_3=[]\n",
    "data_label_3=[]\n",
    "\n",
    "for i in range(len(dataset_encode)-per_t+1):\n",
    "    if i in r_index:\n",
    "        for j in range(per_t-1):\n",
    "            E_data  = copy.deepcopy(data_1[i*(per_t-1)+j])\n",
    "            \n",
    "            data_2.append(E_data)\n",
    "        E_data  = copy.deepcopy(data_label_1[i])\n",
    "        data_label_2.append(E_data)\n",
    "    else:\n",
    "        for j in range(per_t-1):\n",
    "            E_data  = copy.deepcopy(data_1[i*(per_t-1)+j])\n",
    "            \n",
    "            data_3.append(E_data)\n",
    "        E_data  = copy.deepcopy(data_label_1[i])\n",
    "        data_label_3.append(E_data)\n",
    "\n",
    "print(len(data_2))      #40*10\n",
    "print(len(data_label_2))   #40\n",
    "\n",
    "print(len(data_3))      #100*10\n",
    "print(len(data_label_3))   #100\n",
    "    \n",
    "\n",
    "\n",
    "\n",
    "data_=data_3+data_2\n",
    "data_label=data_label_3+data_label_2'''\n",
    "\n",
    "\n",
    "\n",
    "all=data_+data_label\n",
    "\n",
    "\n",
    "\n",
    "data_stats_list = get_EDstats(all)\n",
    "\n",
    "torch.save(data_stats_list,dataset_dir+'/data_stats_list.pt')\n",
    "\n"
   ]
  },
  {
   "cell_type": "code",
   "execution_count": 10,
   "metadata": {},
   "outputs": [],
   "source": [
    "class objectview(object):\n",
    "    def __init__(self, d):\n",
    "        self.__dict__ = d\n",
    "\n",
    "\n",
    "        \n",
    "for args in [\n",
    "        {'model_type': 'meshgraphnet_transformer',\n",
    "         'num_layers': 2,\n",
    "         'batchsize': 5,       #是lable上的batchsize\n",
    "         'hidden_dim': 36,      #在低维空间上的编码可以写大一点，128#30\n",
    "         'hidden_channels':32,  #这里的hidden_dim与encode_decode中的hidden_channels相同\n",
    "         'epochs': 2500,#5000\n",
    "         'attr_epochs':8000,#8000\n",
    "         'train_size':140, #45\n",
    "         'test_size': 50, #10         #按照lable的来\n",
    "         'device':'cuda',\n",
    "         'shuffle': False,\n",
    "         'save_best_model': True,\n",
    "         'checkpoint_dir': '/root/data1/bubble_EMD/mgnn_transformerbest_models/',\n",
    "         'postprocess_dir': '/root/data1/bubble_EMD/mgnn_transformer_loss_plots/',\n",
    "         'd_k': 28,#28\n",
    "         'd_v': 28,\n",
    "         'input_shape': 12,   #加上时间信息，所以比n_graph_encode的最后一个多两维\n",
    "         'n_heads': 6,\n",
    "         'n_layers': 5,\n",
    "         'ff_dim': 64,\n",
    "         'seq_len': 10,        #改per_t-1,二推一\n",
    "         'per_t':11,\n",
    "         'attr_train_size':270,\n",
    "         'attr_batchsize':10,\n",
    "        'n_graph_encode':[500,150,80,10],\n",
    "        'pool_num':[2700,2000,1400]},\n",
    "]:\n",
    "\n",
    "        args = objectview(args)\n",
    "torch.manual_seed(5)  #Torch\n",
    "random.seed(5)        #Python\n",
    "np.random.seed(5)     #NumPy\n",
    "torch.cuda.manual_seed_all(5)   #GPU"
   ]
  },
  {
   "cell_type": "code",
   "execution_count": 11,
   "metadata": {},
   "outputs": [
    {
     "name": "stdout",
     "output_type": "stream",
     "text": [
      "cuda\n"
     ]
    },
    {
     "name": "stderr",
     "output_type": "stream",
     "text": [
      "/usr/local/lib/python3.8/dist-packages/torch_geometric/deprecation.py:12: UserWarning: 'data.DataLoader' is deprecated, use 'loader.DataLoader' instead\n",
      "  warnings.warn(out)\n",
      "Training:   0%|          | 1/2500 [00:05<3:51:56,  5.57s/Epochs]"
     ]
    },
    {
     "name": "stdout",
     "output_type": "stream",
     "text": [
      "train loss 1.021442 test loss 1.303388\n"
     ]
    },
    {
     "name": "stderr",
     "output_type": "stream",
     "text": [
      "Training:   4%|▍         | 101/2500 [05:19<2:36:43,  3.92s/Epochs]"
     ]
    },
    {
     "name": "stdout",
     "output_type": "stream",
     "text": [
      "train loss 0.050373 test loss 0.049799\n"
     ]
    },
    {
     "name": "stderr",
     "output_type": "stream",
     "text": [
      "Training:   8%|▊         | 201/2500 [10:27<2:15:04,  3.53s/Epochs]"
     ]
    },
    {
     "name": "stdout",
     "output_type": "stream",
     "text": [
      "train loss 0.023556 test loss 0.020226\n"
     ]
    },
    {
     "name": "stderr",
     "output_type": "stream",
     "text": [
      "Training:  12%|█▏        | 301/2500 [15:50<2:25:17,  3.96s/Epochs]"
     ]
    },
    {
     "name": "stdout",
     "output_type": "stream",
     "text": [
      "train loss 0.02317 test loss 0.015876\n"
     ]
    },
    {
     "name": "stderr",
     "output_type": "stream",
     "text": [
      "Training:  16%|█▌        | 401/2500 [21:17<2:16:51,  3.91s/Epochs]"
     ]
    },
    {
     "name": "stdout",
     "output_type": "stream",
     "text": [
      "train loss 0.017891 test loss 0.014222\n"
     ]
    },
    {
     "name": "stderr",
     "output_type": "stream",
     "text": [
      "Training:  20%|██        | 501/2500 [26:39<2:12:11,  3.97s/Epochs]"
     ]
    },
    {
     "name": "stdout",
     "output_type": "stream",
     "text": [
      "train loss 0.016654 test loss 0.01372\n"
     ]
    },
    {
     "name": "stderr",
     "output_type": "stream",
     "text": [
      "Training:  24%|██▍       | 601/2500 [32:03<2:00:46,  3.82s/Epochs]"
     ]
    },
    {
     "name": "stdout",
     "output_type": "stream",
     "text": [
      "train loss 0.016549 test loss 0.015328\n"
     ]
    },
    {
     "name": "stderr",
     "output_type": "stream",
     "text": [
      "Training:  28%|██▊       | 701/2500 [39:11<2:13:45,  4.46s/Epochs]"
     ]
    },
    {
     "name": "stdout",
     "output_type": "stream",
     "text": [
      "train loss 0.013616 test loss 0.011659\n"
     ]
    },
    {
     "name": "stderr",
     "output_type": "stream",
     "text": [
      "Training:  32%|███▏      | 801/2500 [47:04<2:34:57,  5.47s/Epochs]"
     ]
    },
    {
     "name": "stdout",
     "output_type": "stream",
     "text": [
      "train loss 0.01631 test loss 0.011755\n"
     ]
    },
    {
     "name": "stderr",
     "output_type": "stream",
     "text": [
      "Training:  36%|███▌      | 901/2500 [56:48<2:46:53,  6.26s/Epochs]"
     ]
    },
    {
     "name": "stdout",
     "output_type": "stream",
     "text": [
      "train loss 0.012992 test loss 0.011698\n"
     ]
    },
    {
     "name": "stderr",
     "output_type": "stream",
     "text": [
      "Training:  38%|███▊      | 946/2500 [1:01:42<3:38:16,  8.43s/Epochs]"
     ]
    },
    {
     "name": "stdout",
     "output_type": "stream",
     "text": [
      "Epoch   946: reducing learning rate of group 0 to 5.0000e-05.\n"
     ]
    },
    {
     "name": "stderr",
     "output_type": "stream",
     "text": [
      "Training:  40%|████      | 1001/2500 [1:11:05<3:30:18,  8.42s/Epochs]"
     ]
    },
    {
     "name": "stdout",
     "output_type": "stream",
     "text": [
      "train loss 0.013299 test loss 0.010653\n"
     ]
    },
    {
     "name": "stderr",
     "output_type": "stream",
     "text": [
      "Training:  44%|████▍     | 1101/2500 [1:24:03<3:51:57,  9.95s/Epochs]"
     ]
    },
    {
     "name": "stdout",
     "output_type": "stream",
     "text": [
      "train loss 0.011803 test loss 0.010663\n"
     ]
    },
    {
     "name": "stderr",
     "output_type": "stream",
     "text": [
      "Training:  47%|████▋     | 1167/2500 [1:33:06<2:57:12,  7.98s/Epochs]"
     ]
    },
    {
     "name": "stdout",
     "output_type": "stream",
     "text": [
      "Epoch  1167: reducing learning rate of group 0 to 2.5000e-05.\n"
     ]
    },
    {
     "name": "stderr",
     "output_type": "stream",
     "text": [
      "Training:  48%|████▊     | 1201/2500 [1:37:57<3:15:36,  9.03s/Epochs]"
     ]
    },
    {
     "name": "stdout",
     "output_type": "stream",
     "text": [
      "train loss 0.011013 test loss 0.010212\n"
     ]
    },
    {
     "name": "stderr",
     "output_type": "stream",
     "text": [
      "Training:  52%|█████▏    | 1301/2500 [1:49:42<2:11:43,  6.59s/Epochs]"
     ]
    },
    {
     "name": "stdout",
     "output_type": "stream",
     "text": [
      "train loss 0.010071 test loss 0.009386\n"
     ]
    },
    {
     "name": "stderr",
     "output_type": "stream",
     "text": [
      "Training:  56%|█████▌    | 1401/2500 [2:01:44<2:07:55,  6.98s/Epochs]"
     ]
    },
    {
     "name": "stdout",
     "output_type": "stream",
     "text": [
      "train loss 0.010788 test loss 0.009543\n"
     ]
    },
    {
     "name": "stderr",
     "output_type": "stream",
     "text": [
      "Training:  58%|█████▊    | 1456/2500 [2:08:10<2:01:00,  6.95s/Epochs]"
     ]
    },
    {
     "name": "stdout",
     "output_type": "stream",
     "text": [
      "Epoch  1456: reducing learning rate of group 0 to 1.2500e-05.\n"
     ]
    },
    {
     "name": "stderr",
     "output_type": "stream",
     "text": [
      "Training:  60%|██████    | 1501/2500 [2:13:41<2:07:40,  7.67s/Epochs]"
     ]
    },
    {
     "name": "stdout",
     "output_type": "stream",
     "text": [
      "train loss 0.01018 test loss 0.009245\n"
     ]
    },
    {
     "name": "stderr",
     "output_type": "stream",
     "text": [
      "Training:  64%|██████▍   | 1601/2500 [2:26:16<1:58:14,  7.89s/Epochs]"
     ]
    },
    {
     "name": "stdout",
     "output_type": "stream",
     "text": [
      "train loss 0.01012 test loss 0.009248\n"
     ]
    },
    {
     "name": "stderr",
     "output_type": "stream",
     "text": [
      "Training:  68%|██████▊   | 1701/2500 [2:39:45<2:01:10,  9.10s/Epochs]"
     ]
    },
    {
     "name": "stdout",
     "output_type": "stream",
     "text": [
      "train loss 0.009689 test loss 0.009344\n"
     ]
    },
    {
     "name": "stderr",
     "output_type": "stream",
     "text": [
      "Training:  71%|███████   | 1775/2500 [2:51:37<1:41:40,  8.42s/Epochs]"
     ]
    },
    {
     "name": "stdout",
     "output_type": "stream",
     "text": [
      "Epoch  1775: reducing learning rate of group 0 to 6.2500e-06.\n"
     ]
    },
    {
     "name": "stderr",
     "output_type": "stream",
     "text": [
      "Training:  72%|███████▏  | 1801/2500 [2:55:57<2:21:16, 12.13s/Epochs]"
     ]
    },
    {
     "name": "stdout",
     "output_type": "stream",
     "text": [
      "train loss 0.009006 test loss 0.008854\n"
     ]
    },
    {
     "name": "stderr",
     "output_type": "stream",
     "text": [
      "Training:  76%|███████▌  | 1901/2500 [3:12:07<1:25:12,  8.53s/Epochs]"
     ]
    },
    {
     "name": "stdout",
     "output_type": "stream",
     "text": [
      "train loss 0.009149 test loss 0.008878\n"
     ]
    },
    {
     "name": "stderr",
     "output_type": "stream",
     "text": [
      "Training:  76%|███████▌  | 1904/2500 [3:12:43<1:49:29, 11.02s/Epochs]"
     ]
    },
    {
     "name": "stdout",
     "output_type": "stream",
     "text": [
      "Epoch  1904: reducing learning rate of group 0 to 3.1250e-06.\n"
     ]
    },
    {
     "name": "stderr",
     "output_type": "stream",
     "text": [
      "Training:  80%|████████  | 2001/2500 [3:28:58<1:22:46,  9.95s/Epochs]"
     ]
    },
    {
     "name": "stdout",
     "output_type": "stream",
     "text": [
      "train loss 0.009469 test loss 0.008797\n"
     ]
    },
    {
     "name": "stderr",
     "output_type": "stream",
     "text": [
      "Training:  80%|████████  | 2005/2500 [3:29:45<1:37:00, 11.76s/Epochs]"
     ]
    },
    {
     "name": "stdout",
     "output_type": "stream",
     "text": [
      "Epoch  2005: reducing learning rate of group 0 to 1.5625e-06.\n"
     ]
    },
    {
     "name": "stderr",
     "output_type": "stream",
     "text": [
      "Training:  84%|████████▍ | 2101/2500 [3:46:31<1:27:20, 13.13s/Epochs]"
     ]
    },
    {
     "name": "stdout",
     "output_type": "stream",
     "text": [
      "train loss 0.009981 test loss 0.008878\n"
     ]
    },
    {
     "name": "stderr",
     "output_type": "stream",
     "text": [
      "Training:  84%|████████▍ | 2106/2500 [3:47:18<1:01:15,  9.33s/Epochs]"
     ]
    },
    {
     "name": "stdout",
     "output_type": "stream",
     "text": [
      "Epoch  2106: reducing learning rate of group 0 to 1.0000e-06.\n"
     ]
    },
    {
     "name": "stderr",
     "output_type": "stream",
     "text": [
      "Training:  88%|████████▊ | 2201/2500 [4:04:17<58:42, 11.78s/Epochs]  "
     ]
    },
    {
     "name": "stdout",
     "output_type": "stream",
     "text": [
      "train loss 0.009794 test loss 0.008967\n"
     ]
    },
    {
     "name": "stderr",
     "output_type": "stream",
     "text": [
      "Training:  92%|█████████▏| 2301/2500 [4:21:56<33:41, 10.16s/Epochs]  "
     ]
    },
    {
     "name": "stdout",
     "output_type": "stream",
     "text": [
      "train loss 0.009545 test loss 0.008926\n"
     ]
    },
    {
     "name": "stderr",
     "output_type": "stream",
     "text": [
      "Training:  96%|█████████▌| 2401/2500 [4:39:53<17:43, 10.75s/Epochs]"
     ]
    },
    {
     "name": "stdout",
     "output_type": "stream",
     "text": [
      "train loss 0.009514 test loss 0.008809\n"
     ]
    },
    {
     "name": "stderr",
     "output_type": "stream",
     "text": [
      "Training: 100%|██████████| 2500/2500 [4:54:18<00:00,  7.06s/Epochs]"
     ]
    },
    {
     "name": "stdout",
     "output_type": "stream",
     "text": [
      "Min test set loss: 0.008644351735711098\n",
      "Minimum loss: 0.008534951567915934\n"
     ]
    },
    {
     "name": "stderr",
     "output_type": "stream",
     "text": [
      "\n"
     ]
    },
    {
     "data": {
      "image/png": "[encoded data removed]",
      "text/plain": [
       "<Figure size 432x288 with 1 Axes>"
      ]
     },
     "metadata": {
      "needs_background": "light"
     },
     "output_type": "display_data"
    }
   ],
   "source": [
    "data_stats_list=torch.load(dataset_dir+'/data_stats_list.pt')\n",
    "\n",
    "device = 'cuda' if torch.cuda.is_available() else 'cpu'\n",
    "args.device = device\n",
    "print(device)\n",
    "#data_=data_[:1450]\n",
    "#data_label=data_label[:290]\n",
    "test_losses, losses, best_model,best_test_loss =gmesh_transformer_train(data_,data_label, device,data_stats_list, args,edge_num)\n",
    "print(\"Min test set loss: {0}\".format(min(test_losses)))\n",
    "print(\"Minimum loss: {0}\".format(min(losses)))\n",
    "\n",
    "save_plots(args, losses, test_losses)"
   ]
  },
  {
   "cell_type": "code",
   "execution_count": 12,
   "metadata": {},
   "outputs": [
    {
     "name": "stdout",
     "output_type": "stream",
     "text": [
      "200\n",
      "Data(x=[1400, 32], edge_index=[2, 3264], edge_attr=[3264, 32])\n"
     ]
    }
   ],
   "source": [
    "per_t=1     #在编码和解码的时候每三个时刻个用的点是一样的\n",
    "batch_size = int(number_ts/per_t)\n",
    "data_encode=torch.load(dataset_dir+'/M_encode_output_'+str(0)+str(number_trajectories)\n",
    "                                             +'traj'+str(per_t)+str(batch_size)+str(satart_number_ts)+str(number_ts)+'ts_vis.pt')\n",
    "print(len(data_encode))\n",
    "data=copy.deepcopy(data_encode[0:10])\n",
    "a=copy.deepcopy(data_encode[0])\n",
    "print(a)"
   ]
  },
  {
   "cell_type": "code",
   "execution_count": 12,
   "metadata": {},
   "outputs": [],
   "source": [
    "class objectview(object):\n",
    "    def __init__(self, d):\n",
    "        self.__dict__ = d        \n",
    "for args in [\n",
    "        {'model_type': 'meshgraphnet_transformer',\n",
    "         'num_layers': 2,\n",
    "         'batchsize': 5,       #是lable上的batchsize\n",
    "         'hidden_dim': 36,      #在低维空间上的编码可以写大一点，128#30\n",
    "         'hidden_channels':32,  #这里的hidden_dim与encode_decode中的hidden_channels相同\n",
    "         'epochs': 2500,#5000\n",
    "         'attr_epochs':8000,#8000\n",
    "         'train_size':140, #45\n",
    "         'test_size': 50, #10         #按照lable的来\n",
    "         'device':'cuda',\n",
    "         'shuffle': False,\n",
    "         'save_best_model': True,\n",
    "         'checkpoint_dir': '/root/data1/bubble_EMD/mgnn_transformerbest_models/',\n",
    "         'postprocess_dir': '/root/data1/bubble_EMD/mgnn_transformer_loss_plots/',\n",
    "         'd_k': 28,#28\n",
    "         'd_v': 28,\n",
    "         'input_shape': 12,   #加上时间信息，所以比n_graph_encode的最后一个多两维\n",
    "         'n_heads': 6,\n",
    "         'n_layers': 5,\n",
    "         'ff_dim': 64,\n",
    "         'seq_len': 10,        #改per_t-1,二推一\n",
    "         'per_t':11,\n",
    "         'attr_train_size':270,\n",
    "         'attr_batchsize':10,\n",
    "        'n_graph_encode':[500,150,80,10],\n",
    "        'pool_num':[2700,2000,1400]},\n",
    "]:\n",
    "        args = objectview(args)\n",
    "    \n",
    "model_name='g_trans_model_nl'+str(args.num_layers)+'_bs'+str(args.batchsize) + \\\n",
    "               '_hd'+str(args.hidden_dim)+'_ep'+str(args.epochs)+'_wd' + \\\n",
    "               '_shuff_'+str(args.shuffle)+'_dk'+str(args.d_k)+'_heads'+str(args.n_heads)\n",
    "args.batchsize=1\n",
    "node_model = MeshGraphNet_transformer(args,edge_num).to(device)\n",
    "node_model.load_state_dict(torch.load('/root/data1/bubble_EMD/mgnn_transformerbest_models/'+model_name+'.pt'))\n",
    "\n",
    "EDstats_list=torch.load(dataset_dir+'/EDstats_list.pt')\n",
    "data_stats_list=torch.load(dataset_dir+'/data_stats_list.pt')\n",
    "[EDmean_vec_x,EDstd_vec_x,EDmean_vec_edge,EDstd_vec_edge] = EDstats_list\n",
    "(EDmean_vec_x,EDstd_vec_x,EDmean_vec_edge,EDstd_vec_edge)=(EDmean_vec_x.to(device),\n",
    "        EDstd_vec_x.to(device),EDmean_vec_edge.to(device),EDstd_vec_edge.to(device))\n",
    "[mean_vec_x,std_vec_x,mean_vec_edge,std_vec_edge] = data_stats_list\n",
    "(mean_vec_x,std_vec_x,mean_vec_edge,std_vec_edge)=(mean_vec_x.to(device),std_vec_x.to(device),\n",
    "                                                   mean_vec_edge.to(device),std_vec_edge.to(device))"
   ]
  },
  {
   "cell_type": "code",
   "execution_count": 9,
   "metadata": {},
   "outputs": [],
   "source": [
    "def predict_sequences_multiple(model, data, a, predict_num,seq_len):\n",
    "\n",
    "        print('[Model] Predicting Sequences Multiple...')\n",
    "        a=a.to(device)\n",
    "        code_index=a.edge_index\n",
    "        for i in range(predict_num):\n",
    "          list_p = data[:] if i == 0 else data[i:]\n",
    "          data_loader=DataLoader(list_p, batch_size=seq_len, shuffle=False) \n",
    "          for i,batch in enumerate(data_loader):\n",
    "              batch=batch.to(device)\n",
    "              code_x,code_edge_attr = gmesh_transformer_pred(batch,a,model,mean_vec_x,std_vec_x,mean_vec_edge,std_vec_edge)\n",
    "          \n",
    "          new_data=Data(x=code_x, edge_index=code_index, edge_attr=code_edge_attr)\n",
    "          data.append(new_data)\n",
    "\n",
    "        return data"
   ]
  },
  {
   "cell_type": "code",
   "execution_count": 15,
   "metadata": {},
   "outputs": [
    {
     "name": "stdout",
     "output_type": "stream",
     "text": [
      "[Model] Predicting Sequences Multiple...\n"
     ]
    },
    {
     "name": "stderr",
     "output_type": "stream",
     "text": [
      "/usr/local/lib/python3.8/dist-packages/torch_geometric/deprecation.py:12: UserWarning: 'data.DataLoader' is deprecated, use 'loader.DataLoader' instead\n",
      "  warnings.warn(out)\n"
     ]
    },
    {
     "name": "stdout",
     "output_type": "stream",
     "text": [
      "200\n"
     ]
    }
   ],
   "source": [
    "predict_num=190\n",
    "seq_len=10\n",
    "data=predict_sequences_multiple(node_model, data, a, predict_num,seq_len)\n",
    "print(len(data))  #60"
   ]
  },
  {
   "cell_type": "code",
   "execution_count": 16,
   "metadata": {},
   "outputs": [
    {
     "name": "stdout",
     "output_type": "stream",
     "text": [
      "200\n"
     ]
    }
   ],
   "source": [
    "i=0\n",
    "batches=torch.load(dataset_dir+'/'+str(i)+str(number_trajectories)+'traj'+'batches.pt')\n",
    "xs=torch.load(dataset_dir+'/'+str(i)+str(number_trajectories)+'traj'+'xs.pt')\n",
    "positions=torch.load( dataset_dir+'/'+str(i)+str(number_trajectories)+'traj'+'positions.pt')\n",
    "edge_attrs=torch.load( dataset_dir+'/'+str(i)+str(number_trajectories)+'traj'+'edge_attrs.pt')\n",
    "edge_indices=torch.load( dataset_dir+'/'+str(i)+str(number_trajectories)+'traj'+'edge_indices.pt')\n",
    "edge_masks=torch.load(dataset_dir+'/'+str(i)+str(number_trajectories)+'traj'+'edge_masks.pt')\n",
    "\n",
    "\n",
    "perm_list=torch.load(dataset_dir+'/perm_list_150.pt')\n",
    "\n",
    "\n",
    "\n",
    "\n",
    "decode_model=GNN_Decode(\n",
    "                hidden_channels,\n",
    "                in_channels_node,\n",
    "                in_channels_edge,\n",
    "                \n",
    "                out_channels,\n",
    "                encoding_dim,\n",
    "                n_mlp_mp,\n",
    "                n_mlp_encode,\n",
    "\n",
    "                ae_dim,\n",
    "                n_mp_down,\n",
    "                n_mp_up,\n",
    "                pool_num,\n",
    "                \n",
    "                act,\n",
    "                \n",
    "                name='gnn_topk')\n",
    "decode_model.load_state_dict(torch.load(pathD), strict=False)\n",
    "decode_model.to(device)\n",
    "\n",
    "pred_x=[]\n",
    "with torch.no_grad():\n",
    "        for i in range(len(data)):\n",
    "              x=decode_model(data[i], batches , xs, positions, edge_attrs, edge_indices, edge_masks,perm_list[0])\n",
    "              x=x*EDstd_vec_x+EDmean_vec_x\n",
    "              pred_x.append(x)\n",
    "\n",
    "              \n",
    "print(len(pred_x))"
   ]
  },
  {
   "cell_type": "code",
   "execution_count": 10,
   "metadata": {},
   "outputs": [],
   "source": [
    "def ROM_transform_vector(data, satart_number_ts,number_ts, originalFolder, destinationFolder, fileName):\n",
    "\n",
    "    folder = os.path.exists(destinationFolder)\n",
    "\n",
    "    if not folder: \n",
    "        print('start to create the destination folder')   \n",
    "        os.makedirs(destinationFolder)       \n",
    "        copyFiles(originalFolder,destinationFolder) \n",
    "\n",
    "    print('start to store data as a new variable')\n",
    "    \n",
    "    for i in range(number_ts):\n",
    "        f_filename = destinationFolder + fileName + str(i+satart_number_ts)+ \".vtk\"\n",
    "        reader=vtk.vtkPolyDataReader()\n",
    "        reader.SetFileName(f_filename)  # SetFileName设置要读取的vtk文件\n",
    "        reader.ReadAllScalarsOn()\n",
    "        reader.ReadAllVectorsOn()\n",
    "        reader.ReadAllTensorsOn()\n",
    "        reader.Update()\n",
    "\n",
    "        vtkdata=reader.GetOutput()  # GetOutput获取文件的数据\n",
    "        num_points=vtkdata.GetNumberOfPoints() \n",
    "        point_data =vtkdata.GetPointData()\n",
    "        a=data[i]\n",
    "        a=a.to('cpu')\n",
    "        a=a.numpy()\n",
    "    \n",
    "        velocity_array = point_data.GetArray('U.water')\n",
    "        #print(velocity_array.GetTuple(0)[0:2])\n",
    "        for j in range(num_points):\n",
    "            original_velocity = list(velocity_array.GetTuple(j))\n",
    "            original_velocity[0:2]=tuple(a[j])\n",
    "            velocity_array.SetTuple(j, original_velocity)\n",
    "\n",
    "        writer = vtk.vtkGenericDataObjectWriter()\n",
    "        writer.SetFileName(f_filename)\n",
    "        writer.SetInputData(vtkdata)\n",
    "        writer.Write()\n",
    "       \n",
    "    print('transform succeed')\t"
   ]
  },
  {
   "cell_type": "code",
   "execution_count": 18,
   "metadata": {},
   "outputs": [
    {
     "name": "stdout",
     "output_type": "stream",
     "text": [
      "start to create the destination folder\n",
      "start to store data as a new variable\n",
      "transform succeed\n"
     ]
    }
   ],
   "source": [
    "for i in range(number_trajectories):\n",
    "    satart_number_ts=50\n",
    "    ts=len(pred_x)\n",
    "    originalFolder='/root/data1/water_slice_'+str(i)\n",
    "    destinationFolder='/root/data1/ROM_bubble_dataset_EDoutput_'+str(predict_num)+str(i)\n",
    "    fileName=\"/slice_\"\n",
    "    ROM_transform_vector(pred_x, satart_number_ts,ts, originalFolder, destinationFolder, fileName)"
   ]
  },
  {
   "cell_type": "code",
   "execution_count": 19,
   "metadata": {},
   "outputs": [],
   "source": [
    "def pcc_of_two(ori_data, rom_data):\n",
    "\n",
    "    if ori_data.ndim == rom_data.ndim:\n",
    "        if rom_data.ndim == 3:\n",
    "            y_u = ori_data[...,0] # u\n",
    "            y_v = ori_data[...,1] # v\n",
    "            y_0_u = rom_data[...,0] # u\n",
    "            y_0_v = rom_data[...,1] # v\n",
    "            pcc_x = pearson_value(y_u, y_0_u)\n",
    "            pcc_y = pearson_value(y_v, y_0_v)\n",
    "            plt.figure(1)\n",
    "            plt.plot(pcc_x)\n",
    "            plt.xlabel('Time(s)',{'size' : 11})\n",
    "            plt.ylabel('Pearson Correlation Coefficient of x axis',{'size' : 11})\n",
    "            plt.figure(2)\n",
    "            plt.plot(pcc_y)\n",
    "            plt.xlabel('Time(s)',{'size' : 11})\n",
    "            plt.ylabel('Pearson Correlation Coefficient of y axis',{'size' : 11})\n",
    "            plt.show()\n",
    "        elif rom_data.ndim == 2:\n",
    "            pcc = pearson_value(ori_data, rom_data)\n",
    "            # print(pcc.shape)\n",
    "            plt.figure(1)\n",
    "            # x = np.linspace(0,pcc.shape[0], num = pcc.shape[0])\n",
    "            plt.plot(pcc)\n",
    "            plt.ylim((0.85, 1))\n",
    "            plt.xlabel('Time(s)',{'size' : 11})\n",
    "            plt.ylabel('Pearson Correlation Coefficient',{'size' : 11})\n",
    "            plt.show()\n",
    "    else:\n",
    "        print('the dimension of these two series are not equal. Please check them.')"
   ]
  },
  {
   "cell_type": "code",
   "execution_count": 20,
   "metadata": {},
   "outputs": [
    {
     "name": "stdout",
     "output_type": "stream",
     "text": [
      "200\n",
      "(200, 6702) (200, 6702)\n"
     ]
    },
    {
     "data": {
      "image/png": "[encoded data removed]",
      "text/plain": [
       "<Figure size 432x288 with 1 Axes>"
      ]
     },
     "metadata": {
      "needs_background": "light"
     },
     "output_type": "display_data"
    }
   ],
   "source": [
    "ED_out = pred_x   #60\n",
    "ori=torch.load(dataset_dir+'/meshgraphnets_miniset'+str(1)+str(1)+str(number_trajectories)+'traj'+str(satart_number_ts)+str(number_ts)+'ts_vis.pt')\n",
    "print(len(ori))   #150\n",
    "ori=ori[0:200]\n",
    "\n",
    "ts=200\n",
    "\n",
    "for i in range(ts):\n",
    "    \n",
    "    uvw=ED_out[i].reshape(1,ED_out[i].shape[0],ED_out[i].shape[1]).to('cpu')\n",
    "    ouvw=ori[i].x.reshape(1,ori[i].x.shape[0],ori[i].x.shape[1])\n",
    "    outputs = uvw if i==0 else np.vstack((outputs,uvw))\n",
    "    inputs=ouvw if i==0 else np.vstack((inputs,ouvw))\n",
    "\n",
    "output_ = np.hstack((outputs[:,:,0],outputs[:,:,1]))\n",
    "input_ = np.hstack((inputs[:,:,0],inputs[:,:,1]))\n",
    "print(output_.shape,input_.shape)\n",
    "\n",
    "pcc_of_two(input_, output_)"
   ]
  },
  {
   "cell_type": "code",
   "execution_count": 27,
   "metadata": {},
   "outputs": [],
   "source": [
    "def mse(ori_data, rom_data):\n",
    "\n",
    "    rmse_value = []\n",
    "    acc=torch.nn.MSELoss(reduction='sum')\n",
    "    acc1=torch.nn.MSELoss('mean')\n",
    "    if len(ori_data) != len(rom_data):\n",
    "        print('the length of these two array do not match')\n",
    "    else:\n",
    "        for i in range(len(rom_data)):\n",
    "            #value = mean_squared_error(ori_data[i], rom_data[i])\n",
    "            ori=torch.Tensor(ori_data[i])\n",
    "            #print(ori.shape)\n",
    "            rom=torch.Tensor(rom_data[i])\n",
    "            #value =math.sqrt(acc(ori, rom))\n",
    "            #print()\n",
    "            #print((acc(ori, rom)))\n",
    "            #print(math.sqrt((acc(ori, rom))))\n",
    "            #print(acc1(ori, rom))\n",
    "            #print(math.sqrt((acc1(ori, rom))))\n",
    "            #k=(torch.norm(ori, p=1))/len(ori)\n",
    "            #print(k)\n",
    "\n",
    "            #value=acc1(ori,rom)\n",
    "            value =math.sqrt((acc1(ori, rom)))\n",
    "            #value =math.sqrt((acc1(ori, rom)))/k\n",
    "            #value =math.sqrt((acc(ori, rom)))/(torch.norm(ori, p=1))\n",
    "            #value =(acc(ori, rom)/torch.pow((torch.norm(ori, p=2)),2))\n",
    "            #value =math.sqrt(acc(ori, rom)/(torch.pow((torch.norm(ori, p=2)),2)))\n",
    "            #print(value)\n",
    "            if i == 0:\n",
    "                rmse_value = value\n",
    "            else:\n",
    "                rmse_value = np.hstack((rmse_value,value))\n",
    "        rmse_value = np.reshape(rmse_value,(-1,1))\n",
    "    return rmse_value\n",
    "\n",
    "def mse_of_two(ori_data, rom_data):\n",
    "    # , rom_data_1):\n",
    "    if ori_data.ndim == rom_data.ndim:\n",
    "        if rom_data.ndim == 3:\n",
    "            y_u = ori_data[...,0] # u\n",
    "            y_v = ori_data[...,1] # v\n",
    "            y_0_u = rom_data[...,0] # u\n",
    "            y_0_v = rom_data[...,1] # v\n",
    "            rmse_x = mse(y_u, y_0_u)\n",
    "            rmse_y = mse(y_v, y_0_v)\n",
    "            plt.figure(1)\n",
    "            plt.plot(rmse_x)\n",
    "            plt.xlabel('Time(s)',{'size' : 11})\n",
    "            plt.ylabel('RMSE of x axis',{'size' : 11})\n",
    "            plt.figure(2)\n",
    "            plt.plot(rmse_y)\n",
    "            plt.xlabel('Time(s)',{'size' : 11})\n",
    "            plt.ylabel('RMSE of y axis',{'size' : 11})\n",
    "            plt.show()\n",
    "        elif rom_data.ndim == 2:\n",
    "            rmse_value = mse(ori_data, rom_data)\n",
    "            # rmse_value_1 = rmse(ori_data, rom_data_1)\n",
    "            # print(pcc.shape[0], pcc.shape[1])\n",
    "            plt.figure(1)\n",
    "            # x = np.linspace(0,rmse_value.shape[0], rmse_value.shape[0])\n",
    "            # plt.plot(x, rmse_value, x, rmse_value_1)\n",
    "            plt.plot(rmse_value)\n",
    "            plt.ylim((0, 0.2))\n",
    "            plt.xlabel('Time(s)',{'size' : 11})\n",
    "            plt.ylabel('RMSE',{'size' : 11})\n",
    "            # plt.legend(['7', '8'], loc='lower right')   \n",
    "            plt.show()\n",
    "    else:\n",
    "        print('the dimension of these two series are not equal. Please check them.')"
   ]
  },
  {
   "cell_type": "code",
   "execution_count": 28,
   "metadata": {},
   "outputs": [
    {
     "data": {
      "image/png": "[encoded data removed]",
      "text/plain": [
       "<Figure size 432x288 with 1 Axes>"
      ]
     },
     "metadata": {
      "needs_background": "light"
     },
     "output_type": "display_data"
    }
   ],
   "source": [
    "mse_of_two(input_, output_)"
   ]
  },
  {
   "cell_type": "markdown",
   "metadata": {},
   "source": [
    "十个数据"
   ]
  },
  {
   "cell_type": "code",
   "execution_count": 3,
   "metadata": {},
   "outputs": [
    {
     "name": "stdout",
     "output_type": "stream",
     "text": [
      "cuda\n",
      "cuda:0\n",
      "8\n"
     ]
    },
    {
     "name": "stderr",
     "output_type": "stream",
     "text": [
      "/usr/local/lib/python3.8/dist-packages/torch_geometric/deprecation.py:12: UserWarning: 'data.DataLoader' is deprecated, use 'loader.DataLoader' instead\n",
      "  warnings.warn(out)\n"
     ]
    }
   ],
   "source": [
    "SEED = 42\n",
    "torch.manual_seed(SEED)\n",
    "torch.cuda.manual_seed_all(SEED)\n",
    "np.random.seed(SEED)\n",
    "random.seed(SEED)        #Python\n",
    "device = 'cuda' if torch.cuda.is_available() else 'cpu'    #cuda\n",
    "#perm_list=torch.load(dataset_dir+'/perm_list.pt')\n",
    "perm_list=torch.load(dataset_dir+'/perm_list_150.pt')\n",
    "\n",
    "print(device)\n",
    "for i in range(len(perm_list[0])):\n",
    "   \n",
    "    perm_list[0][i]=perm_list[0][i].to(device)\n",
    "print(perm_list[0][0].device)\n",
    "\n",
    "pathE='/root/data1/bubble_EMD/Encode_state_dict.pt'\n",
    "pathD='/root/data1/bubble_EMD/Decode_state_dict.pt'\n",
    "pathED = '/root/data1/bubble_EMD/ED_state_dict.pt'\n",
    "epochs = 200\n",
    "\n",
    "file_path= dataset_dir+'/meshgraphnets_miniset'+str(per_t)+str(batch_size)+str(number_trajectories)+'traj'+str(satart_number_ts)+str(number_ts)+'ts_vis.pt'\n",
    "dataset = torch.load(file_path)\n",
    "print(len(dataset))\n",
    "#EDstats_list = get_EDstats(dataset)\n",
    "\n",
    "[EDmean_vec_x,EDstd_vec_x,EDmean_vec_edge,EDstd_vec_edge] = torch.load(dataset_dir+'/EDstats_list.pt')\n",
    "\n",
    "(EDmean_vec_x,EDstd_vec_x,EDmean_vec_edge,EDstd_vec_edge)=(EDmean_vec_x.to(device),\n",
    "        EDstd_vec_x.to(device),EDmean_vec_edge.to(device),EDstd_vec_edge.to(device))\n",
    "\n",
    "train_size=7        #改\n",
    "train_loader = DataLoader(dataset[:train_size],  shuffle=False)\n",
    "valid_loader = DataLoader(dataset[train_size:], shuffle=False)#分一下训练数据和验证数据\n",
    "\n",
    "\n",
    "sample = dataset[:train_size][0]\n",
    "\n",
    "in_channels_node = sample.x.shape[1]  #2\n",
    "in_channels_edge = sample.edge_attr.shape[1]  #3\n",
    "hidden_channels = 32    #22#12\n",
    "out_channels = in_channels_node\n",
    "batch_size =25       #改\n",
    "n_mlp_encode = 4\n",
    "n_mlp_mp = 6#5\n",
    "encoding_dim=32\n",
    "ae_dim=[300,128,64,32]#[128,64,32,16,10]\n",
    "n_mp_down = [2,2,1,1]\n",
    "n_mp_up= [1,1,2,2]\n",
    "pool_num =[2700,2000,1400]#[2000,1500,1200,1000][2000,1600,1400,1000]\n",
    "\n",
    "act = F.elu\n",
    "param_sharing = False"
   ]
  },
  {
   "cell_type": "code",
   "execution_count": 4,
   "metadata": {},
   "outputs": [
    {
     "name": "stdout",
     "output_type": "stream",
     "text": [
      "14\n",
      "3351\n",
      "torch.Size([1172850, 2])\n",
      "450\n",
      "Data(x=[3351, 2], edge_index=[2, 19634], edge_attr=[19634, 3], cells=[6467, 3], mesh_pos=[3351, 2])\n"
     ]
    }
   ],
   "source": [
    "model = MessagePassing_Autoencode_attn(\n",
    "                hidden_channels,\n",
    "                in_channels_node,\n",
    "                in_channels_edge,\n",
    "                \n",
    "                out_channels,\n",
    "                encoding_dim,\n",
    "                n_mlp_mp,\n",
    "                n_mlp_encode,\n",
    "\n",
    "                ae_dim,\n",
    "                n_mp_down,\n",
    "                n_mp_up,\n",
    "                pool_num,\n",
    "                \n",
    "                act,\n",
    "                \n",
    "                name='gnn_topk')\n",
    "model.to(device)\n",
    "\n",
    "model.load_state_dict(torch.load(pathED), strict=False)\n",
    "dataset = torch.load('/root/data1/bubble_EMD/meshgraphnets_miniset1251traj50350ts_vis.pt')\n",
    "loader = DataLoader(dataset,  shuffle=False)\n",
    "print(len(dataset))\n",
    "per_t=1\n",
    "batch_size=25     #改\n",
    "num=int(dataset[0].x.shape[0]/(per_t*batch_size))\n",
    "print(num)\n",
    "pred=torch.tensor([[0,0]]).type(torch.float).to(device)\n",
    "\n",
    "device = 'cuda' if torch.cuda.is_available() else 'cpu'\n",
    "with torch.no_grad():\n",
    "  for step, data in enumerate(loader):\n",
    "    data=data.to(device)\n",
    "    out, _ = model(data, per_t ,perm_list[0], batch_size,EDmean_vec_x,EDstd_vec_x,EDmean_vec_edge,EDstd_vec_edge,batch=None, return_mask=False)\n",
    "    pred=torch.vstack((pred,out))\n",
    "pred=pred[1:,:]\n",
    "print(pred.shape)   #200*3718\n",
    "pred=pred*EDstd_vec_x+EDmean_vec_x   #pred是torch，行数为600个时间*点数，列为2\n",
    "#per_t=1\n",
    "#batch_size=1\n",
    "#get_dataset(number_trajectories,number_ts,per_t,batch_size,dataset_dir,path)\n",
    "file_path_ed='/root/data1/bubble_EMD/meshgraphnets_miniset111traj50450ts_vis.pt'\n",
    "dataset_input = torch.load(file_path_ed)\n",
    "print(len(dataset_input)) #200\n",
    "print(dataset_input[0])\n",
    "pred=pred.to('cpu')\n",
    "viz_data = {}\n",
    "viz_data_loader = copy.deepcopy(dataset_input)\n",
    "\n",
    "for i in range(int(pred.shape[0]/num)):\n",
    "  viz_data_loader[i].x=pred[i*num:(i+1)*num,:]\n",
    "torch.save(viz_data_loader,'/root/data1/bubble_duibishiyan'+'/GA_encode_decode_output'+str(number_trajectories)+'traj'+str(satart_number_ts)+str(number_ts)+'ts_vis.pt')#300个data"
   ]
  },
  {
   "cell_type": "code",
   "execution_count": 4,
   "metadata": {},
   "outputs": [
    {
     "ename": "AttributeError",
     "evalue": "'Global_attention' object has no attribute 'min_score'",
     "output_type": "error",
     "traceback": [
      "\u001b[0;31m---------------------------------------------------------------------------\u001b[0m",
      "\u001b[0;31mAttributeError\u001b[0m                            Traceback (most recent call last)",
      "File \u001b[0;32m/usr/local/lib/python3.8/dist-packages/IPython/core/formatters.py:707\u001b[0m, in \u001b[0;36mPlainTextFormatter.__call__\u001b[0;34m(self, obj)\u001b[0m\n\u001b[1;32m    700\u001b[0m stream \u001b[38;5;241m=\u001b[39m StringIO()\n\u001b[1;32m    701\u001b[0m printer \u001b[38;5;241m=\u001b[39m pretty\u001b[38;5;241m.\u001b[39mRepresentationPrinter(stream, \u001b[38;5;28mself\u001b[39m\u001b[38;5;241m.\u001b[39mverbose,\n\u001b[1;32m    702\u001b[0m     \u001b[38;5;28mself\u001b[39m\u001b[38;5;241m.\u001b[39mmax_width, \u001b[38;5;28mself\u001b[39m\u001b[38;5;241m.\u001b[39mnewline,\n\u001b[1;32m    703\u001b[0m     max_seq_length\u001b[38;5;241m=\u001b[39m\u001b[38;5;28mself\u001b[39m\u001b[38;5;241m.\u001b[39mmax_seq_length,\n\u001b[1;32m    704\u001b[0m     singleton_pprinters\u001b[38;5;241m=\u001b[39m\u001b[38;5;28mself\u001b[39m\u001b[38;5;241m.\u001b[39msingleton_printers,\n\u001b[1;32m    705\u001b[0m     type_pprinters\u001b[38;5;241m=\u001b[39m\u001b[38;5;28mself\u001b[39m\u001b[38;5;241m.\u001b[39mtype_printers,\n\u001b[1;32m    706\u001b[0m     deferred_pprinters\u001b[38;5;241m=\u001b[39m\u001b[38;5;28mself\u001b[39m\u001b[38;5;241m.\u001b[39mdeferred_printers)\n\u001b[0;32m--> 707\u001b[0m \u001b[43mprinter\u001b[49m\u001b[38;5;241;43m.\u001b[39;49m\u001b[43mpretty\u001b[49m\u001b[43m(\u001b[49m\u001b[43mobj\u001b[49m\u001b[43m)\u001b[49m\n\u001b[1;32m    708\u001b[0m printer\u001b[38;5;241m.\u001b[39mflush()\n\u001b[1;32m    709\u001b[0m \u001b[38;5;28;01mreturn\u001b[39;00m stream\u001b[38;5;241m.\u001b[39mgetvalue()\n",
      "File \u001b[0;32m/usr/local/lib/python3.8/dist-packages/IPython/lib/pretty.py:410\u001b[0m, in \u001b[0;36mRepresentationPrinter.pretty\u001b[0;34m(self, obj)\u001b[0m\n\u001b[1;32m    407\u001b[0m                         \u001b[38;5;28;01mreturn\u001b[39;00m meth(obj, \u001b[38;5;28mself\u001b[39m, cycle)\n\u001b[1;32m    408\u001b[0m                 \u001b[38;5;28;01mif\u001b[39;00m \u001b[38;5;28mcls\u001b[39m \u001b[38;5;129;01mis\u001b[39;00m \u001b[38;5;129;01mnot\u001b[39;00m \u001b[38;5;28mobject\u001b[39m \\\n\u001b[1;32m    409\u001b[0m                         \u001b[38;5;129;01mand\u001b[39;00m \u001b[38;5;28mcallable\u001b[39m(\u001b[38;5;28mcls\u001b[39m\u001b[38;5;241m.\u001b[39m\u001b[38;5;18m__dict__\u001b[39m\u001b[38;5;241m.\u001b[39mget(\u001b[38;5;124m'\u001b[39m\u001b[38;5;124m__repr__\u001b[39m\u001b[38;5;124m'\u001b[39m)):\n\u001b[0;32m--> 410\u001b[0m                     \u001b[38;5;28;01mreturn\u001b[39;00m \u001b[43m_repr_pprint\u001b[49m\u001b[43m(\u001b[49m\u001b[43mobj\u001b[49m\u001b[43m,\u001b[49m\u001b[43m \u001b[49m\u001b[38;5;28;43mself\u001b[39;49m\u001b[43m,\u001b[49m\u001b[43m \u001b[49m\u001b[43mcycle\u001b[49m\u001b[43m)\u001b[49m\n\u001b[1;32m    412\u001b[0m     \u001b[38;5;28;01mreturn\u001b[39;00m _default_pprint(obj, \u001b[38;5;28mself\u001b[39m, cycle)\n\u001b[1;32m    413\u001b[0m \u001b[38;5;28;01mfinally\u001b[39;00m:\n",
      "File \u001b[0;32m/usr/local/lib/python3.8/dist-packages/IPython/lib/pretty.py:778\u001b[0m, in \u001b[0;36m_repr_pprint\u001b[0;34m(obj, p, cycle)\u001b[0m\n\u001b[1;32m    776\u001b[0m \u001b[38;5;250m\u001b[39m\u001b[38;5;124;03m\"\"\"A pprint that just redirects to the normal repr function.\"\"\"\u001b[39;00m\n\u001b[1;32m    777\u001b[0m \u001b[38;5;66;03m# Find newlines and replace them with p.break_()\u001b[39;00m\n\u001b[0;32m--> 778\u001b[0m output \u001b[38;5;241m=\u001b[39m \u001b[38;5;28;43mrepr\u001b[39;49m\u001b[43m(\u001b[49m\u001b[43mobj\u001b[49m\u001b[43m)\u001b[49m\n\u001b[1;32m    779\u001b[0m lines \u001b[38;5;241m=\u001b[39m output\u001b[38;5;241m.\u001b[39msplitlines()\n\u001b[1;32m    780\u001b[0m \u001b[38;5;28;01mwith\u001b[39;00m p\u001b[38;5;241m.\u001b[39mgroup():\n",
      "File \u001b[0;32m/usr/local/lib/python3.8/dist-packages/torch/nn/modules/module.py:1538\u001b[0m, in \u001b[0;36mModule.__repr__\u001b[0;34m(self)\u001b[0m\n\u001b[1;32m   1536\u001b[0m child_lines \u001b[38;5;241m=\u001b[39m []\n\u001b[1;32m   1537\u001b[0m \u001b[38;5;28;01mfor\u001b[39;00m key, module \u001b[38;5;129;01min\u001b[39;00m \u001b[38;5;28mself\u001b[39m\u001b[38;5;241m.\u001b[39m_modules\u001b[38;5;241m.\u001b[39mitems():\n\u001b[0;32m-> 1538\u001b[0m     mod_str \u001b[38;5;241m=\u001b[39m \u001b[38;5;28;43mrepr\u001b[39;49m\u001b[43m(\u001b[49m\u001b[43mmodule\u001b[49m\u001b[43m)\u001b[49m\n\u001b[1;32m   1539\u001b[0m     mod_str \u001b[38;5;241m=\u001b[39m _addindent(mod_str, \u001b[38;5;241m2\u001b[39m)\n\u001b[1;32m   1540\u001b[0m     child_lines\u001b[38;5;241m.\u001b[39mappend(\u001b[38;5;124m'\u001b[39m\u001b[38;5;124m(\u001b[39m\u001b[38;5;124m'\u001b[39m \u001b[38;5;241m+\u001b[39m key \u001b[38;5;241m+\u001b[39m \u001b[38;5;124m'\u001b[39m\u001b[38;5;124m): \u001b[39m\u001b[38;5;124m'\u001b[39m \u001b[38;5;241m+\u001b[39m mod_str)\n",
      "File \u001b[0;32m/usr/local/lib/python3.8/dist-packages/torch/nn/modules/module.py:1538\u001b[0m, in \u001b[0;36mModule.__repr__\u001b[0;34m(self)\u001b[0m\n\u001b[1;32m   1536\u001b[0m child_lines \u001b[38;5;241m=\u001b[39m []\n\u001b[1;32m   1537\u001b[0m \u001b[38;5;28;01mfor\u001b[39;00m key, module \u001b[38;5;129;01min\u001b[39;00m \u001b[38;5;28mself\u001b[39m\u001b[38;5;241m.\u001b[39m_modules\u001b[38;5;241m.\u001b[39mitems():\n\u001b[0;32m-> 1538\u001b[0m     mod_str \u001b[38;5;241m=\u001b[39m \u001b[38;5;28;43mrepr\u001b[39;49m\u001b[43m(\u001b[49m\u001b[43mmodule\u001b[49m\u001b[43m)\u001b[49m\n\u001b[1;32m   1539\u001b[0m     mod_str \u001b[38;5;241m=\u001b[39m _addindent(mod_str, \u001b[38;5;241m2\u001b[39m)\n\u001b[1;32m   1540\u001b[0m     child_lines\u001b[38;5;241m.\u001b[39mappend(\u001b[38;5;124m'\u001b[39m\u001b[38;5;124m(\u001b[39m\u001b[38;5;124m'\u001b[39m \u001b[38;5;241m+\u001b[39m key \u001b[38;5;241m+\u001b[39m \u001b[38;5;124m'\u001b[39m\u001b[38;5;124m): \u001b[39m\u001b[38;5;124m'\u001b[39m \u001b[38;5;241m+\u001b[39m mod_str)\n",
      "File \u001b[0;32m/usr/local/lib/python3.8/dist-packages/torch/nn/modules/module.py:1538\u001b[0m, in \u001b[0;36mModule.__repr__\u001b[0;34m(self)\u001b[0m\n\u001b[1;32m   1536\u001b[0m child_lines \u001b[38;5;241m=\u001b[39m []\n\u001b[1;32m   1537\u001b[0m \u001b[38;5;28;01mfor\u001b[39;00m key, module \u001b[38;5;129;01min\u001b[39;00m \u001b[38;5;28mself\u001b[39m\u001b[38;5;241m.\u001b[39m_modules\u001b[38;5;241m.\u001b[39mitems():\n\u001b[0;32m-> 1538\u001b[0m     mod_str \u001b[38;5;241m=\u001b[39m \u001b[38;5;28;43mrepr\u001b[39;49m\u001b[43m(\u001b[49m\u001b[43mmodule\u001b[49m\u001b[43m)\u001b[49m\n\u001b[1;32m   1539\u001b[0m     mod_str \u001b[38;5;241m=\u001b[39m _addindent(mod_str, \u001b[38;5;241m2\u001b[39m)\n\u001b[1;32m   1540\u001b[0m     child_lines\u001b[38;5;241m.\u001b[39mappend(\u001b[38;5;124m'\u001b[39m\u001b[38;5;124m(\u001b[39m\u001b[38;5;124m'\u001b[39m \u001b[38;5;241m+\u001b[39m key \u001b[38;5;241m+\u001b[39m \u001b[38;5;124m'\u001b[39m\u001b[38;5;124m): \u001b[39m\u001b[38;5;124m'\u001b[39m \u001b[38;5;241m+\u001b[39m mod_str)\n",
      "File \u001b[0;32m~/data1/d_TAP_MP_Attention.py:760\u001b[0m, in \u001b[0;36mGlobal_attention.__repr__\u001b[0;34m(self)\u001b[0m\n\u001b[1;32m    759\u001b[0m \u001b[38;5;28;01mdef\u001b[39;00m \u001b[38;5;21m__repr__\u001b[39m(\u001b[38;5;28mself\u001b[39m) \u001b[38;5;241m-\u001b[39m\u001b[38;5;241m>\u001b[39m \u001b[38;5;28mstr\u001b[39m:\n\u001b[0;32m--> 760\u001b[0m     \u001b[38;5;28;01mif\u001b[39;00m \u001b[38;5;28;43mself\u001b[39;49m\u001b[38;5;241;43m.\u001b[39;49m\u001b[43mmin_score\u001b[49m \u001b[38;5;129;01mis\u001b[39;00m \u001b[38;5;28;01mNone\u001b[39;00m:\n\u001b[1;32m    761\u001b[0m         ratio \u001b[38;5;241m=\u001b[39m \u001b[38;5;124mf\u001b[39m\u001b[38;5;124m'\u001b[39m\u001b[38;5;124mratio=\u001b[39m\u001b[38;5;132;01m{\u001b[39;00m\u001b[38;5;28mself\u001b[39m\u001b[38;5;241m.\u001b[39mratio\u001b[38;5;132;01m}\u001b[39;00m\u001b[38;5;124m'\u001b[39m\n\u001b[1;32m    762\u001b[0m     \u001b[38;5;28;01melse\u001b[39;00m:\n",
      "File \u001b[0;32m/usr/local/lib/python3.8/dist-packages/torch/nn/modules/module.py:947\u001b[0m, in \u001b[0;36mModule.__getattr__\u001b[0;34m(self, name)\u001b[0m\n\u001b[1;32m    945\u001b[0m     \u001b[38;5;28;01mif\u001b[39;00m name \u001b[38;5;129;01min\u001b[39;00m modules:\n\u001b[1;32m    946\u001b[0m         \u001b[38;5;28;01mreturn\u001b[39;00m modules[name]\n\u001b[0;32m--> 947\u001b[0m \u001b[38;5;28;01mraise\u001b[39;00m \u001b[38;5;167;01mAttributeError\u001b[39;00m(\u001b[38;5;124m\"\u001b[39m\u001b[38;5;124m'\u001b[39m\u001b[38;5;132;01m{}\u001b[39;00m\u001b[38;5;124m'\u001b[39m\u001b[38;5;124m object has no attribute \u001b[39m\u001b[38;5;124m'\u001b[39m\u001b[38;5;132;01m{}\u001b[39;00m\u001b[38;5;124m'\u001b[39m\u001b[38;5;124m\"\u001b[39m\u001b[38;5;241m.\u001b[39mformat(\n\u001b[1;32m    948\u001b[0m     \u001b[38;5;28mtype\u001b[39m(\u001b[38;5;28mself\u001b[39m)\u001b[38;5;241m.\u001b[39m\u001b[38;5;18m__name__\u001b[39m, name))\n",
      "\u001b[0;31mAttributeError\u001b[0m: 'Global_attention' object has no attribute 'min_score'"
     ]
    }
   ],
   "source": [
    "M_encode=GNN_topk_encode(\n",
    "                hidden_channels,\n",
    "                in_channels_node,\n",
    "                in_channels_edge,\n",
    "                \n",
    "                out_channels,\n",
    "                encoding_dim,\n",
    "                n_mlp_mp,\n",
    "                n_mlp_encode,\n",
    "\n",
    "                ae_dim,\n",
    "                n_mp_down,\n",
    "                n_mp_up,\n",
    "                pool_num,\n",
    "                \n",
    "                act,\n",
    "                \n",
    "                name='gnn_topk')\n",
    "M_encode.to(device)\n",
    "M_encode.load_state_dict(torch.load(pathE), strict=False)\n",
    "\n",
    "\n",
    "decode_model=GNN_Decode(\n",
    "                hidden_channels,\n",
    "                in_channels_node,\n",
    "                in_channels_edge,\n",
    "                \n",
    "                out_channels,\n",
    "                encoding_dim,\n",
    "                n_mlp_mp,\n",
    "                n_mlp_encode,\n",
    "\n",
    "                ae_dim,\n",
    "                n_mp_down,\n",
    "                n_mp_up,\n",
    "                pool_num,\n",
    "                \n",
    "                act,\n",
    "                \n",
    "                name='gnn_topk')\n",
    "decode_model.load_state_dict(torch.load(pathD), strict=False)\n",
    "decode_model.to(device)"
   ]
  },
  {
   "cell_type": "code",
   "execution_count": 5,
   "metadata": {},
   "outputs": [
    {
     "name": "stdout",
     "output_type": "stream",
     "text": [
      "1\n",
      "cuda\n",
      "cuda:0\n",
      "10\n",
      "Data(x=[1400, 32], edge_index=[2, 3264], edge_attr=[3264, 32]) Data(x=[1400, 32], edge_index=[2, 3264], edge_attr=[3264, 32]) Data(x=[1400, 32], edge_index=[2, 3264], edge_attr=[3264, 32]) Data(x=[1400, 32], edge_index=[2, 3264], edge_attr=[3264, 32]) Data(x=[1400, 32], edge_index=[2, 3264], edge_attr=[3264, 32]) Data(x=[1400, 32], edge_index=[2, 3264], edge_attr=[3264, 32])\n"
     ]
    }
   ],
   "source": [
    "per_t=1     \n",
    "satart_number_ts=50\n",
    "number_ts=10\n",
    "batch_size = int(number_ts/per_t)\n",
    "dataset_dir = '/root/data1/bubble_EMD'\n",
    "path='/root/data1/water_slice_'     #将文件命名为yuan_0\n",
    "number_trajectories=1\n",
    "\n",
    "#get_dataset(number_trajectories,satart_number_ts,number_ts,per_t,batch_size,dataset_dir,path)\n",
    "\n",
    "file_path= dataset_dir+'/meshgraphnets_miniset'+str(per_t)+str(batch_size)+str(number_trajectories)+'traj'+str(satart_number_ts)+str(number_ts)+'ts_vis.pt'\n",
    "dataset_M = torch.load(file_path)\n",
    "print(len(dataset_M))   #长度为1  \n",
    "\n",
    "perm_list=torch.load(dataset_dir+'/perm_list_150.pt')\n",
    "\n",
    "print(device)\n",
    "for i in range(len(perm_list[0])):\n",
    "   \n",
    "    perm_list[0][i]=perm_list[0][i].to(device)\n",
    "print(perm_list[0][0].device)\n",
    "\n",
    "\n",
    "\n",
    "\n",
    "with torch.no_grad():\n",
    "  for i in range(len(dataset_M)):\n",
    "    dataset_M[i]=dataset_M[i].to(device)\n",
    "    data_list,batches , xs, positions, edge_attrs, edge_indices, edge_masks= M_encode(dataset_M[i], per_t , perm_list[0],\n",
    "                                                                                            batch_size,EDmean_vec_x,EDstd_vec_x,\n",
    "                                                                                            EDmean_vec_edge,EDstd_vec_edge,\n",
    "                                                                                            batch=None, return_mask=False)  \n",
    "    torch.save(data_list,dataset_dir+'/M_encode_output_'+str(i)+str(number_trajectories)+'traj'+str(per_t)+str(batch_size)+str(satart_number_ts)+str(number_ts)+'ts_vis.pt')\n",
    "    torch.save(batches,dataset_dir+'/'+str(satart_number_ts)+str(i)+str(number_trajectories)+'traj'+'batches.pt')\n",
    "    torch.save(xs,dataset_dir+'/'+str(satart_number_ts)+str(i)+str(number_trajectories)+'traj'+'xs.pt')\n",
    "    torch.save( positions,dataset_dir+'/'+str(satart_number_ts)+str(i)+str(number_trajectories)+'traj'+'positions.pt')\n",
    "    torch.save( edge_attrs,dataset_dir+'/'+str(satart_number_ts)+str(i)+str(number_trajectories)+'traj'+'edge_attrs.pt')\n",
    "    torch.save( edge_indices,dataset_dir+'/'+str(satart_number_ts)+str(i)+str(number_trajectories)+'traj'+'edge_indices.pt')\n",
    "    torch.save( edge_masks,dataset_dir+'/'+str(satart_number_ts)+str(i)+str(number_trajectories)+'traj'+'edge_masks.pt')\n",
    "    \n",
    "    print(len(data_list))#10\n",
    "    print(data_list[0],data_list[1],data_list[2],data_list[3],data_list[4],data_list[5])"
   ]
  },
  {
   "cell_type": "code",
   "execution_count": 6,
   "metadata": {},
   "outputs": [
    {
     "name": "stdout",
     "output_type": "stream",
     "text": [
      "10\n",
      "Data(x=[1400, 32], edge_index=[2, 3264], edge_attr=[3264, 32])\n"
     ]
    }
   ],
   "source": [
    "per_t=1     \n",
    "batch_size = int(number_ts/per_t)\n",
    "data_encode=torch.load(dataset_dir+'/M_encode_output_'+str(0)+str(number_trajectories)\n",
    "                                             +'traj'+str(per_t)+str(batch_size)+str(satart_number_ts)+str(number_ts)+'ts_vis.pt')\n",
    "print(len(data_encode)) #10\n",
    "data=copy.deepcopy(data_encode[0:10])\n",
    "a=copy.deepcopy(data_encode[0])\n",
    "print(a)"
   ]
  },
  {
   "cell_type": "code",
   "execution_count": 7,
   "metadata": {},
   "outputs": [
    {
     "name": "stdout",
     "output_type": "stream",
     "text": [
      "3264\n"
     ]
    }
   ],
   "source": [
    "edge_num=a.edge_attr.shape[0]\n",
    "print(edge_num)#9762"
   ]
  },
  {
   "cell_type": "code",
   "execution_count": 13,
   "metadata": {},
   "outputs": [
    {
     "name": "stdout",
     "output_type": "stream",
     "text": [
      "[Model] Predicting Sequences Multiple...\n",
      "450\n"
     ]
    }
   ],
   "source": [
    "predict_num=440 #300\n",
    "seq_len=10\n",
    "data=predict_sequences_multiple(node_model, data, a, predict_num,seq_len)\n",
    "print(len(data))  #60"
   ]
  },
  {
   "cell_type": "code",
   "execution_count": 14,
   "metadata": {},
   "outputs": [
    {
     "name": "stdout",
     "output_type": "stream",
     "text": [
      "450\n"
     ]
    }
   ],
   "source": [
    "i=0\n",
    "batches=torch.load(dataset_dir+'/'+str(satart_number_ts)+str(i)+str(number_trajectories)+'traj'+'batches.pt')\n",
    "xs=torch.load(dataset_dir+'/'+str(satart_number_ts)+str(i)+str(number_trajectories)+'traj'+'xs.pt')\n",
    "positions=torch.load( dataset_dir+'/'+str(satart_number_ts)+str(i)+str(number_trajectories)+'traj'+'positions.pt')\n",
    "edge_attrs=torch.load( dataset_dir+'/'+str(satart_number_ts)+str(i)+str(number_trajectories)+'traj'+'edge_attrs.pt')\n",
    "edge_indices=torch.load( dataset_dir+'/'+str(satart_number_ts)+str(i)+str(number_trajectories)+'traj'+'edge_indices.pt')\n",
    "edge_masks=torch.load(dataset_dir+'/'+str(satart_number_ts)+str(i)+str(number_trajectories)+'traj'+'edge_masks.pt')\n",
    "\n",
    "\n",
    "\n",
    "\n",
    "perm_list=torch.load(dataset_dir+'/perm_list_150.pt')\n",
    "\n",
    "\n",
    "pred_x=[]\n",
    "with torch.no_grad():\n",
    "        for i in range(len(data)):\n",
    "              x=decode_model(data[i], batches , xs, positions, edge_attrs, edge_indices, edge_masks,perm_list[0])\n",
    "              x=x*EDstd_vec_x+EDmean_vec_x\n",
    "              pred_x.append(x)\n",
    "\n",
    "              \n",
    "print(len(pred_x))"
   ]
  },
  {
   "cell_type": "code",
   "execution_count": 15,
   "metadata": {},
   "outputs": [
    {
     "name": "stdout",
     "output_type": "stream",
     "text": [
      "start to create the destination folder\n",
      "start to store data as a new variable\n",
      "transform succeed\n"
     ]
    }
   ],
   "source": [
    "for i in range(number_trajectories):\n",
    "    satart_number_ts=50\n",
    "    ts=len(pred_x)\n",
    "    originalFolder='/root/data1/water_slice_'+str(i)\n",
    "    destinationFolder='/root/data1/ROM_pred_bubble_dataset_EDoutput_'+str(predict_num)+str(i)\n",
    "    fileName=\"/slice_\"\n",
    "    ROM_transform_vector(pred_x, satart_number_ts,ts, originalFolder, destinationFolder, fileName)"
   ]
  },
  {
   "cell_type": "code",
   "execution_count": 16,
   "metadata": {},
   "outputs": [],
   "source": [
    "def pcc_of_two(ori_data, rom_data):\n",
    "\n",
    "    if ori_data.ndim == rom_data.ndim:\n",
    "        if rom_data.ndim == 3:\n",
    "            y_u = ori_data[...,0] # u\n",
    "            y_v = ori_data[...,1] # v\n",
    "            y_0_u = rom_data[...,0] # u\n",
    "            y_0_v = rom_data[...,1] # v\n",
    "            pcc_x = pearson_value(y_u, y_0_u)\n",
    "            pcc_y = pearson_value(y_v, y_0_v)\n",
    "            plt.figure(1)\n",
    "            plt.plot(pcc_x)\n",
    "            plt.xlabel('Time(s)',{'size' : 11})\n",
    "            plt.ylabel('Pearson Correlation Coefficient of x axis',{'size' : 11})\n",
    "            plt.figure(2)\n",
    "            plt.plot(pcc_y)\n",
    "            plt.xlabel('Time(s)',{'size' : 11})\n",
    "            plt.ylabel('Pearson Correlation Coefficient of y axis',{'size' : 11})\n",
    "            plt.show()\n",
    "        elif rom_data.ndim == 2:\n",
    "            pcc = pearson_value(ori_data, rom_data)\n",
    "            # print(pcc.shape)\n",
    "            f=plt.figure(1)\n",
    "            # x = np.linspace(0,pcc.shape[0], num = pcc.shape[0])\n",
    "            plt.plot(pcc)\n",
    "            plt.ylim((0.8, 1))\n",
    "            plt.xlabel('Time(s)',{'size' : 11})\n",
    "            plt.ylabel('Pearson Correlation Coefficient',{'size' : 11})\n",
    "            plt.show()\n",
    "            f.savefig('/root/data1/bubble_EMD/pcc_pre_circle_230.pdf', bbox_inches='tight')\n",
    "    else:\n",
    "        print('the dimension of these two series are not equal. Please check them.')"
   ]
  },
  {
   "cell_type": "code",
   "execution_count": 17,
   "metadata": {},
   "outputs": [],
   "source": [
    "def get(number_trajectories,satart_number_ts,number_ts,per_t,batch_size,path):\n",
    "  data_list = []\n",
    "\n",
    "  for i in range(number_trajectories):\n",
    "\n",
    "    if os.path.isdir(path):\n",
    "      path_k=path\n",
    "      print(path_k)\n",
    "      vtk_num=get_vtk_num(path_k)\n",
    "      print(vtk_num)\n",
    "      for ts in range(satart_number_ts,vtk_num):\n",
    "        \n",
    "        if(ts==number_ts+satart_number_ts):\n",
    "          break\n",
    "        point, cells, velocity=read_vtk_file(path_k+\"/slice_\"+str(ts+i)+\".vtk\")\n",
    "        \n",
    "        data_list.append(Data(x=velocity))\n",
    "  return data_list"
   ]
  },
  {
   "cell_type": "code",
   "execution_count": 22,
   "metadata": {},
   "outputs": [
    {
     "name": "stdout",
     "output_type": "stream",
     "text": [
      "/root/data1/ROM_pred_bubble_dataset_EDoutput_3000\n",
      "501\n",
      "[Data(x=[3351, 2]), Data(x=[3351, 2]), Data(x=[3351, 2]), Data(x=[3351, 2]), Data(x=[3351, 2]), Data(x=[3351, 2]), Data(x=[3351, 2]), Data(x=[3351, 2]), Data(x=[3351, 2]), Data(x=[3351, 2]), Data(x=[3351, 2]), Data(x=[3351, 2]), Data(x=[3351, 2]), Data(x=[3351, 2]), Data(x=[3351, 2]), Data(x=[3351, 2]), Data(x=[3351, 2]), Data(x=[3351, 2]), Data(x=[3351, 2]), Data(x=[3351, 2]), Data(x=[3351, 2]), Data(x=[3351, 2]), Data(x=[3351, 2]), Data(x=[3351, 2]), Data(x=[3351, 2]), Data(x=[3351, 2]), Data(x=[3351, 2]), Data(x=[3351, 2]), Data(x=[3351, 2]), Data(x=[3351, 2]), Data(x=[3351, 2]), Data(x=[3351, 2]), Data(x=[3351, 2]), Data(x=[3351, 2]), Data(x=[3351, 2]), Data(x=[3351, 2]), Data(x=[3351, 2]), Data(x=[3351, 2]), Data(x=[3351, 2]), Data(x=[3351, 2]), Data(x=[3351, 2]), Data(x=[3351, 2]), Data(x=[3351, 2]), Data(x=[3351, 2]), Data(x=[3351, 2]), Data(x=[3351, 2]), Data(x=[3351, 2]), Data(x=[3351, 2]), Data(x=[3351, 2]), Data(x=[3351, 2]), Data(x=[3351, 2]), Data(x=[3351, 2]), Data(x=[3351, 2]), Data(x=[3351, 2]), Data(x=[3351, 2]), Data(x=[3351, 2]), Data(x=[3351, 2]), Data(x=[3351, 2]), Data(x=[3351, 2]), Data(x=[3351, 2]), Data(x=[3351, 2]), Data(x=[3351, 2]), Data(x=[3351, 2]), Data(x=[3351, 2]), Data(x=[3351, 2]), Data(x=[3351, 2]), Data(x=[3351, 2]), Data(x=[3351, 2]), Data(x=[3351, 2]), Data(x=[3351, 2]), Data(x=[3351, 2]), Data(x=[3351, 2]), Data(x=[3351, 2]), Data(x=[3351, 2]), Data(x=[3351, 2]), Data(x=[3351, 2]), Data(x=[3351, 2]), Data(x=[3351, 2]), Data(x=[3351, 2]), Data(x=[3351, 2]), Data(x=[3351, 2]), Data(x=[3351, 2]), Data(x=[3351, 2]), Data(x=[3351, 2]), Data(x=[3351, 2]), Data(x=[3351, 2]), Data(x=[3351, 2]), Data(x=[3351, 2]), Data(x=[3351, 2]), Data(x=[3351, 2]), Data(x=[3351, 2]), Data(x=[3351, 2]), Data(x=[3351, 2]), Data(x=[3351, 2]), Data(x=[3351, 2]), Data(x=[3351, 2]), Data(x=[3351, 2]), Data(x=[3351, 2]), Data(x=[3351, 2]), Data(x=[3351, 2]), Data(x=[3351, 2]), Data(x=[3351, 2]), Data(x=[3351, 2]), Data(x=[3351, 2]), Data(x=[3351, 2]), Data(x=[3351, 2]), Data(x=[3351, 2]), Data(x=[3351, 2]), Data(x=[3351, 2]), Data(x=[3351, 2]), Data(x=[3351, 2]), Data(x=[3351, 2]), Data(x=[3351, 2]), Data(x=[3351, 2]), Data(x=[3351, 2]), Data(x=[3351, 2]), Data(x=[3351, 2]), Data(x=[3351, 2]), Data(x=[3351, 2]), Data(x=[3351, 2]), Data(x=[3351, 2]), Data(x=[3351, 2]), Data(x=[3351, 2]), Data(x=[3351, 2]), Data(x=[3351, 2]), Data(x=[3351, 2]), Data(x=[3351, 2]), Data(x=[3351, 2]), Data(x=[3351, 2]), Data(x=[3351, 2]), Data(x=[3351, 2]), Data(x=[3351, 2]), Data(x=[3351, 2]), Data(x=[3351, 2]), Data(x=[3351, 2]), Data(x=[3351, 2]), Data(x=[3351, 2]), Data(x=[3351, 2]), Data(x=[3351, 2]), Data(x=[3351, 2]), Data(x=[3351, 2]), Data(x=[3351, 2]), Data(x=[3351, 2]), Data(x=[3351, 2]), Data(x=[3351, 2]), Data(x=[3351, 2]), Data(x=[3351, 2]), Data(x=[3351, 2]), Data(x=[3351, 2]), Data(x=[3351, 2]), Data(x=[3351, 2]), Data(x=[3351, 2]), Data(x=[3351, 2]), Data(x=[3351, 2]), Data(x=[3351, 2]), Data(x=[3351, 2]), Data(x=[3351, 2]), Data(x=[3351, 2]), Data(x=[3351, 2]), Data(x=[3351, 2]), Data(x=[3351, 2]), Data(x=[3351, 2]), Data(x=[3351, 2]), Data(x=[3351, 2]), Data(x=[3351, 2]), Data(x=[3351, 2]), Data(x=[3351, 2]), Data(x=[3351, 2]), Data(x=[3351, 2]), Data(x=[3351, 2]), Data(x=[3351, 2]), Data(x=[3351, 2]), Data(x=[3351, 2]), Data(x=[3351, 2]), Data(x=[3351, 2]), Data(x=[3351, 2]), Data(x=[3351, 2]), Data(x=[3351, 2]), Data(x=[3351, 2]), Data(x=[3351, 2]), Data(x=[3351, 2]), Data(x=[3351, 2]), Data(x=[3351, 2]), Data(x=[3351, 2]), Data(x=[3351, 2]), Data(x=[3351, 2]), Data(x=[3351, 2]), Data(x=[3351, 2]), Data(x=[3351, 2]), Data(x=[3351, 2]), Data(x=[3351, 2]), Data(x=[3351, 2]), Data(x=[3351, 2]), Data(x=[3351, 2]), Data(x=[3351, 2]), Data(x=[3351, 2]), Data(x=[3351, 2]), Data(x=[3351, 2]), Data(x=[3351, 2]), Data(x=[3351, 2]), Data(x=[3351, 2]), Data(x=[3351, 2]), Data(x=[3351, 2]), Data(x=[3351, 2]), Data(x=[3351, 2]), Data(x=[3351, 2]), Data(x=[3351, 2]), Data(x=[3351, 2]), Data(x=[3351, 2]), Data(x=[3351, 2]), Data(x=[3351, 2]), Data(x=[3351, 2]), Data(x=[3351, 2]), Data(x=[3351, 2]), Data(x=[3351, 2]), Data(x=[3351, 2]), Data(x=[3351, 2]), Data(x=[3351, 2]), Data(x=[3351, 2]), Data(x=[3351, 2]), Data(x=[3351, 2]), Data(x=[3351, 2]), Data(x=[3351, 2]), Data(x=[3351, 2]), Data(x=[3351, 2]), Data(x=[3351, 2]), Data(x=[3351, 2]), Data(x=[3351, 2]), Data(x=[3351, 2]), Data(x=[3351, 2]), Data(x=[3351, 2]), Data(x=[3351, 2]), Data(x=[3351, 2]), Data(x=[3351, 2]), Data(x=[3351, 2]), Data(x=[3351, 2]), Data(x=[3351, 2]), Data(x=[3351, 2]), Data(x=[3351, 2]), Data(x=[3351, 2]), Data(x=[3351, 2]), Data(x=[3351, 2]), Data(x=[3351, 2]), Data(x=[3351, 2]), Data(x=[3351, 2]), Data(x=[3351, 2]), Data(x=[3351, 2]), Data(x=[3351, 2]), Data(x=[3351, 2]), Data(x=[3351, 2]), Data(x=[3351, 2]), Data(x=[3351, 2]), Data(x=[3351, 2]), Data(x=[3351, 2]), Data(x=[3351, 2]), Data(x=[3351, 2]), Data(x=[3351, 2]), Data(x=[3351, 2]), Data(x=[3351, 2]), Data(x=[3351, 2]), Data(x=[3351, 2]), Data(x=[3351, 2]), Data(x=[3351, 2]), Data(x=[3351, 2]), Data(x=[3351, 2]), Data(x=[3351, 2]), Data(x=[3351, 2]), Data(x=[3351, 2]), Data(x=[3351, 2]), Data(x=[3351, 2]), Data(x=[3351, 2]), Data(x=[3351, 2]), Data(x=[3351, 2]), Data(x=[3351, 2]), Data(x=[3351, 2]), Data(x=[3351, 2]), Data(x=[3351, 2]), Data(x=[3351, 2]), Data(x=[3351, 2]), Data(x=[3351, 2]), Data(x=[3351, 2]), Data(x=[3351, 2]), Data(x=[3351, 2]), Data(x=[3351, 2]), Data(x=[3351, 2]), Data(x=[3351, 2]), Data(x=[3351, 2]), Data(x=[3351, 2]), Data(x=[3351, 2]), Data(x=[3351, 2]), Data(x=[3351, 2]), Data(x=[3351, 2]), Data(x=[3351, 2]), Data(x=[3351, 2]), Data(x=[3351, 2]), Data(x=[3351, 2]), Data(x=[3351, 2]), Data(x=[3351, 2]), Data(x=[3351, 2]), Data(x=[3351, 2]), Data(x=[3351, 2]), Data(x=[3351, 2]), Data(x=[3351, 2]), Data(x=[3351, 2]), Data(x=[3351, 2]), Data(x=[3351, 2]), Data(x=[3351, 2]), Data(x=[3351, 2]), Data(x=[3351, 2]), Data(x=[3351, 2])]\n",
      "310\n",
      "310\n"
     ]
    }
   ],
   "source": [
    "dataset_dir = '/root/data1/bubble_EMD'\n",
    "\n",
    "number_trajectories=1\n",
    "satart_number_ts=50\n",
    "number_ts=310\n",
    "path='/root/data1/ROM_pred_bubble_dataset_EDoutput_3000'\n",
    "ED_out=get(number_trajectories,satart_number_ts,number_ts,1,1,path)\n",
    "print(ED_out)\n",
    "print(len(ED_out))\n",
    "ED_out=ED_out[0:310]\n",
    "path='/root/data1/water_slice_'\n",
    "#get_dataset(number_trajectories,satart_number_ts,number_ts,1,1,dataset_dir,path)\n",
    "ori=torch.load(dataset_dir+'/meshgraphnets_miniset'+str(1)+str(1)+str(number_trajectories)+'traj'+str(satart_number_ts)+str(number_ts)+'ts_vis.pt')\n",
    "print(len(ori))   #150\n",
    "ori=ori[0:310]"
   ]
  },
  {
   "cell_type": "code",
   "execution_count": 23,
   "metadata": {},
   "outputs": [
    {
     "name": "stdout",
     "output_type": "stream",
     "text": [
      "(310, 6702) (310, 6702)\n"
     ]
    },
    {
     "data": {
      "image/png": "[encoded data removed]",
      "text/plain": [
       "<Figure size 432x288 with 1 Axes>"
      ]
     },
     "metadata": {
      "needs_background": "light"
     },
     "output_type": "display_data"
    }
   ],
   "source": [
    "\n",
    "ts=310\n",
    "\n",
    "for i in range(ts):\n",
    "    \n",
    "    uvw=ED_out[i].x.reshape(1,ED_out[i].x.shape[0],ED_out[i].x.shape[1]).to('cpu')\n",
    "    ouvw=ori[i].x.reshape(1,ori[i].x.shape[0],ori[i].x.shape[1])\n",
    "    outputs = uvw if i==0 else np.vstack((outputs,uvw))\n",
    "    inputs=ouvw if i==0 else np.vstack((inputs,ouvw))\n",
    "\n",
    "output_ = np.hstack((outputs[:,:,0],outputs[:,:,1]))\n",
    "input_ = np.hstack((inputs[:,:,0],inputs[:,:,1]))\n",
    "print(output_.shape,input_.shape)\n",
    "\n",
    "pcc_of_two(input_, output_)"
   ]
  },
  {
   "cell_type": "code",
   "execution_count": 59,
   "metadata": {},
   "outputs": [],
   "source": [
    "from keras import backend as K\n",
    "def mse(ori_data, rom_data):\n",
    "\n",
    "    rmse_value = []\n",
    "    acc=torch.nn.MSELoss()\n",
    "    if len(ori_data) != len(rom_data):\n",
    "        print('the length of these two array do not match')\n",
    "    else:\n",
    "        for i in range(len(rom_data)):\n",
    "            #value = mean_squared_error(ori_data[i], rom_data[i])\n",
    "            ori=torch.Tensor(ori_data[i])\n",
    "            \n",
    "            rom=torch.Tensor(rom_data[i])\n",
    "            \n",
    "            #k=((torch.norm(ori, p=1))/len(ori))\n",
    "            \n",
    "            #value =acc(ori, rom)\n",
    "            \n",
    "            value =math.sqrt(acc(ori, rom))\n",
    "            #value=math.sqrt(acc(ori,rom))/k\n",
    "            #value =math.sqrt((acc(ori, rom))/(torch.norm(ori, p=1)))\n",
    "           \n",
    "            #value =math.sqrt(acc(ori, rom)/(torch.pow((torch.norm(ori, p=2)),2)/len(ori)))\n",
    "            if i == 0:\n",
    "                rmse_value = value\n",
    "            else:\n",
    "                rmse_value = np.hstack((rmse_value,value))\n",
    "        rmse_value = np.reshape(rmse_value,(-1,1))\n",
    "    return rmse_value\n",
    "\n",
    "def mse_of_two(ori_data, rom_data):\n",
    "    # , rom_data_1):\n",
    "    if ori_data.ndim == rom_data.ndim:\n",
    "        if rom_data.ndim == 3:\n",
    "            y_u = ori_data[...,0] # u\n",
    "            y_v = ori_data[...,1] # v\n",
    "            y_0_u = rom_data[...,0] # u\n",
    "            y_0_v = rom_data[...,1] # v\n",
    "            rmse_x = mse(y_u, y_0_u)\n",
    "            rmse_y = mse(y_v, y_0_v)\n",
    "            plt.figure(1)\n",
    "            plt.plot(rmse_x)\n",
    "            plt.xlabel('Time(s)',{'size' : 11})\n",
    "            plt.ylabel('RMSE of x axis',{'size' : 11})\n",
    "            plt.figure(2)\n",
    "            plt.plot(rmse_y)\n",
    "            plt.xlabel('Time(s)',{'size' : 11})\n",
    "            plt.ylabel('RMSE of y axis',{'size' : 11})\n",
    "            plt.show()\n",
    "        elif rom_data.ndim == 2:\n",
    "            rmse_value = mse(ori_data, rom_data)\n",
    "            # rmse_value_1 = rmse(ori_data, rom_data_1)\n",
    "            # print(pcc.shape[0], pcc.shape[1])\n",
    "            f=plt.figure(1)\n",
    "            # x = np.linspace(0,rmse_value.shape[0], rmse_value.shape[0])\n",
    "            # plt.plot(x, rmse_value, x, rmse_value_1)\n",
    "            plt.plot(rmse_value)\n",
    "            plt.ylim((0, 0.3))\n",
    "            plt.xlabel('Time(s)',{'size' : 11})\n",
    "            plt.ylabel('RMSE',{'size' : 11})\n",
    "            # plt.legend(['7', '8'], loc='lower right')   \n",
    "            plt.show()\n",
    "            f.savefig('/root/data1/bubble_EMD/RMSE.pdf', bbox_inches='tight')\n",
    "    else:\n",
    "        print('the dimension of these two series are not equal. Please check them.')"
   ]
  },
  {
   "cell_type": "code",
   "execution_count": 60,
   "metadata": {},
   "outputs": [
    {
     "data": {
      "image/png": "[encoded data removed]",
      "text/plain": [
       "<Figure size 432x288 with 1 Axes>"
      ]
     },
     "metadata": {
      "needs_background": "light"
     },
     "output_type": "display_data"
    }
   ],
   "source": [
    "mse_of_two(input_, output_)"
   ]
  },
  {
   "cell_type": "code",
   "execution_count": 53,
   "metadata": {},
   "outputs": [],
   "source": [
    "def point_over_time(ori_data, edg_data,j,ts , fieldName,path):\n",
    "        point = [0,ts]\n",
    "       \n",
    "        x = np.linspace(point[0],int(point[1]-1),int(point[1]-point[0]))\n",
    "        y_u=[]\n",
    "        y_1_u=[]\n",
    "        for i in range(ts):\n",
    "            y_u.append(ori_data[i].x[j,0])\n",
    "            y_1_u.append(edg_data[i].x[j,0])\n",
    "        print(len(y_u))\n",
    "        f = plt.figure()\n",
    "        plt.plot(x, y_u,'k',  linewidth = 0.7)\n",
    "        plt.plot(x, y_1_u, 'r', linewidth = 0.7)\n",
    "        plt.xlim((point[0], point[1]))# range\n",
    "        plt.ylim((-0.2, 0.2))\n",
    "\n",
    "        #plt.title(' Horizontal liquid velocity (m/s)')\n",
    "        plt.xlabel('Time(s)')\n",
    "        plt.ylabel(' Horizontal liquid velocity (m/s)')\n",
    "        \n",
    "        plt.legend(['Full Model', 'GNN ROM '], loc='upper right')\n",
    "        #f.savefig('/root/data1/EMD/'+str(j)+'velocity.pdf', bbox_inches='tight')\n",
    "        f.savefig(path, bbox_inches='tight')"
   ]
  },
  {
   "cell_type": "code",
   "execution_count": 54,
   "metadata": {},
   "outputs": [
    {
     "name": "stdout",
     "output_type": "stream",
     "text": [
      "310\n",
      "tensor([0.0053, 0.3655])\n",
      "310\n"
     ]
    },
    {
     "data": {
      "image/png": "[encoded data removed]",
      "text/plain": [
       "<Figure size 432x288 with 1 Axes>"
      ]
     },
     "metadata": {
      "needs_background": "light"
     },
     "output_type": "display_data"
    }
   ],
   "source": [
    "number_trajectories=1\n",
    "satart_number_ts=50\n",
    "number_ts=310\n",
    "ori=torch.load(dataset_dir+'/meshgraphnets_miniset'+str(1)+str(1)+str(number_trajectories)+'traj'+str(satart_number_ts)+str(number_ts)+'ts_vis.pt')\n",
    "print(len(ori))   #150\n",
    "ori=ori[0:310]\n",
    "ts=310\n",
    "j=2304#3351\n",
    "fieldName='Velocity'\n",
    "print(ori[0].mesh_pos[j]) \n",
    "path='/root/data1/bubble_EMD/'+str(j)+'velocity.pdf'\n",
    "point_over_time(ori, ED_out,j,ts , fieldName,path)"
   ]
  },
  {
   "cell_type": "code",
   "execution_count": 56,
   "metadata": {},
   "outputs": [
    {
     "name": "stdout",
     "output_type": "stream",
     "text": [
      "tensor([0.1290, 0.1227])\n"
     ]
    }
   ],
   "source": [
    "j=1904\n",
    "print(ori[0].mesh_pos[j]) "
   ]
  },
  {
   "cell_type": "markdown",
   "metadata": {},
   "source": [
    "时间计算"
   ]
  },
  {
   "cell_type": "code",
   "execution_count": 1,
   "metadata": {},
   "outputs": [
    {
     "name": "stderr",
     "output_type": "stream",
     "text": [
      "/usr/local/lib/python3.8/dist-packages/tqdm/auto.py:22: TqdmWarning: IProgress not found. Please update jupyter and ipywidgets. See https://ipywidgets.readthedocs.io/en/stable/user_install.html\n",
      "  from .autonotebook import tqdm as notebook_tqdm\n"
     ]
    }
   ],
   "source": [
    "import torch\n",
    "import copy\n",
    "import time\n",
    "from GTF import *\n",
    "from torch_geometric.data import Data\n",
    "from d_TAP_MP_Attention import *\n",
    "from bubble_tap_processing import *"
   ]
  },
  {
   "cell_type": "code",
   "execution_count": 2,
   "metadata": {},
   "outputs": [
    {
     "name": "stdout",
     "output_type": "stream",
     "text": [
      "3264\n"
     ]
    }
   ],
   "source": [
    "data_encode=torch.load('/root/data1/bubble_EMD/M_encode_output_01traj1105010ts_vis.pt')\n",
    "data=copy.deepcopy(data_encode[0:10])\n",
    "device ='cpu'    #cuda\n",
    "for i in range(len(data)):\n",
    "    data[i].x=data[i].x.to(device)\n",
    "    data[i].edge_index=data[i].edge_index.to(device)\n",
    "    data[i].edge_attr=data[i].edge_attr.to(device)\n",
    "a=copy.deepcopy(data[0])\n",
    "edge_num=a.edge_attr.shape[0]\n",
    "print(edge_num)"
   ]
  },
  {
   "cell_type": "code",
   "execution_count": 3,
   "metadata": {},
   "outputs": [],
   "source": [
    "class objectview(object):\n",
    "    def __init__(self, d):\n",
    "        self.__dict__ = d        \n",
    "for args in [\n",
    "        {'model_type': 'meshgraphnet_transformer',\n",
    "         'num_layers': 2,\n",
    "         'batchsize': 5,       #是lable上的batchsize\n",
    "         'hidden_dim': 36,      #在低维空间上的编码可以写大一点，128#30\n",
    "         'hidden_channels':32,  #这里的hidden_dim与encode_decode中的hidden_channels相同\n",
    "         'epochs': 2500,#5000\n",
    "         'attr_epochs':8000,#8000\n",
    "         'train_size':140, #45\n",
    "         'test_size': 50, #10         #按照lable的来\n",
    "         'device':'cuda',\n",
    "         'shuffle': False,\n",
    "         'save_best_model': True,\n",
    "         'checkpoint_dir': '/root/data1/bubble_EMD/mgnn_transformerbest_models/',\n",
    "         'postprocess_dir': '/root/data1/bubble_EMD/mgnn_transformer_loss_plots/',\n",
    "         'd_k': 28,#28\n",
    "         'd_v': 28,\n",
    "         'input_shape': 12,   #加上时间信息，所以比n_graph_encode的最后一个多两维\n",
    "         'n_heads': 6,\n",
    "         'n_layers': 5,\n",
    "         'ff_dim': 64,\n",
    "         'seq_len': 10,        #改per_t-1,二推一\n",
    "         'per_t':11,\n",
    "         'attr_train_size':270,\n",
    "         'attr_batchsize':10,\n",
    "        'n_graph_encode':[500,150,80,10],\n",
    "        'pool_num':[2700,2000,1400]},\n",
    "]:\n",
    "        args = objectview(args)\n",
    "    \n",
    "model_name='g_trans_model_nl'+str(args.num_layers)+'_bs'+str(args.batchsize) + \\\n",
    "               '_hd'+str(args.hidden_dim)+'_ep'+str(args.epochs)+'_wd' + \\\n",
    "               '_shuff_'+str(args.shuffle)+'_dk'+str(args.d_k)+'_heads'+str(args.n_heads)\n",
    "args.batchsize=1\n",
    "node_model = MeshGraphNet_transformer(args,edge_num)\n",
    "node_model.load_state_dict(torch.load('/root/data1/bubble_EMD/mgnn_transformerbest_models/'+model_name+'.pt'))\n",
    "\n",
    "EDstats_list=torch.load('/root/data1/bubble_EMD/EDstats_list.pt')\n",
    "data_stats_list=torch.load('/root/data1/bubble_EMD/data_stats_list.pt')\n",
    "[EDmean_vec_x,EDstd_vec_x,EDmean_vec_edge,EDstd_vec_edge] = EDstats_list\n",
    "[mean_vec_x,std_vec_x,mean_vec_edge,std_vec_edge] = data_stats_list\n"
   ]
  },
  {
   "cell_type": "code",
   "execution_count": 4,
   "metadata": {},
   "outputs": [],
   "source": [
    "in_channels_node =2\n",
    "in_channels_edge =3\n",
    "hidden_channels = 32    #22#12\n",
    "out_channels = in_channels_node\n",
    "batch_size =25       #改\n",
    "n_mlp_encode = 4\n",
    "n_mlp_mp = 6#5\n",
    "encoding_dim=32\n",
    "ae_dim=[300,128,64,32]#[128,64,32,16,10]\n",
    "n_mp_down = [2,2,1,1]\n",
    "n_mp_up= [1,1,2,2]\n",
    "pool_num =[2700,2000,1400]#[2000,1500,1200,1000][2000,1600,1400,1000]\n",
    "\n",
    "act = F.elu\n",
    "param_sharing = False\n",
    "pathD='/root/data1/bubble_EMD/Decode_state_dict.pt'"
   ]
  },
  {
   "cell_type": "code",
   "execution_count": 5,
   "metadata": {},
   "outputs": [
    {
     "data": {
      "text/plain": [
       "<All keys matched successfully>"
      ]
     },
     "execution_count": 5,
     "metadata": {},
     "output_type": "execute_result"
    }
   ],
   "source": [
    "decode_model=GNN_Decode(\n",
    "                hidden_channels,\n",
    "                in_channels_node,\n",
    "                in_channels_edge,\n",
    "                \n",
    "                out_channels,\n",
    "                encoding_dim,\n",
    "                n_mlp_mp,\n",
    "                n_mlp_encode,\n",
    "\n",
    "                ae_dim,\n",
    "                n_mp_down,\n",
    "                n_mp_up,\n",
    "                pool_num,\n",
    "                \n",
    "                act,\n",
    "                \n",
    "                name='gnn_topk')\n",
    "decode_model.load_state_dict(torch.load(pathD), strict=False)"
   ]
  },
  {
   "cell_type": "code",
   "execution_count": 6,
   "metadata": {},
   "outputs": [
    {
     "name": "stderr",
     "output_type": "stream",
     "text": [
      "/usr/local/lib/python3.8/dist-packages/torch_geometric/deprecation.py:12: UserWarning: 'data.DataLoader' is deprecated, use 'loader.DataLoader' instead\n",
      "  warnings.warn(out)\n"
     ]
    }
   ],
   "source": [
    "list_p=data\n",
    "data_loader=DataLoader(list_p, batch_size=10, shuffle=False) \n",
    "batches=torch.load('/root/data1/bubble_EMD/5001trajbatches.pt')\n",
    "for i in range(len(batches)):\n",
    "    batches[i]=batches[i].to(device)    \n",
    "xs=torch.load('/root/data1/bubble_EMD/5001trajxs.pt')\n",
    "for i in range(len(xs)):\n",
    "    xs[i]=xs[i].to(device) \n",
    "positions=torch.load('/root/data1/bubble_EMD/5001trajpositions.pt')\n",
    "for i in range(len(positions)):\n",
    "    positions[i]=positions[i].to(device) \n",
    "edge_attrs=torch.load( '/root/data1/bubble_EMD/5001trajedge_attrs.pt')\n",
    "for i in range(len(edge_attrs)):\n",
    "    edge_attrs[i]=edge_attrs[i].to(device)\n",
    "edge_indices=torch.load( '/root/data1/bubble_EMD/5001trajedge_indices.pt')\n",
    "for i in range(len(edge_indices)):\n",
    "    edge_indices[i]=edge_indices[i].to(device)\n",
    "edge_masks=torch.load('/root/data1/bubble_EMD/5001trajedge_masks.pt')\n",
    "for i in range(len(edge_masks)):\n",
    "    edge_masks[i]=edge_masks[i].to(device)\n",
    "perm_list=torch.load('/root/data1/bubble_EMD/perm_list_150.pt')"
   ]
  },
  {
   "cell_type": "code",
   "execution_count": 528,
   "metadata": {},
   "outputs": [
    {
     "name": "stdout",
     "output_type": "stream",
     "text": [
      "0.25252199172973633\n"
     ]
    }
   ],
   "source": [
    "for i,batch in enumerate(data_loader):\n",
    "    time_start=time.time()\n",
    "    code_x,code_edge_attr = gmesh_transformer_pred(batch,a,node_model,mean_vec_x,std_vec_x,mean_vec_edge,std_vec_edge)\n",
    "    print(time.time() - time_start)\n",
    "#new_data=Data(x=code_x, edge_index=a.edge_index, edge_attr=code_edge_attr)\n",
    "#with torch.no_grad():\n",
    "        #x=decode_model(new_data, batches , xs, positions, edge_attrs, edge_indices, edge_masks,perm_list[0])\n",
    "        #x=x*EDstd_vec_x+EDmean_vec_x\n"
   ]
  },
  {
   "cell_type": "code",
   "execution_count": 10,
   "metadata": {},
   "outputs": [
    {
     "name": "stdout",
     "output_type": "stream",
     "text": [
      "0.005036115646362305\n"
     ]
    }
   ],
   "source": [
    "for i,batch in enumerate(data_loader):\n",
    "    code_x,code_edge_attr = gmesh_transformer_pred(batch,a,node_model,mean_vec_x,std_vec_x,mean_vec_edge,std_vec_edge)"
   ]
  }
 ],
 "metadata": {
  "kernelspec": {
   "display_name": "Python 3",
   "language": "python",
   "name": "python3"
  },
  "language_info": {
   "codemirror_mode": {
    "name": "ipython",
    "version": 3
   },
   "file_extension": ".py",
   "mimetype": "text/x-python",
   "name": "python",
   "nbconvert_exporter": "python",
   "pygments_lexer": "ipython3",
   "version": "3.8.10"
  }
 },
 "nbformat": 4,
 "nbformat_minor": 2
}
